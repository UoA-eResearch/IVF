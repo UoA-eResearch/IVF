{
 "cells": [
  {
   "cell_type": "code",
   "execution_count": 1,
   "id": "97c7873e",
   "metadata": {},
   "outputs": [
    {
     "name": "stdout",
     "output_type": "stream",
     "text": [
      "INFO:tensorflow:Mixed precision compatibility check (mixed_float16): OK\n",
      "Your GPU will likely run quickly with dtype policy mixed_float16 as it has compute capability of at least 7.0. Your GPU: Tesla V100-PCIE-32GB, compute capability 7.0\n"
     ]
    },
    {
     "name": "stderr",
     "output_type": "stream",
     "text": [
      "2022-05-30 01:43:25.029658: I tensorflow/stream_executor/cuda/cuda_gpu_executor.cc:975] successful NUMA node read from SysFS had negative value (-1), but there must be at least one NUMA node, so returning NUMA node zero\n",
      "2022-05-30 01:43:25.068612: I tensorflow/stream_executor/cuda/cuda_gpu_executor.cc:975] successful NUMA node read from SysFS had negative value (-1), but there must be at least one NUMA node, so returning NUMA node zero\n",
      "2022-05-30 01:43:25.070627: I tensorflow/stream_executor/cuda/cuda_gpu_executor.cc:975] successful NUMA node read from SysFS had negative value (-1), but there must be at least one NUMA node, so returning NUMA node zero\n",
      "2022-05-30 01:43:25.105989: I tensorflow/stream_executor/cuda/cuda_gpu_executor.cc:975] successful NUMA node read from SysFS had negative value (-1), but there must be at least one NUMA node, so returning NUMA node zero\n"
     ]
    },
    {
     "data": {
      "text/plain": [
       "Empty                  5797\n",
       "Morula                 1319\n",
       "2pn                    1039\n",
       "Syngamy                 834\n",
       "4 Cell                  792\n",
       "2 Cell                  736\n",
       "Early blast             615\n",
       "Compacting 8 cell       549\n",
       "Expanded Blastocyst     394\n",
       "8 Cell                  384\n",
       "Blastocyst              374\n",
       "6 Cell                  360\n",
       "3 Cell                  303\n",
       "5 Cell                  130\n",
       "Name: class, dtype: int64"
      ]
     },
     "execution_count": 1,
     "metadata": {},
     "output_type": "execute_result"
    }
   ],
   "source": [
    "import os # File system operations\n",
    "import re # Regular expressions\n",
    "import pandas as pd # Tabular data\n",
    "import numpy as np # Numerical data\n",
    "pd.set_option('display.max_colwidth', None) # Show full file paths\n",
    "import sys\n",
    "\n",
    "# Don't use all of the GPU RAM\n",
    "import tensorflow as tf\n",
    "gpus = tf.config.experimental.list_physical_devices('GPU')\n",
    "for gpu in gpus:\n",
    "  tf.config.experimental.set_memory_growth(gpu, True)\n",
    "from tensorflow.keras import mixed_precision\n",
    "from tensorflow import keras # ML\n",
    "import tensorflow_addons as tfa # TQDM progress bar when training\n",
    "\n",
    "BATCH_SIZE = 512\n",
    "\n",
    "mixed_precision.set_global_policy('mixed_float16')\n",
    "\n",
    "\n",
    "from sklearn.metrics import confusion_matrix, classification_report, accuracy_score\n",
    "\n",
    "from pathlib import Path # Pathing\n",
    "from glob import glob # Finding files recursively\n",
    "import matplotlib.pyplot as plt # Plotting\n",
    "import seaborn as sns # Plotting\n",
    "sns.set()\n",
    "from tqdm.auto import tqdm # Progress bars\n",
    "tqdm.pandas()\n",
    "\n",
    "BASE_DIR = Path(\"EmbryoLabeling/Labelers/train\")\n",
    "folders = os.listdir(BASE_DIR)\n",
    "folders = [f for f in folders if not re.match(r\"M\\d\", f)]\n",
    "files = []\n",
    "for folder in folders:\n",
    "    files_in_folder = pd.DataFrame(glob(f\"{BASE_DIR}/{folder}/**/*.jpg\", recursive=True), columns=[\"filename\"])\n",
    "    files_in_folder[\"class\"] = folder\n",
    "    files.append(files_in_folder)\n",
    "df = pd.concat(files)\n",
    "df[\"class\"].value_counts()"
   ]
  },
  {
   "cell_type": "code",
   "execution_count": 2,
   "id": "31a10845",
   "metadata": {},
   "outputs": [
    {
     "data": {
      "text/plain": [
       "<AxesSubplot:>"
      ]
     },
     "execution_count": 2,
     "metadata": {},
     "output_type": "execute_result"
    },
    {
     "data": {
      "image/png": "[encoded data removed]",
      "text/plain": [
       "<Figure size 432x288 with 1 Axes>"
      ]
     },
     "metadata": {},
     "output_type": "display_data"
    }
   ],
   "source": [
    "df[\"class\"].value_counts().plot.bar(logy=True)"
   ]
  },
  {
   "cell_type": "code",
   "execution_count": 3,
   "id": "0f1360a2",
   "metadata": {},
   "outputs": [
    {
     "data": {
      "text/plain": [
       "[M0776, S00512]    1952\n",
       "[M776, S0087]      1559\n",
       "[M0776, S00635]    1294\n",
       "[M0776, S00761]    1138\n",
       "[M0776, S00534]    1102\n",
       "[M0776, S00470]     784\n",
       "Name: filename, dtype: int64"
      ]
     },
     "execution_count": 3,
     "metadata": {},
     "output_type": "execute_result"
    }
   ],
   "source": [
    "# Print counts of images by machine and slide\n",
    "df.filename[~df[\"class\"].isin([\"bad\", \"Empty\"])].apply(lambda s: s.split(\"/\")[-1].split(\"_\")[:2]).value_counts()"
   ]
  },
  {
   "cell_type": "code",
   "execution_count": 4,
   "id": "8e48f356",
   "metadata": {
    "scrolled": false
   },
   "outputs": [
    {
     "name": "stdout",
     "output_type": "stream",
     "text": [
      "                  class  time_since_fert\n",
      "511                 2pn             1061\n",
      "685             Syngamy             1464\n",
      "298              2 Cell             1574\n",
      "116              3 Cell             2315\n",
      "104              4 Cell             2395\n",
      "7                5 Cell             3045\n",
      "29               6 Cell             3125\n",
      "145              8 Cell             3265\n",
      "24    Compacting 8 cell             3375\n",
      "1169             Morula             4286\n",
      "373         Early blast             5940\n",
      "113          Blastocyst             6261\n",
      "4850              Empty             7036\n"
     ]
    }
   ],
   "source": [
    "# Track a single embryo's lifecycle\n",
    "pd.set_option('display.max_rows', 365)\n",
    "M776_S0087_W2 = df[df.filename.str.contains(\"M776_S0087_W2\")].copy()\n",
    "# Extract time since fertilisation in minutes from filename (ints, rounded to nearest minute)\n",
    "M776_S0087_W2[\"time_since_fert\"] = M776_S0087_W2.filename.apply(lambda s: s.replace(\".jpg\", \"\").split(\"_\")[-1]).astype(int)\n",
    "M776_S0087_W2 = M776_S0087_W2.sort_values(by=\"time_since_fert\")\n",
    "# Take the earliest time that each class was seen\n",
    "M776_S0087_W2 = M776_S0087_W2.groupby(\"class\").head(1)\n",
    "print(M776_S0087_W2[[\"class\", \"time_since_fert\"]])"
   ]
  },
  {
   "cell_type": "code",
   "execution_count": 5,
   "id": "b07925b9",
   "metadata": {},
   "outputs": [
    {
     "data": {
      "text/plain": [
       "['2pn',\n",
       " 'Syngamy',\n",
       " '2 Cell',\n",
       " '3 Cell',\n",
       " '4 Cell',\n",
       " '5 Cell',\n",
       " '6 Cell',\n",
       " '8 Cell',\n",
       " 'Compacting 8 cell',\n",
       " 'Morula',\n",
       " 'Early blast',\n",
       " 'Blastocyst',\n",
       " 'Empty']"
      ]
     },
     "execution_count": 5,
     "metadata": {},
     "output_type": "execute_result"
    }
   ],
   "source": [
    "classes = list(M776_S0087_W2[\"class\"])\n",
    "classes"
   ]
  },
  {
   "cell_type": "code",
   "execution_count": 6,
   "id": "e803af06",
   "metadata": {},
   "outputs": [
    {
     "data": {
      "image/png": "[encoded data removed]",
      "text/plain": [
       "<Figure size 1440x1440 with 1 Axes>"
      ]
     },
     "metadata": {},
     "output_type": "display_data"
    }
   ],
   "source": [
    "# Plot embryo's lifecycle over time\n",
    "plt.figure(figsize=(20, 20))\n",
    "for i, row in M776_S0087_W2.iterrows():\n",
    "    image = keras.utils.load_img(row.filename, target_size=(299,299))\n",
    "    c_index = classes.index(row[\"class\"]) * 299\n",
    "    time_since_fert = row.time_since_fert\n",
    "    plt.imshow(image, extent=[time_since_fert, time_since_fert+299, c_index, c_index+299])\n",
    "    plt.text(time_since_fert, c_index, row[\"class\"], bbox=dict(boxstyle=\"round\", ec=(1., 0.5, 0.5), fc=(1., 0.8, 0.8)))\n",
    "plt.yticks([])\n",
    "plt.xlabel(\"Time since fertilisation (minutes)\")\n",
    "plt.xlim(0, M776_S0087_W2.time_since_fert.max() + 300)\n",
    "plt.ylim(0, len(classes) * 300)\n",
    "plt.show()"
   ]
  },
  {
   "cell_type": "code",
   "execution_count": 8,
   "id": "dbbf3b1e",
   "metadata": {},
   "outputs": [
    {
     "name": "stdout",
     "output_type": "stream",
     "text": [
      "Found 13626 files belonging to 14 classes.\n",
      "Number of train batches: 22\n",
      "Number of test batches: 5\n"
     ]
    },
    {
     "name": "stderr",
     "output_type": "stream",
     "text": [
      "2022-05-30 01:43:33.078242: I tensorflow/core/platform/cpu_feature_guard.cc:193] This TensorFlow binary is optimized with oneAPI Deep Neural Network Library (oneDNN) to use the following CPU instructions in performance-critical operations:  AVX2 AVX512F FMA\n",
      "To enable them in other operations, rebuild TensorFlow with the appropriate compiler flags.\n",
      "2022-05-30 01:43:33.079148: I tensorflow/stream_executor/cuda/cuda_gpu_executor.cc:975] successful NUMA node read from SysFS had negative value (-1), but there must be at least one NUMA node, so returning NUMA node zero\n",
      "2022-05-30 01:43:33.079372: I tensorflow/stream_executor/cuda/cuda_gpu_executor.cc:975] successful NUMA node read from SysFS had negative value (-1), but there must be at least one NUMA node, so returning NUMA node zero\n",
      "2022-05-30 01:43:33.079502: I tensorflow/stream_executor/cuda/cuda_gpu_executor.cc:975] successful NUMA node read from SysFS had negative value (-1), but there must be at least one NUMA node, so returning NUMA node zero\n",
      "2022-05-30 01:43:33.822823: I tensorflow/stream_executor/cuda/cuda_gpu_executor.cc:975] successful NUMA node read from SysFS had negative value (-1), but there must be at least one NUMA node, so returning NUMA node zero\n",
      "2022-05-30 01:43:33.823057: I tensorflow/stream_executor/cuda/cuda_gpu_executor.cc:975] successful NUMA node read from SysFS had negative value (-1), but there must be at least one NUMA node, so returning NUMA node zero\n",
      "2022-05-30 01:43:33.823208: I tensorflow/stream_executor/cuda/cuda_gpu_executor.cc:975] successful NUMA node read from SysFS had negative value (-1), but there must be at least one NUMA node, so returning NUMA node zero\n",
      "2022-05-30 01:43:33.823367: I tensorflow/core/common_runtime/gpu/gpu_device.cc:1532] Created device /job:localhost/replica:0/task:0/device:GPU:0 with 30982 MB memory:  -> device: 0, name: Tesla V100-PCIE-32GB, pci bus id: 0000:00:08.0, compute capability: 7.0\n"
     ]
    }
   ],
   "source": [
    "train=tf.keras.utils.image_dataset_from_directory(\n",
    "    BASE_DIR,\n",
    "    image_size = (299,299),\n",
    "    batch_size = BATCH_SIZE,\n",
    "    label_mode = 'categorical',\n",
    "    shuffle = True\n",
    ")\n",
    "\n",
    "# 20% split between test/train here.\n",
    "test_batches = tf.data.experimental.cardinality(train)\n",
    "train_dataset = train.skip(test_batches // 5)\n",
    "test_dataset = train.take(test_batches // 5)\n",
    "\n",
    "print('Number of train batches: %d' % tf.data.experimental.cardinality(train_dataset))\n",
    "print('Number of test batches: %d' % tf.data.experimental.cardinality(test_dataset))\n",
    "\n",
    "AUTOTUNE = tf.data.AUTOTUNE\n",
    "\n",
    "train_dataset = train_dataset.cache().prefetch(buffer_size=AUTOTUNE)\n",
    "test_dataset = test_dataset.cache().prefetch(buffer_size=AUTOTUNE)"
   ]
  },
  {
   "cell_type": "code",
   "execution_count": 67,
   "id": "a1edca5b",
   "metadata": {},
   "outputs": [
    {
     "data": {
      "text/plain": [
       "2560"
      ]
     },
     "execution_count": 67,
     "metadata": {},
     "output_type": "execute_result"
    }
   ],
   "source": [
    "len(train.file_paths[0:(test_batches // 5)*BATCH_SIZE])"
   ]
  },
  {
   "cell_type": "code",
   "execution_count": 20,
   "id": "3b1f175a",
   "metadata": {},
   "outputs": [
    {
     "data": {
      "text/plain": [
       "['2 Cell',\n",
       " '2pn',\n",
       " '3 Cell',\n",
       " '4 Cell',\n",
       " '5 Cell',\n",
       " '6 Cell',\n",
       " '8 Cell',\n",
       " 'Blastocyst',\n",
       " 'Compacting 8 cell',\n",
       " 'Early blast',\n",
       " 'Empty',\n",
       " 'Expanded Blastocyst',\n",
       " 'Morula',\n",
       " 'Syngamy']"
      ]
     },
     "execution_count": 20,
     "metadata": {},
     "output_type": "execute_result"
    }
   ],
   "source": [
    "classes = train.class_names\n",
    "classes"
   ]
  },
  {
   "cell_type": "code",
   "execution_count": 35,
   "id": "c00fd32a",
   "metadata": {
    "scrolled": false
   },
   "outputs": [
    {
     "data": {
      "image/png": "[encoded data removed]",
      "text/plain": [
       "<Figure size 720x720 with 25 Axes>"
      ]
     },
     "metadata": {},
     "output_type": "display_data"
    }
   ],
   "source": [
    "plt.figure(figsize=(10, 10))\n",
    "images, labels = next(iter(train_dataset))\n",
    "for i in range(25):\n",
    "    ax = plt.subplot(5, 5, i + 1)\n",
    "    plt.imshow(images[i] / 255)\n",
    "    plt.title(classes[labels[i].numpy().argmax()])\n",
    "    plt.axis(\"off\")"
   ]
  },
  {
   "cell_type": "code",
   "execution_count": 39,
   "id": "a2b1f6a8",
   "metadata": {},
   "outputs": [
    {
     "name": "stdout",
     "output_type": "stream",
     "text": [
      "Model: \"model_1\"\n",
      "_________________________________________________________________\n",
      " Layer (type)                Output Shape              Param #   \n",
      "=================================================================\n",
      " input_4 (InputLayer)        [(None, 299, 299, 3)]     0         \n",
      "                                                                 \n",
      " random_flip (RandomFlip)    (None, 299, 299, 3)       0         \n",
      "                                                                 \n",
      " rescaling_1 (Rescaling)     (None, 299, 299, 3)       0         \n",
      "                                                                 \n",
      " xception (Functional)       (None, 10, 10, 2048)      20861480  \n",
      "                                                                 \n",
      " global_average_pooling2d_1   (None, 2048)             0         \n",
      " (GlobalAveragePooling2D)                                        \n",
      "                                                                 \n",
      " dense_1 (Dense)             (None, 14)                28686     \n",
      "                                                                 \n",
      "=================================================================\n",
      "Total params: 20,890,166\n",
      "Trainable params: 28,686\n",
      "Non-trainable params: 20,861,480\n",
      "_________________________________________________________________\n"
     ]
    }
   ],
   "source": [
    "base_model = keras.applications.Xception(\n",
    "    weights='imagenet',  # Load weights pre-trained on ImageNet.\n",
    "    input_shape=(299,299,3),\n",
    "    include_top=False)  # Do not include the ImageNet classifier at the top.\n",
    "\n",
    "\n",
    "# Freeze the base_model\n",
    "base_model.trainable = False\n",
    "\n",
    "# Create new model on top\n",
    "inputs = keras.Input(shape=(299, 299, 3))\n",
    "\n",
    "random_flip = keras.layers.RandomFlip(\"horizontal_and_vertical\")\n",
    "x = random_flip(inputs)\n",
    "\n",
    "# Pre-trained Xception weights requires that input be scaled\n",
    "# from (0, 255) to a range of (-1., +1.), the rescaling layer\n",
    "# outputs: `(inputs * scale) + offset`\n",
    "scale_layer = keras.layers.Rescaling(scale=1./127.5, offset=-1)\n",
    "x = scale_layer(x)\n",
    "\n",
    "# The base model contains batchnorm layers. We want to keep them in inference mode\n",
    "# when we unfreeze the base model for fine-tuning, so we make sure that the\n",
    "# base_model is running in inference mode here.\n",
    "x = base_model(x, training=False)\n",
    "x = keras.layers.GlobalAveragePooling2D()(x)\n",
    "#x = keras.layers.Dropout(0.2)(x)  # Regularize with dropout\n",
    "#x = keras.layers.Dense(512, activation='relu')(x)\n",
    "outputs = keras.layers.Dense(len(classes), activation='softmax')(x)\n",
    "model = keras.Model(inputs, outputs)\n",
    "\n",
    "model.summary()"
   ]
  },
  {
   "cell_type": "code",
   "execution_count": 40,
   "id": "9cbd1f6a",
   "metadata": {
    "scrolled": false
   },
   "outputs": [
    {
     "name": "stdout",
     "output_type": "stream",
     "text": [
      "CPU times: user 10.9 ms, sys: 4.76 ms, total: 15.7 ms\n",
      "Wall time: 14 ms\n"
     ]
    }
   ],
   "source": [
    "%%time\n",
    "model.compile(\n",
    "    optimizer=keras.optimizers.Adam(),\n",
    "    loss=keras.losses.CategoricalCrossentropy(),\n",
    "    metrics=[keras.metrics.CategoricalAccuracy()],\n",
    ")"
   ]
  },
  {
   "cell_type": "code",
   "execution_count": 42,
   "id": "9844880c",
   "metadata": {
    "scrolled": false
   },
   "outputs": [
    {
     "data": {
      "application/vnd.jupyter.widget-view+json": {
       "model_id": "1bc222fbfde3474f8c4107d47ed55fe3",
       "version_major": 2,
       "version_minor": 0
      },
      "text/plain": [
       "Training:   0%|           0/500 ETA: ?s,  ?epochs/s"
      ]
     },
     "metadata": {},
     "output_type": "display_data"
    },
    {
     "name": "stdout",
     "output_type": "stream",
     "text": [
      "Epoch 1/500\n"
     ]
    },
    {
     "data": {
      "application/vnd.jupyter.widget-view+json": {
       "model_id": "7f02cafc8e1a4555bd72c8cd4f1cac7d",
       "version_major": 2,
       "version_minor": 0
      },
      "text/plain": [
       "0/22           ETA: ?s - "
      ]
     },
     "metadata": {},
     "output_type": "display_data"
    },
    {
     "name": "stdout",
     "output_type": "stream",
     "text": [
      "Epoch 1/500\n",
      "22/22 [==============================] - 19s 852ms/step - loss: 0.5831 - categorical_accuracy: 0.8209 - val_loss: 0.5967 - val_categorical_accuracy: 0.8172\n",
      "Epoch 2/500\n"
     ]
    },
    {
     "data": {
      "application/vnd.jupyter.widget-view+json": {
       "model_id": "9ed4dbe887484f9cbf3345819810d8eb",
       "version_major": 2,
       "version_minor": 0
      },
      "text/plain": [
       "0/22           ETA: ?s - "
      ]
     },
     "metadata": {},
     "output_type": "display_data"
    },
    {
     "name": "stdout",
     "output_type": "stream",
     "text": [
      "Epoch 2/500\n",
      "22/22 [==============================] - 19s 863ms/step - loss: 0.5658 - categorical_accuracy: 0.8279 - val_loss: 0.5802 - val_categorical_accuracy: 0.8230\n",
      "Epoch 3/500\n"
     ]
    },
    {
     "data": {
      "application/vnd.jupyter.widget-view+json": {
       "model_id": "1ff33792eb254e3babe9ab20d59b2d52",
       "version_major": 2,
       "version_minor": 0
      },
      "text/plain": [
       "0/22           ETA: ?s - "
      ]
     },
     "metadata": {},
     "output_type": "display_data"
    },
    {
     "name": "stdout",
     "output_type": "stream",
     "text": [
      "Epoch 3/500\n",
      "22/22 [==============================] - 19s 853ms/step - loss: 0.5533 - categorical_accuracy: 0.8308 - val_loss: 0.5668 - val_categorical_accuracy: 0.8258\n",
      "Epoch 4/500\n"
     ]
    },
    {
     "data": {
      "application/vnd.jupyter.widget-view+json": {
       "model_id": "ee9b49c7a85d49b79ea96995ec839457",
       "version_major": 2,
       "version_minor": 0
      },
      "text/plain": [
       "0/22           ETA: ?s - "
      ]
     },
     "metadata": {},
     "output_type": "display_data"
    },
    {
     "name": "stdout",
     "output_type": "stream",
     "text": [
      "Epoch 4/500\n",
      "22/22 [==============================] - 19s 852ms/step - loss: 0.5366 - categorical_accuracy: 0.8344 - val_loss: 0.5528 - val_categorical_accuracy: 0.8320\n",
      "Epoch 5/500\n"
     ]
    },
    {
     "data": {
      "application/vnd.jupyter.widget-view+json": {
       "model_id": "04cdc6cf5b15486d96ef6c5265bb00a8",
       "version_major": 2,
       "version_minor": 0
      },
      "text/plain": [
       "0/22           ETA: ?s - "
      ]
     },
     "metadata": {},
     "output_type": "display_data"
    },
    {
     "name": "stdout",
     "output_type": "stream",
     "text": [
      "Epoch 5/500\n",
      "22/22 [==============================] - 19s 853ms/step - loss: 0.5241 - categorical_accuracy: 0.8391 - val_loss: 0.5394 - val_categorical_accuracy: 0.8340\n",
      "Epoch 6/500\n"
     ]
    },
    {
     "data": {
      "application/vnd.jupyter.widget-view+json": {
       "model_id": "e117511b9b95462dbdb537e820845e25",
       "version_major": 2,
       "version_minor": 0
      },
      "text/plain": [
       "0/22           ETA: ?s - "
      ]
     },
     "metadata": {},
     "output_type": "display_data"
    },
    {
     "name": "stdout",
     "output_type": "stream",
     "text": [
      "Epoch 6/500\n",
      "22/22 [==============================] - 19s 854ms/step - loss: 0.5161 - categorical_accuracy: 0.8395 - val_loss: 0.5289 - val_categorical_accuracy: 0.8375\n",
      "Epoch 7/500\n"
     ]
    },
    {
     "data": {
      "application/vnd.jupyter.widget-view+json": {
       "model_id": "1f142ddacf1e4203af8461306e806ff5",
       "version_major": 2,
       "version_minor": 0
      },
      "text/plain": [
       "0/22           ETA: ?s - "
      ]
     },
     "metadata": {},
     "output_type": "display_data"
    },
    {
     "name": "stdout",
     "output_type": "stream",
     "text": [
      "Epoch 7/500\n",
      "22/22 [==============================] - 19s 854ms/step - loss: 0.5031 - categorical_accuracy: 0.8459 - val_loss: 0.5192 - val_categorical_accuracy: 0.8383\n",
      "Epoch 8/500\n"
     ]
    },
    {
     "data": {
      "application/vnd.jupyter.widget-view+json": {
       "model_id": "29ad03f1c7504322b7c03e27d328ec6e",
       "version_major": 2,
       "version_minor": 0
      },
      "text/plain": [
       "0/22           ETA: ?s - "
      ]
     },
     "metadata": {},
     "output_type": "display_data"
    },
    {
     "name": "stdout",
     "output_type": "stream",
     "text": [
      "Epoch 8/500\n",
      "22/22 [==============================] - 19s 861ms/step - loss: 0.4952 - categorical_accuracy: 0.8471 - val_loss: 0.5079 - val_categorical_accuracy: 0.8430\n",
      "Epoch 9/500\n"
     ]
    },
    {
     "data": {
      "application/vnd.jupyter.widget-view+json": {
       "model_id": "3ce0bb855ddb48c197f6b5949b4a0163",
       "version_major": 2,
       "version_minor": 0
      },
      "text/plain": [
       "0/22           ETA: ?s - "
      ]
     },
     "metadata": {},
     "output_type": "display_data"
    },
    {
     "name": "stdout",
     "output_type": "stream",
     "text": [
      "Epoch 9/500\n",
      "22/22 [==============================] - 19s 862ms/step - loss: 0.4863 - categorical_accuracy: 0.8486 - val_loss: 0.4997 - val_categorical_accuracy: 0.8457\n",
      "Epoch 10/500\n"
     ]
    },
    {
     "data": {
      "application/vnd.jupyter.widget-view+json": {
       "model_id": "a01aae965b6143c39808a51393452be7",
       "version_major": 2,
       "version_minor": 0
      },
      "text/plain": [
       "0/22           ETA: ?s - "
      ]
     },
     "metadata": {},
     "output_type": "display_data"
    },
    {
     "name": "stdout",
     "output_type": "stream",
     "text": [
      "Epoch 10/500\n",
      "22/22 [==============================] - 19s 859ms/step - loss: 0.4786 - categorical_accuracy: 0.8502 - val_loss: 0.4918 - val_categorical_accuracy: 0.8465\n",
      "Epoch 11/500\n"
     ]
    },
    {
     "data": {
      "application/vnd.jupyter.widget-view+json": {
       "model_id": "cd4378fdabad493c84455d1163e07ecd",
       "version_major": 2,
       "version_minor": 0
      },
      "text/plain": [
       "0/22           ETA: ?s - "
      ]
     },
     "metadata": {},
     "output_type": "display_data"
    },
    {
     "name": "stdout",
     "output_type": "stream",
     "text": [
      "Epoch 11/500\n",
      "22/22 [==============================] - 19s 871ms/step - loss: 0.4693 - categorical_accuracy: 0.8560 - val_loss: 0.4836 - val_categorical_accuracy: 0.8500\n",
      "Epoch 12/500\n"
     ]
    },
    {
     "data": {
      "application/vnd.jupyter.widget-view+json": {
       "model_id": "cc06464faf7d4a4fb0b35ea9ea8600ae",
       "version_major": 2,
       "version_minor": 0
      },
      "text/plain": [
       "0/22           ETA: ?s - "
      ]
     },
     "metadata": {},
     "output_type": "display_data"
    },
    {
     "name": "stdout",
     "output_type": "stream",
     "text": [
      "Epoch 12/500\n",
      "22/22 [==============================] - 19s 861ms/step - loss: 0.4591 - categorical_accuracy: 0.8593 - val_loss: 0.4757 - val_categorical_accuracy: 0.8535\n",
      "Epoch 13/500\n"
     ]
    },
    {
     "data": {
      "application/vnd.jupyter.widget-view+json": {
       "model_id": "ce215411f654467a88fddac96efef3b2",
       "version_major": 2,
       "version_minor": 0
      },
      "text/plain": [
       "0/22           ETA: ?s - "
      ]
     },
     "metadata": {},
     "output_type": "display_data"
    },
    {
     "name": "stdout",
     "output_type": "stream",
     "text": [
      "Epoch 13/500\n",
      "22/22 [==============================] - 19s 851ms/step - loss: 0.4523 - categorical_accuracy: 0.8616 - val_loss: 0.4692 - val_categorical_accuracy: 0.8535\n",
      "Epoch 14/500\n"
     ]
    },
    {
     "data": {
      "application/vnd.jupyter.widget-view+json": {
       "model_id": "31cefd67610d4c3ebf7b392d74f51815",
       "version_major": 2,
       "version_minor": 0
      },
      "text/plain": [
       "0/22           ETA: ?s - "
      ]
     },
     "metadata": {},
     "output_type": "display_data"
    },
    {
     "name": "stdout",
     "output_type": "stream",
     "text": [
      "Epoch 14/500\n",
      "22/22 [==============================] - 19s 869ms/step - loss: 0.4466 - categorical_accuracy: 0.8646 - val_loss: 0.4619 - val_categorical_accuracy: 0.8562\n",
      "Epoch 15/500\n"
     ]
    },
    {
     "data": {
      "application/vnd.jupyter.widget-view+json": {
       "model_id": "2ab8b248e04b4ed8a2467efaf80ceb76",
       "version_major": 2,
       "version_minor": 0
      },
      "text/plain": [
       "0/22           ETA: ?s - "
      ]
     },
     "metadata": {},
     "output_type": "display_data"
    },
    {
     "name": "stdout",
     "output_type": "stream",
     "text": [
      "Epoch 15/500\n",
      "22/22 [==============================] - 19s 874ms/step - loss: 0.4419 - categorical_accuracy: 0.8669 - val_loss: 0.4558 - val_categorical_accuracy: 0.8602\n",
      "Epoch 16/500\n"
     ]
    },
    {
     "data": {
      "application/vnd.jupyter.widget-view+json": {
       "model_id": "486d1dcfabdd4de190cfa4b57cc11548",
       "version_major": 2,
       "version_minor": 0
      },
      "text/plain": [
       "0/22           ETA: ?s - "
      ]
     },
     "metadata": {},
     "output_type": "display_data"
    },
    {
     "name": "stdout",
     "output_type": "stream",
     "text": [
      "Epoch 16/500\n",
      "22/22 [==============================] - 19s 854ms/step - loss: 0.4318 - categorical_accuracy: 0.8692 - val_loss: 0.4487 - val_categorical_accuracy: 0.8605\n",
      "Epoch 17/500\n"
     ]
    },
    {
     "data": {
      "application/vnd.jupyter.widget-view+json": {
       "model_id": "510805a1aa3043d68be7bae98f2de6be",
       "version_major": 2,
       "version_minor": 0
      },
      "text/plain": [
       "0/22           ETA: ?s - "
      ]
     },
     "metadata": {},
     "output_type": "display_data"
    },
    {
     "name": "stdout",
     "output_type": "stream",
     "text": [
      "Epoch 17/500\n",
      "22/22 [==============================] - 19s 854ms/step - loss: 0.4299 - categorical_accuracy: 0.8705 - val_loss: 0.4430 - val_categorical_accuracy: 0.8625\n",
      "Epoch 18/500\n"
     ]
    },
    {
     "data": {
      "application/vnd.jupyter.widget-view+json": {
       "model_id": "618037880899447087a8942e28cec4bb",
       "version_major": 2,
       "version_minor": 0
      },
      "text/plain": [
       "0/22           ETA: ?s - "
      ]
     },
     "metadata": {},
     "output_type": "display_data"
    },
    {
     "name": "stdout",
     "output_type": "stream",
     "text": [
      "Epoch 18/500\n",
      "22/22 [==============================] - 19s 853ms/step - loss: 0.4214 - categorical_accuracy: 0.8710 - val_loss: 0.4369 - val_categorical_accuracy: 0.8629\n",
      "Epoch 19/500\n"
     ]
    },
    {
     "data": {
      "application/vnd.jupyter.widget-view+json": {
       "model_id": "6b9195534bf14f998e2b969147d7fdcc",
       "version_major": 2,
       "version_minor": 0
      },
      "text/plain": [
       "0/22           ETA: ?s - "
      ]
     },
     "metadata": {},
     "output_type": "display_data"
    },
    {
     "name": "stdout",
     "output_type": "stream",
     "text": [
      "Epoch 19/500\n",
      "22/22 [==============================] - 19s 866ms/step - loss: 0.4174 - categorical_accuracy: 0.8698 - val_loss: 0.4308 - val_categorical_accuracy: 0.8664\n",
      "Epoch 20/500\n"
     ]
    },
    {
     "data": {
      "application/vnd.jupyter.widget-view+json": {
       "model_id": "b12d68b3dc43414eb87222c6f4b68664",
       "version_major": 2,
       "version_minor": 0
      },
      "text/plain": [
       "0/22           ETA: ?s - "
      ]
     },
     "metadata": {},
     "output_type": "display_data"
    },
    {
     "name": "stdout",
     "output_type": "stream",
     "text": [
      "Epoch 20/500\n",
      "22/22 [==============================] - 19s 865ms/step - loss: 0.4079 - categorical_accuracy: 0.8762 - val_loss: 0.4260 - val_categorical_accuracy: 0.8645\n",
      "Epoch 21/500\n"
     ]
    },
    {
     "data": {
      "application/vnd.jupyter.widget-view+json": {
       "model_id": "1f779c58f5274d8f9a4312739391de25",
       "version_major": 2,
       "version_minor": 0
      },
      "text/plain": [
       "0/22           ETA: ?s - "
      ]
     },
     "metadata": {},
     "output_type": "display_data"
    },
    {
     "name": "stdout",
     "output_type": "stream",
     "text": [
      "Epoch 21/500\n",
      "22/22 [==============================] - 19s 851ms/step - loss: 0.4065 - categorical_accuracy: 0.8774 - val_loss: 0.4226 - val_categorical_accuracy: 0.8660\n",
      "Epoch 22/500\n"
     ]
    },
    {
     "data": {
      "application/vnd.jupyter.widget-view+json": {
       "model_id": "fa0f3a5057794011876857f47462aa0e",
       "version_major": 2,
       "version_minor": 0
      },
      "text/plain": [
       "0/22           ETA: ?s - "
      ]
     },
     "metadata": {},
     "output_type": "display_data"
    },
    {
     "name": "stdout",
     "output_type": "stream",
     "text": [
      "Epoch 22/500\n",
      "22/22 [==============================] - 19s 855ms/step - loss: 0.4022 - categorical_accuracy: 0.8802 - val_loss: 0.4174 - val_categorical_accuracy: 0.8711\n",
      "Epoch 23/500\n"
     ]
    },
    {
     "data": {
      "application/vnd.jupyter.widget-view+json": {
       "model_id": "17c9b8cb2e0c47b59e4444eaec13393c",
       "version_major": 2,
       "version_minor": 0
      },
      "text/plain": [
       "0/22           ETA: ?s - "
      ]
     },
     "metadata": {},
     "output_type": "display_data"
    },
    {
     "name": "stdout",
     "output_type": "stream",
     "text": [
      "Epoch 23/500\n",
      "22/22 [==============================] - 19s 880ms/step - loss: 0.3990 - categorical_accuracy: 0.8813 - val_loss: 0.4117 - val_categorical_accuracy: 0.8707\n",
      "Epoch 24/500\n"
     ]
    },
    {
     "data": {
      "application/vnd.jupyter.widget-view+json": {
       "model_id": "7b9dcccace7f4d58958cca2239426640",
       "version_major": 2,
       "version_minor": 0
      },
      "text/plain": [
       "0/22           ETA: ?s - "
      ]
     },
     "metadata": {},
     "output_type": "display_data"
    },
    {
     "name": "stdout",
     "output_type": "stream",
     "text": [
      "Epoch 24/500\n",
      "22/22 [==============================] - 19s 858ms/step - loss: 0.3937 - categorical_accuracy: 0.8811 - val_loss: 0.4070 - val_categorical_accuracy: 0.8738\n",
      "Epoch 25/500\n"
     ]
    },
    {
     "data": {
      "application/vnd.jupyter.widget-view+json": {
       "model_id": "f8960fa2208f47d686b3dc43e5ebca80",
       "version_major": 2,
       "version_minor": 0
      },
      "text/plain": [
       "0/22           ETA: ?s - "
      ]
     },
     "metadata": {},
     "output_type": "display_data"
    },
    {
     "name": "stdout",
     "output_type": "stream",
     "text": [
      "Epoch 25/500\n",
      "22/22 [==============================] - 19s 863ms/step - loss: 0.3873 - categorical_accuracy: 0.8824 - val_loss: 0.4039 - val_categorical_accuracy: 0.8750\n",
      "Epoch 26/500\n"
     ]
    },
    {
     "data": {
      "application/vnd.jupyter.widget-view+json": {
       "model_id": "658106b698ad49458d39e702c775be9e",
       "version_major": 2,
       "version_minor": 0
      },
      "text/plain": [
       "0/22           ETA: ?s - "
      ]
     },
     "metadata": {},
     "output_type": "display_data"
    },
    {
     "name": "stdout",
     "output_type": "stream",
     "text": [
      "Epoch 26/500\n",
      "22/22 [==============================] - 19s 870ms/step - loss: 0.3837 - categorical_accuracy: 0.8837 - val_loss: 0.4015 - val_categorical_accuracy: 0.8742\n",
      "Epoch 27/500\n"
     ]
    },
    {
     "data": {
      "application/vnd.jupyter.widget-view+json": {
       "model_id": "23bb7001df8949738858aeaa1f2404be",
       "version_major": 2,
       "version_minor": 0
      },
      "text/plain": [
       "0/22           ETA: ?s - "
      ]
     },
     "metadata": {},
     "output_type": "display_data"
    },
    {
     "name": "stdout",
     "output_type": "stream",
     "text": [
      "Epoch 27/500\n",
      "22/22 [==============================] - 19s 867ms/step - loss: 0.3836 - categorical_accuracy: 0.8850 - val_loss: 0.3964 - val_categorical_accuracy: 0.8781\n",
      "Epoch 28/500\n"
     ]
    },
    {
     "data": {
      "application/vnd.jupyter.widget-view+json": {
       "model_id": "bcb4f762fddd4136a22f4aec81baf046",
       "version_major": 2,
       "version_minor": 0
      },
      "text/plain": [
       "0/22           ETA: ?s - "
      ]
     },
     "metadata": {},
     "output_type": "display_data"
    },
    {
     "name": "stdout",
     "output_type": "stream",
     "text": [
      "Epoch 28/500\n",
      "22/22 [==============================] - 19s 861ms/step - loss: 0.3775 - categorical_accuracy: 0.8878 - val_loss: 0.3917 - val_categorical_accuracy: 0.8785\n",
      "Epoch 29/500\n"
     ]
    },
    {
     "data": {
      "application/vnd.jupyter.widget-view+json": {
       "model_id": "ac63a6c89d204f44a4889dd25d04ab95",
       "version_major": 2,
       "version_minor": 0
      },
      "text/plain": [
       "0/22           ETA: ?s - "
      ]
     },
     "metadata": {},
     "output_type": "display_data"
    },
    {
     "name": "stdout",
     "output_type": "stream",
     "text": [
      "Epoch 29/500\n",
      "22/22 [==============================] - 19s 853ms/step - loss: 0.3689 - categorical_accuracy: 0.8891 - val_loss: 0.3886 - val_categorical_accuracy: 0.8789\n",
      "Epoch 30/500\n"
     ]
    },
    {
     "data": {
      "application/vnd.jupyter.widget-view+json": {
       "model_id": "684319ca9800489788cc230c549e738a",
       "version_major": 2,
       "version_minor": 0
      },
      "text/plain": [
       "0/22           ETA: ?s - "
      ]
     },
     "metadata": {},
     "output_type": "display_data"
    },
    {
     "name": "stdout",
     "output_type": "stream",
     "text": [
      "Epoch 30/500\n",
      "22/22 [==============================] - 19s 851ms/step - loss: 0.3683 - categorical_accuracy: 0.8873 - val_loss: 0.3842 - val_categorical_accuracy: 0.8824\n",
      "Epoch 31/500\n"
     ]
    },
    {
     "data": {
      "application/vnd.jupyter.widget-view+json": {
       "model_id": "420a3d7f3f4644c3ad5e3a5102907872",
       "version_major": 2,
       "version_minor": 0
      },
      "text/plain": [
       "0/22           ETA: ?s - "
      ]
     },
     "metadata": {},
     "output_type": "display_data"
    },
    {
     "name": "stdout",
     "output_type": "stream",
     "text": [
      "Epoch 31/500\n",
      "22/22 [==============================] - 19s 849ms/step - loss: 0.3657 - categorical_accuracy: 0.8901 - val_loss: 0.3811 - val_categorical_accuracy: 0.8809\n",
      "Epoch 32/500\n"
     ]
    },
    {
     "data": {
      "application/vnd.jupyter.widget-view+json": {
       "model_id": "c04861e2a94b49c2992be5ea6f3c1266",
       "version_major": 2,
       "version_minor": 0
      },
      "text/plain": [
       "0/22           ETA: ?s - "
      ]
     },
     "metadata": {},
     "output_type": "display_data"
    },
    {
     "name": "stdout",
     "output_type": "stream",
     "text": [
      "Epoch 32/500\n",
      "22/22 [==============================] - 19s 862ms/step - loss: 0.3614 - categorical_accuracy: 0.8935 - val_loss: 0.3769 - val_categorical_accuracy: 0.8813\n",
      "Epoch 33/500\n"
     ]
    },
    {
     "data": {
      "application/vnd.jupyter.widget-view+json": {
       "model_id": "4181db1c528d4ee5800d84e187640b06",
       "version_major": 2,
       "version_minor": 0
      },
      "text/plain": [
       "0/22           ETA: ?s - "
      ]
     },
     "metadata": {},
     "output_type": "display_data"
    },
    {
     "name": "stdout",
     "output_type": "stream",
     "text": [
      "Epoch 33/500\n",
      "22/22 [==============================] - 19s 857ms/step - loss: 0.3543 - categorical_accuracy: 0.8953 - val_loss: 0.3751 - val_categorical_accuracy: 0.8816\n",
      "Epoch 34/500\n"
     ]
    },
    {
     "data": {
      "application/vnd.jupyter.widget-view+json": {
       "model_id": "833e64bb59fa429493c8a4938608dbf3",
       "version_major": 2,
       "version_minor": 0
      },
      "text/plain": [
       "0/22           ETA: ?s - "
      ]
     },
     "metadata": {},
     "output_type": "display_data"
    },
    {
     "name": "stdout",
     "output_type": "stream",
     "text": [
      "Epoch 34/500\n",
      "22/22 [==============================] - 19s 867ms/step - loss: 0.3530 - categorical_accuracy: 0.8960 - val_loss: 0.3700 - val_categorical_accuracy: 0.8824\n",
      "Epoch 35/500\n"
     ]
    },
    {
     "data": {
      "application/vnd.jupyter.widget-view+json": {
       "model_id": "426e7c7cb2d245768130e764478bc63c",
       "version_major": 2,
       "version_minor": 0
      },
      "text/plain": [
       "0/22           ETA: ?s - "
      ]
     },
     "metadata": {},
     "output_type": "display_data"
    },
    {
     "name": "stdout",
     "output_type": "stream",
     "text": [
      "Epoch 35/500\n",
      "22/22 [==============================] - 19s 853ms/step - loss: 0.3492 - categorical_accuracy: 0.8973 - val_loss: 0.3677 - val_categorical_accuracy: 0.8871\n",
      "Epoch 36/500\n"
     ]
    },
    {
     "data": {
      "application/vnd.jupyter.widget-view+json": {
       "model_id": "6721ed2918674596b25954ae4adc1162",
       "version_major": 2,
       "version_minor": 0
      },
      "text/plain": [
       "0/22           ETA: ?s - "
      ]
     },
     "metadata": {},
     "output_type": "display_data"
    },
    {
     "name": "stdout",
     "output_type": "stream",
     "text": [
      "Epoch 36/500\n",
      "22/22 [==============================] - 19s 867ms/step - loss: 0.3501 - categorical_accuracy: 0.8951 - val_loss: 0.3642 - val_categorical_accuracy: 0.8879\n",
      "Epoch 37/500\n"
     ]
    },
    {
     "data": {
      "application/vnd.jupyter.widget-view+json": {
       "model_id": "9295e71ac6fe42c5922608ed70c4b55d",
       "version_major": 2,
       "version_minor": 0
      },
      "text/plain": [
       "0/22           ETA: ?s - "
      ]
     },
     "metadata": {},
     "output_type": "display_data"
    },
    {
     "name": "stdout",
     "output_type": "stream",
     "text": [
      "Epoch 37/500\n",
      "22/22 [==============================] - 19s 871ms/step - loss: 0.3432 - categorical_accuracy: 0.8995 - val_loss: 0.3608 - val_categorical_accuracy: 0.8906\n",
      "Epoch 38/500\n"
     ]
    },
    {
     "data": {
      "application/vnd.jupyter.widget-view+json": {
       "model_id": "309c2c7bf8e847a78724648bf860723e",
       "version_major": 2,
       "version_minor": 0
      },
      "text/plain": [
       "0/22           ETA: ?s - "
      ]
     },
     "metadata": {},
     "output_type": "display_data"
    },
    {
     "name": "stdout",
     "output_type": "stream",
     "text": [
      "Epoch 38/500\n",
      "22/22 [==============================] - 19s 870ms/step - loss: 0.3423 - categorical_accuracy: 0.8962 - val_loss: 0.3568 - val_categorical_accuracy: 0.8930\n",
      "Epoch 39/500\n"
     ]
    },
    {
     "data": {
      "application/vnd.jupyter.widget-view+json": {
       "model_id": "045b754572754ec484611fb88c1b520e",
       "version_major": 2,
       "version_minor": 0
      },
      "text/plain": [
       "0/22           ETA: ?s - "
      ]
     },
     "metadata": {},
     "output_type": "display_data"
    },
    {
     "name": "stdout",
     "output_type": "stream",
     "text": [
      "Epoch 39/500\n",
      "22/22 [==============================] - 19s 857ms/step - loss: 0.3379 - categorical_accuracy: 0.8982 - val_loss: 0.3552 - val_categorical_accuracy: 0.8902\n",
      "Epoch 40/500\n"
     ]
    },
    {
     "data": {
      "application/vnd.jupyter.widget-view+json": {
       "model_id": "dbccf57ede3b4d3b986939eee501ed44",
       "version_major": 2,
       "version_minor": 0
      },
      "text/plain": [
       "0/22           ETA: ?s - "
      ]
     },
     "metadata": {},
     "output_type": "display_data"
    },
    {
     "name": "stdout",
     "output_type": "stream",
     "text": [
      "Epoch 40/500\n",
      "22/22 [==============================] - 19s 860ms/step - loss: 0.3352 - categorical_accuracy: 0.9010 - val_loss: 0.3533 - val_categorical_accuracy: 0.8918\n",
      "Epoch 41/500\n"
     ]
    },
    {
     "data": {
      "application/vnd.jupyter.widget-view+json": {
       "model_id": "885b7fdf40a54cabb1f764425bb528fc",
       "version_major": 2,
       "version_minor": 0
      },
      "text/plain": [
       "0/22           ETA: ?s - "
      ]
     },
     "metadata": {},
     "output_type": "display_data"
    },
    {
     "name": "stdout",
     "output_type": "stream",
     "text": [
      "Epoch 41/500\n",
      "22/22 [==============================] - 19s 857ms/step - loss: 0.3311 - categorical_accuracy: 0.9032 - val_loss: 0.3506 - val_categorical_accuracy: 0.8949\n",
      "Epoch 42/500\n"
     ]
    },
    {
     "data": {
      "application/vnd.jupyter.widget-view+json": {
       "model_id": "6ed56a502e0b432f97f4743cb7e5a7af",
       "version_major": 2,
       "version_minor": 0
      },
      "text/plain": [
       "0/22           ETA: ?s - "
      ]
     },
     "metadata": {},
     "output_type": "display_data"
    },
    {
     "name": "stdout",
     "output_type": "stream",
     "text": [
      "Epoch 42/500\n",
      "22/22 [==============================] - 19s 859ms/step - loss: 0.3312 - categorical_accuracy: 0.9013 - val_loss: 0.3471 - val_categorical_accuracy: 0.8941\n",
      "Epoch 43/500\n"
     ]
    },
    {
     "data": {
      "application/vnd.jupyter.widget-view+json": {
       "model_id": "20831300ec9247e691b8b38d25c18ccc",
       "version_major": 2,
       "version_minor": 0
      },
      "text/plain": [
       "0/22           ETA: ?s - "
      ]
     },
     "metadata": {},
     "output_type": "display_data"
    },
    {
     "name": "stdout",
     "output_type": "stream",
     "text": [
      "Epoch 43/500\n",
      "22/22 [==============================] - 19s 850ms/step - loss: 0.3264 - categorical_accuracy: 0.9015 - val_loss: 0.3445 - val_categorical_accuracy: 0.8949\n",
      "Epoch 44/500\n"
     ]
    },
    {
     "data": {
      "application/vnd.jupyter.widget-view+json": {
       "model_id": "d98357bef7f24992a0761ef775a9ffdf",
       "version_major": 2,
       "version_minor": 0
      },
      "text/plain": [
       "0/22           ETA: ?s - "
      ]
     },
     "metadata": {},
     "output_type": "display_data"
    },
    {
     "name": "stdout",
     "output_type": "stream",
     "text": [
      "Epoch 44/500\n",
      "22/22 [==============================] - 19s 856ms/step - loss: 0.3258 - categorical_accuracy: 0.8997 - val_loss: 0.3411 - val_categorical_accuracy: 0.8941\n",
      "Epoch 45/500\n"
     ]
    },
    {
     "data": {
      "application/vnd.jupyter.widget-view+json": {
       "model_id": "e2f6246bf91d42abad69afda64ef3126",
       "version_major": 2,
       "version_minor": 0
      },
      "text/plain": [
       "0/22           ETA: ?s - "
      ]
     },
     "metadata": {},
     "output_type": "display_data"
    },
    {
     "name": "stdout",
     "output_type": "stream",
     "text": [
      "Epoch 45/500\n",
      "22/22 [==============================] - 19s 861ms/step - loss: 0.3244 - categorical_accuracy: 0.9005 - val_loss: 0.3383 - val_categorical_accuracy: 0.8965\n",
      "Epoch 46/500\n"
     ]
    },
    {
     "data": {
      "application/vnd.jupyter.widget-view+json": {
       "model_id": "cfd0dcb6a68941cb83aba58e1ea3c389",
       "version_major": 2,
       "version_minor": 0
      },
      "text/plain": [
       "0/22           ETA: ?s - "
      ]
     },
     "metadata": {},
     "output_type": "display_data"
    },
    {
     "name": "stdout",
     "output_type": "stream",
     "text": [
      "Epoch 46/500\n",
      "22/22 [==============================] - 19s 868ms/step - loss: 0.3206 - categorical_accuracy: 0.9047 - val_loss: 0.3359 - val_categorical_accuracy: 0.8988\n",
      "Epoch 47/500\n"
     ]
    },
    {
     "data": {
      "application/vnd.jupyter.widget-view+json": {
       "model_id": "87800f77540a49d58413b8699ba61104",
       "version_major": 2,
       "version_minor": 0
      },
      "text/plain": [
       "0/22           ETA: ?s - "
      ]
     },
     "metadata": {},
     "output_type": "display_data"
    },
    {
     "name": "stdout",
     "output_type": "stream",
     "text": [
      "Epoch 47/500\n",
      "22/22 [==============================] - 19s 862ms/step - loss: 0.3171 - categorical_accuracy: 0.9040 - val_loss: 0.3331 - val_categorical_accuracy: 0.8980\n",
      "Epoch 48/500\n"
     ]
    },
    {
     "data": {
      "application/vnd.jupyter.widget-view+json": {
       "model_id": "30337c06bbbc41e599a6888699a3fde7",
       "version_major": 2,
       "version_minor": 0
      },
      "text/plain": [
       "0/22           ETA: ?s - "
      ]
     },
     "metadata": {},
     "output_type": "display_data"
    },
    {
     "name": "stdout",
     "output_type": "stream",
     "text": [
      "Epoch 48/500\n",
      "22/22 [==============================] - 19s 856ms/step - loss: 0.3124 - categorical_accuracy: 0.9058 - val_loss: 0.3321 - val_categorical_accuracy: 0.9012\n",
      "Epoch 49/500\n"
     ]
    },
    {
     "data": {
      "application/vnd.jupyter.widget-view+json": {
       "model_id": "efc72b7c5c384dacada3cb85d94d2cf0",
       "version_major": 2,
       "version_minor": 0
      },
      "text/plain": [
       "0/22           ETA: ?s - "
      ]
     },
     "metadata": {},
     "output_type": "display_data"
    },
    {
     "name": "stdout",
     "output_type": "stream",
     "text": [
      "Epoch 49/500\n",
      "22/22 [==============================] - 19s 874ms/step - loss: 0.3146 - categorical_accuracy: 0.9072 - val_loss: 0.3294 - val_categorical_accuracy: 0.8988\n",
      "Epoch 50/500\n"
     ]
    },
    {
     "data": {
      "application/vnd.jupyter.widget-view+json": {
       "model_id": "dffaf3f8ca8a4b4d92bf10ae7ca6287d",
       "version_major": 2,
       "version_minor": 0
      },
      "text/plain": [
       "0/22           ETA: ?s - "
      ]
     },
     "metadata": {},
     "output_type": "display_data"
    },
    {
     "name": "stdout",
     "output_type": "stream",
     "text": [
      "Epoch 50/500\n",
      "22/22 [==============================] - 19s 858ms/step - loss: 0.3098 - categorical_accuracy: 0.9096 - val_loss: 0.3276 - val_categorical_accuracy: 0.9012\n",
      "Epoch 51/500\n"
     ]
    },
    {
     "data": {
      "application/vnd.jupyter.widget-view+json": {
       "model_id": "34dbd1a71e0b4478addbe0e0f8ef1dce",
       "version_major": 2,
       "version_minor": 0
      },
      "text/plain": [
       "0/22           ETA: ?s - "
      ]
     },
     "metadata": {},
     "output_type": "display_data"
    },
    {
     "name": "stdout",
     "output_type": "stream",
     "text": [
      "Epoch 51/500\n",
      "22/22 [==============================] - 19s 854ms/step - loss: 0.3077 - categorical_accuracy: 0.9073 - val_loss: 0.3237 - val_categorical_accuracy: 0.9020\n",
      "Epoch 52/500\n"
     ]
    },
    {
     "data": {
      "application/vnd.jupyter.widget-view+json": {
       "model_id": "21d9e55025104a52948410031852f2f4",
       "version_major": 2,
       "version_minor": 0
      },
      "text/plain": [
       "0/22           ETA: ?s - "
      ]
     },
     "metadata": {},
     "output_type": "display_data"
    },
    {
     "name": "stdout",
     "output_type": "stream",
     "text": [
      "Epoch 52/500\n",
      "22/22 [==============================] - 19s 864ms/step - loss: 0.3098 - categorical_accuracy: 0.9061 - val_loss: 0.3221 - val_categorical_accuracy: 0.9031\n",
      "Epoch 53/500\n"
     ]
    },
    {
     "data": {
      "application/vnd.jupyter.widget-view+json": {
       "model_id": "bf5bb92293a54daaa309ee40a97fbed4",
       "version_major": 2,
       "version_minor": 0
      },
      "text/plain": [
       "0/22           ETA: ?s - "
      ]
     },
     "metadata": {},
     "output_type": "display_data"
    },
    {
     "name": "stdout",
     "output_type": "stream",
     "text": [
      "Epoch 53/500\n",
      "22/22 [==============================] - 19s 872ms/step - loss: 0.3023 - categorical_accuracy: 0.9102 - val_loss: 0.3212 - val_categorical_accuracy: 0.9051\n",
      "Epoch 54/500\n"
     ]
    },
    {
     "data": {
      "application/vnd.jupyter.widget-view+json": {
       "model_id": "29456b02a48d41dca68c54fadecbde1f",
       "version_major": 2,
       "version_minor": 0
      },
      "text/plain": [
       "0/22           ETA: ?s - "
      ]
     },
     "metadata": {},
     "output_type": "display_data"
    },
    {
     "name": "stdout",
     "output_type": "stream",
     "text": [
      "Epoch 54/500\n",
      "22/22 [==============================] - 19s 865ms/step - loss: 0.3010 - categorical_accuracy: 0.9104 - val_loss: 0.3169 - val_categorical_accuracy: 0.9039\n",
      "Epoch 55/500\n"
     ]
    },
    {
     "data": {
      "application/vnd.jupyter.widget-view+json": {
       "model_id": "548cf98e980b43958e858c06be62fb82",
       "version_major": 2,
       "version_minor": 0
      },
      "text/plain": [
       "0/22           ETA: ?s - "
      ]
     },
     "metadata": {},
     "output_type": "display_data"
    },
    {
     "name": "stdout",
     "output_type": "stream",
     "text": [
      "Epoch 55/500\n",
      "22/22 [==============================] - 19s 860ms/step - loss: 0.3015 - categorical_accuracy: 0.9109 - val_loss: 0.3146 - val_categorical_accuracy: 0.9055\n",
      "Epoch 56/500\n"
     ]
    },
    {
     "data": {
      "application/vnd.jupyter.widget-view+json": {
       "model_id": "713221c9059e4a1a833210953b9e171c",
       "version_major": 2,
       "version_minor": 0
      },
      "text/plain": [
       "0/22           ETA: ?s - "
      ]
     },
     "metadata": {},
     "output_type": "display_data"
    },
    {
     "name": "stdout",
     "output_type": "stream",
     "text": [
      "Epoch 56/500\n",
      "22/22 [==============================] - 19s 860ms/step - loss: 0.3002 - categorical_accuracy: 0.9123 - val_loss: 0.3154 - val_categorical_accuracy: 0.9086\n",
      "Epoch 57/500\n"
     ]
    },
    {
     "data": {
      "application/vnd.jupyter.widget-view+json": {
       "model_id": "6268f7ae3161484483aca5c541872add",
       "version_major": 2,
       "version_minor": 0
      },
      "text/plain": [
       "0/22           ETA: ?s - "
      ]
     },
     "metadata": {},
     "output_type": "display_data"
    },
    {
     "name": "stdout",
     "output_type": "stream",
     "text": [
      "Epoch 57/500\n",
      "22/22 [==============================] - 19s 860ms/step - loss: 0.2949 - categorical_accuracy: 0.9123 - val_loss: 0.3136 - val_categorical_accuracy: 0.9086\n",
      "Epoch 58/500\n"
     ]
    },
    {
     "data": {
      "application/vnd.jupyter.widget-view+json": {
       "model_id": "521f90025e284114bf3b1281a3a6dd1b",
       "version_major": 2,
       "version_minor": 0
      },
      "text/plain": [
       "0/22           ETA: ?s - "
      ]
     },
     "metadata": {},
     "output_type": "display_data"
    },
    {
     "name": "stdout",
     "output_type": "stream",
     "text": [
      "Epoch 58/500\n",
      "22/22 [==============================] - 19s 868ms/step - loss: 0.2965 - categorical_accuracy: 0.9128 - val_loss: 0.3107 - val_categorical_accuracy: 0.9098\n",
      "Epoch 59/500\n"
     ]
    },
    {
     "data": {
      "application/vnd.jupyter.widget-view+json": {
       "model_id": "d4deafdaaff6425ca394bb55ee8a130a",
       "version_major": 2,
       "version_minor": 0
      },
      "text/plain": [
       "0/22           ETA: ?s - "
      ]
     },
     "metadata": {},
     "output_type": "display_data"
    },
    {
     "name": "stdout",
     "output_type": "stream",
     "text": [
      "Epoch 59/500\n",
      "22/22 [==============================] - 19s 858ms/step - loss: 0.2923 - categorical_accuracy: 0.9159 - val_loss: 0.3077 - val_categorical_accuracy: 0.9090\n",
      "Epoch 60/500\n"
     ]
    },
    {
     "data": {
      "application/vnd.jupyter.widget-view+json": {
       "model_id": "07e8068e958242cdabd1879be8aa7809",
       "version_major": 2,
       "version_minor": 0
      },
      "text/plain": [
       "0/22           ETA: ?s - "
      ]
     },
     "metadata": {},
     "output_type": "display_data"
    },
    {
     "name": "stdout",
     "output_type": "stream",
     "text": [
      "Epoch 60/500\n",
      "22/22 [==============================] - 19s 851ms/step - loss: 0.2913 - categorical_accuracy: 0.9124 - val_loss: 0.3077 - val_categorical_accuracy: 0.9078\n",
      "Epoch 61/500\n"
     ]
    },
    {
     "data": {
      "application/vnd.jupyter.widget-view+json": {
       "model_id": "94d633f75e474e4ca1183059e05db221",
       "version_major": 2,
       "version_minor": 0
      },
      "text/plain": [
       "0/22           ETA: ?s - "
      ]
     },
     "metadata": {},
     "output_type": "display_data"
    },
    {
     "name": "stdout",
     "output_type": "stream",
     "text": [
      "Epoch 61/500\n",
      "22/22 [==============================] - 19s 854ms/step - loss: 0.2891 - categorical_accuracy: 0.9156 - val_loss: 0.3055 - val_categorical_accuracy: 0.9105\n",
      "Epoch 62/500\n"
     ]
    },
    {
     "data": {
      "application/vnd.jupyter.widget-view+json": {
       "model_id": "641d27b1492847479a91b36b4b8850ec",
       "version_major": 2,
       "version_minor": 0
      },
      "text/plain": [
       "0/22           ETA: ?s - "
      ]
     },
     "metadata": {},
     "output_type": "display_data"
    },
    {
     "name": "stdout",
     "output_type": "stream",
     "text": [
      "Epoch 62/500\n",
      "22/22 [==============================] - 19s 861ms/step - loss: 0.2876 - categorical_accuracy: 0.9135 - val_loss: 0.3025 - val_categorical_accuracy: 0.9109\n",
      "Epoch 63/500\n"
     ]
    },
    {
     "data": {
      "application/vnd.jupyter.widget-view+json": {
       "model_id": "87fb9d3e7c09416687bbe2a9dd57e397",
       "version_major": 2,
       "version_minor": 0
      },
      "text/plain": [
       "0/22           ETA: ?s - "
      ]
     },
     "metadata": {},
     "output_type": "display_data"
    },
    {
     "name": "stdout",
     "output_type": "stream",
     "text": [
      "Epoch 63/500\n",
      "22/22 [==============================] - 19s 877ms/step - loss: 0.2844 - categorical_accuracy: 0.9167 - val_loss: 0.3006 - val_categorical_accuracy: 0.9125\n",
      "Epoch 64/500\n"
     ]
    },
    {
     "data": {
      "application/vnd.jupyter.widget-view+json": {
       "model_id": "4f1e1eaf9c6b474ea59c1088194e385f",
       "version_major": 2,
       "version_minor": 0
      },
      "text/plain": [
       "0/22           ETA: ?s - "
      ]
     },
     "metadata": {},
     "output_type": "display_data"
    },
    {
     "name": "stdout",
     "output_type": "stream",
     "text": [
      "Epoch 64/500\n",
      "22/22 [==============================] - 19s 865ms/step - loss: 0.2819 - categorical_accuracy: 0.9177 - val_loss: 0.3000 - val_categorical_accuracy: 0.9109\n",
      "Epoch 65/500\n"
     ]
    },
    {
     "data": {
      "application/vnd.jupyter.widget-view+json": {
       "model_id": "8cf56a479f2349948abb669322990dfb",
       "version_major": 2,
       "version_minor": 0
      },
      "text/plain": [
       "0/22           ETA: ?s - "
      ]
     },
     "metadata": {},
     "output_type": "display_data"
    },
    {
     "name": "stdout",
     "output_type": "stream",
     "text": [
      "Epoch 65/500\n",
      "22/22 [==============================] - 19s 855ms/step - loss: 0.2819 - categorical_accuracy: 0.9160 - val_loss: 0.2987 - val_categorical_accuracy: 0.9137\n",
      "Epoch 66/500\n"
     ]
    },
    {
     "data": {
      "application/vnd.jupyter.widget-view+json": {
       "model_id": "d9dfe26cb76c4909b44cd41bf92d243f",
       "version_major": 2,
       "version_minor": 0
      },
      "text/plain": [
       "0/22           ETA: ?s - "
      ]
     },
     "metadata": {},
     "output_type": "display_data"
    },
    {
     "name": "stdout",
     "output_type": "stream",
     "text": [
      "Epoch 66/500\n",
      "22/22 [==============================] - 19s 855ms/step - loss: 0.2810 - categorical_accuracy: 0.9168 - val_loss: 0.2978 - val_categorical_accuracy: 0.9129\n",
      "Epoch 67/500\n"
     ]
    },
    {
     "data": {
      "application/vnd.jupyter.widget-view+json": {
       "model_id": "fd61f0e45e354fdd8c7e0c1cfd2214f4",
       "version_major": 2,
       "version_minor": 0
      },
      "text/plain": [
       "0/22           ETA: ?s - "
      ]
     },
     "metadata": {},
     "output_type": "display_data"
    },
    {
     "name": "stdout",
     "output_type": "stream",
     "text": [
      "Epoch 67/500\n",
      "22/22 [==============================] - 19s 851ms/step - loss: 0.2762 - categorical_accuracy: 0.9173 - val_loss: 0.2931 - val_categorical_accuracy: 0.9141\n",
      "Epoch 68/500\n"
     ]
    },
    {
     "data": {
      "application/vnd.jupyter.widget-view+json": {
       "model_id": "9ae0663578374f2c87cd3c36bf7a251e",
       "version_major": 2,
       "version_minor": 0
      },
      "text/plain": [
       "0/22           ETA: ?s - "
      ]
     },
     "metadata": {},
     "output_type": "display_data"
    },
    {
     "name": "stdout",
     "output_type": "stream",
     "text": [
      "Epoch 68/500\n",
      "22/22 [==============================] - 19s 862ms/step - loss: 0.2753 - categorical_accuracy: 0.9169 - val_loss: 0.2919 - val_categorical_accuracy: 0.9141\n",
      "Epoch 69/500\n"
     ]
    },
    {
     "data": {
      "application/vnd.jupyter.widget-view+json": {
       "model_id": "18d4f3d8a299423fb0aa200755ffb6e6",
       "version_major": 2,
       "version_minor": 0
      },
      "text/plain": [
       "0/22           ETA: ?s - "
      ]
     },
     "metadata": {},
     "output_type": "display_data"
    },
    {
     "name": "stdout",
     "output_type": "stream",
     "text": [
      "Epoch 69/500\n",
      "22/22 [==============================] - 19s 852ms/step - loss: 0.2727 - categorical_accuracy: 0.9176 - val_loss: 0.2916 - val_categorical_accuracy: 0.9160\n",
      "Epoch 70/500\n"
     ]
    },
    {
     "data": {
      "application/vnd.jupyter.widget-view+json": {
       "model_id": "4b32bbc3a9e141c19e14bcf6476c3c9b",
       "version_major": 2,
       "version_minor": 0
      },
      "text/plain": [
       "0/22           ETA: ?s - "
      ]
     },
     "metadata": {},
     "output_type": "display_data"
    },
    {
     "name": "stdout",
     "output_type": "stream",
     "text": [
      "Epoch 70/500\n",
      "22/22 [==============================] - 19s 857ms/step - loss: 0.2710 - categorical_accuracy: 0.9196 - val_loss: 0.2916 - val_categorical_accuracy: 0.9160\n",
      "Epoch 71/500\n"
     ]
    },
    {
     "data": {
      "application/vnd.jupyter.widget-view+json": {
       "model_id": "54f750e10a454be3802bb673dcbc0567",
       "version_major": 2,
       "version_minor": 0
      },
      "text/plain": [
       "0/22           ETA: ?s - "
      ]
     },
     "metadata": {},
     "output_type": "display_data"
    },
    {
     "name": "stdout",
     "output_type": "stream",
     "text": [
      "Epoch 71/500\n",
      "22/22 [==============================] - 19s 856ms/step - loss: 0.2670 - categorical_accuracy: 0.9224 - val_loss: 0.2874 - val_categorical_accuracy: 0.9172\n",
      "Epoch 72/500\n"
     ]
    },
    {
     "data": {
      "application/vnd.jupyter.widget-view+json": {
       "model_id": "3f34a93559c544cda0fa2780e0675047",
       "version_major": 2,
       "version_minor": 0
      },
      "text/plain": [
       "0/22           ETA: ?s - "
      ]
     },
     "metadata": {},
     "output_type": "display_data"
    },
    {
     "name": "stdout",
     "output_type": "stream",
     "text": [
      "Epoch 72/500\n",
      "22/22 [==============================] - 19s 851ms/step - loss: 0.2688 - categorical_accuracy: 0.9216 - val_loss: 0.2860 - val_categorical_accuracy: 0.9156\n",
      "Epoch 73/500\n"
     ]
    },
    {
     "data": {
      "application/vnd.jupyter.widget-view+json": {
       "model_id": "7f8e86f91cbc44f5bee673c3911400c7",
       "version_major": 2,
       "version_minor": 0
      },
      "text/plain": [
       "0/22           ETA: ?s - "
      ]
     },
     "metadata": {},
     "output_type": "display_data"
    },
    {
     "name": "stdout",
     "output_type": "stream",
     "text": [
      "Epoch 73/500\n",
      "22/22 [==============================] - 19s 849ms/step - loss: 0.2667 - categorical_accuracy: 0.9227 - val_loss: 0.2855 - val_categorical_accuracy: 0.9160\n",
      "Epoch 74/500\n"
     ]
    },
    {
     "data": {
      "application/vnd.jupyter.widget-view+json": {
       "model_id": "e1fb12036b7b4e2d97d7b9b1987a2552",
       "version_major": 2,
       "version_minor": 0
      },
      "text/plain": [
       "0/22           ETA: ?s - "
      ]
     },
     "metadata": {},
     "output_type": "display_data"
    },
    {
     "name": "stdout",
     "output_type": "stream",
     "text": [
      "Epoch 74/500\n",
      "22/22 [==============================] - 19s 855ms/step - loss: 0.2661 - categorical_accuracy: 0.9233 - val_loss: 0.2842 - val_categorical_accuracy: 0.9145\n",
      "Epoch 75/500\n"
     ]
    },
    {
     "data": {
      "application/vnd.jupyter.widget-view+json": {
       "model_id": "ceab7d09fe0f4d78a4035c0854ead27c",
       "version_major": 2,
       "version_minor": 0
      },
      "text/plain": [
       "0/22           ETA: ?s - "
      ]
     },
     "metadata": {},
     "output_type": "display_data"
    },
    {
     "name": "stdout",
     "output_type": "stream",
     "text": [
      "Epoch 75/500\n",
      "22/22 [==============================] - 19s 847ms/step - loss: 0.2676 - categorical_accuracy: 0.9205 - val_loss: 0.2814 - val_categorical_accuracy: 0.9187\n",
      "Epoch 76/500\n"
     ]
    },
    {
     "data": {
      "application/vnd.jupyter.widget-view+json": {
       "model_id": "7c2b07cdb1bf48b4a53b43f802b47e72",
       "version_major": 2,
       "version_minor": 0
      },
      "text/plain": [
       "0/22           ETA: ?s - "
      ]
     },
     "metadata": {},
     "output_type": "display_data"
    },
    {
     "name": "stdout",
     "output_type": "stream",
     "text": [
      "Epoch 76/500\n",
      "22/22 [==============================] - 19s 860ms/step - loss: 0.2621 - categorical_accuracy: 0.9239 - val_loss: 0.2805 - val_categorical_accuracy: 0.9195\n",
      "Epoch 77/500\n"
     ]
    },
    {
     "data": {
      "application/vnd.jupyter.widget-view+json": {
       "model_id": "a424fd3f10ba4767a4a01bd1353bf1da",
       "version_major": 2,
       "version_minor": 0
      },
      "text/plain": [
       "0/22           ETA: ?s - "
      ]
     },
     "metadata": {},
     "output_type": "display_data"
    },
    {
     "name": "stdout",
     "output_type": "stream",
     "text": [
      "Epoch 77/500\n",
      "22/22 [==============================] - 19s 852ms/step - loss: 0.2640 - categorical_accuracy: 0.9222 - val_loss: 0.2791 - val_categorical_accuracy: 0.9219\n",
      "Epoch 78/500\n"
     ]
    },
    {
     "data": {
      "application/vnd.jupyter.widget-view+json": {
       "model_id": "b5b12c07f18d46de8070fdbffb24b497",
       "version_major": 2,
       "version_minor": 0
      },
      "text/plain": [
       "0/22           ETA: ?s - "
      ]
     },
     "metadata": {},
     "output_type": "display_data"
    },
    {
     "name": "stdout",
     "output_type": "stream",
     "text": [
      "Epoch 78/500\n",
      "22/22 [==============================] - 19s 858ms/step - loss: 0.2632 - categorical_accuracy: 0.9223 - val_loss: 0.2778 - val_categorical_accuracy: 0.9199\n",
      "Epoch 79/500\n"
     ]
    },
    {
     "data": {
      "application/vnd.jupyter.widget-view+json": {
       "model_id": "73304b3aee4c4c32ad15f7dca2678595",
       "version_major": 2,
       "version_minor": 0
      },
      "text/plain": [
       "0/22           ETA: ?s - "
      ]
     },
     "metadata": {},
     "output_type": "display_data"
    },
    {
     "name": "stdout",
     "output_type": "stream",
     "text": [
      "Epoch 79/500\n",
      "22/22 [==============================] - 19s 861ms/step - loss: 0.2578 - categorical_accuracy: 0.9240 - val_loss: 0.2761 - val_categorical_accuracy: 0.9168\n",
      "Epoch 80/500\n"
     ]
    },
    {
     "data": {
      "application/vnd.jupyter.widget-view+json": {
       "model_id": "ba6812679e8a44a59378b8f2f6271765",
       "version_major": 2,
       "version_minor": 0
      },
      "text/plain": [
       "0/22           ETA: ?s - "
      ]
     },
     "metadata": {},
     "output_type": "display_data"
    },
    {
     "name": "stdout",
     "output_type": "stream",
     "text": [
      "Epoch 80/500\n",
      "22/22 [==============================] - 19s 857ms/step - loss: 0.2559 - categorical_accuracy: 0.9259 - val_loss: 0.2752 - val_categorical_accuracy: 0.9191\n",
      "Epoch 81/500\n"
     ]
    },
    {
     "data": {
      "application/vnd.jupyter.widget-view+json": {
       "model_id": "5475dd126f30413d9870b6dbed1b41fc",
       "version_major": 2,
       "version_minor": 0
      },
      "text/plain": [
       "0/22           ETA: ?s - "
      ]
     },
     "metadata": {},
     "output_type": "display_data"
    },
    {
     "name": "stdout",
     "output_type": "stream",
     "text": [
      "Epoch 81/500\n",
      "22/22 [==============================] - 19s 854ms/step - loss: 0.2576 - categorical_accuracy: 0.9268 - val_loss: 0.2745 - val_categorical_accuracy: 0.9207\n",
      "Epoch 82/500\n"
     ]
    },
    {
     "data": {
      "application/vnd.jupyter.widget-view+json": {
       "model_id": "19d7d2f691024855b33c7dcda1cee6e8",
       "version_major": 2,
       "version_minor": 0
      },
      "text/plain": [
       "0/22           ETA: ?s - "
      ]
     },
     "metadata": {},
     "output_type": "display_data"
    },
    {
     "name": "stdout",
     "output_type": "stream",
     "text": [
      "Epoch 82/500\n",
      "22/22 [==============================] - 19s 864ms/step - loss: 0.2525 - categorical_accuracy: 0.9271 - val_loss: 0.2719 - val_categorical_accuracy: 0.9184\n",
      "Epoch 83/500\n"
     ]
    },
    {
     "data": {
      "application/vnd.jupyter.widget-view+json": {
       "model_id": "bf767a5aa98e414baf7ef3f1f2725466",
       "version_major": 2,
       "version_minor": 0
      },
      "text/plain": [
       "0/22           ETA: ?s - "
      ]
     },
     "metadata": {},
     "output_type": "display_data"
    },
    {
     "name": "stdout",
     "output_type": "stream",
     "text": [
      "Epoch 83/500\n",
      "22/22 [==============================] - 19s 855ms/step - loss: 0.2523 - categorical_accuracy: 0.9246 - val_loss: 0.2719 - val_categorical_accuracy: 0.9187\n",
      "Epoch 84/500\n"
     ]
    },
    {
     "data": {
      "application/vnd.jupyter.widget-view+json": {
       "model_id": "3f6e2c350b3a413e89a9f2f7e6dde7fd",
       "version_major": 2,
       "version_minor": 0
      },
      "text/plain": [
       "0/22           ETA: ?s - "
      ]
     },
     "metadata": {},
     "output_type": "display_data"
    },
    {
     "name": "stdout",
     "output_type": "stream",
     "text": [
      "Epoch 84/500\n",
      "22/22 [==============================] - 19s 858ms/step - loss: 0.2524 - categorical_accuracy: 0.9270 - val_loss: 0.2694 - val_categorical_accuracy: 0.9184\n",
      "Epoch 85/500\n"
     ]
    },
    {
     "data": {
      "application/vnd.jupyter.widget-view+json": {
       "model_id": "7415fe2c8e504117bb1c00006fef987c",
       "version_major": 2,
       "version_minor": 0
      },
      "text/plain": [
       "0/22           ETA: ?s - "
      ]
     },
     "metadata": {},
     "output_type": "display_data"
    },
    {
     "name": "stdout",
     "output_type": "stream",
     "text": [
      "Epoch 85/500\n",
      "22/22 [==============================] - 19s 853ms/step - loss: 0.2497 - categorical_accuracy: 0.9274 - val_loss: 0.2681 - val_categorical_accuracy: 0.9207\n",
      "Epoch 86/500\n"
     ]
    },
    {
     "data": {
      "application/vnd.jupyter.widget-view+json": {
       "model_id": "226bd4453c7d40c08b9b352484b5c78d",
       "version_major": 2,
       "version_minor": 0
      },
      "text/plain": [
       "0/22           ETA: ?s - "
      ]
     },
     "metadata": {},
     "output_type": "display_data"
    },
    {
     "name": "stdout",
     "output_type": "stream",
     "text": [
      "Epoch 86/500\n",
      "22/22 [==============================] - 19s 861ms/step - loss: 0.2509 - categorical_accuracy: 0.9263 - val_loss: 0.2680 - val_categorical_accuracy: 0.9219\n",
      "Epoch 87/500\n"
     ]
    },
    {
     "data": {
      "application/vnd.jupyter.widget-view+json": {
       "model_id": "f2badba2c45140bd967618cafcab9cb1",
       "version_major": 2,
       "version_minor": 0
      },
      "text/plain": [
       "0/22           ETA: ?s - "
      ]
     },
     "metadata": {},
     "output_type": "display_data"
    },
    {
     "name": "stdout",
     "output_type": "stream",
     "text": [
      "Epoch 87/500\n",
      "22/22 [==============================] - 19s 854ms/step - loss: 0.2511 - categorical_accuracy: 0.9245 - val_loss: 0.2652 - val_categorical_accuracy: 0.9227\n",
      "Epoch 88/500\n"
     ]
    },
    {
     "data": {
      "application/vnd.jupyter.widget-view+json": {
       "model_id": "a126265294bc48099a7fe8e92d67df88",
       "version_major": 2,
       "version_minor": 0
      },
      "text/plain": [
       "0/22           ETA: ?s - "
      ]
     },
     "metadata": {},
     "output_type": "display_data"
    },
    {
     "name": "stdout",
     "output_type": "stream",
     "text": [
      "Epoch 88/500\n",
      "22/22 [==============================] - 19s 865ms/step - loss: 0.2469 - categorical_accuracy: 0.9293 - val_loss: 0.2640 - val_categorical_accuracy: 0.9215\n",
      "Epoch 89/500\n"
     ]
    },
    {
     "data": {
      "application/vnd.jupyter.widget-view+json": {
       "model_id": "7c3ac3358ab24a0ea42bdd9ff639cabe",
       "version_major": 2,
       "version_minor": 0
      },
      "text/plain": [
       "0/22           ETA: ?s - "
      ]
     },
     "metadata": {},
     "output_type": "display_data"
    },
    {
     "name": "stdout",
     "output_type": "stream",
     "text": [
      "Epoch 89/500\n",
      "22/22 [==============================] - 19s 859ms/step - loss: 0.2450 - categorical_accuracy: 0.9292 - val_loss: 0.2654 - val_categorical_accuracy: 0.9238\n",
      "Epoch 90/500\n"
     ]
    },
    {
     "data": {
      "application/vnd.jupyter.widget-view+json": {
       "model_id": "860cec53445b40479715dc38d0cdd2b4",
       "version_major": 2,
       "version_minor": 0
      },
      "text/plain": [
       "0/22           ETA: ?s - "
      ]
     },
     "metadata": {},
     "output_type": "display_data"
    },
    {
     "name": "stdout",
     "output_type": "stream",
     "text": [
      "Epoch 90/500\n",
      "22/22 [==============================] - 19s 858ms/step - loss: 0.2455 - categorical_accuracy: 0.9297 - val_loss: 0.2643 - val_categorical_accuracy: 0.9254\n",
      "Epoch 91/500\n"
     ]
    },
    {
     "data": {
      "application/vnd.jupyter.widget-view+json": {
       "model_id": "f6257434cb814f689b4ee904c333ff37",
       "version_major": 2,
       "version_minor": 0
      },
      "text/plain": [
       "0/22           ETA: ?s - "
      ]
     },
     "metadata": {},
     "output_type": "display_data"
    },
    {
     "name": "stdout",
     "output_type": "stream",
     "text": [
      "Epoch 91/500\n",
      "22/22 [==============================] - 19s 848ms/step - loss: 0.2418 - categorical_accuracy: 0.9310 - val_loss: 0.2600 - val_categorical_accuracy: 0.9230\n",
      "Epoch 92/500\n"
     ]
    },
    {
     "data": {
      "application/vnd.jupyter.widget-view+json": {
       "model_id": "586b92042dd5421faf4274931e859bea",
       "version_major": 2,
       "version_minor": 0
      },
      "text/plain": [
       "0/22           ETA: ?s - "
      ]
     },
     "metadata": {},
     "output_type": "display_data"
    },
    {
     "name": "stdout",
     "output_type": "stream",
     "text": [
      "Epoch 92/500\n",
      "22/22 [==============================] - 19s 856ms/step - loss: 0.2417 - categorical_accuracy: 0.9274 - val_loss: 0.2587 - val_categorical_accuracy: 0.9227\n",
      "Epoch 93/500\n"
     ]
    },
    {
     "data": {
      "application/vnd.jupyter.widget-view+json": {
       "model_id": "6921dc79cb274cc182150ba0bcaf2d63",
       "version_major": 2,
       "version_minor": 0
      },
      "text/plain": [
       "0/22           ETA: ?s - "
      ]
     },
     "metadata": {},
     "output_type": "display_data"
    },
    {
     "name": "stdout",
     "output_type": "stream",
     "text": [
      "Epoch 93/500\n",
      "22/22 [==============================] - 19s 849ms/step - loss: 0.2394 - categorical_accuracy: 0.9310 - val_loss: 0.2586 - val_categorical_accuracy: 0.9246\n",
      "Epoch 94/500\n"
     ]
    },
    {
     "data": {
      "application/vnd.jupyter.widget-view+json": {
       "model_id": "0c6a83ebbf7046bca081283c9b895dec",
       "version_major": 2,
       "version_minor": 0
      },
      "text/plain": [
       "0/22           ETA: ?s - "
      ]
     },
     "metadata": {},
     "output_type": "display_data"
    },
    {
     "name": "stdout",
     "output_type": "stream",
     "text": [
      "Epoch 94/500\n",
      "22/22 [==============================] - 19s 859ms/step - loss: 0.2402 - categorical_accuracy: 0.9303 - val_loss: 0.2574 - val_categorical_accuracy: 0.9250\n",
      "Epoch 95/500\n"
     ]
    },
    {
     "data": {
      "application/vnd.jupyter.widget-view+json": {
       "model_id": "bafddc0c17a1424fb4d84454581259ae",
       "version_major": 2,
       "version_minor": 0
      },
      "text/plain": [
       "0/22           ETA: ?s - "
      ]
     },
     "metadata": {},
     "output_type": "display_data"
    },
    {
     "name": "stdout",
     "output_type": "stream",
     "text": [
      "Epoch 95/500\n",
      "22/22 [==============================] - 19s 855ms/step - loss: 0.2433 - categorical_accuracy: 0.9274 - val_loss: 0.2559 - val_categorical_accuracy: 0.9254\n",
      "Epoch 96/500\n"
     ]
    },
    {
     "data": {
      "application/vnd.jupyter.widget-view+json": {
       "model_id": "8f493a5986b64534872bb14904988d82",
       "version_major": 2,
       "version_minor": 0
      },
      "text/plain": [
       "0/22           ETA: ?s - "
      ]
     },
     "metadata": {},
     "output_type": "display_data"
    },
    {
     "name": "stdout",
     "output_type": "stream",
     "text": [
      "Epoch 96/500\n",
      "22/22 [==============================] - 19s 866ms/step - loss: 0.2378 - categorical_accuracy: 0.9301 - val_loss: 0.2553 - val_categorical_accuracy: 0.9254\n",
      "Epoch 97/500\n"
     ]
    },
    {
     "data": {
      "application/vnd.jupyter.widget-view+json": {
       "model_id": "581395ed4cc149178427d5858b205aba",
       "version_major": 2,
       "version_minor": 0
      },
      "text/plain": [
       "0/22           ETA: ?s - "
      ]
     },
     "metadata": {},
     "output_type": "display_data"
    },
    {
     "name": "stdout",
     "output_type": "stream",
     "text": [
      "Epoch 97/500\n",
      "22/22 [==============================] - 19s 851ms/step - loss: 0.2390 - categorical_accuracy: 0.9315 - val_loss: 0.2541 - val_categorical_accuracy: 0.9270\n",
      "Epoch 98/500\n"
     ]
    },
    {
     "data": {
      "application/vnd.jupyter.widget-view+json": {
       "model_id": "3d21a748751545b2986d5247f78f8cef",
       "version_major": 2,
       "version_minor": 0
      },
      "text/plain": [
       "0/22           ETA: ?s - "
      ]
     },
     "metadata": {},
     "output_type": "display_data"
    },
    {
     "name": "stdout",
     "output_type": "stream",
     "text": [
      "Epoch 98/500\n",
      "22/22 [==============================] - 19s 855ms/step - loss: 0.2356 - categorical_accuracy: 0.9302 - val_loss: 0.2529 - val_categorical_accuracy: 0.9266\n",
      "Epoch 99/500\n"
     ]
    },
    {
     "data": {
      "application/vnd.jupyter.widget-view+json": {
       "model_id": "d29cc9f2348047e5b362ea14d98e57e3",
       "version_major": 2,
       "version_minor": 0
      },
      "text/plain": [
       "0/22           ETA: ?s - "
      ]
     },
     "metadata": {},
     "output_type": "display_data"
    },
    {
     "name": "stdout",
     "output_type": "stream",
     "text": [
      "Epoch 99/500\n",
      "22/22 [==============================] - 19s 859ms/step - loss: 0.2351 - categorical_accuracy: 0.9324 - val_loss: 0.2540 - val_categorical_accuracy: 0.9285\n",
      "Epoch 100/500\n"
     ]
    },
    {
     "data": {
      "application/vnd.jupyter.widget-view+json": {
       "model_id": "045c95de60934fe88f1663f6500de235",
       "version_major": 2,
       "version_minor": 0
      },
      "text/plain": [
       "0/22           ETA: ?s - "
      ]
     },
     "metadata": {},
     "output_type": "display_data"
    },
    {
     "name": "stdout",
     "output_type": "stream",
     "text": [
      "Epoch 100/500\n",
      "22/22 [==============================] - 19s 860ms/step - loss: 0.2349 - categorical_accuracy: 0.9313 - val_loss: 0.2517 - val_categorical_accuracy: 0.9270\n",
      "Epoch 101/500\n"
     ]
    },
    {
     "data": {
      "application/vnd.jupyter.widget-view+json": {
       "model_id": "26a5c66c52be48d78cfefe496d5806de",
       "version_major": 2,
       "version_minor": 0
      },
      "text/plain": [
       "0/22           ETA: ?s - "
      ]
     },
     "metadata": {},
     "output_type": "display_data"
    },
    {
     "name": "stdout",
     "output_type": "stream",
     "text": [
      "Epoch 101/500\n",
      "22/22 [==============================] - 19s 854ms/step - loss: 0.2333 - categorical_accuracy: 0.9308 - val_loss: 0.2503 - val_categorical_accuracy: 0.9273\n",
      "Epoch 102/500\n"
     ]
    },
    {
     "data": {
      "application/vnd.jupyter.widget-view+json": {
       "model_id": "4ddc63ea74b5478c923b3870126aa2eb",
       "version_major": 2,
       "version_minor": 0
      },
      "text/plain": [
       "0/22           ETA: ?s - "
      ]
     },
     "metadata": {},
     "output_type": "display_data"
    },
    {
     "name": "stdout",
     "output_type": "stream",
     "text": [
      "Epoch 102/500\n",
      "22/22 [==============================] - 19s 855ms/step - loss: 0.2325 - categorical_accuracy: 0.9317 - val_loss: 0.2484 - val_categorical_accuracy: 0.9270\n",
      "Epoch 103/500\n"
     ]
    },
    {
     "data": {
      "application/vnd.jupyter.widget-view+json": {
       "model_id": "58d9b559188a47ada58c2ec5b3bed44e",
       "version_major": 2,
       "version_minor": 0
      },
      "text/plain": [
       "0/22           ETA: ?s - "
      ]
     },
     "metadata": {},
     "output_type": "display_data"
    },
    {
     "name": "stdout",
     "output_type": "stream",
     "text": [
      "Epoch 103/500\n",
      "22/22 [==============================] - 19s 859ms/step - loss: 0.2265 - categorical_accuracy: 0.9339 - val_loss: 0.2466 - val_categorical_accuracy: 0.9281\n",
      "Epoch 104/500\n"
     ]
    },
    {
     "data": {
      "application/vnd.jupyter.widget-view+json": {
       "model_id": "7f9c61b1d1e34cba8cd39900a6fdf011",
       "version_major": 2,
       "version_minor": 0
      },
      "text/plain": [
       "0/22           ETA: ?s - "
      ]
     },
     "metadata": {},
     "output_type": "display_data"
    },
    {
     "name": "stdout",
     "output_type": "stream",
     "text": [
      "Epoch 104/500\n",
      "22/22 [==============================] - 19s 863ms/step - loss: 0.2303 - categorical_accuracy: 0.9325 - val_loss: 0.2464 - val_categorical_accuracy: 0.9270\n",
      "Epoch 105/500\n"
     ]
    },
    {
     "data": {
      "application/vnd.jupyter.widget-view+json": {
       "model_id": "9e9c5a3157d94424ba65a591005d24ff",
       "version_major": 2,
       "version_minor": 0
      },
      "text/plain": [
       "0/22           ETA: ?s - "
      ]
     },
     "metadata": {},
     "output_type": "display_data"
    },
    {
     "name": "stdout",
     "output_type": "stream",
     "text": [
      "Epoch 105/500\n",
      "22/22 [==============================] - 19s 861ms/step - loss: 0.2283 - categorical_accuracy: 0.9333 - val_loss: 0.2451 - val_categorical_accuracy: 0.9285\n",
      "Epoch 106/500\n"
     ]
    },
    {
     "data": {
      "application/vnd.jupyter.widget-view+json": {
       "model_id": "116dee0731a74a80be74b1b287fbc177",
       "version_major": 2,
       "version_minor": 0
      },
      "text/plain": [
       "0/22           ETA: ?s - "
      ]
     },
     "metadata": {},
     "output_type": "display_data"
    },
    {
     "name": "stdout",
     "output_type": "stream",
     "text": [
      "Epoch 106/500\n",
      "22/22 [==============================] - 19s 869ms/step - loss: 0.2284 - categorical_accuracy: 0.9320 - val_loss: 0.2453 - val_categorical_accuracy: 0.9289\n",
      "Epoch 107/500\n"
     ]
    },
    {
     "data": {
      "application/vnd.jupyter.widget-view+json": {
       "model_id": "80224997647847ed8abbb23f65d6fa50",
       "version_major": 2,
       "version_minor": 0
      },
      "text/plain": [
       "0/22           ETA: ?s - "
      ]
     },
     "metadata": {},
     "output_type": "display_data"
    },
    {
     "name": "stdout",
     "output_type": "stream",
     "text": [
      "Epoch 107/500\n",
      "22/22 [==============================] - 19s 861ms/step - loss: 0.2259 - categorical_accuracy: 0.9352 - val_loss: 0.2439 - val_categorical_accuracy: 0.9305\n",
      "Epoch 108/500\n"
     ]
    },
    {
     "data": {
      "application/vnd.jupyter.widget-view+json": {
       "model_id": "ab134e1b95524f53b8f57c8fe748770d",
       "version_major": 2,
       "version_minor": 0
      },
      "text/plain": [
       "0/22           ETA: ?s - "
      ]
     },
     "metadata": {},
     "output_type": "display_data"
    },
    {
     "name": "stdout",
     "output_type": "stream",
     "text": [
      "Epoch 108/500\n",
      "22/22 [==============================] - 19s 868ms/step - loss: 0.2290 - categorical_accuracy: 0.9316 - val_loss: 0.2419 - val_categorical_accuracy: 0.9289\n",
      "Epoch 109/500\n"
     ]
    },
    {
     "data": {
      "application/vnd.jupyter.widget-view+json": {
       "model_id": "0bcf7c5727024f7abb4922f403c7a550",
       "version_major": 2,
       "version_minor": 0
      },
      "text/plain": [
       "0/22           ETA: ?s - "
      ]
     },
     "metadata": {},
     "output_type": "display_data"
    },
    {
     "name": "stdout",
     "output_type": "stream",
     "text": [
      "Epoch 109/500\n",
      "22/22 [==============================] - 19s 873ms/step - loss: 0.2226 - categorical_accuracy: 0.9358 - val_loss: 0.2415 - val_categorical_accuracy: 0.9320\n",
      "Epoch 110/500\n"
     ]
    },
    {
     "data": {
      "application/vnd.jupyter.widget-view+json": {
       "model_id": "7255fc5f3cf04ce4a56d08ae6c612c2a",
       "version_major": 2,
       "version_minor": 0
      },
      "text/plain": [
       "0/22           ETA: ?s - "
      ]
     },
     "metadata": {},
     "output_type": "display_data"
    },
    {
     "name": "stdout",
     "output_type": "stream",
     "text": [
      "Epoch 110/500\n",
      "22/22 [==============================] - 19s 852ms/step - loss: 0.2236 - categorical_accuracy: 0.9348 - val_loss: 0.2403 - val_categorical_accuracy: 0.9293\n",
      "Epoch 111/500\n"
     ]
    },
    {
     "data": {
      "application/vnd.jupyter.widget-view+json": {
       "model_id": "a93defa487e24ca181b8b99f1131afb8",
       "version_major": 2,
       "version_minor": 0
      },
      "text/plain": [
       "0/22           ETA: ?s - "
      ]
     },
     "metadata": {},
     "output_type": "display_data"
    },
    {
     "name": "stdout",
     "output_type": "stream",
     "text": [
      "Epoch 111/500\n",
      "22/22 [==============================] - 19s 876ms/step - loss: 0.2233 - categorical_accuracy: 0.9356 - val_loss: 0.2392 - val_categorical_accuracy: 0.9336\n",
      "Epoch 112/500\n"
     ]
    },
    {
     "data": {
      "application/vnd.jupyter.widget-view+json": {
       "model_id": "7b6882e3b73c4584ae2ae27b660a4b32",
       "version_major": 2,
       "version_minor": 0
      },
      "text/plain": [
       "0/22           ETA: ?s - "
      ]
     },
     "metadata": {},
     "output_type": "display_data"
    },
    {
     "name": "stdout",
     "output_type": "stream",
     "text": [
      "Epoch 112/500\n",
      "22/22 [==============================] - 19s 866ms/step - loss: 0.2207 - categorical_accuracy: 0.9382 - val_loss: 0.2392 - val_categorical_accuracy: 0.9289\n",
      "Epoch 113/500\n"
     ]
    },
    {
     "data": {
      "application/vnd.jupyter.widget-view+json": {
       "model_id": "725bf946a69c4129ac569c724a4a2b84",
       "version_major": 2,
       "version_minor": 0
      },
      "text/plain": [
       "0/22           ETA: ?s - "
      ]
     },
     "metadata": {},
     "output_type": "display_data"
    },
    {
     "name": "stdout",
     "output_type": "stream",
     "text": [
      "Epoch 113/500\n",
      "22/22 [==============================] - 19s 847ms/step - loss: 0.2214 - categorical_accuracy: 0.9328 - val_loss: 0.2355 - val_categorical_accuracy: 0.9285\n",
      "Epoch 114/500\n"
     ]
    },
    {
     "data": {
      "application/vnd.jupyter.widget-view+json": {
       "model_id": "b69e58ae2d2e4643ac83a0215002b43b",
       "version_major": 2,
       "version_minor": 0
      },
      "text/plain": [
       "0/22           ETA: ?s - "
      ]
     },
     "metadata": {},
     "output_type": "display_data"
    },
    {
     "name": "stdout",
     "output_type": "stream",
     "text": [
      "Epoch 114/500\n",
      "22/22 [==============================] - 19s 850ms/step - loss: 0.2226 - categorical_accuracy: 0.9337 - val_loss: 0.2357 - val_categorical_accuracy: 0.9297\n",
      "Epoch 115/500\n"
     ]
    },
    {
     "data": {
      "application/vnd.jupyter.widget-view+json": {
       "model_id": "1978fc78a4934a6e82aa5a1284bb874c",
       "version_major": 2,
       "version_minor": 0
      },
      "text/plain": [
       "0/22           ETA: ?s - "
      ]
     },
     "metadata": {},
     "output_type": "display_data"
    },
    {
     "name": "stdout",
     "output_type": "stream",
     "text": [
      "Epoch 115/500\n",
      "22/22 [==============================] - 19s 872ms/step - loss: 0.2183 - categorical_accuracy: 0.9367 - val_loss: 0.2355 - val_categorical_accuracy: 0.9297\n",
      "Epoch 116/500\n"
     ]
    },
    {
     "data": {
      "application/vnd.jupyter.widget-view+json": {
       "model_id": "6489cd9b4c5643bfa17b73cb192d73ff",
       "version_major": 2,
       "version_minor": 0
      },
      "text/plain": [
       "0/22           ETA: ?s - "
      ]
     },
     "metadata": {},
     "output_type": "display_data"
    },
    {
     "name": "stdout",
     "output_type": "stream",
     "text": [
      "Epoch 116/500\n",
      "22/22 [==============================] - 19s 861ms/step - loss: 0.2169 - categorical_accuracy: 0.9359 - val_loss: 0.2342 - val_categorical_accuracy: 0.9309\n",
      "Epoch 117/500\n"
     ]
    },
    {
     "data": {
      "application/vnd.jupyter.widget-view+json": {
       "model_id": "ab320a8ff6dc4da695cdb863433664c3",
       "version_major": 2,
       "version_minor": 0
      },
      "text/plain": [
       "0/22           ETA: ?s - "
      ]
     },
     "metadata": {},
     "output_type": "display_data"
    },
    {
     "name": "stdout",
     "output_type": "stream",
     "text": [
      "Epoch 117/500\n",
      "22/22 [==============================] - 19s 851ms/step - loss: 0.2185 - categorical_accuracy: 0.9359 - val_loss: 0.2333 - val_categorical_accuracy: 0.9320\n",
      "Epoch 118/500\n"
     ]
    },
    {
     "data": {
      "application/vnd.jupyter.widget-view+json": {
       "model_id": "ad319e5af2a14ce18144b7e3e6fb2976",
       "version_major": 2,
       "version_minor": 0
      },
      "text/plain": [
       "0/22           ETA: ?s - "
      ]
     },
     "metadata": {},
     "output_type": "display_data"
    },
    {
     "name": "stdout",
     "output_type": "stream",
     "text": [
      "Epoch 118/500\n",
      "22/22 [==============================] - 18s 844ms/step - loss: 0.2145 - categorical_accuracy: 0.9391 - val_loss: 0.2334 - val_categorical_accuracy: 0.9297\n",
      "Epoch 119/500\n"
     ]
    },
    {
     "data": {
      "application/vnd.jupyter.widget-view+json": {
       "model_id": "39d324fbeb074a2d8af9472dc06e4554",
       "version_major": 2,
       "version_minor": 0
      },
      "text/plain": [
       "0/22           ETA: ?s - "
      ]
     },
     "metadata": {},
     "output_type": "display_data"
    },
    {
     "name": "stdout",
     "output_type": "stream",
     "text": [
      "Epoch 119/500\n",
      "22/22 [==============================] - 19s 876ms/step - loss: 0.2145 - categorical_accuracy: 0.9358 - val_loss: 0.2333 - val_categorical_accuracy: 0.9352\n",
      "Epoch 120/500\n"
     ]
    },
    {
     "data": {
      "application/vnd.jupyter.widget-view+json": {
       "model_id": "32b2f4f942c84a258862cd49f81d09d5",
       "version_major": 2,
       "version_minor": 0
      },
      "text/plain": [
       "0/22           ETA: ?s - "
      ]
     },
     "metadata": {},
     "output_type": "display_data"
    },
    {
     "name": "stdout",
     "output_type": "stream",
     "text": [
      "Epoch 120/500\n",
      "22/22 [==============================] - 19s 858ms/step - loss: 0.2139 - categorical_accuracy: 0.9382 - val_loss: 0.2323 - val_categorical_accuracy: 0.9332\n",
      "Epoch 121/500\n"
     ]
    },
    {
     "data": {
      "application/vnd.jupyter.widget-view+json": {
       "model_id": "fa730e94b7894990b6703818ca444cb8",
       "version_major": 2,
       "version_minor": 0
      },
      "text/plain": [
       "0/22           ETA: ?s - "
      ]
     },
     "metadata": {},
     "output_type": "display_data"
    },
    {
     "name": "stdout",
     "output_type": "stream",
     "text": [
      "Epoch 121/500\n",
      "22/22 [==============================] - 19s 861ms/step - loss: 0.2125 - categorical_accuracy: 0.9399 - val_loss: 0.2312 - val_categorical_accuracy: 0.9328\n",
      "Epoch 122/500\n"
     ]
    },
    {
     "data": {
      "application/vnd.jupyter.widget-view+json": {
       "model_id": "6f00344b433b42388a1ad6d472a93d93",
       "version_major": 2,
       "version_minor": 0
      },
      "text/plain": [
       "0/22           ETA: ?s - "
      ]
     },
     "metadata": {},
     "output_type": "display_data"
    },
    {
     "name": "stdout",
     "output_type": "stream",
     "text": [
      "Epoch 122/500\n",
      "22/22 [==============================] - 19s 867ms/step - loss: 0.2103 - categorical_accuracy: 0.9401 - val_loss: 0.2289 - val_categorical_accuracy: 0.9332\n",
      "Epoch 123/500\n"
     ]
    },
    {
     "data": {
      "application/vnd.jupyter.widget-view+json": {
       "model_id": "3bed09b85b01404facb658e00769f783",
       "version_major": 2,
       "version_minor": 0
      },
      "text/plain": [
       "0/22           ETA: ?s - "
      ]
     },
     "metadata": {},
     "output_type": "display_data"
    },
    {
     "name": "stdout",
     "output_type": "stream",
     "text": [
      "Epoch 123/500\n",
      "22/22 [==============================] - 19s 872ms/step - loss: 0.2101 - categorical_accuracy: 0.9378 - val_loss: 0.2281 - val_categorical_accuracy: 0.9293\n",
      "Epoch 124/500\n"
     ]
    },
    {
     "data": {
      "application/vnd.jupyter.widget-view+json": {
       "model_id": "5fda5220e01e47dbbecb05142abfda95",
       "version_major": 2,
       "version_minor": 0
      },
      "text/plain": [
       "0/22           ETA: ?s - "
      ]
     },
     "metadata": {},
     "output_type": "display_data"
    },
    {
     "name": "stdout",
     "output_type": "stream",
     "text": [
      "Epoch 124/500\n",
      "22/22 [==============================] - 19s 852ms/step - loss: 0.2096 - categorical_accuracy: 0.9385 - val_loss: 0.2293 - val_categorical_accuracy: 0.9316\n",
      "Epoch 125/500\n"
     ]
    },
    {
     "data": {
      "application/vnd.jupyter.widget-view+json": {
       "model_id": "51356b11109f4e3283cedc362b046a0f",
       "version_major": 2,
       "version_minor": 0
      },
      "text/plain": [
       "0/22           ETA: ?s - "
      ]
     },
     "metadata": {},
     "output_type": "display_data"
    },
    {
     "name": "stdout",
     "output_type": "stream",
     "text": [
      "Epoch 125/500\n",
      "22/22 [==============================] - 19s 856ms/step - loss: 0.2098 - categorical_accuracy: 0.9377 - val_loss: 0.2270 - val_categorical_accuracy: 0.9355\n",
      "Epoch 126/500\n"
     ]
    },
    {
     "data": {
      "application/vnd.jupyter.widget-view+json": {
       "model_id": "8f716ff3432a49ac8707a2c680669d9b",
       "version_major": 2,
       "version_minor": 0
      },
      "text/plain": [
       "0/22           ETA: ?s - "
      ]
     },
     "metadata": {},
     "output_type": "display_data"
    },
    {
     "name": "stdout",
     "output_type": "stream",
     "text": [
      "Epoch 126/500\n",
      "22/22 [==============================] - 19s 853ms/step - loss: 0.2090 - categorical_accuracy: 0.9385 - val_loss: 0.2265 - val_categorical_accuracy: 0.9359\n",
      "Epoch 127/500\n"
     ]
    },
    {
     "data": {
      "application/vnd.jupyter.widget-view+json": {
       "model_id": "3436c5e67a95487ea89ced46e8a4ea72",
       "version_major": 2,
       "version_minor": 0
      },
      "text/plain": [
       "0/22           ETA: ?s - "
      ]
     },
     "metadata": {},
     "output_type": "display_data"
    },
    {
     "name": "stdout",
     "output_type": "stream",
     "text": [
      "Epoch 127/500\n",
      "22/22 [==============================] - 19s 853ms/step - loss: 0.2096 - categorical_accuracy: 0.9397 - val_loss: 0.2262 - val_categorical_accuracy: 0.9328\n",
      "Epoch 128/500\n"
     ]
    },
    {
     "data": {
      "application/vnd.jupyter.widget-view+json": {
       "model_id": "58707984a23f4c76867a9a345c0fffd2",
       "version_major": 2,
       "version_minor": 0
      },
      "text/plain": [
       "0/22           ETA: ?s - "
      ]
     },
     "metadata": {},
     "output_type": "display_data"
    },
    {
     "name": "stdout",
     "output_type": "stream",
     "text": [
      "Epoch 128/500\n",
      "22/22 [==============================] - 19s 857ms/step - loss: 0.2096 - categorical_accuracy: 0.9392 - val_loss: 0.2241 - val_categorical_accuracy: 0.9355\n",
      "Epoch 129/500\n"
     ]
    },
    {
     "data": {
      "application/vnd.jupyter.widget-view+json": {
       "model_id": "5a8b169b9a6942dcb0f3ecc7128c5ecb",
       "version_major": 2,
       "version_minor": 0
      },
      "text/plain": [
       "0/22           ETA: ?s - "
      ]
     },
     "metadata": {},
     "output_type": "display_data"
    },
    {
     "name": "stdout",
     "output_type": "stream",
     "text": [
      "Epoch 129/500\n",
      "22/22 [==============================] - 19s 850ms/step - loss: 0.2084 - categorical_accuracy: 0.9393 - val_loss: 0.2245 - val_categorical_accuracy: 0.9348\n",
      "Epoch 130/500\n"
     ]
    },
    {
     "data": {
      "application/vnd.jupyter.widget-view+json": {
       "model_id": "4cb52f6b8b0e44678644e346851a6771",
       "version_major": 2,
       "version_minor": 0
      },
      "text/plain": [
       "0/22           ETA: ?s - "
      ]
     },
     "metadata": {},
     "output_type": "display_data"
    },
    {
     "name": "stdout",
     "output_type": "stream",
     "text": [
      "Epoch 130/500\n",
      "22/22 [==============================] - 19s 858ms/step - loss: 0.2051 - categorical_accuracy: 0.9374 - val_loss: 0.2226 - val_categorical_accuracy: 0.9332\n",
      "Epoch 131/500\n"
     ]
    },
    {
     "data": {
      "application/vnd.jupyter.widget-view+json": {
       "model_id": "c3a23e2c9a134ee1bd07a56ee630d52f",
       "version_major": 2,
       "version_minor": 0
      },
      "text/plain": [
       "0/22           ETA: ?s - "
      ]
     },
     "metadata": {},
     "output_type": "display_data"
    },
    {
     "name": "stdout",
     "output_type": "stream",
     "text": [
      "Epoch 131/500\n",
      "22/22 [==============================] - 19s 848ms/step - loss: 0.2056 - categorical_accuracy: 0.9412 - val_loss: 0.2221 - val_categorical_accuracy: 0.9363\n",
      "Epoch 132/500\n"
     ]
    },
    {
     "data": {
      "application/vnd.jupyter.widget-view+json": {
       "model_id": "ef17d0dd5b9844a3933b466431dd4317",
       "version_major": 2,
       "version_minor": 0
      },
      "text/plain": [
       "0/22           ETA: ?s - "
      ]
     },
     "metadata": {},
     "output_type": "display_data"
    },
    {
     "name": "stdout",
     "output_type": "stream",
     "text": [
      "Epoch 132/500\n",
      "22/22 [==============================] - 19s 859ms/step - loss: 0.2043 - categorical_accuracy: 0.9415 - val_loss: 0.2232 - val_categorical_accuracy: 0.9363\n",
      "Epoch 133/500\n"
     ]
    },
    {
     "data": {
      "application/vnd.jupyter.widget-view+json": {
       "model_id": "68fe2c72bfdc4befa0f8df004426c7ce",
       "version_major": 2,
       "version_minor": 0
      },
      "text/plain": [
       "0/22           ETA: ?s - "
      ]
     },
     "metadata": {},
     "output_type": "display_data"
    },
    {
     "name": "stdout",
     "output_type": "stream",
     "text": [
      "Epoch 133/500\n",
      "22/22 [==============================] - 19s 859ms/step - loss: 0.2032 - categorical_accuracy: 0.9401 - val_loss: 0.2214 - val_categorical_accuracy: 0.9371\n",
      "Epoch 134/500\n"
     ]
    },
    {
     "data": {
      "application/vnd.jupyter.widget-view+json": {
       "model_id": "f7e81d517d234ef8ad2a601ac8571665",
       "version_major": 2,
       "version_minor": 0
      },
      "text/plain": [
       "0/22           ETA: ?s - "
      ]
     },
     "metadata": {},
     "output_type": "display_data"
    },
    {
     "name": "stdout",
     "output_type": "stream",
     "text": [
      "Epoch 134/500\n",
      "22/22 [==============================] - 19s 868ms/step - loss: 0.2026 - categorical_accuracy: 0.9425 - val_loss: 0.2197 - val_categorical_accuracy: 0.9371\n",
      "Epoch 135/500\n"
     ]
    },
    {
     "data": {
      "application/vnd.jupyter.widget-view+json": {
       "model_id": "4efddc2686474171b95b77f1e5e45767",
       "version_major": 2,
       "version_minor": 0
      },
      "text/plain": [
       "0/22           ETA: ?s - "
      ]
     },
     "metadata": {},
     "output_type": "display_data"
    },
    {
     "name": "stdout",
     "output_type": "stream",
     "text": [
      "Epoch 135/500\n",
      "22/22 [==============================] - 19s 861ms/step - loss: 0.2000 - categorical_accuracy: 0.9414 - val_loss: 0.2194 - val_categorical_accuracy: 0.9352\n",
      "Epoch 136/500\n"
     ]
    },
    {
     "data": {
      "application/vnd.jupyter.widget-view+json": {
       "model_id": "5654e53f58464bc0b68aa97caf57cd5f",
       "version_major": 2,
       "version_minor": 0
      },
      "text/plain": [
       "0/22           ETA: ?s - "
      ]
     },
     "metadata": {},
     "output_type": "display_data"
    },
    {
     "name": "stdout",
     "output_type": "stream",
     "text": [
      "Epoch 136/500\n",
      "22/22 [==============================] - 19s 856ms/step - loss: 0.2032 - categorical_accuracy: 0.9402 - val_loss: 0.2178 - val_categorical_accuracy: 0.9355\n",
      "Epoch 137/500\n"
     ]
    },
    {
     "data": {
      "application/vnd.jupyter.widget-view+json": {
       "model_id": "e695ec8a110c4392ac456aaac1155c27",
       "version_major": 2,
       "version_minor": 0
      },
      "text/plain": [
       "0/22           ETA: ?s - "
      ]
     },
     "metadata": {},
     "output_type": "display_data"
    },
    {
     "name": "stdout",
     "output_type": "stream",
     "text": [
      "Epoch 137/500\n",
      "22/22 [==============================] - 19s 859ms/step - loss: 0.2019 - categorical_accuracy: 0.9404 - val_loss: 0.2180 - val_categorical_accuracy: 0.9371\n",
      "Epoch 138/500\n"
     ]
    },
    {
     "data": {
      "application/vnd.jupyter.widget-view+json": {
       "model_id": "df5628bd62d94e019224e15cf8bca0b4",
       "version_major": 2,
       "version_minor": 0
      },
      "text/plain": [
       "0/22           ETA: ?s - "
      ]
     },
     "metadata": {},
     "output_type": "display_data"
    },
    {
     "name": "stdout",
     "output_type": "stream",
     "text": [
      "Epoch 138/500\n",
      "22/22 [==============================] - 19s 857ms/step - loss: 0.1995 - categorical_accuracy: 0.9419 - val_loss: 0.2164 - val_categorical_accuracy: 0.9355\n",
      "Epoch 139/500\n"
     ]
    },
    {
     "data": {
      "application/vnd.jupyter.widget-view+json": {
       "model_id": "cb9e329570e545d0b150f29eb1ef3db1",
       "version_major": 2,
       "version_minor": 0
      },
      "text/plain": [
       "0/22           ETA: ?s - "
      ]
     },
     "metadata": {},
     "output_type": "display_data"
    },
    {
     "name": "stdout",
     "output_type": "stream",
     "text": [
      "Epoch 139/500\n",
      "22/22 [==============================] - 19s 854ms/step - loss: 0.1990 - categorical_accuracy: 0.9430 - val_loss: 0.2161 - val_categorical_accuracy: 0.9363\n",
      "Epoch 140/500\n"
     ]
    },
    {
     "data": {
      "application/vnd.jupyter.widget-view+json": {
       "model_id": "a94a1f3bf5d04e22988e0d0cc2eff30e",
       "version_major": 2,
       "version_minor": 0
      },
      "text/plain": [
       "0/22           ETA: ?s - "
      ]
     },
     "metadata": {},
     "output_type": "display_data"
    },
    {
     "name": "stdout",
     "output_type": "stream",
     "text": [
      "Epoch 140/500\n",
      "22/22 [==============================] - 19s 869ms/step - loss: 0.1998 - categorical_accuracy: 0.9415 - val_loss: 0.2155 - val_categorical_accuracy: 0.9379\n",
      "Epoch 141/500\n"
     ]
    },
    {
     "data": {
      "application/vnd.jupyter.widget-view+json": {
       "model_id": "d5cd83666c824178ae8cfad13abf84e5",
       "version_major": 2,
       "version_minor": 0
      },
      "text/plain": [
       "0/22           ETA: ?s - "
      ]
     },
     "metadata": {},
     "output_type": "display_data"
    },
    {
     "name": "stdout",
     "output_type": "stream",
     "text": [
      "Epoch 141/500\n",
      "22/22 [==============================] - 19s 848ms/step - loss: 0.2001 - categorical_accuracy: 0.9418 - val_loss: 0.2148 - val_categorical_accuracy: 0.9379\n",
      "Epoch 142/500\n"
     ]
    },
    {
     "data": {
      "application/vnd.jupyter.widget-view+json": {
       "model_id": "d6e0a82f4c5d4b528ed6f5796275bdd2",
       "version_major": 2,
       "version_minor": 0
      },
      "text/plain": [
       "0/22           ETA: ?s - "
      ]
     },
     "metadata": {},
     "output_type": "display_data"
    },
    {
     "name": "stdout",
     "output_type": "stream",
     "text": [
      "Epoch 142/500\n",
      "22/22 [==============================] - 19s 855ms/step - loss: 0.1969 - categorical_accuracy: 0.9419 - val_loss: 0.2146 - val_categorical_accuracy: 0.9375\n",
      "Epoch 143/500\n"
     ]
    },
    {
     "data": {
      "application/vnd.jupyter.widget-view+json": {
       "model_id": "152ce6080f0d4cf194daf7a72d0d85fc",
       "version_major": 2,
       "version_minor": 0
      },
      "text/plain": [
       "0/22           ETA: ?s - "
      ]
     },
     "metadata": {},
     "output_type": "display_data"
    },
    {
     "name": "stdout",
     "output_type": "stream",
     "text": [
      "Epoch 143/500\n",
      "22/22 [==============================] - 19s 851ms/step - loss: 0.1957 - categorical_accuracy: 0.9423 - val_loss: 0.2130 - val_categorical_accuracy: 0.9359\n",
      "Epoch 144/500\n"
     ]
    },
    {
     "data": {
      "application/vnd.jupyter.widget-view+json": {
       "model_id": "de924886679e4b48ab3b42d7a0bdb5d5",
       "version_major": 2,
       "version_minor": 0
      },
      "text/plain": [
       "0/22           ETA: ?s - "
      ]
     },
     "metadata": {},
     "output_type": "display_data"
    },
    {
     "name": "stdout",
     "output_type": "stream",
     "text": [
      "Epoch 144/500\n",
      "22/22 [==============================] - 19s 849ms/step - loss: 0.1957 - categorical_accuracy: 0.9424 - val_loss: 0.2125 - val_categorical_accuracy: 0.9355\n",
      "Epoch 145/500\n"
     ]
    },
    {
     "data": {
      "application/vnd.jupyter.widget-view+json": {
       "model_id": "9bcec3f0875940559e39d84b79919e68",
       "version_major": 2,
       "version_minor": 0
      },
      "text/plain": [
       "0/22           ETA: ?s - "
      ]
     },
     "metadata": {},
     "output_type": "display_data"
    },
    {
     "name": "stdout",
     "output_type": "stream",
     "text": [
      "Epoch 145/500\n",
      "22/22 [==============================] - 19s 854ms/step - loss: 0.1946 - categorical_accuracy: 0.9462 - val_loss: 0.2121 - val_categorical_accuracy: 0.9387\n",
      "Epoch 146/500\n"
     ]
    },
    {
     "data": {
      "application/vnd.jupyter.widget-view+json": {
       "model_id": "fd2929b038bd427c9c8dc51e3324c8b0",
       "version_major": 2,
       "version_minor": 0
      },
      "text/plain": [
       "0/22           ETA: ?s - "
      ]
     },
     "metadata": {},
     "output_type": "display_data"
    },
    {
     "name": "stdout",
     "output_type": "stream",
     "text": [
      "Epoch 146/500\n",
      "22/22 [==============================] - 19s 845ms/step - loss: 0.1946 - categorical_accuracy: 0.9447 - val_loss: 0.2120 - val_categorical_accuracy: 0.9371\n",
      "Epoch 147/500\n"
     ]
    },
    {
     "data": {
      "application/vnd.jupyter.widget-view+json": {
       "model_id": "6e812fd7830d46d788f482d52dfdc564",
       "version_major": 2,
       "version_minor": 0
      },
      "text/plain": [
       "0/22           ETA: ?s - "
      ]
     },
     "metadata": {},
     "output_type": "display_data"
    },
    {
     "name": "stdout",
     "output_type": "stream",
     "text": [
      "Epoch 147/500\n",
      "22/22 [==============================] - 19s 852ms/step - loss: 0.1940 - categorical_accuracy: 0.9425 - val_loss: 0.2110 - val_categorical_accuracy: 0.9367\n",
      "Epoch 148/500\n"
     ]
    },
    {
     "data": {
      "application/vnd.jupyter.widget-view+json": {
       "model_id": "3fe506da982f4dcb8165982df7451ee0",
       "version_major": 2,
       "version_minor": 0
      },
      "text/plain": [
       "0/22           ETA: ?s - "
      ]
     },
     "metadata": {},
     "output_type": "display_data"
    },
    {
     "name": "stdout",
     "output_type": "stream",
     "text": [
      "Epoch 148/500\n",
      "22/22 [==============================] - 19s 849ms/step - loss: 0.1915 - categorical_accuracy: 0.9461 - val_loss: 0.2092 - val_categorical_accuracy: 0.9395\n",
      "Epoch 149/500\n"
     ]
    },
    {
     "data": {
      "application/vnd.jupyter.widget-view+json": {
       "model_id": "a1fba1ab4e6d4576ab9219afa40cfee8",
       "version_major": 2,
       "version_minor": 0
      },
      "text/plain": [
       "0/22           ETA: ?s - "
      ]
     },
     "metadata": {},
     "output_type": "display_data"
    },
    {
     "name": "stdout",
     "output_type": "stream",
     "text": [
      "Epoch 149/500\n",
      "22/22 [==============================] - 19s 856ms/step - loss: 0.1907 - categorical_accuracy: 0.9446 - val_loss: 0.2092 - val_categorical_accuracy: 0.9363\n",
      "Epoch 150/500\n"
     ]
    },
    {
     "data": {
      "application/vnd.jupyter.widget-view+json": {
       "model_id": "12ff79cbf0ac43c88d778022d8083fe5",
       "version_major": 2,
       "version_minor": 0
      },
      "text/plain": [
       "0/22           ETA: ?s - "
      ]
     },
     "metadata": {},
     "output_type": "display_data"
    },
    {
     "name": "stdout",
     "output_type": "stream",
     "text": [
      "Epoch 150/500\n",
      "22/22 [==============================] - 19s 846ms/step - loss: 0.1912 - categorical_accuracy: 0.9454 - val_loss: 0.2081 - val_categorical_accuracy: 0.9371\n",
      "Epoch 151/500\n"
     ]
    },
    {
     "data": {
      "application/vnd.jupyter.widget-view+json": {
       "model_id": "338538e35cf0468c8fdfe7cf9f4792f2",
       "version_major": 2,
       "version_minor": 0
      },
      "text/plain": [
       "0/22           ETA: ?s - "
      ]
     },
     "metadata": {},
     "output_type": "display_data"
    },
    {
     "name": "stdout",
     "output_type": "stream",
     "text": [
      "Epoch 151/500\n",
      "22/22 [==============================] - 19s 852ms/step - loss: 0.1926 - categorical_accuracy: 0.9425 - val_loss: 0.2076 - val_categorical_accuracy: 0.9383\n",
      "Epoch 152/500\n"
     ]
    },
    {
     "data": {
      "application/vnd.jupyter.widget-view+json": {
       "model_id": "df7226144e694ca8bc37891f06f27c6b",
       "version_major": 2,
       "version_minor": 0
      },
      "text/plain": [
       "0/22           ETA: ?s - "
      ]
     },
     "metadata": {},
     "output_type": "display_data"
    },
    {
     "name": "stdout",
     "output_type": "stream",
     "text": [
      "Epoch 152/500\n",
      "22/22 [==============================] - 19s 855ms/step - loss: 0.1903 - categorical_accuracy: 0.9451 - val_loss: 0.2070 - val_categorical_accuracy: 0.9383\n",
      "Epoch 153/500\n"
     ]
    },
    {
     "data": {
      "application/vnd.jupyter.widget-view+json": {
       "model_id": "42ffd44f0808411cb145f1564b63dd1c",
       "version_major": 2,
       "version_minor": 0
      },
      "text/plain": [
       "0/22           ETA: ?s - "
      ]
     },
     "metadata": {},
     "output_type": "display_data"
    },
    {
     "name": "stdout",
     "output_type": "stream",
     "text": [
      "Epoch 153/500\n",
      "22/22 [==============================] - 19s 868ms/step - loss: 0.1898 - categorical_accuracy: 0.9452 - val_loss: 0.2058 - val_categorical_accuracy: 0.9387\n",
      "Epoch 154/500\n"
     ]
    },
    {
     "data": {
      "application/vnd.jupyter.widget-view+json": {
       "model_id": "99cc006de2794aa6b3bbb18b45f658c7",
       "version_major": 2,
       "version_minor": 0
      },
      "text/plain": [
       "0/22           ETA: ?s - "
      ]
     },
     "metadata": {},
     "output_type": "display_data"
    },
    {
     "name": "stdout",
     "output_type": "stream",
     "text": [
      "Epoch 154/500\n",
      "22/22 [==============================] - 19s 853ms/step - loss: 0.1902 - categorical_accuracy: 0.9453 - val_loss: 0.2042 - val_categorical_accuracy: 0.9379\n",
      "Epoch 155/500\n"
     ]
    },
    {
     "data": {
      "application/vnd.jupyter.widget-view+json": {
       "model_id": "2e576de95f564399ba1510f142595e8e",
       "version_major": 2,
       "version_minor": 0
      },
      "text/plain": [
       "0/22           ETA: ?s - "
      ]
     },
     "metadata": {},
     "output_type": "display_data"
    },
    {
     "name": "stdout",
     "output_type": "stream",
     "text": [
      "Epoch 155/500\n",
      "22/22 [==============================] - 19s 853ms/step - loss: 0.1901 - categorical_accuracy: 0.9451 - val_loss: 0.2066 - val_categorical_accuracy: 0.9383\n",
      "Epoch 156/500\n"
     ]
    },
    {
     "data": {
      "application/vnd.jupyter.widget-view+json": {
       "model_id": "daf768a69bda40389e71db56ad7fa3d9",
       "version_major": 2,
       "version_minor": 0
      },
      "text/plain": [
       "0/22           ETA: ?s - "
      ]
     },
     "metadata": {},
     "output_type": "display_data"
    },
    {
     "name": "stdout",
     "output_type": "stream",
     "text": [
      "Epoch 156/500\n",
      "22/22 [==============================] - 19s 851ms/step - loss: 0.1883 - categorical_accuracy: 0.9455 - val_loss: 0.2044 - val_categorical_accuracy: 0.9406\n",
      "Epoch 157/500\n"
     ]
    },
    {
     "data": {
      "application/vnd.jupyter.widget-view+json": {
       "model_id": "ef45d7c19dd24356966e0777d8314901",
       "version_major": 2,
       "version_minor": 0
      },
      "text/plain": [
       "0/22           ETA: ?s - "
      ]
     },
     "metadata": {},
     "output_type": "display_data"
    },
    {
     "name": "stdout",
     "output_type": "stream",
     "text": [
      "Epoch 157/500\n",
      "22/22 [==============================] - 19s 860ms/step - loss: 0.1873 - categorical_accuracy: 0.9455 - val_loss: 0.2042 - val_categorical_accuracy: 0.9410\n",
      "Epoch 158/500\n"
     ]
    },
    {
     "data": {
      "application/vnd.jupyter.widget-view+json": {
       "model_id": "2f9353c750bc49c3b901bb2255e37048",
       "version_major": 2,
       "version_minor": 0
      },
      "text/plain": [
       "0/22           ETA: ?s - "
      ]
     },
     "metadata": {},
     "output_type": "display_data"
    },
    {
     "name": "stdout",
     "output_type": "stream",
     "text": [
      "Epoch 158/500\n",
      "22/22 [==============================] - 19s 856ms/step - loss: 0.1881 - categorical_accuracy: 0.9449 - val_loss: 0.2028 - val_categorical_accuracy: 0.9375\n",
      "Epoch 159/500\n"
     ]
    },
    {
     "data": {
      "application/vnd.jupyter.widget-view+json": {
       "model_id": "585ba2e44a7d484297ad44acfca2447e",
       "version_major": 2,
       "version_minor": 0
      },
      "text/plain": [
       "0/22           ETA: ?s - "
      ]
     },
     "metadata": {},
     "output_type": "display_data"
    },
    {
     "name": "stdout",
     "output_type": "stream",
     "text": [
      "Epoch 159/500\n",
      "22/22 [==============================] - 19s 862ms/step - loss: 0.1879 - categorical_accuracy: 0.9474 - val_loss: 0.2038 - val_categorical_accuracy: 0.9395\n",
      "Epoch 160/500\n"
     ]
    },
    {
     "data": {
      "application/vnd.jupyter.widget-view+json": {
       "model_id": "0fadb83c137841e5a321984433a11512",
       "version_major": 2,
       "version_minor": 0
      },
      "text/plain": [
       "0/22           ETA: ?s - "
      ]
     },
     "metadata": {},
     "output_type": "display_data"
    },
    {
     "name": "stdout",
     "output_type": "stream",
     "text": [
      "Epoch 160/500\n",
      "22/22 [==============================] - 19s 872ms/step - loss: 0.1857 - categorical_accuracy: 0.9450 - val_loss: 0.2021 - val_categorical_accuracy: 0.9383\n",
      "Epoch 161/500\n"
     ]
    },
    {
     "data": {
      "application/vnd.jupyter.widget-view+json": {
       "model_id": "b301c12e777647e5982448f00cb71a34",
       "version_major": 2,
       "version_minor": 0
      },
      "text/plain": [
       "0/22           ETA: ?s - "
      ]
     },
     "metadata": {},
     "output_type": "display_data"
    },
    {
     "name": "stdout",
     "output_type": "stream",
     "text": [
      "Epoch 161/500\n",
      "22/22 [==============================] - 19s 856ms/step - loss: 0.1826 - categorical_accuracy: 0.9482 - val_loss: 0.2010 - val_categorical_accuracy: 0.9371\n",
      "Epoch 162/500\n"
     ]
    },
    {
     "data": {
      "application/vnd.jupyter.widget-view+json": {
       "model_id": "1ada31312666416684ddcb7b42dacfde",
       "version_major": 2,
       "version_minor": 0
      },
      "text/plain": [
       "0/22           ETA: ?s - "
      ]
     },
     "metadata": {},
     "output_type": "display_data"
    },
    {
     "name": "stdout",
     "output_type": "stream",
     "text": [
      "Epoch 162/500\n",
      "22/22 [==============================] - 19s 868ms/step - loss: 0.1820 - categorical_accuracy: 0.9486 - val_loss: 0.2011 - val_categorical_accuracy: 0.9395\n",
      "Epoch 163/500\n"
     ]
    },
    {
     "data": {
      "application/vnd.jupyter.widget-view+json": {
       "model_id": "133fe355914e42018d67c9d60ecdad93",
       "version_major": 2,
       "version_minor": 0
      },
      "text/plain": [
       "0/22           ETA: ?s - "
      ]
     },
     "metadata": {},
     "output_type": "display_data"
    },
    {
     "name": "stdout",
     "output_type": "stream",
     "text": [
      "Epoch 163/500\n",
      "22/22 [==============================] - 19s 864ms/step - loss: 0.1861 - categorical_accuracy: 0.9479 - val_loss: 0.2008 - val_categorical_accuracy: 0.9391\n",
      "Epoch 164/500\n"
     ]
    },
    {
     "data": {
      "application/vnd.jupyter.widget-view+json": {
       "model_id": "8c48e377e82840dfa9e1ee57365818c3",
       "version_major": 2,
       "version_minor": 0
      },
      "text/plain": [
       "0/22           ETA: ?s - "
      ]
     },
     "metadata": {},
     "output_type": "display_data"
    },
    {
     "name": "stdout",
     "output_type": "stream",
     "text": [
      "Epoch 164/500\n",
      "22/22 [==============================] - 19s 863ms/step - loss: 0.1862 - categorical_accuracy: 0.9450 - val_loss: 0.1997 - val_categorical_accuracy: 0.9426\n",
      "Epoch 165/500\n"
     ]
    },
    {
     "data": {
      "application/vnd.jupyter.widget-view+json": {
       "model_id": "53be39b1cc4b41558df59990763b5484",
       "version_major": 2,
       "version_minor": 0
      },
      "text/plain": [
       "0/22           ETA: ?s - "
      ]
     },
     "metadata": {},
     "output_type": "display_data"
    },
    {
     "name": "stdout",
     "output_type": "stream",
     "text": [
      "Epoch 165/500\n",
      "22/22 [==============================] - 19s 855ms/step - loss: 0.1827 - categorical_accuracy: 0.9477 - val_loss: 0.2002 - val_categorical_accuracy: 0.9410\n",
      "Epoch 166/500\n"
     ]
    },
    {
     "data": {
      "application/vnd.jupyter.widget-view+json": {
       "model_id": "36cd0efbcb844bdb86e12c3c7850b457",
       "version_major": 2,
       "version_minor": 0
      },
      "text/plain": [
       "0/22           ETA: ?s - "
      ]
     },
     "metadata": {},
     "output_type": "display_data"
    },
    {
     "name": "stdout",
     "output_type": "stream",
     "text": [
      "Epoch 166/500\n",
      "22/22 [==============================] - 19s 857ms/step - loss: 0.1805 - categorical_accuracy: 0.9475 - val_loss: 0.1992 - val_categorical_accuracy: 0.9406\n",
      "Epoch 167/500\n"
     ]
    },
    {
     "data": {
      "application/vnd.jupyter.widget-view+json": {
       "model_id": "00157e6837e04fc9a79911784b0822c2",
       "version_major": 2,
       "version_minor": 0
      },
      "text/plain": [
       "0/22           ETA: ?s - "
      ]
     },
     "metadata": {},
     "output_type": "display_data"
    },
    {
     "name": "stdout",
     "output_type": "stream",
     "text": [
      "Epoch 167/500\n",
      "22/22 [==============================] - 19s 855ms/step - loss: 0.1829 - categorical_accuracy: 0.9474 - val_loss: 0.1994 - val_categorical_accuracy: 0.9414\n",
      "Epoch 168/500\n"
     ]
    },
    {
     "data": {
      "application/vnd.jupyter.widget-view+json": {
       "model_id": "7a9bd864e0bf431199a4580266c0d8b9",
       "version_major": 2,
       "version_minor": 0
      },
      "text/plain": [
       "0/22           ETA: ?s - "
      ]
     },
     "metadata": {},
     "output_type": "display_data"
    },
    {
     "name": "stdout",
     "output_type": "stream",
     "text": [
      "Epoch 168/500\n",
      "22/22 [==============================] - 19s 849ms/step - loss: 0.1785 - categorical_accuracy: 0.9498 - val_loss: 0.1985 - val_categorical_accuracy: 0.9414\n",
      "Epoch 169/500\n"
     ]
    },
    {
     "data": {
      "application/vnd.jupyter.widget-view+json": {
       "model_id": "243aa77d3b6b4566a83eee1e4b3757c1",
       "version_major": 2,
       "version_minor": 0
      },
      "text/plain": [
       "0/22           ETA: ?s - "
      ]
     },
     "metadata": {},
     "output_type": "display_data"
    },
    {
     "name": "stdout",
     "output_type": "stream",
     "text": [
      "Epoch 169/500\n",
      "22/22 [==============================] - 19s 852ms/step - loss: 0.1793 - categorical_accuracy: 0.9484 - val_loss: 0.1967 - val_categorical_accuracy: 0.9449\n",
      "Epoch 170/500\n"
     ]
    },
    {
     "data": {
      "application/vnd.jupyter.widget-view+json": {
       "model_id": "6e9d3c301c1248ee9aefb9845931f232",
       "version_major": 2,
       "version_minor": 0
      },
      "text/plain": [
       "0/22           ETA: ?s - "
      ]
     },
     "metadata": {},
     "output_type": "display_data"
    },
    {
     "name": "stdout",
     "output_type": "stream",
     "text": [
      "Epoch 170/500\n",
      "22/22 [==============================] - 19s 848ms/step - loss: 0.1765 - categorical_accuracy: 0.9499 - val_loss: 0.1959 - val_categorical_accuracy: 0.9438\n",
      "Epoch 171/500\n"
     ]
    },
    {
     "data": {
      "application/vnd.jupyter.widget-view+json": {
       "model_id": "003c0327b47b440984f9d3569e37274b",
       "version_major": 2,
       "version_minor": 0
      },
      "text/plain": [
       "0/22           ETA: ?s - "
      ]
     },
     "metadata": {},
     "output_type": "display_data"
    },
    {
     "name": "stdout",
     "output_type": "stream",
     "text": [
      "Epoch 171/500\n",
      "22/22 [==============================] - 19s 857ms/step - loss: 0.1785 - categorical_accuracy: 0.9500 - val_loss: 0.1958 - val_categorical_accuracy: 0.9438\n",
      "Epoch 172/500\n"
     ]
    },
    {
     "data": {
      "application/vnd.jupyter.widget-view+json": {
       "model_id": "7fc96305ccc442cd81272d45cc079563",
       "version_major": 2,
       "version_minor": 0
      },
      "text/plain": [
       "0/22           ETA: ?s - "
      ]
     },
     "metadata": {},
     "output_type": "display_data"
    },
    {
     "name": "stdout",
     "output_type": "stream",
     "text": [
      "Epoch 172/500\n",
      "22/22 [==============================] - 19s 856ms/step - loss: 0.1787 - categorical_accuracy: 0.9505 - val_loss: 0.1960 - val_categorical_accuracy: 0.9449\n",
      "Epoch 173/500\n"
     ]
    },
    {
     "data": {
      "application/vnd.jupyter.widget-view+json": {
       "model_id": "2f4ebb46ed254187b5f0e66edff54c29",
       "version_major": 2,
       "version_minor": 0
      },
      "text/plain": [
       "0/22           ETA: ?s - "
      ]
     },
     "metadata": {},
     "output_type": "display_data"
    },
    {
     "name": "stdout",
     "output_type": "stream",
     "text": [
      "Epoch 173/500\n",
      "22/22 [==============================] - 19s 880ms/step - loss: 0.1779 - categorical_accuracy: 0.9505 - val_loss: 0.1954 - val_categorical_accuracy: 0.9410\n",
      "Epoch 174/500\n"
     ]
    },
    {
     "data": {
      "application/vnd.jupyter.widget-view+json": {
       "model_id": "0a9e91b55fde4555ac499e60ed4771b1",
       "version_major": 2,
       "version_minor": 0
      },
      "text/plain": [
       "0/22           ETA: ?s - "
      ]
     },
     "metadata": {},
     "output_type": "display_data"
    },
    {
     "name": "stdout",
     "output_type": "stream",
     "text": [
      "Epoch 174/500\n",
      "22/22 [==============================] - 19s 848ms/step - loss: 0.1776 - categorical_accuracy: 0.9487 - val_loss: 0.1950 - val_categorical_accuracy: 0.9402\n",
      "Epoch 175/500\n"
     ]
    },
    {
     "data": {
      "application/vnd.jupyter.widget-view+json": {
       "model_id": "438f31ee25ac491ba6fe7ed369c88538",
       "version_major": 2,
       "version_minor": 0
      },
      "text/plain": [
       "0/22           ETA: ?s - "
      ]
     },
     "metadata": {},
     "output_type": "display_data"
    },
    {
     "name": "stdout",
     "output_type": "stream",
     "text": [
      "Epoch 175/500\n",
      "22/22 [==============================] - 19s 860ms/step - loss: 0.1766 - categorical_accuracy: 0.9493 - val_loss: 0.1948 - val_categorical_accuracy: 0.9426\n",
      "Epoch 176/500\n"
     ]
    },
    {
     "data": {
      "application/vnd.jupyter.widget-view+json": {
       "model_id": "d95c20bc8a6a405c819f67bf1d73bd7d",
       "version_major": 2,
       "version_minor": 0
      },
      "text/plain": [
       "0/22           ETA: ?s - "
      ]
     },
     "metadata": {},
     "output_type": "display_data"
    },
    {
     "name": "stdout",
     "output_type": "stream",
     "text": [
      "Epoch 176/500\n",
      "22/22 [==============================] - 19s 865ms/step - loss: 0.1758 - categorical_accuracy: 0.9513 - val_loss: 0.1944 - val_categorical_accuracy: 0.9418\n",
      "Epoch 177/500\n"
     ]
    },
    {
     "data": {
      "application/vnd.jupyter.widget-view+json": {
       "model_id": "89cd2a0639694d20b589a9d975b54031",
       "version_major": 2,
       "version_minor": 0
      },
      "text/plain": [
       "0/22           ETA: ?s - "
      ]
     },
     "metadata": {},
     "output_type": "display_data"
    },
    {
     "name": "stdout",
     "output_type": "stream",
     "text": [
      "Epoch 177/500\n",
      "22/22 [==============================] - 19s 851ms/step - loss: 0.1756 - categorical_accuracy: 0.9503 - val_loss: 0.1934 - val_categorical_accuracy: 0.9441\n",
      "Epoch 178/500\n"
     ]
    },
    {
     "data": {
      "application/vnd.jupyter.widget-view+json": {
       "model_id": "958f4484d7ee46c3b3dfca3121f36658",
       "version_major": 2,
       "version_minor": 0
      },
      "text/plain": [
       "0/22           ETA: ?s - "
      ]
     },
     "metadata": {},
     "output_type": "display_data"
    },
    {
     "name": "stdout",
     "output_type": "stream",
     "text": [
      "Epoch 178/500\n",
      "22/22 [==============================] - 19s 848ms/step - loss: 0.1735 - categorical_accuracy: 0.9497 - val_loss: 0.1939 - val_categorical_accuracy: 0.9387\n",
      "Epoch 179/500\n"
     ]
    },
    {
     "data": {
      "application/vnd.jupyter.widget-view+json": {
       "model_id": "827cedd923034ee0bd82475c4b3e36bb",
       "version_major": 2,
       "version_minor": 0
      },
      "text/plain": [
       "0/22           ETA: ?s - "
      ]
     },
     "metadata": {},
     "output_type": "display_data"
    },
    {
     "name": "stdout",
     "output_type": "stream",
     "text": [
      "Epoch 179/500\n",
      "22/22 [==============================] - 19s 853ms/step - loss: 0.1759 - categorical_accuracy: 0.9488 - val_loss: 0.1940 - val_categorical_accuracy: 0.9414\n"
     ]
    }
   ],
   "source": [
    "%%time\n",
    "history = model.fit(train_dataset,\n",
    "                    epochs=500,\n",
    "                    verbose=1,\n",
    "                    validation_data=test_dataset,\n",
    "                    callbacks=[\n",
    "                        keras.callbacks.EarlyStopping(monitor='val_categorical_accuracy',patience=10, verbose=0),\n",
    "                        tfa.callbacks.TQDMProgressBar()\n",
    "                    ])"
   ]
  },
  {
   "cell_type": "code",
   "execution_count": 43,
   "id": "c0b0f2ba",
   "metadata": {},
   "outputs": [
    {
     "data": {
      "text/plain": [
       "<AxesSubplot:>"
      ]
     },
     "execution_count": 43,
     "metadata": {},
     "output_type": "execute_result"
    },
    {
     "data": {
      "image/png": "[encoded data removed]",
      "text/plain": [
       "<Figure size 432x288 with 1 Axes>"
      ]
     },
     "metadata": {},
     "output_type": "display_data"
    },
    {
     "data": {
      "image/png": "[encoded data removed]",
      "text/plain": [
       "<Figure size 432x288 with 1 Axes>"
      ]
     },
     "metadata": {},
     "output_type": "display_data"
    }
   ],
   "source": [
    "history_df = pd.DataFrame(history.history)\n",
    "history_df[['loss', 'val_loss']].plot()\n",
    "history_df[['categorical_accuracy', 'val_categorical_accuracy']].plot()"
   ]
  },
  {
   "cell_type": "code",
   "execution_count": 45,
   "id": "160a4bf0",
   "metadata": {},
   "outputs": [
    {
     "name": "stdout",
     "output_type": "stream",
     "text": [
      "5/5 [==============================] - 3s 498ms/step\n"
     ]
    }
   ],
   "source": [
    "y_pred = model.predict(test_dataset)"
   ]
  },
  {
   "cell_type": "code",
   "execution_count": 46,
   "id": "70fbc333",
   "metadata": {},
   "outputs": [
    {
     "data": {
      "text/plain": [
       "count    2560.000000\n",
       "mean        0.893555\n",
       "std         0.159912\n",
       "min         0.257568\n",
       "25%         0.838501\n",
       "50%         0.983398\n",
       "75%         1.000000\n",
       "max         1.000000\n",
       "dtype: float64"
      ]
     },
     "execution_count": 46,
     "metadata": {},
     "output_type": "execute_result"
    }
   ],
   "source": [
    "predicted_codes = y_pred.argmax(axis=1)\n",
    "confidence = y_pred.max(axis=1)\n",
    "pd.Series(confidence).describe()"
   ]
  },
  {
   "cell_type": "code",
   "execution_count": 78,
   "id": "d63a6ecb",
   "metadata": {},
   "outputs": [
    {
     "data": {
      "text/plain": [
       "['Morula',\n",
       " 'Empty',\n",
       " 'Empty',\n",
       " 'Syngamy',\n",
       " 'Empty',\n",
       " 'Empty',\n",
       " 'Compacting 8 cell',\n",
       " 'Morula',\n",
       " 'Empty',\n",
       " 'Empty',\n",
       " 'Blastocyst',\n",
       " '4 Cell',\n",
       " '2pn',\n",
       " 'Morula',\n",
       " 'Morula',\n",
       " 'Early blast',\n",
       " 'Empty',\n",
       " 'Compacting 8 cell',\n",
       " 'Empty',\n",
       " '2pn',\n",
       " 'Syngamy',\n",
       " 'Empty',\n",
       " 'Empty',\n",
       " 'Empty',\n",
       " 'Early blast',\n",
       " '8 Cell',\n",
       " 'Empty',\n",
       " 'Empty',\n",
       " 'Expanded Blastocyst',\n",
       " '2 Cell',\n",
       " 'Morula',\n",
       " 'Morula',\n",
       " '4 Cell',\n",
       " 'Empty',\n",
       " 'Empty',\n",
       " 'Compacting 8 cell',\n",
       " '2pn',\n",
       " 'Morula',\n",
       " 'Empty',\n",
       " '4 Cell',\n",
       " 'Empty',\n",
       " 'Empty',\n",
       " 'Empty',\n",
       " '5 Cell',\n",
       " 'Compacting 8 cell',\n",
       " '4 Cell',\n",
       " 'Syngamy',\n",
       " 'Blastocyst',\n",
       " 'Empty',\n",
       " '6 Cell',\n",
       " 'Blastocyst',\n",
       " 'Expanded Blastocyst',\n",
       " 'Empty',\n",
       " '2 Cell',\n",
       " '4 Cell',\n",
       " '4 Cell',\n",
       " 'Empty',\n",
       " 'Morula',\n",
       " 'Morula',\n",
       " 'Empty',\n",
       " '3 Cell',\n",
       " 'Empty',\n",
       " 'Empty',\n",
       " 'Empty',\n",
       " 'Morula',\n",
       " 'Blastocyst',\n",
       " 'Empty',\n",
       " '2pn',\n",
       " '2pn',\n",
       " 'Morula',\n",
       " '3 Cell',\n",
       " 'Morula',\n",
       " 'Morula',\n",
       " 'Empty',\n",
       " 'Syngamy',\n",
       " 'Empty',\n",
       " 'Empty',\n",
       " 'Morula',\n",
       " 'Syngamy',\n",
       " 'Morula',\n",
       " 'Empty',\n",
       " 'Empty',\n",
       " 'Morula',\n",
       " '2pn',\n",
       " 'Early blast',\n",
       " 'Empty',\n",
       " 'Blastocyst',\n",
       " 'Morula',\n",
       " 'Syngamy',\n",
       " 'Empty',\n",
       " 'Empty',\n",
       " '4 Cell',\n",
       " '4 Cell',\n",
       " 'Empty',\n",
       " '4 Cell',\n",
       " 'Empty',\n",
       " '2pn',\n",
       " 'Empty',\n",
       " 'Morula',\n",
       " 'Empty',\n",
       " '6 Cell',\n",
       " '2pn',\n",
       " '8 Cell',\n",
       " 'Morula',\n",
       " 'Empty',\n",
       " 'Blastocyst',\n",
       " 'Empty',\n",
       " 'Empty',\n",
       " 'Early blast',\n",
       " '2 Cell',\n",
       " 'Empty',\n",
       " 'Syngamy',\n",
       " 'Morula',\n",
       " '2pn',\n",
       " 'Empty',\n",
       " '4 Cell',\n",
       " '6 Cell',\n",
       " '8 Cell',\n",
       " 'Empty',\n",
       " 'Empty',\n",
       " 'Empty',\n",
       " 'Empty',\n",
       " 'Compacting 8 cell',\n",
       " 'Expanded Blastocyst',\n",
       " '4 Cell',\n",
       " 'Empty',\n",
       " 'Empty',\n",
       " '2pn',\n",
       " 'Empty',\n",
       " 'Empty',\n",
       " 'Empty',\n",
       " 'Empty',\n",
       " 'Empty',\n",
       " 'Empty',\n",
       " 'Empty',\n",
       " 'Empty',\n",
       " '2pn',\n",
       " 'Empty',\n",
       " 'Empty',\n",
       " 'Empty',\n",
       " 'Syngamy',\n",
       " 'Empty',\n",
       " 'Morula',\n",
       " 'Morula',\n",
       " '8 Cell',\n",
       " '4 Cell',\n",
       " '4 Cell',\n",
       " 'Empty',\n",
       " '4 Cell',\n",
       " 'Empty',\n",
       " 'Empty',\n",
       " '2pn',\n",
       " '2pn',\n",
       " '5 Cell',\n",
       " 'Morula',\n",
       " '2 Cell',\n",
       " 'Syngamy',\n",
       " '3 Cell',\n",
       " 'Empty',\n",
       " 'Syngamy',\n",
       " 'Morula',\n",
       " 'Empty',\n",
       " 'Morula',\n",
       " 'Morula',\n",
       " 'Empty',\n",
       " 'Morula',\n",
       " 'Early blast',\n",
       " 'Empty',\n",
       " '6 Cell',\n",
       " 'Empty',\n",
       " 'Early blast',\n",
       " 'Empty',\n",
       " 'Morula',\n",
       " '4 Cell',\n",
       " '6 Cell',\n",
       " '2 Cell',\n",
       " 'Empty',\n",
       " 'Empty',\n",
       " '2 Cell',\n",
       " 'Early blast',\n",
       " '3 Cell',\n",
       " 'Syngamy',\n",
       " 'Empty',\n",
       " 'Empty',\n",
       " 'Morula',\n",
       " 'Compacting 8 cell',\n",
       " '6 Cell',\n",
       " 'Empty',\n",
       " 'Expanded Blastocyst',\n",
       " 'Syngamy',\n",
       " '2pn',\n",
       " 'Syngamy',\n",
       " '8 Cell',\n",
       " 'Empty',\n",
       " 'Empty',\n",
       " '2 Cell',\n",
       " 'Syngamy',\n",
       " '2 Cell',\n",
       " '3 Cell',\n",
       " '2pn',\n",
       " 'Empty',\n",
       " 'Expanded Blastocyst',\n",
       " '8 Cell',\n",
       " 'Morula',\n",
       " 'Empty',\n",
       " 'Morula',\n",
       " 'Expanded Blastocyst',\n",
       " '6 Cell',\n",
       " 'Morula',\n",
       " 'Empty',\n",
       " '2 Cell',\n",
       " 'Morula',\n",
       " 'Empty',\n",
       " 'Empty',\n",
       " '2 Cell',\n",
       " '2pn',\n",
       " 'Empty',\n",
       " 'Empty',\n",
       " 'Early blast',\n",
       " 'Empty',\n",
       " 'Early blast',\n",
       " 'Morula',\n",
       " 'Empty',\n",
       " '4 Cell',\n",
       " 'Compacting 8 cell',\n",
       " 'Syngamy',\n",
       " '3 Cell',\n",
       " 'Early blast',\n",
       " 'Empty',\n",
       " '3 Cell',\n",
       " 'Empty',\n",
       " 'Compacting 8 cell',\n",
       " 'Empty',\n",
       " 'Compacting 8 cell',\n",
       " '3 Cell',\n",
       " '5 Cell',\n",
       " 'Compacting 8 cell',\n",
       " 'Empty',\n",
       " 'Syngamy',\n",
       " 'Empty',\n",
       " 'Morula',\n",
       " 'Blastocyst',\n",
       " 'Empty',\n",
       " 'Compacting 8 cell',\n",
       " '4 Cell',\n",
       " '4 Cell',\n",
       " 'Expanded Blastocyst',\n",
       " 'Empty',\n",
       " 'Empty',\n",
       " '4 Cell',\n",
       " '2pn',\n",
       " 'Empty',\n",
       " 'Empty',\n",
       " 'Expanded Blastocyst',\n",
       " '2pn',\n",
       " 'Syngamy',\n",
       " 'Empty',\n",
       " 'Empty',\n",
       " 'Empty',\n",
       " 'Empty',\n",
       " 'Expanded Blastocyst',\n",
       " '2 Cell',\n",
       " 'Morula',\n",
       " 'Morula',\n",
       " 'Empty',\n",
       " 'Empty',\n",
       " 'Empty',\n",
       " '2pn',\n",
       " 'Empty',\n",
       " 'Empty',\n",
       " '2pn',\n",
       " 'Syngamy',\n",
       " '4 Cell',\n",
       " 'Empty',\n",
       " 'Syngamy',\n",
       " 'Early blast',\n",
       " 'Empty',\n",
       " 'Empty',\n",
       " 'Empty',\n",
       " 'Empty',\n",
       " 'Empty',\n",
       " 'Empty',\n",
       " 'Empty',\n",
       " 'Empty',\n",
       " 'Morula',\n",
       " '3 Cell',\n",
       " 'Morula',\n",
       " '2 Cell',\n",
       " 'Morula',\n",
       " 'Empty',\n",
       " 'Early blast',\n",
       " '2 Cell',\n",
       " 'Blastocyst',\n",
       " 'Empty',\n",
       " 'Empty',\n",
       " 'Empty',\n",
       " 'Empty',\n",
       " 'Expanded Blastocyst',\n",
       " 'Empty',\n",
       " '2 Cell',\n",
       " 'Empty',\n",
       " 'Empty',\n",
       " '2 Cell',\n",
       " 'Empty',\n",
       " 'Empty',\n",
       " 'Compacting 8 cell',\n",
       " '3 Cell',\n",
       " 'Early blast',\n",
       " 'Empty',\n",
       " '4 Cell',\n",
       " '4 Cell',\n",
       " 'Empty',\n",
       " 'Empty',\n",
       " 'Empty',\n",
       " 'Empty',\n",
       " 'Morula',\n",
       " 'Empty',\n",
       " '6 Cell',\n",
       " '2 Cell',\n",
       " 'Empty',\n",
       " 'Empty',\n",
       " '2pn',\n",
       " 'Empty',\n",
       " '2pn',\n",
       " 'Empty',\n",
       " 'Empty',\n",
       " 'Empty',\n",
       " '4 Cell',\n",
       " 'Empty',\n",
       " 'Empty',\n",
       " 'Empty',\n",
       " '3 Cell',\n",
       " '2 Cell',\n",
       " 'Empty',\n",
       " '2pn',\n",
       " 'Empty',\n",
       " 'Syngamy',\n",
       " 'Syngamy',\n",
       " 'Empty',\n",
       " 'Empty',\n",
       " 'Morula',\n",
       " 'Syngamy',\n",
       " 'Empty',\n",
       " '2pn',\n",
       " 'Blastocyst',\n",
       " '2pn',\n",
       " '4 Cell',\n",
       " 'Empty',\n",
       " 'Empty',\n",
       " 'Early blast',\n",
       " 'Empty',\n",
       " '2pn',\n",
       " '2pn',\n",
       " 'Empty',\n",
       " 'Empty',\n",
       " 'Empty',\n",
       " 'Empty',\n",
       " 'Empty',\n",
       " 'Empty',\n",
       " 'Blastocyst',\n",
       " '2 Cell',\n",
       " 'Empty',\n",
       " 'Compacting 8 cell',\n",
       " '6 Cell',\n",
       " 'Empty',\n",
       " '4 Cell',\n",
       " 'Empty',\n",
       " 'Early blast',\n",
       " 'Empty',\n",
       " 'Morula',\n",
       " 'Syngamy',\n",
       " 'Morula',\n",
       " 'Empty',\n",
       " '2 Cell',\n",
       " 'Morula',\n",
       " 'Empty',\n",
       " 'Expanded Blastocyst',\n",
       " 'Empty',\n",
       " 'Syngamy',\n",
       " 'Empty',\n",
       " 'Early blast',\n",
       " 'Empty',\n",
       " 'Morula',\n",
       " 'Empty',\n",
       " 'Empty',\n",
       " 'Empty',\n",
       " 'Empty',\n",
       " 'Morula',\n",
       " 'Compacting 8 cell',\n",
       " 'Empty',\n",
       " 'Expanded Blastocyst',\n",
       " 'Empty',\n",
       " 'Empty',\n",
       " '2 Cell',\n",
       " 'Empty',\n",
       " 'Compacting 8 cell',\n",
       " '5 Cell',\n",
       " 'Compacting 8 cell',\n",
       " '6 Cell',\n",
       " '4 Cell',\n",
       " 'Empty',\n",
       " 'Empty',\n",
       " 'Empty',\n",
       " 'Empty',\n",
       " '4 Cell',\n",
       " '4 Cell',\n",
       " 'Expanded Blastocyst',\n",
       " 'Empty',\n",
       " 'Empty',\n",
       " '8 Cell',\n",
       " '2 Cell',\n",
       " 'Empty',\n",
       " 'Empty',\n",
       " 'Empty',\n",
       " 'Empty',\n",
       " '6 Cell',\n",
       " 'Empty',\n",
       " 'Morula',\n",
       " '2pn',\n",
       " 'Expanded Blastocyst',\n",
       " 'Empty',\n",
       " '2 Cell',\n",
       " 'Syngamy',\n",
       " 'Empty',\n",
       " '2pn',\n",
       " 'Empty',\n",
       " 'Empty',\n",
       " 'Syngamy',\n",
       " '5 Cell',\n",
       " 'Empty',\n",
       " '2 Cell',\n",
       " 'Empty',\n",
       " '3 Cell',\n",
       " '3 Cell',\n",
       " 'Morula',\n",
       " 'Compacting 8 cell',\n",
       " '2 Cell',\n",
       " 'Syngamy',\n",
       " 'Empty',\n",
       " 'Empty',\n",
       " 'Early blast',\n",
       " '4 Cell',\n",
       " 'Morula',\n",
       " '2 Cell',\n",
       " 'Empty',\n",
       " 'Empty',\n",
       " 'Blastocyst',\n",
       " 'Empty',\n",
       " 'Empty',\n",
       " '6 Cell',\n",
       " 'Empty',\n",
       " 'Empty',\n",
       " '4 Cell',\n",
       " 'Early blast',\n",
       " 'Empty',\n",
       " 'Empty',\n",
       " 'Morula',\n",
       " 'Expanded Blastocyst',\n",
       " '2pn',\n",
       " 'Empty',\n",
       " 'Empty',\n",
       " 'Empty',\n",
       " 'Empty',\n",
       " '2pn',\n",
       " 'Empty',\n",
       " '3 Cell',\n",
       " '2 Cell',\n",
       " '4 Cell',\n",
       " 'Early blast',\n",
       " '2 Cell',\n",
       " 'Empty',\n",
       " 'Empty',\n",
       " '4 Cell',\n",
       " 'Compacting 8 cell',\n",
       " 'Empty',\n",
       " 'Empty',\n",
       " 'Syngamy',\n",
       " '2pn',\n",
       " '4 Cell',\n",
       " 'Empty',\n",
       " 'Syngamy',\n",
       " '2 Cell',\n",
       " 'Empty',\n",
       " 'Empty',\n",
       " '4 Cell',\n",
       " 'Morula',\n",
       " '4 Cell',\n",
       " 'Syngamy',\n",
       " 'Empty',\n",
       " '4 Cell',\n",
       " 'Compacting 8 cell',\n",
       " '2pn',\n",
       " 'Empty',\n",
       " 'Empty',\n",
       " 'Empty',\n",
       " '2 Cell',\n",
       " 'Empty',\n",
       " '2pn',\n",
       " 'Compacting 8 cell',\n",
       " 'Compacting 8 cell',\n",
       " '8 Cell',\n",
       " '8 Cell',\n",
       " '2pn',\n",
       " 'Empty',\n",
       " 'Blastocyst',\n",
       " 'Syngamy',\n",
       " '2pn',\n",
       " 'Empty',\n",
       " '4 Cell',\n",
       " 'Morula',\n",
       " 'Expanded Blastocyst',\n",
       " 'Empty',\n",
       " 'Early blast',\n",
       " 'Empty',\n",
       " 'Morula',\n",
       " '4 Cell',\n",
       " 'Empty',\n",
       " 'Empty',\n",
       " 'Empty',\n",
       " 'Morula',\n",
       " '4 Cell',\n",
       " 'Empty',\n",
       " 'Early blast',\n",
       " '4 Cell',\n",
       " 'Compacting 8 cell',\n",
       " 'Empty',\n",
       " 'Empty',\n",
       " '2pn',\n",
       " '6 Cell',\n",
       " 'Empty',\n",
       " 'Empty',\n",
       " '8 Cell',\n",
       " 'Empty',\n",
       " 'Early blast',\n",
       " '2pn',\n",
       " 'Expanded Blastocyst',\n",
       " 'Morula',\n",
       " 'Empty',\n",
       " 'Empty',\n",
       " 'Empty',\n",
       " 'Empty',\n",
       " 'Morula',\n",
       " 'Morula',\n",
       " 'Empty',\n",
       " '6 Cell',\n",
       " 'Syngamy',\n",
       " 'Syngamy',\n",
       " 'Empty',\n",
       " 'Empty',\n",
       " 'Morula',\n",
       " '4 Cell',\n",
       " '4 Cell',\n",
       " '8 Cell',\n",
       " 'Empty',\n",
       " 'Syngamy',\n",
       " 'Empty',\n",
       " 'Morula',\n",
       " 'Empty',\n",
       " 'Empty',\n",
       " 'Empty',\n",
       " 'Compacting 8 cell',\n",
       " 'Empty',\n",
       " '4 Cell',\n",
       " 'Morula',\n",
       " 'Empty',\n",
       " 'Empty',\n",
       " 'Syngamy',\n",
       " 'Empty',\n",
       " 'Empty',\n",
       " 'Empty',\n",
       " 'Morula',\n",
       " '2 Cell',\n",
       " 'Syngamy',\n",
       " 'Empty',\n",
       " 'Empty',\n",
       " 'Morula',\n",
       " 'Empty',\n",
       " 'Empty',\n",
       " 'Empty',\n",
       " 'Empty',\n",
       " 'Empty',\n",
       " 'Empty',\n",
       " '2 Cell',\n",
       " 'Empty',\n",
       " 'Empty',\n",
       " '2pn',\n",
       " '3 Cell',\n",
       " 'Syngamy',\n",
       " 'Empty',\n",
       " '2pn',\n",
       " 'Morula',\n",
       " 'Empty',\n",
       " 'Empty',\n",
       " 'Expanded Blastocyst',\n",
       " 'Early blast',\n",
       " 'Early blast',\n",
       " 'Syngamy',\n",
       " 'Empty',\n",
       " 'Empty',\n",
       " 'Empty',\n",
       " '2pn',\n",
       " 'Empty',\n",
       " 'Morula',\n",
       " 'Morula',\n",
       " 'Compacting 8 cell',\n",
       " '4 Cell',\n",
       " 'Empty',\n",
       " 'Empty',\n",
       " 'Early blast',\n",
       " 'Early blast',\n",
       " 'Empty',\n",
       " '8 Cell',\n",
       " 'Syngamy',\n",
       " 'Expanded Blastocyst',\n",
       " '3 Cell',\n",
       " '3 Cell',\n",
       " '8 Cell',\n",
       " 'Empty',\n",
       " '4 Cell',\n",
       " '2pn',\n",
       " 'Morula',\n",
       " 'Blastocyst',\n",
       " 'Empty',\n",
       " '2 Cell',\n",
       " '8 Cell',\n",
       " 'Empty',\n",
       " 'Morula',\n",
       " 'Empty',\n",
       " '2pn',\n",
       " 'Empty',\n",
       " 'Empty',\n",
       " 'Expanded Blastocyst',\n",
       " '2pn',\n",
       " 'Blastocyst',\n",
       " '2pn',\n",
       " 'Empty',\n",
       " 'Empty',\n",
       " '2pn',\n",
       " 'Morula',\n",
       " 'Empty',\n",
       " 'Empty',\n",
       " '8 Cell',\n",
       " '2 Cell',\n",
       " 'Early blast',\n",
       " 'Syngamy',\n",
       " 'Empty',\n",
       " '3 Cell',\n",
       " 'Empty',\n",
       " '2pn',\n",
       " 'Expanded Blastocyst',\n",
       " '8 Cell',\n",
       " 'Syngamy',\n",
       " 'Empty',\n",
       " '2 Cell',\n",
       " 'Empty',\n",
       " 'Compacting 8 cell',\n",
       " 'Empty',\n",
       " 'Empty',\n",
       " 'Morula',\n",
       " 'Empty',\n",
       " 'Expanded Blastocyst',\n",
       " 'Morula',\n",
       " 'Expanded Blastocyst',\n",
       " 'Empty',\n",
       " 'Empty',\n",
       " '2pn',\n",
       " '6 Cell',\n",
       " 'Empty',\n",
       " '2pn',\n",
       " '2pn',\n",
       " 'Expanded Blastocyst',\n",
       " '8 Cell',\n",
       " '2pn',\n",
       " 'Early blast',\n",
       " 'Empty',\n",
       " '4 Cell',\n",
       " 'Empty',\n",
       " 'Empty',\n",
       " 'Blastocyst',\n",
       " 'Morula',\n",
       " 'Early blast',\n",
       " '6 Cell',\n",
       " 'Morula',\n",
       " 'Empty',\n",
       " '2pn',\n",
       " 'Empty',\n",
       " 'Empty',\n",
       " 'Morula',\n",
       " 'Expanded Blastocyst',\n",
       " 'Morula',\n",
       " 'Empty',\n",
       " '2pn',\n",
       " 'Empty',\n",
       " 'Empty',\n",
       " '2pn',\n",
       " 'Empty',\n",
       " '2pn',\n",
       " 'Compacting 8 cell',\n",
       " 'Morula',\n",
       " 'Empty',\n",
       " '8 Cell',\n",
       " 'Empty',\n",
       " 'Blastocyst',\n",
       " '3 Cell',\n",
       " 'Empty',\n",
       " 'Empty',\n",
       " 'Empty',\n",
       " 'Empty',\n",
       " 'Empty',\n",
       " 'Empty',\n",
       " '2 Cell',\n",
       " 'Morula',\n",
       " 'Empty',\n",
       " '8 Cell',\n",
       " 'Empty',\n",
       " 'Empty',\n",
       " 'Empty',\n",
       " '4 Cell',\n",
       " 'Compacting 8 cell',\n",
       " 'Empty',\n",
       " '8 Cell',\n",
       " 'Empty',\n",
       " '8 Cell',\n",
       " 'Morula',\n",
       " 'Empty',\n",
       " 'Empty',\n",
       " 'Morula',\n",
       " 'Empty',\n",
       " 'Empty',\n",
       " 'Blastocyst',\n",
       " '2 Cell',\n",
       " 'Expanded Blastocyst',\n",
       " 'Empty',\n",
       " '4 Cell',\n",
       " 'Early blast',\n",
       " '2 Cell',\n",
       " 'Empty',\n",
       " 'Empty',\n",
       " 'Empty',\n",
       " '2pn',\n",
       " 'Empty',\n",
       " 'Empty',\n",
       " 'Blastocyst',\n",
       " '3 Cell',\n",
       " 'Empty',\n",
       " 'Morula',\n",
       " 'Morula',\n",
       " 'Morula',\n",
       " 'Empty',\n",
       " '6 Cell',\n",
       " 'Expanded Blastocyst',\n",
       " 'Empty',\n",
       " 'Compacting 8 cell',\n",
       " 'Empty',\n",
       " 'Empty',\n",
       " 'Empty',\n",
       " 'Empty',\n",
       " 'Early blast',\n",
       " 'Empty',\n",
       " 'Empty',\n",
       " 'Expanded Blastocyst',\n",
       " 'Early blast',\n",
       " 'Morula',\n",
       " 'Syngamy',\n",
       " 'Syngamy',\n",
       " 'Morula',\n",
       " 'Compacting 8 cell',\n",
       " 'Empty',\n",
       " 'Expanded Blastocyst',\n",
       " 'Blastocyst',\n",
       " 'Compacting 8 cell',\n",
       " 'Empty',\n",
       " 'Empty',\n",
       " 'Empty',\n",
       " '6 Cell',\n",
       " 'Empty',\n",
       " 'Empty',\n",
       " 'Empty',\n",
       " 'Empty',\n",
       " 'Empty',\n",
       " 'Morula',\n",
       " 'Early blast',\n",
       " 'Morula',\n",
       " '8 Cell',\n",
       " 'Early blast',\n",
       " 'Empty',\n",
       " 'Empty',\n",
       " 'Empty',\n",
       " 'Empty',\n",
       " '2pn',\n",
       " 'Empty',\n",
       " '6 Cell',\n",
       " 'Empty',\n",
       " '2 Cell',\n",
       " 'Empty',\n",
       " '2pn',\n",
       " 'Empty',\n",
       " '5 Cell',\n",
       " '4 Cell',\n",
       " 'Empty',\n",
       " 'Morula',\n",
       " '2pn',\n",
       " 'Empty',\n",
       " 'Blastocyst',\n",
       " 'Morula',\n",
       " '8 Cell',\n",
       " 'Empty',\n",
       " 'Empty',\n",
       " '2 Cell',\n",
       " 'Compacting 8 cell',\n",
       " 'Syngamy',\n",
       " 'Empty',\n",
       " 'Empty',\n",
       " 'Empty',\n",
       " 'Empty',\n",
       " 'Empty',\n",
       " 'Syngamy',\n",
       " 'Syngamy',\n",
       " '4 Cell',\n",
       " 'Morula',\n",
       " 'Empty',\n",
       " '3 Cell',\n",
       " 'Empty',\n",
       " '4 Cell',\n",
       " 'Empty',\n",
       " '4 Cell',\n",
       " '2 Cell',\n",
       " 'Blastocyst',\n",
       " 'Compacting 8 cell',\n",
       " '2pn',\n",
       " '2pn',\n",
       " 'Morula',\n",
       " '6 Cell',\n",
       " 'Morula',\n",
       " '8 Cell',\n",
       " 'Compacting 8 cell',\n",
       " 'Syngamy',\n",
       " 'Morula',\n",
       " '6 Cell',\n",
       " 'Syngamy',\n",
       " 'Empty',\n",
       " 'Expanded Blastocyst',\n",
       " 'Morula',\n",
       " 'Empty',\n",
       " 'Empty',\n",
       " 'Morula',\n",
       " '4 Cell',\n",
       " 'Empty',\n",
       " 'Empty',\n",
       " '2pn',\n",
       " 'Empty',\n",
       " 'Empty',\n",
       " 'Blastocyst',\n",
       " 'Syngamy',\n",
       " '5 Cell',\n",
       " '4 Cell',\n",
       " 'Empty',\n",
       " 'Blastocyst',\n",
       " '2pn',\n",
       " 'Empty',\n",
       " 'Syngamy',\n",
       " 'Syngamy',\n",
       " 'Empty',\n",
       " 'Empty',\n",
       " 'Morula',\n",
       " 'Empty',\n",
       " '5 Cell',\n",
       " '6 Cell',\n",
       " 'Empty',\n",
       " '8 Cell',\n",
       " 'Empty',\n",
       " 'Morula',\n",
       " 'Compacting 8 cell',\n",
       " 'Morula',\n",
       " '3 Cell',\n",
       " 'Morula',\n",
       " '4 Cell',\n",
       " 'Compacting 8 cell',\n",
       " 'Empty',\n",
       " 'Empty',\n",
       " '4 Cell',\n",
       " 'Empty',\n",
       " 'Morula',\n",
       " 'Empty',\n",
       " 'Expanded Blastocyst',\n",
       " 'Expanded Blastocyst',\n",
       " 'Morula',\n",
       " 'Empty',\n",
       " 'Empty',\n",
       " '6 Cell',\n",
       " 'Empty',\n",
       " '2pn',\n",
       " 'Empty',\n",
       " 'Empty',\n",
       " 'Empty',\n",
       " '8 Cell',\n",
       " 'Empty',\n",
       " '4 Cell',\n",
       " 'Empty',\n",
       " 'Empty',\n",
       " 'Syngamy',\n",
       " 'Empty',\n",
       " '4 Cell',\n",
       " 'Empty',\n",
       " 'Blastocyst',\n",
       " 'Compacting 8 cell',\n",
       " 'Empty',\n",
       " 'Empty',\n",
       " '2 Cell',\n",
       " 'Empty',\n",
       " '4 Cell',\n",
       " 'Morula',\n",
       " 'Empty',\n",
       " 'Empty',\n",
       " '2 Cell',\n",
       " 'Blastocyst',\n",
       " '4 Cell',\n",
       " 'Syngamy',\n",
       " '2pn',\n",
       " 'Empty',\n",
       " 'Expanded Blastocyst',\n",
       " '6 Cell',\n",
       " '4 Cell',\n",
       " 'Empty',\n",
       " 'Empty',\n",
       " 'Syngamy',\n",
       " 'Empty',\n",
       " 'Blastocyst',\n",
       " 'Empty',\n",
       " '2 Cell',\n",
       " 'Empty',\n",
       " 'Syngamy',\n",
       " 'Empty',\n",
       " 'Syngamy',\n",
       " 'Early blast',\n",
       " '2 Cell',\n",
       " 'Empty',\n",
       " '2 Cell',\n",
       " 'Syngamy',\n",
       " '2 Cell',\n",
       " 'Empty',\n",
       " 'Empty',\n",
       " 'Empty',\n",
       " '4 Cell',\n",
       " 'Morula',\n",
       " 'Empty',\n",
       " '3 Cell',\n",
       " 'Syngamy',\n",
       " 'Empty',\n",
       " '3 Cell',\n",
       " 'Expanded Blastocyst',\n",
       " 'Syngamy',\n",
       " 'Empty',\n",
       " 'Compacting 8 cell',\n",
       " '2pn',\n",
       " 'Empty',\n",
       " 'Empty',\n",
       " '6 Cell',\n",
       " 'Morula',\n",
       " '4 Cell',\n",
       " '8 Cell',\n",
       " '4 Cell',\n",
       " '2 Cell',\n",
       " 'Empty',\n",
       " 'Empty',\n",
       " 'Empty',\n",
       " 'Empty',\n",
       " 'Empty',\n",
       " 'Syngamy',\n",
       " 'Empty',\n",
       " 'Syngamy',\n",
       " 'Empty',\n",
       " 'Empty',\n",
       " '3 Cell',\n",
       " '3 Cell',\n",
       " '2pn',\n",
       " 'Empty',\n",
       " 'Empty',\n",
       " 'Early blast',\n",
       " 'Empty',\n",
       " '4 Cell',\n",
       " 'Morula',\n",
       " '2 Cell',\n",
       " '2pn',\n",
       " 'Empty',\n",
       " 'Syngamy',\n",
       " 'Blastocyst',\n",
       " 'Early blast',\n",
       " 'Empty',\n",
       " '4 Cell',\n",
       " 'Expanded Blastocyst',\n",
       " '8 Cell',\n",
       " 'Empty',\n",
       " 'Empty',\n",
       " 'Empty',\n",
       " 'Syngamy',\n",
       " 'Morula',\n",
       " '8 Cell',\n",
       " 'Compacting 8 cell',\n",
       " 'Empty',\n",
       " ...]"
      ]
     },
     "execution_count": 78,
     "metadata": {},
     "output_type": "execute_result"
    }
   ],
   "source": [
    "true_classes = []\n",
    "for x,y in test_dataset:\n",
    "    true_classes.extend(classes[c] for c in y.numpy().argmax(axis=1))\n",
    "true_classes"
   ]
  },
  {
   "cell_type": "code",
   "execution_count": 80,
   "id": "b1d6833b",
   "metadata": {},
   "outputs": [
    {
     "data": {
      "text/html": [
       "<div>\n",
       "<style scoped>\n",
       "    .dataframe tbody tr th:only-of-type {\n",
       "        vertical-align: middle;\n",
       "    }\n",
       "\n",
       "    .dataframe tbody tr th {\n",
       "        vertical-align: top;\n",
       "    }\n",
       "\n",
       "    .dataframe thead th {\n",
       "        text-align: right;\n",
       "    }\n",
       "</style>\n",
       "<table border=\"1\" class=\"dataframe\">\n",
       "  <thead>\n",
       "    <tr style=\"text-align: right;\">\n",
       "      <th></th>\n",
       "      <th>true_class</th>\n",
       "      <th>predicted_class</th>\n",
       "      <th>confidence</th>\n",
       "    </tr>\n",
       "  </thead>\n",
       "  <tbody>\n",
       "    <tr>\n",
       "      <th>0</th>\n",
       "      <td>Morula</td>\n",
       "      <td>Morula</td>\n",
       "      <td>0.935547</td>\n",
       "    </tr>\n",
       "    <tr>\n",
       "      <th>1</th>\n",
       "      <td>Empty</td>\n",
       "      <td>Empty</td>\n",
       "      <td>0.998535</td>\n",
       "    </tr>\n",
       "    <tr>\n",
       "      <th>2</th>\n",
       "      <td>Empty</td>\n",
       "      <td>Empty</td>\n",
       "      <td>1.000000</td>\n",
       "    </tr>\n",
       "    <tr>\n",
       "      <th>3</th>\n",
       "      <td>Syngamy</td>\n",
       "      <td>Syngamy</td>\n",
       "      <td>0.958008</td>\n",
       "    </tr>\n",
       "    <tr>\n",
       "      <th>4</th>\n",
       "      <td>Empty</td>\n",
       "      <td>Empty</td>\n",
       "      <td>1.000000</td>\n",
       "    </tr>\n",
       "    <tr>\n",
       "      <th>...</th>\n",
       "      <td>...</td>\n",
       "      <td>...</td>\n",
       "      <td>...</td>\n",
       "    </tr>\n",
       "    <tr>\n",
       "      <th>2555</th>\n",
       "      <td>Empty</td>\n",
       "      <td>Empty</td>\n",
       "      <td>0.999512</td>\n",
       "    </tr>\n",
       "    <tr>\n",
       "      <th>2556</th>\n",
       "      <td>Empty</td>\n",
       "      <td>Empty</td>\n",
       "      <td>0.999023</td>\n",
       "    </tr>\n",
       "    <tr>\n",
       "      <th>2557</th>\n",
       "      <td>Early blast</td>\n",
       "      <td>Early blast</td>\n",
       "      <td>0.987793</td>\n",
       "    </tr>\n",
       "    <tr>\n",
       "      <th>2558</th>\n",
       "      <td>Empty</td>\n",
       "      <td>Empty</td>\n",
       "      <td>0.999023</td>\n",
       "    </tr>\n",
       "    <tr>\n",
       "      <th>2559</th>\n",
       "      <td>3 Cell</td>\n",
       "      <td>3 Cell</td>\n",
       "      <td>0.825684</td>\n",
       "    </tr>\n",
       "  </tbody>\n",
       "</table>\n",
       "<p>2560 rows × 3 columns</p>\n",
       "</div>"
      ],
      "text/plain": [
       "       true_class predicted_class  confidence\n",
       "0          Morula          Morula    0.935547\n",
       "1           Empty           Empty    0.998535\n",
       "2           Empty           Empty    1.000000\n",
       "3         Syngamy         Syngamy    0.958008\n",
       "4           Empty           Empty    1.000000\n",
       "...           ...             ...         ...\n",
       "2555        Empty           Empty    0.999512\n",
       "2556        Empty           Empty    0.999023\n",
       "2557  Early blast     Early blast    0.987793\n",
       "2558        Empty           Empty    0.999023\n",
       "2559       3 Cell          3 Cell    0.825684\n",
       "\n",
       "[2560 rows x 3 columns]"
      ]
     },
     "execution_count": 80,
     "metadata": {},
     "output_type": "execute_result"
    }
   ],
   "source": [
    "validation_df = pd.DataFrame()\n",
    "#validation_df[\"filepath\"] = train.file_paths[0:(test_batches // 5)*BATCH_SIZE]\n",
    "validation_df[\"true_class\"] = true_classes\n",
    "validation_df[\"predicted_class\"] = [classes[c] for c in predicted_codes]\n",
    "validation_df[\"confidence\"] = confidence\n",
    "validation_df"
   ]
  },
  {
   "cell_type": "code",
   "execution_count": 81,
   "id": "b3ef09d2",
   "metadata": {},
   "outputs": [
    {
     "data": {
      "text/plain": [
       "predicted_class\n",
       "2 Cell                 0.949707\n",
       "2pn                    0.961426\n",
       "3 Cell                 0.825684\n",
       "4 Cell                 0.908691\n",
       "5 Cell                 0.706055\n",
       "6 Cell                 0.783203\n",
       "8 Cell                 0.738281\n",
       "Blastocyst             0.776367\n",
       "Compacting 8 cell      0.657715\n",
       "Early blast            0.837402\n",
       "Empty                  1.000000\n",
       "Expanded Blastocyst    0.944336\n",
       "Morula                 0.845215\n",
       "Syngamy                0.915039\n",
       "Name: confidence, dtype: float16"
      ]
     },
     "execution_count": 81,
     "metadata": {},
     "output_type": "execute_result"
    }
   ],
   "source": [
    "validation_df.groupby(\"predicted_class\").confidence.median()"
   ]
  },
  {
   "cell_type": "code",
   "execution_count": 82,
   "id": "9472e193",
   "metadata": {},
   "outputs": [],
   "source": [
    "validation_df.to_csv(\"validation_predictions.csv\", index=False)"
   ]
  },
  {
   "cell_type": "code",
   "execution_count": 84,
   "id": "f3a61eb6",
   "metadata": {},
   "outputs": [
    {
     "name": "stdout",
     "output_type": "stream",
     "text": [
      "                     precision    recall  f1-score   support\n",
      "\n",
      "             2 Cell       0.91      0.96      0.94       132\n",
      "                2pn       0.93      0.95      0.94       192\n",
      "             3 Cell       0.95      0.82      0.88        68\n",
      "             4 Cell       0.92      0.92      0.92       145\n",
      "             5 Cell       0.84      0.59      0.70        27\n",
      "             6 Cell       0.81      0.87      0.84        62\n",
      "             8 Cell       0.88      0.89      0.89        65\n",
      "         Blastocyst       0.85      0.80      0.82        70\n",
      "  Compacting 8 cell       0.88      0.75      0.81       106\n",
      "        Early blast       0.83      0.85      0.84       100\n",
      "              Empty       1.00      1.00      1.00      1090\n",
      "Expanded Blastocyst       0.92      0.91      0.91        75\n",
      "             Morula       0.88      0.95      0.92       257\n",
      "            Syngamy       0.95      0.94      0.94       171\n",
      "\n",
      "           accuracy                           0.94      2560\n",
      "          macro avg       0.90      0.87      0.88      2560\n",
      "       weighted avg       0.94      0.94      0.94      2560\n",
      "\n"
     ]
    },
    {
     "data": {
      "text/plain": [
       "Text(30.499999999999993, 0.5, 'True')"
      ]
     },
     "execution_count": 84,
     "metadata": {},
     "output_type": "execute_result"
    },
    {
     "data": {
      "image/png": "[encoded data removed]",
      "text/plain": [
       "<Figure size 432x288 with 2 Axes>"
      ]
     },
     "metadata": {},
     "output_type": "display_data"
    }
   ],
   "source": [
    "print(classification_report(validation_df[\"true_class\"], validation_df[\"predicted_class\"]))\n",
    "s = sns.heatmap(\n",
    "    confusion_matrix(validation_df[\"true_class\"], validation_df[\"predicted_class\"]),\n",
    "    annot=True,\n",
    "    cmap='Blues',\n",
    "    fmt=\"g\",\n",
    "    xticklabels=classes,\n",
    "    yticklabels=classes\n",
    ")\n",
    "s.set_xlabel('Predicted', fontsize=10)\n",
    "s.set_ylabel('True', fontsize=10)"
   ]
  },
  {
   "cell_type": "code",
   "execution_count": 85,
   "id": "94744f4c",
   "metadata": {},
   "outputs": [],
   "source": [
    "model.save(f\"models/{len(classes)}_class.h5\")"
   ]
  },
  {
   "cell_type": "code",
   "execution_count": 91,
   "id": "869f6c37",
   "metadata": {},
   "outputs": [
    {
     "name": "stdout",
     "output_type": "stream",
     "text": [
      "Found 3591 files belonging to 1 classes.\n"
     ]
    }
   ],
   "source": [
    "test = tf.keras.utils.image_dataset_from_directory(\n",
    "    \"EmbryoLabeling/Labelers/One/M3169_S00470\",\n",
    "    labels=None,\n",
    "    image_size = (299,299),\n",
    "    batch_size = BATCH_SIZE,\n",
    "    shuffle = False\n",
    ")"
   ]
  },
  {
   "cell_type": "code",
   "execution_count": 92,
   "id": "7cddad68",
   "metadata": {},
   "outputs": [
    {
     "name": "stdout",
     "output_type": "stream",
     "text": [
      "8/8 [==============================] - 7s 816ms/step\n"
     ]
    }
   ],
   "source": [
    "results = model.predict(test)"
   ]
  },
  {
   "cell_type": "code",
   "execution_count": 93,
   "id": "86513e6e",
   "metadata": {},
   "outputs": [
    {
     "data": {
      "text/plain": [
       "count    3591.000000\n",
       "mean        0.646484\n",
       "std         0.200195\n",
       "min         0.182495\n",
       "25%         0.479980\n",
       "50%         0.637207\n",
       "75%         0.814697\n",
       "max         1.000000\n",
       "dtype: float64"
      ]
     },
     "execution_count": 93,
     "metadata": {},
     "output_type": "execute_result"
    }
   ],
   "source": [
    "predicted_codes = results.argmax(axis=1)\n",
    "confidence = results.max(axis=1)\n",
    "pd.Series(confidence).describe()"
   ]
  },
  {
   "cell_type": "code",
   "execution_count": 95,
   "id": "e85ef569",
   "metadata": {},
   "outputs": [
    {
     "data": {
      "text/html": [
       "<div>\n",
       "<style scoped>\n",
       "    .dataframe tbody tr th:only-of-type {\n",
       "        vertical-align: middle;\n",
       "    }\n",
       "\n",
       "    .dataframe tbody tr th {\n",
       "        vertical-align: top;\n",
       "    }\n",
       "\n",
       "    .dataframe thead th {\n",
       "        text-align: right;\n",
       "    }\n",
       "</style>\n",
       "<table border=\"1\" class=\"dataframe\">\n",
       "  <thead>\n",
       "    <tr style=\"text-align: right;\">\n",
       "      <th></th>\n",
       "      <th>filepath</th>\n",
       "      <th>class</th>\n",
       "      <th>confidence</th>\n",
       "    </tr>\n",
       "  </thead>\n",
       "  <tbody>\n",
       "    <tr>\n",
       "      <th>0</th>\n",
       "      <td>EmbryoLabeling/Labelers/One/M3169_S00470/M3169_S00470_W1_F0_1010.jpg</td>\n",
       "      <td>2pn</td>\n",
       "      <td>0.963867</td>\n",
       "    </tr>\n",
       "    <tr>\n",
       "      <th>1</th>\n",
       "      <td>EmbryoLabeling/Labelers/One/M3169_S00470/M3169_S00470_W1_F0_1031.jpg</td>\n",
       "      <td>2pn</td>\n",
       "      <td>0.989258</td>\n",
       "    </tr>\n",
       "    <tr>\n",
       "      <th>2</th>\n",
       "      <td>EmbryoLabeling/Labelers/One/M3169_S00470/M3169_S00470_W1_F0_1052.jpg</td>\n",
       "      <td>2pn</td>\n",
       "      <td>0.991211</td>\n",
       "    </tr>\n",
       "    <tr>\n",
       "      <th>3</th>\n",
       "      <td>EmbryoLabeling/Labelers/One/M3169_S00470/M3169_S00470_W1_F0_1073.jpg</td>\n",
       "      <td>2pn</td>\n",
       "      <td>0.991699</td>\n",
       "    </tr>\n",
       "    <tr>\n",
       "      <th>4</th>\n",
       "      <td>EmbryoLabeling/Labelers/One/M3169_S00470/M3169_S00470_W1_F0_1094.jpg</td>\n",
       "      <td>2pn</td>\n",
       "      <td>0.976074</td>\n",
       "    </tr>\n",
       "    <tr>\n",
       "      <th>...</th>\n",
       "      <td>...</td>\n",
       "      <td>...</td>\n",
       "      <td>...</td>\n",
       "    </tr>\n",
       "    <tr>\n",
       "      <th>3586</th>\n",
       "      <td>EmbryoLabeling/Labelers/One/M3169_S00470/M3169_S00470_W9_F0_990.jpg</td>\n",
       "      <td>Syngamy</td>\n",
       "      <td>0.657715</td>\n",
       "    </tr>\n",
       "    <tr>\n",
       "      <th>3587</th>\n",
       "      <td>EmbryoLabeling/Labelers/One/M3169_S00470/M3169_S00470_W9_F0_9921.jpg</td>\n",
       "      <td>Empty</td>\n",
       "      <td>0.653809</td>\n",
       "    </tr>\n",
       "    <tr>\n",
       "      <th>3588</th>\n",
       "      <td>EmbryoLabeling/Labelers/One/M3169_S00470/M3169_S00470_W9_F0_9942.jpg</td>\n",
       "      <td>Empty</td>\n",
       "      <td>0.511719</td>\n",
       "    </tr>\n",
       "    <tr>\n",
       "      <th>3589</th>\n",
       "      <td>EmbryoLabeling/Labelers/One/M3169_S00470/M3169_S00470_W9_F0_9963.jpg</td>\n",
       "      <td>Empty</td>\n",
       "      <td>0.511230</td>\n",
       "    </tr>\n",
       "    <tr>\n",
       "      <th>3590</th>\n",
       "      <td>EmbryoLabeling/Labelers/One/M3169_S00470/M3169_S00470_W9_F0_9990.jpg</td>\n",
       "      <td>Empty</td>\n",
       "      <td>0.596680</td>\n",
       "    </tr>\n",
       "  </tbody>\n",
       "</table>\n",
       "<p>3591 rows × 3 columns</p>\n",
       "</div>"
      ],
      "text/plain": [
       "                                                                  filepath  \\\n",
       "0     EmbryoLabeling/Labelers/One/M3169_S00470/M3169_S00470_W1_F0_1010.jpg   \n",
       "1     EmbryoLabeling/Labelers/One/M3169_S00470/M3169_S00470_W1_F0_1031.jpg   \n",
       "2     EmbryoLabeling/Labelers/One/M3169_S00470/M3169_S00470_W1_F0_1052.jpg   \n",
       "3     EmbryoLabeling/Labelers/One/M3169_S00470/M3169_S00470_W1_F0_1073.jpg   \n",
       "4     EmbryoLabeling/Labelers/One/M3169_S00470/M3169_S00470_W1_F0_1094.jpg   \n",
       "...                                                                    ...   \n",
       "3586   EmbryoLabeling/Labelers/One/M3169_S00470/M3169_S00470_W9_F0_990.jpg   \n",
       "3587  EmbryoLabeling/Labelers/One/M3169_S00470/M3169_S00470_W9_F0_9921.jpg   \n",
       "3588  EmbryoLabeling/Labelers/One/M3169_S00470/M3169_S00470_W9_F0_9942.jpg   \n",
       "3589  EmbryoLabeling/Labelers/One/M3169_S00470/M3169_S00470_W9_F0_9963.jpg   \n",
       "3590  EmbryoLabeling/Labelers/One/M3169_S00470/M3169_S00470_W9_F0_9990.jpg   \n",
       "\n",
       "        class  confidence  \n",
       "0         2pn    0.963867  \n",
       "1         2pn    0.989258  \n",
       "2         2pn    0.991211  \n",
       "3         2pn    0.991699  \n",
       "4         2pn    0.976074  \n",
       "...       ...         ...  \n",
       "3586  Syngamy    0.657715  \n",
       "3587    Empty    0.653809  \n",
       "3588    Empty    0.511719  \n",
       "3589    Empty    0.511230  \n",
       "3590    Empty    0.596680  \n",
       "\n",
       "[3591 rows x 3 columns]"
      ]
     },
     "execution_count": 95,
     "metadata": {},
     "output_type": "execute_result"
    }
   ],
   "source": [
    "test_df = pd.DataFrame()\n",
    "test_df[\"filepath\"] = test.file_paths\n",
    "test_df[\"class\"] = [classes[c] for c in predicted_codes]\n",
    "test_df[\"confidence\"] = confidence\n",
    "test_df"
   ]
  },
  {
   "cell_type": "code",
   "execution_count": 96,
   "id": "db63f875",
   "metadata": {},
   "outputs": [
    {
     "data": {
      "text/plain": [
       "2pn                    1009\n",
       "Morula                  662\n",
       "Empty                   562\n",
       "Expanded Blastocyst     545\n",
       "Syngamy                 378\n",
       "5 Cell                  146\n",
       "2 Cell                  111\n",
       "4 Cell                  106\n",
       "Blastocyst               65\n",
       "Early blast               5\n",
       "6 Cell                    2\n",
       "Name: class, dtype: int64"
      ]
     },
     "execution_count": 96,
     "metadata": {},
     "output_type": "execute_result"
    }
   ],
   "source": [
    "test_df[\"class\"].value_counts()"
   ]
  },
  {
   "cell_type": "code",
   "execution_count": 97,
   "id": "1f5bc5c2",
   "metadata": {},
   "outputs": [
    {
     "data": {
      "text/html": [
       "<div>\n",
       "<style scoped>\n",
       "    .dataframe tbody tr th:only-of-type {\n",
       "        vertical-align: middle;\n",
       "    }\n",
       "\n",
       "    .dataframe tbody tr th {\n",
       "        vertical-align: top;\n",
       "    }\n",
       "\n",
       "    .dataframe thead th {\n",
       "        text-align: right;\n",
       "    }\n",
       "</style>\n",
       "<table border=\"1\" class=\"dataframe\">\n",
       "  <thead>\n",
       "    <tr style=\"text-align: right;\">\n",
       "      <th></th>\n",
       "      <th>filepath</th>\n",
       "      <th>class</th>\n",
       "      <th>confidence</th>\n",
       "    </tr>\n",
       "  </thead>\n",
       "  <tbody>\n",
       "    <tr>\n",
       "      <th>0</th>\n",
       "      <td>EmbryoLabeling/Labelers/One/M3169_S00470/M3169_S00470_W1_F0_1010.jpg</td>\n",
       "      <td>2pn</td>\n",
       "      <td>0.963867</td>\n",
       "    </tr>\n",
       "    <tr>\n",
       "      <th>1</th>\n",
       "      <td>EmbryoLabeling/Labelers/One/M3169_S00470/M3169_S00470_W1_F0_1031.jpg</td>\n",
       "      <td>2pn</td>\n",
       "      <td>0.989258</td>\n",
       "    </tr>\n",
       "    <tr>\n",
       "      <th>2</th>\n",
       "      <td>EmbryoLabeling/Labelers/One/M3169_S00470/M3169_S00470_W1_F0_1052.jpg</td>\n",
       "      <td>2pn</td>\n",
       "      <td>0.991211</td>\n",
       "    </tr>\n",
       "    <tr>\n",
       "      <th>3</th>\n",
       "      <td>EmbryoLabeling/Labelers/One/M3169_S00470/M3169_S00470_W1_F0_1073.jpg</td>\n",
       "      <td>2pn</td>\n",
       "      <td>0.991699</td>\n",
       "    </tr>\n",
       "    <tr>\n",
       "      <th>4</th>\n",
       "      <td>EmbryoLabeling/Labelers/One/M3169_S00470/M3169_S00470_W1_F0_1094.jpg</td>\n",
       "      <td>2pn</td>\n",
       "      <td>0.976074</td>\n",
       "    </tr>\n",
       "    <tr>\n",
       "      <th>...</th>\n",
       "      <td>...</td>\n",
       "      <td>...</td>\n",
       "      <td>...</td>\n",
       "    </tr>\n",
       "    <tr>\n",
       "      <th>3586</th>\n",
       "      <td>EmbryoLabeling/Labelers/One/M3169_S00470/M3169_S00470_W9_F0_990.jpg</td>\n",
       "      <td>Syngamy</td>\n",
       "      <td>0.657715</td>\n",
       "    </tr>\n",
       "    <tr>\n",
       "      <th>3587</th>\n",
       "      <td>EmbryoLabeling/Labelers/One/M3169_S00470/M3169_S00470_W9_F0_9921.jpg</td>\n",
       "      <td>Empty</td>\n",
       "      <td>0.653809</td>\n",
       "    </tr>\n",
       "    <tr>\n",
       "      <th>3588</th>\n",
       "      <td>EmbryoLabeling/Labelers/One/M3169_S00470/M3169_S00470_W9_F0_9942.jpg</td>\n",
       "      <td>Empty</td>\n",
       "      <td>0.511719</td>\n",
       "    </tr>\n",
       "    <tr>\n",
       "      <th>3589</th>\n",
       "      <td>EmbryoLabeling/Labelers/One/M3169_S00470/M3169_S00470_W9_F0_9963.jpg</td>\n",
       "      <td>Empty</td>\n",
       "      <td>0.511230</td>\n",
       "    </tr>\n",
       "    <tr>\n",
       "      <th>3590</th>\n",
       "      <td>EmbryoLabeling/Labelers/One/M3169_S00470/M3169_S00470_W9_F0_9990.jpg</td>\n",
       "      <td>Empty</td>\n",
       "      <td>0.596680</td>\n",
       "    </tr>\n",
       "  </tbody>\n",
       "</table>\n",
       "<p>3591 rows × 3 columns</p>\n",
       "</div>"
      ],
      "text/plain": [
       "                                                                  filepath  \\\n",
       "0     EmbryoLabeling/Labelers/One/M3169_S00470/M3169_S00470_W1_F0_1010.jpg   \n",
       "1     EmbryoLabeling/Labelers/One/M3169_S00470/M3169_S00470_W1_F0_1031.jpg   \n",
       "2     EmbryoLabeling/Labelers/One/M3169_S00470/M3169_S00470_W1_F0_1052.jpg   \n",
       "3     EmbryoLabeling/Labelers/One/M3169_S00470/M3169_S00470_W1_F0_1073.jpg   \n",
       "4     EmbryoLabeling/Labelers/One/M3169_S00470/M3169_S00470_W1_F0_1094.jpg   \n",
       "...                                                                    ...   \n",
       "3586   EmbryoLabeling/Labelers/One/M3169_S00470/M3169_S00470_W9_F0_990.jpg   \n",
       "3587  EmbryoLabeling/Labelers/One/M3169_S00470/M3169_S00470_W9_F0_9921.jpg   \n",
       "3588  EmbryoLabeling/Labelers/One/M3169_S00470/M3169_S00470_W9_F0_9942.jpg   \n",
       "3589  EmbryoLabeling/Labelers/One/M3169_S00470/M3169_S00470_W9_F0_9963.jpg   \n",
       "3590  EmbryoLabeling/Labelers/One/M3169_S00470/M3169_S00470_W9_F0_9990.jpg   \n",
       "\n",
       "        class  confidence  \n",
       "0         2pn    0.963867  \n",
       "1         2pn    0.989258  \n",
       "2         2pn    0.991211  \n",
       "3         2pn    0.991699  \n",
       "4         2pn    0.976074  \n",
       "...       ...         ...  \n",
       "3586  Syngamy    0.657715  \n",
       "3587    Empty    0.653809  \n",
       "3588    Empty    0.511719  \n",
       "3589    Empty    0.511230  \n",
       "3590    Empty    0.596680  \n",
       "\n",
       "[3591 rows x 3 columns]"
      ]
     },
     "execution_count": 97,
     "metadata": {},
     "output_type": "execute_result"
    }
   ],
   "source": [
    "test_df"
   ]
  },
  {
   "cell_type": "code",
   "execution_count": 98,
   "id": "bd732527",
   "metadata": {},
   "outputs": [],
   "source": [
    "test_df.to_csv(\"predictions.csv\", index=False)"
   ]
  },
  {
   "cell_type": "code",
   "execution_count": null,
   "id": "d5a48ed5",
   "metadata": {},
   "outputs": [],
   "source": []
  },
  {
   "cell_type": "code",
   "execution_count": null,
   "id": "fa99701d",
   "metadata": {},
   "outputs": [],
   "source": []
  }
 ],
 "metadata": {
  "interpreter": {
   "hash": "916dbcbb3f70747c44a77c7bcd40155683ae19c65e1c03b4aa3499c5328201f1"
  },
  "kernelspec": {
   "display_name": "Python 3 (ipykernel)",
   "language": "python",
   "name": "python3"
  },
  "language_info": {
   "codemirror_mode": {
    "name": "ipython",
    "version": 3
   },
   "file_extension": ".py",
   "mimetype": "text/x-python",
   "name": "python",
   "nbconvert_exporter": "python",
   "pygments_lexer": "ipython3",
   "version": "3.8.10"
  }
 },
 "nbformat": 4,
 "nbformat_minor": 5
}
