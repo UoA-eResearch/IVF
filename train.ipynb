{
 "cells": [
  {
   "cell_type": "code",
   "execution_count": 1,
   "id": "97c7873e",
   "metadata": {},
   "outputs": [
    {
     "name": "stderr",
     "output_type": "stream",
     "text": [
      "2022-06-14 15:26:57.646971: I tensorflow/stream_executor/cuda/cuda_gpu_executor.cc:975] successful NUMA node read from SysFS had negative value (-1), but there must be at least one NUMA node, so returning NUMA node zero\n",
      "2022-06-14 15:26:57.689439: I tensorflow/stream_executor/cuda/cuda_gpu_executor.cc:975] successful NUMA node read from SysFS had negative value (-1), but there must be at least one NUMA node, so returning NUMA node zero\n",
      "2022-06-14 15:26:57.689675: I tensorflow/stream_executor/cuda/cuda_gpu_executor.cc:975] successful NUMA node read from SysFS had negative value (-1), but there must be at least one NUMA node, so returning NUMA node zero\n"
     ]
    },
    {
     "name": "stdout",
     "output_type": "stream",
     "text": [
      "INFO:tensorflow:Mixed precision compatibility check (mixed_float16): OK\n",
      "Your GPU will likely run quickly with dtype policy mixed_float16 as it has compute capability of at least 7.0. Your GPU: Tesla V100-PCIE-32GB, compute capability 7.0\n"
     ]
    },
    {
     "name": "stderr",
     "output_type": "stream",
     "text": [
      "2022-06-14 15:26:58.585168: I tensorflow/stream_executor/cuda/cuda_gpu_executor.cc:975] successful NUMA node read from SysFS had negative value (-1), but there must be at least one NUMA node, so returning NUMA node zero\n"
     ]
    },
    {
     "data": {
      "text/plain": [
       "Compacting    2430\n",
       "Blastocyst    2246\n",
       "2pn           2015\n",
       "Empty         1423\n",
       "Syngamy       1174\n",
       "2 Cell        1087\n",
       "4 Cell         951\n",
       "8 Cell         469\n",
       "6 Cell         446\n",
       "3 Cell         374\n",
       "9 Cell+        244\n",
       "5 Cell         215\n",
       "Name: class, dtype: int64"
      ]
     },
     "execution_count": 1,
     "metadata": {},
     "output_type": "execute_result"
    }
   ],
   "source": [
    "import os # File system operations\n",
    "import re # Regular expressions\n",
    "import pandas as pd # Tabular data\n",
    "import numpy as np # Numerical data\n",
    "pd.set_option('display.max_colwidth', None) # Show full file paths\n",
    "import sys\n",
    "\n",
    "# Don't use all of the GPU RAM\n",
    "import tensorflow as tf\n",
    "gpus = tf.config.experimental.list_physical_devices('GPU')\n",
    "for gpu in gpus:\n",
    "  tf.config.experimental.set_memory_growth(gpu, True)\n",
    "from tensorflow.keras import mixed_precision\n",
    "from tensorflow import keras # ML\n",
    "import tensorflow_addons as tfa # TQDM progress bar when training\n",
    "from sklearn.model_selection import train_test_split\n",
    "from sklearn.utils import class_weight\n",
    "from skimage import exposure\n",
    "\n",
    "import mlflow # model runs\n",
    "mlflow.set_tracking_uri(\"sqlite:///mlflow.db\") # Use sqlite for more efficient storage\n",
    "# https://www.mlflow.org/docs/latest/python_api/mlflow.tensorflow.html#mlflow.tensorflow.autolog\n",
    "mlflow.tensorflow.autolog()\n",
    "\n",
    "BATCH_SIZE = 128\n",
    "EQUALIZE = False\n",
    "\n",
    "mixed_precision.set_global_policy('mixed_float16')\n",
    "\n",
    "from keras_tuner.tuners import RandomSearch\n",
    "from keras_tuner.engine.hyperparameters import HyperParameters\n",
    "\n",
    "\n",
    "from sklearn.metrics import confusion_matrix, classification_report, accuracy_score\n",
    "\n",
    "from pathlib import Path # Pathing\n",
    "from glob import glob # Finding files recursively\n",
    "import matplotlib.pyplot as plt # Plotting\n",
    "import seaborn as sns # Plotting\n",
    "sns.set()\n",
    "from tqdm.auto import tqdm # Progress bars\n",
    "tqdm.pandas()\n",
    "\n",
    "BASE_DIR = Path(\"EmbryoLabeling/Labelers/train\")\n",
    "folders = os.listdir(BASE_DIR)\n",
    "folders = [f for f in folders if not re.match(r\"M\\d\", f)]\n",
    "files = []\n",
    "for folder in folders:\n",
    "    files_in_folder = pd.DataFrame(glob(f\"{BASE_DIR}/{folder}/**/*.jpg\", recursive=True), columns=[\"filename\"])\n",
    "    if len(files_in_folder) == 0:\n",
    "        print(f\"{folder} is empty!\")\n",
    "        os.rmdir(BASE_DIR / folder)\n",
    "    files_in_folder[\"class\"] = folder\n",
    "    files.append(files_in_folder)\n",
    "df = pd.concat(files)\n",
    "df[\"class\"].value_counts()"
   ]
  },
  {
   "cell_type": "code",
   "execution_count": 2,
   "id": "31a10845",
   "metadata": {},
   "outputs": [
    {
     "data": {
      "text/plain": [
       "<AxesSubplot:>"
      ]
     },
     "execution_count": 2,
     "metadata": {},
     "output_type": "execute_result"
    },
    {
     "data": {
      "image/png": "[encoded data removed]",
      "text/plain": [
       "<Figure size 432x288 with 1 Axes>"
      ]
     },
     "metadata": {
      "needs_background": "light"
     },
     "output_type": "display_data"
    }
   ],
   "source": [
    "df[\"class\"].value_counts().plot.bar(logy=True)"
   ]
  },
  {
   "cell_type": "code",
   "execution_count": 3,
   "id": "0f1360a2",
   "metadata": {},
   "outputs": [
    {
     "data": {
      "text/plain": [
       "M0776_S00512    1952\n",
       "M776_S0087      1559\n",
       "M0776_S00635    1325\n",
       "M0776_S00534    1232\n",
       "M3169_S00668    1166\n",
       "M0776_S00761    1138\n",
       "M0831_S00479     907\n",
       "M0776_S00470     784\n",
       "M0831_S00470     709\n",
       "M0831_S00659     368\n",
       "M3169_S00737     293\n",
       "M0776_S00737     218\n",
       "Name: filename, dtype: int64"
      ]
     },
     "execution_count": 3,
     "metadata": {},
     "output_type": "execute_result"
    }
   ],
   "source": [
    "# Print counts of images by machine and slide\n",
    "df.filename[~df[\"class\"].isin([\"bad\", \"Empty\"])].apply(lambda s: \"_\".join(s.split(\"/\")[-1].split(\"_\")[:2])).value_counts()"
   ]
  },
  {
   "cell_type": "code",
   "execution_count": 4,
   "id": "8e48f356",
   "metadata": {
    "scrolled": false
   },
   "outputs": [
    {
     "name": "stdout",
     "output_type": "stream",
     "text": [
      "           class  time_since_fert\n",
      "1008         2pn             1061\n",
      "983      Syngamy             1464\n",
      "449       2 Cell             1574\n",
      "148       3 Cell             2315\n",
      "131       4 Cell             2395\n",
      "11        5 Cell             3045\n",
      "30        6 Cell             3125\n",
      "182       8 Cell             3265\n",
      "125   Compacting             3375\n",
      "369   Blastocyst             6090\n",
      "1198       Empty             7036\n"
     ]
    }
   ],
   "source": [
    "# Track a single embryo's lifecycle\n",
    "pd.set_option('display.max_rows', 365)\n",
    "M776_S0087_W2 = df[df.filename.str.contains(\"M776_S0087_W2\")].copy()\n",
    "# Extract time since fertilisation in minutes from filename (ints, rounded to nearest minute)\n",
    "M776_S0087_W2[\"time_since_fert\"] = M776_S0087_W2.filename.apply(lambda s: s.replace(\".jpg\", \"\").split(\"_\")[-1]).astype(int)\n",
    "M776_S0087_W2 = M776_S0087_W2.sort_values(by=\"time_since_fert\")\n",
    "# Take the earliest time that each class was seen\n",
    "M776_S0087_W2 = M776_S0087_W2.groupby(\"class\").head(1)\n",
    "print(M776_S0087_W2[[\"class\", \"time_since_fert\"]])"
   ]
  },
  {
   "cell_type": "code",
   "execution_count": 5,
   "id": "b07925b9",
   "metadata": {},
   "outputs": [
    {
     "data": {
      "text/plain": [
       "['2pn',\n",
       " 'Syngamy',\n",
       " '2 Cell',\n",
       " '3 Cell',\n",
       " '4 Cell',\n",
       " '5 Cell',\n",
       " '6 Cell',\n",
       " '8 Cell',\n",
       " 'Compacting',\n",
       " 'Blastocyst',\n",
       " 'Empty']"
      ]
     },
     "execution_count": 5,
     "metadata": {},
     "output_type": "execute_result"
    }
   ],
   "source": [
    "classes = list(M776_S0087_W2[\"class\"])\n",
    "classes"
   ]
  },
  {
   "cell_type": "code",
   "execution_count": 6,
   "id": "e803af06",
   "metadata": {},
   "outputs": [
    {
     "data": {
      "image/png": "[encoded data removed]",
      "text/plain": [
       "<Figure size 1440x1440 with 1 Axes>"
      ]
     },
     "metadata": {
      "needs_background": "light"
     },
     "output_type": "display_data"
    }
   ],
   "source": [
    "# Plot embryo's lifecycle over time\n",
    "plt.figure(figsize=(20, 20))\n",
    "for i, row in M776_S0087_W2.iterrows():\n",
    "    image = keras.utils.load_img(row.filename, target_size=(299,299))\n",
    "    c_index = classes.index(row[\"class\"]) * 299\n",
    "    time_since_fert = row.time_since_fert\n",
    "    plt.imshow(image, extent=[time_since_fert, time_since_fert+299, c_index, c_index+299])\n",
    "    plt.text(time_since_fert, c_index, row[\"class\"], bbox=dict(boxstyle=\"round\", ec=(1., 0.5, 0.5), fc=(1., 0.8, 0.8)))\n",
    "plt.yticks([])\n",
    "plt.xlabel(\"Time since fertilisation (minutes)\")\n",
    "plt.xlim(0, M776_S0087_W2.time_since_fert.max() + 300)\n",
    "plt.ylim(0, len(classes) * 300)\n",
    "plt.show()"
   ]
  },
  {
   "cell_type": "code",
   "execution_count": 7,
   "id": "c00fd32a",
   "metadata": {
    "scrolled": false
   },
   "outputs": [
    {
     "data": {
      "image/png": "[encoded data removed]",
      "text/plain": [
       "<Figure size 720x720 with 25 Axes>"
      ]
     },
     "metadata": {
      "needs_background": "light"
     },
     "output_type": "display_data"
    }
   ],
   "source": [
    "plt.figure(figsize=(10, 10))\n",
    "sample = df.sample(25)\n",
    "for i, (idx, row) in enumerate(sample.iterrows()):\n",
    "    ax = plt.subplot(5, 5, i + 1)\n",
    "    img = keras.utils.load_img(row.filename, target_size=(299,299))\n",
    "    if EQUALIZE:\n",
    "        img = tfa.image.equalize(img)\n",
    "    plt.imshow(img)\n",
    "    plt.title(row[\"class\"])\n",
    "    plt.axis(\"off\")"
   ]
  },
  {
   "cell_type": "code",
   "execution_count": 8,
   "id": "dbbf3b1e",
   "metadata": {},
   "outputs": [
    {
     "name": "stdout",
     "output_type": "stream",
     "text": [
      "Found 13074 files belonging to 12 classes.\n"
     ]
    },
    {
     "name": "stderr",
     "output_type": "stream",
     "text": [
      "2022-06-14 15:27:02.466148: I tensorflow/core/platform/cpu_feature_guard.cc:193] This TensorFlow binary is optimized with oneAPI Deep Neural Network Library (oneDNN) to use the following CPU instructions in performance-critical operations:  AVX2 AVX512F FMA\n",
      "To enable them in other operations, rebuild TensorFlow with the appropriate compiler flags.\n",
      "2022-06-14 15:27:02.467020: I tensorflow/stream_executor/cuda/cuda_gpu_executor.cc:975] successful NUMA node read from SysFS had negative value (-1), but there must be at least one NUMA node, so returning NUMA node zero\n",
      "2022-06-14 15:27:02.467248: I tensorflow/stream_executor/cuda/cuda_gpu_executor.cc:975] successful NUMA node read from SysFS had negative value (-1), but there must be at least one NUMA node, so returning NUMA node zero\n",
      "2022-06-14 15:27:02.467377: I tensorflow/stream_executor/cuda/cuda_gpu_executor.cc:975] successful NUMA node read from SysFS had negative value (-1), but there must be at least one NUMA node, so returning NUMA node zero\n",
      "2022-06-14 15:27:03.253790: I tensorflow/stream_executor/cuda/cuda_gpu_executor.cc:975] successful NUMA node read from SysFS had negative value (-1), but there must be at least one NUMA node, so returning NUMA node zero\n",
      "2022-06-14 15:27:03.253992: I tensorflow/stream_executor/cuda/cuda_gpu_executor.cc:975] successful NUMA node read from SysFS had negative value (-1), but there must be at least one NUMA node, so returning NUMA node zero\n",
      "2022-06-14 15:27:03.254132: I tensorflow/stream_executor/cuda/cuda_gpu_executor.cc:975] successful NUMA node read from SysFS had negative value (-1), but there must be at least one NUMA node, so returning NUMA node zero\n",
      "2022-06-14 15:27:03.254276: I tensorflow/core/common_runtime/gpu/gpu_device.cc:1532] Created device /job:localhost/replica:0/task:0/device:GPU:0 with 13705 MB memory:  -> device: 0, name: Tesla V100-PCIE-32GB, pci bus id: 0000:00:08.0, compute capability: 7.0\n"
     ]
    }
   ],
   "source": [
    "train = tf.keras.utils.image_dataset_from_directory(\n",
    "    BASE_DIR,\n",
    "    image_size = (299,299),\n",
    "    batch_size = BATCH_SIZE, #// 4, # / 4 here, because the augmentations will * 4\n",
    "    label_mode = 'categorical',\n",
    "    shuffle = False\n",
    ")\n",
    "if EQUALIZE:\n",
    "    train_cache = train.map(lambda x, y: (tfa.image.equalize(x), y)).cache().prefetch(tf.data.AUTOTUNE)\n",
    "else:\n",
    "    train_cache = train.cache().prefetch(tf.data.AUTOTUNE)"
   ]
  },
  {
   "cell_type": "code",
   "execution_count": 9,
   "id": "012e294d",
   "metadata": {},
   "outputs": [
    {
     "data": {
      "text/plain": [
       "103"
      ]
     },
     "execution_count": 9,
     "metadata": {},
     "output_type": "execute_result"
    }
   ],
   "source": [
    "len(train_cache)"
   ]
  },
  {
   "cell_type": "code",
   "execution_count": 10,
   "id": "80d5d9ad",
   "metadata": {},
   "outputs": [
    {
     "data": {
      "application/vnd.jupyter.widget-view+json": {
       "model_id": "74bd3b0290b443e6a3d5705110a34e6e",
       "version_major": 2,
       "version_minor": 0
      },
      "text/plain": [
       "  0%|          | 0/103 [00:00<?, ?it/s]"
      ]
     },
     "metadata": {},
     "output_type": "display_data"
    }
   ],
   "source": [
    "list(tqdm(train_cache)); # load it all into RAM"
   ]
  },
  {
   "cell_type": "code",
   "execution_count": 11,
   "id": "27fe3367",
   "metadata": {},
   "outputs": [
    {
     "data": {
      "text/plain": [
       "<matplotlib.image.AxesImage at 0x7f7ce8169f40>"
      ]
     },
     "execution_count": 11,
     "metadata": {},
     "output_type": "execute_result"
    },
    {
     "data": {
      "image/png": "[encoded data removed]",
      "text/plain": [
       "<Figure size 432x288 with 1 Axes>"
      ]
     },
     "metadata": {
      "needs_background": "light"
     },
     "output_type": "display_data"
    }
   ],
   "source": [
    "x, y = next(iter(train_cache))\n",
    "plt.imshow(x.numpy()[0].astype(\"uint8\"))"
   ]
  },
  {
   "cell_type": "code",
   "execution_count": 12,
   "id": "110398bc",
   "metadata": {},
   "outputs": [
    {
     "name": "stdout",
     "output_type": "stream",
     "text": [
      "(512, 299, 299, 3) (512, 12)\n"
     ]
    }
   ],
   "source": [
    "class AugmentationGenerator(tf.keras.utils.Sequence):\n",
    "    def __getitem__(self, idx):\n",
    "        x, y = next(iter(train_cache.skip(idx).take(1)))\n",
    "        x = np.vstack([\n",
    "            x,\n",
    "            np.flip(x, axis=1),\n",
    "            np.flip(x, axis=2),\n",
    "            np.flip(np.flip(x, axis=1), axis=2),\n",
    "        ])\n",
    "        y = np.vstack([\n",
    "            y, y, y, y\n",
    "        ])\n",
    "        return x, y\n",
    "    def __len__(self):\n",
    "        return len(train_cache)\n",
    "\n",
    "x, y = AugmentationGenerator().__getitem__(0)\n",
    "print(x.shape, y.shape)"
   ]
  },
  {
   "cell_type": "code",
   "execution_count": 13,
   "id": "cb6e7d14",
   "metadata": {},
   "outputs": [
    {
     "data": {
      "text/plain": [
       "103"
      ]
     },
     "execution_count": 13,
     "metadata": {},
     "output_type": "execute_result"
    }
   ],
   "source": [
    "len(AugmentationGenerator())"
   ]
  },
  {
   "cell_type": "code",
   "execution_count": 14,
   "id": "3b1f175a",
   "metadata": {},
   "outputs": [
    {
     "name": "stdout",
     "output_type": "stream",
     "text": [
      "12\n"
     ]
    },
    {
     "data": {
      "text/plain": [
       "['2 Cell',\n",
       " '2pn',\n",
       " '3 Cell',\n",
       " '4 Cell',\n",
       " '5 Cell',\n",
       " '6 Cell',\n",
       " '8 Cell',\n",
       " '9 Cell+',\n",
       " 'Blastocyst',\n",
       " 'Compacting',\n",
       " 'Empty',\n",
       " 'Syngamy']"
      ]
     },
     "execution_count": 14,
     "metadata": {},
     "output_type": "execute_result"
    }
   ],
   "source": [
    "classes = train.class_names\n",
    "print(len(classes))\n",
    "classes"
   ]
  },
  {
   "cell_type": "code",
   "execution_count": 15,
   "id": "a2b1f6a8",
   "metadata": {},
   "outputs": [
    {
     "name": "stdout",
     "output_type": "stream",
     "text": [
      "WARNING:tensorflow:Compiled the loaded model, but the compiled metrics have yet to be built. `model.compile_metrics` will be empty until you train or evaluate the model.\n",
      "Model: \"sequential\"\n",
      "_________________________________________________________________\n",
      " Layer (type)                Output Shape              Param #   \n",
      "=================================================================\n",
      " rescaling (Rescaling)       (None, 299, 299, 3)       0         \n",
      "                                                                 \n",
      " xception (Functional)       (None, 2048)              20861480  \n",
      "                                                                 \n",
      "=================================================================\n",
      "Total params: 20,861,480\n",
      "Trainable params: 20,806,952\n",
      "Non-trainable params: 54,528\n",
      "_________________________________________________________________\n"
     ]
    }
   ],
   "source": [
    "base_model = keras.Sequential([\n",
    "    # Pre-trained Xception weights requires that input be scaled\n",
    "    # from (0, 255) to a range of (-1., +1.), the rescaling layer\n",
    "    # outputs: `(inputs * scale) + offset`\n",
    "    keras.layers.Rescaling(scale=1./127.5, offset=-1, input_shape=(299,299,3)),\n",
    "    keras.applications.Xception(\n",
    "        weights='imagenet',  # Load weights pre-trained on ImageNet.\n",
    "        include_top=False,\n",
    "        pooling=\"avg\"\n",
    "    )\n",
    "])\n",
    "base_model.save(f\"models/xception.h5\")\n",
    "base_model.summary()"
   ]
  },
  {
   "cell_type": "code",
   "execution_count": 16,
   "id": "ca155884",
   "metadata": {},
   "outputs": [
    {
     "name": "stdout",
     "output_type": "stream",
     "text": [
      "extracted_features.npy\n"
     ]
    }
   ],
   "source": [
    "cachefile = f\"extracted_features{'_eq' if EQUALIZE else ''}.npy\"\n",
    "print(cachefile)\n",
    "try:\n",
    "    extracted_features = np.load(cachefile)\n",
    "    assert len(extracted_features) == len(train.file_paths)*4\n",
    "except Exception as e:\n",
    "    print(e)\n",
    "    extracted_features = base_model.predict(AugmentationGenerator())\n",
    "    np.save(cachefile, extracted_features)"
   ]
  },
  {
   "cell_type": "code",
   "execution_count": 17,
   "id": "78116e7f",
   "metadata": {
    "scrolled": false
   },
   "outputs": [
    {
     "data": {
      "text/plain": [
       "(52296, 2048)"
      ]
     },
     "execution_count": 17,
     "metadata": {},
     "output_type": "execute_result"
    }
   ],
   "source": [
    "extracted_features.shape"
   ]
  },
  {
   "cell_type": "code",
   "execution_count": 18,
   "id": "18f744db",
   "metadata": {},
   "outputs": [
    {
     "data": {
      "text/plain": [
       "(52296, 12)"
      ]
     },
     "execution_count": 18,
     "metadata": {},
     "output_type": "execute_result"
    }
   ],
   "source": [
    "y = np.vstack([np.vstack([y,y,y,y]) for x,y in train])\n",
    "y.shape"
   ]
  },
  {
   "cell_type": "code",
   "execution_count": 19,
   "id": "2005acb6",
   "metadata": {},
   "outputs": [
    {
     "data": {
      "text/plain": [
       "0        EmbryoLabeling/Labelers/train/2 Cell/M0776_S00470_W2_F0_1894.jpg\n",
       "1        EmbryoLabeling/Labelers/train/2 Cell/M0776_S00470_W2_F0_1914.jpg\n",
       "2        EmbryoLabeling/Labelers/train/2 Cell/M0776_S00470_W2_F0_1934.jpg\n",
       "3        EmbryoLabeling/Labelers/train/2 Cell/M0776_S00470_W2_F0_1954.jpg\n",
       "4        EmbryoLabeling/Labelers/train/2 Cell/M0776_S00470_W2_F0_1974.jpg\n",
       "                                       ...                               \n",
       "52291     EmbryoLabeling/Labelers/train/Syngamy/M776_S0087_W5_F0_1555.jpg\n",
       "52292     EmbryoLabeling/Labelers/train/Syngamy/M776_S0087_W5_F0_1585.jpg\n",
       "52293     EmbryoLabeling/Labelers/train/Syngamy/M776_S0087_W5_F0_1605.jpg\n",
       "52294     EmbryoLabeling/Labelers/train/Syngamy/M776_S0087_W5_F0_1625.jpg\n",
       "52295     EmbryoLabeling/Labelers/train/Syngamy/M776_S0087_W5_F0_1645.jpg\n",
       "Length: 52296, dtype: object"
      ]
     },
     "metadata": {},
     "output_type": "display_data"
    }
   ],
   "source": [
    "aug_paths = []\n",
    "for i in range(len(train)):\n",
    "    batch_paths = train.file_paths[i*BATCH_SIZE:(i+1)*BATCH_SIZE]\n",
    "    aug_paths.extend(batch_paths * 4)\n",
    "aug_paths = pd.Series(aug_paths)\n",
    "display(aug_paths)"
   ]
  },
  {
   "cell_type": "code",
   "execution_count": 20,
   "id": "0a520b36",
   "metadata": {},
   "outputs": [
    {
     "data": {
      "text/plain": [
       "0        1894\n",
       "1        1914\n",
       "2        1934\n",
       "3        1954\n",
       "4        1974\n",
       "         ... \n",
       "52291    1555\n",
       "52292    1585\n",
       "52293    1605\n",
       "52294    1625\n",
       "52295    1645\n",
       "Length: 52296, dtype: int64"
      ]
     },
     "execution_count": 20,
     "metadata": {},
     "output_type": "execute_result"
    }
   ],
   "source": [
    "fert_minutes = aug_paths.apply(lambda s: s.replace(\".jpg\", \"\").split(\"_\")[-1]).astype(int)\n",
    "fert_minutes"
   ]
  },
  {
   "cell_type": "code",
   "execution_count": 21,
   "id": "7722e071",
   "metadata": {},
   "outputs": [
    {
     "data": {
      "text/plain": [
       "(52296, 2049)"
      ]
     },
     "execution_count": 21,
     "metadata": {},
     "output_type": "execute_result"
    }
   ],
   "source": [
    "extracted_features_with_fert = np.hstack([extracted_features, fert_minutes.to_numpy()[:, None]])\n",
    "extracted_features_with_fert.shape"
   ]
  },
  {
   "cell_type": "code",
   "execution_count": 22,
   "id": "34a40598",
   "metadata": {},
   "outputs": [
    {
     "data": {
      "text/plain": [
       "((42816, 2049), (42816, 12), (9480, 2049), (9480, 12))"
      ]
     },
     "execution_count": 22,
     "metadata": {},
     "output_type": "execute_result"
    }
   ],
   "source": [
    "#x_train, x_test, y_train, y_test = train_test_split(extracted_features, y, test_size=.2)\n",
    "\n",
    "# Use one slide for test, everything else for train\n",
    "test_slide = \"M0831\"\n",
    "test_idx = aug_paths.str.contains(test_slide)\n",
    "x_train = extracted_features_with_fert[~test_idx]\n",
    "y_train = y[~test_idx]\n",
    "x_test = extracted_features_with_fert[test_idx]\n",
    "y_test = y[test_idx]\n",
    "x_train.shape, y_train.shape, x_test.shape, y_test.shape"
   ]
  },
  {
   "cell_type": "code",
   "execution_count": 23,
   "id": "13282758",
   "metadata": {},
   "outputs": [
    {
     "data": {
      "text/plain": [
       "{'2 Cell': 1.0023,\n",
       " '2pn': 0.540695,\n",
       " '3 Cell': 2.913102,\n",
       " '4 Cell': 1.145636,\n",
       " '5 Cell': 5.067442,\n",
       " '6 Cell': 2.442825,\n",
       " '8 Cell': 2.323028,\n",
       " '9 Cell+': 4.465164,\n",
       " 'Blastocyst': 0.485085,\n",
       " 'Compacting': 0.448354,\n",
       " 'Empty': 0.765636,\n",
       " 'Syngamy': 0.928024}"
      ]
     },
     "execution_count": 23,
     "metadata": {},
     "output_type": "execute_result"
    }
   ],
   "source": [
    "class_weights = class_weight.compute_class_weight('balanced', classes = np.unique(y.argmax(axis=1)), y=y.argmax(axis=1))\n",
    "class_weights = class_weights.round(6) # This is necessary if using mlflow, as it can go beyond the 250 character limit otherwise\n",
    "class_weights = dict(enumerate(class_weights))\n",
    "{k:v for k,v in zip(classes, class_weights.values())}"
   ]
  },
  {
   "cell_type": "code",
   "execution_count": 24,
   "id": "9ce520df",
   "metadata": {},
   "outputs": [],
   "source": [
    "# Hyperparameter search\n",
    "search = False\n",
    "if search:\n",
    "    def build_model(hp):\n",
    "        model = keras.Sequential()\n",
    "        model.add(keras.layers.Input(shape=(2048)))\n",
    "\n",
    "        for i in range(hp.Int(\"n_layers\", 1, 4)):\n",
    "            model.add(keras.layers.Dense(\n",
    "                hp.Int(f\"dense_units_{i}\", min_value=32, max_value=128, step=32),\n",
    "                activation=hp.Choice(f\"dense_activation_{i}\", values=[\"relu\", \"sigmoid\"], default=\"relu\")\n",
    "            ))\n",
    "            model.add(keras.layers.Dropout(hp.Float(f\"dropout_{i}\", min_value=.1, max_value=.5, step=.1)))\n",
    "\n",
    "        model.add(keras.layers.Dense(len(classes), activation=\"softmax\"))\n",
    "        model.compile(\n",
    "            optimizer=keras.optimizers.Adam(learning_rate=hp.Float(\n",
    "                \"learning_rate\", min_value=1e-4, max_value=1e-2, sampling=\"LOG\", default=1e-3\n",
    "            )),\n",
    "            loss=keras.losses.CategoricalCrossentropy(),\n",
    "            metrics=[keras.metrics.CategoricalAccuracy()],\n",
    "        )\n",
    "        return model\n",
    "\n",
    "    tuner = RandomSearch(\n",
    "        build_model,\n",
    "        objective=\"val_categorical_accuracy\",\n",
    "        max_trials=80,\n",
    "    )\n",
    "    tuner.search_space_summary()\n",
    "    tuner.search(\n",
    "        x_train,\n",
    "        y_train,\n",
    "        batch_size=BATCH_SIZE,\n",
    "        validation_data=(x_test, y_test),\n",
    "        epochs=500,\n",
    "        verbose=0,\n",
    "        class_weight=class_weights,\n",
    "        callbacks=[\n",
    "            keras.callbacks.EarlyStopping(monitor='val_categorical_accuracy',patience=50, verbose=1),\n",
    "            tfa.callbacks.TQDMProgressBar()\n",
    "        ]\n",
    "    )\n",
    "    print(tuner.get_best_hyperparameters()[0].values)\n",
    "    print(tuner.get_best_models()[0].summary())"
   ]
  },
  {
   "cell_type": "code",
   "execution_count": 25,
   "id": "9844880c",
   "metadata": {
    "scrolled": false
   },
   "outputs": [
    {
     "name": "stdout",
     "output_type": "stream",
     "text": [
      "Model: \"sequential_1\"\n",
      "_________________________________________________________________\n",
      " Layer (type)                Output Shape              Param #   \n",
      "=================================================================\n",
      " dense (Dense)               (None, 512)               1049600   \n",
      "                                                                 \n",
      " dense_1 (Dense)             (None, 512)               262656    \n",
      "                                                                 \n",
      " dense_2 (Dense)             (None, 12)                6156      \n",
      "                                                                 \n",
      "=================================================================\n",
      "Total params: 1,318,412\n",
      "Trainable params: 1,318,412\n",
      "Non-trainable params: 0\n",
      "_________________________________________________________________\n",
      "None\n"
     ]
    },
    {
     "data": {
      "application/vnd.jupyter.widget-view+json": {
       "model_id": "739e2160cce54eaea78e505561d75fcc",
       "version_major": 2,
       "version_minor": 0
      },
      "text/plain": [
       "Training:   0%|           0/500 ETA: ?s,  ?epochs/s"
      ]
     },
     "metadata": {},
     "output_type": "display_data"
    },
    {
     "name": "stdout",
     "output_type": "stream",
     "text": [
      "Epoch 1/500\n"
     ]
    },
    {
     "data": {
      "application/vnd.jupyter.widget-view+json": {
       "model_id": "127c0104b88c441783c5467c81498484",
       "version_major": 2,
       "version_minor": 0
      },
      "text/plain": [
       "0/335           ETA: ?s - "
      ]
     },
     "metadata": {},
     "output_type": "display_data"
    },
    {
     "name": "stdout",
     "output_type": "stream",
     "text": [
      "Epoch 2/500\n"
     ]
    },
    {
     "data": {
      "application/vnd.jupyter.widget-view+json": {
       "model_id": "f921144fb13a4954877ce76d52046b91",
       "version_major": 2,
       "version_minor": 0
      },
      "text/plain": [
       "0/335           ETA: ?s - "
      ]
     },
     "metadata": {},
     "output_type": "display_data"
    },
    {
     "name": "stdout",
     "output_type": "stream",
     "text": [
      "Epoch 3/500\n"
     ]
    },
    {
     "data": {
      "application/vnd.jupyter.widget-view+json": {
       "model_id": "491043badbca4e19bc331beac56e9ba9",
       "version_major": 2,
       "version_minor": 0
      },
      "text/plain": [
       "0/335           ETA: ?s - "
      ]
     },
     "metadata": {},
     "output_type": "display_data"
    },
    {
     "name": "stdout",
     "output_type": "stream",
     "text": [
      "Epoch 4/500\n"
     ]
    },
    {
     "data": {
      "application/vnd.jupyter.widget-view+json": {
       "model_id": "4b119437cfa64e309fb105bf5b0cb00a",
       "version_major": 2,
       "version_minor": 0
      },
      "text/plain": [
       "0/335           ETA: ?s - "
      ]
     },
     "metadata": {},
     "output_type": "display_data"
    },
    {
     "name": "stdout",
     "output_type": "stream",
     "text": [
      "Epoch 5/500\n"
     ]
    },
    {
     "data": {
      "application/vnd.jupyter.widget-view+json": {
       "model_id": "dc3c510f32c24b2fb7bb7e3e0dcb9b0b",
       "version_major": 2,
       "version_minor": 0
      },
      "text/plain": [
       "0/335           ETA: ?s - "
      ]
     },
     "metadata": {},
     "output_type": "display_data"
    },
    {
     "name": "stdout",
     "output_type": "stream",
     "text": [
      "Epoch 6/500\n"
     ]
    },
    {
     "data": {
      "application/vnd.jupyter.widget-view+json": {
       "model_id": "d9f5ee4d31b647c78e1c96b07135a6f5",
       "version_major": 2,
       "version_minor": 0
      },
      "text/plain": [
       "0/335           ETA: ?s - "
      ]
     },
     "metadata": {},
     "output_type": "display_data"
    },
    {
     "name": "stdout",
     "output_type": "stream",
     "text": [
      "Epoch 7/500\n"
     ]
    },
    {
     "data": {
      "application/vnd.jupyter.widget-view+json": {
       "model_id": "b65a76f349f04bedbb7dc7df0a092c58",
       "version_major": 2,
       "version_minor": 0
      },
      "text/plain": [
       "0/335           ETA: ?s - "
      ]
     },
     "metadata": {},
     "output_type": "display_data"
    },
    {
     "name": "stdout",
     "output_type": "stream",
     "text": [
      "Epoch 8/500\n"
     ]
    },
    {
     "data": {
      "application/vnd.jupyter.widget-view+json": {
       "model_id": "763efaf8465b4001815916de672fd4b0",
       "version_major": 2,
       "version_minor": 0
      },
      "text/plain": [
       "0/335           ETA: ?s - "
      ]
     },
     "metadata": {},
     "output_type": "display_data"
    },
    {
     "name": "stdout",
     "output_type": "stream",
     "text": [
      "Epoch 9/500\n"
     ]
    },
    {
     "data": {
      "application/vnd.jupyter.widget-view+json": {
       "model_id": "54d8f982dc5e4515be4017a5ddbddc12",
       "version_major": 2,
       "version_minor": 0
      },
      "text/plain": [
       "0/335           ETA: ?s - "
      ]
     },
     "metadata": {},
     "output_type": "display_data"
    },
    {
     "name": "stdout",
     "output_type": "stream",
     "text": [
      "Epoch 10/500\n"
     ]
    },
    {
     "data": {
      "application/vnd.jupyter.widget-view+json": {
       "model_id": "fc5e262fdfb7454392dbc69ce1393d4d",
       "version_major": 2,
       "version_minor": 0
      },
      "text/plain": [
       "0/335           ETA: ?s - "
      ]
     },
     "metadata": {},
     "output_type": "display_data"
    },
    {
     "name": "stdout",
     "output_type": "stream",
     "text": [
      "Epoch 11/500\n"
     ]
    },
    {
     "data": {
      "application/vnd.jupyter.widget-view+json": {
       "model_id": "44e0e02f134740d5a7c82571f123dd42",
       "version_major": 2,
       "version_minor": 0
      },
      "text/plain": [
       "0/335           ETA: ?s - "
      ]
     },
     "metadata": {},
     "output_type": "display_data"
    },
    {
     "name": "stdout",
     "output_type": "stream",
     "text": [
      "Epoch 12/500\n"
     ]
    },
    {
     "data": {
      "application/vnd.jupyter.widget-view+json": {
       "model_id": "2c4c78fa50454dc5bfb75f08d18b5efb",
       "version_major": 2,
       "version_minor": 0
      },
      "text/plain": [
       "0/335           ETA: ?s - "
      ]
     },
     "metadata": {},
     "output_type": "display_data"
    },
    {
     "name": "stdout",
     "output_type": "stream",
     "text": [
      "Epoch 13/500\n"
     ]
    },
    {
     "data": {
      "application/vnd.jupyter.widget-view+json": {
       "model_id": "16222534d2ea4bc898fd695273f4a500",
       "version_major": 2,
       "version_minor": 0
      },
      "text/plain": [
       "0/335           ETA: ?s - "
      ]
     },
     "metadata": {},
     "output_type": "display_data"
    },
    {
     "name": "stdout",
     "output_type": "stream",
     "text": [
      "Epoch 14/500\n"
     ]
    },
    {
     "data": {
      "application/vnd.jupyter.widget-view+json": {
       "model_id": "93bea80768e64dba9c5c0981a93cff17",
       "version_major": 2,
       "version_minor": 0
      },
      "text/plain": [
       "0/335           ETA: ?s - "
      ]
     },
     "metadata": {},
     "output_type": "display_data"
    },
    {
     "name": "stdout",
     "output_type": "stream",
     "text": [
      "Epoch 15/500\n"
     ]
    },
    {
     "data": {
      "application/vnd.jupyter.widget-view+json": {
       "model_id": "efa9aebb31394e71b73931437f7020ea",
       "version_major": 2,
       "version_minor": 0
      },
      "text/plain": [
       "0/335           ETA: ?s - "
      ]
     },
     "metadata": {},
     "output_type": "display_data"
    },
    {
     "name": "stdout",
     "output_type": "stream",
     "text": [
      "Epoch 16/500\n"
     ]
    },
    {
     "data": {
      "application/vnd.jupyter.widget-view+json": {
       "model_id": "5d2dcf6ead794ed4a33d2e7417804607",
       "version_major": 2,
       "version_minor": 0
      },
      "text/plain": [
       "0/335           ETA: ?s - "
      ]
     },
     "metadata": {},
     "output_type": "display_data"
    },
    {
     "name": "stdout",
     "output_type": "stream",
     "text": [
      "Epoch 17/500\n"
     ]
    },
    {
     "data": {
      "application/vnd.jupyter.widget-view+json": {
       "model_id": "a10720cfe91e4acfb3131ffecb2fb50a",
       "version_major": 2,
       "version_minor": 0
      },
      "text/plain": [
       "0/335           ETA: ?s - "
      ]
     },
     "metadata": {},
     "output_type": "display_data"
    },
    {
     "name": "stdout",
     "output_type": "stream",
     "text": [
      "Epoch 18/500\n"
     ]
    },
    {
     "data": {
      "application/vnd.jupyter.widget-view+json": {
       "model_id": "badec4dfeaa0400bb63ba8b499d0d73f",
       "version_major": 2,
       "version_minor": 0
      },
      "text/plain": [
       "0/335           ETA: ?s - "
      ]
     },
     "metadata": {},
     "output_type": "display_data"
    },
    {
     "name": "stdout",
     "output_type": "stream",
     "text": [
      "Epoch 19/500\n"
     ]
    },
    {
     "data": {
      "application/vnd.jupyter.widget-view+json": {
       "model_id": "2c0971be73554d2ea3aabc1c892cc2a3",
       "version_major": 2,
       "version_minor": 0
      },
      "text/plain": [
       "0/335           ETA: ?s - "
      ]
     },
     "metadata": {},
     "output_type": "display_data"
    },
    {
     "name": "stdout",
     "output_type": "stream",
     "text": [
      "Epoch 20/500\n"
     ]
    },
    {
     "data": {
      "application/vnd.jupyter.widget-view+json": {
       "model_id": "aa39b4c12040437ba65f7d147db65f50",
       "version_major": 2,
       "version_minor": 0
      },
      "text/plain": [
       "0/335           ETA: ?s - "
      ]
     },
     "metadata": {},
     "output_type": "display_data"
    },
    {
     "name": "stdout",
     "output_type": "stream",
     "text": [
      "Epoch 21/500\n"
     ]
    },
    {
     "data": {
      "application/vnd.jupyter.widget-view+json": {
       "model_id": "e79eabb056964d6d9828d06c2f8257bc",
       "version_major": 2,
       "version_minor": 0
      },
      "text/plain": [
       "0/335           ETA: ?s - "
      ]
     },
     "metadata": {},
     "output_type": "display_data"
    },
    {
     "name": "stdout",
     "output_type": "stream",
     "text": [
      "Epoch 22/500\n"
     ]
    },
    {
     "data": {
      "application/vnd.jupyter.widget-view+json": {
       "model_id": "c0680796e9474dc99af7bd7a953cdb2e",
       "version_major": 2,
       "version_minor": 0
      },
      "text/plain": [
       "0/335           ETA: ?s - "
      ]
     },
     "metadata": {},
     "output_type": "display_data"
    },
    {
     "name": "stdout",
     "output_type": "stream",
     "text": [
      "Epoch 23/500\n"
     ]
    },
    {
     "data": {
      "application/vnd.jupyter.widget-view+json": {
       "model_id": "0a12747cea8242218486051b248d9a51",
       "version_major": 2,
       "version_minor": 0
      },
      "text/plain": [
       "0/335           ETA: ?s - "
      ]
     },
     "metadata": {},
     "output_type": "display_data"
    },
    {
     "name": "stdout",
     "output_type": "stream",
     "text": [
      "Epoch 24/500\n"
     ]
    },
    {
     "data": {
      "application/vnd.jupyter.widget-view+json": {
       "model_id": "0ebc69d6909540109a773010d950fa84",
       "version_major": 2,
       "version_minor": 0
      },
      "text/plain": [
       "0/335           ETA: ?s - "
      ]
     },
     "metadata": {},
     "output_type": "display_data"
    },
    {
     "name": "stdout",
     "output_type": "stream",
     "text": [
      "Epoch 25/500\n"
     ]
    },
    {
     "data": {
      "application/vnd.jupyter.widget-view+json": {
       "model_id": "062cfab0735e4f7080f97269cb492303",
       "version_major": 2,
       "version_minor": 0
      },
      "text/plain": [
       "0/335           ETA: ?s - "
      ]
     },
     "metadata": {},
     "output_type": "display_data"
    },
    {
     "name": "stdout",
     "output_type": "stream",
     "text": [
      "Epoch 26/500\n"
     ]
    },
    {
     "data": {
      "application/vnd.jupyter.widget-view+json": {
       "model_id": "97289bcb29df4d1fb1d77358e8704f54",
       "version_major": 2,
       "version_minor": 0
      },
      "text/plain": [
       "0/335           ETA: ?s - "
      ]
     },
     "metadata": {},
     "output_type": "display_data"
    },
    {
     "name": "stdout",
     "output_type": "stream",
     "text": [
      "Epoch 27/500\n"
     ]
    },
    {
     "data": {
      "application/vnd.jupyter.widget-view+json": {
       "model_id": "1c58617a215d42128e340d8c0adfc68b",
       "version_major": 2,
       "version_minor": 0
      },
      "text/plain": [
       "0/335           ETA: ?s - "
      ]
     },
     "metadata": {},
     "output_type": "display_data"
    },
    {
     "name": "stdout",
     "output_type": "stream",
     "text": [
      "Epoch 28/500\n"
     ]
    },
    {
     "data": {
      "application/vnd.jupyter.widget-view+json": {
       "model_id": "7abc94db32e845aea8099a07f73e42b3",
       "version_major": 2,
       "version_minor": 0
      },
      "text/plain": [
       "0/335           ETA: ?s - "
      ]
     },
     "metadata": {},
     "output_type": "display_data"
    },
    {
     "name": "stdout",
     "output_type": "stream",
     "text": [
      "Epoch 29/500\n"
     ]
    },
    {
     "data": {
      "application/vnd.jupyter.widget-view+json": {
       "model_id": "58cf4fb345c048d98d1b9a60bee4c9aa",
       "version_major": 2,
       "version_minor": 0
      },
      "text/plain": [
       "0/335           ETA: ?s - "
      ]
     },
     "metadata": {},
     "output_type": "display_data"
    },
    {
     "name": "stdout",
     "output_type": "stream",
     "text": [
      "Epoch 30/500\n"
     ]
    },
    {
     "data": {
      "application/vnd.jupyter.widget-view+json": {
       "model_id": "a1ee399705de4b74b7e8096cb3f1e984",
       "version_major": 2,
       "version_minor": 0
      },
      "text/plain": [
       "0/335           ETA: ?s - "
      ]
     },
     "metadata": {},
     "output_type": "display_data"
    },
    {
     "name": "stdout",
     "output_type": "stream",
     "text": [
      "Epoch 31/500\n"
     ]
    },
    {
     "data": {
      "application/vnd.jupyter.widget-view+json": {
       "model_id": "1fe78fdc1e364e409364c866542c47f0",
       "version_major": 2,
       "version_minor": 0
      },
      "text/plain": [
       "0/335           ETA: ?s - "
      ]
     },
     "metadata": {},
     "output_type": "display_data"
    },
    {
     "name": "stdout",
     "output_type": "stream",
     "text": [
      "Epoch 32/500\n"
     ]
    },
    {
     "data": {
      "application/vnd.jupyter.widget-view+json": {
       "model_id": "523212ea881f422b80f7697e7e5a8716",
       "version_major": 2,
       "version_minor": 0
      },
      "text/plain": [
       "0/335           ETA: ?s - "
      ]
     },
     "metadata": {},
     "output_type": "display_data"
    },
    {
     "name": "stdout",
     "output_type": "stream",
     "text": [
      "Epoch 33/500\n"
     ]
    },
    {
     "data": {
      "application/vnd.jupyter.widget-view+json": {
       "model_id": "c5e8c2422053446d91869c3924bcf49a",
       "version_major": 2,
       "version_minor": 0
      },
      "text/plain": [
       "0/335           ETA: ?s - "
      ]
     },
     "metadata": {},
     "output_type": "display_data"
    },
    {
     "name": "stdout",
     "output_type": "stream",
     "text": [
      "Epoch 34/500\n"
     ]
    },
    {
     "data": {
      "application/vnd.jupyter.widget-view+json": {
       "model_id": "95bde4f1f6d44001871522444266bf21",
       "version_major": 2,
       "version_minor": 0
      },
      "text/plain": [
       "0/335           ETA: ?s - "
      ]
     },
     "metadata": {},
     "output_type": "display_data"
    },
    {
     "name": "stdout",
     "output_type": "stream",
     "text": [
      "Epoch 35/500\n"
     ]
    },
    {
     "data": {
      "application/vnd.jupyter.widget-view+json": {
       "model_id": "b097ab5c429d4576bc6d1afab21b4225",
       "version_major": 2,
       "version_minor": 0
      },
      "text/plain": [
       "0/335           ETA: ?s - "
      ]
     },
     "metadata": {},
     "output_type": "display_data"
    },
    {
     "name": "stdout",
     "output_type": "stream",
     "text": [
      "Epoch 36/500\n"
     ]
    },
    {
     "data": {
      "application/vnd.jupyter.widget-view+json": {
       "model_id": "ac33d2b958ab4c1f98b16bc27441d796",
       "version_major": 2,
       "version_minor": 0
      },
      "text/plain": [
       "0/335           ETA: ?s - "
      ]
     },
     "metadata": {},
     "output_type": "display_data"
    },
    {
     "name": "stdout",
     "output_type": "stream",
     "text": [
      "Epoch 37/500\n"
     ]
    },
    {
     "data": {
      "application/vnd.jupyter.widget-view+json": {
       "model_id": "9d4866a0735b40388e68813a98e81fc1",
       "version_major": 2,
       "version_minor": 0
      },
      "text/plain": [
       "0/335           ETA: ?s - "
      ]
     },
     "metadata": {},
     "output_type": "display_data"
    },
    {
     "name": "stdout",
     "output_type": "stream",
     "text": [
      "Epoch 38/500\n"
     ]
    },
    {
     "data": {
      "application/vnd.jupyter.widget-view+json": {
       "model_id": "8d1c0e007b564c5d95489793165a6c24",
       "version_major": 2,
       "version_minor": 0
      },
      "text/plain": [
       "0/335           ETA: ?s - "
      ]
     },
     "metadata": {},
     "output_type": "display_data"
    },
    {
     "name": "stdout",
     "output_type": "stream",
     "text": [
      "Epoch 39/500\n"
     ]
    },
    {
     "data": {
      "application/vnd.jupyter.widget-view+json": {
       "model_id": "9cfda508ab074ef4bd7052a781e6ea6d",
       "version_major": 2,
       "version_minor": 0
      },
      "text/plain": [
       "0/335           ETA: ?s - "
      ]
     },
     "metadata": {},
     "output_type": "display_data"
    },
    {
     "name": "stdout",
     "output_type": "stream",
     "text": [
      "Epoch 40/500\n"
     ]
    },
    {
     "data": {
      "application/vnd.jupyter.widget-view+json": {
       "model_id": "165d87b1291b490fa4caa23b4883881b",
       "version_major": 2,
       "version_minor": 0
      },
      "text/plain": [
       "0/335           ETA: ?s - "
      ]
     },
     "metadata": {},
     "output_type": "display_data"
    },
    {
     "name": "stdout",
     "output_type": "stream",
     "text": [
      "Epoch 41/500\n"
     ]
    },
    {
     "data": {
      "application/vnd.jupyter.widget-view+json": {
       "model_id": "41d3e3397c4e451b80d254ff2b4cc7fc",
       "version_major": 2,
       "version_minor": 0
      },
      "text/plain": [
       "0/335           ETA: ?s - "
      ]
     },
     "metadata": {},
     "output_type": "display_data"
    },
    {
     "name": "stdout",
     "output_type": "stream",
     "text": [
      "Epoch 42/500\n"
     ]
    },
    {
     "data": {
      "application/vnd.jupyter.widget-view+json": {
       "model_id": "5da305ac411b417b90fbc8b73d8ea3b2",
       "version_major": 2,
       "version_minor": 0
      },
      "text/plain": [
       "0/335           ETA: ?s - "
      ]
     },
     "metadata": {},
     "output_type": "display_data"
    },
    {
     "name": "stdout",
     "output_type": "stream",
     "text": [
      "Epoch 43/500\n"
     ]
    },
    {
     "data": {
      "application/vnd.jupyter.widget-view+json": {
       "model_id": "28f4dc6bed59495ea30f74910ea767c9",
       "version_major": 2,
       "version_minor": 0
      },
      "text/plain": [
       "0/335           ETA: ?s - "
      ]
     },
     "metadata": {},
     "output_type": "display_data"
    },
    {
     "name": "stdout",
     "output_type": "stream",
     "text": [
      "Epoch 44/500\n"
     ]
    },
    {
     "data": {
      "application/vnd.jupyter.widget-view+json": {
       "model_id": "f41c79ab1d0749f08bf7e1039225f18b",
       "version_major": 2,
       "version_minor": 0
      },
      "text/plain": [
       "0/335           ETA: ?s - "
      ]
     },
     "metadata": {},
     "output_type": "display_data"
    },
    {
     "name": "stdout",
     "output_type": "stream",
     "text": [
      "Epoch 45/500\n"
     ]
    },
    {
     "data": {
      "application/vnd.jupyter.widget-view+json": {
       "model_id": "304508c707b44e21b80c469ede4ee412",
       "version_major": 2,
       "version_minor": 0
      },
      "text/plain": [
       "0/335           ETA: ?s - "
      ]
     },
     "metadata": {},
     "output_type": "display_data"
    },
    {
     "name": "stdout",
     "output_type": "stream",
     "text": [
      "Epoch 46/500\n"
     ]
    },
    {
     "data": {
      "application/vnd.jupyter.widget-view+json": {
       "model_id": "936a4699fc9447a886b5ac4deb0cc61f",
       "version_major": 2,
       "version_minor": 0
      },
      "text/plain": [
       "0/335           ETA: ?s - "
      ]
     },
     "metadata": {},
     "output_type": "display_data"
    },
    {
     "name": "stdout",
     "output_type": "stream",
     "text": [
      "Epoch 47/500\n"
     ]
    },
    {
     "data": {
      "application/vnd.jupyter.widget-view+json": {
       "model_id": "1e608cf4fd164b09ad1b5c687426e242",
       "version_major": 2,
       "version_minor": 0
      },
      "text/plain": [
       "0/335           ETA: ?s - "
      ]
     },
     "metadata": {},
     "output_type": "display_data"
    },
    {
     "name": "stdout",
     "output_type": "stream",
     "text": [
      "Epoch 48/500\n"
     ]
    },
    {
     "data": {
      "application/vnd.jupyter.widget-view+json": {
       "model_id": "2fa2ca7968ce4f4095e328d5e11ff024",
       "version_major": 2,
       "version_minor": 0
      },
      "text/plain": [
       "0/335           ETA: ?s - "
      ]
     },
     "metadata": {},
     "output_type": "display_data"
    },
    {
     "name": "stdout",
     "output_type": "stream",
     "text": [
      "Epoch 49/500\n"
     ]
    },
    {
     "data": {
      "application/vnd.jupyter.widget-view+json": {
       "model_id": "bc0e191b2c514204a98305d4acacaf45",
       "version_major": 2,
       "version_minor": 0
      },
      "text/plain": [
       "0/335           ETA: ?s - "
      ]
     },
     "metadata": {},
     "output_type": "display_data"
    },
    {
     "name": "stdout",
     "output_type": "stream",
     "text": [
      "Epoch 50/500\n"
     ]
    },
    {
     "data": {
      "application/vnd.jupyter.widget-view+json": {
       "model_id": "3c5e046caaab48f6bca7e338e26b04e8",
       "version_major": 2,
       "version_minor": 0
      },
      "text/plain": [
       "0/335           ETA: ?s - "
      ]
     },
     "metadata": {},
     "output_type": "display_data"
    },
    {
     "name": "stdout",
     "output_type": "stream",
     "text": [
      "Epoch 51/500\n"
     ]
    },
    {
     "data": {
      "application/vnd.jupyter.widget-view+json": {
       "model_id": "573ca9cedca940999547c07a3c2d7743",
       "version_major": 2,
       "version_minor": 0
      },
      "text/plain": [
       "0/335           ETA: ?s - "
      ]
     },
     "metadata": {},
     "output_type": "display_data"
    },
    {
     "name": "stdout",
     "output_type": "stream",
     "text": [
      "Epoch 52/500\n"
     ]
    },
    {
     "data": {
      "application/vnd.jupyter.widget-view+json": {
       "model_id": "b382adc64c674674a4aeb5486cd28f68",
       "version_major": 2,
       "version_minor": 0
      },
      "text/plain": [
       "0/335           ETA: ?s - "
      ]
     },
     "metadata": {},
     "output_type": "display_data"
    },
    {
     "name": "stdout",
     "output_type": "stream",
     "text": [
      "Epoch 53/500\n"
     ]
    },
    {
     "data": {
      "application/vnd.jupyter.widget-view+json": {
       "model_id": "aaaa7219104d46f0aa70a36723cf8d67",
       "version_major": 2,
       "version_minor": 0
      },
      "text/plain": [
       "0/335           ETA: ?s - "
      ]
     },
     "metadata": {},
     "output_type": "display_data"
    },
    {
     "name": "stdout",
     "output_type": "stream",
     "text": [
      "Epoch 54/500\n"
     ]
    },
    {
     "data": {
      "application/vnd.jupyter.widget-view+json": {
       "model_id": "365030d1ff8743fdb9a60d422bf85fba",
       "version_major": 2,
       "version_minor": 0
      },
      "text/plain": [
       "0/335           ETA: ?s - "
      ]
     },
     "metadata": {},
     "output_type": "display_data"
    },
    {
     "name": "stdout",
     "output_type": "stream",
     "text": [
      "Epoch 55/500\n"
     ]
    },
    {
     "data": {
      "application/vnd.jupyter.widget-view+json": {
       "model_id": "2df3a8c147c84edabc87628d7b8a35a1",
       "version_major": 2,
       "version_minor": 0
      },
      "text/plain": [
       "0/335           ETA: ?s - "
      ]
     },
     "metadata": {},
     "output_type": "display_data"
    },
    {
     "name": "stdout",
     "output_type": "stream",
     "text": [
      "Epoch 56/500\n"
     ]
    },
    {
     "data": {
      "application/vnd.jupyter.widget-view+json": {
       "model_id": "a91afee2d38e40daa44d7d5ddbed5e11",
       "version_major": 2,
       "version_minor": 0
      },
      "text/plain": [
       "0/335           ETA: ?s - "
      ]
     },
     "metadata": {},
     "output_type": "display_data"
    },
    {
     "name": "stdout",
     "output_type": "stream",
     "text": [
      "Epoch 57/500\n"
     ]
    },
    {
     "data": {
      "application/vnd.jupyter.widget-view+json": {
       "model_id": "334f7bf1b2be46d2a0632ef682c9103b",
       "version_major": 2,
       "version_minor": 0
      },
      "text/plain": [
       "0/335           ETA: ?s - "
      ]
     },
     "metadata": {},
     "output_type": "display_data"
    },
    {
     "name": "stdout",
     "output_type": "stream",
     "text": [
      "Epoch 58/500\n"
     ]
    },
    {
     "data": {
      "application/vnd.jupyter.widget-view+json": {
       "model_id": "46a90e13fd3b4fb591c20e35c58bbc88",
       "version_major": 2,
       "version_minor": 0
      },
      "text/plain": [
       "0/335           ETA: ?s - "
      ]
     },
     "metadata": {},
     "output_type": "display_data"
    },
    {
     "name": "stdout",
     "output_type": "stream",
     "text": [
      "Epoch 59/500\n"
     ]
    },
    {
     "data": {
      "application/vnd.jupyter.widget-view+json": {
       "model_id": "0c3eaa79e16942d399589f37029b483b",
       "version_major": 2,
       "version_minor": 0
      },
      "text/plain": [
       "0/335           ETA: ?s - "
      ]
     },
     "metadata": {},
     "output_type": "display_data"
    },
    {
     "name": "stdout",
     "output_type": "stream",
     "text": [
      "Epoch 60/500\n"
     ]
    },
    {
     "data": {
      "application/vnd.jupyter.widget-view+json": {
       "model_id": "5b040c40deea43babdaca94f7fbf81ea",
       "version_major": 2,
       "version_minor": 0
      },
      "text/plain": [
       "0/335           ETA: ?s - "
      ]
     },
     "metadata": {},
     "output_type": "display_data"
    },
    {
     "name": "stdout",
     "output_type": "stream",
     "text": [
      "Epoch 61/500\n"
     ]
    },
    {
     "data": {
      "application/vnd.jupyter.widget-view+json": {
       "model_id": "5c9249305b8b44a98142f5804452cbb7",
       "version_major": 2,
       "version_minor": 0
      },
      "text/plain": [
       "0/335           ETA: ?s - "
      ]
     },
     "metadata": {},
     "output_type": "display_data"
    },
    {
     "name": "stdout",
     "output_type": "stream",
     "text": [
      "Epoch 62/500\n"
     ]
    },
    {
     "data": {
      "application/vnd.jupyter.widget-view+json": {
       "model_id": "72b6ebfc07ad44fb92a831ab5f1ba458",
       "version_major": 2,
       "version_minor": 0
      },
      "text/plain": [
       "0/335           ETA: ?s - "
      ]
     },
     "metadata": {},
     "output_type": "display_data"
    },
    {
     "name": "stdout",
     "output_type": "stream",
     "text": [
      "Epoch 63/500\n"
     ]
    },
    {
     "data": {
      "application/vnd.jupyter.widget-view+json": {
       "model_id": "91a30c2c35014abfa811b319876a68a6",
       "version_major": 2,
       "version_minor": 0
      },
      "text/plain": [
       "0/335           ETA: ?s - "
      ]
     },
     "metadata": {},
     "output_type": "display_data"
    },
    {
     "name": "stdout",
     "output_type": "stream",
     "text": [
      "Epoch 64/500\n"
     ]
    },
    {
     "data": {
      "application/vnd.jupyter.widget-view+json": {
       "model_id": "06a2c3ebab044eb8a33fe21df54ce09a",
       "version_major": 2,
       "version_minor": 0
      },
      "text/plain": [
       "0/335           ETA: ?s - "
      ]
     },
     "metadata": {},
     "output_type": "display_data"
    },
    {
     "name": "stdout",
     "output_type": "stream",
     "text": [
      "Epoch 65/500\n"
     ]
    },
    {
     "data": {
      "application/vnd.jupyter.widget-view+json": {
       "model_id": "563dd786a8974e82b92c46a402ca933e",
       "version_major": 2,
       "version_minor": 0
      },
      "text/plain": [
       "0/335           ETA: ?s - "
      ]
     },
     "metadata": {},
     "output_type": "display_data"
    },
    {
     "name": "stdout",
     "output_type": "stream",
     "text": [
      "Epoch 66/500\n"
     ]
    },
    {
     "data": {
      "application/vnd.jupyter.widget-view+json": {
       "model_id": "866901a74cdc45eb84b5baeabf2780b7",
       "version_major": 2,
       "version_minor": 0
      },
      "text/plain": [
       "0/335           ETA: ?s - "
      ]
     },
     "metadata": {},
     "output_type": "display_data"
    },
    {
     "name": "stdout",
     "output_type": "stream",
     "text": [
      "Epoch 67/500\n"
     ]
    },
    {
     "data": {
      "application/vnd.jupyter.widget-view+json": {
       "model_id": "f751a92cec334c73b45b8b8df718b3f0",
       "version_major": 2,
       "version_minor": 0
      },
      "text/plain": [
       "0/335           ETA: ?s - "
      ]
     },
     "metadata": {},
     "output_type": "display_data"
    },
    {
     "name": "stdout",
     "output_type": "stream",
     "text": [
      "Epoch 68/500\n"
     ]
    },
    {
     "data": {
      "application/vnd.jupyter.widget-view+json": {
       "model_id": "1790956f30fe4421bc5a49223ab02b79",
       "version_major": 2,
       "version_minor": 0
      },
      "text/plain": [
       "0/335           ETA: ?s - "
      ]
     },
     "metadata": {},
     "output_type": "display_data"
    },
    {
     "name": "stdout",
     "output_type": "stream",
     "text": [
      "Epoch 69/500\n"
     ]
    },
    {
     "data": {
      "application/vnd.jupyter.widget-view+json": {
       "model_id": "444e1e55d1be4883b8a1b7180c830ea7",
       "version_major": 2,
       "version_minor": 0
      },
      "text/plain": [
       "0/335           ETA: ?s - "
      ]
     },
     "metadata": {},
     "output_type": "display_data"
    },
    {
     "name": "stdout",
     "output_type": "stream",
     "text": [
      "Epoch 70/500\n"
     ]
    },
    {
     "data": {
      "application/vnd.jupyter.widget-view+json": {
       "model_id": "3a24df9fdab6422cb126f3955b0f114e",
       "version_major": 2,
       "version_minor": 0
      },
      "text/plain": [
       "0/335           ETA: ?s - "
      ]
     },
     "metadata": {},
     "output_type": "display_data"
    },
    {
     "name": "stdout",
     "output_type": "stream",
     "text": [
      "Epoch 71/500\n"
     ]
    },
    {
     "data": {
      "application/vnd.jupyter.widget-view+json": {
       "model_id": "6190538dbdd34c58a8643577946f0242",
       "version_major": 2,
       "version_minor": 0
      },
      "text/plain": [
       "0/335           ETA: ?s - "
      ]
     },
     "metadata": {},
     "output_type": "display_data"
    },
    {
     "name": "stdout",
     "output_type": "stream",
     "text": [
      "Epoch 72/500\n"
     ]
    },
    {
     "data": {
      "application/vnd.jupyter.widget-view+json": {
       "model_id": "71d7e3c4930a409d9f0b9fc03fff78c2",
       "version_major": 2,
       "version_minor": 0
      },
      "text/plain": [
       "0/335           ETA: ?s - "
      ]
     },
     "metadata": {},
     "output_type": "display_data"
    },
    {
     "name": "stdout",
     "output_type": "stream",
     "text": [
      "Epoch 73/500\n"
     ]
    },
    {
     "data": {
      "application/vnd.jupyter.widget-view+json": {
       "model_id": "b04f730756e64584a6944ef3b57c9d25",
       "version_major": 2,
       "version_minor": 0
      },
      "text/plain": [
       "0/335           ETA: ?s - "
      ]
     },
     "metadata": {},
     "output_type": "display_data"
    },
    {
     "name": "stdout",
     "output_type": "stream",
     "text": [
      "Epoch 74/500\n"
     ]
    },
    {
     "data": {
      "application/vnd.jupyter.widget-view+json": {
       "model_id": "8ded7e65c9c84ec386d4fbb4701fe67d",
       "version_major": 2,
       "version_minor": 0
      },
      "text/plain": [
       "0/335           ETA: ?s - "
      ]
     },
     "metadata": {},
     "output_type": "display_data"
    },
    {
     "name": "stdout",
     "output_type": "stream",
     "text": [
      "Epoch 75/500\n"
     ]
    },
    {
     "data": {
      "application/vnd.jupyter.widget-view+json": {
       "model_id": "864f0ad5f52d454cb5566d6f899ca343",
       "version_major": 2,
       "version_minor": 0
      },
      "text/plain": [
       "0/335           ETA: ?s - "
      ]
     },
     "metadata": {},
     "output_type": "display_data"
    },
    {
     "name": "stdout",
     "output_type": "stream",
     "text": [
      "Epoch 76/500\n"
     ]
    },
    {
     "data": {
      "application/vnd.jupyter.widget-view+json": {
       "model_id": "6768293738024417b535de9794e2a6fb",
       "version_major": 2,
       "version_minor": 0
      },
      "text/plain": [
       "0/335           ETA: ?s - "
      ]
     },
     "metadata": {},
     "output_type": "display_data"
    },
    {
     "name": "stdout",
     "output_type": "stream",
     "text": [
      "Epoch 77/500\n"
     ]
    },
    {
     "data": {
      "application/vnd.jupyter.widget-view+json": {
       "model_id": "38c7a96586de4246911c8ec377f3a291",
       "version_major": 2,
       "version_minor": 0
      },
      "text/plain": [
       "0/335           ETA: ?s - "
      ]
     },
     "metadata": {},
     "output_type": "display_data"
    },
    {
     "name": "stdout",
     "output_type": "stream",
     "text": [
      "Epoch 78/500\n"
     ]
    },
    {
     "data": {
      "application/vnd.jupyter.widget-view+json": {
       "model_id": "ac1239f39e11448b954d242a8f74a08d",
       "version_major": 2,
       "version_minor": 0
      },
      "text/plain": [
       "0/335           ETA: ?s - "
      ]
     },
     "metadata": {},
     "output_type": "display_data"
    },
    {
     "name": "stdout",
     "output_type": "stream",
     "text": [
      "Epoch 79/500\n"
     ]
    },
    {
     "data": {
      "application/vnd.jupyter.widget-view+json": {
       "model_id": "521da259af434f92b431baffe6fd01dc",
       "version_major": 2,
       "version_minor": 0
      },
      "text/plain": [
       "0/335           ETA: ?s - "
      ]
     },
     "metadata": {},
     "output_type": "display_data"
    },
    {
     "name": "stdout",
     "output_type": "stream",
     "text": [
      "Epoch 80/500\n"
     ]
    },
    {
     "data": {
      "application/vnd.jupyter.widget-view+json": {
       "model_id": "2a8eab0a3a6145b7a13dbb0f6697070d",
       "version_major": 2,
       "version_minor": 0
      },
      "text/plain": [
       "0/335           ETA: ?s - "
      ]
     },
     "metadata": {},
     "output_type": "display_data"
    },
    {
     "name": "stdout",
     "output_type": "stream",
     "text": [
      "Epoch 81/500\n"
     ]
    },
    {
     "data": {
      "application/vnd.jupyter.widget-view+json": {
       "model_id": "ffffcce11a9b4fb9a4c310e3d3b37578",
       "version_major": 2,
       "version_minor": 0
      },
      "text/plain": [
       "0/335           ETA: ?s - "
      ]
     },
     "metadata": {},
     "output_type": "display_data"
    },
    {
     "name": "stdout",
     "output_type": "stream",
     "text": [
      "Epoch 82/500\n"
     ]
    },
    {
     "data": {
      "application/vnd.jupyter.widget-view+json": {
       "model_id": "e3aa6de93ce4419f804f064cbc7ecb2f",
       "version_major": 2,
       "version_minor": 0
      },
      "text/plain": [
       "0/335           ETA: ?s - "
      ]
     },
     "metadata": {},
     "output_type": "display_data"
    },
    {
     "name": "stdout",
     "output_type": "stream",
     "text": [
      "Epoch 83/500\n"
     ]
    },
    {
     "data": {
      "application/vnd.jupyter.widget-view+json": {
       "model_id": "5fb0e27e08674ffa9456b9d29f28a75a",
       "version_major": 2,
       "version_minor": 0
      },
      "text/plain": [
       "0/335           ETA: ?s - "
      ]
     },
     "metadata": {},
     "output_type": "display_data"
    },
    {
     "name": "stdout",
     "output_type": "stream",
     "text": [
      "Epoch 84/500\n"
     ]
    },
    {
     "data": {
      "application/vnd.jupyter.widget-view+json": {
       "model_id": "39462635332840b9807a7af8a235738b",
       "version_major": 2,
       "version_minor": 0
      },
      "text/plain": [
       "0/335           ETA: ?s - "
      ]
     },
     "metadata": {},
     "output_type": "display_data"
    },
    {
     "name": "stdout",
     "output_type": "stream",
     "text": [
      "Epoch 85/500\n"
     ]
    },
    {
     "data": {
      "application/vnd.jupyter.widget-view+json": {
       "model_id": "71d3c358517d4f5f988decb9af1e40da",
       "version_major": 2,
       "version_minor": 0
      },
      "text/plain": [
       "0/335           ETA: ?s - "
      ]
     },
     "metadata": {},
     "output_type": "display_data"
    },
    {
     "name": "stdout",
     "output_type": "stream",
     "text": [
      "Epoch 86/500\n"
     ]
    },
    {
     "data": {
      "application/vnd.jupyter.widget-view+json": {
       "model_id": "daed16f50b194af18abffe2a507b9224",
       "version_major": 2,
       "version_minor": 0
      },
      "text/plain": [
       "0/335           ETA: ?s - "
      ]
     },
     "metadata": {},
     "output_type": "display_data"
    },
    {
     "name": "stdout",
     "output_type": "stream",
     "text": [
      "Epoch 87/500\n"
     ]
    },
    {
     "data": {
      "application/vnd.jupyter.widget-view+json": {
       "model_id": "ed5b4126ae0048e8a25757eca50b0220",
       "version_major": 2,
       "version_minor": 0
      },
      "text/plain": [
       "0/335           ETA: ?s - "
      ]
     },
     "metadata": {},
     "output_type": "display_data"
    },
    {
     "name": "stdout",
     "output_type": "stream",
     "text": [
      "Epoch 88/500\n"
     ]
    },
    {
     "data": {
      "application/vnd.jupyter.widget-view+json": {
       "model_id": "5a5b1e78d0144625a896205dd5d2f473",
       "version_major": 2,
       "version_minor": 0
      },
      "text/plain": [
       "0/335           ETA: ?s - "
      ]
     },
     "metadata": {},
     "output_type": "display_data"
    },
    {
     "name": "stdout",
     "output_type": "stream",
     "text": [
      "Epoch 89/500\n"
     ]
    },
    {
     "data": {
      "application/vnd.jupyter.widget-view+json": {
       "model_id": "7d87a8581f124ebb9e342057e5a9a180",
       "version_major": 2,
       "version_minor": 0
      },
      "text/plain": [
       "0/335           ETA: ?s - "
      ]
     },
     "metadata": {},
     "output_type": "display_data"
    },
    {
     "name": "stdout",
     "output_type": "stream",
     "text": [
      "Epoch 90/500\n"
     ]
    },
    {
     "data": {
      "application/vnd.jupyter.widget-view+json": {
       "model_id": "ee8e7116bd914f95aa21a859d55bccbd",
       "version_major": 2,
       "version_minor": 0
      },
      "text/plain": [
       "0/335           ETA: ?s - "
      ]
     },
     "metadata": {},
     "output_type": "display_data"
    },
    {
     "name": "stdout",
     "output_type": "stream",
     "text": [
      "Epoch 91/500\n"
     ]
    },
    {
     "data": {
      "application/vnd.jupyter.widget-view+json": {
       "model_id": "9a52cc8b3d7d4a06a783e40915773e25",
       "version_major": 2,
       "version_minor": 0
      },
      "text/plain": [
       "0/335           ETA: ?s - "
      ]
     },
     "metadata": {},
     "output_type": "display_data"
    },
    {
     "name": "stdout",
     "output_type": "stream",
     "text": [
      "Epoch 92/500\n"
     ]
    },
    {
     "data": {
      "application/vnd.jupyter.widget-view+json": {
       "model_id": "4707ca11dd6249fbbfb67f1076968f65",
       "version_major": 2,
       "version_minor": 0
      },
      "text/plain": [
       "0/335           ETA: ?s - "
      ]
     },
     "metadata": {},
     "output_type": "display_data"
    },
    {
     "name": "stdout",
     "output_type": "stream",
     "text": [
      "Epoch 92: early stopping\n",
      "INFO:tensorflow:Assets written to: /tmp/tmpz0wdp1g_/model/data/model/assets\n",
      "CPU times: user 4min 40s, sys: 51 s, total: 5min 31s\n",
      "Wall time: 3min 43s\n"
     ]
    }
   ],
   "source": [
    "%%time\n",
    "with mlflow.start_run():\n",
    "    mlflow.log_params({\n",
    "        \"classes\": classes,\n",
    "        \"equalized\": EQUALIZE,\n",
    "        \"test slide\": test_slide,\n",
    "        \"x_train_shape\": x_train.shape,\n",
    "        \"y_train_shape\": y_train.shape,\n",
    "        \"x_test_shape\": x_test.shape,\n",
    "        \"y_test_shape\": y_test.shape\n",
    "    })\n",
    "\n",
    "    model = keras.Sequential([\n",
    "        keras.layers.Input(shape=(x_train.shape[1])),\n",
    "        keras.layers.Dense(512, activation=\"relu\"),\n",
    "        keras.layers.Dense(512, activation=\"relu\"),\n",
    "        keras.layers.Dense(len(classes), activation=\"softmax\")\n",
    "    ])\n",
    "    model.compile(\n",
    "        optimizer=keras.optimizers.Adam(learning_rate=keras.optimizers.schedules.ExponentialDecay(\n",
    "            .001,\n",
    "            decay_steps=1e4,\n",
    "            decay_rate=0.96,\n",
    "            staircase=True\n",
    "        )),\n",
    "        loss=keras.losses.CategoricalCrossentropy(),\n",
    "        metrics=[keras.metrics.CategoricalAccuracy()],\n",
    "    )\n",
    "    print(model.summary())\n",
    "    history = model.fit(x_train,\n",
    "                        y_train,\n",
    "                        batch_size=BATCH_SIZE,\n",
    "                        validation_data=(x_test, y_test),\n",
    "                        epochs=500,\n",
    "                        verbose=0,\n",
    "                        class_weight=class_weights,\n",
    "                        callbacks=[\n",
    "                            keras.callbacks.EarlyStopping(monitor='val_categorical_accuracy',patience=50, verbose=1),\n",
    "                            tfa.callbacks.TQDMProgressBar()\n",
    "                        ])"
   ]
  },
  {
   "cell_type": "code",
   "execution_count": 26,
   "id": "94744f4c",
   "metadata": {},
   "outputs": [],
   "source": [
    "model.save(f\"models/{len(classes)}_class.h5\")"
   ]
  },
  {
   "cell_type": "code",
   "execution_count": 27,
   "id": "3b04706b",
   "metadata": {},
   "outputs": [],
   "source": [
    "pd.Series(classes).to_csv(f\"models/{len(classes)}_class.h5_classes.txt\", index=False, header=False)"
   ]
  },
  {
   "cell_type": "code",
   "execution_count": 28,
   "id": "c0b0f2ba",
   "metadata": {},
   "outputs": [
    {
     "data": {
      "text/plain": [
       "<AxesSubplot:>"
      ]
     },
     "execution_count": 28,
     "metadata": {},
     "output_type": "execute_result"
    },
    {
     "data": {
      "image/png": "[encoded data removed]",
      "text/plain": [
       "<Figure size 432x288 with 1 Axes>"
      ]
     },
     "metadata": {
      "needs_background": "light"
     },
     "output_type": "display_data"
    },
    {
     "data": {
      "image/png": "[encoded data removed]",
      "text/plain": [
       "<Figure size 432x288 with 1 Axes>"
      ]
     },
     "metadata": {
      "needs_background": "light"
     },
     "output_type": "display_data"
    }
   ],
   "source": [
    "history_df = pd.DataFrame(history.history)\n",
    "history_df[['loss', 'val_loss']].plot()\n",
    "history_df[['categorical_accuracy', 'val_categorical_accuracy']].plot()"
   ]
  },
  {
   "cell_type": "code",
   "execution_count": 29,
   "id": "160a4bf0",
   "metadata": {},
   "outputs": [
    {
     "name": "stdout",
     "output_type": "stream",
     "text": [
      "297/297 [==============================] - 1s 2ms/step\n"
     ]
    }
   ],
   "source": [
    "y_pred = model.predict(x_test)"
   ]
  },
  {
   "cell_type": "code",
   "execution_count": 30,
   "id": "70fbc333",
   "metadata": {},
   "outputs": [
    {
     "data": {
      "text/plain": [
       "count    9480.000000\n",
       "mean        0.919922\n",
       "std         0.135376\n",
       "min         0.315430\n",
       "25%         0.902344\n",
       "50%         0.994141\n",
       "75%         1.000000\n",
       "max         1.000000\n",
       "dtype: float64"
      ]
     },
     "execution_count": 30,
     "metadata": {},
     "output_type": "execute_result"
    }
   ],
   "source": [
    "predicted_codes = y_pred.argmax(axis=1)\n",
    "confidence = y_pred.max(axis=1)\n",
    "pd.Series(confidence).describe()"
   ]
  },
  {
   "cell_type": "code",
   "execution_count": 31,
   "id": "aecf2ce8",
   "metadata": {},
   "outputs": [
    {
     "data": {
      "text/plain": [
       "2pn           1576\n",
       "Empty         1544\n",
       "Blastocyst    1028\n",
       "Syngamy        988\n",
       "9 Cell+        976\n",
       "Compacting     952\n",
       "4 Cell         636\n",
       "2 Cell         524\n",
       "6 Cell         344\n",
       "5 Cell         340\n",
       "8 Cell         340\n",
       "3 Cell         232\n",
       "dtype: int64"
      ]
     },
     "execution_count": 31,
     "metadata": {},
     "output_type": "execute_result"
    }
   ],
   "source": [
    "true_classes = [classes[c] for c in y_test.argmax(axis=1)]\n",
    "pd.Series(true_classes).value_counts()"
   ]
  },
  {
   "cell_type": "code",
   "execution_count": 32,
   "id": "b1d6833b",
   "metadata": {},
   "outputs": [
    {
     "data": {
      "text/html": [
       "<div>\n",
       "<style scoped>\n",
       "    .dataframe tbody tr th:only-of-type {\n",
       "        vertical-align: middle;\n",
       "    }\n",
       "\n",
       "    .dataframe tbody tr th {\n",
       "        vertical-align: top;\n",
       "    }\n",
       "\n",
       "    .dataframe thead th {\n",
       "        text-align: right;\n",
       "    }\n",
       "</style>\n",
       "<table border=\"1\" class=\"dataframe\">\n",
       "  <thead>\n",
       "    <tr style=\"text-align: right;\">\n",
       "      <th></th>\n",
       "      <th>true_class</th>\n",
       "      <th>predicted_class</th>\n",
       "      <th>confidence</th>\n",
       "    </tr>\n",
       "  </thead>\n",
       "  <tbody>\n",
       "    <tr>\n",
       "      <th>0</th>\n",
       "      <td>2 Cell</td>\n",
       "      <td>2 Cell</td>\n",
       "      <td>0.536621</td>\n",
       "    </tr>\n",
       "    <tr>\n",
       "      <th>1</th>\n",
       "      <td>2 Cell</td>\n",
       "      <td>2 Cell</td>\n",
       "      <td>0.826660</td>\n",
       "    </tr>\n",
       "    <tr>\n",
       "      <th>2</th>\n",
       "      <td>2 Cell</td>\n",
       "      <td>2 Cell</td>\n",
       "      <td>0.961426</td>\n",
       "    </tr>\n",
       "    <tr>\n",
       "      <th>3</th>\n",
       "      <td>2 Cell</td>\n",
       "      <td>2 Cell</td>\n",
       "      <td>1.000000</td>\n",
       "    </tr>\n",
       "    <tr>\n",
       "      <th>4</th>\n",
       "      <td>2 Cell</td>\n",
       "      <td>3 Cell</td>\n",
       "      <td>0.457764</td>\n",
       "    </tr>\n",
       "    <tr>\n",
       "      <th>...</th>\n",
       "      <td>...</td>\n",
       "      <td>...</td>\n",
       "      <td>...</td>\n",
       "    </tr>\n",
       "    <tr>\n",
       "      <th>9475</th>\n",
       "      <td>Syngamy</td>\n",
       "      <td>2pn</td>\n",
       "      <td>0.913086</td>\n",
       "    </tr>\n",
       "    <tr>\n",
       "      <th>9476</th>\n",
       "      <td>Syngamy</td>\n",
       "      <td>Syngamy</td>\n",
       "      <td>0.665039</td>\n",
       "    </tr>\n",
       "    <tr>\n",
       "      <th>9477</th>\n",
       "      <td>Syngamy</td>\n",
       "      <td>Syngamy</td>\n",
       "      <td>0.768555</td>\n",
       "    </tr>\n",
       "    <tr>\n",
       "      <th>9478</th>\n",
       "      <td>Syngamy</td>\n",
       "      <td>Syngamy</td>\n",
       "      <td>1.000000</td>\n",
       "    </tr>\n",
       "    <tr>\n",
       "      <th>9479</th>\n",
       "      <td>Syngamy</td>\n",
       "      <td>Syngamy</td>\n",
       "      <td>1.000000</td>\n",
       "    </tr>\n",
       "  </tbody>\n",
       "</table>\n",
       "<p>9480 rows × 3 columns</p>\n",
       "</div>"
      ],
      "text/plain": [
       "     true_class predicted_class  confidence\n",
       "0        2 Cell          2 Cell    0.536621\n",
       "1        2 Cell          2 Cell    0.826660\n",
       "2        2 Cell          2 Cell    0.961426\n",
       "3        2 Cell          2 Cell    1.000000\n",
       "4        2 Cell          3 Cell    0.457764\n",
       "...         ...             ...         ...\n",
       "9475    Syngamy             2pn    0.913086\n",
       "9476    Syngamy         Syngamy    0.665039\n",
       "9477    Syngamy         Syngamy    0.768555\n",
       "9478    Syngamy         Syngamy    1.000000\n",
       "9479    Syngamy         Syngamy    1.000000\n",
       "\n",
       "[9480 rows x 3 columns]"
      ]
     },
     "execution_count": 32,
     "metadata": {},
     "output_type": "execute_result"
    }
   ],
   "source": [
    "validation_df = pd.DataFrame()\n",
    "validation_df[\"true_class\"] = true_classes\n",
    "validation_df[\"predicted_class\"] = [classes[c] for c in predicted_codes]\n",
    "validation_df[\"confidence\"] = confidence\n",
    "validation_df"
   ]
  },
  {
   "cell_type": "code",
   "execution_count": 33,
   "id": "b3ef09d2",
   "metadata": {},
   "outputs": [
    {
     "data": {
      "text/plain": [
       "predicted_class\n",
       "2 Cell        0.999023\n",
       "2pn           1.000000\n",
       "3 Cell        0.841797\n",
       "4 Cell        0.914551\n",
       "5 Cell        0.941895\n",
       "6 Cell        0.720703\n",
       "8 Cell        0.951172\n",
       "Blastocyst    0.999023\n",
       "Compacting    0.981934\n",
       "Empty         0.940430\n",
       "Syngamy       1.000000\n",
       "Name: confidence, dtype: float16"
      ]
     },
     "execution_count": 33,
     "metadata": {},
     "output_type": "execute_result"
    }
   ],
   "source": [
    "validation_df.groupby(\"predicted_class\").confidence.median()"
   ]
  },
  {
   "cell_type": "code",
   "execution_count": 34,
   "id": "9472e193",
   "metadata": {},
   "outputs": [],
   "source": [
    "validation_df.to_csv(\"validation_predictions.csv\", index=False)"
   ]
  },
  {
   "cell_type": "code",
   "execution_count": 35,
   "id": "f3a61eb6",
   "metadata": {
    "scrolled": false
   },
   "outputs": [
    {
     "name": "stdout",
     "output_type": "stream",
     "text": [
      "              precision    recall  f1-score   support\n",
      "\n",
      "      2 Cell       0.63      0.77      0.69       524\n",
      "         2pn       0.75      0.90      0.82      1576\n",
      "      3 Cell       0.07      0.08      0.07       232\n",
      "      4 Cell       0.26      0.21      0.23       636\n",
      "      5 Cell       0.11      0.15      0.13       340\n",
      "      6 Cell       0.24      0.07      0.11       344\n",
      "      8 Cell       0.22      0.40      0.29       340\n",
      "     9 Cell+       0.00      0.00      0.00       976\n",
      "  Blastocyst       0.42      0.96      0.58      1028\n",
      "  Compacting       0.49      0.73      0.58       952\n",
      "       Empty       1.00      0.42      0.59      1544\n",
      "     Syngamy       0.90      0.52      0.66       988\n",
      "\n",
      "    accuracy                           0.53      9480\n",
      "   macro avg       0.42      0.43      0.40      9480\n",
      "weighted avg       0.55      0.53      0.50      9480\n",
      "\n",
      "[  0.    0.    0.    0.    0.    0.    4.   20.4  53.8 140.8]\n"
     ]
    },
    {
     "name": "stderr",
     "output_type": "stream",
     "text": [
      "/usr/local/lib/python3.8/dist-packages/sklearn/metrics/_classification.py:1327: UndefinedMetricWarning: Precision and F-score are ill-defined and being set to 0.0 in labels with no predicted samples. Use `zero_division` parameter to control this behavior.\n",
      "  _warn_prf(average, modifier, msg_start, len(result))\n",
      "/usr/local/lib/python3.8/dist-packages/sklearn/metrics/_classification.py:1327: UndefinedMetricWarning: Precision and F-score are ill-defined and being set to 0.0 in labels with no predicted samples. Use `zero_division` parameter to control this behavior.\n",
      "  _warn_prf(average, modifier, msg_start, len(result))\n",
      "/usr/local/lib/python3.8/dist-packages/sklearn/metrics/_classification.py:1327: UndefinedMetricWarning: Precision and F-score are ill-defined and being set to 0.0 in labels with no predicted samples. Use `zero_division` parameter to control this behavior.\n",
      "  _warn_prf(average, modifier, msg_start, len(result))\n"
     ]
    },
    {
     "data": {
      "text/plain": [
       "Text(66.5, 0.5, 'True')"
      ]
     },
     "execution_count": 35,
     "metadata": {},
     "output_type": "execute_result"
    },
    {
     "data": {
      "image/png": "[encoded data removed]",
      "text/plain": [
       "<Figure size 720x720 with 2 Axes>"
      ]
     },
     "metadata": {
      "needs_background": "light"
     },
     "output_type": "display_data"
    }
   ],
   "source": [
    "print(classification_report(validation_df[\"true_class\"], validation_df[\"predicted_class\"]))\n",
    "confusion = confusion_matrix(validation_df[\"true_class\"], validation_df[\"predicted_class\"])\n",
    "print(np.quantile(confusion, np.arange(0, 1, .1)))\n",
    "plt.figure(figsize=(10,10))\n",
    "s = sns.heatmap(\n",
    "    confusion,\n",
    "    annot=True,\n",
    "    cmap='Blues',\n",
    "    fmt=\"g\",\n",
    "    xticklabels=classes,\n",
    "    yticklabels=classes,\n",
    "    vmax=np.quantile(confusion, .95)\n",
    ")\n",
    "s.set_xlabel('Predicted', fontsize=10)\n",
    "s.set_ylabel('True', fontsize=10)"
   ]
  },
  {
   "cell_type": "code",
   "execution_count": null,
   "id": "d5a48ed5",
   "metadata": {},
   "outputs": [],
   "source": []
  },
  {
   "cell_type": "code",
   "execution_count": null,
   "id": "fa99701d",
   "metadata": {},
   "outputs": [],
   "source": []
  },
  {
   "cell_type": "code",
   "execution_count": null,
   "id": "5fe4b32e",
   "metadata": {},
   "outputs": [],
   "source": []
  }
 ],
 "metadata": {
  "interpreter": {
   "hash": "916dbcbb3f70747c44a77c7bcd40155683ae19c65e1c03b4aa3499c5328201f1"
  },
  "kernelspec": {
   "display_name": "Python 3 (ipykernel)",
   "language": "python",
   "name": "python3"
  },
  "language_info": {
   "codemirror_mode": {
    "name": "ipython",
    "version": 3
   },
   "file_extension": ".py",
   "mimetype": "text/x-python",
   "name": "python",
   "nbconvert_exporter": "python",
   "pygments_lexer": "ipython3",
   "version": "3.8.10"
  }
 },
 "nbformat": 4,
 "nbformat_minor": 5
}
