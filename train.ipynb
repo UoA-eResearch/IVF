{
 "cells": [
  {
   "cell_type": "code",
   "execution_count": 1,
   "id": "97c7873e",
   "metadata": {},
   "outputs": [
    {
     "name": "stderr",
     "output_type": "stream",
     "text": [
      "2022-05-30 22:48:58.941701: I tensorflow/stream_executor/cuda/cuda_gpu_executor.cc:975] successful NUMA node read from SysFS had negative value (-1), but there must be at least one NUMA node, so returning NUMA node zero\n",
      "2022-05-30 22:48:58.990737: I tensorflow/stream_executor/cuda/cuda_gpu_executor.cc:975] successful NUMA node read from SysFS had negative value (-1), but there must be at least one NUMA node, so returning NUMA node zero\n",
      "2022-05-30 22:48:58.990933: I tensorflow/stream_executor/cuda/cuda_gpu_executor.cc:975] successful NUMA node read from SysFS had negative value (-1), but there must be at least one NUMA node, so returning NUMA node zero\n"
     ]
    },
    {
     "name": "stdout",
     "output_type": "stream",
     "text": [
      "INFO:tensorflow:Mixed precision compatibility check (mixed_float16): OK\n",
      "Your GPU will likely run quickly with dtype policy mixed_float16 as it has compute capability of at least 7.0. Your GPU: Tesla V100-PCIE-32GB, compute capability 7.0\n"
     ]
    },
    {
     "name": "stderr",
     "output_type": "stream",
     "text": [
      "2022-05-30 22:48:59.243360: I tensorflow/stream_executor/cuda/cuda_gpu_executor.cc:975] successful NUMA node read from SysFS had negative value (-1), but there must be at least one NUMA node, so returning NUMA node zero\n"
     ]
    },
    {
     "data": {
      "text/plain": [
       "Empty                  5797\n",
       "Morula                 1319\n",
       "2pn                    1039\n",
       "Syngamy                 834\n",
       "4 Cell                  792\n",
       "2 Cell                  736\n",
       "Compacting 8 cell       549\n",
       "Expanded Blastocyst     394\n",
       "8 Cell                  384\n",
       "Blastocyst              374\n",
       "6 Cell                  360\n",
       "Cavitating morula       324\n",
       "3 Cell                  303\n",
       "Early blast             291\n",
       "5 Cell                  130\n",
       "Name: class, dtype: int64"
      ]
     },
     "execution_count": 1,
     "metadata": {},
     "output_type": "execute_result"
    }
   ],
   "source": [
    "import os # File system operations\n",
    "import re # Regular expressions\n",
    "import pandas as pd # Tabular data\n",
    "import numpy as np # Numerical data\n",
    "pd.set_option('display.max_colwidth', None) # Show full file paths\n",
    "import sys\n",
    "\n",
    "# Don't use all of the GPU RAM\n",
    "import tensorflow as tf\n",
    "gpus = tf.config.experimental.list_physical_devices('GPU')\n",
    "for gpu in gpus:\n",
    "  tf.config.experimental.set_memory_growth(gpu, True)\n",
    "from tensorflow.keras import mixed_precision\n",
    "from tensorflow import keras # ML\n",
    "import tensorflow_addons as tfa # TQDM progress bar when training\n",
    "from sklearn.model_selection import train_test_split\n",
    "\n",
    "BATCH_SIZE = 512\n",
    "\n",
    "mixed_precision.set_global_policy('mixed_float16')\n",
    "\n",
    "\n",
    "from sklearn.metrics import confusion_matrix, classification_report, accuracy_score\n",
    "\n",
    "from pathlib import Path # Pathing\n",
    "from glob import glob # Finding files recursively\n",
    "import matplotlib.pyplot as plt # Plotting\n",
    "import seaborn as sns # Plotting\n",
    "sns.set()\n",
    "from tqdm.auto import tqdm # Progress bars\n",
    "tqdm.pandas()\n",
    "\n",
    "BASE_DIR = Path(\"EmbryoLabeling/Labelers/train\")\n",
    "folders = os.listdir(BASE_DIR)\n",
    "folders = [f for f in folders if not re.match(r\"M\\d\", f)]\n",
    "files = []\n",
    "for folder in folders:\n",
    "    files_in_folder = pd.DataFrame(glob(f\"{BASE_DIR}/{folder}/**/*.jpg\", recursive=True), columns=[\"filename\"])\n",
    "    files_in_folder[\"class\"] = folder\n",
    "    files.append(files_in_folder)\n",
    "df = pd.concat(files)\n",
    "df[\"class\"].value_counts()"
   ]
  },
  {
   "cell_type": "code",
   "execution_count": 2,
   "id": "31a10845",
   "metadata": {},
   "outputs": [
    {
     "data": {
      "text/plain": [
       "<AxesSubplot:>"
      ]
     },
     "execution_count": 2,
     "metadata": {},
     "output_type": "execute_result"
    },
    {
     "data": {
      "image/png": "[encoded data removed]",
      "text/plain": [
       "<Figure size 432x288 with 1 Axes>"
      ]
     },
     "metadata": {},
     "output_type": "display_data"
    }
   ],
   "source": [
    "df[\"class\"].value_counts().plot.bar(logy=True)"
   ]
  },
  {
   "cell_type": "code",
   "execution_count": 3,
   "id": "0f1360a2",
   "metadata": {},
   "outputs": [
    {
     "data": {
      "text/plain": [
       "[M0776, S00512]    1952\n",
       "[M776, S0087]      1559\n",
       "[M0776, S00635]    1294\n",
       "[M0776, S00761]    1138\n",
       "[M0776, S00534]    1102\n",
       "[M0776, S00470]     784\n",
       "Name: filename, dtype: int64"
      ]
     },
     "execution_count": 3,
     "metadata": {},
     "output_type": "execute_result"
    }
   ],
   "source": [
    "# Print counts of images by machine and slide\n",
    "df.filename[~df[\"class\"].isin([\"bad\", \"Empty\"])].apply(lambda s: s.split(\"/\")[-1].split(\"_\")[:2]).value_counts()"
   ]
  },
  {
   "cell_type": "code",
   "execution_count": 4,
   "id": "8e48f356",
   "metadata": {
    "scrolled": false
   },
   "outputs": [
    {
     "name": "stdout",
     "output_type": "stream",
     "text": [
      "                  class  time_since_fert\n",
      "511                 2pn             1061\n",
      "685             Syngamy             1464\n",
      "298              2 Cell             1574\n",
      "116              3 Cell             2315\n",
      "104              4 Cell             2395\n",
      "7                5 Cell             3045\n",
      "29               6 Cell             3125\n",
      "145              8 Cell             3265\n",
      "24    Compacting 8 cell             3375\n",
      "1169             Morula             4286\n",
      "199   Cavitating morula             5940\n",
      "50          Early blast             6090\n",
      "113          Blastocyst             6261\n",
      "4850              Empty             7036\n"
     ]
    }
   ],
   "source": [
    "# Track a single embryo's lifecycle\n",
    "pd.set_option('display.max_rows', 365)\n",
    "M776_S0087_W2 = df[df.filename.str.contains(\"M776_S0087_W2\")].copy()\n",
    "# Extract time since fertilisation in minutes from filename (ints, rounded to nearest minute)\n",
    "M776_S0087_W2[\"time_since_fert\"] = M776_S0087_W2.filename.apply(lambda s: s.replace(\".jpg\", \"\").split(\"_\")[-1]).astype(int)\n",
    "M776_S0087_W2 = M776_S0087_W2.sort_values(by=\"time_since_fert\")\n",
    "# Take the earliest time that each class was seen\n",
    "M776_S0087_W2 = M776_S0087_W2.groupby(\"class\").head(1)\n",
    "print(M776_S0087_W2[[\"class\", \"time_since_fert\"]])"
   ]
  },
  {
   "cell_type": "code",
   "execution_count": 5,
   "id": "b07925b9",
   "metadata": {},
   "outputs": [
    {
     "data": {
      "text/plain": [
       "['2pn',\n",
       " 'Syngamy',\n",
       " '2 Cell',\n",
       " '3 Cell',\n",
       " '4 Cell',\n",
       " '5 Cell',\n",
       " '6 Cell',\n",
       " '8 Cell',\n",
       " 'Compacting 8 cell',\n",
       " 'Morula',\n",
       " 'Cavitating morula',\n",
       " 'Early blast',\n",
       " 'Blastocyst',\n",
       " 'Empty']"
      ]
     },
     "execution_count": 5,
     "metadata": {},
     "output_type": "execute_result"
    }
   ],
   "source": [
    "classes = list(M776_S0087_W2[\"class\"])\n",
    "classes"
   ]
  },
  {
   "cell_type": "code",
   "execution_count": 6,
   "id": "e803af06",
   "metadata": {},
   "outputs": [
    {
     "data": {
      "image/png": "[encoded data removed]",
      "text/plain": [
       "<Figure size 1440x1440 with 1 Axes>"
      ]
     },
     "metadata": {},
     "output_type": "display_data"
    }
   ],
   "source": [
    "# Plot embryo's lifecycle over time\n",
    "plt.figure(figsize=(20, 20))\n",
    "for i, row in M776_S0087_W2.iterrows():\n",
    "    image = keras.utils.load_img(row.filename, target_size=(299,299))\n",
    "    c_index = classes.index(row[\"class\"]) * 299\n",
    "    time_since_fert = row.time_since_fert\n",
    "    plt.imshow(image, extent=[time_since_fert, time_since_fert+299, c_index, c_index+299])\n",
    "    plt.text(time_since_fert, c_index, row[\"class\"], bbox=dict(boxstyle=\"round\", ec=(1., 0.5, 0.5), fc=(1., 0.8, 0.8)))\n",
    "plt.yticks([])\n",
    "plt.xlabel(\"Time since fertilisation (minutes)\")\n",
    "plt.xlim(0, M776_S0087_W2.time_since_fert.max() + 300)\n",
    "plt.ylim(0, len(classes) * 300)\n",
    "plt.show()"
   ]
  },
  {
   "cell_type": "code",
   "execution_count": 7,
   "id": "dbbf3b1e",
   "metadata": {},
   "outputs": [
    {
     "name": "stdout",
     "output_type": "stream",
     "text": [
      "Found 13626 files belonging to 15 classes.\n"
     ]
    },
    {
     "name": "stderr",
     "output_type": "stream",
     "text": [
      "2022-05-30 22:49:01.328622: I tensorflow/core/platform/cpu_feature_guard.cc:193] This TensorFlow binary is optimized with oneAPI Deep Neural Network Library (oneDNN) to use the following CPU instructions in performance-critical operations:  AVX2 AVX512F FMA\n",
      "To enable them in other operations, rebuild TensorFlow with the appropriate compiler flags.\n",
      "2022-05-30 22:49:01.329526: I tensorflow/stream_executor/cuda/cuda_gpu_executor.cc:975] successful NUMA node read from SysFS had negative value (-1), but there must be at least one NUMA node, so returning NUMA node zero\n",
      "2022-05-30 22:49:01.329789: I tensorflow/stream_executor/cuda/cuda_gpu_executor.cc:975] successful NUMA node read from SysFS had negative value (-1), but there must be at least one NUMA node, so returning NUMA node zero\n",
      "2022-05-30 22:49:01.329919: I tensorflow/stream_executor/cuda/cuda_gpu_executor.cc:975] successful NUMA node read from SysFS had negative value (-1), but there must be at least one NUMA node, so returning NUMA node zero\n",
      "2022-05-30 22:49:02.087809: I tensorflow/stream_executor/cuda/cuda_gpu_executor.cc:975] successful NUMA node read from SysFS had negative value (-1), but there must be at least one NUMA node, so returning NUMA node zero\n",
      "2022-05-30 22:49:02.088013: I tensorflow/stream_executor/cuda/cuda_gpu_executor.cc:975] successful NUMA node read from SysFS had negative value (-1), but there must be at least one NUMA node, so returning NUMA node zero\n",
      "2022-05-30 22:49:02.088151: I tensorflow/stream_executor/cuda/cuda_gpu_executor.cc:975] successful NUMA node read from SysFS had negative value (-1), but there must be at least one NUMA node, so returning NUMA node zero\n",
      "2022-05-30 22:49:02.088327: I tensorflow/core/common_runtime/gpu/gpu_device.cc:1532] Created device /job:localhost/replica:0/task:0/device:GPU:0 with 30982 MB memory:  -> device: 0, name: Tesla V100-PCIE-32GB, pci bus id: 0000:00:08.0, compute capability: 7.0\n"
     ]
    }
   ],
   "source": [
    "train = tf.keras.utils.image_dataset_from_directory(\n",
    "    BASE_DIR,\n",
    "    image_size = (299,299),\n",
    "    batch_size = BATCH_SIZE,\n",
    "    label_mode = 'categorical',\n",
    "    shuffle = False\n",
    ")"
   ]
  },
  {
   "cell_type": "code",
   "execution_count": 8,
   "id": "3b1f175a",
   "metadata": {},
   "outputs": [
    {
     "data": {
      "text/plain": [
       "['2 Cell',\n",
       " '2pn',\n",
       " '3 Cell',\n",
       " '4 Cell',\n",
       " '5 Cell',\n",
       " '6 Cell',\n",
       " '8 Cell',\n",
       " 'Blastocyst',\n",
       " 'Cavitating morula',\n",
       " 'Compacting 8 cell',\n",
       " 'Early blast',\n",
       " 'Empty',\n",
       " 'Expanded Blastocyst',\n",
       " 'Morula',\n",
       " 'Syngamy']"
      ]
     },
     "execution_count": 8,
     "metadata": {},
     "output_type": "execute_result"
    }
   ],
   "source": [
    "classes = train.class_names\n",
    "classes"
   ]
  },
  {
   "cell_type": "code",
   "execution_count": 9,
   "id": "97786baf",
   "metadata": {},
   "outputs": [
    {
     "data": {
      "text/plain": [
       "<keras.layers.preprocessing.image_preprocessing.RandomFlip at 0x7f303c282580>"
      ]
     },
     "execution_count": 9,
     "metadata": {},
     "output_type": "execute_result"
    }
   ],
   "source": [
    "data_augmentation = keras.layers.RandomFlip(\"horizontal_and_vertical\")\n",
    "data_augmentation"
   ]
  },
  {
   "cell_type": "code",
   "execution_count": 10,
   "id": "fca4c742",
   "metadata": {},
   "outputs": [],
   "source": [
    "train_aug = train.map(lambda x, y: (data_augmentation(x), y))"
   ]
  },
  {
   "cell_type": "code",
   "execution_count": 11,
   "id": "c00fd32a",
   "metadata": {
    "scrolled": false
   },
   "outputs": [
    {
     "data": {
      "image/png": "[encoded data removed]",
      "text/plain": [
       "<Figure size 720x720 with 25 Axes>"
      ]
     },
     "metadata": {},
     "output_type": "display_data"
    }
   ],
   "source": [
    "plt.figure(figsize=(10, 10))\n",
    "for i, (idx, row) in enumerate(df.sample(25).iterrows()):\n",
    "    ax = plt.subplot(5, 5, i + 1)\n",
    "    image = keras.utils.load_img(row.filename, target_size=(299,299))\n",
    "    plt.imshow(data_augmentation(image).numpy().astype(\"uint8\"))\n",
    "    plt.title(row[\"class\"])\n",
    "    plt.axis(\"off\")"
   ]
  },
  {
   "cell_type": "code",
   "execution_count": 12,
   "id": "a2b1f6a8",
   "metadata": {},
   "outputs": [
    {
     "name": "stdout",
     "output_type": "stream",
     "text": [
      "Model: \"sequential\"\n",
      "_________________________________________________________________\n",
      " Layer (type)                Output Shape              Param #   \n",
      "=================================================================\n",
      " rescaling (Rescaling)       (None, 299, 299, 3)       0         \n",
      "                                                                 \n",
      " xception (Functional)       (None, 2048)              20861480  \n",
      "                                                                 \n",
      "=================================================================\n",
      "Total params: 20,861,480\n",
      "Trainable params: 20,806,952\n",
      "Non-trainable params: 54,528\n",
      "_________________________________________________________________\n"
     ]
    }
   ],
   "source": [
    "base_model = keras.Sequential([\n",
    "    # Pre-trained Xception weights requires that input be scaled\n",
    "    # from (0, 255) to a range of (-1., +1.), the rescaling layer\n",
    "    # outputs: `(inputs * scale) + offset`\n",
    "    keras.layers.Rescaling(scale=1./127.5, offset=-1, input_shape=(299,299,3)),\n",
    "    keras.applications.Xception(\n",
    "        weights='imagenet',  # Load weights pre-trained on ImageNet.\n",
    "        include_top=False,\n",
    "        pooling=\"avg\"\n",
    "    )\n",
    "])\n",
    "base_model.summary()"
   ]
  },
  {
   "cell_type": "code",
   "execution_count": 13,
   "id": "2d8d022a",
   "metadata": {},
   "outputs": [
    {
     "name": "stderr",
     "output_type": "stream",
     "text": [
      "2022-05-30 22:49:08.593368: I tensorflow/stream_executor/cuda/cuda_dnn.cc:384] Loaded cuDNN version 8302\n",
      "2022-05-30 22:49:09.409796: I tensorflow/core/platform/default/subprocess.cc:304] Start cannot spawn child process: No such file or directory\n"
     ]
    },
    {
     "name": "stdout",
     "output_type": "stream",
     "text": [
      "27/27 [==============================] - 30s 957ms/step\n"
     ]
    }
   ],
   "source": [
    "extracted_features = base_model.predict(train_aug)"
   ]
  },
  {
   "cell_type": "code",
   "execution_count": 14,
   "id": "3ccf149a",
   "metadata": {
    "scrolled": false
   },
   "outputs": [
    {
     "data": {
      "text/plain": [
       "(13626, 2048)"
      ]
     },
     "execution_count": 14,
     "metadata": {},
     "output_type": "execute_result"
    }
   ],
   "source": [
    "extracted_features.shape"
   ]
  },
  {
   "cell_type": "code",
   "execution_count": 15,
   "id": "d4d6aef0",
   "metadata": {},
   "outputs": [
    {
     "data": {
      "text/plain": [
       "(13626, 15)"
      ]
     },
     "execution_count": 15,
     "metadata": {},
     "output_type": "execute_result"
    }
   ],
   "source": [
    "y = np.vstack([y for x,y in train])\n",
    "y.shape"
   ]
  },
  {
   "cell_type": "code",
   "execution_count": 16,
   "id": "d3d769ed",
   "metadata": {},
   "outputs": [
    {
     "data": {
      "text/plain": [
       "((11339, 2048), (11339, 15), (2287, 2048), (2287, 15))"
      ]
     },
     "execution_count": 16,
     "metadata": {},
     "output_type": "execute_result"
    }
   ],
   "source": [
    "#x_train, x_test, y_train, y_test = train_test_split(extracted_features, y, test_size=.2)\n",
    "\n",
    "# Use one slide for test, everything else for train\n",
    "test_idx = pd.Series(train.file_paths).str.contains(\"M0776_S00512\")\n",
    "x_train = extracted_features[~test_idx]\n",
    "y_train = y[~test_idx]\n",
    "x_test = extracted_features[test_idx]\n",
    "y_test = y[test_idx]\n",
    "x_train.shape, y_train.shape, x_test.shape, y_test.shape"
   ]
  },
  {
   "cell_type": "code",
   "execution_count": 17,
   "id": "9844880c",
   "metadata": {
    "scrolled": false
   },
   "outputs": [
    {
     "name": "stdout",
     "output_type": "stream",
     "text": [
      "Model: \"sequential_1\"\n",
      "_________________________________________________________________\n",
      " Layer (type)                Output Shape              Param #   \n",
      "=================================================================\n",
      " dense (Dense)               (None, 15)                30735     \n",
      "                                                                 \n",
      "=================================================================\n",
      "Total params: 30,735\n",
      "Trainable params: 30,735\n",
      "Non-trainable params: 0\n",
      "_________________________________________________________________\n",
      "None\n"
     ]
    },
    {
     "data": {
      "application/vnd.jupyter.widget-view+json": {
       "model_id": "0584c5b323134a54983c53fa5b9396e0",
       "version_major": 2,
       "version_minor": 0
      },
      "text/plain": [
       "Training:   0%|           0/500 ETA: ?s,  ?epochs/s"
      ]
     },
     "metadata": {},
     "output_type": "display_data"
    },
    {
     "name": "stdout",
     "output_type": "stream",
     "text": [
      "Epoch 1/500\n"
     ]
    },
    {
     "data": {
      "application/vnd.jupyter.widget-view+json": {
       "model_id": "57c8c4c00ac14568bab690a0c9d75459",
       "version_major": 2,
       "version_minor": 0
      },
      "text/plain": [
       "0/23           ETA: ?s - "
      ]
     },
     "metadata": {},
     "output_type": "display_data"
    },
    {
     "name": "stdout",
     "output_type": "stream",
     "text": [
      "Epoch 2/500\n"
     ]
    },
    {
     "data": {
      "application/vnd.jupyter.widget-view+json": {
       "model_id": "0cc1a029568841729e2c5c5671409489",
       "version_major": 2,
       "version_minor": 0
      },
      "text/plain": [
       "0/23           ETA: ?s - "
      ]
     },
     "metadata": {},
     "output_type": "display_data"
    },
    {
     "name": "stdout",
     "output_type": "stream",
     "text": [
      "Epoch 3/500\n"
     ]
    },
    {
     "data": {
      "application/vnd.jupyter.widget-view+json": {
       "model_id": "92de7e8264724d0395556eaf4289e599",
       "version_major": 2,
       "version_minor": 0
      },
      "text/plain": [
       "0/23           ETA: ?s - "
      ]
     },
     "metadata": {},
     "output_type": "display_data"
    },
    {
     "name": "stdout",
     "output_type": "stream",
     "text": [
      "Epoch 4/500\n"
     ]
    },
    {
     "data": {
      "application/vnd.jupyter.widget-view+json": {
       "model_id": "77f97d8354cd44c2b6f309dd14852114",
       "version_major": 2,
       "version_minor": 0
      },
      "text/plain": [
       "0/23           ETA: ?s - "
      ]
     },
     "metadata": {},
     "output_type": "display_data"
    },
    {
     "name": "stdout",
     "output_type": "stream",
     "text": [
      "Epoch 5/500\n"
     ]
    },
    {
     "data": {
      "application/vnd.jupyter.widget-view+json": {
       "model_id": "4926f37cdf06472291f618f73be001a8",
       "version_major": 2,
       "version_minor": 0
      },
      "text/plain": [
       "0/23           ETA: ?s - "
      ]
     },
     "metadata": {},
     "output_type": "display_data"
    },
    {
     "name": "stdout",
     "output_type": "stream",
     "text": [
      "Epoch 6/500\n"
     ]
    },
    {
     "data": {
      "application/vnd.jupyter.widget-view+json": {
       "model_id": "5dbdccd412034907b5f40df0533c4fdf",
       "version_major": 2,
       "version_minor": 0
      },
      "text/plain": [
       "0/23           ETA: ?s - "
      ]
     },
     "metadata": {},
     "output_type": "display_data"
    },
    {
     "name": "stdout",
     "output_type": "stream",
     "text": [
      "Epoch 7/500\n"
     ]
    },
    {
     "data": {
      "application/vnd.jupyter.widget-view+json": {
       "model_id": "051244eef7b4463f90e9568643b2e603",
       "version_major": 2,
       "version_minor": 0
      },
      "text/plain": [
       "0/23           ETA: ?s - "
      ]
     },
     "metadata": {},
     "output_type": "display_data"
    },
    {
     "name": "stdout",
     "output_type": "stream",
     "text": [
      "Epoch 8/500\n"
     ]
    },
    {
     "data": {
      "application/vnd.jupyter.widget-view+json": {
       "model_id": "d8780b6cc83545acbbbf3bbba718b5ae",
       "version_major": 2,
       "version_minor": 0
      },
      "text/plain": [
       "0/23           ETA: ?s - "
      ]
     },
     "metadata": {},
     "output_type": "display_data"
    },
    {
     "name": "stdout",
     "output_type": "stream",
     "text": [
      "Epoch 9/500\n"
     ]
    },
    {
     "data": {
      "application/vnd.jupyter.widget-view+json": {
       "model_id": "f141def877464ca285bc2a1ed4aa3909",
       "version_major": 2,
       "version_minor": 0
      },
      "text/plain": [
       "0/23           ETA: ?s - "
      ]
     },
     "metadata": {},
     "output_type": "display_data"
    },
    {
     "name": "stdout",
     "output_type": "stream",
     "text": [
      "Epoch 10/500\n"
     ]
    },
    {
     "data": {
      "application/vnd.jupyter.widget-view+json": {
       "model_id": "fe8eb3a743fe4ea19bba177af5920fe3",
       "version_major": 2,
       "version_minor": 0
      },
      "text/plain": [
       "0/23           ETA: ?s - "
      ]
     },
     "metadata": {},
     "output_type": "display_data"
    },
    {
     "name": "stdout",
     "output_type": "stream",
     "text": [
      "Epoch 11/500\n"
     ]
    },
    {
     "data": {
      "application/vnd.jupyter.widget-view+json": {
       "model_id": "0fb121afcc5d463089823aefceadef9f",
       "version_major": 2,
       "version_minor": 0
      },
      "text/plain": [
       "0/23           ETA: ?s - "
      ]
     },
     "metadata": {},
     "output_type": "display_data"
    },
    {
     "name": "stdout",
     "output_type": "stream",
     "text": [
      "Epoch 12/500\n"
     ]
    },
    {
     "data": {
      "application/vnd.jupyter.widget-view+json": {
       "model_id": "7dacb174eee741b28ccef7d116da501d",
       "version_major": 2,
       "version_minor": 0
      },
      "text/plain": [
       "0/23           ETA: ?s - "
      ]
     },
     "metadata": {},
     "output_type": "display_data"
    },
    {
     "name": "stdout",
     "output_type": "stream",
     "text": [
      "Epoch 13/500\n"
     ]
    },
    {
     "data": {
      "application/vnd.jupyter.widget-view+json": {
       "model_id": "59b03fc5a36f48eb8a5738b2dc872bd1",
       "version_major": 2,
       "version_minor": 0
      },
      "text/plain": [
       "0/23           ETA: ?s - "
      ]
     },
     "metadata": {},
     "output_type": "display_data"
    },
    {
     "name": "stdout",
     "output_type": "stream",
     "text": [
      "Epoch 14/500\n"
     ]
    },
    {
     "data": {
      "application/vnd.jupyter.widget-view+json": {
       "model_id": "7a6ffe32e0774c73949391d39eb83685",
       "version_major": 2,
       "version_minor": 0
      },
      "text/plain": [
       "0/23           ETA: ?s - "
      ]
     },
     "metadata": {},
     "output_type": "display_data"
    },
    {
     "name": "stdout",
     "output_type": "stream",
     "text": [
      "Epoch 15/500\n"
     ]
    },
    {
     "data": {
      "application/vnd.jupyter.widget-view+json": {
       "model_id": "240b41e0e8ee44db8afeb6cdcf688112",
       "version_major": 2,
       "version_minor": 0
      },
      "text/plain": [
       "0/23           ETA: ?s - "
      ]
     },
     "metadata": {},
     "output_type": "display_data"
    },
    {
     "name": "stdout",
     "output_type": "stream",
     "text": [
      "Epoch 16/500\n"
     ]
    },
    {
     "data": {
      "application/vnd.jupyter.widget-view+json": {
       "model_id": "dcde906251c04912b0d1913c2c080f78",
       "version_major": 2,
       "version_minor": 0
      },
      "text/plain": [
       "0/23           ETA: ?s - "
      ]
     },
     "metadata": {},
     "output_type": "display_data"
    },
    {
     "name": "stdout",
     "output_type": "stream",
     "text": [
      "Epoch 17/500\n"
     ]
    },
    {
     "data": {
      "application/vnd.jupyter.widget-view+json": {
       "model_id": "4467333fabd4433faa4e5ec6a8246eb9",
       "version_major": 2,
       "version_minor": 0
      },
      "text/plain": [
       "0/23           ETA: ?s - "
      ]
     },
     "metadata": {},
     "output_type": "display_data"
    },
    {
     "name": "stdout",
     "output_type": "stream",
     "text": [
      "Epoch 18/500\n"
     ]
    },
    {
     "data": {
      "application/vnd.jupyter.widget-view+json": {
       "model_id": "6fad052735f74931a368aecee3d9b146",
       "version_major": 2,
       "version_minor": 0
      },
      "text/plain": [
       "0/23           ETA: ?s - "
      ]
     },
     "metadata": {},
     "output_type": "display_data"
    },
    {
     "name": "stdout",
     "output_type": "stream",
     "text": [
      "Epoch 19/500\n"
     ]
    },
    {
     "data": {
      "application/vnd.jupyter.widget-view+json": {
       "model_id": "e862afbf04764142a8572a1eb4a36961",
       "version_major": 2,
       "version_minor": 0
      },
      "text/plain": [
       "0/23           ETA: ?s - "
      ]
     },
     "metadata": {},
     "output_type": "display_data"
    },
    {
     "name": "stdout",
     "output_type": "stream",
     "text": [
      "Epoch 20/500\n"
     ]
    },
    {
     "data": {
      "application/vnd.jupyter.widget-view+json": {
       "model_id": "ecf1908ec71c43a091b8f06d523b7683",
       "version_major": 2,
       "version_minor": 0
      },
      "text/plain": [
       "0/23           ETA: ?s - "
      ]
     },
     "metadata": {},
     "output_type": "display_data"
    },
    {
     "name": "stdout",
     "output_type": "stream",
     "text": [
      "Epoch 21/500\n"
     ]
    },
    {
     "data": {
      "application/vnd.jupyter.widget-view+json": {
       "model_id": "cddf4f4d08c7471990581ada386765aa",
       "version_major": 2,
       "version_minor": 0
      },
      "text/plain": [
       "0/23           ETA: ?s - "
      ]
     },
     "metadata": {},
     "output_type": "display_data"
    },
    {
     "name": "stdout",
     "output_type": "stream",
     "text": [
      "Epoch 22/500\n"
     ]
    },
    {
     "data": {
      "application/vnd.jupyter.widget-view+json": {
       "model_id": "d67ded92c7834ef3aa638bce2f8610f6",
       "version_major": 2,
       "version_minor": 0
      },
      "text/plain": [
       "0/23           ETA: ?s - "
      ]
     },
     "metadata": {},
     "output_type": "display_data"
    },
    {
     "name": "stdout",
     "output_type": "stream",
     "text": [
      "Epoch 23/500\n"
     ]
    },
    {
     "data": {
      "application/vnd.jupyter.widget-view+json": {
       "model_id": "33740dbc076e4652b5dc7332a5810998",
       "version_major": 2,
       "version_minor": 0
      },
      "text/plain": [
       "0/23           ETA: ?s - "
      ]
     },
     "metadata": {},
     "output_type": "display_data"
    },
    {
     "name": "stdout",
     "output_type": "stream",
     "text": [
      "Epoch 24/500\n"
     ]
    },
    {
     "data": {
      "application/vnd.jupyter.widget-view+json": {
       "model_id": "0335e780f1144f1aba05b4e0f24bac2d",
       "version_major": 2,
       "version_minor": 0
      },
      "text/plain": [
       "0/23           ETA: ?s - "
      ]
     },
     "metadata": {},
     "output_type": "display_data"
    },
    {
     "name": "stdout",
     "output_type": "stream",
     "text": [
      "Epoch 25/500\n"
     ]
    },
    {
     "data": {
      "application/vnd.jupyter.widget-view+json": {
       "model_id": "fbde303c883c4e2eba0a42e566ecabec",
       "version_major": 2,
       "version_minor": 0
      },
      "text/plain": [
       "0/23           ETA: ?s - "
      ]
     },
     "metadata": {},
     "output_type": "display_data"
    },
    {
     "name": "stdout",
     "output_type": "stream",
     "text": [
      "Epoch 26/500\n"
     ]
    },
    {
     "data": {
      "application/vnd.jupyter.widget-view+json": {
       "model_id": "cace55e2c6de42918a16cedd88169ab0",
       "version_major": 2,
       "version_minor": 0
      },
      "text/plain": [
       "0/23           ETA: ?s - "
      ]
     },
     "metadata": {},
     "output_type": "display_data"
    },
    {
     "name": "stdout",
     "output_type": "stream",
     "text": [
      "Epoch 27/500\n"
     ]
    },
    {
     "data": {
      "application/vnd.jupyter.widget-view+json": {
       "model_id": "7ae0ccc942d24c1193b46929f1bd6817",
       "version_major": 2,
       "version_minor": 0
      },
      "text/plain": [
       "0/23           ETA: ?s - "
      ]
     },
     "metadata": {},
     "output_type": "display_data"
    },
    {
     "name": "stdout",
     "output_type": "stream",
     "text": [
      "Epoch 28/500\n"
     ]
    },
    {
     "data": {
      "application/vnd.jupyter.widget-view+json": {
       "model_id": "c154a072afda456382dadf8d3f3fc223",
       "version_major": 2,
       "version_minor": 0
      },
      "text/plain": [
       "0/23           ETA: ?s - "
      ]
     },
     "metadata": {},
     "output_type": "display_data"
    },
    {
     "name": "stdout",
     "output_type": "stream",
     "text": [
      "Epoch 29/500\n"
     ]
    },
    {
     "data": {
      "application/vnd.jupyter.widget-view+json": {
       "model_id": "5faf3d9dbc4247a8b64ffdf0f94ae3c2",
       "version_major": 2,
       "version_minor": 0
      },
      "text/plain": [
       "0/23           ETA: ?s - "
      ]
     },
     "metadata": {},
     "output_type": "display_data"
    },
    {
     "name": "stdout",
     "output_type": "stream",
     "text": [
      "Epoch 30/500\n"
     ]
    },
    {
     "data": {
      "application/vnd.jupyter.widget-view+json": {
       "model_id": "0c5a785923454044a343ad36b8556e33",
       "version_major": 2,
       "version_minor": 0
      },
      "text/plain": [
       "0/23           ETA: ?s - "
      ]
     },
     "metadata": {},
     "output_type": "display_data"
    },
    {
     "name": "stdout",
     "output_type": "stream",
     "text": [
      "Epoch 31/500\n"
     ]
    },
    {
     "data": {
      "application/vnd.jupyter.widget-view+json": {
       "model_id": "a381f286bc7b4edcab1bcbe65127a8aa",
       "version_major": 2,
       "version_minor": 0
      },
      "text/plain": [
       "0/23           ETA: ?s - "
      ]
     },
     "metadata": {},
     "output_type": "display_data"
    },
    {
     "name": "stdout",
     "output_type": "stream",
     "text": [
      "Epoch 32/500\n"
     ]
    },
    {
     "data": {
      "application/vnd.jupyter.widget-view+json": {
       "model_id": "8c77cd5f92604ad39c1d571b3abd4de8",
       "version_major": 2,
       "version_minor": 0
      },
      "text/plain": [
       "0/23           ETA: ?s - "
      ]
     },
     "metadata": {},
     "output_type": "display_data"
    },
    {
     "name": "stdout",
     "output_type": "stream",
     "text": [
      "Epoch 33/500\n"
     ]
    },
    {
     "data": {
      "application/vnd.jupyter.widget-view+json": {
       "model_id": "0d8e5f72007947f9bf92e4bc6429b230",
       "version_major": 2,
       "version_minor": 0
      },
      "text/plain": [
       "0/23           ETA: ?s - "
      ]
     },
     "metadata": {},
     "output_type": "display_data"
    },
    {
     "name": "stdout",
     "output_type": "stream",
     "text": [
      "Epoch 34/500\n"
     ]
    },
    {
     "data": {
      "application/vnd.jupyter.widget-view+json": {
       "model_id": "8741631811714768a7e98370509f278e",
       "version_major": 2,
       "version_minor": 0
      },
      "text/plain": [
       "0/23           ETA: ?s - "
      ]
     },
     "metadata": {},
     "output_type": "display_data"
    },
    {
     "name": "stdout",
     "output_type": "stream",
     "text": [
      "Epoch 35/500\n"
     ]
    },
    {
     "data": {
      "application/vnd.jupyter.widget-view+json": {
       "model_id": "0da9708d59e34206b55da35068300e29",
       "version_major": 2,
       "version_minor": 0
      },
      "text/plain": [
       "0/23           ETA: ?s - "
      ]
     },
     "metadata": {},
     "output_type": "display_data"
    },
    {
     "name": "stdout",
     "output_type": "stream",
     "text": [
      "Epoch 36/500\n"
     ]
    },
    {
     "data": {
      "application/vnd.jupyter.widget-view+json": {
       "model_id": "fe0c10ff059d4e92805778d4d8b499c6",
       "version_major": 2,
       "version_minor": 0
      },
      "text/plain": [
       "0/23           ETA: ?s - "
      ]
     },
     "metadata": {},
     "output_type": "display_data"
    },
    {
     "name": "stdout",
     "output_type": "stream",
     "text": [
      "Epoch 37/500\n"
     ]
    },
    {
     "data": {
      "application/vnd.jupyter.widget-view+json": {
       "model_id": "c732ea8a96004b4fa1f4d187ed5252ef",
       "version_major": 2,
       "version_minor": 0
      },
      "text/plain": [
       "0/23           ETA: ?s - "
      ]
     },
     "metadata": {},
     "output_type": "display_data"
    },
    {
     "name": "stdout",
     "output_type": "stream",
     "text": [
      "Epoch 38/500\n"
     ]
    },
    {
     "data": {
      "application/vnd.jupyter.widget-view+json": {
       "model_id": "937bf751d03842ae99788a185b5a53b1",
       "version_major": 2,
       "version_minor": 0
      },
      "text/plain": [
       "0/23           ETA: ?s - "
      ]
     },
     "metadata": {},
     "output_type": "display_data"
    },
    {
     "name": "stdout",
     "output_type": "stream",
     "text": [
      "Epoch 39/500\n"
     ]
    },
    {
     "data": {
      "application/vnd.jupyter.widget-view+json": {
       "model_id": "cb90440706f34cdd85e1506e8fcc61e9",
       "version_major": 2,
       "version_minor": 0
      },
      "text/plain": [
       "0/23           ETA: ?s - "
      ]
     },
     "metadata": {},
     "output_type": "display_data"
    },
    {
     "name": "stdout",
     "output_type": "stream",
     "text": [
      "Epoch 40/500\n"
     ]
    },
    {
     "data": {
      "application/vnd.jupyter.widget-view+json": {
       "model_id": "5e0b010e7325474481bf9334f26d63ff",
       "version_major": 2,
       "version_minor": 0
      },
      "text/plain": [
       "0/23           ETA: ?s - "
      ]
     },
     "metadata": {},
     "output_type": "display_data"
    },
    {
     "name": "stdout",
     "output_type": "stream",
     "text": [
      "Epoch 41/500\n"
     ]
    },
    {
     "data": {
      "application/vnd.jupyter.widget-view+json": {
       "model_id": "43e7f070fd9a4f4caf38f21f319012f1",
       "version_major": 2,
       "version_minor": 0
      },
      "text/plain": [
       "0/23           ETA: ?s - "
      ]
     },
     "metadata": {},
     "output_type": "display_data"
    },
    {
     "name": "stdout",
     "output_type": "stream",
     "text": [
      "Epoch 42/500\n"
     ]
    },
    {
     "data": {
      "application/vnd.jupyter.widget-view+json": {
       "model_id": "fd25f6528b8a4999bdce079b5fca314c",
       "version_major": 2,
       "version_minor": 0
      },
      "text/plain": [
       "0/23           ETA: ?s - "
      ]
     },
     "metadata": {},
     "output_type": "display_data"
    },
    {
     "name": "stdout",
     "output_type": "stream",
     "text": [
      "Epoch 43/500\n"
     ]
    },
    {
     "data": {
      "application/vnd.jupyter.widget-view+json": {
       "model_id": "1ab151b2c8904827bea717a0ab8d3304",
       "version_major": 2,
       "version_minor": 0
      },
      "text/plain": [
       "0/23           ETA: ?s - "
      ]
     },
     "metadata": {},
     "output_type": "display_data"
    },
    {
     "name": "stdout",
     "output_type": "stream",
     "text": [
      "Epoch 44/500\n"
     ]
    },
    {
     "data": {
      "application/vnd.jupyter.widget-view+json": {
       "model_id": "9f1b0affd0904999bd21d59fdbfe7eae",
       "version_major": 2,
       "version_minor": 0
      },
      "text/plain": [
       "0/23           ETA: ?s - "
      ]
     },
     "metadata": {},
     "output_type": "display_data"
    },
    {
     "name": "stdout",
     "output_type": "stream",
     "text": [
      "Epoch 45/500\n"
     ]
    },
    {
     "data": {
      "application/vnd.jupyter.widget-view+json": {
       "model_id": "893a51c032ef4a7daf5b3ee85e132374",
       "version_major": 2,
       "version_minor": 0
      },
      "text/plain": [
       "0/23           ETA: ?s - "
      ]
     },
     "metadata": {},
     "output_type": "display_data"
    },
    {
     "name": "stdout",
     "output_type": "stream",
     "text": [
      "Epoch 46/500\n"
     ]
    },
    {
     "data": {
      "application/vnd.jupyter.widget-view+json": {
       "model_id": "b4d1de84b2d540209fe7e4077c5afc5f",
       "version_major": 2,
       "version_minor": 0
      },
      "text/plain": [
       "0/23           ETA: ?s - "
      ]
     },
     "metadata": {},
     "output_type": "display_data"
    },
    {
     "name": "stdout",
     "output_type": "stream",
     "text": [
      "Epoch 47/500\n"
     ]
    },
    {
     "data": {
      "application/vnd.jupyter.widget-view+json": {
       "model_id": "92ee087e81d44458a81af3d7f6f33384",
       "version_major": 2,
       "version_minor": 0
      },
      "text/plain": [
       "0/23           ETA: ?s - "
      ]
     },
     "metadata": {},
     "output_type": "display_data"
    },
    {
     "name": "stdout",
     "output_type": "stream",
     "text": [
      "Epoch 48/500\n"
     ]
    },
    {
     "data": {
      "application/vnd.jupyter.widget-view+json": {
       "model_id": "68701e343df54f65be09057788fc8177",
       "version_major": 2,
       "version_minor": 0
      },
      "text/plain": [
       "0/23           ETA: ?s - "
      ]
     },
     "metadata": {},
     "output_type": "display_data"
    },
    {
     "name": "stdout",
     "output_type": "stream",
     "text": [
      "Epoch 49/500\n"
     ]
    },
    {
     "data": {
      "application/vnd.jupyter.widget-view+json": {
       "model_id": "ec92063c3b8e42be841df4687caf65c9",
       "version_major": 2,
       "version_minor": 0
      },
      "text/plain": [
       "0/23           ETA: ?s - "
      ]
     },
     "metadata": {},
     "output_type": "display_data"
    },
    {
     "name": "stdout",
     "output_type": "stream",
     "text": [
      "Epoch 50/500\n"
     ]
    },
    {
     "data": {
      "application/vnd.jupyter.widget-view+json": {
       "model_id": "65d93d284f524f06b23d9d4c3baa69ef",
       "version_major": 2,
       "version_minor": 0
      },
      "text/plain": [
       "0/23           ETA: ?s - "
      ]
     },
     "metadata": {},
     "output_type": "display_data"
    },
    {
     "name": "stdout",
     "output_type": "stream",
     "text": [
      "Epoch 51/500\n"
     ]
    },
    {
     "data": {
      "application/vnd.jupyter.widget-view+json": {
       "model_id": "5a5fdaea45794c89b4accbaaaf158657",
       "version_major": 2,
       "version_minor": 0
      },
      "text/plain": [
       "0/23           ETA: ?s - "
      ]
     },
     "metadata": {},
     "output_type": "display_data"
    },
    {
     "name": "stdout",
     "output_type": "stream",
     "text": [
      "Epoch 52/500\n"
     ]
    },
    {
     "data": {
      "application/vnd.jupyter.widget-view+json": {
       "model_id": "03f2698e734a4413948f349752ff182d",
       "version_major": 2,
       "version_minor": 0
      },
      "text/plain": [
       "0/23           ETA: ?s - "
      ]
     },
     "metadata": {},
     "output_type": "display_data"
    },
    {
     "name": "stdout",
     "output_type": "stream",
     "text": [
      "Epoch 53/500\n"
     ]
    },
    {
     "data": {
      "application/vnd.jupyter.widget-view+json": {
       "model_id": "9bedf49203cb47659eea6b8c5325d1b1",
       "version_major": 2,
       "version_minor": 0
      },
      "text/plain": [
       "0/23           ETA: ?s - "
      ]
     },
     "metadata": {},
     "output_type": "display_data"
    },
    {
     "name": "stdout",
     "output_type": "stream",
     "text": [
      "Epoch 54/500\n"
     ]
    },
    {
     "data": {
      "application/vnd.jupyter.widget-view+json": {
       "model_id": "45dfc9afe55242e69ca99c6eccfd137c",
       "version_major": 2,
       "version_minor": 0
      },
      "text/plain": [
       "0/23           ETA: ?s - "
      ]
     },
     "metadata": {},
     "output_type": "display_data"
    },
    {
     "name": "stdout",
     "output_type": "stream",
     "text": [
      "Epoch 55/500\n"
     ]
    },
    {
     "data": {
      "application/vnd.jupyter.widget-view+json": {
       "model_id": "63ea384fd2bb4822a595a21c10542f1d",
       "version_major": 2,
       "version_minor": 0
      },
      "text/plain": [
       "0/23           ETA: ?s - "
      ]
     },
     "metadata": {},
     "output_type": "display_data"
    },
    {
     "name": "stdout",
     "output_type": "stream",
     "text": [
      "Epoch 56/500\n"
     ]
    },
    {
     "data": {
      "application/vnd.jupyter.widget-view+json": {
       "model_id": "e3fc74a35a214a61a9a330aea9ad63d3",
       "version_major": 2,
       "version_minor": 0
      },
      "text/plain": [
       "0/23           ETA: ?s - "
      ]
     },
     "metadata": {},
     "output_type": "display_data"
    },
    {
     "name": "stdout",
     "output_type": "stream",
     "text": [
      "Epoch 57/500\n"
     ]
    },
    {
     "data": {
      "application/vnd.jupyter.widget-view+json": {
       "model_id": "7ee49225d199483ab3a11981fb51ed0e",
       "version_major": 2,
       "version_minor": 0
      },
      "text/plain": [
       "0/23           ETA: ?s - "
      ]
     },
     "metadata": {},
     "output_type": "display_data"
    },
    {
     "name": "stdout",
     "output_type": "stream",
     "text": [
      "Epoch 58/500\n"
     ]
    },
    {
     "data": {
      "application/vnd.jupyter.widget-view+json": {
       "model_id": "b1e001a79aed464ea03ef91653d367f3",
       "version_major": 2,
       "version_minor": 0
      },
      "text/plain": [
       "0/23           ETA: ?s - "
      ]
     },
     "metadata": {},
     "output_type": "display_data"
    },
    {
     "name": "stdout",
     "output_type": "stream",
     "text": [
      "Epoch 59/500\n"
     ]
    },
    {
     "data": {
      "application/vnd.jupyter.widget-view+json": {
       "model_id": "317ab26de95f4001b6054e3882fc9edf",
       "version_major": 2,
       "version_minor": 0
      },
      "text/plain": [
       "0/23           ETA: ?s - "
      ]
     },
     "metadata": {},
     "output_type": "display_data"
    },
    {
     "name": "stdout",
     "output_type": "stream",
     "text": [
      "Epoch 60/500\n"
     ]
    },
    {
     "data": {
      "application/vnd.jupyter.widget-view+json": {
       "model_id": "923e9e10ebb44d5f8567e3f7bc2b3541",
       "version_major": 2,
       "version_minor": 0
      },
      "text/plain": [
       "0/23           ETA: ?s - "
      ]
     },
     "metadata": {},
     "output_type": "display_data"
    },
    {
     "name": "stdout",
     "output_type": "stream",
     "text": [
      "Epoch 61/500\n"
     ]
    },
    {
     "data": {
      "application/vnd.jupyter.widget-view+json": {
       "model_id": "8a7abb5f89a9448f9a5c2fa23739e85e",
       "version_major": 2,
       "version_minor": 0
      },
      "text/plain": [
       "0/23           ETA: ?s - "
      ]
     },
     "metadata": {},
     "output_type": "display_data"
    },
    {
     "name": "stdout",
     "output_type": "stream",
     "text": [
      "Epoch 62/500\n"
     ]
    },
    {
     "data": {
      "application/vnd.jupyter.widget-view+json": {
       "model_id": "4e1b1c7f8cfc4cf99ede32490941f669",
       "version_major": 2,
       "version_minor": 0
      },
      "text/plain": [
       "0/23           ETA: ?s - "
      ]
     },
     "metadata": {},
     "output_type": "display_data"
    },
    {
     "name": "stdout",
     "output_type": "stream",
     "text": [
      "Epoch 63/500\n"
     ]
    },
    {
     "data": {
      "application/vnd.jupyter.widget-view+json": {
       "model_id": "595e4c0d29574630a0664e8bdad9fda9",
       "version_major": 2,
       "version_minor": 0
      },
      "text/plain": [
       "0/23           ETA: ?s - "
      ]
     },
     "metadata": {},
     "output_type": "display_data"
    },
    {
     "name": "stdout",
     "output_type": "stream",
     "text": [
      "Epoch 64/500\n"
     ]
    },
    {
     "data": {
      "application/vnd.jupyter.widget-view+json": {
       "model_id": "27b58fcfd4484e00aae7358938bd5b5b",
       "version_major": 2,
       "version_minor": 0
      },
      "text/plain": [
       "0/23           ETA: ?s - "
      ]
     },
     "metadata": {},
     "output_type": "display_data"
    },
    {
     "name": "stdout",
     "output_type": "stream",
     "text": [
      "Epoch 65/500\n"
     ]
    },
    {
     "data": {
      "application/vnd.jupyter.widget-view+json": {
       "model_id": "c5bc06f86ed74c76b1251ada98625cc2",
       "version_major": 2,
       "version_minor": 0
      },
      "text/plain": [
       "0/23           ETA: ?s - "
      ]
     },
     "metadata": {},
     "output_type": "display_data"
    },
    {
     "name": "stdout",
     "output_type": "stream",
     "text": [
      "Epoch 66/500\n"
     ]
    },
    {
     "data": {
      "application/vnd.jupyter.widget-view+json": {
       "model_id": "753d192e99b146feb38af2042c138866",
       "version_major": 2,
       "version_minor": 0
      },
      "text/plain": [
       "0/23           ETA: ?s - "
      ]
     },
     "metadata": {},
     "output_type": "display_data"
    },
    {
     "name": "stdout",
     "output_type": "stream",
     "text": [
      "Epoch 67/500\n"
     ]
    },
    {
     "data": {
      "application/vnd.jupyter.widget-view+json": {
       "model_id": "9aef3d16b6b14d47879f3a5bcb8d44fe",
       "version_major": 2,
       "version_minor": 0
      },
      "text/plain": [
       "0/23           ETA: ?s - "
      ]
     },
     "metadata": {},
     "output_type": "display_data"
    },
    {
     "name": "stdout",
     "output_type": "stream",
     "text": [
      "Epoch 68/500\n"
     ]
    },
    {
     "data": {
      "application/vnd.jupyter.widget-view+json": {
       "model_id": "429359f0ee9543cd87e599e7e4d33c16",
       "version_major": 2,
       "version_minor": 0
      },
      "text/plain": [
       "0/23           ETA: ?s - "
      ]
     },
     "metadata": {},
     "output_type": "display_data"
    },
    {
     "name": "stdout",
     "output_type": "stream",
     "text": [
      "Epoch 69/500\n"
     ]
    },
    {
     "data": {
      "application/vnd.jupyter.widget-view+json": {
       "model_id": "f1a1c46a7b9440d2b5a985ffb312b97d",
       "version_major": 2,
       "version_minor": 0
      },
      "text/plain": [
       "0/23           ETA: ?s - "
      ]
     },
     "metadata": {},
     "output_type": "display_data"
    },
    {
     "name": "stdout",
     "output_type": "stream",
     "text": [
      "Epoch 70/500\n"
     ]
    },
    {
     "data": {
      "application/vnd.jupyter.widget-view+json": {
       "model_id": "416fe46dd3ec4962af93b95fe1831693",
       "version_major": 2,
       "version_minor": 0
      },
      "text/plain": [
       "0/23           ETA: ?s - "
      ]
     },
     "metadata": {},
     "output_type": "display_data"
    },
    {
     "name": "stdout",
     "output_type": "stream",
     "text": [
      "Epoch 71/500\n"
     ]
    },
    {
     "data": {
      "application/vnd.jupyter.widget-view+json": {
       "model_id": "d451ed4ae35946de901110d3c8774bab",
       "version_major": 2,
       "version_minor": 0
      },
      "text/plain": [
       "0/23           ETA: ?s - "
      ]
     },
     "metadata": {},
     "output_type": "display_data"
    },
    {
     "name": "stdout",
     "output_type": "stream",
     "text": [
      "Epoch 72/500\n"
     ]
    },
    {
     "data": {
      "application/vnd.jupyter.widget-view+json": {
       "model_id": "2a8a7e841b2945fdb35863fa8df3ae43",
       "version_major": 2,
       "version_minor": 0
      },
      "text/plain": [
       "0/23           ETA: ?s - "
      ]
     },
     "metadata": {},
     "output_type": "display_data"
    },
    {
     "name": "stdout",
     "output_type": "stream",
     "text": [
      "Epoch 73/500\n"
     ]
    },
    {
     "data": {
      "application/vnd.jupyter.widget-view+json": {
       "model_id": "cb6b9ca76be84381a2eb7948a2ee35c1",
       "version_major": 2,
       "version_minor": 0
      },
      "text/plain": [
       "0/23           ETA: ?s - "
      ]
     },
     "metadata": {},
     "output_type": "display_data"
    },
    {
     "name": "stdout",
     "output_type": "stream",
     "text": [
      "Epoch 74/500\n"
     ]
    },
    {
     "data": {
      "application/vnd.jupyter.widget-view+json": {
       "model_id": "914ab289d1914b2abd244c21c6b83967",
       "version_major": 2,
       "version_minor": 0
      },
      "text/plain": [
       "0/23           ETA: ?s - "
      ]
     },
     "metadata": {},
     "output_type": "display_data"
    },
    {
     "name": "stdout",
     "output_type": "stream",
     "text": [
      "Epoch 75/500\n"
     ]
    },
    {
     "data": {
      "application/vnd.jupyter.widget-view+json": {
       "model_id": "4492baf0fac147319d4edfc5eaff8c8a",
       "version_major": 2,
       "version_minor": 0
      },
      "text/plain": [
       "0/23           ETA: ?s - "
      ]
     },
     "metadata": {},
     "output_type": "display_data"
    },
    {
     "name": "stdout",
     "output_type": "stream",
     "text": [
      "Epoch 76/500\n"
     ]
    },
    {
     "data": {
      "application/vnd.jupyter.widget-view+json": {
       "model_id": "34e07e9f547a478289096dd99d49567c",
       "version_major": 2,
       "version_minor": 0
      },
      "text/plain": [
       "0/23           ETA: ?s - "
      ]
     },
     "metadata": {},
     "output_type": "display_data"
    },
    {
     "name": "stdout",
     "output_type": "stream",
     "text": [
      "Epoch 77/500\n"
     ]
    },
    {
     "data": {
      "application/vnd.jupyter.widget-view+json": {
       "model_id": "653cca3e321d4cc3ab71a85f1e08d3bb",
       "version_major": 2,
       "version_minor": 0
      },
      "text/plain": [
       "0/23           ETA: ?s - "
      ]
     },
     "metadata": {},
     "output_type": "display_data"
    },
    {
     "name": "stdout",
     "output_type": "stream",
     "text": [
      "Epoch 78/500\n"
     ]
    },
    {
     "data": {
      "application/vnd.jupyter.widget-view+json": {
       "model_id": "ecb4d4534e664ed9900164eead519ad5",
       "version_major": 2,
       "version_minor": 0
      },
      "text/plain": [
       "0/23           ETA: ?s - "
      ]
     },
     "metadata": {},
     "output_type": "display_data"
    },
    {
     "name": "stdout",
     "output_type": "stream",
     "text": [
      "Epoch 79/500\n"
     ]
    },
    {
     "data": {
      "application/vnd.jupyter.widget-view+json": {
       "model_id": "649069aa3e674830aef62ec3b2068266",
       "version_major": 2,
       "version_minor": 0
      },
      "text/plain": [
       "0/23           ETA: ?s - "
      ]
     },
     "metadata": {},
     "output_type": "display_data"
    },
    {
     "name": "stdout",
     "output_type": "stream",
     "text": [
      "Epoch 80/500\n"
     ]
    },
    {
     "data": {
      "application/vnd.jupyter.widget-view+json": {
       "model_id": "e9fa7dee56cd41bb95203944557334a2",
       "version_major": 2,
       "version_minor": 0
      },
      "text/plain": [
       "0/23           ETA: ?s - "
      ]
     },
     "metadata": {},
     "output_type": "display_data"
    },
    {
     "name": "stdout",
     "output_type": "stream",
     "text": [
      "Epoch 81/500\n"
     ]
    },
    {
     "data": {
      "application/vnd.jupyter.widget-view+json": {
       "model_id": "429631cedca143cfa65dfe9314a91d93",
       "version_major": 2,
       "version_minor": 0
      },
      "text/plain": [
       "0/23           ETA: ?s - "
      ]
     },
     "metadata": {},
     "output_type": "display_data"
    },
    {
     "name": "stdout",
     "output_type": "stream",
     "text": [
      "Epoch 82/500\n"
     ]
    },
    {
     "data": {
      "application/vnd.jupyter.widget-view+json": {
       "model_id": "b474feb98b224eb0a3f882ffb6694c00",
       "version_major": 2,
       "version_minor": 0
      },
      "text/plain": [
       "0/23           ETA: ?s - "
      ]
     },
     "metadata": {},
     "output_type": "display_data"
    },
    {
     "name": "stdout",
     "output_type": "stream",
     "text": [
      "Epoch 83/500\n"
     ]
    },
    {
     "data": {
      "application/vnd.jupyter.widget-view+json": {
       "model_id": "237445d676f04580bc96607175bdc5ec",
       "version_major": 2,
       "version_minor": 0
      },
      "text/plain": [
       "0/23           ETA: ?s - "
      ]
     },
     "metadata": {},
     "output_type": "display_data"
    },
    {
     "name": "stdout",
     "output_type": "stream",
     "text": [
      "Epoch 84/500\n"
     ]
    },
    {
     "data": {
      "application/vnd.jupyter.widget-view+json": {
       "model_id": "d016694936314362986ef1a2ecb3593d",
       "version_major": 2,
       "version_minor": 0
      },
      "text/plain": [
       "0/23           ETA: ?s - "
      ]
     },
     "metadata": {},
     "output_type": "display_data"
    },
    {
     "name": "stdout",
     "output_type": "stream",
     "text": [
      "Epoch 85/500\n"
     ]
    },
    {
     "data": {
      "application/vnd.jupyter.widget-view+json": {
       "model_id": "3bb6c158e40642c3a617c6ed4595070b",
       "version_major": 2,
       "version_minor": 0
      },
      "text/plain": [
       "0/23           ETA: ?s - "
      ]
     },
     "metadata": {},
     "output_type": "display_data"
    },
    {
     "name": "stdout",
     "output_type": "stream",
     "text": [
      "Epoch 86/500\n"
     ]
    },
    {
     "data": {
      "application/vnd.jupyter.widget-view+json": {
       "model_id": "b5c4f1e1b1964de5a0b26465586fb87c",
       "version_major": 2,
       "version_minor": 0
      },
      "text/plain": [
       "0/23           ETA: ?s - "
      ]
     },
     "metadata": {},
     "output_type": "display_data"
    },
    {
     "name": "stdout",
     "output_type": "stream",
     "text": [
      "Epoch 87/500\n"
     ]
    },
    {
     "data": {
      "application/vnd.jupyter.widget-view+json": {
       "model_id": "6e905672f4fa448a851113f8850acca8",
       "version_major": 2,
       "version_minor": 0
      },
      "text/plain": [
       "0/23           ETA: ?s - "
      ]
     },
     "metadata": {},
     "output_type": "display_data"
    },
    {
     "name": "stdout",
     "output_type": "stream",
     "text": [
      "Epoch 88/500\n"
     ]
    },
    {
     "data": {
      "application/vnd.jupyter.widget-view+json": {
       "model_id": "52bbd17a267749c6bda3461d21d7812a",
       "version_major": 2,
       "version_minor": 0
      },
      "text/plain": [
       "0/23           ETA: ?s - "
      ]
     },
     "metadata": {},
     "output_type": "display_data"
    },
    {
     "name": "stdout",
     "output_type": "stream",
     "text": [
      "Epoch 89/500\n"
     ]
    },
    {
     "data": {
      "application/vnd.jupyter.widget-view+json": {
       "model_id": "85f4bc2564c94d50aa29d632dcb2929c",
       "version_major": 2,
       "version_minor": 0
      },
      "text/plain": [
       "0/23           ETA: ?s - "
      ]
     },
     "metadata": {},
     "output_type": "display_data"
    },
    {
     "name": "stdout",
     "output_type": "stream",
     "text": [
      "Epoch 90/500\n"
     ]
    },
    {
     "data": {
      "application/vnd.jupyter.widget-view+json": {
       "model_id": "9a4c81b4c84344979f74d8e51a7dcd55",
       "version_major": 2,
       "version_minor": 0
      },
      "text/plain": [
       "0/23           ETA: ?s - "
      ]
     },
     "metadata": {},
     "output_type": "display_data"
    },
    {
     "name": "stdout",
     "output_type": "stream",
     "text": [
      "Epoch 91/500\n"
     ]
    },
    {
     "data": {
      "application/vnd.jupyter.widget-view+json": {
       "model_id": "69d9d73e29914a889d24b7b301720054",
       "version_major": 2,
       "version_minor": 0
      },
      "text/plain": [
       "0/23           ETA: ?s - "
      ]
     },
     "metadata": {},
     "output_type": "display_data"
    },
    {
     "name": "stdout",
     "output_type": "stream",
     "text": [
      "Epoch 92/500\n"
     ]
    },
    {
     "data": {
      "application/vnd.jupyter.widget-view+json": {
       "model_id": "fabca49c59454d848a562fc5f61c1a28",
       "version_major": 2,
       "version_minor": 0
      },
      "text/plain": [
       "0/23           ETA: ?s - "
      ]
     },
     "metadata": {},
     "output_type": "display_data"
    },
    {
     "name": "stdout",
     "output_type": "stream",
     "text": [
      "Epoch 93/500\n"
     ]
    },
    {
     "data": {
      "application/vnd.jupyter.widget-view+json": {
       "model_id": "2140194325344a17be5a7db377542692",
       "version_major": 2,
       "version_minor": 0
      },
      "text/plain": [
       "0/23           ETA: ?s - "
      ]
     },
     "metadata": {},
     "output_type": "display_data"
    },
    {
     "name": "stdout",
     "output_type": "stream",
     "text": [
      "Epoch 94/500\n"
     ]
    },
    {
     "data": {
      "application/vnd.jupyter.widget-view+json": {
       "model_id": "0ec6426347f144deabdfcdcb4e082534",
       "version_major": 2,
       "version_minor": 0
      },
      "text/plain": [
       "0/23           ETA: ?s - "
      ]
     },
     "metadata": {},
     "output_type": "display_data"
    },
    {
     "name": "stdout",
     "output_type": "stream",
     "text": [
      "Epoch 95/500\n"
     ]
    },
    {
     "data": {
      "application/vnd.jupyter.widget-view+json": {
       "model_id": "5f4f4a3c061d4cf284b20446c726567f",
       "version_major": 2,
       "version_minor": 0
      },
      "text/plain": [
       "0/23           ETA: ?s - "
      ]
     },
     "metadata": {},
     "output_type": "display_data"
    },
    {
     "name": "stdout",
     "output_type": "stream",
     "text": [
      "Epoch 96/500\n"
     ]
    },
    {
     "data": {
      "application/vnd.jupyter.widget-view+json": {
       "model_id": "04ee7348774048eca59da151ec594bb7",
       "version_major": 2,
       "version_minor": 0
      },
      "text/plain": [
       "0/23           ETA: ?s - "
      ]
     },
     "metadata": {},
     "output_type": "display_data"
    },
    {
     "name": "stdout",
     "output_type": "stream",
     "text": [
      "Epoch 97/500\n"
     ]
    },
    {
     "data": {
      "application/vnd.jupyter.widget-view+json": {
       "model_id": "b98a916b5c1946d79b05783a928dd3fa",
       "version_major": 2,
       "version_minor": 0
      },
      "text/plain": [
       "0/23           ETA: ?s - "
      ]
     },
     "metadata": {},
     "output_type": "display_data"
    },
    {
     "name": "stdout",
     "output_type": "stream",
     "text": [
      "Epoch 98/500\n"
     ]
    },
    {
     "data": {
      "application/vnd.jupyter.widget-view+json": {
       "model_id": "9667bf431feb4609b4f61ca2a8a1696e",
       "version_major": 2,
       "version_minor": 0
      },
      "text/plain": [
       "0/23           ETA: ?s - "
      ]
     },
     "metadata": {},
     "output_type": "display_data"
    },
    {
     "name": "stdout",
     "output_type": "stream",
     "text": [
      "Epoch 99/500\n"
     ]
    },
    {
     "data": {
      "application/vnd.jupyter.widget-view+json": {
       "model_id": "3b82f2087928491e83f4f2b38bc61af5",
       "version_major": 2,
       "version_minor": 0
      },
      "text/plain": [
       "0/23           ETA: ?s - "
      ]
     },
     "metadata": {},
     "output_type": "display_data"
    },
    {
     "name": "stdout",
     "output_type": "stream",
     "text": [
      "Epoch 100/500\n"
     ]
    },
    {
     "data": {
      "application/vnd.jupyter.widget-view+json": {
       "model_id": "49730ef95f874376936e501e9aac2cd0",
       "version_major": 2,
       "version_minor": 0
      },
      "text/plain": [
       "0/23           ETA: ?s - "
      ]
     },
     "metadata": {},
     "output_type": "display_data"
    },
    {
     "name": "stdout",
     "output_type": "stream",
     "text": [
      "Epoch 101/500\n"
     ]
    },
    {
     "data": {
      "application/vnd.jupyter.widget-view+json": {
       "model_id": "a89d9e112e414e80b3fe134390545b68",
       "version_major": 2,
       "version_minor": 0
      },
      "text/plain": [
       "0/23           ETA: ?s - "
      ]
     },
     "metadata": {},
     "output_type": "display_data"
    },
    {
     "name": "stdout",
     "output_type": "stream",
     "text": [
      "Epoch 102/500\n"
     ]
    },
    {
     "data": {
      "application/vnd.jupyter.widget-view+json": {
       "model_id": "e80d5905af234fc9a4b07f0857c1c727",
       "version_major": 2,
       "version_minor": 0
      },
      "text/plain": [
       "0/23           ETA: ?s - "
      ]
     },
     "metadata": {},
     "output_type": "display_data"
    },
    {
     "name": "stdout",
     "output_type": "stream",
     "text": [
      "Epoch 103/500\n"
     ]
    },
    {
     "data": {
      "application/vnd.jupyter.widget-view+json": {
       "model_id": "cf0d61c2675848b1a5fbac6b23819550",
       "version_major": 2,
       "version_minor": 0
      },
      "text/plain": [
       "0/23           ETA: ?s - "
      ]
     },
     "metadata": {},
     "output_type": "display_data"
    },
    {
     "name": "stdout",
     "output_type": "stream",
     "text": [
      "Epoch 104/500\n"
     ]
    },
    {
     "data": {
      "application/vnd.jupyter.widget-view+json": {
       "model_id": "01d84b4cbc3c453c95114b24a3123b59",
       "version_major": 2,
       "version_minor": 0
      },
      "text/plain": [
       "0/23           ETA: ?s - "
      ]
     },
     "metadata": {},
     "output_type": "display_data"
    },
    {
     "name": "stdout",
     "output_type": "stream",
     "text": [
      "Epoch 105/500\n"
     ]
    },
    {
     "data": {
      "application/vnd.jupyter.widget-view+json": {
       "model_id": "e6914fdcd20a4cf8b8f3b4c70cafbf5f",
       "version_major": 2,
       "version_minor": 0
      },
      "text/plain": [
       "0/23           ETA: ?s - "
      ]
     },
     "metadata": {},
     "output_type": "display_data"
    },
    {
     "name": "stdout",
     "output_type": "stream",
     "text": [
      "Epoch 106/500\n"
     ]
    },
    {
     "data": {
      "application/vnd.jupyter.widget-view+json": {
       "model_id": "638b8385d82540f6a3660e3b7663cd58",
       "version_major": 2,
       "version_minor": 0
      },
      "text/plain": [
       "0/23           ETA: ?s - "
      ]
     },
     "metadata": {},
     "output_type": "display_data"
    },
    {
     "name": "stdout",
     "output_type": "stream",
     "text": [
      "Epoch 107/500\n"
     ]
    },
    {
     "data": {
      "application/vnd.jupyter.widget-view+json": {
       "model_id": "34e48967f1594184aa587390b9ecfa3f",
       "version_major": 2,
       "version_minor": 0
      },
      "text/plain": [
       "0/23           ETA: ?s - "
      ]
     },
     "metadata": {},
     "output_type": "display_data"
    },
    {
     "name": "stdout",
     "output_type": "stream",
     "text": [
      "Epoch 108/500\n"
     ]
    },
    {
     "data": {
      "application/vnd.jupyter.widget-view+json": {
       "model_id": "0647ecc6b74a4b1c8646b216e3d9afda",
       "version_major": 2,
       "version_minor": 0
      },
      "text/plain": [
       "0/23           ETA: ?s - "
      ]
     },
     "metadata": {},
     "output_type": "display_data"
    },
    {
     "name": "stdout",
     "output_type": "stream",
     "text": [
      "Epoch 109/500\n"
     ]
    },
    {
     "data": {
      "application/vnd.jupyter.widget-view+json": {
       "model_id": "fb2e00cc2546481bba1db68c8dbdfd4c",
       "version_major": 2,
       "version_minor": 0
      },
      "text/plain": [
       "0/23           ETA: ?s - "
      ]
     },
     "metadata": {},
     "output_type": "display_data"
    },
    {
     "name": "stdout",
     "output_type": "stream",
     "text": [
      "Epoch 110/500\n"
     ]
    },
    {
     "data": {
      "application/vnd.jupyter.widget-view+json": {
       "model_id": "29af25e72b1044a9a802b8459b50a0a0",
       "version_major": 2,
       "version_minor": 0
      },
      "text/plain": [
       "0/23           ETA: ?s - "
      ]
     },
     "metadata": {},
     "output_type": "display_data"
    },
    {
     "name": "stdout",
     "output_type": "stream",
     "text": [
      "Epoch 111/500\n"
     ]
    },
    {
     "data": {
      "application/vnd.jupyter.widget-view+json": {
       "model_id": "80f64e09aa654e70be7f27ce02b94e73",
       "version_major": 2,
       "version_minor": 0
      },
      "text/plain": [
       "0/23           ETA: ?s - "
      ]
     },
     "metadata": {},
     "output_type": "display_data"
    },
    {
     "name": "stdout",
     "output_type": "stream",
     "text": [
      "Epoch 112/500\n"
     ]
    },
    {
     "data": {
      "application/vnd.jupyter.widget-view+json": {
       "model_id": "c47c383ecf094d239293e890be04eea0",
       "version_major": 2,
       "version_minor": 0
      },
      "text/plain": [
       "0/23           ETA: ?s - "
      ]
     },
     "metadata": {},
     "output_type": "display_data"
    },
    {
     "name": "stdout",
     "output_type": "stream",
     "text": [
      "Epoch 113/500\n"
     ]
    },
    {
     "data": {
      "application/vnd.jupyter.widget-view+json": {
       "model_id": "94f036caa45b44168e8ca353a896a601",
       "version_major": 2,
       "version_minor": 0
      },
      "text/plain": [
       "0/23           ETA: ?s - "
      ]
     },
     "metadata": {},
     "output_type": "display_data"
    },
    {
     "name": "stdout",
     "output_type": "stream",
     "text": [
      "Epoch 114/500\n"
     ]
    },
    {
     "data": {
      "application/vnd.jupyter.widget-view+json": {
       "model_id": "f47a5f4bffcb4cd29df544b7fdb7af77",
       "version_major": 2,
       "version_minor": 0
      },
      "text/plain": [
       "0/23           ETA: ?s - "
      ]
     },
     "metadata": {},
     "output_type": "display_data"
    },
    {
     "name": "stdout",
     "output_type": "stream",
     "text": [
      "Epoch 115/500\n"
     ]
    },
    {
     "data": {
      "application/vnd.jupyter.widget-view+json": {
       "model_id": "9c729b35ea4c472d9df39fb5ccdd81d2",
       "version_major": 2,
       "version_minor": 0
      },
      "text/plain": [
       "0/23           ETA: ?s - "
      ]
     },
     "metadata": {},
     "output_type": "display_data"
    },
    {
     "name": "stdout",
     "output_type": "stream",
     "text": [
      "Epoch 116/500\n"
     ]
    },
    {
     "data": {
      "application/vnd.jupyter.widget-view+json": {
       "model_id": "174cdd448f174ee3b7f57ad387a3289c",
       "version_major": 2,
       "version_minor": 0
      },
      "text/plain": [
       "0/23           ETA: ?s - "
      ]
     },
     "metadata": {},
     "output_type": "display_data"
    },
    {
     "name": "stdout",
     "output_type": "stream",
     "text": [
      "Epoch 117/500\n"
     ]
    },
    {
     "data": {
      "application/vnd.jupyter.widget-view+json": {
       "model_id": "6413743170a84c2688b2eb294a2415be",
       "version_major": 2,
       "version_minor": 0
      },
      "text/plain": [
       "0/23           ETA: ?s - "
      ]
     },
     "metadata": {},
     "output_type": "display_data"
    },
    {
     "name": "stdout",
     "output_type": "stream",
     "text": [
      "Epoch 118/500\n"
     ]
    },
    {
     "data": {
      "application/vnd.jupyter.widget-view+json": {
       "model_id": "32f8a4501ea64985914f8c5608fa3d70",
       "version_major": 2,
       "version_minor": 0
      },
      "text/plain": [
       "0/23           ETA: ?s - "
      ]
     },
     "metadata": {},
     "output_type": "display_data"
    },
    {
     "name": "stdout",
     "output_type": "stream",
     "text": [
      "Epoch 119/500\n"
     ]
    },
    {
     "data": {
      "application/vnd.jupyter.widget-view+json": {
       "model_id": "1d7ac184350540c6b367e16a0e8d9fde",
       "version_major": 2,
       "version_minor": 0
      },
      "text/plain": [
       "0/23           ETA: ?s - "
      ]
     },
     "metadata": {},
     "output_type": "display_data"
    },
    {
     "name": "stdout",
     "output_type": "stream",
     "text": [
      "Epoch 120/500\n"
     ]
    },
    {
     "data": {
      "application/vnd.jupyter.widget-view+json": {
       "model_id": "61272711e3604b88958979393c2b87b0",
       "version_major": 2,
       "version_minor": 0
      },
      "text/plain": [
       "0/23           ETA: ?s - "
      ]
     },
     "metadata": {},
     "output_type": "display_data"
    },
    {
     "name": "stdout",
     "output_type": "stream",
     "text": [
      "Epoch 121/500\n"
     ]
    },
    {
     "data": {
      "application/vnd.jupyter.widget-view+json": {
       "model_id": "0ad795dfe10342279c8af156a9909b27",
       "version_major": 2,
       "version_minor": 0
      },
      "text/plain": [
       "0/23           ETA: ?s - "
      ]
     },
     "metadata": {},
     "output_type": "display_data"
    },
    {
     "name": "stdout",
     "output_type": "stream",
     "text": [
      "Epoch 122/500\n"
     ]
    },
    {
     "data": {
      "application/vnd.jupyter.widget-view+json": {
       "model_id": "56115c002a0b469b9312ef653f589060",
       "version_major": 2,
       "version_minor": 0
      },
      "text/plain": [
       "0/23           ETA: ?s - "
      ]
     },
     "metadata": {},
     "output_type": "display_data"
    },
    {
     "name": "stdout",
     "output_type": "stream",
     "text": [
      "Epoch 123/500\n"
     ]
    },
    {
     "data": {
      "application/vnd.jupyter.widget-view+json": {
       "model_id": "d5a860cbb5e04e4ab92823c048db45d0",
       "version_major": 2,
       "version_minor": 0
      },
      "text/plain": [
       "0/23           ETA: ?s - "
      ]
     },
     "metadata": {},
     "output_type": "display_data"
    },
    {
     "name": "stdout",
     "output_type": "stream",
     "text": [
      "Epoch 124/500\n"
     ]
    },
    {
     "data": {
      "application/vnd.jupyter.widget-view+json": {
       "model_id": "87b7136a46934b85b1dac2da727f7798",
       "version_major": 2,
       "version_minor": 0
      },
      "text/plain": [
       "0/23           ETA: ?s - "
      ]
     },
     "metadata": {},
     "output_type": "display_data"
    },
    {
     "name": "stdout",
     "output_type": "stream",
     "text": [
      "Epoch 125/500\n"
     ]
    },
    {
     "data": {
      "application/vnd.jupyter.widget-view+json": {
       "model_id": "d974fcd33ebc43db81ff9d8b7e8fee9b",
       "version_major": 2,
       "version_minor": 0
      },
      "text/plain": [
       "0/23           ETA: ?s - "
      ]
     },
     "metadata": {},
     "output_type": "display_data"
    },
    {
     "name": "stdout",
     "output_type": "stream",
     "text": [
      "Epoch 126/500\n"
     ]
    },
    {
     "data": {
      "application/vnd.jupyter.widget-view+json": {
       "model_id": "9401b21bc9e549bbbf30038e4eb92fc6",
       "version_major": 2,
       "version_minor": 0
      },
      "text/plain": [
       "0/23           ETA: ?s - "
      ]
     },
     "metadata": {},
     "output_type": "display_data"
    },
    {
     "name": "stdout",
     "output_type": "stream",
     "text": [
      "Epoch 127/500\n"
     ]
    },
    {
     "data": {
      "application/vnd.jupyter.widget-view+json": {
       "model_id": "eaa8c5bd0c224ef3b3bb205bf0998573",
       "version_major": 2,
       "version_minor": 0
      },
      "text/plain": [
       "0/23           ETA: ?s - "
      ]
     },
     "metadata": {},
     "output_type": "display_data"
    },
    {
     "name": "stdout",
     "output_type": "stream",
     "text": [
      "Epoch 128/500\n"
     ]
    },
    {
     "data": {
      "application/vnd.jupyter.widget-view+json": {
       "model_id": "58896650b9bb47eb8924703965dfdc8f",
       "version_major": 2,
       "version_minor": 0
      },
      "text/plain": [
       "0/23           ETA: ?s - "
      ]
     },
     "metadata": {},
     "output_type": "display_data"
    },
    {
     "name": "stdout",
     "output_type": "stream",
     "text": [
      "Epoch 129/500\n"
     ]
    },
    {
     "data": {
      "application/vnd.jupyter.widget-view+json": {
       "model_id": "ba2ebdebb89b4972a943e5e950031c4a",
       "version_major": 2,
       "version_minor": 0
      },
      "text/plain": [
       "0/23           ETA: ?s - "
      ]
     },
     "metadata": {},
     "output_type": "display_data"
    },
    {
     "name": "stdout",
     "output_type": "stream",
     "text": [
      "Epoch 130/500\n"
     ]
    },
    {
     "data": {
      "application/vnd.jupyter.widget-view+json": {
       "model_id": "09c5242614454a789ef5f3eb830ada18",
       "version_major": 2,
       "version_minor": 0
      },
      "text/plain": [
       "0/23           ETA: ?s - "
      ]
     },
     "metadata": {},
     "output_type": "display_data"
    },
    {
     "name": "stdout",
     "output_type": "stream",
     "text": [
      "Epoch 131/500\n"
     ]
    },
    {
     "data": {
      "application/vnd.jupyter.widget-view+json": {
       "model_id": "47c9d9c5fd834af7a67e52cd04e04bb7",
       "version_major": 2,
       "version_minor": 0
      },
      "text/plain": [
       "0/23           ETA: ?s - "
      ]
     },
     "metadata": {},
     "output_type": "display_data"
    },
    {
     "name": "stdout",
     "output_type": "stream",
     "text": [
      "Epoch 132/500\n"
     ]
    },
    {
     "data": {
      "application/vnd.jupyter.widget-view+json": {
       "model_id": "23c88e0903e44bfc901f490509669c69",
       "version_major": 2,
       "version_minor": 0
      },
      "text/plain": [
       "0/23           ETA: ?s - "
      ]
     },
     "metadata": {},
     "output_type": "display_data"
    },
    {
     "name": "stdout",
     "output_type": "stream",
     "text": [
      "Epoch 133/500\n"
     ]
    },
    {
     "data": {
      "application/vnd.jupyter.widget-view+json": {
       "model_id": "fdf615ad7fbb4354b65f9ca7e2c9f1f6",
       "version_major": 2,
       "version_minor": 0
      },
      "text/plain": [
       "0/23           ETA: ?s - "
      ]
     },
     "metadata": {},
     "output_type": "display_data"
    },
    {
     "name": "stdout",
     "output_type": "stream",
     "text": [
      "Epoch 134/500\n"
     ]
    },
    {
     "data": {
      "application/vnd.jupyter.widget-view+json": {
       "model_id": "1c0931124ff04e4c8892aafad0aeef3b",
       "version_major": 2,
       "version_minor": 0
      },
      "text/plain": [
       "0/23           ETA: ?s - "
      ]
     },
     "metadata": {},
     "output_type": "display_data"
    },
    {
     "name": "stdout",
     "output_type": "stream",
     "text": [
      "Epoch 135/500\n"
     ]
    },
    {
     "data": {
      "application/vnd.jupyter.widget-view+json": {
       "model_id": "4cabdf1be65441669aac125dfa0b4509",
       "version_major": 2,
       "version_minor": 0
      },
      "text/plain": [
       "0/23           ETA: ?s - "
      ]
     },
     "metadata": {},
     "output_type": "display_data"
    },
    {
     "name": "stdout",
     "output_type": "stream",
     "text": [
      "Epoch 136/500\n"
     ]
    },
    {
     "data": {
      "application/vnd.jupyter.widget-view+json": {
       "model_id": "2f1d9022e09d4fbfa8e131cc5d5ae31b",
       "version_major": 2,
       "version_minor": 0
      },
      "text/plain": [
       "0/23           ETA: ?s - "
      ]
     },
     "metadata": {},
     "output_type": "display_data"
    },
    {
     "name": "stdout",
     "output_type": "stream",
     "text": [
      "Epoch 137/500\n"
     ]
    },
    {
     "data": {
      "application/vnd.jupyter.widget-view+json": {
       "model_id": "04ce9daf6392428eb7f95daedf31d3a7",
       "version_major": 2,
       "version_minor": 0
      },
      "text/plain": [
       "0/23           ETA: ?s - "
      ]
     },
     "metadata": {},
     "output_type": "display_data"
    },
    {
     "name": "stdout",
     "output_type": "stream",
     "text": [
      "Epoch 138/500\n"
     ]
    },
    {
     "data": {
      "application/vnd.jupyter.widget-view+json": {
       "model_id": "34b9a20296e94ba585a7c851d9ee6655",
       "version_major": 2,
       "version_minor": 0
      },
      "text/plain": [
       "0/23           ETA: ?s - "
      ]
     },
     "metadata": {},
     "output_type": "display_data"
    },
    {
     "name": "stdout",
     "output_type": "stream",
     "text": [
      "Epoch 139/500\n"
     ]
    },
    {
     "data": {
      "application/vnd.jupyter.widget-view+json": {
       "model_id": "87ab5cf368114aa2b1b7e416bcc0a4ea",
       "version_major": 2,
       "version_minor": 0
      },
      "text/plain": [
       "0/23           ETA: ?s - "
      ]
     },
     "metadata": {},
     "output_type": "display_data"
    },
    {
     "name": "stdout",
     "output_type": "stream",
     "text": [
      "Epoch 140/500\n"
     ]
    },
    {
     "data": {
      "application/vnd.jupyter.widget-view+json": {
       "model_id": "ee9fbf48561d4802ade9fb3f8fb4828a",
       "version_major": 2,
       "version_minor": 0
      },
      "text/plain": [
       "0/23           ETA: ?s - "
      ]
     },
     "metadata": {},
     "output_type": "display_data"
    },
    {
     "name": "stdout",
     "output_type": "stream",
     "text": [
      "Epoch 141/500\n"
     ]
    },
    {
     "data": {
      "application/vnd.jupyter.widget-view+json": {
       "model_id": "56fa4228a2fe437fa080f42b53a7c34a",
       "version_major": 2,
       "version_minor": 0
      },
      "text/plain": [
       "0/23           ETA: ?s - "
      ]
     },
     "metadata": {},
     "output_type": "display_data"
    },
    {
     "name": "stdout",
     "output_type": "stream",
     "text": [
      "Epoch 142/500\n"
     ]
    },
    {
     "data": {
      "application/vnd.jupyter.widget-view+json": {
       "model_id": "0cfc155210fb4b2ba687bda349dab5ed",
       "version_major": 2,
       "version_minor": 0
      },
      "text/plain": [
       "0/23           ETA: ?s - "
      ]
     },
     "metadata": {},
     "output_type": "display_data"
    },
    {
     "name": "stdout",
     "output_type": "stream",
     "text": [
      "Epoch 143/500\n"
     ]
    },
    {
     "data": {
      "application/vnd.jupyter.widget-view+json": {
       "model_id": "627740b167eb4bc292efcf6fbdb2ee03",
       "version_major": 2,
       "version_minor": 0
      },
      "text/plain": [
       "0/23           ETA: ?s - "
      ]
     },
     "metadata": {},
     "output_type": "display_data"
    },
    {
     "name": "stdout",
     "output_type": "stream",
     "text": [
      "Epoch 144/500\n"
     ]
    },
    {
     "data": {
      "application/vnd.jupyter.widget-view+json": {
       "model_id": "0b8098efdf764ee382a88b2c72823555",
       "version_major": 2,
       "version_minor": 0
      },
      "text/plain": [
       "0/23           ETA: ?s - "
      ]
     },
     "metadata": {},
     "output_type": "display_data"
    },
    {
     "name": "stdout",
     "output_type": "stream",
     "text": [
      "Epoch 145/500\n"
     ]
    },
    {
     "data": {
      "application/vnd.jupyter.widget-view+json": {
       "model_id": "e807a2d305cb49ae80049d311568b5d4",
       "version_major": 2,
       "version_minor": 0
      },
      "text/plain": [
       "0/23           ETA: ?s - "
      ]
     },
     "metadata": {},
     "output_type": "display_data"
    },
    {
     "name": "stdout",
     "output_type": "stream",
     "text": [
      "Epoch 146/500\n"
     ]
    },
    {
     "data": {
      "application/vnd.jupyter.widget-view+json": {
       "model_id": "9cdeb5e487194b1fb2cd5445ad773456",
       "version_major": 2,
       "version_minor": 0
      },
      "text/plain": [
       "0/23           ETA: ?s - "
      ]
     },
     "metadata": {},
     "output_type": "display_data"
    },
    {
     "name": "stdout",
     "output_type": "stream",
     "text": [
      "Epoch 147/500\n"
     ]
    },
    {
     "data": {
      "application/vnd.jupyter.widget-view+json": {
       "model_id": "3dae3defba9f4b94b24294a893c17482",
       "version_major": 2,
       "version_minor": 0
      },
      "text/plain": [
       "0/23           ETA: ?s - "
      ]
     },
     "metadata": {},
     "output_type": "display_data"
    },
    {
     "name": "stdout",
     "output_type": "stream",
     "text": [
      "Epoch 148/500\n"
     ]
    },
    {
     "data": {
      "application/vnd.jupyter.widget-view+json": {
       "model_id": "57eae16a38144c46b99ee229ece8ce3f",
       "version_major": 2,
       "version_minor": 0
      },
      "text/plain": [
       "0/23           ETA: ?s - "
      ]
     },
     "metadata": {},
     "output_type": "display_data"
    },
    {
     "name": "stdout",
     "output_type": "stream",
     "text": [
      "CPU times: user 41.5 s, sys: 5.89 s, total: 47.4 s\n",
      "Wall time: 30 s\n"
     ]
    }
   ],
   "source": [
    "%%time\n",
    "model = keras.Sequential([\n",
    "    keras.layers.Input(shape=(2048)),\n",
    "    keras.layers.Dense(len(classes), activation=\"softmax\")\n",
    "])\n",
    "model.compile(\n",
    "    optimizer=keras.optimizers.Adam(),\n",
    "    loss=keras.losses.CategoricalCrossentropy(),\n",
    "    metrics=[keras.metrics.CategoricalAccuracy()],\n",
    ")\n",
    "print(model.summary())\n",
    "history = model.fit(x_train,\n",
    "                    y_train,\n",
    "                    batch_size=BATCH_SIZE,\n",
    "                    validation_data=(x_test, y_test),\n",
    "                    epochs=500,\n",
    "                    verbose=0,\n",
    "                    callbacks=[\n",
    "                        keras.callbacks.EarlyStopping(monitor='val_categorical_accuracy',patience=50, verbose=0),\n",
    "                        tfa.callbacks.TQDMProgressBar()\n",
    "                    ])"
   ]
  },
  {
   "cell_type": "code",
   "execution_count": 18,
   "id": "c0b0f2ba",
   "metadata": {},
   "outputs": [
    {
     "data": {
      "text/plain": [
       "<AxesSubplot:>"
      ]
     },
     "execution_count": 18,
     "metadata": {},
     "output_type": "execute_result"
    },
    {
     "data": {
      "image/png": "[encoded data removed]",
      "text/plain": [
       "<Figure size 432x288 with 1 Axes>"
      ]
     },
     "metadata": {},
     "output_type": "display_data"
    },
    {
     "data": {
      "image/png": "[encoded data removed]",
      "text/plain": [
       "<Figure size 432x288 with 1 Axes>"
      ]
     },
     "metadata": {},
     "output_type": "display_data"
    }
   ],
   "source": [
    "history_df = pd.DataFrame(history.history)\n",
    "history_df[['loss', 'val_loss']].plot()\n",
    "history_df[['categorical_accuracy', 'val_categorical_accuracy']].plot()"
   ]
  },
  {
   "cell_type": "code",
   "execution_count": 19,
   "id": "160a4bf0",
   "metadata": {},
   "outputs": [
    {
     "name": "stdout",
     "output_type": "stream",
     "text": [
      "72/72 [==============================] - 0s 1ms/step\n"
     ]
    }
   ],
   "source": [
    "y_pred = model.predict(x_test)"
   ]
  },
  {
   "cell_type": "code",
   "execution_count": 20,
   "id": "70fbc333",
   "metadata": {},
   "outputs": [
    {
     "data": {
      "text/plain": [
       "count    2287.000000\n",
       "mean        0.736328\n",
       "std         0.223145\n",
       "min         0.196533\n",
       "25%         0.543457\n",
       "50%         0.767578\n",
       "75%         0.962158\n",
       "max         1.000000\n",
       "dtype: float64"
      ]
     },
     "execution_count": 20,
     "metadata": {},
     "output_type": "execute_result"
    }
   ],
   "source": [
    "predicted_codes = y_pred.argmax(axis=1)\n",
    "confidence = y_pred.max(axis=1)\n",
    "pd.Series(confidence).describe()"
   ]
  },
  {
   "cell_type": "code",
   "execution_count": 21,
   "id": "4194030b",
   "metadata": {},
   "outputs": [
    {
     "data": {
      "text/plain": [
       "Empty                  335\n",
       "2pn                    297\n",
       "Morula                 291\n",
       "Syngamy                244\n",
       "4 Cell                 163\n",
       "2 Cell                 152\n",
       "8 Cell                 131\n",
       "Compacting 8 cell      119\n",
       "Early blast             91\n",
       "Cavitating morula       89\n",
       "Expanded Blastocyst     89\n",
       "Blastocyst              87\n",
       "6 Cell                  78\n",
       "3 Cell                  65\n",
       "5 Cell                  56\n",
       "dtype: int64"
      ]
     },
     "execution_count": 21,
     "metadata": {},
     "output_type": "execute_result"
    }
   ],
   "source": [
    "true_classes = [classes[c] for c in y_test.argmax(axis=1)]\n",
    "pd.Series(true_classes).value_counts()"
   ]
  },
  {
   "cell_type": "code",
   "execution_count": 22,
   "id": "b1d6833b",
   "metadata": {},
   "outputs": [
    {
     "data": {
      "text/html": [
       "<div>\n",
       "<style scoped>\n",
       "    .dataframe tbody tr th:only-of-type {\n",
       "        vertical-align: middle;\n",
       "    }\n",
       "\n",
       "    .dataframe tbody tr th {\n",
       "        vertical-align: top;\n",
       "    }\n",
       "\n",
       "    .dataframe thead th {\n",
       "        text-align: right;\n",
       "    }\n",
       "</style>\n",
       "<table border=\"1\" class=\"dataframe\">\n",
       "  <thead>\n",
       "    <tr style=\"text-align: right;\">\n",
       "      <th></th>\n",
       "      <th>true_class</th>\n",
       "      <th>predicted_class</th>\n",
       "      <th>confidence</th>\n",
       "    </tr>\n",
       "  </thead>\n",
       "  <tbody>\n",
       "    <tr>\n",
       "      <th>0</th>\n",
       "      <td>2 Cell</td>\n",
       "      <td>4 Cell</td>\n",
       "      <td>0.893066</td>\n",
       "    </tr>\n",
       "    <tr>\n",
       "      <th>1</th>\n",
       "      <td>2 Cell</td>\n",
       "      <td>4 Cell</td>\n",
       "      <td>0.814453</td>\n",
       "    </tr>\n",
       "    <tr>\n",
       "      <th>2</th>\n",
       "      <td>2 Cell</td>\n",
       "      <td>4 Cell</td>\n",
       "      <td>0.755859</td>\n",
       "    </tr>\n",
       "    <tr>\n",
       "      <th>3</th>\n",
       "      <td>2 Cell</td>\n",
       "      <td>4 Cell</td>\n",
       "      <td>0.680664</td>\n",
       "    </tr>\n",
       "    <tr>\n",
       "      <th>4</th>\n",
       "      <td>2 Cell</td>\n",
       "      <td>4 Cell</td>\n",
       "      <td>0.648926</td>\n",
       "    </tr>\n",
       "    <tr>\n",
       "      <th>...</th>\n",
       "      <td>...</td>\n",
       "      <td>...</td>\n",
       "      <td>...</td>\n",
       "    </tr>\n",
       "    <tr>\n",
       "      <th>2282</th>\n",
       "      <td>Syngamy</td>\n",
       "      <td>Syngamy</td>\n",
       "      <td>0.757812</td>\n",
       "    </tr>\n",
       "    <tr>\n",
       "      <th>2283</th>\n",
       "      <td>Syngamy</td>\n",
       "      <td>2 Cell</td>\n",
       "      <td>0.729980</td>\n",
       "    </tr>\n",
       "    <tr>\n",
       "      <th>2284</th>\n",
       "      <td>Syngamy</td>\n",
       "      <td>Syngamy</td>\n",
       "      <td>0.741699</td>\n",
       "    </tr>\n",
       "    <tr>\n",
       "      <th>2285</th>\n",
       "      <td>Syngamy</td>\n",
       "      <td>Syngamy</td>\n",
       "      <td>0.555664</td>\n",
       "    </tr>\n",
       "    <tr>\n",
       "      <th>2286</th>\n",
       "      <td>Syngamy</td>\n",
       "      <td>2 Cell</td>\n",
       "      <td>0.826172</td>\n",
       "    </tr>\n",
       "  </tbody>\n",
       "</table>\n",
       "<p>2287 rows × 3 columns</p>\n",
       "</div>"
      ],
      "text/plain": [
       "     true_class predicted_class  confidence\n",
       "0        2 Cell          4 Cell    0.893066\n",
       "1        2 Cell          4 Cell    0.814453\n",
       "2        2 Cell          4 Cell    0.755859\n",
       "3        2 Cell          4 Cell    0.680664\n",
       "4        2 Cell          4 Cell    0.648926\n",
       "...         ...             ...         ...\n",
       "2282    Syngamy         Syngamy    0.757812\n",
       "2283    Syngamy          2 Cell    0.729980\n",
       "2284    Syngamy         Syngamy    0.741699\n",
       "2285    Syngamy         Syngamy    0.555664\n",
       "2286    Syngamy          2 Cell    0.826172\n",
       "\n",
       "[2287 rows x 3 columns]"
      ]
     },
     "execution_count": 22,
     "metadata": {},
     "output_type": "execute_result"
    }
   ],
   "source": [
    "validation_df = pd.DataFrame()\n",
    "validation_df[\"true_class\"] = true_classes\n",
    "validation_df[\"predicted_class\"] = [classes[c] for c in predicted_codes]\n",
    "validation_df[\"confidence\"] = confidence\n",
    "validation_df"
   ]
  },
  {
   "cell_type": "code",
   "execution_count": 23,
   "id": "b3ef09d2",
   "metadata": {},
   "outputs": [
    {
     "data": {
      "text/plain": [
       "predicted_class\n",
       "2 Cell                 0.589844\n",
       "2pn                    0.799316\n",
       "3 Cell                 0.412109\n",
       "4 Cell                 0.752441\n",
       "5 Cell                 0.487061\n",
       "6 Cell                 0.510742\n",
       "8 Cell                 0.543945\n",
       "Blastocyst             0.657227\n",
       "Cavitating morula      0.571777\n",
       "Compacting 8 cell      0.553223\n",
       "Early blast            0.635742\n",
       "Empty                  0.999512\n",
       "Expanded Blastocyst    0.945801\n",
       "Morula                 0.774414\n",
       "Syngamy                0.783203\n",
       "Name: confidence, dtype: float16"
      ]
     },
     "execution_count": 23,
     "metadata": {},
     "output_type": "execute_result"
    }
   ],
   "source": [
    "validation_df.groupby(\"predicted_class\").confidence.median()"
   ]
  },
  {
   "cell_type": "code",
   "execution_count": 24,
   "id": "9472e193",
   "metadata": {},
   "outputs": [],
   "source": [
    "validation_df.to_csv(\"validation_predictions.csv\", index=False)"
   ]
  },
  {
   "cell_type": "code",
   "execution_count": 25,
   "id": "f3a61eb6",
   "metadata": {},
   "outputs": [
    {
     "name": "stdout",
     "output_type": "stream",
     "text": [
      "                     precision    recall  f1-score   support\n",
      "\n",
      "             2 Cell       0.36      0.53      0.43       152\n",
      "                2pn       0.78      0.62      0.69       297\n",
      "             3 Cell       0.03      0.02      0.02        65\n",
      "             4 Cell       0.38      0.36      0.37       163\n",
      "             5 Cell       0.05      0.02      0.03        56\n",
      "             6 Cell       0.13      0.13      0.13        78\n",
      "             8 Cell       0.52      0.12      0.20       131\n",
      "         Blastocyst       0.45      0.30      0.36        87\n",
      "  Cavitating morula       0.35      0.33      0.34        89\n",
      "  Compacting 8 cell       0.21      0.24      0.22       119\n",
      "        Early blast       0.56      0.49      0.53        91\n",
      "              Empty       1.00      1.00      1.00       335\n",
      "Expanded Blastocyst       0.59      0.85      0.70        89\n",
      "             Morula       0.46      0.73      0.56       291\n",
      "            Syngamy       0.69      0.66      0.67       244\n",
      "\n",
      "           accuracy                           0.55      2287\n",
      "          macro avg       0.44      0.43      0.42      2287\n",
      "       weighted avg       0.55      0.55      0.54      2287\n",
      "\n"
     ]
    },
    {
     "data": {
      "text/plain": [
       "Text(30.499999999999993, 0.5, 'True')"
      ]
     },
     "execution_count": 25,
     "metadata": {},
     "output_type": "execute_result"
    },
    {
     "data": {
      "image/png": "[encoded data removed]",
      "text/plain": [
       "<Figure size 432x288 with 2 Axes>"
      ]
     },
     "metadata": {},
     "output_type": "display_data"
    }
   ],
   "source": [
    "print(classification_report(validation_df[\"true_class\"], validation_df[\"predicted_class\"]))\n",
    "s = sns.heatmap(\n",
    "    confusion_matrix(validation_df[\"true_class\"], validation_df[\"predicted_class\"]),\n",
    "    annot=True,\n",
    "    cmap='Blues',\n",
    "    fmt=\"g\",\n",
    "    xticklabels=classes,\n",
    "    yticklabels=classes\n",
    ")\n",
    "s.set_xlabel('Predicted', fontsize=10)\n",
    "s.set_ylabel('True', fontsize=10)"
   ]
  },
  {
   "cell_type": "code",
   "execution_count": 26,
   "id": "94744f4c",
   "metadata": {},
   "outputs": [],
   "source": [
    "model.save(f\"models/{len(classes)}_class.h5\")"
   ]
  },
  {
   "cell_type": "code",
   "execution_count": 27,
   "id": "869f6c37",
   "metadata": {},
   "outputs": [
    {
     "name": "stdout",
     "output_type": "stream",
     "text": [
      "Found 3591 files belonging to 1 classes.\n"
     ]
    }
   ],
   "source": [
    "test = tf.keras.utils.image_dataset_from_directory(\n",
    "    \"EmbryoLabeling/Labelers/One/M3169_S00470\",\n",
    "    labels=None,\n",
    "    image_size = (299,299),\n",
    "    batch_size = BATCH_SIZE,\n",
    "    shuffle = False\n",
    ")"
   ]
  },
  {
   "cell_type": "code",
   "execution_count": 28,
   "id": "7cddad68",
   "metadata": {},
   "outputs": [
    {
     "name": "stdout",
     "output_type": "stream",
     "text": [
      "8/8 [==============================] - 4s 367ms/step\n",
      "113/113 [==============================] - 0s 2ms/step\n"
     ]
    }
   ],
   "source": [
    "extracted_features_test = base_model.predict(test)\n",
    "results = model.predict(extracted_features_test)"
   ]
  },
  {
   "cell_type": "code",
   "execution_count": 29,
   "id": "86513e6e",
   "metadata": {},
   "outputs": [
    {
     "data": {
      "text/plain": [
       "count    3591.000000\n",
       "mean        0.665039\n",
       "std         0.196655\n",
       "min         0.216187\n",
       "25%         0.501221\n",
       "50%         0.657227\n",
       "75%         0.835205\n",
       "max         0.999512\n",
       "dtype: float64"
      ]
     },
     "execution_count": 29,
     "metadata": {},
     "output_type": "execute_result"
    }
   ],
   "source": [
    "predicted_codes = results.argmax(axis=1)\n",
    "confidence = results.max(axis=1)\n",
    "pd.Series(confidence).describe()"
   ]
  },
  {
   "cell_type": "code",
   "execution_count": 30,
   "id": "e85ef569",
   "metadata": {},
   "outputs": [
    {
     "data": {
      "text/html": [
       "<div>\n",
       "<style scoped>\n",
       "    .dataframe tbody tr th:only-of-type {\n",
       "        vertical-align: middle;\n",
       "    }\n",
       "\n",
       "    .dataframe tbody tr th {\n",
       "        vertical-align: top;\n",
       "    }\n",
       "\n",
       "    .dataframe thead th {\n",
       "        text-align: right;\n",
       "    }\n",
       "</style>\n",
       "<table border=\"1\" class=\"dataframe\">\n",
       "  <thead>\n",
       "    <tr style=\"text-align: right;\">\n",
       "      <th></th>\n",
       "      <th>filepath</th>\n",
       "      <th>class</th>\n",
       "      <th>confidence</th>\n",
       "    </tr>\n",
       "  </thead>\n",
       "  <tbody>\n",
       "    <tr>\n",
       "      <th>0</th>\n",
       "      <td>EmbryoLabeling/Labelers/One/M3169_S00470/M3169_S00470_W1_F0_1010.jpg</td>\n",
       "      <td>2pn</td>\n",
       "      <td>0.985840</td>\n",
       "    </tr>\n",
       "    <tr>\n",
       "      <th>1</th>\n",
       "      <td>EmbryoLabeling/Labelers/One/M3169_S00470/M3169_S00470_W1_F0_1031.jpg</td>\n",
       "      <td>2pn</td>\n",
       "      <td>0.995605</td>\n",
       "    </tr>\n",
       "    <tr>\n",
       "      <th>2</th>\n",
       "      <td>EmbryoLabeling/Labelers/One/M3169_S00470/M3169_S00470_W1_F0_1052.jpg</td>\n",
       "      <td>2pn</td>\n",
       "      <td>0.995605</td>\n",
       "    </tr>\n",
       "    <tr>\n",
       "      <th>3</th>\n",
       "      <td>EmbryoLabeling/Labelers/One/M3169_S00470/M3169_S00470_W1_F0_1073.jpg</td>\n",
       "      <td>2pn</td>\n",
       "      <td>0.996094</td>\n",
       "    </tr>\n",
       "    <tr>\n",
       "      <th>4</th>\n",
       "      <td>EmbryoLabeling/Labelers/One/M3169_S00470/M3169_S00470_W1_F0_1094.jpg</td>\n",
       "      <td>2pn</td>\n",
       "      <td>0.993164</td>\n",
       "    </tr>\n",
       "    <tr>\n",
       "      <th>...</th>\n",
       "      <td>...</td>\n",
       "      <td>...</td>\n",
       "      <td>...</td>\n",
       "    </tr>\n",
       "    <tr>\n",
       "      <th>3586</th>\n",
       "      <td>EmbryoLabeling/Labelers/One/M3169_S00470/M3169_S00470_W9_F0_990.jpg</td>\n",
       "      <td>Syngamy</td>\n",
       "      <td>0.696289</td>\n",
       "    </tr>\n",
       "    <tr>\n",
       "      <th>3587</th>\n",
       "      <td>EmbryoLabeling/Labelers/One/M3169_S00470/M3169_S00470_W9_F0_9921.jpg</td>\n",
       "      <td>Empty</td>\n",
       "      <td>0.808594</td>\n",
       "    </tr>\n",
       "    <tr>\n",
       "      <th>3588</th>\n",
       "      <td>EmbryoLabeling/Labelers/One/M3169_S00470/M3169_S00470_W9_F0_9942.jpg</td>\n",
       "      <td>Empty</td>\n",
       "      <td>0.708984</td>\n",
       "    </tr>\n",
       "    <tr>\n",
       "      <th>3589</th>\n",
       "      <td>EmbryoLabeling/Labelers/One/M3169_S00470/M3169_S00470_W9_F0_9963.jpg</td>\n",
       "      <td>Empty</td>\n",
       "      <td>0.590332</td>\n",
       "    </tr>\n",
       "    <tr>\n",
       "      <th>3590</th>\n",
       "      <td>EmbryoLabeling/Labelers/One/M3169_S00470/M3169_S00470_W9_F0_9990.jpg</td>\n",
       "      <td>Empty</td>\n",
       "      <td>0.767578</td>\n",
       "    </tr>\n",
       "  </tbody>\n",
       "</table>\n",
       "<p>3591 rows × 3 columns</p>\n",
       "</div>"
      ],
      "text/plain": [
       "                                                                  filepath  \\\n",
       "0     EmbryoLabeling/Labelers/One/M3169_S00470/M3169_S00470_W1_F0_1010.jpg   \n",
       "1     EmbryoLabeling/Labelers/One/M3169_S00470/M3169_S00470_W1_F0_1031.jpg   \n",
       "2     EmbryoLabeling/Labelers/One/M3169_S00470/M3169_S00470_W1_F0_1052.jpg   \n",
       "3     EmbryoLabeling/Labelers/One/M3169_S00470/M3169_S00470_W1_F0_1073.jpg   \n",
       "4     EmbryoLabeling/Labelers/One/M3169_S00470/M3169_S00470_W1_F0_1094.jpg   \n",
       "...                                                                    ...   \n",
       "3586   EmbryoLabeling/Labelers/One/M3169_S00470/M3169_S00470_W9_F0_990.jpg   \n",
       "3587  EmbryoLabeling/Labelers/One/M3169_S00470/M3169_S00470_W9_F0_9921.jpg   \n",
       "3588  EmbryoLabeling/Labelers/One/M3169_S00470/M3169_S00470_W9_F0_9942.jpg   \n",
       "3589  EmbryoLabeling/Labelers/One/M3169_S00470/M3169_S00470_W9_F0_9963.jpg   \n",
       "3590  EmbryoLabeling/Labelers/One/M3169_S00470/M3169_S00470_W9_F0_9990.jpg   \n",
       "\n",
       "        class  confidence  \n",
       "0         2pn    0.985840  \n",
       "1         2pn    0.995605  \n",
       "2         2pn    0.995605  \n",
       "3         2pn    0.996094  \n",
       "4         2pn    0.993164  \n",
       "...       ...         ...  \n",
       "3586  Syngamy    0.696289  \n",
       "3587    Empty    0.808594  \n",
       "3588    Empty    0.708984  \n",
       "3589    Empty    0.590332  \n",
       "3590    Empty    0.767578  \n",
       "\n",
       "[3591 rows x 3 columns]"
      ]
     },
     "execution_count": 30,
     "metadata": {},
     "output_type": "execute_result"
    }
   ],
   "source": [
    "test_df = pd.DataFrame()\n",
    "test_df[\"filepath\"] = test.file_paths\n",
    "test_df[\"class\"] = [classes[c] for c in predicted_codes]\n",
    "test_df[\"confidence\"] = confidence\n",
    "test_df"
   ]
  },
  {
   "cell_type": "code",
   "execution_count": 31,
   "id": "db63f875",
   "metadata": {},
   "outputs": [
    {
     "data": {
      "text/plain": [
       "2pn                    1244\n",
       "Morula                  850\n",
       "Empty                   483\n",
       "Syngamy                 335\n",
       "Blastocyst              244\n",
       "5 Cell                  178\n",
       "Expanded Blastocyst     165\n",
       "Early blast              52\n",
       "2 Cell                   29\n",
       "4 Cell                    7\n",
       "Cavitating morula         3\n",
       "Compacting 8 cell         1\n",
       "Name: class, dtype: int64"
      ]
     },
     "execution_count": 31,
     "metadata": {},
     "output_type": "execute_result"
    }
   ],
   "source": [
    "test_df[\"class\"].value_counts()"
   ]
  },
  {
   "cell_type": "code",
   "execution_count": 32,
   "id": "1f5bc5c2",
   "metadata": {},
   "outputs": [
    {
     "data": {
      "text/html": [
       "<div>\n",
       "<style scoped>\n",
       "    .dataframe tbody tr th:only-of-type {\n",
       "        vertical-align: middle;\n",
       "    }\n",
       "\n",
       "    .dataframe tbody tr th {\n",
       "        vertical-align: top;\n",
       "    }\n",
       "\n",
       "    .dataframe thead th {\n",
       "        text-align: right;\n",
       "    }\n",
       "</style>\n",
       "<table border=\"1\" class=\"dataframe\">\n",
       "  <thead>\n",
       "    <tr style=\"text-align: right;\">\n",
       "      <th></th>\n",
       "      <th>filepath</th>\n",
       "      <th>class</th>\n",
       "      <th>confidence</th>\n",
       "    </tr>\n",
       "  </thead>\n",
       "  <tbody>\n",
       "    <tr>\n",
       "      <th>0</th>\n",
       "      <td>EmbryoLabeling/Labelers/One/M3169_S00470/M3169_S00470_W1_F0_1010.jpg</td>\n",
       "      <td>2pn</td>\n",
       "      <td>0.985840</td>\n",
       "    </tr>\n",
       "    <tr>\n",
       "      <th>1</th>\n",
       "      <td>EmbryoLabeling/Labelers/One/M3169_S00470/M3169_S00470_W1_F0_1031.jpg</td>\n",
       "      <td>2pn</td>\n",
       "      <td>0.995605</td>\n",
       "    </tr>\n",
       "    <tr>\n",
       "      <th>2</th>\n",
       "      <td>EmbryoLabeling/Labelers/One/M3169_S00470/M3169_S00470_W1_F0_1052.jpg</td>\n",
       "      <td>2pn</td>\n",
       "      <td>0.995605</td>\n",
       "    </tr>\n",
       "    <tr>\n",
       "      <th>3</th>\n",
       "      <td>EmbryoLabeling/Labelers/One/M3169_S00470/M3169_S00470_W1_F0_1073.jpg</td>\n",
       "      <td>2pn</td>\n",
       "      <td>0.996094</td>\n",
       "    </tr>\n",
       "    <tr>\n",
       "      <th>4</th>\n",
       "      <td>EmbryoLabeling/Labelers/One/M3169_S00470/M3169_S00470_W1_F0_1094.jpg</td>\n",
       "      <td>2pn</td>\n",
       "      <td>0.993164</td>\n",
       "    </tr>\n",
       "    <tr>\n",
       "      <th>...</th>\n",
       "      <td>...</td>\n",
       "      <td>...</td>\n",
       "      <td>...</td>\n",
       "    </tr>\n",
       "    <tr>\n",
       "      <th>3586</th>\n",
       "      <td>EmbryoLabeling/Labelers/One/M3169_S00470/M3169_S00470_W9_F0_990.jpg</td>\n",
       "      <td>Syngamy</td>\n",
       "      <td>0.696289</td>\n",
       "    </tr>\n",
       "    <tr>\n",
       "      <th>3587</th>\n",
       "      <td>EmbryoLabeling/Labelers/One/M3169_S00470/M3169_S00470_W9_F0_9921.jpg</td>\n",
       "      <td>Empty</td>\n",
       "      <td>0.808594</td>\n",
       "    </tr>\n",
       "    <tr>\n",
       "      <th>3588</th>\n",
       "      <td>EmbryoLabeling/Labelers/One/M3169_S00470/M3169_S00470_W9_F0_9942.jpg</td>\n",
       "      <td>Empty</td>\n",
       "      <td>0.708984</td>\n",
       "    </tr>\n",
       "    <tr>\n",
       "      <th>3589</th>\n",
       "      <td>EmbryoLabeling/Labelers/One/M3169_S00470/M3169_S00470_W9_F0_9963.jpg</td>\n",
       "      <td>Empty</td>\n",
       "      <td>0.590332</td>\n",
       "    </tr>\n",
       "    <tr>\n",
       "      <th>3590</th>\n",
       "      <td>EmbryoLabeling/Labelers/One/M3169_S00470/M3169_S00470_W9_F0_9990.jpg</td>\n",
       "      <td>Empty</td>\n",
       "      <td>0.767578</td>\n",
       "    </tr>\n",
       "  </tbody>\n",
       "</table>\n",
       "<p>3591 rows × 3 columns</p>\n",
       "</div>"
      ],
      "text/plain": [
       "                                                                  filepath  \\\n",
       "0     EmbryoLabeling/Labelers/One/M3169_S00470/M3169_S00470_W1_F0_1010.jpg   \n",
       "1     EmbryoLabeling/Labelers/One/M3169_S00470/M3169_S00470_W1_F0_1031.jpg   \n",
       "2     EmbryoLabeling/Labelers/One/M3169_S00470/M3169_S00470_W1_F0_1052.jpg   \n",
       "3     EmbryoLabeling/Labelers/One/M3169_S00470/M3169_S00470_W1_F0_1073.jpg   \n",
       "4     EmbryoLabeling/Labelers/One/M3169_S00470/M3169_S00470_W1_F0_1094.jpg   \n",
       "...                                                                    ...   \n",
       "3586   EmbryoLabeling/Labelers/One/M3169_S00470/M3169_S00470_W9_F0_990.jpg   \n",
       "3587  EmbryoLabeling/Labelers/One/M3169_S00470/M3169_S00470_W9_F0_9921.jpg   \n",
       "3588  EmbryoLabeling/Labelers/One/M3169_S00470/M3169_S00470_W9_F0_9942.jpg   \n",
       "3589  EmbryoLabeling/Labelers/One/M3169_S00470/M3169_S00470_W9_F0_9963.jpg   \n",
       "3590  EmbryoLabeling/Labelers/One/M3169_S00470/M3169_S00470_W9_F0_9990.jpg   \n",
       "\n",
       "        class  confidence  \n",
       "0         2pn    0.985840  \n",
       "1         2pn    0.995605  \n",
       "2         2pn    0.995605  \n",
       "3         2pn    0.996094  \n",
       "4         2pn    0.993164  \n",
       "...       ...         ...  \n",
       "3586  Syngamy    0.696289  \n",
       "3587    Empty    0.808594  \n",
       "3588    Empty    0.708984  \n",
       "3589    Empty    0.590332  \n",
       "3590    Empty    0.767578  \n",
       "\n",
       "[3591 rows x 3 columns]"
      ]
     },
     "execution_count": 32,
     "metadata": {},
     "output_type": "execute_result"
    }
   ],
   "source": [
    "test_df"
   ]
  },
  {
   "cell_type": "code",
   "execution_count": 33,
   "id": "bd732527",
   "metadata": {},
   "outputs": [],
   "source": [
    "test_df.to_csv(\"predictions.csv\", index=False)"
   ]
  },
  {
   "cell_type": "code",
   "execution_count": null,
   "id": "d5a48ed5",
   "metadata": {},
   "outputs": [],
   "source": []
  },
  {
   "cell_type": "code",
   "execution_count": null,
   "id": "fa99701d",
   "metadata": {},
   "outputs": [],
   "source": []
  }
 ],
 "metadata": {
  "interpreter": {
   "hash": "916dbcbb3f70747c44a77c7bcd40155683ae19c65e1c03b4aa3499c5328201f1"
  },
  "kernelspec": {
   "display_name": "Python 3 (ipykernel)",
   "language": "python",
   "name": "python3"
  },
  "language_info": {
   "codemirror_mode": {
    "name": "ipython",
    "version": 3
   },
   "file_extension": ".py",
   "mimetype": "text/x-python",
   "name": "python",
   "nbconvert_exporter": "python",
   "pygments_lexer": "ipython3",
   "version": "3.8.10"
  }
 },
 "nbformat": 4,
 "nbformat_minor": 5
}
