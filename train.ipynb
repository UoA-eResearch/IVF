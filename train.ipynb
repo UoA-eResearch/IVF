{
 "cells": [
  {
   "cell_type": "code",
   "execution_count": 1,
   "id": "97c7873e",
   "metadata": {},
   "outputs": [
    {
     "name": "stderr",
     "output_type": "stream",
     "text": [
      "2022-06-30 11:29:13.675020: I tensorflow/stream_executor/cuda/cuda_gpu_executor.cc:975] successful NUMA node read from SysFS had negative value (-1), but there must be at least one NUMA node, so returning NUMA node zero\n",
      "2022-06-30 11:29:13.722950: I tensorflow/stream_executor/cuda/cuda_gpu_executor.cc:975] successful NUMA node read from SysFS had negative value (-1), but there must be at least one NUMA node, so returning NUMA node zero\n",
      "2022-06-30 11:29:13.723168: I tensorflow/stream_executor/cuda/cuda_gpu_executor.cc:975] successful NUMA node read from SysFS had negative value (-1), but there must be at least one NUMA node, so returning NUMA node zero\n"
     ]
    },
    {
     "name": "stdout",
     "output_type": "stream",
     "text": [
      "INFO:tensorflow:Mixed precision compatibility check (mixed_float16): OK\n",
      "Your GPU will likely run quickly with dtype policy mixed_float16 as it has compute capability of at least 7.0. Your GPU: Tesla V100-PCIE-32GB, compute capability 7.0\n"
     ]
    },
    {
     "name": "stderr",
     "output_type": "stream",
     "text": [
      "2022-06-30 11:29:14.349656: I tensorflow/stream_executor/cuda/cuda_gpu_executor.cc:975] successful NUMA node read from SysFS had negative value (-1), but there must be at least one NUMA node, so returning NUMA node zero\n"
     ]
    },
    {
     "data": {
      "text/plain": [
       "Compacting    2894\n",
       "Blastocyst    2737\n",
       "2pn           2547\n",
       "Empty         1423\n",
       "2 Cell        1324\n",
       "4 Cell        1223\n",
       "Syngamy       1177\n",
       "6 Cell         722\n",
       "8 Cell         592\n",
       "3 Cell         435\n",
       "5 Cell         337\n",
       "9 Cell+        305\n",
       "Name: class, dtype: int64"
      ]
     },
     "execution_count": 1,
     "metadata": {},
     "output_type": "execute_result"
    }
   ],
   "source": [
    "import os # File system operations\n",
    "import re # Regular expressions\n",
    "import pandas as pd # Tabular data\n",
    "import numpy as np # Numerical data\n",
    "pd.set_option('display.max_colwidth', None) # Show full file paths\n",
    "import sys\n",
    "\n",
    "# Don't use all of the GPU RAM\n",
    "import tensorflow as tf\n",
    "gpus = tf.config.experimental.list_physical_devices('GPU')\n",
    "for gpu in gpus:\n",
    "  tf.config.experimental.set_memory_growth(gpu, True)\n",
    "from tensorflow.keras import mixed_precision\n",
    "from tensorflow import keras # ML\n",
    "import tensorflow_addons as tfa # TQDM progress bar when training\n",
    "from sklearn.model_selection import train_test_split\n",
    "from sklearn.utils import class_weight\n",
    "from skimage import exposure\n",
    "\n",
    "import mlflow # model runs\n",
    "mlflow.set_tracking_uri(\"sqlite:///mlflow.db\") # Use sqlite for more efficient storage\n",
    "# https://www.mlflow.org/docs/latest/python_api/mlflow.tensorflow.html#mlflow.tensorflow.autolog\n",
    "mlflow.tensorflow.autolog()\n",
    "\n",
    "BATCH_SIZE = 128\n",
    "EQUALIZE = False\n",
    "\n",
    "mixed_precision.set_global_policy('mixed_float16')\n",
    "\n",
    "from keras_tuner.tuners import RandomSearch\n",
    "from keras_tuner.engine.hyperparameters import HyperParameters\n",
    "\n",
    "\n",
    "from sklearn.metrics import confusion_matrix, classification_report, accuracy_score\n",
    "\n",
    "from pathlib import Path # Pathing\n",
    "from glob import glob # Finding files recursively\n",
    "import matplotlib.pyplot as plt # Plotting\n",
    "import seaborn as sns # Plotting\n",
    "sns.set()\n",
    "from tqdm.auto import tqdm # Progress bars\n",
    "tqdm.pandas()\n",
    "\n",
    "BASE_DIR = Path(\"EmbryoLabeling/Labelers/train\")\n",
    "folders = os.listdir(BASE_DIR)\n",
    "folders = [f for f in folders if not re.match(r\"M\\d\", f)]\n",
    "files = []\n",
    "for folder in folders:\n",
    "    files_in_folder = pd.DataFrame(glob(f\"{BASE_DIR}/{folder}/**/*.jpg\", recursive=True), columns=[\"filename\"])\n",
    "    if len(files_in_folder) == 0:\n",
    "        print(f\"{folder} is empty!\")\n",
    "        os.rmdir(BASE_DIR / folder)\n",
    "    files_in_folder[\"class\"] = folder\n",
    "    files.append(files_in_folder)\n",
    "df = pd.concat(files)\n",
    "df[\"class\"].value_counts()"
   ]
  },
  {
   "cell_type": "code",
   "execution_count": 2,
   "id": "31a10845",
   "metadata": {},
   "outputs": [
    {
     "data": {
      "text/plain": [
       "<AxesSubplot:>"
      ]
     },
     "execution_count": 2,
     "metadata": {},
     "output_type": "execute_result"
    },
    {
     "data": {
      "image/png": "[encoded data removed]",
      "text/plain": [
       "<Figure size 432x288 with 1 Axes>"
      ]
     },
     "metadata": {
      "needs_background": "light"
     },
     "output_type": "display_data"
    }
   ],
   "source": [
    "df[\"class\"].value_counts().plot.bar(logy=True)"
   ]
  },
  {
   "cell_type": "code",
   "execution_count": 3,
   "id": "0f1360a2",
   "metadata": {},
   "outputs": [
    {
     "data": {
      "text/plain": [
       "M0776_S00512    1952\n",
       "M3171_S00629    1916\n",
       "M776_S0087      1559\n",
       "M0776_S00635    1325\n",
       "M0776_S00534    1232\n",
       "M3169_S00668    1166\n",
       "M0831_S00479    1157\n",
       "M0776_S00761    1138\n",
       "M0831_S00470     834\n",
       "M0776_S00470     707\n",
       "M0831_S00493     553\n",
       "M0831_S00659     368\n",
       "M0776_S00737     204\n",
       "M3169_S00737     182\n",
       "Name: filename, dtype: int64"
      ]
     },
     "execution_count": 3,
     "metadata": {},
     "output_type": "execute_result"
    }
   ],
   "source": [
    "# Print counts of images by machine and slide\n",
    "df.filename[~df[\"class\"].isin([\"bad\", \"Empty\"])].apply(lambda s: \"_\".join(s.split(\"/\")[-1].split(\"_\")[:2])).value_counts()"
   ]
  },
  {
   "cell_type": "code",
   "execution_count": 4,
   "id": "8e48f356",
   "metadata": {
    "scrolled": false
   },
   "outputs": [
    {
     "name": "stdout",
     "output_type": "stream",
     "text": [
      "           class  time_since_fert\n",
      "1276         2pn             1061\n",
      "982      Syngamy             1464\n",
      "542       2 Cell             1574\n",
      "170       3 Cell             2315\n",
      "164       4 Cell             2395\n",
      "20        5 Cell             3045\n",
      "41        6 Cell             3125\n",
      "240       8 Cell             3265\n",
      "146   Compacting             3375\n",
      "448   Blastocyst             6090\n",
      "1198       Empty             7036\n"
     ]
    }
   ],
   "source": [
    "# Track a single embryo's lifecycle\n",
    "pd.set_option('display.max_rows', 365)\n",
    "M776_S0087_W2 = df[df.filename.str.contains(\"M776_S0087_W2\")].copy()\n",
    "# Extract time since fertilisation in minutes from filename (ints, rounded to nearest minute)\n",
    "M776_S0087_W2[\"time_since_fert\"] = M776_S0087_W2.filename.apply(lambda s: s.replace(\".jpg\", \"\").split(\"_\")[-1]).astype(int)\n",
    "M776_S0087_W2 = M776_S0087_W2.sort_values(by=\"time_since_fert\")\n",
    "# Take the earliest time that each class was seen\n",
    "M776_S0087_W2 = M776_S0087_W2.groupby(\"class\").head(1)\n",
    "print(M776_S0087_W2[[\"class\", \"time_since_fert\"]])"
   ]
  },
  {
   "cell_type": "code",
   "execution_count": 5,
   "id": "b07925b9",
   "metadata": {},
   "outputs": [
    {
     "data": {
      "text/plain": [
       "['2pn',\n",
       " 'Syngamy',\n",
       " '2 Cell',\n",
       " '3 Cell',\n",
       " '4 Cell',\n",
       " '5 Cell',\n",
       " '6 Cell',\n",
       " '8 Cell',\n",
       " 'Compacting',\n",
       " 'Blastocyst',\n",
       " 'Empty']"
      ]
     },
     "execution_count": 5,
     "metadata": {},
     "output_type": "execute_result"
    }
   ],
   "source": [
    "classes = list(M776_S0087_W2[\"class\"])\n",
    "classes"
   ]
  },
  {
   "cell_type": "code",
   "execution_count": 6,
   "id": "e803af06",
   "metadata": {},
   "outputs": [
    {
     "data": {
      "image/png": "[encoded data removed]",
      "text/plain": [
       "<Figure size 1440x1440 with 1 Axes>"
      ]
     },
     "metadata": {
      "needs_background": "light"
     },
     "output_type": "display_data"
    }
   ],
   "source": [
    "# Plot embryo's lifecycle over time\n",
    "plt.figure(figsize=(20, 20))\n",
    "for i, row in M776_S0087_W2.iterrows():\n",
    "    image = keras.utils.load_img(row.filename, target_size=(299,299))\n",
    "    c_index = classes.index(row[\"class\"]) * 299\n",
    "    time_since_fert = row.time_since_fert\n",
    "    plt.imshow(image, extent=[time_since_fert, time_since_fert+299, c_index, c_index+299])\n",
    "    plt.text(time_since_fert, c_index, row[\"class\"], bbox=dict(boxstyle=\"round\", ec=(1., 0.5, 0.5), fc=(1., 0.8, 0.8)))\n",
    "plt.yticks([])\n",
    "plt.xlabel(\"Time since fertilisation (minutes)\")\n",
    "plt.xlim(0, M776_S0087_W2.time_since_fert.max() + 300)\n",
    "plt.ylim(0, len(classes) * 300)\n",
    "plt.show()"
   ]
  },
  {
   "cell_type": "code",
   "execution_count": 7,
   "id": "c00fd32a",
   "metadata": {
    "scrolled": false
   },
   "outputs": [
    {
     "data": {
      "image/png": "[encoded data removed]",
      "text/plain": [
       "<Figure size 720x720 with 25 Axes>"
      ]
     },
     "metadata": {
      "needs_background": "light"
     },
     "output_type": "display_data"
    }
   ],
   "source": [
    "plt.figure(figsize=(10, 10))\n",
    "sample = df.sample(25)\n",
    "for i, (idx, row) in enumerate(sample.iterrows()):\n",
    "    ax = plt.subplot(5, 5, i + 1)\n",
    "    img = keras.utils.load_img(row.filename, target_size=(299,299))\n",
    "    if EQUALIZE:\n",
    "        img = tfa.image.equalize(img)\n",
    "    plt.imshow(img)\n",
    "    plt.title(row[\"class\"])\n",
    "    plt.axis(\"off\")"
   ]
  },
  {
   "cell_type": "code",
   "execution_count": 8,
   "id": "dbbf3b1e",
   "metadata": {},
   "outputs": [
    {
     "name": "stdout",
     "output_type": "stream",
     "text": [
      "Found 15716 files belonging to 12 classes.\n"
     ]
    },
    {
     "name": "stderr",
     "output_type": "stream",
     "text": [
      "2022-06-30 11:29:18.065554: I tensorflow/core/platform/cpu_feature_guard.cc:193] This TensorFlow binary is optimized with oneAPI Deep Neural Network Library (oneDNN) to use the following CPU instructions in performance-critical operations:  AVX2 AVX512F FMA\n",
      "To enable them in other operations, rebuild TensorFlow with the appropriate compiler flags.\n",
      "2022-06-30 11:29:18.066537: I tensorflow/stream_executor/cuda/cuda_gpu_executor.cc:975] successful NUMA node read from SysFS had negative value (-1), but there must be at least one NUMA node, so returning NUMA node zero\n",
      "2022-06-30 11:29:18.066755: I tensorflow/stream_executor/cuda/cuda_gpu_executor.cc:975] successful NUMA node read from SysFS had negative value (-1), but there must be at least one NUMA node, so returning NUMA node zero\n",
      "2022-06-30 11:29:18.066882: I tensorflow/stream_executor/cuda/cuda_gpu_executor.cc:975] successful NUMA node read from SysFS had negative value (-1), but there must be at least one NUMA node, so returning NUMA node zero\n",
      "2022-06-30 11:29:18.957008: I tensorflow/stream_executor/cuda/cuda_gpu_executor.cc:975] successful NUMA node read from SysFS had negative value (-1), but there must be at least one NUMA node, so returning NUMA node zero\n",
      "2022-06-30 11:29:18.957246: I tensorflow/stream_executor/cuda/cuda_gpu_executor.cc:975] successful NUMA node read from SysFS had negative value (-1), but there must be at least one NUMA node, so returning NUMA node zero\n",
      "2022-06-30 11:29:18.957400: I tensorflow/stream_executor/cuda/cuda_gpu_executor.cc:975] successful NUMA node read from SysFS had negative value (-1), but there must be at least one NUMA node, so returning NUMA node zero\n",
      "2022-06-30 11:29:18.957679: I tensorflow/core/common_runtime/gpu/gpu_device.cc:1532] Created device /job:localhost/replica:0/task:0/device:GPU:0 with 30982 MB memory:  -> device: 0, name: Tesla V100-PCIE-32GB, pci bus id: 0000:00:08.0, compute capability: 7.0\n"
     ]
    }
   ],
   "source": [
    "train = tf.keras.utils.image_dataset_from_directory(\n",
    "    BASE_DIR,\n",
    "    image_size = (299,299),\n",
    "    batch_size = BATCH_SIZE, #// 4, # / 4 here, because the augmentations will * 4\n",
    "    label_mode = 'categorical',\n",
    "    shuffle = False\n",
    ")\n",
    "if EQUALIZE:\n",
    "    train_cache = train.map(lambda x, y: (tfa.image.equalize(x), y)).cache().prefetch(tf.data.AUTOTUNE)\n",
    "else:\n",
    "    train_cache = train.cache().prefetch(tf.data.AUTOTUNE)"
   ]
  },
  {
   "cell_type": "code",
   "execution_count": 9,
   "id": "012e294d",
   "metadata": {},
   "outputs": [
    {
     "data": {
      "text/plain": [
       "123"
      ]
     },
     "execution_count": 9,
     "metadata": {},
     "output_type": "execute_result"
    }
   ],
   "source": [
    "len(train_cache)"
   ]
  },
  {
   "cell_type": "code",
   "execution_count": 10,
   "id": "80d5d9ad",
   "metadata": {},
   "outputs": [
    {
     "data": {
      "application/vnd.jupyter.widget-view+json": {
       "model_id": "475d7c93e8c848b49327a714a40f8caf",
       "version_major": 2,
       "version_minor": 0
      },
      "text/plain": [
       "  0%|          | 0/123 [00:00<?, ?it/s]"
      ]
     },
     "metadata": {},
     "output_type": "display_data"
    }
   ],
   "source": [
    "list(tqdm(train_cache)); # load it all into RAM"
   ]
  },
  {
   "cell_type": "code",
   "execution_count": 11,
   "id": "27fe3367",
   "metadata": {},
   "outputs": [
    {
     "data": {
      "text/plain": [
       "<matplotlib.image.AxesImage at 0x7ff7a856afd0>"
      ]
     },
     "execution_count": 11,
     "metadata": {},
     "output_type": "execute_result"
    },
    {
     "data": {
      "image/png": "[encoded data removed]",
      "text/plain": [
       "<Figure size 432x288 with 1 Axes>"
      ]
     },
     "metadata": {
      "needs_background": "light"
     },
     "output_type": "display_data"
    }
   ],
   "source": [
    "x, y = next(iter(train_cache))\n",
    "plt.imshow(x.numpy()[0].astype(\"uint8\"))"
   ]
  },
  {
   "cell_type": "code",
   "execution_count": 12,
   "id": "110398bc",
   "metadata": {},
   "outputs": [
    {
     "name": "stdout",
     "output_type": "stream",
     "text": [
      "(512, 299, 299, 3) (512, 12)\n"
     ]
    }
   ],
   "source": [
    "class AugmentationGenerator(tf.keras.utils.Sequence):\n",
    "    def __getitem__(self, idx):\n",
    "        x, y = next(iter(train_cache.skip(idx).take(1)))\n",
    "        x = np.vstack([\n",
    "            x,\n",
    "            np.flip(x, axis=1),\n",
    "            np.flip(x, axis=2),\n",
    "            np.flip(np.flip(x, axis=1), axis=2),\n",
    "        ])\n",
    "        y = np.vstack([\n",
    "            y, y, y, y\n",
    "        ])\n",
    "        return x, y\n",
    "    def __len__(self):\n",
    "        return len(train_cache)\n",
    "\n",
    "x, y = AugmentationGenerator().__getitem__(0)\n",
    "print(x.shape, y.shape)"
   ]
  },
  {
   "cell_type": "code",
   "execution_count": 13,
   "id": "cb6e7d14",
   "metadata": {},
   "outputs": [
    {
     "data": {
      "text/plain": [
       "123"
      ]
     },
     "execution_count": 13,
     "metadata": {},
     "output_type": "execute_result"
    }
   ],
   "source": [
    "len(AugmentationGenerator())"
   ]
  },
  {
   "cell_type": "code",
   "execution_count": 14,
   "id": "3b1f175a",
   "metadata": {},
   "outputs": [
    {
     "name": "stdout",
     "output_type": "stream",
     "text": [
      "12\n"
     ]
    },
    {
     "data": {
      "text/plain": [
       "['2 Cell',\n",
       " '2pn',\n",
       " '3 Cell',\n",
       " '4 Cell',\n",
       " '5 Cell',\n",
       " '6 Cell',\n",
       " '8 Cell',\n",
       " '9 Cell+',\n",
       " 'Blastocyst',\n",
       " 'Compacting',\n",
       " 'Empty',\n",
       " 'Syngamy']"
      ]
     },
     "execution_count": 14,
     "metadata": {},
     "output_type": "execute_result"
    }
   ],
   "source": [
    "classes = train.class_names\n",
    "print(len(classes))\n",
    "classes"
   ]
  },
  {
   "cell_type": "code",
   "execution_count": 15,
   "id": "a2b1f6a8",
   "metadata": {},
   "outputs": [
    {
     "name": "stdout",
     "output_type": "stream",
     "text": [
      "WARNING:tensorflow:Compiled the loaded model, but the compiled metrics have yet to be built. `model.compile_metrics` will be empty until you train or evaluate the model.\n",
      "Model: \"sequential\"\n",
      "_________________________________________________________________\n",
      " Layer (type)                Output Shape              Param #   \n",
      "=================================================================\n",
      " rescaling (Rescaling)       (None, 299, 299, 3)       0         \n",
      "                                                                 \n",
      " xception (Functional)       (None, 2048)              20861480  \n",
      "                                                                 \n",
      "=================================================================\n",
      "Total params: 20,861,480\n",
      "Trainable params: 20,806,952\n",
      "Non-trainable params: 54,528\n",
      "_________________________________________________________________\n"
     ]
    }
   ],
   "source": [
    "base_model = keras.Sequential([\n",
    "    # Pre-trained Xception weights requires that input be scaled\n",
    "    # from (0, 255) to a range of (-1., +1.), the rescaling layer\n",
    "    # outputs: `(inputs * scale) + offset`\n",
    "    keras.layers.Rescaling(scale=1./127.5, offset=-1, input_shape=(299,299,3)),\n",
    "    keras.applications.Xception(\n",
    "        weights='imagenet',  # Load weights pre-trained on ImageNet.\n",
    "        include_top=False,\n",
    "        pooling=\"avg\"\n",
    "    )\n",
    "])\n",
    "base_model.save(f\"models/xception.h5\")\n",
    "base_model.summary()"
   ]
  },
  {
   "cell_type": "code",
   "execution_count": 16,
   "id": "ca155884",
   "metadata": {},
   "outputs": [
    {
     "name": "stdout",
     "output_type": "stream",
     "text": [
      "extracted_features.npy\n",
      "\n"
     ]
    },
    {
     "name": "stderr",
     "output_type": "stream",
     "text": [
      "2022-06-30 11:29:31.329344: I tensorflow/stream_executor/cuda/cuda_dnn.cc:384] Loaded cuDNN version 8302\n",
      "2022-06-30 11:29:32.224844: I tensorflow/core/platform/default/subprocess.cc:304] Start cannot spawn child process: No such file or directory\n"
     ]
    },
    {
     "name": "stdout",
     "output_type": "stream",
     "text": [
      "123/123 [==============================] - 204s 2s/step\n"
     ]
    }
   ],
   "source": [
    "cachefile = f\"extracted_features{'_eq' if EQUALIZE else ''}.npy\"\n",
    "print(cachefile)\n",
    "try:\n",
    "    extracted_features = np.load(cachefile)\n",
    "    assert len(extracted_features) == len(train.file_paths)*4\n",
    "except Exception as e:\n",
    "    print(e)\n",
    "    extracted_features = base_model.predict(AugmentationGenerator())\n",
    "    np.save(cachefile, extracted_features)"
   ]
  },
  {
   "cell_type": "code",
   "execution_count": 17,
   "id": "77f145fd",
   "metadata": {},
   "outputs": [],
   "source": [
    "del train_cache"
   ]
  },
  {
   "cell_type": "code",
   "execution_count": 18,
   "id": "78116e7f",
   "metadata": {
    "scrolled": false
   },
   "outputs": [
    {
     "data": {
      "text/plain": [
       "(62864, 2048)"
      ]
     },
     "execution_count": 18,
     "metadata": {},
     "output_type": "execute_result"
    }
   ],
   "source": [
    "extracted_features.shape"
   ]
  },
  {
   "cell_type": "code",
   "execution_count": 19,
   "id": "18f744db",
   "metadata": {},
   "outputs": [
    {
     "data": {
      "text/plain": [
       "(62864, 12)"
      ]
     },
     "execution_count": 19,
     "metadata": {},
     "output_type": "execute_result"
    }
   ],
   "source": [
    "y = np.vstack([np.vstack([y,y,y,y]) for x,y in train])\n",
    "y.shape"
   ]
  },
  {
   "cell_type": "code",
   "execution_count": 20,
   "id": "2005acb6",
   "metadata": {},
   "outputs": [
    {
     "data": {
      "text/plain": [
       "0        EmbryoLabeling/Labelers/train/2 Cell/M0776_S00470_W2_F0_1894.jpg\n",
       "1        EmbryoLabeling/Labelers/train/2 Cell/M0776_S00470_W2_F0_1914.jpg\n",
       "2        EmbryoLabeling/Labelers/train/2 Cell/M0776_S00470_W2_F0_1934.jpg\n",
       "3        EmbryoLabeling/Labelers/train/2 Cell/M0776_S00470_W2_F0_1954.jpg\n",
       "4        EmbryoLabeling/Labelers/train/2 Cell/M0776_S00470_W2_F0_1974.jpg\n",
       "                                       ...                               \n",
       "62859     EmbryoLabeling/Labelers/train/Syngamy/M776_S0087_W5_F0_1555.jpg\n",
       "62860     EmbryoLabeling/Labelers/train/Syngamy/M776_S0087_W5_F0_1585.jpg\n",
       "62861     EmbryoLabeling/Labelers/train/Syngamy/M776_S0087_W5_F0_1605.jpg\n",
       "62862     EmbryoLabeling/Labelers/train/Syngamy/M776_S0087_W5_F0_1625.jpg\n",
       "62863     EmbryoLabeling/Labelers/train/Syngamy/M776_S0087_W5_F0_1645.jpg\n",
       "Length: 62864, dtype: object"
      ]
     },
     "metadata": {},
     "output_type": "display_data"
    }
   ],
   "source": [
    "aug_paths = []\n",
    "for i in range(len(train)):\n",
    "    batch_paths = train.file_paths[i*BATCH_SIZE:(i+1)*BATCH_SIZE]\n",
    "    aug_paths.extend(batch_paths * 4)\n",
    "aug_paths = pd.Series(aug_paths)\n",
    "display(aug_paths)"
   ]
  },
  {
   "cell_type": "code",
   "execution_count": 21,
   "id": "0a520b36",
   "metadata": {},
   "outputs": [
    {
     "data": {
      "text/plain": [
       "0        1894\n",
       "1        1914\n",
       "2        1934\n",
       "3        1954\n",
       "4        1974\n",
       "         ... \n",
       "62859    1555\n",
       "62860    1585\n",
       "62861    1605\n",
       "62862    1625\n",
       "62863    1645\n",
       "Length: 62864, dtype: int64"
      ]
     },
     "execution_count": 21,
     "metadata": {},
     "output_type": "execute_result"
    }
   ],
   "source": [
    "fert_minutes = aug_paths.apply(lambda s: s.replace(\".jpg\", \"\").split(\"_\")[-1]).astype(int)\n",
    "fert_minutes"
   ]
  },
  {
   "cell_type": "code",
   "execution_count": 22,
   "id": "7722e071",
   "metadata": {},
   "outputs": [
    {
     "data": {
      "text/plain": [
       "(62864, 2049)"
      ]
     },
     "execution_count": 22,
     "metadata": {},
     "output_type": "execute_result"
    }
   ],
   "source": [
    "extracted_features_with_fert = np.hstack([extracted_features, fert_minutes.to_numpy()[:, None]])\n",
    "extracted_features_with_fert.shape"
   ]
  },
  {
   "cell_type": "code",
   "execution_count": 23,
   "id": "34a40598",
   "metadata": {},
   "outputs": [
    {
     "data": {
      "text/plain": [
       "((49672, 2049), (49672, 12), (13192, 2049), (13192, 12))"
      ]
     },
     "execution_count": 23,
     "metadata": {},
     "output_type": "execute_result"
    }
   ],
   "source": [
    "#x_train, x_test, y_train, y_test = train_test_split(extracted_features, y, test_size=.2)\n",
    "\n",
    "# Use one slide for test, everything else for train\n",
    "test_slide = \"M0831\"\n",
    "test_idx = aug_paths.str.contains(test_slide)\n",
    "x_train = extracted_features_with_fert[~test_idx]\n",
    "y_train = y[~test_idx]\n",
    "x_test = extracted_features_with_fert[test_idx]\n",
    "y_test = y[test_idx]\n",
    "x_train.shape, y_train.shape, x_test.shape, y_test.shape"
   ]
  },
  {
   "cell_type": "code",
   "execution_count": 24,
   "id": "13282758",
   "metadata": {},
   "outputs": [
    {
     "data": {
      "text/plain": [
       "{'2 Cell': 0.989174,\n",
       " '2pn': 0.5142,\n",
       " '3 Cell': 3.010728,\n",
       " '4 Cell': 1.070864,\n",
       " '5 Cell': 3.886251,\n",
       " '6 Cell': 1.813943,\n",
       " '8 Cell': 2.212275,\n",
       " '9 Cell+': 4.293989,\n",
       " 'Blastocyst': 0.478504,\n",
       " 'Compacting': 0.452545,\n",
       " 'Empty': 0.920356,\n",
       " 'Syngamy': 1.112716}"
      ]
     },
     "execution_count": 24,
     "metadata": {},
     "output_type": "execute_result"
    }
   ],
   "source": [
    "class_weights = class_weight.compute_class_weight('balanced', classes = np.unique(y.argmax(axis=1)), y=y.argmax(axis=1))\n",
    "class_weights = class_weights.round(6) # This is necessary if using mlflow, as it can go beyond the 250 character limit otherwise\n",
    "class_weights = dict(enumerate(class_weights))\n",
    "{k:v for k,v in zip(classes, class_weights.values())}"
   ]
  },
  {
   "cell_type": "code",
   "execution_count": 25,
   "id": "9ce520df",
   "metadata": {
    "scrolled": false
   },
   "outputs": [],
   "source": [
    "# Hyperparameter search\n",
    "search = False\n",
    "if search:\n",
    "    def build_model(hp):\n",
    "        model = keras.Sequential()\n",
    "        model.add(keras.layers.Input(shape=(x_train.shape[1])))\n",
    "\n",
    "        for i in range(hp.Int(\"n_layers\", 1, 4)):\n",
    "            model.add(keras.layers.Dense(\n",
    "                hp.Int(f\"dense_units_{i}\", min_value=32, max_value=128, step=32),\n",
    "                activation=hp.Choice(f\"dense_activation_{i}\", values=[\"relu\", \"sigmoid\"], default=\"relu\")\n",
    "            ))\n",
    "            model.add(keras.layers.Dropout(hp.Float(f\"dropout_{i}\", min_value=.1, max_value=.5, step=.1)))\n",
    "\n",
    "        model.add(keras.layers.Dense(len(classes), activation=\"softmax\"))\n",
    "        model.compile(\n",
    "            optimizer=keras.optimizers.Adam(learning_rate=hp.Float(\n",
    "                \"learning_rate\", min_value=1e-4, max_value=1e-2, sampling=\"LOG\", default=1e-3\n",
    "            )),\n",
    "            loss=keras.losses.CategoricalCrossentropy(),\n",
    "            metrics=[keras.metrics.CategoricalAccuracy()],\n",
    "        )\n",
    "        return model\n",
    "\n",
    "    tuner = RandomSearch(\n",
    "        build_model,\n",
    "        objective=\"val_categorical_accuracy\",\n",
    "        max_trials=80,\n",
    "    )\n",
    "    tuner.search_space_summary()\n",
    "    tuner.search(\n",
    "        x_train,\n",
    "        y_train,\n",
    "        batch_size=BATCH_SIZE,\n",
    "        validation_data=(x_test, y_test),\n",
    "        epochs=500,\n",
    "        verbose=0,\n",
    "        class_weight=class_weights,\n",
    "        callbacks=[\n",
    "            keras.callbacks.EarlyStopping(monitor='val_categorical_accuracy',patience=50, verbose=1),\n",
    "            tfa.callbacks.TQDMProgressBar()\n",
    "        ]\n",
    "    )\n",
    "    print(tuner.get_best_hyperparameters()[0].values)\n",
    "    print(tuner.get_best_models()[0].summary())"
   ]
  },
  {
   "cell_type": "code",
   "execution_count": 26,
   "id": "9844880c",
   "metadata": {
    "scrolled": false
   },
   "outputs": [
    {
     "name": "stdout",
     "output_type": "stream",
     "text": [
      "Model: \"sequential_1\"\n",
      "_________________________________________________________________\n",
      " Layer (type)                Output Shape              Param #   \n",
      "=================================================================\n",
      " dense (Dense)               (None, 512)               1049600   \n",
      "                                                                 \n",
      " dense_1 (Dense)             (None, 512)               262656    \n",
      "                                                                 \n",
      " dense_2 (Dense)             (None, 12)                6156      \n",
      "                                                                 \n",
      "=================================================================\n",
      "Total params: 1,318,412\n",
      "Trainable params: 1,318,412\n",
      "Non-trainable params: 0\n",
      "_________________________________________________________________\n",
      "None\n"
     ]
    },
    {
     "data": {
      "application/vnd.jupyter.widget-view+json": {
       "model_id": "acc35a1468e24a2dba2228e75e7391b5",
       "version_major": 2,
       "version_minor": 0
      },
      "text/plain": [
       "Training:   0%|           0/500 ETA: ?s,  ?epochs/s"
      ]
     },
     "metadata": {},
     "output_type": "display_data"
    },
    {
     "name": "stdout",
     "output_type": "stream",
     "text": [
      "Epoch 1/500\n"
     ]
    },
    {
     "data": {
      "application/vnd.jupyter.widget-view+json": {
       "model_id": "5d02bdb98e1c41e3a3fd3c4c8514087c",
       "version_major": 2,
       "version_minor": 0
      },
      "text/plain": [
       "0/389           ETA: ?s - "
      ]
     },
     "metadata": {},
     "output_type": "display_data"
    },
    {
     "name": "stdout",
     "output_type": "stream",
     "text": [
      "Epoch 2/500\n"
     ]
    },
    {
     "data": {
      "application/vnd.jupyter.widget-view+json": {
       "model_id": "9a8864dadb2d426190f2d94bec36ecaf",
       "version_major": 2,
       "version_minor": 0
      },
      "text/plain": [
       "0/389           ETA: ?s - "
      ]
     },
     "metadata": {},
     "output_type": "display_data"
    },
    {
     "name": "stdout",
     "output_type": "stream",
     "text": [
      "Epoch 3/500\n"
     ]
    },
    {
     "data": {
      "application/vnd.jupyter.widget-view+json": {
       "model_id": "99f8310e87b148b5ad028b1a74f59dc2",
       "version_major": 2,
       "version_minor": 0
      },
      "text/plain": [
       "0/389           ETA: ?s - "
      ]
     },
     "metadata": {},
     "output_type": "display_data"
    },
    {
     "name": "stdout",
     "output_type": "stream",
     "text": [
      "Epoch 4/500\n"
     ]
    },
    {
     "data": {
      "application/vnd.jupyter.widget-view+json": {
       "model_id": "f2ab56819abf48b5b3298222760d945c",
       "version_major": 2,
       "version_minor": 0
      },
      "text/plain": [
       "0/389           ETA: ?s - "
      ]
     },
     "metadata": {},
     "output_type": "display_data"
    },
    {
     "name": "stdout",
     "output_type": "stream",
     "text": [
      "Epoch 5/500\n"
     ]
    },
    {
     "data": {
      "application/vnd.jupyter.widget-view+json": {
       "model_id": "aaf812a68c86459fb41cfc9bccb654b1",
       "version_major": 2,
       "version_minor": 0
      },
      "text/plain": [
       "0/389           ETA: ?s - "
      ]
     },
     "metadata": {},
     "output_type": "display_data"
    },
    {
     "name": "stdout",
     "output_type": "stream",
     "text": [
      "Epoch 6/500\n"
     ]
    },
    {
     "data": {
      "application/vnd.jupyter.widget-view+json": {
       "model_id": "6f5b2b446f1d43ec87c997f16f7d3585",
       "version_major": 2,
       "version_minor": 0
      },
      "text/plain": [
       "0/389           ETA: ?s - "
      ]
     },
     "metadata": {},
     "output_type": "display_data"
    },
    {
     "name": "stdout",
     "output_type": "stream",
     "text": [
      "Epoch 7/500\n"
     ]
    },
    {
     "data": {
      "application/vnd.jupyter.widget-view+json": {
       "model_id": "ab69f8b394744e3087590eb85a4741d5",
       "version_major": 2,
       "version_minor": 0
      },
      "text/plain": [
       "0/389           ETA: ?s - "
      ]
     },
     "metadata": {},
     "output_type": "display_data"
    },
    {
     "name": "stdout",
     "output_type": "stream",
     "text": [
      "Epoch 8/500\n"
     ]
    },
    {
     "data": {
      "application/vnd.jupyter.widget-view+json": {
       "model_id": "0eb38cfa6a8f4f419fa04565fb0ee108",
       "version_major": 2,
       "version_minor": 0
      },
      "text/plain": [
       "0/389           ETA: ?s - "
      ]
     },
     "metadata": {},
     "output_type": "display_data"
    },
    {
     "name": "stdout",
     "output_type": "stream",
     "text": [
      "Epoch 9/500\n"
     ]
    },
    {
     "data": {
      "application/vnd.jupyter.widget-view+json": {
       "model_id": "4a765ad074bb4a2d80b56d59a370aa4d",
       "version_major": 2,
       "version_minor": 0
      },
      "text/plain": [
       "0/389           ETA: ?s - "
      ]
     },
     "metadata": {},
     "output_type": "display_data"
    },
    {
     "name": "stdout",
     "output_type": "stream",
     "text": [
      "Epoch 10/500\n"
     ]
    },
    {
     "data": {
      "application/vnd.jupyter.widget-view+json": {
       "model_id": "85a8c107db5e4944af1f4b4d97214174",
       "version_major": 2,
       "version_minor": 0
      },
      "text/plain": [
       "0/389           ETA: ?s - "
      ]
     },
     "metadata": {},
     "output_type": "display_data"
    },
    {
     "name": "stdout",
     "output_type": "stream",
     "text": [
      "Epoch 11/500\n"
     ]
    },
    {
     "data": {
      "application/vnd.jupyter.widget-view+json": {
       "model_id": "2b7d8ceca7884b40a0f9d16e7ffdbfb4",
       "version_major": 2,
       "version_minor": 0
      },
      "text/plain": [
       "0/389           ETA: ?s - "
      ]
     },
     "metadata": {},
     "output_type": "display_data"
    },
    {
     "name": "stdout",
     "output_type": "stream",
     "text": [
      "Epoch 12/500\n"
     ]
    },
    {
     "data": {
      "application/vnd.jupyter.widget-view+json": {
       "model_id": "4a89f0b0df274f6ea7a3e3aad8967a5b",
       "version_major": 2,
       "version_minor": 0
      },
      "text/plain": [
       "0/389           ETA: ?s - "
      ]
     },
     "metadata": {},
     "output_type": "display_data"
    },
    {
     "name": "stdout",
     "output_type": "stream",
     "text": [
      "Epoch 13/500\n"
     ]
    },
    {
     "data": {
      "application/vnd.jupyter.widget-view+json": {
       "model_id": "1275e6017ce143788a4afffc1aa1b06d",
       "version_major": 2,
       "version_minor": 0
      },
      "text/plain": [
       "0/389           ETA: ?s - "
      ]
     },
     "metadata": {},
     "output_type": "display_data"
    },
    {
     "name": "stdout",
     "output_type": "stream",
     "text": [
      "Epoch 14/500\n"
     ]
    },
    {
     "data": {
      "application/vnd.jupyter.widget-view+json": {
       "model_id": "f4c4e65dda21417685d8877745e88c77",
       "version_major": 2,
       "version_minor": 0
      },
      "text/plain": [
       "0/389           ETA: ?s - "
      ]
     },
     "metadata": {},
     "output_type": "display_data"
    },
    {
     "name": "stdout",
     "output_type": "stream",
     "text": [
      "Epoch 15/500\n"
     ]
    },
    {
     "data": {
      "application/vnd.jupyter.widget-view+json": {
       "model_id": "45a2fe3eceb14ea980a3f359de2169bd",
       "version_major": 2,
       "version_minor": 0
      },
      "text/plain": [
       "0/389           ETA: ?s - "
      ]
     },
     "metadata": {},
     "output_type": "display_data"
    },
    {
     "name": "stdout",
     "output_type": "stream",
     "text": [
      "Epoch 16/500\n"
     ]
    },
    {
     "data": {
      "application/vnd.jupyter.widget-view+json": {
       "model_id": "f65903bb5a094bcb8feda2e9c7a16d83",
       "version_major": 2,
       "version_minor": 0
      },
      "text/plain": [
       "0/389           ETA: ?s - "
      ]
     },
     "metadata": {},
     "output_type": "display_data"
    },
    {
     "name": "stdout",
     "output_type": "stream",
     "text": [
      "Epoch 17/500\n"
     ]
    },
    {
     "data": {
      "application/vnd.jupyter.widget-view+json": {
       "model_id": "d2bed686630245e695e9cb0066741cef",
       "version_major": 2,
       "version_minor": 0
      },
      "text/plain": [
       "0/389           ETA: ?s - "
      ]
     },
     "metadata": {},
     "output_type": "display_data"
    },
    {
     "name": "stdout",
     "output_type": "stream",
     "text": [
      "Epoch 18/500\n"
     ]
    },
    {
     "data": {
      "application/vnd.jupyter.widget-view+json": {
       "model_id": "04c9a44199bf4539948fedb3c0e62264",
       "version_major": 2,
       "version_minor": 0
      },
      "text/plain": [
       "0/389           ETA: ?s - "
      ]
     },
     "metadata": {},
     "output_type": "display_data"
    },
    {
     "name": "stdout",
     "output_type": "stream",
     "text": [
      "Epoch 19/500\n"
     ]
    },
    {
     "data": {
      "application/vnd.jupyter.widget-view+json": {
       "model_id": "223525bba5d8483381c279a256c358e3",
       "version_major": 2,
       "version_minor": 0
      },
      "text/plain": [
       "0/389           ETA: ?s - "
      ]
     },
     "metadata": {},
     "output_type": "display_data"
    },
    {
     "name": "stdout",
     "output_type": "stream",
     "text": [
      "Epoch 20/500\n"
     ]
    },
    {
     "data": {
      "application/vnd.jupyter.widget-view+json": {
       "model_id": "248949cdc3984882b0e6c1777403a957",
       "version_major": 2,
       "version_minor": 0
      },
      "text/plain": [
       "0/389           ETA: ?s - "
      ]
     },
     "metadata": {},
     "output_type": "display_data"
    },
    {
     "name": "stdout",
     "output_type": "stream",
     "text": [
      "Epoch 21/500\n"
     ]
    },
    {
     "data": {
      "application/vnd.jupyter.widget-view+json": {
       "model_id": "31d95ed2f1bc4cdfa67cf1a4434031a9",
       "version_major": 2,
       "version_minor": 0
      },
      "text/plain": [
       "0/389           ETA: ?s - "
      ]
     },
     "metadata": {},
     "output_type": "display_data"
    },
    {
     "name": "stdout",
     "output_type": "stream",
     "text": [
      "Epoch 22/500\n"
     ]
    },
    {
     "data": {
      "application/vnd.jupyter.widget-view+json": {
       "model_id": "f8f36f78a2d84c7695bde435d043b6ba",
       "version_major": 2,
       "version_minor": 0
      },
      "text/plain": [
       "0/389           ETA: ?s - "
      ]
     },
     "metadata": {},
     "output_type": "display_data"
    },
    {
     "name": "stdout",
     "output_type": "stream",
     "text": [
      "Epoch 23/500\n"
     ]
    },
    {
     "data": {
      "application/vnd.jupyter.widget-view+json": {
       "model_id": "df83ed948f734b35a9e3c85ce243aff1",
       "version_major": 2,
       "version_minor": 0
      },
      "text/plain": [
       "0/389           ETA: ?s - "
      ]
     },
     "metadata": {},
     "output_type": "display_data"
    },
    {
     "name": "stdout",
     "output_type": "stream",
     "text": [
      "Epoch 24/500\n"
     ]
    },
    {
     "data": {
      "application/vnd.jupyter.widget-view+json": {
       "model_id": "2a9f6a7654624a5889b267a56c4c4ac7",
       "version_major": 2,
       "version_minor": 0
      },
      "text/plain": [
       "0/389           ETA: ?s - "
      ]
     },
     "metadata": {},
     "output_type": "display_data"
    },
    {
     "name": "stdout",
     "output_type": "stream",
     "text": [
      "Epoch 25/500\n"
     ]
    },
    {
     "data": {
      "application/vnd.jupyter.widget-view+json": {
       "model_id": "b08c9022a2ba40068c466bfcdd8dba05",
       "version_major": 2,
       "version_minor": 0
      },
      "text/plain": [
       "0/389           ETA: ?s - "
      ]
     },
     "metadata": {},
     "output_type": "display_data"
    },
    {
     "name": "stdout",
     "output_type": "stream",
     "text": [
      "Epoch 26/500\n"
     ]
    },
    {
     "data": {
      "application/vnd.jupyter.widget-view+json": {
       "model_id": "f30b41a0469842e19d2fcd89f06cadff",
       "version_major": 2,
       "version_minor": 0
      },
      "text/plain": [
       "0/389           ETA: ?s - "
      ]
     },
     "metadata": {},
     "output_type": "display_data"
    },
    {
     "name": "stdout",
     "output_type": "stream",
     "text": [
      "Epoch 27/500\n"
     ]
    },
    {
     "data": {
      "application/vnd.jupyter.widget-view+json": {
       "model_id": "5c2edf80db344122aa4d6b4128435eeb",
       "version_major": 2,
       "version_minor": 0
      },
      "text/plain": [
       "0/389           ETA: ?s - "
      ]
     },
     "metadata": {},
     "output_type": "display_data"
    },
    {
     "name": "stdout",
     "output_type": "stream",
     "text": [
      "Epoch 28/500\n"
     ]
    },
    {
     "data": {
      "application/vnd.jupyter.widget-view+json": {
       "model_id": "6821553fe2014c84a346cb69cc2abc1f",
       "version_major": 2,
       "version_minor": 0
      },
      "text/plain": [
       "0/389           ETA: ?s - "
      ]
     },
     "metadata": {},
     "output_type": "display_data"
    },
    {
     "name": "stdout",
     "output_type": "stream",
     "text": [
      "Epoch 29/500\n"
     ]
    },
    {
     "data": {
      "application/vnd.jupyter.widget-view+json": {
       "model_id": "21297c6379fb4e549b00afe185eaf096",
       "version_major": 2,
       "version_minor": 0
      },
      "text/plain": [
       "0/389           ETA: ?s - "
      ]
     },
     "metadata": {},
     "output_type": "display_data"
    },
    {
     "name": "stdout",
     "output_type": "stream",
     "text": [
      "Epoch 30/500\n"
     ]
    },
    {
     "data": {
      "application/vnd.jupyter.widget-view+json": {
       "model_id": "c8996d2986ff45cc9dc886d6bdb85a8b",
       "version_major": 2,
       "version_minor": 0
      },
      "text/plain": [
       "0/389           ETA: ?s - "
      ]
     },
     "metadata": {},
     "output_type": "display_data"
    },
    {
     "name": "stdout",
     "output_type": "stream",
     "text": [
      "Epoch 31/500\n"
     ]
    },
    {
     "data": {
      "application/vnd.jupyter.widget-view+json": {
       "model_id": "cd4f699dc9c44c92bbd145ca04c85c87",
       "version_major": 2,
       "version_minor": 0
      },
      "text/plain": [
       "0/389           ETA: ?s - "
      ]
     },
     "metadata": {},
     "output_type": "display_data"
    },
    {
     "name": "stdout",
     "output_type": "stream",
     "text": [
      "Epoch 32/500\n"
     ]
    },
    {
     "data": {
      "application/vnd.jupyter.widget-view+json": {
       "model_id": "28fb4bf9d4ef4e179fb2fd030d335055",
       "version_major": 2,
       "version_minor": 0
      },
      "text/plain": [
       "0/389           ETA: ?s - "
      ]
     },
     "metadata": {},
     "output_type": "display_data"
    },
    {
     "name": "stdout",
     "output_type": "stream",
     "text": [
      "Epoch 33/500\n"
     ]
    },
    {
     "data": {
      "application/vnd.jupyter.widget-view+json": {
       "model_id": "3fa80da99085484aa20b24d8babc9d27",
       "version_major": 2,
       "version_minor": 0
      },
      "text/plain": [
       "0/389           ETA: ?s - "
      ]
     },
     "metadata": {},
     "output_type": "display_data"
    },
    {
     "name": "stdout",
     "output_type": "stream",
     "text": [
      "Epoch 34/500\n"
     ]
    },
    {
     "data": {
      "application/vnd.jupyter.widget-view+json": {
       "model_id": "9620797d72c64a778c8ce23d587c3b45",
       "version_major": 2,
       "version_minor": 0
      },
      "text/plain": [
       "0/389           ETA: ?s - "
      ]
     },
     "metadata": {},
     "output_type": "display_data"
    },
    {
     "name": "stdout",
     "output_type": "stream",
     "text": [
      "Epoch 35/500\n"
     ]
    },
    {
     "data": {
      "application/vnd.jupyter.widget-view+json": {
       "model_id": "416417ce1eab4b4dac93f78bc39d8702",
       "version_major": 2,
       "version_minor": 0
      },
      "text/plain": [
       "0/389           ETA: ?s - "
      ]
     },
     "metadata": {},
     "output_type": "display_data"
    },
    {
     "name": "stdout",
     "output_type": "stream",
     "text": [
      "Epoch 36/500\n"
     ]
    },
    {
     "data": {
      "application/vnd.jupyter.widget-view+json": {
       "model_id": "9a73e8ba2f0745dd9c6a180e235bb15b",
       "version_major": 2,
       "version_minor": 0
      },
      "text/plain": [
       "0/389           ETA: ?s - "
      ]
     },
     "metadata": {},
     "output_type": "display_data"
    },
    {
     "name": "stdout",
     "output_type": "stream",
     "text": [
      "Epoch 37/500\n"
     ]
    },
    {
     "data": {
      "application/vnd.jupyter.widget-view+json": {
       "model_id": "0ac9cbbeceab47689dbfc970312b1c29",
       "version_major": 2,
       "version_minor": 0
      },
      "text/plain": [
       "0/389           ETA: ?s - "
      ]
     },
     "metadata": {},
     "output_type": "display_data"
    },
    {
     "name": "stdout",
     "output_type": "stream",
     "text": [
      "Epoch 38/500\n"
     ]
    },
    {
     "data": {
      "application/vnd.jupyter.widget-view+json": {
       "model_id": "ae416949c11947efabb30029e25801be",
       "version_major": 2,
       "version_minor": 0
      },
      "text/plain": [
       "0/389           ETA: ?s - "
      ]
     },
     "metadata": {},
     "output_type": "display_data"
    },
    {
     "name": "stdout",
     "output_type": "stream",
     "text": [
      "Epoch 39/500\n"
     ]
    },
    {
     "data": {
      "application/vnd.jupyter.widget-view+json": {
       "model_id": "58060b1d3c224f37b587d7a74efe129c",
       "version_major": 2,
       "version_minor": 0
      },
      "text/plain": [
       "0/389           ETA: ?s - "
      ]
     },
     "metadata": {},
     "output_type": "display_data"
    },
    {
     "name": "stdout",
     "output_type": "stream",
     "text": [
      "Epoch 40/500\n"
     ]
    },
    {
     "data": {
      "application/vnd.jupyter.widget-view+json": {
       "model_id": "710d1e1c8b884f76914e97e5d50ba0df",
       "version_major": 2,
       "version_minor": 0
      },
      "text/plain": [
       "0/389           ETA: ?s - "
      ]
     },
     "metadata": {},
     "output_type": "display_data"
    },
    {
     "name": "stdout",
     "output_type": "stream",
     "text": [
      "Epoch 41/500\n"
     ]
    },
    {
     "data": {
      "application/vnd.jupyter.widget-view+json": {
       "model_id": "f7e1400d0ec442d1aecb368a373b86d0",
       "version_major": 2,
       "version_minor": 0
      },
      "text/plain": [
       "0/389           ETA: ?s - "
      ]
     },
     "metadata": {},
     "output_type": "display_data"
    },
    {
     "name": "stdout",
     "output_type": "stream",
     "text": [
      "Epoch 42/500\n"
     ]
    },
    {
     "data": {
      "application/vnd.jupyter.widget-view+json": {
       "model_id": "764d789f10cd4b21bca3ecb6a0007690",
       "version_major": 2,
       "version_minor": 0
      },
      "text/plain": [
       "0/389           ETA: ?s - "
      ]
     },
     "metadata": {},
     "output_type": "display_data"
    },
    {
     "name": "stdout",
     "output_type": "stream",
     "text": [
      "Epoch 43/500\n"
     ]
    },
    {
     "data": {
      "application/vnd.jupyter.widget-view+json": {
       "model_id": "207c0b4d82e44ebcbf35850d4302f2e0",
       "version_major": 2,
       "version_minor": 0
      },
      "text/plain": [
       "0/389           ETA: ?s - "
      ]
     },
     "metadata": {},
     "output_type": "display_data"
    },
    {
     "name": "stdout",
     "output_type": "stream",
     "text": [
      "Epoch 44/500\n"
     ]
    },
    {
     "data": {
      "application/vnd.jupyter.widget-view+json": {
       "model_id": "ab0644b48615443f81adbbf53ab80b19",
       "version_major": 2,
       "version_minor": 0
      },
      "text/plain": [
       "0/389           ETA: ?s - "
      ]
     },
     "metadata": {},
     "output_type": "display_data"
    },
    {
     "name": "stdout",
     "output_type": "stream",
     "text": [
      "Epoch 45/500\n"
     ]
    },
    {
     "data": {
      "application/vnd.jupyter.widget-view+json": {
       "model_id": "2b044b1c50ff43558b4a481ba48adc53",
       "version_major": 2,
       "version_minor": 0
      },
      "text/plain": [
       "0/389           ETA: ?s - "
      ]
     },
     "metadata": {},
     "output_type": "display_data"
    },
    {
     "name": "stdout",
     "output_type": "stream",
     "text": [
      "Epoch 46/500\n"
     ]
    },
    {
     "data": {
      "application/vnd.jupyter.widget-view+json": {
       "model_id": "77f7618acb7d4886a42962c813b0edb0",
       "version_major": 2,
       "version_minor": 0
      },
      "text/plain": [
       "0/389           ETA: ?s - "
      ]
     },
     "metadata": {},
     "output_type": "display_data"
    },
    {
     "name": "stdout",
     "output_type": "stream",
     "text": [
      "Epoch 47/500\n"
     ]
    },
    {
     "data": {
      "application/vnd.jupyter.widget-view+json": {
       "model_id": "08ea7b1e71a746109798cdeca53350aa",
       "version_major": 2,
       "version_minor": 0
      },
      "text/plain": [
       "0/389           ETA: ?s - "
      ]
     },
     "metadata": {},
     "output_type": "display_data"
    },
    {
     "name": "stdout",
     "output_type": "stream",
     "text": [
      "Epoch 48/500\n"
     ]
    },
    {
     "data": {
      "application/vnd.jupyter.widget-view+json": {
       "model_id": "3a2b733ba48d46b0b8eb0cfecd06f208",
       "version_major": 2,
       "version_minor": 0
      },
      "text/plain": [
       "0/389           ETA: ?s - "
      ]
     },
     "metadata": {},
     "output_type": "display_data"
    },
    {
     "name": "stdout",
     "output_type": "stream",
     "text": [
      "Epoch 49/500\n"
     ]
    },
    {
     "data": {
      "application/vnd.jupyter.widget-view+json": {
       "model_id": "68983113c88c4a98affa0a7898d01d9c",
       "version_major": 2,
       "version_minor": 0
      },
      "text/plain": [
       "0/389           ETA: ?s - "
      ]
     },
     "metadata": {},
     "output_type": "display_data"
    },
    {
     "name": "stdout",
     "output_type": "stream",
     "text": [
      "Epoch 50/500\n"
     ]
    },
    {
     "data": {
      "application/vnd.jupyter.widget-view+json": {
       "model_id": "302948e226044ce099944920c8043ef5",
       "version_major": 2,
       "version_minor": 0
      },
      "text/plain": [
       "0/389           ETA: ?s - "
      ]
     },
     "metadata": {},
     "output_type": "display_data"
    },
    {
     "name": "stdout",
     "output_type": "stream",
     "text": [
      "Epoch 51/500\n"
     ]
    },
    {
     "data": {
      "application/vnd.jupyter.widget-view+json": {
       "model_id": "f0ced722fc264ce3bd1d79f78b590cbc",
       "version_major": 2,
       "version_minor": 0
      },
      "text/plain": [
       "0/389           ETA: ?s - "
      ]
     },
     "metadata": {},
     "output_type": "display_data"
    },
    {
     "name": "stdout",
     "output_type": "stream",
     "text": [
      "Epoch 52/500\n"
     ]
    },
    {
     "data": {
      "application/vnd.jupyter.widget-view+json": {
       "model_id": "d8f5e923800f4e41ad03c2eec860ced5",
       "version_major": 2,
       "version_minor": 0
      },
      "text/plain": [
       "0/389           ETA: ?s - "
      ]
     },
     "metadata": {},
     "output_type": "display_data"
    },
    {
     "name": "stdout",
     "output_type": "stream",
     "text": [
      "Epoch 53/500\n"
     ]
    },
    {
     "data": {
      "application/vnd.jupyter.widget-view+json": {
       "model_id": "3be4889b276b4bbcb9e3c38ce6d141b0",
       "version_major": 2,
       "version_minor": 0
      },
      "text/plain": [
       "0/389           ETA: ?s - "
      ]
     },
     "metadata": {},
     "output_type": "display_data"
    },
    {
     "name": "stdout",
     "output_type": "stream",
     "text": [
      "Epoch 54/500\n"
     ]
    },
    {
     "data": {
      "application/vnd.jupyter.widget-view+json": {
       "model_id": "80f8046f648e4dae81b964447e84e65a",
       "version_major": 2,
       "version_minor": 0
      },
      "text/plain": [
       "0/389           ETA: ?s - "
      ]
     },
     "metadata": {},
     "output_type": "display_data"
    },
    {
     "name": "stdout",
     "output_type": "stream",
     "text": [
      "Epoch 55/500\n"
     ]
    },
    {
     "data": {
      "application/vnd.jupyter.widget-view+json": {
       "model_id": "0d87e8e26cbf4e0296998c53b4dd3ce0",
       "version_major": 2,
       "version_minor": 0
      },
      "text/plain": [
       "0/389           ETA: ?s - "
      ]
     },
     "metadata": {},
     "output_type": "display_data"
    },
    {
     "name": "stdout",
     "output_type": "stream",
     "text": [
      "Epoch 56/500\n"
     ]
    },
    {
     "data": {
      "application/vnd.jupyter.widget-view+json": {
       "model_id": "8774276f134a41b48664d460cabd1352",
       "version_major": 2,
       "version_minor": 0
      },
      "text/plain": [
       "0/389           ETA: ?s - "
      ]
     },
     "metadata": {},
     "output_type": "display_data"
    },
    {
     "name": "stdout",
     "output_type": "stream",
     "text": [
      "Epoch 57/500\n"
     ]
    },
    {
     "data": {
      "application/vnd.jupyter.widget-view+json": {
       "model_id": "deec3a03638740df9b1b906319f66df5",
       "version_major": 2,
       "version_minor": 0
      },
      "text/plain": [
       "0/389           ETA: ?s - "
      ]
     },
     "metadata": {},
     "output_type": "display_data"
    },
    {
     "name": "stdout",
     "output_type": "stream",
     "text": [
      "Epoch 58/500\n"
     ]
    },
    {
     "data": {
      "application/vnd.jupyter.widget-view+json": {
       "model_id": "5dd7fc3ade804983a47b843d7857a9fc",
       "version_major": 2,
       "version_minor": 0
      },
      "text/plain": [
       "0/389           ETA: ?s - "
      ]
     },
     "metadata": {},
     "output_type": "display_data"
    },
    {
     "name": "stdout",
     "output_type": "stream",
     "text": [
      "Epoch 59/500\n"
     ]
    },
    {
     "data": {
      "application/vnd.jupyter.widget-view+json": {
       "model_id": "e70b8571ba684e78a7de3c0ef717d63f",
       "version_major": 2,
       "version_minor": 0
      },
      "text/plain": [
       "0/389           ETA: ?s - "
      ]
     },
     "metadata": {},
     "output_type": "display_data"
    },
    {
     "name": "stdout",
     "output_type": "stream",
     "text": [
      "Epoch 60/500\n"
     ]
    },
    {
     "data": {
      "application/vnd.jupyter.widget-view+json": {
       "model_id": "e352b866bf4049f283bb5894efb087a0",
       "version_major": 2,
       "version_minor": 0
      },
      "text/plain": [
       "0/389           ETA: ?s - "
      ]
     },
     "metadata": {},
     "output_type": "display_data"
    },
    {
     "name": "stdout",
     "output_type": "stream",
     "text": [
      "Epoch 61/500\n"
     ]
    },
    {
     "data": {
      "application/vnd.jupyter.widget-view+json": {
       "model_id": "c5891db1491a4317bcf2f9d2fabcbd9e",
       "version_major": 2,
       "version_minor": 0
      },
      "text/plain": [
       "0/389           ETA: ?s - "
      ]
     },
     "metadata": {},
     "output_type": "display_data"
    },
    {
     "name": "stdout",
     "output_type": "stream",
     "text": [
      "Epoch 62/500\n"
     ]
    },
    {
     "data": {
      "application/vnd.jupyter.widget-view+json": {
       "model_id": "133d58fd3a7f42fa91ea89b168061d59",
       "version_major": 2,
       "version_minor": 0
      },
      "text/plain": [
       "0/389           ETA: ?s - "
      ]
     },
     "metadata": {},
     "output_type": "display_data"
    },
    {
     "name": "stdout",
     "output_type": "stream",
     "text": [
      "Epoch 63/500\n"
     ]
    },
    {
     "data": {
      "application/vnd.jupyter.widget-view+json": {
       "model_id": "d38e25332ce9462da1686af979669fcd",
       "version_major": 2,
       "version_minor": 0
      },
      "text/plain": [
       "0/389           ETA: ?s - "
      ]
     },
     "metadata": {},
     "output_type": "display_data"
    },
    {
     "name": "stdout",
     "output_type": "stream",
     "text": [
      "Epoch 64/500\n"
     ]
    },
    {
     "data": {
      "application/vnd.jupyter.widget-view+json": {
       "model_id": "5d16d9c85c8a4dd09b0ac54c42054900",
       "version_major": 2,
       "version_minor": 0
      },
      "text/plain": [
       "0/389           ETA: ?s - "
      ]
     },
     "metadata": {},
     "output_type": "display_data"
    },
    {
     "name": "stdout",
     "output_type": "stream",
     "text": [
      "Epoch 65/500\n"
     ]
    },
    {
     "data": {
      "application/vnd.jupyter.widget-view+json": {
       "model_id": "86d187b120914bd8bf0910660314053c",
       "version_major": 2,
       "version_minor": 0
      },
      "text/plain": [
       "0/389           ETA: ?s - "
      ]
     },
     "metadata": {},
     "output_type": "display_data"
    },
    {
     "name": "stdout",
     "output_type": "stream",
     "text": [
      "Epoch 66/500\n"
     ]
    },
    {
     "data": {
      "application/vnd.jupyter.widget-view+json": {
       "model_id": "c34f04f391c349a19edd8bf940826e03",
       "version_major": 2,
       "version_minor": 0
      },
      "text/plain": [
       "0/389           ETA: ?s - "
      ]
     },
     "metadata": {},
     "output_type": "display_data"
    },
    {
     "name": "stdout",
     "output_type": "stream",
     "text": [
      "Epoch 67/500\n"
     ]
    },
    {
     "data": {
      "application/vnd.jupyter.widget-view+json": {
       "model_id": "b3d25cc99da2440ca1bc2443e5957ec6",
       "version_major": 2,
       "version_minor": 0
      },
      "text/plain": [
       "0/389           ETA: ?s - "
      ]
     },
     "metadata": {},
     "output_type": "display_data"
    },
    {
     "name": "stdout",
     "output_type": "stream",
     "text": [
      "Epoch 68/500\n"
     ]
    },
    {
     "data": {
      "application/vnd.jupyter.widget-view+json": {
       "model_id": "24a9e0ead63c4d07b17b9c2c058f3993",
       "version_major": 2,
       "version_minor": 0
      },
      "text/plain": [
       "0/389           ETA: ?s - "
      ]
     },
     "metadata": {},
     "output_type": "display_data"
    },
    {
     "name": "stdout",
     "output_type": "stream",
     "text": [
      "Epoch 69/500\n"
     ]
    },
    {
     "data": {
      "application/vnd.jupyter.widget-view+json": {
       "model_id": "302b030399d545cc843774af742d9fe0",
       "version_major": 2,
       "version_minor": 0
      },
      "text/plain": [
       "0/389           ETA: ?s - "
      ]
     },
     "metadata": {},
     "output_type": "display_data"
    },
    {
     "name": "stdout",
     "output_type": "stream",
     "text": [
      "Epoch 70/500\n"
     ]
    },
    {
     "data": {
      "application/vnd.jupyter.widget-view+json": {
       "model_id": "596413021e894a4599c27452d78e2edb",
       "version_major": 2,
       "version_minor": 0
      },
      "text/plain": [
       "0/389           ETA: ?s - "
      ]
     },
     "metadata": {},
     "output_type": "display_data"
    },
    {
     "name": "stdout",
     "output_type": "stream",
     "text": [
      "Epoch 71/500\n"
     ]
    },
    {
     "data": {
      "application/vnd.jupyter.widget-view+json": {
       "model_id": "20592c3c291f4771b95a6c461651bf82",
       "version_major": 2,
       "version_minor": 0
      },
      "text/plain": [
       "0/389           ETA: ?s - "
      ]
     },
     "metadata": {},
     "output_type": "display_data"
    },
    {
     "name": "stdout",
     "output_type": "stream",
     "text": [
      "Epoch 72/500\n"
     ]
    },
    {
     "data": {
      "application/vnd.jupyter.widget-view+json": {
       "model_id": "645699eb48d74d18ba43beffc2ce7a5b",
       "version_major": 2,
       "version_minor": 0
      },
      "text/plain": [
       "0/389           ETA: ?s - "
      ]
     },
     "metadata": {},
     "output_type": "display_data"
    },
    {
     "name": "stdout",
     "output_type": "stream",
     "text": [
      "Epoch 73/500\n"
     ]
    },
    {
     "data": {
      "application/vnd.jupyter.widget-view+json": {
       "model_id": "1eb7c6bf259d413fa7a901e1696408e5",
       "version_major": 2,
       "version_minor": 0
      },
      "text/plain": [
       "0/389           ETA: ?s - "
      ]
     },
     "metadata": {},
     "output_type": "display_data"
    },
    {
     "name": "stdout",
     "output_type": "stream",
     "text": [
      "Epoch 74/500\n"
     ]
    },
    {
     "data": {
      "application/vnd.jupyter.widget-view+json": {
       "model_id": "a7443bb866044b338ae6221163ff0c8b",
       "version_major": 2,
       "version_minor": 0
      },
      "text/plain": [
       "0/389           ETA: ?s - "
      ]
     },
     "metadata": {},
     "output_type": "display_data"
    },
    {
     "name": "stdout",
     "output_type": "stream",
     "text": [
      "Epoch 75/500\n"
     ]
    },
    {
     "data": {
      "application/vnd.jupyter.widget-view+json": {
       "model_id": "8081d54a11a44083977bfdd40694e5af",
       "version_major": 2,
       "version_minor": 0
      },
      "text/plain": [
       "0/389           ETA: ?s - "
      ]
     },
     "metadata": {},
     "output_type": "display_data"
    },
    {
     "name": "stdout",
     "output_type": "stream",
     "text": [
      "Epoch 76/500\n"
     ]
    },
    {
     "data": {
      "application/vnd.jupyter.widget-view+json": {
       "model_id": "41f5e71f78144f2796cad0423c33b006",
       "version_major": 2,
       "version_minor": 0
      },
      "text/plain": [
       "0/389           ETA: ?s - "
      ]
     },
     "metadata": {},
     "output_type": "display_data"
    },
    {
     "name": "stdout",
     "output_type": "stream",
     "text": [
      "Epoch 77/500\n"
     ]
    },
    {
     "data": {
      "application/vnd.jupyter.widget-view+json": {
       "model_id": "0ec4899519c4493ab2f773bf0ef6c75a",
       "version_major": 2,
       "version_minor": 0
      },
      "text/plain": [
       "0/389           ETA: ?s - "
      ]
     },
     "metadata": {},
     "output_type": "display_data"
    },
    {
     "name": "stdout",
     "output_type": "stream",
     "text": [
      "Epoch 78/500\n"
     ]
    },
    {
     "data": {
      "application/vnd.jupyter.widget-view+json": {
       "model_id": "dead3e3bfa9f4173a658fd2d90f0ea78",
       "version_major": 2,
       "version_minor": 0
      },
      "text/plain": [
       "0/389           ETA: ?s - "
      ]
     },
     "metadata": {},
     "output_type": "display_data"
    },
    {
     "name": "stdout",
     "output_type": "stream",
     "text": [
      "Epoch 79/500\n"
     ]
    },
    {
     "data": {
      "application/vnd.jupyter.widget-view+json": {
       "model_id": "3eac263cf9374ae59e186800da071278",
       "version_major": 2,
       "version_minor": 0
      },
      "text/plain": [
       "0/389           ETA: ?s - "
      ]
     },
     "metadata": {},
     "output_type": "display_data"
    },
    {
     "name": "stdout",
     "output_type": "stream",
     "text": [
      "Epoch 80/500\n"
     ]
    },
    {
     "data": {
      "application/vnd.jupyter.widget-view+json": {
       "model_id": "8a635a3639be4d9995bcb7f9ac0c0db1",
       "version_major": 2,
       "version_minor": 0
      },
      "text/plain": [
       "0/389           ETA: ?s - "
      ]
     },
     "metadata": {},
     "output_type": "display_data"
    },
    {
     "name": "stdout",
     "output_type": "stream",
     "text": [
      "Epoch 81/500\n"
     ]
    },
    {
     "data": {
      "application/vnd.jupyter.widget-view+json": {
       "model_id": "177eaba5c48e4b3cb30f4b48e1949e5b",
       "version_major": 2,
       "version_minor": 0
      },
      "text/plain": [
       "0/389           ETA: ?s - "
      ]
     },
     "metadata": {},
     "output_type": "display_data"
    },
    {
     "name": "stdout",
     "output_type": "stream",
     "text": [
      "Epoch 82/500\n"
     ]
    },
    {
     "data": {
      "application/vnd.jupyter.widget-view+json": {
       "model_id": "6c29ee726d3e4de0ab6de55f179db57b",
       "version_major": 2,
       "version_minor": 0
      },
      "text/plain": [
       "0/389           ETA: ?s - "
      ]
     },
     "metadata": {},
     "output_type": "display_data"
    },
    {
     "name": "stdout",
     "output_type": "stream",
     "text": [
      "Epoch 83/500\n"
     ]
    },
    {
     "data": {
      "application/vnd.jupyter.widget-view+json": {
       "model_id": "0784dfd0fcb0445b8dccf1a591697f6c",
       "version_major": 2,
       "version_minor": 0
      },
      "text/plain": [
       "0/389           ETA: ?s - "
      ]
     },
     "metadata": {},
     "output_type": "display_data"
    },
    {
     "name": "stdout",
     "output_type": "stream",
     "text": [
      "Epoch 84/500\n"
     ]
    },
    {
     "data": {
      "application/vnd.jupyter.widget-view+json": {
       "model_id": "8fff79d5b0dd4d0491e4ccfd721503e6",
       "version_major": 2,
       "version_minor": 0
      },
      "text/plain": [
       "0/389           ETA: ?s - "
      ]
     },
     "metadata": {},
     "output_type": "display_data"
    },
    {
     "name": "stdout",
     "output_type": "stream",
     "text": [
      "Epoch 85/500\n"
     ]
    },
    {
     "data": {
      "application/vnd.jupyter.widget-view+json": {
       "model_id": "a08517d8e12a4ffca36216e00fd916a8",
       "version_major": 2,
       "version_minor": 0
      },
      "text/plain": [
       "0/389           ETA: ?s - "
      ]
     },
     "metadata": {},
     "output_type": "display_data"
    },
    {
     "name": "stdout",
     "output_type": "stream",
     "text": [
      "Epoch 86/500\n"
     ]
    },
    {
     "data": {
      "application/vnd.jupyter.widget-view+json": {
       "model_id": "9fe578d1abcc4a009d59d69aa86e3f70",
       "version_major": 2,
       "version_minor": 0
      },
      "text/plain": [
       "0/389           ETA: ?s - "
      ]
     },
     "metadata": {},
     "output_type": "display_data"
    },
    {
     "name": "stdout",
     "output_type": "stream",
     "text": [
      "Epoch 87/500\n"
     ]
    },
    {
     "data": {
      "application/vnd.jupyter.widget-view+json": {
       "model_id": "dec33f0aa89946c3b7a6aa1f16ed7ea6",
       "version_major": 2,
       "version_minor": 0
      },
      "text/plain": [
       "0/389           ETA: ?s - "
      ]
     },
     "metadata": {},
     "output_type": "display_data"
    },
    {
     "name": "stdout",
     "output_type": "stream",
     "text": [
      "Epoch 88/500\n"
     ]
    },
    {
     "data": {
      "application/vnd.jupyter.widget-view+json": {
       "model_id": "02c61cc9d8a44487a30a3f4bfbae6ec2",
       "version_major": 2,
       "version_minor": 0
      },
      "text/plain": [
       "0/389           ETA: ?s - "
      ]
     },
     "metadata": {},
     "output_type": "display_data"
    },
    {
     "name": "stdout",
     "output_type": "stream",
     "text": [
      "Epoch 89/500\n"
     ]
    },
    {
     "data": {
      "application/vnd.jupyter.widget-view+json": {
       "model_id": "219cdfd7a67640fc821f683cc4f4e226",
       "version_major": 2,
       "version_minor": 0
      },
      "text/plain": [
       "0/389           ETA: ?s - "
      ]
     },
     "metadata": {},
     "output_type": "display_data"
    },
    {
     "name": "stdout",
     "output_type": "stream",
     "text": [
      "Epoch 90/500\n"
     ]
    },
    {
     "data": {
      "application/vnd.jupyter.widget-view+json": {
       "model_id": "8bb397b14c874551ad572ff676172dab",
       "version_major": 2,
       "version_minor": 0
      },
      "text/plain": [
       "0/389           ETA: ?s - "
      ]
     },
     "metadata": {},
     "output_type": "display_data"
    },
    {
     "name": "stdout",
     "output_type": "stream",
     "text": [
      "Epoch 91/500\n"
     ]
    },
    {
     "data": {
      "application/vnd.jupyter.widget-view+json": {
       "model_id": "6aee0c86e3fe4f8384a73eca2dd28ff1",
       "version_major": 2,
       "version_minor": 0
      },
      "text/plain": [
       "0/389           ETA: ?s - "
      ]
     },
     "metadata": {},
     "output_type": "display_data"
    },
    {
     "name": "stdout",
     "output_type": "stream",
     "text": [
      "Epoch 92/500\n"
     ]
    },
    {
     "data": {
      "application/vnd.jupyter.widget-view+json": {
       "model_id": "39b9f783c5cb4f9b9849a4f01d8fa3ca",
       "version_major": 2,
       "version_minor": 0
      },
      "text/plain": [
       "0/389           ETA: ?s - "
      ]
     },
     "metadata": {},
     "output_type": "display_data"
    },
    {
     "name": "stdout",
     "output_type": "stream",
     "text": [
      "Epoch 93/500\n"
     ]
    },
    {
     "data": {
      "application/vnd.jupyter.widget-view+json": {
       "model_id": "effc32ad029b4f0ab4e87a7d62b94221",
       "version_major": 2,
       "version_minor": 0
      },
      "text/plain": [
       "0/389           ETA: ?s - "
      ]
     },
     "metadata": {},
     "output_type": "display_data"
    },
    {
     "name": "stdout",
     "output_type": "stream",
     "text": [
      "Epoch 94/500\n"
     ]
    },
    {
     "data": {
      "application/vnd.jupyter.widget-view+json": {
       "model_id": "1b43b6cc64b8407cb488fe6318269c90",
       "version_major": 2,
       "version_minor": 0
      },
      "text/plain": [
       "0/389           ETA: ?s - "
      ]
     },
     "metadata": {},
     "output_type": "display_data"
    },
    {
     "name": "stdout",
     "output_type": "stream",
     "text": [
      "Epoch 95/500\n"
     ]
    },
    {
     "data": {
      "application/vnd.jupyter.widget-view+json": {
       "model_id": "45d06799a79c4ccea774c6e48e7a2e98",
       "version_major": 2,
       "version_minor": 0
      },
      "text/plain": [
       "0/389           ETA: ?s - "
      ]
     },
     "metadata": {},
     "output_type": "display_data"
    },
    {
     "name": "stdout",
     "output_type": "stream",
     "text": [
      "Epoch 96/500\n"
     ]
    },
    {
     "data": {
      "application/vnd.jupyter.widget-view+json": {
       "model_id": "62922f9c77074238b702533d2868d9a0",
       "version_major": 2,
       "version_minor": 0
      },
      "text/plain": [
       "0/389           ETA: ?s - "
      ]
     },
     "metadata": {},
     "output_type": "display_data"
    },
    {
     "name": "stdout",
     "output_type": "stream",
     "text": [
      "Epoch 97/500\n"
     ]
    },
    {
     "data": {
      "application/vnd.jupyter.widget-view+json": {
       "model_id": "b42696f72a5d480c8f45899a0675ed95",
       "version_major": 2,
       "version_minor": 0
      },
      "text/plain": [
       "0/389           ETA: ?s - "
      ]
     },
     "metadata": {},
     "output_type": "display_data"
    },
    {
     "name": "stdout",
     "output_type": "stream",
     "text": [
      "Epoch 98/500\n"
     ]
    },
    {
     "data": {
      "application/vnd.jupyter.widget-view+json": {
       "model_id": "e15225a61e35418aa820e6d1ecd16e3b",
       "version_major": 2,
       "version_minor": 0
      },
      "text/plain": [
       "0/389           ETA: ?s - "
      ]
     },
     "metadata": {},
     "output_type": "display_data"
    },
    {
     "name": "stdout",
     "output_type": "stream",
     "text": [
      "Epoch 99/500\n"
     ]
    },
    {
     "data": {
      "application/vnd.jupyter.widget-view+json": {
       "model_id": "c0c0d4ba37a44f7aa7f914d134d0aaf4",
       "version_major": 2,
       "version_minor": 0
      },
      "text/plain": [
       "0/389           ETA: ?s - "
      ]
     },
     "metadata": {},
     "output_type": "display_data"
    },
    {
     "name": "stdout",
     "output_type": "stream",
     "text": [
      "Epoch 100/500\n"
     ]
    },
    {
     "data": {
      "application/vnd.jupyter.widget-view+json": {
       "model_id": "c7b22434d3814382a3cd6c4709428830",
       "version_major": 2,
       "version_minor": 0
      },
      "text/plain": [
       "0/389           ETA: ?s - "
      ]
     },
     "metadata": {},
     "output_type": "display_data"
    },
    {
     "name": "stdout",
     "output_type": "stream",
     "text": [
      "Epoch 101/500\n"
     ]
    },
    {
     "data": {
      "application/vnd.jupyter.widget-view+json": {
       "model_id": "0f7ff027d8424a84bbe4c526b5425b34",
       "version_major": 2,
       "version_minor": 0
      },
      "text/plain": [
       "0/389           ETA: ?s - "
      ]
     },
     "metadata": {},
     "output_type": "display_data"
    },
    {
     "name": "stdout",
     "output_type": "stream",
     "text": [
      "Epoch 102/500\n"
     ]
    },
    {
     "data": {
      "application/vnd.jupyter.widget-view+json": {
       "model_id": "5651c2ae56814dd8abf163442bfb5c60",
       "version_major": 2,
       "version_minor": 0
      },
      "text/plain": [
       "0/389           ETA: ?s - "
      ]
     },
     "metadata": {},
     "output_type": "display_data"
    },
    {
     "name": "stdout",
     "output_type": "stream",
     "text": [
      "Epoch 103/500\n"
     ]
    },
    {
     "data": {
      "application/vnd.jupyter.widget-view+json": {
       "model_id": "129856037b144c4abf4760b646093a3f",
       "version_major": 2,
       "version_minor": 0
      },
      "text/plain": [
       "0/389           ETA: ?s - "
      ]
     },
     "metadata": {},
     "output_type": "display_data"
    },
    {
     "name": "stdout",
     "output_type": "stream",
     "text": [
      "Epoch 104/500\n"
     ]
    },
    {
     "data": {
      "application/vnd.jupyter.widget-view+json": {
       "model_id": "8d9eeecbcb2645f396750b90e6edc571",
       "version_major": 2,
       "version_minor": 0
      },
      "text/plain": [
       "0/389           ETA: ?s - "
      ]
     },
     "metadata": {},
     "output_type": "display_data"
    },
    {
     "name": "stdout",
     "output_type": "stream",
     "text": [
      "Epoch 105/500\n"
     ]
    },
    {
     "data": {
      "application/vnd.jupyter.widget-view+json": {
       "model_id": "87852e8dcae54a5582c421674afca17b",
       "version_major": 2,
       "version_minor": 0
      },
      "text/plain": [
       "0/389           ETA: ?s - "
      ]
     },
     "metadata": {},
     "output_type": "display_data"
    },
    {
     "name": "stdout",
     "output_type": "stream",
     "text": [
      "Epoch 106/500\n"
     ]
    },
    {
     "data": {
      "application/vnd.jupyter.widget-view+json": {
       "model_id": "c597884abf6c4541aafd84aec21916e7",
       "version_major": 2,
       "version_minor": 0
      },
      "text/plain": [
       "0/389           ETA: ?s - "
      ]
     },
     "metadata": {},
     "output_type": "display_data"
    },
    {
     "name": "stdout",
     "output_type": "stream",
     "text": [
      "Epoch 107/500\n"
     ]
    },
    {
     "data": {
      "application/vnd.jupyter.widget-view+json": {
       "model_id": "ad9ed80f53634881a69d6b4762cc67f7",
       "version_major": 2,
       "version_minor": 0
      },
      "text/plain": [
       "0/389           ETA: ?s - "
      ]
     },
     "metadata": {},
     "output_type": "display_data"
    },
    {
     "name": "stdout",
     "output_type": "stream",
     "text": [
      "Epoch 108/500\n"
     ]
    },
    {
     "data": {
      "application/vnd.jupyter.widget-view+json": {
       "model_id": "f209b080658b45618ed91d482a955589",
       "version_major": 2,
       "version_minor": 0
      },
      "text/plain": [
       "0/389           ETA: ?s - "
      ]
     },
     "metadata": {},
     "output_type": "display_data"
    },
    {
     "name": "stdout",
     "output_type": "stream",
     "text": [
      "Epoch 109/500\n"
     ]
    },
    {
     "data": {
      "application/vnd.jupyter.widget-view+json": {
       "model_id": "dd54c7f27d6542b0bc1c1417620bfa32",
       "version_major": 2,
       "version_minor": 0
      },
      "text/plain": [
       "0/389           ETA: ?s - "
      ]
     },
     "metadata": {},
     "output_type": "display_data"
    },
    {
     "name": "stdout",
     "output_type": "stream",
     "text": [
      "Epoch 110/500\n"
     ]
    },
    {
     "data": {
      "application/vnd.jupyter.widget-view+json": {
       "model_id": "8b13d2668b924194ac743db460ff78e4",
       "version_major": 2,
       "version_minor": 0
      },
      "text/plain": [
       "0/389           ETA: ?s - "
      ]
     },
     "metadata": {},
     "output_type": "display_data"
    },
    {
     "name": "stdout",
     "output_type": "stream",
     "text": [
      "Epoch 111/500\n"
     ]
    },
    {
     "data": {
      "application/vnd.jupyter.widget-view+json": {
       "model_id": "ac75a218c3e640c39ae563603882026c",
       "version_major": 2,
       "version_minor": 0
      },
      "text/plain": [
       "0/389           ETA: ?s - "
      ]
     },
     "metadata": {},
     "output_type": "display_data"
    },
    {
     "name": "stdout",
     "output_type": "stream",
     "text": [
      "Epoch 112/500\n"
     ]
    },
    {
     "data": {
      "application/vnd.jupyter.widget-view+json": {
       "model_id": "226c7a4f94fc43788927271bf6b20afb",
       "version_major": 2,
       "version_minor": 0
      },
      "text/plain": [
       "0/389           ETA: ?s - "
      ]
     },
     "metadata": {},
     "output_type": "display_data"
    },
    {
     "name": "stdout",
     "output_type": "stream",
     "text": [
      "Epoch 113/500\n"
     ]
    },
    {
     "data": {
      "application/vnd.jupyter.widget-view+json": {
       "model_id": "8b0c11a4783c462899997dad780204ed",
       "version_major": 2,
       "version_minor": 0
      },
      "text/plain": [
       "0/389           ETA: ?s - "
      ]
     },
     "metadata": {},
     "output_type": "display_data"
    },
    {
     "name": "stdout",
     "output_type": "stream",
     "text": [
      "Epoch 114/500\n"
     ]
    },
    {
     "data": {
      "application/vnd.jupyter.widget-view+json": {
       "model_id": "7a5dab71157d4f5296d823df0d191c93",
       "version_major": 2,
       "version_minor": 0
      },
      "text/plain": [
       "0/389           ETA: ?s - "
      ]
     },
     "metadata": {},
     "output_type": "display_data"
    },
    {
     "name": "stdout",
     "output_type": "stream",
     "text": [
      "Epoch 115/500\n"
     ]
    },
    {
     "data": {
      "application/vnd.jupyter.widget-view+json": {
       "model_id": "5fa201fa3fdf43969e3d9d979f722fb2",
       "version_major": 2,
       "version_minor": 0
      },
      "text/plain": [
       "0/389           ETA: ?s - "
      ]
     },
     "metadata": {},
     "output_type": "display_data"
    },
    {
     "name": "stdout",
     "output_type": "stream",
     "text": [
      "Epoch 116/500\n"
     ]
    },
    {
     "data": {
      "application/vnd.jupyter.widget-view+json": {
       "model_id": "d3bddbe2812b479e933b0647654fb792",
       "version_major": 2,
       "version_minor": 0
      },
      "text/plain": [
       "0/389           ETA: ?s - "
      ]
     },
     "metadata": {},
     "output_type": "display_data"
    },
    {
     "name": "stdout",
     "output_type": "stream",
     "text": [
      "Epoch 117/500\n"
     ]
    },
    {
     "data": {
      "application/vnd.jupyter.widget-view+json": {
       "model_id": "802cadece3064938b7e171d0509e2a06",
       "version_major": 2,
       "version_minor": 0
      },
      "text/plain": [
       "0/389           ETA: ?s - "
      ]
     },
     "metadata": {},
     "output_type": "display_data"
    },
    {
     "name": "stdout",
     "output_type": "stream",
     "text": [
      "Epoch 118/500\n"
     ]
    },
    {
     "data": {
      "application/vnd.jupyter.widget-view+json": {
       "model_id": "24dfb86502464e0fbf79c0d835d8d9d4",
       "version_major": 2,
       "version_minor": 0
      },
      "text/plain": [
       "0/389           ETA: ?s - "
      ]
     },
     "metadata": {},
     "output_type": "display_data"
    },
    {
     "name": "stdout",
     "output_type": "stream",
     "text": [
      "Epoch 119/500\n"
     ]
    },
    {
     "data": {
      "application/vnd.jupyter.widget-view+json": {
       "model_id": "43f4bdc1c15f4de8becbefdf6408b5cc",
       "version_major": 2,
       "version_minor": 0
      },
      "text/plain": [
       "0/389           ETA: ?s - "
      ]
     },
     "metadata": {},
     "output_type": "display_data"
    },
    {
     "name": "stdout",
     "output_type": "stream",
     "text": [
      "Epoch 120/500\n"
     ]
    },
    {
     "data": {
      "application/vnd.jupyter.widget-view+json": {
       "model_id": "e3e0bf33cfb9491faaf53cf4a3762578",
       "version_major": 2,
       "version_minor": 0
      },
      "text/plain": [
       "0/389           ETA: ?s - "
      ]
     },
     "metadata": {},
     "output_type": "display_data"
    },
    {
     "name": "stdout",
     "output_type": "stream",
     "text": [
      "Epoch 121/500\n"
     ]
    },
    {
     "data": {
      "application/vnd.jupyter.widget-view+json": {
       "model_id": "10b7cc9d68314749a0d9333f3e48696b",
       "version_major": 2,
       "version_minor": 0
      },
      "text/plain": [
       "0/389           ETA: ?s - "
      ]
     },
     "metadata": {},
     "output_type": "display_data"
    },
    {
     "name": "stdout",
     "output_type": "stream",
     "text": [
      "Epoch 122/500\n"
     ]
    },
    {
     "data": {
      "application/vnd.jupyter.widget-view+json": {
       "model_id": "c9401f239b4448c8bc720d0fdc42234a",
       "version_major": 2,
       "version_minor": 0
      },
      "text/plain": [
       "0/389           ETA: ?s - "
      ]
     },
     "metadata": {},
     "output_type": "display_data"
    },
    {
     "name": "stdout",
     "output_type": "stream",
     "text": [
      "Epoch 123/500\n"
     ]
    },
    {
     "data": {
      "application/vnd.jupyter.widget-view+json": {
       "model_id": "5ec359b1359c42d0ad6379137d49cf3e",
       "version_major": 2,
       "version_minor": 0
      },
      "text/plain": [
       "0/389           ETA: ?s - "
      ]
     },
     "metadata": {},
     "output_type": "display_data"
    },
    {
     "name": "stdout",
     "output_type": "stream",
     "text": [
      "Epoch 124/500\n"
     ]
    },
    {
     "data": {
      "application/vnd.jupyter.widget-view+json": {
       "model_id": "256cd07d0ccd49918be0d09b9ad0e5eb",
       "version_major": 2,
       "version_minor": 0
      },
      "text/plain": [
       "0/389           ETA: ?s - "
      ]
     },
     "metadata": {},
     "output_type": "display_data"
    },
    {
     "name": "stdout",
     "output_type": "stream",
     "text": [
      "Epoch 125/500\n"
     ]
    },
    {
     "data": {
      "application/vnd.jupyter.widget-view+json": {
       "model_id": "fc14cd39a642417bbbc1eb4dd496b9d3",
       "version_major": 2,
       "version_minor": 0
      },
      "text/plain": [
       "0/389           ETA: ?s - "
      ]
     },
     "metadata": {},
     "output_type": "display_data"
    },
    {
     "name": "stdout",
     "output_type": "stream",
     "text": [
      "Epoch 126/500\n"
     ]
    },
    {
     "data": {
      "application/vnd.jupyter.widget-view+json": {
       "model_id": "994e24aa9f6441e7b61fbe2ea220e0f6",
       "version_major": 2,
       "version_minor": 0
      },
      "text/plain": [
       "0/389           ETA: ?s - "
      ]
     },
     "metadata": {},
     "output_type": "display_data"
    },
    {
     "name": "stdout",
     "output_type": "stream",
     "text": [
      "Epoch 127/500\n"
     ]
    },
    {
     "data": {
      "application/vnd.jupyter.widget-view+json": {
       "model_id": "42bd2fa569134cc2a51035526447b205",
       "version_major": 2,
       "version_minor": 0
      },
      "text/plain": [
       "0/389           ETA: ?s - "
      ]
     },
     "metadata": {},
     "output_type": "display_data"
    },
    {
     "name": "stdout",
     "output_type": "stream",
     "text": [
      "Epoch 128/500\n"
     ]
    },
    {
     "data": {
      "application/vnd.jupyter.widget-view+json": {
       "model_id": "5b289c2648ec499483ece36f9c8ccb85",
       "version_major": 2,
       "version_minor": 0
      },
      "text/plain": [
       "0/389           ETA: ?s - "
      ]
     },
     "metadata": {},
     "output_type": "display_data"
    },
    {
     "name": "stdout",
     "output_type": "stream",
     "text": [
      "Epoch 129/500\n"
     ]
    },
    {
     "data": {
      "application/vnd.jupyter.widget-view+json": {
       "model_id": "e9085baa1d504a15ac374bb565a2a7d1",
       "version_major": 2,
       "version_minor": 0
      },
      "text/plain": [
       "0/389           ETA: ?s - "
      ]
     },
     "metadata": {},
     "output_type": "display_data"
    },
    {
     "name": "stdout",
     "output_type": "stream",
     "text": [
      "Epoch 130/500\n"
     ]
    },
    {
     "data": {
      "application/vnd.jupyter.widget-view+json": {
       "model_id": "7a52f2f482cd4e26a9349f3b6089f9ff",
       "version_major": 2,
       "version_minor": 0
      },
      "text/plain": [
       "0/389           ETA: ?s - "
      ]
     },
     "metadata": {},
     "output_type": "display_data"
    },
    {
     "name": "stdout",
     "output_type": "stream",
     "text": [
      "Epoch 131/500\n"
     ]
    },
    {
     "data": {
      "application/vnd.jupyter.widget-view+json": {
       "model_id": "0e0212c726a74e81a22114298f70516e",
       "version_major": 2,
       "version_minor": 0
      },
      "text/plain": [
       "0/389           ETA: ?s - "
      ]
     },
     "metadata": {},
     "output_type": "display_data"
    },
    {
     "name": "stdout",
     "output_type": "stream",
     "text": [
      "Epoch 132/500\n"
     ]
    },
    {
     "data": {
      "application/vnd.jupyter.widget-view+json": {
       "model_id": "1175bd8885bb4936b5abc43b3a61ec10",
       "version_major": 2,
       "version_minor": 0
      },
      "text/plain": [
       "0/389           ETA: ?s - "
      ]
     },
     "metadata": {},
     "output_type": "display_data"
    },
    {
     "name": "stdout",
     "output_type": "stream",
     "text": [
      "Epoch 133/500\n"
     ]
    },
    {
     "data": {
      "application/vnd.jupyter.widget-view+json": {
       "model_id": "5aa077d79a4145e583bcb7ea17501ab3",
       "version_major": 2,
       "version_minor": 0
      },
      "text/plain": [
       "0/389           ETA: ?s - "
      ]
     },
     "metadata": {},
     "output_type": "display_data"
    },
    {
     "name": "stdout",
     "output_type": "stream",
     "text": [
      "Epoch 134/500\n"
     ]
    },
    {
     "data": {
      "application/vnd.jupyter.widget-view+json": {
       "model_id": "ceb420213de14b6786e4c77228e83f0e",
       "version_major": 2,
       "version_minor": 0
      },
      "text/plain": [
       "0/389           ETA: ?s - "
      ]
     },
     "metadata": {},
     "output_type": "display_data"
    },
    {
     "name": "stdout",
     "output_type": "stream",
     "text": [
      "Epoch 135/500\n"
     ]
    },
    {
     "data": {
      "application/vnd.jupyter.widget-view+json": {
       "model_id": "faf58f437e594911bf8687ccba132d4f",
       "version_major": 2,
       "version_minor": 0
      },
      "text/plain": [
       "0/389           ETA: ?s - "
      ]
     },
     "metadata": {},
     "output_type": "display_data"
    },
    {
     "name": "stdout",
     "output_type": "stream",
     "text": [
      "Epoch 136/500\n"
     ]
    },
    {
     "data": {
      "application/vnd.jupyter.widget-view+json": {
       "model_id": "a5aadf3fbdff46659f51de31a3afef8c",
       "version_major": 2,
       "version_minor": 0
      },
      "text/plain": [
       "0/389           ETA: ?s - "
      ]
     },
     "metadata": {},
     "output_type": "display_data"
    },
    {
     "name": "stdout",
     "output_type": "stream",
     "text": [
      "Epoch 137/500\n"
     ]
    },
    {
     "data": {
      "application/vnd.jupyter.widget-view+json": {
       "model_id": "00ae7dfd64fc480c903a0be42e9a7f00",
       "version_major": 2,
       "version_minor": 0
      },
      "text/plain": [
       "0/389           ETA: ?s - "
      ]
     },
     "metadata": {},
     "output_type": "display_data"
    },
    {
     "name": "stdout",
     "output_type": "stream",
     "text": [
      "Epoch 138/500\n"
     ]
    },
    {
     "data": {
      "application/vnd.jupyter.widget-view+json": {
       "model_id": "e44b87704730428587632edecdfc1df9",
       "version_major": 2,
       "version_minor": 0
      },
      "text/plain": [
       "0/389           ETA: ?s - "
      ]
     },
     "metadata": {},
     "output_type": "display_data"
    },
    {
     "name": "stdout",
     "output_type": "stream",
     "text": [
      "Epoch 139/500\n"
     ]
    },
    {
     "data": {
      "application/vnd.jupyter.widget-view+json": {
       "model_id": "82b0e80433e84cbeae71c1d4e4ab36f3",
       "version_major": 2,
       "version_minor": 0
      },
      "text/plain": [
       "0/389           ETA: ?s - "
      ]
     },
     "metadata": {},
     "output_type": "display_data"
    },
    {
     "name": "stdout",
     "output_type": "stream",
     "text": [
      "Epoch 140/500\n"
     ]
    },
    {
     "data": {
      "application/vnd.jupyter.widget-view+json": {
       "model_id": "1a75d1fedeaf453cbdec6e780c262af5",
       "version_major": 2,
       "version_minor": 0
      },
      "text/plain": [
       "0/389           ETA: ?s - "
      ]
     },
     "metadata": {},
     "output_type": "display_data"
    },
    {
     "name": "stdout",
     "output_type": "stream",
     "text": [
      "Epoch 140: early stopping\n",
      "INFO:tensorflow:Assets written to: /tmp/tmp6liylo9r/model/data/model/assets\n",
      "CPU times: user 9min 10s, sys: 1min 32s, total: 10min 42s\n",
      "Wall time: 6min 47s\n"
     ]
    }
   ],
   "source": [
    "%%time\n",
    "with mlflow.start_run():\n",
    "    mlflow.log_params({\n",
    "        \"classes\": classes,\n",
    "        \"equalized\": EQUALIZE,\n",
    "        \"test slide\": test_slide,\n",
    "        \"x_train_shape\": x_train.shape,\n",
    "        \"y_train_shape\": y_train.shape,\n",
    "        \"x_test_shape\": x_test.shape,\n",
    "        \"y_test_shape\": y_test.shape\n",
    "    })\n",
    "\n",
    "    model = keras.Sequential([\n",
    "        keras.layers.Input(shape=(x_train.shape[1])),\n",
    "        keras.layers.Dense(512, activation=\"relu\"),\n",
    "        keras.layers.Dense(512, activation=\"relu\"),\n",
    "        keras.layers.Dense(len(classes), activation=\"softmax\")\n",
    "    ])\n",
    "    model.compile(\n",
    "        optimizer=keras.optimizers.Adam(learning_rate=keras.optimizers.schedules.ExponentialDecay(\n",
    "            .001,\n",
    "            decay_steps=1e4,\n",
    "            decay_rate=0.96,\n",
    "            staircase=True\n",
    "        )),\n",
    "        loss=keras.losses.CategoricalCrossentropy(),\n",
    "        metrics=[keras.metrics.CategoricalAccuracy()],\n",
    "    )\n",
    "    print(model.summary())\n",
    "    history = model.fit(x_train,\n",
    "                        y_train,\n",
    "                        batch_size=BATCH_SIZE,\n",
    "                        validation_data=(x_test, y_test),\n",
    "                        epochs=500,\n",
    "                        verbose=0,\n",
    "                        class_weight=class_weights,\n",
    "                        callbacks=[\n",
    "                            keras.callbacks.EarlyStopping(monitor='val_categorical_accuracy',patience=50, verbose=1),\n",
    "                            tfa.callbacks.TQDMProgressBar()\n",
    "                        ])"
   ]
  },
  {
   "cell_type": "code",
   "execution_count": 27,
   "id": "94744f4c",
   "metadata": {},
   "outputs": [],
   "source": [
    "model.save(f\"models/{len(classes)}_class.h5\")"
   ]
  },
  {
   "cell_type": "code",
   "execution_count": 28,
   "id": "2f9856b9",
   "metadata": {},
   "outputs": [],
   "source": [
    "pd.Series(classes).to_csv(f\"models/{len(classes)}_class.h5_classes.txt\", index=False, header=False)"
   ]
  },
  {
   "cell_type": "code",
   "execution_count": 29,
   "id": "c0b0f2ba",
   "metadata": {},
   "outputs": [
    {
     "data": {
      "text/plain": [
       "<AxesSubplot:>"
      ]
     },
     "execution_count": 29,
     "metadata": {},
     "output_type": "execute_result"
    },
    {
     "data": {
      "image/png": "[encoded data removed]",
      "text/plain": [
       "<Figure size 432x288 with 1 Axes>"
      ]
     },
     "metadata": {
      "needs_background": "light"
     },
     "output_type": "display_data"
    },
    {
     "data": {
      "image/png": "[encoded data removed]",
      "text/plain": [
       "<Figure size 432x288 with 1 Axes>"
      ]
     },
     "metadata": {
      "needs_background": "light"
     },
     "output_type": "display_data"
    }
   ],
   "source": [
    "history_df = pd.DataFrame(history.history)\n",
    "history_df[['loss', 'val_loss']].plot()\n",
    "history_df[['categorical_accuracy', 'val_categorical_accuracy']].plot()"
   ]
  },
  {
   "cell_type": "code",
   "execution_count": 30,
   "id": "160a4bf0",
   "metadata": {},
   "outputs": [
    {
     "name": "stdout",
     "output_type": "stream",
     "text": [
      "413/413 [==============================] - 1s 2ms/step\n"
     ]
    }
   ],
   "source": [
    "y_pred = model.predict(x_test)"
   ]
  },
  {
   "cell_type": "code",
   "execution_count": 59,
   "id": "ae796b47",
   "metadata": {},
   "outputs": [
    {
     "data": {
      "text/plain": [
       "array([[7.969e-01, 3.524e-04, 2.028e-01, ..., 0.000e+00, 0.000e+00,\n",
       "        1.204e-05],\n",
       "       [2.952e-01, 1.192e-06, 7.041e-01, ..., 0.000e+00, 0.000e+00,\n",
       "        8.345e-07],\n",
       "       [9.614e-01, 7.641e-05, 3.851e-02, ..., 0.000e+00, 0.000e+00,\n",
       "        1.013e-06],\n",
       "       ...,\n",
       "       [2.552e-03, 7.544e-01, 0.000e+00, ..., 0.000e+00, 0.000e+00,\n",
       "        2.432e-01],\n",
       "       [0.000e+00, 0.000e+00, 0.000e+00, ..., 0.000e+00, 0.000e+00,\n",
       "        1.000e+00],\n",
       "       [0.000e+00, 0.000e+00, 0.000e+00, ..., 0.000e+00, 0.000e+00,\n",
       "        1.000e+00]], dtype=float16)"
      ]
     },
     "metadata": {},
     "output_type": "display_data"
    },
    {
     "data": {
      "text/plain": [
       "0         0\n",
       "1         0\n",
       "2         0\n",
       "3         0\n",
       "4         0\n",
       "         ..\n",
       "13061    11\n",
       "13062    11\n",
       "13063    11\n",
       "13064    11\n",
       "13065    11\n",
       "Name: true, Length: 3298, dtype: int64"
      ]
     },
     "metadata": {},
     "output_type": "display_data"
    }
   ],
   "source": [
    "validation_df = pd.DataFrame()\n",
    "validation_df[\"filepaths\"] = aug_paths[test_idx].to_list()\n",
    "aug_pred = pd.concat([validation_df, pd.DataFrame(y_pred, columns=classes)], axis=\"columns\").groupby(\n",
    "    \"filepaths\").sum().to_numpy() / 4\n",
    "display(aug_pred)\n",
    "validation_df[\"true\"] = y_test.argmax(axis=1)\n",
    "aug_true = validation_df.groupby(\"filepaths\").head(1)[\"true\"]\n",
    "display(aug_true)"
   ]
  },
  {
   "cell_type": "code",
   "execution_count": 60,
   "id": "db0e40d2",
   "metadata": {},
   "outputs": [
    {
     "data": {
      "text/plain": [
       "1     791\n",
       "9     754\n",
       "8     597\n",
       "11    322\n",
       "0     250\n",
       "3     150\n",
       "2     124\n",
       "6     110\n",
       "4      71\n",
       "5      69\n",
       "10     60\n",
       "dtype: int64"
      ]
     },
     "execution_count": 60,
     "metadata": {},
     "output_type": "execute_result"
    }
   ],
   "source": [
    "pd.Series(aug_pred.argmax(axis=1)).value_counts()"
   ]
  },
  {
   "cell_type": "code",
   "execution_count": 61,
   "id": "70fbc333",
   "metadata": {},
   "outputs": [
    {
     "data": {
      "text/plain": [
       "count    3298.000000\n",
       "mean        0.850098\n",
       "std         0.196167\n",
       "min         0.247314\n",
       "25%         0.717529\n",
       "50%         0.983398\n",
       "75%         1.000000\n",
       "max         1.000000\n",
       "dtype: float64"
      ]
     },
     "execution_count": 61,
     "metadata": {},
     "output_type": "execute_result"
    }
   ],
   "source": [
    "predicted_codes = aug_pred.argmax(axis=1)\n",
    "confidence = aug_pred.max(axis=1)\n",
    "pd.Series(confidence).describe()"
   ]
  },
  {
   "cell_type": "code",
   "execution_count": 62,
   "id": "b1d6833b",
   "metadata": {},
   "outputs": [
    {
     "data": {
      "text/html": [
       "<div>\n",
       "<style scoped>\n",
       "    .dataframe tbody tr th:only-of-type {\n",
       "        vertical-align: middle;\n",
       "    }\n",
       "\n",
       "    .dataframe tbody tr th {\n",
       "        vertical-align: top;\n",
       "    }\n",
       "\n",
       "    .dataframe thead th {\n",
       "        text-align: right;\n",
       "    }\n",
       "</style>\n",
       "<table border=\"1\" class=\"dataframe\">\n",
       "  <thead>\n",
       "    <tr style=\"text-align: right;\">\n",
       "      <th></th>\n",
       "      <th>true_class</th>\n",
       "      <th>predicted_class</th>\n",
       "      <th>confidence</th>\n",
       "    </tr>\n",
       "  </thead>\n",
       "  <tbody>\n",
       "    <tr>\n",
       "      <th>0</th>\n",
       "      <td>0</td>\n",
       "      <td>0</td>\n",
       "      <td>0.796875</td>\n",
       "    </tr>\n",
       "    <tr>\n",
       "      <th>1</th>\n",
       "      <td>0</td>\n",
       "      <td>2</td>\n",
       "      <td>0.704102</td>\n",
       "    </tr>\n",
       "    <tr>\n",
       "      <th>2</th>\n",
       "      <td>0</td>\n",
       "      <td>0</td>\n",
       "      <td>0.961426</td>\n",
       "    </tr>\n",
       "    <tr>\n",
       "      <th>3</th>\n",
       "      <td>0</td>\n",
       "      <td>0</td>\n",
       "      <td>1.000000</td>\n",
       "    </tr>\n",
       "    <tr>\n",
       "      <th>4</th>\n",
       "      <td>0</td>\n",
       "      <td>3</td>\n",
       "      <td>0.494385</td>\n",
       "    </tr>\n",
       "    <tr>\n",
       "      <th>...</th>\n",
       "      <td>...</td>\n",
       "      <td>...</td>\n",
       "      <td>...</td>\n",
       "    </tr>\n",
       "    <tr>\n",
       "      <th>13061</th>\n",
       "      <td>11</td>\n",
       "      <td>1</td>\n",
       "      <td>0.791016</td>\n",
       "    </tr>\n",
       "    <tr>\n",
       "      <th>13062</th>\n",
       "      <td>11</td>\n",
       "      <td>1</td>\n",
       "      <td>0.927734</td>\n",
       "    </tr>\n",
       "    <tr>\n",
       "      <th>13063</th>\n",
       "      <td>11</td>\n",
       "      <td>1</td>\n",
       "      <td>0.754395</td>\n",
       "    </tr>\n",
       "    <tr>\n",
       "      <th>13064</th>\n",
       "      <td>11</td>\n",
       "      <td>11</td>\n",
       "      <td>1.000000</td>\n",
       "    </tr>\n",
       "    <tr>\n",
       "      <th>13065</th>\n",
       "      <td>11</td>\n",
       "      <td>11</td>\n",
       "      <td>1.000000</td>\n",
       "    </tr>\n",
       "  </tbody>\n",
       "</table>\n",
       "<p>3298 rows × 3 columns</p>\n",
       "</div>"
      ],
      "text/plain": [
       "       true_class  predicted_class  confidence\n",
       "0               0                0    0.796875\n",
       "1               0                2    0.704102\n",
       "2               0                0    0.961426\n",
       "3               0                0    1.000000\n",
       "4               0                3    0.494385\n",
       "...           ...              ...         ...\n",
       "13061          11                1    0.791016\n",
       "13062          11                1    0.927734\n",
       "13063          11                1    0.754395\n",
       "13064          11               11    1.000000\n",
       "13065          11               11    1.000000\n",
       "\n",
       "[3298 rows x 3 columns]"
      ]
     },
     "execution_count": 62,
     "metadata": {},
     "output_type": "execute_result"
    }
   ],
   "source": [
    "validation_df = pd.DataFrame()\n",
    "validation_df[\"true_class\"] = aug_true\n",
    "validation_df[\"predicted_class\"] = predicted_codes\n",
    "validation_df[\"confidence\"] = confidence\n",
    "validation_df"
   ]
  },
  {
   "cell_type": "code",
   "execution_count": 63,
   "id": "b3ef09d2",
   "metadata": {},
   "outputs": [
    {
     "data": {
      "text/plain": [
       "predicted_class\n",
       "0     0.806641\n",
       "1     1.000000\n",
       "2     0.508789\n",
       "3     0.523438\n",
       "4     0.512207\n",
       "5     0.500488\n",
       "6     0.591797\n",
       "8     0.992676\n",
       "9     0.981934\n",
       "10    0.842285\n",
       "11    1.000000\n",
       "Name: confidence, dtype: float16"
      ]
     },
     "execution_count": 63,
     "metadata": {},
     "output_type": "execute_result"
    }
   ],
   "source": [
    "validation_df.groupby(\"predicted_class\").confidence.median()"
   ]
  },
  {
   "cell_type": "code",
   "execution_count": 64,
   "id": "9472e193",
   "metadata": {},
   "outputs": [],
   "source": [
    "validation_df.to_csv(\"validation_predictions.csv\", index=False)"
   ]
  },
  {
   "cell_type": "code",
   "execution_count": 65,
   "id": "f3a61eb6",
   "metadata": {
    "scrolled": false
   },
   "outputs": [
    {
     "name": "stdout",
     "output_type": "stream",
     "text": [
      "              precision    recall  f1-score   support\n",
      "\n",
      "           0       0.63      0.79      0.70       199\n",
      "           1       0.82      0.74      0.78       869\n",
      "           2       0.07      0.12      0.09        74\n",
      "           3       0.58      0.31      0.40       281\n",
      "           4       0.10      0.04      0.06       162\n",
      "           5       0.32      0.12      0.18       182\n",
      "           6       0.35      0.25      0.30       153\n",
      "           7       0.00      0.00      0.00       250\n",
      "           8       0.38      0.89      0.53       257\n",
      "           9       0.29      0.93      0.45       238\n",
      "          10       1.00      0.16      0.27       386\n",
      "          11       0.36      0.47      0.40       247\n",
      "\n",
      "    accuracy                           0.48      3298\n",
      "   macro avg       0.41      0.40      0.35      3298\n",
      "weighted avg       0.54      0.48      0.45      3298\n",
      "\n",
      "[ 0.   0.   0.   0.   0.   0.   1.   7.1 15.  58.8]\n"
     ]
    },
    {
     "name": "stderr",
     "output_type": "stream",
     "text": [
      "/usr/local/lib/python3.8/dist-packages/sklearn/metrics/_classification.py:1327: UndefinedMetricWarning: Precision and F-score are ill-defined and being set to 0.0 in labels with no predicted samples. Use `zero_division` parameter to control this behavior.\n",
      "  _warn_prf(average, modifier, msg_start, len(result))\n",
      "/usr/local/lib/python3.8/dist-packages/sklearn/metrics/_classification.py:1327: UndefinedMetricWarning: Precision and F-score are ill-defined and being set to 0.0 in labels with no predicted samples. Use `zero_division` parameter to control this behavior.\n",
      "  _warn_prf(average, modifier, msg_start, len(result))\n",
      "/usr/local/lib/python3.8/dist-packages/sklearn/metrics/_classification.py:1327: UndefinedMetricWarning: Precision and F-score are ill-defined and being set to 0.0 in labels with no predicted samples. Use `zero_division` parameter to control this behavior.\n",
      "  _warn_prf(average, modifier, msg_start, len(result))\n"
     ]
    },
    {
     "data": {
      "text/plain": [
       "Text(66.5, 0.5, 'True')"
      ]
     },
     "execution_count": 65,
     "metadata": {},
     "output_type": "execute_result"
    },
    {
     "data": {
      "image/png": "[encoded data removed]",
      "text/plain": [
       "<Figure size 720x720 with 2 Axes>"
      ]
     },
     "metadata": {
      "needs_background": "light"
     },
     "output_type": "display_data"
    }
   ],
   "source": [
    "print(classification_report(validation_df[\"true_class\"], validation_df[\"predicted_class\"]))\n",
    "confusion = confusion_matrix(validation_df[\"true_class\"], validation_df[\"predicted_class\"])\n",
    "print(np.quantile(confusion, np.arange(0, 1, .1)))\n",
    "plt.figure(figsize=(10,10))\n",
    "s = sns.heatmap(\n",
    "    confusion,\n",
    "    annot=True,\n",
    "    cmap='Blues',\n",
    "    fmt=\"g\",\n",
    "    xticklabels=classes,\n",
    "    yticklabels=classes,\n",
    "    vmax=np.quantile(confusion, .95)\n",
    ")\n",
    "s.set_xlabel('Predicted', fontsize=10)\n",
    "s.set_ylabel('True', fontsize=10)"
   ]
  },
  {
   "cell_type": "code",
   "execution_count": null,
   "id": "d5a48ed5",
   "metadata": {},
   "outputs": [],
   "source": []
  },
  {
   "cell_type": "code",
   "execution_count": null,
   "id": "fa99701d",
   "metadata": {},
   "outputs": [],
   "source": []
  },
  {
   "cell_type": "code",
   "execution_count": null,
   "id": "5fe4b32e",
   "metadata": {},
   "outputs": [],
   "source": []
  }
 ],
 "metadata": {
  "interpreter": {
   "hash": "916dbcbb3f70747c44a77c7bcd40155683ae19c65e1c03b4aa3499c5328201f1"
  },
  "kernelspec": {
   "display_name": "Python 3 (ipykernel)",
   "language": "python",
   "name": "python3"
  },
  "language_info": {
   "codemirror_mode": {
    "name": "ipython",
    "version": 3
   },
   "file_extension": ".py",
   "mimetype": "text/x-python",
   "name": "python",
   "nbconvert_exporter": "python",
   "pygments_lexer": "ipython3",
   "version": "3.8.10"
  }
 },
 "nbformat": 4,
 "nbformat_minor": 5
}
