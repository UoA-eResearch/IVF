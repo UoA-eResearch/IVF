{
 "cells": [
  {
   "cell_type": "code",
   "execution_count": 16,
   "id": "97c7873e",
   "metadata": {},
   "outputs": [
    {
     "data": {
      "text/plain": [
       "Empty                  5797\n",
       "Morula                 1319\n",
       "2pn                    1039\n",
       "Syngamy                 834\n",
       "4 Cell                  792\n",
       "2 Cell                  736\n",
       "Compacting 8 cell       549\n",
       "Expanded Blastocyst     394\n",
       "8 Cell                  384\n",
       "Blastocyst              374\n",
       "6 Cell                  360\n",
       "Cavitating morula       324\n",
       "3 Cell                  303\n",
       "Early blast             291\n",
       "5 Cell                  130\n",
       "Name: class, dtype: int64"
      ]
     },
     "execution_count": 16,
     "metadata": {},
     "output_type": "execute_result"
    }
   ],
   "source": [
    "import os # File system operations\n",
    "import re # Regular expressions\n",
    "import pandas as pd # Tabular data\n",
    "import numpy as np # Numerical data\n",
    "pd.set_option('display.max_colwidth', None) # Show full file paths\n",
    "import sys\n",
    "\n",
    "# Don't use all of the GPU RAM\n",
    "import tensorflow as tf\n",
    "gpus = tf.config.experimental.list_physical_devices('GPU')\n",
    "for gpu in gpus:\n",
    "  tf.config.experimental.set_memory_growth(gpu, True)\n",
    "from tensorflow.keras import mixed_precision\n",
    "from tensorflow import keras # ML\n",
    "import tensorflow_addons as tfa # TQDM progress bar when training\n",
    "from sklearn.model_selection import train_test_split\n",
    "from sklearn.utils import class_weight\n",
    "\n",
    "BATCH_SIZE = 128\n",
    "\n",
    "mixed_precision.set_global_policy('mixed_float16')\n",
    "\n",
    "\n",
    "from sklearn.metrics import confusion_matrix, classification_report, accuracy_score\n",
    "\n",
    "from pathlib import Path # Pathing\n",
    "from glob import glob # Finding files recursively\n",
    "import matplotlib.pyplot as plt # Plotting\n",
    "import seaborn as sns # Plotting\n",
    "sns.set()\n",
    "from tqdm.auto import tqdm # Progress bars\n",
    "tqdm.pandas()\n",
    "\n",
    "BASE_DIR = Path(\"EmbryoLabeling/Labelers/train\")\n",
    "folders = os.listdir(BASE_DIR)\n",
    "folders = [f for f in folders if not re.match(r\"M\\d\", f)]\n",
    "files = []\n",
    "for folder in folders:\n",
    "    files_in_folder = pd.DataFrame(glob(f\"{BASE_DIR}/{folder}/**/*.jpg\", recursive=True), columns=[\"filename\"])\n",
    "    files_in_folder[\"class\"] = folder\n",
    "    files.append(files_in_folder)\n",
    "df = pd.concat(files)\n",
    "df[\"class\"].value_counts()"
   ]
  },
  {
   "cell_type": "code",
   "execution_count": 17,
   "id": "31a10845",
   "metadata": {},
   "outputs": [
    {
     "data": {
      "text/plain": [
       "<AxesSubplot:>"
      ]
     },
     "execution_count": 17,
     "metadata": {},
     "output_type": "execute_result"
    },
    {
     "data": {
      "image/png": "[encoded data removed]",
      "text/plain": [
       "<Figure size 432x288 with 1 Axes>"
      ]
     },
     "metadata": {},
     "output_type": "display_data"
    }
   ],
   "source": [
    "df[\"class\"].value_counts().plot.bar(logy=True)"
   ]
  },
  {
   "cell_type": "code",
   "execution_count": 18,
   "id": "0f1360a2",
   "metadata": {},
   "outputs": [
    {
     "data": {
      "text/plain": [
       "[M0776, S00512]    1952\n",
       "[M776, S0087]      1559\n",
       "[M0776, S00635]    1294\n",
       "[M0776, S00761]    1138\n",
       "[M0776, S00534]    1102\n",
       "[M0776, S00470]     784\n",
       "Name: filename, dtype: int64"
      ]
     },
     "execution_count": 18,
     "metadata": {},
     "output_type": "execute_result"
    }
   ],
   "source": [
    "# Print counts of images by machine and slide\n",
    "df.filename[~df[\"class\"].isin([\"bad\", \"Empty\"])].apply(lambda s: s.split(\"/\")[-1].split(\"_\")[:2]).value_counts()"
   ]
  },
  {
   "cell_type": "code",
   "execution_count": 19,
   "id": "8e48f356",
   "metadata": {
    "scrolled": false
   },
   "outputs": [
    {
     "name": "stdout",
     "output_type": "stream",
     "text": [
      "                  class  time_since_fert\n",
      "511                 2pn             1061\n",
      "685             Syngamy             1464\n",
      "298              2 Cell             1574\n",
      "116              3 Cell             2315\n",
      "104              4 Cell             2395\n",
      "7                5 Cell             3045\n",
      "29               6 Cell             3125\n",
      "145              8 Cell             3265\n",
      "24    Compacting 8 cell             3375\n",
      "1169             Morula             4286\n",
      "199   Cavitating morula             5940\n",
      "50          Early blast             6090\n",
      "113          Blastocyst             6261\n",
      "4850              Empty             7036\n"
     ]
    }
   ],
   "source": [
    "# Track a single embryo's lifecycle\n",
    "pd.set_option('display.max_rows', 365)\n",
    "M776_S0087_W2 = df[df.filename.str.contains(\"M776_S0087_W2\")].copy()\n",
    "# Extract time since fertilisation in minutes from filename (ints, rounded to nearest minute)\n",
    "M776_S0087_W2[\"time_since_fert\"] = M776_S0087_W2.filename.apply(lambda s: s.replace(\".jpg\", \"\").split(\"_\")[-1]).astype(int)\n",
    "M776_S0087_W2 = M776_S0087_W2.sort_values(by=\"time_since_fert\")\n",
    "# Take the earliest time that each class was seen\n",
    "M776_S0087_W2 = M776_S0087_W2.groupby(\"class\").head(1)\n",
    "print(M776_S0087_W2[[\"class\", \"time_since_fert\"]])"
   ]
  },
  {
   "cell_type": "code",
   "execution_count": 20,
   "id": "b07925b9",
   "metadata": {},
   "outputs": [
    {
     "data": {
      "text/plain": [
       "['2pn',\n",
       " 'Syngamy',\n",
       " '2 Cell',\n",
       " '3 Cell',\n",
       " '4 Cell',\n",
       " '5 Cell',\n",
       " '6 Cell',\n",
       " '8 Cell',\n",
       " 'Compacting 8 cell',\n",
       " 'Morula',\n",
       " 'Cavitating morula',\n",
       " 'Early blast',\n",
       " 'Blastocyst',\n",
       " 'Empty']"
      ]
     },
     "execution_count": 20,
     "metadata": {},
     "output_type": "execute_result"
    }
   ],
   "source": [
    "classes = list(M776_S0087_W2[\"class\"])\n",
    "classes"
   ]
  },
  {
   "cell_type": "code",
   "execution_count": 21,
   "id": "e803af06",
   "metadata": {},
   "outputs": [
    {
     "data": {
      "image/png": "[encoded data removed]",
      "text/plain": [
       "<Figure size 1440x1440 with 1 Axes>"
      ]
     },
     "metadata": {},
     "output_type": "display_data"
    }
   ],
   "source": [
    "# Plot embryo's lifecycle over time\n",
    "plt.figure(figsize=(20, 20))\n",
    "for i, row in M776_S0087_W2.iterrows():\n",
    "    image = keras.utils.load_img(row.filename, target_size=(299,299))\n",
    "    c_index = classes.index(row[\"class\"]) * 299\n",
    "    time_since_fert = row.time_since_fert\n",
    "    plt.imshow(image, extent=[time_since_fert, time_since_fert+299, c_index, c_index+299])\n",
    "    plt.text(time_since_fert, c_index, row[\"class\"], bbox=dict(boxstyle=\"round\", ec=(1., 0.5, 0.5), fc=(1., 0.8, 0.8)))\n",
    "plt.yticks([])\n",
    "plt.xlabel(\"Time since fertilisation (minutes)\")\n",
    "plt.xlim(0, M776_S0087_W2.time_since_fert.max() + 300)\n",
    "plt.ylim(0, len(classes) * 300)\n",
    "plt.show()"
   ]
  },
  {
   "cell_type": "code",
   "execution_count": 22,
   "id": "dbbf3b1e",
   "metadata": {},
   "outputs": [
    {
     "name": "stdout",
     "output_type": "stream",
     "text": [
      "Found 13626 files belonging to 15 classes.\n"
     ]
    }
   ],
   "source": [
    "train = tf.keras.utils.image_dataset_from_directory(\n",
    "    BASE_DIR,\n",
    "    image_size = (299,299),\n",
    "    batch_size = BATCH_SIZE,\n",
    "    label_mode = 'categorical',\n",
    "    shuffle = False\n",
    ")\n",
    "train_cache = train.cache().prefetch(tf.data.AUTOTUNE)"
   ]
  },
  {
   "cell_type": "code",
   "execution_count": 23,
   "id": "012e294d",
   "metadata": {},
   "outputs": [
    {
     "data": {
      "text/plain": [
       "107"
      ]
     },
     "execution_count": 23,
     "metadata": {},
     "output_type": "execute_result"
    }
   ],
   "source": [
    "len(train_cache)"
   ]
  },
  {
   "cell_type": "code",
   "execution_count": 24,
   "id": "80d5d9ad",
   "metadata": {},
   "outputs": [
    {
     "data": {
      "application/vnd.jupyter.widget-view+json": {
       "model_id": "c0e88ec2b1b14be28aee14dc4bb700c5",
       "version_major": 2,
       "version_minor": 0
      },
      "text/plain": [
       "  0%|          | 0/107 [00:00<?, ?it/s]"
      ]
     },
     "metadata": {},
     "output_type": "display_data"
    }
   ],
   "source": [
    "_ = list(tqdm(train_cache)) # load it all into RAM"
   ]
  },
  {
   "cell_type": "code",
   "execution_count": 31,
   "id": "110398bc",
   "metadata": {},
   "outputs": [
    {
     "name": "stdout",
     "output_type": "stream",
     "text": [
      "(512, 299, 299, 3) (512, 15)\n"
     ]
    }
   ],
   "source": [
    "class AugmentationGenerator(tf.keras.utils.Sequence):\n",
    "    def __getitem__(self, idx):\n",
    "        x, y = next(iter(train_cache.skip(idx).take(1)))\n",
    "        x = np.vstack([\n",
    "            x,\n",
    "            np.flip(x, axis=1),\n",
    "            np.flip(x, axis=2),\n",
    "            np.flip(np.flip(x, axis=1), axis=2),\n",
    "        ])\n",
    "        y = np.vstack([\n",
    "            y, y, y, y\n",
    "        ])\n",
    "        return x, y\n",
    "    def __len__(self):\n",
    "        return len(train_cache)\n",
    "\n",
    "x, y = AugmentationGenerator().__getitem__(0)\n",
    "print(x.shape, y.shape)"
   ]
  },
  {
   "cell_type": "code",
   "execution_count": 32,
   "id": "cb6e7d14",
   "metadata": {},
   "outputs": [
    {
     "data": {
      "text/plain": [
       "107"
      ]
     },
     "execution_count": 32,
     "metadata": {},
     "output_type": "execute_result"
    }
   ],
   "source": [
    "len(AugmentationGenerator())"
   ]
  },
  {
   "cell_type": "code",
   "execution_count": 33,
   "id": "3b1f175a",
   "metadata": {},
   "outputs": [
    {
     "data": {
      "text/plain": [
       "['2 Cell',\n",
       " '2pn',\n",
       " '3 Cell',\n",
       " '4 Cell',\n",
       " '5 Cell',\n",
       " '6 Cell',\n",
       " '8 Cell',\n",
       " 'Blastocyst',\n",
       " 'Cavitating morula',\n",
       " 'Compacting 8 cell',\n",
       " 'Early blast',\n",
       " 'Empty',\n",
       " 'Expanded Blastocyst',\n",
       " 'Morula',\n",
       " 'Syngamy']"
      ]
     },
     "execution_count": 33,
     "metadata": {},
     "output_type": "execute_result"
    }
   ],
   "source": [
    "classes = train.class_names\n",
    "classes"
   ]
  },
  {
   "cell_type": "code",
   "execution_count": 34,
   "id": "c00fd32a",
   "metadata": {
    "scrolled": false
   },
   "outputs": [
    {
     "data": {
      "image/png": "[encoded data removed]",
      "text/plain": [
       "<Figure size 720x720 with 25 Axes>"
      ]
     },
     "metadata": {},
     "output_type": "display_data"
    }
   ],
   "source": [
    "plt.figure(figsize=(10, 10))\n",
    "for i, (idx, row) in enumerate(df.sample(25).iterrows()):\n",
    "    ax = plt.subplot(5, 5, i + 1)\n",
    "    image = keras.utils.load_img(row.filename, target_size=(299,299))\n",
    "    plt.imshow(image)\n",
    "    plt.title(row[\"class\"])\n",
    "    plt.axis(\"off\")"
   ]
  },
  {
   "cell_type": "code",
   "execution_count": 35,
   "id": "a2b1f6a8",
   "metadata": {},
   "outputs": [
    {
     "name": "stdout",
     "output_type": "stream",
     "text": [
      "WARNING:tensorflow:Compiled the loaded model, but the compiled metrics have yet to be built. `model.compile_metrics` will be empty until you train or evaluate the model.\n",
      "Model: \"sequential_2\"\n",
      "_________________________________________________________________\n",
      " Layer (type)                Output Shape              Param #   \n",
      "=================================================================\n",
      " rescaling_2 (Rescaling)     (None, 299, 299, 3)       0         \n",
      "                                                                 \n",
      " xception (Functional)       (None, 2048)              20861480  \n",
      "                                                                 \n",
      "=================================================================\n",
      "Total params: 20,861,480\n",
      "Trainable params: 20,806,952\n",
      "Non-trainable params: 54,528\n",
      "_________________________________________________________________\n"
     ]
    }
   ],
   "source": [
    "base_model = keras.Sequential([\n",
    "    # Pre-trained Xception weights requires that input be scaled\n",
    "    # from (0, 255) to a range of (-1., +1.), the rescaling layer\n",
    "    # outputs: `(inputs * scale) + offset`\n",
    "    keras.layers.Rescaling(scale=1./127.5, offset=-1, input_shape=(299,299,3)),\n",
    "    keras.applications.Xception(\n",
    "        weights='imagenet',  # Load weights pre-trained on ImageNet.\n",
    "        include_top=False,\n",
    "        pooling=\"avg\"\n",
    "    )\n",
    "])\n",
    "base_model.save(f\"models/xception.h5\")\n",
    "base_model.summary()"
   ]
  },
  {
   "cell_type": "code",
   "execution_count": 36,
   "id": "ca155884",
   "metadata": {},
   "outputs": [
    {
     "name": "stdout",
     "output_type": "stream",
     "text": [
      "107/107 [==============================] - 173s 2s/step\n"
     ]
    }
   ],
   "source": [
    "extracted_features = base_model.predict(AugmentationGenerator())"
   ]
  },
  {
   "cell_type": "code",
   "execution_count": 37,
   "id": "78116e7f",
   "metadata": {
    "scrolled": false
   },
   "outputs": [
    {
     "data": {
      "text/plain": [
       "(54504, 2048)"
      ]
     },
     "execution_count": 37,
     "metadata": {},
     "output_type": "execute_result"
    }
   ],
   "source": [
    "extracted_features.shape"
   ]
  },
  {
   "cell_type": "code",
   "execution_count": 50,
   "id": "18f744db",
   "metadata": {},
   "outputs": [
    {
     "data": {
      "text/plain": [
       "(54504, 15)"
      ]
     },
     "execution_count": 50,
     "metadata": {},
     "output_type": "execute_result"
    }
   ],
   "source": [
    "y = np.vstack([np.vstack([y,y,y,y]) for x,y in train])\n",
    "y.shape"
   ]
  },
  {
   "cell_type": "code",
   "execution_count": 57,
   "id": "2005acb6",
   "metadata": {},
   "outputs": [
    {
     "data": {
      "text/plain": [
       "0        EmbryoLabeling/Labelers/train/2 Cell/M0776_S00470_W2_F0_1894.jpg\n",
       "1        EmbryoLabeling/Labelers/train/2 Cell/M0776_S00470_W2_F0_1914.jpg\n",
       "2        EmbryoLabeling/Labelers/train/2 Cell/M0776_S00470_W2_F0_1934.jpg\n",
       "3        EmbryoLabeling/Labelers/train/2 Cell/M0776_S00470_W2_F0_1954.jpg\n",
       "4        EmbryoLabeling/Labelers/train/2 Cell/M0776_S00470_W2_F0_1974.jpg\n",
       "                                       ...                               \n",
       "54499     EmbryoLabeling/Labelers/train/Syngamy/M776_S0087_W5_F0_1555.jpg\n",
       "54500     EmbryoLabeling/Labelers/train/Syngamy/M776_S0087_W5_F0_1585.jpg\n",
       "54501     EmbryoLabeling/Labelers/train/Syngamy/M776_S0087_W5_F0_1605.jpg\n",
       "54502     EmbryoLabeling/Labelers/train/Syngamy/M776_S0087_W5_F0_1625.jpg\n",
       "54503     EmbryoLabeling/Labelers/train/Syngamy/M776_S0087_W5_F0_1645.jpg\n",
       "Length: 54504, dtype: object"
      ]
     },
     "execution_count": 57,
     "metadata": {},
     "output_type": "execute_result"
    }
   ],
   "source": [
    "file_paths = pd.concat([pd.Series(train.file_paths)] * 4).reset_index(drop=True)\n",
    "file_paths"
   ]
  },
  {
   "cell_type": "code",
   "execution_count": 58,
   "id": "34a40598",
   "metadata": {},
   "outputs": [
    {
     "data": {
      "text/plain": [
       "((45356, 2048), (45356, 15), (9148, 2048), (9148, 15))"
      ]
     },
     "execution_count": 58,
     "metadata": {},
     "output_type": "execute_result"
    }
   ],
   "source": [
    "#x_train, x_test, y_train, y_test = train_test_split(extracted_features, y, test_size=.2)\n",
    "\n",
    "# Use one slide for test, everything else for train\n",
    "test_idx = file_paths.str.contains(\"M0776_S00512\")\n",
    "x_train = extracted_features[~test_idx]\n",
    "y_train = y[~test_idx]\n",
    "x_test = extracted_features[test_idx]\n",
    "y_test = y[test_idx]\n",
    "x_train.shape, y_train.shape, x_test.shape, y_test.shape"
   ]
  },
  {
   "cell_type": "code",
   "execution_count": 62,
   "id": "13282758",
   "metadata": {},
   "outputs": [
    {
     "data": {
      "text/plain": [
       "{'2 Cell': 1.3589812734082396,\n",
       " '2pn': 0.9413864674138647,\n",
       " '3 Cell': 2.494829482948295,\n",
       " '4 Cell': 1.017749354874902,\n",
       " '5 Cell': 8.972502472799208,\n",
       " '6 Cell': 2.597709049255441,\n",
       " '8 Cell': 2.5303207810320782,\n",
       " 'Blastocyst': 2.5843874643874645,\n",
       " 'Cavitating morula': 3.3046265938069217,\n",
       " 'Compacting 8 cell': 1.6460170567955,\n",
       " 'Early blast': 3.216737588652482,\n",
       " 'Empty': 0.15590272406977743,\n",
       " 'Expanded Blastocyst': 2.5690172755593315,\n",
       " 'Morula': 0.6178449802479227,\n",
       " 'Syngamy': 1.114945919370698}"
      ]
     },
     "execution_count": 62,
     "metadata": {},
     "output_type": "execute_result"
    }
   ],
   "source": [
    "class_weights = class_weight.compute_class_weight('balanced', classes = np.unique(y_train.argmax(axis=1)), y=y_train.argmax(axis=1))\n",
    "class_weights = dict(enumerate(class_weights))\n",
    "{k:v for k,v in zip(classes, class_weights.values())}"
   ]
  },
  {
   "cell_type": "code",
   "execution_count": 63,
   "id": "9844880c",
   "metadata": {
    "scrolled": false
   },
   "outputs": [
    {
     "name": "stdout",
     "output_type": "stream",
     "text": [
      "Model: \"sequential_4\"\n",
      "_________________________________________________________________\n",
      " Layer (type)                Output Shape              Param #   \n",
      "=================================================================\n",
      " dense_1 (Dense)             (None, 15)                30735     \n",
      "                                                                 \n",
      "=================================================================\n",
      "Total params: 30,735\n",
      "Trainable params: 30,735\n",
      "Non-trainable params: 0\n",
      "_________________________________________________________________\n",
      "None\n"
     ]
    },
    {
     "data": {
      "application/vnd.jupyter.widget-view+json": {
       "model_id": "7bd6adeb970043249d80a2cbfee62372",
       "version_major": 2,
       "version_minor": 0
      },
      "text/plain": [
       "Training:   0%|           0/500 ETA: ?s,  ?epochs/s"
      ]
     },
     "metadata": {},
     "output_type": "display_data"
    },
    {
     "name": "stdout",
     "output_type": "stream",
     "text": [
      "Epoch 1/500\n"
     ]
    },
    {
     "data": {
      "application/vnd.jupyter.widget-view+json": {
       "model_id": "fdf4d304fe484116bbf3700349434299",
       "version_major": 2,
       "version_minor": 0
      },
      "text/plain": [
       "0/355           ETA: ?s - "
      ]
     },
     "metadata": {},
     "output_type": "display_data"
    },
    {
     "name": "stdout",
     "output_type": "stream",
     "text": [
      "Epoch 2/500\n"
     ]
    },
    {
     "data": {
      "application/vnd.jupyter.widget-view+json": {
       "model_id": "f8fc20aac55040f6b3da6bd1fc0ca83a",
       "version_major": 2,
       "version_minor": 0
      },
      "text/plain": [
       "0/355           ETA: ?s - "
      ]
     },
     "metadata": {},
     "output_type": "display_data"
    },
    {
     "name": "stdout",
     "output_type": "stream",
     "text": [
      "Epoch 3/500\n"
     ]
    },
    {
     "data": {
      "application/vnd.jupyter.widget-view+json": {
       "model_id": "2bade45afce84019b114b5ab6f4517d1",
       "version_major": 2,
       "version_minor": 0
      },
      "text/plain": [
       "0/355           ETA: ?s - "
      ]
     },
     "metadata": {},
     "output_type": "display_data"
    },
    {
     "name": "stdout",
     "output_type": "stream",
     "text": [
      "Epoch 4/500\n"
     ]
    },
    {
     "data": {
      "application/vnd.jupyter.widget-view+json": {
       "model_id": "ed2cd2d82f6b4969be82c56a9661a559",
       "version_major": 2,
       "version_minor": 0
      },
      "text/plain": [
       "0/355           ETA: ?s - "
      ]
     },
     "metadata": {},
     "output_type": "display_data"
    },
    {
     "name": "stdout",
     "output_type": "stream",
     "text": [
      "Epoch 5/500\n"
     ]
    },
    {
     "data": {
      "application/vnd.jupyter.widget-view+json": {
       "model_id": "14c6ecdcb3e64130b78a532706ee69a9",
       "version_major": 2,
       "version_minor": 0
      },
      "text/plain": [
       "0/355           ETA: ?s - "
      ]
     },
     "metadata": {},
     "output_type": "display_data"
    },
    {
     "name": "stdout",
     "output_type": "stream",
     "text": [
      "Epoch 6/500\n"
     ]
    },
    {
     "data": {
      "application/vnd.jupyter.widget-view+json": {
       "model_id": "714b1331fc694ce08be2b337fa25a769",
       "version_major": 2,
       "version_minor": 0
      },
      "text/plain": [
       "0/355           ETA: ?s - "
      ]
     },
     "metadata": {},
     "output_type": "display_data"
    },
    {
     "name": "stdout",
     "output_type": "stream",
     "text": [
      "Epoch 7/500\n"
     ]
    },
    {
     "data": {
      "application/vnd.jupyter.widget-view+json": {
       "model_id": "2ad633f503b94720bfebc9fb71e18e8c",
       "version_major": 2,
       "version_minor": 0
      },
      "text/plain": [
       "0/355           ETA: ?s - "
      ]
     },
     "metadata": {},
     "output_type": "display_data"
    },
    {
     "name": "stdout",
     "output_type": "stream",
     "text": [
      "Epoch 8/500\n"
     ]
    },
    {
     "data": {
      "application/vnd.jupyter.widget-view+json": {
       "model_id": "92cb9d7fbe7147b58b0c50a78e768f8b",
       "version_major": 2,
       "version_minor": 0
      },
      "text/plain": [
       "0/355           ETA: ?s - "
      ]
     },
     "metadata": {},
     "output_type": "display_data"
    },
    {
     "name": "stdout",
     "output_type": "stream",
     "text": [
      "Epoch 9/500\n"
     ]
    },
    {
     "data": {
      "application/vnd.jupyter.widget-view+json": {
       "model_id": "9d4d5ffe31674b0f9cda20f481d70583",
       "version_major": 2,
       "version_minor": 0
      },
      "text/plain": [
       "0/355           ETA: ?s - "
      ]
     },
     "metadata": {},
     "output_type": "display_data"
    },
    {
     "name": "stdout",
     "output_type": "stream",
     "text": [
      "Epoch 10/500\n"
     ]
    },
    {
     "data": {
      "application/vnd.jupyter.widget-view+json": {
       "model_id": "2944d87810924785b44f93ec0c8f0b29",
       "version_major": 2,
       "version_minor": 0
      },
      "text/plain": [
       "0/355           ETA: ?s - "
      ]
     },
     "metadata": {},
     "output_type": "display_data"
    },
    {
     "name": "stdout",
     "output_type": "stream",
     "text": [
      "Epoch 11/500\n"
     ]
    },
    {
     "data": {
      "application/vnd.jupyter.widget-view+json": {
       "model_id": "7c070730432e4652a6deea789a918e55",
       "version_major": 2,
       "version_minor": 0
      },
      "text/plain": [
       "0/355           ETA: ?s - "
      ]
     },
     "metadata": {},
     "output_type": "display_data"
    },
    {
     "name": "stdout",
     "output_type": "stream",
     "text": [
      "Epoch 12/500\n"
     ]
    },
    {
     "data": {
      "application/vnd.jupyter.widget-view+json": {
       "model_id": "815149496d6c41a3b0c9973fa23d4e7e",
       "version_major": 2,
       "version_minor": 0
      },
      "text/plain": [
       "0/355           ETA: ?s - "
      ]
     },
     "metadata": {},
     "output_type": "display_data"
    },
    {
     "name": "stdout",
     "output_type": "stream",
     "text": [
      "Epoch 13/500\n"
     ]
    },
    {
     "data": {
      "application/vnd.jupyter.widget-view+json": {
       "model_id": "6456d5c7885e472bb2b7cd5bbada49f9",
       "version_major": 2,
       "version_minor": 0
      },
      "text/plain": [
       "0/355           ETA: ?s - "
      ]
     },
     "metadata": {},
     "output_type": "display_data"
    },
    {
     "name": "stdout",
     "output_type": "stream",
     "text": [
      "Epoch 14/500\n"
     ]
    },
    {
     "data": {
      "application/vnd.jupyter.widget-view+json": {
       "model_id": "eef3a0a4c5af4ca6909aaab47dbf4439",
       "version_major": 2,
       "version_minor": 0
      },
      "text/plain": [
       "0/355           ETA: ?s - "
      ]
     },
     "metadata": {},
     "output_type": "display_data"
    },
    {
     "name": "stdout",
     "output_type": "stream",
     "text": [
      "Epoch 15/500\n"
     ]
    },
    {
     "data": {
      "application/vnd.jupyter.widget-view+json": {
       "model_id": "b11439fba8d848b1930c5269a3e83bd2",
       "version_major": 2,
       "version_minor": 0
      },
      "text/plain": [
       "0/355           ETA: ?s - "
      ]
     },
     "metadata": {},
     "output_type": "display_data"
    },
    {
     "name": "stdout",
     "output_type": "stream",
     "text": [
      "Epoch 16/500\n"
     ]
    },
    {
     "data": {
      "application/vnd.jupyter.widget-view+json": {
       "model_id": "5645f60a6d4044869f8993b207773162",
       "version_major": 2,
       "version_minor": 0
      },
      "text/plain": [
       "0/355           ETA: ?s - "
      ]
     },
     "metadata": {},
     "output_type": "display_data"
    },
    {
     "name": "stdout",
     "output_type": "stream",
     "text": [
      "Epoch 17/500\n"
     ]
    },
    {
     "data": {
      "application/vnd.jupyter.widget-view+json": {
       "model_id": "ee37b6ff8a5a448698030fb226fe6e34",
       "version_major": 2,
       "version_minor": 0
      },
      "text/plain": [
       "0/355           ETA: ?s - "
      ]
     },
     "metadata": {},
     "output_type": "display_data"
    },
    {
     "name": "stdout",
     "output_type": "stream",
     "text": [
      "Epoch 18/500\n"
     ]
    },
    {
     "data": {
      "application/vnd.jupyter.widget-view+json": {
       "model_id": "f896b6f6814a406cb2fa920e3fce4560",
       "version_major": 2,
       "version_minor": 0
      },
      "text/plain": [
       "0/355           ETA: ?s - "
      ]
     },
     "metadata": {},
     "output_type": "display_data"
    },
    {
     "name": "stdout",
     "output_type": "stream",
     "text": [
      "Epoch 19/500\n"
     ]
    },
    {
     "data": {
      "application/vnd.jupyter.widget-view+json": {
       "model_id": "131592d07441402f91a7d43a21645579",
       "version_major": 2,
       "version_minor": 0
      },
      "text/plain": [
       "0/355           ETA: ?s - "
      ]
     },
     "metadata": {},
     "output_type": "display_data"
    },
    {
     "name": "stdout",
     "output_type": "stream",
     "text": [
      "Epoch 20/500\n"
     ]
    },
    {
     "data": {
      "application/vnd.jupyter.widget-view+json": {
       "model_id": "d953f3294b5c4ceebd5769e02b4cf0a0",
       "version_major": 2,
       "version_minor": 0
      },
      "text/plain": [
       "0/355           ETA: ?s - "
      ]
     },
     "metadata": {},
     "output_type": "display_data"
    },
    {
     "name": "stdout",
     "output_type": "stream",
     "text": [
      "Epoch 21/500\n"
     ]
    },
    {
     "data": {
      "application/vnd.jupyter.widget-view+json": {
       "model_id": "dccce46296c942d78c7813b1ddae30b1",
       "version_major": 2,
       "version_minor": 0
      },
      "text/plain": [
       "0/355           ETA: ?s - "
      ]
     },
     "metadata": {},
     "output_type": "display_data"
    },
    {
     "name": "stdout",
     "output_type": "stream",
     "text": [
      "Epoch 22/500\n"
     ]
    },
    {
     "data": {
      "application/vnd.jupyter.widget-view+json": {
       "model_id": "fead631c7bce4e9b89addd81e0b47260",
       "version_major": 2,
       "version_minor": 0
      },
      "text/plain": [
       "0/355           ETA: ?s - "
      ]
     },
     "metadata": {},
     "output_type": "display_data"
    },
    {
     "name": "stdout",
     "output_type": "stream",
     "text": [
      "Epoch 23/500\n"
     ]
    },
    {
     "data": {
      "application/vnd.jupyter.widget-view+json": {
       "model_id": "a4a8eaf149c84ceea57613fdce6ba06a",
       "version_major": 2,
       "version_minor": 0
      },
      "text/plain": [
       "0/355           ETA: ?s - "
      ]
     },
     "metadata": {},
     "output_type": "display_data"
    },
    {
     "name": "stdout",
     "output_type": "stream",
     "text": [
      "Epoch 24/500\n"
     ]
    },
    {
     "data": {
      "application/vnd.jupyter.widget-view+json": {
       "model_id": "7003c806c8e24f39a21fa355195d88ef",
       "version_major": 2,
       "version_minor": 0
      },
      "text/plain": [
       "0/355           ETA: ?s - "
      ]
     },
     "metadata": {},
     "output_type": "display_data"
    },
    {
     "name": "stdout",
     "output_type": "stream",
     "text": [
      "Epoch 25/500\n"
     ]
    },
    {
     "data": {
      "application/vnd.jupyter.widget-view+json": {
       "model_id": "8da2e72b0b56461ea4b87d3f7b567efd",
       "version_major": 2,
       "version_minor": 0
      },
      "text/plain": [
       "0/355           ETA: ?s - "
      ]
     },
     "metadata": {},
     "output_type": "display_data"
    },
    {
     "name": "stdout",
     "output_type": "stream",
     "text": [
      "Epoch 26/500\n"
     ]
    },
    {
     "data": {
      "application/vnd.jupyter.widget-view+json": {
       "model_id": "f3be70b45a654940ae50ea9138a7d3d5",
       "version_major": 2,
       "version_minor": 0
      },
      "text/plain": [
       "0/355           ETA: ?s - "
      ]
     },
     "metadata": {},
     "output_type": "display_data"
    },
    {
     "name": "stdout",
     "output_type": "stream",
     "text": [
      "Epoch 27/500\n"
     ]
    },
    {
     "data": {
      "application/vnd.jupyter.widget-view+json": {
       "model_id": "5e27538d1781455aa98f146f25d924d5",
       "version_major": 2,
       "version_minor": 0
      },
      "text/plain": [
       "0/355           ETA: ?s - "
      ]
     },
     "metadata": {},
     "output_type": "display_data"
    },
    {
     "name": "stdout",
     "output_type": "stream",
     "text": [
      "Epoch 28/500\n"
     ]
    },
    {
     "data": {
      "application/vnd.jupyter.widget-view+json": {
       "model_id": "ae540c6e05df455d9c0c0791372249a1",
       "version_major": 2,
       "version_minor": 0
      },
      "text/plain": [
       "0/355           ETA: ?s - "
      ]
     },
     "metadata": {},
     "output_type": "display_data"
    },
    {
     "name": "stdout",
     "output_type": "stream",
     "text": [
      "Epoch 29/500\n"
     ]
    },
    {
     "data": {
      "application/vnd.jupyter.widget-view+json": {
       "model_id": "0b4dfb0261b3407a99c5d435383808c1",
       "version_major": 2,
       "version_minor": 0
      },
      "text/plain": [
       "0/355           ETA: ?s - "
      ]
     },
     "metadata": {},
     "output_type": "display_data"
    },
    {
     "name": "stdout",
     "output_type": "stream",
     "text": [
      "Epoch 30/500\n"
     ]
    },
    {
     "data": {
      "application/vnd.jupyter.widget-view+json": {
       "model_id": "9796c83a969d442d90c1dc3b05d29944",
       "version_major": 2,
       "version_minor": 0
      },
      "text/plain": [
       "0/355           ETA: ?s - "
      ]
     },
     "metadata": {},
     "output_type": "display_data"
    },
    {
     "name": "stdout",
     "output_type": "stream",
     "text": [
      "Epoch 31/500\n"
     ]
    },
    {
     "data": {
      "application/vnd.jupyter.widget-view+json": {
       "model_id": "45d886f9aed74aa1b5d8a5e3a8232637",
       "version_major": 2,
       "version_minor": 0
      },
      "text/plain": [
       "0/355           ETA: ?s - "
      ]
     },
     "metadata": {},
     "output_type": "display_data"
    },
    {
     "name": "stdout",
     "output_type": "stream",
     "text": [
      "Epoch 32/500\n"
     ]
    },
    {
     "data": {
      "application/vnd.jupyter.widget-view+json": {
       "model_id": "c40b70b9dabc494e9a2ee9b59010a13e",
       "version_major": 2,
       "version_minor": 0
      },
      "text/plain": [
       "0/355           ETA: ?s - "
      ]
     },
     "metadata": {},
     "output_type": "display_data"
    },
    {
     "name": "stdout",
     "output_type": "stream",
     "text": [
      "Epoch 33/500\n"
     ]
    },
    {
     "data": {
      "application/vnd.jupyter.widget-view+json": {
       "model_id": "c595c3af7d854f468915c98c0d1e293d",
       "version_major": 2,
       "version_minor": 0
      },
      "text/plain": [
       "0/355           ETA: ?s - "
      ]
     },
     "metadata": {},
     "output_type": "display_data"
    },
    {
     "name": "stdout",
     "output_type": "stream",
     "text": [
      "Epoch 34/500\n"
     ]
    },
    {
     "data": {
      "application/vnd.jupyter.widget-view+json": {
       "model_id": "78246f34589747ec992100abd179c5e8",
       "version_major": 2,
       "version_minor": 0
      },
      "text/plain": [
       "0/355           ETA: ?s - "
      ]
     },
     "metadata": {},
     "output_type": "display_data"
    },
    {
     "name": "stdout",
     "output_type": "stream",
     "text": [
      "Epoch 35/500\n"
     ]
    },
    {
     "data": {
      "application/vnd.jupyter.widget-view+json": {
       "model_id": "aca0f085593540d99d58c7d1949fbf81",
       "version_major": 2,
       "version_minor": 0
      },
      "text/plain": [
       "0/355           ETA: ?s - "
      ]
     },
     "metadata": {},
     "output_type": "display_data"
    },
    {
     "name": "stdout",
     "output_type": "stream",
     "text": [
      "Epoch 36/500\n"
     ]
    },
    {
     "data": {
      "application/vnd.jupyter.widget-view+json": {
       "model_id": "dcc4d3d09cf8470c8fda1596273d37fe",
       "version_major": 2,
       "version_minor": 0
      },
      "text/plain": [
       "0/355           ETA: ?s - "
      ]
     },
     "metadata": {},
     "output_type": "display_data"
    },
    {
     "name": "stdout",
     "output_type": "stream",
     "text": [
      "Epoch 37/500\n"
     ]
    },
    {
     "data": {
      "application/vnd.jupyter.widget-view+json": {
       "model_id": "33f9e4531421436ab6a0d2dee43b9ea3",
       "version_major": 2,
       "version_minor": 0
      },
      "text/plain": [
       "0/355           ETA: ?s - "
      ]
     },
     "metadata": {},
     "output_type": "display_data"
    },
    {
     "name": "stdout",
     "output_type": "stream",
     "text": [
      "Epoch 38/500\n"
     ]
    },
    {
     "data": {
      "application/vnd.jupyter.widget-view+json": {
       "model_id": "9427e764511e48b490c30f097baf6bc7",
       "version_major": 2,
       "version_minor": 0
      },
      "text/plain": [
       "0/355           ETA: ?s - "
      ]
     },
     "metadata": {},
     "output_type": "display_data"
    },
    {
     "name": "stdout",
     "output_type": "stream",
     "text": [
      "Epoch 39/500\n"
     ]
    },
    {
     "data": {
      "application/vnd.jupyter.widget-view+json": {
       "model_id": "cc181fbdc2894437b24e110832e0ed59",
       "version_major": 2,
       "version_minor": 0
      },
      "text/plain": [
       "0/355           ETA: ?s - "
      ]
     },
     "metadata": {},
     "output_type": "display_data"
    },
    {
     "name": "stdout",
     "output_type": "stream",
     "text": [
      "Epoch 40/500\n"
     ]
    },
    {
     "data": {
      "application/vnd.jupyter.widget-view+json": {
       "model_id": "20698335e8164364904f1b8838987bd9",
       "version_major": 2,
       "version_minor": 0
      },
      "text/plain": [
       "0/355           ETA: ?s - "
      ]
     },
     "metadata": {},
     "output_type": "display_data"
    },
    {
     "name": "stdout",
     "output_type": "stream",
     "text": [
      "Epoch 41/500\n"
     ]
    },
    {
     "data": {
      "application/vnd.jupyter.widget-view+json": {
       "model_id": "e641da1ed93949f9bbdcf76ccc8c83f1",
       "version_major": 2,
       "version_minor": 0
      },
      "text/plain": [
       "0/355           ETA: ?s - "
      ]
     },
     "metadata": {},
     "output_type": "display_data"
    },
    {
     "name": "stdout",
     "output_type": "stream",
     "text": [
      "Epoch 42/500\n"
     ]
    },
    {
     "data": {
      "application/vnd.jupyter.widget-view+json": {
       "model_id": "ae067c2e77644acb98656e9913707f74",
       "version_major": 2,
       "version_minor": 0
      },
      "text/plain": [
       "0/355           ETA: ?s - "
      ]
     },
     "metadata": {},
     "output_type": "display_data"
    },
    {
     "name": "stdout",
     "output_type": "stream",
     "text": [
      "Epoch 43/500\n"
     ]
    },
    {
     "data": {
      "application/vnd.jupyter.widget-view+json": {
       "model_id": "75bb414aa92c449d93e596bb0efbcbb7",
       "version_major": 2,
       "version_minor": 0
      },
      "text/plain": [
       "0/355           ETA: ?s - "
      ]
     },
     "metadata": {},
     "output_type": "display_data"
    },
    {
     "name": "stdout",
     "output_type": "stream",
     "text": [
      "Epoch 44/500\n"
     ]
    },
    {
     "data": {
      "application/vnd.jupyter.widget-view+json": {
       "model_id": "21bac8c6a16a4940909eec978978b467",
       "version_major": 2,
       "version_minor": 0
      },
      "text/plain": [
       "0/355           ETA: ?s - "
      ]
     },
     "metadata": {},
     "output_type": "display_data"
    },
    {
     "name": "stdout",
     "output_type": "stream",
     "text": [
      "Epoch 45/500\n"
     ]
    },
    {
     "data": {
      "application/vnd.jupyter.widget-view+json": {
       "model_id": "231f0cd3c85a448b9b6c2e357254cd1e",
       "version_major": 2,
       "version_minor": 0
      },
      "text/plain": [
       "0/355           ETA: ?s - "
      ]
     },
     "metadata": {},
     "output_type": "display_data"
    },
    {
     "name": "stdout",
     "output_type": "stream",
     "text": [
      "Epoch 46/500\n"
     ]
    },
    {
     "data": {
      "application/vnd.jupyter.widget-view+json": {
       "model_id": "a4389757223c41d088e36c820bcd6a74",
       "version_major": 2,
       "version_minor": 0
      },
      "text/plain": [
       "0/355           ETA: ?s - "
      ]
     },
     "metadata": {},
     "output_type": "display_data"
    },
    {
     "name": "stdout",
     "output_type": "stream",
     "text": [
      "Epoch 47/500\n"
     ]
    },
    {
     "data": {
      "application/vnd.jupyter.widget-view+json": {
       "model_id": "dafbbfdec8224a5b843616874c0ec1bd",
       "version_major": 2,
       "version_minor": 0
      },
      "text/plain": [
       "0/355           ETA: ?s - "
      ]
     },
     "metadata": {},
     "output_type": "display_data"
    },
    {
     "name": "stdout",
     "output_type": "stream",
     "text": [
      "Epoch 48/500\n"
     ]
    },
    {
     "data": {
      "application/vnd.jupyter.widget-view+json": {
       "model_id": "a1978a368c344a2894954baf3b79073c",
       "version_major": 2,
       "version_minor": 0
      },
      "text/plain": [
       "0/355           ETA: ?s - "
      ]
     },
     "metadata": {},
     "output_type": "display_data"
    },
    {
     "name": "stdout",
     "output_type": "stream",
     "text": [
      "Epoch 49/500\n"
     ]
    },
    {
     "data": {
      "application/vnd.jupyter.widget-view+json": {
       "model_id": "518ef6f70ba54ff685652601ec331d97",
       "version_major": 2,
       "version_minor": 0
      },
      "text/plain": [
       "0/355           ETA: ?s - "
      ]
     },
     "metadata": {},
     "output_type": "display_data"
    },
    {
     "name": "stdout",
     "output_type": "stream",
     "text": [
      "Epoch 50/500\n"
     ]
    },
    {
     "data": {
      "application/vnd.jupyter.widget-view+json": {
       "model_id": "c163f79957024e1297315baed7b00267",
       "version_major": 2,
       "version_minor": 0
      },
      "text/plain": [
       "0/355           ETA: ?s - "
      ]
     },
     "metadata": {},
     "output_type": "display_data"
    },
    {
     "name": "stdout",
     "output_type": "stream",
     "text": [
      "Epoch 51/500\n"
     ]
    },
    {
     "data": {
      "application/vnd.jupyter.widget-view+json": {
       "model_id": "6a86538756eb42b880872c6e30862a1f",
       "version_major": 2,
       "version_minor": 0
      },
      "text/plain": [
       "0/355           ETA: ?s - "
      ]
     },
     "metadata": {},
     "output_type": "display_data"
    },
    {
     "name": "stdout",
     "output_type": "stream",
     "text": [
      "Epoch 52/500\n"
     ]
    },
    {
     "data": {
      "application/vnd.jupyter.widget-view+json": {
       "model_id": "12b8504aa93e483daadf202acc09c99e",
       "version_major": 2,
       "version_minor": 0
      },
      "text/plain": [
       "0/355           ETA: ?s - "
      ]
     },
     "metadata": {},
     "output_type": "display_data"
    },
    {
     "name": "stdout",
     "output_type": "stream",
     "text": [
      "Epoch 53/500\n"
     ]
    },
    {
     "data": {
      "application/vnd.jupyter.widget-view+json": {
       "model_id": "2ffac23cb90e4363a0f80bf5bee7f131",
       "version_major": 2,
       "version_minor": 0
      },
      "text/plain": [
       "0/355           ETA: ?s - "
      ]
     },
     "metadata": {},
     "output_type": "display_data"
    },
    {
     "name": "stdout",
     "output_type": "stream",
     "text": [
      "Epoch 54/500\n"
     ]
    },
    {
     "data": {
      "application/vnd.jupyter.widget-view+json": {
       "model_id": "d8d7f6e2237b4b4fae50dcfd31a884b8",
       "version_major": 2,
       "version_minor": 0
      },
      "text/plain": [
       "0/355           ETA: ?s - "
      ]
     },
     "metadata": {},
     "output_type": "display_data"
    },
    {
     "name": "stdout",
     "output_type": "stream",
     "text": [
      "Epoch 55/500\n"
     ]
    },
    {
     "data": {
      "application/vnd.jupyter.widget-view+json": {
       "model_id": "2ccea0f357344e4cafe8fec6edff9f59",
       "version_major": 2,
       "version_minor": 0
      },
      "text/plain": [
       "0/355           ETA: ?s - "
      ]
     },
     "metadata": {},
     "output_type": "display_data"
    },
    {
     "name": "stdout",
     "output_type": "stream",
     "text": [
      "Epoch 56/500\n"
     ]
    },
    {
     "data": {
      "application/vnd.jupyter.widget-view+json": {
       "model_id": "e6b72f59676a44e89a87b64ab64a242e",
       "version_major": 2,
       "version_minor": 0
      },
      "text/plain": [
       "0/355           ETA: ?s - "
      ]
     },
     "metadata": {},
     "output_type": "display_data"
    },
    {
     "name": "stdout",
     "output_type": "stream",
     "text": [
      "Epoch 57/500\n"
     ]
    },
    {
     "data": {
      "application/vnd.jupyter.widget-view+json": {
       "model_id": "a727003d11734eaa8a4f1344dc6e2387",
       "version_major": 2,
       "version_minor": 0
      },
      "text/plain": [
       "0/355           ETA: ?s - "
      ]
     },
     "metadata": {},
     "output_type": "display_data"
    },
    {
     "name": "stdout",
     "output_type": "stream",
     "text": [
      "Epoch 58/500\n"
     ]
    },
    {
     "data": {
      "application/vnd.jupyter.widget-view+json": {
       "model_id": "030fde32bf4e4f609568c43d30e13f81",
       "version_major": 2,
       "version_minor": 0
      },
      "text/plain": [
       "0/355           ETA: ?s - "
      ]
     },
     "metadata": {},
     "output_type": "display_data"
    },
    {
     "name": "stdout",
     "output_type": "stream",
     "text": [
      "Epoch 59/500\n"
     ]
    },
    {
     "data": {
      "application/vnd.jupyter.widget-view+json": {
       "model_id": "7a65364f7cec47069784706add024671",
       "version_major": 2,
       "version_minor": 0
      },
      "text/plain": [
       "0/355           ETA: ?s - "
      ]
     },
     "metadata": {},
     "output_type": "display_data"
    },
    {
     "name": "stdout",
     "output_type": "stream",
     "text": [
      "Epoch 60/500\n"
     ]
    },
    {
     "data": {
      "application/vnd.jupyter.widget-view+json": {
       "model_id": "7b2473b44aca4e25938824fa7e5856a7",
       "version_major": 2,
       "version_minor": 0
      },
      "text/plain": [
       "0/355           ETA: ?s - "
      ]
     },
     "metadata": {},
     "output_type": "display_data"
    },
    {
     "name": "stdout",
     "output_type": "stream",
     "text": [
      "Epoch 61/500\n"
     ]
    },
    {
     "data": {
      "application/vnd.jupyter.widget-view+json": {
       "model_id": "0782ffbf60c946cf9cb148a2297d3820",
       "version_major": 2,
       "version_minor": 0
      },
      "text/plain": [
       "0/355           ETA: ?s - "
      ]
     },
     "metadata": {},
     "output_type": "display_data"
    },
    {
     "name": "stdout",
     "output_type": "stream",
     "text": [
      "Epoch 62/500\n"
     ]
    },
    {
     "data": {
      "application/vnd.jupyter.widget-view+json": {
       "model_id": "64f80cf4de72432598e62f088f5a1063",
       "version_major": 2,
       "version_minor": 0
      },
      "text/plain": [
       "0/355           ETA: ?s - "
      ]
     },
     "metadata": {},
     "output_type": "display_data"
    },
    {
     "name": "stdout",
     "output_type": "stream",
     "text": [
      "Epoch 63/500\n"
     ]
    },
    {
     "data": {
      "application/vnd.jupyter.widget-view+json": {
       "model_id": "4477779b60aa40b98fbbd94f9c69822a",
       "version_major": 2,
       "version_minor": 0
      },
      "text/plain": [
       "0/355           ETA: ?s - "
      ]
     },
     "metadata": {},
     "output_type": "display_data"
    },
    {
     "name": "stdout",
     "output_type": "stream",
     "text": [
      "Epoch 64/500\n"
     ]
    },
    {
     "data": {
      "application/vnd.jupyter.widget-view+json": {
       "model_id": "869bc334fc9542168a6e02ba84d4fbcf",
       "version_major": 2,
       "version_minor": 0
      },
      "text/plain": [
       "0/355           ETA: ?s - "
      ]
     },
     "metadata": {},
     "output_type": "display_data"
    },
    {
     "name": "stdout",
     "output_type": "stream",
     "text": [
      "Epoch 65/500\n"
     ]
    },
    {
     "data": {
      "application/vnd.jupyter.widget-view+json": {
       "model_id": "aea59a37c9ef43e486daebe6f3f62177",
       "version_major": 2,
       "version_minor": 0
      },
      "text/plain": [
       "0/355           ETA: ?s - "
      ]
     },
     "metadata": {},
     "output_type": "display_data"
    },
    {
     "name": "stdout",
     "output_type": "stream",
     "text": [
      "Epoch 66/500\n"
     ]
    },
    {
     "data": {
      "application/vnd.jupyter.widget-view+json": {
       "model_id": "f4ce8a9061b140129480ea0928e0fdba",
       "version_major": 2,
       "version_minor": 0
      },
      "text/plain": [
       "0/355           ETA: ?s - "
      ]
     },
     "metadata": {},
     "output_type": "display_data"
    },
    {
     "name": "stdout",
     "output_type": "stream",
     "text": [
      "Epoch 67/500\n"
     ]
    },
    {
     "data": {
      "application/vnd.jupyter.widget-view+json": {
       "model_id": "216e05bc47ab48ab95904078c5a4fe3d",
       "version_major": 2,
       "version_minor": 0
      },
      "text/plain": [
       "0/355           ETA: ?s - "
      ]
     },
     "metadata": {},
     "output_type": "display_data"
    },
    {
     "name": "stdout",
     "output_type": "stream",
     "text": [
      "Epoch 68/500\n"
     ]
    },
    {
     "data": {
      "application/vnd.jupyter.widget-view+json": {
       "model_id": "f62fe0e55c1845458cb4230a5652bab2",
       "version_major": 2,
       "version_minor": 0
      },
      "text/plain": [
       "0/355           ETA: ?s - "
      ]
     },
     "metadata": {},
     "output_type": "display_data"
    },
    {
     "name": "stdout",
     "output_type": "stream",
     "text": [
      "Epoch 69/500\n"
     ]
    },
    {
     "data": {
      "application/vnd.jupyter.widget-view+json": {
       "model_id": "d7d8accefd924451a87b2004c153e9e2",
       "version_major": 2,
       "version_minor": 0
      },
      "text/plain": [
       "0/355           ETA: ?s - "
      ]
     },
     "metadata": {},
     "output_type": "display_data"
    },
    {
     "name": "stdout",
     "output_type": "stream",
     "text": [
      "Epoch 70/500\n"
     ]
    },
    {
     "data": {
      "application/vnd.jupyter.widget-view+json": {
       "model_id": "7dc74847394b4cae8e26e039173ba988",
       "version_major": 2,
       "version_minor": 0
      },
      "text/plain": [
       "0/355           ETA: ?s - "
      ]
     },
     "metadata": {},
     "output_type": "display_data"
    },
    {
     "name": "stdout",
     "output_type": "stream",
     "text": [
      "Epoch 71/500\n"
     ]
    },
    {
     "data": {
      "application/vnd.jupyter.widget-view+json": {
       "model_id": "a1351d5b2b42434c933f27d291639ceb",
       "version_major": 2,
       "version_minor": 0
      },
      "text/plain": [
       "0/355           ETA: ?s - "
      ]
     },
     "metadata": {},
     "output_type": "display_data"
    },
    {
     "name": "stdout",
     "output_type": "stream",
     "text": [
      "Epoch 72/500\n"
     ]
    },
    {
     "data": {
      "application/vnd.jupyter.widget-view+json": {
       "model_id": "3e1bb52b9ac64c78944ea58470e89ede",
       "version_major": 2,
       "version_minor": 0
      },
      "text/plain": [
       "0/355           ETA: ?s - "
      ]
     },
     "metadata": {},
     "output_type": "display_data"
    },
    {
     "name": "stdout",
     "output_type": "stream",
     "text": [
      "Epoch 73/500\n"
     ]
    },
    {
     "data": {
      "application/vnd.jupyter.widget-view+json": {
       "model_id": "1b4fc96040c34d3fa8cff0c9621bfaa2",
       "version_major": 2,
       "version_minor": 0
      },
      "text/plain": [
       "0/355           ETA: ?s - "
      ]
     },
     "metadata": {},
     "output_type": "display_data"
    },
    {
     "name": "stdout",
     "output_type": "stream",
     "text": [
      "Epoch 74/500\n"
     ]
    },
    {
     "data": {
      "application/vnd.jupyter.widget-view+json": {
       "model_id": "92928bab3cba4a6495608200153a7195",
       "version_major": 2,
       "version_minor": 0
      },
      "text/plain": [
       "0/355           ETA: ?s - "
      ]
     },
     "metadata": {},
     "output_type": "display_data"
    },
    {
     "name": "stdout",
     "output_type": "stream",
     "text": [
      "Epoch 75/500\n"
     ]
    },
    {
     "data": {
      "application/vnd.jupyter.widget-view+json": {
       "model_id": "fb5fe5514bff48da91bdce8d667c8c38",
       "version_major": 2,
       "version_minor": 0
      },
      "text/plain": [
       "0/355           ETA: ?s - "
      ]
     },
     "metadata": {},
     "output_type": "display_data"
    },
    {
     "name": "stdout",
     "output_type": "stream",
     "text": [
      "Epoch 76/500\n"
     ]
    },
    {
     "data": {
      "application/vnd.jupyter.widget-view+json": {
       "model_id": "cc67d82fd7de43528bf35d74fd0c6839",
       "version_major": 2,
       "version_minor": 0
      },
      "text/plain": [
       "0/355           ETA: ?s - "
      ]
     },
     "metadata": {},
     "output_type": "display_data"
    },
    {
     "name": "stdout",
     "output_type": "stream",
     "text": [
      "Epoch 77/500\n"
     ]
    },
    {
     "data": {
      "application/vnd.jupyter.widget-view+json": {
       "model_id": "fe671f4811194577a99d23bcbbe097df",
       "version_major": 2,
       "version_minor": 0
      },
      "text/plain": [
       "0/355           ETA: ?s - "
      ]
     },
     "metadata": {},
     "output_type": "display_data"
    },
    {
     "name": "stdout",
     "output_type": "stream",
     "text": [
      "Epoch 78/500\n"
     ]
    },
    {
     "data": {
      "application/vnd.jupyter.widget-view+json": {
       "model_id": "b7798e6dabc64adab209dc5253f2c508",
       "version_major": 2,
       "version_minor": 0
      },
      "text/plain": [
       "0/355           ETA: ?s - "
      ]
     },
     "metadata": {},
     "output_type": "display_data"
    },
    {
     "name": "stdout",
     "output_type": "stream",
     "text": [
      "Epoch 79/500\n"
     ]
    },
    {
     "data": {
      "application/vnd.jupyter.widget-view+json": {
       "model_id": "f63151f174984a78a79b6c836939ebe3",
       "version_major": 2,
       "version_minor": 0
      },
      "text/plain": [
       "0/355           ETA: ?s - "
      ]
     },
     "metadata": {},
     "output_type": "display_data"
    },
    {
     "name": "stdout",
     "output_type": "stream",
     "text": [
      "Epoch 80/500\n"
     ]
    },
    {
     "data": {
      "application/vnd.jupyter.widget-view+json": {
       "model_id": "0dd2e6ccf254463cb0a81c8bb434003e",
       "version_major": 2,
       "version_minor": 0
      },
      "text/plain": [
       "0/355           ETA: ?s - "
      ]
     },
     "metadata": {},
     "output_type": "display_data"
    },
    {
     "name": "stdout",
     "output_type": "stream",
     "text": [
      "Epoch 81/500\n"
     ]
    },
    {
     "data": {
      "application/vnd.jupyter.widget-view+json": {
       "model_id": "39ec0bcb948e420fb382ac78d2b7a69c",
       "version_major": 2,
       "version_minor": 0
      },
      "text/plain": [
       "0/355           ETA: ?s - "
      ]
     },
     "metadata": {},
     "output_type": "display_data"
    },
    {
     "name": "stdout",
     "output_type": "stream",
     "text": [
      "Epoch 82/500\n"
     ]
    },
    {
     "data": {
      "application/vnd.jupyter.widget-view+json": {
       "model_id": "0dcc8481bcae4c81a3187f24026a844f",
       "version_major": 2,
       "version_minor": 0
      },
      "text/plain": [
       "0/355           ETA: ?s - "
      ]
     },
     "metadata": {},
     "output_type": "display_data"
    },
    {
     "name": "stdout",
     "output_type": "stream",
     "text": [
      "Epoch 83/500\n"
     ]
    },
    {
     "data": {
      "application/vnd.jupyter.widget-view+json": {
       "model_id": "70be3e996ee749748e877804716e84f7",
       "version_major": 2,
       "version_minor": 0
      },
      "text/plain": [
       "0/355           ETA: ?s - "
      ]
     },
     "metadata": {},
     "output_type": "display_data"
    },
    {
     "name": "stdout",
     "output_type": "stream",
     "text": [
      "Epoch 84/500\n"
     ]
    },
    {
     "data": {
      "application/vnd.jupyter.widget-view+json": {
       "model_id": "fbc8e0f9697e484da4bf8739eea79513",
       "version_major": 2,
       "version_minor": 0
      },
      "text/plain": [
       "0/355           ETA: ?s - "
      ]
     },
     "metadata": {},
     "output_type": "display_data"
    },
    {
     "name": "stdout",
     "output_type": "stream",
     "text": [
      "Epoch 85/500\n"
     ]
    },
    {
     "data": {
      "application/vnd.jupyter.widget-view+json": {
       "model_id": "60376fea517d473da58e434471ae072a",
       "version_major": 2,
       "version_minor": 0
      },
      "text/plain": [
       "0/355           ETA: ?s - "
      ]
     },
     "metadata": {},
     "output_type": "display_data"
    },
    {
     "name": "stdout",
     "output_type": "stream",
     "text": [
      "Epoch 86/500\n"
     ]
    },
    {
     "data": {
      "application/vnd.jupyter.widget-view+json": {
       "model_id": "62ee9a0d150345acb2ee2b198327d328",
       "version_major": 2,
       "version_minor": 0
      },
      "text/plain": [
       "0/355           ETA: ?s - "
      ]
     },
     "metadata": {},
     "output_type": "display_data"
    },
    {
     "name": "stdout",
     "output_type": "stream",
     "text": [
      "Epoch 87/500\n"
     ]
    },
    {
     "data": {
      "application/vnd.jupyter.widget-view+json": {
       "model_id": "c5584bb8bca04fababb56d2e386aee5d",
       "version_major": 2,
       "version_minor": 0
      },
      "text/plain": [
       "0/355           ETA: ?s - "
      ]
     },
     "metadata": {},
     "output_type": "display_data"
    },
    {
     "name": "stdout",
     "output_type": "stream",
     "text": [
      "Epoch 88/500\n"
     ]
    },
    {
     "data": {
      "application/vnd.jupyter.widget-view+json": {
       "model_id": "b312a180a1a440b79ec6bee65b6010fa",
       "version_major": 2,
       "version_minor": 0
      },
      "text/plain": [
       "0/355           ETA: ?s - "
      ]
     },
     "metadata": {},
     "output_type": "display_data"
    },
    {
     "name": "stdout",
     "output_type": "stream",
     "text": [
      "Epoch 89/500\n"
     ]
    },
    {
     "data": {
      "application/vnd.jupyter.widget-view+json": {
       "model_id": "cbb7232ae8ae46b7a10a7f597c668969",
       "version_major": 2,
       "version_minor": 0
      },
      "text/plain": [
       "0/355           ETA: ?s - "
      ]
     },
     "metadata": {},
     "output_type": "display_data"
    },
    {
     "name": "stdout",
     "output_type": "stream",
     "text": [
      "Epoch 90/500\n"
     ]
    },
    {
     "data": {
      "application/vnd.jupyter.widget-view+json": {
       "model_id": "c6442732374d4951b5b5ef4c1f46b17d",
       "version_major": 2,
       "version_minor": 0
      },
      "text/plain": [
       "0/355           ETA: ?s - "
      ]
     },
     "metadata": {},
     "output_type": "display_data"
    },
    {
     "name": "stdout",
     "output_type": "stream",
     "text": [
      "Epoch 91/500\n"
     ]
    },
    {
     "data": {
      "application/vnd.jupyter.widget-view+json": {
       "model_id": "68b59fa333824c6b8fb62acbf226faa6",
       "version_major": 2,
       "version_minor": 0
      },
      "text/plain": [
       "0/355           ETA: ?s - "
      ]
     },
     "metadata": {},
     "output_type": "display_data"
    },
    {
     "name": "stdout",
     "output_type": "stream",
     "text": [
      "Epoch 92/500\n"
     ]
    },
    {
     "data": {
      "application/vnd.jupyter.widget-view+json": {
       "model_id": "adf3c8edaa9647de83bcc183edf69167",
       "version_major": 2,
       "version_minor": 0
      },
      "text/plain": [
       "0/355           ETA: ?s - "
      ]
     },
     "metadata": {},
     "output_type": "display_data"
    },
    {
     "name": "stdout",
     "output_type": "stream",
     "text": [
      "Epoch 93/500\n"
     ]
    },
    {
     "data": {
      "application/vnd.jupyter.widget-view+json": {
       "model_id": "cfaa1c985f87458793f8b254127693d4",
       "version_major": 2,
       "version_minor": 0
      },
      "text/plain": [
       "0/355           ETA: ?s - "
      ]
     },
     "metadata": {},
     "output_type": "display_data"
    },
    {
     "name": "stdout",
     "output_type": "stream",
     "text": [
      "Epoch 94/500\n"
     ]
    },
    {
     "data": {
      "application/vnd.jupyter.widget-view+json": {
       "model_id": "4e7544f197114604ad6150d1809d497a",
       "version_major": 2,
       "version_minor": 0
      },
      "text/plain": [
       "0/355           ETA: ?s - "
      ]
     },
     "metadata": {},
     "output_type": "display_data"
    },
    {
     "name": "stdout",
     "output_type": "stream",
     "text": [
      "Epoch 95/500\n"
     ]
    },
    {
     "data": {
      "application/vnd.jupyter.widget-view+json": {
       "model_id": "3751aa673a504b3aa9c3cad390ffe6f2",
       "version_major": 2,
       "version_minor": 0
      },
      "text/plain": [
       "0/355           ETA: ?s - "
      ]
     },
     "metadata": {},
     "output_type": "display_data"
    },
    {
     "name": "stdout",
     "output_type": "stream",
     "text": [
      "Epoch 96/500\n"
     ]
    },
    {
     "data": {
      "application/vnd.jupyter.widget-view+json": {
       "model_id": "4e9b6a236be6459b9c776625755d530f",
       "version_major": 2,
       "version_minor": 0
      },
      "text/plain": [
       "0/355           ETA: ?s - "
      ]
     },
     "metadata": {},
     "output_type": "display_data"
    },
    {
     "name": "stdout",
     "output_type": "stream",
     "text": [
      "Epoch 97/500\n"
     ]
    },
    {
     "data": {
      "application/vnd.jupyter.widget-view+json": {
       "model_id": "2b7628b906694ea0b901cd837ad928bb",
       "version_major": 2,
       "version_minor": 0
      },
      "text/plain": [
       "0/355           ETA: ?s - "
      ]
     },
     "metadata": {},
     "output_type": "display_data"
    },
    {
     "name": "stdout",
     "output_type": "stream",
     "text": [
      "Epoch 98/500\n"
     ]
    },
    {
     "data": {
      "application/vnd.jupyter.widget-view+json": {
       "model_id": "fca397d7d5a548a18ddc40fd5138d7a1",
       "version_major": 2,
       "version_minor": 0
      },
      "text/plain": [
       "0/355           ETA: ?s - "
      ]
     },
     "metadata": {},
     "output_type": "display_data"
    },
    {
     "name": "stdout",
     "output_type": "stream",
     "text": [
      "Epoch 99/500\n"
     ]
    },
    {
     "data": {
      "application/vnd.jupyter.widget-view+json": {
       "model_id": "b6753bbe66ca4c789c0a5950362167dc",
       "version_major": 2,
       "version_minor": 0
      },
      "text/plain": [
       "0/355           ETA: ?s - "
      ]
     },
     "metadata": {},
     "output_type": "display_data"
    },
    {
     "name": "stdout",
     "output_type": "stream",
     "text": [
      "Epoch 100/500\n"
     ]
    },
    {
     "data": {
      "application/vnd.jupyter.widget-view+json": {
       "model_id": "881bbbc635304b1faa71eeb9a30c3142",
       "version_major": 2,
       "version_minor": 0
      },
      "text/plain": [
       "0/355           ETA: ?s - "
      ]
     },
     "metadata": {},
     "output_type": "display_data"
    },
    {
     "name": "stdout",
     "output_type": "stream",
     "text": [
      "Epoch 101/500\n"
     ]
    },
    {
     "data": {
      "application/vnd.jupyter.widget-view+json": {
       "model_id": "9861fc1898d34a23bddbb6c4175eec26",
       "version_major": 2,
       "version_minor": 0
      },
      "text/plain": [
       "0/355           ETA: ?s - "
      ]
     },
     "metadata": {},
     "output_type": "display_data"
    },
    {
     "name": "stdout",
     "output_type": "stream",
     "text": [
      "Epoch 102/500\n"
     ]
    },
    {
     "data": {
      "application/vnd.jupyter.widget-view+json": {
       "model_id": "b76202a1cc654890ba515d89cfcb80df",
       "version_major": 2,
       "version_minor": 0
      },
      "text/plain": [
       "0/355           ETA: ?s - "
      ]
     },
     "metadata": {},
     "output_type": "display_data"
    },
    {
     "name": "stdout",
     "output_type": "stream",
     "text": [
      "Epoch 103/500\n"
     ]
    },
    {
     "data": {
      "application/vnd.jupyter.widget-view+json": {
       "model_id": "1427962052274c0b8683ea07b6ca509c",
       "version_major": 2,
       "version_minor": 0
      },
      "text/plain": [
       "0/355           ETA: ?s - "
      ]
     },
     "metadata": {},
     "output_type": "display_data"
    },
    {
     "name": "stdout",
     "output_type": "stream",
     "text": [
      "Epoch 104/500\n"
     ]
    },
    {
     "data": {
      "application/vnd.jupyter.widget-view+json": {
       "model_id": "9369cd6ba1df48f6869ca7d29ce63d71",
       "version_major": 2,
       "version_minor": 0
      },
      "text/plain": [
       "0/355           ETA: ?s - "
      ]
     },
     "metadata": {},
     "output_type": "display_data"
    },
    {
     "name": "stdout",
     "output_type": "stream",
     "text": [
      "Epoch 105/500\n"
     ]
    },
    {
     "data": {
      "application/vnd.jupyter.widget-view+json": {
       "model_id": "f2beb3aa33eb49859a427bf8b7307881",
       "version_major": 2,
       "version_minor": 0
      },
      "text/plain": [
       "0/355           ETA: ?s - "
      ]
     },
     "metadata": {},
     "output_type": "display_data"
    },
    {
     "name": "stdout",
     "output_type": "stream",
     "text": [
      "Epoch 106/500\n"
     ]
    },
    {
     "data": {
      "application/vnd.jupyter.widget-view+json": {
       "model_id": "21751281a8af4720864525021627ad9e",
       "version_major": 2,
       "version_minor": 0
      },
      "text/plain": [
       "0/355           ETA: ?s - "
      ]
     },
     "metadata": {},
     "output_type": "display_data"
    },
    {
     "name": "stdout",
     "output_type": "stream",
     "text": [
      "Epoch 107/500\n"
     ]
    },
    {
     "data": {
      "application/vnd.jupyter.widget-view+json": {
       "model_id": "af06c69def0341c09cc8822e5fe06dcc",
       "version_major": 2,
       "version_minor": 0
      },
      "text/plain": [
       "0/355           ETA: ?s - "
      ]
     },
     "metadata": {},
     "output_type": "display_data"
    },
    {
     "name": "stdout",
     "output_type": "stream",
     "text": [
      "Epoch 108/500\n"
     ]
    },
    {
     "data": {
      "application/vnd.jupyter.widget-view+json": {
       "model_id": "7e89bce1492d430db31abc3820dbc39a",
       "version_major": 2,
       "version_minor": 0
      },
      "text/plain": [
       "0/355           ETA: ?s - "
      ]
     },
     "metadata": {},
     "output_type": "display_data"
    },
    {
     "name": "stdout",
     "output_type": "stream",
     "text": [
      "Epoch 109/500\n"
     ]
    },
    {
     "data": {
      "application/vnd.jupyter.widget-view+json": {
       "model_id": "c6348093a9334944ae152f1bff437c50",
       "version_major": 2,
       "version_minor": 0
      },
      "text/plain": [
       "0/355           ETA: ?s - "
      ]
     },
     "metadata": {},
     "output_type": "display_data"
    },
    {
     "name": "stdout",
     "output_type": "stream",
     "text": [
      "Epoch 110/500\n"
     ]
    },
    {
     "data": {
      "application/vnd.jupyter.widget-view+json": {
       "model_id": "ee1bf6d141e9432485077b15ab7575b5",
       "version_major": 2,
       "version_minor": 0
      },
      "text/plain": [
       "0/355           ETA: ?s - "
      ]
     },
     "metadata": {},
     "output_type": "display_data"
    },
    {
     "name": "stdout",
     "output_type": "stream",
     "text": [
      "Epoch 111/500\n"
     ]
    },
    {
     "data": {
      "application/vnd.jupyter.widget-view+json": {
       "model_id": "456a4308f8264e7095795abcc2e0521c",
       "version_major": 2,
       "version_minor": 0
      },
      "text/plain": [
       "0/355           ETA: ?s - "
      ]
     },
     "metadata": {},
     "output_type": "display_data"
    },
    {
     "name": "stdout",
     "output_type": "stream",
     "text": [
      "Epoch 112/500\n"
     ]
    },
    {
     "data": {
      "application/vnd.jupyter.widget-view+json": {
       "model_id": "abec09d45e074bc08c14af5399e9330c",
       "version_major": 2,
       "version_minor": 0
      },
      "text/plain": [
       "0/355           ETA: ?s - "
      ]
     },
     "metadata": {},
     "output_type": "display_data"
    },
    {
     "name": "stdout",
     "output_type": "stream",
     "text": [
      "Epoch 113/500\n"
     ]
    },
    {
     "data": {
      "application/vnd.jupyter.widget-view+json": {
       "model_id": "886cf4f3db254fe5816567857cbe0f2a",
       "version_major": 2,
       "version_minor": 0
      },
      "text/plain": [
       "0/355           ETA: ?s - "
      ]
     },
     "metadata": {},
     "output_type": "display_data"
    },
    {
     "name": "stdout",
     "output_type": "stream",
     "text": [
      "Epoch 114/500\n"
     ]
    },
    {
     "data": {
      "application/vnd.jupyter.widget-view+json": {
       "model_id": "da5750b708604f96be363bdc773d1160",
       "version_major": 2,
       "version_minor": 0
      },
      "text/plain": [
       "0/355           ETA: ?s - "
      ]
     },
     "metadata": {},
     "output_type": "display_data"
    },
    {
     "name": "stdout",
     "output_type": "stream",
     "text": [
      "Epoch 115/500\n"
     ]
    },
    {
     "data": {
      "application/vnd.jupyter.widget-view+json": {
       "model_id": "bdfda2ee8f954408a2d217b21581ec36",
       "version_major": 2,
       "version_minor": 0
      },
      "text/plain": [
       "0/355           ETA: ?s - "
      ]
     },
     "metadata": {},
     "output_type": "display_data"
    },
    {
     "name": "stdout",
     "output_type": "stream",
     "text": [
      "Epoch 116/500\n"
     ]
    },
    {
     "data": {
      "application/vnd.jupyter.widget-view+json": {
       "model_id": "056a6fc82e3f4aecae7e42e9917e82b3",
       "version_major": 2,
       "version_minor": 0
      },
      "text/plain": [
       "0/355           ETA: ?s - "
      ]
     },
     "metadata": {},
     "output_type": "display_data"
    },
    {
     "name": "stdout",
     "output_type": "stream",
     "text": [
      "Epoch 117/500\n"
     ]
    },
    {
     "data": {
      "application/vnd.jupyter.widget-view+json": {
       "model_id": "493ed7abb64e4418a09268e252ba4688",
       "version_major": 2,
       "version_minor": 0
      },
      "text/plain": [
       "0/355           ETA: ?s - "
      ]
     },
     "metadata": {},
     "output_type": "display_data"
    },
    {
     "name": "stdout",
     "output_type": "stream",
     "text": [
      "Epoch 118/500\n"
     ]
    },
    {
     "data": {
      "application/vnd.jupyter.widget-view+json": {
       "model_id": "599546094d264efaae5d8a00b1baa0da",
       "version_major": 2,
       "version_minor": 0
      },
      "text/plain": [
       "0/355           ETA: ?s - "
      ]
     },
     "metadata": {},
     "output_type": "display_data"
    },
    {
     "name": "stdout",
     "output_type": "stream",
     "text": [
      "Epoch 119/500\n"
     ]
    },
    {
     "data": {
      "application/vnd.jupyter.widget-view+json": {
       "model_id": "fdd25e3b618c4e01b7195a0bb6975102",
       "version_major": 2,
       "version_minor": 0
      },
      "text/plain": [
       "0/355           ETA: ?s - "
      ]
     },
     "metadata": {},
     "output_type": "display_data"
    },
    {
     "name": "stdout",
     "output_type": "stream",
     "text": [
      "Epoch 120/500\n"
     ]
    },
    {
     "data": {
      "application/vnd.jupyter.widget-view+json": {
       "model_id": "8b1108e26e5d4491bde8e6a607552b6b",
       "version_major": 2,
       "version_minor": 0
      },
      "text/plain": [
       "0/355           ETA: ?s - "
      ]
     },
     "metadata": {},
     "output_type": "display_data"
    },
    {
     "name": "stdout",
     "output_type": "stream",
     "text": [
      "Epoch 121/500\n"
     ]
    },
    {
     "data": {
      "application/vnd.jupyter.widget-view+json": {
       "model_id": "a26aa2174db0437cb7389c360208fa23",
       "version_major": 2,
       "version_minor": 0
      },
      "text/plain": [
       "0/355           ETA: ?s - "
      ]
     },
     "metadata": {},
     "output_type": "display_data"
    },
    {
     "name": "stdout",
     "output_type": "stream",
     "text": [
      "Epoch 122/500\n"
     ]
    },
    {
     "data": {
      "application/vnd.jupyter.widget-view+json": {
       "model_id": "e7376467169549099bfb163b0f91d764",
       "version_major": 2,
       "version_minor": 0
      },
      "text/plain": [
       "0/355           ETA: ?s - "
      ]
     },
     "metadata": {},
     "output_type": "display_data"
    },
    {
     "name": "stdout",
     "output_type": "stream",
     "text": [
      "Epoch 123/500\n"
     ]
    },
    {
     "data": {
      "application/vnd.jupyter.widget-view+json": {
       "model_id": "2740bdcbab6b44dfab8de11f187e7ae4",
       "version_major": 2,
       "version_minor": 0
      },
      "text/plain": [
       "0/355           ETA: ?s - "
      ]
     },
     "metadata": {},
     "output_type": "display_data"
    },
    {
     "name": "stdout",
     "output_type": "stream",
     "text": [
      "Epoch 124/500\n"
     ]
    },
    {
     "data": {
      "application/vnd.jupyter.widget-view+json": {
       "model_id": "7fe508749d54431f8a91b649d825a5ff",
       "version_major": 2,
       "version_minor": 0
      },
      "text/plain": [
       "0/355           ETA: ?s - "
      ]
     },
     "metadata": {},
     "output_type": "display_data"
    },
    {
     "name": "stdout",
     "output_type": "stream",
     "text": [
      "Epoch 125/500\n"
     ]
    },
    {
     "data": {
      "application/vnd.jupyter.widget-view+json": {
       "model_id": "a7a9a2eb150f402183d02da1eeef36c8",
       "version_major": 2,
       "version_minor": 0
      },
      "text/plain": [
       "0/355           ETA: ?s - "
      ]
     },
     "metadata": {},
     "output_type": "display_data"
    },
    {
     "name": "stdout",
     "output_type": "stream",
     "text": [
      "Epoch 126/500\n"
     ]
    },
    {
     "data": {
      "application/vnd.jupyter.widget-view+json": {
       "model_id": "60f9782041a04935aa0767e6fec4a1d9",
       "version_major": 2,
       "version_minor": 0
      },
      "text/plain": [
       "0/355           ETA: ?s - "
      ]
     },
     "metadata": {},
     "output_type": "display_data"
    },
    {
     "name": "stdout",
     "output_type": "stream",
     "text": [
      "Epoch 127/500\n"
     ]
    },
    {
     "data": {
      "application/vnd.jupyter.widget-view+json": {
       "model_id": "29a66e8983ee4191af1306245f229e1f",
       "version_major": 2,
       "version_minor": 0
      },
      "text/plain": [
       "0/355           ETA: ?s - "
      ]
     },
     "metadata": {},
     "output_type": "display_data"
    },
    {
     "name": "stdout",
     "output_type": "stream",
     "text": [
      "Epoch 128/500\n"
     ]
    },
    {
     "data": {
      "application/vnd.jupyter.widget-view+json": {
       "model_id": "fe48232e759d4382b917fea16af3fb74",
       "version_major": 2,
       "version_minor": 0
      },
      "text/plain": [
       "0/355           ETA: ?s - "
      ]
     },
     "metadata": {},
     "output_type": "display_data"
    },
    {
     "name": "stdout",
     "output_type": "stream",
     "text": [
      "Epoch 129/500\n"
     ]
    },
    {
     "data": {
      "application/vnd.jupyter.widget-view+json": {
       "model_id": "0b3d3f07485e4ddc8fe9ba41abccc5cc",
       "version_major": 2,
       "version_minor": 0
      },
      "text/plain": [
       "0/355           ETA: ?s - "
      ]
     },
     "metadata": {},
     "output_type": "display_data"
    },
    {
     "name": "stdout",
     "output_type": "stream",
     "text": [
      "Epoch 130/500\n"
     ]
    },
    {
     "data": {
      "application/vnd.jupyter.widget-view+json": {
       "model_id": "ff3f735c0f5e48e79e8e0a60347c57b2",
       "version_major": 2,
       "version_minor": 0
      },
      "text/plain": [
       "0/355           ETA: ?s - "
      ]
     },
     "metadata": {},
     "output_type": "display_data"
    },
    {
     "name": "stdout",
     "output_type": "stream",
     "text": [
      "Epoch 131/500\n"
     ]
    },
    {
     "data": {
      "application/vnd.jupyter.widget-view+json": {
       "model_id": "d151a7b1b2ed490bad02ea820452d81a",
       "version_major": 2,
       "version_minor": 0
      },
      "text/plain": [
       "0/355           ETA: ?s - "
      ]
     },
     "metadata": {},
     "output_type": "display_data"
    },
    {
     "name": "stdout",
     "output_type": "stream",
     "text": [
      "Epoch 132/500\n"
     ]
    },
    {
     "data": {
      "application/vnd.jupyter.widget-view+json": {
       "model_id": "9dc9ed06dc384fc08d99562ff87399d9",
       "version_major": 2,
       "version_minor": 0
      },
      "text/plain": [
       "0/355           ETA: ?s - "
      ]
     },
     "metadata": {},
     "output_type": "display_data"
    },
    {
     "name": "stdout",
     "output_type": "stream",
     "text": [
      "Epoch 133/500\n"
     ]
    },
    {
     "data": {
      "application/vnd.jupyter.widget-view+json": {
       "model_id": "34c6ca8fa97d4a619d2b8967d17c8be1",
       "version_major": 2,
       "version_minor": 0
      },
      "text/plain": [
       "0/355           ETA: ?s - "
      ]
     },
     "metadata": {},
     "output_type": "display_data"
    },
    {
     "name": "stdout",
     "output_type": "stream",
     "text": [
      "Epoch 134/500\n"
     ]
    },
    {
     "data": {
      "application/vnd.jupyter.widget-view+json": {
       "model_id": "c9f7b32b0ab54c3885692a79e913601b",
       "version_major": 2,
       "version_minor": 0
      },
      "text/plain": [
       "0/355           ETA: ?s - "
      ]
     },
     "metadata": {},
     "output_type": "display_data"
    },
    {
     "name": "stdout",
     "output_type": "stream",
     "text": [
      "Epoch 135/500\n"
     ]
    },
    {
     "data": {
      "application/vnd.jupyter.widget-view+json": {
       "model_id": "92dd750729ef428ea91d9d55d11dc0fa",
       "version_major": 2,
       "version_minor": 0
      },
      "text/plain": [
       "0/355           ETA: ?s - "
      ]
     },
     "metadata": {},
     "output_type": "display_data"
    },
    {
     "name": "stdout",
     "output_type": "stream",
     "text": [
      "Epoch 136/500\n"
     ]
    },
    {
     "data": {
      "application/vnd.jupyter.widget-view+json": {
       "model_id": "fbdfb714280b41bda4a258265a2bdb9a",
       "version_major": 2,
       "version_minor": 0
      },
      "text/plain": [
       "0/355           ETA: ?s - "
      ]
     },
     "metadata": {},
     "output_type": "display_data"
    },
    {
     "name": "stdout",
     "output_type": "stream",
     "text": [
      "Epoch 137/500\n"
     ]
    },
    {
     "data": {
      "application/vnd.jupyter.widget-view+json": {
       "model_id": "ff84c7c5006448eda2fae12229cdd432",
       "version_major": 2,
       "version_minor": 0
      },
      "text/plain": [
       "0/355           ETA: ?s - "
      ]
     },
     "metadata": {},
     "output_type": "display_data"
    },
    {
     "name": "stdout",
     "output_type": "stream",
     "text": [
      "Epoch 138/500\n"
     ]
    },
    {
     "data": {
      "application/vnd.jupyter.widget-view+json": {
       "model_id": "da9eece56d534b6e9b769c7e70fb7bbc",
       "version_major": 2,
       "version_minor": 0
      },
      "text/plain": [
       "0/355           ETA: ?s - "
      ]
     },
     "metadata": {},
     "output_type": "display_data"
    },
    {
     "name": "stdout",
     "output_type": "stream",
     "text": [
      "Epoch 139/500\n"
     ]
    },
    {
     "data": {
      "application/vnd.jupyter.widget-view+json": {
       "model_id": "d05faf87bbc0449798b3ff49d66bc17f",
       "version_major": 2,
       "version_minor": 0
      },
      "text/plain": [
       "0/355           ETA: ?s - "
      ]
     },
     "metadata": {},
     "output_type": "display_data"
    },
    {
     "name": "stdout",
     "output_type": "stream",
     "text": [
      "Epoch 140/500\n"
     ]
    },
    {
     "data": {
      "application/vnd.jupyter.widget-view+json": {
       "model_id": "878b7db98db34ddda379ae7a50b8d29f",
       "version_major": 2,
       "version_minor": 0
      },
      "text/plain": [
       "0/355           ETA: ?s - "
      ]
     },
     "metadata": {},
     "output_type": "display_data"
    },
    {
     "name": "stdout",
     "output_type": "stream",
     "text": [
      "Epoch 141/500\n"
     ]
    },
    {
     "data": {
      "application/vnd.jupyter.widget-view+json": {
       "model_id": "87e4a1f726a34f149245ffe50a884e5e",
       "version_major": 2,
       "version_minor": 0
      },
      "text/plain": [
       "0/355           ETA: ?s - "
      ]
     },
     "metadata": {},
     "output_type": "display_data"
    },
    {
     "name": "stdout",
     "output_type": "stream",
     "text": [
      "Epoch 142/500\n"
     ]
    },
    {
     "data": {
      "application/vnd.jupyter.widget-view+json": {
       "model_id": "d1f3ff7589c14dfb9ec1e1264667fa51",
       "version_major": 2,
       "version_minor": 0
      },
      "text/plain": [
       "0/355           ETA: ?s - "
      ]
     },
     "metadata": {},
     "output_type": "display_data"
    },
    {
     "name": "stdout",
     "output_type": "stream",
     "text": [
      "Epoch 143/500\n"
     ]
    },
    {
     "data": {
      "application/vnd.jupyter.widget-view+json": {
       "model_id": "212e930a22d44e82947a2578e2c907ce",
       "version_major": 2,
       "version_minor": 0
      },
      "text/plain": [
       "0/355           ETA: ?s - "
      ]
     },
     "metadata": {},
     "output_type": "display_data"
    },
    {
     "name": "stdout",
     "output_type": "stream",
     "text": [
      "Epoch 144/500\n"
     ]
    },
    {
     "data": {
      "application/vnd.jupyter.widget-view+json": {
       "model_id": "8b7a7f441e18431f9b9a7fa65e874d2e",
       "version_major": 2,
       "version_minor": 0
      },
      "text/plain": [
       "0/355           ETA: ?s - "
      ]
     },
     "metadata": {},
     "output_type": "display_data"
    },
    {
     "name": "stdout",
     "output_type": "stream",
     "text": [
      "Epoch 145/500\n"
     ]
    },
    {
     "data": {
      "application/vnd.jupyter.widget-view+json": {
       "model_id": "0f257de6fe9349eb9e9a1fcecfb117b4",
       "version_major": 2,
       "version_minor": 0
      },
      "text/plain": [
       "0/355           ETA: ?s - "
      ]
     },
     "metadata": {},
     "output_type": "display_data"
    },
    {
     "name": "stdout",
     "output_type": "stream",
     "text": [
      "Epoch 146/500\n"
     ]
    },
    {
     "data": {
      "application/vnd.jupyter.widget-view+json": {
       "model_id": "52f7f6a107054af9ba2e7c74c31cfe10",
       "version_major": 2,
       "version_minor": 0
      },
      "text/plain": [
       "0/355           ETA: ?s - "
      ]
     },
     "metadata": {},
     "output_type": "display_data"
    },
    {
     "name": "stdout",
     "output_type": "stream",
     "text": [
      "Epoch 147/500\n"
     ]
    },
    {
     "data": {
      "application/vnd.jupyter.widget-view+json": {
       "model_id": "7980c3dd9d8a4aefb014d9c2dc2c5e5a",
       "version_major": 2,
       "version_minor": 0
      },
      "text/plain": [
       "0/355           ETA: ?s - "
      ]
     },
     "metadata": {},
     "output_type": "display_data"
    },
    {
     "name": "stdout",
     "output_type": "stream",
     "text": [
      "Epoch 148/500\n"
     ]
    },
    {
     "data": {
      "application/vnd.jupyter.widget-view+json": {
       "model_id": "3f7404674b434d8e9ecfcd7f26563a34",
       "version_major": 2,
       "version_minor": 0
      },
      "text/plain": [
       "0/355           ETA: ?s - "
      ]
     },
     "metadata": {},
     "output_type": "display_data"
    },
    {
     "name": "stdout",
     "output_type": "stream",
     "text": [
      "Epoch 149/500\n"
     ]
    },
    {
     "data": {
      "application/vnd.jupyter.widget-view+json": {
       "model_id": "57bd02ed06d4492fb0c84a370f31aa7a",
       "version_major": 2,
       "version_minor": 0
      },
      "text/plain": [
       "0/355           ETA: ?s - "
      ]
     },
     "metadata": {},
     "output_type": "display_data"
    },
    {
     "name": "stdout",
     "output_type": "stream",
     "text": [
      "Epoch 150/500\n"
     ]
    },
    {
     "data": {
      "application/vnd.jupyter.widget-view+json": {
       "model_id": "599acced9176474cbcb3f4bffbeb5106",
       "version_major": 2,
       "version_minor": 0
      },
      "text/plain": [
       "0/355           ETA: ?s - "
      ]
     },
     "metadata": {},
     "output_type": "display_data"
    },
    {
     "name": "stdout",
     "output_type": "stream",
     "text": [
      "Epoch 151/500\n"
     ]
    },
    {
     "data": {
      "application/vnd.jupyter.widget-view+json": {
       "model_id": "792c53c5c60c415a82d4c1619f2124da",
       "version_major": 2,
       "version_minor": 0
      },
      "text/plain": [
       "0/355           ETA: ?s - "
      ]
     },
     "metadata": {},
     "output_type": "display_data"
    },
    {
     "name": "stdout",
     "output_type": "stream",
     "text": [
      "Epoch 152/500\n"
     ]
    },
    {
     "data": {
      "application/vnd.jupyter.widget-view+json": {
       "model_id": "1df921aade4142209561b2e31bd86c4a",
       "version_major": 2,
       "version_minor": 0
      },
      "text/plain": [
       "0/355           ETA: ?s - "
      ]
     },
     "metadata": {},
     "output_type": "display_data"
    },
    {
     "name": "stdout",
     "output_type": "stream",
     "text": [
      "Epoch 153/500\n"
     ]
    },
    {
     "data": {
      "application/vnd.jupyter.widget-view+json": {
       "model_id": "3c9ba840b45a4a21a954dae1800cc139",
       "version_major": 2,
       "version_minor": 0
      },
      "text/plain": [
       "0/355           ETA: ?s - "
      ]
     },
     "metadata": {},
     "output_type": "display_data"
    },
    {
     "name": "stdout",
     "output_type": "stream",
     "text": [
      "Epoch 154/500\n"
     ]
    },
    {
     "data": {
      "application/vnd.jupyter.widget-view+json": {
       "model_id": "84701e87ccbe4b4885adc32b9f5332fe",
       "version_major": 2,
       "version_minor": 0
      },
      "text/plain": [
       "0/355           ETA: ?s - "
      ]
     },
     "metadata": {},
     "output_type": "display_data"
    },
    {
     "name": "stdout",
     "output_type": "stream",
     "text": [
      "Epoch 155/500\n"
     ]
    },
    {
     "data": {
      "application/vnd.jupyter.widget-view+json": {
       "model_id": "65ed4e9806bf45ae891e0e40b30287f3",
       "version_major": 2,
       "version_minor": 0
      },
      "text/plain": [
       "0/355           ETA: ?s - "
      ]
     },
     "metadata": {},
     "output_type": "display_data"
    },
    {
     "name": "stdout",
     "output_type": "stream",
     "text": [
      "Epoch 156/500\n"
     ]
    },
    {
     "data": {
      "application/vnd.jupyter.widget-view+json": {
       "model_id": "06370d66fc99483d8199bf9f82ff4c31",
       "version_major": 2,
       "version_minor": 0
      },
      "text/plain": [
       "0/355           ETA: ?s - "
      ]
     },
     "metadata": {},
     "output_type": "display_data"
    },
    {
     "name": "stdout",
     "output_type": "stream",
     "text": [
      "Epoch 157/500\n"
     ]
    },
    {
     "data": {
      "application/vnd.jupyter.widget-view+json": {
       "model_id": "8f36d19e01a743eca68be10dd439b07b",
       "version_major": 2,
       "version_minor": 0
      },
      "text/plain": [
       "0/355           ETA: ?s - "
      ]
     },
     "metadata": {},
     "output_type": "display_data"
    },
    {
     "name": "stdout",
     "output_type": "stream",
     "text": [
      "Epoch 158/500\n"
     ]
    },
    {
     "data": {
      "application/vnd.jupyter.widget-view+json": {
       "model_id": "3f326b67ca794d9f9b3aff539efae97a",
       "version_major": 2,
       "version_minor": 0
      },
      "text/plain": [
       "0/355           ETA: ?s - "
      ]
     },
     "metadata": {},
     "output_type": "display_data"
    },
    {
     "name": "stdout",
     "output_type": "stream",
     "text": [
      "Epoch 159/500\n"
     ]
    },
    {
     "data": {
      "application/vnd.jupyter.widget-view+json": {
       "model_id": "bc90d6f3e3f6429895adda09cef45327",
       "version_major": 2,
       "version_minor": 0
      },
      "text/plain": [
       "0/355           ETA: ?s - "
      ]
     },
     "metadata": {},
     "output_type": "display_data"
    },
    {
     "name": "stdout",
     "output_type": "stream",
     "text": [
      "Epoch 160/500\n"
     ]
    },
    {
     "data": {
      "application/vnd.jupyter.widget-view+json": {
       "model_id": "9966b2d7b9e84948904547f9c1737907",
       "version_major": 2,
       "version_minor": 0
      },
      "text/plain": [
       "0/355           ETA: ?s - "
      ]
     },
     "metadata": {},
     "output_type": "display_data"
    },
    {
     "name": "stdout",
     "output_type": "stream",
     "text": [
      "Epoch 161/500\n"
     ]
    },
    {
     "data": {
      "application/vnd.jupyter.widget-view+json": {
       "model_id": "b75c91dc5c144696996acf9cce2501dc",
       "version_major": 2,
       "version_minor": 0
      },
      "text/plain": [
       "0/355           ETA: ?s - "
      ]
     },
     "metadata": {},
     "output_type": "display_data"
    },
    {
     "name": "stdout",
     "output_type": "stream",
     "text": [
      "Epoch 162/500\n"
     ]
    },
    {
     "data": {
      "application/vnd.jupyter.widget-view+json": {
       "model_id": "f227b256bdc84fa3b4a6291dd1cf2869",
       "version_major": 2,
       "version_minor": 0
      },
      "text/plain": [
       "0/355           ETA: ?s - "
      ]
     },
     "metadata": {},
     "output_type": "display_data"
    },
    {
     "name": "stdout",
     "output_type": "stream",
     "text": [
      "Epoch 163/500\n"
     ]
    },
    {
     "data": {
      "application/vnd.jupyter.widget-view+json": {
       "model_id": "932412721c89475b8c2d625025869f41",
       "version_major": 2,
       "version_minor": 0
      },
      "text/plain": [
       "0/355           ETA: ?s - "
      ]
     },
     "metadata": {},
     "output_type": "display_data"
    },
    {
     "name": "stdout",
     "output_type": "stream",
     "text": [
      "Epoch 164/500\n"
     ]
    },
    {
     "data": {
      "application/vnd.jupyter.widget-view+json": {
       "model_id": "2747c109ead749c6a4cadd1c79bff963",
       "version_major": 2,
       "version_minor": 0
      },
      "text/plain": [
       "0/355           ETA: ?s - "
      ]
     },
     "metadata": {},
     "output_type": "display_data"
    },
    {
     "name": "stdout",
     "output_type": "stream",
     "text": [
      "Epoch 165/500\n"
     ]
    },
    {
     "data": {
      "application/vnd.jupyter.widget-view+json": {
       "model_id": "606d1408a42841d2b2e308b4391e2cec",
       "version_major": 2,
       "version_minor": 0
      },
      "text/plain": [
       "0/355           ETA: ?s - "
      ]
     },
     "metadata": {},
     "output_type": "display_data"
    },
    {
     "name": "stdout",
     "output_type": "stream",
     "text": [
      "Epoch 166/500\n"
     ]
    },
    {
     "data": {
      "application/vnd.jupyter.widget-view+json": {
       "model_id": "f872934946304522b86aab2f8d4b691d",
       "version_major": 2,
       "version_minor": 0
      },
      "text/plain": [
       "0/355           ETA: ?s - "
      ]
     },
     "metadata": {},
     "output_type": "display_data"
    },
    {
     "name": "stdout",
     "output_type": "stream",
     "text": [
      "Epoch 167/500\n"
     ]
    },
    {
     "data": {
      "application/vnd.jupyter.widget-view+json": {
       "model_id": "b3194f1ae16d445f98b6e71a3c473295",
       "version_major": 2,
       "version_minor": 0
      },
      "text/plain": [
       "0/355           ETA: ?s - "
      ]
     },
     "metadata": {},
     "output_type": "display_data"
    },
    {
     "name": "stdout",
     "output_type": "stream",
     "text": [
      "Epoch 168/500\n"
     ]
    },
    {
     "data": {
      "application/vnd.jupyter.widget-view+json": {
       "model_id": "7ded48a0d48746cc90e772be29ab09a7",
       "version_major": 2,
       "version_minor": 0
      },
      "text/plain": [
       "0/355           ETA: ?s - "
      ]
     },
     "metadata": {},
     "output_type": "display_data"
    },
    {
     "name": "stdout",
     "output_type": "stream",
     "text": [
      "Epoch 169/500\n"
     ]
    },
    {
     "data": {
      "application/vnd.jupyter.widget-view+json": {
       "model_id": "0d302c28b3174d198bbfc8810ab466b9",
       "version_major": 2,
       "version_minor": 0
      },
      "text/plain": [
       "0/355           ETA: ?s - "
      ]
     },
     "metadata": {},
     "output_type": "display_data"
    },
    {
     "name": "stdout",
     "output_type": "stream",
     "text": [
      "Epoch 170/500\n"
     ]
    },
    {
     "data": {
      "application/vnd.jupyter.widget-view+json": {
       "model_id": "8d7147d927894f2da4663e029c07fbdf",
       "version_major": 2,
       "version_minor": 0
      },
      "text/plain": [
       "0/355           ETA: ?s - "
      ]
     },
     "metadata": {},
     "output_type": "display_data"
    },
    {
     "name": "stdout",
     "output_type": "stream",
     "text": [
      "Epoch 171/500\n"
     ]
    },
    {
     "data": {
      "application/vnd.jupyter.widget-view+json": {
       "model_id": "b27fb8f3609a48a6bd97ea8a6615d0e2",
       "version_major": 2,
       "version_minor": 0
      },
      "text/plain": [
       "0/355           ETA: ?s - "
      ]
     },
     "metadata": {},
     "output_type": "display_data"
    },
    {
     "name": "stdout",
     "output_type": "stream",
     "text": [
      "Epoch 172/500\n"
     ]
    },
    {
     "data": {
      "application/vnd.jupyter.widget-view+json": {
       "model_id": "55967041a08d439b99ebe508a5a52b60",
       "version_major": 2,
       "version_minor": 0
      },
      "text/plain": [
       "0/355           ETA: ?s - "
      ]
     },
     "metadata": {},
     "output_type": "display_data"
    },
    {
     "name": "stdout",
     "output_type": "stream",
     "text": [
      "Epoch 173/500\n"
     ]
    },
    {
     "data": {
      "application/vnd.jupyter.widget-view+json": {
       "model_id": "f8505287ba6048fcbed2db6584941b62",
       "version_major": 2,
       "version_minor": 0
      },
      "text/plain": [
       "0/355           ETA: ?s - "
      ]
     },
     "metadata": {},
     "output_type": "display_data"
    },
    {
     "name": "stdout",
     "output_type": "stream",
     "text": [
      "Epoch 174/500\n"
     ]
    },
    {
     "data": {
      "application/vnd.jupyter.widget-view+json": {
       "model_id": "7f56d35a2c444fa7be585e211909bea6",
       "version_major": 2,
       "version_minor": 0
      },
      "text/plain": [
       "0/355           ETA: ?s - "
      ]
     },
     "metadata": {},
     "output_type": "display_data"
    },
    {
     "name": "stdout",
     "output_type": "stream",
     "text": [
      "Epoch 175/500\n"
     ]
    },
    {
     "data": {
      "application/vnd.jupyter.widget-view+json": {
       "model_id": "1762986c997c40f88a5014c24a166890",
       "version_major": 2,
       "version_minor": 0
      },
      "text/plain": [
       "0/355           ETA: ?s - "
      ]
     },
     "metadata": {},
     "output_type": "display_data"
    },
    {
     "name": "stdout",
     "output_type": "stream",
     "text": [
      "Epoch 176/500\n"
     ]
    },
    {
     "data": {
      "application/vnd.jupyter.widget-view+json": {
       "model_id": "5a97b20251314affbb7a943927df1cab",
       "version_major": 2,
       "version_minor": 0
      },
      "text/plain": [
       "0/355           ETA: ?s - "
      ]
     },
     "metadata": {},
     "output_type": "display_data"
    },
    {
     "name": "stdout",
     "output_type": "stream",
     "text": [
      "Epoch 177/500\n"
     ]
    },
    {
     "data": {
      "application/vnd.jupyter.widget-view+json": {
       "model_id": "5034318165fb4bf18c32160ea2018fb1",
       "version_major": 2,
       "version_minor": 0
      },
      "text/plain": [
       "0/355           ETA: ?s - "
      ]
     },
     "metadata": {},
     "output_type": "display_data"
    },
    {
     "name": "stdout",
     "output_type": "stream",
     "text": [
      "Epoch 178/500\n"
     ]
    },
    {
     "data": {
      "application/vnd.jupyter.widget-view+json": {
       "model_id": "1c6dcff2d3fa4c43b4e84fdb489aa6f5",
       "version_major": 2,
       "version_minor": 0
      },
      "text/plain": [
       "0/355           ETA: ?s - "
      ]
     },
     "metadata": {},
     "output_type": "display_data"
    },
    {
     "name": "stdout",
     "output_type": "stream",
     "text": [
      "Epoch 179/500\n"
     ]
    },
    {
     "data": {
      "application/vnd.jupyter.widget-view+json": {
       "model_id": "0f2233cbbac54621be4905dff1a5c4b9",
       "version_major": 2,
       "version_minor": 0
      },
      "text/plain": [
       "0/355           ETA: ?s - "
      ]
     },
     "metadata": {},
     "output_type": "display_data"
    },
    {
     "name": "stdout",
     "output_type": "stream",
     "text": [
      "Epoch 180/500\n"
     ]
    },
    {
     "data": {
      "application/vnd.jupyter.widget-view+json": {
       "model_id": "4e01d5a4d01a4cada93222fe7114e1b4",
       "version_major": 2,
       "version_minor": 0
      },
      "text/plain": [
       "0/355           ETA: ?s - "
      ]
     },
     "metadata": {},
     "output_type": "display_data"
    },
    {
     "name": "stdout",
     "output_type": "stream",
     "text": [
      "Epoch 181/500\n"
     ]
    },
    {
     "data": {
      "application/vnd.jupyter.widget-view+json": {
       "model_id": "7be16288cb7745d5b5a97561a0025bde",
       "version_major": 2,
       "version_minor": 0
      },
      "text/plain": [
       "0/355           ETA: ?s - "
      ]
     },
     "metadata": {},
     "output_type": "display_data"
    },
    {
     "name": "stdout",
     "output_type": "stream",
     "text": [
      "Epoch 182/500\n"
     ]
    },
    {
     "data": {
      "application/vnd.jupyter.widget-view+json": {
       "model_id": "a8e452a080bd4b498dad69aea5486d0f",
       "version_major": 2,
       "version_minor": 0
      },
      "text/plain": [
       "0/355           ETA: ?s - "
      ]
     },
     "metadata": {},
     "output_type": "display_data"
    },
    {
     "name": "stdout",
     "output_type": "stream",
     "text": [
      "Epoch 183/500\n"
     ]
    },
    {
     "data": {
      "application/vnd.jupyter.widget-view+json": {
       "model_id": "d776572d52b14d86a50455cb01c4dd73",
       "version_major": 2,
       "version_minor": 0
      },
      "text/plain": [
       "0/355           ETA: ?s - "
      ]
     },
     "metadata": {},
     "output_type": "display_data"
    },
    {
     "name": "stdout",
     "output_type": "stream",
     "text": [
      "Epoch 184/500\n"
     ]
    },
    {
     "data": {
      "application/vnd.jupyter.widget-view+json": {
       "model_id": "7ad860d2aca247d5bb083f0f904ff5a6",
       "version_major": 2,
       "version_minor": 0
      },
      "text/plain": [
       "0/355           ETA: ?s - "
      ]
     },
     "metadata": {},
     "output_type": "display_data"
    },
    {
     "name": "stdout",
     "output_type": "stream",
     "text": [
      "Epoch 185/500\n"
     ]
    },
    {
     "data": {
      "application/vnd.jupyter.widget-view+json": {
       "model_id": "196f5380255a428a888887cac4eee1df",
       "version_major": 2,
       "version_minor": 0
      },
      "text/plain": [
       "0/355           ETA: ?s - "
      ]
     },
     "metadata": {},
     "output_type": "display_data"
    },
    {
     "name": "stdout",
     "output_type": "stream",
     "text": [
      "Epoch 186/500\n"
     ]
    },
    {
     "data": {
      "application/vnd.jupyter.widget-view+json": {
       "model_id": "6cae6b83199e4856b255007abeeeab0a",
       "version_major": 2,
       "version_minor": 0
      },
      "text/plain": [
       "0/355           ETA: ?s - "
      ]
     },
     "metadata": {},
     "output_type": "display_data"
    },
    {
     "name": "stdout",
     "output_type": "stream",
     "text": [
      "Epoch 187/500\n"
     ]
    },
    {
     "data": {
      "application/vnd.jupyter.widget-view+json": {
       "model_id": "2aa52edef8b649b7ac304660312a8086",
       "version_major": 2,
       "version_minor": 0
      },
      "text/plain": [
       "0/355           ETA: ?s - "
      ]
     },
     "metadata": {},
     "output_type": "display_data"
    },
    {
     "name": "stdout",
     "output_type": "stream",
     "text": [
      "Epoch 188/500\n"
     ]
    },
    {
     "data": {
      "application/vnd.jupyter.widget-view+json": {
       "model_id": "626a4f895ae64a6cba27faa2f0e74510",
       "version_major": 2,
       "version_minor": 0
      },
      "text/plain": [
       "0/355           ETA: ?s - "
      ]
     },
     "metadata": {},
     "output_type": "display_data"
    },
    {
     "name": "stdout",
     "output_type": "stream",
     "text": [
      "Epoch 189/500\n"
     ]
    },
    {
     "data": {
      "application/vnd.jupyter.widget-view+json": {
       "model_id": "5385bedc96c8413b8097105b586863be",
       "version_major": 2,
       "version_minor": 0
      },
      "text/plain": [
       "0/355           ETA: ?s - "
      ]
     },
     "metadata": {},
     "output_type": "display_data"
    },
    {
     "name": "stdout",
     "output_type": "stream",
     "text": [
      "Epoch 190/500\n"
     ]
    },
    {
     "data": {
      "application/vnd.jupyter.widget-view+json": {
       "model_id": "657a39974c684dfc88e4b5fa7ad71f5d",
       "version_major": 2,
       "version_minor": 0
      },
      "text/plain": [
       "0/355           ETA: ?s - "
      ]
     },
     "metadata": {},
     "output_type": "display_data"
    },
    {
     "name": "stdout",
     "output_type": "stream",
     "text": [
      "Epoch 191/500\n"
     ]
    },
    {
     "data": {
      "application/vnd.jupyter.widget-view+json": {
       "model_id": "733a2bf378474323912603cb224dd37e",
       "version_major": 2,
       "version_minor": 0
      },
      "text/plain": [
       "0/355           ETA: ?s - "
      ]
     },
     "metadata": {},
     "output_type": "display_data"
    },
    {
     "name": "stdout",
     "output_type": "stream",
     "text": [
      "Epoch 192/500\n"
     ]
    },
    {
     "data": {
      "application/vnd.jupyter.widget-view+json": {
       "model_id": "dee342b3624c4a1fa031cb3591e2b164",
       "version_major": 2,
       "version_minor": 0
      },
      "text/plain": [
       "0/355           ETA: ?s - "
      ]
     },
     "metadata": {},
     "output_type": "display_data"
    },
    {
     "name": "stdout",
     "output_type": "stream",
     "text": [
      "Epoch 193/500\n"
     ]
    },
    {
     "data": {
      "application/vnd.jupyter.widget-view+json": {
       "model_id": "6905c653340c4a4181775b3ffe89e979",
       "version_major": 2,
       "version_minor": 0
      },
      "text/plain": [
       "0/355           ETA: ?s - "
      ]
     },
     "metadata": {},
     "output_type": "display_data"
    },
    {
     "name": "stdout",
     "output_type": "stream",
     "text": [
      "Epoch 194/500\n"
     ]
    },
    {
     "data": {
      "application/vnd.jupyter.widget-view+json": {
       "model_id": "3061233deae14b3e85d1604f12fa7fe5",
       "version_major": 2,
       "version_minor": 0
      },
      "text/plain": [
       "0/355           ETA: ?s - "
      ]
     },
     "metadata": {},
     "output_type": "display_data"
    },
    {
     "name": "stdout",
     "output_type": "stream",
     "text": [
      "Epoch 195/500\n"
     ]
    },
    {
     "data": {
      "application/vnd.jupyter.widget-view+json": {
       "model_id": "448c9e8bb2f14225bece173633eadbc0",
       "version_major": 2,
       "version_minor": 0
      },
      "text/plain": [
       "0/355           ETA: ?s - "
      ]
     },
     "metadata": {},
     "output_type": "display_data"
    },
    {
     "name": "stdout",
     "output_type": "stream",
     "text": [
      "Epoch 196/500\n"
     ]
    },
    {
     "data": {
      "application/vnd.jupyter.widget-view+json": {
       "model_id": "b0769051a6c24ac48535481f9522b462",
       "version_major": 2,
       "version_minor": 0
      },
      "text/plain": [
       "0/355           ETA: ?s - "
      ]
     },
     "metadata": {},
     "output_type": "display_data"
    },
    {
     "name": "stdout",
     "output_type": "stream",
     "text": [
      "Epoch 197/500\n"
     ]
    },
    {
     "data": {
      "application/vnd.jupyter.widget-view+json": {
       "model_id": "a78ca986eb5442a891b4bd3390925798",
       "version_major": 2,
       "version_minor": 0
      },
      "text/plain": [
       "0/355           ETA: ?s - "
      ]
     },
     "metadata": {},
     "output_type": "display_data"
    },
    {
     "name": "stdout",
     "output_type": "stream",
     "text": [
      "Epoch 197: early stopping\n",
      "CPU times: user 9min 16s, sys: 1min 37s, total: 10min 54s\n",
      "Wall time: 6min 20s\n"
     ]
    }
   ],
   "source": [
    "%%time\n",
    "model = keras.Sequential([\n",
    "    keras.layers.Input(shape=(2048)),\n",
    "    keras.layers.Dense(len(classes), activation=\"softmax\")\n",
    "])\n",
    "model.compile(\n",
    "    optimizer=keras.optimizers.Adam(),\n",
    "    loss=keras.losses.CategoricalCrossentropy(),\n",
    "    metrics=[keras.metrics.CategoricalAccuracy()],\n",
    ")\n",
    "print(model.summary())\n",
    "history = model.fit(x_train,\n",
    "                    y_train,\n",
    "                    batch_size=BATCH_SIZE,\n",
    "                    validation_data=(x_test, y_test),\n",
    "                    epochs=500,\n",
    "                    verbose=0,\n",
    "                    class_weight=class_weights,\n",
    "                    callbacks=[\n",
    "                        keras.callbacks.EarlyStopping(monitor='val_categorical_accuracy',patience=50, verbose=1),\n",
    "                        tfa.callbacks.TQDMProgressBar()\n",
    "                    ])"
   ]
  },
  {
   "cell_type": "code",
   "execution_count": 64,
   "id": "94744f4c",
   "metadata": {},
   "outputs": [],
   "source": [
    "model.save(f\"models/{len(classes)}_class.h5\")"
   ]
  },
  {
   "cell_type": "code",
   "execution_count": 65,
   "id": "c0b0f2ba",
   "metadata": {},
   "outputs": [
    {
     "data": {
      "text/plain": [
       "<AxesSubplot:>"
      ]
     },
     "execution_count": 65,
     "metadata": {},
     "output_type": "execute_result"
    },
    {
     "data": {
      "image/png": "[encoded data removed]",
      "text/plain": [
       "<Figure size 432x288 with 1 Axes>"
      ]
     },
     "metadata": {},
     "output_type": "display_data"
    },
    {
     "data": {
      "image/png": "[encoded data removed]",
      "text/plain": [
       "<Figure size 432x288 with 1 Axes>"
      ]
     },
     "metadata": {},
     "output_type": "display_data"
    }
   ],
   "source": [
    "history_df = pd.DataFrame(history.history)\n",
    "history_df[['loss', 'val_loss']].plot()\n",
    "history_df[['categorical_accuracy', 'val_categorical_accuracy']].plot()"
   ]
  },
  {
   "cell_type": "code",
   "execution_count": 66,
   "id": "160a4bf0",
   "metadata": {},
   "outputs": [
    {
     "name": "stdout",
     "output_type": "stream",
     "text": [
      "286/286 [==============================] - 0s 1ms/step\n"
     ]
    }
   ],
   "source": [
    "y_pred = model.predict(x_test)"
   ]
  },
  {
   "cell_type": "code",
   "execution_count": 67,
   "id": "70fbc333",
   "metadata": {},
   "outputs": [
    {
     "data": {
      "text/plain": [
       "count    9148.000000\n",
       "mean        0.917969\n",
       "std         0.145996\n",
       "min         0.279785\n",
       "25%         0.906738\n",
       "50%         0.999023\n",
       "75%         1.000000\n",
       "max         1.000000\n",
       "dtype: float64"
      ]
     },
     "execution_count": 67,
     "metadata": {},
     "output_type": "execute_result"
    }
   ],
   "source": [
    "predicted_codes = y_pred.argmax(axis=1)\n",
    "confidence = y_pred.max(axis=1)\n",
    "pd.Series(confidence).describe()"
   ]
  },
  {
   "cell_type": "code",
   "execution_count": 68,
   "id": "aecf2ce8",
   "metadata": {},
   "outputs": [
    {
     "data": {
      "text/plain": [
       "Empty                  3793\n",
       "2pn                     944\n",
       "2 Cell                  719\n",
       "Syngamy                 624\n",
       "Expanded Blastocyst     399\n",
       "Morula                  382\n",
       "Cavitating morula       381\n",
       "Compacting 8 cell       359\n",
       "8 Cell                  341\n",
       "Blastocyst              326\n",
       "6 Cell                  276\n",
       "Early blast             224\n",
       "4 Cell                  197\n",
       "5 Cell                  183\n",
       "dtype: int64"
      ]
     },
     "execution_count": 68,
     "metadata": {},
     "output_type": "execute_result"
    }
   ],
   "source": [
    "true_classes = [classes[c] for c in y_test.argmax(axis=1)]\n",
    "pd.Series(true_classes).value_counts()"
   ]
  },
  {
   "cell_type": "code",
   "execution_count": 69,
   "id": "b1d6833b",
   "metadata": {},
   "outputs": [
    {
     "data": {
      "text/html": [
       "<div>\n",
       "<style scoped>\n",
       "    .dataframe tbody tr th:only-of-type {\n",
       "        vertical-align: middle;\n",
       "    }\n",
       "\n",
       "    .dataframe tbody tr th {\n",
       "        vertical-align: top;\n",
       "    }\n",
       "\n",
       "    .dataframe thead th {\n",
       "        text-align: right;\n",
       "    }\n",
       "</style>\n",
       "<table border=\"1\" class=\"dataframe\">\n",
       "  <thead>\n",
       "    <tr style=\"text-align: right;\">\n",
       "      <th></th>\n",
       "      <th>true_class</th>\n",
       "      <th>predicted_class</th>\n",
       "      <th>confidence</th>\n",
       "    </tr>\n",
       "  </thead>\n",
       "  <tbody>\n",
       "    <tr>\n",
       "      <th>0</th>\n",
       "      <td>2 Cell</td>\n",
       "      <td>2 Cell</td>\n",
       "      <td>0.997559</td>\n",
       "    </tr>\n",
       "    <tr>\n",
       "      <th>1</th>\n",
       "      <td>2 Cell</td>\n",
       "      <td>2 Cell</td>\n",
       "      <td>0.668457</td>\n",
       "    </tr>\n",
       "    <tr>\n",
       "      <th>2</th>\n",
       "      <td>2 Cell</td>\n",
       "      <td>2 Cell</td>\n",
       "      <td>0.798828</td>\n",
       "    </tr>\n",
       "    <tr>\n",
       "      <th>3</th>\n",
       "      <td>2 Cell</td>\n",
       "      <td>4 Cell</td>\n",
       "      <td>0.743652</td>\n",
       "    </tr>\n",
       "    <tr>\n",
       "      <th>4</th>\n",
       "      <td>2 Cell</td>\n",
       "      <td>4 Cell</td>\n",
       "      <td>0.638672</td>\n",
       "    </tr>\n",
       "    <tr>\n",
       "      <th>...</th>\n",
       "      <td>...</td>\n",
       "      <td>...</td>\n",
       "      <td>...</td>\n",
       "    </tr>\n",
       "    <tr>\n",
       "      <th>9143</th>\n",
       "      <td>Syngamy</td>\n",
       "      <td>2pn</td>\n",
       "      <td>0.827637</td>\n",
       "    </tr>\n",
       "    <tr>\n",
       "      <th>9144</th>\n",
       "      <td>Syngamy</td>\n",
       "      <td>2pn</td>\n",
       "      <td>0.919922</td>\n",
       "    </tr>\n",
       "    <tr>\n",
       "      <th>9145</th>\n",
       "      <td>Syngamy</td>\n",
       "      <td>Syngamy</td>\n",
       "      <td>0.986328</td>\n",
       "    </tr>\n",
       "    <tr>\n",
       "      <th>9146</th>\n",
       "      <td>Syngamy</td>\n",
       "      <td>2pn</td>\n",
       "      <td>0.884766</td>\n",
       "    </tr>\n",
       "    <tr>\n",
       "      <th>9147</th>\n",
       "      <td>Syngamy</td>\n",
       "      <td>Syngamy</td>\n",
       "      <td>0.975098</td>\n",
       "    </tr>\n",
       "  </tbody>\n",
       "</table>\n",
       "<p>9148 rows × 3 columns</p>\n",
       "</div>"
      ],
      "text/plain": [
       "     true_class predicted_class  confidence\n",
       "0        2 Cell          2 Cell    0.997559\n",
       "1        2 Cell          2 Cell    0.668457\n",
       "2        2 Cell          2 Cell    0.798828\n",
       "3        2 Cell          4 Cell    0.743652\n",
       "4        2 Cell          4 Cell    0.638672\n",
       "...         ...             ...         ...\n",
       "9143    Syngamy             2pn    0.827637\n",
       "9144    Syngamy             2pn    0.919922\n",
       "9145    Syngamy         Syngamy    0.986328\n",
       "9146    Syngamy             2pn    0.884766\n",
       "9147    Syngamy         Syngamy    0.975098\n",
       "\n",
       "[9148 rows x 3 columns]"
      ]
     },
     "execution_count": 69,
     "metadata": {},
     "output_type": "execute_result"
    }
   ],
   "source": [
    "validation_df = pd.DataFrame()\n",
    "validation_df[\"true_class\"] = true_classes\n",
    "validation_df[\"predicted_class\"] = [classes[c] for c in predicted_codes]\n",
    "validation_df[\"confidence\"] = confidence\n",
    "validation_df"
   ]
  },
  {
   "cell_type": "code",
   "execution_count": 70,
   "id": "b3ef09d2",
   "metadata": {},
   "outputs": [
    {
     "data": {
      "text/plain": [
       "predicted_class\n",
       "2 Cell                 0.956543\n",
       "2pn                    0.991699\n",
       "3 Cell                 0.727051\n",
       "4 Cell                 0.926758\n",
       "5 Cell                 0.821777\n",
       "6 Cell                 0.926758\n",
       "8 Cell                 0.881348\n",
       "Blastocyst             0.942871\n",
       "Cavitating morula      0.903809\n",
       "Compacting 8 cell      0.834473\n",
       "Early blast            0.858398\n",
       "Empty                  1.000000\n",
       "Expanded Blastocyst    0.995117\n",
       "Morula                 0.838867\n",
       "Syngamy                0.973633\n",
       "Name: confidence, dtype: float16"
      ]
     },
     "execution_count": 70,
     "metadata": {},
     "output_type": "execute_result"
    }
   ],
   "source": [
    "validation_df.groupby(\"predicted_class\").confidence.median()"
   ]
  },
  {
   "cell_type": "code",
   "execution_count": 71,
   "id": "9472e193",
   "metadata": {},
   "outputs": [],
   "source": [
    "validation_df.to_csv(\"validation_predictions.csv\", index=False)"
   ]
  },
  {
   "cell_type": "code",
   "execution_count": 90,
   "id": "f3a61eb6",
   "metadata": {
    "scrolled": false
   },
   "outputs": [
    {
     "name": "stderr",
     "output_type": "stream",
     "text": [
      "/usr/local/lib/python3.8/dist-packages/sklearn/metrics/_classification.py:1327: UndefinedMetricWarning: Recall and F-score are ill-defined and being set to 0.0 in labels with no true samples. Use `zero_division` parameter to control this behavior.\n",
      "  _warn_prf(average, modifier, msg_start, len(result))\n",
      "/usr/local/lib/python3.8/dist-packages/sklearn/metrics/_classification.py:1327: UndefinedMetricWarning: Recall and F-score are ill-defined and being set to 0.0 in labels with no true samples. Use `zero_division` parameter to control this behavior.\n",
      "  _warn_prf(average, modifier, msg_start, len(result))\n",
      "/usr/local/lib/python3.8/dist-packages/sklearn/metrics/_classification.py:1327: UndefinedMetricWarning: Recall and F-score are ill-defined and being set to 0.0 in labels with no true samples. Use `zero_division` parameter to control this behavior.\n",
      "  _warn_prf(average, modifier, msg_start, len(result))\n"
     ]
    },
    {
     "name": "stdout",
     "output_type": "stream",
     "text": [
      "                     precision    recall  f1-score   support\n",
      "\n",
      "             2 Cell       0.94      0.79      0.86       719\n",
      "                2pn       0.87      0.80      0.84       944\n",
      "             3 Cell       0.00      0.00      0.00         0\n",
      "             4 Cell       0.69      0.89      0.78       197\n",
      "             5 Cell       0.62      0.36      0.45       183\n",
      "             6 Cell       0.72      0.74      0.73       276\n",
      "             8 Cell       0.72      0.75      0.74       341\n",
      "         Blastocyst       0.74      0.80      0.77       326\n",
      "  Cavitating morula       0.75      0.72      0.73       381\n",
      "  Compacting 8 cell       0.66      0.66      0.66       359\n",
      "        Early blast       0.63      0.61      0.62       224\n",
      "              Empty       1.00      1.00      1.00      3793\n",
      "Expanded Blastocyst       0.92      0.86      0.89       399\n",
      "             Morula       0.71      0.68      0.70       382\n",
      "            Syngamy       0.74      0.83      0.78       624\n",
      "\n",
      "           accuracy                           0.86      9148\n",
      "          macro avg       0.71      0.70      0.70      9148\n",
      "       weighted avg       0.87      0.86      0.86      9148\n",
      "\n",
      "[ 0.   0.   0.   0.   0.   0.   0.   2.   8.2 42.6]\n"
     ]
    },
    {
     "data": {
      "text/plain": [
       "Text(66.5, 0.5, 'True')"
      ]
     },
     "execution_count": 90,
     "metadata": {},
     "output_type": "execute_result"
    },
    {
     "data": {
      "image/png": "[encoded data removed]",
      "text/plain": [
       "<Figure size 720x720 with 2 Axes>"
      ]
     },
     "metadata": {},
     "output_type": "display_data"
    }
   ],
   "source": [
    "print(classification_report(validation_df[\"true_class\"], validation_df[\"predicted_class\"]))\n",
    "confusion = confusion_matrix(validation_df[\"true_class\"], validation_df[\"predicted_class\"])\n",
    "print(np.quantile(confusion, np.arange(0, 1, .1)))\n",
    "plt.figure(figsize=(10,10))\n",
    "s = sns.heatmap(\n",
    "    confusion,\n",
    "    annot=True,\n",
    "    cmap='Blues',\n",
    "    fmt=\"g\",\n",
    "    xticklabels=classes,\n",
    "    yticklabels=classes,\n",
    "    vmax=np.quantile(confusion, .95)\n",
    ")\n",
    "s.set_xlabel('Predicted', fontsize=10)\n",
    "s.set_ylabel('True', fontsize=10)"
   ]
  },
  {
   "cell_type": "code",
   "execution_count": null,
   "id": "d5a48ed5",
   "metadata": {},
   "outputs": [],
   "source": []
  },
  {
   "cell_type": "code",
   "execution_count": null,
   "id": "fa99701d",
   "metadata": {},
   "outputs": [],
   "source": []
  }
 ],
 "metadata": {
  "interpreter": {
   "hash": "916dbcbb3f70747c44a77c7bcd40155683ae19c65e1c03b4aa3499c5328201f1"
  },
  "kernelspec": {
   "display_name": "Python 3 (ipykernel)",
   "language": "python",
   "name": "python3"
  },
  "language_info": {
   "codemirror_mode": {
    "name": "ipython",
    "version": 3
   },
   "file_extension": ".py",
   "mimetype": "text/x-python",
   "name": "python",
   "nbconvert_exporter": "python",
   "pygments_lexer": "ipython3",
   "version": "3.8.10"
  }
 },
 "nbformat": 4,
 "nbformat_minor": 5
}
