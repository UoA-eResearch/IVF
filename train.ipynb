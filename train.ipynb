{
 "cells": [
  {
   "cell_type": "code",
   "execution_count": 3,
   "id": "97c7873e",
   "metadata": {},
   "outputs": [
    {
     "data": {
      "text/plain": [
       "Empty         8766\n",
       "Compacting    4781\n",
       "Blast         4148\n",
       "2pn           3064\n",
       "4 Cell        2418\n",
       "2 Cell        2392\n",
       "Syngamy       1958\n",
       "8 Cell        1486\n",
       "9+ Cell       1379\n",
       "6-7 Cell      1352\n",
       "3 Cell         684\n",
       "5 Cell         599\n",
       "Name: class, dtype: int64"
      ]
     },
     "execution_count": 3,
     "metadata": {},
     "output_type": "execute_result"
    }
   ],
   "source": [
    "import os # File system operations\n",
    "import re # Regular expressions\n",
    "import pandas as pd # Tabular data\n",
    "import numpy as np # Numerical data\n",
    "pd.set_option('display.max_colwidth', None) # Show full file paths\n",
    "import sys\n",
    "\n",
    "# Don't use all of the GPU RAM\n",
    "import tensorflow as tf\n",
    "gpus = tf.config.experimental.list_physical_devices('GPU')\n",
    "for gpu in gpus:\n",
    "  tf.config.experimental.set_memory_growth(gpu, True)\n",
    "from tensorflow.keras import mixed_precision\n",
    "from tensorflow import keras # ML\n",
    "import tensorflow_addons as tfa # TQDM progress bar when training\n",
    "from sklearn.model_selection import train_test_split\n",
    "from sklearn.utils import class_weight\n",
    "from skimage import exposure\n",
    "\n",
    "import mlflow # model runs\n",
    "mlflow.set_tracking_uri(\"sqlite:///mlflow.db\") # Use sqlite for more efficient storage\n",
    "# https://www.mlflow.org/docs/latest/python_api/mlflow.tensorflow.html#mlflow.tensorflow.autolog\n",
    "mlflow.tensorflow.autolog()\n",
    "\n",
    "BATCH_SIZE = 128\n",
    "EQUALIZE = False\n",
    "\n",
    "mixed_precision.set_global_policy('mixed_float16')\n",
    "\n",
    "from keras_tuner.tuners import RandomSearch\n",
    "from keras_tuner.engine.hyperparameters import HyperParameters\n",
    "\n",
    "\n",
    "from sklearn.metrics import confusion_matrix, classification_report, accuracy_score\n",
    "\n",
    "from pathlib import Path # Pathing\n",
    "from glob import glob # Finding files recursively\n",
    "import matplotlib.pyplot as plt # Plotting\n",
    "import seaborn as sns # Plotting\n",
    "sns.set()\n",
    "from tqdm.auto import tqdm # Progress bars\n",
    "tqdm.pandas()\n",
    "\n",
    "BASE_DIR = Path(\"/mnt/data/IVF/EmbryoLabeling/Labelers/train\")\n",
    "folders = os.listdir(BASE_DIR)\n",
    "folders = [f for f in folders if not re.match(r\"M\\d\", f)]\n",
    "files = []\n",
    "for folder in folders:\n",
    "    files_in_folder = pd.DataFrame(glob(f\"{BASE_DIR}/{folder}/**/*.jpg\", recursive=True), columns=[\"filename\"])\n",
    "    if len(files_in_folder) == 0:\n",
    "        print(f\"{folder} is empty!\")\n",
    "        os.rmdir(BASE_DIR / folder)\n",
    "    files_in_folder[\"class\"] = folder\n",
    "    files.append(files_in_folder)\n",
    "df = pd.concat(files)\n",
    "df[\"class\"].value_counts()"
   ]
  },
  {
   "cell_type": "code",
   "execution_count": 4,
   "id": "31a10845",
   "metadata": {},
   "outputs": [
    {
     "data": {
      "text/plain": [
       "<AxesSubplot:>"
      ]
     },
     "execution_count": 4,
     "metadata": {},
     "output_type": "execute_result"
    },
    {
     "data": {
      "image/png": "[encoded data removed]",
      "text/plain": [
       "<Figure size 432x288 with 1 Axes>"
      ]
     },
     "metadata": {
      "needs_background": "light"
     },
     "output_type": "display_data"
    }
   ],
   "source": [
    "df[\"class\"].value_counts().plot.bar(logy=True)"
   ]
  },
  {
   "cell_type": "code",
   "execution_count": 5,
   "id": "0f1360a2",
   "metadata": {},
   "outputs": [
    {
     "data": {
      "text/plain": [
       "M0831_S00493    2320\n",
       "M776_S0192      2284\n",
       "M0831_S00635    2049\n",
       "M0776_S00512    1952\n",
       "M3171_S00629    1918\n",
       "M0776_S00437    1851\n",
       "M776_S0087      1559\n",
       "M0776_S00635    1325\n",
       "M0776_S00534    1232\n",
       "M0831_S00479    1194\n",
       "M0776_S00761    1138\n",
       "M831_S0127       881\n",
       "M0776_S00488     788\n",
       "M0776_S00470     784\n",
       "M0831_S00534     717\n",
       "M0831_S00470     701\n",
       "M0776_S00322     544\n",
       "M0776_S00447     508\n",
       "M0800_S00426     287\n",
       "M3169_S00668     123\n",
       "M3169_S00737      76\n",
       "M0776_S00737      21\n",
       "M0831_S00659       9\n",
       "Name: filename, dtype: int64"
      ]
     },
     "execution_count": 5,
     "metadata": {},
     "output_type": "execute_result"
    }
   ],
   "source": [
    "# Print counts of images by machine and slide\n",
    "df.filename[~df[\"class\"].isin([\"bad\", \"Empty\"])].apply(lambda s: \"_\".join(s.split(\"/\")[-1].split(\"_\")[:2])).value_counts()"
   ]
  },
  {
   "cell_type": "code",
   "execution_count": 6,
   "id": "8e48f356",
   "metadata": {
    "scrolled": false
   },
   "outputs": [
    {
     "name": "stdout",
     "output_type": "stream",
     "text": [
      "           class  time_since_fert\n",
      "1507         2pn             1061\n",
      "1643     Syngamy             1464\n",
      "974       2 Cell             1574\n",
      "267       3 Cell             2315\n",
      "308       4 Cell             2395\n",
      "32        5 Cell             3045\n",
      "72      6-7 Cell             3125\n",
      "604       8 Cell             3265\n",
      "241   Compacting             3375\n",
      "688        Blast             6090\n",
      "7260       Empty             7036\n"
     ]
    }
   ],
   "source": [
    "# Track a single embryo's lifecycle\n",
    "pd.set_option('display.max_rows', 365)\n",
    "M776_S0087_W2 = df[df.filename.str.contains(\"M776_S0087_W2\")].copy()\n",
    "# Extract time since fertilisation in minutes from filename (ints, rounded to nearest minute)\n",
    "M776_S0087_W2[\"time_since_fert\"] = M776_S0087_W2.filename.apply(lambda s: s.replace(\".jpg\", \"\").split(\"_\")[-1]).astype(int)\n",
    "M776_S0087_W2 = M776_S0087_W2.sort_values(by=\"time_since_fert\")\n",
    "# Take the earliest time that each class was seen\n",
    "M776_S0087_W2 = M776_S0087_W2.groupby(\"class\").head(1)\n",
    "print(M776_S0087_W2[[\"class\", \"time_since_fert\"]])"
   ]
  },
  {
   "cell_type": "code",
   "execution_count": 7,
   "id": "b07925b9",
   "metadata": {},
   "outputs": [
    {
     "data": {
      "text/plain": [
       "['2pn',\n",
       " 'Syngamy',\n",
       " '2 Cell',\n",
       " '3 Cell',\n",
       " '4 Cell',\n",
       " '5 Cell',\n",
       " '6-7 Cell',\n",
       " '8 Cell',\n",
       " 'Compacting',\n",
       " 'Blast',\n",
       " 'Empty']"
      ]
     },
     "execution_count": 7,
     "metadata": {},
     "output_type": "execute_result"
    }
   ],
   "source": [
    "classes = list(M776_S0087_W2[\"class\"])\n",
    "classes"
   ]
  },
  {
   "cell_type": "code",
   "execution_count": 8,
   "id": "e803af06",
   "metadata": {},
   "outputs": [
    {
     "data": {
      "image/png": "[encoded data removed]",
      "text/plain": [
       "<Figure size 1440x1440 with 1 Axes>"
      ]
     },
     "metadata": {
      "needs_background": "light"
     },
     "output_type": "display_data"
    }
   ],
   "source": [
    "# Plot embryo's lifecycle over time\n",
    "plt.figure(figsize=(20, 20))\n",
    "for i, row in M776_S0087_W2.iterrows():\n",
    "    image = keras.utils.load_img(row.filename, target_size=(480,480))\n",
    "    c_index = classes.index(row[\"class\"]) * 480\n",
    "    time_since_fert = row.time_since_fert\n",
    "    plt.imshow(image, extent=[time_since_fert, time_since_fert+480, c_index, c_index+480])\n",
    "    plt.text(time_since_fert, c_index, row[\"class\"], bbox=dict(boxstyle=\"round\", ec=(1., 0.5, 0.5), fc=(1., 0.8, 0.8)))\n",
    "plt.yticks([])\n",
    "plt.xlabel(\"Time since fertilisation (minutes)\")\n",
    "plt.xlim(0, M776_S0087_W2.time_since_fert.max() + 300)\n",
    "plt.ylim(0, len(classes) * 300)\n",
    "plt.show()"
   ]
  },
  {
   "cell_type": "code",
   "execution_count": 9,
   "id": "c00fd32a",
   "metadata": {
    "scrolled": false
   },
   "outputs": [
    {
     "data": {
      "image/png": "[encoded data removed]",
      "text/plain": [
       "<Figure size 720x720 with 25 Axes>"
      ]
     },
     "metadata": {
      "needs_background": "light"
     },
     "output_type": "display_data"
    }
   ],
   "source": [
    "plt.figure(figsize=(10, 10))\n",
    "sample = df.sample(25)\n",
    "for i, (idx, row) in enumerate(sample.iterrows()):\n",
    "    ax = plt.subplot(5, 5, i + 1)\n",
    "    img = keras.utils.load_img(row.filename, target_size=(480,480))\n",
    "    if EQUALIZE:\n",
    "        img = tfa.image.equalize(img)\n",
    "    plt.imshow(img)\n",
    "    plt.title(row[\"class\"])\n",
    "    plt.axis(\"off\")"
   ]
  },
  {
   "cell_type": "code",
   "execution_count": 10,
   "id": "dbbf3b1e",
   "metadata": {},
   "outputs": [
    {
     "name": "stdout",
     "output_type": "stream",
     "text": [
      "Found 33027 files belonging to 12 classes.\n"
     ]
    },
    {
     "name": "stderr",
     "output_type": "stream",
     "text": [
      "2022-07-11 15:34:33.579887: I tensorflow/core/platform/cpu_feature_guard.cc:193] This TensorFlow binary is optimized with oneAPI Deep Neural Network Library (oneDNN) to use the following CPU instructions in performance-critical operations:  AVX2 AVX512F FMA\n",
      "To enable them in other operations, rebuild TensorFlow with the appropriate compiler flags.\n",
      "2022-07-11 15:34:33.580885: I tensorflow/stream_executor/cuda/cuda_gpu_executor.cc:975] successful NUMA node read from SysFS had negative value (-1), but there must be at least one NUMA node, so returning NUMA node zero\n",
      "2022-07-11 15:34:33.581137: I tensorflow/stream_executor/cuda/cuda_gpu_executor.cc:975] successful NUMA node read from SysFS had negative value (-1), but there must be at least one NUMA node, so returning NUMA node zero\n",
      "2022-07-11 15:34:33.581268: I tensorflow/stream_executor/cuda/cuda_gpu_executor.cc:975] successful NUMA node read from SysFS had negative value (-1), but there must be at least one NUMA node, so returning NUMA node zero\n",
      "2022-07-11 15:34:34.355185: I tensorflow/stream_executor/cuda/cuda_gpu_executor.cc:975] successful NUMA node read from SysFS had negative value (-1), but there must be at least one NUMA node, so returning NUMA node zero\n",
      "2022-07-11 15:34:34.355436: I tensorflow/stream_executor/cuda/cuda_gpu_executor.cc:975] successful NUMA node read from SysFS had negative value (-1), but there must be at least one NUMA node, so returning NUMA node zero\n",
      "2022-07-11 15:34:34.355588: I tensorflow/stream_executor/cuda/cuda_gpu_executor.cc:975] successful NUMA node read from SysFS had negative value (-1), but there must be at least one NUMA node, so returning NUMA node zero\n",
      "2022-07-11 15:34:34.355798: I tensorflow/core/common_runtime/gpu/gpu_device.cc:1532] Created device /job:localhost/replica:0/task:0/device:GPU:0 with 13705 MB memory:  -> device: 0, name: Tesla V100-PCIE-32GB, pci bus id: 0000:00:08.0, compute capability: 7.0\n"
     ]
    }
   ],
   "source": [
    "train = tf.keras.utils.image_dataset_from_directory(\n",
    "    BASE_DIR,\n",
    "    image_size = (480,480),\n",
    "    batch_size = BATCH_SIZE, #// 4, # / 4 here, because the augmentations will * 4\n",
    "    label_mode = 'categorical',\n",
    "    shuffle = False\n",
    ")\n",
    "if EQUALIZE:\n",
    "    train_cache = train.map(lambda x, y: (tfa.image.equalize(x), y)).prefetch(tf.data.AUTOTUNE)\n",
    "else:\n",
    "    train_cache = train.prefetch(tf.data.AUTOTUNE)"
   ]
  },
  {
   "cell_type": "code",
   "execution_count": 11,
   "id": "012e294d",
   "metadata": {},
   "outputs": [
    {
     "data": {
      "text/plain": [
       "259"
      ]
     },
     "execution_count": 11,
     "metadata": {},
     "output_type": "execute_result"
    }
   ],
   "source": [
    "len(train_cache)"
   ]
  },
  {
   "cell_type": "code",
   "execution_count": 12,
   "id": "80d5d9ad",
   "metadata": {},
   "outputs": [],
   "source": [
    "#list(tqdm(train_cache)); # load it all into RAM"
   ]
  },
  {
   "cell_type": "code",
   "execution_count": 13,
   "id": "27fe3367",
   "metadata": {},
   "outputs": [
    {
     "data": {
      "text/plain": [
       "<matplotlib.image.AxesImage at 0x7f87e7665550>"
      ]
     },
     "execution_count": 13,
     "metadata": {},
     "output_type": "execute_result"
    },
    {
     "data": {
      "image/png": "[encoded data removed]",
      "text/plain": [
       "<Figure size 432x288 with 1 Axes>"
      ]
     },
     "metadata": {
      "needs_background": "light"
     },
     "output_type": "display_data"
    }
   ],
   "source": [
    "x, y = next(iter(train_cache))\n",
    "plt.imshow(x.numpy()[100].astype(\"uint8\"))"
   ]
  },
  {
   "cell_type": "code",
   "execution_count": 14,
   "id": "110398bc",
   "metadata": {},
   "outputs": [
    {
     "name": "stdout",
     "output_type": "stream",
     "text": [
      "(512, 480, 480, 3) (512, 12)\n"
     ]
    }
   ],
   "source": [
    "class AugmentationGenerator(tf.keras.utils.Sequence):\n",
    "    def __getitem__(self, idx):\n",
    "        x, y = next(iter(train_cache.skip(idx).take(1)))\n",
    "        x = np.vstack([\n",
    "            x,\n",
    "            np.flip(x, axis=1),\n",
    "            np.flip(x, axis=2),\n",
    "            np.flip(np.flip(x, axis=1), axis=2),\n",
    "        ])\n",
    "        y = np.vstack([\n",
    "            y, y, y, y\n",
    "        ])\n",
    "        return x, y\n",
    "    def __len__(self):\n",
    "        return len(train_cache)\n",
    "\n",
    "x, y = AugmentationGenerator().__getitem__(0)\n",
    "print(x.shape, y.shape)"
   ]
  },
  {
   "cell_type": "code",
   "execution_count": 15,
   "id": "cb6e7d14",
   "metadata": {},
   "outputs": [
    {
     "data": {
      "text/plain": [
       "259"
      ]
     },
     "execution_count": 15,
     "metadata": {},
     "output_type": "execute_result"
    }
   ],
   "source": [
    "len(AugmentationGenerator())"
   ]
  },
  {
   "cell_type": "code",
   "execution_count": 16,
   "id": "3b1f175a",
   "metadata": {},
   "outputs": [
    {
     "name": "stdout",
     "output_type": "stream",
     "text": [
      "12\n"
     ]
    },
    {
     "data": {
      "text/plain": [
       "['2 Cell',\n",
       " '2pn',\n",
       " '3 Cell',\n",
       " '4 Cell',\n",
       " '5 Cell',\n",
       " '6-7 Cell',\n",
       " '8 Cell',\n",
       " '9+ Cell',\n",
       " 'Blast',\n",
       " 'Compacting',\n",
       " 'Empty',\n",
       " 'Syngamy']"
      ]
     },
     "execution_count": 16,
     "metadata": {},
     "output_type": "execute_result"
    }
   ],
   "source": [
    "classes = train.class_names\n",
    "print(len(classes))\n",
    "classes"
   ]
  },
  {
   "cell_type": "code",
   "execution_count": 17,
   "id": "a2b1f6a8",
   "metadata": {},
   "outputs": [
    {
     "name": "stdout",
     "output_type": "stream",
     "text": [
      "Model: \"sequential\"\n",
      "_________________________________________________________________\n",
      " Layer (type)                Output Shape              Param #   \n",
      "=================================================================\n",
      " rescaling (Rescaling)       (None, 480, 480, 3)       0         \n",
      "                                                                 \n",
      " efficientnetv2-l (Functiona  (None, 1280)             117746848 \n",
      " l)                                                              \n",
      "                                                                 \n",
      "=================================================================\n",
      "Total params: 117,746,848\n",
      "Trainable params: 117,234,272\n",
      "Non-trainable params: 512,576\n",
      "_________________________________________________________________\n"
     ]
    }
   ],
   "source": [
    "base_model = keras.Sequential([\n",
    "    # Pre-trained Xception weights requires that input be scaled\n",
    "    # from (0, 255) to a range of (-1., +1.), the rescaling layer\n",
    "    # outputs: `(inputs * scale) + offset`\n",
    "    keras.layers.Rescaling(scale=1./127.5, offset=-1, input_shape=(480,480,3)),\n",
    "    keras.applications.EfficientNetV2L(\n",
    "        weights='imagenet',  # Load weights pre-trained on ImageNet.\n",
    "        include_top=False,\n",
    "        pooling=\"avg\",\n",
    "        include_preprocessing=False\n",
    "    )\n",
    "])\n",
    "#base_model.save(f\"models/xception.h5\")\n",
    "base_model.summary()"
   ]
  },
  {
   "cell_type": "code",
   "execution_count": 18,
   "id": "ca155884",
   "metadata": {},
   "outputs": [
    {
     "name": "stdout",
     "output_type": "stream",
     "text": [
      "extracted_features.npy\n",
      "[Errno 2] No such file or directory: 'extracted_features.npy'\n"
     ]
    },
    {
     "name": "stderr",
     "output_type": "stream",
     "text": [
      "2022-07-11 15:35:44.936285: I tensorflow/stream_executor/cuda/cuda_dnn.cc:384] Loaded cuDNN version 8302\n",
      "2022-07-11 15:35:45.862619: I tensorflow/core/platform/default/subprocess.cc:304] Start cannot spawn child process: No such file or directory\n"
     ]
    },
    {
     "name": "stdout",
     "output_type": "stream",
     "text": [
      "231/259 [=========================>....] - ETA: 5:17"
     ]
    },
    {
     "name": "stderr",
     "output_type": "stream",
     "text": [
      "2022-07-11 16:19:46.559107: W tensorflow/core/common_runtime/bfc_allocator.cc:479] Allocator (GPU_0_bfc) ran out of memory trying to allocate 3.52GiB (rounded to 3774873600)requested by op sequential/efficientnetv2-l/block2b_expand_bn/FusedBatchNormV3\n",
      "If the cause is memory fragmentation maybe the environment variable 'TF_GPU_ALLOCATOR=cuda_malloc_async' will improve the situation. \n",
      "Current allocation summary follows.\n",
      "Current allocation summary follows.\n",
      "2022-07-11 16:19:46.559235: I tensorflow/core/common_runtime/bfc_allocator.cc:1027] BFCAllocator dump for GPU_0_bfc\n",
      "2022-07-11 16:19:46.559249: I tensorflow/core/common_runtime/bfc_allocator.cc:1034] Bin (256): \tTotal Chunks: 394, Chunks in use: 394. 98.5KiB allocated for chunks. 98.5KiB in use in bin. 25.3KiB client-requested in use in bin.\n",
      "2022-07-11 16:19:46.559266: I tensorflow/core/common_runtime/bfc_allocator.cc:1034] Bin (512): \tTotal Chunks: 106, Chunks in use: 106. 64.0KiB allocated for chunks. 64.0KiB in use in bin. 55.4KiB client-requested in use in bin.\n",
      "2022-07-11 16:19:46.559273: I tensorflow/core/common_runtime/bfc_allocator.cc:1034] Bin (1024): \tTotal Chunks: 248, Chunks in use: 248. 319.5KiB allocated for chunks. 319.5KiB in use in bin. 306.9KiB client-requested in use in bin.\n",
      "2022-07-11 16:19:46.559278: I tensorflow/core/common_runtime/bfc_allocator.cc:1034] Bin (2048): \tTotal Chunks: 126, Chunks in use: 126. 358.5KiB allocated for chunks. 358.5KiB in use in bin. 352.5KiB client-requested in use in bin.\n",
      "2022-07-11 16:19:46.559283: I tensorflow/core/common_runtime/bfc_allocator.cc:1034] Bin (4096): \tTotal Chunks: 219, Chunks in use: 219. 1.12MiB allocated for chunks. 1.12MiB in use in bin. 1.09MiB client-requested in use in bin.\n",
      "2022-07-11 16:19:46.559288: I tensorflow/core/common_runtime/bfc_allocator.cc:1034] Bin (8192): \tTotal Chunks: 289, Chunks in use: 289. 2.91MiB allocated for chunks. 2.91MiB in use in bin. 2.86MiB client-requested in use in bin.\n",
      "2022-07-11 16:19:46.559294: I tensorflow/core/common_runtime/bfc_allocator.cc:1034] Bin (16384): \tTotal Chunks: 32, Chunks in use: 31. 742.5KiB allocated for chunks. 726.5KiB in use in bin. 700.1KiB client-requested in use in bin.\n",
      "2022-07-11 16:19:46.559299: I tensorflow/core/common_runtime/bfc_allocator.cc:1034] Bin (32768): \tTotal Chunks: 62, Chunks in use: 61. 2.61MiB allocated for chunks. 2.55MiB in use in bin. 2.39MiB client-requested in use in bin.\n",
      "2022-07-11 16:19:46.559303: I tensorflow/core/common_runtime/bfc_allocator.cc:1034] Bin (65536): \tTotal Chunks: 64, Chunks in use: 63. 4.81MiB allocated for chunks. 4.72MiB in use in bin. 4.57MiB client-requested in use in bin.\n",
      "2022-07-11 16:19:46.559309: I tensorflow/core/common_runtime/bfc_allocator.cc:1034] Bin (131072): \tTotal Chunks: 75, Chunks in use: 75. 10.96MiB allocated for chunks. 10.96MiB in use in bin. 10.51MiB client-requested in use in bin.\n",
      "2022-07-11 16:19:46.559315: I tensorflow/core/common_runtime/bfc_allocator.cc:1034] Bin (262144): \tTotal Chunks: 114, Chunks in use: 113. 39.73MiB allocated for chunks. 39.45MiB in use in bin. 38.81MiB client-requested in use in bin.\n",
      "2022-07-11 16:19:46.559320: I tensorflow/core/common_runtime/bfc_allocator.cc:1034] Bin (524288): \tTotal Chunks: 121, Chunks in use: 121. 84.70MiB allocated for chunks. 84.70MiB in use in bin. 82.69MiB client-requested in use in bin.\n",
      "2022-07-11 16:19:46.559327: I tensorflow/core/common_runtime/bfc_allocator.cc:1034] Bin (1048576): \tTotal Chunks: 285, Chunks in use: 285. 376.36MiB allocated for chunks. 376.36MiB in use in bin. 369.85MiB client-requested in use in bin.\n",
      "2022-07-11 16:19:46.559333: I tensorflow/core/common_runtime/bfc_allocator.cc:1034] Bin (2097152): \tTotal Chunks: 118, Chunks in use: 118. 324.23MiB allocated for chunks. 324.23MiB in use in bin. 268.16MiB client-requested in use in bin.\n",
      "2022-07-11 16:19:46.559338: I tensorflow/core/common_runtime/bfc_allocator.cc:1034] Bin (4194304): \tTotal Chunks: 6, Chunks in use: 6. 39.02MiB allocated for chunks. 39.02MiB in use in bin. 27.75MiB client-requested in use in bin.\n",
      "2022-07-11 16:19:46.559344: I tensorflow/core/common_runtime/bfc_allocator.cc:1034] Bin (8388608): \tTotal Chunks: 20, Chunks in use: 20. 181.40MiB allocated for chunks. 181.40MiB in use in bin. 150.00MiB client-requested in use in bin.\n",
      "2022-07-11 16:19:46.559349: I tensorflow/core/common_runtime/bfc_allocator.cc:1034] Bin (16777216): \tTotal Chunks: 0, Chunks in use: 0. 0B allocated for chunks. 0B in use in bin. 0B client-requested in use in bin.\n",
      "2022-07-11 16:19:46.559354: I tensorflow/core/common_runtime/bfc_allocator.cc:1034] Bin (33554432): \tTotal Chunks: 0, Chunks in use: 0. 0B allocated for chunks. 0B in use in bin. 0B client-requested in use in bin.\n",
      "2022-07-11 16:19:46.559361: I tensorflow/core/common_runtime/bfc_allocator.cc:1034] Bin (67108864): \tTotal Chunks: 0, Chunks in use: 0. 0B allocated for chunks. 0B in use in bin. 0B client-requested in use in bin.\n",
      "2022-07-11 16:19:46.559365: I tensorflow/core/common_runtime/bfc_allocator.cc:1034] Bin (134217728): \tTotal Chunks: 0, Chunks in use: 0. 0B allocated for chunks. 0B in use in bin. 0B client-requested in use in bin.\n",
      "2022-07-11 16:19:46.559371: I tensorflow/core/common_runtime/bfc_allocator.cc:1034] Bin (268435456): \tTotal Chunks: 7, Chunks in use: 2. 12.34GiB allocated for chunks. 4.39GiB in use in bin. 4.39GiB client-requested in use in bin.\n",
      "2022-07-11 16:19:46.559376: I tensorflow/core/common_runtime/bfc_allocator.cc:1050] Bin for 3.52GiB was 256.00MiB, Chunk State: \n",
      "2022-07-11 16:19:46.559385: I tensorflow/core/common_runtime/bfc_allocator.cc:1056]   Size: 654.61MiB | Requested Size: 288.0KiB | in_use: 0 | bin_num: 20, prev:   Size: 256B | Requested Size: 8B | in_use: 1 | bin_num: -1\n",
      "2022-07-11 16:19:46.559391: I tensorflow/core/common_runtime/bfc_allocator.cc:1056]   Size: 1.00GiB | Requested Size: 900.00MiB | in_use: 0 | bin_num: 20\n",
      "2022-07-11 16:19:46.559397: I tensorflow/core/common_runtime/bfc_allocator.cc:1056]   Size: 1.32GiB | Requested Size: 1.32GiB | in_use: 0 | bin_num: 20, next:   Size: 256B | Requested Size: 8B | in_use: 1 | bin_num: -1\n",
      "2022-07-11 16:19:46.559402: I tensorflow/core/common_runtime/bfc_allocator.cc:1056]   Size: 1.87GiB | Requested Size: 4B | in_use: 0 | bin_num: 20, prev:   Size: 3.52GiB | Requested Size: 3.52GiB | in_use: 1 | bin_num: -1\n",
      "2022-07-11 16:19:46.559408: I tensorflow/core/common_runtime/bfc_allocator.cc:1056]   Size: 3.12GiB | Requested Size: 1.76GiB | in_use: 0 | bin_num: 20, prev:   Size: 900.00MiB | Requested Size: 900.00MiB | in_use: 1 | bin_num: -1\n",
      "2022-07-11 16:19:46.559412: I tensorflow/core/common_runtime/bfc_allocator.cc:1063] Next region of size 5779685376\n",
      "2022-07-11 16:19:46.559433: I tensorflow/core/common_runtime/bfc_allocator.cc:1083] InUse at 7f80d0000000 of size 3774873600 next 2294\n",
      "2022-07-11 16:19:46.559437: I tensorflow/core/common_runtime/bfc_allocator.cc:1083] Free  at 7f81b1000000 of size 2004811776 next 18446744073709551615\n",
      "2022-07-11 16:19:46.559441: I tensorflow/core/common_runtime/bfc_allocator.cc:1063] Next region of size 4294967296\n",
      "2022-07-11 16:19:46.559445: I tensorflow/core/common_runtime/bfc_allocator.cc:1083] InUse at 7f831e000000 of size 943718400 next 1887\n",
      "2022-07-11 16:19:46.559449: I tensorflow/core/common_runtime/bfc_allocator.cc:1083] Free  at 7f8356400000 of size 3351248896 next 18446744073709551615\n",
      "2022-07-11 16:19:46.559453: I tensorflow/core/common_runtime/bfc_allocator.cc:1063] Next region of size 2147483648\n",
      "2022-07-11 16:19:46.559457: I tensorflow/core/common_runtime/bfc_allocator.cc:1083] Free  at 7f84d8000000 of size 1415577600 next 2188\n",
      "2022-07-11 16:19:46.559461: I tensorflow/core/common_runtime/bfc_allocator.cc:1083] InUse at 7f852c600000 of size 256 next 1836\n",
      "2022-07-11 16:19:46.559465: I tensorflow/core/common_runtime/bfc_allocator.cc:1083] InUse at 7f852c600100 of size 256 next 2228\n",
      "2022-07-11 16:19:46.559469: I tensorflow/core/common_runtime/bfc_allocator.cc:1083] InUse at 7f852c600200 of size 256 next 1933\n",
      "2022-07-11 16:19:46.559473: I tensorflow/core/common_runtime/bfc_allocator.cc:1083] InUse at 7f852c600300 of size 256 next 1399\n",
      "2022-07-11 16:19:46.559477: I tensorflow/core/common_runtime/bfc_allocator.cc:1083] InUse at 7f852c600400 of size 256 next 1750\n",
      "2022-07-11 16:19:46.559481: I tensorflow/core/common_runtime/bfc_allocator.cc:1083] InUse at 7f852c600500 of size 1310720 next 1409\n",
      "2022-07-11 16:19:46.559485: I tensorflow/core/common_runtime/bfc_allocator.cc:1083] InUse at 7f852c740500 of size 1310720 next 1924\n",
      "2022-07-11 16:19:46.559489: I tensorflow/core/common_runtime/bfc_allocator.cc:1083] InUse at 7f852c880500 of size 1310720 next 1598\n",
      "2022-07-11 16:19:46.559494: I tensorflow/core/common_runtime/bfc_allocator.cc:1083] InUse at 7f852c9c0500 of size 1310720 next 2218\n",
      "2022-07-11 16:19:46.559498: I tensorflow/core/common_runtime/bfc_allocator.cc:1083] InUse at 7f852cb00500 of size 1310720 next 1626\n",
      "2022-07-11 16:19:46.559502: I tensorflow/core/common_runtime/bfc_allocator.cc:1083] InUse at 7f852cc40500 of size 2544896 next 2241\n",
      "2022-07-11 16:19:46.559506: I tensorflow/core/common_runtime/bfc_allocator.cc:1083] InUse at 7f852ceada00 of size 256 next 1377\n",
      "2022-07-11 16:19:46.559509: I tensorflow/core/common_runtime/bfc_allocator.cc:1083] InUse at 7f852ceadb00 of size 256 next 1432\n",
      "2022-07-11 16:19:46.559513: I tensorflow/core/common_runtime/bfc_allocator.cc:1083] InUse at 7f852ceadc00 of size 256 next 1987\n",
      "2022-07-11 16:19:46.559517: I tensorflow/core/common_runtime/bfc_allocator.cc:1083] InUse at 7f852ceadd00 of size 256 next 1604\n",
      "2022-07-11 16:19:46.559521: I tensorflow/core/common_runtime/bfc_allocator.cc:1083] InUse at 7f852ceade00 of size 256 next 1823\n",
      "2022-07-11 16:19:46.559524: I tensorflow/core/common_runtime/bfc_allocator.cc:1083] InUse at 7f852ceadf00 of size 256 next 1853\n",
      "2022-07-11 16:19:46.559528: I tensorflow/core/common_runtime/bfc_allocator.cc:1083] InUse at 7f852ceae000 of size 1310720 next 2123\n",
      "2022-07-11 16:19:46.559532: I tensorflow/core/common_runtime/bfc_allocator.cc:1083] InUse at 7f852cfee000 of size 1310720 next 2203\n",
      "2022-07-11 16:19:46.559535: I tensorflow/core/common_runtime/bfc_allocator.cc:1083] InUse at 7f852d12e000 of size 1310720 next 1835\n",
      "2022-07-11 16:19:46.559539: I tensorflow/core/common_runtime/bfc_allocator.cc:1083] InUse at 7f852d26e000 of size 1310720 next 1787\n",
      "2022-07-11 16:19:46.559543: I tensorflow/core/common_runtime/bfc_allocator.cc:1083] InUse at 7f852d3ae000 of size 1310720 next 1913\n",
      "2022-07-11 16:19:46.559547: I tensorflow/core/common_runtime/bfc_allocator.cc:1083] InUse at 7f852d4ee000 of size 2544896 next 2253\n",
      "2022-07-11 16:19:46.559550: I tensorflow/core/common_runtime/bfc_allocator.cc:1083] InUse at 7f852d75b500 of size 256 next 2162\n",
      "2022-07-11 16:19:46.559554: I tensorflow/core/common_runtime/bfc_allocator.cc:1083] InUse at 7f852d75b600 of size 256 next 1600\n",
      "2022-07-11 16:19:46.559558: I tensorflow/core/common_runtime/bfc_allocator.cc:1083] InUse at 7f852d75b700 of size 256 next 2139\n",
      "2022-07-11 16:19:46.559561: I tensorflow/core/common_runtime/bfc_allocator.cc:1083] InUse at 7f852d75b800 of size 256 next 1683\n",
      "2022-07-11 16:19:46.559565: I tensorflow/core/common_runtime/bfc_allocator.cc:1083] InUse at 7f852d75b900 of size 256 next 2171\n",
      "2022-07-11 16:19:46.559569: I tensorflow/core/common_runtime/bfc_allocator.cc:1083] InUse at 7f852d75ba00 of size 256 next 2022\n",
      "2022-07-11 16:19:46.559573: I tensorflow/core/common_runtime/bfc_allocator.cc:1083] InUse at 7f852d75bb00 of size 1310720 next 1434\n",
      "2022-07-11 16:19:46.559576: I tensorflow/core/common_runtime/bfc_allocator.cc:1083] InUse at 7f852d89bb00 of size 1310720 next 1574\n",
      "2022-07-11 16:19:46.559580: I tensorflow/core/common_runtime/bfc_allocator.cc:1083] InUse at 7f852d9dbb00 of size 1310720 next 2178\n",
      "2022-07-11 16:19:46.559584: I tensorflow/core/common_runtime/bfc_allocator.cc:1083] InUse at 7f852db1bb00 of size 1310720 next 1429\n",
      "2022-07-11 16:19:46.559588: I tensorflow/core/common_runtime/bfc_allocator.cc:1083] InUse at 7f852dc5bb00 of size 1310720 next 1387\n",
      "2022-07-11 16:19:46.559591: I tensorflow/core/common_runtime/bfc_allocator.cc:1083] InUse at 7f852dd9bb00 of size 2544896 next 2265\n",
      "2022-07-11 16:19:46.559595: I tensorflow/core/common_runtime/bfc_allocator.cc:1083] InUse at 7f852e009000 of size 256 next 1617\n",
      "2022-07-11 16:19:46.559599: I tensorflow/core/common_runtime/bfc_allocator.cc:1083] InUse at 7f852e009100 of size 256 next 1766\n",
      "2022-07-11 16:19:46.559602: I tensorflow/core/common_runtime/bfc_allocator.cc:1083] InUse at 7f852e009200 of size 256 next 1476\n",
      "2022-07-11 16:19:46.559606: I tensorflow/core/common_runtime/bfc_allocator.cc:1083] InUse at 7f852e009300 of size 256 next 1664\n",
      "2022-07-11 16:19:46.559611: I tensorflow/core/common_runtime/bfc_allocator.cc:1083] InUse at 7f852e009400 of size 256 next 2018\n",
      "2022-07-11 16:19:46.559615: I tensorflow/core/common_runtime/bfc_allocator.cc:1083] InUse at 7f852e009500 of size 256 next 1565\n",
      "2022-07-11 16:19:46.559619: I tensorflow/core/common_runtime/bfc_allocator.cc:1083] InUse at 7f852e009600 of size 1310720 next 1398\n",
      "2022-07-11 16:19:46.559623: I tensorflow/core/common_runtime/bfc_allocator.cc:1083] InUse at 7f852e149600 of size 1310720 next 1614\n",
      "2022-07-11 16:19:46.559626: I tensorflow/core/common_runtime/bfc_allocator.cc:1083] InUse at 7f852e289600 of size 1310720 next 1846\n",
      "2022-07-11 16:19:46.559630: I tensorflow/core/common_runtime/bfc_allocator.cc:1083] InUse at 7f852e3c9600 of size 1310720 next 2239\n",
      "2022-07-11 16:19:46.559634: I tensorflow/core/common_runtime/bfc_allocator.cc:1083] InUse at 7f852e509600 of size 1310720 next 2129\n",
      "2022-07-11 16:19:46.559638: I tensorflow/core/common_runtime/bfc_allocator.cc:1083] InUse at 7f852e649600 of size 2544896 next 1927\n",
      "2022-07-11 16:19:46.559642: I tensorflow/core/common_runtime/bfc_allocator.cc:1083] InUse at 7f852e8b6b00 of size 256 next 2092\n",
      "2022-07-11 16:19:46.559646: I tensorflow/core/common_runtime/bfc_allocator.cc:1083] InUse at 7f852e8b6c00 of size 256 next 1394\n",
      "2022-07-11 16:19:46.559649: I tensorflow/core/common_runtime/bfc_allocator.cc:1083] InUse at 7f852e8b6d00 of size 256 next 2153\n",
      "2022-07-11 16:19:46.559653: I tensorflow/core/common_runtime/bfc_allocator.cc:1083] InUse at 7f852e8b6e00 of size 256 next 2095\n",
      "2022-07-11 16:19:46.559657: I tensorflow/core/common_runtime/bfc_allocator.cc:1083] InUse at 7f852e8b6f00 of size 256 next 2146\n",
      "2022-07-11 16:19:46.559661: I tensorflow/core/common_runtime/bfc_allocator.cc:1083] InUse at 7f852e8b7000 of size 256 next 1849\n",
      "2022-07-11 16:19:46.559665: I tensorflow/core/common_runtime/bfc_allocator.cc:1083] InUse at 7f852e8b7100 of size 1310720 next 2007\n",
      "2022-07-11 16:19:46.559669: I tensorflow/core/common_runtime/bfc_allocator.cc:1083] InUse at 7f852e9f7100 of size 1769472 next 2226\n",
      "2022-07-11 16:19:46.559673: I tensorflow/core/common_runtime/bfc_allocator.cc:1083] InUse at 7f852eba7100 of size 1769472 next 2194\n",
      "2022-07-11 16:19:46.559677: I tensorflow/core/common_runtime/bfc_allocator.cc:1083] InUse at 7f852ed57100 of size 1228800 next 2152\n",
      "2022-07-11 16:19:46.559681: I tensorflow/core/common_runtime/bfc_allocator.cc:1083] InUse at 7f852ee83100 of size 1228800 next 1922\n",
      "2022-07-11 16:19:46.559685: I tensorflow/core/common_runtime/bfc_allocator.cc:1083] InUse at 7f852efaf100 of size 1791232 next 1497\n",
      "2022-07-11 16:19:46.559689: I tensorflow/core/common_runtime/bfc_allocator.cc:1083] InUse at 7f852f164600 of size 256 next 1648\n",
      "2022-07-11 16:19:46.559692: I tensorflow/core/common_runtime/bfc_allocator.cc:1083] InUse at 7f852f164700 of size 256 next 2025\n",
      "2022-07-11 16:19:46.559696: I tensorflow/core/common_runtime/bfc_allocator.cc:1083] Free  at 7f852f164800 of size 686405632 next 18446744073709551615\n",
      "2022-07-11 16:19:46.559700: I tensorflow/core/common_runtime/bfc_allocator.cc:1063] Next region of size 1073741824\n",
      "2022-07-11 16:19:46.559704: I tensorflow/core/common_runtime/bfc_allocator.cc:1083] Free  at 7f85ec000000 of size 1073741824 next 18446744073709551615\n",
      "2022-07-11 16:19:46.559708: I tensorflow/core/common_runtime/bfc_allocator.cc:1063] Next region of size 536870912\n",
      "2022-07-11 16:19:46.559712: I tensorflow/core/common_runtime/bfc_allocator.cc:1083] InUse at 7f862c000000 of size 589824 next 55\n",
      "2022-07-11 16:19:46.559717: I tensorflow/core/common_runtime/bfc_allocator.cc:1083] InUse at 7f862c090000 of size 589824 next 66\n",
      "2022-07-11 16:19:46.559721: I tensorflow/core/common_runtime/bfc_allocator.cc:1083] InUse at 7f862c120000 of size 589824 next 76\n",
      "2022-07-11 16:19:46.559725: I tensorflow/core/common_runtime/bfc_allocator.cc:1083] InUse at 7f862c1b0000 of size 589824 next 86\n",
      "2022-07-11 16:19:46.559729: I tensorflow/core/common_runtime/bfc_allocator.cc:1083] InUse at 7f862c240000 of size 589824 next 96\n",
      "2022-07-11 16:19:46.559733: I tensorflow/core/common_runtime/bfc_allocator.cc:1083] InUse at 7f862c2d0000 of size 589824 next 106\n",
      "2022-07-11 16:19:46.559737: I tensorflow/core/common_runtime/bfc_allocator.cc:1083] InUse at 7f862c360000 of size 27648 next 240\n",
      "2022-07-11 16:19:46.559741: I tensorflow/core/common_runtime/bfc_allocator.cc:1083] InUse at 7f862c366c00 of size 276480 next 224\n",
      "2022-07-11 16:19:46.559745: I tensorflow/core/common_runtime/bfc_allocator.cc:1083] InUse at 7f862c3aa400 of size 256 next 225\n",
      "2022-07-11 16:19:46.559749: I tensorflow/core/common_runtime/bfc_allocator.cc:1083] InUse at 7f862c3aa500 of size 768 next 231\n",
      "2022-07-11 16:19:46.559753: I tensorflow/core/common_runtime/bfc_allocator.cc:1083] InUse at 7f862c3aa800 of size 768 next 232\n",
      "2022-07-11 16:19:46.559757: I tensorflow/core/common_runtime/bfc_allocator.cc:1083] InUse at 7f862c3aab00 of size 4864 next 234\n",
      "2022-07-11 16:19:46.559761: I tensorflow/core/common_runtime/bfc_allocator.cc:1083] InUse at 7f862c3abe00 of size 3072 next 236\n",
      "2022-07-11 16:19:46.559765: I tensorflow/core/common_runtime/bfc_allocator.cc:1083] InUse at 7f862c3aca00 of size 3072 next 237\n",
      "2022-07-11 16:19:46.559769: I tensorflow/core/common_runtime/bfc_allocator.cc:1083] InUse at 7f862c3ad600 of size 3072 next 238\n",
      "2022-07-11 16:19:46.559773: I tensorflow/core/common_runtime/bfc_allocator.cc:1083] InUse at 7f862c3ae200 of size 3072 next 239\n",
      "2022-07-11 16:19:46.559776: I tensorflow/core/common_runtime/bfc_allocator.cc:1083] InUse at 7f862c3aee00 of size 3072 next 241\n",
      "2022-07-11 16:19:46.559780: I tensorflow/core/common_runtime/bfc_allocator.cc:1083] InUse at 7f862c3afa00 of size 5632 next 202\n",
      "2022-07-11 16:19:46.559784: I tensorflow/core/common_runtime/bfc_allocator.cc:1083] InUse at 7f862c3b1000 of size 36864 next 203\n",
      "2022-07-11 16:19:46.559788: I tensorflow/core/common_runtime/bfc_allocator.cc:1083] InUse at 7f862c3ba000 of size 36864 next 205\n",
      "2022-07-11 16:19:46.559792: I tensorflow/core/common_runtime/bfc_allocator.cc:1083] InUse at 7f862c3c3000 of size 3072 next 242\n",
      "2022-07-11 16:19:46.559796: I tensorflow/core/common_runtime/bfc_allocator.cc:1083] InUse at 7f862c3c3c00 of size 3328 next 245\n",
      "2022-07-11 16:19:46.559801: I tensorflow/core/common_runtime/bfc_allocator.cc:1083] InUse at 7f862c3c4900 of size 768 next 235\n",
      "2022-07-11 16:19:46.559804: I tensorflow/core/common_runtime/bfc_allocator.cc:1083] InUse at 7f862c3c4c00 of size 768 next 246\n",
      "2022-07-11 16:19:46.559808: I tensorflow/core/common_runtime/bfc_allocator.cc:1083] InUse at 7f862c3c4f00 of size 768 next 248\n",
      "2022-07-11 16:19:46.559812: I tensorflow/core/common_runtime/bfc_allocator.cc:1083] InUse at 7f862c3c5200 of size 768 next 249\n",
      "2022-07-11 16:19:46.559816: I tensorflow/core/common_runtime/bfc_allocator.cc:1083] InUse at 7f862c3c5500 of size 3072 next 251\n",
      "2022-07-11 16:19:46.559820: I tensorflow/core/common_runtime/bfc_allocator.cc:1083] InUse at 7f862c3c6100 of size 3072 next 253\n",
      "2022-07-11 16:19:46.559824: I tensorflow/core/common_runtime/bfc_allocator.cc:1083] InUse at 7f862c3c6d00 of size 3072 next 254\n",
      "2022-07-11 16:19:46.559827: I tensorflow/core/common_runtime/bfc_allocator.cc:1083] InUse at 7f862c3c7900 of size 3072 next 255\n",
      "2022-07-11 16:19:46.559831: I tensorflow/core/common_runtime/bfc_allocator.cc:1083] InUse at 7f862c3c8500 of size 3072 next 256\n",
      "2022-07-11 16:19:46.559835: I tensorflow/core/common_runtime/bfc_allocator.cc:1083] InUse at 7f862c3c9100 of size 3072 next 259\n",
      "2022-07-11 16:19:46.559839: I tensorflow/core/common_runtime/bfc_allocator.cc:1083] InUse at 7f862c3c9d00 of size 3072 next 260\n",
      "2022-07-11 16:19:46.559843: I tensorflow/core/common_runtime/bfc_allocator.cc:1083] InUse at 7f862c3ca900 of size 5888 next 135\n",
      "2022-07-11 16:19:46.559847: I tensorflow/core/common_runtime/bfc_allocator.cc:1083] InUse at 7f862c3cc000 of size 294912 next 204\n",
      "2022-07-11 16:19:46.559851: I tensorflow/core/common_runtime/bfc_allocator.cc:1083] InUse at 7f862c414000 of size 147456 next 243\n",
      "2022-07-11 16:19:46.559855: I tensorflow/core/common_runtime/bfc_allocator.cc:1083] InUse at 7f862c438000 of size 737280 next 244\n",
      "2022-07-11 16:19:46.559859: I tensorflow/core/common_runtime/bfc_allocator.cc:1083] InUse at 7f862c4ec000 of size 3328 next 264\n",
      "2022-07-11 16:19:46.559863: I tensorflow/core/common_runtime/bfc_allocator.cc:1083] InUse at 7f862c4ecd00 of size 768 next 247\n",
      "2022-07-11 16:19:46.559866: I tensorflow/core/common_runtime/bfc_allocator.cc:1083] InUse at 7f862c4ed000 of size 768 next 266\n",
      "2022-07-11 16:19:46.559870: I tensorflow/core/common_runtime/bfc_allocator.cc:1083] InUse at 7f862c4ed300 of size 768 next 269\n",
      "2022-07-11 16:19:46.559874: I tensorflow/core/common_runtime/bfc_allocator.cc:1083] InUse at 7f862c4ed600 of size 768 next 270\n",
      "2022-07-11 16:19:46.559878: I tensorflow/core/common_runtime/bfc_allocator.cc:1083] InUse at 7f862c4ed900 of size 3072 next 272\n",
      "2022-07-11 16:19:46.559882: I tensorflow/core/common_runtime/bfc_allocator.cc:1083] InUse at 7f862c4ee500 of size 3072 next 274\n",
      "2022-07-11 16:19:46.559886: I tensorflow/core/common_runtime/bfc_allocator.cc:1083] InUse at 7f862c4ef100 of size 3072 next 275\n",
      "2022-07-11 16:19:46.559890: I tensorflow/core/common_runtime/bfc_allocator.cc:1083] InUse at 7f862c4efd00 of size 3072 next 276\n",
      "2022-07-11 16:19:46.559894: I tensorflow/core/common_runtime/bfc_allocator.cc:1083] InUse at 7f862c4f0900 of size 3072 next 277\n",
      "2022-07-11 16:19:46.559898: I tensorflow/core/common_runtime/bfc_allocator.cc:1083] InUse at 7f862c4f1500 of size 5888 next 257\n",
      "2022-07-11 16:19:46.559902: I tensorflow/core/common_runtime/bfc_allocator.cc:1083] InUse at 7f862c4f2c00 of size 27648 next 258\n",
      "2022-07-11 16:19:46.559906: I tensorflow/core/common_runtime/bfc_allocator.cc:1083] InUse at 7f862c4f9800 of size 3072 next 280\n",
      "2022-07-11 16:19:46.559910: I tensorflow/core/common_runtime/bfc_allocator.cc:1083] InUse at 7f862c4fa400 of size 3072 next 281\n",
      "2022-07-11 16:19:46.559914: I tensorflow/core/common_runtime/bfc_allocator.cc:1083] InUse at 7f862c4fb000 of size 256 next 123\n",
      "2022-07-11 16:19:46.559917: I tensorflow/core/common_runtime/bfc_allocator.cc:1083] InUse at 7f862c4fb100 of size 3072 next 283\n",
      "2022-07-11 16:19:46.559921: I tensorflow/core/common_runtime/bfc_allocator.cc:1083] InUse at 7f862c4fbd00 of size 768 next 282\n",
      "2022-07-11 16:19:46.559925: I tensorflow/core/common_runtime/bfc_allocator.cc:1083] InUse at 7f862c4fc000 of size 768 next 285\n",
      "2022-07-11 16:19:46.559929: I tensorflow/core/common_runtime/bfc_allocator.cc:1083] InUse at 7f862c4fc300 of size 768 next 288\n",
      "2022-07-11 16:19:46.559933: I tensorflow/core/common_runtime/bfc_allocator.cc:1083] InUse at 7f862c4fc600 of size 768 next 289\n",
      "2022-07-11 16:19:46.559937: I tensorflow/core/common_runtime/bfc_allocator.cc:1083] InUse at 7f862c4fc900 of size 3072 next 291\n",
      "2022-07-11 16:19:46.559940: I tensorflow/core/common_runtime/bfc_allocator.cc:1083] InUse at 7f862c4fd500 of size 3072 next 293\n",
      "2022-07-11 16:19:46.559944: I tensorflow/core/common_runtime/bfc_allocator.cc:1083] InUse at 7f862c4fe100 of size 3072 next 294\n",
      "2022-07-11 16:19:46.559948: I tensorflow/core/common_runtime/bfc_allocator.cc:1083] InUse at 7f862c4fed00 of size 3072 next 278\n",
      "2022-07-11 16:19:46.559952: I tensorflow/core/common_runtime/bfc_allocator.cc:1083] InUse at 7f862c4ff900 of size 33536 next 295\n",
      "2022-07-11 16:19:46.559956: I tensorflow/core/common_runtime/bfc_allocator.cc:1083] InUse at 7f862c507c00 of size 3072 next 297\n",
      "2022-07-11 16:19:46.559959: I tensorflow/core/common_runtime/bfc_allocator.cc:1083] InUse at 7f862c508800 of size 3072 next 298\n",
      "2022-07-11 16:19:46.559963: I tensorflow/core/common_runtime/bfc_allocator.cc:1083] InUse at 7f862c509400 of size 3072 next 299\n",
      "2022-07-11 16:19:46.559967: I tensorflow/core/common_runtime/bfc_allocator.cc:1083] InUse at 7f862c50a000 of size 256 next 290\n",
      "2022-07-11 16:19:46.559971: I tensorflow/core/common_runtime/bfc_allocator.cc:1083] InUse at 7f862c50a100 of size 3072 next 303\n",
      "2022-07-11 16:19:46.559975: I tensorflow/core/common_runtime/bfc_allocator.cc:1083] InUse at 7f862c50ad00 of size 768 next 300\n",
      "2022-07-11 16:19:46.559978: I tensorflow/core/common_runtime/bfc_allocator.cc:1083] InUse at 7f862c50b000 of size 768 next 304\n",
      "2022-07-11 16:19:46.559982: I tensorflow/core/common_runtime/bfc_allocator.cc:1083] InUse at 7f862c50b300 of size 768 next 306\n",
      "2022-07-11 16:19:46.559986: I tensorflow/core/common_runtime/bfc_allocator.cc:1083] InUse at 7f862c50b600 of size 768 next 307\n",
      "2022-07-11 16:19:46.559990: I tensorflow/core/common_runtime/bfc_allocator.cc:1083] InUse at 7f862c50b900 of size 3072 next 309\n",
      "2022-07-11 16:19:46.559994: I tensorflow/core/common_runtime/bfc_allocator.cc:1083] InUse at 7f862c50c500 of size 3072 next 311\n",
      "2022-07-11 16:19:46.559998: I tensorflow/core/common_runtime/bfc_allocator.cc:1083] InUse at 7f862c50d100 of size 3072 next 312\n",
      "2022-07-11 16:19:46.560001: I tensorflow/core/common_runtime/bfc_allocator.cc:1083] InUse at 7f862c50dd00 of size 3072 next 313\n",
      "2022-07-11 16:19:46.560005: I tensorflow/core/common_runtime/bfc_allocator.cc:1083] InUse at 7f862c50e900 of size 5888 next 209\n",
      "2022-07-11 16:19:46.560009: I tensorflow/core/common_runtime/bfc_allocator.cc:1083] InUse at 7f862c510000 of size 147456 next 223\n",
      "2022-07-11 16:19:46.560013: I tensorflow/core/common_runtime/bfc_allocator.cc:1083] InUse at 7f862c534000 of size 147456 next 210\n",
      "2022-07-11 16:19:46.560017: I tensorflow/core/common_runtime/bfc_allocator.cc:1083] InUse at 7f862c558000 of size 3072 next 279\n",
      "2022-07-11 16:19:46.560021: I tensorflow/core/common_runtime/bfc_allocator.cc:1083] InUse at 7f862c558c00 of size 3072 next 296\n",
      "2022-07-11 16:19:46.560024: I tensorflow/core/common_runtime/bfc_allocator.cc:1083] InUse at 7f862c559800 of size 3072 next 316\n",
      "2022-07-11 16:19:46.560028: I tensorflow/core/common_runtime/bfc_allocator.cc:1083] InUse at 7f862c55a400 of size 3072 next 317\n",
      "2022-07-11 16:19:46.560032: I tensorflow/core/common_runtime/bfc_allocator.cc:1083] InUse at 7f862c55b000 of size 256 next 252\n",
      "2022-07-11 16:19:46.560036: I tensorflow/core/common_runtime/bfc_allocator.cc:1083] InUse at 7f862c55b100 of size 3072 next 320\n",
      "2022-07-11 16:19:46.560040: I tensorflow/core/common_runtime/bfc_allocator.cc:1083] InUse at 7f862c55bd00 of size 768 next 271\n",
      "2022-07-11 16:19:46.560043: I tensorflow/core/common_runtime/bfc_allocator.cc:1083] InUse at 7f862c55c000 of size 768 next 323\n",
      "2022-07-11 16:19:46.560047: I tensorflow/core/common_runtime/bfc_allocator.cc:1083] InUse at 7f862c55c300 of size 768 next 326\n",
      "2022-07-11 16:19:46.560051: I tensorflow/core/common_runtime/bfc_allocator.cc:1083] InUse at 7f862c55c600 of size 768 next 327\n",
      "2022-07-11 16:19:46.560055: I tensorflow/core/common_runtime/bfc_allocator.cc:1083] InUse at 7f862c55c900 of size 3072 next 328\n",
      "2022-07-11 16:19:46.560059: I tensorflow/core/common_runtime/bfc_allocator.cc:1083] InUse at 7f862c55d500 of size 3072 next 329\n",
      "2022-07-11 16:19:46.560063: I tensorflow/core/common_runtime/bfc_allocator.cc:1083] InUse at 7f862c55e100 of size 3072 next 331\n",
      "2022-07-11 16:19:46.560067: I tensorflow/core/common_runtime/bfc_allocator.cc:1083] InUse at 7f862c55ed00 of size 55040 next 315\n",
      "2022-07-11 16:19:46.560071: I tensorflow/core/common_runtime/bfc_allocator.cc:1083] InUse at 7f862c56c400 of size 3072 next 335\n",
      "2022-07-11 16:19:46.560074: I tensorflow/core/common_runtime/bfc_allocator.cc:1083] InUse at 7f862c56d000 of size 3072 next 336\n",
      "2022-07-11 16:19:46.560078: I tensorflow/core/common_runtime/bfc_allocator.cc:1083] InUse at 7f862c56dc00 of size 3072 next 337\n",
      "2022-07-11 16:19:46.560082: I tensorflow/core/common_runtime/bfc_allocator.cc:1083] InUse at 7f862c56e800 of size 256 next 322\n",
      "2022-07-11 16:19:46.560086: I tensorflow/core/common_runtime/bfc_allocator.cc:1083] InUse at 7f862c56e900 of size 3072 next 340\n",
      "2022-07-11 16:19:46.560090: I tensorflow/core/common_runtime/bfc_allocator.cc:1083] InUse at 7f862c56f500 of size 768 next 339\n",
      "2022-07-11 16:19:46.560094: I tensorflow/core/common_runtime/bfc_allocator.cc:1083] InUse at 7f862c56f800 of size 768 next 341\n",
      "2022-07-11 16:19:46.560097: I tensorflow/core/common_runtime/bfc_allocator.cc:1083] InUse at 7f862c56fb00 of size 768 next 343\n",
      "2022-07-11 16:19:46.560101: I tensorflow/core/common_runtime/bfc_allocator.cc:1083] InUse at 7f862c56fe00 of size 768 next 344\n",
      "2022-07-11 16:19:46.560105: I tensorflow/core/common_runtime/bfc_allocator.cc:1083] InUse at 7f862c570100 of size 3072 next 346\n",
      "2022-07-11 16:19:46.560109: I tensorflow/core/common_runtime/bfc_allocator.cc:1083] InUse at 7f862c570d00 of size 3072 next 348\n",
      "2022-07-11 16:19:46.560113: I tensorflow/core/common_runtime/bfc_allocator.cc:1083] InUse at 7f862c571900 of size 3072 next 334\n",
      "2022-07-11 16:19:46.560117: I tensorflow/core/common_runtime/bfc_allocator.cc:1083] InUse at 7f862c572500 of size 39680 next 262\n",
      "2022-07-11 16:19:46.560121: I tensorflow/core/common_runtime/bfc_allocator.cc:1083] InUse at 7f862c57c000 of size 147456 next 263\n",
      "2022-07-11 16:19:46.560125: I tensorflow/core/common_runtime/bfc_allocator.cc:1083] InUse at 7f862c5a0000 of size 147456 next 265\n",
      "2022-07-11 16:19:46.560129: I tensorflow/core/common_runtime/bfc_allocator.cc:1083] InUse at 7f862c5c4000 of size 3072 next 370\n",
      "2022-07-11 16:19:46.560133: I tensorflow/core/common_runtime/bfc_allocator.cc:1083] InUse at 7f862c5c4c00 of size 3072 next 371\n",
      "2022-07-11 16:19:46.560137: I tensorflow/core/common_runtime/bfc_allocator.cc:1083] InUse at 7f862c5c5800 of size 4608 next 386\n",
      "2022-07-11 16:19:46.560145: I tensorflow/core/common_runtime/bfc_allocator.cc:1083] InUse at 7f862c5c6a00 of size 4608 next 389\n",
      "2022-07-11 16:19:46.560149: I tensorflow/core/common_runtime/bfc_allocator.cc:1083] InUse at 7f862c5c7c00 of size 4608 next 390\n",
      "2022-07-11 16:19:46.560153: I tensorflow/core/common_runtime/bfc_allocator.cc:1083] InUse at 7f862c5c8e00 of size 4608 next 391\n",
      "2022-07-11 16:19:46.560157: I tensorflow/core/common_runtime/bfc_allocator.cc:1083] InUse at 7f862c5ca000 of size 4608 next 393\n",
      "2022-07-11 16:19:46.560161: I tensorflow/core/common_runtime/bfc_allocator.cc:1083] InUse at 7f862c5cb200 of size 4608 next 394\n",
      "2022-07-11 16:19:46.560165: I tensorflow/core/common_runtime/bfc_allocator.cc:1083] InUse at 7f862c5cc400 of size 256 next 347\n",
      "2022-07-11 16:19:46.560169: I tensorflow/core/common_runtime/bfc_allocator.cc:1083] InUse at 7f862c5cc500 of size 4608 next 396\n",
      "2022-07-11 16:19:46.560174: I tensorflow/core/common_runtime/bfc_allocator.cc:1083] InUse at 7f862c5cd700 of size 1024 next 226\n",
      "2022-07-11 16:19:46.560178: I tensorflow/core/common_runtime/bfc_allocator.cc:1083] InUse at 7f862c5cdb00 of size 1024 next 421\n",
      "2022-07-11 16:19:46.560181: I tensorflow/core/common_runtime/bfc_allocator.cc:1083] InUse at 7f862c5cdf00 of size 1024 next 423\n",
      "2022-07-11 16:19:46.560185: I tensorflow/core/common_runtime/bfc_allocator.cc:1083] InUse at 7f862c5ce300 of size 1536 next 399\n",
      "2022-07-11 16:19:46.560189: I tensorflow/core/common_runtime/bfc_allocator.cc:1083] InUse at 7f862c5ce900 of size 256 next 400\n",
      "2022-07-11 16:19:46.560193: I tensorflow/core/common_runtime/bfc_allocator.cc:1083] InUse at 7f862c5cea00 of size 1024 next 403\n",
      "2022-07-11 16:19:46.560197: I tensorflow/core/common_runtime/bfc_allocator.cc:1083] InUse at 7f862c5cee00 of size 1024 next 404\n",
      "2022-07-11 16:19:46.560201: I tensorflow/core/common_runtime/bfc_allocator.cc:1083] InUse at 7f862c5cf200 of size 1024 next 405\n",
      "2022-07-11 16:19:46.560205: I tensorflow/core/common_runtime/bfc_allocator.cc:1083] InUse at 7f862c5cf600 of size 256 next 388\n",
      "2022-07-11 16:19:46.560208: I tensorflow/core/common_runtime/bfc_allocator.cc:1083] InUse at 7f862c5cf700 of size 256 next 425\n",
      "2022-07-11 16:19:46.560212: I tensorflow/core/common_runtime/bfc_allocator.cc:1083] InUse at 7f862c5cf800 of size 256 next 455\n",
      "2022-07-11 16:19:46.560216: I tensorflow/core/common_runtime/bfc_allocator.cc:1083] InUse at 7f862c5cf900 of size 256 next 406\n",
      "2022-07-11 16:19:46.560220: I tensorflow/core/common_runtime/bfc_allocator.cc:1083] InUse at 7f862c5cfa00 of size 256 next 407\n",
      "2022-07-11 16:19:46.560224: I tensorflow/core/common_runtime/bfc_allocator.cc:1083] InUse at 7f862c5cfb00 of size 7424 next 352\n",
      "2022-07-11 16:19:46.560228: I tensorflow/core/common_runtime/bfc_allocator.cc:1083] InUse at 7f862c5d1800 of size 27648 next 353\n",
      "2022-07-11 16:19:46.560232: I tensorflow/core/common_runtime/bfc_allocator.cc:1083] InUse at 7f862c5d8400 of size 3072 next 373\n",
      "2022-07-11 16:19:46.560236: I tensorflow/core/common_runtime/bfc_allocator.cc:1083] InUse at 7f862c5d9000 of size 3072 next 374\n",
      "2022-07-11 16:19:46.560240: I tensorflow/core/common_runtime/bfc_allocator.cc:1083] InUse at 7f862c5d9c00 of size 3072 next 375\n",
      "2022-07-11 16:19:46.560244: I tensorflow/core/common_runtime/bfc_allocator.cc:1083] InUse at 7f862c5da800 of size 256 next 366\n",
      "2022-07-11 16:19:46.560247: I tensorflow/core/common_runtime/bfc_allocator.cc:1083] InUse at 7f862c5da900 of size 3072 next 377\n",
      "2022-07-11 16:19:46.560251: I tensorflow/core/common_runtime/bfc_allocator.cc:1083] InUse at 7f862c5db500 of size 768 next 376\n",
      "2022-07-11 16:19:46.560255: I tensorflow/core/common_runtime/bfc_allocator.cc:1083] InUse at 7f862c5db800 of size 768 next 379\n",
      "2022-07-11 16:19:46.560259: I tensorflow/core/common_runtime/bfc_allocator.cc:1083] InUse at 7f862c5dbb00 of size 768 next 382\n",
      "2022-07-11 16:19:46.560263: I tensorflow/core/common_runtime/bfc_allocator.cc:1083] InUse at 7f862c5dbe00 of size 768 next 383\n",
      "2022-07-11 16:19:46.560266: I tensorflow/core/common_runtime/bfc_allocator.cc:1083] InUse at 7f862c5dc100 of size 4608 next 385\n",
      "2022-07-11 16:19:46.560270: I tensorflow/core/common_runtime/bfc_allocator.cc:1083] InUse at 7f862c5dd300 of size 7424 next 372\n",
      "2022-07-11 16:19:46.560274: I tensorflow/core/common_runtime/bfc_allocator.cc:1083] InUse at 7f862c5df000 of size 4608 next 230\n",
      "2022-07-11 16:19:46.560278: I tensorflow/core/common_runtime/bfc_allocator.cc:1083] InUse at 7f862c5e0200 of size 5376 next 413\n",
      "2022-07-11 16:19:46.560282: I tensorflow/core/common_runtime/bfc_allocator.cc:1083] InUse at 7f862c5e1700 of size 5376 next 414\n",
      "2022-07-11 16:19:46.560286: I tensorflow/core/common_runtime/bfc_allocator.cc:1083] InUse at 7f862c5e2c00 of size 5376 next 378\n",
      "2022-07-11 16:19:46.560290: I tensorflow/core/common_runtime/bfc_allocator.cc:1083] InUse at 7f862c5e4100 of size 5376 next 398\n",
      "2022-07-11 16:19:46.560294: I tensorflow/core/common_runtime/bfc_allocator.cc:1083] InUse at 7f862c5e5600 of size 5376 next 451\n",
      "2022-07-11 16:19:46.560297: I tensorflow/core/common_runtime/bfc_allocator.cc:1083] InUse at 7f862c5e6b00 of size 5376 next 215\n",
      "2022-07-11 16:19:46.560302: I tensorflow/core/common_runtime/bfc_allocator.cc:1083] InUse at 7f862c5e8000 of size 589824 next 216\n",
      "2022-07-11 16:19:46.560305: I tensorflow/core/common_runtime/bfc_allocator.cc:1083] InUse at 7f862c678000 of size 147456 next 284\n",
      "2022-07-11 16:19:46.560309: I tensorflow/core/common_runtime/bfc_allocator.cc:1083] InUse at 7f862c69c000 of size 5376 next 410\n",
      "2022-07-11 16:19:46.560313: I tensorflow/core/common_runtime/bfc_allocator.cc:1083] InUse at 7f862c69d500 of size 5376 next 411\n",
      "2022-07-11 16:19:46.560317: I tensorflow/core/common_runtime/bfc_allocator.cc:1083] InUse at 7f862c69ea00 of size 5376 next 412\n",
      "2022-07-11 16:19:46.560321: I tensorflow/core/common_runtime/bfc_allocator.cc:1083] InUse at 7f862c69ff00 of size 5376 next 582\n",
      "2022-07-11 16:19:46.560325: I tensorflow/core/common_runtime/bfc_allocator.cc:1083] InUse at 7f862c6a1400 of size 5376 next 601\n",
      "2022-07-11 16:19:46.560329: I tensorflow/core/common_runtime/bfc_allocator.cc:1083] InUse at 7f862c6a2900 of size 5376 next 621\n",
      "2022-07-11 16:19:46.560333: I tensorflow/core/common_runtime/bfc_allocator.cc:1083] InUse at 7f862c6a3e00 of size 5376 next 638\n",
      "2022-07-11 16:19:46.560337: I tensorflow/core/common_runtime/bfc_allocator.cc:1083] InUse at 7f862c6a5300 of size 5376 next 639\n",
      "2022-07-11 16:19:46.560340: I tensorflow/core/common_runtime/bfc_allocator.cc:1083] InUse at 7f862c6a6800 of size 5376 next 642\n",
      "2022-07-11 16:19:46.560344: I tensorflow/core/common_runtime/bfc_allocator.cc:1083] InUse at 7f862c6a7d00 of size 5376 next 643\n",
      "2022-07-11 16:19:46.560348: I tensorflow/core/common_runtime/bfc_allocator.cc:1083] InUse at 7f862c6a9200 of size 256 next 633\n",
      "2022-07-11 16:19:46.560352: I tensorflow/core/common_runtime/bfc_allocator.cc:1083] InUse at 7f862c6a9300 of size 5376 next 647\n",
      "2022-07-11 16:19:46.560356: I tensorflow/core/common_runtime/bfc_allocator.cc:1083] InUse at 7f862c6aa800 of size 1024 next 644\n",
      "2022-07-11 16:19:46.560359: I tensorflow/core/common_runtime/bfc_allocator.cc:1083] InUse at 7f862c6aac00 of size 1024 next 649\n",
      "2022-07-11 16:19:46.560363: I tensorflow/core/common_runtime/bfc_allocator.cc:1083] InUse at 7f862c6ab000 of size 1024 next 652\n",
      "2022-07-11 16:19:46.560367: I tensorflow/core/common_runtime/bfc_allocator.cc:1083] InUse at 7f862c6ab400 of size 1024 next 653\n",
      "2022-07-11 16:19:46.560371: I tensorflow/core/common_runtime/bfc_allocator.cc:1083] InUse at 7f862c6ab800 of size 5376 next 655\n",
      "2022-07-11 16:19:46.560375: I tensorflow/core/common_runtime/bfc_allocator.cc:1083] InUse at 7f862c6acd00 of size 5376 next 657\n",
      "2022-07-11 16:19:46.560379: I tensorflow/core/common_runtime/bfc_allocator.cc:1083] InUse at 7f862c6ae200 of size 8704 next 392\n",
      "2022-07-11 16:19:46.560383: I tensorflow/core/common_runtime/bfc_allocator.cc:1083] InUse at 7f862c6b0400 of size 64512 next 301\n",
      "2022-07-11 16:19:46.560387: I tensorflow/core/common_runtime/bfc_allocator.cc:1083] InUse at 7f862c6c0000 of size 147456 next 302\n",
      "2022-07-11 16:19:46.560391: I tensorflow/core/common_runtime/bfc_allocator.cc:1083] InUse at 7f862c6e4000 of size 27648 next 308\n",
      "2022-07-11 16:19:46.560395: I tensorflow/core/common_runtime/bfc_allocator.cc:1083] InUse at 7f862c6eac00 of size 41472 next 233\n",
      "2022-07-11 16:19:46.560399: I tensorflow/core/common_runtime/bfc_allocator.cc:1083] InUse at 7f862c6f4e00 of size 5376 next 454\n",
      "2022-07-11 16:19:46.560403: I tensorflow/core/common_runtime/bfc_allocator.cc:1083] InUse at 7f862c6f6300 of size 5376 next 456\n",
      "2022-07-11 16:19:46.560407: I tensorflow/core/common_runtime/bfc_allocator.cc:1083] InUse at 7f862c6f7800 of size 1024 next 458\n",
      "2022-07-11 16:19:46.560411: I tensorflow/core/common_runtime/bfc_allocator.cc:1083] InUse at 7f862c6f7c00 of size 1024 next 460\n",
      "2022-07-11 16:19:46.560415: I tensorflow/core/common_runtime/bfc_allocator.cc:1083] InUse at 7f862c6f8000 of size 1024 next 462\n",
      "2022-07-11 16:19:46.560418: I tensorflow/core/common_runtime/bfc_allocator.cc:1083] InUse at 7f862c6f8400 of size 1024 next 463\n",
      "2022-07-11 16:19:46.560422: I tensorflow/core/common_runtime/bfc_allocator.cc:1083] InUse at 7f862c6f8800 of size 5376 next 464\n",
      "2022-07-11 16:19:46.560426: I tensorflow/core/common_runtime/bfc_allocator.cc:1083] InUse at 7f862c6f9d00 of size 5376 next 465\n",
      "2022-07-11 16:19:46.560430: I tensorflow/core/common_runtime/bfc_allocator.cc:1083] InUse at 7f862c6fb200 of size 52736 next 130\n",
      "2022-07-11 16:19:46.560434: I tensorflow/core/common_runtime/bfc_allocator.cc:1083] InUse at 7f862c708000 of size 1327104 next 131\n",
      "2022-07-11 16:19:46.560438: I tensorflow/core/common_runtime/bfc_allocator.cc:1083] InUse at 7f862c84c000 of size 1327104 next 141\n",
      "2022-07-11 16:19:46.560442: I tensorflow/core/common_runtime/bfc_allocator.cc:1083] InUse at 7f862c990000 of size 1327104 next 151\n",
      "2022-07-11 16:19:46.560446: I tensorflow/core/common_runtime/bfc_allocator.cc:1083] InUse at 7f862cad4000 of size 1327104 next 161\n",
      "2022-07-11 16:19:46.560450: I tensorflow/core/common_runtime/bfc_allocator.cc:1083] InUse at 7f862cc18000 of size 1327104 next 170\n",
      "2022-07-11 16:19:46.560454: I tensorflow/core/common_runtime/bfc_allocator.cc:1083] InUse at 7f862cd5c000 of size 884736 next 384\n",
      "2022-07-11 16:19:46.560458: I tensorflow/core/common_runtime/bfc_allocator.cc:1083] InUse at 7f862ce34000 of size 1032192 next 227\n",
      "2022-07-11 16:19:46.560462: I tensorflow/core/common_runtime/bfc_allocator.cc:1083] InUse at 7f862cf30000 of size 2359296 next 267\n",
      "2022-07-11 16:19:46.560466: I tensorflow/core/common_runtime/bfc_allocator.cc:1083] InUse at 7f862d170000 of size 589824 next 268\n",
      "2022-07-11 16:19:46.560470: I tensorflow/core/common_runtime/bfc_allocator.cc:1083] InUse at 7f862d200000 of size 589824 next 273\n",
      "2022-07-11 16:19:46.560474: I tensorflow/core/common_runtime/bfc_allocator.cc:1083] InUse at 7f862d290000 of size 5376 next 415\n",
      "2022-07-11 16:19:46.560478: I tensorflow/core/common_runtime/bfc_allocator.cc:1083] InUse at 7f862d291500 of size 5376 next 416\n",
      "2022-07-11 16:19:46.560482: I tensorflow/core/common_runtime/bfc_allocator.cc:1083] InUse at 7f862d292a00 of size 5376 next 417\n",
      "2022-07-11 16:19:46.560486: I tensorflow/core/common_runtime/bfc_allocator.cc:1083] InUse at 7f862d293f00 of size 5376 next 418\n",
      "2022-07-11 16:19:46.560490: I tensorflow/core/common_runtime/bfc_allocator.cc:1083] InUse at 7f862d295400 of size 256 next 419\n",
      "2022-07-11 16:19:46.560493: I tensorflow/core/common_runtime/bfc_allocator.cc:1083] InUse at 7f862d295500 of size 1024 next 426\n",
      "2022-07-11 16:19:46.560497: I tensorflow/core/common_runtime/bfc_allocator.cc:1083] InUse at 7f862d295900 of size 8704 next 428\n",
      "2022-07-11 16:19:46.560501: I tensorflow/core/common_runtime/bfc_allocator.cc:1083] InUse at 7f862d297b00 of size 5376 next 430\n",
      "2022-07-11 16:19:46.560505: I tensorflow/core/common_runtime/bfc_allocator.cc:1083] InUse at 7f862d299000 of size 5376 next 431\n",
      "2022-07-11 16:19:46.560509: I tensorflow/core/common_runtime/bfc_allocator.cc:1083] InUse at 7f862d29a500 of size 59904 next 432\n",
      "2022-07-11 16:19:46.560513: I tensorflow/core/common_runtime/bfc_allocator.cc:1083] InUse at 7f862d2a8f00 of size 5376 next 435\n",
      "2022-07-11 16:19:46.560516: I tensorflow/core/common_runtime/bfc_allocator.cc:1083] InUse at 7f862d2aa400 of size 5376 next 436\n",
      "2022-07-11 16:19:46.560520: I tensorflow/core/common_runtime/bfc_allocator.cc:1083] InUse at 7f862d2ab900 of size 5376 next 437\n",
      "2022-07-11 16:19:46.560524: I tensorflow/core/common_runtime/bfc_allocator.cc:1083] InUse at 7f862d2ace00 of size 5632 next 439\n",
      "2022-07-11 16:19:46.560528: I tensorflow/core/common_runtime/bfc_allocator.cc:1083] InUse at 7f862d2ae400 of size 1024 next 438\n",
      "2022-07-11 16:19:46.560532: I tensorflow/core/common_runtime/bfc_allocator.cc:1083] InUse at 7f862d2ae800 of size 1024 next 441\n",
      "2022-07-11 16:19:46.560536: I tensorflow/core/common_runtime/bfc_allocator.cc:1083] InUse at 7f862d2aec00 of size 1024 next 444\n",
      "2022-07-11 16:19:46.560539: I tensorflow/core/common_runtime/bfc_allocator.cc:1083] InUse at 7f862d2af000 of size 1024 next 445\n",
      "2022-07-11 16:19:46.560543: I tensorflow/core/common_runtime/bfc_allocator.cc:1083] InUse at 7f862d2af400 of size 5376 next 447\n",
      "2022-07-11 16:19:46.560547: I tensorflow/core/common_runtime/bfc_allocator.cc:1083] InUse at 7f862d2b0900 of size 5376 next 449\n",
      "2022-07-11 16:19:46.560551: I tensorflow/core/common_runtime/bfc_allocator.cc:1083] InUse at 7f862d2b1e00 of size 8704 next 357\n",
      "2022-07-11 16:19:46.560555: I tensorflow/core/common_runtime/bfc_allocator.cc:1083] InUse at 7f862d2b4000 of size 147456 next 358\n",
      "2022-07-11 16:19:46.560559: I tensorflow/core/common_runtime/bfc_allocator.cc:1083] InUse at 7f862d2d8000 of size 147456 next 360\n",
      "2022-07-11 16:19:46.560562: I tensorflow/core/common_runtime/bfc_allocator.cc:1083] InUse at 7f862d2fc000 of size 147456 next 286\n",
      "2022-07-11 16:19:46.560566: I tensorflow/core/common_runtime/bfc_allocator.cc:1083] InUse at 7f862d320000 of size 589824 next 287\n",
      "2022-07-11 16:19:46.560570: I tensorflow/core/common_runtime/bfc_allocator.cc:1083] InUse at 7f862d3b0000 of size 589824 next 292\n",
      "2022-07-11 16:19:46.560574: I tensorflow/core/common_runtime/bfc_allocator.cc:1083] InUse at 7f862d440000 of size 589824 next 305\n",
      "2022-07-11 16:19:46.560578: I tensorflow/core/common_runtime/bfc_allocator.cc:1083] InUse at 7f862d4d0000 of size 147456 next 318\n",
      "2022-07-11 16:19:46.560582: I tensorflow/core/common_runtime/bfc_allocator.cc:1083] InUse at 7f862d4f4000 of size 147456 next 319\n",
      "2022-07-11 16:19:46.560585: I tensorflow/core/common_runtime/bfc_allocator.cc:1083] InUse at 7f862d518000 of size 147456 next 314\n",
      "2022-07-11 16:19:46.560589: I tensorflow/core/common_runtime/bfc_allocator.cc:1083] InUse at 7f862d53c000 of size 147456 next 310\n",
      "2022-07-11 16:19:46.560593: I tensorflow/core/common_runtime/bfc_allocator.cc:1083] InUse at 7f862d560000 of size 48384 next 484\n",
      "2022-07-11 16:19:46.560597: I tensorflow/core/common_runtime/bfc_allocator.cc:1083] InUse at 7f862d56bd00 of size 48384 next 749\n",
      "2022-07-11 16:19:46.560601: I tensorflow/core/common_runtime/bfc_allocator.cc:1083] InUse at 7f862d577a00 of size 9216 next 769\n",
      "2022-07-11 16:19:46.560605: I tensorflow/core/common_runtime/bfc_allocator.cc:1083] InUse at 7f862d579e00 of size 89856 next 433\n",
      "2022-07-11 16:19:46.560610: I tensorflow/core/common_runtime/bfc_allocator.cc:1083] InUse at 7f862d58fd00 of size 48384 next 434\n",
      "2022-07-11 16:19:46.560614: I tensorflow/core/common_runtime/bfc_allocator.cc:1083] InUse at 7f862d59ba00 of size 5376 next 467\n",
      "2022-07-11 16:19:46.560617: I tensorflow/core/common_runtime/bfc_allocator.cc:1083] InUse at 7f862d59cf00 of size 5376 next 468\n",
      "2022-07-11 16:19:46.560621: I tensorflow/core/common_runtime/bfc_allocator.cc:1083] InUse at 7f862d59e400 of size 5376 next 469\n",
      "2022-07-11 16:19:46.560625: I tensorflow/core/common_runtime/bfc_allocator.cc:1083] InUse at 7f862d59f900 of size 5376 next 472\n",
      "2022-07-11 16:19:46.560629: I tensorflow/core/common_runtime/bfc_allocator.cc:1083] InUse at 7f862d5a0e00 of size 5376 next 473\n",
      "2022-07-11 16:19:46.560633: I tensorflow/core/common_runtime/bfc_allocator.cc:1083] InUse at 7f862d5a2300 of size 5376 next 474\n",
      "2022-07-11 16:19:46.560636: I tensorflow/core/common_runtime/bfc_allocator.cc:1083] InUse at 7f862d5a3800 of size 5632 next 477\n",
      "2022-07-11 16:19:46.560640: I tensorflow/core/common_runtime/bfc_allocator.cc:1083] InUse at 7f862d5a4e00 of size 307712 next 324\n",
      "2022-07-11 16:19:46.560644: I tensorflow/core/common_runtime/bfc_allocator.cc:1083] InUse at 7f862d5f0000 of size 589824 next 325\n",
      "2022-07-11 16:19:46.560648: I tensorflow/core/common_runtime/bfc_allocator.cc:1083] InUse at 7f862d680000 of size 589824 next 330\n",
      "2022-07-11 16:19:46.560652: I tensorflow/core/common_runtime/bfc_allocator.cc:1083] InUse at 7f862d710000 of size 589824 next 342\n",
      "2022-07-11 16:19:46.560656: I tensorflow/core/common_runtime/bfc_allocator.cc:1083] InUse at 7f862d7a0000 of size 147456 next 345\n",
      "2022-07-11 16:19:46.560660: I tensorflow/core/common_runtime/bfc_allocator.cc:1083] InUse at 7f862d7c4000 of size 221184 next 229\n",
      "2022-07-11 16:19:46.560664: I tensorflow/core/common_runtime/bfc_allocator.cc:1083] InUse at 7f862d7fa000 of size 221184 next 395\n",
      "2022-07-11 16:19:46.560667: I tensorflow/core/common_runtime/bfc_allocator.cc:1083] InUse at 7f862d830000 of size 589824 next 362\n",
      "2022-07-11 16:19:46.560671: I tensorflow/core/common_runtime/bfc_allocator.cc:1083] InUse at 7f862d8c0000 of size 589824 next 363\n",
      "2022-07-11 16:19:46.560675: I tensorflow/core/common_runtime/bfc_allocator.cc:1083] InUse at 7f862d950000 of size 589824 next 368\n",
      "2022-07-11 16:19:46.560679: I tensorflow/core/common_runtime/bfc_allocator.cc:1083] InUse at 7f862d9e0000 of size 82944 next 918\n",
      "2022-07-11 16:19:46.560683: I tensorflow/core/common_runtime/bfc_allocator.cc:1083] InUse at 7f862d9f4400 of size 138240 next 1014\n",
      "2022-07-11 16:19:46.560687: I tensorflow/core/common_runtime/bfc_allocator.cc:1083] InUse at 7f862da16000 of size 4608 next 2278\n",
      "2022-07-11 16:19:46.560691: I tensorflow/core/common_runtime/bfc_allocator.cc:1083] InUse at 7f862da17200 of size 69120 next 1506\n",
      "2022-07-11 16:19:46.560695: I tensorflow/core/common_runtime/bfc_allocator.cc:1083] InUse at 7f862da28000 of size 69120 next 2282\n",
      "2022-07-11 16:19:46.560698: I tensorflow/core/common_runtime/bfc_allocator.cc:1083] InUse at 7f862da38e00 of size 7680 next 2238\n",
      "2022-07-11 16:19:46.560702: I tensorflow/core/common_runtime/bfc_allocator.cc:1083] InUse at 7f862da3ac00 of size 4608 next 2067\n",
      "2022-07-11 16:19:46.560706: I tensorflow/core/common_runtime/bfc_allocator.cc:1083] Free  at 7f862da3be00 of size 16384 next 1433\n",
      "2022-07-11 16:19:46.560710: I tensorflow/core/common_runtime/bfc_allocator.cc:1083] InUse at 7f862da3fe00 of size 32768 next 1390\n",
      "2022-07-11 16:19:46.560714: I tensorflow/core/common_runtime/bfc_allocator.cc:1083] InUse at 7f862da47e00 of size 73728 next 2284\n",
      "2022-07-11 16:19:46.560718: I tensorflow/core/common_runtime/bfc_allocator.cc:1083] InUse at 7f862da59e00 of size 6912 next 1962\n",
      "2022-07-11 16:19:46.560722: I tensorflow/core/common_runtime/bfc_allocator.cc:1083] InUse at 7f862da5b900 of size 2816 next 1636\n",
      "2022-07-11 16:19:46.560726: I tensorflow/core/common_runtime/bfc_allocator.cc:1083] InUse at 7f862da5c400 of size 256 next 2163\n",
      "2022-07-11 16:19:46.560730: I tensorflow/core/common_runtime/bfc_allocator.cc:1083] InUse at 7f862da5c500 of size 256 next 2230\n",
      "2022-07-11 16:19:46.560733: I tensorflow/core/common_runtime/bfc_allocator.cc:1083] InUse at 7f862da5c600 of size 2816 next 2013\n",
      "2022-07-11 16:19:46.560737: I tensorflow/core/common_runtime/bfc_allocator.cc:1083] InUse at 7f862da5d100 of size 24320 next 1445\n",
      "2022-07-11 16:19:46.560741: I tensorflow/core/common_runtime/bfc_allocator.cc:1083] InUse at 7f862da63000 of size 256 next 1477\n",
      "2022-07-11 16:19:46.560745: I tensorflow/core/common_runtime/bfc_allocator.cc:1083] InUse at 7f862da63100 of size 256 next 2140\n",
      "2022-07-11 16:19:46.560750: I tensorflow/core/common_runtime/bfc_allocator.cc:1083] InUse at 7f862da63200 of size 24320 next 2242\n",
      "2022-07-11 16:19:46.560754: I tensorflow/core/common_runtime/bfc_allocator.cc:1083] InUse at 7f862da69100 of size 2816 next 2244\n",
      "2022-07-11 16:19:46.560758: I tensorflow/core/common_runtime/bfc_allocator.cc:1083] InUse at 7f862da69c00 of size 25600 next 380\n",
      "2022-07-11 16:19:46.560762: I tensorflow/core/common_runtime/bfc_allocator.cc:1083] InUse at 7f862da70000 of size 589824 next 381\n",
      "2022-07-11 16:19:46.560766: I tensorflow/core/common_runtime/bfc_allocator.cc:1083] InUse at 7f862db00000 of size 9216 next 848\n",
      "2022-07-11 16:19:46.560769: I tensorflow/core/common_runtime/bfc_allocator.cc:1083] InUse at 7f862db02400 of size 9216 next 849\n",
      "2022-07-11 16:19:46.560773: I tensorflow/core/common_runtime/bfc_allocator.cc:1083] InUse at 7f862db04800 of size 9216 next 852\n",
      "2022-07-11 16:19:46.560777: I tensorflow/core/common_runtime/bfc_allocator.cc:1083] InUse at 7f862db06c00 of size 9216 next 853\n",
      "2022-07-11 16:19:46.560781: I tensorflow/core/common_runtime/bfc_allocator.cc:1083] InUse at 7f862db09000 of size 9216 next 854\n",
      "2022-07-11 16:19:46.560784: I tensorflow/core/common_runtime/bfc_allocator.cc:1083] InUse at 7f862db0b400 of size 512 next 844\n",
      "2022-07-11 16:19:46.560788: I tensorflow/core/common_runtime/bfc_allocator.cc:1083] InUse at 7f862db0b600 of size 9216 next 857\n",
      "2022-07-11 16:19:46.560792: I tensorflow/core/common_runtime/bfc_allocator.cc:1083] InUse at 7f862db0da00 of size 1536 next 855\n",
      "2022-07-11 16:19:46.560796: I tensorflow/core/common_runtime/bfc_allocator.cc:1083] InUse at 7f862db0e000 of size 1536 next 859\n",
      "2022-07-11 16:19:46.560799: I tensorflow/core/common_runtime/bfc_allocator.cc:1083] InUse at 7f862db0e600 of size 1536 next 862\n",
      "2022-07-11 16:19:46.560803: I tensorflow/core/common_runtime/bfc_allocator.cc:1083] InUse at 7f862db0ec00 of size 1536 next 863\n",
      "2022-07-11 16:19:46.560807: I tensorflow/core/common_runtime/bfc_allocator.cc:1083] InUse at 7f862db0f200 of size 9216 next 865\n",
      "2022-07-11 16:19:46.560811: I tensorflow/core/common_runtime/bfc_allocator.cc:1083] InUse at 7f862db11600 of size 11776 next 831\n",
      "2022-07-11 16:19:46.560815: I tensorflow/core/common_runtime/bfc_allocator.cc:1083] InUse at 7f862db14400 of size 9216 next 813\n",
      "2022-07-11 16:19:46.560818: I tensorflow/core/common_runtime/bfc_allocator.cc:1083] InUse at 7f862db16800 of size 9216 next 832\n",
      "2022-07-11 16:19:46.560822: I tensorflow/core/common_runtime/bfc_allocator.cc:1083] InUse at 7f862db18c00 of size 9216 next 867\n",
      "2022-07-11 16:19:46.560826: I tensorflow/core/common_runtime/bfc_allocator.cc:1083] InUse at 7f862db1b000 of size 82944 next 869\n",
      "2022-07-11 16:19:46.560829: I tensorflow/core/common_runtime/bfc_allocator.cc:1083] InUse at 7f862db2f400 of size 9216 next 872\n",
      "2022-07-11 16:19:46.560833: I tensorflow/core/common_runtime/bfc_allocator.cc:1083] InUse at 7f862db31800 of size 9216 next 873\n",
      "2022-07-11 16:19:46.560837: I tensorflow/core/common_runtime/bfc_allocator.cc:1083] InUse at 7f862db33c00 of size 9216 next 874\n",
      "2022-07-11 16:19:46.560841: I tensorflow/core/common_runtime/bfc_allocator.cc:1083] InUse at 7f862db36000 of size 512 next 864\n",
      "2022-07-11 16:19:46.560844: I tensorflow/core/common_runtime/bfc_allocator.cc:1083] InUse at 7f862db36200 of size 9216 next 877\n",
      "2022-07-11 16:19:46.560848: I tensorflow/core/common_runtime/bfc_allocator.cc:1083] InUse at 7f862db38600 of size 1536 next 875\n",
      "2022-07-11 16:19:46.560852: I tensorflow/core/common_runtime/bfc_allocator.cc:1083] InUse at 7f862db38c00 of size 1536 next 851\n",
      "2022-07-11 16:19:46.560855: I tensorflow/core/common_runtime/bfc_allocator.cc:1083] InUse at 7f862db39200 of size 1536 next 879\n",
      "2022-07-11 16:19:46.560859: I tensorflow/core/common_runtime/bfc_allocator.cc:1083] InUse at 7f862db39800 of size 1536 next 880\n",
      "2022-07-11 16:19:46.560863: I tensorflow/core/common_runtime/bfc_allocator.cc:1083] InUse at 7f862db39e00 of size 11776 next 850\n",
      "2022-07-11 16:19:46.560868: I tensorflow/core/common_runtime/bfc_allocator.cc:1083] InUse at 7f862db3cc00 of size 9216 next 868\n",
      "2022-07-11 16:19:46.560872: I tensorflow/core/common_runtime/bfc_allocator.cc:1083] InUse at 7f862db3f000 of size 116736 next 887\n",
      "2022-07-11 16:19:46.560876: I tensorflow/core/common_runtime/bfc_allocator.cc:1083] InUse at 7f862db5b800 of size 9216 next 890\n",
      "2022-07-11 16:19:46.560880: I tensorflow/core/common_runtime/bfc_allocator.cc:1083] InUse at 7f862db5dc00 of size 9216 next 891\n",
      "2022-07-11 16:19:46.560883: I tensorflow/core/common_runtime/bfc_allocator.cc:1083] InUse at 7f862db60000 of size 9216 next 892\n",
      "2022-07-11 16:19:46.560887: I tensorflow/core/common_runtime/bfc_allocator.cc:1083] InUse at 7f862db62400 of size 512 next 881\n",
      "2022-07-11 16:19:46.560891: I tensorflow/core/common_runtime/bfc_allocator.cc:1083] InUse at 7f862db62600 of size 11776 next 870\n",
      "2022-07-11 16:19:46.560895: I tensorflow/core/common_runtime/bfc_allocator.cc:1083] InUse at 7f862db65400 of size 9216 next 882\n",
      "2022-07-11 16:19:46.560898: I tensorflow/core/common_runtime/bfc_allocator.cc:1083] InUse at 7f862db67800 of size 9216 next 884\n",
      "2022-07-11 16:19:46.560902: I tensorflow/core/common_runtime/bfc_allocator.cc:1083] InUse at 7f862db69c00 of size 9216 next 885\n",
      "2022-07-11 16:19:46.560906: I tensorflow/core/common_runtime/bfc_allocator.cc:1083] InUse at 7f862db6c000 of size 9216 next 886\n",
      "2022-07-11 16:19:46.560909: I tensorflow/core/common_runtime/bfc_allocator.cc:1083] InUse at 7f862db6e400 of size 1536 next 894\n",
      "2022-07-11 16:19:46.560913: I tensorflow/core/common_runtime/bfc_allocator.cc:1083] InUse at 7f862db6ea00 of size 1536 next 896\n",
      "2022-07-11 16:19:46.560917: I tensorflow/core/common_runtime/bfc_allocator.cc:1083] InUse at 7f862db6f000 of size 1536 next 899\n",
      "2022-07-11 16:19:46.560920: I tensorflow/core/common_runtime/bfc_allocator.cc:1083] InUse at 7f862db6f600 of size 1536 next 900\n",
      "2022-07-11 16:19:46.560924: I tensorflow/core/common_runtime/bfc_allocator.cc:1083] InUse at 7f862db6fc00 of size 9216 next 901\n",
      "2022-07-11 16:19:46.560928: I tensorflow/core/common_runtime/bfc_allocator.cc:1083] InUse at 7f862db72000 of size 9216 next 902\n",
      "2022-07-11 16:19:46.560932: I tensorflow/core/common_runtime/bfc_allocator.cc:1083] InUse at 7f862db74400 of size 9216 next 904\n",
      "2022-07-11 16:19:46.560935: I tensorflow/core/common_runtime/bfc_allocator.cc:1083] InUse at 7f862db76800 of size 9216 next 905\n",
      "2022-07-11 16:19:46.560939: I tensorflow/core/common_runtime/bfc_allocator.cc:1083] InUse at 7f862db78c00 of size 9216 next 781\n",
      "2022-07-11 16:19:46.560943: I tensorflow/core/common_runtime/bfc_allocator.cc:1083] InUse at 7f862db7b000 of size 9216 next 907\n",
      "2022-07-11 16:19:46.560946: I tensorflow/core/common_runtime/bfc_allocator.cc:1083] InUse at 7f862db7d400 of size 9216 next 909\n",
      "2022-07-11 16:19:46.560950: I tensorflow/core/common_runtime/bfc_allocator.cc:1083] InUse at 7f862db7f800 of size 9216 next 910\n",
      "2022-07-11 16:19:46.560954: I tensorflow/core/common_runtime/bfc_allocator.cc:1083] InUse at 7f862db81c00 of size 9216 next 908\n",
      "2022-07-11 16:19:46.560958: I tensorflow/core/common_runtime/bfc_allocator.cc:1083] InUse at 7f862db84000 of size 9216 next 946\n",
      "2022-07-11 16:19:46.560961: I tensorflow/core/common_runtime/bfc_allocator.cc:1083] InUse at 7f862db86400 of size 9216 next 964\n",
      "2022-07-11 16:19:46.560965: I tensorflow/core/common_runtime/bfc_allocator.cc:1083] InUse at 7f862db88800 of size 9216 next 983\n",
      "2022-07-11 16:19:46.560969: I tensorflow/core/common_runtime/bfc_allocator.cc:1083] InUse at 7f862db8ac00 of size 12288 next 888\n",
      "2022-07-11 16:19:46.560973: I tensorflow/core/common_runtime/bfc_allocator.cc:1083] InUse at 7f862db8dc00 of size 82944 next 889\n",
      "2022-07-11 16:19:46.560977: I tensorflow/core/common_runtime/bfc_allocator.cc:1083] InUse at 7f862dba2000 of size 512 next 906\n",
      "2022-07-11 16:19:46.560980: I tensorflow/core/common_runtime/bfc_allocator.cc:1083] InUse at 7f862dba2200 of size 9216 next 913\n",
      "2022-07-11 16:19:46.560985: I tensorflow/core/common_runtime/bfc_allocator.cc:1083] InUse at 7f862dba4600 of size 1536 next 911\n",
      "2022-07-11 16:19:46.560989: I tensorflow/core/common_runtime/bfc_allocator.cc:1083] InUse at 7f862dba4c00 of size 1536 next 914\n",
      "2022-07-11 16:19:46.560993: I tensorflow/core/common_runtime/bfc_allocator.cc:1083] InUse at 7f862dba5200 of size 1536 next 916\n",
      "2022-07-11 16:19:46.560997: I tensorflow/core/common_runtime/bfc_allocator.cc:1083] InUse at 7f862dba5800 of size 1536 next 917\n",
      "2022-07-11 16:19:46.561000: I tensorflow/core/common_runtime/bfc_allocator.cc:1083] InUse at 7f862dba5e00 of size 9216 next 919\n",
      "2022-07-11 16:19:46.561004: I tensorflow/core/common_runtime/bfc_allocator.cc:1083] InUse at 7f862dba8200 of size 9216 next 921\n",
      "2022-07-11 16:19:46.561008: I tensorflow/core/common_runtime/bfc_allocator.cc:1083] InUse at 7f862dbaa600 of size 9216 next 922\n",
      "2022-07-11 16:19:46.561012: I tensorflow/core/common_runtime/bfc_allocator.cc:1083] InUse at 7f862dbaca00 of size 9216 next 923\n",
      "2022-07-11 16:19:46.561016: I tensorflow/core/common_runtime/bfc_allocator.cc:1083] InUse at 7f862dbaee00 of size 9216 next 924\n",
      "2022-07-11 16:19:46.561020: I tensorflow/core/common_runtime/bfc_allocator.cc:1083] InUse at 7f862dbb1200 of size 9216 next 927\n",
      "2022-07-11 16:19:46.561024: I tensorflow/core/common_runtime/bfc_allocator.cc:1083] InUse at 7f862dbb3600 of size 2951680 next 401\n",
      "2022-07-11 16:19:46.561029: I tensorflow/core/common_runtime/bfc_allocator.cc:1083] InUse at 7f862de84000 of size 301056 next 1376\n",
      "2022-07-11 16:19:46.561033: I tensorflow/core/common_runtime/bfc_allocator.cc:1083] InUse at 7f862decd800 of size 301056 next 427\n",
      "2022-07-11 16:19:46.561037: I tensorflow/core/common_runtime/bfc_allocator.cc:1083] InUse at 7f862df17000 of size 430080 next 402\n",
      "2022-07-11 16:19:46.561041: I tensorflow/core/common_runtime/bfc_allocator.cc:1083] InUse at 7f862df80000 of size 301056 next 440\n",
      "2022-07-11 16:19:46.561045: I tensorflow/core/common_runtime/bfc_allocator.cc:1083] InUse at 7f862dfc9800 of size 301056 next 457\n",
      "2022-07-11 16:19:46.561049: I tensorflow/core/common_runtime/bfc_allocator.cc:1083] InUse at 7f862e013000 of size 301056 next 459\n",
      "2022-07-11 16:19:46.561053: I tensorflow/core/common_runtime/bfc_allocator.cc:1083] InUse at 7f862e05c800 of size 1024 next 481\n",
      "2022-07-11 16:19:46.561056: I tensorflow/core/common_runtime/bfc_allocator.cc:1083] InUse at 7f862e05cc00 of size 1024 next 482\n",
      "2022-07-11 16:19:46.561060: I tensorflow/core/common_runtime/bfc_allocator.cc:1083] InUse at 7f862e05d000 of size 1024 next 483\n",
      "2022-07-11 16:19:46.561064: I tensorflow/core/common_runtime/bfc_allocator.cc:1083] InUse at 7f862e05d400 of size 6400 next 486\n",
      "2022-07-11 16:19:46.561068: I tensorflow/core/common_runtime/bfc_allocator.cc:1083] InUse at 7f862e05ed00 of size 5376 next 487\n",
      "2022-07-11 16:19:46.561072: I tensorflow/core/common_runtime/bfc_allocator.cc:1083] InUse at 7f862e060200 of size 5376 next 488\n",
      "2022-07-11 16:19:46.561076: I tensorflow/core/common_runtime/bfc_allocator.cc:1083] InUse at 7f862e061700 of size 5376 next 489\n",
      "2022-07-11 16:19:46.561080: I tensorflow/core/common_runtime/bfc_allocator.cc:1083] InUse at 7f862e062c00 of size 5376 next 492\n",
      "2022-07-11 16:19:46.561084: I tensorflow/core/common_runtime/bfc_allocator.cc:1083] InUse at 7f862e064100 of size 5376 next 493\n",
      "2022-07-11 16:19:46.561088: I tensorflow/core/common_runtime/bfc_allocator.cc:1083] InUse at 7f862e065600 of size 5376 next 494\n",
      "2022-07-11 16:19:46.561092: I tensorflow/core/common_runtime/bfc_allocator.cc:1083] InUse at 7f862e066b00 of size 256 next 453\n",
      "2022-07-11 16:19:46.561096: I tensorflow/core/common_runtime/bfc_allocator.cc:1083] InUse at 7f862e066c00 of size 6400 next 470\n",
      "2022-07-11 16:19:46.561101: I tensorflow/core/common_runtime/bfc_allocator.cc:1083] InUse at 7f862e068500 of size 1024 next 452\n",
      "2022-07-11 16:19:46.561105: I tensorflow/core/common_runtime/bfc_allocator.cc:1083] InUse at 7f862e068900 of size 5376 next 475\n",
      "2022-07-11 16:19:46.561109: I tensorflow/core/common_runtime/bfc_allocator.cc:1083] InUse at 7f862e069e00 of size 1024 next 496\n",
      "2022-07-11 16:19:46.561113: I tensorflow/core/common_runtime/bfc_allocator.cc:1083] InUse at 7f862e06a200 of size 1024 next 497\n",
      "2022-07-11 16:19:46.561117: I tensorflow/core/common_runtime/bfc_allocator.cc:1083] InUse at 7f862e06a600 of size 1024 next 499\n",
      "2022-07-11 16:19:46.561121: I tensorflow/core/common_runtime/bfc_allocator.cc:1083] InUse at 7f862e06aa00 of size 1024 next 500\n",
      "2022-07-11 16:19:46.561125: I tensorflow/core/common_runtime/bfc_allocator.cc:1083] InUse at 7f862e06ae00 of size 5376 next 501\n",
      "2022-07-11 16:19:46.561129: I tensorflow/core/common_runtime/bfc_allocator.cc:1083] InUse at 7f862e06c300 of size 5376 next 502\n",
      "2022-07-11 16:19:46.561133: I tensorflow/core/common_runtime/bfc_allocator.cc:1083] InUse at 7f862e06d800 of size 5376 next 504\n",
      "2022-07-11 16:19:46.561137: I tensorflow/core/common_runtime/bfc_allocator.cc:1083] InUse at 7f862e06ed00 of size 5376 next 505\n",
      "2022-07-11 16:19:46.561141: I tensorflow/core/common_runtime/bfc_allocator.cc:1083] InUse at 7f862e070200 of size 5376 next 506\n",
      "2022-07-11 16:19:46.561145: I tensorflow/core/common_runtime/bfc_allocator.cc:1083] InUse at 7f862e071700 of size 5376 next 507\n",
      "2022-07-11 16:19:46.561149: I tensorflow/core/common_runtime/bfc_allocator.cc:1083] InUse at 7f862e072c00 of size 5376 next 509\n",
      "2022-07-11 16:19:46.561152: I tensorflow/core/common_runtime/bfc_allocator.cc:1083] InUse at 7f862e074100 of size 5376 next 510\n",
      "2022-07-11 16:19:46.561156: I tensorflow/core/common_runtime/bfc_allocator.cc:1083] InUse at 7f862e075600 of size 5376 next 547\n",
      "2022-07-11 16:19:46.561160: I tensorflow/core/common_runtime/bfc_allocator.cc:1083] InUse at 7f862e076b00 of size 5376 next 565\n",
      "2022-07-11 16:19:46.561164: I tensorflow/core/common_runtime/bfc_allocator.cc:1083] InUse at 7f862e078000 of size 5376 next 583\n",
      "2022-07-11 16:19:46.561168: I tensorflow/core/common_runtime/bfc_allocator.cc:1083] InUse at 7f862e079500 of size 5376 next 602\n",
      "2022-07-11 16:19:46.561172: I tensorflow/core/common_runtime/bfc_allocator.cc:1083] InUse at 7f862e07aa00 of size 5376 next 622\n",
      "2022-07-11 16:19:46.561176: I tensorflow/core/common_runtime/bfc_allocator.cc:1083] InUse at 7f862e07bf00 of size 5376 next 660\n",
      "2022-07-11 16:19:46.561180: I tensorflow/core/common_runtime/bfc_allocator.cc:1083] InUse at 7f862e07d400 of size 5376 next 661\n",
      "2022-07-11 16:19:46.561184: I tensorflow/core/common_runtime/bfc_allocator.cc:1083] InUse at 7f862e07e900 of size 5632 next 490\n",
      "2022-07-11 16:19:46.561188: I tensorflow/core/common_runtime/bfc_allocator.cc:1083] InUse at 7f862e07ff00 of size 48384 next 491\n",
      "2022-07-11 16:19:46.561191: I tensorflow/core/common_runtime/bfc_allocator.cc:1083] InUse at 7f862e08bc00 of size 256 next 422\n",
      "2022-07-11 16:19:46.561195: I tensorflow/core/common_runtime/bfc_allocator.cc:1083] InUse at 7f862e08bd00 of size 5376 next 513\n",
      "2022-07-11 16:19:46.561199: I tensorflow/core/common_runtime/bfc_allocator.cc:1083] InUse at 7f862e08d200 of size 1024 next 511\n",
      "2022-07-11 16:19:46.561203: I tensorflow/core/common_runtime/bfc_allocator.cc:1083] InUse at 7f862e08d600 of size 1024 next 515\n",
      "2022-07-11 16:19:46.561207: I tensorflow/core/common_runtime/bfc_allocator.cc:1083] InUse at 7f862e08da00 of size 1024 next 518\n",
      "2022-07-11 16:19:46.561210: I tensorflow/core/common_runtime/bfc_allocator.cc:1083] InUse at 7f862e08de00 of size 1024 next 519\n",
      "2022-07-11 16:19:46.561214: I tensorflow/core/common_runtime/bfc_allocator.cc:1083] InUse at 7f862e08e200 of size 5376 next 521\n",
      "2022-07-11 16:19:46.561218: I tensorflow/core/common_runtime/bfc_allocator.cc:1083] InUse at 7f862e08f700 of size 5376 next 523\n",
      "2022-07-11 16:19:46.561222: I tensorflow/core/common_runtime/bfc_allocator.cc:1083] InUse at 7f862e090c00 of size 5376 next 524\n",
      "2022-07-11 16:19:46.561226: I tensorflow/core/common_runtime/bfc_allocator.cc:1083] InUse at 7f862e092100 of size 5376 next 525\n",
      "2022-07-11 16:19:46.561229: I tensorflow/core/common_runtime/bfc_allocator.cc:1083] InUse at 7f862e093600 of size 5376 next 526\n",
      "2022-07-11 16:19:46.561233: I tensorflow/core/common_runtime/bfc_allocator.cc:1083] InUse at 7f862e094b00 of size 5376 next 529\n",
      "2022-07-11 16:19:46.561237: I tensorflow/core/common_runtime/bfc_allocator.cc:1083] InUse at 7f862e096000 of size 6400 next 508\n",
      "2022-07-11 16:19:46.561241: I tensorflow/core/common_runtime/bfc_allocator.cc:1083] InUse at 7f862e097900 of size 59136 next 408\n",
      "2022-07-11 16:19:46.561245: I tensorflow/core/common_runtime/bfc_allocator.cc:1083] InUse at 7f862e0a6000 of size 1204224 next 409\n",
      "2022-07-11 16:19:46.561249: I tensorflow/core/common_runtime/bfc_allocator.cc:1083] InUse at 7f862e1cc000 of size 1204224 next 424\n",
      "2022-07-11 16:19:46.561253: I tensorflow/core/common_runtime/bfc_allocator.cc:1083] InUse at 7f862e2f2000 of size 1204224 next 429\n",
      "2022-07-11 16:19:46.561257: I tensorflow/core/common_runtime/bfc_allocator.cc:1083] InUse at 7f862e418000 of size 301056 next 476\n",
      "2022-07-11 16:19:46.561261: I tensorflow/core/common_runtime/bfc_allocator.cc:1083] InUse at 7f862e461800 of size 301056 next 478\n",
      "2022-07-11 16:19:46.561265: I tensorflow/core/common_runtime/bfc_allocator.cc:1083] InUse at 7f862e4ab000 of size 301056 next 495\n",
      "2022-07-11 16:19:46.561269: I tensorflow/core/common_runtime/bfc_allocator.cc:1083] InUse at 7f862e4f4800 of size 5376 next 530\n",
      "2022-07-11 16:19:46.561273: I tensorflow/core/common_runtime/bfc_allocator.cc:1083] InUse at 7f862e4f5d00 of size 256 next 520\n",
      "2022-07-11 16:19:46.561276: I tensorflow/core/common_runtime/bfc_allocator.cc:1083] InUse at 7f862e4f5e00 of size 5376 next 533\n",
      "2022-07-11 16:19:46.561280: I tensorflow/core/common_runtime/bfc_allocator.cc:1083] InUse at 7f862e4f7300 of size 1024 next 531\n",
      "2022-07-11 16:19:46.561284: I tensorflow/core/common_runtime/bfc_allocator.cc:1083] InUse at 7f862e4f7700 of size 1024 next 535\n",
      "2022-07-11 16:19:46.561288: I tensorflow/core/common_runtime/bfc_allocator.cc:1083] InUse at 7f862e4f7b00 of size 1024 next 538\n",
      "2022-07-11 16:19:46.561292: I tensorflow/core/common_runtime/bfc_allocator.cc:1083] InUse at 7f862e4f7f00 of size 1024 next 539\n",
      "2022-07-11 16:19:46.561296: I tensorflow/core/common_runtime/bfc_allocator.cc:1083] InUse at 7f862e4f8300 of size 5376 next 541\n",
      "2022-07-11 16:19:46.561299: I tensorflow/core/common_runtime/bfc_allocator.cc:1083] InUse at 7f862e4f9800 of size 5376 next 543\n",
      "2022-07-11 16:19:46.561303: I tensorflow/core/common_runtime/bfc_allocator.cc:1083] InUse at 7f862e4fad00 of size 5376 next 544\n",
      "2022-07-11 16:19:46.561307: I tensorflow/core/common_runtime/bfc_allocator.cc:1083] InUse at 7f862e4fc200 of size 5376 next 545\n",
      "2022-07-11 16:19:46.561311: I tensorflow/core/common_runtime/bfc_allocator.cc:1083] InUse at 7f862e4fd700 of size 5376 next 546\n",
      "2022-07-11 16:19:46.561315: I tensorflow/core/common_runtime/bfc_allocator.cc:1083] InUse at 7f862e4fec00 of size 6400 next 527\n",
      "2022-07-11 16:19:46.561318: I tensorflow/core/common_runtime/bfc_allocator.cc:1083] InUse at 7f862e500500 of size 48384 next 528\n",
      "2022-07-11 16:19:46.561322: I tensorflow/core/common_runtime/bfc_allocator.cc:1083] InUse at 7f862e50c200 of size 5376 next 549\n",
      "2022-07-11 16:19:46.561326: I tensorflow/core/common_runtime/bfc_allocator.cc:1083] InUse at 7f862e50d700 of size 5376 next 550\n",
      "2022-07-11 16:19:46.561330: I tensorflow/core/common_runtime/bfc_allocator.cc:1083] InUse at 7f862e50ec00 of size 256 next 540\n",
      "2022-07-11 16:19:46.561334: I tensorflow/core/common_runtime/bfc_allocator.cc:1083] InUse at 7f862e50ed00 of size 5376 next 553\n",
      "2022-07-11 16:19:46.561337: I tensorflow/core/common_runtime/bfc_allocator.cc:1083] InUse at 7f862e510200 of size 1024 next 551\n",
      "2022-07-11 16:19:46.561341: I tensorflow/core/common_runtime/bfc_allocator.cc:1083] InUse at 7f862e510600 of size 1024 next 555\n",
      "2022-07-11 16:19:46.561345: I tensorflow/core/common_runtime/bfc_allocator.cc:1083] InUse at 7f862e510a00 of size 1024 next 557\n",
      "2022-07-11 16:19:46.561349: I tensorflow/core/common_runtime/bfc_allocator.cc:1083] InUse at 7f862e510e00 of size 1024 next 558\n",
      "2022-07-11 16:19:46.561353: I tensorflow/core/common_runtime/bfc_allocator.cc:1083] InUse at 7f862e511200 of size 5376 next 560\n",
      "2022-07-11 16:19:46.561356: I tensorflow/core/common_runtime/bfc_allocator.cc:1083] InUse at 7f862e512700 of size 5376 next 562\n",
      "2022-07-11 16:19:46.561360: I tensorflow/core/common_runtime/bfc_allocator.cc:1083] InUse at 7f862e513c00 of size 5376 next 563\n",
      "2022-07-11 16:19:46.561364: I tensorflow/core/common_runtime/bfc_allocator.cc:1083] InUse at 7f862e515100 of size 5376 next 564\n",
      "2022-07-11 16:19:46.561368: I tensorflow/core/common_runtime/bfc_allocator.cc:1083] InUse at 7f862e516600 of size 54784 next 548\n",
      "2022-07-11 16:19:46.561372: I tensorflow/core/common_runtime/bfc_allocator.cc:1083] InUse at 7f862e523c00 of size 5376 next 566\n",
      "2022-07-11 16:19:46.561376: I tensorflow/core/common_runtime/bfc_allocator.cc:1083] InUse at 7f862e525100 of size 5376 next 567\n",
      "2022-07-11 16:19:46.561380: I tensorflow/core/common_runtime/bfc_allocator.cc:1083] InUse at 7f862e526600 of size 5376 next 568\n",
      "2022-07-11 16:19:46.561383: I tensorflow/core/common_runtime/bfc_allocator.cc:1083] InUse at 7f862e527b00 of size 256 next 397\n",
      "2022-07-11 16:19:46.561387: I tensorflow/core/common_runtime/bfc_allocator.cc:1083] InUse at 7f862e527c00 of size 5376 next 570\n",
      "2022-07-11 16:19:46.561391: I tensorflow/core/common_runtime/bfc_allocator.cc:1083] InUse at 7f862e529100 of size 1024 next 569\n",
      "2022-07-11 16:19:46.561395: I tensorflow/core/common_runtime/bfc_allocator.cc:1083] InUse at 7f862e529500 of size 1024 next 572\n",
      "2022-07-11 16:19:46.561399: I tensorflow/core/common_runtime/bfc_allocator.cc:1083] InUse at 7f862e529900 of size 1024 next 575\n",
      "2022-07-11 16:19:46.561403: I tensorflow/core/common_runtime/bfc_allocator.cc:1083] InUse at 7f862e529d00 of size 1024 next 576\n",
      "2022-07-11 16:19:46.561406: I tensorflow/core/common_runtime/bfc_allocator.cc:1083] InUse at 7f862e52a100 of size 5376 next 578\n",
      "2022-07-11 16:19:46.561410: I tensorflow/core/common_runtime/bfc_allocator.cc:1083] InUse at 7f862e52b600 of size 5376 next 580\n",
      "2022-07-11 16:19:46.561414: I tensorflow/core/common_runtime/bfc_allocator.cc:1083] InUse at 7f862e52cb00 of size 5376 next 581\n",
      "2022-07-11 16:19:46.561418: I tensorflow/core/common_runtime/bfc_allocator.cc:1083] InUse at 7f862e52e000 of size 65536 next 442\n",
      "2022-07-11 16:19:46.561423: I tensorflow/core/common_runtime/bfc_allocator.cc:1083] InUse at 7f862e53e000 of size 1204224 next 443\n",
      "2022-07-11 16:19:46.561426: I tensorflow/core/common_runtime/bfc_allocator.cc:1083] InUse at 7f862e664000 of size 1204224 next 448\n",
      "2022-07-11 16:19:46.561430: I tensorflow/core/common_runtime/bfc_allocator.cc:1083] InUse at 7f862e78a000 of size 1204224 next 461\n",
      "2022-07-11 16:19:46.561434: I tensorflow/core/common_runtime/bfc_allocator.cc:1083] InUse at 7f862e8b0000 of size 1204224 next 466\n",
      "2022-07-11 16:19:46.561438: I tensorflow/core/common_runtime/bfc_allocator.cc:1083] InUse at 7f862e9d6000 of size 301056 next 512\n",
      "2022-07-11 16:19:46.561442: I tensorflow/core/common_runtime/bfc_allocator.cc:1083] InUse at 7f862ea1f800 of size 301056 next 514\n",
      "2022-07-11 16:19:46.561446: I tensorflow/core/common_runtime/bfc_allocator.cc:1083] InUse at 7f862ea69000 of size 5376 next 585\n",
      "2022-07-11 16:19:46.561449: I tensorflow/core/common_runtime/bfc_allocator.cc:1083] InUse at 7f862ea6a500 of size 5376 next 586\n",
      "2022-07-11 16:19:46.561453: I tensorflow/core/common_runtime/bfc_allocator.cc:1083] InUse at 7f862ea6ba00 of size 5376 next 587\n",
      "2022-07-11 16:19:46.561457: I tensorflow/core/common_runtime/bfc_allocator.cc:1083] InUse at 7f862ea6cf00 of size 256 next 577\n",
      "2022-07-11 16:19:46.561470: I tensorflow/core/common_runtime/bfc_allocator.cc:1083] InUse at 7f862ea6d000 of size 5376 next 591\n",
      "2022-07-11 16:19:46.561474: I tensorflow/core/common_runtime/bfc_allocator.cc:1083] InUse at 7f862ea6e500 of size 1024 next 588\n",
      "2022-07-11 16:19:46.561478: I tensorflow/core/common_runtime/bfc_allocator.cc:1083] InUse at 7f862ea6e900 of size 1024 next 592\n",
      "2022-07-11 16:19:46.561482: I tensorflow/core/common_runtime/bfc_allocator.cc:1083] InUse at 7f862ea6ed00 of size 1024 next 594\n",
      "2022-07-11 16:19:46.561486: I tensorflow/core/common_runtime/bfc_allocator.cc:1083] InUse at 7f862ea6f100 of size 1024 next 595\n",
      "2022-07-11 16:19:46.561490: I tensorflow/core/common_runtime/bfc_allocator.cc:1083] InUse at 7f862ea6f500 of size 5376 next 597\n",
      "2022-07-11 16:19:46.561494: I tensorflow/core/common_runtime/bfc_allocator.cc:1083] InUse at 7f862ea70a00 of size 5376 next 599\n",
      "2022-07-11 16:19:46.561511: I tensorflow/core/common_runtime/bfc_allocator.cc:1083] InUse at 7f862ea71f00 of size 5376 next 600\n",
      "2022-07-11 16:19:46.561515: I tensorflow/core/common_runtime/bfc_allocator.cc:1083] InUse at 7f862ea73400 of size 54784 next 584\n",
      "2022-07-11 16:19:46.561519: I tensorflow/core/common_runtime/bfc_allocator.cc:1083] InUse at 7f862ea80a00 of size 5376 next 604\n",
      "2022-07-11 16:19:46.561523: I tensorflow/core/common_runtime/bfc_allocator.cc:1083] InUse at 7f862ea81f00 of size 5376 next 605\n",
      "2022-07-11 16:19:46.561527: I tensorflow/core/common_runtime/bfc_allocator.cc:1083] InUse at 7f862ea83400 of size 5376 next 606\n",
      "2022-07-11 16:19:46.561531: I tensorflow/core/common_runtime/bfc_allocator.cc:1083] InUse at 7f862ea84900 of size 256 next 596\n",
      "2022-07-11 16:19:46.561535: I tensorflow/core/common_runtime/bfc_allocator.cc:1083] InUse at 7f862ea84a00 of size 5376 next 609\n",
      "2022-07-11 16:19:46.561539: I tensorflow/core/common_runtime/bfc_allocator.cc:1083] InUse at 7f862ea85f00 of size 1024 next 607\n",
      "2022-07-11 16:19:46.561542: I tensorflow/core/common_runtime/bfc_allocator.cc:1083] InUse at 7f862ea86300 of size 1024 next 611\n",
      "2022-07-11 16:19:46.561546: I tensorflow/core/common_runtime/bfc_allocator.cc:1083] InUse at 7f862ea86700 of size 1024 next 614\n",
      "2022-07-11 16:19:46.561550: I tensorflow/core/common_runtime/bfc_allocator.cc:1083] InUse at 7f862ea86b00 of size 1024 next 615\n",
      "2022-07-11 16:19:46.561554: I tensorflow/core/common_runtime/bfc_allocator.cc:1083] InUse at 7f862ea86f00 of size 5376 next 617\n",
      "2022-07-11 16:19:46.561558: I tensorflow/core/common_runtime/bfc_allocator.cc:1083] InUse at 7f862ea88400 of size 5376 next 619\n",
      "2022-07-11 16:19:46.561562: I tensorflow/core/common_runtime/bfc_allocator.cc:1083] InUse at 7f862ea89900 of size 5376 next 620\n",
      "2022-07-11 16:19:46.561566: I tensorflow/core/common_runtime/bfc_allocator.cc:1083] InUse at 7f862ea8ae00 of size 54784 next 603\n",
      "2022-07-11 16:19:46.561570: I tensorflow/core/common_runtime/bfc_allocator.cc:1083] InUse at 7f862ea98400 of size 5376 next 623\n",
      "2022-07-11 16:19:46.561573: I tensorflow/core/common_runtime/bfc_allocator.cc:1083] InUse at 7f862ea99900 of size 5376 next 624\n",
      "2022-07-11 16:19:46.561577: I tensorflow/core/common_runtime/bfc_allocator.cc:1083] InUse at 7f862ea9ae00 of size 5376 next 625\n",
      "2022-07-11 16:19:46.561581: I tensorflow/core/common_runtime/bfc_allocator.cc:1083] InUse at 7f862ea9c300 of size 256 next 616\n",
      "2022-07-11 16:19:46.561585: I tensorflow/core/common_runtime/bfc_allocator.cc:1083] InUse at 7f862ea9c400 of size 5376 next 628\n",
      "2022-07-11 16:19:46.561589: I tensorflow/core/common_runtime/bfc_allocator.cc:1083] InUse at 7f862ea9d900 of size 1024 next 626\n",
      "2022-07-11 16:19:46.561593: I tensorflow/core/common_runtime/bfc_allocator.cc:1083] InUse at 7f862ea9dd00 of size 1024 next 629\n",
      "2022-07-11 16:19:46.561597: I tensorflow/core/common_runtime/bfc_allocator.cc:1083] InUse at 7f862ea9e100 of size 1024 next 631\n",
      "2022-07-11 16:19:46.561601: I tensorflow/core/common_runtime/bfc_allocator.cc:1083] InUse at 7f862ea9e500 of size 1024 next 632\n",
      "2022-07-11 16:19:46.561604: I tensorflow/core/common_runtime/bfc_allocator.cc:1083] InUse at 7f862ea9e900 of size 5376 next 634\n",
      "2022-07-11 16:19:46.561608: I tensorflow/core/common_runtime/bfc_allocator.cc:1083] InUse at 7f862ea9fe00 of size 5376 next 636\n",
      "2022-07-11 16:19:46.561612: I tensorflow/core/common_runtime/bfc_allocator.cc:1083] InUse at 7f862eaa1300 of size 5376 next 637\n",
      "2022-07-11 16:19:46.561616: I tensorflow/core/common_runtime/bfc_allocator.cc:1083] InUse at 7f862eaa2800 of size 65536 next 532\n",
      "2022-07-11 16:19:46.561620: I tensorflow/core/common_runtime/bfc_allocator.cc:1083] InUse at 7f862eab2800 of size 301056 next 479\n",
      "2022-07-11 16:19:46.561624: I tensorflow/core/common_runtime/bfc_allocator.cc:1083] InUse at 7f862eafc000 of size 1204224 next 480\n",
      "2022-07-11 16:19:46.561628: I tensorflow/core/common_runtime/bfc_allocator.cc:1083] InUse at 7f862ec22000 of size 1204224 next 485\n",
      "2022-07-11 16:19:46.561632: I tensorflow/core/common_runtime/bfc_allocator.cc:1083] InUse at 7f862ed48000 of size 1204224 next 498\n",
      "2022-07-11 16:19:46.561635: I tensorflow/core/common_runtime/bfc_allocator.cc:1083] InUse at 7f862ee6e000 of size 1204224 next 503\n",
      "2022-07-11 16:19:46.561639: I tensorflow/core/common_runtime/bfc_allocator.cc:1083] InUse at 7f862ef94000 of size 301056 next 534\n",
      "2022-07-11 16:19:46.561643: I tensorflow/core/common_runtime/bfc_allocator.cc:1083] InUse at 7f862efdd800 of size 301056 next 552\n",
      "2022-07-11 16:19:46.561647: I tensorflow/core/common_runtime/bfc_allocator.cc:1083] InUse at 7f862f027000 of size 301056 next 554\n",
      "2022-07-11 16:19:46.561651: I tensorflow/core/common_runtime/bfc_allocator.cc:1083] InUse at 7f862f070800 of size 5376 next 658\n",
      "2022-07-11 16:19:46.561655: I tensorflow/core/common_runtime/bfc_allocator.cc:1083] InUse at 7f862f071d00 of size 5376 next 659\n",
      "2022-07-11 16:19:46.561659: I tensorflow/core/common_runtime/bfc_allocator.cc:1083] InUse at 7f862f073200 of size 5376 next 716\n",
      "2022-07-11 16:19:46.561663: I tensorflow/core/common_runtime/bfc_allocator.cc:1083] InUse at 7f862f074700 of size 9216 next 772\n",
      "2022-07-11 16:19:46.561667: I tensorflow/core/common_runtime/bfc_allocator.cc:1083] InUse at 7f862f076b00 of size 9216 next 773\n",
      "2022-07-11 16:19:46.561670: I tensorflow/core/common_runtime/bfc_allocator.cc:1083] InUse at 7f862f078f00 of size 9216 next 774\n",
      "2022-07-11 16:19:46.561674: I tensorflow/core/common_runtime/bfc_allocator.cc:1083] InUse at 7f862f07b300 of size 9216 next 777\n",
      "2022-07-11 16:19:46.561678: I tensorflow/core/common_runtime/bfc_allocator.cc:1083] InUse at 7f862f07d700 of size 9216 next 778\n",
      "2022-07-11 16:19:46.561682: I tensorflow/core/common_runtime/bfc_allocator.cc:1083] InUse at 7f862f07fb00 of size 9216 next 779\n",
      "2022-07-11 16:19:46.561686: I tensorflow/core/common_runtime/bfc_allocator.cc:1083] InUse at 7f862f081f00 of size 512 next 387\n",
      "2022-07-11 16:19:46.561690: I tensorflow/core/common_runtime/bfc_allocator.cc:1083] InUse at 7f862f082100 of size 9216 next 782\n",
      "2022-07-11 16:19:46.561694: I tensorflow/core/common_runtime/bfc_allocator.cc:1083] InUse at 7f862f084500 of size 1536 next 766\n",
      "2022-07-11 16:19:46.561698: I tensorflow/core/common_runtime/bfc_allocator.cc:1083] InUse at 7f862f084b00 of size 14080 next 640\n",
      "2022-07-11 16:19:46.561702: I tensorflow/core/common_runtime/bfc_allocator.cc:1083] InUse at 7f862f088200 of size 48384 next 641\n",
      "2022-07-11 16:19:46.561706: I tensorflow/core/common_runtime/bfc_allocator.cc:1083] InUse at 7f862f093f00 of size 5376 next 662\n",
      "2022-07-11 16:19:46.561709: I tensorflow/core/common_runtime/bfc_allocator.cc:1083] InUse at 7f862f095400 of size 5376 next 663\n",
      "2022-07-11 16:19:46.561713: I tensorflow/core/common_runtime/bfc_allocator.cc:1083] InUse at 7f862f096900 of size 5376 next 664\n",
      "2022-07-11 16:19:46.561717: I tensorflow/core/common_runtime/bfc_allocator.cc:1083] InUse at 7f862f097e00 of size 256 next 654\n",
      "2022-07-11 16:19:46.561721: I tensorflow/core/common_runtime/bfc_allocator.cc:1083] InUse at 7f862f097f00 of size 5376 next 666\n",
      "2022-07-11 16:19:46.561725: I tensorflow/core/common_runtime/bfc_allocator.cc:1083] InUse at 7f862f099400 of size 1024 next 665\n",
      "2022-07-11 16:19:46.561729: I tensorflow/core/common_runtime/bfc_allocator.cc:1083] InUse at 7f862f099800 of size 1024 next 668\n",
      "2022-07-11 16:19:46.561732: I tensorflow/core/common_runtime/bfc_allocator.cc:1083] InUse at 7f862f099c00 of size 1024 next 671\n",
      "2022-07-11 16:19:46.561736: I tensorflow/core/common_runtime/bfc_allocator.cc:1083] InUse at 7f862f09a000 of size 1024 next 672\n",
      "2022-07-11 16:19:46.561740: I tensorflow/core/common_runtime/bfc_allocator.cc:1083] InUse at 7f862f09a400 of size 5376 next 674\n",
      "2022-07-11 16:19:46.561744: I tensorflow/core/common_runtime/bfc_allocator.cc:1083] InUse at 7f862f09b900 of size 5376 next 676\n",
      "2022-07-11 16:19:46.561748: I tensorflow/core/common_runtime/bfc_allocator.cc:1083] InUse at 7f862f09ce00 of size 5376 next 677\n",
      "2022-07-11 16:19:46.561752: I tensorflow/core/common_runtime/bfc_allocator.cc:1083] InUse at 7f862f09e300 of size 60160 next 678\n",
      "2022-07-11 16:19:46.561756: I tensorflow/core/common_runtime/bfc_allocator.cc:1083] InUse at 7f862f0ace00 of size 5376 next 680\n",
      "2022-07-11 16:19:46.561760: I tensorflow/core/common_runtime/bfc_allocator.cc:1083] InUse at 7f862f0ae300 of size 5376 next 681\n",
      "2022-07-11 16:19:46.561764: I tensorflow/core/common_runtime/bfc_allocator.cc:1083] InUse at 7f862f0af800 of size 5376 next 682\n",
      "2022-07-11 16:19:46.561768: I tensorflow/core/common_runtime/bfc_allocator.cc:1083] InUse at 7f862f0b0d00 of size 256 next 673\n",
      "2022-07-11 16:19:46.561772: I tensorflow/core/common_runtime/bfc_allocator.cc:1083] InUse at 7f862f0b0e00 of size 5376 next 686\n",
      "2022-07-11 16:19:46.561775: I tensorflow/core/common_runtime/bfc_allocator.cc:1083] InUse at 7f862f0b2300 of size 1024 next 683\n",
      "2022-07-11 16:19:46.561779: I tensorflow/core/common_runtime/bfc_allocator.cc:1083] InUse at 7f862f0b2700 of size 1024 next 687\n",
      "2022-07-11 16:19:46.561783: I tensorflow/core/common_runtime/bfc_allocator.cc:1083] InUse at 7f862f0b2b00 of size 1024 next 689\n",
      "2022-07-11 16:19:46.561787: I tensorflow/core/common_runtime/bfc_allocator.cc:1083] InUse at 7f862f0b2f00 of size 1024 next 690\n",
      "2022-07-11 16:19:46.561791: I tensorflow/core/common_runtime/bfc_allocator.cc:1083] InUse at 7f862f0b3300 of size 5376 next 692\n",
      "2022-07-11 16:19:46.561795: I tensorflow/core/common_runtime/bfc_allocator.cc:1083] InUse at 7f862f0b4800 of size 5376 next 694\n",
      "2022-07-11 16:19:46.561799: I tensorflow/core/common_runtime/bfc_allocator.cc:1083] InUse at 7f862f0b5d00 of size 5376 next 695\n",
      "2022-07-11 16:19:46.561803: I tensorflow/core/common_runtime/bfc_allocator.cc:1083] InUse at 7f862f0b7200 of size 5376 next 696\n",
      "2022-07-11 16:19:46.561807: I tensorflow/core/common_runtime/bfc_allocator.cc:1083] InUse at 7f862f0b8700 of size 6400 next 516\n",
      "2022-07-11 16:19:46.561811: I tensorflow/core/common_runtime/bfc_allocator.cc:1083] InUse at 7f862f0ba000 of size 1204224 next 517\n",
      "2022-07-11 16:19:46.561815: I tensorflow/core/common_runtime/bfc_allocator.cc:1083] InUse at 7f862f1e0000 of size 1204224 next 522\n",
      "2022-07-11 16:19:46.561819: I tensorflow/core/common_runtime/bfc_allocator.cc:1083] InUse at 7f862f306000 of size 301056 next 571\n",
      "2022-07-11 16:19:46.561823: I tensorflow/core/common_runtime/bfc_allocator.cc:1083] InUse at 7f862f34f800 of size 48384 next 679\n",
      "2022-07-11 16:19:46.561827: I tensorflow/core/common_runtime/bfc_allocator.cc:1083] InUse at 7f862f35b500 of size 5376 next 699\n",
      "2022-07-11 16:19:46.561831: I tensorflow/core/common_runtime/bfc_allocator.cc:1083] InUse at 7f862f35ca00 of size 5376 next 700\n",
      "2022-07-11 16:19:46.561835: I tensorflow/core/common_runtime/bfc_allocator.cc:1083] InUse at 7f862f35df00 of size 5376 next 701\n",
      "2022-07-11 16:19:46.561839: I tensorflow/core/common_runtime/bfc_allocator.cc:1083] InUse at 7f862f35f400 of size 256 next 691\n",
      "2022-07-11 16:19:46.561843: I tensorflow/core/common_runtime/bfc_allocator.cc:1083] InUse at 7f862f35f500 of size 5376 next 704\n",
      "2022-07-11 16:19:46.561847: I tensorflow/core/common_runtime/bfc_allocator.cc:1083] InUse at 7f862f360a00 of size 1024 next 702\n",
      "2022-07-11 16:19:46.561851: I tensorflow/core/common_runtime/bfc_allocator.cc:1083] InUse at 7f862f360e00 of size 1024 next 706\n",
      "2022-07-11 16:19:46.561855: I tensorflow/core/common_runtime/bfc_allocator.cc:1083] InUse at 7f862f361200 of size 1024 next 709\n",
      "2022-07-11 16:19:46.561859: I tensorflow/core/common_runtime/bfc_allocator.cc:1083] InUse at 7f862f361600 of size 1024 next 710\n",
      "2022-07-11 16:19:46.561863: I tensorflow/core/common_runtime/bfc_allocator.cc:1083] InUse at 7f862f361a00 of size 5376 next 712\n",
      "2022-07-11 16:19:46.561867: I tensorflow/core/common_runtime/bfc_allocator.cc:1083] InUse at 7f862f362f00 of size 5376 next 714\n",
      "2022-07-11 16:19:46.561871: I tensorflow/core/common_runtime/bfc_allocator.cc:1083] InUse at 7f862f364400 of size 5376 next 715\n",
      "2022-07-11 16:19:46.561874: I tensorflow/core/common_runtime/bfc_allocator.cc:1083] InUse at 7f862f365900 of size 54784 next 698\n",
      "2022-07-11 16:19:46.561878: I tensorflow/core/common_runtime/bfc_allocator.cc:1083] InUse at 7f862f372f00 of size 5376 next 719\n",
      "2022-07-11 16:19:46.561882: I tensorflow/core/common_runtime/bfc_allocator.cc:1083] InUse at 7f862f374400 of size 5376 next 720\n",
      "2022-07-11 16:19:46.561886: I tensorflow/core/common_runtime/bfc_allocator.cc:1083] InUse at 7f862f375900 of size 5376 next 721\n",
      "2022-07-11 16:19:46.561890: I tensorflow/core/common_runtime/bfc_allocator.cc:1083] InUse at 7f862f376e00 of size 256 next 697\n",
      "2022-07-11 16:19:46.561894: I tensorflow/core/common_runtime/bfc_allocator.cc:1083] InUse at 7f862f376f00 of size 5376 next 724\n",
      "2022-07-11 16:19:46.561898: I tensorflow/core/common_runtime/bfc_allocator.cc:1083] InUse at 7f862f378400 of size 1024 next 722\n",
      "2022-07-11 16:19:46.561901: I tensorflow/core/common_runtime/bfc_allocator.cc:1083] InUse at 7f862f378800 of size 1024 next 725\n",
      "2022-07-11 16:19:46.561905: I tensorflow/core/common_runtime/bfc_allocator.cc:1083] InUse at 7f862f378c00 of size 1024 next 727\n",
      "2022-07-11 16:19:46.561909: I tensorflow/core/common_runtime/bfc_allocator.cc:1083] InUse at 7f862f379000 of size 1024 next 728\n",
      "2022-07-11 16:19:46.561913: I tensorflow/core/common_runtime/bfc_allocator.cc:1083] InUse at 7f862f379400 of size 5376 next 730\n",
      "2022-07-11 16:19:46.561917: I tensorflow/core/common_runtime/bfc_allocator.cc:1083] InUse at 7f862f37a900 of size 5376 next 732\n",
      "2022-07-11 16:19:46.561921: I tensorflow/core/common_runtime/bfc_allocator.cc:1083] InUse at 7f862f37be00 of size 5376 next 733\n",
      "2022-07-11 16:19:46.561924: I tensorflow/core/common_runtime/bfc_allocator.cc:1083] InUse at 7f862f37d300 of size 5376 next 717\n",
      "2022-07-11 16:19:46.561928: I tensorflow/core/common_runtime/bfc_allocator.cc:1083] InUse at 7f862f37e800 of size 54784 next 734\n",
      "2022-07-11 16:19:46.561932: I tensorflow/core/common_runtime/bfc_allocator.cc:1083] InUse at 7f862f38be00 of size 5376 next 736\n",
      "2022-07-11 16:19:46.561936: I tensorflow/core/common_runtime/bfc_allocator.cc:1083] InUse at 7f862f38d300 of size 5376 next 737\n",
      "2022-07-11 16:19:46.561940: I tensorflow/core/common_runtime/bfc_allocator.cc:1083] InUse at 7f862f38e800 of size 5376 next 738\n",
      "2022-07-11 16:19:46.561944: I tensorflow/core/common_runtime/bfc_allocator.cc:1083] InUse at 7f862f38fd00 of size 256 next 729\n",
      "2022-07-11 16:19:46.561948: I tensorflow/core/common_runtime/bfc_allocator.cc:1083] InUse at 7f862f38fe00 of size 5376 next 742\n",
      "2022-07-11 16:19:46.561951: I tensorflow/core/common_runtime/bfc_allocator.cc:1083] InUse at 7f862f391300 of size 1024 next 739\n",
      "2022-07-11 16:19:46.561955: I tensorflow/core/common_runtime/bfc_allocator.cc:1083] InUse at 7f862f391700 of size 1024 next 744\n",
      "2022-07-11 16:19:46.561959: I tensorflow/core/common_runtime/bfc_allocator.cc:1083] InUse at 7f862f391b00 of size 1024 next 747\n",
      "2022-07-11 16:19:46.561963: I tensorflow/core/common_runtime/bfc_allocator.cc:1083] InUse at 7f862f391f00 of size 1024 next 748\n",
      "2022-07-11 16:19:46.561967: I tensorflow/core/common_runtime/bfc_allocator.cc:1083] InUse at 7f862f392300 of size 5376 next 750\n",
      "2022-07-11 16:19:46.561971: I tensorflow/core/common_runtime/bfc_allocator.cc:1083] InUse at 7f862f393800 of size 5376 next 752\n",
      "2022-07-11 16:19:46.561974: I tensorflow/core/common_runtime/bfc_allocator.cc:1083] InUse at 7f862f394d00 of size 5376 next 753\n",
      "2022-07-11 16:19:46.561978: I tensorflow/core/common_runtime/bfc_allocator.cc:1083] InUse at 7f862f396200 of size 5376 next 754\n",
      "2022-07-11 16:19:46.561982: I tensorflow/core/common_runtime/bfc_allocator.cc:1083] InUse at 7f862f397700 of size 6400 next 589\n",
      "2022-07-11 16:19:46.561986: I tensorflow/core/common_runtime/bfc_allocator.cc:1083] InUse at 7f862f399000 of size 301056 next 590\n",
      "2022-07-11 16:19:46.561990: I tensorflow/core/common_runtime/bfc_allocator.cc:1083] InUse at 7f862f3e2800 of size 301056 next 536\n",
      "2022-07-11 16:19:46.561994: I tensorflow/core/common_runtime/bfc_allocator.cc:1083] InUse at 7f862f42c000 of size 1204224 next 537\n",
      "2022-07-11 16:19:46.561998: I tensorflow/core/common_runtime/bfc_allocator.cc:1083] InUse at 7f862f552000 of size 1204224 next 542\n",
      "2022-07-11 16:19:46.562002: I tensorflow/core/common_runtime/bfc_allocator.cc:1083] InUse at 7f862f678000 of size 1204224 next 556\n",
      "2022-07-11 16:19:46.562005: I tensorflow/core/common_runtime/bfc_allocator.cc:1083] InUse at 7f862f79e000 of size 1204224 next 561\n",
      "2022-07-11 16:19:46.562009: I tensorflow/core/common_runtime/bfc_allocator.cc:1083] InUse at 7f862f8c4000 of size 301056 next 608\n",
      "2022-07-11 16:19:46.562021: I tensorflow/core/common_runtime/bfc_allocator.cc:1083] InUse at 7f862f90d800 of size 301056 next 610\n",
      "2022-07-11 16:19:46.562026: I tensorflow/core/common_runtime/bfc_allocator.cc:1083] InUse at 7f862f957000 of size 301056 next 627\n",
      "2022-07-11 16:19:46.562030: I tensorflow/core/common_runtime/bfc_allocator.cc:1083] InUse at 7f862f9a0800 of size 301056 next 573\n",
      "2022-07-11 16:19:46.562034: I tensorflow/core/common_runtime/bfc_allocator.cc:1083] InUse at 7f862f9ea000 of size 1204224 next 574\n",
      "2022-07-11 16:19:46.562037: I tensorflow/core/common_runtime/bfc_allocator.cc:1083] InUse at 7f862fb10000 of size 1204224 next 579\n",
      "2022-07-11 16:19:46.562041: I tensorflow/core/common_runtime/bfc_allocator.cc:1083] InUse at 7f862fc36000 of size 1204224 next 593\n",
      "2022-07-11 16:19:46.562045: I tensorflow/core/common_runtime/bfc_allocator.cc:1083] InUse at 7f862fd5c000 of size 1204224 next 598\n",
      "2022-07-11 16:19:46.562049: I tensorflow/core/common_runtime/bfc_allocator.cc:1083] InUse at 7f862fe82000 of size 5376 next 718\n",
      "2022-07-11 16:19:46.562053: I tensorflow/core/common_runtime/bfc_allocator.cc:1083] InUse at 7f862fe83500 of size 5376 next 735\n",
      "2022-07-11 16:19:46.562057: I tensorflow/core/common_runtime/bfc_allocator.cc:1083] InUse at 7f862fe84a00 of size 5376 next 757\n",
      "2022-07-11 16:19:46.562061: I tensorflow/core/common_runtime/bfc_allocator.cc:1083] InUse at 7f862fe85f00 of size 5376 next 758\n",
      "2022-07-11 16:19:46.562065: I tensorflow/core/common_runtime/bfc_allocator.cc:1083] InUse at 7f862fe87400 of size 256 next 759\n",
      "2022-07-11 16:19:46.562069: I tensorflow/core/common_runtime/bfc_allocator.cc:1083] InUse at 7f862fe87500 of size 5376 next 760\n",
      "2022-07-11 16:19:46.562073: I tensorflow/core/common_runtime/bfc_allocator.cc:1083] InUse at 7f862fe88a00 of size 1536 next 711\n",
      "2022-07-11 16:19:46.562076: I tensorflow/core/common_runtime/bfc_allocator.cc:1083] InUse at 7f862fe89000 of size 1536 next 763\n",
      "2022-07-11 16:19:46.562080: I tensorflow/core/common_runtime/bfc_allocator.cc:1083] InUse at 7f862fe89600 of size 1536 next 764\n",
      "2022-07-11 16:19:46.562084: I tensorflow/core/common_runtime/bfc_allocator.cc:1083] InUse at 7f862fe89c00 of size 1536 next 767\n",
      "2022-07-11 16:19:46.562088: I tensorflow/core/common_runtime/bfc_allocator.cc:1083] InUse at 7f862fe8a200 of size 9216 next 768\n",
      "2022-07-11 16:19:46.562092: I tensorflow/core/common_runtime/bfc_allocator.cc:1083] InUse at 7f862fe8c600 of size 102656 next 756\n",
      "2022-07-11 16:19:46.562096: I tensorflow/core/common_runtime/bfc_allocator.cc:1083] InUse at 7f862fea5700 of size 9216 next 982\n",
      "2022-07-11 16:19:46.562100: I tensorflow/core/common_runtime/bfc_allocator.cc:1083] InUse at 7f862fea7b00 of size 9216 next 1001\n",
      "2022-07-11 16:19:46.562104: I tensorflow/core/common_runtime/bfc_allocator.cc:1083] InUse at 7f862fea9f00 of size 9216 next 1019\n",
      "2022-07-11 16:19:46.562107: I tensorflow/core/common_runtime/bfc_allocator.cc:1083] InUse at 7f862feac300 of size 9216 next 1039\n",
      "2022-07-11 16:19:46.562111: I tensorflow/core/common_runtime/bfc_allocator.cc:1083] InUse at 7f862feae700 of size 9216 next 1057\n",
      "2022-07-11 16:19:46.562115: I tensorflow/core/common_runtime/bfc_allocator.cc:1083] InUse at 7f862feb0b00 of size 9216 next 1077\n",
      "2022-07-11 16:19:46.562119: I tensorflow/core/common_runtime/bfc_allocator.cc:1083] InUse at 7f862feb2f00 of size 9216 next 1095\n",
      "2022-07-11 16:19:46.562123: I tensorflow/core/common_runtime/bfc_allocator.cc:1083] InUse at 7f862feb5300 of size 9216 next 1114\n",
      "2022-07-11 16:19:46.562126: I tensorflow/core/common_runtime/bfc_allocator.cc:1083] InUse at 7f862feb7700 of size 9216 next 1115\n",
      "2022-07-11 16:19:46.562130: I tensorflow/core/common_runtime/bfc_allocator.cc:1083] InUse at 7f862feb9b00 of size 9216 next 1118\n",
      "2022-07-11 16:19:46.562134: I tensorflow/core/common_runtime/bfc_allocator.cc:1083] InUse at 7f862febbf00 of size 9216 next 1119\n",
      "2022-07-11 16:19:46.562138: I tensorflow/core/common_runtime/bfc_allocator.cc:1083] InUse at 7f862febe300 of size 512 next 1109\n",
      "2022-07-11 16:19:46.562141: I tensorflow/core/common_runtime/bfc_allocator.cc:1083] InUse at 7f862febe500 of size 9216 next 1122\n",
      "2022-07-11 16:19:46.562145: I tensorflow/core/common_runtime/bfc_allocator.cc:1083] InUse at 7f862fec0900 of size 1536 next 1120\n",
      "2022-07-11 16:19:46.562149: I tensorflow/core/common_runtime/bfc_allocator.cc:1083] InUse at 7f862fec0f00 of size 1536 next 1124\n",
      "2022-07-11 16:19:46.562153: I tensorflow/core/common_runtime/bfc_allocator.cc:1083] InUse at 7f862fec1500 of size 1536 next 1127\n",
      "2022-07-11 16:19:46.562156: I tensorflow/core/common_runtime/bfc_allocator.cc:1083] InUse at 7f862fec1b00 of size 1536 next 1128\n",
      "2022-07-11 16:19:46.562160: I tensorflow/core/common_runtime/bfc_allocator.cc:1083] InUse at 7f862fec2100 of size 9216 next 1130\n",
      "2022-07-11 16:19:46.562164: I tensorflow/core/common_runtime/bfc_allocator.cc:1083] InUse at 7f862fec4500 of size 9216 next 1132\n",
      "2022-07-11 16:19:46.562168: I tensorflow/core/common_runtime/bfc_allocator.cc:1083] InUse at 7f862fec6900 of size 9216 next 1133\n",
      "2022-07-11 16:19:46.562172: I tensorflow/core/common_runtime/bfc_allocator.cc:1083] InUse at 7f862fec8d00 of size 11008 next 645\n",
      "2022-07-11 16:19:46.562176: I tensorflow/core/common_runtime/bfc_allocator.cc:1083] InUse at 7f862fecb800 of size 301056 next 646\n",
      "2022-07-11 16:19:46.562180: I tensorflow/core/common_runtime/bfc_allocator.cc:1083] InUse at 7f862ff15000 of size 301056 next 648\n",
      "2022-07-11 16:19:46.562183: I tensorflow/core/common_runtime/bfc_allocator.cc:1083] InUse at 7f862ff5e800 of size 301056 next 612\n",
      "2022-07-11 16:19:46.562187: I tensorflow/core/common_runtime/bfc_allocator.cc:1083] InUse at 7f862ffa8000 of size 1204224 next 613\n",
      "2022-07-11 16:19:46.562191: I tensorflow/core/common_runtime/bfc_allocator.cc:1083] InUse at 7f86300ce000 of size 1204224 next 618\n",
      "2022-07-11 16:19:46.562195: I tensorflow/core/common_runtime/bfc_allocator.cc:1083] InUse at 7f86301f4000 of size 1204224 next 630\n",
      "2022-07-11 16:19:46.562198: I tensorflow/core/common_runtime/bfc_allocator.cc:1083] InUse at 7f863031a000 of size 1204224 next 635\n",
      "2022-07-11 16:19:46.562204: I tensorflow/core/common_runtime/bfc_allocator.cc:1083] InUse at 7f8630440000 of size 301056 next 667\n",
      "2022-07-11 16:19:46.562208: I tensorflow/core/common_runtime/bfc_allocator.cc:1083] InUse at 7f8630489800 of size 1536 next 786\n",
      "2022-07-11 16:19:46.562212: I tensorflow/core/common_runtime/bfc_allocator.cc:1083] InUse at 7f8630489e00 of size 1536 next 787\n",
      "2022-07-11 16:19:46.562216: I tensorflow/core/common_runtime/bfc_allocator.cc:1083] InUse at 7f863048a400 of size 1536 next 788\n",
      "2022-07-11 16:19:46.562220: I tensorflow/core/common_runtime/bfc_allocator.cc:1083] InUse at 7f863048aa00 of size 10752 next 791\n",
      "2022-07-11 16:19:46.562224: I tensorflow/core/common_runtime/bfc_allocator.cc:1083] InUse at 7f863048d400 of size 9216 next 792\n",
      "2022-07-11 16:19:46.562227: I tensorflow/core/common_runtime/bfc_allocator.cc:1083] InUse at 7f863048f800 of size 9216 next 793\n",
      "2022-07-11 16:19:46.562231: I tensorflow/core/common_runtime/bfc_allocator.cc:1083] InUse at 7f8630491c00 of size 9216 next 794\n",
      "2022-07-11 16:19:46.562235: I tensorflow/core/common_runtime/bfc_allocator.cc:1083] InUse at 7f8630494000 of size 9216 next 796\n",
      "2022-07-11 16:19:46.562239: I tensorflow/core/common_runtime/bfc_allocator.cc:1083] InUse at 7f8630496400 of size 9216 next 797\n",
      "2022-07-11 16:19:46.562242: I tensorflow/core/common_runtime/bfc_allocator.cc:1083] InUse at 7f8630498800 of size 9216 next 798\n",
      "2022-07-11 16:19:46.562246: I tensorflow/core/common_runtime/bfc_allocator.cc:1083] InUse at 7f863049ac00 of size 512 next 783\n",
      "2022-07-11 16:19:46.562250: I tensorflow/core/common_runtime/bfc_allocator.cc:1083] InUse at 7f863049ae00 of size 11776 next 775\n",
      "2022-07-11 16:19:46.562254: I tensorflow/core/common_runtime/bfc_allocator.cc:1083] InUse at 7f863049dc00 of size 82944 next 776\n",
      "2022-07-11 16:19:46.562258: I tensorflow/core/common_runtime/bfc_allocator.cc:1083] InUse at 7f86304b2000 of size 1536 next 800\n",
      "2022-07-11 16:19:46.562266: I tensorflow/core/common_runtime/bfc_allocator.cc:1083] InUse at 7f86304b2600 of size 1536 next 802\n",
      "2022-07-11 16:19:46.562273: I tensorflow/core/common_runtime/bfc_allocator.cc:1083] InUse at 7f86304b2c00 of size 1536 next 804\n",
      "2022-07-11 16:19:46.562281: I tensorflow/core/common_runtime/bfc_allocator.cc:1083] InUse at 7f86304b3200 of size 1536 next 805\n",
      "2022-07-11 16:19:46.562289: I tensorflow/core/common_runtime/bfc_allocator.cc:1083] InUse at 7f86304b3800 of size 9728 next 807\n",
      "2022-07-11 16:19:46.562293: I tensorflow/core/common_runtime/bfc_allocator.cc:1083] InUse at 7f86304b5e00 of size 9216 next 809\n",
      "2022-07-11 16:19:46.562304: I tensorflow/core/common_runtime/bfc_allocator.cc:1083] InUse at 7f86304b8200 of size 9216 next 810\n",
      "2022-07-11 16:19:46.562309: I tensorflow/core/common_runtime/bfc_allocator.cc:1083] InUse at 7f86304ba600 of size 9216 next 811\n",
      "2022-07-11 16:19:46.562313: I tensorflow/core/common_runtime/bfc_allocator.cc:1083] InUse at 7f86304bca00 of size 9216 next 812\n",
      "2022-07-11 16:19:46.562317: I tensorflow/core/common_runtime/bfc_allocator.cc:1083] InUse at 7f86304bee00 of size 9216 next 814\n",
      "2022-07-11 16:19:46.562320: I tensorflow/core/common_runtime/bfc_allocator.cc:1083] InUse at 7f86304c1200 of size 9216 next 815\n",
      "2022-07-11 16:19:46.562324: I tensorflow/core/common_runtime/bfc_allocator.cc:1083] InUse at 7f86304c3600 of size 9216 next 816\n",
      "2022-07-11 16:19:46.562328: I tensorflow/core/common_runtime/bfc_allocator.cc:1083] InUse at 7f86304c5a00 of size 512 next 762\n",
      "2022-07-11 16:19:46.562332: I tensorflow/core/common_runtime/bfc_allocator.cc:1083] InUse at 7f86304c5c00 of size 9216 next 818\n",
      "2022-07-11 16:19:46.562335: I tensorflow/core/common_runtime/bfc_allocator.cc:1083] InUse at 7f86304c8000 of size 1536 next 817\n",
      "2022-07-11 16:19:46.562339: I tensorflow/core/common_runtime/bfc_allocator.cc:1083] InUse at 7f86304c8600 of size 1536 next 820\n",
      "2022-07-11 16:19:46.562343: I tensorflow/core/common_runtime/bfc_allocator.cc:1083] InUse at 7f86304c8c00 of size 1536 next 823\n",
      "2022-07-11 16:19:46.562349: I tensorflow/core/common_runtime/bfc_allocator.cc:1083] InUse at 7f86304c9200 of size 1536 next 824\n",
      "2022-07-11 16:19:46.562352: I tensorflow/core/common_runtime/bfc_allocator.cc:1083] InUse at 7f86304c9800 of size 9216 next 826\n",
      "2022-07-11 16:19:46.562356: I tensorflow/core/common_runtime/bfc_allocator.cc:1083] InUse at 7f86304cbc00 of size 9216 next 828\n",
      "2022-07-11 16:19:46.562360: I tensorflow/core/common_runtime/bfc_allocator.cc:1083] InUse at 7f86304ce000 of size 9216 next 829\n",
      "2022-07-11 16:19:46.562364: I tensorflow/core/common_runtime/bfc_allocator.cc:1083] InUse at 7f86304d0400 of size 11264 next 684\n",
      "2022-07-11 16:19:46.562368: I tensorflow/core/common_runtime/bfc_allocator.cc:1083] InUse at 7f86304d3000 of size 301056 next 685\n",
      "2022-07-11 16:19:46.562372: I tensorflow/core/common_runtime/bfc_allocator.cc:1083] InUse at 7f863051c800 of size 301056 next 650\n",
      "2022-07-11 16:19:46.562376: I tensorflow/core/common_runtime/bfc_allocator.cc:1083] InUse at 7f8630566000 of size 1204224 next 651\n",
      "2022-07-11 16:19:46.562380: I tensorflow/core/common_runtime/bfc_allocator.cc:1083] InUse at 7f863068c000 of size 1204224 next 656\n",
      "2022-07-11 16:19:46.562384: I tensorflow/core/common_runtime/bfc_allocator.cc:1083] InUse at 7f86307b2000 of size 301056 next 703\n",
      "2022-07-11 16:19:46.562387: I tensorflow/core/common_runtime/bfc_allocator.cc:1083] InUse at 7f86307fb800 of size 301056 next 705\n",
      "2022-07-11 16:19:46.562391: I tensorflow/core/common_runtime/bfc_allocator.cc:1083] InUse at 7f8630845000 of size 301056 next 723\n",
      "2022-07-11 16:19:46.562395: I tensorflow/core/common_runtime/bfc_allocator.cc:1083] InUse at 7f863088e800 of size 301056 next 669\n",
      "2022-07-11 16:19:46.562398: I tensorflow/core/common_runtime/bfc_allocator.cc:1083] InUse at 7f86308d8000 of size 1204224 next 670\n",
      "2022-07-11 16:19:46.562402: I tensorflow/core/common_runtime/bfc_allocator.cc:1083] InUse at 7f86309fe000 of size 1204224 next 675\n",
      "2022-07-11 16:19:46.562406: I tensorflow/core/common_runtime/bfc_allocator.cc:1083] InUse at 7f8630b24000 of size 1204224 next 688\n",
      "2022-07-11 16:19:46.562410: I tensorflow/core/common_runtime/bfc_allocator.cc:1083] InUse at 7f8630c4a000 of size 1204224 next 693\n",
      "2022-07-11 16:19:46.562413: I tensorflow/core/common_runtime/bfc_allocator.cc:1083] InUse at 7f8630d70000 of size 82944 next 795\n",
      "2022-07-11 16:19:46.562417: I tensorflow/core/common_runtime/bfc_allocator.cc:1083] InUse at 7f8630d84400 of size 9216 next 830\n",
      "2022-07-11 16:19:46.562421: I tensorflow/core/common_runtime/bfc_allocator.cc:1083] InUse at 7f8630d86800 of size 9216 next 833\n",
      "2022-07-11 16:19:46.562425: I tensorflow/core/common_runtime/bfc_allocator.cc:1083] InUse at 7f8630d88c00 of size 9216 next 834\n",
      "2022-07-11 16:19:46.562428: I tensorflow/core/common_runtime/bfc_allocator.cc:1083] InUse at 7f8630d8b000 of size 9216 next 835\n",
      "2022-07-11 16:19:46.562432: I tensorflow/core/common_runtime/bfc_allocator.cc:1083] InUse at 7f8630d8d400 of size 512 next 825\n",
      "2022-07-11 16:19:46.562436: I tensorflow/core/common_runtime/bfc_allocator.cc:1083] InUse at 7f8630d8d600 of size 9216 next 839\n",
      "2022-07-11 16:19:46.562440: I tensorflow/core/common_runtime/bfc_allocator.cc:1083] InUse at 7f8630d8fa00 of size 1536 next 836\n",
      "2022-07-11 16:19:46.562443: I tensorflow/core/common_runtime/bfc_allocator.cc:1083] InUse at 7f8630d90000 of size 1536 next 840\n",
      "2022-07-11 16:19:46.562447: I tensorflow/core/common_runtime/bfc_allocator.cc:1083] InUse at 7f8630d90600 of size 1536 next 842\n",
      "2022-07-11 16:19:46.562451: I tensorflow/core/common_runtime/bfc_allocator.cc:1083] InUse at 7f8630d90c00 of size 1536 next 843\n",
      "2022-07-11 16:19:46.562455: I tensorflow/core/common_runtime/bfc_allocator.cc:1083] InUse at 7f8630d91200 of size 9216 next 845\n",
      "2022-07-11 16:19:46.562459: I tensorflow/core/common_runtime/bfc_allocator.cc:1083] InUse at 7f8630d93600 of size 9216 next 847\n",
      "2022-07-11 16:19:46.562463: I tensorflow/core/common_runtime/bfc_allocator.cc:1083] InUse at 7f8630d95a00 of size 146944 next 740\n",
      "2022-07-11 16:19:46.562468: I tensorflow/core/common_runtime/bfc_allocator.cc:1083] InUse at 7f8630db9800 of size 301056 next 741\n",
      "2022-07-11 16:19:46.562472: I tensorflow/core/common_runtime/bfc_allocator.cc:1083] InUse at 7f8630e03000 of size 301056 next 743\n",
      "2022-07-11 16:19:46.562476: I tensorflow/core/common_runtime/bfc_allocator.cc:1083] InUse at 7f8630e4c800 of size 301056 next 707\n",
      "2022-07-11 16:19:46.562480: I tensorflow/core/common_runtime/bfc_allocator.cc:1083] InUse at 7f8630e96000 of size 1204224 next 708\n",
      "2022-07-11 16:19:46.562483: I tensorflow/core/common_runtime/bfc_allocator.cc:1083] InUse at 7f8630fbc000 of size 1204224 next 713\n",
      "2022-07-11 16:19:46.562487: I tensorflow/core/common_runtime/bfc_allocator.cc:1083] InUse at 7f86310e2000 of size 1204224 next 726\n",
      "2022-07-11 16:19:46.562491: I tensorflow/core/common_runtime/bfc_allocator.cc:1083] InUse at 7f8631208000 of size 1204224 next 731\n",
      "2022-07-11 16:19:46.562495: I tensorflow/core/common_runtime/bfc_allocator.cc:1083] InUse at 7f863132e000 of size 442368 next 2268\n",
      "2022-07-11 16:19:46.562499: I tensorflow/core/common_runtime/bfc_allocator.cc:1083] InUse at 7f863139a000 of size 761856 next 745\n",
      "2022-07-11 16:19:46.562503: I tensorflow/core/common_runtime/bfc_allocator.cc:1083] InUse at 7f8631454000 of size 1204224 next 746\n",
      "2022-07-11 16:19:46.562507: I tensorflow/core/common_runtime/bfc_allocator.cc:1083] InUse at 7f863157a000 of size 1204224 next 751\n",
      "2022-07-11 16:19:46.562511: I tensorflow/core/common_runtime/bfc_allocator.cc:1083] InUse at 7f86316a0000 of size 4128768 next 765\n",
      "2022-07-11 16:19:46.562515: I tensorflow/core/common_runtime/bfc_allocator.cc:1083] InUse at 7f8631a90000 of size 884736 next 780\n",
      "2022-07-11 16:19:46.562519: I tensorflow/core/common_runtime/bfc_allocator.cc:1083] InUse at 7f8631b68000 of size 884736 next 789\n",
      "2022-07-11 16:19:46.562523: I tensorflow/core/common_runtime/bfc_allocator.cc:1083] InUse at 7f8631c40000 of size 884736 next 755\n",
      "2022-07-11 16:19:46.562526: I tensorflow/core/common_runtime/bfc_allocator.cc:1083] InUse at 7f8631d18000 of size 884736 next 806\n",
      "2022-07-11 16:19:46.562530: I tensorflow/core/common_runtime/bfc_allocator.cc:1083] InUse at 7f8631df0000 of size 1179648 next 801\n",
      "2022-07-11 16:19:46.562534: I tensorflow/core/common_runtime/bfc_allocator.cc:1083] InUse at 7f8631f10000 of size 9216 next 928\n",
      "2022-07-11 16:19:46.562538: I tensorflow/core/common_runtime/bfc_allocator.cc:1083] InUse at 7f8631f12400 of size 512 next 871\n",
      "2022-07-11 16:19:46.562542: I tensorflow/core/common_runtime/bfc_allocator.cc:1083] InUse at 7f8631f12600 of size 9216 next 932\n",
      "2022-07-11 16:19:46.562546: I tensorflow/core/common_runtime/bfc_allocator.cc:1083] InUse at 7f8631f14a00 of size 1536 next 929\n",
      "2022-07-11 16:19:46.562549: I tensorflow/core/common_runtime/bfc_allocator.cc:1083] InUse at 7f8631f15000 of size 1536 next 934\n",
      "2022-07-11 16:19:46.562553: I tensorflow/core/common_runtime/bfc_allocator.cc:1083] InUse at 7f8631f15600 of size 1536 next 937\n",
      "2022-07-11 16:19:46.562557: I tensorflow/core/common_runtime/bfc_allocator.cc:1083] InUse at 7f8631f15c00 of size 1536 next 938\n",
      "2022-07-11 16:19:46.562561: I tensorflow/core/common_runtime/bfc_allocator.cc:1083] InUse at 7f8631f16200 of size 9216 next 940\n",
      "2022-07-11 16:19:46.562564: I tensorflow/core/common_runtime/bfc_allocator.cc:1083] InUse at 7f8631f18600 of size 9216 next 942\n",
      "2022-07-11 16:19:46.562568: I tensorflow/core/common_runtime/bfc_allocator.cc:1083] InUse at 7f8631f1aa00 of size 9216 next 943\n",
      "2022-07-11 16:19:46.562572: I tensorflow/core/common_runtime/bfc_allocator.cc:1083] InUse at 7f8631f1ce00 of size 9216 next 944\n",
      "2022-07-11 16:19:46.562576: I tensorflow/core/common_runtime/bfc_allocator.cc:1083] InUse at 7f8631f1f200 of size 9216 next 945\n",
      "2022-07-11 16:19:46.562580: I tensorflow/core/common_runtime/bfc_allocator.cc:1083] InUse at 7f8631f21600 of size 11776 next 925\n",
      "2022-07-11 16:19:46.562583: I tensorflow/core/common_runtime/bfc_allocator.cc:1083] InUse at 7f8631f24400 of size 82944 next 926\n",
      "2022-07-11 16:19:46.562589: I tensorflow/core/common_runtime/bfc_allocator.cc:1083] InUse at 7f8631f38800 of size 9216 next 948\n",
      "2022-07-11 16:19:46.562592: I tensorflow/core/common_runtime/bfc_allocator.cc:1083] InUse at 7f8631f3ac00 of size 9216 next 949\n",
      "2022-07-11 16:19:46.562596: I tensorflow/core/common_runtime/bfc_allocator.cc:1083] InUse at 7f8631f3d000 of size 512 next 939\n",
      "2022-07-11 16:19:46.562600: I tensorflow/core/common_runtime/bfc_allocator.cc:1083] InUse at 7f8631f3d200 of size 9216 next 951\n",
      "2022-07-11 16:19:46.562604: I tensorflow/core/common_runtime/bfc_allocator.cc:1083] InUse at 7f8631f3f600 of size 1536 next 950\n",
      "2022-07-11 16:19:46.562607: I tensorflow/core/common_runtime/bfc_allocator.cc:1083] InUse at 7f8631f3fc00 of size 1536 next 953\n",
      "2022-07-11 16:19:46.562611: I tensorflow/core/common_runtime/bfc_allocator.cc:1083] InUse at 7f8631f40200 of size 1536 next 956\n",
      "2022-07-11 16:19:46.562615: I tensorflow/core/common_runtime/bfc_allocator.cc:1083] InUse at 7f8631f40800 of size 1536 next 957\n",
      "2022-07-11 16:19:46.562619: I tensorflow/core/common_runtime/bfc_allocator.cc:1083] InUse at 7f8631f40e00 of size 9216 next 959\n",
      "2022-07-11 16:19:46.562623: I tensorflow/core/common_runtime/bfc_allocator.cc:1083] InUse at 7f8631f43200 of size 9216 next 961\n",
      "2022-07-11 16:19:46.562626: I tensorflow/core/common_runtime/bfc_allocator.cc:1083] InUse at 7f8631f45600 of size 9216 next 962\n",
      "2022-07-11 16:19:46.562630: I tensorflow/core/common_runtime/bfc_allocator.cc:1083] InUse at 7f8631f47a00 of size 9216 next 963\n",
      "2022-07-11 16:19:46.562634: I tensorflow/core/common_runtime/bfc_allocator.cc:1083] InUse at 7f8631f49e00 of size 94720 next 947\n",
      "2022-07-11 16:19:46.562638: I tensorflow/core/common_runtime/bfc_allocator.cc:1083] InUse at 7f8631f61000 of size 9216 next 966\n",
      "2022-07-11 16:19:46.562642: I tensorflow/core/common_runtime/bfc_allocator.cc:1083] InUse at 7f8631f63400 of size 9216 next 967\n",
      "2022-07-11 16:19:46.562646: I tensorflow/core/common_runtime/bfc_allocator.cc:1083] InUse at 7f8631f65800 of size 9216 next 968\n",
      "2022-07-11 16:19:46.562650: I tensorflow/core/common_runtime/bfc_allocator.cc:1083] InUse at 7f8631f67c00 of size 512 next 958\n",
      "2022-07-11 16:19:46.562654: I tensorflow/core/common_runtime/bfc_allocator.cc:1083] InUse at 7f8631f67e00 of size 9216 next 971\n",
      "2022-07-11 16:19:46.562657: I tensorflow/core/common_runtime/bfc_allocator.cc:1083] InUse at 7f8631f6a200 of size 1536 next 969\n",
      "2022-07-11 16:19:46.562661: I tensorflow/core/common_runtime/bfc_allocator.cc:1083] InUse at 7f8631f6a800 of size 1536 next 973\n",
      "2022-07-11 16:19:46.562665: I tensorflow/core/common_runtime/bfc_allocator.cc:1083] InUse at 7f8631f6ae00 of size 1536 next 975\n",
      "2022-07-11 16:19:46.562669: I tensorflow/core/common_runtime/bfc_allocator.cc:1083] InUse at 7f8631f6b400 of size 1536 next 976\n",
      "2022-07-11 16:19:46.562673: I tensorflow/core/common_runtime/bfc_allocator.cc:1083] InUse at 7f8631f6ba00 of size 9216 next 978\n",
      "2022-07-11 16:19:46.562677: I tensorflow/core/common_runtime/bfc_allocator.cc:1083] InUse at 7f8631f6de00 of size 9216 next 980\n",
      "2022-07-11 16:19:46.562681: I tensorflow/core/common_runtime/bfc_allocator.cc:1083] InUse at 7f8631f70200 of size 9216 next 981\n",
      "2022-07-11 16:19:46.562685: I tensorflow/core/common_runtime/bfc_allocator.cc:1083] InUse at 7f8631f72600 of size 94720 next 965\n",
      "2022-07-11 16:19:46.562688: I tensorflow/core/common_runtime/bfc_allocator.cc:1083] InUse at 7f8631f89800 of size 9216 next 985\n",
      "2022-07-11 16:19:46.562692: I tensorflow/core/common_runtime/bfc_allocator.cc:1083] InUse at 7f8631f8bc00 of size 9216 next 986\n",
      "2022-07-11 16:19:46.562696: I tensorflow/core/common_runtime/bfc_allocator.cc:1083] InUse at 7f8631f8e000 of size 9216 next 987\n",
      "2022-07-11 16:19:46.562700: I tensorflow/core/common_runtime/bfc_allocator.cc:1083] InUse at 7f8631f90400 of size 512 next 977\n",
      "2022-07-11 16:19:46.562704: I tensorflow/core/common_runtime/bfc_allocator.cc:1083] InUse at 7f8631f90600 of size 9216 next 989\n",
      "2022-07-11 16:19:46.562707: I tensorflow/core/common_runtime/bfc_allocator.cc:1083] InUse at 7f8631f92a00 of size 1536 next 988\n",
      "2022-07-11 16:19:46.562711: I tensorflow/core/common_runtime/bfc_allocator.cc:1083] InUse at 7f8631f93000 of size 1536 next 991\n",
      "2022-07-11 16:19:46.562715: I tensorflow/core/common_runtime/bfc_allocator.cc:1083] InUse at 7f8631f93600 of size 1536 next 994\n",
      "2022-07-11 16:19:46.562719: I tensorflow/core/common_runtime/bfc_allocator.cc:1083] InUse at 7f8631f93c00 of size 1536 next 995\n",
      "2022-07-11 16:19:46.562723: I tensorflow/core/common_runtime/bfc_allocator.cc:1083] InUse at 7f8631f94200 of size 9216 next 997\n",
      "2022-07-11 16:19:46.562726: I tensorflow/core/common_runtime/bfc_allocator.cc:1083] InUse at 7f8631f96600 of size 9216 next 999\n",
      "2022-07-11 16:19:46.562730: I tensorflow/core/common_runtime/bfc_allocator.cc:1083] InUse at 7f8631f98a00 of size 9216 next 1000\n",
      "2022-07-11 16:19:46.562734: I tensorflow/core/common_runtime/bfc_allocator.cc:1083] InUse at 7f8631f9ae00 of size 94720 next 984\n",
      "2022-07-11 16:19:46.562738: I tensorflow/core/common_runtime/bfc_allocator.cc:1083] InUse at 7f8631fb2000 of size 9216 next 1003\n",
      "2022-07-11 16:19:46.562742: I tensorflow/core/common_runtime/bfc_allocator.cc:1083] InUse at 7f8631fb4400 of size 9216 next 1004\n",
      "2022-07-11 16:19:46.562746: I tensorflow/core/common_runtime/bfc_allocator.cc:1083] InUse at 7f8631fb6800 of size 9216 next 1005\n",
      "2022-07-11 16:19:46.562750: I tensorflow/core/common_runtime/bfc_allocator.cc:1083] InUse at 7f8631fb8c00 of size 512 next 996\n",
      "2022-07-11 16:19:46.562754: I tensorflow/core/common_runtime/bfc_allocator.cc:1083] InUse at 7f8631fb8e00 of size 9216 next 1008\n",
      "2022-07-11 16:19:46.562758: I tensorflow/core/common_runtime/bfc_allocator.cc:1083] InUse at 7f8631fbb200 of size 1536 next 1006\n",
      "2022-07-11 16:19:46.562762: I tensorflow/core/common_runtime/bfc_allocator.cc:1083] InUse at 7f8631fbb800 of size 1536 next 1010\n",
      "2022-07-11 16:19:46.562766: I tensorflow/core/common_runtime/bfc_allocator.cc:1083] InUse at 7f8631fbbe00 of size 1536 next 1012\n",
      "2022-07-11 16:19:46.562770: I tensorflow/core/common_runtime/bfc_allocator.cc:1083] InUse at 7f8631fbc400 of size 1536 next 1013\n",
      "2022-07-11 16:19:46.562774: I tensorflow/core/common_runtime/bfc_allocator.cc:1083] InUse at 7f8631fbca00 of size 9216 next 1015\n",
      "2022-07-11 16:19:46.562778: I tensorflow/core/common_runtime/bfc_allocator.cc:1083] InUse at 7f8631fbee00 of size 9216 next 1017\n",
      "2022-07-11 16:19:46.562782: I tensorflow/core/common_runtime/bfc_allocator.cc:1083] InUse at 7f8631fc1200 of size 9216 next 1018\n",
      "2022-07-11 16:19:46.562786: I tensorflow/core/common_runtime/bfc_allocator.cc:1083] InUse at 7f8631fc3600 of size 150016 next 770\n",
      "2022-07-11 16:19:46.562790: I tensorflow/core/common_runtime/bfc_allocator.cc:1083] InUse at 7f8631fe8000 of size 3538944 next 771\n",
      "2022-07-11 16:19:46.562794: I tensorflow/core/common_runtime/bfc_allocator.cc:1083] InUse at 7f8632348000 of size 884736 next 819\n",
      "2022-07-11 16:19:46.562798: I tensorflow/core/common_runtime/bfc_allocator.cc:1083] InUse at 7f8632420000 of size 9216 next 1022\n",
      "2022-07-11 16:19:46.562802: I tensorflow/core/common_runtime/bfc_allocator.cc:1083] InUse at 7f8632422400 of size 9216 next 1023\n",
      "2022-07-11 16:19:46.562806: I tensorflow/core/common_runtime/bfc_allocator.cc:1083] InUse at 7f8632424800 of size 9216 next 1024\n",
      "2022-07-11 16:19:46.562810: I tensorflow/core/common_runtime/bfc_allocator.cc:1083] InUse at 7f8632426c00 of size 512 next 1002\n",
      "2022-07-11 16:19:46.562813: I tensorflow/core/common_runtime/bfc_allocator.cc:1083] InUse at 7f8632426e00 of size 9216 next 1027\n",
      "2022-07-11 16:19:46.562817: I tensorflow/core/common_runtime/bfc_allocator.cc:1083] InUse at 7f8632429200 of size 1536 next 1025\n",
      "2022-07-11 16:19:46.562821: I tensorflow/core/common_runtime/bfc_allocator.cc:1083] InUse at 7f8632429800 of size 1536 next 1029\n",
      "2022-07-11 16:19:46.562825: I tensorflow/core/common_runtime/bfc_allocator.cc:1083] InUse at 7f8632429e00 of size 1536 next 1032\n",
      "2022-07-11 16:19:46.562829: I tensorflow/core/common_runtime/bfc_allocator.cc:1083] InUse at 7f863242a400 of size 1536 next 1033\n",
      "2022-07-11 16:19:46.562833: I tensorflow/core/common_runtime/bfc_allocator.cc:1083] InUse at 7f863242aa00 of size 9216 next 1035\n",
      "2022-07-11 16:19:46.562837: I tensorflow/core/common_runtime/bfc_allocator.cc:1083] InUse at 7f863242ce00 of size 9216 next 1037\n",
      "2022-07-11 16:19:46.562840: I tensorflow/core/common_runtime/bfc_allocator.cc:1083] InUse at 7f863242f200 of size 9216 next 1038\n",
      "2022-07-11 16:19:46.562844: I tensorflow/core/common_runtime/bfc_allocator.cc:1083] InUse at 7f8632431600 of size 9216 next 1020\n",
      "2022-07-11 16:19:46.562848: I tensorflow/core/common_runtime/bfc_allocator.cc:1083] InUse at 7f8632433a00 of size 85504 next 1021\n",
      "2022-07-11 16:19:46.562852: I tensorflow/core/common_runtime/bfc_allocator.cc:1083] InUse at 7f8632448800 of size 9216 next 1042\n",
      "2022-07-11 16:19:46.562856: I tensorflow/core/common_runtime/bfc_allocator.cc:1083] InUse at 7f863244ac00 of size 9216 next 1043\n",
      "2022-07-11 16:19:46.562860: I tensorflow/core/common_runtime/bfc_allocator.cc:1083] InUse at 7f863244d000 of size 9216 next 1044\n",
      "2022-07-11 16:19:46.562864: I tensorflow/core/common_runtime/bfc_allocator.cc:1083] InUse at 7f863244f400 of size 512 next 1034\n",
      "2022-07-11 16:19:46.562868: I tensorflow/core/common_runtime/bfc_allocator.cc:1083] InUse at 7f863244f600 of size 9216 next 1047\n",
      "2022-07-11 16:19:46.562872: I tensorflow/core/common_runtime/bfc_allocator.cc:1083] InUse at 7f8632451a00 of size 1536 next 1045\n",
      "2022-07-11 16:19:46.562875: I tensorflow/core/common_runtime/bfc_allocator.cc:1083] InUse at 7f8632452000 of size 1536 next 1048\n",
      "2022-07-11 16:19:46.562879: I tensorflow/core/common_runtime/bfc_allocator.cc:1083] InUse at 7f8632452600 of size 1536 next 1050\n",
      "2022-07-11 16:19:46.562883: I tensorflow/core/common_runtime/bfc_allocator.cc:1083] InUse at 7f8632452c00 of size 1536 next 1051\n",
      "2022-07-11 16:19:46.562887: I tensorflow/core/common_runtime/bfc_allocator.cc:1083] InUse at 7f8632453200 of size 9216 next 1053\n",
      "2022-07-11 16:19:46.562891: I tensorflow/core/common_runtime/bfc_allocator.cc:1083] InUse at 7f8632455600 of size 9216 next 1055\n",
      "2022-07-11 16:19:46.562894: I tensorflow/core/common_runtime/bfc_allocator.cc:1083] InUse at 7f8632457a00 of size 9216 next 1056\n",
      "2022-07-11 16:19:46.562898: I tensorflow/core/common_runtime/bfc_allocator.cc:1083] InUse at 7f8632459e00 of size 9216 next 1040\n",
      "2022-07-11 16:19:46.562902: I tensorflow/core/common_runtime/bfc_allocator.cc:1083] InUse at 7f863245c200 of size 85504 next 1041\n",
      "2022-07-11 16:19:46.562906: I tensorflow/core/common_runtime/bfc_allocator.cc:1083] InUse at 7f8632471000 of size 9216 next 1060\n",
      "2022-07-11 16:19:46.562910: I tensorflow/core/common_runtime/bfc_allocator.cc:1083] InUse at 7f8632473400 of size 9216 next 1061\n",
      "2022-07-11 16:19:46.562914: I tensorflow/core/common_runtime/bfc_allocator.cc:1083] InUse at 7f8632475800 of size 9216 next 1062\n",
      "2022-07-11 16:19:46.562917: I tensorflow/core/common_runtime/bfc_allocator.cc:1083] InUse at 7f8632477c00 of size 512 next 1052\n",
      "2022-07-11 16:19:46.562921: I tensorflow/core/common_runtime/bfc_allocator.cc:1083] InUse at 7f8632477e00 of size 9216 next 1065\n",
      "2022-07-11 16:19:46.562925: I tensorflow/core/common_runtime/bfc_allocator.cc:1083] InUse at 7f863247a200 of size 1536 next 1063\n",
      "2022-07-11 16:19:46.562929: I tensorflow/core/common_runtime/bfc_allocator.cc:1083] InUse at 7f863247a800 of size 1536 next 1067\n",
      "2022-07-11 16:19:46.562933: I tensorflow/core/common_runtime/bfc_allocator.cc:1083] InUse at 7f863247ae00 of size 1536 next 1070\n",
      "2022-07-11 16:19:46.562937: I tensorflow/core/common_runtime/bfc_allocator.cc:1083] InUse at 7f863247b400 of size 1536 next 1071\n",
      "2022-07-11 16:19:46.562941: I tensorflow/core/common_runtime/bfc_allocator.cc:1083] InUse at 7f863247ba00 of size 9216 next 1073\n",
      "2022-07-11 16:19:46.562944: I tensorflow/core/common_runtime/bfc_allocator.cc:1083] InUse at 7f863247de00 of size 9216 next 1075\n",
      "2022-07-11 16:19:46.562948: I tensorflow/core/common_runtime/bfc_allocator.cc:1083] InUse at 7f8632480200 of size 9216 next 1076\n",
      "2022-07-11 16:19:46.562952: I tensorflow/core/common_runtime/bfc_allocator.cc:1083] InUse at 7f8632482600 of size 9216 next 1058\n",
      "2022-07-11 16:19:46.562956: I tensorflow/core/common_runtime/bfc_allocator.cc:1083] InUse at 7f8632484a00 of size 85504 next 1059\n",
      "2022-07-11 16:19:46.562960: I tensorflow/core/common_runtime/bfc_allocator.cc:1083] InUse at 7f8632499800 of size 9216 next 1080\n",
      "2022-07-11 16:19:46.562964: I tensorflow/core/common_runtime/bfc_allocator.cc:1083] InUse at 7f863249bc00 of size 9216 next 1081\n",
      "2022-07-11 16:19:46.562968: I tensorflow/core/common_runtime/bfc_allocator.cc:1083] InUse at 7f863249e000 of size 9216 next 1082\n",
      "2022-07-11 16:19:46.562972: I tensorflow/core/common_runtime/bfc_allocator.cc:1083] InUse at 7f86324a0400 of size 512 next 1072\n",
      "2022-07-11 16:19:46.562976: I tensorflow/core/common_runtime/bfc_allocator.cc:1083] InUse at 7f86324a0600 of size 9216 next 1085\n",
      "2022-07-11 16:19:46.562980: I tensorflow/core/common_runtime/bfc_allocator.cc:1083] InUse at 7f86324a2a00 of size 1536 next 1083\n",
      "2022-07-11 16:19:46.562984: I tensorflow/core/common_runtime/bfc_allocator.cc:1083] InUse at 7f86324a3000 of size 1536 next 1086\n",
      "2022-07-11 16:19:46.562987: I tensorflow/core/common_runtime/bfc_allocator.cc:1083] InUse at 7f86324a3600 of size 1536 next 1088\n",
      "2022-07-11 16:19:46.562991: I tensorflow/core/common_runtime/bfc_allocator.cc:1083] InUse at 7f86324a3c00 of size 1536 next 1089\n",
      "2022-07-11 16:19:46.562995: I tensorflow/core/common_runtime/bfc_allocator.cc:1083] InUse at 7f86324a4200 of size 9216 next 1091\n",
      "2022-07-11 16:19:46.562999: I tensorflow/core/common_runtime/bfc_allocator.cc:1083] InUse at 7f86324a6600 of size 9216 next 1093\n",
      "2022-07-11 16:19:46.563003: I tensorflow/core/common_runtime/bfc_allocator.cc:1083] InUse at 7f86324a8a00 of size 9216 next 1094\n",
      "2022-07-11 16:19:46.563007: I tensorflow/core/common_runtime/bfc_allocator.cc:1083] InUse at 7f86324aae00 of size 9216 next 1078\n",
      "2022-07-11 16:19:46.563010: I tensorflow/core/common_runtime/bfc_allocator.cc:1083] InUse at 7f86324ad200 of size 85504 next 1079\n",
      "2022-07-11 16:19:46.563014: I tensorflow/core/common_runtime/bfc_allocator.cc:1083] InUse at 7f86324c2000 of size 9216 next 1097\n",
      "2022-07-11 16:19:46.563018: I tensorflow/core/common_runtime/bfc_allocator.cc:1083] InUse at 7f86324c4400 of size 9216 next 1098\n",
      "2022-07-11 16:19:46.563022: I tensorflow/core/common_runtime/bfc_allocator.cc:1083] InUse at 7f86324c6800 of size 9216 next 1099\n",
      "2022-07-11 16:19:46.563026: I tensorflow/core/common_runtime/bfc_allocator.cc:1083] InUse at 7f86324c8c00 of size 512 next 1090\n",
      "2022-07-11 16:19:46.563029: I tensorflow/core/common_runtime/bfc_allocator.cc:1083] InUse at 7f86324c8e00 of size 9216 next 1102\n",
      "2022-07-11 16:19:46.563033: I tensorflow/core/common_runtime/bfc_allocator.cc:1083] InUse at 7f86324cb200 of size 1536 next 1100\n",
      "2022-07-11 16:19:46.563037: I tensorflow/core/common_runtime/bfc_allocator.cc:1083] InUse at 7f86324cb800 of size 1536 next 1104\n",
      "2022-07-11 16:19:46.563041: I tensorflow/core/common_runtime/bfc_allocator.cc:1083] InUse at 7f86324cbe00 of size 1536 next 1107\n",
      "2022-07-11 16:19:46.563045: I tensorflow/core/common_runtime/bfc_allocator.cc:1083] InUse at 7f86324cc400 of size 1536 next 1108\n",
      "2022-07-11 16:19:46.563049: I tensorflow/core/common_runtime/bfc_allocator.cc:1083] InUse at 7f86324cca00 of size 9216 next 1110\n",
      "2022-07-11 16:19:46.563053: I tensorflow/core/common_runtime/bfc_allocator.cc:1083] InUse at 7f86324cee00 of size 9216 next 1112\n",
      "2022-07-11 16:19:46.563057: I tensorflow/core/common_runtime/bfc_allocator.cc:1083] InUse at 7f86324d1200 of size 9216 next 1113\n",
      "2022-07-11 16:19:46.563060: I tensorflow/core/common_runtime/bfc_allocator.cc:1083] InUse at 7f86324d3600 of size 9216 next 1096\n",
      "2022-07-11 16:19:46.563064: I tensorflow/core/common_runtime/bfc_allocator.cc:1083] InUse at 7f86324d5a00 of size 140800 next 837\n",
      "2022-07-11 16:19:46.563068: I tensorflow/core/common_runtime/bfc_allocator.cc:1083] InUse at 7f86324f8000 of size 884736 next 838\n",
      "2022-07-11 16:19:46.563072: I tensorflow/core/common_runtime/bfc_allocator.cc:1083] InUse at 7f86325d0000 of size 884736 next 784\n",
      "2022-07-11 16:19:46.563076: I tensorflow/core/common_runtime/bfc_allocator.cc:1083] InUse at 7f86326a8000 of size 3538944 next 785\n",
      "2022-07-11 16:19:46.563080: I tensorflow/core/common_runtime/bfc_allocator.cc:1083] InUse at 7f8632a08000 of size 3538944 next 790\n",
      "2022-07-11 16:19:46.563084: I tensorflow/core/common_runtime/bfc_allocator.cc:1083] InUse at 7f8632d68000 of size 3538944 next 803\n",
      "2022-07-11 16:19:46.563088: I tensorflow/core/common_runtime/bfc_allocator.cc:1083] InUse at 7f86330c8000 of size 3538944 next 808\n",
      "2022-07-11 16:19:46.563092: I tensorflow/core/common_runtime/bfc_allocator.cc:1083] InUse at 7f8633428000 of size 884736 next 856\n",
      "2022-07-11 16:19:46.563096: I tensorflow/core/common_runtime/bfc_allocator.cc:1083] InUse at 7f8633500000 of size 884736 next 858\n",
      "2022-07-11 16:19:46.563100: I tensorflow/core/common_runtime/bfc_allocator.cc:1083] InUse at 7f86335d8000 of size 884736 next 876\n",
      "2022-07-11 16:19:46.563104: I tensorflow/core/common_runtime/bfc_allocator.cc:1083] InUse at 7f86336b0000 of size 884736 next 821\n",
      "2022-07-11 16:19:46.563108: I tensorflow/core/common_runtime/bfc_allocator.cc:1083] InUse at 7f8633788000 of size 3538944 next 822\n",
      "2022-07-11 16:19:46.563112: I tensorflow/core/common_runtime/bfc_allocator.cc:1083] InUse at 7f8633ae8000 of size 3538944 next 827\n",
      "2022-07-11 16:19:46.563116: I tensorflow/core/common_runtime/bfc_allocator.cc:1083] InUse at 7f8633e48000 of size 3538944 next 841\n",
      "2022-07-11 16:19:46.563120: I tensorflow/core/common_runtime/bfc_allocator.cc:1083] InUse at 7f86341a8000 of size 3538944 next 846\n",
      "2022-07-11 16:19:46.563124: I tensorflow/core/common_runtime/bfc_allocator.cc:1083] InUse at 7f8634508000 of size 884736 next 893\n",
      "2022-07-11 16:19:46.563127: I tensorflow/core/common_runtime/bfc_allocator.cc:1083] InUse at 7f86345e0000 of size 884736 next 895\n",
      "2022-07-11 16:19:46.563131: I tensorflow/core/common_runtime/bfc_allocator.cc:1083] InUse at 7f86346b8000 of size 884736 next 912\n",
      "2022-07-11 16:19:46.563135: I tensorflow/core/common_runtime/bfc_allocator.cc:1083] InUse at 7f8634790000 of size 884736 next 860\n",
      "2022-07-11 16:19:46.563139: I tensorflow/core/common_runtime/bfc_allocator.cc:1083] InUse at 7f8634868000 of size 3538944 next 861\n",
      "2022-07-11 16:19:46.563143: I tensorflow/core/common_runtime/bfc_allocator.cc:1083] InUse at 7f8634bc8000 of size 3538944 next 866\n",
      "2022-07-11 16:19:46.563147: I tensorflow/core/common_runtime/bfc_allocator.cc:1083] InUse at 7f8634f28000 of size 3538944 next 878\n",
      "2022-07-11 16:19:46.563151: I tensorflow/core/common_runtime/bfc_allocator.cc:1083] InUse at 7f8635288000 of size 3538944 next 883\n",
      "2022-07-11 16:19:46.563155: I tensorflow/core/common_runtime/bfc_allocator.cc:1083] InUse at 7f86355e8000 of size 9216 next 1134\n",
      "2022-07-11 16:19:46.563159: I tensorflow/core/common_runtime/bfc_allocator.cc:1083] InUse at 7f86355ea400 of size 9216 next 1153\n",
      "2022-07-11 16:19:46.563163: I tensorflow/core/common_runtime/bfc_allocator.cc:1083] InUse at 7f86355ec800 of size 9216 next 1172\n",
      "2022-07-11 16:19:46.563167: I tensorflow/core/common_runtime/bfc_allocator.cc:1083] InUse at 7f86355eec00 of size 9216 next 1191\n",
      "2022-07-11 16:19:46.563171: I tensorflow/core/common_runtime/bfc_allocator.cc:1083] InUse at 7f86355f1000 of size 9216 next 1193\n",
      "2022-07-11 16:19:46.563174: I tensorflow/core/common_runtime/bfc_allocator.cc:1083] InUse at 7f86355f3400 of size 9216 next 1194\n",
      "2022-07-11 16:19:46.563178: I tensorflow/core/common_runtime/bfc_allocator.cc:1083] InUse at 7f86355f5800 of size 9216 next 1195\n",
      "2022-07-11 16:19:46.563182: I tensorflow/core/common_runtime/bfc_allocator.cc:1083] InUse at 7f86355f7c00 of size 512 next 1186\n",
      "2022-07-11 16:19:46.563186: I tensorflow/core/common_runtime/bfc_allocator.cc:1083] InUse at 7f86355f7e00 of size 9216 next 1198\n",
      "2022-07-11 16:19:46.563190: I tensorflow/core/common_runtime/bfc_allocator.cc:1083] InUse at 7f86355fa200 of size 1536 next 1196\n",
      "2022-07-11 16:19:46.563194: I tensorflow/core/common_runtime/bfc_allocator.cc:1083] InUse at 7f86355fa800 of size 1536 next 1200\n",
      "2022-07-11 16:19:46.563197: I tensorflow/core/common_runtime/bfc_allocator.cc:1083] InUse at 7f86355fae00 of size 1536 next 1203\n",
      "2022-07-11 16:19:46.563201: I tensorflow/core/common_runtime/bfc_allocator.cc:1083] InUse at 7f86355fb400 of size 1536 next 1204\n",
      "2022-07-11 16:19:46.563205: I tensorflow/core/common_runtime/bfc_allocator.cc:1083] InUse at 7f86355fba00 of size 9216 next 1206\n",
      "2022-07-11 16:19:46.563209: I tensorflow/core/common_runtime/bfc_allocator.cc:1083] InUse at 7f86355fde00 of size 9216 next 1208\n",
      "2022-07-11 16:19:46.563213: I tensorflow/core/common_runtime/bfc_allocator.cc:1083] InUse at 7f8635600200 of size 9216 next 1209\n",
      "2022-07-11 16:19:46.563217: I tensorflow/core/common_runtime/bfc_allocator.cc:1083] InUse at 7f8635602600 of size 9216 next 1210\n",
      "2022-07-11 16:19:46.563220: I tensorflow/core/common_runtime/bfc_allocator.cc:1083] InUse at 7f8635604a00 of size 9216 next 1211\n",
      "2022-07-11 16:19:46.563224: I tensorflow/core/common_runtime/bfc_allocator.cc:1083] InUse at 7f8635606e00 of size 9216 next 1214\n",
      "2022-07-11 16:19:46.563228: I tensorflow/core/common_runtime/bfc_allocator.cc:1083] InUse at 7f8635609200 of size 9216 next 1215\n",
      "2022-07-11 16:19:46.563232: I tensorflow/core/common_runtime/bfc_allocator.cc:1083] InUse at 7f863560b600 of size 9216 next 1216\n",
      "2022-07-11 16:19:46.563236: I tensorflow/core/common_runtime/bfc_allocator.cc:1083] InUse at 7f863560da00 of size 512 next 1205\n",
      "2022-07-11 16:19:46.563240: I tensorflow/core/common_runtime/bfc_allocator.cc:1083] InUse at 7f863560dc00 of size 11264 next 1116\n",
      "2022-07-11 16:19:46.563244: I tensorflow/core/common_runtime/bfc_allocator.cc:1083] InUse at 7f8635610800 of size 82944 next 1117\n",
      "2022-07-11 16:19:46.563248: I tensorflow/core/common_runtime/bfc_allocator.cc:1083] InUse at 7f8635624c00 of size 9216 next 1137\n",
      "2022-07-11 16:19:46.563252: I tensorflow/core/common_runtime/bfc_allocator.cc:1083] InUse at 7f8635627000 of size 9216 next 1138\n",
      "2022-07-11 16:19:46.563256: I tensorflow/core/common_runtime/bfc_allocator.cc:1083] InUse at 7f8635629400 of size 9216 next 1139\n",
      "2022-07-11 16:19:46.563260: I tensorflow/core/common_runtime/bfc_allocator.cc:1083] InUse at 7f863562b800 of size 512 next 1129\n",
      "2022-07-11 16:19:46.563263: I tensorflow/core/common_runtime/bfc_allocator.cc:1083] InUse at 7f863562ba00 of size 9216 next 1142\n",
      "2022-07-11 16:19:46.563267: I tensorflow/core/common_runtime/bfc_allocator.cc:1083] InUse at 7f863562de00 of size 1536 next 1140\n",
      "2022-07-11 16:19:46.563271: I tensorflow/core/common_runtime/bfc_allocator.cc:1083] InUse at 7f863562e400 of size 1536 next 1144\n",
      "2022-07-11 16:19:46.563275: I tensorflow/core/common_runtime/bfc_allocator.cc:1083] InUse at 7f863562ea00 of size 1536 next 1146\n",
      "2022-07-11 16:19:46.563279: I tensorflow/core/common_runtime/bfc_allocator.cc:1083] InUse at 7f863562f000 of size 1536 next 1147\n",
      "2022-07-11 16:19:46.563282: I tensorflow/core/common_runtime/bfc_allocator.cc:1083] InUse at 7f863562f600 of size 9216 next 1149\n",
      "2022-07-11 16:19:46.563286: I tensorflow/core/common_runtime/bfc_allocator.cc:1083] InUse at 7f8635631a00 of size 9216 next 1151\n",
      "2022-07-11 16:19:46.563290: I tensorflow/core/common_runtime/bfc_allocator.cc:1083] InUse at 7f8635633e00 of size 9216 next 1152\n",
      "2022-07-11 16:19:46.563294: I tensorflow/core/common_runtime/bfc_allocator.cc:1083] InUse at 7f8635636200 of size 9216 next 1135\n",
      "2022-07-11 16:19:46.563298: I tensorflow/core/common_runtime/bfc_allocator.cc:1083] InUse at 7f8635638600 of size 85504 next 1136\n",
      "2022-07-11 16:19:46.563302: I tensorflow/core/common_runtime/bfc_allocator.cc:1083] InUse at 7f863564d400 of size 9216 next 1156\n",
      "2022-07-11 16:19:46.563306: I tensorflow/core/common_runtime/bfc_allocator.cc:1083] InUse at 7f863564f800 of size 9216 next 1157\n",
      "2022-07-11 16:19:46.563309: I tensorflow/core/common_runtime/bfc_allocator.cc:1083] InUse at 7f8635651c00 of size 9216 next 1158\n",
      "2022-07-11 16:19:46.563313: I tensorflow/core/common_runtime/bfc_allocator.cc:1083] InUse at 7f8635654000 of size 512 next 1148\n",
      "2022-07-11 16:19:46.563317: I tensorflow/core/common_runtime/bfc_allocator.cc:1083] InUse at 7f8635654200 of size 9216 next 1160\n",
      "2022-07-11 16:19:46.563321: I tensorflow/core/common_runtime/bfc_allocator.cc:1083] InUse at 7f8635656600 of size 1536 next 1159\n",
      "2022-07-11 16:19:46.563325: I tensorflow/core/common_runtime/bfc_allocator.cc:1083] InUse at 7f8635656c00 of size 1536 next 1162\n",
      "2022-07-11 16:19:46.563328: I tensorflow/core/common_runtime/bfc_allocator.cc:1083] InUse at 7f8635657200 of size 1536 next 1165\n",
      "2022-07-11 16:19:46.563332: I tensorflow/core/common_runtime/bfc_allocator.cc:1083] InUse at 7f8635657800 of size 1536 next 1166\n",
      "2022-07-11 16:19:46.563336: I tensorflow/core/common_runtime/bfc_allocator.cc:1083] InUse at 7f8635657e00 of size 9216 next 1168\n",
      "2022-07-11 16:19:46.563340: I tensorflow/core/common_runtime/bfc_allocator.cc:1083] InUse at 7f863565a200 of size 9216 next 1170\n",
      "2022-07-11 16:19:46.563344: I tensorflow/core/common_runtime/bfc_allocator.cc:1083] InUse at 7f863565c600 of size 9216 next 1171\n",
      "2022-07-11 16:19:46.563348: I tensorflow/core/common_runtime/bfc_allocator.cc:1083] InUse at 7f863565ea00 of size 9216 next 1154\n",
      "2022-07-11 16:19:46.563352: I tensorflow/core/common_runtime/bfc_allocator.cc:1083] InUse at 7f8635660e00 of size 85504 next 1155\n",
      "2022-07-11 16:19:46.563355: I tensorflow/core/common_runtime/bfc_allocator.cc:1083] InUse at 7f8635675c00 of size 9216 next 1175\n",
      "2022-07-11 16:19:46.563359: I tensorflow/core/common_runtime/bfc_allocator.cc:1083] InUse at 7f8635678000 of size 9216 next 1176\n",
      "2022-07-11 16:19:46.563363: I tensorflow/core/common_runtime/bfc_allocator.cc:1083] InUse at 7f863567a400 of size 9216 next 1177\n",
      "2022-07-11 16:19:46.563367: I tensorflow/core/common_runtime/bfc_allocator.cc:1083] InUse at 7f863567c800 of size 512 next 1167\n",
      "2022-07-11 16:19:46.563371: I tensorflow/core/common_runtime/bfc_allocator.cc:1083] InUse at 7f863567ca00 of size 9216 next 1180\n",
      "2022-07-11 16:19:46.563375: I tensorflow/core/common_runtime/bfc_allocator.cc:1083] InUse at 7f863567ee00 of size 1536 next 1178\n",
      "2022-07-11 16:19:46.563378: I tensorflow/core/common_runtime/bfc_allocator.cc:1083] InUse at 7f863567f400 of size 1536 next 1182\n",
      "2022-07-11 16:19:46.563382: I tensorflow/core/common_runtime/bfc_allocator.cc:1083] InUse at 7f863567fa00 of size 1536 next 1184\n",
      "2022-07-11 16:19:46.563386: I tensorflow/core/common_runtime/bfc_allocator.cc:1083] InUse at 7f8635680000 of size 1536 next 1185\n",
      "2022-07-11 16:19:46.563390: I tensorflow/core/common_runtime/bfc_allocator.cc:1083] InUse at 7f8635680600 of size 9216 next 1187\n",
      "2022-07-11 16:19:46.563394: I tensorflow/core/common_runtime/bfc_allocator.cc:1083] InUse at 7f8635682a00 of size 9216 next 1189\n",
      "2022-07-11 16:19:46.563398: I tensorflow/core/common_runtime/bfc_allocator.cc:1083] InUse at 7f8635684e00 of size 9216 next 1190\n",
      "2022-07-11 16:19:46.563401: I tensorflow/core/common_runtime/bfc_allocator.cc:1083] InUse at 7f8635687200 of size 9216 next 1173\n",
      "2022-07-11 16:19:46.563405: I tensorflow/core/common_runtime/bfc_allocator.cc:1083] InUse at 7f8635689600 of size 85504 next 1174\n",
      "2022-07-11 16:19:46.563409: I tensorflow/core/common_runtime/bfc_allocator.cc:1083] InUse at 7f863569e400 of size 15360 next 1251\n",
      "2022-07-11 16:19:46.563413: I tensorflow/core/common_runtime/bfc_allocator.cc:1083] InUse at 7f86356a2000 of size 15360 next 1252\n",
      "2022-07-11 16:19:46.563417: I tensorflow/core/common_runtime/bfc_allocator.cc:1083] InUse at 7f86356a5c00 of size 15360 next 1254\n",
      "2022-07-11 16:19:46.563421: I tensorflow/core/common_runtime/bfc_allocator.cc:1083] InUse at 7f86356a9800 of size 15360 next 1255\n",
      "2022-07-11 16:19:46.563425: I tensorflow/core/common_runtime/bfc_allocator.cc:1083] InUse at 7f86356ad400 of size 15360 next 1256\n",
      "2022-07-11 16:19:46.563429: I tensorflow/core/common_runtime/bfc_allocator.cc:1083] InUse at 7f86356b1000 of size 256 next 1257\n",
      "2022-07-11 16:19:46.563433: I tensorflow/core/common_runtime/bfc_allocator.cc:1083] InUse at 7f86356b1100 of size 2560 next 1265\n",
      "2022-07-11 16:19:46.563437: I tensorflow/core/common_runtime/bfc_allocator.cc:1083] InUse at 7f86356b1b00 of size 2560 next 1266\n",
      "2022-07-11 16:19:46.563441: I tensorflow/core/common_runtime/bfc_allocator.cc:1083] InUse at 7f86356b2500 of size 21248 next 1268\n",
      "2022-07-11 16:19:46.563445: I tensorflow/core/common_runtime/bfc_allocator.cc:1083] InUse at 7f86356b7800 of size 15360 next 1270\n",
      "2022-07-11 16:19:46.563449: I tensorflow/core/common_runtime/bfc_allocator.cc:1083] InUse at 7f86356bb400 of size 19456 next 930\n",
      "2022-07-11 16:19:46.563453: I tensorflow/core/common_runtime/bfc_allocator.cc:1083] InUse at 7f86356c0000 of size 884736 next 931\n",
      "2022-07-11 16:19:46.563457: I tensorflow/core/common_runtime/bfc_allocator.cc:1083] InUse at 7f8635798000 of size 884736 next 933\n",
      "2022-07-11 16:19:46.563460: I tensorflow/core/common_runtime/bfc_allocator.cc:1083] InUse at 7f8635870000 of size 884736 next 897\n",
      "2022-07-11 16:19:46.563464: I tensorflow/core/common_runtime/bfc_allocator.cc:1083] InUse at 7f8635948000 of size 3538944 next 898\n",
      "2022-07-11 16:19:46.563468: I tensorflow/core/common_runtime/bfc_allocator.cc:1083] InUse at 7f8635ca8000 of size 3538944 next 903\n",
      "2022-07-11 16:19:46.563472: I tensorflow/core/common_runtime/bfc_allocator.cc:1083] InUse at 7f8636008000 of size 3538944 next 915\n",
      "2022-07-11 16:19:46.563476: I tensorflow/core/common_runtime/bfc_allocator.cc:1083] InUse at 7f8636368000 of size 3538944 next 920\n",
      "2022-07-11 16:19:46.563480: I tensorflow/core/common_runtime/bfc_allocator.cc:1083] InUse at 7f86366c8000 of size 884736 next 952\n",
      "2022-07-11 16:19:46.563484: I tensorflow/core/common_runtime/bfc_allocator.cc:1083] InUse at 7f86367a0000 of size 884736 next 970\n",
      "2022-07-11 16:19:46.563487: I tensorflow/core/common_runtime/bfc_allocator.cc:1083] InUse at 7f8636878000 of size 884736 next 972\n",
      "2022-07-11 16:19:46.563491: I tensorflow/core/common_runtime/bfc_allocator.cc:1083] InUse at 7f8636950000 of size 884736 next 935\n",
      "2022-07-11 16:19:46.563495: I tensorflow/core/common_runtime/bfc_allocator.cc:1083] InUse at 7f8636a28000 of size 3538944 next 936\n",
      "2022-07-11 16:19:46.563499: I tensorflow/core/common_runtime/bfc_allocator.cc:1083] InUse at 7f8636d88000 of size 3538944 next 941\n",
      "2022-07-11 16:19:46.563503: I tensorflow/core/common_runtime/bfc_allocator.cc:1083] InUse at 7f86370e8000 of size 884736 next 990\n",
      "2022-07-11 16:19:46.563507: I tensorflow/core/common_runtime/bfc_allocator.cc:1083] InUse at 7f86371c0000 of size 884736 next 1007\n",
      "2022-07-11 16:19:46.563510: I tensorflow/core/common_runtime/bfc_allocator.cc:1083] InUse at 7f8637298000 of size 884736 next 1009\n",
      "2022-07-11 16:19:46.563514: I tensorflow/core/common_runtime/bfc_allocator.cc:1083] InUse at 7f8637370000 of size 82944 next 1192\n",
      "2022-07-11 16:19:46.563518: I tensorflow/core/common_runtime/bfc_allocator.cc:1083] InUse at 7f8637384400 of size 1536 next 1218\n",
      "2022-07-11 16:19:46.563522: I tensorflow/core/common_runtime/bfc_allocator.cc:1083] InUse at 7f8637384a00 of size 1536 next 1219\n",
      "2022-07-11 16:19:46.563526: I tensorflow/core/common_runtime/bfc_allocator.cc:1083] InUse at 7f8637385000 of size 1536 next 1221\n",
      "2022-07-11 16:19:46.563530: I tensorflow/core/common_runtime/bfc_allocator.cc:1083] InUse at 7f8637385600 of size 1536 next 1222\n",
      "2022-07-11 16:19:46.563533: I tensorflow/core/common_runtime/bfc_allocator.cc:1083] InUse at 7f8637385c00 of size 9728 next 1224\n",
      "2022-07-11 16:19:46.563537: I tensorflow/core/common_runtime/bfc_allocator.cc:1083] InUse at 7f8637388200 of size 9216 next 1226\n",
      "2022-07-11 16:19:46.563541: I tensorflow/core/common_runtime/bfc_allocator.cc:1083] InUse at 7f863738a600 of size 9216 next 1227\n",
      "2022-07-11 16:19:46.563545: I tensorflow/core/common_runtime/bfc_allocator.cc:1083] InUse at 7f863738ca00 of size 9216 next 1228\n",
      "2022-07-11 16:19:46.563549: I tensorflow/core/common_runtime/bfc_allocator.cc:1083] InUse at 7f863738ee00 of size 9216 next 1229\n",
      "2022-07-11 16:19:46.563553: I tensorflow/core/common_runtime/bfc_allocator.cc:1083] InUse at 7f8637391200 of size 9216 next 1232\n",
      "2022-07-11 16:19:46.563556: I tensorflow/core/common_runtime/bfc_allocator.cc:1083] InUse at 7f8637393600 of size 9216 next 1233\n",
      "2022-07-11 16:19:46.563560: I tensorflow/core/common_runtime/bfc_allocator.cc:1083] InUse at 7f8637395a00 of size 11776 next 1212\n",
      "2022-07-11 16:19:46.563564: I tensorflow/core/common_runtime/bfc_allocator.cc:1083] InUse at 7f8637398800 of size 82944 next 1213\n",
      "2022-07-11 16:19:46.563568: I tensorflow/core/common_runtime/bfc_allocator.cc:1083] InUse at 7f86373acc00 of size 512 next 1225\n",
      "2022-07-11 16:19:46.563572: I tensorflow/core/common_runtime/bfc_allocator.cc:1083] InUse at 7f86373ace00 of size 9216 next 1236\n",
      "2022-07-11 16:19:46.563576: I tensorflow/core/common_runtime/bfc_allocator.cc:1083] InUse at 7f86373af200 of size 2560 next 1241\n",
      "2022-07-11 16:19:46.563579: I tensorflow/core/common_runtime/bfc_allocator.cc:1083] InUse at 7f86373afc00 of size 2560 next 1260\n",
      "2022-07-11 16:19:46.563583: I tensorflow/core/common_runtime/bfc_allocator.cc:1083] InUse at 7f86373b0600 of size 4096 next 1238\n",
      "2022-07-11 16:19:46.563587: I tensorflow/core/common_runtime/bfc_allocator.cc:1083] InUse at 7f86373b1600 of size 256 next 1239\n",
      "2022-07-11 16:19:46.563591: I tensorflow/core/common_runtime/bfc_allocator.cc:1083] InUse at 7f86373b1700 of size 2560 next 1240\n",
      "2022-07-11 16:19:46.563595: I tensorflow/core/common_runtime/bfc_allocator.cc:1083] InUse at 7f86373b2100 of size 2560 next 1243\n",
      "2022-07-11 16:19:46.563599: I tensorflow/core/common_runtime/bfc_allocator.cc:1083] InUse at 7f86373b2b00 of size 2560 next 1244\n",
      "2022-07-11 16:19:46.563603: I tensorflow/core/common_runtime/bfc_allocator.cc:1083] InUse at 7f86373b3500 of size 768 next 799\n",
      "2022-07-11 16:19:46.563607: I tensorflow/core/common_runtime/bfc_allocator.cc:1083] InUse at 7f86373b3800 of size 768 next 1267\n",
      "2022-07-11 16:19:46.563611: I tensorflow/core/common_runtime/bfc_allocator.cc:1083] InUse at 7f86373b3b00 of size 1024 next 1245\n",
      "2022-07-11 16:19:46.563614: I tensorflow/core/common_runtime/bfc_allocator.cc:1083] InUse at 7f86373b3f00 of size 256 next 1246\n",
      "2022-07-11 16:19:46.563618: I tensorflow/core/common_runtime/bfc_allocator.cc:1083] InUse at 7f86373b4000 of size 15360 next 1249\n",
      "2022-07-11 16:19:46.563622: I tensorflow/core/common_runtime/bfc_allocator.cc:1083] InUse at 7f86373b7c00 of size 15360 next 1250\n",
      "2022-07-11 16:19:46.563626: I tensorflow/core/common_runtime/bfc_allocator.cc:1083] InUse at 7f86373bb800 of size 22528 next 1230\n",
      "2022-07-11 16:19:46.563630: I tensorflow/core/common_runtime/bfc_allocator.cc:1083] InUse at 7f86373c1000 of size 15360 next 1223\n",
      "2022-07-11 16:19:46.563634: I tensorflow/core/common_runtime/bfc_allocator.cc:1083] InUse at 7f86373c4c00 of size 15360 next 1231\n",
      "2022-07-11 16:19:46.563638: I tensorflow/core/common_runtime/bfc_allocator.cc:1083] InUse at 7f86373c8800 of size 15360 next 1271\n",
      "2022-07-11 16:19:46.563642: I tensorflow/core/common_runtime/bfc_allocator.cc:1083] InUse at 7f86373cc400 of size 15360 next 1273\n",
      "2022-07-11 16:19:46.563646: I tensorflow/core/common_runtime/bfc_allocator.cc:1083] InUse at 7f86373d0000 of size 15360 next 1272\n",
      "2022-07-11 16:19:46.563650: I tensorflow/core/common_runtime/bfc_allocator.cc:1083] InUse at 7f86373d3c00 of size 15360 next 1292\n",
      "2022-07-11 16:19:46.563653: I tensorflow/core/common_runtime/bfc_allocator.cc:1083] InUse at 7f86373d7800 of size 15360 next 1291\n",
      "2022-07-11 16:19:46.563657: I tensorflow/core/common_runtime/bfc_allocator.cc:1083] InUse at 7f86373db400 of size 15360 next 1311\n",
      "2022-07-11 16:19:46.563661: I tensorflow/core/common_runtime/bfc_allocator.cc:1083] InUse at 7f86373df000 of size 15360 next 1310\n",
      "2022-07-11 16:19:46.563666: I tensorflow/core/common_runtime/bfc_allocator.cc:1083] InUse at 7f86373e2c00 of size 21504 next 1328\n",
      "2022-07-11 16:19:46.563670: I tensorflow/core/common_runtime/bfc_allocator.cc:1083] InUse at 7f86373e8000 of size 15360 next 1347\n",
      "2022-07-11 16:19:46.563674: I tensorflow/core/common_runtime/bfc_allocator.cc:1083] InUse at 7f86373ebc00 of size 36864 next 1371\n",
      "2022-07-11 16:19:46.563678: I tensorflow/core/common_runtime/bfc_allocator.cc:1083] InUse at 7f86373f4c00 of size 147456 next 1253\n",
      "2022-07-11 16:19:46.563682: I tensorflow/core/common_runtime/bfc_allocator.cc:1083] InUse at 7f8637418c00 of size 193536 next 954\n",
      "2022-07-11 16:19:46.563686: I tensorflow/core/common_runtime/bfc_allocator.cc:1083] InUse at 7f8637448000 of size 3538944 next 955\n",
      "2022-07-11 16:19:46.563690: I tensorflow/core/common_runtime/bfc_allocator.cc:1083] InUse at 7f86377a8000 of size 3538944 next 960\n",
      "2022-07-11 16:19:46.563694: I tensorflow/core/common_runtime/bfc_allocator.cc:1083] InUse at 7f8637b08000 of size 3538944 next 974\n",
      "2022-07-11 16:19:46.563698: I tensorflow/core/common_runtime/bfc_allocator.cc:1083] InUse at 7f8637e68000 of size 3538944 next 979\n",
      "2022-07-11 16:19:46.563702: I tensorflow/core/common_runtime/bfc_allocator.cc:1083] InUse at 7f86381c8000 of size 884736 next 1026\n",
      "2022-07-11 16:19:46.563706: I tensorflow/core/common_runtime/bfc_allocator.cc:1083] InUse at 7f86382a0000 of size 884736 next 1028\n",
      "2022-07-11 16:19:46.563710: I tensorflow/core/common_runtime/bfc_allocator.cc:1083] InUse at 7f8638378000 of size 884736 next 1046\n",
      "2022-07-11 16:19:46.563714: I tensorflow/core/common_runtime/bfc_allocator.cc:1083] InUse at 7f8638450000 of size 884736 next 992\n",
      "2022-07-11 16:19:46.563718: I tensorflow/core/common_runtime/bfc_allocator.cc:1083] InUse at 7f8638528000 of size 3538944 next 993\n",
      "2022-07-11 16:19:46.563722: I tensorflow/core/common_runtime/bfc_allocator.cc:1083] InUse at 7f8638888000 of size 3538944 next 998\n",
      "2022-07-11 16:19:46.563726: I tensorflow/core/common_runtime/bfc_allocator.cc:1083] InUse at 7f8638be8000 of size 3538944 next 1011\n",
      "2022-07-11 16:19:46.563730: I tensorflow/core/common_runtime/bfc_allocator.cc:1083] InUse at 7f8638f48000 of size 3538944 next 1016\n",
      "2022-07-11 16:19:46.563734: I tensorflow/core/common_runtime/bfc_allocator.cc:1083] InUse at 7f86392a8000 of size 884736 next 1064\n",
      "2022-07-11 16:19:46.563738: I tensorflow/core/common_runtime/bfc_allocator.cc:1083] InUse at 7f8639380000 of size 884736 next 1066\n",
      "2022-07-11 16:19:46.563742: I tensorflow/core/common_runtime/bfc_allocator.cc:1083] InUse at 7f8639458000 of size 884736 next 1084\n",
      "2022-07-11 16:19:46.563746: I tensorflow/core/common_runtime/bfc_allocator.cc:1083] InUse at 7f8639530000 of size 884736 next 1030\n",
      "2022-07-11 16:19:46.563750: I tensorflow/core/common_runtime/bfc_allocator.cc:1083] InUse at 7f8639608000 of size 3538944 next 1031\n",
      "2022-07-11 16:19:46.563754: I tensorflow/core/common_runtime/bfc_allocator.cc:1083] InUse at 7f8639968000 of size 3538944 next 1036\n",
      "2022-07-11 16:19:46.563758: I tensorflow/core/common_runtime/bfc_allocator.cc:1083] InUse at 7f8639cc8000 of size 3538944 next 1049\n",
      "2022-07-11 16:19:46.563762: I tensorflow/core/common_runtime/bfc_allocator.cc:1083] InUse at 7f863a028000 of size 3538944 next 1054\n",
      "2022-07-11 16:19:46.563766: I tensorflow/core/common_runtime/bfc_allocator.cc:1083] InUse at 7f863a388000 of size 884736 next 1101\n",
      "2022-07-11 16:19:46.563770: I tensorflow/core/common_runtime/bfc_allocator.cc:1083] InUse at 7f863a460000 of size 884736 next 1103\n",
      "2022-07-11 16:19:46.563773: I tensorflow/core/common_runtime/bfc_allocator.cc:1083] InUse at 7f863a538000 of size 15360 next 1275\n",
      "2022-07-11 16:19:46.563778: I tensorflow/core/common_runtime/bfc_allocator.cc:1083] InUse at 7f863a53bc00 of size 15360 next 1276\n",
      "2022-07-11 16:19:46.563781: I tensorflow/core/common_runtime/bfc_allocator.cc:1083] InUse at 7f863a53f800 of size 15360 next 1277\n",
      "2022-07-11 16:19:46.563786: I tensorflow/core/common_runtime/bfc_allocator.cc:1083] InUse at 7f863a543400 of size 16128 next 1279\n",
      "2022-07-11 16:19:46.563790: I tensorflow/core/common_runtime/bfc_allocator.cc:1083] InUse at 7f863a547300 of size 2560 next 1278\n",
      "2022-07-11 16:19:46.563794: I tensorflow/core/common_runtime/bfc_allocator.cc:1083] InUse at 7f863a547d00 of size 2560 next 1281\n",
      "2022-07-11 16:19:46.563798: I tensorflow/core/common_runtime/bfc_allocator.cc:1083] InUse at 7f863a548700 of size 2560 next 1284\n",
      "2022-07-11 16:19:46.563802: I tensorflow/core/common_runtime/bfc_allocator.cc:1083] InUse at 7f863a549100 of size 2560 next 1285\n",
      "2022-07-11 16:19:46.563806: I tensorflow/core/common_runtime/bfc_allocator.cc:1083] InUse at 7f863a549b00 of size 15360 next 1287\n",
      "2022-07-11 16:19:46.563810: I tensorflow/core/common_runtime/bfc_allocator.cc:1083] InUse at 7f863a54d700 of size 15360 next 1289\n",
      "2022-07-11 16:19:46.563814: I tensorflow/core/common_runtime/bfc_allocator.cc:1083] InUse at 7f863a551300 of size 15360 next 1290\n",
      "2022-07-11 16:19:46.563818: I tensorflow/core/common_runtime/bfc_allocator.cc:1083] InUse at 7f863a554f00 of size 157952 next 1274\n",
      "2022-07-11 16:19:46.563822: I tensorflow/core/common_runtime/bfc_allocator.cc:1083] InUse at 7f863a57b800 of size 15360 next 1294\n",
      "2022-07-11 16:19:46.563826: I tensorflow/core/common_runtime/bfc_allocator.cc:1083] InUse at 7f863a57f400 of size 15360 next 1295\n",
      "2022-07-11 16:19:46.563830: I tensorflow/core/common_runtime/bfc_allocator.cc:1083] InUse at 7f863a583000 of size 15360 next 1296\n",
      "2022-07-11 16:19:46.563835: I tensorflow/core/common_runtime/bfc_allocator.cc:1083] InUse at 7f863a586c00 of size 16128 next 1299\n",
      "2022-07-11 16:19:46.563838: I tensorflow/core/common_runtime/bfc_allocator.cc:1083] InUse at 7f863a58ab00 of size 2560 next 1297\n",
      "2022-07-11 16:19:46.563842: I tensorflow/core/common_runtime/bfc_allocator.cc:1083] InUse at 7f863a58b500 of size 2560 next 1301\n",
      "2022-07-11 16:19:46.563846: I tensorflow/core/common_runtime/bfc_allocator.cc:1083] InUse at 7f863a58bf00 of size 2560 next 1303\n",
      "2022-07-11 16:19:46.563850: I tensorflow/core/common_runtime/bfc_allocator.cc:1083] InUse at 7f863a58c900 of size 2560 next 1304\n",
      "2022-07-11 16:19:46.563854: I tensorflow/core/common_runtime/bfc_allocator.cc:1083] InUse at 7f863a58d300 of size 15360 next 1306\n",
      "2022-07-11 16:19:46.563857: I tensorflow/core/common_runtime/bfc_allocator.cc:1083] InUse at 7f863a590f00 of size 15360 next 1308\n",
      "2022-07-11 16:19:46.563861: I tensorflow/core/common_runtime/bfc_allocator.cc:1083] InUse at 7f863a594b00 of size 15360 next 1309\n",
      "2022-07-11 16:19:46.563865: I tensorflow/core/common_runtime/bfc_allocator.cc:1083] InUse at 7f863a598700 of size 157952 next 1293\n",
      "2022-07-11 16:19:46.563869: I tensorflow/core/common_runtime/bfc_allocator.cc:1083] InUse at 7f863a5bf000 of size 15360 next 1312\n",
      "2022-07-11 16:19:46.563873: I tensorflow/core/common_runtime/bfc_allocator.cc:1083] InUse at 7f863a5c2c00 of size 15360 next 1313\n",
      "2022-07-11 16:19:46.563877: I tensorflow/core/common_runtime/bfc_allocator.cc:1083] InUse at 7f863a5c6800 of size 15360 next 1314\n",
      "2022-07-11 16:19:46.563881: I tensorflow/core/common_runtime/bfc_allocator.cc:1083] InUse at 7f863a5ca400 of size 768 next 1305\n",
      "2022-07-11 16:19:46.563885: I tensorflow/core/common_runtime/bfc_allocator.cc:1083] InUse at 7f863a5ca700 of size 15360 next 1316\n",
      "2022-07-11 16:19:46.563888: I tensorflow/core/common_runtime/bfc_allocator.cc:1083] InUse at 7f863a5ce300 of size 2560 next 1315\n",
      "2022-07-11 16:19:46.563892: I tensorflow/core/common_runtime/bfc_allocator.cc:1083] InUse at 7f863a5ced00 of size 2560 next 1318\n",
      "2022-07-11 16:19:46.563896: I tensorflow/core/common_runtime/bfc_allocator.cc:1083] InUse at 7f863a5cf700 of size 2560 next 1321\n",
      "2022-07-11 16:19:46.563900: I tensorflow/core/common_runtime/bfc_allocator.cc:1083] InUse at 7f863a5d0100 of size 2560 next 1322\n",
      "2022-07-11 16:19:46.563904: I tensorflow/core/common_runtime/bfc_allocator.cc:1083] InUse at 7f863a5d0b00 of size 15360 next 1324\n",
      "2022-07-11 16:19:46.563908: I tensorflow/core/common_runtime/bfc_allocator.cc:1083] InUse at 7f863a5d4700 of size 15360 next 1326\n",
      "2022-07-11 16:19:46.563911: I tensorflow/core/common_runtime/bfc_allocator.cc:1083] InUse at 7f863a5d8300 of size 15360 next 1327\n",
      "2022-07-11 16:19:46.563916: I tensorflow/core/common_runtime/bfc_allocator.cc:1083] InUse at 7f863a5dbf00 of size 213248 next 1121\n",
      "2022-07-11 16:19:46.563920: I tensorflow/core/common_runtime/bfc_allocator.cc:1083] InUse at 7f863a610000 of size 884736 next 1068\n",
      "2022-07-11 16:19:46.563923: I tensorflow/core/common_runtime/bfc_allocator.cc:1083] InUse at 7f863a6e8000 of size 3538944 next 1069\n",
      "2022-07-11 16:19:46.563927: I tensorflow/core/common_runtime/bfc_allocator.cc:1083] InUse at 7f863aa48000 of size 3538944 next 1074\n",
      "2022-07-11 16:19:46.563931: I tensorflow/core/common_runtime/bfc_allocator.cc:1083] InUse at 7f863ada8000 of size 3538944 next 1087\n",
      "2022-07-11 16:19:46.563935: I tensorflow/core/common_runtime/bfc_allocator.cc:1083] InUse at 7f863b108000 of size 3538944 next 1092\n",
      "2022-07-11 16:19:46.563939: I tensorflow/core/common_runtime/bfc_allocator.cc:1083] InUse at 7f863b468000 of size 884736 next 1123\n",
      "2022-07-11 16:19:46.563943: I tensorflow/core/common_runtime/bfc_allocator.cc:1083] InUse at 7f863b540000 of size 884736 next 1141\n",
      "2022-07-11 16:19:46.563947: I tensorflow/core/common_runtime/bfc_allocator.cc:1083] InUse at 7f863b618000 of size 884736 next 1143\n",
      "2022-07-11 16:19:46.563950: I tensorflow/core/common_runtime/bfc_allocator.cc:1083] InUse at 7f863b6f0000 of size 884736 next 1105\n",
      "2022-07-11 16:19:46.563954: I tensorflow/core/common_runtime/bfc_allocator.cc:1083] InUse at 7f863b7c8000 of size 3538944 next 1106\n",
      "2022-07-11 16:19:46.563958: I tensorflow/core/common_runtime/bfc_allocator.cc:1083] InUse at 7f863bb28000 of size 3538944 next 1111\n",
      "2022-07-11 16:19:46.563962: I tensorflow/core/common_runtime/bfc_allocator.cc:1083] InUse at 7f863be88000 of size 884736 next 1161\n",
      "2022-07-11 16:19:46.563966: I tensorflow/core/common_runtime/bfc_allocator.cc:1083] InUse at 7f863bf60000 of size 884736 next 1179\n",
      "2022-07-11 16:19:46.563970: I tensorflow/core/common_runtime/bfc_allocator.cc:1083] InUse at 7f863c038000 of size 884736 next 1181\n",
      "2022-07-11 16:19:46.563974: I tensorflow/core/common_runtime/bfc_allocator.cc:1083] InUse at 7f863c110000 of size 15360 next 1331\n",
      "2022-07-11 16:19:46.563977: I tensorflow/core/common_runtime/bfc_allocator.cc:1083] InUse at 7f863c113c00 of size 15360 next 1332\n",
      "2022-07-11 16:19:46.563981: I tensorflow/core/common_runtime/bfc_allocator.cc:1083] InUse at 7f863c117800 of size 15360 next 1333\n",
      "2022-07-11 16:19:46.563985: I tensorflow/core/common_runtime/bfc_allocator.cc:1083] InUse at 7f863c11b400 of size 768 next 1323\n",
      "2022-07-11 16:19:46.563989: I tensorflow/core/common_runtime/bfc_allocator.cc:1083] InUse at 7f863c11b700 of size 15360 next 1336\n",
      "2022-07-11 16:19:46.563993: I tensorflow/core/common_runtime/bfc_allocator.cc:1083] InUse at 7f863c11f300 of size 2560 next 1334\n",
      "2022-07-11 16:19:46.563997: I tensorflow/core/common_runtime/bfc_allocator.cc:1083] InUse at 7f863c11fd00 of size 2560 next 1338\n",
      "2022-07-11 16:19:46.564000: I tensorflow/core/common_runtime/bfc_allocator.cc:1083] InUse at 7f863c120700 of size 2560 next 1340\n",
      "2022-07-11 16:19:46.564004: I tensorflow/core/common_runtime/bfc_allocator.cc:1083] InUse at 7f863c121100 of size 2560 next 1341\n",
      "2022-07-11 16:19:46.564008: I tensorflow/core/common_runtime/bfc_allocator.cc:1083] InUse at 7f863c121b00 of size 15360 next 1343\n",
      "2022-07-11 16:19:46.564012: I tensorflow/core/common_runtime/bfc_allocator.cc:1083] InUse at 7f863c125700 of size 15360 next 1345\n",
      "2022-07-11 16:19:46.564016: I tensorflow/core/common_runtime/bfc_allocator.cc:1083] InUse at 7f863c129300 of size 15360 next 1346\n",
      "2022-07-11 16:19:46.564020: I tensorflow/core/common_runtime/bfc_allocator.cc:1083] InUse at 7f863c12cf00 of size 157952 next 1330\n",
      "2022-07-11 16:19:46.564024: I tensorflow/core/common_runtime/bfc_allocator.cc:1083] InUse at 7f863c153800 of size 15360 next 1350\n",
      "2022-07-11 16:19:46.564027: I tensorflow/core/common_runtime/bfc_allocator.cc:1083] InUse at 7f863c157400 of size 15360 next 1351\n",
      "2022-07-11 16:19:46.564031: I tensorflow/core/common_runtime/bfc_allocator.cc:1083] InUse at 7f863c15b000 of size 15360 next 1352\n",
      "2022-07-11 16:19:46.564035: I tensorflow/core/common_runtime/bfc_allocator.cc:1083] InUse at 7f863c15ec00 of size 768 next 1329\n",
      "2022-07-11 16:19:46.564039: I tensorflow/core/common_runtime/bfc_allocator.cc:1083] InUse at 7f863c15ef00 of size 15360 next 1354\n",
      "2022-07-11 16:19:46.564043: I tensorflow/core/common_runtime/bfc_allocator.cc:1083] InUse at 7f863c162b00 of size 2560 next 1358\n",
      "2022-07-11 16:19:46.564047: I tensorflow/core/common_runtime/bfc_allocator.cc:1083] InUse at 7f863c163500 of size 2560 next 1356\n",
      "2022-07-11 16:19:46.564050: I tensorflow/core/common_runtime/bfc_allocator.cc:1083] InUse at 7f863c163f00 of size 2560 next 1359\n",
      "2022-07-11 16:19:46.564054: I tensorflow/core/common_runtime/bfc_allocator.cc:1083] InUse at 7f863c164900 of size 2560 next 1360\n",
      "2022-07-11 16:19:46.564058: I tensorflow/core/common_runtime/bfc_allocator.cc:1083] InUse at 7f863c165300 of size 5120 next 1353\n",
      "2022-07-11 16:19:46.564063: I tensorflow/core/common_runtime/bfc_allocator.cc:1083] InUse at 7f863c166700 of size 10240 next 1362\n",
      "2022-07-11 16:19:46.564067: I tensorflow/core/common_runtime/bfc_allocator.cc:1083] InUse at 7f863c168f00 of size 256 next 1363\n",
      "2022-07-11 16:19:46.564070: I tensorflow/core/common_runtime/bfc_allocator.cc:1083] InUse at 7f863c169000 of size 5120 next 1364\n",
      "2022-07-11 16:19:46.564074: I tensorflow/core/common_runtime/bfc_allocator.cc:1083] InUse at 7f863c16a400 of size 5120 next 1366\n",
      "2022-07-11 16:19:46.564078: I tensorflow/core/common_runtime/bfc_allocator.cc:1083] InUse at 7f863c16b800 of size 5120 next 1367\n",
      "2022-07-11 16:19:46.564082: I tensorflow/core/common_runtime/bfc_allocator.cc:1083] InUse at 7f863c16cc00 of size 256 next 1342\n",
      "2022-07-11 16:19:46.564086: I tensorflow/core/common_runtime/bfc_allocator.cc:1083] InUse at 7f863c16cd00 of size 256 next 1286\n",
      "2022-07-11 16:19:46.564090: I tensorflow/core/common_runtime/bfc_allocator.cc:1083] InUse at 7f863c16ce00 of size 256 next 1262\n",
      "2022-07-11 16:19:46.564093: I tensorflow/core/common_runtime/bfc_allocator.cc:1083] InUse at 7f863c16cf00 of size 256 next 1616\n",
      "2022-07-11 16:19:46.564097: I tensorflow/core/common_runtime/bfc_allocator.cc:1083] InUse at 7f863c16d000 of size 256 next 1669\n",
      "2022-07-11 16:19:46.564101: I tensorflow/core/common_runtime/bfc_allocator.cc:1083] InUse at 7f863c16d100 of size 512 next 1759\n",
      "2022-07-11 16:19:46.564105: I tensorflow/core/common_runtime/bfc_allocator.cc:1083] InUse at 7f863c16d300 of size 512 next 1861\n",
      "2022-07-11 16:19:46.564109: I tensorflow/core/common_runtime/bfc_allocator.cc:1083] InUse at 7f863c16d500 of size 512 next 1548\n",
      "2022-07-11 16:19:46.564113: I tensorflow/core/common_runtime/bfc_allocator.cc:1083] InUse at 7f863c16d700 of size 256 next 2076\n",
      "2022-07-11 16:19:46.564116: I tensorflow/core/common_runtime/bfc_allocator.cc:1083] InUse at 7f863c16d800 of size 512 next 2112\n",
      "2022-07-11 16:19:46.564120: I tensorflow/core/common_runtime/bfc_allocator.cc:1083] InUse at 7f863c16da00 of size 256 next 1520\n",
      "2022-07-11 16:19:46.564124: I tensorflow/core/common_runtime/bfc_allocator.cc:1083] InUse at 7f863c16db00 of size 256 next 1978\n",
      "2022-07-11 16:19:46.564128: I tensorflow/core/common_runtime/bfc_allocator.cc:1083] InUse at 7f863c16dc00 of size 1024 next 1368\n",
      "2022-07-11 16:19:46.564132: I tensorflow/core/common_runtime/bfc_allocator.cc:1083] InUse at 7f863c16e000 of size 3584 next 1369\n",
      "2022-07-11 16:19:46.564136: I tensorflow/core/common_runtime/bfc_allocator.cc:1083] InUse at 7f863c16ee00 of size 1024 next 65\n",
      "2022-07-11 16:19:46.564140: I tensorflow/core/common_runtime/bfc_allocator.cc:1083] InUse at 7f863c16f200 of size 1024 next 67\n",
      "2022-07-11 16:19:46.564144: I tensorflow/core/common_runtime/bfc_allocator.cc:1083] InUse at 7f863c16f600 of size 256 next 69\n",
      "2022-07-11 16:19:46.564148: I tensorflow/core/common_runtime/bfc_allocator.cc:1083] InUse at 7f863c16f700 of size 256 next 71\n",
      "2022-07-11 16:19:46.564152: I tensorflow/core/common_runtime/bfc_allocator.cc:1083] InUse at 7f863c16f800 of size 256 next 72\n",
      "2022-07-11 16:19:46.564156: I tensorflow/core/common_runtime/bfc_allocator.cc:1083] InUse at 7f863c16f900 of size 1024 next 73\n",
      "2022-07-11 16:19:46.564159: I tensorflow/core/common_runtime/bfc_allocator.cc:1083] InUse at 7f863c16fd00 of size 1024 next 74\n",
      "2022-07-11 16:19:46.564163: I tensorflow/core/common_runtime/bfc_allocator.cc:1083] InUse at 7f863c170100 of size 1024 next 75\n",
      "2022-07-11 16:19:46.564167: I tensorflow/core/common_runtime/bfc_allocator.cc:1083] InUse at 7f863c170500 of size 1024 next 77\n",
      "2022-07-11 16:19:46.564171: I tensorflow/core/common_runtime/bfc_allocator.cc:1083] InUse at 7f863c170900 of size 256 next 44\n",
      "2022-07-11 16:19:46.564175: I tensorflow/core/common_runtime/bfc_allocator.cc:1083] InUse at 7f863c170a00 of size 256 next 79\n",
      "2022-07-11 16:19:46.564179: I tensorflow/core/common_runtime/bfc_allocator.cc:1083] InUse at 7f863c170b00 of size 256 next 81\n",
      "2022-07-11 16:19:46.564182: I tensorflow/core/common_runtime/bfc_allocator.cc:1083] InUse at 7f863c170c00 of size 256 next 82\n",
      "2022-07-11 16:19:46.564186: I tensorflow/core/common_runtime/bfc_allocator.cc:1083] InUse at 7f863c170d00 of size 1024 next 83\n",
      "2022-07-11 16:19:46.564190: I tensorflow/core/common_runtime/bfc_allocator.cc:1083] InUse at 7f863c171100 of size 1024 next 84\n",
      "2022-07-11 16:19:46.564194: I tensorflow/core/common_runtime/bfc_allocator.cc:1083] InUse at 7f863c171500 of size 1024 next 85\n",
      "2022-07-11 16:19:46.564198: I tensorflow/core/common_runtime/bfc_allocator.cc:1083] InUse at 7f863c171900 of size 1024 next 87\n",
      "2022-07-11 16:19:46.564202: I tensorflow/core/common_runtime/bfc_allocator.cc:1083] InUse at 7f863c171d00 of size 256 next 80\n",
      "2022-07-11 16:19:46.564206: I tensorflow/core/common_runtime/bfc_allocator.cc:1083] InUse at 7f863c171e00 of size 256 next 89\n",
      "2022-07-11 16:19:46.564209: I tensorflow/core/common_runtime/bfc_allocator.cc:1083] InUse at 7f863c171f00 of size 256 next 91\n",
      "2022-07-11 16:19:46.564213: I tensorflow/core/common_runtime/bfc_allocator.cc:1083] InUse at 7f863c172000 of size 256 next 92\n",
      "2022-07-11 16:19:46.564217: I tensorflow/core/common_runtime/bfc_allocator.cc:1083] InUse at 7f863c172100 of size 1024 next 93\n",
      "2022-07-11 16:19:46.564221: I tensorflow/core/common_runtime/bfc_allocator.cc:1083] InUse at 7f863c172500 of size 1024 next 94\n",
      "2022-07-11 16:19:46.564225: I tensorflow/core/common_runtime/bfc_allocator.cc:1083] InUse at 7f863c172900 of size 1024 next 95\n",
      "2022-07-11 16:19:46.564229: I tensorflow/core/common_runtime/bfc_allocator.cc:1083] InUse at 7f863c172d00 of size 1024 next 97\n",
      "2022-07-11 16:19:46.564232: I tensorflow/core/common_runtime/bfc_allocator.cc:1083] InUse at 7f863c173100 of size 256 next 90\n",
      "2022-07-11 16:19:46.564236: I tensorflow/core/common_runtime/bfc_allocator.cc:1083] InUse at 7f863c173200 of size 256 next 99\n",
      "2022-07-11 16:19:46.564241: I tensorflow/core/common_runtime/bfc_allocator.cc:1083] InUse at 7f863c173300 of size 256 next 101\n",
      "2022-07-11 16:19:46.564244: I tensorflow/core/common_runtime/bfc_allocator.cc:1083] InUse at 7f863c173400 of size 256 next 102\n",
      "2022-07-11 16:19:46.564248: I tensorflow/core/common_runtime/bfc_allocator.cc:1083] InUse at 7f863c173500 of size 1024 next 103\n",
      "2022-07-11 16:19:46.564252: I tensorflow/core/common_runtime/bfc_allocator.cc:1083] InUse at 7f863c173900 of size 1024 next 104\n",
      "2022-07-11 16:19:46.564256: I tensorflow/core/common_runtime/bfc_allocator.cc:1083] InUse at 7f863c173d00 of size 1024 next 105\n",
      "2022-07-11 16:19:46.564260: I tensorflow/core/common_runtime/bfc_allocator.cc:1083] InUse at 7f863c174100 of size 1024 next 107\n",
      "2022-07-11 16:19:46.564264: I tensorflow/core/common_runtime/bfc_allocator.cc:1083] InUse at 7f863c174500 of size 256 next 100\n",
      "2022-07-11 16:19:46.564268: I tensorflow/core/common_runtime/bfc_allocator.cc:1083] InUse at 7f863c174600 of size 256 next 109\n",
      "2022-07-11 16:19:46.564271: I tensorflow/core/common_runtime/bfc_allocator.cc:1083] InUse at 7f863c174700 of size 256 next 111\n",
      "2022-07-11 16:19:46.564275: I tensorflow/core/common_runtime/bfc_allocator.cc:1083] InUse at 7f863c174800 of size 256 next 112\n",
      "2022-07-11 16:19:46.564279: I tensorflow/core/common_runtime/bfc_allocator.cc:1083] InUse at 7f863c174900 of size 1024 next 113\n",
      "2022-07-11 16:19:46.564283: I tensorflow/core/common_runtime/bfc_allocator.cc:1083] InUse at 7f863c174d00 of size 1792 next 1348\n",
      "2022-07-11 16:19:46.564287: I tensorflow/core/common_runtime/bfc_allocator.cc:1083] InUse at 7f863c175400 of size 69120 next 1852\n",
      "2022-07-11 16:19:46.564291: I tensorflow/core/common_runtime/bfc_allocator.cc:1083] InUse at 7f863c186200 of size 7680 next 1538\n",
      "2022-07-11 16:19:46.564295: I tensorflow/core/common_runtime/bfc_allocator.cc:1083] InUse at 7f863c188000 of size 7680 next 2276\n",
      "2022-07-11 16:19:46.564299: I tensorflow/core/common_runtime/bfc_allocator.cc:1083] InUse at 7f863c189e00 of size 53760 next 1349\n",
      "2022-07-11 16:19:46.564303: I tensorflow/core/common_runtime/bfc_allocator.cc:1083] InUse at 7f863c197000 of size 147456 next 78\n",
      "2022-07-11 16:19:46.564307: I tensorflow/core/common_runtime/bfc_allocator.cc:1083] InUse at 7f863c1bb000 of size 184320 next 1125\n",
      "2022-07-11 16:19:46.564311: I tensorflow/core/common_runtime/bfc_allocator.cc:1083] InUse at 7f863c1e8000 of size 3538944 next 1126\n",
      "2022-07-11 16:19:46.564315: I tensorflow/core/common_runtime/bfc_allocator.cc:1083] InUse at 7f863c548000 of size 3538944 next 1131\n",
      "2022-07-11 16:19:46.564319: I tensorflow/core/common_runtime/bfc_allocator.cc:1083] InUse at 7f863c8a8000 of size 3538944 next 1145\n",
      "2022-07-11 16:19:46.564323: I tensorflow/core/common_runtime/bfc_allocator.cc:1083] InUse at 7f863cc08000 of size 3538944 next 1150\n",
      "2022-07-11 16:19:46.564327: I tensorflow/core/common_runtime/bfc_allocator.cc:1083] InUse at 7f863cf68000 of size 884736 next 1197\n",
      "2022-07-11 16:19:46.564331: I tensorflow/core/common_runtime/bfc_allocator.cc:1083] InUse at 7f863d040000 of size 884736 next 1199\n",
      "2022-07-11 16:19:46.564335: I tensorflow/core/common_runtime/bfc_allocator.cc:1083] InUse at 7f863d118000 of size 884736 next 1217\n",
      "2022-07-11 16:19:46.564338: I tensorflow/core/common_runtime/bfc_allocator.cc:1083] InUse at 7f863d1f0000 of size 884736 next 1163\n",
      "2022-07-11 16:19:46.564342: I tensorflow/core/common_runtime/bfc_allocator.cc:1083] InUse at 7f863d2c8000 of size 3538944 next 1164\n",
      "2022-07-11 16:19:46.564346: I tensorflow/core/common_runtime/bfc_allocator.cc:1083] InUse at 7f863d628000 of size 3538944 next 1169\n",
      "2022-07-11 16:19:46.564350: I tensorflow/core/common_runtime/bfc_allocator.cc:1083] InUse at 7f863d988000 of size 3538944 next 1183\n",
      "2022-07-11 16:19:46.564354: I tensorflow/core/common_runtime/bfc_allocator.cc:1083] InUse at 7f863dce8000 of size 3538944 next 1188\n",
      "2022-07-11 16:19:46.564358: I tensorflow/core/common_runtime/bfc_allocator.cc:1083] InUse at 7f863e048000 of size 884736 next 1235\n",
      "2022-07-11 16:19:46.564361: I tensorflow/core/common_runtime/bfc_allocator.cc:1083] InUse at 7f863e120000 of size 442368 next 1941\n",
      "2022-07-11 16:19:46.564365: I tensorflow/core/common_runtime/bfc_allocator.cc:1083] InUse at 7f863e18c000 of size 442368 next 1237\n",
      "2022-07-11 16:19:46.564369: I tensorflow/core/common_runtime/bfc_allocator.cc:1083] InUse at 7f863e1f8000 of size 589824 next 45\n",
      "2022-07-11 16:19:46.564373: I tensorflow/core/common_runtime/bfc_allocator.cc:1083] InUse at 7f863e288000 of size 589824 next 64\n",
      "2022-07-11 16:19:46.564377: I tensorflow/core/common_runtime/bfc_allocator.cc:1083] InUse at 7f863e318000 of size 589824 next 1201\n",
      "2022-07-11 16:19:46.564381: I tensorflow/core/common_runtime/bfc_allocator.cc:1083] InUse at 7f863e3a8000 of size 3538944 next 1202\n",
      "2022-07-11 16:19:46.564385: I tensorflow/core/common_runtime/bfc_allocator.cc:1083] InUse at 7f863e708000 of size 3538944 next 1207\n",
      "2022-07-11 16:19:46.564388: I tensorflow/core/common_runtime/bfc_allocator.cc:1083] InUse at 7f863ea68000 of size 3538944 next 1220\n",
      "2022-07-11 16:19:46.564392: I tensorflow/core/common_runtime/bfc_allocator.cc:1083] InUse at 7f863edc8000 of size 9830400 next 1234\n",
      "2022-07-11 16:19:46.564397: I tensorflow/core/common_runtime/bfc_allocator.cc:1083] InUse at 7f863f728000 of size 3276800 next 1361\n",
      "2022-07-11 16:19:46.564401: I tensorflow/core/common_runtime/bfc_allocator.cc:1083] InUse at 7f863fa48000 of size 1310720 next 1480\n",
      "2022-07-11 16:19:46.564404: I tensorflow/core/common_runtime/bfc_allocator.cc:1083] InUse at 7f863fb88000 of size 1310720 next 1482\n",
      "2022-07-11 16:19:46.564408: I tensorflow/core/common_runtime/bfc_allocator.cc:1083] InUse at 7f863fcc8000 of size 1310720 next 1424\n",
      "2022-07-11 16:19:46.564412: I tensorflow/core/common_runtime/bfc_allocator.cc:1083] InUse at 7f863fe08000 of size 1310720 next 1516\n",
      "2022-07-11 16:19:46.564416: I tensorflow/core/common_runtime/bfc_allocator.cc:1083] InUse at 7f863ff48000 of size 1310720 next 1536\n",
      "2022-07-11 16:19:46.564420: I tensorflow/core/common_runtime/bfc_allocator.cc:1083] InUse at 7f8640088000 of size 1572864 next 1242\n",
      "2022-07-11 16:19:46.564424: I tensorflow/core/common_runtime/bfc_allocator.cc:1083] InUse at 7f8640208000 of size 2457600 next 1258\n",
      "2022-07-11 16:19:46.564428: I tensorflow/core/common_runtime/bfc_allocator.cc:1083] InUse at 7f8640460000 of size 2457600 next 1259\n",
      "2022-07-11 16:19:46.564432: I tensorflow/core/common_runtime/bfc_allocator.cc:1083] InUse at 7f86406b8000 of size 2457600 next 1261\n",
      "2022-07-11 16:19:46.564436: I tensorflow/core/common_runtime/bfc_allocator.cc:1083] InUse at 7f8640910000 of size 589824 next 250\n",
      "2022-07-11 16:19:46.564440: I tensorflow/core/common_runtime/bfc_allocator.cc:1083] InUse at 7f86409a0000 of size 589824 next 261\n",
      "2022-07-11 16:19:46.564444: I tensorflow/core/common_runtime/bfc_allocator.cc:1083] InUse at 7f8640a30000 of size 589824 next 321\n",
      "2022-07-11 16:19:46.564448: I tensorflow/core/common_runtime/bfc_allocator.cc:1083] InUse at 7f8640ac0000 of size 688128 next 1247\n",
      "2022-07-11 16:19:46.564452: I tensorflow/core/common_runtime/bfc_allocator.cc:1083] InUse at 7f8640b68000 of size 9830400 next 1248\n",
      "2022-07-11 16:19:46.564456: I tensorflow/core/common_runtime/bfc_allocator.cc:1083] InUse at 7f86414c8000 of size 2457600 next 1280\n",
      "2022-07-11 16:19:46.564460: I tensorflow/core/common_runtime/bfc_allocator.cc:1083] InUse at 7f8641720000 of size 2457600 next 1298\n",
      "2022-07-11 16:19:46.564464: I tensorflow/core/common_runtime/bfc_allocator.cc:1083] InUse at 7f8641978000 of size 2457600 next 1300\n",
      "2022-07-11 16:19:46.564468: I tensorflow/core/common_runtime/bfc_allocator.cc:1083] InUse at 7f8641bd0000 of size 2457600 next 1263\n",
      "2022-07-11 16:19:46.564471: I tensorflow/core/common_runtime/bfc_allocator.cc:1083] InUse at 7f8641e28000 of size 9830400 next 1264\n",
      "2022-07-11 16:19:46.564475: I tensorflow/core/common_runtime/bfc_allocator.cc:1083] InUse at 7f8642788000 of size 9830400 next 1269\n",
      "2022-07-11 16:19:46.564479: I tensorflow/core/common_runtime/bfc_allocator.cc:1083] InUse at 7f86430e8000 of size 2457600 next 1317\n",
      "2022-07-11 16:19:46.564483: I tensorflow/core/common_runtime/bfc_allocator.cc:1083] InUse at 7f8643340000 of size 2457600 next 1335\n",
      "2022-07-11 16:19:46.564487: I tensorflow/core/common_runtime/bfc_allocator.cc:1083] InUse at 7f8643598000 of size 2457600 next 1337\n",
      "2022-07-11 16:19:46.564491: I tensorflow/core/common_runtime/bfc_allocator.cc:1083] InUse at 7f86437f0000 of size 2457600 next 1282\n",
      "2022-07-11 16:19:46.564495: I tensorflow/core/common_runtime/bfc_allocator.cc:1083] InUse at 7f8643a48000 of size 9830400 next 1283\n",
      "2022-07-11 16:19:46.564498: I tensorflow/core/common_runtime/bfc_allocator.cc:1083] InUse at 7f86443a8000 of size 9830400 next 1288\n",
      "2022-07-11 16:19:46.564502: I tensorflow/core/common_runtime/bfc_allocator.cc:1083] InUse at 7f8644d08000 of size 9830400 next 1302\n",
      "2022-07-11 16:19:46.564506: I tensorflow/core/common_runtime/bfc_allocator.cc:1083] InUse at 7f8645668000 of size 9830400 next 1307\n",
      "2022-07-11 16:19:46.564510: I tensorflow/core/common_runtime/bfc_allocator.cc:1083] InUse at 7f8645fc8000 of size 2457600 next 1355\n",
      "2022-07-11 16:19:46.564514: I tensorflow/core/common_runtime/bfc_allocator.cc:1083] InUse at 7f8646220000 of size 7372800 next 1319\n",
      "2022-07-11 16:19:46.564518: I tensorflow/core/common_runtime/bfc_allocator.cc:1083] InUse at 7f8646928000 of size 9830400 next 1320\n",
      "2022-07-11 16:19:46.564522: I tensorflow/core/common_runtime/bfc_allocator.cc:1083] InUse at 7f8647288000 of size 9830400 next 1325\n",
      "2022-07-11 16:19:46.564526: I tensorflow/core/common_runtime/bfc_allocator.cc:1083] InUse at 7f8647be8000 of size 9830400 next 1339\n",
      "2022-07-11 16:19:46.564530: I tensorflow/core/common_runtime/bfc_allocator.cc:1083] InUse at 7f8648548000 of size 9830400 next 1344\n",
      "2022-07-11 16:19:46.564534: I tensorflow/core/common_runtime/bfc_allocator.cc:1083] InUse at 7f8648ea8000 of size 1310720 next 1415\n",
      "2022-07-11 16:19:46.564538: I tensorflow/core/common_runtime/bfc_allocator.cc:1083] InUse at 7f8648fe8000 of size 1966080 next 1365\n",
      "2022-07-11 16:19:46.564542: I tensorflow/core/common_runtime/bfc_allocator.cc:1083] InUse at 7f86491c8000 of size 2064384 next 761\n",
      "2022-07-11 16:19:46.564546: I tensorflow/core/common_runtime/bfc_allocator.cc:1083] InUse at 7f86493c0000 of size 4489216 next 1357\n",
      "2022-07-11 16:19:46.564555: I tensorflow/core/common_runtime/bfc_allocator.cc:1083] InUse at 7f8649808000 of size 9098496 next 2173\n",
      "2022-07-11 16:19:46.564559: I tensorflow/core/common_runtime/bfc_allocator.cc:1083] InUse at 7f864a0b5500 of size 256 next 1407\n",
      "2022-07-11 16:19:46.564563: I tensorflow/core/common_runtime/bfc_allocator.cc:1083] InUse at 7f864a0b5600 of size 9098496 next 1524\n",
      "2022-07-11 16:19:46.564567: I tensorflow/core/common_runtime/bfc_allocator.cc:1083] InUse at 7f864a962b00 of size 256 next 1388\n",
      "2022-07-11 16:19:46.564571: I tensorflow/core/common_runtime/bfc_allocator.cc:1083] InUse at 7f864a962c00 of size 9098496 next 2114\n",
      "2022-07-11 16:19:46.564574: I tensorflow/core/common_runtime/bfc_allocator.cc:1083] InUse at 7f864b210100 of size 256 next 2066\n",
      "2022-07-11 16:19:46.564578: I tensorflow/core/common_runtime/bfc_allocator.cc:1083] InUse at 7f864b210200 of size 1769472 next 1551\n",
      "2022-07-11 16:19:46.564582: I tensorflow/core/common_runtime/bfc_allocator.cc:1083] InUse at 7f864b3c0200 of size 8557824 next 2209\n",
      "2022-07-11 16:19:46.564586: I tensorflow/core/common_runtime/bfc_allocator.cc:1083] InUse at 7f864bbe9700 of size 256 next 1530\n",
      "2022-07-11 16:19:46.564591: I tensorflow/core/common_runtime/bfc_allocator.cc:1083] InUse at 7f864bbe9800 of size 1310720 next 2038\n",
      "2022-07-11 16:19:46.564595: I tensorflow/core/common_runtime/bfc_allocator.cc:1083] InUse at 7f864bd29800 of size 1310720 next 1380\n",
      "2022-07-11 16:19:46.564599: I tensorflow/core/common_runtime/bfc_allocator.cc:1083] InUse at 7f864be69800 of size 1589504 next 1582\n",
      "2022-07-11 16:19:46.564603: I tensorflow/core/common_runtime/bfc_allocator.cc:1083] InUse at 7f864bfed900 of size 256 next 2183\n",
      "2022-07-11 16:19:46.564607: I tensorflow/core/common_runtime/bfc_allocator.cc:1083] InUse at 7f864bfeda00 of size 75264 next 18446744073709551615\n",
      "2022-07-11 16:19:46.564612: I tensorflow/core/common_runtime/bfc_allocator.cc:1063] Next region of size 536870912\n",
      "2022-07-11 16:19:46.564616: I tensorflow/core/common_runtime/bfc_allocator.cc:1083] InUse at 7f866c000000 of size 1310720 next 2037\n",
      "2022-07-11 16:19:46.564620: I tensorflow/core/common_runtime/bfc_allocator.cc:1083] InUse at 7f866c140000 of size 1310720 next 2032\n",
      "2022-07-11 16:19:46.564624: I tensorflow/core/common_runtime/bfc_allocator.cc:1083] InUse at 7f866c280000 of size 1310720 next 1791\n",
      "2022-07-11 16:19:46.564628: I tensorflow/core/common_runtime/bfc_allocator.cc:1083] InUse at 7f866c3c0000 of size 2212352 next 2019\n",
      "2022-07-11 16:19:46.564632: I tensorflow/core/common_runtime/bfc_allocator.cc:1083] InUse at 7f866c5dc200 of size 256 next 1518\n",
      "2022-07-11 16:19:46.564636: I tensorflow/core/common_runtime/bfc_allocator.cc:1083] InUse at 7f866c5dc300 of size 1310720 next 2120\n",
      "2022-07-11 16:19:46.564640: I tensorflow/core/common_runtime/bfc_allocator.cc:1083] InUse at 7f866c71c300 of size 1310720 next 2088\n",
      "2022-07-11 16:19:46.564643: I tensorflow/core/common_runtime/bfc_allocator.cc:1083] InUse at 7f866c85c300 of size 1310720 next 1888\n",
      "2022-07-11 16:19:46.564647: I tensorflow/core/common_runtime/bfc_allocator.cc:1083] InUse at 7f866c99c300 of size 1310720 next 1891\n",
      "2022-07-11 16:19:46.564651: I tensorflow/core/common_runtime/bfc_allocator.cc:1083] InUse at 7f866cadc300 of size 1310720 next 2069\n",
      "2022-07-11 16:19:46.564655: I tensorflow/core/common_runtime/bfc_allocator.cc:1083] InUse at 7f866cc1c300 of size 2544896 next 1900\n",
      "2022-07-11 16:19:46.564659: I tensorflow/core/common_runtime/bfc_allocator.cc:1083] InUse at 7f866ce89800 of size 256 next 1730\n",
      "2022-07-11 16:19:46.564663: I tensorflow/core/common_runtime/bfc_allocator.cc:1083] InUse at 7f866ce89900 of size 1310720 next 2073\n",
      "2022-07-11 16:19:46.564666: I tensorflow/core/common_runtime/bfc_allocator.cc:1083] InUse at 7f866cfc9900 of size 1310720 next 2086\n",
      "2022-07-11 16:19:46.564670: I tensorflow/core/common_runtime/bfc_allocator.cc:1083] InUse at 7f866d109900 of size 1310720 next 2029\n",
      "2022-07-11 16:19:46.564674: I tensorflow/core/common_runtime/bfc_allocator.cc:1083] InUse at 7f866d249900 of size 2212352 next 1540\n",
      "2022-07-11 16:19:46.564678: I tensorflow/core/common_runtime/bfc_allocator.cc:1083] InUse at 7f866d465b00 of size 256 next 1897\n",
      "2022-07-11 16:19:46.564682: I tensorflow/core/common_runtime/bfc_allocator.cc:1083] InUse at 7f866d465c00 of size 1310720 next 1796\n",
      "2022-07-11 16:19:46.564686: I tensorflow/core/common_runtime/bfc_allocator.cc:1083] InUse at 7f866d5a5c00 of size 1310720 next 1909\n",
      "2022-07-11 16:19:46.564690: I tensorflow/core/common_runtime/bfc_allocator.cc:1083] InUse at 7f866d6e5c00 of size 1310720 next 2166\n",
      "2022-07-11 16:19:46.564694: I tensorflow/core/common_runtime/bfc_allocator.cc:1083] InUse at 7f866d825c00 of size 1310720 next 1510\n",
      "2022-07-11 16:19:46.564697: I tensorflow/core/common_runtime/bfc_allocator.cc:1083] InUse at 7f866d965c00 of size 1310720 next 1782\n",
      "2022-07-11 16:19:46.564701: I tensorflow/core/common_runtime/bfc_allocator.cc:1083] InUse at 7f866daa5c00 of size 2544896 next 1698\n",
      "2022-07-11 16:19:46.564705: I tensorflow/core/common_runtime/bfc_allocator.cc:1083] InUse at 7f866dd13100 of size 256 next 1594\n",
      "2022-07-11 16:19:46.564709: I tensorflow/core/common_runtime/bfc_allocator.cc:1083] InUse at 7f866dd13200 of size 1310720 next 2045\n",
      "2022-07-11 16:19:46.564713: I tensorflow/core/common_runtime/bfc_allocator.cc:1083] InUse at 7f866de53200 of size 1310720 next 1893\n",
      "2022-07-11 16:19:46.564717: I tensorflow/core/common_runtime/bfc_allocator.cc:1083] InUse at 7f866df93200 of size 1310720 next 1541\n",
      "2022-07-11 16:19:46.564721: I tensorflow/core/common_runtime/bfc_allocator.cc:1083] InUse at 7f866e0d3200 of size 1310720 next 1904\n",
      "2022-07-11 16:19:46.564724: I tensorflow/core/common_runtime/bfc_allocator.cc:1083] InUse at 7f866e213200 of size 1310720 next 1484\n",
      "2022-07-11 16:19:46.564728: I tensorflow/core/common_runtime/bfc_allocator.cc:1083] InUse at 7f866e353200 of size 2544896 next 1890\n",
      "2022-07-11 16:19:46.564732: I tensorflow/core/common_runtime/bfc_allocator.cc:1083] InUse at 7f866e5c0700 of size 256 next 1761\n",
      "2022-07-11 16:19:46.564736: I tensorflow/core/common_runtime/bfc_allocator.cc:1083] InUse at 7f866e5c0800 of size 1310720 next 2026\n",
      "2022-07-11 16:19:46.564740: I tensorflow/core/common_runtime/bfc_allocator.cc:1083] InUse at 7f866e700800 of size 1310720 next 1709\n",
      "2022-07-11 16:19:46.564744: I tensorflow/core/common_runtime/bfc_allocator.cc:1083] InUse at 7f866e840800 of size 1310720 next 1967\n",
      "2022-07-11 16:19:46.564748: I tensorflow/core/common_runtime/bfc_allocator.cc:1083] InUse at 7f866e980800 of size 1310720 next 2014\n",
      "2022-07-11 16:19:46.564751: I tensorflow/core/common_runtime/bfc_allocator.cc:1083] InUse at 7f866eac0800 of size 1310720 next 2040\n",
      "2022-07-11 16:19:46.564755: I tensorflow/core/common_runtime/bfc_allocator.cc:1083] InUse at 7f866ec00800 of size 2544896 next 2020\n",
      "2022-07-11 16:19:46.564759: I tensorflow/core/common_runtime/bfc_allocator.cc:1083] InUse at 7f866ee6dd00 of size 256 next 2068\n",
      "2022-07-11 16:19:46.564763: I tensorflow/core/common_runtime/bfc_allocator.cc:1083] InUse at 7f866ee6de00 of size 1228800 next 1426\n",
      "2022-07-11 16:19:46.564767: I tensorflow/core/common_runtime/bfc_allocator.cc:1083] InUse at 7f866ef99e00 of size 7869696 next 1771\n",
      "2022-07-11 16:19:46.564771: I tensorflow/core/common_runtime/bfc_allocator.cc:1083] InUse at 7f866f71b300 of size 256 next 1896\n",
      "2022-07-11 16:19:46.564775: I tensorflow/core/common_runtime/bfc_allocator.cc:1083] InUse at 7f866f71b400 of size 9098496 next 1737\n",
      "2022-07-11 16:19:46.564779: I tensorflow/core/common_runtime/bfc_allocator.cc:1083] InUse at 7f866ffc8900 of size 256 next 1865\n",
      "2022-07-11 16:19:46.564783: I tensorflow/core/common_runtime/bfc_allocator.cc:1083] InUse at 7f866ffc8a00 of size 9098496 next 1635\n",
      "2022-07-11 16:19:46.564786: I tensorflow/core/common_runtime/bfc_allocator.cc:1083] InUse at 7f8670875f00 of size 256 next 1440\n",
      "2022-07-11 16:19:46.564790: I tensorflow/core/common_runtime/bfc_allocator.cc:1083] InUse at 7f8670876000 of size 256 next 1557\n",
      "2022-07-11 16:19:46.564794: I tensorflow/core/common_runtime/bfc_allocator.cc:1083] InUse at 7f8670876100 of size 256 next 2021\n",
      "2022-07-11 16:19:46.564798: I tensorflow/core/common_runtime/bfc_allocator.cc:1083] InUse at 7f8670876200 of size 256 next 2070\n",
      "2022-07-11 16:19:46.564802: I tensorflow/core/common_runtime/bfc_allocator.cc:1083] InUse at 7f8670876300 of size 256 next 1580\n",
      "2022-07-11 16:19:46.564806: I tensorflow/core/common_runtime/bfc_allocator.cc:1083] InUse at 7f8670876400 of size 9098496 next 1745\n",
      "2022-07-11 16:19:46.564810: I tensorflow/core/common_runtime/bfc_allocator.cc:1083] InUse at 7f8671123900 of size 256 next 1453\n",
      "2022-07-11 16:19:46.564813: I tensorflow/core/common_runtime/bfc_allocator.cc:1083] InUse at 7f8671123a00 of size 1228800 next 1420\n",
      "2022-07-11 16:19:46.564817: I tensorflow/core/common_runtime/bfc_allocator.cc:1083] InUse at 7f867124fa00 of size 7869696 next 1472\n",
      "2022-07-11 16:19:46.564821: I tensorflow/core/common_runtime/bfc_allocator.cc:1083] InUse at 7f86719d0f00 of size 256 next 1986\n",
      "2022-07-11 16:19:46.564825: I tensorflow/core/common_runtime/bfc_allocator.cc:1083] InUse at 7f86719d1000 of size 1310720 next 1983\n",
      "2022-07-11 16:19:46.564829: I tensorflow/core/common_runtime/bfc_allocator.cc:1083] InUse at 7f8671b11000 of size 1310720 next 1686\n",
      "2022-07-11 16:19:46.564833: I tensorflow/core/common_runtime/bfc_allocator.cc:1083] InUse at 7f8671c51000 of size 1310720 next 2036\n",
      "2022-07-11 16:19:46.564837: I tensorflow/core/common_runtime/bfc_allocator.cc:1083] InUse at 7f8671d91000 of size 2212352 next 1821\n",
      "2022-07-11 16:19:46.564840: I tensorflow/core/common_runtime/bfc_allocator.cc:1083] InUse at 7f8671fad200 of size 256 next 1494\n",
      "2022-07-11 16:19:46.564844: I tensorflow/core/common_runtime/bfc_allocator.cc:1083] InUse at 7f8671fad300 of size 9098496 next 2002\n",
      "2022-07-11 16:19:46.564848: I tensorflow/core/common_runtime/bfc_allocator.cc:1083] InUse at 7f867285a800 of size 256 next 2011\n",
      "2022-07-11 16:19:46.564852: I tensorflow/core/common_runtime/bfc_allocator.cc:1083] InUse at 7f867285a900 of size 1228800 next 1430\n",
      "2022-07-11 16:19:46.564856: I tensorflow/core/common_runtime/bfc_allocator.cc:1083] InUse at 7f8672986900 of size 1228800 next 2054\n",
      "2022-07-11 16:19:46.564860: I tensorflow/core/common_runtime/bfc_allocator.cc:1083] InUse at 7f8672ab2900 of size 1769472 next 2121\n",
      "2022-07-11 16:19:46.564864: I tensorflow/core/common_runtime/bfc_allocator.cc:1083] InUse at 7f8672c62900 of size 442368 next 1773\n",
      "2022-07-11 16:19:46.564868: I tensorflow/core/common_runtime/bfc_allocator.cc:1083] InUse at 7f8672cce900 of size 1769472 next 2175\n",
      "2022-07-11 16:19:46.564871: I tensorflow/core/common_runtime/bfc_allocator.cc:1083] InUse at 7f8672e7e900 of size 442368 next 1744\n",
      "2022-07-11 16:19:46.564875: I tensorflow/core/common_runtime/bfc_allocator.cc:1083] InUse at 7f8672eea900 of size 294912 next 1850\n",
      "2022-07-11 16:19:46.564879: I tensorflow/core/common_runtime/bfc_allocator.cc:1083] InUse at 7f8672f32900 of size 663552 next 2272\n",
      "2022-07-11 16:19:46.564883: I tensorflow/core/common_runtime/bfc_allocator.cc:1083] InUse at 7f8672fd4900 of size 294912 next 2280\n",
      "2022-07-11 16:19:46.564888: I tensorflow/core/common_runtime/bfc_allocator.cc:1083] InUse at 7f867301c900 of size 150528 next 1743\n",
      "2022-07-11 16:19:46.564892: I tensorflow/core/common_runtime/bfc_allocator.cc:1083] InUse at 7f8673041500 of size 150528 next 2274\n",
      "2022-07-11 16:19:46.564896: I tensorflow/core/common_runtime/bfc_allocator.cc:1083] InUse at 7f8673066100 of size 662784 next 2103\n",
      "2022-07-11 16:19:46.564900: I tensorflow/core/common_runtime/bfc_allocator.cc:1083] InUse at 7f8673107e00 of size 256 next 1672\n",
      "2022-07-11 16:19:46.564904: I tensorflow/core/common_runtime/bfc_allocator.cc:1083] InUse at 7f8673107f00 of size 150528 next 1859\n",
      "2022-07-11 16:19:46.564908: I tensorflow/core/common_runtime/bfc_allocator.cc:1083] InUse at 7f867312cb00 of size 602112 next 446\n",
      "2022-07-11 16:19:46.564912: I tensorflow/core/common_runtime/bfc_allocator.cc:1083] InUse at 7f86731bfb00 of size 150528 next 2289\n",
      "2022-07-11 16:19:46.564916: I tensorflow/core/common_runtime/bfc_allocator.cc:1083] InUse at 7f86731e4700 of size 1769472 next 1881\n",
      "2022-07-11 16:19:46.564920: I tensorflow/core/common_runtime/bfc_allocator.cc:1083] InUse at 7f8673394700 of size 442368 next 1929\n",
      "2022-07-11 16:19:46.564923: I tensorflow/core/common_runtime/bfc_allocator.cc:1083] InUse at 7f8673400700 of size 1769472 next 2233\n",
      "2022-07-11 16:19:46.564927: I tensorflow/core/common_runtime/bfc_allocator.cc:1083] InUse at 7f86735b0700 of size 602112 next 1723\n",
      "2022-07-11 16:19:46.564931: I tensorflow/core/common_runtime/bfc_allocator.cc:1083] InUse at 7f8673643700 of size 1769472 next 2172\n",
      "2022-07-11 16:19:46.564935: I tensorflow/core/common_runtime/bfc_allocator.cc:1083] InUse at 7f86737f3700 of size 602112 next 1474\n",
      "2022-07-11 16:19:46.564939: I tensorflow/core/common_runtime/bfc_allocator.cc:1083] InUse at 7f8673886700 of size 602112 next 2090\n",
      "2022-07-11 16:19:46.564943: I tensorflow/core/common_runtime/bfc_allocator.cc:1083] InUse at 7f8673919700 of size 638208 next 1435\n",
      "2022-07-11 16:19:46.564947: I tensorflow/core/common_runtime/bfc_allocator.cc:1083] InUse at 7f86739b5400 of size 256 next 1800\n",
      "2022-07-11 16:19:46.564951: I tensorflow/core/common_runtime/bfc_allocator.cc:1083] InUse at 7f86739b5500 of size 602112 next 1591\n",
      "2022-07-11 16:19:46.564955: I tensorflow/core/common_runtime/bfc_allocator.cc:1083] InUse at 7f8673a48500 of size 602112 next 1590\n",
      "2022-07-11 16:19:46.564958: I tensorflow/core/common_runtime/bfc_allocator.cc:1083] InUse at 7f8673adb500 of size 150528 next 2060\n",
      "2022-07-11 16:19:46.564962: I tensorflow/core/common_runtime/bfc_allocator.cc:1083] InUse at 7f8673b00100 of size 442368 next 1559\n",
      "2022-07-11 16:19:46.564966: I tensorflow/core/common_runtime/bfc_allocator.cc:1083] InUse at 7f8673b6c100 of size 150528 next 2110\n",
      "2022-07-11 16:19:46.564970: I tensorflow/core/common_runtime/bfc_allocator.cc:1083] InUse at 7f8673b90d00 of size 41472 next 2245\n",
      "2022-07-11 16:19:46.564974: I tensorflow/core/common_runtime/bfc_allocator.cc:1083] InUse at 7f8673b9af00 of size 24320 next 2093\n",
      "2022-07-11 16:19:46.564978: I tensorflow/core/common_runtime/bfc_allocator.cc:1083] InUse at 7f8673ba0e00 of size 602112 next 1977\n",
      "2022-07-11 16:19:46.564982: I tensorflow/core/common_runtime/bfc_allocator.cc:1083] InUse at 7f8673c33e00 of size 150528 next 1765\n",
      "2022-07-11 16:19:46.564986: I tensorflow/core/common_runtime/bfc_allocator.cc:1083] InUse at 7f8673c58a00 of size 2816 next 1385\n",
      "2022-07-11 16:19:46.564990: I tensorflow/core/common_runtime/bfc_allocator.cc:1083] InUse at 7f8673c59500 of size 41472 next 1533\n",
      "2022-07-11 16:19:46.564993: I tensorflow/core/common_runtime/bfc_allocator.cc:1083] InUse at 7f8673c63700 of size 24320 next 1708\n",
      "2022-07-11 16:19:46.564997: I tensorflow/core/common_runtime/bfc_allocator.cc:1083] InUse at 7f8673c69600 of size 442368 next 2207\n",
      "2022-07-11 16:19:46.565001: I tensorflow/core/common_runtime/bfc_allocator.cc:1083] InUse at 7f8673cd5600 of size 2816 next 1953\n",
      "2022-07-11 16:19:46.565005: I tensorflow/core/common_runtime/bfc_allocator.cc:1083] InUse at 7f8673cd6100 of size 4608 next 2089\n",
      "2022-07-11 16:19:46.565009: I tensorflow/core/common_runtime/bfc_allocator.cc:1083] InUse at 7f8673cd7300 of size 150528 next 2149\n",
      "2022-07-11 16:19:46.565013: I tensorflow/core/common_runtime/bfc_allocator.cc:1083] InUse at 7f8673cfbf00 of size 442368 next 1463\n",
      "2022-07-11 16:19:46.565017: I tensorflow/core/common_runtime/bfc_allocator.cc:1083] InUse at 7f8673d67f00 of size 1769472 next 2125\n",
      "2022-07-11 16:19:46.565021: I tensorflow/core/common_runtime/bfc_allocator.cc:1083] InUse at 7f8673f17f00 of size 24320 next 1419\n",
      "2022-07-11 16:19:46.565024: I tensorflow/core/common_runtime/bfc_allocator.cc:1083] InUse at 7f8673f1de00 of size 256 next 1876\n",
      "2022-07-11 16:19:46.565028: I tensorflow/core/common_runtime/bfc_allocator.cc:1083] InUse at 7f8673f1df00 of size 602112 next 2053\n",
      "2022-07-11 16:19:46.565032: I tensorflow/core/common_runtime/bfc_allocator.cc:1083] InUse at 7f8673fb0f00 of size 24320 next 1495\n",
      "2022-07-11 16:19:46.565036: I tensorflow/core/common_runtime/bfc_allocator.cc:1083] InUse at 7f8673fb6e00 of size 602112 next 2259\n",
      "2022-07-11 16:19:46.565040: I tensorflow/core/common_runtime/bfc_allocator.cc:1083] InUse at 7f8674049e00 of size 1032192 next 2190\n",
      "2022-07-11 16:19:46.565044: I tensorflow/core/common_runtime/bfc_allocator.cc:1083] InUse at 7f8674145e00 of size 256 next 1539\n",
      "2022-07-11 16:19:46.565048: I tensorflow/core/common_runtime/bfc_allocator.cc:1083] InUse at 7f8674145f00 of size 256 next 2212\n",
      "2022-07-11 16:19:46.565052: I tensorflow/core/common_runtime/bfc_allocator.cc:1083] InUse at 7f8674146000 of size 1165824 next 1479\n",
      "2022-07-11 16:19:46.565056: I tensorflow/core/common_runtime/bfc_allocator.cc:1083] InUse at 7f8674262a00 of size 256 next 1535\n",
      "2022-07-11 16:19:46.565059: I tensorflow/core/common_runtime/bfc_allocator.cc:1083] InUse at 7f8674262b00 of size 256 next 1663\n",
      "2022-07-11 16:19:46.565063: I tensorflow/core/common_runtime/bfc_allocator.cc:1083] InUse at 7f8674262c00 of size 1769472 next 1935\n",
      "2022-07-11 16:19:46.565067: I tensorflow/core/common_runtime/bfc_allocator.cc:1083] InUse at 7f8674412c00 of size 24320 next 1588\n",
      "2022-07-11 16:19:46.565071: I tensorflow/core/common_runtime/bfc_allocator.cc:1083] InUse at 7f8674418b00 of size 256 next 2281\n",
      "2022-07-11 16:19:46.565075: I tensorflow/core/common_runtime/bfc_allocator.cc:1083] InUse at 7f8674418c00 of size 1769472 next 1492\n",
      "2022-07-11 16:19:46.565079: I tensorflow/core/common_runtime/bfc_allocator.cc:1083] InUse at 7f86745c8c00 of size 41472 next 1625\n",
      "2022-07-11 16:19:46.565083: I tensorflow/core/common_runtime/bfc_allocator.cc:1083] InUse at 7f86745d2e00 of size 150528 next 2094\n",
      "2022-07-11 16:19:46.565087: I tensorflow/core/common_runtime/bfc_allocator.cc:1083] InUse at 7f86745f7a00 of size 602112 next 2187\n",
      "2022-07-11 16:19:46.565090: I tensorflow/core/common_runtime/bfc_allocator.cc:1083] InUse at 7f867468aa00 of size 150528 next 2142\n",
      "2022-07-11 16:19:46.565094: I tensorflow/core/common_runtime/bfc_allocator.cc:1083] InUse at 7f86746af600 of size 73728 next 2115\n",
      "2022-07-11 16:19:46.565098: I tensorflow/core/common_runtime/bfc_allocator.cc:1083] InUse at 7f86746c1600 of size 147456 next 1788\n",
      "2022-07-11 16:19:46.565102: I tensorflow/core/common_runtime/bfc_allocator.cc:1083] InUse at 7f86746e5600 of size 442368 next 1593\n",
      "2022-07-11 16:19:46.565106: I tensorflow/core/common_runtime/bfc_allocator.cc:1083] InUse at 7f8674751600 of size 2816 next 1491\n",
      "2022-07-11 16:19:46.565110: I tensorflow/core/common_runtime/bfc_allocator.cc:1083] InUse at 7f8674752100 of size 150528 next 2156\n",
      "2022-07-11 16:19:46.565114: I tensorflow/core/common_runtime/bfc_allocator.cc:1083] InUse at 7f8674776d00 of size 150528 next 1578\n",
      "2022-07-11 16:19:46.565117: I tensorflow/core/common_runtime/bfc_allocator.cc:1083] InUse at 7f867479b900 of size 73728 next 2074\n",
      "2022-07-11 16:19:46.565121: I tensorflow/core/common_runtime/bfc_allocator.cc:1083] InUse at 7f86747ad900 of size 73728 next 1599\n",
      "2022-07-11 16:19:46.565125: I tensorflow/core/common_runtime/bfc_allocator.cc:1083] InUse at 7f86747bf900 of size 4608 next 2256\n",
      "2022-07-11 16:19:46.565129: I tensorflow/core/common_runtime/bfc_allocator.cc:1083] InUse at 7f86747c0b00 of size 256 next 2063\n",
      "2022-07-11 16:19:46.565133: I tensorflow/core/common_runtime/bfc_allocator.cc:1083] InUse at 7f86747c0c00 of size 73728 next 2250\n",
      "2022-07-11 16:19:46.565137: I tensorflow/core/common_runtime/bfc_allocator.cc:1083] InUse at 7f86747d2c00 of size 32768 next 1902\n",
      "2022-07-11 16:19:46.565141: I tensorflow/core/common_runtime/bfc_allocator.cc:1083] InUse at 7f86747dac00 of size 73728 next 2247\n",
      "2022-07-11 16:19:46.565145: I tensorflow/core/common_runtime/bfc_allocator.cc:1083] InUse at 7f86747ecc00 of size 150528 next 2198\n",
      "2022-07-11 16:19:46.565149: I tensorflow/core/common_runtime/bfc_allocator.cc:1083] InUse at 7f8674811800 of size 256 next 2085\n",
      "2022-07-11 16:19:46.565152: I tensorflow/core/common_runtime/bfc_allocator.cc:1083] InUse at 7f8674811900 of size 150528 next 1448\n",
      "2022-07-11 16:19:46.565156: I tensorflow/core/common_runtime/bfc_allocator.cc:1083] InUse at 7f8674836500 of size 1536 next 2206\n",
      "2022-07-11 16:19:46.565160: I tensorflow/core/common_runtime/bfc_allocator.cc:1083] InUse at 7f8674836b00 of size 73728 next 1552\n",
      "2022-07-11 16:19:46.565164: I tensorflow/core/common_runtime/bfc_allocator.cc:1083] InUse at 7f8674848b00 of size 13824 next 2221\n",
      "2022-07-11 16:19:46.565168: I tensorflow/core/common_runtime/bfc_allocator.cc:1083] InUse at 7f867484c100 of size 663552 next 2248\n",
      "2022-07-11 16:19:46.565172: I tensorflow/core/common_runtime/bfc_allocator.cc:1083] InUse at 7f86748ee100 of size 663552 next 1778\n",
      "2022-07-11 16:19:46.565176: I tensorflow/core/common_runtime/bfc_allocator.cc:1083] InUse at 7f8674990100 of size 73728 next 1670\n",
      "2022-07-11 16:19:46.565180: I tensorflow/core/common_runtime/bfc_allocator.cc:1083] InUse at 7f86749a2100 of size 73728 next 2170\n",
      "2022-07-11 16:19:46.565184: I tensorflow/core/common_runtime/bfc_allocator.cc:1083] InUse at 7f86749b4100 of size 13824 next 2195\n",
      "2022-07-11 16:19:46.565188: I tensorflow/core/common_runtime/bfc_allocator.cc:1083] InUse at 7f86749b7700 of size 294912 next 1627\n",
      "2022-07-11 16:19:46.565192: I tensorflow/core/common_runtime/bfc_allocator.cc:1083] InUse at 7f86749ff700 of size 73728 next 2027\n",
      "2022-07-11 16:19:46.565196: I tensorflow/core/common_runtime/bfc_allocator.cc:1083] InUse at 7f8674a11700 of size 1042944 next 1798\n",
      "2022-07-11 16:19:46.565204: I tensorflow/core/common_runtime/bfc_allocator.cc:1083] InUse at 7f8674b10100 of size 256 next 2052\n",
      "2022-07-11 16:19:46.565208: I tensorflow/core/common_runtime/bfc_allocator.cc:1083] InUse at 7f8674b10200 of size 1310720 next 1848\n",
      "2022-07-11 16:19:46.565212: I tensorflow/core/common_runtime/bfc_allocator.cc:1083] InUse at 7f8674c50200 of size 1310720 next 1568\n",
      "2022-07-11 16:19:46.565216: I tensorflow/core/common_runtime/bfc_allocator.cc:1083] InUse at 7f8674d90200 of size 1310720 next 2151\n",
      "2022-07-11 16:19:46.565220: I tensorflow/core/common_runtime/bfc_allocator.cc:1083] InUse at 7f8674ed0200 of size 2245120 next 1462\n",
      "2022-07-11 16:19:46.565224: I tensorflow/core/common_runtime/bfc_allocator.cc:1083] InUse at 7f86750f4400 of size 256 next 1858\n",
      "2022-07-11 16:19:46.565228: I tensorflow/core/common_runtime/bfc_allocator.cc:1083] InUse at 7f86750f4500 of size 1310720 next 1666\n",
      "2022-07-11 16:19:46.565232: I tensorflow/core/common_runtime/bfc_allocator.cc:1083] InUse at 7f8675234500 of size 1310720 next 2191\n",
      "2022-07-11 16:19:46.565236: I tensorflow/core/common_runtime/bfc_allocator.cc:1083] InUse at 7f8675374500 of size 1385728 next 1829\n",
      "2022-07-11 16:19:46.565239: I tensorflow/core/common_runtime/bfc_allocator.cc:1083] InUse at 7f86754c6a00 of size 256 next 2111\n",
      "2022-07-11 16:19:46.565243: I tensorflow/core/common_runtime/bfc_allocator.cc:1083] InUse at 7f86754c6b00 of size 1310720 next 2039\n",
      "2022-07-11 16:19:46.565247: I tensorflow/core/common_runtime/bfc_allocator.cc:1083] InUse at 7f8675606b00 of size 1310720 next 1421\n",
      "2022-07-11 16:19:46.565251: I tensorflow/core/common_runtime/bfc_allocator.cc:1083] InUse at 7f8675746b00 of size 1364224 next 2102\n",
      "2022-07-11 16:19:46.565255: I tensorflow/core/common_runtime/bfc_allocator.cc:1083] InUse at 7f8675893c00 of size 256 next 2197\n",
      "2022-07-11 16:19:46.565259: I tensorflow/core/common_runtime/bfc_allocator.cc:1083] InUse at 7f8675893d00 of size 1310720 next 2192\n",
      "2022-07-11 16:19:46.565263: I tensorflow/core/common_runtime/bfc_allocator.cc:1083] InUse at 7f86759d3d00 of size 1892608 next 1527\n",
      "2022-07-11 16:19:46.565267: I tensorflow/core/common_runtime/bfc_allocator.cc:1083] InUse at 7f8675ba1e00 of size 256 next 2127\n",
      "2022-07-11 16:19:46.565271: I tensorflow/core/common_runtime/bfc_allocator.cc:1083] InUse at 7f8675ba1f00 of size 1310720 next 1943\n",
      "2022-07-11 16:19:46.565275: I tensorflow/core/common_runtime/bfc_allocator.cc:1083] InUse at 7f8675ce1f00 of size 1310720 next 1714\n",
      "2022-07-11 16:19:46.565279: I tensorflow/core/common_runtime/bfc_allocator.cc:1083] InUse at 7f8675e21f00 of size 2248960 next 1688\n",
      "2022-07-11 16:19:46.565283: I tensorflow/core/common_runtime/bfc_allocator.cc:1083] InUse at 7f8676047000 of size 256 next 1532\n",
      "2022-07-11 16:19:46.565287: I tensorflow/core/common_runtime/bfc_allocator.cc:1083] InUse at 7f8676047100 of size 1852160 next 2046\n",
      "2022-07-11 16:19:46.565291: I tensorflow/core/common_runtime/bfc_allocator.cc:1083] InUse at 7f867620b400 of size 256 next 1571\n",
      "2022-07-11 16:19:46.565295: I tensorflow/core/common_runtime/bfc_allocator.cc:1083] InUse at 7f867620b500 of size 1310720 next 2031\n",
      "2022-07-11 16:19:46.565298: I tensorflow/core/common_runtime/bfc_allocator.cc:1083] InUse at 7f867634b500 of size 1310720 next 1397\n",
      "2022-07-11 16:19:46.565302: I tensorflow/core/common_runtime/bfc_allocator.cc:1083] InUse at 7f867648b500 of size 1747456 next 1870\n",
      "2022-07-11 16:19:46.565306: I tensorflow/core/common_runtime/bfc_allocator.cc:1083] InUse at 7f8676635f00 of size 256 next 2064\n",
      "2022-07-11 16:19:46.565310: I tensorflow/core/common_runtime/bfc_allocator.cc:1083] InUse at 7f8676636000 of size 1310720 next 1906\n",
      "2022-07-11 16:19:46.565314: I tensorflow/core/common_runtime/bfc_allocator.cc:1083] InUse at 7f8676776000 of size 1310720 next 1508\n",
      "2022-07-11 16:19:46.565318: I tensorflow/core/common_runtime/bfc_allocator.cc:1083] InUse at 7f86768b6000 of size 1653760 next 1454\n",
      "2022-07-11 16:19:46.565322: I tensorflow/core/common_runtime/bfc_allocator.cc:1083] InUse at 7f8676a49c00 of size 256 next 1838\n",
      "2022-07-11 16:19:46.565326: I tensorflow/core/common_runtime/bfc_allocator.cc:1083] InUse at 7f8676a49d00 of size 1310720 next 1827\n",
      "2022-07-11 16:19:46.565330: I tensorflow/core/common_runtime/bfc_allocator.cc:1083] InUse at 7f8676b89d00 of size 2326272 next 1418\n",
      "2022-07-11 16:19:46.565334: I tensorflow/core/common_runtime/bfc_allocator.cc:1083] InUse at 7f8676dc1c00 of size 256 next 1466\n",
      "2022-07-11 16:19:46.565338: I tensorflow/core/common_runtime/bfc_allocator.cc:1083] InUse at 7f8676dc1d00 of size 256 next 1767\n",
      "2022-07-11 16:19:46.565342: I tensorflow/core/common_runtime/bfc_allocator.cc:1083] InUse at 7f8676dc1e00 of size 256 next 1637\n",
      "2022-07-11 16:19:46.565346: I tensorflow/core/common_runtime/bfc_allocator.cc:1083] InUse at 7f8676dc1f00 of size 1536 next 1985\n",
      "2022-07-11 16:19:46.565350: I tensorflow/core/common_runtime/bfc_allocator.cc:1083] InUse at 7f8676dc2500 of size 294912 next 1997\n",
      "2022-07-11 16:19:46.565354: I tensorflow/core/common_runtime/bfc_allocator.cc:1083] InUse at 7f8676e0a500 of size 13824 next 1436\n",
      "2022-07-11 16:19:46.565357: I tensorflow/core/common_runtime/bfc_allocator.cc:1083] InUse at 7f8676e0db00 of size 256 next 2184\n",
      "2022-07-11 16:19:46.565361: I tensorflow/core/common_runtime/bfc_allocator.cc:1083] InUse at 7f8676e0dc00 of size 256 next 1402\n",
      "2022-07-11 16:19:46.565365: I tensorflow/core/common_runtime/bfc_allocator.cc:1083] InUse at 7f8676e0dd00 of size 294912 next 2104\n",
      "2022-07-11 16:19:46.565369: I tensorflow/core/common_runtime/bfc_allocator.cc:1083] InUse at 7f8676e55d00 of size 73728 next 1656\n",
      "2022-07-11 16:19:46.565373: I tensorflow/core/common_runtime/bfc_allocator.cc:1083] InUse at 7f8676e67d00 of size 73728 next 1889\n",
      "2022-07-11 16:19:46.565377: I tensorflow/core/common_runtime/bfc_allocator.cc:1083] InUse at 7f8676e79d00 of size 294912 next 2185\n",
      "2022-07-11 16:19:46.565380: I tensorflow/core/common_runtime/bfc_allocator.cc:1083] InUse at 7f8676ec1d00 of size 73728 next 1738\n",
      "2022-07-11 16:19:46.565384: I tensorflow/core/common_runtime/bfc_allocator.cc:1083] InUse at 7f8676ed3d00 of size 256 next 1752\n",
      "2022-07-11 16:19:46.565388: I tensorflow/core/common_runtime/bfc_allocator.cc:1083] InUse at 7f8676ed3e00 of size 73728 next 1438\n",
      "2022-07-11 16:19:46.565392: I tensorflow/core/common_runtime/bfc_allocator.cc:1083] InUse at 7f8676ee5e00 of size 18432 next 1754\n",
      "2022-07-11 16:19:46.565396: I tensorflow/core/common_runtime/bfc_allocator.cc:1083] InUse at 7f8676eea600 of size 1536 next 2003\n",
      "2022-07-11 16:19:46.565400: I tensorflow/core/common_runtime/bfc_allocator.cc:1083] InUse at 7f8676eeac00 of size 73728 next 2275\n",
      "2022-07-11 16:19:46.565404: I tensorflow/core/common_runtime/bfc_allocator.cc:1083] InUse at 7f8676efcc00 of size 13824 next 1489\n",
      "2022-07-11 16:19:46.565408: I tensorflow/core/common_runtime/bfc_allocator.cc:1083] InUse at 7f8676f00200 of size 1536 next 2132\n",
      "2022-07-11 16:19:46.565412: I tensorflow/core/common_runtime/bfc_allocator.cc:1083] InUse at 7f8676f00800 of size 663552 next 1866\n",
      "2022-07-11 16:19:46.565416: I tensorflow/core/common_runtime/bfc_allocator.cc:1083] InUse at 7f8676fa2800 of size 602112 next 2231\n",
      "2022-07-11 16:19:46.565420: I tensorflow/core/common_runtime/bfc_allocator.cc:1083] InUse at 7f8677035800 of size 24320 next 1529\n",
      "2022-07-11 16:19:46.565424: I tensorflow/core/common_runtime/bfc_allocator.cc:1083] InUse at 7f867703b700 of size 2816 next 1768\n",
      "2022-07-11 16:19:46.565428: I tensorflow/core/common_runtime/bfc_allocator.cc:1083] InUse at 7f867703c200 of size 663552 next 2041\n",
      "2022-07-11 16:19:46.565431: I tensorflow/core/common_runtime/bfc_allocator.cc:1083] InUse at 7f86770de200 of size 256 next 1501\n",
      "2022-07-11 16:19:46.565435: I tensorflow/core/common_runtime/bfc_allocator.cc:1083] InUse at 7f86770de300 of size 13824 next 1406\n",
      "2022-07-11 16:19:46.565439: I tensorflow/core/common_runtime/bfc_allocator.cc:1083] InUse at 7f86770e1900 of size 294912 next 2202\n",
      "2022-07-11 16:19:46.565443: I tensorflow/core/common_runtime/bfc_allocator.cc:1083] InUse at 7f8677129900 of size 294912 next 1755\n",
      "2022-07-11 16:19:46.565447: I tensorflow/core/common_runtime/bfc_allocator.cc:1083] InUse at 7f8677171900 of size 256 next 1700\n",
      "2022-07-11 16:19:46.565451: I tensorflow/core/common_runtime/bfc_allocator.cc:1083] InUse at 7f8677171a00 of size 294912 next 1868\n",
      "2022-07-11 16:19:46.565455: I tensorflow/core/common_runtime/bfc_allocator.cc:1083] InUse at 7f86771b9a00 of size 49152 next 1545\n",
      "2022-07-11 16:19:46.565465: I tensorflow/core/common_runtime/bfc_allocator.cc:1083] InUse at 7f86771c5a00 of size 602112 next 1879\n",
      "2022-07-11 16:19:46.565471: I tensorflow/core/common_runtime/bfc_allocator.cc:1083] InUse at 7f8677258a00 of size 18432 next 2236\n",
      "2022-07-11 16:19:46.565476: I tensorflow/core/common_runtime/bfc_allocator.cc:1083] InUse at 7f867725d200 of size 256 next 2213\n",
      "2022-07-11 16:19:46.565480: I tensorflow/core/common_runtime/bfc_allocator.cc:1083] InUse at 7f867725d300 of size 73728 next 1733\n",
      "2022-07-11 16:19:46.565483: I tensorflow/core/common_runtime/bfc_allocator.cc:1083] InUse at 7f867726f300 of size 294912 next 1620\n",
      "2022-07-11 16:19:46.565487: I tensorflow/core/common_runtime/bfc_allocator.cc:1083] InUse at 7f86772b7300 of size 73728 next 2158\n",
      "2022-07-11 16:19:46.565491: I tensorflow/core/common_runtime/bfc_allocator.cc:1083] Free  at 7f86772c9300 of size 294912 next 1878\n",
      "2022-07-11 16:19:46.565503: I tensorflow/core/common_runtime/bfc_allocator.cc:1083] InUse at 7f8677311300 of size 294912 next 2160\n",
      "2022-07-11 16:19:46.565507: I tensorflow/core/common_runtime/bfc_allocator.cc:1083] InUse at 7f8677359300 of size 294912 next 1842\n",
      "2022-07-11 16:19:46.565511: I tensorflow/core/common_runtime/bfc_allocator.cc:1083] InUse at 7f86773a1300 of size 2941184 next 1841\n",
      "2022-07-11 16:19:46.565515: I tensorflow/core/common_runtime/bfc_allocator.cc:1083] InUse at 7f867766f400 of size 256 next 1653\n",
      "2022-07-11 16:19:46.565519: I tensorflow/core/common_runtime/bfc_allocator.cc:1083] InUse at 7f867766f500 of size 1310720 next 1740\n",
      "2022-07-11 16:19:46.565523: I tensorflow/core/common_runtime/bfc_allocator.cc:1083] InUse at 7f86777af500 of size 1310720 next 1696\n",
      "2022-07-11 16:19:46.565527: I tensorflow/core/common_runtime/bfc_allocator.cc:1083] InUse at 7f86778ef500 of size 1310720 next 1808\n",
      "2022-07-11 16:19:46.565531: I tensorflow/core/common_runtime/bfc_allocator.cc:1083] InUse at 7f8677a2f500 of size 2212352 next 1777\n",
      "2022-07-11 16:19:46.565535: I tensorflow/core/common_runtime/bfc_allocator.cc:1083] InUse at 7f8677c4b700 of size 256 next 1461\n",
      "2022-07-11 16:19:46.565539: I tensorflow/core/common_runtime/bfc_allocator.cc:1083] InUse at 7f8677c4b800 of size 256 next 1831\n",
      "2022-07-11 16:19:46.565543: I tensorflow/core/common_runtime/bfc_allocator.cc:1083] InUse at 7f8677c4b900 of size 256 next 1711\n",
      "2022-07-11 16:19:46.565547: I tensorflow/core/common_runtime/bfc_allocator.cc:1083] InUse at 7f8677c4ba00 of size 256 next 1618\n",
      "2022-07-11 16:19:46.565551: I tensorflow/core/common_runtime/bfc_allocator.cc:1083] InUse at 7f8677c4bb00 of size 1310720 next 1442\n",
      "2022-07-11 16:19:46.565555: I tensorflow/core/common_runtime/bfc_allocator.cc:1083] InUse at 7f8677d8bb00 of size 1310720 next 1478\n",
      "2022-07-11 16:19:46.565558: I tensorflow/core/common_runtime/bfc_allocator.cc:1083] InUse at 7f8677ecbb00 of size 1310720 next 1749\n",
      "2022-07-11 16:19:46.565562: I tensorflow/core/common_runtime/bfc_allocator.cc:1083] InUse at 7f867800bb00 of size 2212352 next 1509\n",
      "2022-07-11 16:19:46.565566: I tensorflow/core/common_runtime/bfc_allocator.cc:1083] InUse at 7f8678227d00 of size 256 next 1458\n",
      "2022-07-11 16:19:46.565570: I tensorflow/core/common_runtime/bfc_allocator.cc:1083] InUse at 7f8678227e00 of size 256 next 1751\n",
      "2022-07-11 16:19:46.565574: I tensorflow/core/common_runtime/bfc_allocator.cc:1083] InUse at 7f8678227f00 of size 256 next 1642\n",
      "2022-07-11 16:19:46.565578: I tensorflow/core/common_runtime/bfc_allocator.cc:1083] InUse at 7f8678228000 of size 256 next 1662\n",
      "2022-07-11 16:19:46.565582: I tensorflow/core/common_runtime/bfc_allocator.cc:1083] InUse at 7f8678228100 of size 1310720 next 1803\n",
      "2022-07-11 16:19:46.565586: I tensorflow/core/common_runtime/bfc_allocator.cc:1083] InUse at 7f8678368100 of size 1310720 next 1583\n",
      "2022-07-11 16:19:46.565590: I tensorflow/core/common_runtime/bfc_allocator.cc:1083] InUse at 7f86784a8100 of size 1310720 next 1736\n",
      "2022-07-11 16:19:46.565594: I tensorflow/core/common_runtime/bfc_allocator.cc:1083] InUse at 7f86785e8100 of size 2212352 next 1687\n",
      "2022-07-11 16:19:46.565597: I tensorflow/core/common_runtime/bfc_allocator.cc:1083] InUse at 7f8678804300 of size 256 next 1757\n",
      "2022-07-11 16:19:46.565601: I tensorflow/core/common_runtime/bfc_allocator.cc:1083] InUse at 7f8678804400 of size 256 next 1640\n",
      "2022-07-11 16:19:46.565605: I tensorflow/core/common_runtime/bfc_allocator.cc:1083] InUse at 7f8678804500 of size 256 next 1437\n",
      "2022-07-11 16:19:46.565609: I tensorflow/core/common_runtime/bfc_allocator.cc:1083] InUse at 7f8678804600 of size 256 next 1809\n",
      "2022-07-11 16:19:46.565613: I tensorflow/core/common_runtime/bfc_allocator.cc:1083] InUse at 7f8678804700 of size 1310720 next 1623\n",
      "2022-07-11 16:19:46.565617: I tensorflow/core/common_runtime/bfc_allocator.cc:1083] InUse at 7f8678944700 of size 1310720 next 1797\n",
      "2022-07-11 16:19:46.565621: I tensorflow/core/common_runtime/bfc_allocator.cc:1083] InUse at 7f8678a84700 of size 1310720 next 1395\n",
      "2022-07-11 16:19:46.565625: I tensorflow/core/common_runtime/bfc_allocator.cc:1083] InUse at 7f8678bc4700 of size 2212352 next 1502\n",
      "2022-07-11 16:19:46.565629: I tensorflow/core/common_runtime/bfc_allocator.cc:1083] InUse at 7f8678de0900 of size 256 next 1449\n",
      "2022-07-11 16:19:46.565632: I tensorflow/core/common_runtime/bfc_allocator.cc:1083] InUse at 7f8678de0a00 of size 256 next 1712\n",
      "2022-07-11 16:19:46.565636: I tensorflow/core/common_runtime/bfc_allocator.cc:1083] InUse at 7f8678de0b00 of size 256 next 1681\n",
      "2022-07-11 16:19:46.565640: I tensorflow/core/common_runtime/bfc_allocator.cc:1083] InUse at 7f8678de0c00 of size 256 next 1413\n",
      "2022-07-11 16:19:46.565644: I tensorflow/core/common_runtime/bfc_allocator.cc:1083] InUse at 7f8678de0d00 of size 1310720 next 1493\n",
      "2022-07-11 16:19:46.565648: I tensorflow/core/common_runtime/bfc_allocator.cc:1083] InUse at 7f8678f20d00 of size 1310720 next 1864\n",
      "2022-07-11 16:19:46.565652: I tensorflow/core/common_runtime/bfc_allocator.cc:1083] InUse at 7f8679060d00 of size 1310720 next 1875\n",
      "2022-07-11 16:19:46.565656: I tensorflow/core/common_runtime/bfc_allocator.cc:1083] InUse at 7f86791a0d00 of size 2212352 next 1810\n",
      "2022-07-11 16:19:46.565660: I tensorflow/core/common_runtime/bfc_allocator.cc:1083] InUse at 7f86793bcf00 of size 256 next 1556\n",
      "2022-07-11 16:19:46.565664: I tensorflow/core/common_runtime/bfc_allocator.cc:1083] InUse at 7f86793bd000 of size 256 next 1857\n",
      "2022-07-11 16:19:46.565668: I tensorflow/core/common_runtime/bfc_allocator.cc:1083] InUse at 7f86793bd100 of size 256 next 1621\n",
      "2022-07-11 16:19:46.565671: I tensorflow/core/common_runtime/bfc_allocator.cc:1083] InUse at 7f86793bd200 of size 256 next 1690\n",
      "2022-07-11 16:19:46.565675: I tensorflow/core/common_runtime/bfc_allocator.cc:1083] InUse at 7f86793bd300 of size 1310720 next 1795\n",
      "2022-07-11 16:19:46.565679: I tensorflow/core/common_runtime/bfc_allocator.cc:1083] InUse at 7f86794fd300 of size 1310720 next 1503\n",
      "2022-07-11 16:19:46.565683: I tensorflow/core/common_runtime/bfc_allocator.cc:1083] InUse at 7f867963d300 of size 1310720 next 1613\n",
      "2022-07-11 16:19:46.565687: I tensorflow/core/common_runtime/bfc_allocator.cc:1083] InUse at 7f867977d300 of size 2212352 next 1741\n",
      "2022-07-11 16:19:46.565691: I tensorflow/core/common_runtime/bfc_allocator.cc:1083] InUse at 7f8679999500 of size 256 next 1605\n",
      "2022-07-11 16:19:46.565695: I tensorflow/core/common_runtime/bfc_allocator.cc:1083] InUse at 7f8679999600 of size 256 next 1629\n",
      "2022-07-11 16:19:46.565699: I tensorflow/core/common_runtime/bfc_allocator.cc:1083] InUse at 7f8679999700 of size 256 next 1517\n",
      "2022-07-11 16:19:46.565703: I tensorflow/core/common_runtime/bfc_allocator.cc:1083] InUse at 7f8679999800 of size 256 next 1783\n",
      "2022-07-11 16:19:46.565706: I tensorflow/core/common_runtime/bfc_allocator.cc:1083] InUse at 7f8679999900 of size 1310720 next 1446\n",
      "2022-07-11 16:19:46.565710: I tensorflow/core/common_runtime/bfc_allocator.cc:1083] InUse at 7f8679ad9900 of size 1310720 next 1805\n",
      "2022-07-11 16:19:46.565714: I tensorflow/core/common_runtime/bfc_allocator.cc:1083] InUse at 7f8679c19900 of size 1310720 next 420\n",
      "2022-07-11 16:19:46.565718: I tensorflow/core/common_runtime/bfc_allocator.cc:1083] InUse at 7f8679d59900 of size 2212352 next 1762\n",
      "2022-07-11 16:19:46.565722: I tensorflow/core/common_runtime/bfc_allocator.cc:1083] InUse at 7f8679f75b00 of size 256 next 1660\n",
      "2022-07-11 16:19:46.565726: I tensorflow/core/common_runtime/bfc_allocator.cc:1083] InUse at 7f8679f75c00 of size 256 next 1862\n",
      "2022-07-11 16:19:46.565730: I tensorflow/core/common_runtime/bfc_allocator.cc:1083] InUse at 7f8679f75d00 of size 256 next 1780\n",
      "2022-07-11 16:19:46.565734: I tensorflow/core/common_runtime/bfc_allocator.cc:1083] InUse at 7f8679f75e00 of size 256 next 1549\n",
      "2022-07-11 16:19:46.565737: I tensorflow/core/common_runtime/bfc_allocator.cc:1083] InUse at 7f8679f75f00 of size 1310720 next 1558\n",
      "2022-07-11 16:19:46.565741: I tensorflow/core/common_runtime/bfc_allocator.cc:1083] InUse at 7f867a0b5f00 of size 1310720 next 1706\n",
      "2022-07-11 16:19:46.565745: I tensorflow/core/common_runtime/bfc_allocator.cc:1083] InUse at 7f867a1f5f00 of size 1310720 next 1481\n",
      "2022-07-11 16:19:46.565749: I tensorflow/core/common_runtime/bfc_allocator.cc:1083] InUse at 7f867a335f00 of size 2212352 next 1770\n",
      "2022-07-11 16:19:46.565753: I tensorflow/core/common_runtime/bfc_allocator.cc:1083] InUse at 7f867a552100 of size 256 next 1542\n",
      "2022-07-11 16:19:46.565757: I tensorflow/core/common_runtime/bfc_allocator.cc:1083] InUse at 7f867a552200 of size 256 next 1570\n",
      "2022-07-11 16:19:46.565761: I tensorflow/core/common_runtime/bfc_allocator.cc:1083] InUse at 7f867a552300 of size 256 next 1855\n",
      "2022-07-11 16:19:46.565765: I tensorflow/core/common_runtime/bfc_allocator.cc:1083] InUse at 7f867a552400 of size 256 next 1447\n",
      "2022-07-11 16:19:46.565769: I tensorflow/core/common_runtime/bfc_allocator.cc:1083] InUse at 7f867a552500 of size 1310720 next 1431\n",
      "2022-07-11 16:19:46.565773: I tensorflow/core/common_runtime/bfc_allocator.cc:1083] InUse at 7f867a692500 of size 1310720 next 1910\n",
      "2022-07-11 16:19:46.565777: I tensorflow/core/common_runtime/bfc_allocator.cc:1083] InUse at 7f867a7d2500 of size 1310720 next 1912\n",
      "2022-07-11 16:19:46.565780: I tensorflow/core/common_runtime/bfc_allocator.cc:1083] InUse at 7f867a912500 of size 2212352 next 1880\n",
      "2022-07-11 16:19:46.565784: I tensorflow/core/common_runtime/bfc_allocator.cc:1083] InUse at 7f867ab2e700 of size 256 next 1427\n",
      "2022-07-11 16:19:46.565788: I tensorflow/core/common_runtime/bfc_allocator.cc:1083] InUse at 7f867ab2e800 of size 256 next 1543\n",
      "2022-07-11 16:19:46.565792: I tensorflow/core/common_runtime/bfc_allocator.cc:1083] InUse at 7f867ab2e900 of size 256 next 1550\n",
      "2022-07-11 16:19:46.565796: I tensorflow/core/common_runtime/bfc_allocator.cc:1083] InUse at 7f867ab2ea00 of size 256 next 1609\n",
      "2022-07-11 16:19:46.565800: I tensorflow/core/common_runtime/bfc_allocator.cc:1083] InUse at 7f867ab2eb00 of size 1310720 next 1826\n",
      "2022-07-11 16:19:46.565804: I tensorflow/core/common_runtime/bfc_allocator.cc:1083] InUse at 7f867ac6eb00 of size 1310720 next 1918\n",
      "2022-07-11 16:19:46.565808: I tensorflow/core/common_runtime/bfc_allocator.cc:1083] InUse at 7f867adaeb00 of size 1310720 next 1920\n",
      "2022-07-11 16:19:46.565812: I tensorflow/core/common_runtime/bfc_allocator.cc:1083] InUse at 7f867aeeeb00 of size 2212352 next 1515\n",
      "2022-07-11 16:19:46.565816: I tensorflow/core/common_runtime/bfc_allocator.cc:1083] InUse at 7f867b10ad00 of size 256 next 1633\n",
      "2022-07-11 16:19:46.565820: I tensorflow/core/common_runtime/bfc_allocator.cc:1083] InUse at 7f867b10ae00 of size 256 next 1499\n",
      "2022-07-11 16:19:46.565823: I tensorflow/core/common_runtime/bfc_allocator.cc:1083] InUse at 7f867b10af00 of size 256 next 1386\n",
      "2022-07-11 16:19:46.565827: I tensorflow/core/common_runtime/bfc_allocator.cc:1083] InUse at 7f867b10b000 of size 256 next 1877\n",
      "2022-07-11 16:19:46.565831: I tensorflow/core/common_runtime/bfc_allocator.cc:1083] InUse at 7f867b10b100 of size 1310720 next 1657\n",
      "2022-07-11 16:19:46.565835: I tensorflow/core/common_runtime/bfc_allocator.cc:1083] InUse at 7f867b24b100 of size 1310720 next 1926\n",
      "2022-07-11 16:19:46.565839: I tensorflow/core/common_runtime/bfc_allocator.cc:1083] InUse at 7f867b38b100 of size 1310720 next 1928\n",
      "2022-07-11 16:19:46.565843: I tensorflow/core/common_runtime/bfc_allocator.cc:1083] InUse at 7f867b4cb100 of size 2212352 next 1378\n",
      "2022-07-11 16:19:46.565847: I tensorflow/core/common_runtime/bfc_allocator.cc:1083] InUse at 7f867b6e7300 of size 256 next 1665\n",
      "2022-07-11 16:19:46.565851: I tensorflow/core/common_runtime/bfc_allocator.cc:1083] InUse at 7f867b6e7400 of size 256 next 1584\n",
      "2022-07-11 16:19:46.565854: I tensorflow/core/common_runtime/bfc_allocator.cc:1083] InUse at 7f867b6e7500 of size 256 next 1473\n",
      "2022-07-11 16:19:46.565858: I tensorflow/core/common_runtime/bfc_allocator.cc:1083] InUse at 7f867b6e7600 of size 256 next 1742\n",
      "2022-07-11 16:19:46.565862: I tensorflow/core/common_runtime/bfc_allocator.cc:1083] InUse at 7f867b6e7700 of size 1310720 next 1405\n",
      "2022-07-11 16:19:46.565866: I tensorflow/core/common_runtime/bfc_allocator.cc:1083] InUse at 7f867b827700 of size 1310720 next 1934\n",
      "2022-07-11 16:19:46.565870: I tensorflow/core/common_runtime/bfc_allocator.cc:1083] InUse at 7f867b967700 of size 1310720 next 1936\n",
      "2022-07-11 16:19:46.565874: I tensorflow/core/common_runtime/bfc_allocator.cc:1083] InUse at 7f867baa7700 of size 2212352 next 1531\n",
      "2022-07-11 16:19:46.565878: I tensorflow/core/common_runtime/bfc_allocator.cc:1083] InUse at 7f867bcc3900 of size 256 next 1465\n",
      "2022-07-11 16:19:46.565882: I tensorflow/core/common_runtime/bfc_allocator.cc:1083] InUse at 7f867bcc3a00 of size 256 next 1422\n",
      "2022-07-11 16:19:46.565885: I tensorflow/core/common_runtime/bfc_allocator.cc:1083] InUse at 7f867bcc3b00 of size 256 next 1679\n",
      "2022-07-11 16:19:46.565889: I tensorflow/core/common_runtime/bfc_allocator.cc:1083] InUse at 7f867bcc3c00 of size 256 next 1675\n",
      "2022-07-11 16:19:46.565893: I tensorflow/core/common_runtime/bfc_allocator.cc:1083] InUse at 7f867bcc3d00 of size 1310720 next 1692\n",
      "2022-07-11 16:19:46.565897: I tensorflow/core/common_runtime/bfc_allocator.cc:1083] InUse at 7f867be03d00 of size 1310720 next 1942\n",
      "2022-07-11 16:19:46.565901: I tensorflow/core/common_runtime/bfc_allocator.cc:1083] InUse at 7f867bf43d00 of size 1310720 next 1944\n",
      "2022-07-11 16:19:46.565905: I tensorflow/core/common_runtime/bfc_allocator.cc:1083] InUse at 7f867c083d00 of size 2212352 next 1521\n",
      "2022-07-11 16:19:46.565909: I tensorflow/core/common_runtime/bfc_allocator.cc:1083] InUse at 7f867c29ff00 of size 256 next 1507\n",
      "2022-07-11 16:19:46.565913: I tensorflow/core/common_runtime/bfc_allocator.cc:1083] InUse at 7f867c2a0000 of size 256 next 1694\n",
      "2022-07-11 16:19:46.565916: I tensorflow/core/common_runtime/bfc_allocator.cc:1083] InUse at 7f867c2a0100 of size 256 next 1523\n",
      "2022-07-11 16:19:46.565920: I tensorflow/core/common_runtime/bfc_allocator.cc:1083] InUse at 7f867c2a0200 of size 256 next 1603\n",
      "2022-07-11 16:19:46.565924: I tensorflow/core/common_runtime/bfc_allocator.cc:1083] InUse at 7f867c2a0300 of size 1310720 next 1655\n",
      "2022-07-11 16:19:46.565928: I tensorflow/core/common_runtime/bfc_allocator.cc:1083] InUse at 7f867c3e0300 of size 1310720 next 1950\n",
      "2022-07-11 16:19:46.565932: I tensorflow/core/common_runtime/bfc_allocator.cc:1083] InUse at 7f867c520300 of size 1310720 next 1952\n",
      "2022-07-11 16:19:46.565936: I tensorflow/core/common_runtime/bfc_allocator.cc:1083] InUse at 7f867c660300 of size 2212352 next 1911\n",
      "2022-07-11 16:19:46.565940: I tensorflow/core/common_runtime/bfc_allocator.cc:1083] InUse at 7f867c87c500 of size 256 next 1579\n",
      "2022-07-11 16:19:46.565943: I tensorflow/core/common_runtime/bfc_allocator.cc:1083] InUse at 7f867c87c600 of size 256 next 1886\n",
      "2022-07-11 16:19:46.565947: I tensorflow/core/common_runtime/bfc_allocator.cc:1083] InUse at 7f867c87c700 of size 256 next 1785\n",
      "2022-07-11 16:19:46.565951: I tensorflow/core/common_runtime/bfc_allocator.cc:1083] InUse at 7f867c87c800 of size 256 next 1937\n",
      "2022-07-11 16:19:46.565955: I tensorflow/core/common_runtime/bfc_allocator.cc:1083] InUse at 7f867c87c900 of size 1310720 next 1566\n",
      "2022-07-11 16:19:46.565959: I tensorflow/core/common_runtime/bfc_allocator.cc:1083] InUse at 7f867c9bc900 of size 1310720 next 1958\n",
      "2022-07-11 16:19:46.565963: I tensorflow/core/common_runtime/bfc_allocator.cc:1083] InUse at 7f867cafc900 of size 1310720 next 1960\n",
      "2022-07-11 16:19:46.565967: I tensorflow/core/common_runtime/bfc_allocator.cc:1083] InUse at 7f867cc3c900 of size 2212352 next 1547\n",
      "2022-07-11 16:19:46.565971: I tensorflow/core/common_runtime/bfc_allocator.cc:1083] InUse at 7f867ce58b00 of size 256 next 1939\n",
      "2022-07-11 16:19:46.565975: I tensorflow/core/common_runtime/bfc_allocator.cc:1083] InUse at 7f867ce58c00 of size 256 next 1908\n",
      "2022-07-11 16:19:46.565978: I tensorflow/core/common_runtime/bfc_allocator.cc:1083] InUse at 7f867ce58d00 of size 256 next 1428\n",
      "2022-07-11 16:19:46.565982: I tensorflow/core/common_runtime/bfc_allocator.cc:1083] InUse at 7f867ce58e00 of size 256 next 1450\n",
      "2022-07-11 16:19:46.565986: I tensorflow/core/common_runtime/bfc_allocator.cc:1083] InUse at 7f867ce58f00 of size 1310720 next 1818\n",
      "2022-07-11 16:19:46.565990: I tensorflow/core/common_runtime/bfc_allocator.cc:1083] InUse at 7f867cf98f00 of size 1310720 next 1966\n",
      "2022-07-11 16:19:46.565994: I tensorflow/core/common_runtime/bfc_allocator.cc:1083] InUse at 7f867d0d8f00 of size 1310720 next 1968\n",
      "2022-07-11 16:19:46.565998: I tensorflow/core/common_runtime/bfc_allocator.cc:1083] InUse at 7f867d218f00 of size 2212352 next 1425\n",
      "2022-07-11 16:19:46.566002: I tensorflow/core/common_runtime/bfc_allocator.cc:1083] InUse at 7f867d435100 of size 256 next 1528\n",
      "2022-07-11 16:19:46.566006: I tensorflow/core/common_runtime/bfc_allocator.cc:1083] InUse at 7f867d435200 of size 256 next 1483\n",
      "2022-07-11 16:19:46.566009: I tensorflow/core/common_runtime/bfc_allocator.cc:1083] InUse at 7f867d435300 of size 256 next 1917\n",
      "2022-07-11 16:19:46.566096: I tensorflow/core/common_runtime/bfc_allocator.cc:1083] InUse at 7f867d435400 of size 256 next 1813\n",
      "2022-07-11 16:19:46.566100: I tensorflow/core/common_runtime/bfc_allocator.cc:1083] InUse at 7f867d435500 of size 1310720 next 1651\n",
      "2022-07-11 16:19:46.566104: I tensorflow/core/common_runtime/bfc_allocator.cc:1083] InUse at 7f867d575500 of size 1310720 next 1974\n",
      "2022-07-11 16:19:46.566108: I tensorflow/core/common_runtime/bfc_allocator.cc:1083] InUse at 7f867d6b5500 of size 1310720 next 1976\n",
      "2022-07-11 16:19:46.566112: I tensorflow/core/common_runtime/bfc_allocator.cc:1083] InUse at 7f867d7f5500 of size 2212352 next 1451\n",
      "2022-07-11 16:19:46.566116: I tensorflow/core/common_runtime/bfc_allocator.cc:1083] InUse at 7f867da11700 of size 256 next 1485\n",
      "2022-07-11 16:19:46.566120: I tensorflow/core/common_runtime/bfc_allocator.cc:1083] InUse at 7f867da11800 of size 256 next 1389\n",
      "2022-07-11 16:19:46.566124: I tensorflow/core/common_runtime/bfc_allocator.cc:1083] InUse at 7f867da11900 of size 256 next 1567\n",
      "2022-07-11 16:19:46.566127: I tensorflow/core/common_runtime/bfc_allocator.cc:1083] InUse at 7f867da11a00 of size 256 next 1699\n",
      "2022-07-11 16:19:46.566131: I tensorflow/core/common_runtime/bfc_allocator.cc:1083] InUse at 7f867da11b00 of size 1310720 next 1772\n",
      "2022-07-11 16:19:46.566135: I tensorflow/core/common_runtime/bfc_allocator.cc:1083] InUse at 7f867db51b00 of size 1310720 next 1982\n",
      "2022-07-11 16:19:46.566139: I tensorflow/core/common_runtime/bfc_allocator.cc:1083] InUse at 7f867dc91b00 of size 1310720 next 1984\n",
      "2022-07-11 16:19:46.566143: I tensorflow/core/common_runtime/bfc_allocator.cc:1083] InUse at 7f867ddd1b00 of size 2212352 next 1721\n",
      "2022-07-11 16:19:46.566147: I tensorflow/core/common_runtime/bfc_allocator.cc:1083] InUse at 7f867dfedd00 of size 256 next 1883\n",
      "2022-07-11 16:19:46.566151: I tensorflow/core/common_runtime/bfc_allocator.cc:1083] InUse at 7f867dfede00 of size 256 next 1860\n",
      "2022-07-11 16:19:46.566155: I tensorflow/core/common_runtime/bfc_allocator.cc:1083] InUse at 7f867dfedf00 of size 256 next 1641\n",
      "2022-07-11 16:19:46.566158: I tensorflow/core/common_runtime/bfc_allocator.cc:1083] InUse at 7f867dfee000 of size 256 next 1811\n",
      "2022-07-11 16:19:46.566162: I tensorflow/core/common_runtime/bfc_allocator.cc:1083] InUse at 7f867dfee100 of size 1310720 next 1794\n",
      "2022-07-11 16:19:46.566166: I tensorflow/core/common_runtime/bfc_allocator.cc:1083] InUse at 7f867e12e100 of size 1310720 next 1990\n",
      "2022-07-11 16:19:46.566170: I tensorflow/core/common_runtime/bfc_allocator.cc:1083] InUse at 7f867e26e100 of size 1310720 next 1992\n",
      "2022-07-11 16:19:46.566174: I tensorflow/core/common_runtime/bfc_allocator.cc:1083] InUse at 7f867e3ae100 of size 2212352 next 1682\n",
      "2022-07-11 16:19:46.566178: I tensorflow/core/common_runtime/bfc_allocator.cc:1083] InUse at 7f867e5ca300 of size 256 next 1649\n",
      "2022-07-11 16:19:46.566182: I tensorflow/core/common_runtime/bfc_allocator.cc:1083] InUse at 7f867e5ca400 of size 256 next 1731\n",
      "2022-07-11 16:19:46.566186: I tensorflow/core/common_runtime/bfc_allocator.cc:1083] InUse at 7f867e5ca500 of size 256 next 1815\n",
      "2022-07-11 16:19:46.566190: I tensorflow/core/common_runtime/bfc_allocator.cc:1083] InUse at 7f867e5ca600 of size 256 next 1661\n",
      "2022-07-11 16:19:46.566194: I tensorflow/core/common_runtime/bfc_allocator.cc:1083] InUse at 7f867e5ca700 of size 1310720 next 1820\n",
      "2022-07-11 16:19:46.566198: I tensorflow/core/common_runtime/bfc_allocator.cc:1083] InUse at 7f867e70a700 of size 1310720 next 1998\n",
      "2022-07-11 16:19:46.566201: I tensorflow/core/common_runtime/bfc_allocator.cc:1083] InUse at 7f867e84a700 of size 1310720 next 2000\n",
      "2022-07-11 16:19:46.566205: I tensorflow/core/common_runtime/bfc_allocator.cc:1083] InUse at 7f867e98a700 of size 2212352 next 1790\n",
      "2022-07-11 16:19:46.566209: I tensorflow/core/common_runtime/bfc_allocator.cc:1083] InUse at 7f867eba6900 of size 256 next 1457\n",
      "2022-07-11 16:19:46.566213: I tensorflow/core/common_runtime/bfc_allocator.cc:1083] InUse at 7f867eba6a00 of size 256 next 1469\n",
      "2022-07-11 16:19:46.566217: I tensorflow/core/common_runtime/bfc_allocator.cc:1083] InUse at 7f867eba6b00 of size 256 next 1500\n",
      "2022-07-11 16:19:46.566221: I tensorflow/core/common_runtime/bfc_allocator.cc:1083] InUse at 7f867eba6c00 of size 256 next 1417\n",
      "2022-07-11 16:19:46.566225: I tensorflow/core/common_runtime/bfc_allocator.cc:1083] InUse at 7f867eba6d00 of size 1310720 next 1843\n",
      "2022-07-11 16:19:46.566229: I tensorflow/core/common_runtime/bfc_allocator.cc:1083] InUse at 7f867ece6d00 of size 1310720 next 2006\n",
      "2022-07-11 16:19:46.566232: I tensorflow/core/common_runtime/bfc_allocator.cc:1083] InUse at 7f867ee26d00 of size 1310720 next 2008\n",
      "2022-07-11 16:19:46.566236: I tensorflow/core/common_runtime/bfc_allocator.cc:1083] InUse at 7f867ef66d00 of size 2212352 next 1396\n",
      "2022-07-11 16:19:46.566240: I tensorflow/core/common_runtime/bfc_allocator.cc:1083] InUse at 7f867f182f00 of size 256 next 1894\n",
      "2022-07-11 16:19:46.566244: I tensorflow/core/common_runtime/bfc_allocator.cc:1083] InUse at 7f867f183000 of size 256 next 1940\n",
      "2022-07-11 16:19:46.566248: I tensorflow/core/common_runtime/bfc_allocator.cc:1083] InUse at 7f867f183100 of size 256 next 1702\n",
      "2022-07-11 16:19:46.566252: I tensorflow/core/common_runtime/bfc_allocator.cc:1083] InUse at 7f867f183200 of size 256 next 1444\n",
      "2022-07-11 16:19:46.566256: I tensorflow/core/common_runtime/bfc_allocator.cc:1083] InUse at 7f867f183300 of size 1310720 next 1416\n",
      "2022-07-11 16:19:46.566260: I tensorflow/core/common_runtime/bfc_allocator.cc:1083] InUse at 7f867f2c3300 of size 1310720 next 1443\n",
      "2022-07-11 16:19:46.566264: I tensorflow/core/common_runtime/bfc_allocator.cc:1083] InUse at 7f867f403300 of size 1310720 next 1784\n",
      "2022-07-11 16:19:46.566268: I tensorflow/core/common_runtime/bfc_allocator.cc:1083] InUse at 7f867f543300 of size 2212352 next 1689\n",
      "2022-07-11 16:19:46.566272: I tensorflow/core/common_runtime/bfc_allocator.cc:1083] InUse at 7f867f75f500 of size 256 next 1410\n",
      "2022-07-11 16:19:46.566277: I tensorflow/core/common_runtime/bfc_allocator.cc:1083] InUse at 7f867f75f600 of size 256 next 1948\n",
      "2022-07-11 16:19:46.566281: I tensorflow/core/common_runtime/bfc_allocator.cc:1083] InUse at 7f867f75f700 of size 256 next 1840\n",
      "2022-07-11 16:19:46.566285: I tensorflow/core/common_runtime/bfc_allocator.cc:1083] InUse at 7f867f75f800 of size 256 next 1643\n",
      "2022-07-11 16:19:46.566289: I tensorflow/core/common_runtime/bfc_allocator.cc:1083] InUse at 7f867f75f900 of size 1310720 next 1799\n",
      "2022-07-11 16:19:46.566293: I tensorflow/core/common_runtime/bfc_allocator.cc:1083] InUse at 7f867f89f900 of size 1310720 next 1769\n",
      "2022-07-11 16:19:46.566297: I tensorflow/core/common_runtime/bfc_allocator.cc:1083] InUse at 7f867f9df900 of size 1310720 next 1452\n",
      "2022-07-11 16:19:46.566300: I tensorflow/core/common_runtime/bfc_allocator.cc:1083] InUse at 7f867fb1f900 of size 2212352 next 471\n",
      "2022-07-11 16:19:46.566304: I tensorflow/core/common_runtime/bfc_allocator.cc:1083] InUse at 7f867fd3bb00 of size 256 next 1753\n",
      "2022-07-11 16:19:46.566308: I tensorflow/core/common_runtime/bfc_allocator.cc:1083] InUse at 7f867fd3bc00 of size 256 next 1956\n",
      "2022-07-11 16:19:46.566312: I tensorflow/core/common_runtime/bfc_allocator.cc:1083] InUse at 7f867fd3bd00 of size 256 next 1931\n",
      "2022-07-11 16:19:46.566316: I tensorflow/core/common_runtime/bfc_allocator.cc:1083] InUse at 7f867fd3be00 of size 256 next 1562\n",
      "2022-07-11 16:19:46.566320: I tensorflow/core/common_runtime/bfc_allocator.cc:1083] InUse at 7f867fd3bf00 of size 1310720 next 1685\n",
      "2022-07-11 16:19:46.566324: I tensorflow/core/common_runtime/bfc_allocator.cc:1083] InUse at 7f867fe7bf00 of size 1310720 next 1871\n",
      "2022-07-11 16:19:46.566328: I tensorflow/core/common_runtime/bfc_allocator.cc:1083] InUse at 7f867ffbbf00 of size 1310720 next 1459\n",
      "2022-07-11 16:19:46.566332: I tensorflow/core/common_runtime/bfc_allocator.cc:1083] InUse at 7f86800fbf00 of size 2212352 next 1391\n",
      "2022-07-11 16:19:46.566336: I tensorflow/core/common_runtime/bfc_allocator.cc:1083] InUse at 7f8680318100 of size 256 next 1789\n",
      "2022-07-11 16:19:46.566340: I tensorflow/core/common_runtime/bfc_allocator.cc:1083] InUse at 7f8680318200 of size 256 next 1964\n",
      "2022-07-11 16:19:46.566344: I tensorflow/core/common_runtime/bfc_allocator.cc:1083] InUse at 7f8680318300 of size 256 next 1441\n",
      "2022-07-11 16:19:46.566347: I tensorflow/core/common_runtime/bfc_allocator.cc:1083] InUse at 7f8680318400 of size 256 next 1907\n",
      "2022-07-11 16:19:46.566351: I tensorflow/core/common_runtime/bfc_allocator.cc:1083] InUse at 7f8680318500 of size 1310720 next 1869\n",
      "2022-07-11 16:19:46.566355: I tensorflow/core/common_runtime/bfc_allocator.cc:1083] InUse at 7f8680458500 of size 1310720 next 1576\n",
      "2022-07-11 16:19:46.566359: I tensorflow/core/common_runtime/bfc_allocator.cc:1083] InUse at 7f8680598500 of size 1310720 next 1595\n",
      "2022-07-11 16:19:46.566363: I tensorflow/core/common_runtime/bfc_allocator.cc:1083] InUse at 7f86806d8500 of size 2212352 next 1993\n",
      "2022-07-11 16:19:46.566367: I tensorflow/core/common_runtime/bfc_allocator.cc:1083] InUse at 7f86808f4700 of size 256 next 1652\n",
      "2022-07-11 16:19:46.566371: I tensorflow/core/common_runtime/bfc_allocator.cc:1083] InUse at 7f86808f4800 of size 256 next 1622\n",
      "2022-07-11 16:19:46.566376: I tensorflow/core/common_runtime/bfc_allocator.cc:1083] InUse at 7f86808f4900 of size 256 next 1455\n",
      "2022-07-11 16:19:46.566380: I tensorflow/core/common_runtime/bfc_allocator.cc:1083] InUse at 7f86808f4a00 of size 256 next 1707\n",
      "2022-07-11 16:19:46.566384: I tensorflow/core/common_runtime/bfc_allocator.cc:1083] InUse at 7f86808f4b00 of size 1310720 next 1534\n",
      "2022-07-11 16:19:46.566388: I tensorflow/core/common_runtime/bfc_allocator.cc:1083] InUse at 7f8680a34b00 of size 1310720 next 1439\n",
      "2022-07-11 16:19:46.566392: I tensorflow/core/common_runtime/bfc_allocator.cc:1083] InUse at 7f8680b74b00 of size 1310720 next 1867\n",
      "2022-07-11 16:19:46.566395: I tensorflow/core/common_runtime/bfc_allocator.cc:1083] InUse at 7f8680cb4b00 of size 2212352 next 2001\n",
      "2022-07-11 16:19:46.566399: I tensorflow/core/common_runtime/bfc_allocator.cc:1083] InUse at 7f8680ed0d00 of size 256 next 1630\n",
      "2022-07-11 16:19:46.566403: I tensorflow/core/common_runtime/bfc_allocator.cc:1083] InUse at 7f8680ed0e00 of size 256 next 1834\n",
      "2022-07-11 16:19:46.566407: I tensorflow/core/common_runtime/bfc_allocator.cc:1083] InUse at 7f8680ed0f00 of size 256 next 1586\n",
      "2022-07-11 16:19:46.566411: I tensorflow/core/common_runtime/bfc_allocator.cc:1083] InUse at 7f8680ed1000 of size 256 next 1817\n",
      "2022-07-11 16:19:46.566415: I tensorflow/core/common_runtime/bfc_allocator.cc:1083] InUse at 7f8680ed1100 of size 1310720 next 1764\n",
      "2022-07-11 16:19:46.566419: I tensorflow/core/common_runtime/bfc_allocator.cc:1083] InUse at 7f8681011100 of size 1310720 next 1423\n",
      "2022-07-11 16:19:46.566424: I tensorflow/core/common_runtime/bfc_allocator.cc:1083] InUse at 7f8681151100 of size 1310720 next 1632\n",
      "2022-07-11 16:19:46.566428: I tensorflow/core/common_runtime/bfc_allocator.cc:1083] InUse at 7f8681291100 of size 2212352 next 2009\n",
      "2022-07-11 16:19:46.566432: I tensorflow/core/common_runtime/bfc_allocator.cc:1083] InUse at 7f86814ad300 of size 256 next 1903\n",
      "2022-07-11 16:19:46.566436: I tensorflow/core/common_runtime/bfc_allocator.cc:1083] InUse at 7f86814ad400 of size 256 next 1856\n",
      "2022-07-11 16:19:46.566440: I tensorflow/core/common_runtime/bfc_allocator.cc:1083] InUse at 7f86814ad500 of size 256 next 1638\n",
      "2022-07-11 16:19:46.566443: I tensorflow/core/common_runtime/bfc_allocator.cc:1083] InUse at 7f86814ad600 of size 256 next 1756\n",
      "2022-07-11 16:19:46.566447: I tensorflow/core/common_runtime/bfc_allocator.cc:1083] InUse at 7f86814ad700 of size 1310720 next 1581\n",
      "2022-07-11 16:19:46.566451: I tensorflow/core/common_runtime/bfc_allocator.cc:1083] InUse at 7f86815ed700 of size 1310720 next 1963\n",
      "2022-07-11 16:19:46.566455: I tensorflow/core/common_runtime/bfc_allocator.cc:1083] InUse at 7f868172d700 of size 1310720 next 2098\n",
      "2022-07-11 16:19:46.566459: I tensorflow/core/common_runtime/bfc_allocator.cc:1083] InUse at 7f868186d700 of size 2212352 next 2017\n",
      "2022-07-11 16:19:46.566463: I tensorflow/core/common_runtime/bfc_allocator.cc:1083] InUse at 7f8681a89900 of size 256 next 1676\n",
      "2022-07-11 16:19:46.566467: I tensorflow/core/common_runtime/bfc_allocator.cc:1083] InUse at 7f8681a89a00 of size 1310720 next 1654\n",
      "2022-07-11 16:19:46.566470: I tensorflow/core/common_runtime/bfc_allocator.cc:1083] InUse at 7f8681bc9a00 of size 1310720 next 1414\n",
      "2022-07-11 16:19:46.566474: I tensorflow/core/common_runtime/bfc_allocator.cc:1083] InUse at 7f8681d09a00 of size 1310720 next 1845\n",
      "2022-07-11 16:19:46.566478: I tensorflow/core/common_runtime/bfc_allocator.cc:1083] InUse at 7f8681e49a00 of size 2212352 next 1972\n",
      "2022-07-11 16:19:46.566482: I tensorflow/core/common_runtime/bfc_allocator.cc:1083] InUse at 7f8682065c00 of size 256 next 1833\n",
      "2022-07-11 16:19:46.566486: I tensorflow/core/common_runtime/bfc_allocator.cc:1083] InUse at 7f8682065d00 of size 256 next 2004\n",
      "2022-07-11 16:19:46.566490: I tensorflow/core/common_runtime/bfc_allocator.cc:1083] InUse at 7f8682065e00 of size 256 next 2023\n",
      "2022-07-11 16:19:46.566494: I tensorflow/core/common_runtime/bfc_allocator.cc:1083] InUse at 7f8682065f00 of size 256 next 1945\n",
      "2022-07-11 16:19:46.566497: I tensorflow/core/common_runtime/bfc_allocator.cc:1083] InUse at 7f8682066000 of size 1310720 next 450\n",
      "2022-07-11 16:19:46.566501: I tensorflow/core/common_runtime/bfc_allocator.cc:1083] InUse at 7f86821a6000 of size 1310720 next 1703\n",
      "2022-07-11 16:19:46.566512: I tensorflow/core/common_runtime/bfc_allocator.cc:1083] InUse at 7f86822e6000 of size 1310720 next 2117\n",
      "2022-07-11 16:19:46.566518: I tensorflow/core/common_runtime/bfc_allocator.cc:1083] InUse at 7f8682426000 of size 2212352 next 1597\n",
      "2022-07-11 16:19:46.566522: I tensorflow/core/common_runtime/bfc_allocator.cc:1083] InUse at 7f8682642200 of size 256 next 1830\n",
      "2022-07-11 16:19:46.566526: I tensorflow/core/common_runtime/bfc_allocator.cc:1083] InUse at 7f8682642300 of size 150528 next 1955\n",
      "2022-07-11 16:19:46.566530: I tensorflow/core/common_runtime/bfc_allocator.cc:1083] InUse at 7f8682666f00 of size 602112 next 1403\n",
      "2022-07-11 16:19:46.566534: I tensorflow/core/common_runtime/bfc_allocator.cc:1083] InUse at 7f86826f9f00 of size 150528 next 2208\n",
      "2022-07-11 16:19:46.566538: I tensorflow/core/common_runtime/bfc_allocator.cc:1083] InUse at 7f868271eb00 of size 256 next 2161\n",
      "2022-07-11 16:19:46.566542: I tensorflow/core/common_runtime/bfc_allocator.cc:1083] InUse at 7f868271ec00 of size 1536 next 2262\n",
      "2022-07-11 16:19:46.566546: I tensorflow/core/common_runtime/bfc_allocator.cc:1083] InUse at 7f868271f200 of size 256 next 2080\n",
      "2022-07-11 16:19:46.566550: I tensorflow/core/common_runtime/bfc_allocator.cc:1083] InUse at 7f868271f300 of size 294912 next 1971\n",
      "2022-07-11 16:19:46.566554: I tensorflow/core/common_runtime/bfc_allocator.cc:1083] InUse at 7f8682767300 of size 32768 next 1732\n",
      "2022-07-11 16:19:46.566558: I tensorflow/core/common_runtime/bfc_allocator.cc:1083] InUse at 7f868276f300 of size 256 next 1793\n",
      "2022-07-11 16:19:46.566562: I tensorflow/core/common_runtime/bfc_allocator.cc:1083] InUse at 7f868276f400 of size 602112 next 1832\n",
      "2022-07-11 16:19:46.566566: I tensorflow/core/common_runtime/bfc_allocator.cc:1083] InUse at 7f8682802400 of size 2816 next 1837\n",
      "2022-07-11 16:19:46.566570: I tensorflow/core/common_runtime/bfc_allocator.cc:1083] InUse at 7f8682802f00 of size 13824 next 1569\n",
      "2022-07-11 16:19:46.566574: I tensorflow/core/common_runtime/bfc_allocator.cc:1083] InUse at 7f8682806500 of size 294912 next 2258\n",
      "2022-07-11 16:19:46.566578: I tensorflow/core/common_runtime/bfc_allocator.cc:1083] InUse at 7f868284e500 of size 2816 next 2144\n",
      "2022-07-11 16:19:46.566582: I tensorflow/core/common_runtime/bfc_allocator.cc:1083] InUse at 7f868284f000 of size 32768 next 1705\n",
      "2022-07-11 16:19:46.566586: I tensorflow/core/common_runtime/bfc_allocator.cc:1083] InUse at 7f8682857000 of size 442368 next 2237\n",
      "2022-07-11 16:19:46.566590: I tensorflow/core/common_runtime/bfc_allocator.cc:1083] InUse at 7f86828c3000 of size 1769472 next 1674\n",
      "2022-07-11 16:19:46.566593: I tensorflow/core/common_runtime/bfc_allocator.cc:1083] InUse at 7f8682a73000 of size 442368 next 1496\n",
      "2022-07-11 16:19:46.566597: I tensorflow/core/common_runtime/bfc_allocator.cc:1083] InUse at 7f8682adf000 of size 41472 next 1467\n",
      "2022-07-11 16:19:46.566601: I tensorflow/core/common_runtime/bfc_allocator.cc:1083] InUse at 7f8682ae9200 of size 442368 next 1726\n",
      "2022-07-11 16:19:46.566605: I tensorflow/core/common_runtime/bfc_allocator.cc:1083] InUse at 7f8682b55200 of size 1769472 next 2071\n",
      "2022-07-11 16:19:46.566609: I tensorflow/core/common_runtime/bfc_allocator.cc:1083] InUse at 7f8682d05200 of size 41472 next 1713\n",
      "2022-07-11 16:19:46.566613: I tensorflow/core/common_runtime/bfc_allocator.cc:1083] InUse at 7f8682d0f400 of size 442368 next 2271\n",
      "2022-07-11 16:19:46.566617: I tensorflow/core/common_runtime/bfc_allocator.cc:1083] InUse at 7f8682d7b400 of size 24320 next 2232\n",
      "2022-07-11 16:19:46.566621: I tensorflow/core/common_runtime/bfc_allocator.cc:1083] InUse at 7f8682d81300 of size 602112 next 1806\n",
      "2022-07-11 16:19:46.566625: I tensorflow/core/common_runtime/bfc_allocator.cc:1083] InUse at 7f8682e14300 of size 150528 next 2010\n",
      "2022-07-11 16:19:46.566629: I tensorflow/core/common_runtime/bfc_allocator.cc:1083] InUse at 7f8682e38f00 of size 294912 next 1995\n",
      "2022-07-11 16:19:46.566633: I tensorflow/core/common_runtime/bfc_allocator.cc:1083] InUse at 7f8682e80f00 of size 452864 next 2082\n",
      "2022-07-11 16:19:46.566637: I tensorflow/core/common_runtime/bfc_allocator.cc:1083] InUse at 7f8682eef800 of size 256 next 1554\n",
      "2022-07-11 16:19:46.566641: I tensorflow/core/common_runtime/bfc_allocator.cc:1083] InUse at 7f8682eef900 of size 442368 next 1961\n",
      "2022-07-11 16:19:46.566645: I tensorflow/core/common_runtime/bfc_allocator.cc:1083] InUse at 7f8682f5b900 of size 256 next 1564\n",
      "2022-07-11 16:19:46.566649: I tensorflow/core/common_runtime/bfc_allocator.cc:1083] InUse at 7f8682f5ba00 of size 442368 next 2205\n",
      "2022-07-11 16:19:46.566653: I tensorflow/core/common_runtime/bfc_allocator.cc:1083] InUse at 7f8682fc7a00 of size 256 next 2131\n",
      "2022-07-11 16:19:46.566657: I tensorflow/core/common_runtime/bfc_allocator.cc:1083] InUse at 7f8682fc7b00 of size 4608 next 1697\n",
      "2022-07-11 16:19:46.566661: I tensorflow/core/common_runtime/bfc_allocator.cc:1083] InUse at 7f8682fc8d00 of size 4608 next 1979\n",
      "2022-07-11 16:19:46.566665: I tensorflow/core/common_runtime/bfc_allocator.cc:1083] InUse at 7f8682fc9f00 of size 4608 next 2267\n",
      "2022-07-11 16:19:46.566669: I tensorflow/core/common_runtime/bfc_allocator.cc:1083] InUse at 7f8682fcb100 of size 256 next 1572\n",
      "2022-07-11 16:19:46.566673: I tensorflow/core/common_runtime/bfc_allocator.cc:1083] InUse at 7f8682fcb200 of size 32768 next 1592\n",
      "2022-07-11 16:19:46.566677: I tensorflow/core/common_runtime/bfc_allocator.cc:1083] InUse at 7f8682fd3200 of size 41472 next 2133\n",
      "2022-07-11 16:19:46.566680: I tensorflow/core/common_runtime/bfc_allocator.cc:1083] InUse at 7f8682fdd400 of size 4608 next 1991\n",
      "2022-07-11 16:19:46.566684: I tensorflow/core/common_runtime/bfc_allocator.cc:1083] InUse at 7f8682fde600 of size 442368 next 2246\n",
      "2022-07-11 16:19:46.566688: I tensorflow/core/common_runtime/bfc_allocator.cc:1083] InUse at 7f868304a600 of size 256 next 2051\n",
      "2022-07-11 16:19:46.566692: I tensorflow/core/common_runtime/bfc_allocator.cc:1083] InUse at 7f868304a700 of size 442368 next 2167\n",
      "2022-07-11 16:19:46.566696: I tensorflow/core/common_runtime/bfc_allocator.cc:1083] InUse at 7f86830b6700 of size 1228800 next 2016\n",
      "2022-07-11 16:19:46.566700: I tensorflow/core/common_runtime/bfc_allocator.cc:1083] InUse at 7f86831e2700 of size 1769472 next 2109\n",
      "2022-07-11 16:19:46.566704: I tensorflow/core/common_runtime/bfc_allocator.cc:1083] InUse at 7f8683392700 of size 442368 next 1561\n",
      "2022-07-11 16:19:46.566709: I tensorflow/core/common_runtime/bfc_allocator.cc:1083] InUse at 7f86833fe700 of size 1769472 next 2034\n",
      "2022-07-11 16:19:46.566713: I tensorflow/core/common_runtime/bfc_allocator.cc:1083] InUse at 7f86835ae700 of size 41472 next 2106\n",
      "2022-07-11 16:19:46.566717: I tensorflow/core/common_runtime/bfc_allocator.cc:1083] InUse at 7f86835b8900 of size 1983744 next 1601\n",
      "2022-07-11 16:19:46.566721: I tensorflow/core/common_runtime/bfc_allocator.cc:1083] InUse at 7f868379ce00 of size 256 next 1812\n",
      "2022-07-11 16:19:46.566725: I tensorflow/core/common_runtime/bfc_allocator.cc:1083] InUse at 7f868379cf00 of size 150528 next 1727\n",
      "2022-07-11 16:19:46.566729: I tensorflow/core/common_runtime/bfc_allocator.cc:1083] InUse at 7f86837c1b00 of size 32768 next 1994\n",
      "2022-07-11 16:19:46.566732: I tensorflow/core/common_runtime/bfc_allocator.cc:1083] InUse at 7f86837c9b00 of size 150528 next 1677\n",
      "2022-07-11 16:19:46.566736: I tensorflow/core/common_runtime/bfc_allocator.cc:1083] InUse at 7f86837ee700 of size 1769472 next 2091\n",
      "2022-07-11 16:19:46.566740: I tensorflow/core/common_runtime/bfc_allocator.cc:1083] InUse at 7f868399e700 of size 4608 next 1658\n",
      "2022-07-11 16:19:46.566744: I tensorflow/core/common_runtime/bfc_allocator.cc:1083] InUse at 7f868399f900 of size 442368 next 2204\n",
      "2022-07-11 16:19:46.566748: I tensorflow/core/common_runtime/bfc_allocator.cc:1083] InUse at 7f8683a0b900 of size 41472 next 1819\n",
      "2022-07-11 16:19:46.566752: I tensorflow/core/common_runtime/bfc_allocator.cc:1083] InUse at 7f8683a15b00 of size 4608 next 1647\n",
      "2022-07-11 16:19:46.566756: I tensorflow/core/common_runtime/bfc_allocator.cc:1083] InUse at 7f8683a16d00 of size 442368 next 1468\n",
      "2022-07-11 16:19:46.566760: I tensorflow/core/common_runtime/bfc_allocator.cc:1083] InUse at 7f8683a82d00 of size 41472 next 2255\n",
      "2022-07-11 16:19:46.566763: I tensorflow/core/common_runtime/bfc_allocator.cc:1083] InUse at 7f8683a8cf00 of size 4608 next 1932\n",
      "2022-07-11 16:19:46.566768: I tensorflow/core/common_runtime/bfc_allocator.cc:1083] InUse at 7f8683a8e100 of size 1769472 next 2287\n",
      "2022-07-11 16:19:46.566772: I tensorflow/core/common_runtime/bfc_allocator.cc:1083] InUse at 7f8683c3e100 of size 602112 next 1460\n",
      "2022-07-11 16:19:46.566776: I tensorflow/core/common_runtime/bfc_allocator.cc:1083] InUse at 7f8683cd1100 of size 150528 next 2252\n",
      "2022-07-11 16:19:46.566780: I tensorflow/core/common_runtime/bfc_allocator.cc:1083] InUse at 7f8683cf5d00 of size 3491584 next 2058\n",
      "2022-07-11 16:19:46.566784: I tensorflow/core/common_runtime/bfc_allocator.cc:1083] InUse at 7f868404a400 of size 256 next 1628\n",
      "2022-07-11 16:19:46.566788: I tensorflow/core/common_runtime/bfc_allocator.cc:1083] InUse at 7f868404a500 of size 256 next 1585\n",
      "2022-07-11 16:19:46.566792: I tensorflow/core/common_runtime/bfc_allocator.cc:1083] InUse at 7f868404a600 of size 256 next 1546\n",
      "2022-07-11 16:19:46.566796: I tensorflow/core/common_runtime/bfc_allocator.cc:1083] InUse at 7f868404a700 of size 41472 next 2061\n",
      "2022-07-11 16:19:46.566800: I tensorflow/core/common_runtime/bfc_allocator.cc:1083] Free  at 7f8684054900 of size 57088 next 1412\n",
      "2022-07-11 16:19:46.566803: I tensorflow/core/common_runtime/bfc_allocator.cc:1083] InUse at 7f8684062800 of size 2816 next 2240\n",
      "2022-07-11 16:19:46.566807: I tensorflow/core/common_runtime/bfc_allocator.cc:1083] InUse at 7f8684063300 of size 1769472 next 2148\n",
      "2022-07-11 16:19:46.566811: I tensorflow/core/common_runtime/bfc_allocator.cc:1083] InUse at 7f8684213300 of size 294912 next 2113\n",
      "2022-07-11 16:19:46.566815: I tensorflow/core/common_runtime/bfc_allocator.cc:1083] Free  at 7f868425b300 of size 92160 next 2033\n",
      "2022-07-11 16:19:46.566819: I tensorflow/core/common_runtime/bfc_allocator.cc:1083] InUse at 7f8684271b00 of size 1769472 next 1916\n",
      "2022-07-11 16:19:46.566823: I tensorflow/core/common_runtime/bfc_allocator.cc:1083] InUse at 7f8684421b00 of size 1769472 next 1639\n",
      "2022-07-11 16:19:46.566827: I tensorflow/core/common_runtime/bfc_allocator.cc:1083] InUse at 7f86845d1b00 of size 3301632 next 2028\n",
      "2022-07-11 16:19:46.566831: I tensorflow/core/common_runtime/bfc_allocator.cc:1083] InUse at 7f86848f7c00 of size 256 next 1384\n",
      "2022-07-11 16:19:46.566835: I tensorflow/core/common_runtime/bfc_allocator.cc:1083] InUse at 7f86848f7d00 of size 256 next 1645\n",
      "2022-07-11 16:19:46.566838: I tensorflow/core/common_runtime/bfc_allocator.cc:1083] InUse at 7f86848f7e00 of size 256 next 1969\n",
      "2022-07-11 16:19:46.566842: I tensorflow/core/common_runtime/bfc_allocator.cc:1083] InUse at 7f86848f7f00 of size 69120 next 1587\n",
      "2022-07-11 16:19:46.566846: I tensorflow/core/common_runtime/bfc_allocator.cc:1083] InUse at 7f8684908d00 of size 7680 next 1989\n",
      "2022-07-11 16:19:46.566851: I tensorflow/core/common_runtime/bfc_allocator.cc:1083] InUse at 7f868490ab00 of size 256 next 1763\n",
      "2022-07-11 16:19:46.566854: I tensorflow/core/common_runtime/bfc_allocator.cc:1083] InUse at 7f868490ac00 of size 1769472 next 1919\n",
      "2022-07-11 16:19:46.566858: I tensorflow/core/common_runtime/bfc_allocator.cc:1083] InUse at 7f8684abac00 of size 1769472 next 1602\n",
      "2022-07-11 16:19:46.566862: I tensorflow/core/common_runtime/bfc_allocator.cc:1083] InUse at 7f8684c6ac00 of size 1769472 next 2254\n",
      "2022-07-11 16:19:46.566866: I tensorflow/core/common_runtime/bfc_allocator.cc:1083] InUse at 7f8684e1ac00 of size 442368 next 1644\n",
      "2022-07-11 16:19:46.566870: I tensorflow/core/common_runtime/bfc_allocator.cc:1083] InUse at 7f8684e86c00 of size 256 next 2030\n",
      "2022-07-11 16:19:46.566874: I tensorflow/core/common_runtime/bfc_allocator.cc:1083] InUse at 7f8684e86d00 of size 442368 next 1898\n",
      "2022-07-11 16:19:46.566878: I tensorflow/core/common_runtime/bfc_allocator.cc:1083] InUse at 7f8684ef2d00 of size 4608 next 2128\n",
      "2022-07-11 16:19:46.566882: I tensorflow/core/common_runtime/bfc_allocator.cc:1083] InUse at 7f8684ef3f00 of size 41472 next 1758\n",
      "2022-07-11 16:19:46.566885: I tensorflow/core/common_runtime/bfc_allocator.cc:1083] InUse at 7f8684efe100 of size 442368 next 2219\n",
      "2022-07-11 16:19:46.566889: I tensorflow/core/common_runtime/bfc_allocator.cc:1083] InUse at 7f8684f6a100 of size 442368 next 1747\n",
      "2022-07-11 16:19:46.566893: I tensorflow/core/common_runtime/bfc_allocator.cc:1083] InUse at 7f8684fd6100 of size 256 next 1667\n",
      "2022-07-11 16:19:46.566897: I tensorflow/core/common_runtime/bfc_allocator.cc:1083] InUse at 7f8684fd6200 of size 442368 next 2261\n",
      "2022-07-11 16:19:46.566901: I tensorflow/core/common_runtime/bfc_allocator.cc:1083] InUse at 7f8685042200 of size 256 next 2177\n",
      "2022-07-11 16:19:46.566905: I tensorflow/core/common_runtime/bfc_allocator.cc:1083] InUse at 7f8685042300 of size 442368 next 1596\n",
      "2022-07-11 16:19:46.566909: I tensorflow/core/common_runtime/bfc_allocator.cc:1083] InUse at 7f86850ae300 of size 41472 next 1680\n",
      "2022-07-11 16:19:46.566913: I tensorflow/core/common_runtime/bfc_allocator.cc:1083] InUse at 7f86850b8500 of size 4608 next 2164\n",
      "2022-07-11 16:19:46.566916: I tensorflow/core/common_runtime/bfc_allocator.cc:1083] InUse at 7f86850b9700 of size 256 next 1884\n",
      "2022-07-11 16:19:46.566920: I tensorflow/core/common_runtime/bfc_allocator.cc:1083] InUse at 7f86850b9800 of size 442368 next 1560\n",
      "2022-07-11 16:19:46.566924: I tensorflow/core/common_runtime/bfc_allocator.cc:1083] InUse at 7f8685125800 of size 523264 next 2083\n",
      "2022-07-11 16:19:46.566928: I tensorflow/core/common_runtime/bfc_allocator.cc:1083] InUse at 7f86851a5400 of size 256 next 1844\n",
      "2022-07-11 16:19:46.566932: I tensorflow/core/common_runtime/bfc_allocator.cc:1083] InUse at 7f86851a5500 of size 256 next 1577\n",
      "2022-07-11 16:19:46.566936: I tensorflow/core/common_runtime/bfc_allocator.cc:1083] InUse at 7f86851a5600 of size 256 next 1915\n",
      "2022-07-11 16:19:46.566940: I tensorflow/core/common_runtime/bfc_allocator.cc:1083] InUse at 7f86851a5700 of size 1769472 next 1608\n",
      "2022-07-11 16:19:46.566944: I tensorflow/core/common_runtime/bfc_allocator.cc:1083] InUse at 7f8685355700 of size 1769472 next 2096\n",
      "2022-07-11 16:19:46.566948: I tensorflow/core/common_runtime/bfc_allocator.cc:1083] InUse at 7f8685505700 of size 41472 next 2147\n",
      "2022-07-11 16:19:46.566952: I tensorflow/core/common_runtime/bfc_allocator.cc:1083] InUse at 7f868550f900 of size 4608 next 1719\n",
      "2022-07-11 16:19:46.566956: I tensorflow/core/common_runtime/bfc_allocator.cc:1083] InUse at 7f8685510b00 of size 442368 next 2263\n",
      "2022-07-11 16:19:46.566960: I tensorflow/core/common_runtime/bfc_allocator.cc:1083] InUse at 7f868557cb00 of size 256 next 2108\n",
      "2022-07-11 16:19:46.566963: I tensorflow/core/common_runtime/bfc_allocator.cc:1083] InUse at 7f868557cc00 of size 1769472 next 2100\n",
      "2022-07-11 16:19:46.566968: I tensorflow/core/common_runtime/bfc_allocator.cc:1083] InUse at 7f868572cc00 of size 3301376 next 1695\n",
      "2022-07-11 16:19:46.566971: I tensorflow/core/common_runtime/bfc_allocator.cc:1083] InUse at 7f8685a52c00 of size 256 next 2084\n",
      "2022-07-11 16:19:46.566975: I tensorflow/core/common_runtime/bfc_allocator.cc:1083] InUse at 7f8685a52d00 of size 256 next 2055\n",
      "2022-07-11 16:19:46.566979: I tensorflow/core/common_runtime/bfc_allocator.cc:1083] InUse at 7f8685a52e00 of size 442368 next 1951\n",
      "2022-07-11 16:19:46.566983: I tensorflow/core/common_runtime/bfc_allocator.cc:1083] InUse at 7f8685abee00 of size 256 next 2134\n",
      "2022-07-11 16:19:46.566987: I tensorflow/core/common_runtime/bfc_allocator.cc:1083] InUse at 7f8685abef00 of size 41472 next 2135\n",
      "2022-07-11 16:19:46.566991: I tensorflow/core/common_runtime/bfc_allocator.cc:1083] InUse at 7f8685ac9100 of size 4608 next 2260\n",
      "2022-07-11 16:19:46.566995: I tensorflow/core/common_runtime/bfc_allocator.cc:1083] InUse at 7f8685aca300 of size 1769472 next 2077\n",
      "2022-07-11 16:19:46.566999: I tensorflow/core/common_runtime/bfc_allocator.cc:1083] InUse at 7f8685c7a300 of size 4608 next 2097\n",
      "2022-07-11 16:19:46.567003: I tensorflow/core/common_runtime/bfc_allocator.cc:1083] InUse at 7f8685c7b500 of size 6835712 next 1514\n",
      "2022-07-11 16:19:46.567007: I tensorflow/core/common_runtime/bfc_allocator.cc:1083] InUse at 7f8686300300 of size 256 next 1947\n",
      "2022-07-11 16:19:46.567011: I tensorflow/core/common_runtime/bfc_allocator.cc:1083] InUse at 7f8686300400 of size 442368 next 1949\n",
      "2022-07-11 16:19:46.567015: I tensorflow/core/common_runtime/bfc_allocator.cc:1083] InUse at 7f868636c400 of size 41472 next 2079\n",
      "2022-07-11 16:19:46.567019: I tensorflow/core/common_runtime/bfc_allocator.cc:1083] InUse at 7f8686376600 of size 4608 next 1839\n",
      "2022-07-11 16:19:46.567023: I tensorflow/core/common_runtime/bfc_allocator.cc:1083] InUse at 7f8686377800 of size 442368 next 2193\n",
      "2022-07-11 16:19:46.567027: I tensorflow/core/common_runtime/bfc_allocator.cc:1083] InUse at 7f86863e3800 of size 1769472 next 2169\n",
      "2022-07-11 16:19:46.567031: I tensorflow/core/common_runtime/bfc_allocator.cc:1083] InUse at 7f8686593800 of size 442368 next 1959\n",
      "2022-07-11 16:19:46.567035: I tensorflow/core/common_runtime/bfc_allocator.cc:1083] InUse at 7f86865ff800 of size 1769472 next 2118\n",
      "2022-07-11 16:19:46.567039: I tensorflow/core/common_runtime/bfc_allocator.cc:1083] InUse at 7f86867af800 of size 41472 next 2062\n",
      "2022-07-11 16:19:46.567042: I tensorflow/core/common_runtime/bfc_allocator.cc:1083] InUse at 7f86867b9a00 of size 1769472 next 1786\n",
      "2022-07-11 16:19:46.567046: I tensorflow/core/common_runtime/bfc_allocator.cc:1083] InUse at 7f8686969a00 of size 2375424 next 1807\n",
      "2022-07-11 16:19:46.567050: I tensorflow/core/common_runtime/bfc_allocator.cc:1083] InUse at 7f8686bad900 of size 256 next 1802\n",
      "2022-07-11 16:19:46.567054: I tensorflow/core/common_runtime/bfc_allocator.cc:1083] InUse at 7f8686bada00 of size 256 next 1781\n",
      "2022-07-11 16:19:46.567058: I tensorflow/core/common_runtime/bfc_allocator.cc:1083] InUse at 7f8686badb00 of size 256 next 1792\n",
      "2022-07-11 16:19:46.567062: I tensorflow/core/common_runtime/bfc_allocator.cc:1083] InUse at 7f8686badc00 of size 256 next 1999\n",
      "2022-07-11 16:19:46.567066: I tensorflow/core/common_runtime/bfc_allocator.cc:1083] InUse at 7f8686badd00 of size 256 next 1382\n",
      "2022-07-11 16:19:46.567070: I tensorflow/core/common_runtime/bfc_allocator.cc:1083] InUse at 7f8686bade00 of size 256 next 1779\n",
      "2022-07-11 16:19:46.567073: I tensorflow/core/common_runtime/bfc_allocator.cc:1083] InUse at 7f8686badf00 of size 1769472 next 2124\n",
      "2022-07-11 16:19:46.567077: I tensorflow/core/common_runtime/bfc_allocator.cc:1083] InUse at 7f8686d5df00 of size 256 next 2220\n",
      "2022-07-11 16:19:46.567081: I tensorflow/core/common_runtime/bfc_allocator.cc:1083] InUse at 7f8686d5e000 of size 442368 next 1804\n",
      "2022-07-11 16:19:46.567085: I tensorflow/core/common_runtime/bfc_allocator.cc:1083] InUse at 7f8686dca000 of size 41472 next 2059\n",
      "2022-07-11 16:19:46.567089: I tensorflow/core/common_runtime/bfc_allocator.cc:1083] InUse at 7f8686dd4200 of size 4608 next 2186\n",
      "2022-07-11 16:19:46.567093: I tensorflow/core/common_runtime/bfc_allocator.cc:1083] InUse at 7f8686dd5400 of size 442368 next 2264\n",
      "2022-07-11 16:19:46.567097: I tensorflow/core/common_runtime/bfc_allocator.cc:1083] InUse at 7f8686e41400 of size 1228800 next 2116\n",
      "2022-07-11 16:19:46.567102: I tensorflow/core/common_runtime/bfc_allocator.cc:1083] InUse at 7f8686f6d400 of size 1638400 next 1970\n",
      "2022-07-11 16:19:46.567106: I tensorflow/core/common_runtime/bfc_allocator.cc:1083] InUse at 7f86870fd400 of size 512 next 1734\n",
      "2022-07-11 16:19:46.567109: I tensorflow/core/common_runtime/bfc_allocator.cc:1083] InUse at 7f86870fd600 of size 294912 next 2182\n",
      "2022-07-11 16:19:46.567113: I tensorflow/core/common_runtime/bfc_allocator.cc:1083] InUse at 7f8687145600 of size 256 next 2048\n",
      "2022-07-11 16:19:46.567118: I tensorflow/core/common_runtime/bfc_allocator.cc:1083] InUse at 7f8687145700 of size 294912 next 1873\n",
      "2022-07-11 16:19:46.567122: I tensorflow/core/common_runtime/bfc_allocator.cc:1083] InUse at 7f868718d700 of size 73728 next 1519\n",
      "2022-07-11 16:19:46.567126: I tensorflow/core/common_runtime/bfc_allocator.cc:1083] InUse at 7f868719f700 of size 13824 next 2210\n",
      "2022-07-11 16:19:46.567129: I tensorflow/core/common_runtime/bfc_allocator.cc:1083] InUse at 7f86871a2d00 of size 73728 next 1980\n",
      "2022-07-11 16:19:46.567133: I tensorflow/core/common_runtime/bfc_allocator.cc:1083] InUse at 7f86871b4d00 of size 1536 next 1408\n",
      "2022-07-11 16:19:46.567137: I tensorflow/core/common_runtime/bfc_allocator.cc:1083] InUse at 7f86871b5300 of size 602112 next 1716\n",
      "2022-07-11 16:19:46.567141: I tensorflow/core/common_runtime/bfc_allocator.cc:1083] InUse at 7f8687248300 of size 73728 next 1882\n",
      "2022-07-11 16:19:46.567145: I tensorflow/core/common_runtime/bfc_allocator.cc:1083] InUse at 7f868725a300 of size 256 next 2257\n",
      "2022-07-11 16:19:46.567149: I tensorflow/core/common_runtime/bfc_allocator.cc:1083] InUse at 7f868725a400 of size 110592 next 2180\n",
      "2022-07-11 16:19:46.567153: I tensorflow/core/common_runtime/bfc_allocator.cc:1083] InUse at 7f8687275400 of size 294912 next 2222\n",
      "2022-07-11 16:19:46.567157: I tensorflow/core/common_runtime/bfc_allocator.cc:1083] InUse at 7f86872bd400 of size 256 next 1379\n",
      "2022-07-11 16:19:46.567161: I tensorflow/core/common_runtime/bfc_allocator.cc:1083] InUse at 7f86872bd500 of size 13824 next 1646\n",
      "2022-07-11 16:19:46.567165: I tensorflow/core/common_runtime/bfc_allocator.cc:1083] InUse at 7f86872c0b00 of size 73728 next 1393\n",
      "2022-07-11 16:19:46.567169: I tensorflow/core/common_runtime/bfc_allocator.cc:1083] InUse at 7f86872d2b00 of size 73728 next 1471\n",
      "2022-07-11 16:19:46.567173: I tensorflow/core/common_runtime/bfc_allocator.cc:1083] InUse at 7f86872e4b00 of size 294912 next 1801\n",
      "2022-07-11 16:19:46.567176: I tensorflow/core/common_runtime/bfc_allocator.cc:1083] InUse at 7f868732cb00 of size 1536 next 1511\n",
      "2022-07-11 16:19:46.567180: I tensorflow/core/common_runtime/bfc_allocator.cc:1083] InUse at 7f868732d100 of size 1536 next 2174\n",
      "2022-07-11 16:19:46.567184: I tensorflow/core/common_runtime/bfc_allocator.cc:1083] InUse at 7f868732d700 of size 294912 next 2057\n",
      "2022-07-11 16:19:46.567188: I tensorflow/core/common_runtime/bfc_allocator.cc:1083] InUse at 7f8687375700 of size 256 next 2176\n",
      "2022-07-11 16:19:46.567192: I tensorflow/core/common_runtime/bfc_allocator.cc:1083] InUse at 7f8687375800 of size 941056 next 1957\n",
      "2022-07-11 16:19:46.567196: I tensorflow/core/common_runtime/bfc_allocator.cc:1083] InUse at 7f868745b400 of size 256 next 1725\n",
      "2022-07-11 16:19:46.567200: I tensorflow/core/common_runtime/bfc_allocator.cc:1083] InUse at 7f868745b500 of size 256 next 2138\n",
      "2022-07-11 16:19:46.567204: I tensorflow/core/common_runtime/bfc_allocator.cc:1083] InUse at 7f868745b600 of size 294912 next 1575\n",
      "2022-07-11 16:19:46.567208: I tensorflow/core/common_runtime/bfc_allocator.cc:1083] InUse at 7f86874a3600 of size 150528 next 1525\n",
      "2022-07-11 16:19:46.567212: I tensorflow/core/common_runtime/bfc_allocator.cc:1083] InUse at 7f86874c8200 of size 73728 next 1973\n",
      "2022-07-11 16:19:46.567216: I tensorflow/core/common_runtime/bfc_allocator.cc:1083] InUse at 7f86874da200 of size 20736 next 2211\n",
      "2022-07-11 16:19:46.567225: I tensorflow/core/common_runtime/bfc_allocator.cc:1083] InUse at 7f86874df300 of size 110592 next 1673\n",
      "2022-07-11 16:19:46.567229: I tensorflow/core/common_runtime/bfc_allocator.cc:1083] InUse at 7f86874fa300 of size 13824 next 1606\n",
      "2022-07-11 16:19:46.567233: I tensorflow/core/common_runtime/bfc_allocator.cc:1083] InUse at 7f86874fd900 of size 294912 next 1691\n",
      "2022-07-11 16:19:46.567237: I tensorflow/core/common_runtime/bfc_allocator.cc:1083] InUse at 7f8687545900 of size 256 next 1381\n",
      "2022-07-11 16:19:46.567241: I tensorflow/core/common_runtime/bfc_allocator.cc:1083] InUse at 7f8687545a00 of size 2304 next 2087\n",
      "2022-07-11 16:19:46.567245: I tensorflow/core/common_runtime/bfc_allocator.cc:1083] InUse at 7f8687546300 of size 442368 next 2136\n",
      "2022-07-11 16:19:46.567249: I tensorflow/core/common_runtime/bfc_allocator.cc:1083] InUse at 7f86875b2300 of size 516096 next 1619\n",
      "2022-07-11 16:19:46.567253: I tensorflow/core/common_runtime/bfc_allocator.cc:1083] InUse at 7f8687630300 of size 150528 next 1946\n",
      "2022-07-11 16:19:46.567257: I tensorflow/core/common_runtime/bfc_allocator.cc:1083] InUse at 7f8687654f00 of size 24320 next 1563\n",
      "2022-07-11 16:19:46.567261: I tensorflow/core/common_runtime/bfc_allocator.cc:1083] InUse at 7f868765ae00 of size 150528 next 1607\n",
      "2022-07-11 16:19:46.567265: I tensorflow/core/common_runtime/bfc_allocator.cc:1083] InUse at 7f868767fa00 of size 73728 next 1981\n",
      "2022-07-11 16:19:46.567269: I tensorflow/core/common_runtime/bfc_allocator.cc:1083] InUse at 7f8687691a00 of size 256 next 1717\n",
      "2022-07-11 16:19:46.567273: I tensorflow/core/common_runtime/bfc_allocator.cc:1083] InUse at 7f8687691b00 of size 256 next 1715\n",
      "2022-07-11 16:19:46.567276: I tensorflow/core/common_runtime/bfc_allocator.cc:1083] InUse at 7f8687691c00 of size 2816 next 2251\n",
      "2022-07-11 16:19:46.567280: I tensorflow/core/common_runtime/bfc_allocator.cc:1083] InUse at 7f8687692700 of size 256 next 2005\n",
      "2022-07-11 16:19:46.567284: I tensorflow/core/common_runtime/bfc_allocator.cc:1083] InUse at 7f8687692800 of size 602112 next 1487\n",
      "2022-07-11 16:19:46.567288: I tensorflow/core/common_runtime/bfc_allocator.cc:1083] InUse at 7f8687725800 of size 24320 next 1634\n",
      "2022-07-11 16:19:46.567292: I tensorflow/core/common_runtime/bfc_allocator.cc:1083] InUse at 7f868772b700 of size 150528 next 1612\n",
      "2022-07-11 16:19:46.567296: I tensorflow/core/common_runtime/bfc_allocator.cc:1083] InUse at 7f8687750300 of size 150528 next 2143\n",
      "2022-07-11 16:19:46.567300: I tensorflow/core/common_runtime/bfc_allocator.cc:1083] InUse at 7f8687774f00 of size 24320 next 1874\n",
      "2022-07-11 16:19:46.567304: I tensorflow/core/common_runtime/bfc_allocator.cc:1083] InUse at 7f868777ae00 of size 602112 next 2223\n",
      "2022-07-11 16:19:46.567308: I tensorflow/core/common_runtime/bfc_allocator.cc:1083] InUse at 7f868780de00 of size 150528 next 2159\n",
      "2022-07-11 16:19:46.567312: I tensorflow/core/common_runtime/bfc_allocator.cc:1083] InUse at 7f8687832a00 of size 2816 next 1921\n",
      "2022-07-11 16:19:46.567316: I tensorflow/core/common_runtime/bfc_allocator.cc:1083] InUse at 7f8687833500 of size 24320 next 2150\n",
      "2022-07-11 16:19:46.567319: I tensorflow/core/common_runtime/bfc_allocator.cc:1083] InUse at 7f8687839400 of size 150528 next 2224\n",
      "2022-07-11 16:19:46.567323: I tensorflow/core/common_runtime/bfc_allocator.cc:1083] InUse at 7f868785e000 of size 2816 next 1464\n",
      "2022-07-11 16:19:46.567327: I tensorflow/core/common_runtime/bfc_allocator.cc:1083] InUse at 7f868785eb00 of size 1536 next 1824\n",
      "2022-07-11 16:19:46.567331: I tensorflow/core/common_runtime/bfc_allocator.cc:1083] InUse at 7f868785f100 of size 256 next 2249\n",
      "2022-07-11 16:19:46.567335: I tensorflow/core/common_runtime/bfc_allocator.cc:1083] InUse at 7f868785f200 of size 602112 next 1631\n",
      "2022-07-11 16:19:46.567339: I tensorflow/core/common_runtime/bfc_allocator.cc:1083] InUse at 7f86878f2200 of size 150528 next 1383\n",
      "2022-07-11 16:19:46.567343: I tensorflow/core/common_runtime/bfc_allocator.cc:1083] InUse at 7f8687916e00 of size 2816 next 1522\n",
      "2022-07-11 16:19:46.567347: I tensorflow/core/common_runtime/bfc_allocator.cc:1083] InUse at 7f8687917900 of size 602112 next 2119\n",
      "2022-07-11 16:19:46.567351: I tensorflow/core/common_runtime/bfc_allocator.cc:1083] InUse at 7f86879aa900 of size 602112 next 2216\n",
      "2022-07-11 16:19:46.567355: I tensorflow/core/common_runtime/bfc_allocator.cc:1083] InUse at 7f8687a3d900 of size 73728 next 2024\n",
      "2022-07-11 16:19:46.567358: I tensorflow/core/common_runtime/bfc_allocator.cc:1083] InUse at 7f8687a4f900 of size 24320 next 1851\n",
      "2022-07-11 16:19:46.567362: I tensorflow/core/common_runtime/bfc_allocator.cc:1083] InUse at 7f8687a55800 of size 150528 next 2155\n",
      "2022-07-11 16:19:46.567366: I tensorflow/core/common_runtime/bfc_allocator.cc:1083] InUse at 7f8687a7a400 of size 602112 next 1776\n",
      "2022-07-11 16:19:46.567370: I tensorflow/core/common_runtime/bfc_allocator.cc:1083] InUse at 7f8687b0d400 of size 256 next 1488\n",
      "2022-07-11 16:19:46.567374: I tensorflow/core/common_runtime/bfc_allocator.cc:1083] InUse at 7f8687b0d500 of size 150528 next 1498\n",
      "2022-07-11 16:19:46.567378: I tensorflow/core/common_runtime/bfc_allocator.cc:1083] InUse at 7f8687b32100 of size 2816 next 1722\n",
      "2022-07-11 16:19:46.567382: I tensorflow/core/common_runtime/bfc_allocator.cc:1083] InUse at 7f8687b32c00 of size 150528 next 2105\n",
      "2022-07-11 16:19:46.567386: I tensorflow/core/common_runtime/bfc_allocator.cc:1083] InUse at 7f8687b57800 of size 602112 next 1401\n",
      "2022-07-11 16:19:46.567390: I tensorflow/core/common_runtime/bfc_allocator.cc:1083] InUse at 7f8687bea800 of size 24320 next 1668\n",
      "2022-07-11 16:19:46.567393: I tensorflow/core/common_runtime/bfc_allocator.cc:1083] InUse at 7f8687bf0700 of size 256 next 1573\n",
      "2022-07-11 16:19:46.567397: I tensorflow/core/common_runtime/bfc_allocator.cc:1083] InUse at 7f8687bf0800 of size 1147648 next 2056\n",
      "2022-07-11 16:19:46.567401: I tensorflow/core/common_runtime/bfc_allocator.cc:1083] InUse at 7f8687d08b00 of size 256 next 1930\n",
      "2022-07-11 16:19:46.567405: I tensorflow/core/common_runtime/bfc_allocator.cc:1083] InUse at 7f8687d08c00 of size 256 next 1486\n",
      "2022-07-11 16:19:46.567409: I tensorflow/core/common_runtime/bfc_allocator.cc:1083] InUse at 7f8687d08d00 of size 256 next 1411\n",
      "2022-07-11 16:19:46.567413: I tensorflow/core/common_runtime/bfc_allocator.cc:1083] InUse at 7f8687d08e00 of size 256 next 1684\n",
      "2022-07-11 16:19:46.567417: I tensorflow/core/common_runtime/bfc_allocator.cc:1083] InUse at 7f8687d08f00 of size 256 next 1400\n",
      "2022-07-11 16:19:46.567421: I tensorflow/core/common_runtime/bfc_allocator.cc:1083] InUse at 7f8687d09000 of size 256 next 2122\n",
      "2022-07-11 16:19:46.567425: I tensorflow/core/common_runtime/bfc_allocator.cc:1083] InUse at 7f8687d09100 of size 150528 next 1650\n",
      "2022-07-11 16:19:46.567429: I tensorflow/core/common_runtime/bfc_allocator.cc:1083] InUse at 7f8687d2dd00 of size 24320 next 1965\n",
      "2022-07-11 16:19:46.567433: I tensorflow/core/common_runtime/bfc_allocator.cc:1083] InUse at 7f8687d33c00 of size 2816 next 2217\n",
      "2022-07-11 16:19:46.567437: I tensorflow/core/common_runtime/bfc_allocator.cc:1083] InUse at 7f8687d34700 of size 2816 next 2065\n",
      "2022-07-11 16:19:46.567441: I tensorflow/core/common_runtime/bfc_allocator.cc:1083] InUse at 7f8687d35200 of size 150528 next 2168\n",
      "2022-07-11 16:19:46.567445: I tensorflow/core/common_runtime/bfc_allocator.cc:1083] InUse at 7f8687d59e00 of size 602112 next 1885\n",
      "2022-07-11 16:19:46.567449: I tensorflow/core/common_runtime/bfc_allocator.cc:1083] InUse at 7f8687dece00 of size 602112 next 1404\n",
      "2022-07-11 16:19:46.567453: I tensorflow/core/common_runtime/bfc_allocator.cc:1083] InUse at 7f8687e7fe00 of size 256 next 1504\n",
      "2022-07-11 16:19:46.567457: I tensorflow/core/common_runtime/bfc_allocator.cc:1083] InUse at 7f8687e7ff00 of size 602112 next 2165\n",
      "2022-07-11 16:19:46.567462: I tensorflow/core/common_runtime/bfc_allocator.cc:1083] InUse at 7f8687f12f00 of size 150528 next 1729\n",
      "2022-07-11 16:19:46.567466: I tensorflow/core/common_runtime/bfc_allocator.cc:1083] InUse at 7f8687f37b00 of size 602112 next 2235\n",
      "2022-07-11 16:19:46.567470: I tensorflow/core/common_runtime/bfc_allocator.cc:1083] InUse at 7f8687fcab00 of size 2816 next 1693\n",
      "2022-07-11 16:19:46.567474: I tensorflow/core/common_runtime/bfc_allocator.cc:1083] InUse at 7f8687fcb600 of size 150528 next 2201\n",
      "2022-07-11 16:19:46.567478: I tensorflow/core/common_runtime/bfc_allocator.cc:1083] InUse at 7f8687ff0200 of size 442368 next 1718\n",
      "2022-07-11 16:19:46.567482: I tensorflow/core/common_runtime/bfc_allocator.cc:1083] InUse at 7f868805c200 of size 1769472 next 1537\n",
      "2022-07-11 16:19:46.567486: I tensorflow/core/common_runtime/bfc_allocator.cc:1083] InUse at 7f868820c200 of size 150528 next 2015\n",
      "2022-07-11 16:19:46.567490: I tensorflow/core/common_runtime/bfc_allocator.cc:1083] InUse at 7f8688230e00 of size 602112 next 2137\n",
      "2022-07-11 16:19:46.567493: I tensorflow/core/common_runtime/bfc_allocator.cc:1083] InUse at 7f86882c3e00 of size 256 next 2269\n",
      "2022-07-11 16:19:46.567497: I tensorflow/core/common_runtime/bfc_allocator.cc:1083] InUse at 7f86882c3f00 of size 602112 next 1513\n",
      "2022-07-11 16:19:46.567501: I tensorflow/core/common_runtime/bfc_allocator.cc:1083] InUse at 7f8688356f00 of size 442368 next 1925\n",
      "2022-07-11 16:19:46.567505: I tensorflow/core/common_runtime/bfc_allocator.cc:1083] InUse at 7f86883c2f00 of size 24320 next 1816\n",
      "2022-07-11 16:19:46.567509: I tensorflow/core/common_runtime/bfc_allocator.cc:1083] InUse at 7f86883c8e00 of size 602112 next 2042\n",
      "2022-07-11 16:19:46.567513: I tensorflow/core/common_runtime/bfc_allocator.cc:1083] InUse at 7f868845be00 of size 256 next 2043\n",
      "2022-07-11 16:19:46.567517: I tensorflow/core/common_runtime/bfc_allocator.cc:1083] InUse at 7f868845bf00 of size 41472 next 1847\n",
      "2022-07-11 16:19:46.567521: I tensorflow/core/common_runtime/bfc_allocator.cc:1083] InUse at 7f8688466100 of size 4608 next 2075\n",
      "2022-07-11 16:19:46.567525: I tensorflow/core/common_runtime/bfc_allocator.cc:1083] InUse at 7f8688467300 of size 150528 next 2227\n",
      "2022-07-11 16:19:46.567528: I tensorflow/core/common_runtime/bfc_allocator.cc:1083] InUse at 7f868848bf00 of size 4608 next 2277\n",
      "2022-07-11 16:19:46.567532: I tensorflow/core/common_runtime/bfc_allocator.cc:1083] InUse at 7f868848d100 of size 256 next 2196\n",
      "2022-07-11 16:19:46.567536: I tensorflow/core/common_runtime/bfc_allocator.cc:1083] InUse at 7f868848d200 of size 442368 next 2047\n",
      "2022-07-11 16:19:46.567540: I tensorflow/core/common_runtime/bfc_allocator.cc:1083] InUse at 7f86884f9200 of size 24320 next 2035\n",
      "2022-07-11 16:19:46.567544: I tensorflow/core/common_runtime/bfc_allocator.cc:1083] InUse at 7f86884ff100 of size 2816 next 1678\n",
      "2022-07-11 16:19:46.567548: I tensorflow/core/common_runtime/bfc_allocator.cc:1083] InUse at 7f86884ffc00 of size 150528 next 1996\n",
      "2022-07-11 16:19:46.567552: I tensorflow/core/common_runtime/bfc_allocator.cc:1083] InUse at 7f8688524800 of size 597504 next 2012\n",
      "2022-07-11 16:19:46.567556: I tensorflow/core/common_runtime/bfc_allocator.cc:1083] InUse at 7f86885b6600 of size 256 next 2130\n",
      "2022-07-11 16:19:46.567560: I tensorflow/core/common_runtime/bfc_allocator.cc:1083] InUse at 7f86885b6700 of size 256 next 1659\n",
      "2022-07-11 16:19:46.567564: I tensorflow/core/common_runtime/bfc_allocator.cc:1083] InUse at 7f86885b6800 of size 256 next 2050\n",
      "2022-07-11 16:19:46.567567: I tensorflow/core/common_runtime/bfc_allocator.cc:1083] InUse at 7f86885b6900 of size 256 next 1914\n",
      "2022-07-11 16:19:46.567571: I tensorflow/core/common_runtime/bfc_allocator.cc:1083] InUse at 7f86885b6a00 of size 1769472 next 2081\n",
      "2022-07-11 16:19:46.567575: I tensorflow/core/common_runtime/bfc_allocator.cc:1083] InUse at 7f8688766a00 of size 1769472 next 1526\n",
      "2022-07-11 16:19:46.567579: I tensorflow/core/common_runtime/bfc_allocator.cc:1083] InUse at 7f8688916a00 of size 256 next 1775\n",
      "2022-07-11 16:19:46.567583: I tensorflow/core/common_runtime/bfc_allocator.cc:1083] InUse at 7f8688916b00 of size 41472 next 2279\n",
      "2022-07-11 16:19:46.567587: I tensorflow/core/common_runtime/bfc_allocator.cc:1083] InUse at 7f8688920d00 of size 1769472 next 2157\n",
      "2022-07-11 16:19:46.567590: I tensorflow/core/common_runtime/bfc_allocator.cc:1083] InUse at 7f8688ad0d00 of size 1769472 next 1746\n",
      "2022-07-11 16:19:46.567594: I tensorflow/core/common_runtime/bfc_allocator.cc:1083] InUse at 7f8688c80d00 of size 4608 next 2234\n",
      "2022-07-11 16:19:46.567598: I tensorflow/core/common_runtime/bfc_allocator.cc:1083] InUse at 7f8688c81f00 of size 442368 next 1505\n",
      "2022-07-11 16:19:46.567602: I tensorflow/core/common_runtime/bfc_allocator.cc:1083] InUse at 7f8688cedf00 of size 602112 next 1710\n",
      "2022-07-11 16:19:46.567606: I tensorflow/core/common_runtime/bfc_allocator.cc:1083] InUse at 7f8688d80f00 of size 442368 next 1988\n",
      "2022-07-11 16:19:46.567611: I tensorflow/core/common_runtime/bfc_allocator.cc:1083] InUse at 7f8688decf00 of size 4608 next 1923\n",
      "2022-07-11 16:19:46.567614: I tensorflow/core/common_runtime/bfc_allocator.cc:1083] InUse at 7f8688dee100 of size 4608 next 2273\n",
      "2022-07-11 16:19:46.567619: I tensorflow/core/common_runtime/bfc_allocator.cc:1083] InUse at 7f8688def300 of size 478208 next 1760\n",
      "2022-07-11 16:19:46.567622: I tensorflow/core/common_runtime/bfc_allocator.cc:1083] InUse at 7f8688e63f00 of size 256 next 2126\n",
      "2022-07-11 16:19:46.567626: I tensorflow/core/common_runtime/bfc_allocator.cc:1083] InUse at 7f8688e64000 of size 1769472 next 2181\n",
      "2022-07-11 16:19:46.567630: I tensorflow/core/common_runtime/bfc_allocator.cc:1083] InUse at 7f8689014000 of size 1769472 next 2189\n",
      "2022-07-11 16:19:46.567634: I tensorflow/core/common_runtime/bfc_allocator.cc:1083] InUse at 7f86891c4000 of size 256 next 1728\n",
      "2022-07-11 16:19:46.567638: I tensorflow/core/common_runtime/bfc_allocator.cc:1083] InUse at 7f86891c4100 of size 1769472 next 1470\n",
      "2022-07-11 16:19:46.567642: I tensorflow/core/common_runtime/bfc_allocator.cc:1083] InUse at 7f8689374100 of size 1769472 next 1899\n",
      "2022-07-11 16:19:46.567646: I tensorflow/core/common_runtime/bfc_allocator.cc:1083] InUse at 7f8689524100 of size 41472 next 2200\n",
      "2022-07-11 16:19:46.567650: I tensorflow/core/common_runtime/bfc_allocator.cc:1083] InUse at 7f868952e300 of size 1978880 next 1512\n",
      "2022-07-11 16:19:46.567654: I tensorflow/core/common_runtime/bfc_allocator.cc:1083] InUse at 7f8689711500 of size 256 next 1475\n",
      "2022-07-11 16:19:46.567658: I tensorflow/core/common_runtime/bfc_allocator.cc:1083] InUse at 7f8689711600 of size 256 next 1701\n",
      "2022-07-11 16:19:46.567661: I tensorflow/core/common_runtime/bfc_allocator.cc:1083] InUse at 7f8689711700 of size 41472 next 1774\n",
      "2022-07-11 16:19:46.567665: I tensorflow/core/common_runtime/bfc_allocator.cc:1083] InUse at 7f868971b900 of size 442368 next 1611\n",
      "2022-07-11 16:19:46.567669: I tensorflow/core/common_runtime/bfc_allocator.cc:1083] InUse at 7f8689787900 of size 442368 next 1748\n",
      "2022-07-11 16:19:46.567673: I tensorflow/core/common_runtime/bfc_allocator.cc:1083] InUse at 7f86897f3900 of size 442368 next 1490\n",
      "2022-07-11 16:19:46.567677: I tensorflow/core/common_runtime/bfc_allocator.cc:1083] InUse at 7f868985f900 of size 41472 next 2270\n",
      "2022-07-11 16:19:46.567681: I tensorflow/core/common_runtime/bfc_allocator.cc:1083] InUse at 7f8689869b00 of size 69120 next 2243\n",
      "2022-07-11 16:19:46.567685: I tensorflow/core/common_runtime/bfc_allocator.cc:1083] InUse at 7f868987a900 of size 1228800 next 2225\n",
      "2022-07-11 16:19:46.567689: I tensorflow/core/common_runtime/bfc_allocator.cc:1083] InUse at 7f86899a6900 of size 4608 next 1901\n",
      "2022-07-11 16:19:46.567692: I tensorflow/core/common_runtime/bfc_allocator.cc:1083] InUse at 7f86899a7b00 of size 256 next 1735\n",
      "2022-07-11 16:19:46.567696: I tensorflow/core/common_runtime/bfc_allocator.cc:1083] InUse at 7f86899a7c00 of size 256 next 1615\n",
      "2022-07-11 16:19:46.567700: I tensorflow/core/common_runtime/bfc_allocator.cc:1083] InUse at 7f86899a7d00 of size 7680 next 2283\n",
      "2022-07-11 16:19:46.567704: I tensorflow/core/common_runtime/bfc_allocator.cc:1083] InUse at 7f86899a9b00 of size 1769472 next 1720\n",
      "2022-07-11 16:19:46.567708: I tensorflow/core/common_runtime/bfc_allocator.cc:1083] InUse at 7f8689b59b00 of size 442368 next 2154\n",
      "2022-07-11 16:19:46.567712: I tensorflow/core/common_runtime/bfc_allocator.cc:1083] InUse at 7f8689bc5b00 of size 41472 next 2285\n",
      "2022-07-11 16:19:46.567716: I tensorflow/core/common_runtime/bfc_allocator.cc:1083] InUse at 7f8689bcfd00 of size 442368 next 2291\n",
      "2022-07-11 16:19:46.567720: I tensorflow/core/common_runtime/bfc_allocator.cc:1083] InUse at 7f8689c3bd00 of size 1769472 next 1555\n",
      "2022-07-11 16:19:46.567723: I tensorflow/core/common_runtime/bfc_allocator.cc:1083] InUse at 7f8689debd00 of size 41472 next 2229\n",
      "2022-07-11 16:19:46.567727: I tensorflow/core/common_runtime/bfc_allocator.cc:1083] InUse at 7f8689df5f00 of size 442368 next 2049\n",
      "2022-07-11 16:19:46.567731: I tensorflow/core/common_runtime/bfc_allocator.cc:1083] InUse at 7f8689e61f00 of size 1428480 next 1392\n",
      "2022-07-11 16:19:46.567736: I tensorflow/core/common_runtime/bfc_allocator.cc:1083] InUse at 7f8689fbeb00 of size 256 next 2107\n",
      "2022-07-11 16:19:46.567739: I tensorflow/core/common_runtime/bfc_allocator.cc:1083] InUse at 7f8689fbec00 of size 256 next 2179\n",
      "2022-07-11 16:19:46.567743: I tensorflow/core/common_runtime/bfc_allocator.cc:1083] InUse at 7f8689fbed00 of size 256 next 1671\n",
      "2022-07-11 16:19:46.567747: I tensorflow/core/common_runtime/bfc_allocator.cc:1083] InUse at 7f8689fbee00 of size 256 next 1724\n",
      "2022-07-11 16:19:46.567751: I tensorflow/core/common_runtime/bfc_allocator.cc:1083] InUse at 7f8689fbef00 of size 256 next 1704\n",
      "2022-07-11 16:19:46.567755: I tensorflow/core/common_runtime/bfc_allocator.cc:1083] InUse at 7f8689fbf000 of size 256 next 1938\n",
      "2022-07-11 16:19:46.567759: I tensorflow/core/common_runtime/bfc_allocator.cc:1083] InUse at 7f8689fbf100 of size 4608 next 2286\n",
      "2022-07-11 16:19:46.567763: I tensorflow/core/common_runtime/bfc_allocator.cc:1083] InUse at 7f8689fc0300 of size 2949120 next 1456\n",
      "2022-07-11 16:19:46.567767: I tensorflow/core/common_runtime/bfc_allocator.cc:1083] InUse at 7f868a290300 of size 512 next 2199\n",
      "2022-07-11 16:19:46.567771: I tensorflow/core/common_runtime/bfc_allocator.cc:1083] InUse at 7f868a290500 of size 1228800 next 1863\n",
      "2022-07-11 16:19:46.567775: I tensorflow/core/common_runtime/bfc_allocator.cc:1083] InUse at 7f868a3bc500 of size 6483712 next 1854\n",
      "2022-07-11 16:19:46.567779: I tensorflow/core/common_runtime/bfc_allocator.cc:1083] InUse at 7f868a9eb400 of size 256 next 2101\n",
      "2022-07-11 16:19:46.567782: I tensorflow/core/common_runtime/bfc_allocator.cc:1083] InUse at 7f868a9eb500 of size 1310720 next 1975\n",
      "2022-07-11 16:19:46.567786: I tensorflow/core/common_runtime/bfc_allocator.cc:1083] InUse at 7f868ab2b500 of size 2269440 next 1589\n",
      "2022-07-11 16:19:46.567790: I tensorflow/core/common_runtime/bfc_allocator.cc:1083] InUse at 7f868ad55600 of size 256 next 1954\n",
      "2022-07-11 16:19:46.567794: I tensorflow/core/common_runtime/bfc_allocator.cc:1083] InUse at 7f868ad55700 of size 1310720 next 1553\n",
      "2022-07-11 16:19:46.567798: I tensorflow/core/common_runtime/bfc_allocator.cc:1083] InUse at 7f868ae95700 of size 2311424 next 1544\n",
      "2022-07-11 16:19:46.567802: I tensorflow/core/common_runtime/bfc_allocator.cc:1083] InUse at 7f868b0c9c00 of size 256 next 2145\n",
      "2022-07-11 16:19:46.567806: I tensorflow/core/common_runtime/bfc_allocator.cc:1083] InUse at 7f868b0c9d00 of size 1310720 next 1905\n",
      "2022-07-11 16:19:46.567810: I tensorflow/core/common_runtime/bfc_allocator.cc:1083] InUse at 7f868b209d00 of size 1310720 next 2072\n",
      "2022-07-11 16:19:46.567814: I tensorflow/core/common_runtime/bfc_allocator.cc:1083] InUse at 7f868b349d00 of size 1322496 next 1814\n",
      "2022-07-11 16:19:46.567818: I tensorflow/core/common_runtime/bfc_allocator.cc:1083] InUse at 7f868b48cb00 of size 256 next 2099\n",
      "2022-07-11 16:19:46.567822: I tensorflow/core/common_runtime/bfc_allocator.cc:1083] InUse at 7f868b48cc00 of size 1310720 next 1739\n",
      "2022-07-11 16:19:46.567826: I tensorflow/core/common_runtime/bfc_allocator.cc:1083] InUse at 7f868b5ccc00 of size 2459136 next 1895\n",
      "2022-07-11 16:19:46.567830: I tensorflow/core/common_runtime/bfc_allocator.cc:1083] InUse at 7f868b825200 of size 256 next 1872\n",
      "2022-07-11 16:19:46.567834: I tensorflow/core/common_runtime/bfc_allocator.cc:1083] InUse at 7f868b825300 of size 1310720 next 1822\n",
      "2022-07-11 16:19:46.567838: I tensorflow/core/common_runtime/bfc_allocator.cc:1083] InUse at 7f868b965300 of size 2316288 next 1624\n",
      "2022-07-11 16:19:46.567842: I tensorflow/core/common_runtime/bfc_allocator.cc:1083] InUse at 7f868bb9ab00 of size 256 next 2078\n",
      "2022-07-11 16:19:46.567846: I tensorflow/core/common_runtime/bfc_allocator.cc:1083] InUse at 7f868bb9ac00 of size 1310720 next 2044\n",
      "2022-07-11 16:19:46.567850: I tensorflow/core/common_runtime/bfc_allocator.cc:1083] InUse at 7f868bcdac00 of size 1310720 next 1892\n",
      "2022-07-11 16:19:46.567854: I tensorflow/core/common_runtime/bfc_allocator.cc:1083] InUse at 7f868be1ac00 of size 1987584 next 18446744073709551615\n",
      "2022-07-11 16:19:46.567858: I tensorflow/core/common_runtime/bfc_allocator.cc:1063] Next region of size 2097152\n",
      "2022-07-11 16:19:46.567862: I tensorflow/core/common_runtime/bfc_allocator.cc:1083] InUse at 7f8769800000 of size 1280 next 1\n",
      "2022-07-11 16:19:46.567866: I tensorflow/core/common_runtime/bfc_allocator.cc:1083] InUse at 7f8769800500 of size 256 next 2\n",
      "2022-07-11 16:19:46.567870: I tensorflow/core/common_runtime/bfc_allocator.cc:1083] InUse at 7f8769800600 of size 256 next 3\n",
      "2022-07-11 16:19:46.567874: I tensorflow/core/common_runtime/bfc_allocator.cc:1083] InUse at 7f8769800700 of size 256 next 4\n",
      "2022-07-11 16:19:46.567878: I tensorflow/core/common_runtime/bfc_allocator.cc:1083] InUse at 7f8769800800 of size 256 next 5\n",
      "2022-07-11 16:19:46.567882: I tensorflow/core/common_runtime/bfc_allocator.cc:1083] InUse at 7f8769800900 of size 256 next 6\n",
      "2022-07-11 16:19:46.567886: I tensorflow/core/common_runtime/bfc_allocator.cc:1083] InUse at 7f8769800a00 of size 256 next 8\n",
      "2022-07-11 16:19:46.567890: I tensorflow/core/common_runtime/bfc_allocator.cc:1083] InUse at 7f8769800b00 of size 256 next 10\n",
      "2022-07-11 16:19:46.567894: I tensorflow/core/common_runtime/bfc_allocator.cc:1083] InUse at 7f8769800c00 of size 256 next 12\n",
      "2022-07-11 16:19:46.567898: I tensorflow/core/common_runtime/bfc_allocator.cc:1083] InUse at 7f8769800d00 of size 256 next 15\n",
      "2022-07-11 16:19:46.567902: I tensorflow/core/common_runtime/bfc_allocator.cc:1083] InUse at 7f8769800e00 of size 256 next 16\n",
      "2022-07-11 16:19:46.567906: I tensorflow/core/common_runtime/bfc_allocator.cc:1083] InUse at 7f8769800f00 of size 256 next 17\n",
      "2022-07-11 16:19:46.567910: I tensorflow/core/common_runtime/bfc_allocator.cc:1083] InUse at 7f8769801000 of size 256 next 18\n",
      "2022-07-11 16:19:46.567914: I tensorflow/core/common_runtime/bfc_allocator.cc:1083] InUse at 7f8769801100 of size 256 next 19\n",
      "2022-07-11 16:19:46.567918: I tensorflow/core/common_runtime/bfc_allocator.cc:1083] InUse at 7f8769801200 of size 256 next 20\n",
      "2022-07-11 16:19:46.567922: I tensorflow/core/common_runtime/bfc_allocator.cc:1083] InUse at 7f8769801300 of size 256 next 23\n",
      "2022-07-11 16:19:46.567925: I tensorflow/core/common_runtime/bfc_allocator.cc:1083] InUse at 7f8769801400 of size 256 next 24\n",
      "2022-07-11 16:19:46.567929: I tensorflow/core/common_runtime/bfc_allocator.cc:1083] InUse at 7f8769801500 of size 256 next 25\n",
      "2022-07-11 16:19:46.567933: I tensorflow/core/common_runtime/bfc_allocator.cc:1083] InUse at 7f8769801600 of size 256 next 26\n",
      "2022-07-11 16:19:46.567937: I tensorflow/core/common_runtime/bfc_allocator.cc:1083] InUse at 7f8769801700 of size 256 next 28\n",
      "2022-07-11 16:19:46.567941: I tensorflow/core/common_runtime/bfc_allocator.cc:1083] InUse at 7f8769801800 of size 256 next 29\n",
      "2022-07-11 16:19:46.567945: I tensorflow/core/common_runtime/bfc_allocator.cc:1083] InUse at 7f8769801900 of size 256 next 30\n",
      "2022-07-11 16:19:46.567949: I tensorflow/core/common_runtime/bfc_allocator.cc:1083] InUse at 7f8769801a00 of size 256 next 31\n",
      "2022-07-11 16:19:46.567953: I tensorflow/core/common_runtime/bfc_allocator.cc:1083] InUse at 7f8769801b00 of size 256 next 33\n",
      "2022-07-11 16:19:46.567957: I tensorflow/core/common_runtime/bfc_allocator.cc:1083] InUse at 7f8769801c00 of size 256 next 34\n",
      "2022-07-11 16:19:46.567960: I tensorflow/core/common_runtime/bfc_allocator.cc:1083] InUse at 7f8769801d00 of size 256 next 35\n",
      "2022-07-11 16:19:46.567964: I tensorflow/core/common_runtime/bfc_allocator.cc:1083] InUse at 7f8769801e00 of size 256 next 36\n",
      "2022-07-11 16:19:46.567969: I tensorflow/core/common_runtime/bfc_allocator.cc:1083] InUse at 7f8769801f00 of size 256 next 38\n",
      "2022-07-11 16:19:46.567972: I tensorflow/core/common_runtime/bfc_allocator.cc:1083] InUse at 7f8769802000 of size 256 next 39\n",
      "2022-07-11 16:19:46.567976: I tensorflow/core/common_runtime/bfc_allocator.cc:1083] InUse at 7f8769802100 of size 256 next 40\n",
      "2022-07-11 16:19:46.567981: I tensorflow/core/common_runtime/bfc_allocator.cc:1083] InUse at 7f8769802200 of size 256 next 41\n",
      "2022-07-11 16:19:46.567985: I tensorflow/core/common_runtime/bfc_allocator.cc:1083] InUse at 7f8769802300 of size 512 next 42\n",
      "2022-07-11 16:19:46.567989: I tensorflow/core/common_runtime/bfc_allocator.cc:1083] InUse at 7f8769802500 of size 768 next 13\n",
      "2022-07-11 16:19:46.567993: I tensorflow/core/common_runtime/bfc_allocator.cc:1083] InUse at 7f8769802800 of size 256 next 1370\n",
      "2022-07-11 16:19:46.567997: I tensorflow/core/common_runtime/bfc_allocator.cc:1083] InUse at 7f8769802900 of size 512 next 1372\n",
      "2022-07-11 16:19:46.568001: I tensorflow/core/common_runtime/bfc_allocator.cc:1083] InUse at 7f8769802b00 of size 512 next 14\n",
      "2022-07-11 16:19:46.568004: I tensorflow/core/common_runtime/bfc_allocator.cc:1083] InUse at 7f8769802d00 of size 1024 next 1373\n",
      "2022-07-11 16:19:46.568008: I tensorflow/core/common_runtime/bfc_allocator.cc:1083] InUse at 7f8769803100 of size 1024 next 63\n",
      "2022-07-11 16:19:46.568012: I tensorflow/core/common_runtime/bfc_allocator.cc:1083] InUse at 7f8769803500 of size 1280 next 46\n",
      "2022-07-11 16:19:46.568016: I tensorflow/core/common_runtime/bfc_allocator.cc:1083] InUse at 7f8769803a00 of size 256 next 47\n",
      "2022-07-11 16:19:46.568020: I tensorflow/core/common_runtime/bfc_allocator.cc:1083] InUse at 7f8769803b00 of size 256 next 48\n",
      "2022-07-11 16:19:46.568024: I tensorflow/core/common_runtime/bfc_allocator.cc:1083] InUse at 7f8769803c00 of size 256 next 50\n",
      "2022-07-11 16:19:46.568028: I tensorflow/core/common_runtime/bfc_allocator.cc:1083] InUse at 7f8769803d00 of size 256 next 51\n",
      "2022-07-11 16:19:46.568031: I tensorflow/core/common_runtime/bfc_allocator.cc:1083] InUse at 7f8769803e00 of size 256 next 52\n",
      "2022-07-11 16:19:46.568035: I tensorflow/core/common_runtime/bfc_allocator.cc:1083] InUse at 7f8769803f00 of size 256 next 53\n",
      "2022-07-11 16:19:46.568039: I tensorflow/core/common_runtime/bfc_allocator.cc:1083] InUse at 7f8769804000 of size 1024 next 54\n",
      "2022-07-11 16:19:46.568043: I tensorflow/core/common_runtime/bfc_allocator.cc:1083] InUse at 7f8769804400 of size 1024 next 56\n",
      "2022-07-11 16:19:46.568047: I tensorflow/core/common_runtime/bfc_allocator.cc:1083] InUse at 7f8769804800 of size 1024 next 57\n",
      "2022-07-11 16:19:46.568051: I tensorflow/core/common_runtime/bfc_allocator.cc:1083] InUse at 7f8769804c00 of size 256 next 49\n",
      "2022-07-11 16:19:46.568055: I tensorflow/core/common_runtime/bfc_allocator.cc:1083] InUse at 7f8769804d00 of size 256 next 61\n",
      "2022-07-11 16:19:46.568059: I tensorflow/core/common_runtime/bfc_allocator.cc:1083] InUse at 7f8769804e00 of size 256 next 62\n",
      "2022-07-11 16:19:46.568063: I tensorflow/core/common_runtime/bfc_allocator.cc:1083] InUse at 7f8769804f00 of size 256 next 58\n",
      "2022-07-11 16:19:46.568068: I tensorflow/core/common_runtime/bfc_allocator.cc:1083] InUse at 7f8769805000 of size 27648 next 221\n",
      "2022-07-11 16:19:46.568072: I tensorflow/core/common_runtime/bfc_allocator.cc:1083] InUse at 7f876980bc00 of size 3072 next 332\n",
      "2022-07-11 16:19:46.568075: I tensorflow/core/common_runtime/bfc_allocator.cc:1083] InUse at 7f876980c800 of size 3072 next 333\n",
      "2022-07-11 16:19:46.568079: I tensorflow/core/common_runtime/bfc_allocator.cc:1083] InUse at 7f876980d400 of size 3072 next 349\n",
      "2022-07-11 16:19:46.568083: I tensorflow/core/common_runtime/bfc_allocator.cc:1083] InUse at 7f876980e000 of size 3072 next 350\n",
      "2022-07-11 16:19:46.568087: I tensorflow/core/common_runtime/bfc_allocator.cc:1083] InUse at 7f876980ec00 of size 3072 next 351\n",
      "2022-07-11 16:19:46.568091: I tensorflow/core/common_runtime/bfc_allocator.cc:1083] InUse at 7f876980f800 of size 3072 next 354\n",
      "2022-07-11 16:19:46.568095: I tensorflow/core/common_runtime/bfc_allocator.cc:1083] InUse at 7f8769810400 of size 3072 next 355\n",
      "2022-07-11 16:19:46.568099: I tensorflow/core/common_runtime/bfc_allocator.cc:1083] InUse at 7f8769811000 of size 256 next 338\n",
      "2022-07-11 16:19:46.568103: I tensorflow/core/common_runtime/bfc_allocator.cc:1083] InUse at 7f8769811100 of size 3072 next 359\n",
      "2022-07-11 16:19:46.568106: I tensorflow/core/common_runtime/bfc_allocator.cc:1083] InUse at 7f8769811d00 of size 768 next 356\n",
      "2022-07-11 16:19:46.568110: I tensorflow/core/common_runtime/bfc_allocator.cc:1083] InUse at 7f8769812000 of size 768 next 361\n",
      "2022-07-11 16:19:46.568114: I tensorflow/core/common_runtime/bfc_allocator.cc:1083] InUse at 7f8769812300 of size 768 next 364\n",
      "2022-07-11 16:19:46.568118: I tensorflow/core/common_runtime/bfc_allocator.cc:1083] InUse at 7f8769812600 of size 768 next 365\n",
      "2022-07-11 16:19:46.568122: I tensorflow/core/common_runtime/bfc_allocator.cc:1083] InUse at 7f8769812900 of size 3072 next 367\n",
      "2022-07-11 16:19:46.568126: I tensorflow/core/common_runtime/bfc_allocator.cc:1083] InUse at 7f8769813500 of size 3072 next 369\n",
      "2022-07-11 16:19:46.568130: I tensorflow/core/common_runtime/bfc_allocator.cc:1083] InUse at 7f8769814100 of size 5376 next 21\n",
      "2022-07-11 16:19:46.568134: I tensorflow/core/common_runtime/bfc_allocator.cc:1083] InUse at 7f8769815600 of size 36864 next 22\n",
      "2022-07-11 16:19:46.568137: I tensorflow/core/common_runtime/bfc_allocator.cc:1083] InUse at 7f876981e600 of size 36864 next 27\n",
      "2022-07-11 16:19:46.568141: I tensorflow/core/common_runtime/bfc_allocator.cc:1083] InUse at 7f8769827600 of size 36864 next 32\n",
      "2022-07-11 16:19:46.568145: I tensorflow/core/common_runtime/bfc_allocator.cc:1083] InUse at 7f8769830600 of size 36864 next 37\n",
      "2022-07-11 16:19:46.568149: I tensorflow/core/common_runtime/bfc_allocator.cc:1083] InUse at 7f8769839600 of size 1024 next 117\n",
      "2022-07-11 16:19:46.568153: I tensorflow/core/common_runtime/bfc_allocator.cc:1083] InUse at 7f8769839a00 of size 1024 next 118\n",
      "2022-07-11 16:19:46.568157: I tensorflow/core/common_runtime/bfc_allocator.cc:1083] InUse at 7f8769839e00 of size 512 next 119\n",
      "2022-07-11 16:19:46.568161: I tensorflow/core/common_runtime/bfc_allocator.cc:1083] InUse at 7f876983a000 of size 1536 next 114\n",
      "2022-07-11 16:19:46.568165: I tensorflow/core/common_runtime/bfc_allocator.cc:1083] InUse at 7f876983a600 of size 1536 next 115\n",
      "2022-07-11 16:19:46.568169: I tensorflow/core/common_runtime/bfc_allocator.cc:1083] InUse at 7f876983ac00 of size 13824 next 187\n",
      "2022-07-11 16:19:46.568173: I tensorflow/core/common_runtime/bfc_allocator.cc:1083] InUse at 7f876983e200 of size 44032 next 120\n",
      "2022-07-11 16:19:46.568176: I tensorflow/core/common_runtime/bfc_allocator.cc:1083] InUse at 7f8769848e00 of size 256 next 121\n",
      "2022-07-11 16:19:46.568180: I tensorflow/core/common_runtime/bfc_allocator.cc:1083] InUse at 7f8769848f00 of size 512 next 122\n",
      "2022-07-11 16:19:46.568184: I tensorflow/core/common_runtime/bfc_allocator.cc:1083] InUse at 7f8769849100 of size 512 next 125\n",
      "2022-07-11 16:19:46.568188: I tensorflow/core/common_runtime/bfc_allocator.cc:1083] InUse at 7f8769849300 of size 512 next 126\n",
      "2022-07-11 16:19:46.568192: I tensorflow/core/common_runtime/bfc_allocator.cc:1083] InUse at 7f8769849500 of size 512 next 127\n",
      "2022-07-11 16:19:46.568196: I tensorflow/core/common_runtime/bfc_allocator.cc:1083] InUse at 7f8769849700 of size 256 next 128\n",
      "2022-07-11 16:19:46.568200: I tensorflow/core/common_runtime/bfc_allocator.cc:1083] InUse at 7f8769849800 of size 1536 next 129\n",
      "2022-07-11 16:19:46.568203: I tensorflow/core/common_runtime/bfc_allocator.cc:1083] InUse at 7f8769849e00 of size 1536 next 132\n",
      "2022-07-11 16:19:46.568207: I tensorflow/core/common_runtime/bfc_allocator.cc:1083] InUse at 7f876984a400 of size 1536 next 133\n",
      "2022-07-11 16:19:46.568211: I tensorflow/core/common_runtime/bfc_allocator.cc:1083] InUse at 7f876984aa00 of size 512 next 134\n",
      "2022-07-11 16:19:46.568215: I tensorflow/core/common_runtime/bfc_allocator.cc:1083] InUse at 7f876984ac00 of size 512 next 136\n",
      "2022-07-11 16:19:46.568219: I tensorflow/core/common_runtime/bfc_allocator.cc:1083] InUse at 7f876984ae00 of size 512 next 137\n",
      "2022-07-11 16:19:46.568223: I tensorflow/core/common_runtime/bfc_allocator.cc:1083] InUse at 7f876984b000 of size 2048 next 139\n",
      "2022-07-11 16:19:46.568227: I tensorflow/core/common_runtime/bfc_allocator.cc:1083] InUse at 7f876984b800 of size 1536 next 140\n",
      "2022-07-11 16:19:46.568231: I tensorflow/core/common_runtime/bfc_allocator.cc:1083] InUse at 7f876984be00 of size 1536 next 142\n",
      "2022-07-11 16:19:46.568235: I tensorflow/core/common_runtime/bfc_allocator.cc:1083] InUse at 7f876984c400 of size 1536 next 143\n",
      "2022-07-11 16:19:46.568239: I tensorflow/core/common_runtime/bfc_allocator.cc:1083] InUse at 7f876984ca00 of size 512 next 138\n",
      "2022-07-11 16:19:46.568242: I tensorflow/core/common_runtime/bfc_allocator.cc:1083] InUse at 7f876984cc00 of size 512 next 144\n",
      "2022-07-11 16:19:46.568246: I tensorflow/core/common_runtime/bfc_allocator.cc:1083] InUse at 7f876984ce00 of size 512 next 146\n",
      "2022-07-11 16:19:46.568250: I tensorflow/core/common_runtime/bfc_allocator.cc:1083] InUse at 7f876984d000 of size 512 next 147\n",
      "2022-07-11 16:19:46.568254: I tensorflow/core/common_runtime/bfc_allocator.cc:1083] InUse at 7f876984d200 of size 1536 next 149\n",
      "2022-07-11 16:19:46.568258: I tensorflow/core/common_runtime/bfc_allocator.cc:1083] InUse at 7f876984d800 of size 1536 next 150\n",
      "2022-07-11 16:19:46.568262: I tensorflow/core/common_runtime/bfc_allocator.cc:1083] InUse at 7f876984de00 of size 1536 next 152\n",
      "2022-07-11 16:19:46.568265: I tensorflow/core/common_runtime/bfc_allocator.cc:1083] InUse at 7f876984e400 of size 1536 next 153\n",
      "2022-07-11 16:19:46.568269: I tensorflow/core/common_runtime/bfc_allocator.cc:1083] InUse at 7f876984ea00 of size 512 next 148\n",
      "2022-07-11 16:19:46.568273: I tensorflow/core/common_runtime/bfc_allocator.cc:1083] InUse at 7f876984ec00 of size 512 next 154\n",
      "2022-07-11 16:19:46.568277: I tensorflow/core/common_runtime/bfc_allocator.cc:1083] InUse at 7f876984ee00 of size 512 next 156\n",
      "2022-07-11 16:19:46.568281: I tensorflow/core/common_runtime/bfc_allocator.cc:1083] InUse at 7f876984f000 of size 512 next 157\n",
      "2022-07-11 16:19:46.568285: I tensorflow/core/common_runtime/bfc_allocator.cc:1083] InUse at 7f876984f200 of size 1536 next 159\n",
      "2022-07-11 16:19:46.568289: I tensorflow/core/common_runtime/bfc_allocator.cc:1083] InUse at 7f876984f800 of size 1536 next 160\n",
      "2022-07-11 16:19:46.568292: I tensorflow/core/common_runtime/bfc_allocator.cc:1083] InUse at 7f876984fe00 of size 1536 next 162\n",
      "2022-07-11 16:19:46.568296: I tensorflow/core/common_runtime/bfc_allocator.cc:1083] InUse at 7f8769850400 of size 1536 next 163\n",
      "2022-07-11 16:19:46.568300: I tensorflow/core/common_runtime/bfc_allocator.cc:1083] InUse at 7f8769850a00 of size 512 next 158\n",
      "2022-07-11 16:19:46.568304: I tensorflow/core/common_runtime/bfc_allocator.cc:1083] InUse at 7f8769850c00 of size 512 next 164\n",
      "2022-07-11 16:19:46.568308: I tensorflow/core/common_runtime/bfc_allocator.cc:1083] InUse at 7f8769850e00 of size 512 next 166\n",
      "2022-07-11 16:19:46.568312: I tensorflow/core/common_runtime/bfc_allocator.cc:1083] InUse at 7f8769851000 of size 512 next 167\n",
      "2022-07-11 16:19:46.568315: I tensorflow/core/common_runtime/bfc_allocator.cc:1083] InUse at 7f8769851200 of size 512 next 168\n",
      "2022-07-11 16:19:46.568319: I tensorflow/core/common_runtime/bfc_allocator.cc:1083] InUse at 7f8769851400 of size 512 next 59\n",
      "2022-07-11 16:19:46.568323: I tensorflow/core/common_runtime/bfc_allocator.cc:1083] InUse at 7f8769851600 of size 65536 next 60\n",
      "2022-07-11 16:19:46.568327: I tensorflow/core/common_runtime/bfc_allocator.cc:1083] InUse at 7f8769861600 of size 2048 next 169\n",
      "2022-07-11 16:19:46.568331: I tensorflow/core/common_runtime/bfc_allocator.cc:1083] InUse at 7f8769861e00 of size 1536 next 171\n",
      "2022-07-11 16:19:46.568335: I tensorflow/core/common_runtime/bfc_allocator.cc:1083] InUse at 7f8769862400 of size 1536 next 172\n",
      "2022-07-11 16:19:46.568339: I tensorflow/core/common_runtime/bfc_allocator.cc:1083] InUse at 7f8769862a00 of size 512 next 175\n",
      "2022-07-11 16:19:46.568342: I tensorflow/core/common_runtime/bfc_allocator.cc:1083] InUse at 7f8769862c00 of size 512 next 176\n",
      "2022-07-11 16:19:46.568346: I tensorflow/core/common_runtime/bfc_allocator.cc:1083] InUse at 7f8769862e00 of size 2560 next 178\n",
      "2022-07-11 16:19:46.568350: I tensorflow/core/common_runtime/bfc_allocator.cc:1083] InUse at 7f8769863800 of size 1536 next 179\n",
      "2022-07-11 16:19:46.568354: I tensorflow/core/common_runtime/bfc_allocator.cc:1083] InUse at 7f8769863e00 of size 1536 next 181\n",
      "2022-07-11 16:19:46.568358: I tensorflow/core/common_runtime/bfc_allocator.cc:1083] InUse at 7f8769864400 of size 1536 next 182\n",
      "2022-07-11 16:19:46.568362: I tensorflow/core/common_runtime/bfc_allocator.cc:1083] InUse at 7f8769864a00 of size 512 next 177\n",
      "2022-07-11 16:19:46.568365: I tensorflow/core/common_runtime/bfc_allocator.cc:1083] InUse at 7f8769864c00 of size 512 next 183\n",
      "2022-07-11 16:19:46.568369: I tensorflow/core/common_runtime/bfc_allocator.cc:1083] InUse at 7f8769864e00 of size 512 next 185\n",
      "2022-07-11 16:19:46.568373: I tensorflow/core/common_runtime/bfc_allocator.cc:1083] InUse at 7f8769865000 of size 512 next 186\n",
      "2022-07-11 16:19:46.568377: I tensorflow/core/common_runtime/bfc_allocator.cc:1083] InUse at 7f8769865200 of size 1536 next 188\n",
      "2022-07-11 16:19:46.568381: I tensorflow/core/common_runtime/bfc_allocator.cc:1083] InUse at 7f8769865800 of size 256 next 189\n",
      "2022-07-11 16:19:46.568385: I tensorflow/core/common_runtime/bfc_allocator.cc:1083] InUse at 7f8769865900 of size 1536 next 191\n",
      "2022-07-11 16:19:46.568389: I tensorflow/core/common_runtime/bfc_allocator.cc:1083] InUse at 7f8769865f00 of size 1536 next 192\n",
      "2022-07-11 16:19:46.568392: I tensorflow/core/common_runtime/bfc_allocator.cc:1083] InUse at 7f8769866500 of size 1536 next 193\n",
      "2022-07-11 16:19:46.568396: I tensorflow/core/common_runtime/bfc_allocator.cc:1083] InUse at 7f8769866b00 of size 1536 next 194\n",
      "2022-07-11 16:19:46.568400: I tensorflow/core/common_runtime/bfc_allocator.cc:1083] InUse at 7f8769867100 of size 256 next 195\n",
      "2022-07-11 16:19:46.568404: I tensorflow/core/common_runtime/bfc_allocator.cc:1083] InUse at 7f8769867200 of size 1536 next 196\n",
      "2022-07-11 16:19:46.568408: I tensorflow/core/common_runtime/bfc_allocator.cc:1083] InUse at 7f8769867800 of size 1536 next 198\n",
      "2022-07-11 16:19:46.568412: I tensorflow/core/common_runtime/bfc_allocator.cc:1083] InUse at 7f8769867e00 of size 1536 next 199\n",
      "2022-07-11 16:19:46.568415: I tensorflow/core/common_runtime/bfc_allocator.cc:1083] InUse at 7f8769868400 of size 256 next 173\n",
      "2022-07-11 16:19:46.568419: I tensorflow/core/common_runtime/bfc_allocator.cc:1083] InUse at 7f8769868500 of size 1280 next 200\n",
      "2022-07-11 16:19:46.568423: I tensorflow/core/common_runtime/bfc_allocator.cc:1083] InUse at 7f8769868a00 of size 256 next 201\n",
      "2022-07-11 16:19:46.568427: I tensorflow/core/common_runtime/bfc_allocator.cc:1083] InUse at 7f8769868b00 of size 768 next 180\n",
      "2022-07-11 16:19:46.568431: I tensorflow/core/common_runtime/bfc_allocator.cc:1083] InUse at 7f8769868e00 of size 1024 next 206\n",
      "2022-07-11 16:19:46.568435: I tensorflow/core/common_runtime/bfc_allocator.cc:1083] InUse at 7f8769869200 of size 256 next 207\n",
      "2022-07-11 16:19:46.568439: I tensorflow/core/common_runtime/bfc_allocator.cc:1083] InUse at 7f8769869300 of size 768 next 208\n",
      "2022-07-11 16:19:46.568443: I tensorflow/core/common_runtime/bfc_allocator.cc:1083] InUse at 7f8769869600 of size 768 next 211\n",
      "2022-07-11 16:19:46.568446: I tensorflow/core/common_runtime/bfc_allocator.cc:1083] InUse at 7f8769869900 of size 768 next 212\n",
      "2022-07-11 16:19:46.568450: I tensorflow/core/common_runtime/bfc_allocator.cc:1083] InUse at 7f8769869c00 of size 256 next 116\n",
      "2022-07-11 16:19:46.568454: I tensorflow/core/common_runtime/bfc_allocator.cc:1083] InUse at 7f8769869d00 of size 256 next 228\n",
      "2022-07-11 16:19:46.568458: I tensorflow/core/common_runtime/bfc_allocator.cc:1083] InUse at 7f8769869e00 of size 256 next 213\n",
      "2022-07-11 16:19:46.568462: I tensorflow/core/common_runtime/bfc_allocator.cc:1083] InUse at 7f8769869f00 of size 256 next 214\n",
      "2022-07-11 16:19:46.568466: I tensorflow/core/common_runtime/bfc_allocator.cc:1083] InUse at 7f876986a000 of size 3072 next 217\n",
      "2022-07-11 16:19:46.568469: I tensorflow/core/common_runtime/bfc_allocator.cc:1083] InUse at 7f876986ac00 of size 3072 next 218\n",
      "2022-07-11 16:19:46.568473: I tensorflow/core/common_runtime/bfc_allocator.cc:1083] InUse at 7f876986b800 of size 3072 next 219\n",
      "2022-07-11 16:19:46.568477: I tensorflow/core/common_runtime/bfc_allocator.cc:1083] InUse at 7f876986c400 of size 3072 next 220\n",
      "2022-07-11 16:19:46.568481: I tensorflow/core/common_runtime/bfc_allocator.cc:1083] InUse at 7f876986d000 of size 3584 next 197\n",
      "2022-07-11 16:19:46.568485: I tensorflow/core/common_runtime/bfc_allocator.cc:1083] InUse at 7f876986de00 of size 1536 next 68\n",
      "2022-07-11 16:19:46.568489: I tensorflow/core/common_runtime/bfc_allocator.cc:1083] InUse at 7f876986e400 of size 3072 next 1375\n",
      "2022-07-11 16:19:46.568493: I tensorflow/core/common_runtime/bfc_allocator.cc:1083] InUse at 7f876986f000 of size 3072 next 124\n",
      "2022-07-11 16:19:46.568496: I tensorflow/core/common_runtime/bfc_allocator.cc:1083] InUse at 7f876986fc00 of size 3072 next 222\n",
      "2022-07-11 16:19:46.568500: I tensorflow/core/common_runtime/bfc_allocator.cc:1083] InUse at 7f8769870800 of size 3584 next 70\n",
      "2022-07-11 16:19:46.568504: I tensorflow/core/common_runtime/bfc_allocator.cc:1083] InUse at 7f8769871600 of size 65536 next 43\n",
      "2022-07-11 16:19:46.568508: I tensorflow/core/common_runtime/bfc_allocator.cc:1083] InUse at 7f8769881600 of size 65536 next 1374\n",
      "2022-07-11 16:19:46.568512: I tensorflow/core/common_runtime/bfc_allocator.cc:1083] InUse at 7f8769891600 of size 65536 next 88\n",
      "2022-07-11 16:19:46.568516: I tensorflow/core/common_runtime/bfc_allocator.cc:1083] InUse at 7f87698a1600 of size 65536 next 98\n",
      "2022-07-11 16:19:46.568520: I tensorflow/core/common_runtime/bfc_allocator.cc:1083] InUse at 7f87698b1600 of size 65536 next 108\n",
      "2022-07-11 16:19:46.568524: I tensorflow/core/common_runtime/bfc_allocator.cc:1083] InUse at 7f87698c1600 of size 147456 next 110\n",
      "2022-07-11 16:19:46.568527: I tensorflow/core/common_runtime/bfc_allocator.cc:1083] InUse at 7f87698e5600 of size 147456 next 145\n",
      "2022-07-11 16:19:46.568531: I tensorflow/core/common_runtime/bfc_allocator.cc:1083] InUse at 7f8769909600 of size 147456 next 155\n",
      "2022-07-11 16:19:46.568535: I tensorflow/core/common_runtime/bfc_allocator.cc:1083] InUse at 7f876992d600 of size 147456 next 165\n",
      "2022-07-11 16:19:46.568539: I tensorflow/core/common_runtime/bfc_allocator.cc:1083] InUse at 7f8769951600 of size 147456 next 174\n",
      "2022-07-11 16:19:46.568543: I tensorflow/core/common_runtime/bfc_allocator.cc:1083] InUse at 7f8769975600 of size 147456 next 184\n",
      "2022-07-11 16:19:46.568547: I tensorflow/core/common_runtime/bfc_allocator.cc:1083] InUse at 7f8769999600 of size 147456 next 190\n",
      "2022-07-11 16:19:46.568551: I tensorflow/core/common_runtime/bfc_allocator.cc:1083] InUse at 7f87699bd600 of size 272896 next 18446744073709551615\n",
      "2022-07-11 16:19:46.568555: I tensorflow/core/common_runtime/bfc_allocator.cc:1088]      Summary of in-use Chunks by size: \n",
      "2022-07-11 16:19:46.568562: I tensorflow/core/common_runtime/bfc_allocator.cc:1091] 394 Chunks of size 256 totalling 98.5KiB\n",
      "2022-07-11 16:19:46.568566: I tensorflow/core/common_runtime/bfc_allocator.cc:1091] 62 Chunks of size 512 totalling 31.0KiB\n",
      "2022-07-11 16:19:46.568574: I tensorflow/core/common_runtime/bfc_allocator.cc:1091] 44 Chunks of size 768 totalling 33.0KiB\n",
      "2022-07-11 16:19:46.568578: I tensorflow/core/common_runtime/bfc_allocator.cc:1091] 104 Chunks of size 1024 totalling 104.0KiB\n",
      "2022-07-11 16:19:46.568583: I tensorflow/core/common_runtime/bfc_allocator.cc:1091] 3 Chunks of size 1280 totalling 3.8KiB\n",
      "2022-07-11 16:19:46.568587: I tensorflow/core/common_runtime/bfc_allocator.cc:1091] 140 Chunks of size 1536 totalling 210.0KiB\n",
      "2022-07-11 16:19:46.568592: I tensorflow/core/common_runtime/bfc_allocator.cc:1091] 1 Chunks of size 1792 totalling 1.8KiB\n",
      "2022-07-11 16:19:46.568596: I tensorflow/core/common_runtime/bfc_allocator.cc:1091] 2 Chunks of size 2048 totalling 4.0KiB\n",
      "2022-07-11 16:19:46.568603: I tensorflow/core/common_runtime/bfc_allocator.cc:1091] 1 Chunks of size 2304 totalling 2.2KiB\n",
      "2022-07-11 16:19:46.568608: I tensorflow/core/common_runtime/bfc_allocator.cc:1091] 28 Chunks of size 2560 totalling 70.0KiB\n",
      "2022-07-11 16:19:46.568612: I tensorflow/core/common_runtime/bfc_allocator.cc:1091] 19 Chunks of size 2816 totalling 52.2KiB\n",
      "2022-07-11 16:19:46.568617: I tensorflow/core/common_runtime/bfc_allocator.cc:1091] 71 Chunks of size 3072 totalling 213.0KiB\n",
      "2022-07-11 16:19:46.568621: I tensorflow/core/common_runtime/bfc_allocator.cc:1091] 2 Chunks of size 3328 totalling 6.5KiB\n",
      "2022-07-11 16:19:46.568629: I tensorflow/core/common_runtime/bfc_allocator.cc:1091] 3 Chunks of size 3584 totalling 10.5KiB\n",
      "2022-07-11 16:19:46.568633: I tensorflow/core/common_runtime/bfc_allocator.cc:1091] 1 Chunks of size 4096 totalling 4.0KiB\n",
      "2022-07-11 16:19:46.568637: I tensorflow/core/common_runtime/bfc_allocator.cc:1091] 34 Chunks of size 4608 totalling 153.0KiB\n",
      "2022-07-11 16:19:46.568642: I tensorflow/core/common_runtime/bfc_allocator.cc:1091] 1 Chunks of size 4864 totalling 4.8KiB\n",
      "2022-07-11 16:19:46.568646: I tensorflow/core/common_runtime/bfc_allocator.cc:1091] 4 Chunks of size 5120 totalling 20.0KiB\n",
      "2022-07-11 16:19:46.568650: I tensorflow/core/common_runtime/bfc_allocator.cc:1091] 158 Chunks of size 5376 totalling 829.5KiB\n",
      "2022-07-11 16:19:46.568689: I tensorflow/core/common_runtime/bfc_allocator.cc:1091] 4 Chunks of size 5632 totalling 22.0KiB\n",
      "2022-07-11 16:19:46.568698: I tensorflow/core/common_runtime/bfc_allocator.cc:1091] 3 Chunks of size 5888 totalling 17.2KiB\n",
      "2022-07-11 16:19:46.568703: I tensorflow/core/common_runtime/bfc_allocator.cc:1091] 6 Chunks of size 6400 totalling 37.5KiB\n",
      "2022-07-11 16:19:46.568707: I tensorflow/core/common_runtime/bfc_allocator.cc:1091] 1 Chunks of size 6912 totalling 6.8KiB\n",
      "2022-07-11 16:19:46.568711: I tensorflow/core/common_runtime/bfc_allocator.cc:1091] 2 Chunks of size 7424 totalling 14.5KiB\n",
      "2022-07-11 16:19:46.568716: I tensorflow/core/common_runtime/bfc_allocator.cc:1091] 5 Chunks of size 7680 totalling 37.5KiB\n",
      "2022-07-11 16:19:46.568723: I tensorflow/core/common_runtime/bfc_allocator.cc:1091] 3 Chunks of size 8704 totalling 25.5KiB\n",
      "2022-07-11 16:19:46.568728: I tensorflow/core/common_runtime/bfc_allocator.cc:1091] 211 Chunks of size 9216 totalling 1.85MiB\n",
      "2022-07-11 16:19:46.568732: I tensorflow/core/common_runtime/bfc_allocator.cc:1091] 2 Chunks of size 9728 totalling 19.0KiB\n",
      "2022-07-11 16:19:46.568737: I tensorflow/core/common_runtime/bfc_allocator.cc:1091] 1 Chunks of size 10240 totalling 10.0KiB\n",
      "2022-07-11 16:19:46.568741: I tensorflow/core/common_runtime/bfc_allocator.cc:1091] 1 Chunks of size 10752 totalling 10.5KiB\n",
      "2022-07-11 16:19:46.568750: I tensorflow/core/common_runtime/bfc_allocator.cc:1091] 1 Chunks of size 11008 totalling 10.8KiB\n",
      "2022-07-11 16:19:46.568755: I tensorflow/core/common_runtime/bfc_allocator.cc:1091] 2 Chunks of size 11264 totalling 22.0KiB\n",
      "2022-07-11 16:19:46.568759: I tensorflow/core/common_runtime/bfc_allocator.cc:1091] 6 Chunks of size 11776 totalling 69.0KiB\n",
      "2022-07-11 16:19:46.568763: I tensorflow/core/common_runtime/bfc_allocator.cc:1091] 1 Chunks of size 12288 totalling 12.0KiB\n",
      "2022-07-11 16:19:46.568768: I tensorflow/core/common_runtime/bfc_allocator.cc:1091] 10 Chunks of size 13824 totalling 135.0KiB\n",
      "2022-07-11 16:19:46.568772: I tensorflow/core/common_runtime/bfc_allocator.cc:1091] 1 Chunks of size 14080 totalling 13.8KiB\n",
      "2022-07-11 16:19:46.568777: I tensorflow/core/common_runtime/bfc_allocator.cc:1091] 48 Chunks of size 15360 totalling 720.0KiB\n",
      "2022-07-11 16:19:46.568781: I tensorflow/core/common_runtime/bfc_allocator.cc:1091] 2 Chunks of size 16128 totalling 31.5KiB\n",
      "2022-07-11 16:19:46.568786: I tensorflow/core/common_runtime/bfc_allocator.cc:1091] 2 Chunks of size 18432 totalling 36.0KiB\n",
      "2022-07-11 16:19:46.568790: I tensorflow/core/common_runtime/bfc_allocator.cc:1091] 1 Chunks of size 19456 totalling 19.0KiB\n",
      "2022-07-11 16:19:46.568798: I tensorflow/core/common_runtime/bfc_allocator.cc:1091] 1 Chunks of size 20736 totalling 20.2KiB\n",
      "2022-07-11 16:19:46.568802: I tensorflow/core/common_runtime/bfc_allocator.cc:1091] 1 Chunks of size 21248 totalling 20.8KiB\n",
      "2022-07-11 16:19:46.568806: I tensorflow/core/common_runtime/bfc_allocator.cc:1091] 1 Chunks of size 21504 totalling 21.0KiB\n",
      "2022-07-11 16:19:46.568811: I tensorflow/core/common_runtime/bfc_allocator.cc:1091] 1 Chunks of size 22528 totalling 22.0KiB\n",
      "2022-07-11 16:19:46.568815: I tensorflow/core/common_runtime/bfc_allocator.cc:1091] 18 Chunks of size 24320 totalling 427.5KiB\n",
      "2022-07-11 16:19:46.568819: I tensorflow/core/common_runtime/bfc_allocator.cc:1091] 1 Chunks of size 25600 totalling 25.0KiB\n",
      "2022-07-11 16:19:46.568824: I tensorflow/core/common_runtime/bfc_allocator.cc:1091] 5 Chunks of size 27648 totalling 135.0KiB\n",
      "2022-07-11 16:19:46.568828: I tensorflow/core/common_runtime/bfc_allocator.cc:1091] 6 Chunks of size 32768 totalling 192.0KiB\n",
      "2022-07-11 16:19:46.568836: I tensorflow/core/common_runtime/bfc_allocator.cc:1091] 1 Chunks of size 33536 totalling 32.8KiB\n",
      "2022-07-11 16:19:46.568840: I tensorflow/core/common_runtime/bfc_allocator.cc:1091] 7 Chunks of size 36864 totalling 252.0KiB\n",
      "2022-07-11 16:19:46.568845: I tensorflow/core/common_runtime/bfc_allocator.cc:1091] 1 Chunks of size 39680 totalling 38.8KiB\n",
      "2022-07-11 16:19:46.568849: I tensorflow/core/common_runtime/bfc_allocator.cc:1091] 25 Chunks of size 41472 totalling 1012.5KiB\n",
      "2022-07-11 16:19:46.568854: I tensorflow/core/common_runtime/bfc_allocator.cc:1091] 1 Chunks of size 44032 totalling 43.0KiB\n",
      "2022-07-11 16:19:46.568861: I tensorflow/core/common_runtime/bfc_allocator.cc:1091] 7 Chunks of size 48384 totalling 330.8KiB\n",
      "2022-07-11 16:19:46.568866: I tensorflow/core/common_runtime/bfc_allocator.cc:1091] 1 Chunks of size 49152 totalling 48.0KiB\n",
      "2022-07-11 16:19:46.568870: I tensorflow/core/common_runtime/bfc_allocator.cc:1091] 1 Chunks of size 52736 totalling 51.5KiB\n",
      "2022-07-11 16:19:46.568874: I tensorflow/core/common_runtime/bfc_allocator.cc:1091] 1 Chunks of size 53760 totalling 52.5KiB\n",
      "2022-07-11 16:19:46.568879: I tensorflow/core/common_runtime/bfc_allocator.cc:1091] 5 Chunks of size 54784 totalling 267.5KiB\n",
      "2022-07-11 16:19:46.568886: I tensorflow/core/common_runtime/bfc_allocator.cc:1091] 1 Chunks of size 55040 totalling 53.8KiB\n",
      "2022-07-11 16:19:46.568891: I tensorflow/core/common_runtime/bfc_allocator.cc:1091] 1 Chunks of size 59136 totalling 57.8KiB\n",
      "2022-07-11 16:19:46.568895: I tensorflow/core/common_runtime/bfc_allocator.cc:1091] 1 Chunks of size 59904 totalling 58.5KiB\n",
      "2022-07-11 16:19:46.568900: I tensorflow/core/common_runtime/bfc_allocator.cc:1091] 1 Chunks of size 60160 totalling 58.8KiB\n",
      "2022-07-11 16:19:46.568907: I tensorflow/core/common_runtime/bfc_allocator.cc:1091] 1 Chunks of size 64512 totalling 63.0KiB\n",
      "2022-07-11 16:19:46.568911: I tensorflow/core/common_runtime/bfc_allocator.cc:1091] 8 Chunks of size 65536 totalling 512.0KiB\n",
      "2022-07-11 16:19:46.568916: I tensorflow/core/common_runtime/bfc_allocator.cc:1091] 5 Chunks of size 69120 totalling 337.5KiB\n",
      "2022-07-11 16:19:46.568920: I tensorflow/core/common_runtime/bfc_allocator.cc:1091] 25 Chunks of size 73728 totalling 1.76MiB\n",
      "2022-07-11 16:19:46.568925: I tensorflow/core/common_runtime/bfc_allocator.cc:1091] 1 Chunks of size 75264 totalling 73.5KiB\n",
      "2022-07-11 16:19:46.568929: I tensorflow/core/common_runtime/bfc_allocator.cc:1091] 9 Chunks of size 82944 totalling 729.0KiB\n",
      "2022-07-11 16:19:46.568933: I tensorflow/core/common_runtime/bfc_allocator.cc:1091] 7 Chunks of size 85504 totalling 584.5KiB\n",
      "2022-07-11 16:19:46.568938: I tensorflow/core/common_runtime/bfc_allocator.cc:1091] 1 Chunks of size 89856 totalling 87.8KiB\n",
      "2022-07-11 16:19:46.568942: I tensorflow/core/common_runtime/bfc_allocator.cc:1091] 3 Chunks of size 94720 totalling 277.5KiB\n",
      "2022-07-11 16:19:46.568950: I tensorflow/core/common_runtime/bfc_allocator.cc:1091] 1 Chunks of size 102656 totalling 100.2KiB\n",
      "2022-07-11 16:19:46.568954: I tensorflow/core/common_runtime/bfc_allocator.cc:1091] 2 Chunks of size 110592 totalling 216.0KiB\n",
      "2022-07-11 16:19:46.568959: I tensorflow/core/common_runtime/bfc_allocator.cc:1091] 1 Chunks of size 116736 totalling 114.0KiB\n",
      "2022-07-11 16:19:46.568963: I tensorflow/core/common_runtime/bfc_allocator.cc:1091] 1 Chunks of size 138240 totalling 135.0KiB\n",
      "2022-07-11 16:19:46.568968: I tensorflow/core/common_runtime/bfc_allocator.cc:1091] 1 Chunks of size 140800 totalling 137.5KiB\n",
      "2022-07-11 16:19:46.568975: I tensorflow/core/common_runtime/bfc_allocator.cc:1091] 1 Chunks of size 146944 totalling 143.5KiB\n",
      "2022-07-11 16:19:46.568979: I tensorflow/core/common_runtime/bfc_allocator.cc:1091] 25 Chunks of size 147456 totalling 3.52MiB\n",
      "2022-07-11 16:19:46.568984: I tensorflow/core/common_runtime/bfc_allocator.cc:1091] 1 Chunks of size 150016 totalling 146.5KiB\n",
      "2022-07-11 16:19:46.568988: I tensorflow/core/common_runtime/bfc_allocator.cc:1091] 38 Chunks of size 150528 totalling 5.46MiB\n",
      "2022-07-11 16:19:46.568996: I tensorflow/core/common_runtime/bfc_allocator.cc:1091] 3 Chunks of size 157952 totalling 462.8KiB\n",
      "2022-07-11 16:19:46.569001: I tensorflow/core/common_runtime/bfc_allocator.cc:1091] 1 Chunks of size 184320 totalling 180.0KiB\n",
      "2022-07-11 16:19:46.569005: I tensorflow/core/common_runtime/bfc_allocator.cc:1091] 1 Chunks of size 193536 totalling 189.0KiB\n",
      "2022-07-11 16:19:46.569010: I tensorflow/core/common_runtime/bfc_allocator.cc:1091] 1 Chunks of size 213248 totalling 208.2KiB\n",
      "2022-07-11 16:19:46.569017: I tensorflow/core/common_runtime/bfc_allocator.cc:1091] 2 Chunks of size 221184 totalling 432.0KiB\n",
      "2022-07-11 16:19:46.569021: I tensorflow/core/common_runtime/bfc_allocator.cc:1091] 1 Chunks of size 272896 totalling 266.5KiB\n",
      "2022-07-11 16:19:46.569026: I tensorflow/core/common_runtime/bfc_allocator.cc:1091] 1 Chunks of size 276480 totalling 270.0KiB\n",
      "2022-07-11 16:19:46.569030: I tensorflow/core/common_runtime/bfc_allocator.cc:1091] 24 Chunks of size 294912 totalling 6.75MiB\n",
      "2022-07-11 16:19:46.569038: I tensorflow/core/common_runtime/bfc_allocator.cc:1091] 34 Chunks of size 301056 totalling 9.76MiB\n",
      "2022-07-11 16:19:46.569042: I tensorflow/core/common_runtime/bfc_allocator.cc:1091] 1 Chunks of size 307712 totalling 300.5KiB\n",
      "2022-07-11 16:19:46.569047: I tensorflow/core/common_runtime/bfc_allocator.cc:1091] 1 Chunks of size 430080 totalling 420.0KiB\n",
      "2022-07-11 16:19:46.569051: I tensorflow/core/common_runtime/bfc_allocator.cc:1091] 47 Chunks of size 442368 totalling 19.83MiB\n",
      "2022-07-11 16:19:46.569059: I tensorflow/core/common_runtime/bfc_allocator.cc:1091] 1 Chunks of size 452864 totalling 442.2KiB\n",
      "2022-07-11 16:19:46.569063: I tensorflow/core/common_runtime/bfc_allocator.cc:1091] 1 Chunks of size 478208 totalling 467.0KiB\n",
      "2022-07-11 16:19:46.569068: I tensorflow/core/common_runtime/bfc_allocator.cc:1091] 1 Chunks of size 516096 totalling 504.0KiB\n",
      "2022-07-11 16:19:46.569072: I tensorflow/core/common_runtime/bfc_allocator.cc:1091] 1 Chunks of size 523264 totalling 511.0KiB\n",
      "2022-07-11 16:19:46.569077: I tensorflow/core/common_runtime/bfc_allocator.cc:1091] 25 Chunks of size 589824 totalling 14.06MiB\n",
      "2022-07-11 16:19:46.569081: I tensorflow/core/common_runtime/bfc_allocator.cc:1091] 1 Chunks of size 597504 totalling 583.5KiB\n",
      "2022-07-11 16:19:46.569085: I tensorflow/core/common_runtime/bfc_allocator.cc:1091] 32 Chunks of size 602112 totalling 18.38MiB\n",
      "2022-07-11 16:19:46.569090: I tensorflow/core/common_runtime/bfc_allocator.cc:1091] 1 Chunks of size 638208 totalling 623.2KiB\n",
      "2022-07-11 16:19:46.569094: I tensorflow/core/common_runtime/bfc_allocator.cc:1091] 1 Chunks of size 662784 totalling 647.2KiB\n",
      "2022-07-11 16:19:46.569099: I tensorflow/core/common_runtime/bfc_allocator.cc:1091] 5 Chunks of size 663552 totalling 3.16MiB\n",
      "2022-07-11 16:19:46.569103: I tensorflow/core/common_runtime/bfc_allocator.cc:1091] 1 Chunks of size 688128 totalling 672.0KiB\n",
      "2022-07-11 16:19:46.569107: I tensorflow/core/common_runtime/bfc_allocator.cc:1091] 1 Chunks of size 737280 totalling 720.0KiB\n",
      "2022-07-11 16:19:46.569112: I tensorflow/core/common_runtime/bfc_allocator.cc:1091] 1 Chunks of size 761856 totalling 744.0KiB\n",
      "2022-07-11 16:19:46.569116: I tensorflow/core/common_runtime/bfc_allocator.cc:1091] 49 Chunks of size 884736 totalling 41.34MiB\n",
      "2022-07-11 16:19:46.569124: I tensorflow/core/common_runtime/bfc_allocator.cc:1091] 1 Chunks of size 941056 totalling 919.0KiB\n",
      "2022-07-11 16:19:46.569128: I tensorflow/core/common_runtime/bfc_allocator.cc:1091] 2 Chunks of size 1032192 totalling 1.97MiB\n",
      "2022-07-11 16:19:46.569133: I tensorflow/core/common_runtime/bfc_allocator.cc:1091] 1 Chunks of size 1042944 totalling 1018.5KiB\n",
      "2022-07-11 16:19:46.569137: I tensorflow/core/common_runtime/bfc_allocator.cc:1091] 1 Chunks of size 1147648 totalling 1.09MiB\n",
      "2022-07-11 16:19:46.569144: I tensorflow/core/common_runtime/bfc_allocator.cc:1091] 1 Chunks of size 1165824 totalling 1.11MiB\n",
      "2022-07-11 16:19:46.569149: I tensorflow/core/common_runtime/bfc_allocator.cc:1091] 1 Chunks of size 1179648 totalling 1.12MiB\n",
      "2022-07-11 16:19:46.569153: I tensorflow/core/common_runtime/bfc_allocator.cc:1091] 37 Chunks of size 1204224 totalling 42.49MiB\n",
      "2022-07-11 16:19:46.569157: I tensorflow/core/common_runtime/bfc_allocator.cc:1091] 10 Chunks of size 1228800 totalling 11.72MiB\n",
      "2022-07-11 16:19:46.569162: I tensorflow/core/common_runtime/bfc_allocator.cc:1091] 171 Chunks of size 1310720 totalling 213.75MiB\n",
      "2022-07-11 16:19:46.569169: I tensorflow/core/common_runtime/bfc_allocator.cc:1091] 1 Chunks of size 1322496 totalling 1.26MiB\n",
      "2022-07-11 16:19:46.569174: I tensorflow/core/common_runtime/bfc_allocator.cc:1091] 5 Chunks of size 1327104 totalling 6.33MiB\n",
      "2022-07-11 16:19:46.569178: I tensorflow/core/common_runtime/bfc_allocator.cc:1091] 1 Chunks of size 1364224 totalling 1.30MiB\n",
      "2022-07-11 16:19:46.569182: I tensorflow/core/common_runtime/bfc_allocator.cc:1091] 1 Chunks of size 1385728 totalling 1.32MiB\n",
      "2022-07-11 16:19:46.569186: I tensorflow/core/common_runtime/bfc_allocator.cc:1091] 1 Chunks of size 1428480 totalling 1.36MiB\n",
      "2022-07-11 16:19:46.569190: I tensorflow/core/common_runtime/bfc_allocator.cc:1091] 1 Chunks of size 1572864 totalling 1.50MiB\n",
      "2022-07-11 16:19:46.569195: I tensorflow/core/common_runtime/bfc_allocator.cc:1091] 1 Chunks of size 1589504 totalling 1.52MiB\n",
      "2022-07-11 16:19:46.569199: I tensorflow/core/common_runtime/bfc_allocator.cc:1091] 1 Chunks of size 1638400 totalling 1.56MiB\n",
      "2022-07-11 16:19:46.569206: I tensorflow/core/common_runtime/bfc_allocator.cc:1091] 1 Chunks of size 1653760 totalling 1.58MiB\n",
      "2022-07-11 16:19:46.569210: I tensorflow/core/common_runtime/bfc_allocator.cc:1091] 1 Chunks of size 1747456 totalling 1.67MiB\n",
      "2022-07-11 16:19:46.569215: I tensorflow/core/common_runtime/bfc_allocator.cc:1091] 42 Chunks of size 1769472 totalling 70.88MiB\n",
      "2022-07-11 16:19:46.569219: I tensorflow/core/common_runtime/bfc_allocator.cc:1091] 1 Chunks of size 1791232 totalling 1.71MiB\n",
      "2022-07-11 16:19:46.569224: I tensorflow/core/common_runtime/bfc_allocator.cc:1091] 1 Chunks of size 1852160 totalling 1.77MiB\n",
      "2022-07-11 16:19:46.569228: I tensorflow/core/common_runtime/bfc_allocator.cc:1091] 1 Chunks of size 1892608 totalling 1.80MiB\n",
      "2022-07-11 16:19:46.569232: I tensorflow/core/common_runtime/bfc_allocator.cc:1091] 1 Chunks of size 1966080 totalling 1.88MiB\n",
      "2022-07-11 16:19:46.569239: I tensorflow/core/common_runtime/bfc_allocator.cc:1091] 1 Chunks of size 1978880 totalling 1.89MiB\n",
      "2022-07-11 16:19:46.569243: I tensorflow/core/common_runtime/bfc_allocator.cc:1091] 1 Chunks of size 1983744 totalling 1.89MiB\n",
      "2022-07-11 16:19:46.569248: I tensorflow/core/common_runtime/bfc_allocator.cc:1091] 1 Chunks of size 1987584 totalling 1.90MiB\n",
      "2022-07-11 16:19:46.569252: I tensorflow/core/common_runtime/bfc_allocator.cc:1091] 1 Chunks of size 2064384 totalling 1.97MiB\n",
      "2022-07-11 16:19:46.569257: I tensorflow/core/common_runtime/bfc_allocator.cc:1091] 33 Chunks of size 2212352 totalling 69.62MiB\n",
      "2022-07-11 16:19:46.569261: I tensorflow/core/common_runtime/bfc_allocator.cc:1091] 1 Chunks of size 2245120 totalling 2.14MiB\n",
      "2022-07-11 16:19:46.569265: I tensorflow/core/common_runtime/bfc_allocator.cc:1091] 1 Chunks of size 2248960 totalling 2.14MiB\n",
      "2022-07-11 16:19:46.569269: I tensorflow/core/common_runtime/bfc_allocator.cc:1091] 1 Chunks of size 2269440 totalling 2.16MiB\n",
      "2022-07-11 16:19:46.569274: I tensorflow/core/common_runtime/bfc_allocator.cc:1091] 1 Chunks of size 2311424 totalling 2.20MiB\n",
      "2022-07-11 16:19:46.569278: I tensorflow/core/common_runtime/bfc_allocator.cc:1091] 1 Chunks of size 2316288 totalling 2.21MiB\n",
      "2022-07-11 16:19:46.569282: I tensorflow/core/common_runtime/bfc_allocator.cc:1091] 1 Chunks of size 2326272 totalling 2.22MiB\n",
      "2022-07-11 16:19:46.569286: I tensorflow/core/common_runtime/bfc_allocator.cc:1091] 1 Chunks of size 2359296 totalling 2.25MiB\n",
      "2022-07-11 16:19:46.569290: I tensorflow/core/common_runtime/bfc_allocator.cc:1091] 1 Chunks of size 2375424 totalling 2.26MiB\n",
      "2022-07-11 16:19:46.569295: I tensorflow/core/common_runtime/bfc_allocator.cc:1091] 12 Chunks of size 2457600 totalling 28.12MiB\n",
      "2022-07-11 16:19:46.569299: I tensorflow/core/common_runtime/bfc_allocator.cc:1091] 1 Chunks of size 2459136 totalling 2.34MiB\n",
      "2022-07-11 16:19:46.569304: I tensorflow/core/common_runtime/bfc_allocator.cc:1091] 8 Chunks of size 2544896 totalling 19.42MiB\n",
      "2022-07-11 16:19:46.569311: I tensorflow/core/common_runtime/bfc_allocator.cc:1091] 1 Chunks of size 2941184 totalling 2.80MiB\n",
      "2022-07-11 16:19:46.569315: I tensorflow/core/common_runtime/bfc_allocator.cc:1091] 1 Chunks of size 2949120 totalling 2.81MiB\n",
      "2022-07-11 16:19:46.569319: I tensorflow/core/common_runtime/bfc_allocator.cc:1091] 1 Chunks of size 2951680 totalling 2.81MiB\n",
      "2022-07-11 16:19:46.569323: I tensorflow/core/common_runtime/bfc_allocator.cc:1091] 1 Chunks of size 3276800 totalling 3.12MiB\n",
      "2022-07-11 16:19:46.569328: I tensorflow/core/common_runtime/bfc_allocator.cc:1091] 1 Chunks of size 3301376 totalling 3.15MiB\n",
      "2022-07-11 16:19:46.569332: I tensorflow/core/common_runtime/bfc_allocator.cc:1091] 1 Chunks of size 3301632 totalling 3.15MiB\n",
      "2022-07-11 16:19:46.569336: I tensorflow/core/common_runtime/bfc_allocator.cc:1091] 1 Chunks of size 3491584 totalling 3.33MiB\n",
      "2022-07-11 16:19:46.569344: I tensorflow/core/common_runtime/bfc_allocator.cc:1091] 48 Chunks of size 3538944 totalling 162.00MiB\n",
      "2022-07-11 16:19:46.569348: I tensorflow/core/common_runtime/bfc_allocator.cc:1091] 1 Chunks of size 4128768 totalling 3.94MiB\n",
      "2022-07-11 16:19:46.569352: I tensorflow/core/common_runtime/bfc_allocator.cc:1091] 1 Chunks of size 4489216 totalling 4.28MiB\n",
      "2022-07-11 16:19:46.569357: I tensorflow/core/common_runtime/bfc_allocator.cc:1091] 1 Chunks of size 6483712 totalling 6.18MiB\n",
      "2022-07-11 16:19:46.569361: I tensorflow/core/common_runtime/bfc_allocator.cc:1091] 1 Chunks of size 6835712 totalling 6.52MiB\n",
      "2022-07-11 16:19:46.569365: I tensorflow/core/common_runtime/bfc_allocator.cc:1091] 1 Chunks of size 7372800 totalling 7.03MiB\n",
      "2022-07-11 16:19:46.569369: I tensorflow/core/common_runtime/bfc_allocator.cc:1091] 2 Chunks of size 7869696 totalling 15.01MiB\n",
      "2022-07-11 16:19:46.569374: I tensorflow/core/common_runtime/bfc_allocator.cc:1091] 1 Chunks of size 8557824 totalling 8.16MiB\n",
      "2022-07-11 16:19:46.569378: I tensorflow/core/common_runtime/bfc_allocator.cc:1091] 7 Chunks of size 9098496 totalling 60.74MiB\n",
      "2022-07-11 16:19:46.569386: I tensorflow/core/common_runtime/bfc_allocator.cc:1091] 12 Chunks of size 9830400 totalling 112.50MiB\n",
      "2022-07-11 16:19:46.569391: I tensorflow/core/common_runtime/bfc_allocator.cc:1091] 1 Chunks of size 943718400 totalling 900.00MiB\n",
      "2022-07-11 16:19:46.569395: I tensorflow/core/common_runtime/bfc_allocator.cc:1091] 1 Chunks of size 3774873600 totalling 3.52GiB\n",
      "2022-07-11 16:19:46.569399: I tensorflow/core/common_runtime/bfc_allocator.cc:1095] Sum Total of in-use chunks: 5.44GiB\n",
      "2022-07-11 16:19:46.569404: I tensorflow/core/common_runtime/bfc_allocator.cc:1097] total_region_allocated_bytes_: 14371717120 memory_limit_: 14371717120 available bytes: 0 curr_region_allocation_bytes_: 17179869184\n",
      "2022-07-11 16:19:46.569413: I tensorflow/core/common_runtime/bfc_allocator.cc:1103] Stats: \n",
      "Limit:                     14371717120\n",
      "InUse:                      5839470848\n",
      "MaxInUse:                  12178919936\n",
      "NumAllocs:                      577096\n",
      "MaxAllocSize:               3875471360\n",
      "Reserved:                            0\n",
      "PeakReserved:                        0\n",
      "LargestFreeBlock:                    0\n",
      "\n",
      "2022-07-11 16:19:46.569509: W tensorflow/core/common_runtime/bfc_allocator.cc:491] ***************************_____________*******________________________________**___________********\n",
      "2022-07-11 16:19:46.569603: W tensorflow/core/framework/op_kernel.cc:1745] OP_REQUIRES failed at fused_batch_norm_op.cc:1355 : RESOURCE_EXHAUSTED: OOM when allocating tensor with shape[512,120,120,256] and type half on /job:localhost/replica:0/task:0/device:GPU:0 by allocator GPU_0_bfc\n"
     ]
    },
    {
     "ename": "ResourceExhaustedError",
     "evalue": "Graph execution error:\n\nDetected at node 'sequential/efficientnetv2-l/block2b_expand_bn/FusedBatchNormV3' defined at (most recent call last):\n    File \"/usr/lib/python3.8/runpy.py\", line 194, in _run_module_as_main\n      return _run_code(code, main_globals, None,\n    File \"/usr/lib/python3.8/runpy.py\", line 87, in _run_code\n      exec(code, run_globals)\n    File \"/usr/local/lib/python3.8/dist-packages/ipykernel_launcher.py\", line 17, in <module>\n      app.launch_new_instance()\n    File \"/usr/local/lib/python3.8/dist-packages/traitlets/config/application.py\", line 846, in launch_instance\n      app.start()\n    File \"/usr/local/lib/python3.8/dist-packages/ipykernel/kernelapp.py\", line 712, in start\n      self.io_loop.start()\n    File \"/usr/local/lib/python3.8/dist-packages/tornado/platform/asyncio.py\", line 199, in start\n      self.asyncio_loop.run_forever()\n    File \"/usr/lib/python3.8/asyncio/base_events.py\", line 570, in run_forever\n      self._run_once()\n    File \"/usr/lib/python3.8/asyncio/base_events.py\", line 1859, in _run_once\n      handle._run()\n    File \"/usr/lib/python3.8/asyncio/events.py\", line 81, in _run\n      self._context.run(self._callback, *self._args)\n    File \"/usr/local/lib/python3.8/dist-packages/ipykernel/kernelbase.py\", line 504, in dispatch_queue\n      await self.process_one()\n    File \"/usr/local/lib/python3.8/dist-packages/ipykernel/kernelbase.py\", line 493, in process_one\n      await dispatch(*args)\n    File \"/usr/local/lib/python3.8/dist-packages/ipykernel/kernelbase.py\", line 400, in dispatch_shell\n      await result\n    File \"/usr/local/lib/python3.8/dist-packages/ipykernel/kernelbase.py\", line 724, in execute_request\n      reply_content = await reply_content\n    File \"/usr/local/lib/python3.8/dist-packages/ipykernel/ipkernel.py\", line 390, in do_execute\n      res = shell.run_cell(code, store_history=store_history, silent=silent)\n    File \"/usr/local/lib/python3.8/dist-packages/ipykernel/zmqshell.py\", line 528, in run_cell\n      return super().run_cell(*args, **kwargs)\n    File \"/usr/local/lib/python3.8/dist-packages/IPython/core/interactiveshell.py\", line 2863, in run_cell\n      result = self._run_cell(\n    File \"/usr/local/lib/python3.8/dist-packages/IPython/core/interactiveshell.py\", line 2909, in _run_cell\n      return runner(coro)\n    File \"/usr/local/lib/python3.8/dist-packages/IPython/core/async_helpers.py\", line 129, in _pseudo_sync_runner\n      coro.send(None)\n    File \"/usr/local/lib/python3.8/dist-packages/IPython/core/interactiveshell.py\", line 3106, in run_cell_async\n      has_raised = await self.run_ast_nodes(code_ast.body, cell_name,\n    File \"/usr/local/lib/python3.8/dist-packages/IPython/core/interactiveshell.py\", line 3309, in run_ast_nodes\n      if await self.run_code(code, result, async_=asy):\n    File \"/usr/local/lib/python3.8/dist-packages/IPython/core/interactiveshell.py\", line 3369, in run_code\n      exec(code_obj, self.user_global_ns, self.user_ns)\n    File \"/tmp/ipykernel_111867/2273700900.py\", line 8, in <cell line: 3>\n      extracted_features = base_model.predict(AugmentationGenerator())\n    File \"/usr/local/lib/python3.8/dist-packages/keras/utils/traceback_utils.py\", line 64, in error_handler\n      return fn(*args, **kwargs)\n    File \"/usr/local/lib/python3.8/dist-packages/keras/engine/training.py\", line 2033, in predict\n      tmp_batch_outputs = self.predict_function(iterator)\n    File \"/usr/local/lib/python3.8/dist-packages/keras/engine/training.py\", line 1845, in predict_function\n      return step_function(self, iterator)\n    File \"/usr/local/lib/python3.8/dist-packages/keras/engine/training.py\", line 1834, in step_function\n      outputs = model.distribute_strategy.run(run_step, args=(data,))\n    File \"/usr/local/lib/python3.8/dist-packages/keras/engine/training.py\", line 1823, in run_step\n      outputs = model.predict_step(data)\n    File \"/usr/local/lib/python3.8/dist-packages/keras/engine/training.py\", line 1791, in predict_step\n      return self(x, training=False)\n    File \"/usr/local/lib/python3.8/dist-packages/keras/utils/traceback_utils.py\", line 64, in error_handler\n      return fn(*args, **kwargs)\n    File \"/usr/local/lib/python3.8/dist-packages/keras/engine/training.py\", line 490, in __call__\n      return super().__call__(*args, **kwargs)\n    File \"/usr/local/lib/python3.8/dist-packages/keras/utils/traceback_utils.py\", line 64, in error_handler\n      return fn(*args, **kwargs)\n    File \"/usr/local/lib/python3.8/dist-packages/keras/engine/base_layer.py\", line 1014, in __call__\n      outputs = call_fn(inputs, *args, **kwargs)\n    File \"/usr/local/lib/python3.8/dist-packages/keras/utils/traceback_utils.py\", line 92, in error_handler\n      return fn(*args, **kwargs)\n    File \"/usr/local/lib/python3.8/dist-packages/keras/engine/sequential.py\", line 374, in call\n      return super(Sequential, self).call(inputs, training=training, mask=mask)\n    File \"/usr/local/lib/python3.8/dist-packages/keras/engine/functional.py\", line 458, in call\n      return self._run_internal_graph(\n    File \"/usr/local/lib/python3.8/dist-packages/keras/engine/functional.py\", line 596, in _run_internal_graph\n      outputs = node.layer(*args, **kwargs)\n    File \"/usr/local/lib/python3.8/dist-packages/keras/utils/traceback_utils.py\", line 64, in error_handler\n      return fn(*args, **kwargs)\n    File \"/usr/local/lib/python3.8/dist-packages/keras/engine/training.py\", line 490, in __call__\n      return super().__call__(*args, **kwargs)\n    File \"/usr/local/lib/python3.8/dist-packages/keras/utils/traceback_utils.py\", line 64, in error_handler\n      return fn(*args, **kwargs)\n    File \"/usr/local/lib/python3.8/dist-packages/keras/engine/base_layer.py\", line 1014, in __call__\n      outputs = call_fn(inputs, *args, **kwargs)\n    File \"/usr/local/lib/python3.8/dist-packages/keras/utils/traceback_utils.py\", line 92, in error_handler\n      return fn(*args, **kwargs)\n    File \"/usr/local/lib/python3.8/dist-packages/keras/engine/functional.py\", line 458, in call\n      return self._run_internal_graph(\n    File \"/usr/local/lib/python3.8/dist-packages/keras/engine/functional.py\", line 596, in _run_internal_graph\n      outputs = node.layer(*args, **kwargs)\n    File \"/usr/local/lib/python3.8/dist-packages/keras/utils/traceback_utils.py\", line 64, in error_handler\n      return fn(*args, **kwargs)\n    File \"/usr/local/lib/python3.8/dist-packages/keras/engine/base_layer.py\", line 1014, in __call__\n      outputs = call_fn(inputs, *args, **kwargs)\n    File \"/usr/local/lib/python3.8/dist-packages/keras/utils/traceback_utils.py\", line 92, in error_handler\n      return fn(*args, **kwargs)\n    File \"/usr/local/lib/python3.8/dist-packages/keras/layers/normalization/batch_normalization.py\", line 750, in call\n      outputs = self._fused_batch_norm(inputs, training=training)\n    File \"/usr/local/lib/python3.8/dist-packages/keras/layers/normalization/batch_normalization.py\", line 594, in _fused_batch_norm\n      output, mean, variance = control_flow_util.smart_cond(\n    File \"/usr/local/lib/python3.8/dist-packages/keras/utils/control_flow_util.py\", line 105, in smart_cond\n      return tf.__internal__.smart_cond.smart_cond(\n    File \"/usr/local/lib/python3.8/dist-packages/keras/layers/normalization/batch_normalization.py\", line 584, in _fused_batch_norm_inference\n      return tf.compat.v1.nn.fused_batch_norm(\nNode: 'sequential/efficientnetv2-l/block2b_expand_bn/FusedBatchNormV3'\nOOM when allocating tensor with shape[512,120,120,256] and type half on /job:localhost/replica:0/task:0/device:GPU:0 by allocator GPU_0_bfc\n\t [[{{node sequential/efficientnetv2-l/block2b_expand_bn/FusedBatchNormV3}}]]\nHint: If you want to see a list of allocated tensors when OOM happens, add report_tensor_allocations_upon_oom to RunOptions for current allocation info. This isn't available when running in Eager mode.\n [Op:__inference_predict_function_34858]",
     "output_type": "error",
     "traceback": [
      "\u001b[0;31m---------------------------------------------------------------------------\u001b[0m",
      "\u001b[0;31mResourceExhaustedError\u001b[0m                    Traceback (most recent call last)",
      "\u001b[1;32m/home/nick/git/IVF/train.ipynb Cell 16'\u001b[0m in \u001b[0;36m<cell line: 3>\u001b[0;34m()\u001b[0m\n\u001b[1;32m      <a href='vscode-notebook-cell:/home/nick/git/IVF/train.ipynb#ch0000015?line=5'>6</a>\u001b[0m \u001b[39mexcept\u001b[39;00m \u001b[39mException\u001b[39;00m \u001b[39mas\u001b[39;00m e:\n\u001b[1;32m      <a href='vscode-notebook-cell:/home/nick/git/IVF/train.ipynb#ch0000015?line=6'>7</a>\u001b[0m     \u001b[39mprint\u001b[39m(e)\n\u001b[0;32m----> <a href='vscode-notebook-cell:/home/nick/git/IVF/train.ipynb#ch0000015?line=7'>8</a>\u001b[0m     extracted_features \u001b[39m=\u001b[39m base_model\u001b[39m.\u001b[39;49mpredict(AugmentationGenerator())\n\u001b[1;32m      <a href='vscode-notebook-cell:/home/nick/git/IVF/train.ipynb#ch0000015?line=8'>9</a>\u001b[0m     np\u001b[39m.\u001b[39msave(cachefile, extracted_features)\n",
      "File \u001b[0;32m/usr/local/lib/python3.8/dist-packages/keras/utils/traceback_utils.py:67\u001b[0m, in \u001b[0;36mfilter_traceback.<locals>.error_handler\u001b[0;34m(*args, **kwargs)\u001b[0m\n\u001b[1;32m     65\u001b[0m \u001b[39mexcept\u001b[39;00m \u001b[39mException\u001b[39;00m \u001b[39mas\u001b[39;00m e:  \u001b[39m# pylint: disable=broad-except\u001b[39;00m\n\u001b[1;32m     66\u001b[0m   filtered_tb \u001b[39m=\u001b[39m _process_traceback_frames(e\u001b[39m.\u001b[39m__traceback__)\n\u001b[0;32m---> 67\u001b[0m   \u001b[39mraise\u001b[39;00m e\u001b[39m.\u001b[39mwith_traceback(filtered_tb) \u001b[39mfrom\u001b[39;00m \u001b[39mNone\u001b[39m\n\u001b[1;32m     68\u001b[0m \u001b[39mfinally\u001b[39;00m:\n\u001b[1;32m     69\u001b[0m   \u001b[39mdel\u001b[39;00m filtered_tb\n",
      "File \u001b[0;32m/usr/local/lib/python3.8/dist-packages/tensorflow/python/eager/execute.py:54\u001b[0m, in \u001b[0;36mquick_execute\u001b[0;34m(op_name, num_outputs, inputs, attrs, ctx, name)\u001b[0m\n\u001b[1;32m     52\u001b[0m \u001b[39mtry\u001b[39;00m:\n\u001b[1;32m     53\u001b[0m   ctx\u001b[39m.\u001b[39mensure_initialized()\n\u001b[0;32m---> 54\u001b[0m   tensors \u001b[39m=\u001b[39m pywrap_tfe\u001b[39m.\u001b[39mTFE_Py_Execute(ctx\u001b[39m.\u001b[39m_handle, device_name, op_name,\n\u001b[1;32m     55\u001b[0m                                       inputs, attrs, num_outputs)\n\u001b[1;32m     56\u001b[0m \u001b[39mexcept\u001b[39;00m core\u001b[39m.\u001b[39m_NotOkStatusException \u001b[39mas\u001b[39;00m e:\n\u001b[1;32m     57\u001b[0m   \u001b[39mif\u001b[39;00m name \u001b[39mis\u001b[39;00m \u001b[39mnot\u001b[39;00m \u001b[39mNone\u001b[39;00m:\n",
      "\u001b[0;31mResourceExhaustedError\u001b[0m: Graph execution error:\n\nDetected at node 'sequential/efficientnetv2-l/block2b_expand_bn/FusedBatchNormV3' defined at (most recent call last):\n    File \"/usr/lib/python3.8/runpy.py\", line 194, in _run_module_as_main\n      return _run_code(code, main_globals, None,\n    File \"/usr/lib/python3.8/runpy.py\", line 87, in _run_code\n      exec(code, run_globals)\n    File \"/usr/local/lib/python3.8/dist-packages/ipykernel_launcher.py\", line 17, in <module>\n      app.launch_new_instance()\n    File \"/usr/local/lib/python3.8/dist-packages/traitlets/config/application.py\", line 846, in launch_instance\n      app.start()\n    File \"/usr/local/lib/python3.8/dist-packages/ipykernel/kernelapp.py\", line 712, in start\n      self.io_loop.start()\n    File \"/usr/local/lib/python3.8/dist-packages/tornado/platform/asyncio.py\", line 199, in start\n      self.asyncio_loop.run_forever()\n    File \"/usr/lib/python3.8/asyncio/base_events.py\", line 570, in run_forever\n      self._run_once()\n    File \"/usr/lib/python3.8/asyncio/base_events.py\", line 1859, in _run_once\n      handle._run()\n    File \"/usr/lib/python3.8/asyncio/events.py\", line 81, in _run\n      self._context.run(self._callback, *self._args)\n    File \"/usr/local/lib/python3.8/dist-packages/ipykernel/kernelbase.py\", line 504, in dispatch_queue\n      await self.process_one()\n    File \"/usr/local/lib/python3.8/dist-packages/ipykernel/kernelbase.py\", line 493, in process_one\n      await dispatch(*args)\n    File \"/usr/local/lib/python3.8/dist-packages/ipykernel/kernelbase.py\", line 400, in dispatch_shell\n      await result\n    File \"/usr/local/lib/python3.8/dist-packages/ipykernel/kernelbase.py\", line 724, in execute_request\n      reply_content = await reply_content\n    File \"/usr/local/lib/python3.8/dist-packages/ipykernel/ipkernel.py\", line 390, in do_execute\n      res = shell.run_cell(code, store_history=store_history, silent=silent)\n    File \"/usr/local/lib/python3.8/dist-packages/ipykernel/zmqshell.py\", line 528, in run_cell\n      return super().run_cell(*args, **kwargs)\n    File \"/usr/local/lib/python3.8/dist-packages/IPython/core/interactiveshell.py\", line 2863, in run_cell\n      result = self._run_cell(\n    File \"/usr/local/lib/python3.8/dist-packages/IPython/core/interactiveshell.py\", line 2909, in _run_cell\n      return runner(coro)\n    File \"/usr/local/lib/python3.8/dist-packages/IPython/core/async_helpers.py\", line 129, in _pseudo_sync_runner\n      coro.send(None)\n    File \"/usr/local/lib/python3.8/dist-packages/IPython/core/interactiveshell.py\", line 3106, in run_cell_async\n      has_raised = await self.run_ast_nodes(code_ast.body, cell_name,\n    File \"/usr/local/lib/python3.8/dist-packages/IPython/core/interactiveshell.py\", line 3309, in run_ast_nodes\n      if await self.run_code(code, result, async_=asy):\n    File \"/usr/local/lib/python3.8/dist-packages/IPython/core/interactiveshell.py\", line 3369, in run_code\n      exec(code_obj, self.user_global_ns, self.user_ns)\n    File \"/tmp/ipykernel_111867/2273700900.py\", line 8, in <cell line: 3>\n      extracted_features = base_model.predict(AugmentationGenerator())\n    File \"/usr/local/lib/python3.8/dist-packages/keras/utils/traceback_utils.py\", line 64, in error_handler\n      return fn(*args, **kwargs)\n    File \"/usr/local/lib/python3.8/dist-packages/keras/engine/training.py\", line 2033, in predict\n      tmp_batch_outputs = self.predict_function(iterator)\n    File \"/usr/local/lib/python3.8/dist-packages/keras/engine/training.py\", line 1845, in predict_function\n      return step_function(self, iterator)\n    File \"/usr/local/lib/python3.8/dist-packages/keras/engine/training.py\", line 1834, in step_function\n      outputs = model.distribute_strategy.run(run_step, args=(data,))\n    File \"/usr/local/lib/python3.8/dist-packages/keras/engine/training.py\", line 1823, in run_step\n      outputs = model.predict_step(data)\n    File \"/usr/local/lib/python3.8/dist-packages/keras/engine/training.py\", line 1791, in predict_step\n      return self(x, training=False)\n    File \"/usr/local/lib/python3.8/dist-packages/keras/utils/traceback_utils.py\", line 64, in error_handler\n      return fn(*args, **kwargs)\n    File \"/usr/local/lib/python3.8/dist-packages/keras/engine/training.py\", line 490, in __call__\n      return super().__call__(*args, **kwargs)\n    File \"/usr/local/lib/python3.8/dist-packages/keras/utils/traceback_utils.py\", line 64, in error_handler\n      return fn(*args, **kwargs)\n    File \"/usr/local/lib/python3.8/dist-packages/keras/engine/base_layer.py\", line 1014, in __call__\n      outputs = call_fn(inputs, *args, **kwargs)\n    File \"/usr/local/lib/python3.8/dist-packages/keras/utils/traceback_utils.py\", line 92, in error_handler\n      return fn(*args, **kwargs)\n    File \"/usr/local/lib/python3.8/dist-packages/keras/engine/sequential.py\", line 374, in call\n      return super(Sequential, self).call(inputs, training=training, mask=mask)\n    File \"/usr/local/lib/python3.8/dist-packages/keras/engine/functional.py\", line 458, in call\n      return self._run_internal_graph(\n    File \"/usr/local/lib/python3.8/dist-packages/keras/engine/functional.py\", line 596, in _run_internal_graph\n      outputs = node.layer(*args, **kwargs)\n    File \"/usr/local/lib/python3.8/dist-packages/keras/utils/traceback_utils.py\", line 64, in error_handler\n      return fn(*args, **kwargs)\n    File \"/usr/local/lib/python3.8/dist-packages/keras/engine/training.py\", line 490, in __call__\n      return super().__call__(*args, **kwargs)\n    File \"/usr/local/lib/python3.8/dist-packages/keras/utils/traceback_utils.py\", line 64, in error_handler\n      return fn(*args, **kwargs)\n    File \"/usr/local/lib/python3.8/dist-packages/keras/engine/base_layer.py\", line 1014, in __call__\n      outputs = call_fn(inputs, *args, **kwargs)\n    File \"/usr/local/lib/python3.8/dist-packages/keras/utils/traceback_utils.py\", line 92, in error_handler\n      return fn(*args, **kwargs)\n    File \"/usr/local/lib/python3.8/dist-packages/keras/engine/functional.py\", line 458, in call\n      return self._run_internal_graph(\n    File \"/usr/local/lib/python3.8/dist-packages/keras/engine/functional.py\", line 596, in _run_internal_graph\n      outputs = node.layer(*args, **kwargs)\n    File \"/usr/local/lib/python3.8/dist-packages/keras/utils/traceback_utils.py\", line 64, in error_handler\n      return fn(*args, **kwargs)\n    File \"/usr/local/lib/python3.8/dist-packages/keras/engine/base_layer.py\", line 1014, in __call__\n      outputs = call_fn(inputs, *args, **kwargs)\n    File \"/usr/local/lib/python3.8/dist-packages/keras/utils/traceback_utils.py\", line 92, in error_handler\n      return fn(*args, **kwargs)\n    File \"/usr/local/lib/python3.8/dist-packages/keras/layers/normalization/batch_normalization.py\", line 750, in call\n      outputs = self._fused_batch_norm(inputs, training=training)\n    File \"/usr/local/lib/python3.8/dist-packages/keras/layers/normalization/batch_normalization.py\", line 594, in _fused_batch_norm\n      output, mean, variance = control_flow_util.smart_cond(\n    File \"/usr/local/lib/python3.8/dist-packages/keras/utils/control_flow_util.py\", line 105, in smart_cond\n      return tf.__internal__.smart_cond.smart_cond(\n    File \"/usr/local/lib/python3.8/dist-packages/keras/layers/normalization/batch_normalization.py\", line 584, in _fused_batch_norm_inference\n      return tf.compat.v1.nn.fused_batch_norm(\nNode: 'sequential/efficientnetv2-l/block2b_expand_bn/FusedBatchNormV3'\nOOM when allocating tensor with shape[512,120,120,256] and type half on /job:localhost/replica:0/task:0/device:GPU:0 by allocator GPU_0_bfc\n\t [[{{node sequential/efficientnetv2-l/block2b_expand_bn/FusedBatchNormV3}}]]\nHint: If you want to see a list of allocated tensors when OOM happens, add report_tensor_allocations_upon_oom to RunOptions for current allocation info. This isn't available when running in Eager mode.\n [Op:__inference_predict_function_34858]"
     ]
    }
   ],
   "source": [
    "cachefile = f\"extracted_features{'_eq' if EQUALIZE else ''}.npy\"\n",
    "print(cachefile)\n",
    "try:\n",
    "    extracted_features = np.load(cachefile)\n",
    "    assert len(extracted_features) == len(train.file_paths)*4\n",
    "except Exception as e:\n",
    "    print(e)\n",
    "    extracted_features = base_model.predict(AugmentationGenerator())\n",
    "    np.save(cachefile, extracted_features)"
   ]
  },
  {
   "cell_type": "code",
   "execution_count": 17,
   "id": "77f145fd",
   "metadata": {},
   "outputs": [],
   "source": [
    "del train_cache"
   ]
  },
  {
   "cell_type": "code",
   "execution_count": null,
   "id": "78116e7f",
   "metadata": {
    "scrolled": false
   },
   "outputs": [
    {
     "data": {
      "text/plain": [
       "(97532, 1280)"
      ]
     },
     "execution_count": 18,
     "metadata": {},
     "output_type": "execute_result"
    }
   ],
   "source": [
    "extracted_features.shape"
   ]
  },
  {
   "cell_type": "code",
   "execution_count": null,
   "id": "18f744db",
   "metadata": {},
   "outputs": [
    {
     "data": {
      "text/plain": [
       "(97532, 12)"
      ]
     },
     "execution_count": 19,
     "metadata": {},
     "output_type": "execute_result"
    }
   ],
   "source": [
    "y = np.vstack([np.vstack([y,y,y,y]) for x,y in train])\n",
    "y.shape"
   ]
  },
  {
   "cell_type": "code",
   "execution_count": null,
   "id": "2005acb6",
   "metadata": {},
   "outputs": [
    {
     "data": {
      "text/plain": [
       "0        EmbryoLabeling/Labelers/train/2 Cell/M0776_S00437_W1_F0_1633.jpg\n",
       "1        EmbryoLabeling/Labelers/train/2 Cell/M0776_S00437_W1_F0_1653.jpg\n",
       "2        EmbryoLabeling/Labelers/train/2 Cell/M0776_S00437_W1_F0_1673.jpg\n",
       "3        EmbryoLabeling/Labelers/train/2 Cell/M0776_S00437_W1_F0_1694.jpg\n",
       "4        EmbryoLabeling/Labelers/train/2 Cell/M0776_S00437_W1_F0_1714.jpg\n",
       "                                       ...                               \n",
       "97527     EmbryoLabeling/Labelers/train/Syngamy/M776_S0087_W5_F0_1555.jpg\n",
       "97528     EmbryoLabeling/Labelers/train/Syngamy/M776_S0087_W5_F0_1585.jpg\n",
       "97529     EmbryoLabeling/Labelers/train/Syngamy/M776_S0087_W5_F0_1605.jpg\n",
       "97530     EmbryoLabeling/Labelers/train/Syngamy/M776_S0087_W5_F0_1625.jpg\n",
       "97531     EmbryoLabeling/Labelers/train/Syngamy/M776_S0087_W5_F0_1645.jpg\n",
       "Length: 97532, dtype: object"
      ]
     },
     "metadata": {},
     "output_type": "display_data"
    }
   ],
   "source": [
    "aug_paths = []\n",
    "for i in range(len(train)):\n",
    "    batch_paths = train.file_paths[i*BATCH_SIZE:(i+1)*BATCH_SIZE]\n",
    "    aug_paths.extend(batch_paths * 4)\n",
    "aug_paths = pd.Series(aug_paths)\n",
    "display(aug_paths)"
   ]
  },
  {
   "cell_type": "code",
   "execution_count": null,
   "id": "0a520b36",
   "metadata": {},
   "outputs": [
    {
     "data": {
      "text/plain": [
       "0        0.163660\n",
       "1        0.165664\n",
       "2        0.167669\n",
       "3        0.169774\n",
       "4        0.171778\n",
       "           ...   \n",
       "97527    0.155843\n",
       "97528    0.158849\n",
       "97529    0.160854\n",
       "97530    0.162858\n",
       "97531    0.164863\n",
       "Length: 97532, dtype: float64"
      ]
     },
     "execution_count": 21,
     "metadata": {},
     "output_type": "execute_result"
    }
   ],
   "source": [
    "fert_minutes = aug_paths.apply(lambda s: s.replace(\".jpg\", \"\").split(\"_\")[-1]).astype(int)/9978\n",
    "fert_minutes"
   ]
  },
  {
   "cell_type": "code",
   "execution_count": null,
   "id": "7722e071",
   "metadata": {},
   "outputs": [
    {
     "data": {
      "text/plain": [
       "(97532, 1281)"
      ]
     },
     "execution_count": 22,
     "metadata": {},
     "output_type": "execute_result"
    }
   ],
   "source": [
    "extracted_features_with_fert = np.hstack([extracted_features, fert_minutes.to_numpy()[:, None]])\n",
    "extracted_features_with_fert.shape"
   ]
  },
  {
   "cell_type": "code",
   "execution_count": null,
   "id": "34a40598",
   "metadata": {},
   "outputs": [
    {
     "data": {
      "text/plain": [
       "((80004, 1281), (80004, 12), (17528, 1281), (17528, 12))"
      ]
     },
     "execution_count": 61,
     "metadata": {},
     "output_type": "execute_result"
    }
   ],
   "source": [
    "#x_train, x_test, y_train, y_test = train_test_split(extracted_features, y, test_size=.2)\n",
    "\n",
    "# Use one slide for test, everything else for train\n",
    "test_slide = \"S0047\"\n",
    "test_idx = aug_paths.str.contains(test_slide)\n",
    "x_train = extracted_features_with_fert[~test_idx]\n",
    "y_train = y[~test_idx]\n",
    "x_test = extracted_features_with_fert[test_idx]\n",
    "y_test = y[test_idx]\n",
    "x_train.shape, y_train.shape, x_test.shape, y_test.shape"
   ]
  },
  {
   "cell_type": "code",
   "execution_count": 65,
   "id": "13282758",
   "metadata": {},
   "outputs": [
    {
     "data": {
      "text/plain": [
       "{'2 Cell': 1.167768,\n",
       " '2pn': 0.873567,\n",
       " '3 Cell': 4.268732,\n",
       " '4 Cell': 1.218906,\n",
       " '5 Cell': 4.78098,\n",
       " '6-7 Cell': 2.132127,\n",
       " '8 Cell': 2.514748,\n",
       " '9+ Cell': 2.861854,\n",
       " 'Blast': 0.79683,\n",
       " 'Compacting': 0.569963,\n",
       " 'Empty': 0.266761,\n",
       " 'Syngamy': 1.314306}"
      ]
     },
     "execution_count": 65,
     "metadata": {},
     "output_type": "execute_result"
    }
   ],
   "source": [
    "class_weights = class_weight.compute_class_weight(\"balanced\", classes = np.unique(y.argmax(axis=1)), y=y.argmax(axis=1))\n",
    "class_weights = class_weights.round(6) # This is necessary if using mlflow, as it can go beyond the 250 character limit otherwise\n",
    "class_weights = dict(enumerate(class_weights))\n",
    "{k:v for k,v in zip(classes, class_weights.values())}"
   ]
  },
  {
   "cell_type": "code",
   "execution_count": 66,
   "id": "9ce520df",
   "metadata": {
    "scrolled": false
   },
   "outputs": [],
   "source": [
    "# Hyperparameter search\n",
    "search = False\n",
    "if search:\n",
    "    def build_model(hp):\n",
    "        model = keras.Sequential()\n",
    "        model.add(keras.layers.Input(shape=(x_train.shape[1])))\n",
    "\n",
    "        for i in range(hp.Int(\"n_layers\", 1, 4)):\n",
    "            model.add(keras.layers.Dense(\n",
    "                hp.Int(f\"dense_units_{i}\", min_value=32, max_value=128, step=32),\n",
    "                activation=hp.Choice(f\"dense_activation_{i}\", values=[\"relu\", \"sigmoid\"], default=\"relu\")\n",
    "            ))\n",
    "            model.add(keras.layers.Dropout(hp.Float(f\"dropout_{i}\", min_value=.1, max_value=.5, step=.1)))\n",
    "\n",
    "        model.add(keras.layers.Dense(len(classes), activation=\"softmax\"))\n",
    "        model.compile(\n",
    "            optimizer=keras.optimizers.Adam(learning_rate=hp.Float(\n",
    "                \"learning_rate\", min_value=1e-4, max_value=1e-2, sampling=\"LOG\", default=1e-3\n",
    "            )),\n",
    "            loss=keras.losses.CategoricalCrossentropy(),\n",
    "            metrics=[keras.metrics.CategoricalAccuracy()],\n",
    "        )\n",
    "        return model\n",
    "\n",
    "    tuner = RandomSearch(\n",
    "        build_model,\n",
    "        objective=\"val_categorical_accuracy\",\n",
    "        max_trials=80,\n",
    "    )\n",
    "    tuner.search_space_summary()\n",
    "    tuner.search(\n",
    "        x_train,\n",
    "        y_train,\n",
    "        batch_size=BATCH_SIZE,\n",
    "        validation_data=(x_test, y_test),\n",
    "        epochs=500,\n",
    "        verbose=0,\n",
    "        class_weight=class_weights,\n",
    "        callbacks=[\n",
    "            keras.callbacks.EarlyStopping(monitor='val_categorical_accuracy',patience=50, verbose=1),\n",
    "            tfa.callbacks.TQDMProgressBar()\n",
    "        ]\n",
    "    )\n",
    "    print(tuner.get_best_hyperparameters()[0].values)\n",
    "    print(tuner.get_best_models()[0].summary())"
   ]
  },
  {
   "cell_type": "code",
   "execution_count": 67,
   "id": "9844880c",
   "metadata": {
    "scrolled": false
   },
   "outputs": [
    {
     "name": "stdout",
     "output_type": "stream",
     "text": [
      "Model: \"sequential_5\"\n",
      "_________________________________________________________________\n",
      " Layer (type)                Output Shape              Param #   \n",
      "=================================================================\n",
      " dense_12 (Dense)            (None, 512)               656384    \n",
      "                                                                 \n",
      " dropout_4 (Dropout)         (None, 512)               0         \n",
      "                                                                 \n",
      " dense_13 (Dense)            (None, 512)               262656    \n",
      "                                                                 \n",
      " dense_14 (Dense)            (None, 12)                6156      \n",
      "                                                                 \n",
      "=================================================================\n",
      "Total params: 925,196\n",
      "Trainable params: 925,196\n",
      "Non-trainable params: 0\n",
      "_________________________________________________________________\n",
      "None\n"
     ]
    },
    {
     "data": {
      "application/vnd.jupyter.widget-view+json": {
       "model_id": "c24f4a7a54a44e4e880f0f33f14eba01",
       "version_major": 2,
       "version_minor": 0
      },
      "text/plain": [
       "Training:   0%|           0/500 ETA: ?s,  ?epochs/s"
      ]
     },
     "metadata": {},
     "output_type": "display_data"
    },
    {
     "name": "stdout",
     "output_type": "stream",
     "text": [
      "Epoch 1/500\n"
     ]
    },
    {
     "data": {
      "application/vnd.jupyter.widget-view+json": {
       "model_id": "8c0c78f0fb39473e83165dd67619211f",
       "version_major": 2,
       "version_minor": 0
      },
      "text/plain": [
       "0/626           ETA: ?s - "
      ]
     },
     "metadata": {},
     "output_type": "display_data"
    },
    {
     "name": "stdout",
     "output_type": "stream",
     "text": [
      "Epoch 2/500\n"
     ]
    },
    {
     "data": {
      "application/vnd.jupyter.widget-view+json": {
       "model_id": "a2acdb825fa44275a6ee46730fdfc9ed",
       "version_major": 2,
       "version_minor": 0
      },
      "text/plain": [
       "0/626           ETA: ?s - "
      ]
     },
     "metadata": {},
     "output_type": "display_data"
    },
    {
     "name": "stdout",
     "output_type": "stream",
     "text": [
      "Epoch 3/500\n"
     ]
    },
    {
     "data": {
      "application/vnd.jupyter.widget-view+json": {
       "model_id": "3c1a9a0687384e57bcba9533251bc8e0",
       "version_major": 2,
       "version_minor": 0
      },
      "text/plain": [
       "0/626           ETA: ?s - "
      ]
     },
     "metadata": {},
     "output_type": "display_data"
    },
    {
     "name": "stdout",
     "output_type": "stream",
     "text": [
      "Epoch 4/500\n"
     ]
    },
    {
     "data": {
      "application/vnd.jupyter.widget-view+json": {
       "model_id": "54be23fe5add44aeb277996f31069954",
       "version_major": 2,
       "version_minor": 0
      },
      "text/plain": [
       "0/626           ETA: ?s - "
      ]
     },
     "metadata": {},
     "output_type": "display_data"
    },
    {
     "name": "stdout",
     "output_type": "stream",
     "text": [
      "Epoch 5/500\n"
     ]
    },
    {
     "data": {
      "application/vnd.jupyter.widget-view+json": {
       "model_id": "b2985b8b18b64f2d870a91fe0e1ab64a",
       "version_major": 2,
       "version_minor": 0
      },
      "text/plain": [
       "0/626           ETA: ?s - "
      ]
     },
     "metadata": {},
     "output_type": "display_data"
    },
    {
     "name": "stdout",
     "output_type": "stream",
     "text": [
      "Epoch 6/500\n"
     ]
    },
    {
     "data": {
      "application/vnd.jupyter.widget-view+json": {
       "model_id": "b27a68ddbbf647a5b219ab453caa6650",
       "version_major": 2,
       "version_minor": 0
      },
      "text/plain": [
       "0/626           ETA: ?s - "
      ]
     },
     "metadata": {},
     "output_type": "display_data"
    },
    {
     "name": "stdout",
     "output_type": "stream",
     "text": [
      "Epoch 7/500\n"
     ]
    },
    {
     "data": {
      "application/vnd.jupyter.widget-view+json": {
       "model_id": "43c4b559d1b24409bd51847d50615741",
       "version_major": 2,
       "version_minor": 0
      },
      "text/plain": [
       "0/626           ETA: ?s - "
      ]
     },
     "metadata": {},
     "output_type": "display_data"
    },
    {
     "name": "stdout",
     "output_type": "stream",
     "text": [
      "Epoch 8/500\n"
     ]
    },
    {
     "data": {
      "application/vnd.jupyter.widget-view+json": {
       "model_id": "100e836a55aa472dbbe3939784be21c5",
       "version_major": 2,
       "version_minor": 0
      },
      "text/plain": [
       "0/626           ETA: ?s - "
      ]
     },
     "metadata": {},
     "output_type": "display_data"
    },
    {
     "name": "stdout",
     "output_type": "stream",
     "text": [
      "Epoch 9/500\n"
     ]
    },
    {
     "data": {
      "application/vnd.jupyter.widget-view+json": {
       "model_id": "fa26e8aff28e4a7aa7f873841ab4ff17",
       "version_major": 2,
       "version_minor": 0
      },
      "text/plain": [
       "0/626           ETA: ?s - "
      ]
     },
     "metadata": {},
     "output_type": "display_data"
    },
    {
     "name": "stdout",
     "output_type": "stream",
     "text": [
      "Epoch 10/500\n"
     ]
    },
    {
     "data": {
      "application/vnd.jupyter.widget-view+json": {
       "model_id": "91df2abc8a2947c6bd03a733dcb91f4e",
       "version_major": 2,
       "version_minor": 0
      },
      "text/plain": [
       "0/626           ETA: ?s - "
      ]
     },
     "metadata": {},
     "output_type": "display_data"
    },
    {
     "name": "stdout",
     "output_type": "stream",
     "text": [
      "Epoch 11/500\n"
     ]
    },
    {
     "data": {
      "application/vnd.jupyter.widget-view+json": {
       "model_id": "85efa1d980fe4ad98977cd22fc396f5d",
       "version_major": 2,
       "version_minor": 0
      },
      "text/plain": [
       "0/626           ETA: ?s - "
      ]
     },
     "metadata": {},
     "output_type": "display_data"
    },
    {
     "name": "stdout",
     "output_type": "stream",
     "text": [
      "Epoch 12/500\n"
     ]
    },
    {
     "data": {
      "application/vnd.jupyter.widget-view+json": {
       "model_id": "31e2b451d39949a78ee17c1640cf6bad",
       "version_major": 2,
       "version_minor": 0
      },
      "text/plain": [
       "0/626           ETA: ?s - "
      ]
     },
     "metadata": {},
     "output_type": "display_data"
    },
    {
     "name": "stdout",
     "output_type": "stream",
     "text": [
      "Epoch 13/500\n"
     ]
    },
    {
     "data": {
      "application/vnd.jupyter.widget-view+json": {
       "model_id": "74569a7239a842028e79a7fa89835495",
       "version_major": 2,
       "version_minor": 0
      },
      "text/plain": [
       "0/626           ETA: ?s - "
      ]
     },
     "metadata": {},
     "output_type": "display_data"
    },
    {
     "name": "stdout",
     "output_type": "stream",
     "text": [
      "Epoch 14/500\n"
     ]
    },
    {
     "data": {
      "application/vnd.jupyter.widget-view+json": {
       "model_id": "8d3a9ca22ea74f6ea7459561a38377b0",
       "version_major": 2,
       "version_minor": 0
      },
      "text/plain": [
       "0/626           ETA: ?s - "
      ]
     },
     "metadata": {},
     "output_type": "display_data"
    },
    {
     "name": "stdout",
     "output_type": "stream",
     "text": [
      "Epoch 15/500\n"
     ]
    },
    {
     "data": {
      "application/vnd.jupyter.widget-view+json": {
       "model_id": "abfa4cb28cec495eb5d2ecdbfbb3b2ca",
       "version_major": 2,
       "version_minor": 0
      },
      "text/plain": [
       "0/626           ETA: ?s - "
      ]
     },
     "metadata": {},
     "output_type": "display_data"
    },
    {
     "name": "stdout",
     "output_type": "stream",
     "text": [
      "Epoch 16/500\n"
     ]
    },
    {
     "data": {
      "application/vnd.jupyter.widget-view+json": {
       "model_id": "22be771b9d2e46be9d9cb00d36886895",
       "version_major": 2,
       "version_minor": 0
      },
      "text/plain": [
       "0/626           ETA: ?s - "
      ]
     },
     "metadata": {},
     "output_type": "display_data"
    },
    {
     "name": "stdout",
     "output_type": "stream",
     "text": [
      "Epoch 17/500\n"
     ]
    },
    {
     "data": {
      "application/vnd.jupyter.widget-view+json": {
       "model_id": "e4da7346f5654722be528c1752923ae4",
       "version_major": 2,
       "version_minor": 0
      },
      "text/plain": [
       "0/626           ETA: ?s - "
      ]
     },
     "metadata": {},
     "output_type": "display_data"
    },
    {
     "name": "stdout",
     "output_type": "stream",
     "text": [
      "Epoch 18/500\n"
     ]
    },
    {
     "data": {
      "application/vnd.jupyter.widget-view+json": {
       "model_id": "97d66419a845448cb53d4e2575e66af5",
       "version_major": 2,
       "version_minor": 0
      },
      "text/plain": [
       "0/626           ETA: ?s - "
      ]
     },
     "metadata": {},
     "output_type": "display_data"
    },
    {
     "name": "stdout",
     "output_type": "stream",
     "text": [
      "Epoch 19/500\n"
     ]
    },
    {
     "data": {
      "application/vnd.jupyter.widget-view+json": {
       "model_id": "e542ce708b59454f99fb39fb57d1c941",
       "version_major": 2,
       "version_minor": 0
      },
      "text/plain": [
       "0/626           ETA: ?s - "
      ]
     },
     "metadata": {},
     "output_type": "display_data"
    },
    {
     "name": "stdout",
     "output_type": "stream",
     "text": [
      "Epoch 20/500\n"
     ]
    },
    {
     "data": {
      "application/vnd.jupyter.widget-view+json": {
       "model_id": "2706c0e43ab843208bdb53caeb5861a1",
       "version_major": 2,
       "version_minor": 0
      },
      "text/plain": [
       "0/626           ETA: ?s - "
      ]
     },
     "metadata": {},
     "output_type": "display_data"
    },
    {
     "name": "stdout",
     "output_type": "stream",
     "text": [
      "Epoch 21/500\n"
     ]
    },
    {
     "data": {
      "application/vnd.jupyter.widget-view+json": {
       "model_id": "9cf6454ae5c7435a84f82f43bbf48a92",
       "version_major": 2,
       "version_minor": 0
      },
      "text/plain": [
       "0/626           ETA: ?s - "
      ]
     },
     "metadata": {},
     "output_type": "display_data"
    },
    {
     "name": "stdout",
     "output_type": "stream",
     "text": [
      "Epoch 22/500\n"
     ]
    },
    {
     "data": {
      "application/vnd.jupyter.widget-view+json": {
       "model_id": "8280b552b9ce407298cf3e6ee3b357bf",
       "version_major": 2,
       "version_minor": 0
      },
      "text/plain": [
       "0/626           ETA: ?s - "
      ]
     },
     "metadata": {},
     "output_type": "display_data"
    },
    {
     "name": "stdout",
     "output_type": "stream",
     "text": [
      "Epoch 23/500\n"
     ]
    },
    {
     "data": {
      "application/vnd.jupyter.widget-view+json": {
       "model_id": "bb171a19ce734cf8aa5b2cdb1399cbca",
       "version_major": 2,
       "version_minor": 0
      },
      "text/plain": [
       "0/626           ETA: ?s - "
      ]
     },
     "metadata": {},
     "output_type": "display_data"
    },
    {
     "name": "stdout",
     "output_type": "stream",
     "text": [
      "Epoch 24/500\n"
     ]
    },
    {
     "data": {
      "application/vnd.jupyter.widget-view+json": {
       "model_id": "7e930df431c34d7e9a3735fb46ee2c40",
       "version_major": 2,
       "version_minor": 0
      },
      "text/plain": [
       "0/626           ETA: ?s - "
      ]
     },
     "metadata": {},
     "output_type": "display_data"
    },
    {
     "name": "stdout",
     "output_type": "stream",
     "text": [
      "Epoch 25/500\n"
     ]
    },
    {
     "data": {
      "application/vnd.jupyter.widget-view+json": {
       "model_id": "ba9b54dceae3451cb2d3f83ec4da5fc8",
       "version_major": 2,
       "version_minor": 0
      },
      "text/plain": [
       "0/626           ETA: ?s - "
      ]
     },
     "metadata": {},
     "output_type": "display_data"
    },
    {
     "name": "stdout",
     "output_type": "stream",
     "text": [
      "Epoch 26/500\n"
     ]
    },
    {
     "data": {
      "application/vnd.jupyter.widget-view+json": {
       "model_id": "f0c0784f802b406baaf8a2b9a0732623",
       "version_major": 2,
       "version_minor": 0
      },
      "text/plain": [
       "0/626           ETA: ?s - "
      ]
     },
     "metadata": {},
     "output_type": "display_data"
    },
    {
     "name": "stdout",
     "output_type": "stream",
     "text": [
      "Epoch 27/500\n"
     ]
    },
    {
     "data": {
      "application/vnd.jupyter.widget-view+json": {
       "model_id": "ff9d34f87c5f4d9092de6a7c5bd814fd",
       "version_major": 2,
       "version_minor": 0
      },
      "text/plain": [
       "0/626           ETA: ?s - "
      ]
     },
     "metadata": {},
     "output_type": "display_data"
    },
    {
     "name": "stdout",
     "output_type": "stream",
     "text": [
      "Epoch 28/500\n"
     ]
    },
    {
     "data": {
      "application/vnd.jupyter.widget-view+json": {
       "model_id": "4af12c4e3d8448aea88021a5822408a0",
       "version_major": 2,
       "version_minor": 0
      },
      "text/plain": [
       "0/626           ETA: ?s - "
      ]
     },
     "metadata": {},
     "output_type": "display_data"
    },
    {
     "name": "stdout",
     "output_type": "stream",
     "text": [
      "Epoch 29/500\n"
     ]
    },
    {
     "data": {
      "application/vnd.jupyter.widget-view+json": {
       "model_id": "280258d902864cd5a274c1b528f08a30",
       "version_major": 2,
       "version_minor": 0
      },
      "text/plain": [
       "0/626           ETA: ?s - "
      ]
     },
     "metadata": {},
     "output_type": "display_data"
    },
    {
     "name": "stdout",
     "output_type": "stream",
     "text": [
      "Epoch 30/500\n"
     ]
    },
    {
     "data": {
      "application/vnd.jupyter.widget-view+json": {
       "model_id": "25df14cad73f47fa8a8074000f0696bc",
       "version_major": 2,
       "version_minor": 0
      },
      "text/plain": [
       "0/626           ETA: ?s - "
      ]
     },
     "metadata": {},
     "output_type": "display_data"
    },
    {
     "name": "stdout",
     "output_type": "stream",
     "text": [
      "Epoch 31/500\n"
     ]
    },
    {
     "data": {
      "application/vnd.jupyter.widget-view+json": {
       "model_id": "f24923839d66445893591fe9884d3559",
       "version_major": 2,
       "version_minor": 0
      },
      "text/plain": [
       "0/626           ETA: ?s - "
      ]
     },
     "metadata": {},
     "output_type": "display_data"
    },
    {
     "name": "stdout",
     "output_type": "stream",
     "text": [
      "Epoch 32/500\n"
     ]
    },
    {
     "data": {
      "application/vnd.jupyter.widget-view+json": {
       "model_id": "04591728bf974fceae485ac7188f3e68",
       "version_major": 2,
       "version_minor": 0
      },
      "text/plain": [
       "0/626           ETA: ?s - "
      ]
     },
     "metadata": {},
     "output_type": "display_data"
    },
    {
     "name": "stdout",
     "output_type": "stream",
     "text": [
      "Epoch 33/500\n"
     ]
    },
    {
     "data": {
      "application/vnd.jupyter.widget-view+json": {
       "model_id": "806022fa5228402f8cb7d615436459ee",
       "version_major": 2,
       "version_minor": 0
      },
      "text/plain": [
       "0/626           ETA: ?s - "
      ]
     },
     "metadata": {},
     "output_type": "display_data"
    },
    {
     "name": "stdout",
     "output_type": "stream",
     "text": [
      "Epoch 34/500\n"
     ]
    },
    {
     "data": {
      "application/vnd.jupyter.widget-view+json": {
       "model_id": "73b14959c59a411c9f5db1175ccd7253",
       "version_major": 2,
       "version_minor": 0
      },
      "text/plain": [
       "0/626           ETA: ?s - "
      ]
     },
     "metadata": {},
     "output_type": "display_data"
    },
    {
     "name": "stdout",
     "output_type": "stream",
     "text": [
      "Epoch 35/500\n"
     ]
    },
    {
     "data": {
      "application/vnd.jupyter.widget-view+json": {
       "model_id": "be5e1cc0972f43d2bbbdba665b6508c2",
       "version_major": 2,
       "version_minor": 0
      },
      "text/plain": [
       "0/626           ETA: ?s - "
      ]
     },
     "metadata": {},
     "output_type": "display_data"
    },
    {
     "name": "stdout",
     "output_type": "stream",
     "text": [
      "Epoch 36/500\n"
     ]
    },
    {
     "data": {
      "application/vnd.jupyter.widget-view+json": {
       "model_id": "d3ef8670803448c19afd0848b4788889",
       "version_major": 2,
       "version_minor": 0
      },
      "text/plain": [
       "0/626           ETA: ?s - "
      ]
     },
     "metadata": {},
     "output_type": "display_data"
    },
    {
     "name": "stdout",
     "output_type": "stream",
     "text": [
      "Epoch 37/500\n"
     ]
    },
    {
     "data": {
      "application/vnd.jupyter.widget-view+json": {
       "model_id": "c4838f2931c14283b5b6570a349ba863",
       "version_major": 2,
       "version_minor": 0
      },
      "text/plain": [
       "0/626           ETA: ?s - "
      ]
     },
     "metadata": {},
     "output_type": "display_data"
    },
    {
     "name": "stdout",
     "output_type": "stream",
     "text": [
      "Epoch 38/500\n"
     ]
    },
    {
     "data": {
      "application/vnd.jupyter.widget-view+json": {
       "model_id": "880a47bdbf8d44fda09d3f1d68db327a",
       "version_major": 2,
       "version_minor": 0
      },
      "text/plain": [
       "0/626           ETA: ?s - "
      ]
     },
     "metadata": {},
     "output_type": "display_data"
    },
    {
     "name": "stdout",
     "output_type": "stream",
     "text": [
      "Epoch 39/500\n"
     ]
    },
    {
     "data": {
      "application/vnd.jupyter.widget-view+json": {
       "model_id": "11392e47fff44785b1ff74e0257c6599",
       "version_major": 2,
       "version_minor": 0
      },
      "text/plain": [
       "0/626           ETA: ?s - "
      ]
     },
     "metadata": {},
     "output_type": "display_data"
    },
    {
     "name": "stdout",
     "output_type": "stream",
     "text": [
      "Epoch 40/500\n"
     ]
    },
    {
     "data": {
      "application/vnd.jupyter.widget-view+json": {
       "model_id": "af3561cb6fed4df9b0e029ef585ffebd",
       "version_major": 2,
       "version_minor": 0
      },
      "text/plain": [
       "0/626           ETA: ?s - "
      ]
     },
     "metadata": {},
     "output_type": "display_data"
    },
    {
     "name": "stdout",
     "output_type": "stream",
     "text": [
      "Epoch 41/500\n"
     ]
    },
    {
     "data": {
      "application/vnd.jupyter.widget-view+json": {
       "model_id": "af992d359e2d4f3eb8fd2895c4156ed0",
       "version_major": 2,
       "version_minor": 0
      },
      "text/plain": [
       "0/626           ETA: ?s - "
      ]
     },
     "metadata": {},
     "output_type": "display_data"
    },
    {
     "name": "stdout",
     "output_type": "stream",
     "text": [
      "Epoch 42/500\n"
     ]
    },
    {
     "data": {
      "application/vnd.jupyter.widget-view+json": {
       "model_id": "19be3a2a82394a84b36d6b474d713ff6",
       "version_major": 2,
       "version_minor": 0
      },
      "text/plain": [
       "0/626           ETA: ?s - "
      ]
     },
     "metadata": {},
     "output_type": "display_data"
    },
    {
     "name": "stdout",
     "output_type": "stream",
     "text": [
      "Epoch 43/500\n"
     ]
    },
    {
     "data": {
      "application/vnd.jupyter.widget-view+json": {
       "model_id": "3f5341c4d11e4a5daf2c90cb537cdabf",
       "version_major": 2,
       "version_minor": 0
      },
      "text/plain": [
       "0/626           ETA: ?s - "
      ]
     },
     "metadata": {},
     "output_type": "display_data"
    },
    {
     "name": "stdout",
     "output_type": "stream",
     "text": [
      "Epoch 44/500\n"
     ]
    },
    {
     "data": {
      "application/vnd.jupyter.widget-view+json": {
       "model_id": "2fd8fa1f47cb4b54a4b4b14c73e1f736",
       "version_major": 2,
       "version_minor": 0
      },
      "text/plain": [
       "0/626           ETA: ?s - "
      ]
     },
     "metadata": {},
     "output_type": "display_data"
    },
    {
     "name": "stdout",
     "output_type": "stream",
     "text": [
      "Epoch 45/500\n"
     ]
    },
    {
     "data": {
      "application/vnd.jupyter.widget-view+json": {
       "model_id": "14aca7eaddce43b9aee2225cf4640624",
       "version_major": 2,
       "version_minor": 0
      },
      "text/plain": [
       "0/626           ETA: ?s - "
      ]
     },
     "metadata": {},
     "output_type": "display_data"
    },
    {
     "name": "stdout",
     "output_type": "stream",
     "text": [
      "Epoch 46/500\n"
     ]
    },
    {
     "data": {
      "application/vnd.jupyter.widget-view+json": {
       "model_id": "bff42f8fa3c44c9889c7119bc2f2e814",
       "version_major": 2,
       "version_minor": 0
      },
      "text/plain": [
       "0/626           ETA: ?s - "
      ]
     },
     "metadata": {},
     "output_type": "display_data"
    },
    {
     "name": "stdout",
     "output_type": "stream",
     "text": [
      "Epoch 47/500\n"
     ]
    },
    {
     "data": {
      "application/vnd.jupyter.widget-view+json": {
       "model_id": "91df0050e2024f0d815dfef01baa1330",
       "version_major": 2,
       "version_minor": 0
      },
      "text/plain": [
       "0/626           ETA: ?s - "
      ]
     },
     "metadata": {},
     "output_type": "display_data"
    },
    {
     "name": "stdout",
     "output_type": "stream",
     "text": [
      "Epoch 48/500\n"
     ]
    },
    {
     "data": {
      "application/vnd.jupyter.widget-view+json": {
       "model_id": "759c926e21224bf392ff09b2c8876d70",
       "version_major": 2,
       "version_minor": 0
      },
      "text/plain": [
       "0/626           ETA: ?s - "
      ]
     },
     "metadata": {},
     "output_type": "display_data"
    },
    {
     "name": "stdout",
     "output_type": "stream",
     "text": [
      "Epoch 49/500\n"
     ]
    },
    {
     "data": {
      "application/vnd.jupyter.widget-view+json": {
       "model_id": "b656e4ccfaf84f8f80a58dccc93d9d81",
       "version_major": 2,
       "version_minor": 0
      },
      "text/plain": [
       "0/626           ETA: ?s - "
      ]
     },
     "metadata": {},
     "output_type": "display_data"
    },
    {
     "name": "stdout",
     "output_type": "stream",
     "text": [
      "Epoch 50/500\n"
     ]
    },
    {
     "data": {
      "application/vnd.jupyter.widget-view+json": {
       "model_id": "bfbc48a8826c442fbf1bfdc9cdbb9602",
       "version_major": 2,
       "version_minor": 0
      },
      "text/plain": [
       "0/626           ETA: ?s - "
      ]
     },
     "metadata": {},
     "output_type": "display_data"
    },
    {
     "name": "stdout",
     "output_type": "stream",
     "text": [
      "Epoch 51/500\n"
     ]
    },
    {
     "data": {
      "application/vnd.jupyter.widget-view+json": {
       "model_id": "c9773b3c2f264022a26c551d21b25893",
       "version_major": 2,
       "version_minor": 0
      },
      "text/plain": [
       "0/626           ETA: ?s - "
      ]
     },
     "metadata": {},
     "output_type": "display_data"
    },
    {
     "name": "stdout",
     "output_type": "stream",
     "text": [
      "Epoch 51: early stopping\n",
      "INFO:tensorflow:Assets written to: /tmp/tmpq0s0kll4/model/data/model/assets\n",
      "CPU times: user 5min 6s, sys: 57.2 s, total: 6min 3s\n",
      "Wall time: 3min 36s\n"
     ]
    }
   ],
   "source": [
    "%%time\n",
    "with mlflow.start_run():\n",
    "    mlflow.log_params({\n",
    "        \"classes\": classes,\n",
    "        \"equalized\": EQUALIZE,\n",
    "        \"test slide\": test_slide,\n",
    "        \"x_train_shape\": x_train.shape,\n",
    "        \"y_train_shape\": y_train.shape,\n",
    "        \"x_test_shape\": x_test.shape,\n",
    "        \"y_test_shape\": y_test.shape\n",
    "    })\n",
    "\n",
    "    model = keras.Sequential([\n",
    "        keras.layers.Input(shape=(x_train.shape[1])),\n",
    "        keras.layers.Dense(512, activation=\"relu\"),\n",
    "        keras.layers.Dropout(0.3),\n",
    "        keras.layers.Dense(512, activation=\"relu\"),\n",
    "        keras.layers.Dense(len(classes), activation=\"softmax\")\n",
    "    ])\n",
    "    model.compile(\n",
    "        optimizer=keras.optimizers.Adam(learning_rate=keras.optimizers.schedules.ExponentialDecay(\n",
    "            .001,\n",
    "            decay_steps=1e4,\n",
    "            decay_rate=0.96,\n",
    "            staircase=True\n",
    "        )),\n",
    "        loss=keras.losses.CategoricalCrossentropy(label_smoothing=0.1),\n",
    "        metrics=[keras.metrics.CategoricalAccuracy()],\n",
    "    )\n",
    "    print(model.summary())\n",
    "    history = model.fit(x_train,\n",
    "                        y_train,\n",
    "                        batch_size=BATCH_SIZE,\n",
    "                        validation_data=(x_test, y_test),\n",
    "                        epochs=500,\n",
    "                        verbose=0,\n",
    "                        class_weight=class_weights,\n",
    "                        callbacks=[\n",
    "                            keras.callbacks.EarlyStopping(monitor='val_categorical_accuracy',patience=100, verbose=1),\n",
    "                            tfa.callbacks.TQDMProgressBar()\n",
    "                        ])"
   ]
  },
  {
   "cell_type": "code",
   "execution_count": 27,
   "id": "94744f4c",
   "metadata": {},
   "outputs": [],
   "source": [
    "model.save(f\"models/efnetv2_{len(classes)}_class.h5\")"
   ]
  },
  {
   "cell_type": "code",
   "execution_count": 28,
   "id": "2f9856b9",
   "metadata": {},
   "outputs": [],
   "source": [
    "pd.Series(classes).to_csv(f\"models/{len(classes)}_class.h5_classes.txt\", index=False, header=False)"
   ]
  },
  {
   "cell_type": "code",
   "execution_count": 68,
   "id": "c0b0f2ba",
   "metadata": {},
   "outputs": [
    {
     "data": {
      "text/plain": [
       "<AxesSubplot:>"
      ]
     },
     "execution_count": 68,
     "metadata": {},
     "output_type": "execute_result"
    },
    {
     "data": {
      "image/png": "[encoded data removed]",
      "text/plain": [
       "<Figure size 432x288 with 1 Axes>"
      ]
     },
     "metadata": {
      "needs_background": "light"
     },
     "output_type": "display_data"
    },
    {
     "data": {
      "image/png": "[encoded data removed]",
      "text/plain": [
       "<Figure size 432x288 with 1 Axes>"
      ]
     },
     "metadata": {
      "needs_background": "light"
     },
     "output_type": "display_data"
    }
   ],
   "source": [
    "history_df = pd.DataFrame(history.history)\n",
    "history_df[['loss', 'val_loss']].plot()\n",
    "history_df[['categorical_accuracy', 'val_categorical_accuracy']].plot()"
   ]
  },
  {
   "cell_type": "code",
   "execution_count": 69,
   "id": "160a4bf0",
   "metadata": {},
   "outputs": [
    {
     "name": "stdout",
     "output_type": "stream",
     "text": [
      "548/548 [==============================] - 1s 2ms/step\n"
     ]
    }
   ],
   "source": [
    "y_pred = model.predict(x_test)"
   ]
  },
  {
   "cell_type": "code",
   "execution_count": 83,
   "id": "ae796b47",
   "metadata": {},
   "outputs": [
    {
     "data": {
      "text/plain": [
       "array([[3.318  , 0.07654, 0.0637 , ..., 0.05942, 0.05493, 0.0858 ],\n",
       "       [3.32   , 0.0802 , 0.07056, ..., 0.0565 , 0.05444, 0.0897 ],\n",
       "       [3.32   , 0.0654 , 0.0647 , ..., 0.05676, 0.05524, 0.0808 ],\n",
       "       ...,\n",
       "       [0.1207 , 0.3933 , 0.0631 , ..., 0.0685 , 0.0759 , 2.852  ],\n",
       "       [0.2416 , 0.2308 , 0.0658 , ..., 0.0784 , 0.1012 , 2.764  ],\n",
       "       [0.658  , 0.871  , 0.0636 , ..., 0.10547, 0.149  , 1.491  ]],\n",
       "      dtype=float16)"
      ]
     },
     "metadata": {},
     "output_type": "display_data"
    },
    {
     "data": {
      "text/plain": [
       "0         0\n",
       "1         0\n",
       "2         0\n",
       "3         0\n",
       "4         0\n",
       "         ..\n",
       "17337    11\n",
       "17338    11\n",
       "17339    11\n",
       "17340    11\n",
       "17341    11\n",
       "Name: true, Length: 4382, dtype: int64"
      ]
     },
     "metadata": {},
     "output_type": "display_data"
    }
   ],
   "source": [
    "validation_df = pd.DataFrame()\n",
    "validation_df[\"filepaths\"] = aug_paths[test_idx].to_list()\n",
    "aug_pred = pd.concat([validation_df, pd.DataFrame(y_pred, columns=classes)], axis=\"columns\").groupby(\n",
    "    \"filepaths\").sum().to_numpy()\n",
    "display(aug_pred)\n",
    "validation_df[\"true\"] = y_test.argmax(axis=1)\n",
    "aug_true = validation_df.groupby(\"filepaths\").head(1)[\"true\"]\n",
    "display(aug_true)"
   ]
  },
  {
   "cell_type": "code",
   "execution_count": 84,
   "id": "db0e40d2",
   "metadata": {},
   "outputs": [
    {
     "data": {
      "text/plain": [
       "10    1704\n",
       "1      686\n",
       "9      400\n",
       "11     346\n",
       "0      334\n",
       "3      196\n",
       "7      185\n",
       "6      185\n",
       "8      143\n",
       "5      107\n",
       "2       50\n",
       "4       46\n",
       "dtype: int64"
      ]
     },
     "execution_count": 84,
     "metadata": {},
     "output_type": "execute_result"
    }
   ],
   "source": [
    "pd.Series(aug_pred.argmax(axis=1)).value_counts()"
   ]
  },
  {
   "cell_type": "code",
   "execution_count": 85,
   "id": "70fbc333",
   "metadata": {},
   "outputs": [
    {
     "data": {
      "text/plain": [
       "count    4382.000000\n",
       "mean        2.775391\n",
       "std         0.609863\n",
       "min         0.670410\n",
       "25%         2.472656\n",
       "50%         3.085938\n",
       "75%         3.187500\n",
       "max         3.537109\n",
       "dtype: float64"
      ]
     },
     "execution_count": 85,
     "metadata": {},
     "output_type": "execute_result"
    }
   ],
   "source": [
    "predicted_codes = aug_pred.argmax(axis=1)\n",
    "confidence = aug_pred.max(axis=1)\n",
    "pd.Series(confidence).describe()"
   ]
  },
  {
   "cell_type": "code",
   "execution_count": 98,
   "id": "28f7360d",
   "metadata": {},
   "outputs": [
    {
     "data": {
      "text/plain": [
       "0.8797352806937472"
      ]
     },
     "execution_count": 98,
     "metadata": {},
     "output_type": "execute_result"
    }
   ],
   "source": [
    "from sklearn.metrics import top_k_accuracy_score\n",
    "from sklearn.metrics import f1_score\n",
    "\n",
    "top_k_accuracy_score(aug_true,aug_pred,k=2)\n"
   ]
  },
  {
   "cell_type": "code",
   "execution_count": 95,
   "id": "0c699de8",
   "metadata": {},
   "outputs": [
    {
     "data": {
      "text/plain": [
       "0.7454391687541021"
      ]
     },
     "execution_count": 95,
     "metadata": {},
     "output_type": "execute_result"
    }
   ],
   "source": [
    "\n",
    "f1_score(aug_true,predicted_codes,average=\"weighted\")\n"
   ]
  },
  {
   "cell_type": "code",
   "execution_count": 87,
   "id": "b1d6833b",
   "metadata": {},
   "outputs": [
    {
     "data": {
      "text/html": [
       "<div>\n",
       "<style scoped>\n",
       "    .dataframe tbody tr th:only-of-type {\n",
       "        vertical-align: middle;\n",
       "    }\n",
       "\n",
       "    .dataframe tbody tr th {\n",
       "        vertical-align: top;\n",
       "    }\n",
       "\n",
       "    .dataframe thead th {\n",
       "        text-align: right;\n",
       "    }\n",
       "</style>\n",
       "<table border=\"1\" class=\"dataframe\">\n",
       "  <thead>\n",
       "    <tr style=\"text-align: right;\">\n",
       "      <th></th>\n",
       "      <th>true_class</th>\n",
       "      <th>predicted_class</th>\n",
       "      <th>confidence</th>\n",
       "    </tr>\n",
       "  </thead>\n",
       "  <tbody>\n",
       "    <tr>\n",
       "      <th>0</th>\n",
       "      <td>0</td>\n",
       "      <td>0</td>\n",
       "      <td>3.318359</td>\n",
       "    </tr>\n",
       "    <tr>\n",
       "      <th>1</th>\n",
       "      <td>0</td>\n",
       "      <td>0</td>\n",
       "      <td>3.320312</td>\n",
       "    </tr>\n",
       "    <tr>\n",
       "      <th>2</th>\n",
       "      <td>0</td>\n",
       "      <td>0</td>\n",
       "      <td>3.320312</td>\n",
       "    </tr>\n",
       "    <tr>\n",
       "      <th>3</th>\n",
       "      <td>0</td>\n",
       "      <td>0</td>\n",
       "      <td>3.335938</td>\n",
       "    </tr>\n",
       "    <tr>\n",
       "      <th>4</th>\n",
       "      <td>0</td>\n",
       "      <td>0</td>\n",
       "      <td>3.343750</td>\n",
       "    </tr>\n",
       "    <tr>\n",
       "      <th>...</th>\n",
       "      <td>...</td>\n",
       "      <td>...</td>\n",
       "      <td>...</td>\n",
       "    </tr>\n",
       "    <tr>\n",
       "      <th>17337</th>\n",
       "      <td>11</td>\n",
       "      <td>11</td>\n",
       "      <td>2.871094</td>\n",
       "    </tr>\n",
       "    <tr>\n",
       "      <th>17338</th>\n",
       "      <td>11</td>\n",
       "      <td>11</td>\n",
       "      <td>2.126953</td>\n",
       "    </tr>\n",
       "    <tr>\n",
       "      <th>17339</th>\n",
       "      <td>11</td>\n",
       "      <td>11</td>\n",
       "      <td>2.851562</td>\n",
       "    </tr>\n",
       "    <tr>\n",
       "      <th>17340</th>\n",
       "      <td>11</td>\n",
       "      <td>11</td>\n",
       "      <td>2.763672</td>\n",
       "    </tr>\n",
       "    <tr>\n",
       "      <th>17341</th>\n",
       "      <td>11</td>\n",
       "      <td>11</td>\n",
       "      <td>1.491211</td>\n",
       "    </tr>\n",
       "  </tbody>\n",
       "</table>\n",
       "<p>4382 rows × 3 columns</p>\n",
       "</div>"
      ],
      "text/plain": [
       "       true_class  predicted_class  confidence\n",
       "0               0                0    3.318359\n",
       "1               0                0    3.320312\n",
       "2               0                0    3.320312\n",
       "3               0                0    3.335938\n",
       "4               0                0    3.343750\n",
       "...           ...              ...         ...\n",
       "17337          11               11    2.871094\n",
       "17338          11               11    2.126953\n",
       "17339          11               11    2.851562\n",
       "17340          11               11    2.763672\n",
       "17341          11               11    1.491211\n",
       "\n",
       "[4382 rows x 3 columns]"
      ]
     },
     "execution_count": 87,
     "metadata": {},
     "output_type": "execute_result"
    }
   ],
   "source": [
    "validation_df = pd.DataFrame()\n",
    "validation_df[\"true_class\"] = aug_true\n",
    "validation_df[\"predicted_class\"] = predicted_codes\n",
    "validation_df[\"confidence\"] = confidence\n",
    "validation_df"
   ]
  },
  {
   "cell_type": "code",
   "execution_count": 89,
   "id": "b3ef09d2",
   "metadata": {},
   "outputs": [
    {
     "data": {
      "text/plain": [
       "predicted_class\n",
       "0     0.660156\n",
       "1     0.808594\n",
       "2     0.450684\n",
       "3     0.486328\n",
       "4     0.432129\n",
       "5     0.455078\n",
       "6     0.561523\n",
       "7     0.489014\n",
       "8     0.773926\n",
       "9     0.671875\n",
       "10    0.784180\n",
       "11    0.770020\n",
       "Name: confidence, dtype: float16"
      ]
     },
     "execution_count": 89,
     "metadata": {},
     "output_type": "execute_result"
    }
   ],
   "source": [
    "validation_df.groupby(\"predicted_class\").confidence.median()/4"
   ]
  },
  {
   "cell_type": "code",
   "execution_count": 36,
   "id": "9472e193",
   "metadata": {},
   "outputs": [],
   "source": [
    "validation_df.to_csv(\"validation_predictions.csv\", index=False)"
   ]
  },
  {
   "cell_type": "code",
   "execution_count": 90,
   "id": "f3a61eb6",
   "metadata": {
    "scrolled": false
   },
   "outputs": [
    {
     "name": "stdout",
     "output_type": "stream",
     "text": [
      "              precision    recall  f1-score   support\n",
      "\n",
      "           0       0.49      0.86      0.62       191\n",
      "           1       0.74      0.88      0.80       574\n",
      "           2       0.12      0.05      0.07       119\n",
      "           3       0.63      0.50      0.56       249\n",
      "           4       0.20      0.06      0.09       155\n",
      "           5       0.38      0.25      0.31       161\n",
      "           6       0.38      0.84      0.53        85\n",
      "           7       0.55      0.42      0.48       244\n",
      "           8       0.91      0.84      0.88       154\n",
      "           9       0.47      0.66      0.55       284\n",
      "          10       1.00      1.00      1.00      1703\n",
      "          11       0.81      0.61      0.69       463\n",
      "\n",
      "    accuracy                           0.76      4382\n",
      "   macro avg       0.56      0.58      0.55      4382\n",
      "weighted avg       0.75      0.76      0.75      4382\n",
      "\n",
      "[ 0.   0.   0.   0.   0.   0.   1.   4.  13.8 62.5]\n"
     ]
    },
    {
     "data": {
      "text/plain": [
       "Text(66.5, 0.5, 'True')"
      ]
     },
     "execution_count": 90,
     "metadata": {},
     "output_type": "execute_result"
    },
    {
     "data": {
      "image/png": "[encoded data removed]",
      "text/plain": [
       "<Figure size 720x720 with 2 Axes>"
      ]
     },
     "metadata": {
      "needs_background": "light"
     },
     "output_type": "display_data"
    }
   ],
   "source": [
    "print(classification_report(validation_df[\"true_class\"], validation_df[\"predicted_class\"]))\n",
    "confusion = confusion_matrix(validation_df[\"true_class\"], validation_df[\"predicted_class\"])\n",
    "print(np.quantile(confusion, np.arange(0, 1, .1)))\n",
    "plt.figure(figsize=(10,10))\n",
    "s = sns.heatmap(\n",
    "    confusion,\n",
    "    annot=True,\n",
    "    cmap='Blues',\n",
    "    fmt=\"g\",\n",
    "    xticklabels=classes,\n",
    "    yticklabels=classes,\n",
    "    vmax=np.quantile(confusion, .95)\n",
    ")\n",
    "s.set_xlabel('Predicted', fontsize=10)\n",
    "s.set_ylabel('True', fontsize=10)"
   ]
  },
  {
   "cell_type": "code",
   "execution_count": null,
   "id": "d5a48ed5",
   "metadata": {},
   "outputs": [],
   "source": []
  },
  {
   "cell_type": "code",
   "execution_count": null,
   "id": "fa99701d",
   "metadata": {},
   "outputs": [],
   "source": []
  },
  {
   "cell_type": "code",
   "execution_count": null,
   "id": "5fe4b32e",
   "metadata": {},
   "outputs": [],
   "source": []
  }
 ],
 "metadata": {
  "interpreter": {
   "hash": "916dbcbb3f70747c44a77c7bcd40155683ae19c65e1c03b4aa3499c5328201f1"
  },
  "kernelspec": {
   "display_name": "Python 3 (ipykernel)",
   "language": "python",
   "name": "python3"
  },
  "language_info": {
   "codemirror_mode": {
    "name": "ipython",
    "version": 3
   },
   "file_extension": ".py",
   "mimetype": "text/x-python",
   "name": "python",
   "nbconvert_exporter": "python",
   "pygments_lexer": "ipython3",
   "version": "3.8.10"
  }
 },
 "nbformat": 4,
 "nbformat_minor": 5
}
