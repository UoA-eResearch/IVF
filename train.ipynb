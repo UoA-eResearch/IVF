{
 "cells": [
  {
   "cell_type": "code",
   "execution_count": 1,
   "id": "97c7873e",
   "metadata": {
    "node_exists": true,
    "node_name": "f0564c4adb0f4ed0b68802f10db56d83"
   },
   "outputs": [
    {
     "name": "stdout",
     "output_type": "stream",
     "text": [
      "INFO:tensorflow:Mixed precision compatibility check (mixed_float16): OK\n",
      "Your GPU will likely run quickly with dtype policy mixed_float16 as it has compute capability of at least 7.0. Your GPU: Tesla V100-PCIE-32GB, compute capability 7.0\n"
     ]
    },
    {
     "name": "stderr",
     "output_type": "stream",
     "text": [
      "2022-05-27 04:10:35.061628: I tensorflow/stream_executor/cuda/cuda_gpu_executor.cc:975] successful NUMA node read from SysFS had negative value (-1), but there must be at least one NUMA node, so returning NUMA node zero\n",
      "2022-05-27 04:10:35.100508: I tensorflow/stream_executor/cuda/cuda_gpu_executor.cc:975] successful NUMA node read from SysFS had negative value (-1), but there must be at least one NUMA node, so returning NUMA node zero\n",
      "2022-05-27 04:10:35.100709: I tensorflow/stream_executor/cuda/cuda_gpu_executor.cc:975] successful NUMA node read from SysFS had negative value (-1), but there must be at least one NUMA node, so returning NUMA node zero\n",
      "2022-05-27 04:10:35.134520: I tensorflow/stream_executor/cuda/cuda_gpu_executor.cc:975] successful NUMA node read from SysFS had negative value (-1), but there must be at least one NUMA node, so returning NUMA node zero\n"
     ]
    },
    {
     "data": {
      "text/plain": [
       "Empty                  5797\n",
       "Morula                 1319\n",
       "2pn                    1039\n",
       "Syngamy                 834\n",
       "4 Cell                  792\n",
       "2 Cell                  736\n",
       "Early blast             615\n",
       "Compacting 8 cell       549\n",
       "Expanded Blastocyst     394\n",
       "8 Cell                  384\n",
       "Blastocyst              374\n",
       "6 Cell                  360\n",
       "3 Cell                  303\n",
       "5 Cell                  130\n",
       "Name: class, dtype: int64"
      ]
     },
     "execution_count": 1,
     "metadata": {},
     "output_type": "execute_result"
    }
   ],
   "source": [
    "import os # File system operations\n",
    "import re # Regular expressions\n",
    "import pandas as pd # Tabular data\n",
    "import numpy as np # Numerical data\n",
    "pd.set_option('display.max_colwidth', None) # Show full file paths\n",
    "\n",
    "# Don't use all of the GPU RAM\n",
    "import tensorflow as tf\n",
    "gpus = tf.config.experimental.list_physical_devices('GPU')\n",
    "for gpu in gpus:\n",
    "  tf.config.experimental.set_memory_growth(gpu, True)\n",
    "from tensorflow import keras # ML\n",
    "import tensorflow_addons as tfa # TQDM progress bar when training\n",
    "\n",
    "keras.mixed_precision.set_global_policy('mixed_float16')\n",
    "\n",
    "BATCH_SIZE = 32\n",
    "\n",
    "from sklearn.metrics import confusion_matrix, classification_report, accuracy_score\n",
    "\n",
    "from pathlib import Path # Pathing\n",
    "from glob import glob # Finding files recursively\n",
    "import matplotlib.pyplot as plt # Plotting\n",
    "import seaborn as sns # Plotting\n",
    "sns.set()\n",
    "from tqdm.auto import tqdm # Progress bars\n",
    "tqdm.pandas()\n",
    "\n",
    "BASE_DIR = Path(\"EmbryoLabeling/Labelers/train\")\n",
    "folders = os.listdir(BASE_DIR)\n",
    "folders = [f for f in folders if not re.match(r\"M\\d\", f)]\n",
    "files = []\n",
    "for folder in folders:\n",
    "    files_in_folder = pd.DataFrame(glob(f\"{BASE_DIR}/{folder}/**/*.jpg\", recursive=True), columns=[\"filename\"])\n",
    "    files_in_folder[\"class\"] = folder\n",
    "    files.append(files_in_folder)\n",
    "df = pd.concat(files)\n",
    "df[\"class\"].value_counts()"
   ]
  },
  {
   "cell_type": "code",
   "execution_count": 2,
   "id": "31a10845",
   "metadata": {
    "node_exists": true,
    "node_name": "89f6a244bc2d40c98d9a386aa6b4466e"
   },
   "outputs": [
    {
     "data": {
      "text/plain": [
       "<AxesSubplot:>"
      ]
     },
     "execution_count": 2,
     "metadata": {},
     "output_type": "execute_result"
    },
    {
     "data": {
      "image/png": "[encoded data removed]",
      "text/plain": [
       "<Figure size 432x288 with 1 Axes>"
      ]
     },
     "metadata": {},
     "output_type": "display_data"
    }
   ],
   "source": [
    "df[\"class\"].value_counts().plot.bar(logy=False)"
   ]
  },
  {
   "cell_type": "code",
   "execution_count": 3,
   "id": "0f1360a2",
   "metadata": {
    "node_exists": true,
    "node_name": "6192612b80e943df964085533f042f87"
   },
   "outputs": [
    {
     "data": {
      "text/plain": [
       "[M0776, S00512]    1952\n",
       "[M776, S0087]      1559\n",
       "[M0776, S00635]    1294\n",
       "[M0776, S00761]    1138\n",
       "[M0776, S00534]    1102\n",
       "[M0776, S00470]     784\n",
       "Name: filename, dtype: int64"
      ]
     },
     "execution_count": 3,
     "metadata": {},
     "output_type": "execute_result"
    }
   ],
   "source": [
    "# Print counts of images by machine and slide\n",
    "df.filename[~df[\"class\"].isin([\"bad\", \"Empty\"])].apply(lambda s: s.split(\"/\")[-1].split(\"_\")[:2]).value_counts()"
   ]
  },
  {
   "cell_type": "code",
   "execution_count": 4,
   "id": "8e48f356",
   "metadata": {
    "node_exists": true,
    "node_name": "06c519fc26dd430a8f24bacac3dcdc9d",
    "scrolled": false
   },
   "outputs": [
    {
     "name": "stdout",
     "output_type": "stream",
     "text": [
      "                  class  time_since_fert\n",
      "511                 2pn             1061\n",
      "685             Syngamy             1464\n",
      "298              2 Cell             1574\n",
      "116              3 Cell             2315\n",
      "104              4 Cell             2395\n",
      "7                5 Cell             3045\n",
      "29               6 Cell             3125\n",
      "145              8 Cell             3265\n",
      "24    Compacting 8 cell             3375\n",
      "1169             Morula             4286\n",
      "373         Early blast             5940\n",
      "113          Blastocyst             6261\n",
      "4850              Empty             7036\n"
     ]
    }
   ],
   "source": [
    "# Track a single embryo's lifecycle\n",
    "pd.set_option('display.max_rows', 365)\n",
    "M776_S0087_W2 = df[df.filename.str.contains(\"M776_S0087_W2\")].copy()\n",
    "# Extract time since fertilisation in minutes from filename (ints, rounded to nearest minute)\n",
    "M776_S0087_W2[\"time_since_fert\"] = M776_S0087_W2.filename.apply(lambda s: s.replace(\".jpg\", \"\").split(\"_\")[-1]).astype(int)\n",
    "M776_S0087_W2 = M776_S0087_W2.sort_values(by=\"time_since_fert\")\n",
    "# Take the earliest time that each class was seen\n",
    "M776_S0087_W2 = M776_S0087_W2.groupby(\"class\").head(1)\n",
    "print(M776_S0087_W2[[\"class\", \"time_since_fert\"]])"
   ]
  },
  {
   "cell_type": "code",
   "execution_count": 5,
   "id": "b07925b9",
   "metadata": {
    "node_exists": true,
    "node_name": "e2a855634bae4b018342d54fd1ebfee1"
   },
   "outputs": [
    {
     "data": {
      "text/plain": [
       "['2pn',\n",
       " 'Syngamy',\n",
       " '2 Cell',\n",
       " '3 Cell',\n",
       " '4 Cell',\n",
       " '5 Cell',\n",
       " '6 Cell',\n",
       " '8 Cell',\n",
       " 'Compacting 8 cell',\n",
       " 'Morula',\n",
       " 'Early blast',\n",
       " 'Blastocyst',\n",
       " 'Empty']"
      ]
     },
     "execution_count": 5,
     "metadata": {},
     "output_type": "execute_result"
    }
   ],
   "source": [
    "classes = list(M776_S0087_W2[\"class\"])\n",
    "classes"
   ]
  },
  {
   "cell_type": "code",
   "execution_count": 6,
   "id": "e803af06",
   "metadata": {
    "node_exists": true,
    "node_name": "4896f14ec4a745de97cfbbf72c06463a"
   },
   "outputs": [
    {
     "data": {
      "image/png": "[encoded data removed]",
      "text/plain": [
       "<Figure size 1440x1440 with 1 Axes>"
      ]
     },
     "metadata": {},
     "output_type": "display_data"
    }
   ],
   "source": [
    "# Plot embryo's lifecycle over time\n",
    "plt.figure(figsize=(20, 20))\n",
    "for i, row in M776_S0087_W2.iterrows():\n",
    "    image = keras.utils.load_img(row.filename, target_size=(299,299))\n",
    "    c_index = classes.index(row[\"class\"]) * 299\n",
    "    time_since_fert = row.time_since_fert\n",
    "    plt.imshow(image, extent=[time_since_fert, time_since_fert+299, c_index, c_index+299])\n",
    "    plt.text(time_since_fert, c_index, row[\"class\"], bbox=dict(boxstyle=\"round\", ec=(1., 0.5, 0.5), fc=(1., 0.8, 0.8)))\n",
    "plt.yticks([])\n",
    "plt.xlabel(\"Time since fertilisation (minutes)\")\n",
    "plt.xlim(0, M776_S0087_W2.time_since_fert.max() + 300)\n",
    "plt.ylim(0, len(classes) * 300)\n",
    "plt.show()"
   ]
  },
  {
   "cell_type": "code",
   "execution_count": 7,
   "id": "587b2d0e",
   "metadata": {
    "node_exists": true,
    "node_name": "f38ba67cdb1448b88ca3f0d28ae1426f"
   },
   "outputs": [],
   "source": [
    "class_counts = df[\"class\"].value_counts()\n",
    "mask = ~df[\"class\"].isin(class_counts[class_counts > 10].index)\n",
    "#df[\"class\"][mask] = \"Other\""
   ]
  },
  {
   "cell_type": "code",
   "execution_count": 8,
   "id": "40f3f9d4",
   "metadata": {
    "node_exists": true,
    "node_name": "5bc5595dd71c446aafbd5930165a2d32"
   },
   "outputs": [
    {
     "data": {
      "text/html": [
       "<div>\n",
       "<style scoped>\n",
       "    .dataframe tbody tr th:only-of-type {\n",
       "        vertical-align: middle;\n",
       "    }\n",
       "\n",
       "    .dataframe tbody tr th {\n",
       "        vertical-align: top;\n",
       "    }\n",
       "\n",
       "    .dataframe thead th {\n",
       "        text-align: right;\n",
       "    }\n",
       "</style>\n",
       "<table border=\"1\" class=\"dataframe\">\n",
       "  <thead>\n",
       "    <tr style=\"text-align: right;\">\n",
       "      <th></th>\n",
       "      <th>filename</th>\n",
       "      <th>class</th>\n",
       "    </tr>\n",
       "  </thead>\n",
       "  <tbody>\n",
       "    <tr>\n",
       "      <th>0</th>\n",
       "      <td>EmbryoLabeling/Labelers/train/Expanded Blastocyst/M0776_S00512_W8_F0_6925.jpg</td>\n",
       "      <td>Expanded Blastocyst</td>\n",
       "    </tr>\n",
       "    <tr>\n",
       "      <th>1</th>\n",
       "      <td>EmbryoLabeling/Labelers/train/Expanded Blastocyst/M0776_S00534_W1_F0_7696.jpg</td>\n",
       "      <td>Expanded Blastocyst</td>\n",
       "    </tr>\n",
       "    <tr>\n",
       "      <th>2</th>\n",
       "      <td>EmbryoLabeling/Labelers/train/Expanded Blastocyst/M0776_S00761_W3_F0_6760.jpg</td>\n",
       "      <td>Expanded Blastocyst</td>\n",
       "    </tr>\n",
       "    <tr>\n",
       "      <th>3</th>\n",
       "      <td>EmbryoLabeling/Labelers/train/Expanded Blastocyst/M0776_S00512_W4_F0_6984.jpg</td>\n",
       "      <td>Expanded Blastocyst</td>\n",
       "    </tr>\n",
       "    <tr>\n",
       "      <th>4</th>\n",
       "      <td>EmbryoLabeling/Labelers/train/Expanded Blastocyst/M0776_S00761_W2_F0_6620.jpg</td>\n",
       "      <td>Expanded Blastocyst</td>\n",
       "    </tr>\n",
       "    <tr>\n",
       "      <th>...</th>\n",
       "      <td>...</td>\n",
       "      <td>...</td>\n",
       "    </tr>\n",
       "    <tr>\n",
       "      <th>731</th>\n",
       "      <td>EmbryoLabeling/Labelers/train/2 Cell/M0776_S00470_W3_F0_1654.jpg</td>\n",
       "      <td>2 Cell</td>\n",
       "    </tr>\n",
       "    <tr>\n",
       "      <th>732</th>\n",
       "      <td>EmbryoLabeling/Labelers/train/2 Cell/M0776_S00761_W1_F0_2267.jpg</td>\n",
       "      <td>2 Cell</td>\n",
       "    </tr>\n",
       "    <tr>\n",
       "      <th>733</th>\n",
       "      <td>EmbryoLabeling/Labelers/train/2 Cell/M776_S0087_W3_F0_1685.jpg</td>\n",
       "      <td>2 Cell</td>\n",
       "    </tr>\n",
       "    <tr>\n",
       "      <th>734</th>\n",
       "      <td>EmbryoLabeling/Labelers/train/2 Cell/M0776_S00470_W4_F0_1794.jpg</td>\n",
       "      <td>2 Cell</td>\n",
       "    </tr>\n",
       "    <tr>\n",
       "      <th>735</th>\n",
       "      <td>EmbryoLabeling/Labelers/train/2 Cell/M776_S0087_W2_F0_2195.jpg</td>\n",
       "      <td>2 Cell</td>\n",
       "    </tr>\n",
       "  </tbody>\n",
       "</table>\n",
       "<p>13626 rows × 2 columns</p>\n",
       "</div>"
      ],
      "text/plain": [
       "                                                                          filename  \\\n",
       "0    EmbryoLabeling/Labelers/train/Expanded Blastocyst/M0776_S00512_W8_F0_6925.jpg   \n",
       "1    EmbryoLabeling/Labelers/train/Expanded Blastocyst/M0776_S00534_W1_F0_7696.jpg   \n",
       "2    EmbryoLabeling/Labelers/train/Expanded Blastocyst/M0776_S00761_W3_F0_6760.jpg   \n",
       "3    EmbryoLabeling/Labelers/train/Expanded Blastocyst/M0776_S00512_W4_F0_6984.jpg   \n",
       "4    EmbryoLabeling/Labelers/train/Expanded Blastocyst/M0776_S00761_W2_F0_6620.jpg   \n",
       "..                                                                             ...   \n",
       "731               EmbryoLabeling/Labelers/train/2 Cell/M0776_S00470_W3_F0_1654.jpg   \n",
       "732               EmbryoLabeling/Labelers/train/2 Cell/M0776_S00761_W1_F0_2267.jpg   \n",
       "733                 EmbryoLabeling/Labelers/train/2 Cell/M776_S0087_W3_F0_1685.jpg   \n",
       "734               EmbryoLabeling/Labelers/train/2 Cell/M0776_S00470_W4_F0_1794.jpg   \n",
       "735                 EmbryoLabeling/Labelers/train/2 Cell/M776_S0087_W2_F0_2195.jpg   \n",
       "\n",
       "                   class  \n",
       "0    Expanded Blastocyst  \n",
       "1    Expanded Blastocyst  \n",
       "2    Expanded Blastocyst  \n",
       "3    Expanded Blastocyst  \n",
       "4    Expanded Blastocyst  \n",
       "..                   ...  \n",
       "731               2 Cell  \n",
       "732               2 Cell  \n",
       "733               2 Cell  \n",
       "734               2 Cell  \n",
       "735               2 Cell  \n",
       "\n",
       "[13626 rows x 2 columns]"
      ]
     },
     "metadata": {},
     "output_type": "display_data"
    },
    {
     "data": {
      "text/plain": [
       "Syngamy                600\n",
       "Morula                 600\n",
       "2pn                    600\n",
       "4 Cell                 600\n",
       "Empty                  600\n",
       "2 Cell                 589\n",
       "Early blast            492\n",
       "Compacting 8 cell      439\n",
       "Expanded Blastocyst    315\n",
       "8 Cell                 307\n",
       "Blastocyst             299\n",
       "6 Cell                 288\n",
       "3 Cell                 242\n",
       "5 Cell                 104\n",
       "Name: class, dtype: int64"
      ]
     },
     "metadata": {},
     "output_type": "display_data"
    },
    {
     "data": {
      "text/plain": [
       "2pn                    200\n",
       "Morula                 200\n",
       "Empty                  200\n",
       "Syngamy                167\n",
       "4 Cell                 158\n",
       "2 Cell                 147\n",
       "Early blast            123\n",
       "Compacting 8 cell      110\n",
       "Expanded Blastocyst     79\n",
       "8 Cell                  77\n",
       "Blastocyst              75\n",
       "6 Cell                  72\n",
       "3 Cell                  61\n",
       "5 Cell                  26\n",
       "Name: class, dtype: int64"
      ]
     },
     "metadata": {},
     "output_type": "display_data"
    }
   ],
   "source": [
    "#df[\"class\"][~df[\"class\"].isin([\"Empty\", \"Morula\"])] = \"Other\"\n",
    "# Build training and validation dataframes. This gives us fine control over what we use for train & test\n",
    "train_rows = []\n",
    "validation_rows = []\n",
    "for c in df[\"class\"].unique():\n",
    "    df_for_class = df[df[\"class\"] == c].copy()\n",
    "    if len(df_for_class) > 20:\n",
    "        validation_sample = df_for_class.sample(min(round(.2*len(df_for_class)), 200))\n",
    "        validation_rows.append(validation_sample)\n",
    "        train_sample = df_for_class.drop(validation_sample.index)\n",
    "        # Accounting for training class imbalance\n",
    "        # still leaving 20%. Might need more sophisticated f(x) here for class imbalance.\n",
    "        train_sample = train_sample.sample(min(len(train_sample), 600))\n",
    "        train_rows.append(train_sample)\n",
    "train_df = pd.concat(train_rows)\n",
    "validation_df = pd.concat(validation_rows)\n",
    "display(df)\n",
    "display(train_df[\"class\"].value_counts())\n",
    "validation_df = validation_df.sample(frac=1)\n",
    "display(validation_df[\"class\"].value_counts())"
   ]
  },
  {
   "cell_type": "code",
   "execution_count": 9,
   "id": "dbbf3b1e",
   "metadata": {
    "node_exists": true,
    "node_name": "93b8d4bf9436458fa8914e39a045fe38"
   },
   "outputs": [
    {
     "name": "stdout",
     "output_type": "stream",
     "text": [
      "Found 6075 validated image filenames belonging to 14 classes.\n",
      "Found 1695 validated image filenames belonging to 14 classes.\n"
     ]
    }
   ],
   "source": [
    "datagen = keras.preprocessing.image.ImageDataGenerator(rescale=1./255)\n",
    "training = datagen.flow_from_dataframe(train_df, target_size=(299, 299), batch_size=BATCH_SIZE, shuffle=True)\n",
    "# Don't shuffle validation, otherwise confusion_matrix won't work due to mismatch\n",
    "validation = datagen.flow_from_dataframe(validation_df, target_size=(299, 299), batch_size=BATCH_SIZE, shuffle=False)"
   ]
  },
  {
   "cell_type": "code",
   "execution_count": 10,
   "id": "3b1f175a",
   "metadata": {
    "node_exists": true,
    "node_name": "0e1e23d3ce614e9fad28032e23d71d0d"
   },
   "outputs": [],
   "source": [
    "assert training.class_indices == validation.class_indices"
   ]
  },
  {
   "cell_type": "code",
   "execution_count": 11,
   "id": "939e9490",
   "metadata": {
    "node_exists": true,
    "node_name": "38f927f459ed407b81a65a0961b212ec"
   },
   "outputs": [
    {
     "data": {
      "text/plain": [
       "['2 Cell',\n",
       " '2pn',\n",
       " '3 Cell',\n",
       " '4 Cell',\n",
       " '5 Cell',\n",
       " '6 Cell',\n",
       " '8 Cell',\n",
       " 'Blastocyst',\n",
       " 'Compacting 8 cell',\n",
       " 'Early blast',\n",
       " 'Empty',\n",
       " 'Expanded Blastocyst',\n",
       " 'Morula',\n",
       " 'Syngamy']"
      ]
     },
     "execution_count": 11,
     "metadata": {},
     "output_type": "execute_result"
    }
   ],
   "source": [
    "list(training.class_indices.keys())"
   ]
  },
  {
   "cell_type": "code",
   "execution_count": 12,
   "id": "071bd61b",
   "metadata": {
    "node_exists": true,
    "node_name": "ca55154cfc9949ec80c3c4c734ec0329"
   },
   "outputs": [
    {
     "data": {
      "text/plain": [
       "{0: '2 Cell',\n",
       " 1: '2pn',\n",
       " 2: '3 Cell',\n",
       " 3: '4 Cell',\n",
       " 4: '5 Cell',\n",
       " 5: '6 Cell',\n",
       " 6: '8 Cell',\n",
       " 7: 'Blastocyst',\n",
       " 8: 'Compacting 8 cell',\n",
       " 9: 'Early blast',\n",
       " 10: 'Empty',\n",
       " 11: 'Expanded Blastocyst',\n",
       " 12: 'Morula',\n",
       " 13: 'Syngamy'}"
      ]
     },
     "execution_count": 12,
     "metadata": {},
     "output_type": "execute_result"
    }
   ],
   "source": [
    "code2class = {v:k for k, v in training.class_indices.items()}\n",
    "code2class"
   ]
  },
  {
   "cell_type": "code",
   "execution_count": 13,
   "id": "c00fd32a",
   "metadata": {
    "node_exists": false,
    "node_name": "d27b98d82f5a403a8e3446268ffd1c1c",
    "scrolled": false
   },
   "outputs": [
    {
     "data": {
      "image/png": "[encoded data removed]",
      "text/plain": [
       "<Figure size 720x720 with 24 Axes>"
      ]
     },
     "metadata": {},
     "output_type": "display_data"
    }
   ],
   "source": [
    "plt.figure(figsize=(10, 10))\n",
    "images, labels = next(training)\n",
    "for i in range(24):\n",
    "    ax = plt.subplot(5, 5, i + 1)\n",
    "    plt.imshow(images[i])\n",
    "    plt.title(code2class[labels[i].argmax()])\n",
    "    plt.axis(\"off\")"
   ]
  },
  {
   "cell_type": "code",
   "execution_count": 14,
   "id": "ce9346eb",
   "metadata": {
    "node_exists": false,
    "node_name": "78a9cf13ab1a42eeb5c4bfc1e738a2d4"
   },
   "outputs": [
    {
     "data": {
      "image/png": "[encoded data removed]",
      "text/plain": [
       "<Figure size 720x720 with 24 Axes>"
      ]
     },
     "metadata": {},
     "output_type": "display_data"
    }
   ],
   "source": [
    "plt.figure(figsize=(10, 10))\n",
    "images, labels = next(validation)\n",
    "for i in range(min(24, len(labels))):\n",
    "    ax = plt.subplot(5, 5, i + 1)\n",
    "    plt.imshow(images[i])\n",
    "    plt.title(code2class[labels[i].argmax()])\n",
    "    plt.axis(\"off\")"
   ]
  },
  {
   "cell_type": "code",
   "execution_count": 15,
   "id": "a2b1f6a8",
   "metadata": {
    "node_exists": false,
    "node_name": "b4ea19ca2bea425f839920102eb56372"
   },
   "outputs": [
    {
     "name": "stderr",
     "output_type": "stream",
     "text": [
      "2022-05-27 04:10:39.700875: I tensorflow/core/platform/cpu_feature_guard.cc:193] This TensorFlow binary is optimized with oneAPI Deep Neural Network Library (oneDNN) to use the following CPU instructions in performance-critical operations:  AVX2 AVX512F FMA\n",
      "To enable them in other operations, rebuild TensorFlow with the appropriate compiler flags.\n",
      "2022-05-27 04:10:39.702064: I tensorflow/stream_executor/cuda/cuda_gpu_executor.cc:975] successful NUMA node read from SysFS had negative value (-1), but there must be at least one NUMA node, so returning NUMA node zero\n",
      "2022-05-27 04:10:39.702277: I tensorflow/stream_executor/cuda/cuda_gpu_executor.cc:975] successful NUMA node read from SysFS had negative value (-1), but there must be at least one NUMA node, so returning NUMA node zero\n",
      "2022-05-27 04:10:39.702404: I tensorflow/stream_executor/cuda/cuda_gpu_executor.cc:975] successful NUMA node read from SysFS had negative value (-1), but there must be at least one NUMA node, so returning NUMA node zero\n",
      "2022-05-27 04:10:40.520047: I tensorflow/stream_executor/cuda/cuda_gpu_executor.cc:975] successful NUMA node read from SysFS had negative value (-1), but there must be at least one NUMA node, so returning NUMA node zero\n",
      "2022-05-27 04:10:40.520255: I tensorflow/stream_executor/cuda/cuda_gpu_executor.cc:975] successful NUMA node read from SysFS had negative value (-1), but there must be at least one NUMA node, so returning NUMA node zero\n",
      "2022-05-27 04:10:40.520391: I tensorflow/stream_executor/cuda/cuda_gpu_executor.cc:975] successful NUMA node read from SysFS had negative value (-1), but there must be at least one NUMA node, so returning NUMA node zero\n",
      "2022-05-27 04:10:40.520523: I tensorflow/core/common_runtime/gpu/gpu_device.cc:1532] Created device /job:localhost/replica:0/task:0/device:GPU:0 with 13581 MB memory:  -> device: 0, name: Tesla V100-PCIE-32GB, pci bus id: 0000:00:08.0, compute capability: 7.0\n"
     ]
    },
    {
     "name": "stdout",
     "output_type": "stream",
     "text": [
      "Model: \"model\"\n",
      "_________________________________________________________________\n",
      " Layer (type)                Output Shape              Param #   \n",
      "=================================================================\n",
      " input_2 (InputLayer)        [(None, 299, 299, 3)]     0         \n",
      "                                                                 \n",
      " random_flip (RandomFlip)    (None, 299, 299, 3)       0         \n",
      "                                                                 \n",
      " rescaling (Rescaling)       (None, 299, 299, 3)       0         \n",
      "                                                                 \n",
      " xception (Functional)       (None, 10, 10, 2048)      20861480  \n",
      "                                                                 \n",
      " global_average_pooling2d (G  (None, 2048)             0         \n",
      " lobalAveragePooling2D)                                          \n",
      "                                                                 \n",
      " dense (Dense)               (None, 14)                28686     \n",
      "                                                                 \n",
      "=================================================================\n",
      "Total params: 20,890,166\n",
      "Trainable params: 28,686\n",
      "Non-trainable params: 20,861,480\n",
      "_________________________________________________________________\n"
     ]
    }
   ],
   "source": [
    "base_model = keras.applications.Xception(\n",
    "    weights='imagenet',  # Load weights pre-trained on ImageNet.\n",
    "    input_shape=(299, 299, 3),\n",
    "    include_top=False)  # Do not include the ImageNet classifier at the top.\n",
    "\n",
    "# Freeze the base_model\n",
    "base_model.trainable = False\n",
    "\n",
    "# Create new model on top\n",
    "inputs = keras.Input(shape=(299, 299, 3))\n",
    "\n",
    "random_flip = keras.layers.RandomFlip(\"horizontal_and_vertical\")\n",
    "x = random_flip(inputs)\n",
    "\n",
    "# Pre-trained Xception weights requires that input be scaled\n",
    "# from (0, 255) to a range of (-1., +1.), the rescaling layer\n",
    "# outputs: `(inputs * scale) + offset`\n",
    "scale_layer = keras.layers.Rescaling(scale=2, offset=-1)\n",
    "x = scale_layer(x)\n",
    "\n",
    "# The base model contains batchnorm layers. We want to keep them in inference mode\n",
    "# when we unfreeze the base model for fine-tuning, so we make sure that the\n",
    "# base_model is running in inference mode here.\n",
    "x = base_model(x, training=False)\n",
    "x = keras.layers.GlobalAveragePooling2D()(x)\n",
    "#x = keras.layers.Dropout(0.2)(x)  # Regularize with dropout\n",
    "outputs = keras.layers.Dense(len(code2class), activation='softmax')(x)\n",
    "model = keras.Model(inputs, outputs)\n",
    "\n",
    "model.summary()"
   ]
  },
  {
   "cell_type": "code",
   "execution_count": 16,
   "id": "9cbd1f6a",
   "metadata": {
    "node_exists": false,
    "node_name": "5f3ce44182d343cca90bc43cfa5ea585",
    "scrolled": false
   },
   "outputs": [
    {
     "data": {
      "application/vnd.jupyter.widget-view+json": {
       "model_id": "0510b5f0857b4529bb71b6284d4de362",
       "version_major": 2,
       "version_minor": 0
      },
      "text/plain": [
       "Training:   0%|           0/500 ETA: ?s,  ?epochs/s"
      ]
     },
     "metadata": {},
     "output_type": "display_data"
    },
    {
     "name": "stdout",
     "output_type": "stream",
     "text": [
      "Epoch 1/500\n"
     ]
    },
    {
     "data": {
      "application/vnd.jupyter.widget-view+json": {
       "model_id": "d19c99d9d6c941ccafb828ff8005da4d",
       "version_major": 2,
       "version_minor": 0
      },
      "text/plain": [
       "0/190           ETA: ?s - "
      ]
     },
     "metadata": {},
     "output_type": "display_data"
    },
    {
     "name": "stderr",
     "output_type": "stream",
     "text": [
      "2022-05-27 04:10:46.121357: I tensorflow/stream_executor/cuda/cuda_dnn.cc:384] Loaded cuDNN version 8302\n",
      "2022-05-27 04:10:46.888160: I tensorflow/core/platform/default/subprocess.cc:304] Start cannot spawn child process: No such file or directory\n"
     ]
    },
    {
     "name": "stdout",
     "output_type": "stream",
     "text": [
      "Epoch 2/500\n"
     ]
    },
    {
     "data": {
      "application/vnd.jupyter.widget-view+json": {
       "model_id": "0c5e3e44c3704216ba6f31db44fb905d",
       "version_major": 2,
       "version_minor": 0
      },
      "text/plain": [
       "0/190           ETA: ?s - "
      ]
     },
     "metadata": {},
     "output_type": "display_data"
    },
    {
     "name": "stdout",
     "output_type": "stream",
     "text": [
      "Epoch 3/500\n"
     ]
    },
    {
     "data": {
      "application/vnd.jupyter.widget-view+json": {
       "model_id": "8a5d1487ccc8473285da7e0bdc7a1623",
       "version_major": 2,
       "version_minor": 0
      },
      "text/plain": [
       "0/190           ETA: ?s - "
      ]
     },
     "metadata": {},
     "output_type": "display_data"
    },
    {
     "name": "stdout",
     "output_type": "stream",
     "text": [
      "Epoch 4/500\n"
     ]
    },
    {
     "data": {
      "application/vnd.jupyter.widget-view+json": {
       "model_id": "f52af4975a414a108c0426313b5770d6",
       "version_major": 2,
       "version_minor": 0
      },
      "text/plain": [
       "0/190           ETA: ?s - "
      ]
     },
     "metadata": {},
     "output_type": "display_data"
    },
    {
     "name": "stdout",
     "output_type": "stream",
     "text": [
      "Epoch 5/500\n"
     ]
    },
    {
     "data": {
      "application/vnd.jupyter.widget-view+json": {
       "model_id": "de2b506a6c194271aefb2acaebfc6b4a",
       "version_major": 2,
       "version_minor": 0
      },
      "text/plain": [
       "0/190           ETA: ?s - "
      ]
     },
     "metadata": {},
     "output_type": "display_data"
    },
    {
     "name": "stdout",
     "output_type": "stream",
     "text": [
      "Epoch 6/500\n"
     ]
    },
    {
     "data": {
      "application/vnd.jupyter.widget-view+json": {
       "model_id": "e225a2cdebcc4716955d34ac5ae99581",
       "version_major": 2,
       "version_minor": 0
      },
      "text/plain": [
       "0/190           ETA: ?s - "
      ]
     },
     "metadata": {},
     "output_type": "display_data"
    },
    {
     "name": "stdout",
     "output_type": "stream",
     "text": [
      "Epoch 7/500\n"
     ]
    },
    {
     "data": {
      "application/vnd.jupyter.widget-view+json": {
       "model_id": "5630cbd386774466bbe4e83b9afae6d8",
       "version_major": 2,
       "version_minor": 0
      },
      "text/plain": [
       "0/190           ETA: ?s - "
      ]
     },
     "metadata": {},
     "output_type": "display_data"
    },
    {
     "name": "stdout",
     "output_type": "stream",
     "text": [
      "Epoch 8/500\n"
     ]
    },
    {
     "data": {
      "application/vnd.jupyter.widget-view+json": {
       "model_id": "27d70c9d312b4a6fa062eaa9fb808ea0",
       "version_major": 2,
       "version_minor": 0
      },
      "text/plain": [
       "0/190           ETA: ?s - "
      ]
     },
     "metadata": {},
     "output_type": "display_data"
    },
    {
     "name": "stdout",
     "output_type": "stream",
     "text": [
      "Epoch 9/500\n"
     ]
    },
    {
     "data": {
      "application/vnd.jupyter.widget-view+json": {
       "model_id": "6d65280234034df99cd23937d52ddb50",
       "version_major": 2,
       "version_minor": 0
      },
      "text/plain": [
       "0/190           ETA: ?s - "
      ]
     },
     "metadata": {},
     "output_type": "display_data"
    },
    {
     "name": "stdout",
     "output_type": "stream",
     "text": [
      "Epoch 10/500\n"
     ]
    },
    {
     "data": {
      "application/vnd.jupyter.widget-view+json": {
       "model_id": "571bc60821794322b8723eaaa32f20e0",
       "version_major": 2,
       "version_minor": 0
      },
      "text/plain": [
       "0/190           ETA: ?s - "
      ]
     },
     "metadata": {},
     "output_type": "display_data"
    },
    {
     "name": "stdout",
     "output_type": "stream",
     "text": [
      "Epoch 11/500\n"
     ]
    },
    {
     "data": {
      "application/vnd.jupyter.widget-view+json": {
       "model_id": "437fa2616e274a488bc666a707150f13",
       "version_major": 2,
       "version_minor": 0
      },
      "text/plain": [
       "0/190           ETA: ?s - "
      ]
     },
     "metadata": {},
     "output_type": "display_data"
    },
    {
     "name": "stdout",
     "output_type": "stream",
     "text": [
      "Epoch 12/500\n"
     ]
    },
    {
     "data": {
      "application/vnd.jupyter.widget-view+json": {
       "model_id": "fc96044498fd438290c555c7a812abd1",
       "version_major": 2,
       "version_minor": 0
      },
      "text/plain": [
       "0/190           ETA: ?s - "
      ]
     },
     "metadata": {},
     "output_type": "display_data"
    },
    {
     "name": "stdout",
     "output_type": "stream",
     "text": [
      "Epoch 13/500\n"
     ]
    },
    {
     "data": {
      "application/vnd.jupyter.widget-view+json": {
       "model_id": "3913d40845894c53ae8a174b85b23dbf",
       "version_major": 2,
       "version_minor": 0
      },
      "text/plain": [
       "0/190           ETA: ?s - "
      ]
     },
     "metadata": {},
     "output_type": "display_data"
    },
    {
     "name": "stdout",
     "output_type": "stream",
     "text": [
      "Epoch 14/500\n"
     ]
    },
    {
     "data": {
      "application/vnd.jupyter.widget-view+json": {
       "model_id": "8325ca0455994d66a6b11d5fcdeecc53",
       "version_major": 2,
       "version_minor": 0
      },
      "text/plain": [
       "0/190           ETA: ?s - "
      ]
     },
     "metadata": {},
     "output_type": "display_data"
    },
    {
     "name": "stdout",
     "output_type": "stream",
     "text": [
      "Epoch 15/500\n"
     ]
    },
    {
     "data": {
      "application/vnd.jupyter.widget-view+json": {
       "model_id": "9ed561f19432469b826802825c4d9820",
       "version_major": 2,
       "version_minor": 0
      },
      "text/plain": [
       "0/190           ETA: ?s - "
      ]
     },
     "metadata": {},
     "output_type": "display_data"
    },
    {
     "name": "stdout",
     "output_type": "stream",
     "text": [
      "Epoch 16/500\n"
     ]
    },
    {
     "data": {
      "application/vnd.jupyter.widget-view+json": {
       "model_id": "55b39cbdd8e841b8a751da27d66aed03",
       "version_major": 2,
       "version_minor": 0
      },
      "text/plain": [
       "0/190           ETA: ?s - "
      ]
     },
     "metadata": {},
     "output_type": "display_data"
    },
    {
     "name": "stdout",
     "output_type": "stream",
     "text": [
      "Epoch 17/500\n"
     ]
    },
    {
     "data": {
      "application/vnd.jupyter.widget-view+json": {
       "model_id": "f7bf0b5d32d641dda6ec9db437f080c1",
       "version_major": 2,
       "version_minor": 0
      },
      "text/plain": [
       "0/190           ETA: ?s - "
      ]
     },
     "metadata": {},
     "output_type": "display_data"
    },
    {
     "name": "stdout",
     "output_type": "stream",
     "text": [
      "Epoch 18/500\n"
     ]
    },
    {
     "data": {
      "application/vnd.jupyter.widget-view+json": {
       "model_id": "01f79874ea5d42eaa3f19876b7de09e3",
       "version_major": 2,
       "version_minor": 0
      },
      "text/plain": [
       "0/190           ETA: ?s - "
      ]
     },
     "metadata": {},
     "output_type": "display_data"
    },
    {
     "name": "stdout",
     "output_type": "stream",
     "text": [
      "Epoch 19/500\n"
     ]
    },
    {
     "data": {
      "application/vnd.jupyter.widget-view+json": {
       "model_id": "d3e1b7356b2740efb5e2e578a6877a50",
       "version_major": 2,
       "version_minor": 0
      },
      "text/plain": [
       "0/190           ETA: ?s - "
      ]
     },
     "metadata": {},
     "output_type": "display_data"
    },
    {
     "name": "stdout",
     "output_type": "stream",
     "text": [
      "Epoch 20/500\n"
     ]
    },
    {
     "data": {
      "application/vnd.jupyter.widget-view+json": {
       "model_id": "e2491ba79e8043abb32404a099091dff",
       "version_major": 2,
       "version_minor": 0
      },
      "text/plain": [
       "0/190           ETA: ?s - "
      ]
     },
     "metadata": {},
     "output_type": "display_data"
    },
    {
     "name": "stdout",
     "output_type": "stream",
     "text": [
      "Epoch 21/500\n"
     ]
    },
    {
     "data": {
      "application/vnd.jupyter.widget-view+json": {
       "model_id": "975fde5de17c4127baf10ccc5aeb6002",
       "version_major": 2,
       "version_minor": 0
      },
      "text/plain": [
       "0/190           ETA: ?s - "
      ]
     },
     "metadata": {},
     "output_type": "display_data"
    },
    {
     "name": "stdout",
     "output_type": "stream",
     "text": [
      "Epoch 22/500\n"
     ]
    },
    {
     "data": {
      "application/vnd.jupyter.widget-view+json": {
       "model_id": "536b61a4e217415ca70050411b025e66",
       "version_major": 2,
       "version_minor": 0
      },
      "text/plain": [
       "0/190           ETA: ?s - "
      ]
     },
     "metadata": {},
     "output_type": "display_data"
    },
    {
     "name": "stdout",
     "output_type": "stream",
     "text": [
      "Epoch 23/500\n"
     ]
    },
    {
     "data": {
      "application/vnd.jupyter.widget-view+json": {
       "model_id": "62ccc967b65a4a9c9b1cf04b078a6fc9",
       "version_major": 2,
       "version_minor": 0
      },
      "text/plain": [
       "0/190           ETA: ?s - "
      ]
     },
     "metadata": {},
     "output_type": "display_data"
    },
    {
     "name": "stdout",
     "output_type": "stream",
     "text": [
      "Epoch 24/500\n"
     ]
    },
    {
     "data": {
      "application/vnd.jupyter.widget-view+json": {
       "model_id": "1ba9a35be0db45bab50c74c6a992d9a4",
       "version_major": 2,
       "version_minor": 0
      },
      "text/plain": [
       "0/190           ETA: ?s - "
      ]
     },
     "metadata": {},
     "output_type": "display_data"
    },
    {
     "name": "stdout",
     "output_type": "stream",
     "text": [
      "Epoch 25/500\n"
     ]
    },
    {
     "data": {
      "application/vnd.jupyter.widget-view+json": {
       "model_id": "e5b09ede06c042799a68e716fea78dee",
       "version_major": 2,
       "version_minor": 0
      },
      "text/plain": [
       "0/190           ETA: ?s - "
      ]
     },
     "metadata": {},
     "output_type": "display_data"
    },
    {
     "name": "stdout",
     "output_type": "stream",
     "text": [
      "Epoch 26/500\n"
     ]
    },
    {
     "data": {
      "application/vnd.jupyter.widget-view+json": {
       "model_id": "551fc78d68a242f5a75651cceb73f243",
       "version_major": 2,
       "version_minor": 0
      },
      "text/plain": [
       "0/190           ETA: ?s - "
      ]
     },
     "metadata": {},
     "output_type": "display_data"
    },
    {
     "name": "stdout",
     "output_type": "stream",
     "text": [
      "Epoch 27/500\n"
     ]
    },
    {
     "data": {
      "application/vnd.jupyter.widget-view+json": {
       "model_id": "a73f938a569a4252b6e0c4998d9d8047",
       "version_major": 2,
       "version_minor": 0
      },
      "text/plain": [
       "0/190           ETA: ?s - "
      ]
     },
     "metadata": {},
     "output_type": "display_data"
    },
    {
     "name": "stdout",
     "output_type": "stream",
     "text": [
      "Epoch 28/500\n"
     ]
    },
    {
     "data": {
      "application/vnd.jupyter.widget-view+json": {
       "model_id": "6146846cb89c43a48c1509a4aaf2e056",
       "version_major": 2,
       "version_minor": 0
      },
      "text/plain": [
       "0/190           ETA: ?s - "
      ]
     },
     "metadata": {},
     "output_type": "display_data"
    },
    {
     "name": "stdout",
     "output_type": "stream",
     "text": [
      "Epoch 29/500\n"
     ]
    },
    {
     "data": {
      "application/vnd.jupyter.widget-view+json": {
       "model_id": "ad149ab4998743f5829de9ffc75617ac",
       "version_major": 2,
       "version_minor": 0
      },
      "text/plain": [
       "0/190           ETA: ?s - "
      ]
     },
     "metadata": {},
     "output_type": "display_data"
    },
    {
     "name": "stdout",
     "output_type": "stream",
     "text": [
      "Epoch 30/500\n"
     ]
    },
    {
     "data": {
      "application/vnd.jupyter.widget-view+json": {
       "model_id": "f35c096f50bb4e27bcde155e326b0386",
       "version_major": 2,
       "version_minor": 0
      },
      "text/plain": [
       "0/190           ETA: ?s - "
      ]
     },
     "metadata": {},
     "output_type": "display_data"
    },
    {
     "name": "stdout",
     "output_type": "stream",
     "text": [
      "Epoch 31/500\n"
     ]
    },
    {
     "data": {
      "application/vnd.jupyter.widget-view+json": {
       "model_id": "cf6826dde4ac4e50bd445beb8ba9c318",
       "version_major": 2,
       "version_minor": 0
      },
      "text/plain": [
       "0/190           ETA: ?s - "
      ]
     },
     "metadata": {},
     "output_type": "display_data"
    },
    {
     "name": "stdout",
     "output_type": "stream",
     "text": [
      "Epoch 32/500\n"
     ]
    },
    {
     "data": {
      "application/vnd.jupyter.widget-view+json": {
       "model_id": "6727e79f57f647c0b1206b23dd9a0ea0",
       "version_major": 2,
       "version_minor": 0
      },
      "text/plain": [
       "0/190           ETA: ?s - "
      ]
     },
     "metadata": {},
     "output_type": "display_data"
    },
    {
     "name": "stdout",
     "output_type": "stream",
     "text": [
      "Epoch 33/500\n"
     ]
    },
    {
     "data": {
      "application/vnd.jupyter.widget-view+json": {
       "model_id": "f3150ca65275472da00d08a8d349ca84",
       "version_major": 2,
       "version_minor": 0
      },
      "text/plain": [
       "0/190           ETA: ?s - "
      ]
     },
     "metadata": {},
     "output_type": "display_data"
    },
    {
     "name": "stdout",
     "output_type": "stream",
     "text": [
      "Epoch 34/500\n"
     ]
    },
    {
     "data": {
      "application/vnd.jupyter.widget-view+json": {
       "model_id": "ec8d8886b36c453a904f34919d853d6b",
       "version_major": 2,
       "version_minor": 0
      },
      "text/plain": [
       "0/190           ETA: ?s - "
      ]
     },
     "metadata": {},
     "output_type": "display_data"
    },
    {
     "name": "stdout",
     "output_type": "stream",
     "text": [
      "Epoch 35/500\n"
     ]
    },
    {
     "data": {
      "application/vnd.jupyter.widget-view+json": {
       "model_id": "b8f01725a70a4c4fa147a6c20c75bba9",
       "version_major": 2,
       "version_minor": 0
      },
      "text/plain": [
       "0/190           ETA: ?s - "
      ]
     },
     "metadata": {},
     "output_type": "display_data"
    },
    {
     "name": "stdout",
     "output_type": "stream",
     "text": [
      "Epoch 36/500\n"
     ]
    },
    {
     "data": {
      "application/vnd.jupyter.widget-view+json": {
       "model_id": "dedf8f6e466c4df2bb835d0d8dc4e2ee",
       "version_major": 2,
       "version_minor": 0
      },
      "text/plain": [
       "0/190           ETA: ?s - "
      ]
     },
     "metadata": {},
     "output_type": "display_data"
    },
    {
     "name": "stdout",
     "output_type": "stream",
     "text": [
      "Epoch 37/500\n"
     ]
    },
    {
     "data": {
      "application/vnd.jupyter.widget-view+json": {
       "model_id": "b51e2eb74f2748bc8e43ab61efbdb95e",
       "version_major": 2,
       "version_minor": 0
      },
      "text/plain": [
       "0/190           ETA: ?s - "
      ]
     },
     "metadata": {},
     "output_type": "display_data"
    },
    {
     "name": "stdout",
     "output_type": "stream",
     "text": [
      "Epoch 38/500\n"
     ]
    },
    {
     "data": {
      "application/vnd.jupyter.widget-view+json": {
       "model_id": "9b9531e2834945dba5187fb0d7dad12f",
       "version_major": 2,
       "version_minor": 0
      },
      "text/plain": [
       "0/190           ETA: ?s - "
      ]
     },
     "metadata": {},
     "output_type": "display_data"
    },
    {
     "name": "stdout",
     "output_type": "stream",
     "text": [
      "Epoch 39/500\n"
     ]
    },
    {
     "data": {
      "application/vnd.jupyter.widget-view+json": {
       "model_id": "9f449355465f4fa78794947a0673ef9b",
       "version_major": 2,
       "version_minor": 0
      },
      "text/plain": [
       "0/190           ETA: ?s - "
      ]
     },
     "metadata": {},
     "output_type": "display_data"
    },
    {
     "name": "stdout",
     "output_type": "stream",
     "text": [
      "Epoch 40/500\n"
     ]
    },
    {
     "data": {
      "application/vnd.jupyter.widget-view+json": {
       "model_id": "2f5fc42e67964543930004a1775297e0",
       "version_major": 2,
       "version_minor": 0
      },
      "text/plain": [
       "0/190           ETA: ?s - "
      ]
     },
     "metadata": {},
     "output_type": "display_data"
    },
    {
     "name": "stdout",
     "output_type": "stream",
     "text": [
      "Epoch 41/500\n"
     ]
    },
    {
     "data": {
      "application/vnd.jupyter.widget-view+json": {
       "model_id": "6943683b142e40aabe2e4c917c367c80",
       "version_major": 2,
       "version_minor": 0
      },
      "text/plain": [
       "0/190           ETA: ?s - "
      ]
     },
     "metadata": {},
     "output_type": "display_data"
    },
    {
     "name": "stdout",
     "output_type": "stream",
     "text": [
      "Epoch 42/500\n"
     ]
    },
    {
     "data": {
      "application/vnd.jupyter.widget-view+json": {
       "model_id": "129bd8cd0eaf4dddbb453d0e680b61f6",
       "version_major": 2,
       "version_minor": 0
      },
      "text/plain": [
       "0/190           ETA: ?s - "
      ]
     },
     "metadata": {},
     "output_type": "display_data"
    },
    {
     "name": "stdout",
     "output_type": "stream",
     "text": [
      "Epoch 43/500\n"
     ]
    },
    {
     "data": {
      "application/vnd.jupyter.widget-view+json": {
       "model_id": "b2416feefedb46129a5a98d882094886",
       "version_major": 2,
       "version_minor": 0
      },
      "text/plain": [
       "0/190           ETA: ?s - "
      ]
     },
     "metadata": {},
     "output_type": "display_data"
    },
    {
     "name": "stdout",
     "output_type": "stream",
     "text": [
      "Epoch 44/500\n"
     ]
    },
    {
     "data": {
      "application/vnd.jupyter.widget-view+json": {
       "model_id": "2be94ae690df444c9fc817b42a635ac1",
       "version_major": 2,
       "version_minor": 0
      },
      "text/plain": [
       "0/190           ETA: ?s - "
      ]
     },
     "metadata": {},
     "output_type": "display_data"
    },
    {
     "name": "stdout",
     "output_type": "stream",
     "text": [
      "Epoch 45/500\n"
     ]
    },
    {
     "data": {
      "application/vnd.jupyter.widget-view+json": {
       "model_id": "46617b417f024e4d82e9a20ab4258bb2",
       "version_major": 2,
       "version_minor": 0
      },
      "text/plain": [
       "0/190           ETA: ?s - "
      ]
     },
     "metadata": {},
     "output_type": "display_data"
    },
    {
     "name": "stdout",
     "output_type": "stream",
     "text": [
      "Epoch 46/500\n"
     ]
    },
    {
     "data": {
      "application/vnd.jupyter.widget-view+json": {
       "model_id": "53a90ba25d474d6bbf9f1364ba931a02",
       "version_major": 2,
       "version_minor": 0
      },
      "text/plain": [
       "0/190           ETA: ?s - "
      ]
     },
     "metadata": {},
     "output_type": "display_data"
    },
    {
     "name": "stdout",
     "output_type": "stream",
     "text": [
      "Epoch 47/500\n"
     ]
    },
    {
     "data": {
      "application/vnd.jupyter.widget-view+json": {
       "model_id": "64c78887cc264ef58481f26ce6566c21",
       "version_major": 2,
       "version_minor": 0
      },
      "text/plain": [
       "0/190           ETA: ?s - "
      ]
     },
     "metadata": {},
     "output_type": "display_data"
    },
    {
     "name": "stdout",
     "output_type": "stream",
     "text": [
      "Epoch 48/500\n"
     ]
    },
    {
     "data": {
      "application/vnd.jupyter.widget-view+json": {
       "model_id": "cb09cc990e024ed08ad122d066ceb411",
       "version_major": 2,
       "version_minor": 0
      },
      "text/plain": [
       "0/190           ETA: ?s - "
      ]
     },
     "metadata": {},
     "output_type": "display_data"
    },
    {
     "name": "stdout",
     "output_type": "stream",
     "text": [
      "Epoch 49/500\n"
     ]
    },
    {
     "data": {
      "application/vnd.jupyter.widget-view+json": {
       "model_id": "41174718f7a54ace9a246d83a0f02a2f",
       "version_major": 2,
       "version_minor": 0
      },
      "text/plain": [
       "0/190           ETA: ?s - "
      ]
     },
     "metadata": {},
     "output_type": "display_data"
    },
    {
     "name": "stdout",
     "output_type": "stream",
     "text": [
      "Epoch 50/500\n"
     ]
    },
    {
     "data": {
      "application/vnd.jupyter.widget-view+json": {
       "model_id": "2268ff25d2ab40ba98a09a25aa328de2",
       "version_major": 2,
       "version_minor": 0
      },
      "text/plain": [
       "0/190           ETA: ?s - "
      ]
     },
     "metadata": {},
     "output_type": "display_data"
    },
    {
     "name": "stdout",
     "output_type": "stream",
     "text": [
      "Epoch 51/500\n"
     ]
    },
    {
     "data": {
      "application/vnd.jupyter.widget-view+json": {
       "model_id": "68e7e4d9f3634b24b86b4b4a5ab1a377",
       "version_major": 2,
       "version_minor": 0
      },
      "text/plain": [
       "0/190           ETA: ?s - "
      ]
     },
     "metadata": {},
     "output_type": "display_data"
    },
    {
     "name": "stdout",
     "output_type": "stream",
     "text": [
      "Epoch 52/500\n"
     ]
    },
    {
     "data": {
      "application/vnd.jupyter.widget-view+json": {
       "model_id": "4c2668c5beed4081a024025fd5123e6a",
       "version_major": 2,
       "version_minor": 0
      },
      "text/plain": [
       "0/190           ETA: ?s - "
      ]
     },
     "metadata": {},
     "output_type": "display_data"
    },
    {
     "name": "stdout",
     "output_type": "stream",
     "text": [
      "Epoch 53/500\n"
     ]
    },
    {
     "data": {
      "application/vnd.jupyter.widget-view+json": {
       "model_id": "5f0097fd12ba438aa3069d35b480305e",
       "version_major": 2,
       "version_minor": 0
      },
      "text/plain": [
       "0/190           ETA: ?s - "
      ]
     },
     "metadata": {},
     "output_type": "display_data"
    },
    {
     "name": "stdout",
     "output_type": "stream",
     "text": [
      "Epoch 54/500\n"
     ]
    },
    {
     "data": {
      "application/vnd.jupyter.widget-view+json": {
       "model_id": "6ba05b3387e4489aae0f648a450f60f2",
       "version_major": 2,
       "version_minor": 0
      },
      "text/plain": [
       "0/190           ETA: ?s - "
      ]
     },
     "metadata": {},
     "output_type": "display_data"
    },
    {
     "name": "stdout",
     "output_type": "stream",
     "text": [
      "Epoch 55/500\n"
     ]
    },
    {
     "data": {
      "application/vnd.jupyter.widget-view+json": {
       "model_id": "3fdd3d7f27e14b6a8edf7d980240edba",
       "version_major": 2,
       "version_minor": 0
      },
      "text/plain": [
       "0/190           ETA: ?s - "
      ]
     },
     "metadata": {},
     "output_type": "display_data"
    },
    {
     "name": "stdout",
     "output_type": "stream",
     "text": [
      "Epoch 56/500\n"
     ]
    },
    {
     "data": {
      "application/vnd.jupyter.widget-view+json": {
       "model_id": "0f275534055d4491a725ae088e534f0d",
       "version_major": 2,
       "version_minor": 0
      },
      "text/plain": [
       "0/190           ETA: ?s - "
      ]
     },
     "metadata": {},
     "output_type": "display_data"
    },
    {
     "name": "stdout",
     "output_type": "stream",
     "text": [
      "Epoch 57/500\n"
     ]
    },
    {
     "data": {
      "application/vnd.jupyter.widget-view+json": {
       "model_id": "34994737e86d4132ab8f7c029ed85b29",
       "version_major": 2,
       "version_minor": 0
      },
      "text/plain": [
       "0/190           ETA: ?s - "
      ]
     },
     "metadata": {},
     "output_type": "display_data"
    },
    {
     "name": "stdout",
     "output_type": "stream",
     "text": [
      "Epoch 58/500\n"
     ]
    },
    {
     "data": {
      "application/vnd.jupyter.widget-view+json": {
       "model_id": "7f3b2fdace254920bb7f2321490ded12",
       "version_major": 2,
       "version_minor": 0
      },
      "text/plain": [
       "0/190           ETA: ?s - "
      ]
     },
     "metadata": {},
     "output_type": "display_data"
    },
    {
     "name": "stdout",
     "output_type": "stream",
     "text": [
      "Epoch 59/500\n"
     ]
    },
    {
     "data": {
      "application/vnd.jupyter.widget-view+json": {
       "model_id": "240edef4a38b426eaf3493fc131b7587",
       "version_major": 2,
       "version_minor": 0
      },
      "text/plain": [
       "0/190           ETA: ?s - "
      ]
     },
     "metadata": {},
     "output_type": "display_data"
    },
    {
     "name": "stdout",
     "output_type": "stream",
     "text": [
      "Epoch 60/500\n"
     ]
    },
    {
     "data": {
      "application/vnd.jupyter.widget-view+json": {
       "model_id": "1eb0d4a0e04046b9b6f8c1387829ec84",
       "version_major": 2,
       "version_minor": 0
      },
      "text/plain": [
       "0/190           ETA: ?s - "
      ]
     },
     "metadata": {},
     "output_type": "display_data"
    },
    {
     "name": "stdout",
     "output_type": "stream",
     "text": [
      "Epoch 61/500\n"
     ]
    },
    {
     "data": {
      "application/vnd.jupyter.widget-view+json": {
       "model_id": "0acf0b45931c46fc83d9b913946fa772",
       "version_major": 2,
       "version_minor": 0
      },
      "text/plain": [
       "0/190           ETA: ?s - "
      ]
     },
     "metadata": {},
     "output_type": "display_data"
    },
    {
     "name": "stdout",
     "output_type": "stream",
     "text": [
      "Epoch 62/500\n"
     ]
    },
    {
     "data": {
      "application/vnd.jupyter.widget-view+json": {
       "model_id": "fe80b3376ae346169d8c718e3c53e0cc",
       "version_major": 2,
       "version_minor": 0
      },
      "text/plain": [
       "0/190           ETA: ?s - "
      ]
     },
     "metadata": {},
     "output_type": "display_data"
    },
    {
     "name": "stdout",
     "output_type": "stream",
     "text": [
      "Epoch 63/500\n"
     ]
    },
    {
     "data": {
      "application/vnd.jupyter.widget-view+json": {
       "model_id": "38193bfbe0c64a89a4bd3a09a86d20a5",
       "version_major": 2,
       "version_minor": 0
      },
      "text/plain": [
       "0/190           ETA: ?s - "
      ]
     },
     "metadata": {},
     "output_type": "display_data"
    },
    {
     "name": "stdout",
     "output_type": "stream",
     "text": [
      "Epoch 64/500\n"
     ]
    },
    {
     "data": {
      "application/vnd.jupyter.widget-view+json": {
       "model_id": "18bddba6a8c94c13aadf28fe5c658319",
       "version_major": 2,
       "version_minor": 0
      },
      "text/plain": [
       "0/190           ETA: ?s - "
      ]
     },
     "metadata": {},
     "output_type": "display_data"
    },
    {
     "name": "stdout",
     "output_type": "stream",
     "text": [
      "Epoch 65/500\n"
     ]
    },
    {
     "data": {
      "application/vnd.jupyter.widget-view+json": {
       "model_id": "6f50695ba5574fe0a46b14861c7b965d",
       "version_major": 2,
       "version_minor": 0
      },
      "text/plain": [
       "0/190           ETA: ?s - "
      ]
     },
     "metadata": {},
     "output_type": "display_data"
    },
    {
     "name": "stdout",
     "output_type": "stream",
     "text": [
      "Epoch 66/500\n"
     ]
    },
    {
     "data": {
      "application/vnd.jupyter.widget-view+json": {
       "model_id": "bcbb9061e01f42cfb354c89941927d62",
       "version_major": 2,
       "version_minor": 0
      },
      "text/plain": [
       "0/190           ETA: ?s - "
      ]
     },
     "metadata": {},
     "output_type": "display_data"
    },
    {
     "name": "stdout",
     "output_type": "stream",
     "text": [
      "Epoch 67/500\n"
     ]
    },
    {
     "data": {
      "application/vnd.jupyter.widget-view+json": {
       "model_id": "2241a984ecc3472fa57fe91479076496",
       "version_major": 2,
       "version_minor": 0
      },
      "text/plain": [
       "0/190           ETA: ?s - "
      ]
     },
     "metadata": {},
     "output_type": "display_data"
    },
    {
     "name": "stdout",
     "output_type": "stream",
     "text": [
      "Epoch 68/500\n"
     ]
    },
    {
     "data": {
      "application/vnd.jupyter.widget-view+json": {
       "model_id": "a29248c37a5d40859527202797bcbb8d",
       "version_major": 2,
       "version_minor": 0
      },
      "text/plain": [
       "0/190           ETA: ?s - "
      ]
     },
     "metadata": {},
     "output_type": "display_data"
    },
    {
     "name": "stdout",
     "output_type": "stream",
     "text": [
      "Epoch 69/500\n"
     ]
    },
    {
     "data": {
      "application/vnd.jupyter.widget-view+json": {
       "model_id": "d5b5223b17024eccb9828533fc72783c",
       "version_major": 2,
       "version_minor": 0
      },
      "text/plain": [
       "0/190           ETA: ?s - "
      ]
     },
     "metadata": {},
     "output_type": "display_data"
    },
    {
     "name": "stdout",
     "output_type": "stream",
     "text": [
      "Epoch 70/500\n"
     ]
    },
    {
     "data": {
      "application/vnd.jupyter.widget-view+json": {
       "model_id": "6aad9cf0ddf64d35a1df7b160cb385ba",
       "version_major": 2,
       "version_minor": 0
      },
      "text/plain": [
       "0/190           ETA: ?s - "
      ]
     },
     "metadata": {},
     "output_type": "display_data"
    },
    {
     "name": "stdout",
     "output_type": "stream",
     "text": [
      "Epoch 71/500\n"
     ]
    },
    {
     "data": {
      "application/vnd.jupyter.widget-view+json": {
       "model_id": "64823c69d0fa47d6bfe684cb7de660a8",
       "version_major": 2,
       "version_minor": 0
      },
      "text/plain": [
       "0/190           ETA: ?s - "
      ]
     },
     "metadata": {},
     "output_type": "display_data"
    },
    {
     "name": "stdout",
     "output_type": "stream",
     "text": [
      "Epoch 72/500\n"
     ]
    },
    {
     "data": {
      "application/vnd.jupyter.widget-view+json": {
       "model_id": "a57e7503ce024292aa2dc66bc96eea54",
       "version_major": 2,
       "version_minor": 0
      },
      "text/plain": [
       "0/190           ETA: ?s - "
      ]
     },
     "metadata": {},
     "output_type": "display_data"
    },
    {
     "name": "stdout",
     "output_type": "stream",
     "text": [
      "Epoch 73/500\n"
     ]
    },
    {
     "data": {
      "application/vnd.jupyter.widget-view+json": {
       "model_id": "8daec6968c21443c9f7ae8aac90d79cd",
       "version_major": 2,
       "version_minor": 0
      },
      "text/plain": [
       "0/190           ETA: ?s - "
      ]
     },
     "metadata": {},
     "output_type": "display_data"
    },
    {
     "name": "stdout",
     "output_type": "stream",
     "text": [
      "Epoch 74/500\n"
     ]
    },
    {
     "data": {
      "application/vnd.jupyter.widget-view+json": {
       "model_id": "0eebee20e63b4a0aab2c4ce4b3971914",
       "version_major": 2,
       "version_minor": 0
      },
      "text/plain": [
       "0/190           ETA: ?s - "
      ]
     },
     "metadata": {},
     "output_type": "display_data"
    },
    {
     "name": "stdout",
     "output_type": "stream",
     "text": [
      "Epoch 75/500\n"
     ]
    },
    {
     "data": {
      "application/vnd.jupyter.widget-view+json": {
       "model_id": "f937e88983e0473590458790a89930b2",
       "version_major": 2,
       "version_minor": 0
      },
      "text/plain": [
       "0/190           ETA: ?s - "
      ]
     },
     "metadata": {},
     "output_type": "display_data"
    },
    {
     "name": "stdout",
     "output_type": "stream",
     "text": [
      "Epoch 76/500\n"
     ]
    },
    {
     "data": {
      "application/vnd.jupyter.widget-view+json": {
       "model_id": "89f56be5ae974eb1832d0355b73e2fe0",
       "version_major": 2,
       "version_minor": 0
      },
      "text/plain": [
       "0/190           ETA: ?s - "
      ]
     },
     "metadata": {},
     "output_type": "display_data"
    },
    {
     "name": "stdout",
     "output_type": "stream",
     "text": [
      "Epoch 77/500\n"
     ]
    },
    {
     "data": {
      "application/vnd.jupyter.widget-view+json": {
       "model_id": "51ee26c3fafe43fd9184c2c2b5117598",
       "version_major": 2,
       "version_minor": 0
      },
      "text/plain": [
       "0/190           ETA: ?s - "
      ]
     },
     "metadata": {},
     "output_type": "display_data"
    },
    {
     "name": "stdout",
     "output_type": "stream",
     "text": [
      "Epoch 78/500\n"
     ]
    },
    {
     "data": {
      "application/vnd.jupyter.widget-view+json": {
       "model_id": "f5515e921c104c71b1f5d5e5910559b8",
       "version_major": 2,
       "version_minor": 0
      },
      "text/plain": [
       "0/190           ETA: ?s - "
      ]
     },
     "metadata": {},
     "output_type": "display_data"
    },
    {
     "name": "stdout",
     "output_type": "stream",
     "text": [
      "Epoch 79/500\n"
     ]
    },
    {
     "data": {
      "application/vnd.jupyter.widget-view+json": {
       "model_id": "e6cf9b016ed344d3b7ad3218bc23d786",
       "version_major": 2,
       "version_minor": 0
      },
      "text/plain": [
       "0/190           ETA: ?s - "
      ]
     },
     "metadata": {},
     "output_type": "display_data"
    },
    {
     "name": "stdout",
     "output_type": "stream",
     "text": [
      "Epoch 80/500\n"
     ]
    },
    {
     "data": {
      "application/vnd.jupyter.widget-view+json": {
       "model_id": "ef10a7c32c1c40cc844a5c3a6435e9f4",
       "version_major": 2,
       "version_minor": 0
      },
      "text/plain": [
       "0/190           ETA: ?s - "
      ]
     },
     "metadata": {},
     "output_type": "display_data"
    },
    {
     "name": "stdout",
     "output_type": "stream",
     "text": [
      "Epoch 81/500\n"
     ]
    },
    {
     "data": {
      "application/vnd.jupyter.widget-view+json": {
       "model_id": "1cea1d45b5334579853d75ea356bde51",
       "version_major": 2,
       "version_minor": 0
      },
      "text/plain": [
       "0/190           ETA: ?s - "
      ]
     },
     "metadata": {},
     "output_type": "display_data"
    },
    {
     "name": "stdout",
     "output_type": "stream",
     "text": [
      "Epoch 82/500\n"
     ]
    },
    {
     "data": {
      "application/vnd.jupyter.widget-view+json": {
       "model_id": "356a741e7a964a3ea4b9e22cd152e816",
       "version_major": 2,
       "version_minor": 0
      },
      "text/plain": [
       "0/190           ETA: ?s - "
      ]
     },
     "metadata": {},
     "output_type": "display_data"
    },
    {
     "name": "stdout",
     "output_type": "stream",
     "text": [
      "Epoch 83/500\n"
     ]
    },
    {
     "data": {
      "application/vnd.jupyter.widget-view+json": {
       "model_id": "0a70ff21e4584231b5aa18b15e778dcf",
       "version_major": 2,
       "version_minor": 0
      },
      "text/plain": [
       "0/190           ETA: ?s - "
      ]
     },
     "metadata": {},
     "output_type": "display_data"
    },
    {
     "name": "stdout",
     "output_type": "stream",
     "text": [
      "Epoch 84/500\n"
     ]
    },
    {
     "data": {
      "application/vnd.jupyter.widget-view+json": {
       "model_id": "bc2479f87f574d0aad86f356b2dc1cad",
       "version_major": 2,
       "version_minor": 0
      },
      "text/plain": [
       "0/190           ETA: ?s - "
      ]
     },
     "metadata": {},
     "output_type": "display_data"
    },
    {
     "name": "stdout",
     "output_type": "stream",
     "text": [
      "Epoch 85/500\n"
     ]
    },
    {
     "data": {
      "application/vnd.jupyter.widget-view+json": {
       "model_id": "ef66eb26423c4309ad22da9d014574ba",
       "version_major": 2,
       "version_minor": 0
      },
      "text/plain": [
       "0/190           ETA: ?s - "
      ]
     },
     "metadata": {},
     "output_type": "display_data"
    },
    {
     "name": "stdout",
     "output_type": "stream",
     "text": [
      "Epoch 86/500\n"
     ]
    },
    {
     "data": {
      "application/vnd.jupyter.widget-view+json": {
       "model_id": "829653ce59424f79a5b92a5ea0b7ddbe",
       "version_major": 2,
       "version_minor": 0
      },
      "text/plain": [
       "0/190           ETA: ?s - "
      ]
     },
     "metadata": {},
     "output_type": "display_data"
    },
    {
     "name": "stdout",
     "output_type": "stream",
     "text": [
      "Epoch 87/500\n"
     ]
    },
    {
     "data": {
      "application/vnd.jupyter.widget-view+json": {
       "model_id": "61d9e08fef4a4e178519d7af57c558a9",
       "version_major": 2,
       "version_minor": 0
      },
      "text/plain": [
       "0/190           ETA: ?s - "
      ]
     },
     "metadata": {},
     "output_type": "display_data"
    },
    {
     "name": "stdout",
     "output_type": "stream",
     "text": [
      "Epoch 88/500\n"
     ]
    },
    {
     "data": {
      "application/vnd.jupyter.widget-view+json": {
       "model_id": "0326e7a7f9b74f8083192b8d50ab67c8",
       "version_major": 2,
       "version_minor": 0
      },
      "text/plain": [
       "0/190           ETA: ?s - "
      ]
     },
     "metadata": {},
     "output_type": "display_data"
    },
    {
     "name": "stdout",
     "output_type": "stream",
     "text": [
      "Epoch 89/500\n"
     ]
    },
    {
     "data": {
      "application/vnd.jupyter.widget-view+json": {
       "model_id": "36ea7fc36e3e40139300f094955a9a67",
       "version_major": 2,
       "version_minor": 0
      },
      "text/plain": [
       "0/190           ETA: ?s - "
      ]
     },
     "metadata": {},
     "output_type": "display_data"
    },
    {
     "name": "stdout",
     "output_type": "stream",
     "text": [
      "Epoch 90/500\n"
     ]
    },
    {
     "data": {
      "application/vnd.jupyter.widget-view+json": {
       "model_id": "d4a88c9c03ec4f4995605d5913f3c14d",
       "version_major": 2,
       "version_minor": 0
      },
      "text/plain": [
       "0/190           ETA: ?s - "
      ]
     },
     "metadata": {},
     "output_type": "display_data"
    },
    {
     "name": "stdout",
     "output_type": "stream",
     "text": [
      "Epoch 91/500\n"
     ]
    },
    {
     "data": {
      "application/vnd.jupyter.widget-view+json": {
       "model_id": "7674661e59634f3ea7d13a7896043a6e",
       "version_major": 2,
       "version_minor": 0
      },
      "text/plain": [
       "0/190           ETA: ?s - "
      ]
     },
     "metadata": {},
     "output_type": "display_data"
    },
    {
     "name": "stdout",
     "output_type": "stream",
     "text": [
      "Epoch 92/500\n"
     ]
    },
    {
     "data": {
      "application/vnd.jupyter.widget-view+json": {
       "model_id": "d3d2b640a3da41129081e185aaa8e596",
       "version_major": 2,
       "version_minor": 0
      },
      "text/plain": [
       "0/190           ETA: ?s - "
      ]
     },
     "metadata": {},
     "output_type": "display_data"
    },
    {
     "name": "stdout",
     "output_type": "stream",
     "text": [
      "Epoch 93/500\n"
     ]
    },
    {
     "data": {
      "application/vnd.jupyter.widget-view+json": {
       "model_id": "01f8200f515f45d9b2c05365597c8f8d",
       "version_major": 2,
       "version_minor": 0
      },
      "text/plain": [
       "0/190           ETA: ?s - "
      ]
     },
     "metadata": {},
     "output_type": "display_data"
    },
    {
     "name": "stdout",
     "output_type": "stream",
     "text": [
      "Epoch 94/500\n"
     ]
    },
    {
     "data": {
      "application/vnd.jupyter.widget-view+json": {
       "model_id": "bb2cecc6fc50419ab57e22bb1bdfbc07",
       "version_major": 2,
       "version_minor": 0
      },
      "text/plain": [
       "0/190           ETA: ?s - "
      ]
     },
     "metadata": {},
     "output_type": "display_data"
    },
    {
     "name": "stdout",
     "output_type": "stream",
     "text": [
      "Epoch 95/500\n"
     ]
    },
    {
     "data": {
      "application/vnd.jupyter.widget-view+json": {
       "model_id": "6933f37f878c476a9ea2f643f6fcc19b",
       "version_major": 2,
       "version_minor": 0
      },
      "text/plain": [
       "0/190           ETA: ?s - "
      ]
     },
     "metadata": {},
     "output_type": "display_data"
    },
    {
     "name": "stdout",
     "output_type": "stream",
     "text": [
      "Epoch 96/500\n"
     ]
    },
    {
     "data": {
      "application/vnd.jupyter.widget-view+json": {
       "model_id": "8c81f71e3995426aab5fa6cf6706d73f",
       "version_major": 2,
       "version_minor": 0
      },
      "text/plain": [
       "0/190           ETA: ?s - "
      ]
     },
     "metadata": {},
     "output_type": "display_data"
    },
    {
     "name": "stdout",
     "output_type": "stream",
     "text": [
      "Epoch 97/500\n"
     ]
    },
    {
     "data": {
      "application/vnd.jupyter.widget-view+json": {
       "model_id": "5f38d96f5bf34293ab5b6302cbcedeb1",
       "version_major": 2,
       "version_minor": 0
      },
      "text/plain": [
       "0/190           ETA: ?s - "
      ]
     },
     "metadata": {},
     "output_type": "display_data"
    },
    {
     "name": "stdout",
     "output_type": "stream",
     "text": [
      "Epoch 98/500\n"
     ]
    },
    {
     "data": {
      "application/vnd.jupyter.widget-view+json": {
       "model_id": "e1caef5bc2464a8db5a1b72e12ed0477",
       "version_major": 2,
       "version_minor": 0
      },
      "text/plain": [
       "0/190           ETA: ?s - "
      ]
     },
     "metadata": {},
     "output_type": "display_data"
    },
    {
     "name": "stdout",
     "output_type": "stream",
     "text": [
      "Epoch 99/500\n"
     ]
    },
    {
     "data": {
      "application/vnd.jupyter.widget-view+json": {
       "model_id": "ae52398977dd4d3188648e285ea60801",
       "version_major": 2,
       "version_minor": 0
      },
      "text/plain": [
       "0/190           ETA: ?s - "
      ]
     },
     "metadata": {},
     "output_type": "display_data"
    },
    {
     "name": "stdout",
     "output_type": "stream",
     "text": [
      "Epoch 100/500\n"
     ]
    },
    {
     "data": {
      "application/vnd.jupyter.widget-view+json": {
       "model_id": "5f09deb803284792b33e5f150ab3869e",
       "version_major": 2,
       "version_minor": 0
      },
      "text/plain": [
       "0/190           ETA: ?s - "
      ]
     },
     "metadata": {},
     "output_type": "display_data"
    },
    {
     "name": "stdout",
     "output_type": "stream",
     "text": [
      "Epoch 101/500\n"
     ]
    },
    {
     "data": {
      "application/vnd.jupyter.widget-view+json": {
       "model_id": "62bfec22f91d4940b0be6b81556ca7d2",
       "version_major": 2,
       "version_minor": 0
      },
      "text/plain": [
       "0/190           ETA: ?s - "
      ]
     },
     "metadata": {},
     "output_type": "display_data"
    },
    {
     "name": "stdout",
     "output_type": "stream",
     "text": [
      "Epoch 102/500\n"
     ]
    },
    {
     "data": {
      "application/vnd.jupyter.widget-view+json": {
       "model_id": "270c18426bda4f40bacb38a8c00f381e",
       "version_major": 2,
       "version_minor": 0
      },
      "text/plain": [
       "0/190           ETA: ?s - "
      ]
     },
     "metadata": {},
     "output_type": "display_data"
    },
    {
     "name": "stdout",
     "output_type": "stream",
     "text": [
      "Epoch 103/500\n"
     ]
    },
    {
     "data": {
      "application/vnd.jupyter.widget-view+json": {
       "model_id": "6780934140884ab088752d5112b9d841",
       "version_major": 2,
       "version_minor": 0
      },
      "text/plain": [
       "0/190           ETA: ?s - "
      ]
     },
     "metadata": {},
     "output_type": "display_data"
    },
    {
     "name": "stdout",
     "output_type": "stream",
     "text": [
      "Epoch 104/500\n"
     ]
    },
    {
     "data": {
      "application/vnd.jupyter.widget-view+json": {
       "model_id": "1c245c256cf040148c593ce24df2d7f0",
       "version_major": 2,
       "version_minor": 0
      },
      "text/plain": [
       "0/190           ETA: ?s - "
      ]
     },
     "metadata": {},
     "output_type": "display_data"
    },
    {
     "name": "stdout",
     "output_type": "stream",
     "text": [
      "Epoch 105/500\n"
     ]
    },
    {
     "data": {
      "application/vnd.jupyter.widget-view+json": {
       "model_id": "5cd3e620b40743948729dd2ab2a2c5e7",
       "version_major": 2,
       "version_minor": 0
      },
      "text/plain": [
       "0/190           ETA: ?s - "
      ]
     },
     "metadata": {},
     "output_type": "display_data"
    },
    {
     "name": "stdout",
     "output_type": "stream",
     "text": [
      "Epoch 106/500\n"
     ]
    },
    {
     "data": {
      "application/vnd.jupyter.widget-view+json": {
       "model_id": "4f1b2e7a5c714a559e4b6ef1795faa37",
       "version_major": 2,
       "version_minor": 0
      },
      "text/plain": [
       "0/190           ETA: ?s - "
      ]
     },
     "metadata": {},
     "output_type": "display_data"
    },
    {
     "name": "stdout",
     "output_type": "stream",
     "text": [
      "Epoch 107/500\n"
     ]
    },
    {
     "data": {
      "application/vnd.jupyter.widget-view+json": {
       "model_id": "9997d0d3e7834418911e437c3add1f0b",
       "version_major": 2,
       "version_minor": 0
      },
      "text/plain": [
       "0/190           ETA: ?s - "
      ]
     },
     "metadata": {},
     "output_type": "display_data"
    },
    {
     "name": "stdout",
     "output_type": "stream",
     "text": [
      "Epoch 108/500\n"
     ]
    },
    {
     "data": {
      "application/vnd.jupyter.widget-view+json": {
       "model_id": "83c352ce9c4243829ff34f8312daf37c",
       "version_major": 2,
       "version_minor": 0
      },
      "text/plain": [
       "0/190           ETA: ?s - "
      ]
     },
     "metadata": {},
     "output_type": "display_data"
    },
    {
     "name": "stdout",
     "output_type": "stream",
     "text": [
      "Epoch 109/500\n"
     ]
    },
    {
     "data": {
      "application/vnd.jupyter.widget-view+json": {
       "model_id": "287f824a86564cb392a56e9e1484028c",
       "version_major": 2,
       "version_minor": 0
      },
      "text/plain": [
       "0/190           ETA: ?s - "
      ]
     },
     "metadata": {},
     "output_type": "display_data"
    },
    {
     "name": "stdout",
     "output_type": "stream",
     "text": [
      "Epoch 110/500\n"
     ]
    },
    {
     "data": {
      "application/vnd.jupyter.widget-view+json": {
       "model_id": "d0f02a2291df490c831d60d2cf9cfe66",
       "version_major": 2,
       "version_minor": 0
      },
      "text/plain": [
       "0/190           ETA: ?s - "
      ]
     },
     "metadata": {},
     "output_type": "display_data"
    },
    {
     "name": "stdout",
     "output_type": "stream",
     "text": [
      "Epoch 111/500\n"
     ]
    },
    {
     "data": {
      "application/vnd.jupyter.widget-view+json": {
       "model_id": "4e0a91e77ed1440ea4774fc00ca1f7ff",
       "version_major": 2,
       "version_minor": 0
      },
      "text/plain": [
       "0/190           ETA: ?s - "
      ]
     },
     "metadata": {},
     "output_type": "display_data"
    },
    {
     "name": "stdout",
     "output_type": "stream",
     "text": [
      "Epoch 112/500\n"
     ]
    },
    {
     "data": {
      "application/vnd.jupyter.widget-view+json": {
       "model_id": "86c55384e4974fd8a870670e7b46aa84",
       "version_major": 2,
       "version_minor": 0
      },
      "text/plain": [
       "0/190           ETA: ?s - "
      ]
     },
     "metadata": {},
     "output_type": "display_data"
    },
    {
     "name": "stdout",
     "output_type": "stream",
     "text": [
      "Epoch 113/500\n"
     ]
    },
    {
     "data": {
      "application/vnd.jupyter.widget-view+json": {
       "model_id": "7c4a3588ed96446cb2db8625c70111fb",
       "version_major": 2,
       "version_minor": 0
      },
      "text/plain": [
       "0/190           ETA: ?s - "
      ]
     },
     "metadata": {},
     "output_type": "display_data"
    },
    {
     "name": "stdout",
     "output_type": "stream",
     "text": [
      "Epoch 114/500\n"
     ]
    },
    {
     "data": {
      "application/vnd.jupyter.widget-view+json": {
       "model_id": "238550b6171c4968aa84bc01d6495fe4",
       "version_major": 2,
       "version_minor": 0
      },
      "text/plain": [
       "0/190           ETA: ?s - "
      ]
     },
     "metadata": {},
     "output_type": "display_data"
    },
    {
     "name": "stdout",
     "output_type": "stream",
     "text": [
      "Epoch 115/500\n"
     ]
    },
    {
     "data": {
      "application/vnd.jupyter.widget-view+json": {
       "model_id": "573f5aadd8f84f5e948d0fe4fa5f42c0",
       "version_major": 2,
       "version_minor": 0
      },
      "text/plain": [
       "0/190           ETA: ?s - "
      ]
     },
     "metadata": {},
     "output_type": "display_data"
    },
    {
     "name": "stdout",
     "output_type": "stream",
     "text": [
      "Epoch 116/500\n"
     ]
    },
    {
     "data": {
      "application/vnd.jupyter.widget-view+json": {
       "model_id": "a4452c5049d14938a977fdc699bb59b7",
       "version_major": 2,
       "version_minor": 0
      },
      "text/plain": [
       "0/190           ETA: ?s - "
      ]
     },
     "metadata": {},
     "output_type": "display_data"
    },
    {
     "name": "stdout",
     "output_type": "stream",
     "text": [
      "Epoch 117/500\n"
     ]
    },
    {
     "data": {
      "application/vnd.jupyter.widget-view+json": {
       "model_id": "f574521ec008496f8f4308f37885dd42",
       "version_major": 2,
       "version_minor": 0
      },
      "text/plain": [
       "0/190           ETA: ?s - "
      ]
     },
     "metadata": {},
     "output_type": "display_data"
    },
    {
     "name": "stdout",
     "output_type": "stream",
     "text": [
      "Epoch 118/500\n"
     ]
    },
    {
     "data": {
      "application/vnd.jupyter.widget-view+json": {
       "model_id": "8a309ce206144e188fa57d9b76c5035e",
       "version_major": 2,
       "version_minor": 0
      },
      "text/plain": [
       "0/190           ETA: ?s - "
      ]
     },
     "metadata": {},
     "output_type": "display_data"
    },
    {
     "name": "stdout",
     "output_type": "stream",
     "text": [
      "Epoch 119/500\n"
     ]
    },
    {
     "data": {
      "application/vnd.jupyter.widget-view+json": {
       "model_id": "2363ffb593ff465ca49353497011561b",
       "version_major": 2,
       "version_minor": 0
      },
      "text/plain": [
       "0/190           ETA: ?s - "
      ]
     },
     "metadata": {},
     "output_type": "display_data"
    },
    {
     "name": "stdout",
     "output_type": "stream",
     "text": [
      "Epoch 120/500\n"
     ]
    },
    {
     "data": {
      "application/vnd.jupyter.widget-view+json": {
       "model_id": "150ced8638a045d987a8a630f5d4429a",
       "version_major": 2,
       "version_minor": 0
      },
      "text/plain": [
       "0/190           ETA: ?s - "
      ]
     },
     "metadata": {},
     "output_type": "display_data"
    },
    {
     "name": "stdout",
     "output_type": "stream",
     "text": [
      "Epoch 121/500\n"
     ]
    },
    {
     "data": {
      "application/vnd.jupyter.widget-view+json": {
       "model_id": "6ff9f5e72b754a03bccb7d8b1f726aec",
       "version_major": 2,
       "version_minor": 0
      },
      "text/plain": [
       "0/190           ETA: ?s - "
      ]
     },
     "metadata": {},
     "output_type": "display_data"
    },
    {
     "name": "stdout",
     "output_type": "stream",
     "text": [
      "Epoch 122/500\n"
     ]
    },
    {
     "data": {
      "application/vnd.jupyter.widget-view+json": {
       "model_id": "a2e5c9a4433d4771ba659b8ce0b98b85",
       "version_major": 2,
       "version_minor": 0
      },
      "text/plain": [
       "0/190           ETA: ?s - "
      ]
     },
     "metadata": {},
     "output_type": "display_data"
    },
    {
     "name": "stdout",
     "output_type": "stream",
     "text": [
      "Epoch 123/500\n"
     ]
    },
    {
     "data": {
      "application/vnd.jupyter.widget-view+json": {
       "model_id": "bdb5acbe9583434a97dfbff8fbe4549a",
       "version_major": 2,
       "version_minor": 0
      },
      "text/plain": [
       "0/190           ETA: ?s - "
      ]
     },
     "metadata": {},
     "output_type": "display_data"
    },
    {
     "name": "stdout",
     "output_type": "stream",
     "text": [
      "Epoch 124/500\n"
     ]
    },
    {
     "data": {
      "application/vnd.jupyter.widget-view+json": {
       "model_id": "8b7a08df34ee41219f582dd69ab721b0",
       "version_major": 2,
       "version_minor": 0
      },
      "text/plain": [
       "0/190           ETA: ?s - "
      ]
     },
     "metadata": {},
     "output_type": "display_data"
    },
    {
     "name": "stdout",
     "output_type": "stream",
     "text": [
      "Epoch 125/500\n"
     ]
    },
    {
     "data": {
      "application/vnd.jupyter.widget-view+json": {
       "model_id": "dd33fdb4406d4ed784825741dc1b1fbe",
       "version_major": 2,
       "version_minor": 0
      },
      "text/plain": [
       "0/190           ETA: ?s - "
      ]
     },
     "metadata": {},
     "output_type": "display_data"
    },
    {
     "name": "stdout",
     "output_type": "stream",
     "text": [
      "Epoch 126/500\n"
     ]
    },
    {
     "data": {
      "application/vnd.jupyter.widget-view+json": {
       "model_id": "0142becbf95b4bd7b1fd26e674f2ecd8",
       "version_major": 2,
       "version_minor": 0
      },
      "text/plain": [
       "0/190           ETA: ?s - "
      ]
     },
     "metadata": {},
     "output_type": "display_data"
    },
    {
     "name": "stdout",
     "output_type": "stream",
     "text": [
      "Epoch 127/500\n"
     ]
    },
    {
     "data": {
      "application/vnd.jupyter.widget-view+json": {
       "model_id": "5836dae763b347ecb4f97e0bd5855961",
       "version_major": 2,
       "version_minor": 0
      },
      "text/plain": [
       "0/190           ETA: ?s - "
      ]
     },
     "metadata": {},
     "output_type": "display_data"
    },
    {
     "name": "stdout",
     "output_type": "stream",
     "text": [
      "Epoch 128/500\n"
     ]
    },
    {
     "data": {
      "application/vnd.jupyter.widget-view+json": {
       "model_id": "961db17b162246248afa82d55526a370",
       "version_major": 2,
       "version_minor": 0
      },
      "text/plain": [
       "0/190           ETA: ?s - "
      ]
     },
     "metadata": {},
     "output_type": "display_data"
    },
    {
     "name": "stdout",
     "output_type": "stream",
     "text": [
      "Epoch 129/500\n"
     ]
    },
    {
     "data": {
      "application/vnd.jupyter.widget-view+json": {
       "model_id": "c17c4873a41147fd87291a69f38bdbef",
       "version_major": 2,
       "version_minor": 0
      },
      "text/plain": [
       "0/190           ETA: ?s - "
      ]
     },
     "metadata": {},
     "output_type": "display_data"
    },
    {
     "name": "stdout",
     "output_type": "stream",
     "text": [
      "Epoch 130/500\n"
     ]
    },
    {
     "data": {
      "application/vnd.jupyter.widget-view+json": {
       "model_id": "6cb0233d51ee4e59a819e80116c3c947",
       "version_major": 2,
       "version_minor": 0
      },
      "text/plain": [
       "0/190           ETA: ?s - "
      ]
     },
     "metadata": {},
     "output_type": "display_data"
    },
    {
     "name": "stdout",
     "output_type": "stream",
     "text": [
      "Epoch 131/500\n"
     ]
    },
    {
     "data": {
      "application/vnd.jupyter.widget-view+json": {
       "model_id": "457806ea4a14400c985482548347d661",
       "version_major": 2,
       "version_minor": 0
      },
      "text/plain": [
       "0/190           ETA: ?s - "
      ]
     },
     "metadata": {},
     "output_type": "display_data"
    },
    {
     "name": "stdout",
     "output_type": "stream",
     "text": [
      "Epoch 132/500\n"
     ]
    },
    {
     "data": {
      "application/vnd.jupyter.widget-view+json": {
       "model_id": "3b0dee18686447e29a197414aa1f46dd",
       "version_major": 2,
       "version_minor": 0
      },
      "text/plain": [
       "0/190           ETA: ?s - "
      ]
     },
     "metadata": {},
     "output_type": "display_data"
    },
    {
     "name": "stdout",
     "output_type": "stream",
     "text": [
      "Epoch 133/500\n"
     ]
    },
    {
     "data": {
      "application/vnd.jupyter.widget-view+json": {
       "model_id": "b8e704364c2241ae997ee2f7f328cfbe",
       "version_major": 2,
       "version_minor": 0
      },
      "text/plain": [
       "0/190           ETA: ?s - "
      ]
     },
     "metadata": {},
     "output_type": "display_data"
    },
    {
     "name": "stdout",
     "output_type": "stream",
     "text": [
      "Epoch 134/500\n"
     ]
    },
    {
     "data": {
      "application/vnd.jupyter.widget-view+json": {
       "model_id": "08904420973945c0b478e8da72582a80",
       "version_major": 2,
       "version_minor": 0
      },
      "text/plain": [
       "0/190           ETA: ?s - "
      ]
     },
     "metadata": {},
     "output_type": "display_data"
    },
    {
     "name": "stdout",
     "output_type": "stream",
     "text": [
      "Epoch 135/500\n"
     ]
    },
    {
     "data": {
      "application/vnd.jupyter.widget-view+json": {
       "model_id": "cc9ddc59a7344d188171e7f81d05b225",
       "version_major": 2,
       "version_minor": 0
      },
      "text/plain": [
       "0/190           ETA: ?s - "
      ]
     },
     "metadata": {},
     "output_type": "display_data"
    },
    {
     "name": "stdout",
     "output_type": "stream",
     "text": [
      "Epoch 136/500\n"
     ]
    },
    {
     "data": {
      "application/vnd.jupyter.widget-view+json": {
       "model_id": "92dc3207649748dca3eede7a3d324d5a",
       "version_major": 2,
       "version_minor": 0
      },
      "text/plain": [
       "0/190           ETA: ?s - "
      ]
     },
     "metadata": {},
     "output_type": "display_data"
    },
    {
     "name": "stdout",
     "output_type": "stream",
     "text": [
      "Epoch 137/500\n"
     ]
    },
    {
     "data": {
      "application/vnd.jupyter.widget-view+json": {
       "model_id": "32017efa6d374d8fafdbc859961c4f7b",
       "version_major": 2,
       "version_minor": 0
      },
      "text/plain": [
       "0/190           ETA: ?s - "
      ]
     },
     "metadata": {},
     "output_type": "display_data"
    },
    {
     "name": "stdout",
     "output_type": "stream",
     "text": [
      "Epoch 138/500\n"
     ]
    },
    {
     "data": {
      "application/vnd.jupyter.widget-view+json": {
       "model_id": "0995c983918642da94fdef57ed17f036",
       "version_major": 2,
       "version_minor": 0
      },
      "text/plain": [
       "0/190           ETA: ?s - "
      ]
     },
     "metadata": {},
     "output_type": "display_data"
    },
    {
     "name": "stdout",
     "output_type": "stream",
     "text": [
      "Epoch 139/500\n"
     ]
    },
    {
     "data": {
      "application/vnd.jupyter.widget-view+json": {
       "model_id": "428d8af4b7234f08862c989a7f81f6b7",
       "version_major": 2,
       "version_minor": 0
      },
      "text/plain": [
       "0/190           ETA: ?s - "
      ]
     },
     "metadata": {},
     "output_type": "display_data"
    },
    {
     "name": "stdout",
     "output_type": "stream",
     "text": [
      "Epoch 140/500\n"
     ]
    },
    {
     "data": {
      "application/vnd.jupyter.widget-view+json": {
       "model_id": "c7080ac05f9449cda57a76d253255733",
       "version_major": 2,
       "version_minor": 0
      },
      "text/plain": [
       "0/190           ETA: ?s - "
      ]
     },
     "metadata": {},
     "output_type": "display_data"
    },
    {
     "name": "stdout",
     "output_type": "stream",
     "text": [
      "Epoch 141/500\n"
     ]
    },
    {
     "data": {
      "application/vnd.jupyter.widget-view+json": {
       "model_id": "f9b80bff4166403eae8d9b8edc40e3ac",
       "version_major": 2,
       "version_minor": 0
      },
      "text/plain": [
       "0/190           ETA: ?s - "
      ]
     },
     "metadata": {},
     "output_type": "display_data"
    },
    {
     "name": "stdout",
     "output_type": "stream",
     "text": [
      "Epoch 142/500\n"
     ]
    },
    {
     "data": {
      "application/vnd.jupyter.widget-view+json": {
       "model_id": "88e5bfc58d884d80b80147af44b4d41f",
       "version_major": 2,
       "version_minor": 0
      },
      "text/plain": [
       "0/190           ETA: ?s - "
      ]
     },
     "metadata": {},
     "output_type": "display_data"
    },
    {
     "name": "stdout",
     "output_type": "stream",
     "text": [
      "Epoch 143/500\n"
     ]
    },
    {
     "data": {
      "application/vnd.jupyter.widget-view+json": {
       "model_id": "74cf78e99771474cbe29bf8c20706fcb",
       "version_major": 2,
       "version_minor": 0
      },
      "text/plain": [
       "0/190           ETA: ?s - "
      ]
     },
     "metadata": {},
     "output_type": "display_data"
    },
    {
     "name": "stdout",
     "output_type": "stream",
     "text": [
      "Epoch 144/500\n"
     ]
    },
    {
     "data": {
      "application/vnd.jupyter.widget-view+json": {
       "model_id": "4a7bdb91ca32457ebaac889b703da2e7",
       "version_major": 2,
       "version_minor": 0
      },
      "text/plain": [
       "0/190           ETA: ?s - "
      ]
     },
     "metadata": {},
     "output_type": "display_data"
    },
    {
     "name": "stdout",
     "output_type": "stream",
     "text": [
      "Epoch 145/500\n"
     ]
    },
    {
     "data": {
      "application/vnd.jupyter.widget-view+json": {
       "model_id": "457ac3f4133d40fb8ec46c5570ca8e05",
       "version_major": 2,
       "version_minor": 0
      },
      "text/plain": [
       "0/190           ETA: ?s - "
      ]
     },
     "metadata": {},
     "output_type": "display_data"
    },
    {
     "name": "stdout",
     "output_type": "stream",
     "text": [
      "Epoch 146/500\n"
     ]
    },
    {
     "data": {
      "application/vnd.jupyter.widget-view+json": {
       "model_id": "bf32e93e519e481bbe85c4cc3dcc6eef",
       "version_major": 2,
       "version_minor": 0
      },
      "text/plain": [
       "0/190           ETA: ?s - "
      ]
     },
     "metadata": {},
     "output_type": "display_data"
    },
    {
     "name": "stdout",
     "output_type": "stream",
     "text": [
      "Epoch 147/500\n"
     ]
    },
    {
     "data": {
      "application/vnd.jupyter.widget-view+json": {
       "model_id": "06ed8498d4a84de7a7a20df44f405f22",
       "version_major": 2,
       "version_minor": 0
      },
      "text/plain": [
       "0/190           ETA: ?s - "
      ]
     },
     "metadata": {},
     "output_type": "display_data"
    },
    {
     "name": "stdout",
     "output_type": "stream",
     "text": [
      "Epoch 148/500\n"
     ]
    },
    {
     "data": {
      "application/vnd.jupyter.widget-view+json": {
       "model_id": "ec61b636b3af4e3890a9c630ae7a9aa4",
       "version_major": 2,
       "version_minor": 0
      },
      "text/plain": [
       "0/190           ETA: ?s - "
      ]
     },
     "metadata": {},
     "output_type": "display_data"
    },
    {
     "name": "stdout",
     "output_type": "stream",
     "text": [
      "Epoch 149/500\n"
     ]
    },
    {
     "data": {
      "application/vnd.jupyter.widget-view+json": {
       "model_id": "0fd8b5c0001947c19c4e34e358613cf4",
       "version_major": 2,
       "version_minor": 0
      },
      "text/plain": [
       "0/190           ETA: ?s - "
      ]
     },
     "metadata": {},
     "output_type": "display_data"
    },
    {
     "name": "stdout",
     "output_type": "stream",
     "text": [
      "Epoch 150/500\n"
     ]
    },
    {
     "data": {
      "application/vnd.jupyter.widget-view+json": {
       "model_id": "ce0b105210e149da99f91cc4a8af2612",
       "version_major": 2,
       "version_minor": 0
      },
      "text/plain": [
       "0/190           ETA: ?s - "
      ]
     },
     "metadata": {},
     "output_type": "display_data"
    },
    {
     "name": "stdout",
     "output_type": "stream",
     "text": [
      "Epoch 151/500\n"
     ]
    },
    {
     "data": {
      "application/vnd.jupyter.widget-view+json": {
       "model_id": "e47328cf900e4a009918387832651469",
       "version_major": 2,
       "version_minor": 0
      },
      "text/plain": [
       "0/190           ETA: ?s - "
      ]
     },
     "metadata": {},
     "output_type": "display_data"
    },
    {
     "name": "stdout",
     "output_type": "stream",
     "text": [
      "Epoch 152/500\n"
     ]
    },
    {
     "data": {
      "application/vnd.jupyter.widget-view+json": {
       "model_id": "66979e5fe62342c99a315b41ed07d9d0",
       "version_major": 2,
       "version_minor": 0
      },
      "text/plain": [
       "0/190           ETA: ?s - "
      ]
     },
     "metadata": {},
     "output_type": "display_data"
    },
    {
     "name": "stdout",
     "output_type": "stream",
     "text": [
      "Epoch 153/500\n"
     ]
    },
    {
     "data": {
      "application/vnd.jupyter.widget-view+json": {
       "model_id": "64e2663771184984ae78d6f2c9308ffa",
       "version_major": 2,
       "version_minor": 0
      },
      "text/plain": [
       "0/190           ETA: ?s - "
      ]
     },
     "metadata": {},
     "output_type": "display_data"
    },
    {
     "name": "stdout",
     "output_type": "stream",
     "text": [
      "Epoch 154/500\n"
     ]
    },
    {
     "data": {
      "application/vnd.jupyter.widget-view+json": {
       "model_id": "9320b96d3c0e48c4839907674e17d817",
       "version_major": 2,
       "version_minor": 0
      },
      "text/plain": [
       "0/190           ETA: ?s - "
      ]
     },
     "metadata": {},
     "output_type": "display_data"
    },
    {
     "name": "stdout",
     "output_type": "stream",
     "text": [
      "Epoch 155/500\n"
     ]
    },
    {
     "data": {
      "application/vnd.jupyter.widget-view+json": {
       "model_id": "ee8ba164caa64c958db481b433af168f",
       "version_major": 2,
       "version_minor": 0
      },
      "text/plain": [
       "0/190           ETA: ?s - "
      ]
     },
     "metadata": {},
     "output_type": "display_data"
    },
    {
     "name": "stdout",
     "output_type": "stream",
     "text": [
      "Epoch 156/500\n"
     ]
    },
    {
     "data": {
      "application/vnd.jupyter.widget-view+json": {
       "model_id": "0c20bcbf71ac4435b41bf3ab79fdefd5",
       "version_major": 2,
       "version_minor": 0
      },
      "text/plain": [
       "0/190           ETA: ?s - "
      ]
     },
     "metadata": {},
     "output_type": "display_data"
    },
    {
     "name": "stdout",
     "output_type": "stream",
     "text": [
      "Epoch 157/500\n"
     ]
    },
    {
     "data": {
      "application/vnd.jupyter.widget-view+json": {
       "model_id": "3ef42627b5604783bdc7e8de1290206f",
       "version_major": 2,
       "version_minor": 0
      },
      "text/plain": [
       "0/190           ETA: ?s - "
      ]
     },
     "metadata": {},
     "output_type": "display_data"
    },
    {
     "name": "stdout",
     "output_type": "stream",
     "text": [
      "Epoch 158/500\n"
     ]
    },
    {
     "data": {
      "application/vnd.jupyter.widget-view+json": {
       "model_id": "189ddb9d29dc440a9f668649b6d2f3bf",
       "version_major": 2,
       "version_minor": 0
      },
      "text/plain": [
       "0/190           ETA: ?s - "
      ]
     },
     "metadata": {},
     "output_type": "display_data"
    },
    {
     "name": "stdout",
     "output_type": "stream",
     "text": [
      "Epoch 159/500\n"
     ]
    },
    {
     "data": {
      "application/vnd.jupyter.widget-view+json": {
       "model_id": "e5fe68919a07461a93f55296dfa63503",
       "version_major": 2,
       "version_minor": 0
      },
      "text/plain": [
       "0/190           ETA: ?s - "
      ]
     },
     "metadata": {},
     "output_type": "display_data"
    },
    {
     "name": "stdout",
     "output_type": "stream",
     "text": [
      "Epoch 160/500\n"
     ]
    },
    {
     "data": {
      "application/vnd.jupyter.widget-view+json": {
       "model_id": "5f92e9f2c8df44b68d41215499748313",
       "version_major": 2,
       "version_minor": 0
      },
      "text/plain": [
       "0/190           ETA: ?s - "
      ]
     },
     "metadata": {},
     "output_type": "display_data"
    },
    {
     "name": "stdout",
     "output_type": "stream",
     "text": [
      "Epoch 161/500\n"
     ]
    },
    {
     "data": {
      "application/vnd.jupyter.widget-view+json": {
       "model_id": "38664ca70eb949bd91015dfa84d64fd2",
       "version_major": 2,
       "version_minor": 0
      },
      "text/plain": [
       "0/190           ETA: ?s - "
      ]
     },
     "metadata": {},
     "output_type": "display_data"
    },
    {
     "name": "stdout",
     "output_type": "stream",
     "text": [
      "Epoch 162/500\n"
     ]
    },
    {
     "data": {
      "application/vnd.jupyter.widget-view+json": {
       "model_id": "7be74623eaa74fb48c6ffc11896611b7",
       "version_major": 2,
       "version_minor": 0
      },
      "text/plain": [
       "0/190           ETA: ?s - "
      ]
     },
     "metadata": {},
     "output_type": "display_data"
    },
    {
     "name": "stdout",
     "output_type": "stream",
     "text": [
      "Epoch 163/500\n"
     ]
    },
    {
     "data": {
      "application/vnd.jupyter.widget-view+json": {
       "model_id": "2e3dc34ae2fb42d2aed640740b4d547d",
       "version_major": 2,
       "version_minor": 0
      },
      "text/plain": [
       "0/190           ETA: ?s - "
      ]
     },
     "metadata": {},
     "output_type": "display_data"
    },
    {
     "name": "stdout",
     "output_type": "stream",
     "text": [
      "Epoch 164/500\n"
     ]
    },
    {
     "data": {
      "application/vnd.jupyter.widget-view+json": {
       "model_id": "9510b1c2e759452aac283b10e79b15e5",
       "version_major": 2,
       "version_minor": 0
      },
      "text/plain": [
       "0/190           ETA: ?s - "
      ]
     },
     "metadata": {},
     "output_type": "display_data"
    },
    {
     "name": "stdout",
     "output_type": "stream",
     "text": [
      "Epoch 165/500\n"
     ]
    },
    {
     "data": {
      "application/vnd.jupyter.widget-view+json": {
       "model_id": "6615f7c388d042b5bfb593db6da124c6",
       "version_major": 2,
       "version_minor": 0
      },
      "text/plain": [
       "0/190           ETA: ?s - "
      ]
     },
     "metadata": {},
     "output_type": "display_data"
    },
    {
     "name": "stdout",
     "output_type": "stream",
     "text": [
      "Epoch 166/500\n"
     ]
    },
    {
     "data": {
      "application/vnd.jupyter.widget-view+json": {
       "model_id": "160ce15875c84442ad853a2676eaaf9e",
       "version_major": 2,
       "version_minor": 0
      },
      "text/plain": [
       "0/190           ETA: ?s - "
      ]
     },
     "metadata": {},
     "output_type": "display_data"
    },
    {
     "name": "stdout",
     "output_type": "stream",
     "text": [
      "Epoch 167/500\n"
     ]
    },
    {
     "data": {
      "application/vnd.jupyter.widget-view+json": {
       "model_id": "d99b1b27bd7f45f7b7a89c2993b36432",
       "version_major": 2,
       "version_minor": 0
      },
      "text/plain": [
       "0/190           ETA: ?s - "
      ]
     },
     "metadata": {},
     "output_type": "display_data"
    },
    {
     "name": "stdout",
     "output_type": "stream",
     "text": [
      "Epoch 168/500\n"
     ]
    },
    {
     "data": {
      "application/vnd.jupyter.widget-view+json": {
       "model_id": "205c5cd78d994da68e1f86287d530007",
       "version_major": 2,
       "version_minor": 0
      },
      "text/plain": [
       "0/190           ETA: ?s - "
      ]
     },
     "metadata": {},
     "output_type": "display_data"
    },
    {
     "name": "stdout",
     "output_type": "stream",
     "text": [
      "Epoch 169/500\n"
     ]
    },
    {
     "data": {
      "application/vnd.jupyter.widget-view+json": {
       "model_id": "9ce41d92bf654a229b8c739689ee8b6a",
       "version_major": 2,
       "version_minor": 0
      },
      "text/plain": [
       "0/190           ETA: ?s - "
      ]
     },
     "metadata": {},
     "output_type": "display_data"
    },
    {
     "name": "stdout",
     "output_type": "stream",
     "text": [
      "Epoch 170/500\n"
     ]
    },
    {
     "data": {
      "application/vnd.jupyter.widget-view+json": {
       "model_id": "609c7e79ec59466896a957c6125c0ed6",
       "version_major": 2,
       "version_minor": 0
      },
      "text/plain": [
       "0/190           ETA: ?s - "
      ]
     },
     "metadata": {},
     "output_type": "display_data"
    },
    {
     "name": "stdout",
     "output_type": "stream",
     "text": [
      "Epoch 171/500\n"
     ]
    },
    {
     "data": {
      "application/vnd.jupyter.widget-view+json": {
       "model_id": "eabdaddb634840db89dcd90b0c7fd299",
       "version_major": 2,
       "version_minor": 0
      },
      "text/plain": [
       "0/190           ETA: ?s - "
      ]
     },
     "metadata": {},
     "output_type": "display_data"
    },
    {
     "name": "stdout",
     "output_type": "stream",
     "text": [
      "Epoch 172/500\n"
     ]
    },
    {
     "data": {
      "application/vnd.jupyter.widget-view+json": {
       "model_id": "1457f740d287463c9cfb8702d8bac225",
       "version_major": 2,
       "version_minor": 0
      },
      "text/plain": [
       "0/190           ETA: ?s - "
      ]
     },
     "metadata": {},
     "output_type": "display_data"
    },
    {
     "name": "stdout",
     "output_type": "stream",
     "text": [
      "Epoch 173/500\n"
     ]
    },
    {
     "data": {
      "application/vnd.jupyter.widget-view+json": {
       "model_id": "294176ebc2154bb2afbc0488064a8870",
       "version_major": 2,
       "version_minor": 0
      },
      "text/plain": [
       "0/190           ETA: ?s - "
      ]
     },
     "metadata": {},
     "output_type": "display_data"
    },
    {
     "name": "stdout",
     "output_type": "stream",
     "text": [
      "Epoch 174/500\n"
     ]
    },
    {
     "data": {
      "application/vnd.jupyter.widget-view+json": {
       "model_id": "83c10b46c3cc4765bbd46b3938127a10",
       "version_major": 2,
       "version_minor": 0
      },
      "text/plain": [
       "0/190           ETA: ?s - "
      ]
     },
     "metadata": {},
     "output_type": "display_data"
    },
    {
     "name": "stdout",
     "output_type": "stream",
     "text": [
      "Epoch 175/500\n"
     ]
    },
    {
     "data": {
      "application/vnd.jupyter.widget-view+json": {
       "model_id": "44427fc6c7ff46b3b9ba74ea9a09945b",
       "version_major": 2,
       "version_minor": 0
      },
      "text/plain": [
       "0/190           ETA: ?s - "
      ]
     },
     "metadata": {},
     "output_type": "display_data"
    },
    {
     "name": "stdout",
     "output_type": "stream",
     "text": [
      "Epoch 176/500\n"
     ]
    },
    {
     "data": {
      "application/vnd.jupyter.widget-view+json": {
       "model_id": "279f3e66abd8405e860612f540997d0f",
       "version_major": 2,
       "version_minor": 0
      },
      "text/plain": [
       "0/190           ETA: ?s - "
      ]
     },
     "metadata": {},
     "output_type": "display_data"
    },
    {
     "name": "stdout",
     "output_type": "stream",
     "text": [
      "Epoch 177/500\n"
     ]
    },
    {
     "data": {
      "application/vnd.jupyter.widget-view+json": {
       "model_id": "5579cb9655514494a3a03160439dd0bc",
       "version_major": 2,
       "version_minor": 0
      },
      "text/plain": [
       "0/190           ETA: ?s - "
      ]
     },
     "metadata": {},
     "output_type": "display_data"
    },
    {
     "name": "stdout",
     "output_type": "stream",
     "text": [
      "Epoch 178/500\n"
     ]
    },
    {
     "data": {
      "application/vnd.jupyter.widget-view+json": {
       "model_id": "221274fa0c1446519874ce0276eb83bc",
       "version_major": 2,
       "version_minor": 0
      },
      "text/plain": [
       "0/190           ETA: ?s - "
      ]
     },
     "metadata": {},
     "output_type": "display_data"
    },
    {
     "name": "stdout",
     "output_type": "stream",
     "text": [
      "Epoch 179/500\n"
     ]
    },
    {
     "data": {
      "application/vnd.jupyter.widget-view+json": {
       "model_id": "02c94623e91b4d9fb261477c013a311c",
       "version_major": 2,
       "version_minor": 0
      },
      "text/plain": [
       "0/190           ETA: ?s - "
      ]
     },
     "metadata": {},
     "output_type": "display_data"
    },
    {
     "name": "stdout",
     "output_type": "stream",
     "text": [
      "Epoch 180/500\n"
     ]
    },
    {
     "data": {
      "application/vnd.jupyter.widget-view+json": {
       "model_id": "1c30b35a4ec14ba9b5a20080b8440aec",
       "version_major": 2,
       "version_minor": 0
      },
      "text/plain": [
       "0/190           ETA: ?s - "
      ]
     },
     "metadata": {},
     "output_type": "display_data"
    },
    {
     "name": "stdout",
     "output_type": "stream",
     "text": [
      "Epoch 181/500\n"
     ]
    },
    {
     "data": {
      "application/vnd.jupyter.widget-view+json": {
       "model_id": "fd527f2d18b34eba84447de35e1b7030",
       "version_major": 2,
       "version_minor": 0
      },
      "text/plain": [
       "0/190           ETA: ?s - "
      ]
     },
     "metadata": {},
     "output_type": "display_data"
    },
    {
     "name": "stdout",
     "output_type": "stream",
     "text": [
      "Epoch 182/500\n"
     ]
    },
    {
     "data": {
      "application/vnd.jupyter.widget-view+json": {
       "model_id": "772f96a4292e4bc8981bd0e9acb7507d",
       "version_major": 2,
       "version_minor": 0
      },
      "text/plain": [
       "0/190           ETA: ?s - "
      ]
     },
     "metadata": {},
     "output_type": "display_data"
    },
    {
     "name": "stdout",
     "output_type": "stream",
     "text": [
      "Epoch 183/500\n"
     ]
    },
    {
     "data": {
      "application/vnd.jupyter.widget-view+json": {
       "model_id": "61282be2a6fe4ad9aa7ada543c6201a8",
       "version_major": 2,
       "version_minor": 0
      },
      "text/plain": [
       "0/190           ETA: ?s - "
      ]
     },
     "metadata": {},
     "output_type": "display_data"
    },
    {
     "name": "stdout",
     "output_type": "stream",
     "text": [
      "Epoch 184/500\n"
     ]
    },
    {
     "data": {
      "application/vnd.jupyter.widget-view+json": {
       "model_id": "aeeeb3a7f0c8420698e458924c4396c0",
       "version_major": 2,
       "version_minor": 0
      },
      "text/plain": [
       "0/190           ETA: ?s - "
      ]
     },
     "metadata": {},
     "output_type": "display_data"
    },
    {
     "name": "stdout",
     "output_type": "stream",
     "text": [
      "Epoch 185/500\n"
     ]
    },
    {
     "data": {
      "application/vnd.jupyter.widget-view+json": {
       "model_id": "d5d81e96f7c34e6a917f8cddd7a93d62",
       "version_major": 2,
       "version_minor": 0
      },
      "text/plain": [
       "0/190           ETA: ?s - "
      ]
     },
     "metadata": {},
     "output_type": "display_data"
    },
    {
     "name": "stdout",
     "output_type": "stream",
     "text": [
      "Epoch 186/500\n"
     ]
    },
    {
     "data": {
      "application/vnd.jupyter.widget-view+json": {
       "model_id": "82a2686ecef54608a78f175411db73c5",
       "version_major": 2,
       "version_minor": 0
      },
      "text/plain": [
       "0/190           ETA: ?s - "
      ]
     },
     "metadata": {},
     "output_type": "display_data"
    },
    {
     "name": "stdout",
     "output_type": "stream",
     "text": [
      "Epoch 187/500\n"
     ]
    },
    {
     "data": {
      "application/vnd.jupyter.widget-view+json": {
       "model_id": "91e71ece779a40e4a7b4b56e98cc8980",
       "version_major": 2,
       "version_minor": 0
      },
      "text/plain": [
       "0/190           ETA: ?s - "
      ]
     },
     "metadata": {},
     "output_type": "display_data"
    },
    {
     "name": "stdout",
     "output_type": "stream",
     "text": [
      "Epoch 188/500\n"
     ]
    },
    {
     "data": {
      "application/vnd.jupyter.widget-view+json": {
       "model_id": "41bbe3a64a8346ee8a16661bfb2203ce",
       "version_major": 2,
       "version_minor": 0
      },
      "text/plain": [
       "0/190           ETA: ?s - "
      ]
     },
     "metadata": {},
     "output_type": "display_data"
    },
    {
     "name": "stdout",
     "output_type": "stream",
     "text": [
      "Epoch 189/500\n"
     ]
    },
    {
     "data": {
      "application/vnd.jupyter.widget-view+json": {
       "model_id": "f295f24236774f60a1fb4b445d389135",
       "version_major": 2,
       "version_minor": 0
      },
      "text/plain": [
       "0/190           ETA: ?s - "
      ]
     },
     "metadata": {},
     "output_type": "display_data"
    },
    {
     "name": "stdout",
     "output_type": "stream",
     "text": [
      "Epoch 190/500\n"
     ]
    },
    {
     "data": {
      "application/vnd.jupyter.widget-view+json": {
       "model_id": "72adca2c483648f3950e5c8598fb7e46",
       "version_major": 2,
       "version_minor": 0
      },
      "text/plain": [
       "0/190           ETA: ?s - "
      ]
     },
     "metadata": {},
     "output_type": "display_data"
    },
    {
     "name": "stdout",
     "output_type": "stream",
     "text": [
      "Epoch 191/500\n"
     ]
    },
    {
     "data": {
      "application/vnd.jupyter.widget-view+json": {
       "model_id": "5c81b5fb004c4bdeb91d6948a4a3e154",
       "version_major": 2,
       "version_minor": 0
      },
      "text/plain": [
       "0/190           ETA: ?s - "
      ]
     },
     "metadata": {},
     "output_type": "display_data"
    },
    {
     "name": "stdout",
     "output_type": "stream",
     "text": [
      "Epoch 192/500\n"
     ]
    },
    {
     "data": {
      "application/vnd.jupyter.widget-view+json": {
       "model_id": "d18e7aa6ecbb415fa17ce2512938a064",
       "version_major": 2,
       "version_minor": 0
      },
      "text/plain": [
       "0/190           ETA: ?s - "
      ]
     },
     "metadata": {},
     "output_type": "display_data"
    },
    {
     "name": "stdout",
     "output_type": "stream",
     "text": [
      "Epoch 193/500\n"
     ]
    },
    {
     "data": {
      "application/vnd.jupyter.widget-view+json": {
       "model_id": "0e9eadb41f7842acb2c123918da686ab",
       "version_major": 2,
       "version_minor": 0
      },
      "text/plain": [
       "0/190           ETA: ?s - "
      ]
     },
     "metadata": {},
     "output_type": "display_data"
    },
    {
     "name": "stdout",
     "output_type": "stream",
     "text": [
      "Epoch 194/500\n"
     ]
    },
    {
     "data": {
      "application/vnd.jupyter.widget-view+json": {
       "model_id": "94f71e254f41424e8786cb45307a606d",
       "version_major": 2,
       "version_minor": 0
      },
      "text/plain": [
       "0/190           ETA: ?s - "
      ]
     },
     "metadata": {},
     "output_type": "display_data"
    },
    {
     "name": "stdout",
     "output_type": "stream",
     "text": [
      "Epoch 195/500\n"
     ]
    },
    {
     "data": {
      "application/vnd.jupyter.widget-view+json": {
       "model_id": "792e9d6e3b0740948883ea64893da4a5",
       "version_major": 2,
       "version_minor": 0
      },
      "text/plain": [
       "0/190           ETA: ?s - "
      ]
     },
     "metadata": {},
     "output_type": "display_data"
    },
    {
     "name": "stdout",
     "output_type": "stream",
     "text": [
      "Epoch 196/500\n"
     ]
    },
    {
     "data": {
      "application/vnd.jupyter.widget-view+json": {
       "model_id": "1aa259e942ba4c28925c251f1c2127f6",
       "version_major": 2,
       "version_minor": 0
      },
      "text/plain": [
       "0/190           ETA: ?s - "
      ]
     },
     "metadata": {},
     "output_type": "display_data"
    },
    {
     "name": "stdout",
     "output_type": "stream",
     "text": [
      "Epoch 197/500\n"
     ]
    },
    {
     "data": {
      "application/vnd.jupyter.widget-view+json": {
       "model_id": "5aba518eb067473c8e520f2b92d8a384",
       "version_major": 2,
       "version_minor": 0
      },
      "text/plain": [
       "0/190           ETA: ?s - "
      ]
     },
     "metadata": {},
     "output_type": "display_data"
    },
    {
     "name": "stdout",
     "output_type": "stream",
     "text": [
      "Epoch 198/500\n"
     ]
    },
    {
     "data": {
      "application/vnd.jupyter.widget-view+json": {
       "model_id": "4ce541f21812472ebae165f62c8a3a3a",
       "version_major": 2,
       "version_minor": 0
      },
      "text/plain": [
       "0/190           ETA: ?s - "
      ]
     },
     "metadata": {},
     "output_type": "display_data"
    },
    {
     "name": "stdout",
     "output_type": "stream",
     "text": [
      "Epoch 199/500\n"
     ]
    },
    {
     "data": {
      "application/vnd.jupyter.widget-view+json": {
       "model_id": "0d19b2819029445380b0d38a5c19dfa9",
       "version_major": 2,
       "version_minor": 0
      },
      "text/plain": [
       "0/190           ETA: ?s - "
      ]
     },
     "metadata": {},
     "output_type": "display_data"
    },
    {
     "name": "stdout",
     "output_type": "stream",
     "text": [
      "Epoch 200/500\n"
     ]
    },
    {
     "data": {
      "application/vnd.jupyter.widget-view+json": {
       "model_id": "0856484eefa44a528c1f17a2590613a0",
       "version_major": 2,
       "version_minor": 0
      },
      "text/plain": [
       "0/190           ETA: ?s - "
      ]
     },
     "metadata": {},
     "output_type": "display_data"
    },
    {
     "name": "stdout",
     "output_type": "stream",
     "text": [
      "Epoch 201/500\n"
     ]
    },
    {
     "data": {
      "application/vnd.jupyter.widget-view+json": {
       "model_id": "c137f0cd93f54125ba39cf67407bd98b",
       "version_major": 2,
       "version_minor": 0
      },
      "text/plain": [
       "0/190           ETA: ?s - "
      ]
     },
     "metadata": {},
     "output_type": "display_data"
    },
    {
     "name": "stdout",
     "output_type": "stream",
     "text": [
      "Epoch 202/500\n"
     ]
    },
    {
     "data": {
      "application/vnd.jupyter.widget-view+json": {
       "model_id": "6dc16f1e0e9f4d1ba8ac1a9c0d065b04",
       "version_major": 2,
       "version_minor": 0
      },
      "text/plain": [
       "0/190           ETA: ?s - "
      ]
     },
     "metadata": {},
     "output_type": "display_data"
    },
    {
     "name": "stdout",
     "output_type": "stream",
     "text": [
      "Epoch 203/500\n"
     ]
    },
    {
     "data": {
      "application/vnd.jupyter.widget-view+json": {
       "model_id": "b08988f2ebdf4cabb8ba25c720167714",
       "version_major": 2,
       "version_minor": 0
      },
      "text/plain": [
       "0/190           ETA: ?s - "
      ]
     },
     "metadata": {},
     "output_type": "display_data"
    },
    {
     "name": "stdout",
     "output_type": "stream",
     "text": [
      "Epoch 204/500\n"
     ]
    },
    {
     "data": {
      "application/vnd.jupyter.widget-view+json": {
       "model_id": "9dc7ba7dd84d4b9092e7676b9b4be0f9",
       "version_major": 2,
       "version_minor": 0
      },
      "text/plain": [
       "0/190           ETA: ?s - "
      ]
     },
     "metadata": {},
     "output_type": "display_data"
    },
    {
     "name": "stdout",
     "output_type": "stream",
     "text": [
      "Epoch 205/500\n"
     ]
    },
    {
     "data": {
      "application/vnd.jupyter.widget-view+json": {
       "model_id": "76eec57fce71422c958e2bb3160cd911",
       "version_major": 2,
       "version_minor": 0
      },
      "text/plain": [
       "0/190           ETA: ?s - "
      ]
     },
     "metadata": {},
     "output_type": "display_data"
    },
    {
     "name": "stdout",
     "output_type": "stream",
     "text": [
      "Epoch 206/500\n"
     ]
    },
    {
     "data": {
      "application/vnd.jupyter.widget-view+json": {
       "model_id": "b35b9249bd444724b8228e6847ba09fc",
       "version_major": 2,
       "version_minor": 0
      },
      "text/plain": [
       "0/190           ETA: ?s - "
      ]
     },
     "metadata": {},
     "output_type": "display_data"
    },
    {
     "name": "stdout",
     "output_type": "stream",
     "text": [
      "Epoch 207/500\n"
     ]
    },
    {
     "data": {
      "application/vnd.jupyter.widget-view+json": {
       "model_id": "48c77b2057fd4a208408198f4ad7aefd",
       "version_major": 2,
       "version_minor": 0
      },
      "text/plain": [
       "0/190           ETA: ?s - "
      ]
     },
     "metadata": {},
     "output_type": "display_data"
    },
    {
     "name": "stdout",
     "output_type": "stream",
     "text": [
      "Epoch 208/500\n"
     ]
    },
    {
     "data": {
      "application/vnd.jupyter.widget-view+json": {
       "model_id": "8139ffdef78b40299d9102abdb4137d3",
       "version_major": 2,
       "version_minor": 0
      },
      "text/plain": [
       "0/190           ETA: ?s - "
      ]
     },
     "metadata": {},
     "output_type": "display_data"
    },
    {
     "name": "stdout",
     "output_type": "stream",
     "text": [
      "Epoch 209/500\n"
     ]
    },
    {
     "data": {
      "application/vnd.jupyter.widget-view+json": {
       "model_id": "f8fbeb72d3f24ea683554d8ad6d4bf78",
       "version_major": 2,
       "version_minor": 0
      },
      "text/plain": [
       "0/190           ETA: ?s - "
      ]
     },
     "metadata": {},
     "output_type": "display_data"
    },
    {
     "name": "stdout",
     "output_type": "stream",
     "text": [
      "Epoch 210/500\n"
     ]
    },
    {
     "data": {
      "application/vnd.jupyter.widget-view+json": {
       "model_id": "36dc166a199343f9b745a89569028e31",
       "version_major": 2,
       "version_minor": 0
      },
      "text/plain": [
       "0/190           ETA: ?s - "
      ]
     },
     "metadata": {},
     "output_type": "display_data"
    },
    {
     "name": "stdout",
     "output_type": "stream",
     "text": [
      "Epoch 211/500\n"
     ]
    },
    {
     "data": {
      "application/vnd.jupyter.widget-view+json": {
       "model_id": "bdefef2bcfbc4b4ca65bac631d7846b0",
       "version_major": 2,
       "version_minor": 0
      },
      "text/plain": [
       "0/190           ETA: ?s - "
      ]
     },
     "metadata": {},
     "output_type": "display_data"
    },
    {
     "name": "stdout",
     "output_type": "stream",
     "text": [
      "Epoch 212/500\n"
     ]
    },
    {
     "data": {
      "application/vnd.jupyter.widget-view+json": {
       "model_id": "7d84fc3cb53f450b82d90123696def57",
       "version_major": 2,
       "version_minor": 0
      },
      "text/plain": [
       "0/190           ETA: ?s - "
      ]
     },
     "metadata": {},
     "output_type": "display_data"
    },
    {
     "name": "stdout",
     "output_type": "stream",
     "text": [
      "Epoch 213/500\n"
     ]
    },
    {
     "data": {
      "application/vnd.jupyter.widget-view+json": {
       "model_id": "557ecc432e45418480bedad9e24b1625",
       "version_major": 2,
       "version_minor": 0
      },
      "text/plain": [
       "0/190           ETA: ?s - "
      ]
     },
     "metadata": {},
     "output_type": "display_data"
    },
    {
     "name": "stdout",
     "output_type": "stream",
     "text": [
      "Epoch 214/500\n"
     ]
    },
    {
     "data": {
      "application/vnd.jupyter.widget-view+json": {
       "model_id": "7b4cff0e83fa40449280174b4bd20453",
       "version_major": 2,
       "version_minor": 0
      },
      "text/plain": [
       "0/190           ETA: ?s - "
      ]
     },
     "metadata": {},
     "output_type": "display_data"
    },
    {
     "name": "stdout",
     "output_type": "stream",
     "text": [
      "Epoch 215/500\n"
     ]
    },
    {
     "data": {
      "application/vnd.jupyter.widget-view+json": {
       "model_id": "62c539b050354486b18d73a053b4c3fe",
       "version_major": 2,
       "version_minor": 0
      },
      "text/plain": [
       "0/190           ETA: ?s - "
      ]
     },
     "metadata": {},
     "output_type": "display_data"
    },
    {
     "name": "stdout",
     "output_type": "stream",
     "text": [
      "Epoch 216/500\n"
     ]
    },
    {
     "data": {
      "application/vnd.jupyter.widget-view+json": {
       "model_id": "cd6f27b9cb7d460c93b65f43982c0150",
       "version_major": 2,
       "version_minor": 0
      },
      "text/plain": [
       "0/190           ETA: ?s - "
      ]
     },
     "metadata": {},
     "output_type": "display_data"
    },
    {
     "name": "stdout",
     "output_type": "stream",
     "text": [
      "Epoch 217/500\n"
     ]
    },
    {
     "data": {
      "application/vnd.jupyter.widget-view+json": {
       "model_id": "f84632b5276b4e4f9347f0101250ef86",
       "version_major": 2,
       "version_minor": 0
      },
      "text/plain": [
       "0/190           ETA: ?s - "
      ]
     },
     "metadata": {},
     "output_type": "display_data"
    },
    {
     "name": "stdout",
     "output_type": "stream",
     "text": [
      "Epoch 218/500\n"
     ]
    },
    {
     "data": {
      "application/vnd.jupyter.widget-view+json": {
       "model_id": "04f5576f40c34bc080e15257194d8bf9",
       "version_major": 2,
       "version_minor": 0
      },
      "text/plain": [
       "0/190           ETA: ?s - "
      ]
     },
     "metadata": {},
     "output_type": "display_data"
    },
    {
     "name": "stdout",
     "output_type": "stream",
     "text": [
      "Epoch 219/500\n"
     ]
    },
    {
     "data": {
      "application/vnd.jupyter.widget-view+json": {
       "model_id": "c2674a64ed274ac7bb51ca7813f2e373",
       "version_major": 2,
       "version_minor": 0
      },
      "text/plain": [
       "0/190           ETA: ?s - "
      ]
     },
     "metadata": {},
     "output_type": "display_data"
    },
    {
     "name": "stdout",
     "output_type": "stream",
     "text": [
      "Epoch 220/500\n"
     ]
    },
    {
     "data": {
      "application/vnd.jupyter.widget-view+json": {
       "model_id": "499d1098a2914751b725d3988e7a7c97",
       "version_major": 2,
       "version_minor": 0
      },
      "text/plain": [
       "0/190           ETA: ?s - "
      ]
     },
     "metadata": {},
     "output_type": "display_data"
    },
    {
     "name": "stdout",
     "output_type": "stream",
     "text": [
      "Epoch 221/500\n"
     ]
    },
    {
     "data": {
      "application/vnd.jupyter.widget-view+json": {
       "model_id": "5c76b41d325a4d4aa0eb9ac4b672ea29",
       "version_major": 2,
       "version_minor": 0
      },
      "text/plain": [
       "0/190           ETA: ?s - "
      ]
     },
     "metadata": {},
     "output_type": "display_data"
    },
    {
     "name": "stdout",
     "output_type": "stream",
     "text": [
      "Epoch 222/500\n"
     ]
    },
    {
     "data": {
      "application/vnd.jupyter.widget-view+json": {
       "model_id": "b38f82a3f82648919910ec8319c8ffc4",
       "version_major": 2,
       "version_minor": 0
      },
      "text/plain": [
       "0/190           ETA: ?s - "
      ]
     },
     "metadata": {},
     "output_type": "display_data"
    },
    {
     "name": "stdout",
     "output_type": "stream",
     "text": [
      "Epoch 222: early stopping\n",
      "CPU times: user 2h 22min 43s, sys: 37min 43s, total: 3h 26s\n",
      "Wall time: 1h 58min 12s\n"
     ]
    }
   ],
   "source": [
    "%%time\n",
    "training.reset()\n",
    "validation.reset()\n",
    "model.compile(\n",
    "    optimizer=keras.optimizers.Adam(),\n",
    "    loss=keras.losses.CategoricalCrossentropy(),\n",
    "    metrics=[keras.metrics.CategoricalAccuracy()],\n",
    ")\n",
    "\n",
    "history = model.fit(training,\n",
    "                    epochs=500,\n",
    "                    verbose=0, # TQDMProgressBar logs out the info, so no need for the default logs\n",
    "                    validation_data=validation,\n",
    "                    callbacks=[\n",
    "                        keras.callbacks.EarlyStopping(monitor=\"val_loss\", patience=10, verbose=1),\n",
    "                        tfa.callbacks.TQDMProgressBar()\n",
    "                    ])"
   ]
  },
  {
   "cell_type": "code",
   "execution_count": 17,
   "id": "94744f4c",
   "metadata": {
    "node_exists": false,
    "node_name": "f46a103641374382a045acd11121980e"
   },
   "outputs": [],
   "source": [
    "model.save(f\"models/{len(code2class)}_class.h5\")"
   ]
  },
  {
   "cell_type": "code",
   "execution_count": 18,
   "id": "c0b0f2ba",
   "metadata": {
    "node_exists": false,
    "node_name": "fbd40bd1607b4b82bd98d785a9bfedd4"
   },
   "outputs": [
    {
     "data": {
      "text/plain": [
       "<AxesSubplot:>"
      ]
     },
     "execution_count": 18,
     "metadata": {},
     "output_type": "execute_result"
    },
    {
     "data": {
      "image/png": "[encoded data removed]",
      "text/plain": [
       "<Figure size 432x288 with 1 Axes>"
      ]
     },
     "metadata": {},
     "output_type": "display_data"
    },
    {
     "data": {
      "image/png": "[encoded data removed]",
      "text/plain": [
       "<Figure size 432x288 with 1 Axes>"
      ]
     },
     "metadata": {},
     "output_type": "display_data"
    }
   ],
   "source": [
    "history_df = pd.DataFrame(history.history)\n",
    "history_df[['loss', 'val_loss']].plot()\n",
    "history_df[['categorical_accuracy', 'val_categorical_accuracy']].plot()"
   ]
  },
  {
   "cell_type": "code",
   "execution_count": 19,
   "id": "a4a5e73d",
   "metadata": {
    "node_exists": false,
    "node_name": "1a3ea7d047554d4d8d46dac5601f3c49"
   },
   "outputs": [
    {
     "name": "stdout",
     "output_type": "stream",
     "text": [
      "True: [13, 13, 7, 9, 7, 1, 12, 3, 3, 11, 12, 8, 12, 10, 12, 0, 2, 11, 13, 1, 13, 9, 13, 4, 0, 12, 13, 1, 0, 12, 7, 3, 13, 3, 12, 12, 0, 12, 12, 13, 12, 6, 12, 9, 0, 11, 12, 0, 10, 1, 1, 9, 1, 8, 10, 13, 10, 6, 1, 12, 6, 6, 13, 1, 0, 3, 13, 11, 3, 12, 6, 10, 1, 9, 1, 10, 10, 3, 11, 3, 8, 13, 3, 10, 1, 9, 2, 1, 13, 12, 10, 3, 5, 8, 0, 8, 6, 1, 12, 13, 0, 11, 6, 12, 10, 1, 10, 1, 1, 11, 2, 10, 3, 13, 12, 0, 12, 2, 6, 13, 13, 3, 5, 0, 10, 3, 10, 0, 7, 3, 10, 12, 8, 1, 10, 2, 10, 0, 12, 8, 10, 9, 11, 3, 11, 0, 9, 12, 8, 10, 1, 11, 7, 0, 7, 3, 9, 6, 12, 12, 6, 12, 5, 7, 2, 1, 12, 9, 1, 10, 10, 3, 10, 13, 12, 3, 8, 12, 10, 10, 8, 13, 10, 0, 1, 12, 10, 8, 6, 7, 2, 10, 1, 0, 12, 12, 11, 13, 6, 13, 13, 0, 3, 7, 10, 12, 2, 3, 10, 5, 1, 13, 1, 7, 3, 8, 13, 13, 8, 2, 0, 7, 13, 0, 7, 7, 5, 13, 0, 13, 12, 8, 13, 8, 9, 8, 1, 3, 10, 9, 5, 13, 0, 1, 12, 11, 9, 8, 9, 3, 5, 12, 7, 10, 3, 11, 1, 5, 6, 3, 0, 10, 5, 9, 13, 10, 8, 13, 0, 0, 2, 8, 3, 1, 3, 9, 7, 9, 10, 0, 5, 8, 6, 3, 10, 0, 13, 5, 1, 7, 10, 5, 7, 0, 5, 3, 1, 1, 8, 9, 13, 0, 10, 12, 10, 10, 0, 10, 5, 3, 13, 6, 13, 1, 12, 10, 13, 1, 0, 1, 12, 12, 10, 8, 10, 12, 12, 3, 5, 10, 13, 3, 8, 3, 9, 4, 6, 3, 0, 3, 5, 6, 13, 10, 10, 10, 10, 1, 9, 9, 7, 3, 11, 13, 10, 12, 12, 10, 6, 10, 3, 0, 1, 13, 6, 10, 8, 12, 12, 1, 6, 4, 5, 13, 7, 7, 0, 0, 10, 10, 7, 6, 1, 1, 1, 0, 8, 9, 5, 5, 10, 1, 10, 4, 12, 12, 6, 9, 1, 10, 3, 10, 6, 3, 5, 1, 1, 10, 3, 3, 10, 2, 1, 13, 9, 5, 1, 10, 9, 11, 7, 5, 13, 6, 3, 13, 9, 13, 1, 0, 4, 2, 7, 10, 3, 11, 1, 1, 9, 11, 1, 7, 9, 1, 3, 3, 12, 7, 13, 11, 12, 0, 13, 9, 1, 13, 3, 12, 7, 13, 10, 1, 1, 5, 10, 9, 8, 1, 1, 0, 8, 1, 10, 1, 6, 6, 6, 10, 9, 5, 0, 8, 10, 12, 9, 10, 4, 3, 0, 5, 0, 9, 13, 11, 12, 0, 0, 9, 9, 10, 8, 8, 13, 6, 13, 9, 12, 3, 3, 10, 1, 8, 13, 12, 12, 12, 7, 9, 10, 11, 12, 1, 1, 1, 5, 0, 0, 13, 10, 4, 5, 3, 0, 0, 0, 5, 1, 12, 0, 10, 2, 3, 10, 2, 8, 1, 12, 1, 1, 13, 10, 10, 10, 8, 0, 1, 10, 3, 11, 12, 9, 1, 12, 0, 12, 8, 13, 13, 3, 8, 5, 8, 6, 3, 12, 7, 0, 1, 12, 0, 10, 8, 3, 13, 10, 4, 13, 12, 2, 10, 11, 5, 13, 3, 10, 3, 13, 9, 0, 8, 12, 3, 12, 0, 0, 3, 10, 12, 6, 2, 10, 3, 2, 2, 3, 2, 3, 0, 6, 4, 8, 0, 1, 10, 12, 12, 2, 9, 1, 13, 9, 13, 12, 9, 7, 7, 10, 12, 5, 8, 10, 3, 0, 0, 12, 10, 2, 4, 11, 1, 13, 12, 2, 3, 3, 8, 10, 9, 9, 10, 7, 10, 13, 1, 9, 9, 9, 13, 13, 8, 10, 10, 1, 11, 5, 1, 13, 13, 11, 13, 12, 3, 2, 3, 3, 5, 0, 10, 2, 13, 1, 3, 1, 6, 12, 7, 12, 8, 13, 8, 12, 0, 2, 3, 1, 10, 0, 9, 0, 8, 1, 7, 3, 1, 9, 7, 6, 3, 12, 3, 10, 1, 10, 6, 10, 3, 10, 11, 10, 2, 7, 13, 11, 1, 3, 12, 9, 1, 7, 8, 3, 0, 4, 13, 10, 11, 13, 8, 12, 13, 11, 10, 12, 6, 13, 0, 7, 13, 0, 1, 11, 8, 0, 0, 13, 2, 9, 13, 1, 13, 13, 9, 1, 1, 5, 8, 8, 13, 5, 9, 12, 1, 1, 9, 12, 3, 1, 9, 9, 10, 3, 0, 1, 8, 1, 12, 5, 3, 1, 5, 12, 0, 1, 12, 3, 11, 5, 6, 0, 9, 8, 1, 12, 6, 10, 2, 13, 12, 1, 13, 9, 1, 10, 9, 12, 12, 2, 13, 12, 10, 13, 4, 11, 12, 10, 13, 3, 7, 13, 1, 10, 2, 3, 1, 11, 1, 3, 8, 6, 10, 5, 8, 9, 12, 0, 13, 10, 8, 8, 13, 8, 4, 10, 13, 1, 1, 13, 0, 8, 12, 4, 1, 3, 9, 12, 12, 1, 7, 5, 10, 12, 3, 0, 7, 13, 7, 9, 6, 8, 0, 9, 10, 13, 0, 10, 13, 5, 0, 8, 10, 0, 1, 1, 9, 10, 3, 11, 3, 1, 9, 8, 12, 1, 2, 3, 6, 11, 7, 12, 10, 13, 12, 8, 5, 8, 2, 0, 3, 10, 10, 10, 9, 1, 2, 12, 0, 12, 0, 1, 7, 12, 10, 5, 2, 5, 1, 0, 12, 9, 10, 1, 12, 0, 12, 6, 9, 3, 10, 8, 0, 2, 0, 10, 1, 5, 12, 13, 13, 9, 10, 12, 12, 1, 10, 13, 0, 8, 7, 13, 10, 3, 9, 1, 13, 13, 12, 3, 10, 12, 1, 5, 2, 9, 6, 13, 10, 2, 1, 10, 8, 13, 3, 11, 12, 3, 10, 0, 11, 10, 12, 13, 12, 10, 12, 2, 12, 9, 1, 9, 12, 12, 9, 9, 3, 10, 1, 1, 3, 11, 1, 7, 2, 10, 3, 10, 12, 12, 11, 8, 6, 1, 3, 3, 5, 12, 13, 4, 8, 12, 10, 9, 12, 12, 10, 1, 13, 9, 10, 13, 5, 13, 0, 1, 8, 11, 1, 10, 7, 13, 3, 12, 1, 3, 8, 13, 12, 0, 9, 10, 8, 0, 0, 0, 5, 10, 12, 13, 11, 1, 3, 12, 8, 8, 10, 8, 1, 3, 5, 12, 4, 4, 12, 5, 9, 10, 7, 13, 3, 0, 8, 13, 10, 1, 8, 7, 7, 9, 8, 2, 4, 8, 4, 11, 11, 12, 11, 13, 12, 12, 13, 12, 12, 0, 1, 1, 8, 1, 9, 9, 11, 11, 9, 3, 3, 0, 1, 2, 6, 13, 0, 9, 12, 1, 12, 2, 12, 12, 0, 2, 1, 6, 9, 10, 10, 10, 9, 10, 5, 1, 3, 1, 8, 1, 5, 8, 11, 1, 7, 9, 3, 1, 10, 2, 12, 1, 1, 6, 1, 4, 10, 13, 7, 9, 2, 3, 6, 11, 10, 1, 12, 8, 4, 7, 9, 10, 13, 11, 10, 10, 2, 3, 5, 12, 12, 3, 6, 12, 13, 4, 6, 13, 12, 10, 1, 5, 0, 13, 7, 7, 8, 13, 10, 11, 5, 10, 1, 10, 12, 0, 10, 8, 6, 2, 3, 1, 11, 1, 0, 8, 12, 11, 5, 0, 1, 10, 12, 13, 0, 7, 3, 1, 1, 3, 5, 2, 7, 1, 2, 10, 12, 5, 1, 11, 8, 10, 2, 5, 11, 0, 6, 9, 9, 1, 11, 2, 1, 10, 10, 12, 12, 11, 13, 1, 12, 12, 12, 12, 13, 0, 12, 1, 5, 8, 0, 12, 3, 1, 6, 1, 13, 0, 1, 2, 0, 3, 3, 0, 10, 3, 0, 1, 9, 11, 3, 11, 0, 10, 7, 9, 11, 9, 5, 12, 9, 6, 0, 7, 9, 2, 12, 11, 3, 13, 12, 13, 3, 3, 6, 1, 0, 12, 6, 0, 3, 11, 8, 2, 3, 8, 10, 6, 8, 12, 8, 8, 2, 12, 1, 9, 1, 12, 12, 11, 1, 2, 12, 5, 9, 3, 10, 1, 0, 13, 8, 12, 6, 8, 10, 1, 5, 1, 0, 9, 5, 13, 13, 13, 12, 1, 12, 6, 3, 6, 6, 9, 9, 8, 13, 7, 13, 11, 3, 8, 9, 7, 1, 9, 5, 10, 10, 9, 9, 0, 3, 10, 3, 1, 13, 1, 9, 6, 9, 4, 12, 12, 9, 0, 3, 13, 10, 1, 6, 9, 12, 7, 0, 0, 3, 11, 13, 11, 7, 13, 0, 12, 1, 13, 6, 3, 12, 7, 0, 1, 11, 10, 10, 13, 10, 11, 3, 12, 10, 13, 8, 6, 9, 10, 8, 5, 3, 10, 12, 6, 0, 10, 9, 1, 12, 7, 6, 1, 3, 1, 11, 13, 9, 12, 10, 12, 6, 12, 7, 3, 12, 8, 0, 12, 0, 1, 8, 7, 8, 12, 7, 0, 5, 0, 8, 3, 8, 0, 3, 0, 9, 9, 3, 1, 3, 9, 8, 0, 6, 3, 2, 5, 13, 1, 3, 12, 11, 10, 1, 0, 0, 1, 12, 10, 9, 12, 8, 0, 6, 1, 7, 7, 10, 1, 0, 6, 1, 1, 3, 11, 10, 8, 0, 13, 1, 13, 3, 12, 10, 11, 7, 10, 3, 5, 0, 13, 12, 8, 8, 6, 12, 13, 3, 9, 3, 3, 6, 4, 12, 1, 10, 0, 3, 5, 6, 0, 9, 0, 0, 9, 1, 4, 0, 13, 0, 1, 12, 10, 2, 0, 10, 6, 10, 7, 4, 8, 10, 10, 13, 10, 1, 1, 2, 13, 12, 13, 1, 9, 13, 7, 9, 13, 11, 8, 5, 1, 13, 13, 6, 9, 13, 6, 10, 11, 0, 12, 3, 7, 3, 13, 12, 13, 10, 10, 9, 3, 10, 2, 7, 1, 13, 11, 13, 11, 1, 10, 1, 1, 2, 3, 3, 1, 7, 13, 11, 11, 11, 13, 3, 12, 0, 12, 12, 3, 3, 0, 11, 12, 3, 13, 13, 6]\n",
      "53/53 [==============================] - 7s 123ms/step\n",
      "Predictions:  [13 13  7 ... 13 13  6]\n"
     ]
    }
   ],
   "source": [
    "validation.reset()\n",
    "print(\"True:\", validation.labels)\n",
    "print(\"Predictions: \", model.predict(validation).argmax(axis=1))"
   ]
  },
  {
   "cell_type": "code",
   "execution_count": 20,
   "id": "74c0d930",
   "metadata": {
    "node_exists": false,
    "node_name": "9908275c270c41cba8520025c6c7d9f1"
   },
   "outputs": [
    {
     "name": "stdout",
     "output_type": "stream",
     "text": [
      "53/53 [==============================] - 7s 125ms/step\n"
     ]
    }
   ],
   "source": [
    "y_pred = model.predict(validation)"
   ]
  },
  {
   "cell_type": "code",
   "execution_count": 40,
   "id": "aee6a2ef",
   "metadata": {
    "node_exists": false,
    "node_name": "3e2c26667dbf4b7097176d6ee9a79cd1"
   },
   "outputs": [
    {
     "data": {
      "text/plain": [
       "count    1695.000000\n",
       "mean        0.907227\n",
       "std         0.146240\n",
       "min         0.282471\n",
       "25%         0.883057\n",
       "50%         0.979980\n",
       "75%         0.998047\n",
       "max         1.000000\n",
       "dtype: float64"
      ]
     },
     "execution_count": 40,
     "metadata": {},
     "output_type": "execute_result"
    }
   ],
   "source": [
    "predicted_codes = y_pred.argmax(axis=1)\n",
    "confidence = y_pred.max(axis=1)\n",
    "pd.Series(confidence).describe()"
   ]
  },
  {
   "cell_type": "code",
   "execution_count": 41,
   "id": "4c4ab851",
   "metadata": {
    "node_exists": false,
    "node_name": "9ba7478e4d944648a48a23489ceff013"
   },
   "outputs": [
    {
     "data": {
      "text/html": [
       "<div>\n",
       "<style scoped>\n",
       "    .dataframe tbody tr th:only-of-type {\n",
       "        vertical-align: middle;\n",
       "    }\n",
       "\n",
       "    .dataframe tbody tr th {\n",
       "        vertical-align: top;\n",
       "    }\n",
       "\n",
       "    .dataframe thead th {\n",
       "        text-align: right;\n",
       "    }\n",
       "</style>\n",
       "<table border=\"1\" class=\"dataframe\">\n",
       "  <thead>\n",
       "    <tr style=\"text-align: right;\">\n",
       "      <th></th>\n",
       "      <th>filename</th>\n",
       "      <th>class</th>\n",
       "      <th>predicted_class</th>\n",
       "      <th>confidence</th>\n",
       "    </tr>\n",
       "  </thead>\n",
       "  <tbody>\n",
       "    <tr>\n",
       "      <th>446</th>\n",
       "      <td>EmbryoLabeling/Labelers/train/Syngamy/M0776_S00512_W1_F0_1539.jpg</td>\n",
       "      <td>Syngamy</td>\n",
       "      <td>Syngamy</td>\n",
       "      <td>0.948242</td>\n",
       "    </tr>\n",
       "    <tr>\n",
       "      <th>131</th>\n",
       "      <td>EmbryoLabeling/Labelers/train/Syngamy/M0776_S00470_W1_F0_2214.jpg</td>\n",
       "      <td>Syngamy</td>\n",
       "      <td>Syngamy</td>\n",
       "      <td>0.995117</td>\n",
       "    </tr>\n",
       "    <tr>\n",
       "      <th>38</th>\n",
       "      <td>EmbryoLabeling/Labelers/train/Blastocyst/M776_S0087_W3_F0_8260.jpg</td>\n",
       "      <td>Blastocyst</td>\n",
       "      <td>Blastocyst</td>\n",
       "      <td>0.727051</td>\n",
       "    </tr>\n",
       "    <tr>\n",
       "      <th>44</th>\n",
       "      <td>EmbryoLabeling/Labelers/train/Early blast/M0776_S00534_W3_F0_7676.jpg</td>\n",
       "      <td>Early blast</td>\n",
       "      <td>Early blast</td>\n",
       "      <td>0.581543</td>\n",
       "    </tr>\n",
       "    <tr>\n",
       "      <th>160</th>\n",
       "      <td>EmbryoLabeling/Labelers/train/Blastocyst/M0776_S00761_W3_F0_6280.jpg</td>\n",
       "      <td>Blastocyst</td>\n",
       "      <td>Blastocyst</td>\n",
       "      <td>0.757324</td>\n",
       "    </tr>\n",
       "    <tr>\n",
       "      <th>...</th>\n",
       "      <td>...</td>\n",
       "      <td>...</td>\n",
       "      <td>...</td>\n",
       "      <td>...</td>\n",
       "    </tr>\n",
       "    <tr>\n",
       "      <th>453</th>\n",
       "      <td>EmbryoLabeling/Labelers/train/Morula/M0776_S00534_W3_F0_6613.jpg</td>\n",
       "      <td>Morula</td>\n",
       "      <td>Morula</td>\n",
       "      <td>0.955078</td>\n",
       "    </tr>\n",
       "    <tr>\n",
       "      <th>286</th>\n",
       "      <td>EmbryoLabeling/Labelers/train/4 Cell/M0776_S00512_W5_F0_2350.jpg</td>\n",
       "      <td>4 Cell</td>\n",
       "      <td>4 Cell</td>\n",
       "      <td>0.992676</td>\n",
       "    </tr>\n",
       "    <tr>\n",
       "      <th>567</th>\n",
       "      <td>EmbryoLabeling/Labelers/train/Syngamy/M0776_S00470_W1_F0_1934.jpg</td>\n",
       "      <td>Syngamy</td>\n",
       "      <td>Syngamy</td>\n",
       "      <td>0.984863</td>\n",
       "    </tr>\n",
       "    <tr>\n",
       "      <th>186</th>\n",
       "      <td>EmbryoLabeling/Labelers/train/Syngamy/M0776_S00470_W1_F0_2594.jpg</td>\n",
       "      <td>Syngamy</td>\n",
       "      <td>Syngamy</td>\n",
       "      <td>0.999512</td>\n",
       "    </tr>\n",
       "    <tr>\n",
       "      <th>160</th>\n",
       "      <td>EmbryoLabeling/Labelers/train/8 Cell/M0776_S00635_W7_F0_4435.jpg</td>\n",
       "      <td>8 Cell</td>\n",
       "      <td>8 Cell</td>\n",
       "      <td>0.505859</td>\n",
       "    </tr>\n",
       "  </tbody>\n",
       "</table>\n",
       "<p>1695 rows × 4 columns</p>\n",
       "</div>"
      ],
      "text/plain": [
       "                                                                  filename  \\\n",
       "446      EmbryoLabeling/Labelers/train/Syngamy/M0776_S00512_W1_F0_1539.jpg   \n",
       "131      EmbryoLabeling/Labelers/train/Syngamy/M0776_S00470_W1_F0_2214.jpg   \n",
       "38      EmbryoLabeling/Labelers/train/Blastocyst/M776_S0087_W3_F0_8260.jpg   \n",
       "44   EmbryoLabeling/Labelers/train/Early blast/M0776_S00534_W3_F0_7676.jpg   \n",
       "160   EmbryoLabeling/Labelers/train/Blastocyst/M0776_S00761_W3_F0_6280.jpg   \n",
       "..                                                                     ...   \n",
       "453       EmbryoLabeling/Labelers/train/Morula/M0776_S00534_W3_F0_6613.jpg   \n",
       "286       EmbryoLabeling/Labelers/train/4 Cell/M0776_S00512_W5_F0_2350.jpg   \n",
       "567      EmbryoLabeling/Labelers/train/Syngamy/M0776_S00470_W1_F0_1934.jpg   \n",
       "186      EmbryoLabeling/Labelers/train/Syngamy/M0776_S00470_W1_F0_2594.jpg   \n",
       "160       EmbryoLabeling/Labelers/train/8 Cell/M0776_S00635_W7_F0_4435.jpg   \n",
       "\n",
       "           class predicted_class  confidence  \n",
       "446      Syngamy         Syngamy    0.948242  \n",
       "131      Syngamy         Syngamy    0.995117  \n",
       "38    Blastocyst      Blastocyst    0.727051  \n",
       "44   Early blast     Early blast    0.581543  \n",
       "160   Blastocyst      Blastocyst    0.757324  \n",
       "..           ...             ...         ...  \n",
       "453       Morula          Morula    0.955078  \n",
       "286       4 Cell          4 Cell    0.992676  \n",
       "567      Syngamy         Syngamy    0.984863  \n",
       "186      Syngamy         Syngamy    0.999512  \n",
       "160       8 Cell          8 Cell    0.505859  \n",
       "\n",
       "[1695 rows x 4 columns]"
      ]
     },
     "execution_count": 41,
     "metadata": {},
     "output_type": "execute_result"
    }
   ],
   "source": [
    "validation_df[\"predicted_class\"] = [code2class[c] for c in predicted_codes]\n",
    "validation_df[\"confidence\"] = confidence\n",
    "validation_df"
   ]
  },
  {
   "cell_type": "code",
   "execution_count": 45,
   "id": "b319188b",
   "metadata": {
    "node_exists": false,
    "node_name": "5223070a35a4452e9edf420886d8d4bb"
   },
   "outputs": [
    {
     "data": {
      "text/plain": [
       "class\n",
       "2 Cell                 0.973145\n",
       "2pn                    0.993164\n",
       "3 Cell                 0.958496\n",
       "4 Cell                 0.985352\n",
       "5 Cell                 0.796875\n",
       "6 Cell                 0.804688\n",
       "8 Cell                 0.918457\n",
       "Blastocyst             0.893066\n",
       "Compacting 8 cell      0.846680\n",
       "Early blast            0.983887\n",
       "Empty                  1.000000\n",
       "Expanded Blastocyst    0.987793\n",
       "Morula                 0.952637\n",
       "Syngamy                0.993652\n",
       "Name: confidence, dtype: float16"
      ]
     },
     "execution_count": 45,
     "metadata": {},
     "output_type": "execute_result"
    }
   ],
   "source": [
    "validation_df.groupby(\"class\").confidence.median()"
   ]
  },
  {
   "cell_type": "code",
   "execution_count": 46,
   "id": "74ad06e9",
   "metadata": {
    "node_exists": false,
    "node_name": "c74577f6566045a483df12f297885e52"
   },
   "outputs": [],
   "source": [
    "validation_df.to_csv(\"validation_predictions.csv\", index=False)"
   ]
  },
  {
   "cell_type": "code",
   "execution_count": 47,
   "id": "f3a61eb6",
   "metadata": {
    "node_exists": false,
    "node_name": "7a2f1a9d29dc44068752fd99dab23ed3"
   },
   "outputs": [
    {
     "name": "stdout",
     "output_type": "stream",
     "text": [
      "                     precision    recall  f1-score   support\n",
      "\n",
      "             2 Cell       0.95      0.98      0.97       147\n",
      "                2pn       0.94      0.94      0.94       200\n",
      "             3 Cell       0.87      0.90      0.89        61\n",
      "             4 Cell       0.93      0.97      0.95       158\n",
      "             5 Cell       0.74      0.54      0.62        26\n",
      "             6 Cell       0.92      0.76      0.83        72\n",
      "             8 Cell       0.78      0.88      0.83        77\n",
      "         Blastocyst       0.96      0.69      0.81        75\n",
      "  Compacting 8 cell       0.87      0.81      0.84       110\n",
      "        Early blast       0.83      0.91      0.87       123\n",
      "              Empty       1.00      1.00      1.00       200\n",
      "Expanded Blastocyst       0.93      0.97      0.95        79\n",
      "             Morula       0.89      0.93      0.91       200\n",
      "            Syngamy       0.93      0.93      0.93       167\n",
      "\n",
      "           accuracy                           0.91      1695\n",
      "          macro avg       0.90      0.87      0.88      1695\n",
      "       weighted avg       0.91      0.91      0.91      1695\n",
      "\n"
     ]
    },
    {
     "data": {
      "text/plain": [
       "Text(30.499999999999993, 0.5, 'True')"
      ]
     },
     "execution_count": 47,
     "metadata": {},
     "output_type": "execute_result"
    },
    {
     "data": {
      "image/png": "[encoded data removed]",
      "text/plain": [
       "<Figure size 432x288 with 2 Axes>"
      ]
     },
     "metadata": {},
     "output_type": "display_data"
    }
   ],
   "source": [
    "print(classification_report(validation_df[\"class\"], validation_df[\"predicted_class\"]))\n",
    "labels = list(training.class_indices.keys())\n",
    "s = sns.heatmap(\n",
    "    confusion_matrix(validation_df[\"class\"], validation_df[\"predicted_class\"]),\n",
    "    annot=True,\n",
    "    cmap='Blues',\n",
    "    fmt=\"g\",\n",
    "    xticklabels=labels,\n",
    "    yticklabels=labels\n",
    ")\n",
    "s.set_xlabel('Predicted', fontsize=10)\n",
    "s.set_ylabel('True', fontsize=10)"
   ]
  },
  {
   "cell_type": "code",
   "execution_count": 48,
   "id": "869f6c37",
   "metadata": {
    "node_exists": false,
    "node_name": "51a33f0a2abb4c1781bc2a67edc9ffb2"
   },
   "outputs": [
    {
     "data": {
      "text/html": [
       "<div>\n",
       "<style scoped>\n",
       "    .dataframe tbody tr th:only-of-type {\n",
       "        vertical-align: middle;\n",
       "    }\n",
       "\n",
       "    .dataframe tbody tr th {\n",
       "        vertical-align: top;\n",
       "    }\n",
       "\n",
       "    .dataframe thead th {\n",
       "        text-align: right;\n",
       "    }\n",
       "</style>\n",
       "<table border=\"1\" class=\"dataframe\">\n",
       "  <thead>\n",
       "    <tr style=\"text-align: right;\">\n",
       "      <th></th>\n",
       "      <th>filename</th>\n",
       "      <th>class</th>\n",
       "    </tr>\n",
       "  </thead>\n",
       "  <tbody>\n",
       "    <tr>\n",
       "      <th>0</th>\n",
       "      <td>EmbryoLabeling/Labelers/One/M3169_S00470/M3169_S00470_W1_F0_1516.jpg</td>\n",
       "      <td>unknown</td>\n",
       "    </tr>\n",
       "    <tr>\n",
       "      <th>1</th>\n",
       "      <td>EmbryoLabeling/Labelers/One/M3169_S00470/M3169_S00470_W7_F0_9023.jpg</td>\n",
       "      <td>unknown</td>\n",
       "    </tr>\n",
       "    <tr>\n",
       "      <th>2</th>\n",
       "      <td>EmbryoLabeling/Labelers/One/M3169_S00470/M3169_S00470_W4_F0_9524.jpg</td>\n",
       "      <td>unknown</td>\n",
       "    </tr>\n",
       "    <tr>\n",
       "      <th>3</th>\n",
       "      <td>EmbryoLabeling/Labelers/One/M3169_S00470/M3169_S00470_W2_F0_8369.jpg</td>\n",
       "      <td>unknown</td>\n",
       "    </tr>\n",
       "    <tr>\n",
       "      <th>4</th>\n",
       "      <td>EmbryoLabeling/Labelers/One/M3169_S00470/M3169_S00470_W7_F0_9589.jpg</td>\n",
       "      <td>unknown</td>\n",
       "    </tr>\n",
       "    <tr>\n",
       "      <th>...</th>\n",
       "      <td>...</td>\n",
       "      <td>...</td>\n",
       "    </tr>\n",
       "    <tr>\n",
       "      <th>4046</th>\n",
       "      <td>EmbryoLabeling/Labelers/One/M0831_S00534/M0831_S00534_W12_F0_998.jpg</td>\n",
       "      <td>unknown</td>\n",
       "    </tr>\n",
       "    <tr>\n",
       "      <th>4047</th>\n",
       "      <td>EmbryoLabeling/Labelers/One/M0831_S00534/M0831_S00534_W5_F0_3216.jpg</td>\n",
       "      <td>unknown</td>\n",
       "    </tr>\n",
       "    <tr>\n",
       "      <th>4048</th>\n",
       "      <td>EmbryoLabeling/Labelers/One/M0831_S00534/M0831_S00534_W12_F0_4793.jpg</td>\n",
       "      <td>unknown</td>\n",
       "    </tr>\n",
       "    <tr>\n",
       "      <th>4049</th>\n",
       "      <td>EmbryoLabeling/Labelers/One/M0831_S00534/M0831_S00534_W3_F0_3916.jpg</td>\n",
       "      <td>unknown</td>\n",
       "    </tr>\n",
       "    <tr>\n",
       "      <th>4050</th>\n",
       "      <td>EmbryoLabeling/Labelers/One/M0831_S00534/M0831_S00534_W11_F0_2214.jpg</td>\n",
       "      <td>unknown</td>\n",
       "    </tr>\n",
       "  </tbody>\n",
       "</table>\n",
       "<p>26557 rows × 2 columns</p>\n",
       "</div>"
      ],
      "text/plain": [
       "                                                                   filename  \\\n",
       "0      EmbryoLabeling/Labelers/One/M3169_S00470/M3169_S00470_W1_F0_1516.jpg   \n",
       "1      EmbryoLabeling/Labelers/One/M3169_S00470/M3169_S00470_W7_F0_9023.jpg   \n",
       "2      EmbryoLabeling/Labelers/One/M3169_S00470/M3169_S00470_W4_F0_9524.jpg   \n",
       "3      EmbryoLabeling/Labelers/One/M3169_S00470/M3169_S00470_W2_F0_8369.jpg   \n",
       "4      EmbryoLabeling/Labelers/One/M3169_S00470/M3169_S00470_W7_F0_9589.jpg   \n",
       "...                                                                     ...   \n",
       "4046   EmbryoLabeling/Labelers/One/M0831_S00534/M0831_S00534_W12_F0_998.jpg   \n",
       "4047   EmbryoLabeling/Labelers/One/M0831_S00534/M0831_S00534_W5_F0_3216.jpg   \n",
       "4048  EmbryoLabeling/Labelers/One/M0831_S00534/M0831_S00534_W12_F0_4793.jpg   \n",
       "4049   EmbryoLabeling/Labelers/One/M0831_S00534/M0831_S00534_W3_F0_3916.jpg   \n",
       "4050  EmbryoLabeling/Labelers/One/M0831_S00534/M0831_S00534_W11_F0_2214.jpg   \n",
       "\n",
       "        class  \n",
       "0     unknown  \n",
       "1     unknown  \n",
       "2     unknown  \n",
       "3     unknown  \n",
       "4     unknown  \n",
       "...       ...  \n",
       "4046  unknown  \n",
       "4047  unknown  \n",
       "4048  unknown  \n",
       "4049  unknown  \n",
       "4050  unknown  \n",
       "\n",
       "[26557 rows x 2 columns]"
      ]
     },
     "execution_count": 48,
     "metadata": {},
     "output_type": "execute_result"
    }
   ],
   "source": [
    "# Make some predictions on unlabelled data\n",
    "folders = os.listdir(\"EmbryoLabeling/Labelers/One\")\n",
    "folders = [f for f in folders if re.match(r\"M\\d\", f)]\n",
    "files = []\n",
    "for folder in folders:\n",
    "    files_in_folder = pd.DataFrame(glob(f\"EmbryoLabeling/Labelers/One/{folder}/**/*.jpg\", recursive=True), columns=[\"filename\"])\n",
    "    files_in_folder[\"class\"] = \"unknown\"\n",
    "    files.append(files_in_folder)\n",
    "test_df = pd.concat(files)\n",
    "test_df"
   ]
  },
  {
   "cell_type": "code",
   "execution_count": 49,
   "id": "7cddad68",
   "metadata": {
    "node_exists": false,
    "node_name": "b344cff0355e4bde8bd5470d47824fc7"
   },
   "outputs": [
    {
     "name": "stdout",
     "output_type": "stream",
     "text": [
      "Found 26557 validated image filenames belonging to 1 classes.\n"
     ]
    },
    {
     "data": {
      "application/vnd.jupyter.widget-view+json": {
       "model_id": "626bd56b0eee4af7b3fef41cdf889556",
       "version_major": 2,
       "version_minor": 0
      },
      "text/plain": [
       "  0%|          | 0/829 [00:00<?, ?it/s]"
      ]
     },
     "metadata": {},
     "output_type": "display_data"
    },
    {
     "name": "stdout",
     "output_type": "stream",
     "text": [
      "830/830 [==============================] - 111s 134ms/step\n"
     ]
    }
   ],
   "source": [
    "class TQDMPredictCallback(keras.callbacks.Callback):\n",
    "    def __init__(self, custom_tqdm_instance=None, tqdm_cls=tqdm, **tqdm_params):\n",
    "        super().__init__()\n",
    "        self.tqdm_cls = tqdm_cls\n",
    "        self.tqdm_progress = None\n",
    "        self.prev_predict_batch = None\n",
    "        self.custom_tqdm_instance = custom_tqdm_instance\n",
    "        self.tqdm_params = tqdm_params\n",
    "\n",
    "    def on_predict_batch_begin(self, batch, logs=None):\n",
    "        pass\n",
    "\n",
    "    def on_predict_batch_end(self, batch, logs=None):\n",
    "        self.tqdm_progress.update(batch - self.prev_predict_batch)\n",
    "        self.prev_predict_batch = batch\n",
    "\n",
    "    def on_predict_begin(self, logs=None):\n",
    "        self.prev_predict_batch = 0\n",
    "        if self.custom_tqdm_instance:\n",
    "            self.tqdm_progress = self.custom_tqdm_instance\n",
    "            return\n",
    "\n",
    "        total = self.params.get('steps')\n",
    "        if total:\n",
    "            total -= 1\n",
    "\n",
    "        self.tqdm_progress = self.tqdm_cls(total=total, **self.tqdm_params)\n",
    "\n",
    "    def on_predict_end(self, logs=None):\n",
    "        if self.tqdm_progress and not self.custom_tqdm_instance:\n",
    "            self.tqdm_progress.close()\n",
    "\n",
    "test = datagen.flow_from_dataframe(test_df, target_size=(299, 299), batch_size=BATCH_SIZE, shuffle=False)\n",
    "results = model.predict(test, callbacks=[TQDMPredictCallback()])"
   ]
  },
  {
   "cell_type": "code",
   "execution_count": 50,
   "id": "587c5f4b",
   "metadata": {
    "node_exists": false,
    "node_name": "16c44e6b24ea46f4822b08657a00c9fb"
   },
   "outputs": [
    {
     "data": {
      "text/plain": [
       "count    26557.000000\n",
       "mean         0.816895\n",
       "std          0.190674\n",
       "min          0.171753\n",
       "25%          0.672852\n",
       "50%          0.893555\n",
       "75%          0.985352\n",
       "max          1.000000\n",
       "dtype: float64"
      ]
     },
     "execution_count": 50,
     "metadata": {},
     "output_type": "execute_result"
    }
   ],
   "source": [
    "predicted_codes = results.argmax(axis=1)\n",
    "confidence = results.max(axis=1)\n",
    "pd.Series(confidence).describe()"
   ]
  },
  {
   "cell_type": "code",
   "execution_count": 51,
   "id": "e85ef569",
   "metadata": {
    "node_exists": false,
    "node_name": "e5f5b6c7edaf4226a277b96cfbe9059f"
   },
   "outputs": [],
   "source": [
    "test_df[\"class\"] = [code2class[c] for c in predicted_codes]\n",
    "test_df[\"confidence\"] = confidence"
   ]
  },
  {
   "cell_type": "code",
   "execution_count": 52,
   "id": "0d4d1573",
   "metadata": {
    "node_exists": false,
    "node_name": "78cce6f558b144199613f5d2f7e2a675"
   },
   "outputs": [
    {
     "data": {
      "text/plain": [
       "2pn                    9054\n",
       "Syngamy                3302\n",
       "Early blast            2430\n",
       "Expanded Blastocyst    2137\n",
       "Compacting 8 cell      2068\n",
       "Morula                 1678\n",
       "Blastocyst             1356\n",
       "Empty                  1286\n",
       "5 Cell                  949\n",
       "4 Cell                  917\n",
       "2 Cell                  548\n",
       "8 Cell                  417\n",
       "3 Cell                  230\n",
       "6 Cell                  185\n",
       "Name: class, dtype: int64"
      ]
     },
     "execution_count": 52,
     "metadata": {},
     "output_type": "execute_result"
    }
   ],
   "source": [
    "test_df[\"class\"].value_counts()"
   ]
  },
  {
   "cell_type": "code",
   "execution_count": 53,
   "id": "d51540ca",
   "metadata": {
    "node_exists": false,
    "node_name": "c02003c60b2f4b6abd9fb5475165d19c"
   },
   "outputs": [
    {
     "data": {
      "text/plain": [
       "count    1286.000000\n",
       "mean        0.924805\n",
       "std         0.136597\n",
       "min         0.306885\n",
       "25%         0.915894\n",
       "50%         0.997803\n",
       "75%         1.000000\n",
       "max         1.000000\n",
       "Name: confidence, dtype: float64"
      ]
     },
     "execution_count": 53,
     "metadata": {},
     "output_type": "execute_result"
    }
   ],
   "source": [
    "test_df.confidence[test_df[\"class\"] == \"Empty\"].describe()"
   ]
  },
  {
   "cell_type": "code",
   "execution_count": 54,
   "id": "f8298e54",
   "metadata": {
    "node_exists": false,
    "node_name": "b1f0e8be040a44748daab23dac6de0b5"
   },
   "outputs": [
    {
     "data": {
      "text/html": [
       "<div>\n",
       "<style scoped>\n",
       "    .dataframe tbody tr th:only-of-type {\n",
       "        vertical-align: middle;\n",
       "    }\n",
       "\n",
       "    .dataframe tbody tr th {\n",
       "        vertical-align: top;\n",
       "    }\n",
       "\n",
       "    .dataframe thead th {\n",
       "        text-align: right;\n",
       "    }\n",
       "</style>\n",
       "<table border=\"1\" class=\"dataframe\">\n",
       "  <thead>\n",
       "    <tr style=\"text-align: right;\">\n",
       "      <th></th>\n",
       "      <th>filename</th>\n",
       "      <th>class</th>\n",
       "      <th>confidence</th>\n",
       "    </tr>\n",
       "  </thead>\n",
       "  <tbody>\n",
       "    <tr>\n",
       "      <th>0</th>\n",
       "      <td>EmbryoLabeling/Labelers/One/M3169_S00470/M3169_S00470_W1_F0_1516.jpg</td>\n",
       "      <td>Syngamy</td>\n",
       "      <td>0.581543</td>\n",
       "    </tr>\n",
       "    <tr>\n",
       "      <th>1</th>\n",
       "      <td>EmbryoLabeling/Labelers/One/M3169_S00470/M3169_S00470_W7_F0_9023.jpg</td>\n",
       "      <td>Morula</td>\n",
       "      <td>0.601074</td>\n",
       "    </tr>\n",
       "    <tr>\n",
       "      <th>2</th>\n",
       "      <td>EmbryoLabeling/Labelers/One/M3169_S00470/M3169_S00470_W4_F0_9524.jpg</td>\n",
       "      <td>Expanded Blastocyst</td>\n",
       "      <td>0.932129</td>\n",
       "    </tr>\n",
       "    <tr>\n",
       "      <th>3</th>\n",
       "      <td>EmbryoLabeling/Labelers/One/M3169_S00470/M3169_S00470_W2_F0_8369.jpg</td>\n",
       "      <td>5 Cell</td>\n",
       "      <td>0.563965</td>\n",
       "    </tr>\n",
       "    <tr>\n",
       "      <th>4</th>\n",
       "      <td>EmbryoLabeling/Labelers/One/M3169_S00470/M3169_S00470_W7_F0_9589.jpg</td>\n",
       "      <td>Morula</td>\n",
       "      <td>0.532715</td>\n",
       "    </tr>\n",
       "    <tr>\n",
       "      <th>...</th>\n",
       "      <td>...</td>\n",
       "      <td>...</td>\n",
       "      <td>...</td>\n",
       "    </tr>\n",
       "    <tr>\n",
       "      <th>4046</th>\n",
       "      <td>EmbryoLabeling/Labelers/One/M0831_S00534/M0831_S00534_W12_F0_998.jpg</td>\n",
       "      <td>2pn</td>\n",
       "      <td>1.000000</td>\n",
       "    </tr>\n",
       "    <tr>\n",
       "      <th>4047</th>\n",
       "      <td>EmbryoLabeling/Labelers/One/M0831_S00534/M0831_S00534_W5_F0_3216.jpg</td>\n",
       "      <td>Early blast</td>\n",
       "      <td>0.317383</td>\n",
       "    </tr>\n",
       "    <tr>\n",
       "      <th>4048</th>\n",
       "      <td>EmbryoLabeling/Labelers/One/M0831_S00534/M0831_S00534_W12_F0_4793.jpg</td>\n",
       "      <td>Early blast</td>\n",
       "      <td>0.538086</td>\n",
       "    </tr>\n",
       "    <tr>\n",
       "      <th>4049</th>\n",
       "      <td>EmbryoLabeling/Labelers/One/M0831_S00534/M0831_S00534_W3_F0_3916.jpg</td>\n",
       "      <td>Compacting 8 cell</td>\n",
       "      <td>0.819336</td>\n",
       "    </tr>\n",
       "    <tr>\n",
       "      <th>4050</th>\n",
       "      <td>EmbryoLabeling/Labelers/One/M0831_S00534/M0831_S00534_W11_F0_2214.jpg</td>\n",
       "      <td>2pn</td>\n",
       "      <td>0.999023</td>\n",
       "    </tr>\n",
       "  </tbody>\n",
       "</table>\n",
       "<p>26557 rows × 3 columns</p>\n",
       "</div>"
      ],
      "text/plain": [
       "                                                                   filename  \\\n",
       "0      EmbryoLabeling/Labelers/One/M3169_S00470/M3169_S00470_W1_F0_1516.jpg   \n",
       "1      EmbryoLabeling/Labelers/One/M3169_S00470/M3169_S00470_W7_F0_9023.jpg   \n",
       "2      EmbryoLabeling/Labelers/One/M3169_S00470/M3169_S00470_W4_F0_9524.jpg   \n",
       "3      EmbryoLabeling/Labelers/One/M3169_S00470/M3169_S00470_W2_F0_8369.jpg   \n",
       "4      EmbryoLabeling/Labelers/One/M3169_S00470/M3169_S00470_W7_F0_9589.jpg   \n",
       "...                                                                     ...   \n",
       "4046   EmbryoLabeling/Labelers/One/M0831_S00534/M0831_S00534_W12_F0_998.jpg   \n",
       "4047   EmbryoLabeling/Labelers/One/M0831_S00534/M0831_S00534_W5_F0_3216.jpg   \n",
       "4048  EmbryoLabeling/Labelers/One/M0831_S00534/M0831_S00534_W12_F0_4793.jpg   \n",
       "4049   EmbryoLabeling/Labelers/One/M0831_S00534/M0831_S00534_W3_F0_3916.jpg   \n",
       "4050  EmbryoLabeling/Labelers/One/M0831_S00534/M0831_S00534_W11_F0_2214.jpg   \n",
       "\n",
       "                    class  confidence  \n",
       "0                 Syngamy    0.581543  \n",
       "1                  Morula    0.601074  \n",
       "2     Expanded Blastocyst    0.932129  \n",
       "3                  5 Cell    0.563965  \n",
       "4                  Morula    0.532715  \n",
       "...                   ...         ...  \n",
       "4046                  2pn    1.000000  \n",
       "4047          Early blast    0.317383  \n",
       "4048          Early blast    0.538086  \n",
       "4049    Compacting 8 cell    0.819336  \n",
       "4050                  2pn    0.999023  \n",
       "\n",
       "[26557 rows x 3 columns]"
      ]
     },
     "execution_count": 54,
     "metadata": {},
     "output_type": "execute_result"
    }
   ],
   "source": [
    "test_df"
   ]
  },
  {
   "cell_type": "code",
   "execution_count": 55,
   "id": "bd732527",
   "metadata": {
    "node_exists": false,
    "node_name": "9681a98a6be343f28b53e412cc3c3526"
   },
   "outputs": [],
   "source": [
    "test_df.to_csv(\"predictions.csv\", index=False)"
   ]
  },
  {
   "cell_type": "code",
   "execution_count": null,
   "id": "a82efc8c",
   "metadata": {
    "node_exists": false,
    "node_name": "0e347108a92046d18fb7acc4d35d6a81"
   },
   "outputs": [],
   "source": []
  },
  {
   "cell_type": "code",
   "execution_count": null,
   "id": "d5a48ed5",
   "metadata": {
    "node_exists": false,
    "node_name": "54fd5c47c7434f6287d46cf3b37ac3b8"
   },
   "outputs": [],
   "source": []
  },
  {
   "cell_type": "code",
   "execution_count": null,
   "id": "fa99701d",
   "metadata": {
    "node_exists": false,
    "node_name": "d184e671fc1244068c3acd25f98a4a3c"
   },
   "outputs": [],
   "source": []
  }
 ],
 "metadata": {
  "kernelspec": {
   "display_name": "Python 3 (ipykernel)",
   "language": "python",
   "name": "python3"
  },
  "language_info": {
   "codemirror_mode": {
    "name": "ipython",
    "version": 3
   },
   "file_extension": ".py",
   "mimetype": "text/x-python",
   "name": "python",
   "nbconvert_exporter": "python",
   "pygments_lexer": "ipython3",
   "version": "3.8.10"
  }
 },
 "nbformat": 4,
 "nbformat_minor": 5
}
