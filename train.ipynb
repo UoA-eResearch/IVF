{
 "cells": [
  {
   "cell_type": "code",
   "execution_count": 1,
   "id": "97c7873e",
   "metadata": {},
   "outputs": [
    {
     "name": "stderr",
     "output_type": "stream",
     "text": [
      "2022-06-14 12:06:47.146320: I tensorflow/stream_executor/cuda/cuda_gpu_executor.cc:975] successful NUMA node read from SysFS had negative value (-1), but there must be at least one NUMA node, so returning NUMA node zero\n",
      "2022-06-14 12:06:47.195908: I tensorflow/stream_executor/cuda/cuda_gpu_executor.cc:975] successful NUMA node read from SysFS had negative value (-1), but there must be at least one NUMA node, so returning NUMA node zero\n",
      "2022-06-14 12:06:47.196144: I tensorflow/stream_executor/cuda/cuda_gpu_executor.cc:975] successful NUMA node read from SysFS had negative value (-1), but there must be at least one NUMA node, so returning NUMA node zero\n"
     ]
    },
    {
     "name": "stdout",
     "output_type": "stream",
     "text": [
      "INFO:tensorflow:Mixed precision compatibility check (mixed_float16): OK\n",
      "Your GPU will likely run quickly with dtype policy mixed_float16 as it has compute capability of at least 7.0. Your GPU: Tesla V100-PCIE-32GB, compute capability 7.0\n"
     ]
    },
    {
     "name": "stderr",
     "output_type": "stream",
     "text": [
      "2022-06-14 12:06:47.801103: I tensorflow/stream_executor/cuda/cuda_gpu_executor.cc:975] successful NUMA node read from SysFS had negative value (-1), but there must be at least one NUMA node, so returning NUMA node zero\n"
     ]
    },
    {
     "data": {
      "text/plain": [
       "Empty                5913\n",
       "Blastocyst           2141\n",
       "2pn                  1910\n",
       "Morula               1643\n",
       "2 Cell               1008\n",
       "Syngamy               974\n",
       "4 Cell                841\n",
       "Compacting 8 cell     549\n",
       "6 Cell                432\n",
       "8 Cell                431\n",
       "3 Cell                373\n",
       "5 Cell                199\n",
       "Name: class, dtype: int64"
      ]
     },
     "execution_count": 1,
     "metadata": {},
     "output_type": "execute_result"
    }
   ],
   "source": [
    "import os # File system operations\n",
    "import re # Regular expressions\n",
    "import pandas as pd # Tabular data\n",
    "import numpy as np # Numerical data\n",
    "pd.set_option('display.max_colwidth', None) # Show full file paths\n",
    "import sys\n",
    "\n",
    "# Don't use all of the GPU RAM\n",
    "import tensorflow as tf\n",
    "gpus = tf.config.experimental.list_physical_devices('GPU')\n",
    "for gpu in gpus:\n",
    "  tf.config.experimental.set_memory_growth(gpu, True)\n",
    "from tensorflow.keras import mixed_precision\n",
    "from tensorflow import keras # ML\n",
    "import tensorflow_addons as tfa # TQDM progress bar when training\n",
    "from sklearn.model_selection import train_test_split\n",
    "from sklearn.utils import class_weight\n",
    "from skimage import exposure\n",
    "\n",
    "import mlflow # model runs\n",
    "mlflow.set_tracking_uri(\"sqlite:///mlflow.db\") # Use sqlite for more efficient storage\n",
    "# https://www.mlflow.org/docs/latest/python_api/mlflow.tensorflow.html#mlflow.tensorflow.autolog\n",
    "mlflow.tensorflow.autolog()\n",
    "\n",
    "BATCH_SIZE = 128\n",
    "EQUALIZE = False\n",
    "\n",
    "mixed_precision.set_global_policy('mixed_float16')\n",
    "\n",
    "from keras_tuner.tuners import RandomSearch\n",
    "from keras_tuner.engine.hyperparameters import HyperParameters\n",
    "\n",
    "\n",
    "from sklearn.metrics import confusion_matrix, classification_report, accuracy_score\n",
    "\n",
    "from pathlib import Path # Pathing\n",
    "from glob import glob # Finding files recursively\n",
    "import matplotlib.pyplot as plt # Plotting\n",
    "import seaborn as sns # Plotting\n",
    "sns.set()\n",
    "from tqdm.auto import tqdm # Progress bars\n",
    "tqdm.pandas()\n",
    "\n",
    "BASE_DIR = Path(\"EmbryoLabeling/Labelers/train\")\n",
    "folders = os.listdir(BASE_DIR)\n",
    "folders = [f for f in folders if not re.match(r\"M\\d\", f)]\n",
    "files = []\n",
    "for folder in folders:\n",
    "    files_in_folder = pd.DataFrame(glob(f\"{BASE_DIR}/{folder}/**/*.jpg\", recursive=True), columns=[\"filename\"])\n",
    "    if len(files_in_folder) == 0:\n",
    "        print(f\"{folder} is empty!\")\n",
    "        os.rmdir(BASE_DIR / folder)\n",
    "    files_in_folder[\"class\"] = folder\n",
    "    files.append(files_in_folder)\n",
    "df = pd.concat(files)\n",
    "df[\"class\"].value_counts()"
   ]
  },
  {
   "cell_type": "code",
   "execution_count": 2,
   "id": "31a10845",
   "metadata": {},
   "outputs": [
    {
     "data": {
      "text/plain": [
       "<AxesSubplot:>"
      ]
     },
     "execution_count": 2,
     "metadata": {},
     "output_type": "execute_result"
    },
    {
     "data": {
      "image/png": "[encoded data removed]",
      "text/plain": [
       "<Figure size 432x288 with 1 Axes>"
      ]
     },
     "metadata": {
      "needs_background": "light"
     },
     "output_type": "display_data"
    }
   ],
   "source": [
    "df[\"class\"].value_counts().plot.bar(logy=True)"
   ]
  },
  {
   "cell_type": "code",
   "execution_count": 3,
   "id": "0f1360a2",
   "metadata": {},
   "outputs": [
    {
     "data": {
      "text/plain": [
       "M0776_S00512    1952\n",
       "M776_S0087      1559\n",
       "M0776_S00635    1325\n",
       "M0776_S00534    1232\n",
       "M3169_S00668    1166\n",
       "M0776_S00761    1138\n",
       "M0776_S00470     784\n",
       "M0831_S00470     466\n",
       "M0831_S00659     368\n",
       "M3169_S00737     293\n",
       "M0776_S00737     218\n",
       "Name: filename, dtype: int64"
      ]
     },
     "execution_count": 3,
     "metadata": {},
     "output_type": "execute_result"
    }
   ],
   "source": [
    "# Print counts of images by machine and slide\n",
    "df.filename[~df[\"class\"].isin([\"bad\", \"Empty\"])].apply(lambda s: \"_\".join(s.split(\"/\")[-1].split(\"_\")[:2])).value_counts()"
   ]
  },
  {
   "cell_type": "code",
   "execution_count": 4,
   "id": "8e48f356",
   "metadata": {
    "scrolled": false
   },
   "outputs": [
    {
     "name": "stdout",
     "output_type": "stream",
     "text": [
      "                  class  time_since_fert\n",
      "957                 2pn             1061\n",
      "811             Syngamy             1464\n",
      "414              2 Cell             1574\n",
      "147              3 Cell             2315\n",
      "113              4 Cell             2395\n",
      "9                5 Cell             3045\n",
      "30               6 Cell             3125\n",
      "169              8 Cell             3265\n",
      "24    Compacting 8 cell             3375\n",
      "1463             Morula             4286\n",
      "354          Blastocyst             6090\n",
      "4946              Empty             7036\n"
     ]
    }
   ],
   "source": [
    "# Track a single embryo's lifecycle\n",
    "pd.set_option('display.max_rows', 365)\n",
    "M776_S0087_W2 = df[df.filename.str.contains(\"M776_S0087_W2\")].copy()\n",
    "# Extract time since fertilisation in minutes from filename (ints, rounded to nearest minute)\n",
    "M776_S0087_W2[\"time_since_fert\"] = M776_S0087_W2.filename.apply(lambda s: s.replace(\".jpg\", \"\").split(\"_\")[-1]).astype(int)\n",
    "M776_S0087_W2 = M776_S0087_W2.sort_values(by=\"time_since_fert\")\n",
    "# Take the earliest time that each class was seen\n",
    "M776_S0087_W2 = M776_S0087_W2.groupby(\"class\").head(1)\n",
    "print(M776_S0087_W2[[\"class\", \"time_since_fert\"]])"
   ]
  },
  {
   "cell_type": "code",
   "execution_count": 5,
   "id": "b07925b9",
   "metadata": {},
   "outputs": [
    {
     "data": {
      "text/plain": [
       "['2pn',\n",
       " 'Syngamy',\n",
       " '2 Cell',\n",
       " '3 Cell',\n",
       " '4 Cell',\n",
       " '5 Cell',\n",
       " '6 Cell',\n",
       " '8 Cell',\n",
       " 'Compacting 8 cell',\n",
       " 'Morula',\n",
       " 'Blastocyst',\n",
       " 'Empty']"
      ]
     },
     "execution_count": 5,
     "metadata": {},
     "output_type": "execute_result"
    }
   ],
   "source": [
    "classes = list(M776_S0087_W2[\"class\"])\n",
    "classes"
   ]
  },
  {
   "cell_type": "code",
   "execution_count": 6,
   "id": "e803af06",
   "metadata": {},
   "outputs": [
    {
     "data": {
      "image/png": "[encoded data removed]",
      "text/plain": [
       "<Figure size 1440x1440 with 1 Axes>"
      ]
     },
     "metadata": {
      "needs_background": "light"
     },
     "output_type": "display_data"
    }
   ],
   "source": [
    "# Plot embryo's lifecycle over time\n",
    "plt.figure(figsize=(20, 20))\n",
    "for i, row in M776_S0087_W2.iterrows():\n",
    "    image = keras.utils.load_img(row.filename, target_size=(299,299))\n",
    "    c_index = classes.index(row[\"class\"]) * 299\n",
    "    time_since_fert = row.time_since_fert\n",
    "    plt.imshow(image, extent=[time_since_fert, time_since_fert+299, c_index, c_index+299])\n",
    "    plt.text(time_since_fert, c_index, row[\"class\"], bbox=dict(boxstyle=\"round\", ec=(1., 0.5, 0.5), fc=(1., 0.8, 0.8)))\n",
    "plt.yticks([])\n",
    "plt.xlabel(\"Time since fertilisation (minutes)\")\n",
    "plt.xlim(0, M776_S0087_W2.time_since_fert.max() + 300)\n",
    "plt.ylim(0, len(classes) * 300)\n",
    "plt.show()"
   ]
  },
  {
   "cell_type": "code",
   "execution_count": 7,
   "id": "c00fd32a",
   "metadata": {
    "scrolled": false
   },
   "outputs": [
    {
     "data": {
      "image/png": "[encoded data removed]",
      "text/plain": [
       "<Figure size 720x720 with 25 Axes>"
      ]
     },
     "metadata": {
      "needs_background": "light"
     },
     "output_type": "display_data"
    }
   ],
   "source": [
    "plt.figure(figsize=(10, 10))\n",
    "sample = df.sample(25)\n",
    "for i, (idx, row) in enumerate(sample.iterrows()):\n",
    "    ax = plt.subplot(5, 5, i + 1)\n",
    "    img = keras.utils.load_img(row.filename, target_size=(299,299))\n",
    "    if EQUALIZE:\n",
    "        img = tfa.image.equalize(img)\n",
    "    plt.imshow(img)\n",
    "    plt.title(row[\"class\"])\n",
    "    plt.axis(\"off\")"
   ]
  },
  {
   "cell_type": "code",
   "execution_count": 8,
   "id": "dbbf3b1e",
   "metadata": {},
   "outputs": [
    {
     "name": "stdout",
     "output_type": "stream",
     "text": [
      "Found 16414 files belonging to 12 classes.\n"
     ]
    },
    {
     "name": "stderr",
     "output_type": "stream",
     "text": [
      "2022-06-14 12:06:51.472175: I tensorflow/core/platform/cpu_feature_guard.cc:193] This TensorFlow binary is optimized with oneAPI Deep Neural Network Library (oneDNN) to use the following CPU instructions in performance-critical operations:  AVX2 AVX512F FMA\n",
      "To enable them in other operations, rebuild TensorFlow with the appropriate compiler flags.\n",
      "2022-06-14 12:06:51.473089: I tensorflow/stream_executor/cuda/cuda_gpu_executor.cc:975] successful NUMA node read from SysFS had negative value (-1), but there must be at least one NUMA node, so returning NUMA node zero\n",
      "2022-06-14 12:06:51.473325: I tensorflow/stream_executor/cuda/cuda_gpu_executor.cc:975] successful NUMA node read from SysFS had negative value (-1), but there must be at least one NUMA node, so returning NUMA node zero\n",
      "2022-06-14 12:06:51.473461: I tensorflow/stream_executor/cuda/cuda_gpu_executor.cc:975] successful NUMA node read from SysFS had negative value (-1), but there must be at least one NUMA node, so returning NUMA node zero\n",
      "2022-06-14 12:06:52.305721: I tensorflow/stream_executor/cuda/cuda_gpu_executor.cc:975] successful NUMA node read from SysFS had negative value (-1), but there must be at least one NUMA node, so returning NUMA node zero\n",
      "2022-06-14 12:06:52.305952: I tensorflow/stream_executor/cuda/cuda_gpu_executor.cc:975] successful NUMA node read from SysFS had negative value (-1), but there must be at least one NUMA node, so returning NUMA node zero\n",
      "2022-06-14 12:06:52.306103: I tensorflow/stream_executor/cuda/cuda_gpu_executor.cc:975] successful NUMA node read from SysFS had negative value (-1), but there must be at least one NUMA node, so returning NUMA node zero\n",
      "2022-06-14 12:06:52.306262: I tensorflow/core/common_runtime/gpu/gpu_device.cc:1532] Created device /job:localhost/replica:0/task:0/device:GPU:0 with 30982 MB memory:  -> device: 0, name: Tesla V100-PCIE-32GB, pci bus id: 0000:00:08.0, compute capability: 7.0\n"
     ]
    }
   ],
   "source": [
    "train = tf.keras.utils.image_dataset_from_directory(\n",
    "    BASE_DIR,\n",
    "    image_size = (299,299),\n",
    "    batch_size = BATCH_SIZE, #// 4, # / 4 here, because the augmentations will * 4\n",
    "    label_mode = 'categorical',\n",
    "    shuffle = False\n",
    ")\n",
    "if EQUALIZE:\n",
    "    train_cache = train.map(lambda x, y: (tfa.image.equalize(x), y)).cache().prefetch(tf.data.AUTOTUNE)\n",
    "else:\n",
    "    train_cache = train.cache().prefetch(tf.data.AUTOTUNE)"
   ]
  },
  {
   "cell_type": "code",
   "execution_count": 9,
   "id": "012e294d",
   "metadata": {},
   "outputs": [
    {
     "data": {
      "text/plain": [
       "129"
      ]
     },
     "execution_count": 9,
     "metadata": {},
     "output_type": "execute_result"
    }
   ],
   "source": [
    "len(train_cache)"
   ]
  },
  {
   "cell_type": "code",
   "execution_count": 10,
   "id": "80d5d9ad",
   "metadata": {},
   "outputs": [
    {
     "data": {
      "application/vnd.jupyter.widget-view+json": {
       "model_id": "84882f54161347e28a2f8764a7d408c4",
       "version_major": 2,
       "version_minor": 0
      },
      "text/plain": [
       "  0%|          | 0/129 [00:00<?, ?it/s]"
      ]
     },
     "metadata": {},
     "output_type": "display_data"
    }
   ],
   "source": [
    "list(tqdm(train_cache)); # load it all into RAM"
   ]
  },
  {
   "cell_type": "code",
   "execution_count": 11,
   "id": "27fe3367",
   "metadata": {},
   "outputs": [
    {
     "data": {
      "text/plain": [
       "<matplotlib.image.AxesImage at 0x7f96133055b0>"
      ]
     },
     "execution_count": 11,
     "metadata": {},
     "output_type": "execute_result"
    },
    {
     "data": {
      "image/png": "[encoded data removed]",
      "text/plain": [
       "<Figure size 432x288 with 1 Axes>"
      ]
     },
     "metadata": {
      "needs_background": "light"
     },
     "output_type": "display_data"
    }
   ],
   "source": [
    "x, y = next(iter(train_cache))\n",
    "plt.imshow(x.numpy()[0].astype(\"uint8\"))"
   ]
  },
  {
   "cell_type": "code",
   "execution_count": 12,
   "id": "110398bc",
   "metadata": {},
   "outputs": [
    {
     "name": "stdout",
     "output_type": "stream",
     "text": [
      "(512, 299, 299, 3) (512, 12)\n"
     ]
    }
   ],
   "source": [
    "class AugmentationGenerator(tf.keras.utils.Sequence):\n",
    "    def __getitem__(self, idx):\n",
    "        x, y = next(iter(train_cache.skip(idx).take(1)))\n",
    "        x = np.vstack([\n",
    "            x,\n",
    "            np.flip(x, axis=1),\n",
    "            np.flip(x, axis=2),\n",
    "            np.flip(np.flip(x, axis=1), axis=2),\n",
    "        ])\n",
    "        y = np.vstack([\n",
    "            y, y, y, y\n",
    "        ])\n",
    "        return x, y\n",
    "    def __len__(self):\n",
    "        return len(train_cache)\n",
    "\n",
    "x, y = AugmentationGenerator().__getitem__(0)\n",
    "print(x.shape, y.shape)"
   ]
  },
  {
   "cell_type": "code",
   "execution_count": 13,
   "id": "cb6e7d14",
   "metadata": {},
   "outputs": [
    {
     "data": {
      "text/plain": [
       "129"
      ]
     },
     "execution_count": 13,
     "metadata": {},
     "output_type": "execute_result"
    }
   ],
   "source": [
    "len(AugmentationGenerator())"
   ]
  },
  {
   "cell_type": "code",
   "execution_count": 14,
   "id": "3b1f175a",
   "metadata": {},
   "outputs": [
    {
     "name": "stdout",
     "output_type": "stream",
     "text": [
      "12\n"
     ]
    },
    {
     "data": {
      "text/plain": [
       "['2 Cell',\n",
       " '2pn',\n",
       " '3 Cell',\n",
       " '4 Cell',\n",
       " '5 Cell',\n",
       " '6 Cell',\n",
       " '8 Cell',\n",
       " 'Blastocyst',\n",
       " 'Compacting 8 cell',\n",
       " 'Empty',\n",
       " 'Morula',\n",
       " 'Syngamy']"
      ]
     },
     "execution_count": 14,
     "metadata": {},
     "output_type": "execute_result"
    }
   ],
   "source": [
    "classes = train.class_names\n",
    "print(len(classes))\n",
    "classes"
   ]
  },
  {
   "cell_type": "code",
   "execution_count": 15,
   "id": "a2b1f6a8",
   "metadata": {},
   "outputs": [
    {
     "name": "stdout",
     "output_type": "stream",
     "text": [
      "WARNING:tensorflow:Compiled the loaded model, but the compiled metrics have yet to be built. `model.compile_metrics` will be empty until you train or evaluate the model.\n",
      "Model: \"sequential\"\n",
      "_________________________________________________________________\n",
      " Layer (type)                Output Shape              Param #   \n",
      "=================================================================\n",
      " rescaling (Rescaling)       (None, 299, 299, 3)       0         \n",
      "                                                                 \n",
      " xception (Functional)       (None, 2048)              20861480  \n",
      "                                                                 \n",
      "=================================================================\n",
      "Total params: 20,861,480\n",
      "Trainable params: 20,806,952\n",
      "Non-trainable params: 54,528\n",
      "_________________________________________________________________\n"
     ]
    }
   ],
   "source": [
    "base_model = keras.Sequential([\n",
    "    # Pre-trained Xception weights requires that input be scaled\n",
    "    # from (0, 255) to a range of (-1., +1.), the rescaling layer\n",
    "    # outputs: `(inputs * scale) + offset`\n",
    "    keras.layers.Rescaling(scale=1./127.5, offset=-1, input_shape=(299,299,3)),\n",
    "    keras.applications.Xception(\n",
    "        weights='imagenet',  # Load weights pre-trained on ImageNet.\n",
    "        include_top=False,\n",
    "        pooling=\"avg\"\n",
    "    )\n",
    "])\n",
    "base_model.save(f\"models/xception.h5\")\n",
    "base_model.summary()"
   ]
  },
  {
   "cell_type": "code",
   "execution_count": 16,
   "id": "ca155884",
   "metadata": {},
   "outputs": [
    {
     "name": "stdout",
     "output_type": "stream",
     "text": [
      "extracted_features.npy\n"
     ]
    }
   ],
   "source": [
    "cachefile = f\"extracted_features{'_eq' if EQUALIZE else ''}.npy\"\n",
    "print(cachefile)\n",
    "try:\n",
    "    extracted_features = np.load(cachefile)\n",
    "    assert len(extracted_features) == len(train.file_paths)*4\n",
    "except Exception as e:\n",
    "    print(e)\n",
    "    extracted_features = base_model.predict(AugmentationGenerator())\n",
    "    np.save(cachefile, extracted_features)"
   ]
  },
  {
   "cell_type": "code",
   "execution_count": 17,
   "id": "78116e7f",
   "metadata": {
    "scrolled": false
   },
   "outputs": [
    {
     "data": {
      "text/plain": [
       "(65656, 2048)"
      ]
     },
     "execution_count": 17,
     "metadata": {},
     "output_type": "execute_result"
    }
   ],
   "source": [
    "extracted_features.shape"
   ]
  },
  {
   "cell_type": "code",
   "execution_count": 18,
   "id": "18f744db",
   "metadata": {},
   "outputs": [
    {
     "data": {
      "text/plain": [
       "(65656, 12)"
      ]
     },
     "execution_count": 18,
     "metadata": {},
     "output_type": "execute_result"
    }
   ],
   "source": [
    "y = np.vstack([np.vstack([y,y,y,y]) for x,y in train])\n",
    "y.shape"
   ]
  },
  {
   "cell_type": "code",
   "execution_count": 19,
   "id": "2005acb6",
   "metadata": {},
   "outputs": [
    {
     "data": {
      "text/plain": [
       "0        EmbryoLabeling/Labelers/train/2 Cell/M0776_S00470_W2_F0_1894.jpg\n",
       "1        EmbryoLabeling/Labelers/train/2 Cell/M0776_S00470_W2_F0_1914.jpg\n",
       "2        EmbryoLabeling/Labelers/train/2 Cell/M0776_S00470_W2_F0_1934.jpg\n",
       "3        EmbryoLabeling/Labelers/train/2 Cell/M0776_S00470_W2_F0_1954.jpg\n",
       "4        EmbryoLabeling/Labelers/train/2 Cell/M0776_S00470_W2_F0_1974.jpg\n",
       "                                       ...                               \n",
       "65651     EmbryoLabeling/Labelers/train/Syngamy/M776_S0087_W5_F0_1555.jpg\n",
       "65652     EmbryoLabeling/Labelers/train/Syngamy/M776_S0087_W5_F0_1585.jpg\n",
       "65653     EmbryoLabeling/Labelers/train/Syngamy/M776_S0087_W5_F0_1605.jpg\n",
       "65654     EmbryoLabeling/Labelers/train/Syngamy/M776_S0087_W5_F0_1625.jpg\n",
       "65655     EmbryoLabeling/Labelers/train/Syngamy/M776_S0087_W5_F0_1645.jpg\n",
       "Length: 65656, dtype: object"
      ]
     },
     "metadata": {},
     "output_type": "display_data"
    }
   ],
   "source": [
    "aug_paths = []\n",
    "for i in range(len(train)):\n",
    "    batch_paths = train.file_paths[i*BATCH_SIZE:(i+1)*BATCH_SIZE]\n",
    "    aug_paths.extend(batch_paths * 4)\n",
    "aug_paths = pd.Series(aug_paths)\n",
    "display(aug_paths)"
   ]
  },
  {
   "cell_type": "code",
   "execution_count": 20,
   "id": "0a520b36",
   "metadata": {},
   "outputs": [
    {
     "data": {
      "text/plain": [
       "0        1894\n",
       "1        1914\n",
       "2        1934\n",
       "3        1954\n",
       "4        1974\n",
       "         ... \n",
       "65651    1555\n",
       "65652    1585\n",
       "65653    1605\n",
       "65654    1625\n",
       "65655    1645\n",
       "Length: 65656, dtype: int64"
      ]
     },
     "execution_count": 20,
     "metadata": {},
     "output_type": "execute_result"
    }
   ],
   "source": [
    "fert_minutes = aug_paths.apply(lambda s: s.replace(\".jpg\", \"\").split(\"_\")[-1]).astype(int)\n",
    "fert_minutes"
   ]
  },
  {
   "cell_type": "code",
   "execution_count": 21,
   "id": "7722e071",
   "metadata": {},
   "outputs": [
    {
     "data": {
      "text/plain": [
       "(65656, 2049)"
      ]
     },
     "execution_count": 21,
     "metadata": {},
     "output_type": "execute_result"
    }
   ],
   "source": [
    "extracted_features_with_fert = np.hstack([extracted_features, fert_minutes.to_numpy()[:, None]])\n",
    "extracted_features_with_fert.shape"
   ]
  },
  {
   "cell_type": "code",
   "execution_count": 22,
   "id": "34a40598",
   "metadata": {},
   "outputs": [
    {
     "data": {
      "text/plain": [
       "((56508, 2049), (56508, 12), (9148, 2049), (9148, 12))"
      ]
     },
     "execution_count": 22,
     "metadata": {},
     "output_type": "execute_result"
    }
   ],
   "source": [
    "#x_train, x_test, y_train, y_test = train_test_split(extracted_features, y, test_size=.2)\n",
    "\n",
    "# Use one slide for test, everything else for train\n",
    "test_slide = \"M0776_S00512\"\n",
    "test_idx = aug_paths.str.contains(test_slide)\n",
    "x_train = extracted_features_with_fert[~test_idx]\n",
    "y_train = y[~test_idx]\n",
    "x_test = extracted_features_with_fert[test_idx]\n",
    "y_test = y[test_idx]\n",
    "x_train.shape, y_train.shape, x_test.shape, y_test.shape"
   ]
  },
  {
   "cell_type": "code",
   "execution_count": 23,
   "id": "13282758",
   "metadata": {},
   "outputs": [
    {
     "data": {
      "text/plain": [
       "{'2 Cell': 1.356978,\n",
       " '2pn': 0.716143,\n",
       " '3 Cell': 3.667113,\n",
       " '4 Cell': 1.626437,\n",
       " '5 Cell': 6.873534,\n",
       " '6 Cell': 3.166281,\n",
       " '8 Cell': 3.173627,\n",
       " 'Blastocyst': 0.638876,\n",
       " 'Compacting 8 cell': 2.4915,\n",
       " 'Empty': 0.231326,\n",
       " 'Morula': 0.832522,\n",
       " 'Syngamy': 1.404346}"
      ]
     },
     "execution_count": 23,
     "metadata": {},
     "output_type": "execute_result"
    }
   ],
   "source": [
    "class_weights = class_weight.compute_class_weight('balanced', classes = np.unique(y.argmax(axis=1)), y=y.argmax(axis=1))\n",
    "class_weights = class_weights.round(6) # This is necessary if using mlflow, as it can go beyond the 250 character limit otherwise\n",
    "class_weights = dict(enumerate(class_weights))\n",
    "{k:v for k,v in zip(classes, class_weights.values())}"
   ]
  },
  {
   "cell_type": "code",
   "execution_count": 24,
   "id": "9ce520df",
   "metadata": {},
   "outputs": [],
   "source": [
    "# Hyperparameter search\n",
    "search = False\n",
    "if search:\n",
    "    def build_model(hp):\n",
    "        model = keras.Sequential()\n",
    "        model.add(keras.layers.Input(shape=(2048)))\n",
    "\n",
    "        for i in range(hp.Int(\"n_layers\", 1, 4)):\n",
    "            model.add(keras.layers.Dense(\n",
    "                hp.Int(f\"dense_units_{i}\", min_value=32, max_value=128, step=32),\n",
    "                activation=hp.Choice(f\"dense_activation_{i}\", values=[\"relu\", \"sigmoid\"], default=\"relu\")\n",
    "            ))\n",
    "            model.add(keras.layers.Dropout(hp.Float(f\"dropout_{i}\", min_value=.1, max_value=.5, step=.1)))\n",
    "\n",
    "        model.add(keras.layers.Dense(len(classes), activation=\"softmax\"))\n",
    "        model.compile(\n",
    "            optimizer=keras.optimizers.Adam(learning_rate=hp.Float(\n",
    "                \"learning_rate\", min_value=1e-4, max_value=1e-2, sampling=\"LOG\", default=1e-3\n",
    "            )),\n",
    "            loss=keras.losses.CategoricalCrossentropy(),\n",
    "            metrics=[keras.metrics.CategoricalAccuracy()],\n",
    "        )\n",
    "        return model\n",
    "\n",
    "    tuner = RandomSearch(\n",
    "        build_model,\n",
    "        objective=\"val_categorical_accuracy\",\n",
    "        max_trials=80,\n",
    "    )\n",
    "    tuner.search_space_summary()\n",
    "    tuner.search(\n",
    "        x_train,\n",
    "        y_train,\n",
    "        batch_size=BATCH_SIZE,\n",
    "        validation_data=(x_test, y_test),\n",
    "        epochs=500,\n",
    "        verbose=0,\n",
    "        class_weight=class_weights,\n",
    "        callbacks=[\n",
    "            keras.callbacks.EarlyStopping(monitor='val_categorical_accuracy',patience=50, verbose=1),\n",
    "            tfa.callbacks.TQDMProgressBar()\n",
    "        ]\n",
    "    )\n",
    "    print(tuner.get_best_hyperparameters()[0].values)\n",
    "    print(tuner.get_best_models()[0].summary())"
   ]
  },
  {
   "cell_type": "code",
   "execution_count": 25,
   "id": "9844880c",
   "metadata": {
    "scrolled": false
   },
   "outputs": [
    {
     "name": "stdout",
     "output_type": "stream",
     "text": [
      "Model: \"sequential_1\"\n",
      "_________________________________________________________________\n",
      " Layer (type)                Output Shape              Param #   \n",
      "=================================================================\n",
      " dense (Dense)               (None, 512)               1049600   \n",
      "                                                                 \n",
      " dense_1 (Dense)             (None, 512)               262656    \n",
      "                                                                 \n",
      " dense_2 (Dense)             (None, 12)                6156      \n",
      "                                                                 \n",
      "=================================================================\n",
      "Total params: 1,318,412\n",
      "Trainable params: 1,318,412\n",
      "Non-trainable params: 0\n",
      "_________________________________________________________________\n",
      "None\n"
     ]
    },
    {
     "data": {
      "application/vnd.jupyter.widget-view+json": {
       "model_id": "67a4f31993394b91bc20afe5af3fecc3",
       "version_major": 2,
       "version_minor": 0
      },
      "text/plain": [
       "Training:   0%|           0/500 ETA: ?s,  ?epochs/s"
      ]
     },
     "metadata": {},
     "output_type": "display_data"
    },
    {
     "name": "stdout",
     "output_type": "stream",
     "text": [
      "Epoch 1/500\n"
     ]
    },
    {
     "data": {
      "application/vnd.jupyter.widget-view+json": {
       "model_id": "70d6d9921d9e4d6fb0d9ab6b4c2b53d3",
       "version_major": 2,
       "version_minor": 0
      },
      "text/plain": [
       "0/442           ETA: ?s - "
      ]
     },
     "metadata": {},
     "output_type": "display_data"
    },
    {
     "name": "stdout",
     "output_type": "stream",
     "text": [
      "Epoch 2/500\n"
     ]
    },
    {
     "data": {
      "application/vnd.jupyter.widget-view+json": {
       "model_id": "483e11ac275f4114bd1c14c2a8bebd57",
       "version_major": 2,
       "version_minor": 0
      },
      "text/plain": [
       "0/442           ETA: ?s - "
      ]
     },
     "metadata": {},
     "output_type": "display_data"
    },
    {
     "name": "stdout",
     "output_type": "stream",
     "text": [
      "Epoch 3/500\n"
     ]
    },
    {
     "data": {
      "application/vnd.jupyter.widget-view+json": {
       "model_id": "a2c72f4bcb6b45498b01a3a54e294733",
       "version_major": 2,
       "version_minor": 0
      },
      "text/plain": [
       "0/442           ETA: ?s - "
      ]
     },
     "metadata": {},
     "output_type": "display_data"
    },
    {
     "name": "stdout",
     "output_type": "stream",
     "text": [
      "Epoch 4/500\n"
     ]
    },
    {
     "data": {
      "application/vnd.jupyter.widget-view+json": {
       "model_id": "5d9f576233cb420da6f34d8359988f2c",
       "version_major": 2,
       "version_minor": 0
      },
      "text/plain": [
       "0/442           ETA: ?s - "
      ]
     },
     "metadata": {},
     "output_type": "display_data"
    },
    {
     "name": "stdout",
     "output_type": "stream",
     "text": [
      "Epoch 5/500\n"
     ]
    },
    {
     "data": {
      "application/vnd.jupyter.widget-view+json": {
       "model_id": "450dde4af2ee4da6bdac4b3ef743cf38",
       "version_major": 2,
       "version_minor": 0
      },
      "text/plain": [
       "0/442           ETA: ?s - "
      ]
     },
     "metadata": {},
     "output_type": "display_data"
    },
    {
     "name": "stdout",
     "output_type": "stream",
     "text": [
      "Epoch 6/500\n"
     ]
    },
    {
     "data": {
      "application/vnd.jupyter.widget-view+json": {
       "model_id": "8661d74d6534405fa88ed7530ddade09",
       "version_major": 2,
       "version_minor": 0
      },
      "text/plain": [
       "0/442           ETA: ?s - "
      ]
     },
     "metadata": {},
     "output_type": "display_data"
    },
    {
     "name": "stdout",
     "output_type": "stream",
     "text": [
      "Epoch 7/500\n"
     ]
    },
    {
     "data": {
      "application/vnd.jupyter.widget-view+json": {
       "model_id": "09488ed98e4a4ade80d9ac5776b9f4d4",
       "version_major": 2,
       "version_minor": 0
      },
      "text/plain": [
       "0/442           ETA: ?s - "
      ]
     },
     "metadata": {},
     "output_type": "display_data"
    },
    {
     "name": "stdout",
     "output_type": "stream",
     "text": [
      "Epoch 8/500\n"
     ]
    },
    {
     "data": {
      "application/vnd.jupyter.widget-view+json": {
       "model_id": "9b8cf44cf7334edeb224dff18553c3bf",
       "version_major": 2,
       "version_minor": 0
      },
      "text/plain": [
       "0/442           ETA: ?s - "
      ]
     },
     "metadata": {},
     "output_type": "display_data"
    },
    {
     "name": "stdout",
     "output_type": "stream",
     "text": [
      "Epoch 9/500\n"
     ]
    },
    {
     "data": {
      "application/vnd.jupyter.widget-view+json": {
       "model_id": "47444022432e46429de81027c0356636",
       "version_major": 2,
       "version_minor": 0
      },
      "text/plain": [
       "0/442           ETA: ?s - "
      ]
     },
     "metadata": {},
     "output_type": "display_data"
    },
    {
     "name": "stdout",
     "output_type": "stream",
     "text": [
      "Epoch 10/500\n"
     ]
    },
    {
     "data": {
      "application/vnd.jupyter.widget-view+json": {
       "model_id": "18e0ffee75084ae5a5dc5e3cdc313cf2",
       "version_major": 2,
       "version_minor": 0
      },
      "text/plain": [
       "0/442           ETA: ?s - "
      ]
     },
     "metadata": {},
     "output_type": "display_data"
    },
    {
     "name": "stdout",
     "output_type": "stream",
     "text": [
      "Epoch 11/500\n"
     ]
    },
    {
     "data": {
      "application/vnd.jupyter.widget-view+json": {
       "model_id": "03c4046d9a9746618e906a10be8311fc",
       "version_major": 2,
       "version_minor": 0
      },
      "text/plain": [
       "0/442           ETA: ?s - "
      ]
     },
     "metadata": {},
     "output_type": "display_data"
    },
    {
     "name": "stdout",
     "output_type": "stream",
     "text": [
      "Epoch 12/500\n"
     ]
    },
    {
     "data": {
      "application/vnd.jupyter.widget-view+json": {
       "model_id": "da979c59ff7e4c109e84bf4657d92535",
       "version_major": 2,
       "version_minor": 0
      },
      "text/plain": [
       "0/442           ETA: ?s - "
      ]
     },
     "metadata": {},
     "output_type": "display_data"
    },
    {
     "name": "stdout",
     "output_type": "stream",
     "text": [
      "Epoch 13/500\n"
     ]
    },
    {
     "data": {
      "application/vnd.jupyter.widget-view+json": {
       "model_id": "bc5f70e5c9f142a4b9da13d27eba4212",
       "version_major": 2,
       "version_minor": 0
      },
      "text/plain": [
       "0/442           ETA: ?s - "
      ]
     },
     "metadata": {},
     "output_type": "display_data"
    },
    {
     "name": "stdout",
     "output_type": "stream",
     "text": [
      "Epoch 14/500\n"
     ]
    },
    {
     "data": {
      "application/vnd.jupyter.widget-view+json": {
       "model_id": "412ea9e5f5194cf4b3b88c1f88f427ca",
       "version_major": 2,
       "version_minor": 0
      },
      "text/plain": [
       "0/442           ETA: ?s - "
      ]
     },
     "metadata": {},
     "output_type": "display_data"
    },
    {
     "name": "stdout",
     "output_type": "stream",
     "text": [
      "Epoch 15/500\n"
     ]
    },
    {
     "data": {
      "application/vnd.jupyter.widget-view+json": {
       "model_id": "7ad06db905f64d77aae2965bb9429cba",
       "version_major": 2,
       "version_minor": 0
      },
      "text/plain": [
       "0/442           ETA: ?s - "
      ]
     },
     "metadata": {},
     "output_type": "display_data"
    },
    {
     "name": "stdout",
     "output_type": "stream",
     "text": [
      "Epoch 16/500\n"
     ]
    },
    {
     "data": {
      "application/vnd.jupyter.widget-view+json": {
       "model_id": "7f91790a7e8b407ab3140e9e08bea0ee",
       "version_major": 2,
       "version_minor": 0
      },
      "text/plain": [
       "0/442           ETA: ?s - "
      ]
     },
     "metadata": {},
     "output_type": "display_data"
    },
    {
     "name": "stdout",
     "output_type": "stream",
     "text": [
      "Epoch 17/500\n"
     ]
    },
    {
     "data": {
      "application/vnd.jupyter.widget-view+json": {
       "model_id": "3f6fcaeeec2f424f8191d7a6bc1c6207",
       "version_major": 2,
       "version_minor": 0
      },
      "text/plain": [
       "0/442           ETA: ?s - "
      ]
     },
     "metadata": {},
     "output_type": "display_data"
    },
    {
     "name": "stdout",
     "output_type": "stream",
     "text": [
      "Epoch 18/500\n"
     ]
    },
    {
     "data": {
      "application/vnd.jupyter.widget-view+json": {
       "model_id": "451172453646450eb7a5e0e69402fceb",
       "version_major": 2,
       "version_minor": 0
      },
      "text/plain": [
       "0/442           ETA: ?s - "
      ]
     },
     "metadata": {},
     "output_type": "display_data"
    },
    {
     "name": "stdout",
     "output_type": "stream",
     "text": [
      "Epoch 19/500\n"
     ]
    },
    {
     "data": {
      "application/vnd.jupyter.widget-view+json": {
       "model_id": "3643e158fc9d4b5180701f3c4584b653",
       "version_major": 2,
       "version_minor": 0
      },
      "text/plain": [
       "0/442           ETA: ?s - "
      ]
     },
     "metadata": {},
     "output_type": "display_data"
    },
    {
     "name": "stdout",
     "output_type": "stream",
     "text": [
      "Epoch 20/500\n"
     ]
    },
    {
     "data": {
      "application/vnd.jupyter.widget-view+json": {
       "model_id": "77d5d91defe349988332316c302f7afa",
       "version_major": 2,
       "version_minor": 0
      },
      "text/plain": [
       "0/442           ETA: ?s - "
      ]
     },
     "metadata": {},
     "output_type": "display_data"
    },
    {
     "name": "stdout",
     "output_type": "stream",
     "text": [
      "Epoch 21/500\n"
     ]
    },
    {
     "data": {
      "application/vnd.jupyter.widget-view+json": {
       "model_id": "b1a080438ac4439fa413c7931df6d9b1",
       "version_major": 2,
       "version_minor": 0
      },
      "text/plain": [
       "0/442           ETA: ?s - "
      ]
     },
     "metadata": {},
     "output_type": "display_data"
    },
    {
     "name": "stdout",
     "output_type": "stream",
     "text": [
      "Epoch 22/500\n"
     ]
    },
    {
     "data": {
      "application/vnd.jupyter.widget-view+json": {
       "model_id": "5842a11773884724911e00eb3c62d33f",
       "version_major": 2,
       "version_minor": 0
      },
      "text/plain": [
       "0/442           ETA: ?s - "
      ]
     },
     "metadata": {},
     "output_type": "display_data"
    },
    {
     "name": "stdout",
     "output_type": "stream",
     "text": [
      "Epoch 23/500\n"
     ]
    },
    {
     "data": {
      "application/vnd.jupyter.widget-view+json": {
       "model_id": "fc5fe6a72dc54cf6b3f64d288587b8dc",
       "version_major": 2,
       "version_minor": 0
      },
      "text/plain": [
       "0/442           ETA: ?s - "
      ]
     },
     "metadata": {},
     "output_type": "display_data"
    },
    {
     "name": "stdout",
     "output_type": "stream",
     "text": [
      "Epoch 24/500\n"
     ]
    },
    {
     "data": {
      "application/vnd.jupyter.widget-view+json": {
       "model_id": "3b9e2c7a10544b3d8243e6e64eed6f93",
       "version_major": 2,
       "version_minor": 0
      },
      "text/plain": [
       "0/442           ETA: ?s - "
      ]
     },
     "metadata": {},
     "output_type": "display_data"
    },
    {
     "name": "stdout",
     "output_type": "stream",
     "text": [
      "Epoch 25/500\n"
     ]
    },
    {
     "data": {
      "application/vnd.jupyter.widget-view+json": {
       "model_id": "c0cde96863ea4e40bd5b5196d5005d4c",
       "version_major": 2,
       "version_minor": 0
      },
      "text/plain": [
       "0/442           ETA: ?s - "
      ]
     },
     "metadata": {},
     "output_type": "display_data"
    },
    {
     "name": "stdout",
     "output_type": "stream",
     "text": [
      "Epoch 26/500\n"
     ]
    },
    {
     "data": {
      "application/vnd.jupyter.widget-view+json": {
       "model_id": "dcd689c2c9284a8787f3c016f4d0b21e",
       "version_major": 2,
       "version_minor": 0
      },
      "text/plain": [
       "0/442           ETA: ?s - "
      ]
     },
     "metadata": {},
     "output_type": "display_data"
    },
    {
     "name": "stdout",
     "output_type": "stream",
     "text": [
      "Epoch 27/500\n"
     ]
    },
    {
     "data": {
      "application/vnd.jupyter.widget-view+json": {
       "model_id": "ebff12a7a678459fac9ed06eeb46821a",
       "version_major": 2,
       "version_minor": 0
      },
      "text/plain": [
       "0/442           ETA: ?s - "
      ]
     },
     "metadata": {},
     "output_type": "display_data"
    },
    {
     "name": "stdout",
     "output_type": "stream",
     "text": [
      "Epoch 28/500\n"
     ]
    },
    {
     "data": {
      "application/vnd.jupyter.widget-view+json": {
       "model_id": "5e80d328bfcf41679182b5f76c5fba70",
       "version_major": 2,
       "version_minor": 0
      },
      "text/plain": [
       "0/442           ETA: ?s - "
      ]
     },
     "metadata": {},
     "output_type": "display_data"
    },
    {
     "name": "stdout",
     "output_type": "stream",
     "text": [
      "Epoch 29/500\n"
     ]
    },
    {
     "data": {
      "application/vnd.jupyter.widget-view+json": {
       "model_id": "32b96421ca084e2db368ad87d59fa757",
       "version_major": 2,
       "version_minor": 0
      },
      "text/plain": [
       "0/442           ETA: ?s - "
      ]
     },
     "metadata": {},
     "output_type": "display_data"
    },
    {
     "name": "stdout",
     "output_type": "stream",
     "text": [
      "Epoch 30/500\n"
     ]
    },
    {
     "data": {
      "application/vnd.jupyter.widget-view+json": {
       "model_id": "08117a4d83f94339a314536a3d29ba8b",
       "version_major": 2,
       "version_minor": 0
      },
      "text/plain": [
       "0/442           ETA: ?s - "
      ]
     },
     "metadata": {},
     "output_type": "display_data"
    },
    {
     "name": "stdout",
     "output_type": "stream",
     "text": [
      "Epoch 31/500\n"
     ]
    },
    {
     "data": {
      "application/vnd.jupyter.widget-view+json": {
       "model_id": "1d36e102e5b240fc800de2e448f106b0",
       "version_major": 2,
       "version_minor": 0
      },
      "text/plain": [
       "0/442           ETA: ?s - "
      ]
     },
     "metadata": {},
     "output_type": "display_data"
    },
    {
     "name": "stdout",
     "output_type": "stream",
     "text": [
      "Epoch 32/500\n"
     ]
    },
    {
     "data": {
      "application/vnd.jupyter.widget-view+json": {
       "model_id": "fe33860f225f464196763809500121da",
       "version_major": 2,
       "version_minor": 0
      },
      "text/plain": [
       "0/442           ETA: ?s - "
      ]
     },
     "metadata": {},
     "output_type": "display_data"
    },
    {
     "name": "stdout",
     "output_type": "stream",
     "text": [
      "Epoch 33/500\n"
     ]
    },
    {
     "data": {
      "application/vnd.jupyter.widget-view+json": {
       "model_id": "053805e86a9b4f33bd93b15bf3ce5fbe",
       "version_major": 2,
       "version_minor": 0
      },
      "text/plain": [
       "0/442           ETA: ?s - "
      ]
     },
     "metadata": {},
     "output_type": "display_data"
    },
    {
     "name": "stdout",
     "output_type": "stream",
     "text": [
      "Epoch 34/500\n"
     ]
    },
    {
     "data": {
      "application/vnd.jupyter.widget-view+json": {
       "model_id": "3c29ca0ede0e4cd5b3870d3bf974350c",
       "version_major": 2,
       "version_minor": 0
      },
      "text/plain": [
       "0/442           ETA: ?s - "
      ]
     },
     "metadata": {},
     "output_type": "display_data"
    },
    {
     "name": "stdout",
     "output_type": "stream",
     "text": [
      "Epoch 35/500\n"
     ]
    },
    {
     "data": {
      "application/vnd.jupyter.widget-view+json": {
       "model_id": "acd10928191c402ea418a4d324862e89",
       "version_major": 2,
       "version_minor": 0
      },
      "text/plain": [
       "0/442           ETA: ?s - "
      ]
     },
     "metadata": {},
     "output_type": "display_data"
    },
    {
     "name": "stdout",
     "output_type": "stream",
     "text": [
      "Epoch 36/500\n"
     ]
    },
    {
     "data": {
      "application/vnd.jupyter.widget-view+json": {
       "model_id": "cffdfddc18fc4221aaed7c984c1e20ae",
       "version_major": 2,
       "version_minor": 0
      },
      "text/plain": [
       "0/442           ETA: ?s - "
      ]
     },
     "metadata": {},
     "output_type": "display_data"
    },
    {
     "name": "stdout",
     "output_type": "stream",
     "text": [
      "Epoch 37/500\n"
     ]
    },
    {
     "data": {
      "application/vnd.jupyter.widget-view+json": {
       "model_id": "da82452db98a4da0bfedffcb2d7b1d71",
       "version_major": 2,
       "version_minor": 0
      },
      "text/plain": [
       "0/442           ETA: ?s - "
      ]
     },
     "metadata": {},
     "output_type": "display_data"
    },
    {
     "name": "stdout",
     "output_type": "stream",
     "text": [
      "Epoch 38/500\n"
     ]
    },
    {
     "data": {
      "application/vnd.jupyter.widget-view+json": {
       "model_id": "f8306a33e82b4441a0bf6f176b3266ab",
       "version_major": 2,
       "version_minor": 0
      },
      "text/plain": [
       "0/442           ETA: ?s - "
      ]
     },
     "metadata": {},
     "output_type": "display_data"
    },
    {
     "name": "stdout",
     "output_type": "stream",
     "text": [
      "Epoch 39/500\n"
     ]
    },
    {
     "data": {
      "application/vnd.jupyter.widget-view+json": {
       "model_id": "a97c0fdae05b4c98a31cd15483e5ade7",
       "version_major": 2,
       "version_minor": 0
      },
      "text/plain": [
       "0/442           ETA: ?s - "
      ]
     },
     "metadata": {},
     "output_type": "display_data"
    },
    {
     "name": "stdout",
     "output_type": "stream",
     "text": [
      "Epoch 40/500\n"
     ]
    },
    {
     "data": {
      "application/vnd.jupyter.widget-view+json": {
       "model_id": "37028fcbfcfd4717a4dd53d2ab124d09",
       "version_major": 2,
       "version_minor": 0
      },
      "text/plain": [
       "0/442           ETA: ?s - "
      ]
     },
     "metadata": {},
     "output_type": "display_data"
    },
    {
     "name": "stdout",
     "output_type": "stream",
     "text": [
      "Epoch 41/500\n"
     ]
    },
    {
     "data": {
      "application/vnd.jupyter.widget-view+json": {
       "model_id": "f8687bd362f44dc6bc4fc1c40e49cc99",
       "version_major": 2,
       "version_minor": 0
      },
      "text/plain": [
       "0/442           ETA: ?s - "
      ]
     },
     "metadata": {},
     "output_type": "display_data"
    },
    {
     "name": "stdout",
     "output_type": "stream",
     "text": [
      "Epoch 42/500\n"
     ]
    },
    {
     "data": {
      "application/vnd.jupyter.widget-view+json": {
       "model_id": "b0038bad3da14ea993100f3bf218b517",
       "version_major": 2,
       "version_minor": 0
      },
      "text/plain": [
       "0/442           ETA: ?s - "
      ]
     },
     "metadata": {},
     "output_type": "display_data"
    },
    {
     "name": "stdout",
     "output_type": "stream",
     "text": [
      "Epoch 43/500\n"
     ]
    },
    {
     "data": {
      "application/vnd.jupyter.widget-view+json": {
       "model_id": "b8359a7adc7444f3976a9a7ef8acba28",
       "version_major": 2,
       "version_minor": 0
      },
      "text/plain": [
       "0/442           ETA: ?s - "
      ]
     },
     "metadata": {},
     "output_type": "display_data"
    },
    {
     "name": "stdout",
     "output_type": "stream",
     "text": [
      "Epoch 44/500\n"
     ]
    },
    {
     "data": {
      "application/vnd.jupyter.widget-view+json": {
       "model_id": "22541f22ff6d4a86bbfa686879d80a01",
       "version_major": 2,
       "version_minor": 0
      },
      "text/plain": [
       "0/442           ETA: ?s - "
      ]
     },
     "metadata": {},
     "output_type": "display_data"
    },
    {
     "name": "stdout",
     "output_type": "stream",
     "text": [
      "Epoch 45/500\n"
     ]
    },
    {
     "data": {
      "application/vnd.jupyter.widget-view+json": {
       "model_id": "d467b78f6498419497c5b3482c669d7b",
       "version_major": 2,
       "version_minor": 0
      },
      "text/plain": [
       "0/442           ETA: ?s - "
      ]
     },
     "metadata": {},
     "output_type": "display_data"
    },
    {
     "name": "stdout",
     "output_type": "stream",
     "text": [
      "Epoch 46/500\n"
     ]
    },
    {
     "data": {
      "application/vnd.jupyter.widget-view+json": {
       "model_id": "a0e1624184c14b07a60b320121975669",
       "version_major": 2,
       "version_minor": 0
      },
      "text/plain": [
       "0/442           ETA: ?s - "
      ]
     },
     "metadata": {},
     "output_type": "display_data"
    },
    {
     "name": "stdout",
     "output_type": "stream",
     "text": [
      "Epoch 47/500\n"
     ]
    },
    {
     "data": {
      "application/vnd.jupyter.widget-view+json": {
       "model_id": "fe948a009b714f18a40a77e25d29b746",
       "version_major": 2,
       "version_minor": 0
      },
      "text/plain": [
       "0/442           ETA: ?s - "
      ]
     },
     "metadata": {},
     "output_type": "display_data"
    },
    {
     "name": "stdout",
     "output_type": "stream",
     "text": [
      "Epoch 48/500\n"
     ]
    },
    {
     "data": {
      "application/vnd.jupyter.widget-view+json": {
       "model_id": "3f9f8dd31c454631bff9f9446ee4c587",
       "version_major": 2,
       "version_minor": 0
      },
      "text/plain": [
       "0/442           ETA: ?s - "
      ]
     },
     "metadata": {},
     "output_type": "display_data"
    },
    {
     "name": "stdout",
     "output_type": "stream",
     "text": [
      "Epoch 49/500\n"
     ]
    },
    {
     "data": {
      "application/vnd.jupyter.widget-view+json": {
       "model_id": "4df62209798d453489a366d5732f83f1",
       "version_major": 2,
       "version_minor": 0
      },
      "text/plain": [
       "0/442           ETA: ?s - "
      ]
     },
     "metadata": {},
     "output_type": "display_data"
    },
    {
     "name": "stdout",
     "output_type": "stream",
     "text": [
      "Epoch 50/500\n"
     ]
    },
    {
     "data": {
      "application/vnd.jupyter.widget-view+json": {
       "model_id": "9d1be4ee5d814e5d9837133b72c6034c",
       "version_major": 2,
       "version_minor": 0
      },
      "text/plain": [
       "0/442           ETA: ?s - "
      ]
     },
     "metadata": {},
     "output_type": "display_data"
    },
    {
     "name": "stdout",
     "output_type": "stream",
     "text": [
      "Epoch 51/500\n"
     ]
    },
    {
     "data": {
      "application/vnd.jupyter.widget-view+json": {
       "model_id": "996241fe54de471cac3ba390681995d5",
       "version_major": 2,
       "version_minor": 0
      },
      "text/plain": [
       "0/442           ETA: ?s - "
      ]
     },
     "metadata": {},
     "output_type": "display_data"
    },
    {
     "name": "stdout",
     "output_type": "stream",
     "text": [
      "Epoch 52/500\n"
     ]
    },
    {
     "data": {
      "application/vnd.jupyter.widget-view+json": {
       "model_id": "e130799676a14104af1449f0de46739b",
       "version_major": 2,
       "version_minor": 0
      },
      "text/plain": [
       "0/442           ETA: ?s - "
      ]
     },
     "metadata": {},
     "output_type": "display_data"
    },
    {
     "name": "stdout",
     "output_type": "stream",
     "text": [
      "Epoch 53/500\n"
     ]
    },
    {
     "data": {
      "application/vnd.jupyter.widget-view+json": {
       "model_id": "03ad01b62afe491d862d283e750b5b27",
       "version_major": 2,
       "version_minor": 0
      },
      "text/plain": [
       "0/442           ETA: ?s - "
      ]
     },
     "metadata": {},
     "output_type": "display_data"
    },
    {
     "name": "stdout",
     "output_type": "stream",
     "text": [
      "Epoch 54/500\n"
     ]
    },
    {
     "data": {
      "application/vnd.jupyter.widget-view+json": {
       "model_id": "9f42be3e600e463ea0e5f9bc09778b3e",
       "version_major": 2,
       "version_minor": 0
      },
      "text/plain": [
       "0/442           ETA: ?s - "
      ]
     },
     "metadata": {},
     "output_type": "display_data"
    },
    {
     "name": "stdout",
     "output_type": "stream",
     "text": [
      "Epoch 55/500\n"
     ]
    },
    {
     "data": {
      "application/vnd.jupyter.widget-view+json": {
       "model_id": "d8c8f55178a246ed8f8eb1b1beeed9aa",
       "version_major": 2,
       "version_minor": 0
      },
      "text/plain": [
       "0/442           ETA: ?s - "
      ]
     },
     "metadata": {},
     "output_type": "display_data"
    },
    {
     "name": "stdout",
     "output_type": "stream",
     "text": [
      "Epoch 56/500\n"
     ]
    },
    {
     "data": {
      "application/vnd.jupyter.widget-view+json": {
       "model_id": "16e20b1aee2c404c860ac115efcb0a99",
       "version_major": 2,
       "version_minor": 0
      },
      "text/plain": [
       "0/442           ETA: ?s - "
      ]
     },
     "metadata": {},
     "output_type": "display_data"
    },
    {
     "name": "stdout",
     "output_type": "stream",
     "text": [
      "Epoch 57/500\n"
     ]
    },
    {
     "data": {
      "application/vnd.jupyter.widget-view+json": {
       "model_id": "00f8ed430677491990b3e31e7b634cde",
       "version_major": 2,
       "version_minor": 0
      },
      "text/plain": [
       "0/442           ETA: ?s - "
      ]
     },
     "metadata": {},
     "output_type": "display_data"
    },
    {
     "name": "stdout",
     "output_type": "stream",
     "text": [
      "Epoch 58/500\n"
     ]
    },
    {
     "data": {
      "application/vnd.jupyter.widget-view+json": {
       "model_id": "d61e948c27604d0aa3abc984f453eb91",
       "version_major": 2,
       "version_minor": 0
      },
      "text/plain": [
       "0/442           ETA: ?s - "
      ]
     },
     "metadata": {},
     "output_type": "display_data"
    },
    {
     "name": "stdout",
     "output_type": "stream",
     "text": [
      "Epoch 59/500\n"
     ]
    },
    {
     "data": {
      "application/vnd.jupyter.widget-view+json": {
       "model_id": "1fdd4a805dc24ef8bf82eccb3a763455",
       "version_major": 2,
       "version_minor": 0
      },
      "text/plain": [
       "0/442           ETA: ?s - "
      ]
     },
     "metadata": {},
     "output_type": "display_data"
    },
    {
     "name": "stdout",
     "output_type": "stream",
     "text": [
      "Epoch 60/500\n"
     ]
    },
    {
     "data": {
      "application/vnd.jupyter.widget-view+json": {
       "model_id": "77af0f3c43b3417eb2e3fd14d480c770",
       "version_major": 2,
       "version_minor": 0
      },
      "text/plain": [
       "0/442           ETA: ?s - "
      ]
     },
     "metadata": {},
     "output_type": "display_data"
    },
    {
     "name": "stdout",
     "output_type": "stream",
     "text": [
      "Epoch 61/500\n"
     ]
    },
    {
     "data": {
      "application/vnd.jupyter.widget-view+json": {
       "model_id": "90ffc1a51fd54e31808859bb505bdab5",
       "version_major": 2,
       "version_minor": 0
      },
      "text/plain": [
       "0/442           ETA: ?s - "
      ]
     },
     "metadata": {},
     "output_type": "display_data"
    },
    {
     "name": "stdout",
     "output_type": "stream",
     "text": [
      "Epoch 62/500\n"
     ]
    },
    {
     "data": {
      "application/vnd.jupyter.widget-view+json": {
       "model_id": "7ddcf1ac89ff40808fcf636db85bada5",
       "version_major": 2,
       "version_minor": 0
      },
      "text/plain": [
       "0/442           ETA: ?s - "
      ]
     },
     "metadata": {},
     "output_type": "display_data"
    },
    {
     "name": "stdout",
     "output_type": "stream",
     "text": [
      "Epoch 63/500\n"
     ]
    },
    {
     "data": {
      "application/vnd.jupyter.widget-view+json": {
       "model_id": "994bab8bd9e549a4b5c3b3d79a50dbe8",
       "version_major": 2,
       "version_minor": 0
      },
      "text/plain": [
       "0/442           ETA: ?s - "
      ]
     },
     "metadata": {},
     "output_type": "display_data"
    },
    {
     "name": "stdout",
     "output_type": "stream",
     "text": [
      "Epoch 64/500\n"
     ]
    },
    {
     "data": {
      "application/vnd.jupyter.widget-view+json": {
       "model_id": "8d346b5ee00a49689b9ba65c145790eb",
       "version_major": 2,
       "version_minor": 0
      },
      "text/plain": [
       "0/442           ETA: ?s - "
      ]
     },
     "metadata": {},
     "output_type": "display_data"
    },
    {
     "name": "stdout",
     "output_type": "stream",
     "text": [
      "Epoch 65/500\n"
     ]
    },
    {
     "data": {
      "application/vnd.jupyter.widget-view+json": {
       "model_id": "73a14c7544de4a9e99c3addd12c2a0d5",
       "version_major": 2,
       "version_minor": 0
      },
      "text/plain": [
       "0/442           ETA: ?s - "
      ]
     },
     "metadata": {},
     "output_type": "display_data"
    },
    {
     "name": "stdout",
     "output_type": "stream",
     "text": [
      "Epoch 66/500\n"
     ]
    },
    {
     "data": {
      "application/vnd.jupyter.widget-view+json": {
       "model_id": "1ae37064eac04f1085fe901b8c6f2a2d",
       "version_major": 2,
       "version_minor": 0
      },
      "text/plain": [
       "0/442           ETA: ?s - "
      ]
     },
     "metadata": {},
     "output_type": "display_data"
    },
    {
     "name": "stdout",
     "output_type": "stream",
     "text": [
      "Epoch 67/500\n"
     ]
    },
    {
     "data": {
      "application/vnd.jupyter.widget-view+json": {
       "model_id": "358dc698e8b84b4b91fd11ebbf96af3e",
       "version_major": 2,
       "version_minor": 0
      },
      "text/plain": [
       "0/442           ETA: ?s - "
      ]
     },
     "metadata": {},
     "output_type": "display_data"
    },
    {
     "name": "stdout",
     "output_type": "stream",
     "text": [
      "Epoch 68/500\n"
     ]
    },
    {
     "data": {
      "application/vnd.jupyter.widget-view+json": {
       "model_id": "16de348fcc784eccbd4e0ce5946e0231",
       "version_major": 2,
       "version_minor": 0
      },
      "text/plain": [
       "0/442           ETA: ?s - "
      ]
     },
     "metadata": {},
     "output_type": "display_data"
    },
    {
     "name": "stdout",
     "output_type": "stream",
     "text": [
      "Epoch 69/500\n"
     ]
    },
    {
     "data": {
      "application/vnd.jupyter.widget-view+json": {
       "model_id": "2adc0b0f8ddc4c5e80e7fc89476000e9",
       "version_major": 2,
       "version_minor": 0
      },
      "text/plain": [
       "0/442           ETA: ?s - "
      ]
     },
     "metadata": {},
     "output_type": "display_data"
    },
    {
     "name": "stdout",
     "output_type": "stream",
     "text": [
      "Epoch 70/500\n"
     ]
    },
    {
     "data": {
      "application/vnd.jupyter.widget-view+json": {
       "model_id": "4c2c6e71a4a1491c85f23581e1bcf10e",
       "version_major": 2,
       "version_minor": 0
      },
      "text/plain": [
       "0/442           ETA: ?s - "
      ]
     },
     "metadata": {},
     "output_type": "display_data"
    },
    {
     "name": "stdout",
     "output_type": "stream",
     "text": [
      "Epoch 71/500\n"
     ]
    },
    {
     "data": {
      "application/vnd.jupyter.widget-view+json": {
       "model_id": "b2393dccd78b4f1aa7ac10b68bdf1983",
       "version_major": 2,
       "version_minor": 0
      },
      "text/plain": [
       "0/442           ETA: ?s - "
      ]
     },
     "metadata": {},
     "output_type": "display_data"
    },
    {
     "name": "stdout",
     "output_type": "stream",
     "text": [
      "Epoch 72/500\n"
     ]
    },
    {
     "data": {
      "application/vnd.jupyter.widget-view+json": {
       "model_id": "b2083e8d2141418d8d09482d97a45929",
       "version_major": 2,
       "version_minor": 0
      },
      "text/plain": [
       "0/442           ETA: ?s - "
      ]
     },
     "metadata": {},
     "output_type": "display_data"
    },
    {
     "name": "stdout",
     "output_type": "stream",
     "text": [
      "Epoch 73/500\n"
     ]
    },
    {
     "data": {
      "application/vnd.jupyter.widget-view+json": {
       "model_id": "fdf5cd7a2dc849068a1120928106e218",
       "version_major": 2,
       "version_minor": 0
      },
      "text/plain": [
       "0/442           ETA: ?s - "
      ]
     },
     "metadata": {},
     "output_type": "display_data"
    },
    {
     "name": "stdout",
     "output_type": "stream",
     "text": [
      "Epoch 74/500\n"
     ]
    },
    {
     "data": {
      "application/vnd.jupyter.widget-view+json": {
       "model_id": "199f00d5e5784130b89bf3a00f9993bc",
       "version_major": 2,
       "version_minor": 0
      },
      "text/plain": [
       "0/442           ETA: ?s - "
      ]
     },
     "metadata": {},
     "output_type": "display_data"
    },
    {
     "name": "stdout",
     "output_type": "stream",
     "text": [
      "Epoch 75/500\n"
     ]
    },
    {
     "data": {
      "application/vnd.jupyter.widget-view+json": {
       "model_id": "674f32a5143c4cd89a72a4dd5ff324db",
       "version_major": 2,
       "version_minor": 0
      },
      "text/plain": [
       "0/442           ETA: ?s - "
      ]
     },
     "metadata": {},
     "output_type": "display_data"
    },
    {
     "name": "stdout",
     "output_type": "stream",
     "text": [
      "Epoch 76/500\n"
     ]
    },
    {
     "data": {
      "application/vnd.jupyter.widget-view+json": {
       "model_id": "4c2ed2d91e074347b18cef5be3c41cdd",
       "version_major": 2,
       "version_minor": 0
      },
      "text/plain": [
       "0/442           ETA: ?s - "
      ]
     },
     "metadata": {},
     "output_type": "display_data"
    },
    {
     "name": "stdout",
     "output_type": "stream",
     "text": [
      "Epoch 77/500\n"
     ]
    },
    {
     "data": {
      "application/vnd.jupyter.widget-view+json": {
       "model_id": "17046e0816d643a9a24ea7037a0c9f99",
       "version_major": 2,
       "version_minor": 0
      },
      "text/plain": [
       "0/442           ETA: ?s - "
      ]
     },
     "metadata": {},
     "output_type": "display_data"
    },
    {
     "name": "stdout",
     "output_type": "stream",
     "text": [
      "Epoch 78/500\n"
     ]
    },
    {
     "data": {
      "application/vnd.jupyter.widget-view+json": {
       "model_id": "8a4d2873f7d149c0b7655cab298bb374",
       "version_major": 2,
       "version_minor": 0
      },
      "text/plain": [
       "0/442           ETA: ?s - "
      ]
     },
     "metadata": {},
     "output_type": "display_data"
    },
    {
     "name": "stdout",
     "output_type": "stream",
     "text": [
      "Epoch 79/500\n"
     ]
    },
    {
     "data": {
      "application/vnd.jupyter.widget-view+json": {
       "model_id": "bdba9c853b5743b895dc376b57a67982",
       "version_major": 2,
       "version_minor": 0
      },
      "text/plain": [
       "0/442           ETA: ?s - "
      ]
     },
     "metadata": {},
     "output_type": "display_data"
    },
    {
     "name": "stdout",
     "output_type": "stream",
     "text": [
      "Epoch 80/500\n"
     ]
    },
    {
     "data": {
      "application/vnd.jupyter.widget-view+json": {
       "model_id": "83f280681fec41b3bc8253d91961a5b0",
       "version_major": 2,
       "version_minor": 0
      },
      "text/plain": [
       "0/442           ETA: ?s - "
      ]
     },
     "metadata": {},
     "output_type": "display_data"
    },
    {
     "name": "stdout",
     "output_type": "stream",
     "text": [
      "Epoch 81/500\n"
     ]
    },
    {
     "data": {
      "application/vnd.jupyter.widget-view+json": {
       "model_id": "17c1e2ed5338405cb72b69f571ea800b",
       "version_major": 2,
       "version_minor": 0
      },
      "text/plain": [
       "0/442           ETA: ?s - "
      ]
     },
     "metadata": {},
     "output_type": "display_data"
    },
    {
     "name": "stdout",
     "output_type": "stream",
     "text": [
      "Epoch 82/500\n"
     ]
    },
    {
     "data": {
      "application/vnd.jupyter.widget-view+json": {
       "model_id": "942f80a227244f98b5bb7317580544b3",
       "version_major": 2,
       "version_minor": 0
      },
      "text/plain": [
       "0/442           ETA: ?s - "
      ]
     },
     "metadata": {},
     "output_type": "display_data"
    },
    {
     "name": "stdout",
     "output_type": "stream",
     "text": [
      "Epoch 82: early stopping\n",
      "INFO:tensorflow:Assets written to: /tmp/tmpbyp28j8r/model/data/model/assets\n",
      "CPU times: user 5min 29s, sys: 59.5 s, total: 6min 28s\n",
      "Wall time: 4min 30s\n"
     ]
    }
   ],
   "source": [
    "%%time\n",
    "with mlflow.start_run():\n",
    "    mlflow.log_params({\n",
    "        \"classes\": classes,\n",
    "        \"equalized\": EQUALIZE,\n",
    "        \"test slide\": test_slide,\n",
    "        \"x_train_shape\": x_train.shape,\n",
    "        \"y_train_shape\": y_train.shape,\n",
    "        \"x_test_shape\": x_test.shape,\n",
    "        \"y_test_shape\": y_test.shape\n",
    "    })\n",
    "\n",
    "    model = keras.Sequential([\n",
    "        keras.layers.Input(shape=(x_train.shape[1])),\n",
    "        keras.layers.Dense(512, activation=\"relu\"),\n",
    "        keras.layers.Dense(512, activation=\"relu\"),\n",
    "        keras.layers.Dense(len(classes), activation=\"softmax\")\n",
    "    ])\n",
    "    model.compile(\n",
    "        optimizer=keras.optimizers.Adam(learning_rate=keras.optimizers.schedules.ExponentialDecay(\n",
    "            .001,\n",
    "            decay_steps=1e4,\n",
    "            decay_rate=0.96,\n",
    "            staircase=True\n",
    "        )),\n",
    "        loss=keras.losses.CategoricalCrossentropy(),\n",
    "        metrics=[keras.metrics.CategoricalAccuracy()],\n",
    "    )\n",
    "    print(model.summary())\n",
    "    history = model.fit(x_train,\n",
    "                        y_train,\n",
    "                        batch_size=BATCH_SIZE,\n",
    "                        validation_data=(x_test, y_test),\n",
    "                        epochs=500,\n",
    "                        verbose=0,\n",
    "                        class_weight=class_weights,\n",
    "                        callbacks=[\n",
    "                            keras.callbacks.EarlyStopping(monitor='val_categorical_accuracy',patience=50, verbose=1),\n",
    "                            tfa.callbacks.TQDMProgressBar()\n",
    "                        ])"
   ]
  },
  {
   "cell_type": "code",
   "execution_count": 26,
   "id": "94744f4c",
   "metadata": {},
   "outputs": [],
   "source": [
    "model.save(f\"models/{len(classes)}_class.h5\")"
   ]
  },
  {
   "cell_type": "code",
   "execution_count": 27,
   "id": "c0b0f2ba",
   "metadata": {},
   "outputs": [
    {
     "data": {
      "text/plain": [
       "<AxesSubplot:>"
      ]
     },
     "execution_count": 27,
     "metadata": {},
     "output_type": "execute_result"
    },
    {
     "data": {
      "image/png": "[encoded data removed]",
      "text/plain": [
       "<Figure size 432x288 with 1 Axes>"
      ]
     },
     "metadata": {
      "needs_background": "light"
     },
     "output_type": "display_data"
    },
    {
     "data": {
      "image/png": "[encoded data removed]",
      "text/plain": [
       "<Figure size 432x288 with 1 Axes>"
      ]
     },
     "metadata": {
      "needs_background": "light"
     },
     "output_type": "display_data"
    }
   ],
   "source": [
    "history_df = pd.DataFrame(history.history)\n",
    "history_df[['loss', 'val_loss']].plot()\n",
    "history_df[['categorical_accuracy', 'val_categorical_accuracy']].plot()"
   ]
  },
  {
   "cell_type": "code",
   "execution_count": 28,
   "id": "160a4bf0",
   "metadata": {},
   "outputs": [
    {
     "name": "stdout",
     "output_type": "stream",
     "text": [
      "286/286 [==============================] - 1s 2ms/step\n"
     ]
    }
   ],
   "source": [
    "y_pred = model.predict(x_test)"
   ]
  },
  {
   "cell_type": "code",
   "execution_count": 29,
   "id": "70fbc333",
   "metadata": {},
   "outputs": [
    {
     "data": {
      "text/plain": [
       "count    9148.000000\n",
       "mean        0.929199\n",
       "std         0.128906\n",
       "min         0.294678\n",
       "25%         0.929199\n",
       "50%         0.997559\n",
       "75%         1.000000\n",
       "max         1.000000\n",
       "dtype: float64"
      ]
     },
     "execution_count": 29,
     "metadata": {},
     "output_type": "execute_result"
    }
   ],
   "source": [
    "predicted_codes = y_pred.argmax(axis=1)\n",
    "confidence = y_pred.max(axis=1)\n",
    "pd.Series(confidence).describe()"
   ]
  },
  {
   "cell_type": "code",
   "execution_count": 30,
   "id": "aecf2ce8",
   "metadata": {},
   "outputs": [
    {
     "data": {
      "text/plain": [
       "Morula               1520\n",
       "Empty                1340\n",
       "2pn                  1188\n",
       "Blastocyst           1068\n",
       "Syngamy               976\n",
       "4 Cell                652\n",
       "2 Cell                608\n",
       "8 Cell                524\n",
       "Compacting 8 cell     476\n",
       "6 Cell                312\n",
       "3 Cell                260\n",
       "5 Cell                224\n",
       "dtype: int64"
      ]
     },
     "execution_count": 30,
     "metadata": {},
     "output_type": "execute_result"
    }
   ],
   "source": [
    "true_classes = [classes[c] for c in y_test.argmax(axis=1)]\n",
    "pd.Series(true_classes).value_counts()"
   ]
  },
  {
   "cell_type": "code",
   "execution_count": 31,
   "id": "b1d6833b",
   "metadata": {},
   "outputs": [
    {
     "data": {
      "text/html": [
       "<div>\n",
       "<style scoped>\n",
       "    .dataframe tbody tr th:only-of-type {\n",
       "        vertical-align: middle;\n",
       "    }\n",
       "\n",
       "    .dataframe tbody tr th {\n",
       "        vertical-align: top;\n",
       "    }\n",
       "\n",
       "    .dataframe thead th {\n",
       "        text-align: right;\n",
       "    }\n",
       "</style>\n",
       "<table border=\"1\" class=\"dataframe\">\n",
       "  <thead>\n",
       "    <tr style=\"text-align: right;\">\n",
       "      <th></th>\n",
       "      <th>true_class</th>\n",
       "      <th>predicted_class</th>\n",
       "      <th>confidence</th>\n",
       "    </tr>\n",
       "  </thead>\n",
       "  <tbody>\n",
       "    <tr>\n",
       "      <th>0</th>\n",
       "      <td>2 Cell</td>\n",
       "      <td>2 Cell</td>\n",
       "      <td>1.000000</td>\n",
       "    </tr>\n",
       "    <tr>\n",
       "      <th>1</th>\n",
       "      <td>2 Cell</td>\n",
       "      <td>2 Cell</td>\n",
       "      <td>1.000000</td>\n",
       "    </tr>\n",
       "    <tr>\n",
       "      <th>2</th>\n",
       "      <td>2 Cell</td>\n",
       "      <td>2 Cell</td>\n",
       "      <td>1.000000</td>\n",
       "    </tr>\n",
       "    <tr>\n",
       "      <th>3</th>\n",
       "      <td>2 Cell</td>\n",
       "      <td>2 Cell</td>\n",
       "      <td>0.993164</td>\n",
       "    </tr>\n",
       "    <tr>\n",
       "      <th>4</th>\n",
       "      <td>2 Cell</td>\n",
       "      <td>2 Cell</td>\n",
       "      <td>0.996582</td>\n",
       "    </tr>\n",
       "    <tr>\n",
       "      <th>...</th>\n",
       "      <td>...</td>\n",
       "      <td>...</td>\n",
       "      <td>...</td>\n",
       "    </tr>\n",
       "    <tr>\n",
       "      <th>9143</th>\n",
       "      <td>Syngamy</td>\n",
       "      <td>Syngamy</td>\n",
       "      <td>0.994141</td>\n",
       "    </tr>\n",
       "    <tr>\n",
       "      <th>9144</th>\n",
       "      <td>Syngamy</td>\n",
       "      <td>2pn</td>\n",
       "      <td>0.960449</td>\n",
       "    </tr>\n",
       "    <tr>\n",
       "      <th>9145</th>\n",
       "      <td>Syngamy</td>\n",
       "      <td>2pn</td>\n",
       "      <td>0.995117</td>\n",
       "    </tr>\n",
       "    <tr>\n",
       "      <th>9146</th>\n",
       "      <td>Syngamy</td>\n",
       "      <td>Syngamy</td>\n",
       "      <td>1.000000</td>\n",
       "    </tr>\n",
       "    <tr>\n",
       "      <th>9147</th>\n",
       "      <td>Syngamy</td>\n",
       "      <td>Syngamy</td>\n",
       "      <td>1.000000</td>\n",
       "    </tr>\n",
       "  </tbody>\n",
       "</table>\n",
       "<p>9148 rows × 3 columns</p>\n",
       "</div>"
      ],
      "text/plain": [
       "     true_class predicted_class  confidence\n",
       "0        2 Cell          2 Cell    1.000000\n",
       "1        2 Cell          2 Cell    1.000000\n",
       "2        2 Cell          2 Cell    1.000000\n",
       "3        2 Cell          2 Cell    0.993164\n",
       "4        2 Cell          2 Cell    0.996582\n",
       "...         ...             ...         ...\n",
       "9143    Syngamy         Syngamy    0.994141\n",
       "9144    Syngamy             2pn    0.960449\n",
       "9145    Syngamy             2pn    0.995117\n",
       "9146    Syngamy         Syngamy    1.000000\n",
       "9147    Syngamy         Syngamy    1.000000\n",
       "\n",
       "[9148 rows x 3 columns]"
      ]
     },
     "execution_count": 31,
     "metadata": {},
     "output_type": "execute_result"
    }
   ],
   "source": [
    "validation_df = pd.DataFrame()\n",
    "validation_df[\"true_class\"] = true_classes\n",
    "validation_df[\"predicted_class\"] = [classes[c] for c in predicted_codes]\n",
    "validation_df[\"confidence\"] = confidence\n",
    "validation_df"
   ]
  },
  {
   "cell_type": "code",
   "execution_count": 32,
   "id": "b3ef09d2",
   "metadata": {},
   "outputs": [
    {
     "data": {
      "text/plain": [
       "predicted_class\n",
       "2 Cell               0.997559\n",
       "2pn                  1.000000\n",
       "3 Cell               0.877930\n",
       "4 Cell               0.988281\n",
       "5 Cell               0.854004\n",
       "6 Cell               0.903809\n",
       "8 Cell               0.808594\n",
       "Blastocyst           0.999512\n",
       "Compacting 8 cell    0.875000\n",
       "Empty                1.000000\n",
       "Morula               0.983887\n",
       "Syngamy              1.000000\n",
       "Name: confidence, dtype: float16"
      ]
     },
     "execution_count": 32,
     "metadata": {},
     "output_type": "execute_result"
    }
   ],
   "source": [
    "validation_df.groupby(\"predicted_class\").confidence.median()"
   ]
  },
  {
   "cell_type": "code",
   "execution_count": 33,
   "id": "9472e193",
   "metadata": {},
   "outputs": [],
   "source": [
    "validation_df.to_csv(\"validation_predictions.csv\", index=False)"
   ]
  },
  {
   "cell_type": "code",
   "execution_count": 34,
   "id": "f3a61eb6",
   "metadata": {
    "scrolled": false
   },
   "outputs": [
    {
     "name": "stdout",
     "output_type": "stream",
     "text": [
      "                   precision    recall  f1-score   support\n",
      "\n",
      "           2 Cell       0.70      0.83      0.76       608\n",
      "              2pn       0.90      0.94      0.92      1188\n",
      "           3 Cell       0.19      0.26      0.22       260\n",
      "           4 Cell       0.50      0.43      0.46       652\n",
      "           5 Cell       0.18      0.17      0.17       224\n",
      "           6 Cell       0.29      0.39      0.33       312\n",
      "           8 Cell       0.60      0.27      0.38       524\n",
      "       Blastocyst       0.92      0.92      0.92      1068\n",
      "Compacting 8 cell       0.50      0.56      0.53       476\n",
      "            Empty       1.00      1.00      1.00      1340\n",
      "           Morula       0.87      0.91      0.89      1520\n",
      "          Syngamy       0.93      0.83      0.88       976\n",
      "\n",
      "         accuracy                           0.77      9148\n",
      "        macro avg       0.63      0.63      0.62      9148\n",
      "     weighted avg       0.78      0.77      0.77      9148\n",
      "\n",
      "[  0.    0.    0.    0.    0.    0.    0.    1.1  51.  120.1]\n"
     ]
    },
    {
     "data": {
      "text/plain": [
       "Text(66.5, 0.5, 'True')"
      ]
     },
     "execution_count": 34,
     "metadata": {},
     "output_type": "execute_result"
    },
    {
     "data": {
      "image/png": "[encoded data removed]",
      "text/plain": [
       "<Figure size 720x720 with 2 Axes>"
      ]
     },
     "metadata": {
      "needs_background": "light"
     },
     "output_type": "display_data"
    }
   ],
   "source": [
    "print(classification_report(validation_df[\"true_class\"], validation_df[\"predicted_class\"]))\n",
    "confusion = confusion_matrix(validation_df[\"true_class\"], validation_df[\"predicted_class\"])\n",
    "print(np.quantile(confusion, np.arange(0, 1, .1)))\n",
    "plt.figure(figsize=(10,10))\n",
    "s = sns.heatmap(\n",
    "    confusion,\n",
    "    annot=True,\n",
    "    cmap='Blues',\n",
    "    fmt=\"g\",\n",
    "    xticklabels=classes,\n",
    "    yticklabels=classes,\n",
    "    vmax=np.quantile(confusion, .95)\n",
    ")\n",
    "s.set_xlabel('Predicted', fontsize=10)\n",
    "s.set_ylabel('True', fontsize=10)"
   ]
  },
  {
   "cell_type": "code",
   "execution_count": null,
   "id": "d5a48ed5",
   "metadata": {},
   "outputs": [],
   "source": []
  },
  {
   "cell_type": "code",
   "execution_count": null,
   "id": "fa99701d",
   "metadata": {},
   "outputs": [],
   "source": []
  },
  {
   "cell_type": "code",
   "execution_count": null,
   "id": "5fe4b32e",
   "metadata": {},
   "outputs": [],
   "source": []
  }
 ],
 "metadata": {
  "interpreter": {
   "hash": "916dbcbb3f70747c44a77c7bcd40155683ae19c65e1c03b4aa3499c5328201f1"
  },
  "kernelspec": {
   "display_name": "Python 3 (ipykernel)",
   "language": "python",
   "name": "python3"
  },
  "language_info": {
   "codemirror_mode": {
    "name": "ipython",
    "version": 3
   },
   "file_extension": ".py",
   "mimetype": "text/x-python",
   "name": "python",
   "nbconvert_exporter": "python",
   "pygments_lexer": "ipython3",
   "version": "3.8.10"
  }
 },
 "nbformat": 4,
 "nbformat_minor": 5
}
