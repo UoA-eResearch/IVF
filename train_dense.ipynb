{
 "cells": [
  {
   "cell_type": "code",
   "execution_count": 1,
   "id": "97c7873e",
   "metadata": {},
   "outputs": [
    {
     "name": "stderr",
     "output_type": "stream",
     "text": [
      "/home/nick/.local/lib/python3.10/site-packages/tensorflow_addons/utils/ensure_tf_install.py:53: UserWarning: Tensorflow Addons supports using Python ops for all Tensorflow versions above or equal to 2.6.0 and strictly below 2.9.0 (nightly versions are not supported). \n",
      " The versions of TensorFlow you are currently using is 2.9.0 and is not supported. \n",
      "Some things might work, some things might not.\n",
      "If you were to encounter a bug, do not file an issue.\n",
      "If you want to make sure you're using a tested and supported configuration, either change the TensorFlow version or the TensorFlow Addons's version. \n",
      "You can find the compatibility matrix in TensorFlow Addon's readme:\n",
      "https://github.com/tensorflow/addons\n",
      "  warnings.warn(\n"
     ]
    },
    {
     "data": {
      "text/plain": [
       "Empty                5913\n",
       "Blastocyst           2141\n",
       "2pn                  1910\n",
       "Morula               1643\n",
       "2 Cell               1008\n",
       "Syngamy               974\n",
       "4 Cell                841\n",
       "Compacting 8 cell     549\n",
       "6 Cell                432\n",
       "8 Cell                431\n",
       "3 Cell                373\n",
       "5 Cell                199\n",
       "Name: class, dtype: int64"
      ]
     },
     "execution_count": 1,
     "metadata": {},
     "output_type": "execute_result"
    }
   ],
   "source": [
    "import os # File system operations\n",
    "import re # Regular expressions\n",
    "import pandas as pd # Tabular data\n",
    "import numpy as np # Numerical data\n",
    "pd.set_option('display.max_colwidth', None) # Show full file paths\n",
    "\n",
    "# Don't use all of the GPU RAM\n",
    "import tensorflow as tf\n",
    "gpus = tf.config.experimental.list_physical_devices('GPU')\n",
    "for gpu in gpus:\n",
    "  tf.config.experimental.set_memory_growth(gpu, True)\n",
    "from tensorflow.keras import mixed_precision\n",
    "from tensorflow import keras # ML\n",
    "import tensorflow_addons as tfa # TQDM progress bar when training\n",
    "\n",
    "BATCH_SIZE = 128\n",
    "\n",
    "from sklearn.metrics import confusion_matrix, classification_report, accuracy_score\n",
    "\n",
    "from pathlib import Path # Pathing\n",
    "from glob import glob # Finding files recursively\n",
    "import matplotlib.pyplot as plt # Plotting\n",
    "import seaborn as sns # Plotting\n",
    "sns.set()\n",
    "from tqdm.auto import tqdm # Progress bars\n",
    "tqdm.pandas()\n",
    "\n",
    "BASE_DIR = Path(\"/home/nick/dbox/EmbryoLabeling/Labelers/train\")\n",
    "folders = os.listdir(BASE_DIR)\n",
    "folders = [f for f in folders if not re.match(r\"M\\d\", f)]\n",
    "files = []\n",
    "for folder in folders:\n",
    "    files_in_folder = pd.DataFrame(glob(f\"{BASE_DIR}/{folder}/**/*.jpg\", recursive=True), columns=[\"filename\"])\n",
    "    files_in_folder[\"class\"] = folder\n",
    "    files.append(files_in_folder)\n",
    "df = pd.concat(files)\n",
    "df[\"class\"].value_counts()"
   ]
  },
  {
   "cell_type": "code",
   "execution_count": 2,
   "id": "31a10845",
   "metadata": {},
   "outputs": [
    {
     "data": {
      "text/plain": [
       "<AxesSubplot:>"
      ]
     },
     "execution_count": 2,
     "metadata": {},
     "output_type": "execute_result"
    },
    {
     "data": {
      "image/png": "[encoded data removed]",
      "text/plain": [
       "<Figure size 432x288 with 1 Axes>"
      ]
     },
     "metadata": {},
     "output_type": "display_data"
    }
   ],
   "source": [
    "df[\"class\"].value_counts().plot.bar(logy=True)"
   ]
  },
  {
   "cell_type": "code",
   "execution_count": 3,
   "id": "587b2d0e",
   "metadata": {},
   "outputs": [],
   "source": [
    "class_counts = df[\"class\"].value_counts()\n",
    "#mask = ~df[\"class\"].isin(class_counts[class_counts > 10].index)\n",
    "#df[\"class\"][mask] = \"Other\""
   ]
  },
  {
   "cell_type": "code",
   "execution_count": 4,
   "id": "40f3f9d4",
   "metadata": {},
   "outputs": [
    {
     "data": {
      "text/html": [
       "<div>\n",
       "<style scoped>\n",
       "    .dataframe tbody tr th:only-of-type {\n",
       "        vertical-align: middle;\n",
       "    }\n",
       "\n",
       "    .dataframe tbody tr th {\n",
       "        vertical-align: top;\n",
       "    }\n",
       "\n",
       "    .dataframe thead th {\n",
       "        text-align: right;\n",
       "    }\n",
       "</style>\n",
       "<table border=\"1\" class=\"dataframe\">\n",
       "  <thead>\n",
       "    <tr style=\"text-align: right;\">\n",
       "      <th></th>\n",
       "      <th>filename</th>\n",
       "      <th>class</th>\n",
       "    </tr>\n",
       "  </thead>\n",
       "  <tbody>\n",
       "    <tr>\n",
       "      <th>0</th>\n",
       "      <td>/home/nick/dbox/EmbryoLabeling/Labelers/train/2 Cell/M776_S0087_W3_F0_1975.jpg</td>\n",
       "      <td>2 Cell</td>\n",
       "    </tr>\n",
       "    <tr>\n",
       "      <th>1</th>\n",
       "      <td>/home/nick/dbox/EmbryoLabeling/Labelers/train/2 Cell/M3169_S00737_W6_F0_2147.jpg</td>\n",
       "      <td>2 Cell</td>\n",
       "    </tr>\n",
       "    <tr>\n",
       "      <th>2</th>\n",
       "      <td>/home/nick/dbox/EmbryoLabeling/Labelers/train/2 Cell/M0776_S00635_W10_F0_1564.jpg</td>\n",
       "      <td>2 Cell</td>\n",
       "    </tr>\n",
       "    <tr>\n",
       "      <th>3</th>\n",
       "      <td>/home/nick/dbox/EmbryoLabeling/Labelers/train/2 Cell/M0776_S00635_W1_F0_1413.jpg</td>\n",
       "      <td>2 Cell</td>\n",
       "    </tr>\n",
       "    <tr>\n",
       "      <th>4</th>\n",
       "      <td>/home/nick/dbox/EmbryoLabeling/Labelers/train/2 Cell/M0776_S00534_W4_F0_1936.jpg</td>\n",
       "      <td>2 Cell</td>\n",
       "    </tr>\n",
       "    <tr>\n",
       "      <th>...</th>\n",
       "      <td>...</td>\n",
       "      <td>...</td>\n",
       "    </tr>\n",
       "    <tr>\n",
       "      <th>836</th>\n",
       "      <td>/home/nick/dbox/EmbryoLabeling/Labelers/train/4 Cell/M776_S0087_W4_F0_2775.jpg</td>\n",
       "      <td>4 Cell</td>\n",
       "    </tr>\n",
       "    <tr>\n",
       "      <th>837</th>\n",
       "      <td>/home/nick/dbox/EmbryoLabeling/Labelers/train/4 Cell/M0776_S00470_W4_F0_2987.jpg</td>\n",
       "      <td>4 Cell</td>\n",
       "    </tr>\n",
       "    <tr>\n",
       "      <th>838</th>\n",
       "      <td>/home/nick/dbox/EmbryoLabeling/Labelers/train/4 Cell/M0776_S00635_W7_F0_2619.jpg</td>\n",
       "      <td>4 Cell</td>\n",
       "    </tr>\n",
       "    <tr>\n",
       "      <th>839</th>\n",
       "      <td>/home/nick/dbox/EmbryoLabeling/Labelers/train/4 Cell/M0776_S00512_W1_F0_2851.jpg</td>\n",
       "      <td>4 Cell</td>\n",
       "    </tr>\n",
       "    <tr>\n",
       "      <th>840</th>\n",
       "      <td>/home/nick/dbox/EmbryoLabeling/Labelers/train/4 Cell/M0776_S00761_W1_F0_3219.jpg</td>\n",
       "      <td>4 Cell</td>\n",
       "    </tr>\n",
       "  </tbody>\n",
       "</table>\n",
       "<p>16414 rows × 2 columns</p>\n",
       "</div>"
      ],
      "text/plain": [
       "                                                                              filename  \\\n",
       "0       /home/nick/dbox/EmbryoLabeling/Labelers/train/2 Cell/M776_S0087_W3_F0_1975.jpg   \n",
       "1     /home/nick/dbox/EmbryoLabeling/Labelers/train/2 Cell/M3169_S00737_W6_F0_2147.jpg   \n",
       "2    /home/nick/dbox/EmbryoLabeling/Labelers/train/2 Cell/M0776_S00635_W10_F0_1564.jpg   \n",
       "3     /home/nick/dbox/EmbryoLabeling/Labelers/train/2 Cell/M0776_S00635_W1_F0_1413.jpg   \n",
       "4     /home/nick/dbox/EmbryoLabeling/Labelers/train/2 Cell/M0776_S00534_W4_F0_1936.jpg   \n",
       "..                                                                                 ...   \n",
       "836     /home/nick/dbox/EmbryoLabeling/Labelers/train/4 Cell/M776_S0087_W4_F0_2775.jpg   \n",
       "837   /home/nick/dbox/EmbryoLabeling/Labelers/train/4 Cell/M0776_S00470_W4_F0_2987.jpg   \n",
       "838   /home/nick/dbox/EmbryoLabeling/Labelers/train/4 Cell/M0776_S00635_W7_F0_2619.jpg   \n",
       "839   /home/nick/dbox/EmbryoLabeling/Labelers/train/4 Cell/M0776_S00512_W1_F0_2851.jpg   \n",
       "840   /home/nick/dbox/EmbryoLabeling/Labelers/train/4 Cell/M0776_S00761_W1_F0_3219.jpg   \n",
       "\n",
       "      class  \n",
       "0    2 Cell  \n",
       "1    2 Cell  \n",
       "2    2 Cell  \n",
       "3    2 Cell  \n",
       "4    2 Cell  \n",
       "..      ...  \n",
       "836  4 Cell  \n",
       "837  4 Cell  \n",
       "838  4 Cell  \n",
       "839  4 Cell  \n",
       "840  4 Cell  \n",
       "\n",
       "[16414 rows x 2 columns]"
      ]
     },
     "metadata": {},
     "output_type": "display_data"
    },
    {
     "data": {
      "text/plain": [
       "2pn                  1500\n",
       "Blastocyst           1500\n",
       "Empty                1500\n",
       "Morula               1314\n",
       "2 Cell                806\n",
       "Syngamy               779\n",
       "4 Cell                673\n",
       "Compacting 8 cell     439\n",
       "6 Cell                346\n",
       "8 Cell                345\n",
       "3 Cell                298\n",
       "5 Cell                159\n",
       "Name: class, dtype: int64"
      ]
     },
     "metadata": {},
     "output_type": "display_data"
    },
    {
     "data": {
      "text/plain": [
       "Empty                500\n",
       "Blastocyst           428\n",
       "2pn                  382\n",
       "Morula               329\n",
       "2 Cell               202\n",
       "Syngamy              195\n",
       "4 Cell               168\n",
       "Compacting 8 cell    110\n",
       "8 Cell                86\n",
       "6 Cell                86\n",
       "3 Cell                75\n",
       "5 Cell                40\n",
       "Name: class, dtype: int64"
      ]
     },
     "metadata": {},
     "output_type": "display_data"
    }
   ],
   "source": [
    "#df[\"class\"][~df[\"class\"].isin([\"Empty\", \"Morula\"])] = \"Other\"\n",
    "# Build training and validation dataframes. This gives us fine control over what we use for train & test\n",
    "train_rows = []\n",
    "validation_rows = []\n",
    "for c in df[\"class\"].unique():\n",
    "    df_for_class = df[df[\"class\"] == c].copy()\n",
    "    if len(df_for_class) > 20:\n",
    "        validation_sample = df_for_class.sample(min(round(.2*len(df_for_class)),500))\n",
    "        validation_rows.append(validation_sample)\n",
    "        train_sample = df_for_class.drop(validation_sample.index)\n",
    "        # Accounting for training class imbalance\n",
    "        # still leaving 20%. Might need more sophisticated f(x) here for class imbalance.\n",
    "        train_sample = train_sample.sample(min(len(train_sample), round(len(df_for_class)),1500))\n",
    "        train_rows.append(train_sample)\n",
    "train_df = pd.concat(train_rows)\n",
    "validation_df = pd.concat(validation_rows)\n",
    "display(df)\n",
    "display(train_df[\"class\"].value_counts())\n",
    "validation_df = validation_df.sample(frac=1)\n",
    "display(validation_df[\"class\"].value_counts())"
   ]
  },
  {
   "cell_type": "code",
   "execution_count": 5,
   "id": "dbbf3b1e",
   "metadata": {},
   "outputs": [
    {
     "name": "stdout",
     "output_type": "stream",
     "text": [
      "Found 9659 validated image filenames belonging to 12 classes.\n",
      "Found 2601 validated image filenames belonging to 12 classes.\n"
     ]
    }
   ],
   "source": [
    "\n",
    "datagen = keras.preprocessing.image.ImageDataGenerator(\n",
    "    horizontal_flip=True,\n",
    "    vertical_flip=True,\n",
    ")\n",
    "\n",
    "\n",
    "training = datagen.flow_from_dataframe(train_df, target_size=(299, 299), batch_size=BATCH_SIZE, shuffle=True)\n",
    "\n",
    "# Don't shuffle validation, otherwise confusion_matrix won't work due to mismatch\n",
    "validation = datagen.flow_from_dataframe(validation_df, target_size=(299, 299), batch_size=BATCH_SIZE, shuffle=False)"
   ]
  },
  {
   "cell_type": "code",
   "execution_count": 6,
   "id": "3b1f175a",
   "metadata": {},
   "outputs": [],
   "source": [
    "assert training.class_indices == validation.class_indices"
   ]
  },
  {
   "cell_type": "code",
   "execution_count": 7,
   "id": "939e9490",
   "metadata": {},
   "outputs": [
    {
     "data": {
      "text/plain": [
       "['2 Cell',\n",
       " '2pn',\n",
       " '3 Cell',\n",
       " '4 Cell',\n",
       " '5 Cell',\n",
       " '6 Cell',\n",
       " '8 Cell',\n",
       " 'Blastocyst',\n",
       " 'Compacting 8 cell',\n",
       " 'Empty',\n",
       " 'Morula',\n",
       " 'Syngamy']"
      ]
     },
     "execution_count": 7,
     "metadata": {},
     "output_type": "execute_result"
    }
   ],
   "source": [
    "list(training.class_indices.keys())"
   ]
  },
  {
   "cell_type": "code",
   "execution_count": 8,
   "id": "071bd61b",
   "metadata": {},
   "outputs": [
    {
     "data": {
      "text/plain": [
       "{0: '2 Cell',\n",
       " 1: '2pn',\n",
       " 2: '3 Cell',\n",
       " 3: '4 Cell',\n",
       " 4: '5 Cell',\n",
       " 5: '6 Cell',\n",
       " 6: '8 Cell',\n",
       " 7: 'Blastocyst',\n",
       " 8: 'Compacting 8 cell',\n",
       " 9: 'Empty',\n",
       " 10: 'Morula',\n",
       " 11: 'Syngamy'}"
      ]
     },
     "execution_count": 8,
     "metadata": {},
     "output_type": "execute_result"
    }
   ],
   "source": [
    "code2class = {v:k for k, v in training.class_indices.items()}\n",
    "code2class"
   ]
  },
  {
   "cell_type": "code",
   "execution_count": 9,
   "id": "c00fd32a",
   "metadata": {
    "scrolled": false
   },
   "outputs": [
    {
     "name": "stderr",
     "output_type": "stream",
     "text": [
      "Clipping input data to the valid range for imshow with RGB data ([0..1] for floats or [0..255] for integers).\n",
      "Clipping input data to the valid range for imshow with RGB data ([0..1] for floats or [0..255] for integers).\n",
      "Clipping input data to the valid range for imshow with RGB data ([0..1] for floats or [0..255] for integers).\n",
      "Clipping input data to the valid range for imshow with RGB data ([0..1] for floats or [0..255] for integers).\n",
      "Clipping input data to the valid range for imshow with RGB data ([0..1] for floats or [0..255] for integers).\n",
      "Clipping input data to the valid range for imshow with RGB data ([0..1] for floats or [0..255] for integers).\n",
      "Clipping input data to the valid range for imshow with RGB data ([0..1] for floats or [0..255] for integers).\n",
      "Clipping input data to the valid range for imshow with RGB data ([0..1] for floats or [0..255] for integers).\n",
      "Clipping input data to the valid range for imshow with RGB data ([0..1] for floats or [0..255] for integers).\n",
      "Clipping input data to the valid range for imshow with RGB data ([0..1] for floats or [0..255] for integers).\n",
      "Clipping input data to the valid range for imshow with RGB data ([0..1] for floats or [0..255] for integers).\n",
      "Clipping input data to the valid range for imshow with RGB data ([0..1] for floats or [0..255] for integers).\n",
      "Clipping input data to the valid range for imshow with RGB data ([0..1] for floats or [0..255] for integers).\n",
      "Clipping input data to the valid range for imshow with RGB data ([0..1] for floats or [0..255] for integers).\n",
      "Clipping input data to the valid range for imshow with RGB data ([0..1] for floats or [0..255] for integers).\n",
      "Clipping input data to the valid range for imshow with RGB data ([0..1] for floats or [0..255] for integers).\n",
      "Clipping input data to the valid range for imshow with RGB data ([0..1] for floats or [0..255] for integers).\n",
      "Clipping input data to the valid range for imshow with RGB data ([0..1] for floats or [0..255] for integers).\n",
      "Clipping input data to the valid range for imshow with RGB data ([0..1] for floats or [0..255] for integers).\n",
      "Clipping input data to the valid range for imshow with RGB data ([0..1] for floats or [0..255] for integers).\n",
      "Clipping input data to the valid range for imshow with RGB data ([0..1] for floats or [0..255] for integers).\n",
      "Clipping input data to the valid range for imshow with RGB data ([0..1] for floats or [0..255] for integers).\n",
      "Clipping input data to the valid range for imshow with RGB data ([0..1] for floats or [0..255] for integers).\n",
      "Clipping input data to the valid range for imshow with RGB data ([0..1] for floats or [0..255] for integers).\n"
     ]
    },
    {
     "data": {
      "image/png": "[encoded data removed]",
      "text/plain": [
       "<Figure size 720x720 with 24 Axes>"
      ]
     },
     "metadata": {},
     "output_type": "display_data"
    }
   ],
   "source": [
    "plt.figure(figsize=(10, 10))\n",
    "images, labels = next(training)\n",
    "for i in range(24):\n",
    "    ax = plt.subplot(5, 5, i + 1)\n",
    "    plt.imshow(images[i])\n",
    "    plt.title(code2class[labels[i].argmax()])\n",
    "    plt.axis(\"off\")"
   ]
  },
  {
   "cell_type": "code",
   "execution_count": 10,
   "id": "ce9346eb",
   "metadata": {},
   "outputs": [
    {
     "name": "stderr",
     "output_type": "stream",
     "text": [
      "Clipping input data to the valid range for imshow with RGB data ([0..1] for floats or [0..255] for integers).\n",
      "Clipping input data to the valid range for imshow with RGB data ([0..1] for floats or [0..255] for integers).\n",
      "Clipping input data to the valid range for imshow with RGB data ([0..1] for floats or [0..255] for integers).\n",
      "Clipping input data to the valid range for imshow with RGB data ([0..1] for floats or [0..255] for integers).\n",
      "Clipping input data to the valid range for imshow with RGB data ([0..1] for floats or [0..255] for integers).\n",
      "Clipping input data to the valid range for imshow with RGB data ([0..1] for floats or [0..255] for integers).\n",
      "Clipping input data to the valid range for imshow with RGB data ([0..1] for floats or [0..255] for integers).\n",
      "Clipping input data to the valid range for imshow with RGB data ([0..1] for floats or [0..255] for integers).\n",
      "Clipping input data to the valid range for imshow with RGB data ([0..1] for floats or [0..255] for integers).\n",
      "Clipping input data to the valid range for imshow with RGB data ([0..1] for floats or [0..255] for integers).\n",
      "Clipping input data to the valid range for imshow with RGB data ([0..1] for floats or [0..255] for integers).\n",
      "Clipping input data to the valid range for imshow with RGB data ([0..1] for floats or [0..255] for integers).\n",
      "Clipping input data to the valid range for imshow with RGB data ([0..1] for floats or [0..255] for integers).\n",
      "Clipping input data to the valid range for imshow with RGB data ([0..1] for floats or [0..255] for integers).\n",
      "Clipping input data to the valid range for imshow with RGB data ([0..1] for floats or [0..255] for integers).\n",
      "Clipping input data to the valid range for imshow with RGB data ([0..1] for floats or [0..255] for integers).\n",
      "Clipping input data to the valid range for imshow with RGB data ([0..1] for floats or [0..255] for integers).\n",
      "Clipping input data to the valid range for imshow with RGB data ([0..1] for floats or [0..255] for integers).\n",
      "Clipping input data to the valid range for imshow with RGB data ([0..1] for floats or [0..255] for integers).\n",
      "Clipping input data to the valid range for imshow with RGB data ([0..1] for floats or [0..255] for integers).\n",
      "Clipping input data to the valid range for imshow with RGB data ([0..1] for floats or [0..255] for integers).\n",
      "Clipping input data to the valid range for imshow with RGB data ([0..1] for floats or [0..255] for integers).\n",
      "Clipping input data to the valid range for imshow with RGB data ([0..1] for floats or [0..255] for integers).\n",
      "Clipping input data to the valid range for imshow with RGB data ([0..1] for floats or [0..255] for integers).\n"
     ]
    },
    {
     "data": {
      "image/png": "[encoded data removed]",
      "text/plain": [
       "<Figure size 720x720 with 24 Axes>"
      ]
     },
     "metadata": {},
     "output_type": "display_data"
    }
   ],
   "source": [
    "plt.figure(figsize=(10, 10))\n",
    "images, labels = next(validation)\n",
    "for i in range(min(24, len(labels))):\n",
    "    ax = plt.subplot(5, 5, i + 1)\n",
    "    plt.imshow(images[i])\n",
    "    plt.title(code2class[labels[i].argmax()])\n",
    "    plt.axis(\"off\")"
   ]
  },
  {
   "cell_type": "code",
   "execution_count": 11,
   "id": "a2b1f6a8",
   "metadata": {},
   "outputs": [
    {
     "name": "stderr",
     "output_type": "stream",
     "text": [
      "2022-06-10 20:45:10.571413: I tensorflow/core/platform/cpu_feature_guard.cc:193] This TensorFlow binary is optimized with oneAPI Deep Neural Network Library (oneDNN) to use the following CPU instructions in performance-critical operations:  AVX2 FMA\n",
      "To enable them in other operations, rebuild TensorFlow with the appropriate compiler flags.\n",
      "2022-06-10 20:45:11.068512: I tensorflow/core/common_runtime/gpu/gpu_device.cc:1532] Created device /job:localhost/replica:0/task:0/device:GPU:0 with 8529 MB memory:  -> device: 0, name: NVIDIA GeForce RTX 2080 Ti, pci bus id: 0000:42:00.0, compute capability: 7.5\n"
     ]
    },
    {
     "name": "stdout",
     "output_type": "stream",
     "text": [
      "Model: \"model\"\n",
      "_________________________________________________________________\n",
      " Layer (type)                Output Shape              Param #   \n",
      "=================================================================\n",
      " input_2 (InputLayer)        [(None, 299, 299, 3)]     0         \n",
      "                                                                 \n",
      " rescaling (Rescaling)       (None, 299, 299, 3)       0         \n",
      "                                                                 \n",
      " xception (Functional)       (None, 10, 10, 2048)      20861480  \n",
      "                                                                 \n",
      " global_average_pooling2d (G  (None, 2048)             0         \n",
      " lobalAveragePooling2D)                                          \n",
      "                                                                 \n",
      " dense (Dense)               (None, 512)               1049088   \n",
      "                                                                 \n",
      " dense_1 (Dense)             (None, 512)               262656    \n",
      "                                                                 \n",
      " dense_2 (Dense)             (None, 12)                6156      \n",
      "                                                                 \n",
      "=================================================================\n",
      "Total params: 22,179,380\n",
      "Trainable params: 1,317,900\n",
      "Non-trainable params: 20,861,480\n",
      "_________________________________________________________________\n"
     ]
    }
   ],
   "source": [
    "base_model = keras.applications.Xception(\n",
    "    weights='imagenet',  # Load weights pre-trained on ImageNet.\n",
    "    input_shape=(299, 299, 3),\n",
    "    include_top=False)  # Do not include the ImageNet classifier at the top.\n",
    "\n",
    "# Freeze the base_model\n",
    "base_model.trainable = False\n",
    "\n",
    "# Create new model on top\n",
    "inputs = keras.Input(shape=(299, 299, 3))\n",
    "\n",
    "# Pre-trained Xception weights requires that input be scaled\n",
    "# from (0, 255) to a range of (-1., +1.), the rescaling layer\n",
    "# outputs: `(inputs * scale) + offset`\n",
    "scale_layer = keras.layers.Rescaling(scale=1./127.5, offset=-1)\n",
    "x = scale_layer(inputs)\n",
    "\n",
    "# The base model contains batchnorm layers. We want to keep them in inference mode\n",
    "# when we unfreeze the base model for fine-tuning, so we make sure that the\n",
    "# base_model is running in inference mode here.\n",
    "x = base_model(x, training=False)\n",
    "x = keras.layers.GlobalAveragePooling2D()(x)\n",
    "#x = keras.layers.Dropout(0.2)(x)  # Regularize with dropout\n",
    "x = keras.layers.Dense(512, activation='relu')(x)\n",
    "x = keras.layers.Dense(512, activation='relu')(x)\n",
    "outputs = keras.layers.Dense(len(code2class), activation='softmax')(x)\n",
    "model = keras.Model(inputs, outputs)\n",
    "\n",
    "model.summary()"
   ]
  },
  {
   "cell_type": "code",
   "execution_count": 12,
   "id": "9cbd1f6a",
   "metadata": {
    "scrolled": false
   },
   "outputs": [
    {
     "name": "stdout",
     "output_type": "stream",
     "text": [
      "CPU times: user 16.1 ms, sys: 11 µs, total: 16.1 ms\n",
      "Wall time: 15 ms\n"
     ]
    }
   ],
   "source": [
    "%%time\n",
    "training.reset()\n",
    "validation.reset()\n",
    "model.compile(\n",
    "    optimizer=keras.optimizers.Adam(),\n",
    "    loss=keras.losses.CategoricalCrossentropy(),\n",
    "    metrics=[keras.metrics.CategoricalAccuracy()],\n",
    ")\n"
   ]
  },
  {
   "cell_type": "code",
   "execution_count": 13,
   "id": "9844880c",
   "metadata": {},
   "outputs": [
    {
     "data": {
      "application/vnd.jupyter.widget-view+json": {
       "model_id": "d6e9c3533ec749cfb10ce9493f0d22ea",
       "version_major": 2,
       "version_minor": 0
      },
      "text/plain": [
       "Training:   0%|           0/500 ETA: ?s,  ?epochs/s"
      ]
     },
     "metadata": {},
     "output_type": "display_data"
    },
    {
     "name": "stdout",
     "output_type": "stream",
     "text": [
      "Epoch 1/500\n"
     ]
    },
    {
     "data": {
      "application/vnd.jupyter.widget-view+json": {
       "model_id": "ba1db8c299294635832bcf29c6c2ee75",
       "version_major": 2,
       "version_minor": 0
      },
      "text/plain": [
       "0/76           ETA: ?s - "
      ]
     },
     "metadata": {},
     "output_type": "display_data"
    },
    {
     "name": "stderr",
     "output_type": "stream",
     "text": [
      "2022-06-10 20:45:16.072223: I tensorflow/stream_executor/cuda/cuda_dnn.cc:384] Loaded cuDNN version 8400\n"
     ]
    },
    {
     "name": "stdout",
     "output_type": "stream",
     "text": [
      "Epoch 2/500\n"
     ]
    },
    {
     "data": {
      "application/vnd.jupyter.widget-view+json": {
       "model_id": "cf4b5dadd8094841a69d53ffcb9e64bc",
       "version_major": 2,
       "version_minor": 0
      },
      "text/plain": [
       "0/76           ETA: ?s - "
      ]
     },
     "metadata": {},
     "output_type": "display_data"
    },
    {
     "name": "stdout",
     "output_type": "stream",
     "text": [
      "Epoch 3/500\n"
     ]
    },
    {
     "data": {
      "application/vnd.jupyter.widget-view+json": {
       "model_id": "78b23068618742d5a57a48024f9c1cb0",
       "version_major": 2,
       "version_minor": 0
      },
      "text/plain": [
       "0/76           ETA: ?s - "
      ]
     },
     "metadata": {},
     "output_type": "display_data"
    },
    {
     "name": "stdout",
     "output_type": "stream",
     "text": [
      "Epoch 4/500\n"
     ]
    },
    {
     "data": {
      "application/vnd.jupyter.widget-view+json": {
       "model_id": "13d6d2176aaa48af854f1d11fe469a77",
       "version_major": 2,
       "version_minor": 0
      },
      "text/plain": [
       "0/76           ETA: ?s - "
      ]
     },
     "metadata": {},
     "output_type": "display_data"
    },
    {
     "name": "stdout",
     "output_type": "stream",
     "text": [
      "Epoch 5/500\n"
     ]
    },
    {
     "data": {
      "application/vnd.jupyter.widget-view+json": {
       "model_id": "6c19587ab3f04dffac63a52fb4cdc916",
       "version_major": 2,
       "version_minor": 0
      },
      "text/plain": [
       "0/76           ETA: ?s - "
      ]
     },
     "metadata": {},
     "output_type": "display_data"
    },
    {
     "name": "stdout",
     "output_type": "stream",
     "text": [
      "Epoch 6/500\n"
     ]
    },
    {
     "data": {
      "application/vnd.jupyter.widget-view+json": {
       "model_id": "241c0556ed404c8ea65d7b9c16f65dcc",
       "version_major": 2,
       "version_minor": 0
      },
      "text/plain": [
       "0/76           ETA: ?s - "
      ]
     },
     "metadata": {},
     "output_type": "display_data"
    },
    {
     "name": "stdout",
     "output_type": "stream",
     "text": [
      "Epoch 7/500\n"
     ]
    },
    {
     "data": {
      "application/vnd.jupyter.widget-view+json": {
       "model_id": "9bfd865c88d24716bcd87d1ee5a6355b",
       "version_major": 2,
       "version_minor": 0
      },
      "text/plain": [
       "0/76           ETA: ?s - "
      ]
     },
     "metadata": {},
     "output_type": "display_data"
    },
    {
     "name": "stdout",
     "output_type": "stream",
     "text": [
      "Epoch 8/500\n"
     ]
    },
    {
     "data": {
      "application/vnd.jupyter.widget-view+json": {
       "model_id": "a74a583942be4149a7b4d17787822eb5",
       "version_major": 2,
       "version_minor": 0
      },
      "text/plain": [
       "0/76           ETA: ?s - "
      ]
     },
     "metadata": {},
     "output_type": "display_data"
    },
    {
     "name": "stdout",
     "output_type": "stream",
     "text": [
      "Epoch 9/500\n"
     ]
    },
    {
     "data": {
      "application/vnd.jupyter.widget-view+json": {
       "model_id": "dd2b941b1a414bad9b75d0e7f0018847",
       "version_major": 2,
       "version_minor": 0
      },
      "text/plain": [
       "0/76           ETA: ?s - "
      ]
     },
     "metadata": {},
     "output_type": "display_data"
    },
    {
     "name": "stdout",
     "output_type": "stream",
     "text": [
      "Epoch 10/500\n"
     ]
    },
    {
     "data": {
      "application/vnd.jupyter.widget-view+json": {
       "model_id": "e771e16b90044cbf9bb2b8e8182a2dfa",
       "version_major": 2,
       "version_minor": 0
      },
      "text/plain": [
       "0/76           ETA: ?s - "
      ]
     },
     "metadata": {},
     "output_type": "display_data"
    },
    {
     "name": "stdout",
     "output_type": "stream",
     "text": [
      "Epoch 11/500\n"
     ]
    },
    {
     "data": {
      "application/vnd.jupyter.widget-view+json": {
       "model_id": "fd7db41d69dd426dbbab0613d74521c9",
       "version_major": 2,
       "version_minor": 0
      },
      "text/plain": [
       "0/76           ETA: ?s - "
      ]
     },
     "metadata": {},
     "output_type": "display_data"
    },
    {
     "name": "stdout",
     "output_type": "stream",
     "text": [
      "Epoch 12/500\n"
     ]
    },
    {
     "data": {
      "application/vnd.jupyter.widget-view+json": {
       "model_id": "838d9acbc7e94c9c9f61f5ff1a0f5428",
       "version_major": 2,
       "version_minor": 0
      },
      "text/plain": [
       "0/76           ETA: ?s - "
      ]
     },
     "metadata": {},
     "output_type": "display_data"
    },
    {
     "name": "stdout",
     "output_type": "stream",
     "text": [
      "Epoch 13/500\n"
     ]
    },
    {
     "data": {
      "application/vnd.jupyter.widget-view+json": {
       "model_id": "319eecf427904e2c968d20b0c58ff09d",
       "version_major": 2,
       "version_minor": 0
      },
      "text/plain": [
       "0/76           ETA: ?s - "
      ]
     },
     "metadata": {},
     "output_type": "display_data"
    },
    {
     "name": "stdout",
     "output_type": "stream",
     "text": [
      "Epoch 14/500\n"
     ]
    },
    {
     "data": {
      "application/vnd.jupyter.widget-view+json": {
       "model_id": "3a64ce1178324470950bbf22699b526b",
       "version_major": 2,
       "version_minor": 0
      },
      "text/plain": [
       "0/76           ETA: ?s - "
      ]
     },
     "metadata": {},
     "output_type": "display_data"
    },
    {
     "name": "stdout",
     "output_type": "stream",
     "text": [
      "Epoch 15/500\n"
     ]
    },
    {
     "data": {
      "application/vnd.jupyter.widget-view+json": {
       "model_id": "187536280c4b475ca806818d53743540",
       "version_major": 2,
       "version_minor": 0
      },
      "text/plain": [
       "0/76           ETA: ?s - "
      ]
     },
     "metadata": {},
     "output_type": "display_data"
    },
    {
     "name": "stdout",
     "output_type": "stream",
     "text": [
      "Epoch 16/500\n"
     ]
    },
    {
     "data": {
      "application/vnd.jupyter.widget-view+json": {
       "model_id": "7586934b009d40948e3c627d69a0a72d",
       "version_major": 2,
       "version_minor": 0
      },
      "text/plain": [
       "0/76           ETA: ?s - "
      ]
     },
     "metadata": {},
     "output_type": "display_data"
    },
    {
     "name": "stdout",
     "output_type": "stream",
     "text": [
      "Epoch 17/500\n"
     ]
    },
    {
     "data": {
      "application/vnd.jupyter.widget-view+json": {
       "model_id": "78098496875b4d2fbe32757eb81a07c4",
       "version_major": 2,
       "version_minor": 0
      },
      "text/plain": [
       "0/76           ETA: ?s - "
      ]
     },
     "metadata": {},
     "output_type": "display_data"
    },
    {
     "name": "stdout",
     "output_type": "stream",
     "text": [
      "Epoch 18/500\n"
     ]
    },
    {
     "data": {
      "application/vnd.jupyter.widget-view+json": {
       "model_id": "9fdebf7507814a3e8e50316f531665ba",
       "version_major": 2,
       "version_minor": 0
      },
      "text/plain": [
       "0/76           ETA: ?s - "
      ]
     },
     "metadata": {},
     "output_type": "display_data"
    },
    {
     "name": "stdout",
     "output_type": "stream",
     "text": [
      "Epoch 19/500\n"
     ]
    },
    {
     "data": {
      "application/vnd.jupyter.widget-view+json": {
       "model_id": "542f359cea8c407abf0868df73203265",
       "version_major": 2,
       "version_minor": 0
      },
      "text/plain": [
       "0/76           ETA: ?s - "
      ]
     },
     "metadata": {},
     "output_type": "display_data"
    },
    {
     "name": "stdout",
     "output_type": "stream",
     "text": [
      "Epoch 20/500\n"
     ]
    },
    {
     "data": {
      "application/vnd.jupyter.widget-view+json": {
       "model_id": "52b9f180891f42938b7daaeb40dffc85",
       "version_major": 2,
       "version_minor": 0
      },
      "text/plain": [
       "0/76           ETA: ?s - "
      ]
     },
     "metadata": {},
     "output_type": "display_data"
    },
    {
     "name": "stdout",
     "output_type": "stream",
     "text": [
      "Epoch 21/500\n"
     ]
    },
    {
     "data": {
      "application/vnd.jupyter.widget-view+json": {
       "model_id": "7a18468dd61243d5b6a0da998a9e4862",
       "version_major": 2,
       "version_minor": 0
      },
      "text/plain": [
       "0/76           ETA: ?s - "
      ]
     },
     "metadata": {},
     "output_type": "display_data"
    },
    {
     "name": "stdout",
     "output_type": "stream",
     "text": [
      "Epoch 22/500\n"
     ]
    },
    {
     "data": {
      "application/vnd.jupyter.widget-view+json": {
       "model_id": "bb942034b260400abcd073018f870836",
       "version_major": 2,
       "version_minor": 0
      },
      "text/plain": [
       "0/76           ETA: ?s - "
      ]
     },
     "metadata": {},
     "output_type": "display_data"
    },
    {
     "name": "stdout",
     "output_type": "stream",
     "text": [
      "Epoch 23/500\n"
     ]
    },
    {
     "data": {
      "application/vnd.jupyter.widget-view+json": {
       "model_id": "80719f61c08843d69ce709c7c0f81548",
       "version_major": 2,
       "version_minor": 0
      },
      "text/plain": [
       "0/76           ETA: ?s - "
      ]
     },
     "metadata": {},
     "output_type": "display_data"
    },
    {
     "name": "stdout",
     "output_type": "stream",
     "text": [
      "Epoch 24/500\n"
     ]
    },
    {
     "data": {
      "application/vnd.jupyter.widget-view+json": {
       "model_id": "62f9d01b0ce243299f835a3cf2f149bd",
       "version_major": 2,
       "version_minor": 0
      },
      "text/plain": [
       "0/76           ETA: ?s - "
      ]
     },
     "metadata": {},
     "output_type": "display_data"
    },
    {
     "name": "stdout",
     "output_type": "stream",
     "text": [
      "Epoch 25/500\n"
     ]
    },
    {
     "data": {
      "application/vnd.jupyter.widget-view+json": {
       "model_id": "8afb8275382949ed83822a2909f62efe",
       "version_major": 2,
       "version_minor": 0
      },
      "text/plain": [
       "0/76           ETA: ?s - "
      ]
     },
     "metadata": {},
     "output_type": "display_data"
    },
    {
     "name": "stdout",
     "output_type": "stream",
     "text": [
      "Epoch 26/500\n"
     ]
    },
    {
     "data": {
      "application/vnd.jupyter.widget-view+json": {
       "model_id": "a603c238fa534a08802d4b2c701f585b",
       "version_major": 2,
       "version_minor": 0
      },
      "text/plain": [
       "0/76           ETA: ?s - "
      ]
     },
     "metadata": {},
     "output_type": "display_data"
    },
    {
     "name": "stdout",
     "output_type": "stream",
     "text": [
      "Epoch 27/500\n"
     ]
    },
    {
     "data": {
      "application/vnd.jupyter.widget-view+json": {
       "model_id": "488c515d9cc64287a79ab0891032ee6b",
       "version_major": 2,
       "version_minor": 0
      },
      "text/plain": [
       "0/76           ETA: ?s - "
      ]
     },
     "metadata": {},
     "output_type": "display_data"
    },
    {
     "name": "stdout",
     "output_type": "stream",
     "text": [
      "Epoch 28/500\n"
     ]
    },
    {
     "data": {
      "application/vnd.jupyter.widget-view+json": {
       "model_id": "fb97e2daf1ef476ca07a11c0d17c7841",
       "version_major": 2,
       "version_minor": 0
      },
      "text/plain": [
       "0/76           ETA: ?s - "
      ]
     },
     "metadata": {},
     "output_type": "display_data"
    },
    {
     "name": "stdout",
     "output_type": "stream",
     "text": [
      "Epoch 29/500\n"
     ]
    },
    {
     "data": {
      "application/vnd.jupyter.widget-view+json": {
       "model_id": "0c5a4265798745aabd0d6839ffa8bf3e",
       "version_major": 2,
       "version_minor": 0
      },
      "text/plain": [
       "0/76           ETA: ?s - "
      ]
     },
     "metadata": {},
     "output_type": "display_data"
    },
    {
     "name": "stdout",
     "output_type": "stream",
     "text": [
      "Epoch 30/500\n"
     ]
    },
    {
     "data": {
      "application/vnd.jupyter.widget-view+json": {
       "model_id": "919ff8830e974de0912af0dd872cf271",
       "version_major": 2,
       "version_minor": 0
      },
      "text/plain": [
       "0/76           ETA: ?s - "
      ]
     },
     "metadata": {},
     "output_type": "display_data"
    },
    {
     "name": "stdout",
     "output_type": "stream",
     "text": [
      "Epoch 31/500\n"
     ]
    },
    {
     "data": {
      "application/vnd.jupyter.widget-view+json": {
       "model_id": "9e040c04f698467fafdc1558a51f0b18",
       "version_major": 2,
       "version_minor": 0
      },
      "text/plain": [
       "0/76           ETA: ?s - "
      ]
     },
     "metadata": {},
     "output_type": "display_data"
    },
    {
     "name": "stdout",
     "output_type": "stream",
     "text": [
      "Epoch 32/500\n"
     ]
    },
    {
     "data": {
      "application/vnd.jupyter.widget-view+json": {
       "model_id": "b9354f95b0a8444a8b2bf6a25b580e14",
       "version_major": 2,
       "version_minor": 0
      },
      "text/plain": [
       "0/76           ETA: ?s - "
      ]
     },
     "metadata": {},
     "output_type": "display_data"
    },
    {
     "name": "stdout",
     "output_type": "stream",
     "text": [
      "Epoch 33/500\n"
     ]
    },
    {
     "data": {
      "application/vnd.jupyter.widget-view+json": {
       "model_id": "4eafba281d3549e28f853137f50665cc",
       "version_major": 2,
       "version_minor": 0
      },
      "text/plain": [
       "0/76           ETA: ?s - "
      ]
     },
     "metadata": {},
     "output_type": "display_data"
    },
    {
     "name": "stdout",
     "output_type": "stream",
     "text": [
      "Epoch 34/500\n"
     ]
    },
    {
     "data": {
      "application/vnd.jupyter.widget-view+json": {
       "model_id": "f46e7e5fc809403cb3a99cdf7350b3e3",
       "version_major": 2,
       "version_minor": 0
      },
      "text/plain": [
       "0/76           ETA: ?s - "
      ]
     },
     "metadata": {},
     "output_type": "display_data"
    },
    {
     "name": "stdout",
     "output_type": "stream",
     "text": [
      "Epoch 35/500\n"
     ]
    },
    {
     "data": {
      "application/vnd.jupyter.widget-view+json": {
       "model_id": "e6fb2de53d4b435e8d5688598a6f8b0a",
       "version_major": 2,
       "version_minor": 0
      },
      "text/plain": [
       "0/76           ETA: ?s - "
      ]
     },
     "metadata": {},
     "output_type": "display_data"
    },
    {
     "name": "stdout",
     "output_type": "stream",
     "text": [
      "Epoch 36/500\n"
     ]
    },
    {
     "data": {
      "application/vnd.jupyter.widget-view+json": {
       "model_id": "b9c2c99412c94b8c84da0e6c884806b8",
       "version_major": 2,
       "version_minor": 0
      },
      "text/plain": [
       "0/76           ETA: ?s - "
      ]
     },
     "metadata": {},
     "output_type": "display_data"
    },
    {
     "name": "stdout",
     "output_type": "stream",
     "text": [
      "Epoch 37/500\n"
     ]
    },
    {
     "data": {
      "application/vnd.jupyter.widget-view+json": {
       "model_id": "27f7ba898dbe48ef9ee05d016fcfbb81",
       "version_major": 2,
       "version_minor": 0
      },
      "text/plain": [
       "0/76           ETA: ?s - "
      ]
     },
     "metadata": {},
     "output_type": "display_data"
    },
    {
     "name": "stdout",
     "output_type": "stream",
     "text": [
      "Epoch 38/500\n"
     ]
    },
    {
     "data": {
      "application/vnd.jupyter.widget-view+json": {
       "model_id": "0efb1337a3624ac888970496643430e7",
       "version_major": 2,
       "version_minor": 0
      },
      "text/plain": [
       "0/76           ETA: ?s - "
      ]
     },
     "metadata": {},
     "output_type": "display_data"
    },
    {
     "name": "stdout",
     "output_type": "stream",
     "text": [
      "Epoch 39/500\n"
     ]
    },
    {
     "data": {
      "application/vnd.jupyter.widget-view+json": {
       "model_id": "ecfdd2d1fe7a49ef94110f9a2a9a26cb",
       "version_major": 2,
       "version_minor": 0
      },
      "text/plain": [
       "0/76           ETA: ?s - "
      ]
     },
     "metadata": {},
     "output_type": "display_data"
    },
    {
     "name": "stdout",
     "output_type": "stream",
     "text": [
      "Epoch 40/500\n"
     ]
    },
    {
     "data": {
      "application/vnd.jupyter.widget-view+json": {
       "model_id": "f7ce9dd8662a4a57a3eceebf07aa56db",
       "version_major": 2,
       "version_minor": 0
      },
      "text/plain": [
       "0/76           ETA: ?s - "
      ]
     },
     "metadata": {},
     "output_type": "display_data"
    },
    {
     "name": "stdout",
     "output_type": "stream",
     "text": [
      "Epoch 41/500\n"
     ]
    },
    {
     "data": {
      "application/vnd.jupyter.widget-view+json": {
       "model_id": "369a9b455bfe49b08e95219c036a50ad",
       "version_major": 2,
       "version_minor": 0
      },
      "text/plain": [
       "0/76           ETA: ?s - "
      ]
     },
     "metadata": {},
     "output_type": "display_data"
    },
    {
     "name": "stdout",
     "output_type": "stream",
     "text": [
      "Epoch 42/500\n"
     ]
    },
    {
     "data": {
      "application/vnd.jupyter.widget-view+json": {
       "model_id": "4fd52e5cd5b348898f7c96b4fb0f7141",
       "version_major": 2,
       "version_minor": 0
      },
      "text/plain": [
       "0/76           ETA: ?s - "
      ]
     },
     "metadata": {},
     "output_type": "display_data"
    },
    {
     "name": "stdout",
     "output_type": "stream",
     "text": [
      "Epoch 43/500\n"
     ]
    },
    {
     "data": {
      "application/vnd.jupyter.widget-view+json": {
       "model_id": "dc43ca5f64e34be8a568e371e16782b9",
       "version_major": 2,
       "version_minor": 0
      },
      "text/plain": [
       "0/76           ETA: ?s - "
      ]
     },
     "metadata": {},
     "output_type": "display_data"
    },
    {
     "name": "stdout",
     "output_type": "stream",
     "text": [
      "Epoch 44/500\n"
     ]
    },
    {
     "data": {
      "application/vnd.jupyter.widget-view+json": {
       "model_id": "ae2dd1359d924e72b0bd9ac3d69250bb",
       "version_major": 2,
       "version_minor": 0
      },
      "text/plain": [
       "0/76           ETA: ?s - "
      ]
     },
     "metadata": {},
     "output_type": "display_data"
    },
    {
     "name": "stdout",
     "output_type": "stream",
     "text": [
      "Epoch 45/500\n"
     ]
    },
    {
     "data": {
      "application/vnd.jupyter.widget-view+json": {
       "model_id": "1ecf787c80d64760a6a1ae4febf4438c",
       "version_major": 2,
       "version_minor": 0
      },
      "text/plain": [
       "0/76           ETA: ?s - "
      ]
     },
     "metadata": {},
     "output_type": "display_data"
    },
    {
     "name": "stdout",
     "output_type": "stream",
     "text": [
      "Epoch 46/500\n"
     ]
    },
    {
     "data": {
      "application/vnd.jupyter.widget-view+json": {
       "model_id": "0483bfa6cbe740f0bcba6fd399bc2798",
       "version_major": 2,
       "version_minor": 0
      },
      "text/plain": [
       "0/76           ETA: ?s - "
      ]
     },
     "metadata": {},
     "output_type": "display_data"
    },
    {
     "name": "stdout",
     "output_type": "stream",
     "text": [
      "Epoch 47/500\n"
     ]
    },
    {
     "data": {
      "application/vnd.jupyter.widget-view+json": {
       "model_id": "bcb4cb4963594eafafd2ccd07b93ed29",
       "version_major": 2,
       "version_minor": 0
      },
      "text/plain": [
       "0/76           ETA: ?s - "
      ]
     },
     "metadata": {},
     "output_type": "display_data"
    },
    {
     "name": "stdout",
     "output_type": "stream",
     "text": [
      "Epoch 48/500\n"
     ]
    },
    {
     "data": {
      "application/vnd.jupyter.widget-view+json": {
       "model_id": "8218592035a34659903d3f401c87dfb0",
       "version_major": 2,
       "version_minor": 0
      },
      "text/plain": [
       "0/76           ETA: ?s - "
      ]
     },
     "metadata": {},
     "output_type": "display_data"
    },
    {
     "name": "stdout",
     "output_type": "stream",
     "text": [
      "Epoch 49/500\n"
     ]
    },
    {
     "data": {
      "application/vnd.jupyter.widget-view+json": {
       "model_id": "b6d219ca0419424ca1b83c2a77da5654",
       "version_major": 2,
       "version_minor": 0
      },
      "text/plain": [
       "0/76           ETA: ?s - "
      ]
     },
     "metadata": {},
     "output_type": "display_data"
    },
    {
     "name": "stdout",
     "output_type": "stream",
     "text": [
      "Epoch 50/500\n"
     ]
    },
    {
     "data": {
      "application/vnd.jupyter.widget-view+json": {
       "model_id": "99c3c1c1b0164504bd0bc74b807270b2",
       "version_major": 2,
       "version_minor": 0
      },
      "text/plain": [
       "0/76           ETA: ?s - "
      ]
     },
     "metadata": {},
     "output_type": "display_data"
    },
    {
     "name": "stdout",
     "output_type": "stream",
     "text": [
      "Epoch 51/500\n"
     ]
    },
    {
     "data": {
      "application/vnd.jupyter.widget-view+json": {
       "model_id": "4f16910da0e14c3d87a566583d457c07",
       "version_major": 2,
       "version_minor": 0
      },
      "text/plain": [
       "0/76           ETA: ?s - "
      ]
     },
     "metadata": {},
     "output_type": "display_data"
    },
    {
     "name": "stdout",
     "output_type": "stream",
     "text": [
      "Epoch 52/500\n"
     ]
    },
    {
     "data": {
      "application/vnd.jupyter.widget-view+json": {
       "model_id": "95d78d255eca433a90a8ffc1240f85d0",
       "version_major": 2,
       "version_minor": 0
      },
      "text/plain": [
       "0/76           ETA: ?s - "
      ]
     },
     "metadata": {},
     "output_type": "display_data"
    },
    {
     "name": "stdout",
     "output_type": "stream",
     "text": [
      "Epoch 53/500\n"
     ]
    },
    {
     "data": {
      "application/vnd.jupyter.widget-view+json": {
       "model_id": "cc36e19a82504fb49cf387830492c695",
       "version_major": 2,
       "version_minor": 0
      },
      "text/plain": [
       "0/76           ETA: ?s - "
      ]
     },
     "metadata": {},
     "output_type": "display_data"
    },
    {
     "name": "stdout",
     "output_type": "stream",
     "text": [
      "Epoch 54/500\n"
     ]
    },
    {
     "data": {
      "application/vnd.jupyter.widget-view+json": {
       "model_id": "840e98b075464eedbf9f1f7302aba411",
       "version_major": 2,
       "version_minor": 0
      },
      "text/plain": [
       "0/76           ETA: ?s - "
      ]
     },
     "metadata": {},
     "output_type": "display_data"
    },
    {
     "name": "stdout",
     "output_type": "stream",
     "text": [
      "Epoch 55/500\n"
     ]
    },
    {
     "data": {
      "application/vnd.jupyter.widget-view+json": {
       "model_id": "55c1df240a0448f7baf269fe44fa55b1",
       "version_major": 2,
       "version_minor": 0
      },
      "text/plain": [
       "0/76           ETA: ?s - "
      ]
     },
     "metadata": {},
     "output_type": "display_data"
    },
    {
     "name": "stdout",
     "output_type": "stream",
     "text": [
      "Epoch 56/500\n"
     ]
    },
    {
     "data": {
      "application/vnd.jupyter.widget-view+json": {
       "model_id": "6cf2bb655c26424286391beb04475aed",
       "version_major": 2,
       "version_minor": 0
      },
      "text/plain": [
       "0/76           ETA: ?s - "
      ]
     },
     "metadata": {},
     "output_type": "display_data"
    },
    {
     "name": "stdout",
     "output_type": "stream",
     "text": [
      "Epoch 57/500\n"
     ]
    },
    {
     "data": {
      "application/vnd.jupyter.widget-view+json": {
       "model_id": "b08c4aec3b68450e8b05dafd33c11b24",
       "version_major": 2,
       "version_minor": 0
      },
      "text/plain": [
       "0/76           ETA: ?s - "
      ]
     },
     "metadata": {},
     "output_type": "display_data"
    },
    {
     "name": "stdout",
     "output_type": "stream",
     "text": [
      "Epoch 58/500\n"
     ]
    },
    {
     "data": {
      "application/vnd.jupyter.widget-view+json": {
       "model_id": "d5e6eb856c66479ab616a877d7c9d71d",
       "version_major": 2,
       "version_minor": 0
      },
      "text/plain": [
       "0/76           ETA: ?s - "
      ]
     },
     "metadata": {},
     "output_type": "display_data"
    },
    {
     "name": "stdout",
     "output_type": "stream",
     "text": [
      "Epoch 59/500\n"
     ]
    },
    {
     "data": {
      "application/vnd.jupyter.widget-view+json": {
       "model_id": "ebae5a99b997458690718e8dfb8b21b7",
       "version_major": 2,
       "version_minor": 0
      },
      "text/plain": [
       "0/76           ETA: ?s - "
      ]
     },
     "metadata": {},
     "output_type": "display_data"
    },
    {
     "name": "stdout",
     "output_type": "stream",
     "text": [
      "Epoch 60/500\n"
     ]
    },
    {
     "data": {
      "application/vnd.jupyter.widget-view+json": {
       "model_id": "b740638b179e4b0eb57843bfba220c74",
       "version_major": 2,
       "version_minor": 0
      },
      "text/plain": [
       "0/76           ETA: ?s - "
      ]
     },
     "metadata": {},
     "output_type": "display_data"
    },
    {
     "name": "stdout",
     "output_type": "stream",
     "text": [
      "Epoch 61/500\n"
     ]
    },
    {
     "data": {
      "application/vnd.jupyter.widget-view+json": {
       "model_id": "ec7bac0b1891480fb3e1f8e7c69957c7",
       "version_major": 2,
       "version_minor": 0
      },
      "text/plain": [
       "0/76           ETA: ?s - "
      ]
     },
     "metadata": {},
     "output_type": "display_data"
    },
    {
     "name": "stdout",
     "output_type": "stream",
     "text": [
      "Epoch 62/500\n"
     ]
    },
    {
     "data": {
      "application/vnd.jupyter.widget-view+json": {
       "model_id": "ed1770e84a6d42539db0db17d5e24f52",
       "version_major": 2,
       "version_minor": 0
      },
      "text/plain": [
       "0/76           ETA: ?s - "
      ]
     },
     "metadata": {},
     "output_type": "display_data"
    },
    {
     "name": "stdout",
     "output_type": "stream",
     "text": [
      "Epoch 63/500\n"
     ]
    },
    {
     "data": {
      "application/vnd.jupyter.widget-view+json": {
       "model_id": "e81da59ac3c149b48715a6d21628f027",
       "version_major": 2,
       "version_minor": 0
      },
      "text/plain": [
       "0/76           ETA: ?s - "
      ]
     },
     "metadata": {},
     "output_type": "display_data"
    },
    {
     "name": "stdout",
     "output_type": "stream",
     "text": [
      "Epoch 64/500\n"
     ]
    },
    {
     "data": {
      "application/vnd.jupyter.widget-view+json": {
       "model_id": "3ae428a991844890a21eb647ec7f729b",
       "version_major": 2,
       "version_minor": 0
      },
      "text/plain": [
       "0/76           ETA: ?s - "
      ]
     },
     "metadata": {},
     "output_type": "display_data"
    },
    {
     "name": "stdout",
     "output_type": "stream",
     "text": [
      "Epoch 65/500\n"
     ]
    },
    {
     "data": {
      "application/vnd.jupyter.widget-view+json": {
       "model_id": "71b2cbbe416a4088bde7410bfd83fd2b",
       "version_major": 2,
       "version_minor": 0
      },
      "text/plain": [
       "0/76           ETA: ?s - "
      ]
     },
     "metadata": {},
     "output_type": "display_data"
    },
    {
     "name": "stdout",
     "output_type": "stream",
     "text": [
      "Epoch 66/500\n"
     ]
    },
    {
     "data": {
      "application/vnd.jupyter.widget-view+json": {
       "model_id": "453c3676e88c40e896ebf206aea82861",
       "version_major": 2,
       "version_minor": 0
      },
      "text/plain": [
       "0/76           ETA: ?s - "
      ]
     },
     "metadata": {},
     "output_type": "display_data"
    },
    {
     "name": "stdout",
     "output_type": "stream",
     "text": [
      "Epoch 67/500\n"
     ]
    },
    {
     "data": {
      "application/vnd.jupyter.widget-view+json": {
       "model_id": "ece25a22d0ec4a9fbb67409743e804cb",
       "version_major": 2,
       "version_minor": 0
      },
      "text/plain": [
       "0/76           ETA: ?s - "
      ]
     },
     "metadata": {},
     "output_type": "display_data"
    },
    {
     "name": "stdout",
     "output_type": "stream",
     "text": [
      "Epoch 68/500\n"
     ]
    },
    {
     "data": {
      "application/vnd.jupyter.widget-view+json": {
       "model_id": "735a26d1b4a14c28a2ad43e567460486",
       "version_major": 2,
       "version_minor": 0
      },
      "text/plain": [
       "0/76           ETA: ?s - "
      ]
     },
     "metadata": {},
     "output_type": "display_data"
    },
    {
     "name": "stdout",
     "output_type": "stream",
     "text": [
      "Epoch 69/500\n"
     ]
    },
    {
     "data": {
      "application/vnd.jupyter.widget-view+json": {
       "model_id": "bf2487b55bcb4be2aedcbbff7067e065",
       "version_major": 2,
       "version_minor": 0
      },
      "text/plain": [
       "0/76           ETA: ?s - "
      ]
     },
     "metadata": {},
     "output_type": "display_data"
    },
    {
     "name": "stdout",
     "output_type": "stream",
     "text": [
      "Epoch 70/500\n"
     ]
    },
    {
     "data": {
      "application/vnd.jupyter.widget-view+json": {
       "model_id": "e7caef4ddf6441ac8ff0f51d21cd8066",
       "version_major": 2,
       "version_minor": 0
      },
      "text/plain": [
       "0/76           ETA: ?s - "
      ]
     },
     "metadata": {},
     "output_type": "display_data"
    },
    {
     "name": "stdout",
     "output_type": "stream",
     "text": [
      "Epoch 71/500\n"
     ]
    },
    {
     "data": {
      "application/vnd.jupyter.widget-view+json": {
       "model_id": "77f3b1184bcf4d0681e88ae7cc8a4a82",
       "version_major": 2,
       "version_minor": 0
      },
      "text/plain": [
       "0/76           ETA: ?s - "
      ]
     },
     "metadata": {},
     "output_type": "display_data"
    },
    {
     "name": "stdout",
     "output_type": "stream",
     "text": [
      "Epoch 72/500\n"
     ]
    },
    {
     "data": {
      "application/vnd.jupyter.widget-view+json": {
       "model_id": "c699d2644ff142f7bdd034a4ab2e5f34",
       "version_major": 2,
       "version_minor": 0
      },
      "text/plain": [
       "0/76           ETA: ?s - "
      ]
     },
     "metadata": {},
     "output_type": "display_data"
    },
    {
     "name": "stdout",
     "output_type": "stream",
     "text": [
      "Epoch 73/500\n"
     ]
    },
    {
     "data": {
      "application/vnd.jupyter.widget-view+json": {
       "model_id": "60884a93602d465fbe2388dce206bfe8",
       "version_major": 2,
       "version_minor": 0
      },
      "text/plain": [
       "0/76           ETA: ?s - "
      ]
     },
     "metadata": {},
     "output_type": "display_data"
    },
    {
     "name": "stdout",
     "output_type": "stream",
     "text": [
      "Epoch 74/500\n"
     ]
    },
    {
     "data": {
      "application/vnd.jupyter.widget-view+json": {
       "model_id": "f365486c504c4d58a9b78862b3cc93e2",
       "version_major": 2,
       "version_minor": 0
      },
      "text/plain": [
       "0/76           ETA: ?s - "
      ]
     },
     "metadata": {},
     "output_type": "display_data"
    },
    {
     "name": "stdout",
     "output_type": "stream",
     "text": [
      "Epoch 75/500\n"
     ]
    },
    {
     "data": {
      "application/vnd.jupyter.widget-view+json": {
       "model_id": "c92a019c53e146e885c7c74905be71d8",
       "version_major": 2,
       "version_minor": 0
      },
      "text/plain": [
       "0/76           ETA: ?s - "
      ]
     },
     "metadata": {},
     "output_type": "display_data"
    },
    {
     "name": "stdout",
     "output_type": "stream",
     "text": [
      "Epoch 76/500\n"
     ]
    },
    {
     "data": {
      "application/vnd.jupyter.widget-view+json": {
       "model_id": "f8659cc9fbcb4e7c89580938dc04b447",
       "version_major": 2,
       "version_minor": 0
      },
      "text/plain": [
       "0/76           ETA: ?s - "
      ]
     },
     "metadata": {},
     "output_type": "display_data"
    },
    {
     "name": "stdout",
     "output_type": "stream",
     "text": [
      "Epoch 77/500\n"
     ]
    },
    {
     "data": {
      "application/vnd.jupyter.widget-view+json": {
       "model_id": "ecdb5d6b218149c39640b9040d2228a9",
       "version_major": 2,
       "version_minor": 0
      },
      "text/plain": [
       "0/76           ETA: ?s - "
      ]
     },
     "metadata": {},
     "output_type": "display_data"
    },
    {
     "name": "stdout",
     "output_type": "stream",
     "text": [
      "Epoch 78/500\n"
     ]
    },
    {
     "data": {
      "application/vnd.jupyter.widget-view+json": {
       "model_id": "6506e209e4a64ce7a9b4c20b924dee47",
       "version_major": 2,
       "version_minor": 0
      },
      "text/plain": [
       "0/76           ETA: ?s - "
      ]
     },
     "metadata": {},
     "output_type": "display_data"
    },
    {
     "name": "stdout",
     "output_type": "stream",
     "text": [
      "Epoch 79/500\n"
     ]
    },
    {
     "data": {
      "application/vnd.jupyter.widget-view+json": {
       "model_id": "146c7a445f9142ec82d1eaed64bda53d",
       "version_major": 2,
       "version_minor": 0
      },
      "text/plain": [
       "0/76           ETA: ?s - "
      ]
     },
     "metadata": {},
     "output_type": "display_data"
    },
    {
     "name": "stdout",
     "output_type": "stream",
     "text": [
      "Epoch 80/500\n"
     ]
    },
    {
     "data": {
      "application/vnd.jupyter.widget-view+json": {
       "model_id": "ed7bb06c80174f3cb8cbf12a43384a8a",
       "version_major": 2,
       "version_minor": 0
      },
      "text/plain": [
       "0/76           ETA: ?s - "
      ]
     },
     "metadata": {},
     "output_type": "display_data"
    },
    {
     "name": "stdout",
     "output_type": "stream",
     "text": [
      "Epoch 81/500\n"
     ]
    },
    {
     "data": {
      "application/vnd.jupyter.widget-view+json": {
       "model_id": "17bda38cff0e4ad2ac0058242732b461",
       "version_major": 2,
       "version_minor": 0
      },
      "text/plain": [
       "0/76           ETA: ?s - "
      ]
     },
     "metadata": {},
     "output_type": "display_data"
    },
    {
     "name": "stdout",
     "output_type": "stream",
     "text": [
      "Epoch 82/500\n"
     ]
    },
    {
     "data": {
      "application/vnd.jupyter.widget-view+json": {
       "model_id": "8e053997b61c44518b85f3b8e3b5d62e",
       "version_major": 2,
       "version_minor": 0
      },
      "text/plain": [
       "0/76           ETA: ?s - "
      ]
     },
     "metadata": {},
     "output_type": "display_data"
    },
    {
     "name": "stdout",
     "output_type": "stream",
     "text": [
      "Epoch 83/500\n"
     ]
    },
    {
     "data": {
      "application/vnd.jupyter.widget-view+json": {
       "model_id": "c4959e14a44f432ab70c961ab9db0acf",
       "version_major": 2,
       "version_minor": 0
      },
      "text/plain": [
       "0/76           ETA: ?s - "
      ]
     },
     "metadata": {},
     "output_type": "display_data"
    },
    {
     "name": "stdout",
     "output_type": "stream",
     "text": [
      "Epoch 84/500\n"
     ]
    },
    {
     "data": {
      "application/vnd.jupyter.widget-view+json": {
       "model_id": "6d1e482a39a941ac908aaaf6aafb8e6d",
       "version_major": 2,
       "version_minor": 0
      },
      "text/plain": [
       "0/76           ETA: ?s - "
      ]
     },
     "metadata": {},
     "output_type": "display_data"
    },
    {
     "name": "stdout",
     "output_type": "stream",
     "text": [
      "Epoch 85/500\n"
     ]
    },
    {
     "data": {
      "application/vnd.jupyter.widget-view+json": {
       "model_id": "c195add77e53453a9b100e03372b72b7",
       "version_major": 2,
       "version_minor": 0
      },
      "text/plain": [
       "0/76           ETA: ?s - "
      ]
     },
     "metadata": {},
     "output_type": "display_data"
    },
    {
     "name": "stdout",
     "output_type": "stream",
     "text": [
      "Epoch 86/500\n"
     ]
    },
    {
     "data": {
      "application/vnd.jupyter.widget-view+json": {
       "model_id": "fe8fb13eb10d45b7a8b53f983032e5a0",
       "version_major": 2,
       "version_minor": 0
      },
      "text/plain": [
       "0/76           ETA: ?s - "
      ]
     },
     "metadata": {},
     "output_type": "display_data"
    },
    {
     "name": "stdout",
     "output_type": "stream",
     "text": [
      "Epoch 87/500\n"
     ]
    },
    {
     "data": {
      "application/vnd.jupyter.widget-view+json": {
       "model_id": "5f6844cba9a642ed8338eeb94630fd0a",
       "version_major": 2,
       "version_minor": 0
      },
      "text/plain": [
       "0/76           ETA: ?s - "
      ]
     },
     "metadata": {},
     "output_type": "display_data"
    },
    {
     "name": "stdout",
     "output_type": "stream",
     "text": [
      "Epoch 88/500\n"
     ]
    },
    {
     "data": {
      "application/vnd.jupyter.widget-view+json": {
       "model_id": "d8f2f4de6e7a4245a735c9b035350d41",
       "version_major": 2,
       "version_minor": 0
      },
      "text/plain": [
       "0/76           ETA: ?s - "
      ]
     },
     "metadata": {},
     "output_type": "display_data"
    },
    {
     "name": "stdout",
     "output_type": "stream",
     "text": [
      "Epoch 89/500\n"
     ]
    },
    {
     "data": {
      "application/vnd.jupyter.widget-view+json": {
       "model_id": "f68c634cbea8465ab86948a0c34c1aed",
       "version_major": 2,
       "version_minor": 0
      },
      "text/plain": [
       "0/76           ETA: ?s - "
      ]
     },
     "metadata": {},
     "output_type": "display_data"
    },
    {
     "name": "stdout",
     "output_type": "stream",
     "text": [
      "Epoch 90/500\n"
     ]
    },
    {
     "data": {
      "application/vnd.jupyter.widget-view+json": {
       "model_id": "4d507b72acca442f998af2424cb6bb52",
       "version_major": 2,
       "version_minor": 0
      },
      "text/plain": [
       "0/76           ETA: ?s - "
      ]
     },
     "metadata": {},
     "output_type": "display_data"
    },
    {
     "name": "stdout",
     "output_type": "stream",
     "text": [
      "Epoch 91/500\n"
     ]
    },
    {
     "data": {
      "application/vnd.jupyter.widget-view+json": {
       "model_id": "cdb04097ac3a434d87692173cf16097a",
       "version_major": 2,
       "version_minor": 0
      },
      "text/plain": [
       "0/76           ETA: ?s - "
      ]
     },
     "metadata": {},
     "output_type": "display_data"
    },
    {
     "name": "stdout",
     "output_type": "stream",
     "text": [
      "Epoch 92/500\n"
     ]
    },
    {
     "data": {
      "application/vnd.jupyter.widget-view+json": {
       "model_id": "bbd5561ae28047b78c89adc7f3dcbbba",
       "version_major": 2,
       "version_minor": 0
      },
      "text/plain": [
       "0/76           ETA: ?s - "
      ]
     },
     "metadata": {},
     "output_type": "display_data"
    },
    {
     "name": "stdout",
     "output_type": "stream",
     "text": [
      "Epoch 93/500\n"
     ]
    },
    {
     "data": {
      "application/vnd.jupyter.widget-view+json": {
       "model_id": "fc0c4547632747ea85d3a8f375ee0084",
       "version_major": 2,
       "version_minor": 0
      },
      "text/plain": [
       "0/76           ETA: ?s - "
      ]
     },
     "metadata": {},
     "output_type": "display_data"
    },
    {
     "name": "stdout",
     "output_type": "stream",
     "text": [
      "Epoch 94/500\n"
     ]
    },
    {
     "data": {
      "application/vnd.jupyter.widget-view+json": {
       "model_id": "4a4bd5c76be74727a44bf1a6ab5e2f6c",
       "version_major": 2,
       "version_minor": 0
      },
      "text/plain": [
       "0/76           ETA: ?s - "
      ]
     },
     "metadata": {},
     "output_type": "display_data"
    },
    {
     "name": "stdout",
     "output_type": "stream",
     "text": [
      "Epoch 95/500\n"
     ]
    },
    {
     "data": {
      "application/vnd.jupyter.widget-view+json": {
       "model_id": "65c0ed6bd2bd48d2b05671b3be5b7a0f",
       "version_major": 2,
       "version_minor": 0
      },
      "text/plain": [
       "0/76           ETA: ?s - "
      ]
     },
     "metadata": {},
     "output_type": "display_data"
    },
    {
     "name": "stdout",
     "output_type": "stream",
     "text": [
      "Epoch 96/500\n"
     ]
    },
    {
     "data": {
      "application/vnd.jupyter.widget-view+json": {
       "model_id": "3b7ef4b6cc4d409abe7d4f2d4e831634",
       "version_major": 2,
       "version_minor": 0
      },
      "text/plain": [
       "0/76           ETA: ?s - "
      ]
     },
     "metadata": {},
     "output_type": "display_data"
    },
    {
     "name": "stdout",
     "output_type": "stream",
     "text": [
      "Epoch 97/500\n"
     ]
    },
    {
     "data": {
      "application/vnd.jupyter.widget-view+json": {
       "model_id": "d71dc9faac2b4e879f53c7041917c15f",
       "version_major": 2,
       "version_minor": 0
      },
      "text/plain": [
       "0/76           ETA: ?s - "
      ]
     },
     "metadata": {},
     "output_type": "display_data"
    },
    {
     "name": "stdout",
     "output_type": "stream",
     "text": [
      "Epoch 98/500\n"
     ]
    },
    {
     "data": {
      "application/vnd.jupyter.widget-view+json": {
       "model_id": "af0e3acc35b54072879a80ffffe53d47",
       "version_major": 2,
       "version_minor": 0
      },
      "text/plain": [
       "0/76           ETA: ?s - "
      ]
     },
     "metadata": {},
     "output_type": "display_data"
    },
    {
     "name": "stdout",
     "output_type": "stream",
     "text": [
      "Epoch 99/500\n"
     ]
    },
    {
     "data": {
      "application/vnd.jupyter.widget-view+json": {
       "model_id": "d0679583e9354a0da11921a340561c23",
       "version_major": 2,
       "version_minor": 0
      },
      "text/plain": [
       "0/76           ETA: ?s - "
      ]
     },
     "metadata": {},
     "output_type": "display_data"
    },
    {
     "name": "stdout",
     "output_type": "stream",
     "text": [
      "Epoch 100/500\n"
     ]
    },
    {
     "data": {
      "application/vnd.jupyter.widget-view+json": {
       "model_id": "d1ab03f1c39d41d1b2aee3c6fea53aae",
       "version_major": 2,
       "version_minor": 0
      },
      "text/plain": [
       "0/76           ETA: ?s - "
      ]
     },
     "metadata": {},
     "output_type": "display_data"
    },
    {
     "name": "stdout",
     "output_type": "stream",
     "text": [
      "Epoch 101/500\n"
     ]
    },
    {
     "data": {
      "application/vnd.jupyter.widget-view+json": {
       "model_id": "d0724af1094b4137a730fbeef8ae71b8",
       "version_major": 2,
       "version_minor": 0
      },
      "text/plain": [
       "0/76           ETA: ?s - "
      ]
     },
     "metadata": {},
     "output_type": "display_data"
    },
    {
     "name": "stdout",
     "output_type": "stream",
     "text": [
      "Epoch 102/500\n"
     ]
    },
    {
     "data": {
      "application/vnd.jupyter.widget-view+json": {
       "model_id": "41b2909ea60e45879e6286cddd7d2a38",
       "version_major": 2,
       "version_minor": 0
      },
      "text/plain": [
       "0/76           ETA: ?s - "
      ]
     },
     "metadata": {},
     "output_type": "display_data"
    },
    {
     "name": "stdout",
     "output_type": "stream",
     "text": [
      "Epoch 103/500\n"
     ]
    },
    {
     "data": {
      "application/vnd.jupyter.widget-view+json": {
       "model_id": "436f279bb304428cb712122248c103c7",
       "version_major": 2,
       "version_minor": 0
      },
      "text/plain": [
       "0/76           ETA: ?s - "
      ]
     },
     "metadata": {},
     "output_type": "display_data"
    },
    {
     "name": "stdout",
     "output_type": "stream",
     "text": [
      "Epoch 104/500\n"
     ]
    },
    {
     "data": {
      "application/vnd.jupyter.widget-view+json": {
       "model_id": "55669d49f64b41aeb75d64a2600d3754",
       "version_major": 2,
       "version_minor": 0
      },
      "text/plain": [
       "0/76           ETA: ?s - "
      ]
     },
     "metadata": {},
     "output_type": "display_data"
    },
    {
     "name": "stdout",
     "output_type": "stream",
     "text": [
      "Epoch 105/500\n"
     ]
    },
    {
     "data": {
      "application/vnd.jupyter.widget-view+json": {
       "model_id": "b6b639c944eb44598e9060ac8c618597",
       "version_major": 2,
       "version_minor": 0
      },
      "text/plain": [
       "0/76           ETA: ?s - "
      ]
     },
     "metadata": {},
     "output_type": "display_data"
    },
    {
     "name": "stdout",
     "output_type": "stream",
     "text": [
      "Epoch 106/500\n"
     ]
    },
    {
     "data": {
      "application/vnd.jupyter.widget-view+json": {
       "model_id": "e557dacbcd194260b1728c2e817f0902",
       "version_major": 2,
       "version_minor": 0
      },
      "text/plain": [
       "0/76           ETA: ?s - "
      ]
     },
     "metadata": {},
     "output_type": "display_data"
    },
    {
     "name": "stdout",
     "output_type": "stream",
     "text": [
      "Epoch 107/500\n"
     ]
    },
    {
     "data": {
      "application/vnd.jupyter.widget-view+json": {
       "model_id": "caeb06dcca5b4fad9ba7264e043b4c22",
       "version_major": 2,
       "version_minor": 0
      },
      "text/plain": [
       "0/76           ETA: ?s - "
      ]
     },
     "metadata": {},
     "output_type": "display_data"
    },
    {
     "name": "stdout",
     "output_type": "stream",
     "text": [
      "Epoch 108/500\n"
     ]
    },
    {
     "data": {
      "application/vnd.jupyter.widget-view+json": {
       "model_id": "304010bd2a894efda86324bea86d4164",
       "version_major": 2,
       "version_minor": 0
      },
      "text/plain": [
       "0/76           ETA: ?s - "
      ]
     },
     "metadata": {},
     "output_type": "display_data"
    },
    {
     "name": "stdout",
     "output_type": "stream",
     "text": [
      "Epoch 109/500\n"
     ]
    },
    {
     "data": {
      "application/vnd.jupyter.widget-view+json": {
       "model_id": "b457764b9946453f99f5d8d42186b231",
       "version_major": 2,
       "version_minor": 0
      },
      "text/plain": [
       "0/76           ETA: ?s - "
      ]
     },
     "metadata": {},
     "output_type": "display_data"
    },
    {
     "name": "stdout",
     "output_type": "stream",
     "text": [
      "Epoch 110/500\n"
     ]
    },
    {
     "data": {
      "application/vnd.jupyter.widget-view+json": {
       "model_id": "9438abceca6d49b5b1594bdf646345e7",
       "version_major": 2,
       "version_minor": 0
      },
      "text/plain": [
       "0/76           ETA: ?s - "
      ]
     },
     "metadata": {},
     "output_type": "display_data"
    },
    {
     "name": "stdout",
     "output_type": "stream",
     "text": [
      "Epoch 111/500\n"
     ]
    },
    {
     "data": {
      "application/vnd.jupyter.widget-view+json": {
       "model_id": "a4674521ed2d46f6a5ba3043ff4374c1",
       "version_major": 2,
       "version_minor": 0
      },
      "text/plain": [
       "0/76           ETA: ?s - "
      ]
     },
     "metadata": {},
     "output_type": "display_data"
    },
    {
     "name": "stdout",
     "output_type": "stream",
     "text": [
      "Epoch 112/500\n"
     ]
    },
    {
     "data": {
      "application/vnd.jupyter.widget-view+json": {
       "model_id": "bd648646517d4bb4a5c4ac364e929056",
       "version_major": 2,
       "version_minor": 0
      },
      "text/plain": [
       "0/76           ETA: ?s - "
      ]
     },
     "metadata": {},
     "output_type": "display_data"
    },
    {
     "name": "stdout",
     "output_type": "stream",
     "text": [
      "Epoch 113/500\n"
     ]
    },
    {
     "data": {
      "application/vnd.jupyter.widget-view+json": {
       "model_id": "ca0dd69c30e34d018975ddf9188e6b79",
       "version_major": 2,
       "version_minor": 0
      },
      "text/plain": [
       "0/76           ETA: ?s - "
      ]
     },
     "metadata": {},
     "output_type": "display_data"
    },
    {
     "name": "stdout",
     "output_type": "stream",
     "text": [
      "Epoch 114/500\n"
     ]
    },
    {
     "data": {
      "application/vnd.jupyter.widget-view+json": {
       "model_id": "4325ca9c60804cf0aa511e9a1d2e5c5a",
       "version_major": 2,
       "version_minor": 0
      },
      "text/plain": [
       "0/76           ETA: ?s - "
      ]
     },
     "metadata": {},
     "output_type": "display_data"
    },
    {
     "name": "stdout",
     "output_type": "stream",
     "text": [
      "Epoch 115/500\n"
     ]
    },
    {
     "data": {
      "application/vnd.jupyter.widget-view+json": {
       "model_id": "2d2fd487ec5d428190f399bbda0d8160",
       "version_major": 2,
       "version_minor": 0
      },
      "text/plain": [
       "0/76           ETA: ?s - "
      ]
     },
     "metadata": {},
     "output_type": "display_data"
    },
    {
     "name": "stdout",
     "output_type": "stream",
     "text": [
      "Epoch 116/500\n"
     ]
    },
    {
     "data": {
      "application/vnd.jupyter.widget-view+json": {
       "model_id": "31da7be37e53457b9937d37720135e6e",
       "version_major": 2,
       "version_minor": 0
      },
      "text/plain": [
       "0/76           ETA: ?s - "
      ]
     },
     "metadata": {},
     "output_type": "display_data"
    },
    {
     "name": "stdout",
     "output_type": "stream",
     "text": [
      "Epoch 117/500\n"
     ]
    },
    {
     "data": {
      "application/vnd.jupyter.widget-view+json": {
       "model_id": "0a93e8f99f6c42c09628b600120e28a1",
       "version_major": 2,
       "version_minor": 0
      },
      "text/plain": [
       "0/76           ETA: ?s - "
      ]
     },
     "metadata": {},
     "output_type": "display_data"
    },
    {
     "name": "stdout",
     "output_type": "stream",
     "text": [
      "Epoch 118/500\n"
     ]
    },
    {
     "data": {
      "application/vnd.jupyter.widget-view+json": {
       "model_id": "15080f6ec5604ebb9e2260ba441c8db0",
       "version_major": 2,
       "version_minor": 0
      },
      "text/plain": [
       "0/76           ETA: ?s - "
      ]
     },
     "metadata": {},
     "output_type": "display_data"
    },
    {
     "name": "stdout",
     "output_type": "stream",
     "text": [
      "Epoch 119/500\n"
     ]
    },
    {
     "data": {
      "application/vnd.jupyter.widget-view+json": {
       "model_id": "bdd9d3038a834c5ca189ecabe929a396",
       "version_major": 2,
       "version_minor": 0
      },
      "text/plain": [
       "0/76           ETA: ?s - "
      ]
     },
     "metadata": {},
     "output_type": "display_data"
    },
    {
     "name": "stdout",
     "output_type": "stream",
     "text": [
      "Epoch 120/500\n"
     ]
    },
    {
     "data": {
      "application/vnd.jupyter.widget-view+json": {
       "model_id": "ae8fe4169d8840a4843d55a66ff44834",
       "version_major": 2,
       "version_minor": 0
      },
      "text/plain": [
       "0/76           ETA: ?s - "
      ]
     },
     "metadata": {},
     "output_type": "display_data"
    },
    {
     "name": "stdout",
     "output_type": "stream",
     "text": [
      "Epoch 121/500\n"
     ]
    },
    {
     "data": {
      "application/vnd.jupyter.widget-view+json": {
       "model_id": "7d9ba3e125794b75ad11f8d3abf35e9d",
       "version_major": 2,
       "version_minor": 0
      },
      "text/plain": [
       "0/76           ETA: ?s - "
      ]
     },
     "metadata": {},
     "output_type": "display_data"
    },
    {
     "name": "stdout",
     "output_type": "stream",
     "text": [
      "Epoch 122/500\n"
     ]
    },
    {
     "data": {
      "application/vnd.jupyter.widget-view+json": {
       "model_id": "e3a79f4d28a84971976575b023831dcd",
       "version_major": 2,
       "version_minor": 0
      },
      "text/plain": [
       "0/76           ETA: ?s - "
      ]
     },
     "metadata": {},
     "output_type": "display_data"
    },
    {
     "name": "stdout",
     "output_type": "stream",
     "text": [
      "Epoch 123/500\n"
     ]
    },
    {
     "data": {
      "application/vnd.jupyter.widget-view+json": {
       "model_id": "d79d7d41b2ee41f1b71acf9c3f0c257d",
       "version_major": 2,
       "version_minor": 0
      },
      "text/plain": [
       "0/76           ETA: ?s - "
      ]
     },
     "metadata": {},
     "output_type": "display_data"
    },
    {
     "name": "stdout",
     "output_type": "stream",
     "text": [
      "Epoch 124/500\n"
     ]
    },
    {
     "data": {
      "application/vnd.jupyter.widget-view+json": {
       "model_id": "987b816891694a2aa15960547cb6d0e7",
       "version_major": 2,
       "version_minor": 0
      },
      "text/plain": [
       "0/76           ETA: ?s - "
      ]
     },
     "metadata": {},
     "output_type": "display_data"
    },
    {
     "name": "stdout",
     "output_type": "stream",
     "text": [
      "Epoch 125/500\n"
     ]
    },
    {
     "data": {
      "application/vnd.jupyter.widget-view+json": {
       "model_id": "3c2d00adf77f415e8199b53a82986527",
       "version_major": 2,
       "version_minor": 0
      },
      "text/plain": [
       "0/76           ETA: ?s - "
      ]
     },
     "metadata": {},
     "output_type": "display_data"
    },
    {
     "name": "stdout",
     "output_type": "stream",
     "text": [
      "Epoch 126/500\n"
     ]
    },
    {
     "data": {
      "application/vnd.jupyter.widget-view+json": {
       "model_id": "4155c5fe1a9c4289acf1b843cbef463c",
       "version_major": 2,
       "version_minor": 0
      },
      "text/plain": [
       "0/76           ETA: ?s - "
      ]
     },
     "metadata": {},
     "output_type": "display_data"
    },
    {
     "name": "stdout",
     "output_type": "stream",
     "text": [
      "Epoch 127/500\n"
     ]
    },
    {
     "data": {
      "application/vnd.jupyter.widget-view+json": {
       "model_id": "a0a1d5cf46a14fed852fcde853a3af83",
       "version_major": 2,
       "version_minor": 0
      },
      "text/plain": [
       "0/76           ETA: ?s - "
      ]
     },
     "metadata": {},
     "output_type": "display_data"
    },
    {
     "name": "stdout",
     "output_type": "stream",
     "text": [
      "Epoch 128/500\n"
     ]
    },
    {
     "data": {
      "application/vnd.jupyter.widget-view+json": {
       "model_id": "92dab0c120c945aabfe64abff21f8657",
       "version_major": 2,
       "version_minor": 0
      },
      "text/plain": [
       "0/76           ETA: ?s - "
      ]
     },
     "metadata": {},
     "output_type": "display_data"
    },
    {
     "name": "stdout",
     "output_type": "stream",
     "text": [
      "Epoch 129/500\n"
     ]
    },
    {
     "data": {
      "application/vnd.jupyter.widget-view+json": {
       "model_id": "9e3becd195494325898e003187735507",
       "version_major": 2,
       "version_minor": 0
      },
      "text/plain": [
       "0/76           ETA: ?s - "
      ]
     },
     "metadata": {},
     "output_type": "display_data"
    },
    {
     "name": "stdout",
     "output_type": "stream",
     "text": [
      "Epoch 130/500\n"
     ]
    },
    {
     "data": {
      "application/vnd.jupyter.widget-view+json": {
       "model_id": "c3a9c84d70dd457fb18449b7454da860",
       "version_major": 2,
       "version_minor": 0
      },
      "text/plain": [
       "0/76           ETA: ?s - "
      ]
     },
     "metadata": {},
     "output_type": "display_data"
    },
    {
     "name": "stdout",
     "output_type": "stream",
     "text": [
      "Epoch 131/500\n"
     ]
    },
    {
     "data": {
      "application/vnd.jupyter.widget-view+json": {
       "model_id": "1c846e0eb4584a39ac4b6afc5503b4a6",
       "version_major": 2,
       "version_minor": 0
      },
      "text/plain": [
       "0/76           ETA: ?s - "
      ]
     },
     "metadata": {},
     "output_type": "display_data"
    },
    {
     "name": "stdout",
     "output_type": "stream",
     "text": [
      "Epoch 132/500\n"
     ]
    },
    {
     "data": {
      "application/vnd.jupyter.widget-view+json": {
       "model_id": "e8996100b19f4960a234fe440d459b51",
       "version_major": 2,
       "version_minor": 0
      },
      "text/plain": [
       "0/76           ETA: ?s - "
      ]
     },
     "metadata": {},
     "output_type": "display_data"
    },
    {
     "name": "stdout",
     "output_type": "stream",
     "text": [
      "Epoch 133/500\n"
     ]
    },
    {
     "data": {
      "application/vnd.jupyter.widget-view+json": {
       "model_id": "be85af6ea6114f228518f8ea675ead37",
       "version_major": 2,
       "version_minor": 0
      },
      "text/plain": [
       "0/76           ETA: ?s - "
      ]
     },
     "metadata": {},
     "output_type": "display_data"
    },
    {
     "name": "stdout",
     "output_type": "stream",
     "text": [
      "Epoch 134/500\n"
     ]
    },
    {
     "data": {
      "application/vnd.jupyter.widget-view+json": {
       "model_id": "bc2f5be6cb7b4dde9a00385a4d348367",
       "version_major": 2,
       "version_minor": 0
      },
      "text/plain": [
       "0/76           ETA: ?s - "
      ]
     },
     "metadata": {},
     "output_type": "display_data"
    },
    {
     "name": "stdout",
     "output_type": "stream",
     "text": [
      "Epoch 135/500\n"
     ]
    },
    {
     "data": {
      "application/vnd.jupyter.widget-view+json": {
       "model_id": "b7dfecc2cbfc4df7bdf8c4d2d22787ab",
       "version_major": 2,
       "version_minor": 0
      },
      "text/plain": [
       "0/76           ETA: ?s - "
      ]
     },
     "metadata": {},
     "output_type": "display_data"
    },
    {
     "name": "stdout",
     "output_type": "stream",
     "text": [
      "Epoch 136/500\n"
     ]
    },
    {
     "data": {
      "application/vnd.jupyter.widget-view+json": {
       "model_id": "23c843f522914ff88639f02ee92413a7",
       "version_major": 2,
       "version_minor": 0
      },
      "text/plain": [
       "0/76           ETA: ?s - "
      ]
     },
     "metadata": {},
     "output_type": "display_data"
    },
    {
     "name": "stdout",
     "output_type": "stream",
     "text": [
      "Epoch 137/500\n"
     ]
    },
    {
     "data": {
      "application/vnd.jupyter.widget-view+json": {
       "model_id": "de0942b7bc674a7da91bf5ab0ee7ea0a",
       "version_major": 2,
       "version_minor": 0
      },
      "text/plain": [
       "0/76           ETA: ?s - "
      ]
     },
     "metadata": {},
     "output_type": "display_data"
    },
    {
     "name": "stdout",
     "output_type": "stream",
     "text": [
      "Epoch 138/500\n"
     ]
    },
    {
     "data": {
      "application/vnd.jupyter.widget-view+json": {
       "model_id": "88e0b171d7d443ea87047acc5b61b361",
       "version_major": 2,
       "version_minor": 0
      },
      "text/plain": [
       "0/76           ETA: ?s - "
      ]
     },
     "metadata": {},
     "output_type": "display_data"
    },
    {
     "name": "stdout",
     "output_type": "stream",
     "text": [
      "Epoch 139/500\n"
     ]
    },
    {
     "data": {
      "application/vnd.jupyter.widget-view+json": {
       "model_id": "beb0454269514b3fa4856dbd1e4acb2b",
       "version_major": 2,
       "version_minor": 0
      },
      "text/plain": [
       "0/76           ETA: ?s - "
      ]
     },
     "metadata": {},
     "output_type": "display_data"
    },
    {
     "name": "stdout",
     "output_type": "stream",
     "text": [
      "Epoch 140/500\n"
     ]
    },
    {
     "data": {
      "application/vnd.jupyter.widget-view+json": {
       "model_id": "d4dcac4c513e4eeb8507486591884054",
       "version_major": 2,
       "version_minor": 0
      },
      "text/plain": [
       "0/76           ETA: ?s - "
      ]
     },
     "metadata": {},
     "output_type": "display_data"
    },
    {
     "name": "stdout",
     "output_type": "stream",
     "text": [
      "Epoch 141/500\n"
     ]
    },
    {
     "data": {
      "application/vnd.jupyter.widget-view+json": {
       "model_id": "cc0c6ff9197a4f3f99a925c3eb0581a5",
       "version_major": 2,
       "version_minor": 0
      },
      "text/plain": [
       "0/76           ETA: ?s - "
      ]
     },
     "metadata": {},
     "output_type": "display_data"
    },
    {
     "name": "stdout",
     "output_type": "stream",
     "text": [
      "Epoch 142/500\n"
     ]
    },
    {
     "data": {
      "application/vnd.jupyter.widget-view+json": {
       "model_id": "834044231c03480da12161158ef4262c",
       "version_major": 2,
       "version_minor": 0
      },
      "text/plain": [
       "0/76           ETA: ?s - "
      ]
     },
     "metadata": {},
     "output_type": "display_data"
    },
    {
     "name": "stdout",
     "output_type": "stream",
     "text": [
      "Epoch 143/500\n"
     ]
    },
    {
     "data": {
      "application/vnd.jupyter.widget-view+json": {
       "model_id": "84bf6865dac946da85407d7fac230e81",
       "version_major": 2,
       "version_minor": 0
      },
      "text/plain": [
       "0/76           ETA: ?s - "
      ]
     },
     "metadata": {},
     "output_type": "display_data"
    },
    {
     "name": "stdout",
     "output_type": "stream",
     "text": [
      "Epoch 144/500\n"
     ]
    },
    {
     "data": {
      "application/vnd.jupyter.widget-view+json": {
       "model_id": "c73f61ed8aff4b1d951e584c44ebdde7",
       "version_major": 2,
       "version_minor": 0
      },
      "text/plain": [
       "0/76           ETA: ?s - "
      ]
     },
     "metadata": {},
     "output_type": "display_data"
    },
    {
     "name": "stdout",
     "output_type": "stream",
     "text": [
      "Epoch 145/500\n"
     ]
    },
    {
     "data": {
      "application/vnd.jupyter.widget-view+json": {
       "model_id": "108a74dfa24f452c889d7c901c897b35",
       "version_major": 2,
       "version_minor": 0
      },
      "text/plain": [
       "0/76           ETA: ?s - "
      ]
     },
     "metadata": {},
     "output_type": "display_data"
    },
    {
     "name": "stdout",
     "output_type": "stream",
     "text": [
      "Epoch 146/500\n"
     ]
    },
    {
     "data": {
      "application/vnd.jupyter.widget-view+json": {
       "model_id": "847f1473495843bfa95e70b1ca003daa",
       "version_major": 2,
       "version_minor": 0
      },
      "text/plain": [
       "0/76           ETA: ?s - "
      ]
     },
     "metadata": {},
     "output_type": "display_data"
    },
    {
     "name": "stdout",
     "output_type": "stream",
     "text": [
      "Epoch 147/500\n"
     ]
    },
    {
     "data": {
      "application/vnd.jupyter.widget-view+json": {
       "model_id": "08fc7726cdd54f95bd5d5601ad395c91",
       "version_major": 2,
       "version_minor": 0
      },
      "text/plain": [
       "0/76           ETA: ?s - "
      ]
     },
     "metadata": {},
     "output_type": "display_data"
    },
    {
     "name": "stdout",
     "output_type": "stream",
     "text": [
      "Epoch 148/500\n"
     ]
    },
    {
     "data": {
      "application/vnd.jupyter.widget-view+json": {
       "model_id": "e2aa97dd257f4ef9adb00b6a4695410a",
       "version_major": 2,
       "version_minor": 0
      },
      "text/plain": [
       "0/76           ETA: ?s - "
      ]
     },
     "metadata": {},
     "output_type": "display_data"
    },
    {
     "name": "stdout",
     "output_type": "stream",
     "text": [
      "Epoch 149/500\n"
     ]
    },
    {
     "data": {
      "application/vnd.jupyter.widget-view+json": {
       "model_id": "872b366362be498fa366cdd457b993eb",
       "version_major": 2,
       "version_minor": 0
      },
      "text/plain": [
       "0/76           ETA: ?s - "
      ]
     },
     "metadata": {},
     "output_type": "display_data"
    },
    {
     "name": "stdout",
     "output_type": "stream",
     "text": [
      "Epoch 150/500\n"
     ]
    },
    {
     "data": {
      "application/vnd.jupyter.widget-view+json": {
       "model_id": "372059544bfb4798beedeb9e864d6798",
       "version_major": 2,
       "version_minor": 0
      },
      "text/plain": [
       "0/76           ETA: ?s - "
      ]
     },
     "metadata": {},
     "output_type": "display_data"
    },
    {
     "name": "stdout",
     "output_type": "stream",
     "text": [
      "Epoch 151/500\n"
     ]
    },
    {
     "data": {
      "application/vnd.jupyter.widget-view+json": {
       "model_id": "1725087becbb444fb14b3202bee25095",
       "version_major": 2,
       "version_minor": 0
      },
      "text/plain": [
       "0/76           ETA: ?s - "
      ]
     },
     "metadata": {},
     "output_type": "display_data"
    },
    {
     "name": "stdout",
     "output_type": "stream",
     "text": [
      "Epoch 152/500\n"
     ]
    },
    {
     "data": {
      "application/vnd.jupyter.widget-view+json": {
       "model_id": "bf04dc8fc413416f8ae21c47bf9e7845",
       "version_major": 2,
       "version_minor": 0
      },
      "text/plain": [
       "0/76           ETA: ?s - "
      ]
     },
     "metadata": {},
     "output_type": "display_data"
    },
    {
     "name": "stdout",
     "output_type": "stream",
     "text": [
      "Epoch 153/500\n"
     ]
    },
    {
     "data": {
      "application/vnd.jupyter.widget-view+json": {
       "model_id": "e96533e0fd4d4bb6a321129b018fec33",
       "version_major": 2,
       "version_minor": 0
      },
      "text/plain": [
       "0/76           ETA: ?s - "
      ]
     },
     "metadata": {},
     "output_type": "display_data"
    },
    {
     "name": "stdout",
     "output_type": "stream",
     "text": [
      "Epoch 154/500\n"
     ]
    },
    {
     "data": {
      "application/vnd.jupyter.widget-view+json": {
       "model_id": "83710b053b124e0184d50b1f23c21137",
       "version_major": 2,
       "version_minor": 0
      },
      "text/plain": [
       "0/76           ETA: ?s - "
      ]
     },
     "metadata": {},
     "output_type": "display_data"
    },
    {
     "name": "stdout",
     "output_type": "stream",
     "text": [
      "Epoch 155/500\n"
     ]
    },
    {
     "data": {
      "application/vnd.jupyter.widget-view+json": {
       "model_id": "a5f8594391d544a7a84d980a6254c00b",
       "version_major": 2,
       "version_minor": 0
      },
      "text/plain": [
       "0/76           ETA: ?s - "
      ]
     },
     "metadata": {},
     "output_type": "display_data"
    },
    {
     "name": "stdout",
     "output_type": "stream",
     "text": [
      "Epoch 156/500\n"
     ]
    },
    {
     "data": {
      "application/vnd.jupyter.widget-view+json": {
       "model_id": "0cd4312cf4b64c9cb65217ee4cd2e636",
       "version_major": 2,
       "version_minor": 0
      },
      "text/plain": [
       "0/76           ETA: ?s - "
      ]
     },
     "metadata": {},
     "output_type": "display_data"
    },
    {
     "name": "stdout",
     "output_type": "stream",
     "text": [
      "Epoch 157/500\n"
     ]
    },
    {
     "data": {
      "application/vnd.jupyter.widget-view+json": {
       "model_id": "b9619096005f4b36a9e82c9d078d0eff",
       "version_major": 2,
       "version_minor": 0
      },
      "text/plain": [
       "0/76           ETA: ?s - "
      ]
     },
     "metadata": {},
     "output_type": "display_data"
    },
    {
     "name": "stdout",
     "output_type": "stream",
     "text": [
      "Epoch 158/500\n"
     ]
    },
    {
     "data": {
      "application/vnd.jupyter.widget-view+json": {
       "model_id": "b0f2e3e4287042e0954b721bcb32faff",
       "version_major": 2,
       "version_minor": 0
      },
      "text/plain": [
       "0/76           ETA: ?s - "
      ]
     },
     "metadata": {},
     "output_type": "display_data"
    },
    {
     "name": "stdout",
     "output_type": "stream",
     "text": [
      "Epoch 159/500\n"
     ]
    },
    {
     "data": {
      "application/vnd.jupyter.widget-view+json": {
       "model_id": "d8dde57832d54d7884fda5ce0f8fc077",
       "version_major": 2,
       "version_minor": 0
      },
      "text/plain": [
       "0/76           ETA: ?s - "
      ]
     },
     "metadata": {},
     "output_type": "display_data"
    },
    {
     "name": "stdout",
     "output_type": "stream",
     "text": [
      "Epoch 160/500\n"
     ]
    },
    {
     "data": {
      "application/vnd.jupyter.widget-view+json": {
       "model_id": "0b4433793c1c4277bdd24e85ef4e8a94",
       "version_major": 2,
       "version_minor": 0
      },
      "text/plain": [
       "0/76           ETA: ?s - "
      ]
     },
     "metadata": {},
     "output_type": "display_data"
    },
    {
     "name": "stdout",
     "output_type": "stream",
     "text": [
      "Epoch 161/500\n"
     ]
    },
    {
     "data": {
      "application/vnd.jupyter.widget-view+json": {
       "model_id": "01e036e885134d5b94075c13036094c9",
       "version_major": 2,
       "version_minor": 0
      },
      "text/plain": [
       "0/76           ETA: ?s - "
      ]
     },
     "metadata": {},
     "output_type": "display_data"
    },
    {
     "name": "stdout",
     "output_type": "stream",
     "text": [
      "Epoch 162/500\n"
     ]
    },
    {
     "data": {
      "application/vnd.jupyter.widget-view+json": {
       "model_id": "dc6be38290044b658c2a2b63be4f08e0",
       "version_major": 2,
       "version_minor": 0
      },
      "text/plain": [
       "0/76           ETA: ?s - "
      ]
     },
     "metadata": {},
     "output_type": "display_data"
    },
    {
     "name": "stdout",
     "output_type": "stream",
     "text": [
      "Epoch 163/500\n"
     ]
    },
    {
     "data": {
      "application/vnd.jupyter.widget-view+json": {
       "model_id": "a0e7c0af650b4ea7902cbb05e26ee4fe",
       "version_major": 2,
       "version_minor": 0
      },
      "text/plain": [
       "0/76           ETA: ?s - "
      ]
     },
     "metadata": {},
     "output_type": "display_data"
    },
    {
     "name": "stdout",
     "output_type": "stream",
     "text": [
      "Epoch 164/500\n"
     ]
    },
    {
     "data": {
      "application/vnd.jupyter.widget-view+json": {
       "model_id": "daa54dc9e01f4d0ab211fac8e9c3e032",
       "version_major": 2,
       "version_minor": 0
      },
      "text/plain": [
       "0/76           ETA: ?s - "
      ]
     },
     "metadata": {},
     "output_type": "display_data"
    },
    {
     "name": "stdout",
     "output_type": "stream",
     "text": [
      "Epoch 165/500\n"
     ]
    },
    {
     "data": {
      "application/vnd.jupyter.widget-view+json": {
       "model_id": "4959ab6ee1264bd0b424b9f531cf7d7e",
       "version_major": 2,
       "version_minor": 0
      },
      "text/plain": [
       "0/76           ETA: ?s - "
      ]
     },
     "metadata": {},
     "output_type": "display_data"
    },
    {
     "name": "stdout",
     "output_type": "stream",
     "text": [
      "Epoch 166/500\n"
     ]
    },
    {
     "data": {
      "application/vnd.jupyter.widget-view+json": {
       "model_id": "2851b7637e264fb29f87fb7b99701e9b",
       "version_major": 2,
       "version_minor": 0
      },
      "text/plain": [
       "0/76           ETA: ?s - "
      ]
     },
     "metadata": {},
     "output_type": "display_data"
    },
    {
     "name": "stdout",
     "output_type": "stream",
     "text": [
      "Epoch 167/500\n"
     ]
    },
    {
     "data": {
      "application/vnd.jupyter.widget-view+json": {
       "model_id": "b82c4437512f4b90850f087e2ebb5aa1",
       "version_major": 2,
       "version_minor": 0
      },
      "text/plain": [
       "0/76           ETA: ?s - "
      ]
     },
     "metadata": {},
     "output_type": "display_data"
    },
    {
     "name": "stdout",
     "output_type": "stream",
     "text": [
      "Epoch 168/500\n"
     ]
    },
    {
     "data": {
      "application/vnd.jupyter.widget-view+json": {
       "model_id": "b0ea4e85d88f483dad411285dffa0b89",
       "version_major": 2,
       "version_minor": 0
      },
      "text/plain": [
       "0/76           ETA: ?s - "
      ]
     },
     "metadata": {},
     "output_type": "display_data"
    },
    {
     "name": "stdout",
     "output_type": "stream",
     "text": [
      "Epoch 169/500\n"
     ]
    },
    {
     "data": {
      "application/vnd.jupyter.widget-view+json": {
       "model_id": "d98261db6e1d4522905d75088b8ba4f8",
       "version_major": 2,
       "version_minor": 0
      },
      "text/plain": [
       "0/76           ETA: ?s - "
      ]
     },
     "metadata": {},
     "output_type": "display_data"
    },
    {
     "name": "stdout",
     "output_type": "stream",
     "text": [
      "Epoch 170/500\n"
     ]
    },
    {
     "data": {
      "application/vnd.jupyter.widget-view+json": {
       "model_id": "dfb1ac0dedce4b8d822a56f879c3b6b9",
       "version_major": 2,
       "version_minor": 0
      },
      "text/plain": [
       "0/76           ETA: ?s - "
      ]
     },
     "metadata": {},
     "output_type": "display_data"
    },
    {
     "name": "stdout",
     "output_type": "stream",
     "text": [
      "Epoch 171/500\n"
     ]
    },
    {
     "data": {
      "application/vnd.jupyter.widget-view+json": {
       "model_id": "e9cec7064b2b4ace852b1e91d4fd7131",
       "version_major": 2,
       "version_minor": 0
      },
      "text/plain": [
       "0/76           ETA: ?s - "
      ]
     },
     "metadata": {},
     "output_type": "display_data"
    },
    {
     "name": "stdout",
     "output_type": "stream",
     "text": [
      "Epoch 172/500\n"
     ]
    },
    {
     "data": {
      "application/vnd.jupyter.widget-view+json": {
       "model_id": "ce295c851f564628a78e545dc114d387",
       "version_major": 2,
       "version_minor": 0
      },
      "text/plain": [
       "0/76           ETA: ?s - "
      ]
     },
     "metadata": {},
     "output_type": "display_data"
    },
    {
     "name": "stdout",
     "output_type": "stream",
     "text": [
      "Epoch 173/500\n"
     ]
    },
    {
     "data": {
      "application/vnd.jupyter.widget-view+json": {
       "model_id": "b3b55195a8cd40f78cc09253c583a19e",
       "version_major": 2,
       "version_minor": 0
      },
      "text/plain": [
       "0/76           ETA: ?s - "
      ]
     },
     "metadata": {},
     "output_type": "display_data"
    },
    {
     "name": "stdout",
     "output_type": "stream",
     "text": [
      "Epoch 174/500\n"
     ]
    },
    {
     "data": {
      "application/vnd.jupyter.widget-view+json": {
       "model_id": "9bf5c509bd024da6b7a23a149fc3ef14",
       "version_major": 2,
       "version_minor": 0
      },
      "text/plain": [
       "0/76           ETA: ?s - "
      ]
     },
     "metadata": {},
     "output_type": "display_data"
    },
    {
     "name": "stdout",
     "output_type": "stream",
     "text": [
      "Epoch 175/500\n"
     ]
    },
    {
     "data": {
      "application/vnd.jupyter.widget-view+json": {
       "model_id": "4201d53785bc4523a410e5fb33354ef1",
       "version_major": 2,
       "version_minor": 0
      },
      "text/plain": [
       "0/76           ETA: ?s - "
      ]
     },
     "metadata": {},
     "output_type": "display_data"
    },
    {
     "name": "stdout",
     "output_type": "stream",
     "text": [
      "Epoch 176/500\n"
     ]
    },
    {
     "data": {
      "application/vnd.jupyter.widget-view+json": {
       "model_id": "8c586585e56a44499408e4b74d64a9f9",
       "version_major": 2,
       "version_minor": 0
      },
      "text/plain": [
       "0/76           ETA: ?s - "
      ]
     },
     "metadata": {},
     "output_type": "display_data"
    },
    {
     "name": "stdout",
     "output_type": "stream",
     "text": [
      "Epoch 177/500\n"
     ]
    },
    {
     "data": {
      "application/vnd.jupyter.widget-view+json": {
       "model_id": "aeee144fa73146caaed46b35682b69d6",
       "version_major": 2,
       "version_minor": 0
      },
      "text/plain": [
       "0/76           ETA: ?s - "
      ]
     },
     "metadata": {},
     "output_type": "display_data"
    },
    {
     "name": "stdout",
     "output_type": "stream",
     "text": [
      "Epoch 178/500\n"
     ]
    },
    {
     "data": {
      "application/vnd.jupyter.widget-view+json": {
       "model_id": "5922f253d6b445f1a6a96ce2b499a68d",
       "version_major": 2,
       "version_minor": 0
      },
      "text/plain": [
       "0/76           ETA: ?s - "
      ]
     },
     "metadata": {},
     "output_type": "display_data"
    },
    {
     "name": "stdout",
     "output_type": "stream",
     "text": [
      "Epoch 179/500\n"
     ]
    },
    {
     "data": {
      "application/vnd.jupyter.widget-view+json": {
       "model_id": "71d366728ee54ee09e878ba89983d45b",
       "version_major": 2,
       "version_minor": 0
      },
      "text/plain": [
       "0/76           ETA: ?s - "
      ]
     },
     "metadata": {},
     "output_type": "display_data"
    },
    {
     "name": "stdout",
     "output_type": "stream",
     "text": [
      "Epoch 180/500\n"
     ]
    },
    {
     "data": {
      "application/vnd.jupyter.widget-view+json": {
       "model_id": "b16f6cad8d814cbcb37b07aff2887ea7",
       "version_major": 2,
       "version_minor": 0
      },
      "text/plain": [
       "0/76           ETA: ?s - "
      ]
     },
     "metadata": {},
     "output_type": "display_data"
    },
    {
     "name": "stdout",
     "output_type": "stream",
     "text": [
      "Epoch 181/500\n"
     ]
    },
    {
     "data": {
      "application/vnd.jupyter.widget-view+json": {
       "model_id": "4ea3d0f784fb4f9d929e242b6aac085e",
       "version_major": 2,
       "version_minor": 0
      },
      "text/plain": [
       "0/76           ETA: ?s - "
      ]
     },
     "metadata": {},
     "output_type": "display_data"
    },
    {
     "name": "stdout",
     "output_type": "stream",
     "text": [
      "Epoch 182/500\n"
     ]
    },
    {
     "data": {
      "application/vnd.jupyter.widget-view+json": {
       "model_id": "55d0d763a38343e892738167badc1036",
       "version_major": 2,
       "version_minor": 0
      },
      "text/plain": [
       "0/76           ETA: ?s - "
      ]
     },
     "metadata": {},
     "output_type": "display_data"
    },
    {
     "name": "stdout",
     "output_type": "stream",
     "text": [
      "Epoch 183/500\n"
     ]
    },
    {
     "data": {
      "application/vnd.jupyter.widget-view+json": {
       "model_id": "c75178eb0d5b4f829445cf2005003955",
       "version_major": 2,
       "version_minor": 0
      },
      "text/plain": [
       "0/76           ETA: ?s - "
      ]
     },
     "metadata": {},
     "output_type": "display_data"
    },
    {
     "name": "stdout",
     "output_type": "stream",
     "text": [
      "Epoch 184/500\n"
     ]
    },
    {
     "data": {
      "application/vnd.jupyter.widget-view+json": {
       "model_id": "2cc91dd18b5f4589835a1eb5da498e5f",
       "version_major": 2,
       "version_minor": 0
      },
      "text/plain": [
       "0/76           ETA: ?s - "
      ]
     },
     "metadata": {},
     "output_type": "display_data"
    },
    {
     "name": "stdout",
     "output_type": "stream",
     "text": [
      "Epoch 185/500\n"
     ]
    },
    {
     "data": {
      "application/vnd.jupyter.widget-view+json": {
       "model_id": "75639216e6f34a33a2ceb23e8bfaaa5a",
       "version_major": 2,
       "version_minor": 0
      },
      "text/plain": [
       "0/76           ETA: ?s - "
      ]
     },
     "metadata": {},
     "output_type": "display_data"
    },
    {
     "name": "stdout",
     "output_type": "stream",
     "text": [
      "Epoch 186/500\n"
     ]
    },
    {
     "data": {
      "application/vnd.jupyter.widget-view+json": {
       "model_id": "fd19c8d0a77846229ec8609ce5825356",
       "version_major": 2,
       "version_minor": 0
      },
      "text/plain": [
       "0/76           ETA: ?s - "
      ]
     },
     "metadata": {},
     "output_type": "display_data"
    },
    {
     "name": "stdout",
     "output_type": "stream",
     "text": [
      "Epoch 187/500\n"
     ]
    },
    {
     "data": {
      "application/vnd.jupyter.widget-view+json": {
       "model_id": "6a2e46282a2e4f2ba7e332f6321bd963",
       "version_major": 2,
       "version_minor": 0
      },
      "text/plain": [
       "0/76           ETA: ?s - "
      ]
     },
     "metadata": {},
     "output_type": "display_data"
    },
    {
     "name": "stdout",
     "output_type": "stream",
     "text": [
      "Epoch 188/500\n"
     ]
    },
    {
     "data": {
      "application/vnd.jupyter.widget-view+json": {
       "model_id": "03bc00ec656240f79690c94701f9eb3b",
       "version_major": 2,
       "version_minor": 0
      },
      "text/plain": [
       "0/76           ETA: ?s - "
      ]
     },
     "metadata": {},
     "output_type": "display_data"
    },
    {
     "name": "stdout",
     "output_type": "stream",
     "text": [
      "Epoch 189/500\n"
     ]
    },
    {
     "data": {
      "application/vnd.jupyter.widget-view+json": {
       "model_id": "f316b963e3bb4fdeb98ddfe8532f55c7",
       "version_major": 2,
       "version_minor": 0
      },
      "text/plain": [
       "0/76           ETA: ?s - "
      ]
     },
     "metadata": {},
     "output_type": "display_data"
    },
    {
     "name": "stdout",
     "output_type": "stream",
     "text": [
      "Epoch 190/500\n"
     ]
    },
    {
     "data": {
      "application/vnd.jupyter.widget-view+json": {
       "model_id": "68b90a5c1c2d485791be1e2236375802",
       "version_major": 2,
       "version_minor": 0
      },
      "text/plain": [
       "0/76           ETA: ?s - "
      ]
     },
     "metadata": {},
     "output_type": "display_data"
    },
    {
     "name": "stdout",
     "output_type": "stream",
     "text": [
      "Epoch 191/500\n"
     ]
    },
    {
     "data": {
      "application/vnd.jupyter.widget-view+json": {
       "model_id": "67da000000a642b3b0c6116f1231625d",
       "version_major": 2,
       "version_minor": 0
      },
      "text/plain": [
       "0/76           ETA: ?s - "
      ]
     },
     "metadata": {},
     "output_type": "display_data"
    },
    {
     "name": "stdout",
     "output_type": "stream",
     "text": [
      "Epoch 192/500\n"
     ]
    },
    {
     "data": {
      "application/vnd.jupyter.widget-view+json": {
       "model_id": "c6c069b11d2746459244237cf13722cc",
       "version_major": 2,
       "version_minor": 0
      },
      "text/plain": [
       "0/76           ETA: ?s - "
      ]
     },
     "metadata": {},
     "output_type": "display_data"
    },
    {
     "name": "stdout",
     "output_type": "stream",
     "text": [
      "Epoch 193/500\n"
     ]
    },
    {
     "data": {
      "application/vnd.jupyter.widget-view+json": {
       "model_id": "04effde6c1f648019539ee56fde95158",
       "version_major": 2,
       "version_minor": 0
      },
      "text/plain": [
       "0/76           ETA: ?s - "
      ]
     },
     "metadata": {},
     "output_type": "display_data"
    },
    {
     "name": "stdout",
     "output_type": "stream",
     "text": [
      "Epoch 194/500\n"
     ]
    },
    {
     "data": {
      "application/vnd.jupyter.widget-view+json": {
       "model_id": "7254082ba80f43f0a992ef5f858633d3",
       "version_major": 2,
       "version_minor": 0
      },
      "text/plain": [
       "0/76           ETA: ?s - "
      ]
     },
     "metadata": {},
     "output_type": "display_data"
    },
    {
     "name": "stdout",
     "output_type": "stream",
     "text": [
      "Epoch 195/500\n"
     ]
    },
    {
     "data": {
      "application/vnd.jupyter.widget-view+json": {
       "model_id": "11880e89a0a3430d93944f6836ee477b",
       "version_major": 2,
       "version_minor": 0
      },
      "text/plain": [
       "0/76           ETA: ?s - "
      ]
     },
     "metadata": {},
     "output_type": "display_data"
    },
    {
     "name": "stdout",
     "output_type": "stream",
     "text": [
      "Epoch 196/500\n"
     ]
    },
    {
     "data": {
      "application/vnd.jupyter.widget-view+json": {
       "model_id": "04a4f0fe104c44bea6f0132fce846419",
       "version_major": 2,
       "version_minor": 0
      },
      "text/plain": [
       "0/76           ETA: ?s - "
      ]
     },
     "metadata": {},
     "output_type": "display_data"
    },
    {
     "name": "stdout",
     "output_type": "stream",
     "text": [
      "Epoch 197/500\n"
     ]
    },
    {
     "data": {
      "application/vnd.jupyter.widget-view+json": {
       "model_id": "3f1b6834eb764ed1b6e0c68277e30e0d",
       "version_major": 2,
       "version_minor": 0
      },
      "text/plain": [
       "0/76           ETA: ?s - "
      ]
     },
     "metadata": {},
     "output_type": "display_data"
    },
    {
     "name": "stdout",
     "output_type": "stream",
     "text": [
      "Epoch 198/500\n"
     ]
    },
    {
     "data": {
      "application/vnd.jupyter.widget-view+json": {
       "model_id": "fb127a49cb6c4c3e9f5040d2bc9e577f",
       "version_major": 2,
       "version_minor": 0
      },
      "text/plain": [
       "0/76           ETA: ?s - "
      ]
     },
     "metadata": {},
     "output_type": "display_data"
    },
    {
     "name": "stdout",
     "output_type": "stream",
     "text": [
      "Epoch 199/500\n"
     ]
    },
    {
     "data": {
      "application/vnd.jupyter.widget-view+json": {
       "model_id": "b1060c780bb640d586bbcc61c039ac6b",
       "version_major": 2,
       "version_minor": 0
      },
      "text/plain": [
       "0/76           ETA: ?s - "
      ]
     },
     "metadata": {},
     "output_type": "display_data"
    },
    {
     "name": "stdout",
     "output_type": "stream",
     "text": [
      "Epoch 200/500\n"
     ]
    },
    {
     "data": {
      "application/vnd.jupyter.widget-view+json": {
       "model_id": "89d4983d616e47dca54d81e0cb429692",
       "version_major": 2,
       "version_minor": 0
      },
      "text/plain": [
       "0/76           ETA: ?s - "
      ]
     },
     "metadata": {},
     "output_type": "display_data"
    },
    {
     "name": "stdout",
     "output_type": "stream",
     "text": [
      "Epoch 201/500\n"
     ]
    },
    {
     "data": {
      "application/vnd.jupyter.widget-view+json": {
       "model_id": "2e2ea4f42be1441a822e871a417e3bef",
       "version_major": 2,
       "version_minor": 0
      },
      "text/plain": [
       "0/76           ETA: ?s - "
      ]
     },
     "metadata": {},
     "output_type": "display_data"
    },
    {
     "name": "stdout",
     "output_type": "stream",
     "text": [
      "Epoch 202/500\n"
     ]
    },
    {
     "data": {
      "application/vnd.jupyter.widget-view+json": {
       "model_id": "0d9cc9ca7c244e82b6b471bd277add45",
       "version_major": 2,
       "version_minor": 0
      },
      "text/plain": [
       "0/76           ETA: ?s - "
      ]
     },
     "metadata": {},
     "output_type": "display_data"
    },
    {
     "name": "stdout",
     "output_type": "stream",
     "text": [
      "Epoch 203/500\n"
     ]
    },
    {
     "data": {
      "application/vnd.jupyter.widget-view+json": {
       "model_id": "15bd962a92ab48cd84fda4255d78832e",
       "version_major": 2,
       "version_minor": 0
      },
      "text/plain": [
       "0/76           ETA: ?s - "
      ]
     },
     "metadata": {},
     "output_type": "display_data"
    },
    {
     "name": "stdout",
     "output_type": "stream",
     "text": [
      "Epoch 204/500\n"
     ]
    },
    {
     "data": {
      "application/vnd.jupyter.widget-view+json": {
       "model_id": "f24dc3a996564c2bb12ec7a734668640",
       "version_major": 2,
       "version_minor": 0
      },
      "text/plain": [
       "0/76           ETA: ?s - "
      ]
     },
     "metadata": {},
     "output_type": "display_data"
    },
    {
     "name": "stdout",
     "output_type": "stream",
     "text": [
      "Epoch 205/500\n"
     ]
    },
    {
     "data": {
      "application/vnd.jupyter.widget-view+json": {
       "model_id": "173e7f4929c742f7a562c885738b29bd",
       "version_major": 2,
       "version_minor": 0
      },
      "text/plain": [
       "0/76           ETA: ?s - "
      ]
     },
     "metadata": {},
     "output_type": "display_data"
    },
    {
     "name": "stdout",
     "output_type": "stream",
     "text": [
      "Epoch 206/500\n"
     ]
    },
    {
     "data": {
      "application/vnd.jupyter.widget-view+json": {
       "model_id": "a9dc0269fda94abd8c8e6a86c68943d4",
       "version_major": 2,
       "version_minor": 0
      },
      "text/plain": [
       "0/76           ETA: ?s - "
      ]
     },
     "metadata": {},
     "output_type": "display_data"
    },
    {
     "name": "stdout",
     "output_type": "stream",
     "text": [
      "Epoch 207/500\n"
     ]
    },
    {
     "data": {
      "application/vnd.jupyter.widget-view+json": {
       "model_id": "f3ccc9ac6c5848fcbf7c1708a342153e",
       "version_major": 2,
       "version_minor": 0
      },
      "text/plain": [
       "0/76           ETA: ?s - "
      ]
     },
     "metadata": {},
     "output_type": "display_data"
    },
    {
     "name": "stdout",
     "output_type": "stream",
     "text": [
      "Epoch 208/500\n"
     ]
    },
    {
     "data": {
      "application/vnd.jupyter.widget-view+json": {
       "model_id": "8f1cab82e8a948afaf91b7be24db58c7",
       "version_major": 2,
       "version_minor": 0
      },
      "text/plain": [
       "0/76           ETA: ?s - "
      ]
     },
     "metadata": {},
     "output_type": "display_data"
    },
    {
     "name": "stdout",
     "output_type": "stream",
     "text": [
      "Epoch 209/500\n"
     ]
    },
    {
     "data": {
      "application/vnd.jupyter.widget-view+json": {
       "model_id": "50ebbb0154f0490ca0738cb743b0e891",
       "version_major": 2,
       "version_minor": 0
      },
      "text/plain": [
       "0/76           ETA: ?s - "
      ]
     },
     "metadata": {},
     "output_type": "display_data"
    },
    {
     "name": "stdout",
     "output_type": "stream",
     "text": [
      "Epoch 210/500\n"
     ]
    },
    {
     "data": {
      "application/vnd.jupyter.widget-view+json": {
       "model_id": "36b2c21e07bc49fca2677bf848ee87c0",
       "version_major": 2,
       "version_minor": 0
      },
      "text/plain": [
       "0/76           ETA: ?s - "
      ]
     },
     "metadata": {},
     "output_type": "display_data"
    },
    {
     "name": "stdout",
     "output_type": "stream",
     "text": [
      "Epoch 211/500\n"
     ]
    },
    {
     "data": {
      "application/vnd.jupyter.widget-view+json": {
       "model_id": "5c6238391ad347359e75ea6a081b69bc",
       "version_major": 2,
       "version_minor": 0
      },
      "text/plain": [
       "0/76           ETA: ?s - "
      ]
     },
     "metadata": {},
     "output_type": "display_data"
    },
    {
     "name": "stdout",
     "output_type": "stream",
     "text": [
      "Epoch 212/500\n"
     ]
    },
    {
     "data": {
      "application/vnd.jupyter.widget-view+json": {
       "model_id": "ff3c7e9e481c4bf09d436238d9ba8bb8",
       "version_major": 2,
       "version_minor": 0
      },
      "text/plain": [
       "0/76           ETA: ?s - "
      ]
     },
     "metadata": {},
     "output_type": "display_data"
    },
    {
     "name": "stdout",
     "output_type": "stream",
     "text": [
      "Epoch 213/500\n"
     ]
    },
    {
     "data": {
      "application/vnd.jupyter.widget-view+json": {
       "model_id": "8107099901a74bbf84aaed7e6ab0dcf6",
       "version_major": 2,
       "version_minor": 0
      },
      "text/plain": [
       "0/76           ETA: ?s - "
      ]
     },
     "metadata": {},
     "output_type": "display_data"
    },
    {
     "name": "stdout",
     "output_type": "stream",
     "text": [
      "Epoch 214/500\n"
     ]
    },
    {
     "data": {
      "application/vnd.jupyter.widget-view+json": {
       "model_id": "c42aa820ab2a40f094d2abb5e31387f8",
       "version_major": 2,
       "version_minor": 0
      },
      "text/plain": [
       "0/76           ETA: ?s - "
      ]
     },
     "metadata": {},
     "output_type": "display_data"
    },
    {
     "name": "stdout",
     "output_type": "stream",
     "text": [
      "Epoch 215/500\n"
     ]
    },
    {
     "data": {
      "application/vnd.jupyter.widget-view+json": {
       "model_id": "3d01e558b7764cb4a863cb9f21bc3f27",
       "version_major": 2,
       "version_minor": 0
      },
      "text/plain": [
       "0/76           ETA: ?s - "
      ]
     },
     "metadata": {},
     "output_type": "display_data"
    },
    {
     "name": "stdout",
     "output_type": "stream",
     "text": [
      "Epoch 216/500\n"
     ]
    },
    {
     "data": {
      "application/vnd.jupyter.widget-view+json": {
       "model_id": "e14914e58d32444ca45772bee22ecb40",
       "version_major": 2,
       "version_minor": 0
      },
      "text/plain": [
       "0/76           ETA: ?s - "
      ]
     },
     "metadata": {},
     "output_type": "display_data"
    },
    {
     "name": "stdout",
     "output_type": "stream",
     "text": [
      "Epoch 217/500\n"
     ]
    },
    {
     "data": {
      "application/vnd.jupyter.widget-view+json": {
       "model_id": "0c0b6a3cf2f44bb0a6ed8b9c66a20924",
       "version_major": 2,
       "version_minor": 0
      },
      "text/plain": [
       "0/76           ETA: ?s - "
      ]
     },
     "metadata": {},
     "output_type": "display_data"
    },
    {
     "name": "stdout",
     "output_type": "stream",
     "text": [
      "Epoch 218/500\n"
     ]
    },
    {
     "data": {
      "application/vnd.jupyter.widget-view+json": {
       "model_id": "a0a885ee02f742fdb0a60529f200b174",
       "version_major": 2,
       "version_minor": 0
      },
      "text/plain": [
       "0/76           ETA: ?s - "
      ]
     },
     "metadata": {},
     "output_type": "display_data"
    },
    {
     "name": "stdout",
     "output_type": "stream",
     "text": [
      "Epoch 219/500\n"
     ]
    },
    {
     "data": {
      "application/vnd.jupyter.widget-view+json": {
       "model_id": "5cf509f2accb442f8055b1a759e66103",
       "version_major": 2,
       "version_minor": 0
      },
      "text/plain": [
       "0/76           ETA: ?s - "
      ]
     },
     "metadata": {},
     "output_type": "display_data"
    },
    {
     "name": "stdout",
     "output_type": "stream",
     "text": [
      "Epoch 220/500\n"
     ]
    },
    {
     "data": {
      "application/vnd.jupyter.widget-view+json": {
       "model_id": "b8fc996ac208480b9e10d4b8e2f3626f",
       "version_major": 2,
       "version_minor": 0
      },
      "text/plain": [
       "0/76           ETA: ?s - "
      ]
     },
     "metadata": {},
     "output_type": "display_data"
    },
    {
     "name": "stdout",
     "output_type": "stream",
     "text": [
      "Epoch 221/500\n"
     ]
    },
    {
     "data": {
      "application/vnd.jupyter.widget-view+json": {
       "model_id": "110450e4ddf24b9080a8f384e6c73fac",
       "version_major": 2,
       "version_minor": 0
      },
      "text/plain": [
       "0/76           ETA: ?s - "
      ]
     },
     "metadata": {},
     "output_type": "display_data"
    },
    {
     "name": "stdout",
     "output_type": "stream",
     "text": [
      "Epoch 222/500\n"
     ]
    },
    {
     "data": {
      "application/vnd.jupyter.widget-view+json": {
       "model_id": "0f1c677a711c41829cf55ca035e55041",
       "version_major": 2,
       "version_minor": 0
      },
      "text/plain": [
       "0/76           ETA: ?s - "
      ]
     },
     "metadata": {},
     "output_type": "display_data"
    },
    {
     "name": "stdout",
     "output_type": "stream",
     "text": [
      "Epoch 223/500\n"
     ]
    },
    {
     "data": {
      "application/vnd.jupyter.widget-view+json": {
       "model_id": "35bd37ba7c3b4cbe8ebc0f0069d46ae8",
       "version_major": 2,
       "version_minor": 0
      },
      "text/plain": [
       "0/76           ETA: ?s - "
      ]
     },
     "metadata": {},
     "output_type": "display_data"
    },
    {
     "name": "stdout",
     "output_type": "stream",
     "text": [
      "Epoch 224/500\n"
     ]
    },
    {
     "data": {
      "application/vnd.jupyter.widget-view+json": {
       "model_id": "712009830db141ce9939354ed6dd3346",
       "version_major": 2,
       "version_minor": 0
      },
      "text/plain": [
       "0/76           ETA: ?s - "
      ]
     },
     "metadata": {},
     "output_type": "display_data"
    },
    {
     "name": "stdout",
     "output_type": "stream",
     "text": [
      "Epoch 225/500\n"
     ]
    },
    {
     "data": {
      "application/vnd.jupyter.widget-view+json": {
       "model_id": "97e0484d62874cec920c8008c0ae9bc8",
       "version_major": 2,
       "version_minor": 0
      },
      "text/plain": [
       "0/76           ETA: ?s - "
      ]
     },
     "metadata": {},
     "output_type": "display_data"
    },
    {
     "name": "stdout",
     "output_type": "stream",
     "text": [
      "Epoch 226/500\n"
     ]
    },
    {
     "data": {
      "application/vnd.jupyter.widget-view+json": {
       "model_id": "db3785fbc4a449e6910b8f41e321f4a9",
       "version_major": 2,
       "version_minor": 0
      },
      "text/plain": [
       "0/76           ETA: ?s - "
      ]
     },
     "metadata": {},
     "output_type": "display_data"
    },
    {
     "name": "stdout",
     "output_type": "stream",
     "text": [
      "Epoch 227/500\n"
     ]
    },
    {
     "data": {
      "application/vnd.jupyter.widget-view+json": {
       "model_id": "accd49ea10114e42be2c78ce7eba8f8a",
       "version_major": 2,
       "version_minor": 0
      },
      "text/plain": [
       "0/76           ETA: ?s - "
      ]
     },
     "metadata": {},
     "output_type": "display_data"
    },
    {
     "name": "stdout",
     "output_type": "stream",
     "text": [
      "Epoch 228/500\n"
     ]
    },
    {
     "data": {
      "application/vnd.jupyter.widget-view+json": {
       "model_id": "051da04c1731454f8412732ff7fad880",
       "version_major": 2,
       "version_minor": 0
      },
      "text/plain": [
       "0/76           ETA: ?s - "
      ]
     },
     "metadata": {},
     "output_type": "display_data"
    },
    {
     "name": "stdout",
     "output_type": "stream",
     "text": [
      "Epoch 229/500\n"
     ]
    },
    {
     "data": {
      "application/vnd.jupyter.widget-view+json": {
       "model_id": "59d8d754b2d345eaa15dc642c8ddcb79",
       "version_major": 2,
       "version_minor": 0
      },
      "text/plain": [
       "0/76           ETA: ?s - "
      ]
     },
     "metadata": {},
     "output_type": "display_data"
    },
    {
     "name": "stdout",
     "output_type": "stream",
     "text": [
      "Epoch 230/500\n"
     ]
    },
    {
     "data": {
      "application/vnd.jupyter.widget-view+json": {
       "model_id": "cfabe0025cc4498b9e316d680a5e411c",
       "version_major": 2,
       "version_minor": 0
      },
      "text/plain": [
       "0/76           ETA: ?s - "
      ]
     },
     "metadata": {},
     "output_type": "display_data"
    },
    {
     "name": "stdout",
     "output_type": "stream",
     "text": [
      "Epoch 231/500\n"
     ]
    },
    {
     "data": {
      "application/vnd.jupyter.widget-view+json": {
       "model_id": "178053b43ed14107a8ae9c98ce0839ad",
       "version_major": 2,
       "version_minor": 0
      },
      "text/plain": [
       "0/76           ETA: ?s - "
      ]
     },
     "metadata": {},
     "output_type": "display_data"
    },
    {
     "name": "stdout",
     "output_type": "stream",
     "text": [
      "Epoch 232/500\n"
     ]
    },
    {
     "data": {
      "application/vnd.jupyter.widget-view+json": {
       "model_id": "84f140c100a74867843a6618de114674",
       "version_major": 2,
       "version_minor": 0
      },
      "text/plain": [
       "0/76           ETA: ?s - "
      ]
     },
     "metadata": {},
     "output_type": "display_data"
    },
    {
     "name": "stdout",
     "output_type": "stream",
     "text": [
      "Epoch 233/500\n"
     ]
    },
    {
     "data": {
      "application/vnd.jupyter.widget-view+json": {
       "model_id": "bdd7c27e3e6d4a7583460e38e2f6b25b",
       "version_major": 2,
       "version_minor": 0
      },
      "text/plain": [
       "0/76           ETA: ?s - "
      ]
     },
     "metadata": {},
     "output_type": "display_data"
    },
    {
     "name": "stdout",
     "output_type": "stream",
     "text": [
      "Epoch 234/500\n"
     ]
    },
    {
     "data": {
      "application/vnd.jupyter.widget-view+json": {
       "model_id": "3a5975c567824941950a89bf6f460a63",
       "version_major": 2,
       "version_minor": 0
      },
      "text/plain": [
       "0/76           ETA: ?s - "
      ]
     },
     "metadata": {},
     "output_type": "display_data"
    },
    {
     "name": "stdout",
     "output_type": "stream",
     "text": [
      "Epoch 235/500\n"
     ]
    },
    {
     "data": {
      "application/vnd.jupyter.widget-view+json": {
       "model_id": "bdb915074d994cb19e791c9bc45ce078",
       "version_major": 2,
       "version_minor": 0
      },
      "text/plain": [
       "0/76           ETA: ?s - "
      ]
     },
     "metadata": {},
     "output_type": "display_data"
    },
    {
     "name": "stdout",
     "output_type": "stream",
     "text": [
      "Epoch 236/500\n"
     ]
    },
    {
     "data": {
      "application/vnd.jupyter.widget-view+json": {
       "model_id": "f4ed08a0c76c4539809ec460f21392cc",
       "version_major": 2,
       "version_minor": 0
      },
      "text/plain": [
       "0/76           ETA: ?s - "
      ]
     },
     "metadata": {},
     "output_type": "display_data"
    },
    {
     "name": "stdout",
     "output_type": "stream",
     "text": [
      "Epoch 237/500\n"
     ]
    },
    {
     "data": {
      "application/vnd.jupyter.widget-view+json": {
       "model_id": "781b81936bae4cb0843f11e3720d3bc8",
       "version_major": 2,
       "version_minor": 0
      },
      "text/plain": [
       "0/76           ETA: ?s - "
      ]
     },
     "metadata": {},
     "output_type": "display_data"
    },
    {
     "name": "stdout",
     "output_type": "stream",
     "text": [
      "Epoch 238/500\n"
     ]
    },
    {
     "data": {
      "application/vnd.jupyter.widget-view+json": {
       "model_id": "cc943fe7e56745f38c2ff5af6cf6ef8a",
       "version_major": 2,
       "version_minor": 0
      },
      "text/plain": [
       "0/76           ETA: ?s - "
      ]
     },
     "metadata": {},
     "output_type": "display_data"
    },
    {
     "name": "stdout",
     "output_type": "stream",
     "text": [
      "Epoch 239/500\n"
     ]
    },
    {
     "data": {
      "application/vnd.jupyter.widget-view+json": {
       "model_id": "85705dff6e59457d9c401dd7a2eb75d1",
       "version_major": 2,
       "version_minor": 0
      },
      "text/plain": [
       "0/76           ETA: ?s - "
      ]
     },
     "metadata": {},
     "output_type": "display_data"
    },
    {
     "name": "stdout",
     "output_type": "stream",
     "text": [
      "Epoch 240/500\n"
     ]
    },
    {
     "data": {
      "application/vnd.jupyter.widget-view+json": {
       "model_id": "f36b0410a6a0459fa3c45b71c0b267ce",
       "version_major": 2,
       "version_minor": 0
      },
      "text/plain": [
       "0/76           ETA: ?s - "
      ]
     },
     "metadata": {},
     "output_type": "display_data"
    },
    {
     "name": "stdout",
     "output_type": "stream",
     "text": [
      "Epoch 241/500\n"
     ]
    },
    {
     "data": {
      "application/vnd.jupyter.widget-view+json": {
       "model_id": "4d11648eb89749608a1305fd45c1c8ec",
       "version_major": 2,
       "version_minor": 0
      },
      "text/plain": [
       "0/76           ETA: ?s - "
      ]
     },
     "metadata": {},
     "output_type": "display_data"
    },
    {
     "name": "stdout",
     "output_type": "stream",
     "text": [
      "Epoch 242/500\n"
     ]
    },
    {
     "data": {
      "application/vnd.jupyter.widget-view+json": {
       "model_id": "856220f416c74336a8910bf0c688d6c1",
       "version_major": 2,
       "version_minor": 0
      },
      "text/plain": [
       "0/76           ETA: ?s - "
      ]
     },
     "metadata": {},
     "output_type": "display_data"
    },
    {
     "name": "stdout",
     "output_type": "stream",
     "text": [
      "Epoch 243/500\n"
     ]
    },
    {
     "data": {
      "application/vnd.jupyter.widget-view+json": {
       "model_id": "df356654877a4cdfa565074033784461",
       "version_major": 2,
       "version_minor": 0
      },
      "text/plain": [
       "0/76           ETA: ?s - "
      ]
     },
     "metadata": {},
     "output_type": "display_data"
    },
    {
     "name": "stdout",
     "output_type": "stream",
     "text": [
      "Epoch 244/500\n"
     ]
    },
    {
     "data": {
      "application/vnd.jupyter.widget-view+json": {
       "model_id": "b12cb784491c478a9b10c47fed59cc9c",
       "version_major": 2,
       "version_minor": 0
      },
      "text/plain": [
       "0/76           ETA: ?s - "
      ]
     },
     "metadata": {},
     "output_type": "display_data"
    },
    {
     "name": "stdout",
     "output_type": "stream",
     "text": [
      "Epoch 245/500\n"
     ]
    },
    {
     "data": {
      "application/vnd.jupyter.widget-view+json": {
       "model_id": "7d29f3192ebf48588b4237530f2bbdb6",
       "version_major": 2,
       "version_minor": 0
      },
      "text/plain": [
       "0/76           ETA: ?s - "
      ]
     },
     "metadata": {},
     "output_type": "display_data"
    },
    {
     "name": "stdout",
     "output_type": "stream",
     "text": [
      "Epoch 246/500\n"
     ]
    },
    {
     "data": {
      "application/vnd.jupyter.widget-view+json": {
       "model_id": "7e1c256861f341a6a015febe204540d2",
       "version_major": 2,
       "version_minor": 0
      },
      "text/plain": [
       "0/76           ETA: ?s - "
      ]
     },
     "metadata": {},
     "output_type": "display_data"
    },
    {
     "name": "stdout",
     "output_type": "stream",
     "text": [
      "Epoch 247/500\n"
     ]
    },
    {
     "data": {
      "application/vnd.jupyter.widget-view+json": {
       "model_id": "8c39c148ece64a73a58e5a31e85bb98f",
       "version_major": 2,
       "version_minor": 0
      },
      "text/plain": [
       "0/76           ETA: ?s - "
      ]
     },
     "metadata": {},
     "output_type": "display_data"
    },
    {
     "name": "stdout",
     "output_type": "stream",
     "text": [
      "Epoch 248/500\n"
     ]
    },
    {
     "data": {
      "application/vnd.jupyter.widget-view+json": {
       "model_id": "db551d7498364dd5b3786458447c779d",
       "version_major": 2,
       "version_minor": 0
      },
      "text/plain": [
       "0/76           ETA: ?s - "
      ]
     },
     "metadata": {},
     "output_type": "display_data"
    },
    {
     "name": "stdout",
     "output_type": "stream",
     "text": [
      "Epoch 249/500\n"
     ]
    },
    {
     "data": {
      "application/vnd.jupyter.widget-view+json": {
       "model_id": "0511e8008f694f76ad3de01cec78ab4f",
       "version_major": 2,
       "version_minor": 0
      },
      "text/plain": [
       "0/76           ETA: ?s - "
      ]
     },
     "metadata": {},
     "output_type": "display_data"
    },
    {
     "name": "stdout",
     "output_type": "stream",
     "text": [
      "Epoch 250/500\n"
     ]
    },
    {
     "data": {
      "application/vnd.jupyter.widget-view+json": {
       "model_id": "bb7a5e5348594b018865bde368589027",
       "version_major": 2,
       "version_minor": 0
      },
      "text/plain": [
       "0/76           ETA: ?s - "
      ]
     },
     "metadata": {},
     "output_type": "display_data"
    },
    {
     "name": "stdout",
     "output_type": "stream",
     "text": [
      "Epoch 251/500\n"
     ]
    },
    {
     "data": {
      "application/vnd.jupyter.widget-view+json": {
       "model_id": "e200b2145dc44981a598cfff8aad7c72",
       "version_major": 2,
       "version_minor": 0
      },
      "text/plain": [
       "0/76           ETA: ?s - "
      ]
     },
     "metadata": {},
     "output_type": "display_data"
    },
    {
     "name": "stdout",
     "output_type": "stream",
     "text": [
      "Epoch 252/500\n"
     ]
    },
    {
     "data": {
      "application/vnd.jupyter.widget-view+json": {
       "model_id": "f0166e591ad0449a964984c2054e4ae1",
       "version_major": 2,
       "version_minor": 0
      },
      "text/plain": [
       "0/76           ETA: ?s - "
      ]
     },
     "metadata": {},
     "output_type": "display_data"
    },
    {
     "name": "stdout",
     "output_type": "stream",
     "text": [
      "Epoch 253/500\n"
     ]
    },
    {
     "data": {
      "application/vnd.jupyter.widget-view+json": {
       "model_id": "c9a634a0669249e8ae18fcd00aabf71a",
       "version_major": 2,
       "version_minor": 0
      },
      "text/plain": [
       "0/76           ETA: ?s - "
      ]
     },
     "metadata": {},
     "output_type": "display_data"
    },
    {
     "name": "stdout",
     "output_type": "stream",
     "text": [
      "Epoch 254/500\n"
     ]
    },
    {
     "data": {
      "application/vnd.jupyter.widget-view+json": {
       "model_id": "13465a5f747343efb4c6b559a97bdd1c",
       "version_major": 2,
       "version_minor": 0
      },
      "text/plain": [
       "0/76           ETA: ?s - "
      ]
     },
     "metadata": {},
     "output_type": "display_data"
    },
    {
     "name": "stdout",
     "output_type": "stream",
     "text": [
      "Epoch 255/500\n"
     ]
    },
    {
     "data": {
      "application/vnd.jupyter.widget-view+json": {
       "model_id": "786129fbacf247e68b36e2e86b3fcd6f",
       "version_major": 2,
       "version_minor": 0
      },
      "text/plain": [
       "0/76           ETA: ?s - "
      ]
     },
     "metadata": {},
     "output_type": "display_data"
    },
    {
     "name": "stdout",
     "output_type": "stream",
     "text": [
      "Epoch 256/500\n"
     ]
    },
    {
     "data": {
      "application/vnd.jupyter.widget-view+json": {
       "model_id": "5dccf34099784017948df52e47676d8b",
       "version_major": 2,
       "version_minor": 0
      },
      "text/plain": [
       "0/76           ETA: ?s - "
      ]
     },
     "metadata": {},
     "output_type": "display_data"
    },
    {
     "name": "stdout",
     "output_type": "stream",
     "text": [
      "Epoch 257/500\n"
     ]
    },
    {
     "data": {
      "application/vnd.jupyter.widget-view+json": {
       "model_id": "3874b45f8aa9438383c7566393231b5b",
       "version_major": 2,
       "version_minor": 0
      },
      "text/plain": [
       "0/76           ETA: ?s - "
      ]
     },
     "metadata": {},
     "output_type": "display_data"
    },
    {
     "name": "stdout",
     "output_type": "stream",
     "text": [
      "Epoch 258/500\n"
     ]
    },
    {
     "data": {
      "application/vnd.jupyter.widget-view+json": {
       "model_id": "a3f2df0f6f4c451eb55618ea556dfe12",
       "version_major": 2,
       "version_minor": 0
      },
      "text/plain": [
       "0/76           ETA: ?s - "
      ]
     },
     "metadata": {},
     "output_type": "display_data"
    },
    {
     "name": "stdout",
     "output_type": "stream",
     "text": [
      "Epoch 259/500\n"
     ]
    },
    {
     "data": {
      "application/vnd.jupyter.widget-view+json": {
       "model_id": "93342d3d30134e84bb026dcab91ebb05",
       "version_major": 2,
       "version_minor": 0
      },
      "text/plain": [
       "0/76           ETA: ?s - "
      ]
     },
     "metadata": {},
     "output_type": "display_data"
    },
    {
     "name": "stdout",
     "output_type": "stream",
     "text": [
      "Epoch 260/500\n"
     ]
    },
    {
     "data": {
      "application/vnd.jupyter.widget-view+json": {
       "model_id": "186470919bb14f4c9405c8ceabcea258",
       "version_major": 2,
       "version_minor": 0
      },
      "text/plain": [
       "0/76           ETA: ?s - "
      ]
     },
     "metadata": {},
     "output_type": "display_data"
    },
    {
     "name": "stdout",
     "output_type": "stream",
     "text": [
      "Epoch 261/500\n"
     ]
    },
    {
     "data": {
      "application/vnd.jupyter.widget-view+json": {
       "model_id": "407067fc6a604e0db93502d5aa26bd79",
       "version_major": 2,
       "version_minor": 0
      },
      "text/plain": [
       "0/76           ETA: ?s - "
      ]
     },
     "metadata": {},
     "output_type": "display_data"
    },
    {
     "name": "stdout",
     "output_type": "stream",
     "text": [
      "Epoch 262/500\n"
     ]
    },
    {
     "data": {
      "application/vnd.jupyter.widget-view+json": {
       "model_id": "72d372d4e0ac42be883a793cf08ef2ee",
       "version_major": 2,
       "version_minor": 0
      },
      "text/plain": [
       "0/76           ETA: ?s - "
      ]
     },
     "metadata": {},
     "output_type": "display_data"
    },
    {
     "name": "stdout",
     "output_type": "stream",
     "text": [
      "Epoch 263/500\n"
     ]
    },
    {
     "data": {
      "application/vnd.jupyter.widget-view+json": {
       "model_id": "53be961c74554f508018adeedf1f4745",
       "version_major": 2,
       "version_minor": 0
      },
      "text/plain": [
       "0/76           ETA: ?s - "
      ]
     },
     "metadata": {},
     "output_type": "display_data"
    },
    {
     "name": "stdout",
     "output_type": "stream",
     "text": [
      "Epoch 264/500\n"
     ]
    },
    {
     "data": {
      "application/vnd.jupyter.widget-view+json": {
       "model_id": "612249ca0bb84d42804edf67b0d3ea46",
       "version_major": 2,
       "version_minor": 0
      },
      "text/plain": [
       "0/76           ETA: ?s - "
      ]
     },
     "metadata": {},
     "output_type": "display_data"
    },
    {
     "name": "stdout",
     "output_type": "stream",
     "text": [
      "Epoch 265/500\n"
     ]
    },
    {
     "data": {
      "application/vnd.jupyter.widget-view+json": {
       "model_id": "943549a54d234d3a8418c802f33e9ee2",
       "version_major": 2,
       "version_minor": 0
      },
      "text/plain": [
       "0/76           ETA: ?s - "
      ]
     },
     "metadata": {},
     "output_type": "display_data"
    },
    {
     "name": "stdout",
     "output_type": "stream",
     "text": [
      "Epoch 266/500\n"
     ]
    },
    {
     "data": {
      "application/vnd.jupyter.widget-view+json": {
       "model_id": "af4dbe27b1ed4ae6b23ef613c67faf3b",
       "version_major": 2,
       "version_minor": 0
      },
      "text/plain": [
       "0/76           ETA: ?s - "
      ]
     },
     "metadata": {},
     "output_type": "display_data"
    },
    {
     "name": "stdout",
     "output_type": "stream",
     "text": [
      "Epoch 267/500\n"
     ]
    },
    {
     "data": {
      "application/vnd.jupyter.widget-view+json": {
       "model_id": "baf9567ae6e94c1c9a52508d0d7a18c1",
       "version_major": 2,
       "version_minor": 0
      },
      "text/plain": [
       "0/76           ETA: ?s - "
      ]
     },
     "metadata": {},
     "output_type": "display_data"
    },
    {
     "name": "stdout",
     "output_type": "stream",
     "text": [
      "Epoch 268/500\n"
     ]
    },
    {
     "data": {
      "application/vnd.jupyter.widget-view+json": {
       "model_id": "d0103ebdddf84192867c7e58813d9a59",
       "version_major": 2,
       "version_minor": 0
      },
      "text/plain": [
       "0/76           ETA: ?s - "
      ]
     },
     "metadata": {},
     "output_type": "display_data"
    },
    {
     "name": "stdout",
     "output_type": "stream",
     "text": [
      "Epoch 269/500\n"
     ]
    },
    {
     "data": {
      "application/vnd.jupyter.widget-view+json": {
       "model_id": "21e735a6db724827872ff7436ce3a921",
       "version_major": 2,
       "version_minor": 0
      },
      "text/plain": [
       "0/76           ETA: ?s - "
      ]
     },
     "metadata": {},
     "output_type": "display_data"
    },
    {
     "name": "stdout",
     "output_type": "stream",
     "text": [
      "Epoch 270/500\n"
     ]
    },
    {
     "data": {
      "application/vnd.jupyter.widget-view+json": {
       "model_id": "6822f9e5b428416f8c74539806f8edea",
       "version_major": 2,
       "version_minor": 0
      },
      "text/plain": [
       "0/76           ETA: ?s - "
      ]
     },
     "metadata": {},
     "output_type": "display_data"
    },
    {
     "name": "stdout",
     "output_type": "stream",
     "text": [
      "Epoch 271/500\n"
     ]
    },
    {
     "data": {
      "application/vnd.jupyter.widget-view+json": {
       "model_id": "f131ff66fe264c00a784bbecadad26f9",
       "version_major": 2,
       "version_minor": 0
      },
      "text/plain": [
       "0/76           ETA: ?s - "
      ]
     },
     "metadata": {},
     "output_type": "display_data"
    },
    {
     "name": "stdout",
     "output_type": "stream",
     "text": [
      "Epoch 272/500\n"
     ]
    },
    {
     "data": {
      "application/vnd.jupyter.widget-view+json": {
       "model_id": "7f25f1e720144bae8e8cede9b8c1ce4d",
       "version_major": 2,
       "version_minor": 0
      },
      "text/plain": [
       "0/76           ETA: ?s - "
      ]
     },
     "metadata": {},
     "output_type": "display_data"
    },
    {
     "name": "stdout",
     "output_type": "stream",
     "text": [
      "Epoch 273/500\n"
     ]
    },
    {
     "data": {
      "application/vnd.jupyter.widget-view+json": {
       "model_id": "2556699099e74fb780feb6365d3276be",
       "version_major": 2,
       "version_minor": 0
      },
      "text/plain": [
       "0/76           ETA: ?s - "
      ]
     },
     "metadata": {},
     "output_type": "display_data"
    },
    {
     "name": "stdout",
     "output_type": "stream",
     "text": [
      "Epoch 274/500\n"
     ]
    },
    {
     "data": {
      "application/vnd.jupyter.widget-view+json": {
       "model_id": "1fe4c8d587ca4642b72f74d09f8826d2",
       "version_major": 2,
       "version_minor": 0
      },
      "text/plain": [
       "0/76           ETA: ?s - "
      ]
     },
     "metadata": {},
     "output_type": "display_data"
    },
    {
     "name": "stdout",
     "output_type": "stream",
     "text": [
      "Epoch 275/500\n"
     ]
    },
    {
     "data": {
      "application/vnd.jupyter.widget-view+json": {
       "model_id": "d4ea8fc8f95c40db887689de2d237542",
       "version_major": 2,
       "version_minor": 0
      },
      "text/plain": [
       "0/76           ETA: ?s - "
      ]
     },
     "metadata": {},
     "output_type": "display_data"
    },
    {
     "name": "stdout",
     "output_type": "stream",
     "text": [
      "Epoch 276/500\n"
     ]
    },
    {
     "data": {
      "application/vnd.jupyter.widget-view+json": {
       "model_id": "6f9cc3ed9a76479b923abe8ca2126f33",
       "version_major": 2,
       "version_minor": 0
      },
      "text/plain": [
       "0/76           ETA: ?s - "
      ]
     },
     "metadata": {},
     "output_type": "display_data"
    },
    {
     "name": "stdout",
     "output_type": "stream",
     "text": [
      "Epoch 277/500\n"
     ]
    },
    {
     "data": {
      "application/vnd.jupyter.widget-view+json": {
       "model_id": "314049fdf853476f8efd098340b06280",
       "version_major": 2,
       "version_minor": 0
      },
      "text/plain": [
       "0/76           ETA: ?s - "
      ]
     },
     "metadata": {},
     "output_type": "display_data"
    },
    {
     "name": "stdout",
     "output_type": "stream",
     "text": [
      "Epoch 278/500\n"
     ]
    },
    {
     "data": {
      "application/vnd.jupyter.widget-view+json": {
       "model_id": "a30caf6503bf43feb0b8a17e51cbcca5",
       "version_major": 2,
       "version_minor": 0
      },
      "text/plain": [
       "0/76           ETA: ?s - "
      ]
     },
     "metadata": {},
     "output_type": "display_data"
    },
    {
     "name": "stdout",
     "output_type": "stream",
     "text": [
      "Epoch 279/500\n"
     ]
    },
    {
     "data": {
      "application/vnd.jupyter.widget-view+json": {
       "model_id": "1f5db7ec703a4483a9fb3c405aeb3c10",
       "version_major": 2,
       "version_minor": 0
      },
      "text/plain": [
       "0/76           ETA: ?s - "
      ]
     },
     "metadata": {},
     "output_type": "display_data"
    },
    {
     "name": "stdout",
     "output_type": "stream",
     "text": [
      "Epoch 280/500\n"
     ]
    },
    {
     "data": {
      "application/vnd.jupyter.widget-view+json": {
       "model_id": "1f0ddf29c2b3444bad4844f045257015",
       "version_major": 2,
       "version_minor": 0
      },
      "text/plain": [
       "0/76           ETA: ?s - "
      ]
     },
     "metadata": {},
     "output_type": "display_data"
    },
    {
     "name": "stdout",
     "output_type": "stream",
     "text": [
      "Epoch 281/500\n"
     ]
    },
    {
     "data": {
      "application/vnd.jupyter.widget-view+json": {
       "model_id": "e9f74b53e8be4ec4892dd586125e5eb5",
       "version_major": 2,
       "version_minor": 0
      },
      "text/plain": [
       "0/76           ETA: ?s - "
      ]
     },
     "metadata": {},
     "output_type": "display_data"
    },
    {
     "name": "stdout",
     "output_type": "stream",
     "text": [
      "Epoch 282/500\n"
     ]
    },
    {
     "data": {
      "application/vnd.jupyter.widget-view+json": {
       "model_id": "5dd19dd1ed584eb6a6a9ef9bb1f7783a",
       "version_major": 2,
       "version_minor": 0
      },
      "text/plain": [
       "0/76           ETA: ?s - "
      ]
     },
     "metadata": {},
     "output_type": "display_data"
    },
    {
     "name": "stdout",
     "output_type": "stream",
     "text": [
      "Epoch 283/500\n"
     ]
    },
    {
     "data": {
      "application/vnd.jupyter.widget-view+json": {
       "model_id": "b58a18f2cd4941908ce4c95dd103bbb1",
       "version_major": 2,
       "version_minor": 0
      },
      "text/plain": [
       "0/76           ETA: ?s - "
      ]
     },
     "metadata": {},
     "output_type": "display_data"
    },
    {
     "name": "stdout",
     "output_type": "stream",
     "text": [
      "Epoch 284/500\n"
     ]
    },
    {
     "data": {
      "application/vnd.jupyter.widget-view+json": {
       "model_id": "73ba24f941e14841bb5cf6cf2116b91f",
       "version_major": 2,
       "version_minor": 0
      },
      "text/plain": [
       "0/76           ETA: ?s - "
      ]
     },
     "metadata": {},
     "output_type": "display_data"
    },
    {
     "name": "stdout",
     "output_type": "stream",
     "text": [
      "Epoch 285/500\n"
     ]
    },
    {
     "data": {
      "application/vnd.jupyter.widget-view+json": {
       "model_id": "05a596501eae46f2b242846824a2456b",
       "version_major": 2,
       "version_minor": 0
      },
      "text/plain": [
       "0/76           ETA: ?s - "
      ]
     },
     "metadata": {},
     "output_type": "display_data"
    },
    {
     "name": "stdout",
     "output_type": "stream",
     "text": [
      "Epoch 286/500\n"
     ]
    },
    {
     "data": {
      "application/vnd.jupyter.widget-view+json": {
       "model_id": "28b03a19092a4597af090d57e4906bfd",
       "version_major": 2,
       "version_minor": 0
      },
      "text/plain": [
       "0/76           ETA: ?s - "
      ]
     },
     "metadata": {},
     "output_type": "display_data"
    },
    {
     "name": "stdout",
     "output_type": "stream",
     "text": [
      "Epoch 287/500\n"
     ]
    },
    {
     "data": {
      "application/vnd.jupyter.widget-view+json": {
       "model_id": "19c5bb72d9254ab791f139cda3c26832",
       "version_major": 2,
       "version_minor": 0
      },
      "text/plain": [
       "0/76           ETA: ?s - "
      ]
     },
     "metadata": {},
     "output_type": "display_data"
    },
    {
     "name": "stdout",
     "output_type": "stream",
     "text": [
      "Epoch 288/500\n"
     ]
    },
    {
     "data": {
      "application/vnd.jupyter.widget-view+json": {
       "model_id": "8bb91c84ef3d4dc9ba38617387ebecfe",
       "version_major": 2,
       "version_minor": 0
      },
      "text/plain": [
       "0/76           ETA: ?s - "
      ]
     },
     "metadata": {},
     "output_type": "display_data"
    },
    {
     "name": "stdout",
     "output_type": "stream",
     "text": [
      "Epoch 289/500\n"
     ]
    },
    {
     "data": {
      "application/vnd.jupyter.widget-view+json": {
       "model_id": "3df0ec8c33784869a48cf453866046ef",
       "version_major": 2,
       "version_minor": 0
      },
      "text/plain": [
       "0/76           ETA: ?s - "
      ]
     },
     "metadata": {},
     "output_type": "display_data"
    },
    {
     "name": "stdout",
     "output_type": "stream",
     "text": [
      "Epoch 290/500\n"
     ]
    },
    {
     "data": {
      "application/vnd.jupyter.widget-view+json": {
       "model_id": "493491dfc8dc49b6a5adfcf75a11cd7b",
       "version_major": 2,
       "version_minor": 0
      },
      "text/plain": [
       "0/76           ETA: ?s - "
      ]
     },
     "metadata": {},
     "output_type": "display_data"
    },
    {
     "name": "stdout",
     "output_type": "stream",
     "text": [
      "Epoch 291/500\n"
     ]
    },
    {
     "data": {
      "application/vnd.jupyter.widget-view+json": {
       "model_id": "f73df3e175b04288899c4eb648563fdb",
       "version_major": 2,
       "version_minor": 0
      },
      "text/plain": [
       "0/76           ETA: ?s - "
      ]
     },
     "metadata": {},
     "output_type": "display_data"
    },
    {
     "name": "stdout",
     "output_type": "stream",
     "text": [
      "Epoch 292/500\n"
     ]
    },
    {
     "data": {
      "application/vnd.jupyter.widget-view+json": {
       "model_id": "9d8890541a8946da97985e9011b36075",
       "version_major": 2,
       "version_minor": 0
      },
      "text/plain": [
       "0/76           ETA: ?s - "
      ]
     },
     "metadata": {},
     "output_type": "display_data"
    },
    {
     "name": "stdout",
     "output_type": "stream",
     "text": [
      "Epoch 293/500\n"
     ]
    },
    {
     "data": {
      "application/vnd.jupyter.widget-view+json": {
       "model_id": "d58b023b22ce46919fe650157d57f99a",
       "version_major": 2,
       "version_minor": 0
      },
      "text/plain": [
       "0/76           ETA: ?s - "
      ]
     },
     "metadata": {},
     "output_type": "display_data"
    },
    {
     "name": "stdout",
     "output_type": "stream",
     "text": [
      "Epoch 294/500\n"
     ]
    },
    {
     "data": {
      "application/vnd.jupyter.widget-view+json": {
       "model_id": "5306048ae808471ba7e39d586adedeed",
       "version_major": 2,
       "version_minor": 0
      },
      "text/plain": [
       "0/76           ETA: ?s - "
      ]
     },
     "metadata": {},
     "output_type": "display_data"
    },
    {
     "name": "stdout",
     "output_type": "stream",
     "text": [
      "Epoch 295/500\n"
     ]
    },
    {
     "data": {
      "application/vnd.jupyter.widget-view+json": {
       "model_id": "d335bc5d428e424581c9370975ffaa41",
       "version_major": 2,
       "version_minor": 0
      },
      "text/plain": [
       "0/76           ETA: ?s - "
      ]
     },
     "metadata": {},
     "output_type": "display_data"
    }
   ],
   "source": [
    "\n",
    "history = model.fit(training,\n",
    "                    epochs=500,\n",
    "                    verbose=0, # TQDMProgressBar logs out the info, so no need for the default logs\n",
    "                    validation_data=validation,\n",
    "                    callbacks=[\n",
    "                        keras.callbacks.EarlyStopping(monitor='loss',patience=40, verbose=0),\n",
    "                        tfa.callbacks.TQDMProgressBar()\n",
    "                    ])"
   ]
  },
  {
   "cell_type": "code",
   "execution_count": 14,
   "id": "c0b0f2ba",
   "metadata": {},
   "outputs": [
    {
     "data": {
      "text/plain": [
       "<AxesSubplot:>"
      ]
     },
     "execution_count": 14,
     "metadata": {},
     "output_type": "execute_result"
    },
    {
     "data": {
      "image/png": "[encoded data removed]",
      "text/plain": [
       "<Figure size 432x288 with 1 Axes>"
      ]
     },
     "metadata": {},
     "output_type": "display_data"
    },
    {
     "data": {
      "image/png": "[encoded data removed]",
      "text/plain": [
       "<Figure size 432x288 with 1 Axes>"
      ]
     },
     "metadata": {},
     "output_type": "display_data"
    }
   ],
   "source": [
    "history_df = pd.DataFrame(history.history)\n",
    "history_df[['loss', 'val_loss']].plot()\n",
    "history_df[['categorical_accuracy', 'val_categorical_accuracy']].plot()"
   ]
  },
  {
   "cell_type": "code",
   "execution_count": 15,
   "id": "160a4bf0",
   "metadata": {},
   "outputs": [
    {
     "name": "stdout",
     "output_type": "stream",
     "text": [
      "21/21 [==============================] - 9s 421ms/step\n"
     ]
    }
   ],
   "source": [
    "y_pred = model.predict(validation)"
   ]
  },
  {
   "cell_type": "code",
   "execution_count": 16,
   "id": "70fbc333",
   "metadata": {},
   "outputs": [
    {
     "data": {
      "text/plain": [
       "count    2601.000000\n",
       "mean        0.986892\n",
       "std         0.060246\n",
       "min         0.479010\n",
       "25%         0.999994\n",
       "50%         1.000000\n",
       "75%         1.000000\n",
       "max         1.000000\n",
       "dtype: float64"
      ]
     },
     "execution_count": 16,
     "metadata": {},
     "output_type": "execute_result"
    }
   ],
   "source": [
    "predicted_codes = y_pred.argmax(axis=1)\n",
    "confidence = pd.Series(y_pred.max(axis=1))\n",
    "confidence.describe()"
   ]
  },
  {
   "cell_type": "code",
   "execution_count": 17,
   "id": "b1d6833b",
   "metadata": {},
   "outputs": [
    {
     "data": {
      "text/html": [
       "<div>\n",
       "<style scoped>\n",
       "    .dataframe tbody tr th:only-of-type {\n",
       "        vertical-align: middle;\n",
       "    }\n",
       "\n",
       "    .dataframe tbody tr th {\n",
       "        vertical-align: top;\n",
       "    }\n",
       "\n",
       "    .dataframe thead th {\n",
       "        text-align: right;\n",
       "    }\n",
       "</style>\n",
       "<table border=\"1\" class=\"dataframe\">\n",
       "  <thead>\n",
       "    <tr style=\"text-align: right;\">\n",
       "      <th></th>\n",
       "      <th>filename</th>\n",
       "      <th>class</th>\n",
       "      <th>predicted_class</th>\n",
       "      <th>confidence</th>\n",
       "    </tr>\n",
       "  </thead>\n",
       "  <tbody>\n",
       "    <tr>\n",
       "      <th>953</th>\n",
       "      <td>/home/nick/dbox/EmbryoLabeling/Labelers/train/Syngamy/M0776_S00534_W4_F0_85.jpg</td>\n",
       "      <td>Syngamy</td>\n",
       "      <td>Syngamy</td>\n",
       "      <td>1.000000</td>\n",
       "    </tr>\n",
       "    <tr>\n",
       "      <th>665</th>\n",
       "      <td>/home/nick/dbox/EmbryoLabeling/Labelers/train/Syngamy/M0776_S00512_W3_F0_279.jpg</td>\n",
       "      <td>Syngamy</td>\n",
       "      <td>Syngamy</td>\n",
       "      <td>1.000000</td>\n",
       "    </tr>\n",
       "    <tr>\n",
       "      <th>531</th>\n",
       "      <td>/home/nick/dbox/EmbryoLabeling/Labelers/train/Blastocyst/M3169_S00668_W8_F0_6097.jpg</td>\n",
       "      <td>Blastocyst</td>\n",
       "      <td>Blastocyst</td>\n",
       "      <td>0.939220</td>\n",
       "    </tr>\n",
       "    <tr>\n",
       "      <th>79</th>\n",
       "      <td>/home/nick/dbox/EmbryoLabeling/Labelers/train/Morula/M0776_S00512_W8_F0_5451.jpg</td>\n",
       "      <td>Morula</td>\n",
       "      <td>Morula</td>\n",
       "      <td>1.000000</td>\n",
       "    </tr>\n",
       "    <tr>\n",
       "      <th>1260</th>\n",
       "      <td>/home/nick/dbox/EmbryoLabeling/Labelers/train/2pn/M0776_S00512_W8_F0_1320.jpg</td>\n",
       "      <td>2pn</td>\n",
       "      <td>2pn</td>\n",
       "      <td>1.000000</td>\n",
       "    </tr>\n",
       "    <tr>\n",
       "      <th>...</th>\n",
       "      <td>...</td>\n",
       "      <td>...</td>\n",
       "      <td>...</td>\n",
       "      <td>...</td>\n",
       "    </tr>\n",
       "    <tr>\n",
       "      <th>456</th>\n",
       "      <td>/home/nick/dbox/EmbryoLabeling/Labelers/train/2pn/M3169_S00668_W14_F0_1195.jpg</td>\n",
       "      <td>2pn</td>\n",
       "      <td>2pn</td>\n",
       "      <td>0.996781</td>\n",
       "    </tr>\n",
       "    <tr>\n",
       "      <th>946</th>\n",
       "      <td>/home/nick/dbox/EmbryoLabeling/Labelers/train/2 Cell/M3169_S00737_W1_F0_2349.jpg</td>\n",
       "      <td>2 Cell</td>\n",
       "      <td>2 Cell</td>\n",
       "      <td>0.999999</td>\n",
       "    </tr>\n",
       "    <tr>\n",
       "      <th>713</th>\n",
       "      <td>/home/nick/dbox/EmbryoLabeling/Labelers/train/Syngamy/M0831_S00659_W1_F0_166.jpg</td>\n",
       "      <td>Syngamy</td>\n",
       "      <td>Syngamy</td>\n",
       "      <td>1.000000</td>\n",
       "    </tr>\n",
       "    <tr>\n",
       "      <th>799</th>\n",
       "      <td>/home/nick/dbox/EmbryoLabeling/Labelers/train/4 Cell/M0776_S00512_W5_F0_2270.jpg</td>\n",
       "      <td>4 Cell</td>\n",
       "      <td>4 Cell</td>\n",
       "      <td>1.000000</td>\n",
       "    </tr>\n",
       "    <tr>\n",
       "      <th>4856</th>\n",
       "      <td>/home/nick/dbox/EmbryoLabeling/Labelers/train/Empty/M0776_S00512_W5_F0_7128.jpg</td>\n",
       "      <td>Empty</td>\n",
       "      <td>Empty</td>\n",
       "      <td>NaN</td>\n",
       "    </tr>\n",
       "  </tbody>\n",
       "</table>\n",
       "<p>2601 rows × 4 columns</p>\n",
       "</div>"
      ],
      "text/plain": [
       "                                                                                  filename  \\\n",
       "953        /home/nick/dbox/EmbryoLabeling/Labelers/train/Syngamy/M0776_S00534_W4_F0_85.jpg   \n",
       "665       /home/nick/dbox/EmbryoLabeling/Labelers/train/Syngamy/M0776_S00512_W3_F0_279.jpg   \n",
       "531   /home/nick/dbox/EmbryoLabeling/Labelers/train/Blastocyst/M3169_S00668_W8_F0_6097.jpg   \n",
       "79        /home/nick/dbox/EmbryoLabeling/Labelers/train/Morula/M0776_S00512_W8_F0_5451.jpg   \n",
       "1260         /home/nick/dbox/EmbryoLabeling/Labelers/train/2pn/M0776_S00512_W8_F0_1320.jpg   \n",
       "...                                                                                    ...   \n",
       "456         /home/nick/dbox/EmbryoLabeling/Labelers/train/2pn/M3169_S00668_W14_F0_1195.jpg   \n",
       "946       /home/nick/dbox/EmbryoLabeling/Labelers/train/2 Cell/M3169_S00737_W1_F0_2349.jpg   \n",
       "713       /home/nick/dbox/EmbryoLabeling/Labelers/train/Syngamy/M0831_S00659_W1_F0_166.jpg   \n",
       "799       /home/nick/dbox/EmbryoLabeling/Labelers/train/4 Cell/M0776_S00512_W5_F0_2270.jpg   \n",
       "4856       /home/nick/dbox/EmbryoLabeling/Labelers/train/Empty/M0776_S00512_W5_F0_7128.jpg   \n",
       "\n",
       "           class predicted_class  confidence  \n",
       "953      Syngamy         Syngamy    1.000000  \n",
       "665      Syngamy         Syngamy    1.000000  \n",
       "531   Blastocyst      Blastocyst    0.939220  \n",
       "79        Morula          Morula    1.000000  \n",
       "1260         2pn             2pn    1.000000  \n",
       "...          ...             ...         ...  \n",
       "456          2pn             2pn    0.996781  \n",
       "946       2 Cell          2 Cell    0.999999  \n",
       "713      Syngamy         Syngamy    1.000000  \n",
       "799       4 Cell          4 Cell    1.000000  \n",
       "4856       Empty           Empty         NaN  \n",
       "\n",
       "[2601 rows x 4 columns]"
      ]
     },
     "execution_count": 17,
     "metadata": {},
     "output_type": "execute_result"
    }
   ],
   "source": [
    "validation_df[\"predicted_class\"] = [code2class[c] for c in predicted_codes]\n",
    "validation_df[\"confidence\"] = confidence\n",
    "validation_df"
   ]
  },
  {
   "cell_type": "code",
   "execution_count": 18,
   "id": "b3ef09d2",
   "metadata": {},
   "outputs": [
    {
     "data": {
      "text/plain": [
       "class\n",
       "2 Cell               1.0\n",
       "2pn                  1.0\n",
       "3 Cell               1.0\n",
       "4 Cell               1.0\n",
       "5 Cell               1.0\n",
       "6 Cell               1.0\n",
       "8 Cell               1.0\n",
       "Blastocyst           1.0\n",
       "Compacting 8 cell    1.0\n",
       "Empty                1.0\n",
       "Morula               1.0\n",
       "Syngamy              1.0\n",
       "Name: confidence, dtype: float32"
      ]
     },
     "execution_count": 18,
     "metadata": {},
     "output_type": "execute_result"
    }
   ],
   "source": [
    "validation_df.groupby(\"class\").confidence.median()"
   ]
  },
  {
   "cell_type": "code",
   "execution_count": 19,
   "id": "f3a61eb6",
   "metadata": {},
   "outputs": [
    {
     "name": "stdout",
     "output_type": "stream",
     "text": [
      "                   precision    recall  f1-score   support\n",
      "\n",
      "           2 Cell       0.92      0.97      0.95       202\n",
      "              2pn       0.94      0.99      0.96       382\n",
      "           3 Cell       0.87      0.81      0.84        75\n",
      "           4 Cell       0.99      0.90      0.94       168\n",
      "           5 Cell       0.77      0.82      0.80        40\n",
      "           6 Cell       0.81      0.90      0.85        86\n",
      "           8 Cell       0.94      0.85      0.89        86\n",
      "       Blastocyst       0.99      0.96      0.98       428\n",
      "Compacting 8 cell       0.93      0.75      0.83       110\n",
      "            Empty       1.00      1.00      1.00       500\n",
      "           Morula       0.88      0.98      0.93       329\n",
      "          Syngamy       0.99      0.88      0.93       195\n",
      "\n",
      "         accuracy                           0.95      2601\n",
      "        macro avg       0.92      0.90      0.91      2601\n",
      "     weighted avg       0.95      0.95      0.95      2601\n",
      "\n"
     ]
    },
    {
     "data": {
      "text/plain": [
       "Text(30.453124999999993, 0.5, 'True')"
      ]
     },
     "execution_count": 19,
     "metadata": {},
     "output_type": "execute_result"
    },
    {
     "data": {
      "image/png": "[encoded data removed]",
      "text/plain": [
       "<Figure size 432x288 with 2 Axes>"
      ]
     },
     "metadata": {},
     "output_type": "display_data"
    }
   ],
   "source": [
    "print(classification_report(validation_df[\"class\"], validation_df[\"predicted_class\"]))\n",
    "labels = list(training.class_indices.keys())\n",
    "s = sns.heatmap(\n",
    "    confusion_matrix(validation_df[\"class\"], validation_df[\"predicted_class\"]),\n",
    "    annot=True,\n",
    "    cmap='Blues',\n",
    "    fmt=\"g\",\n",
    "    xticklabels=labels,\n",
    "    yticklabels=labels\n",
    ")\n",
    "s.set_xlabel('Predicted', fontsize=10)\n",
    "s.set_ylabel('True', fontsize=10)"
   ]
  },
  {
   "cell_type": "code",
   "execution_count": 20,
   "id": "94744f4c",
   "metadata": {},
   "outputs": [],
   "source": [
    "model.save(f\"models/dense_{len(code2class)}_class.h5\")"
   ]
  }
 ],
 "metadata": {
  "interpreter": {
   "hash": "31f2aee4e71d21fbe5cf8b01ff0e069b9275f58929596ceb00d14d90e3e16cd6"
  },
  "kernelspec": {
   "display_name": "Python 3.10.4 64-bit",
   "language": "python",
   "name": "python3"
  },
  "language_info": {
   "codemirror_mode": {
    "name": "ipython",
    "version": 3
   },
   "file_extension": ".py",
   "mimetype": "text/x-python",
   "name": "python",
   "nbconvert_exporter": "python",
   "pygments_lexer": "ipython3",
   "version": "3.10.4"
  }
 },
 "nbformat": 4,
 "nbformat_minor": 5
}
