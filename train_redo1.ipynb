{
 "cells": [
  {
   "cell_type": "markdown",
   "id": "7c61a068",
   "metadata": {},
   "source": [
    "#### This script tries to use tf.dataset API. \n",
    "It seems lots of things aren't quite documented correctly yet and standard dataset functions don't exist: like .labels"
   ]
  },
  {
   "cell_type": "code",
   "execution_count": 16,
   "id": "97c7873e",
   "metadata": {},
   "outputs": [],
   "source": [
    "import os # File system operations\n",
    "import re # Regular expressions\n",
    "import pandas as pd # Tabular data\n",
    "import numpy as np # Numerical data\n",
    "pd.set_option('display.max_colwidth', None) # Show full file paths\n",
    "\n",
    "# Don't use all of the GPU RAM\n",
    "import tensorflow as tf\n",
    "gpus = tf.config.experimental.list_physical_devices('GPU')\n",
    "for gpu in gpus:\n",
    "  tf.config.experimental.set_memory_growth(gpu, True)\n",
    "from tensorflow.keras import mixed_precision\n",
    "from tensorflow import keras # ML\n",
    "import tensorflow_addons as tfa # TQDM progress bar when training\n",
    "\n",
    "BATCH_SIZE = 256\n",
    "\n",
    "mixed_precision.set_global_policy('mixed_float16')\n",
    "\n",
    "\n",
    "from sklearn.metrics import confusion_matrix, classification_report, accuracy_score\n",
    "\n",
    "from pathlib import Path # Pathing\n",
    "from glob import glob # Finding files recursively\n",
    "import matplotlib.pyplot as plt # Plotting\n",
    "import seaborn as sns # Plotting\n",
    "sns.set()\n",
    "from tqdm.auto import tqdm # Progress bars\n",
    "tqdm.pandas()\n",
    "\n",
    "BASE_DIR = Path(\"EmbryoLabeling/Labelers/train\")\n"
   ]
  },
  {
   "cell_type": "code",
   "execution_count": 29,
   "id": "dbbf3b1e",
   "metadata": {},
   "outputs": [
    {
     "name": "stdout",
     "output_type": "stream",
     "text": [
      "Found 13626 files belonging to 14 classes.\n",
      "Number of train batches: 44\n",
      "Number of test batches: 10\n",
      "<PrefetchDataset element_spec=(TensorSpec(shape=(None, 299, 299, 3), dtype=tf.float32, name=None), TensorSpec(shape=(None, 14), dtype=tf.float32, name=None))>\n"
     ]
    }
   ],
   "source": [
    "train=tf.keras.utils.image_dataset_from_directory(\n",
    "    BASE_DIR,\n",
    "    image_size = (299,299),\n",
    "    batch_size = BATCH_SIZE,\n",
    "    label_mode = 'categorical',\n",
    "    shuffle = True\n",
    ")\n",
    "\n",
    "# 20% split between test/train here.\n",
    "test_batches = tf.data.experimental.cardinality(train)\n",
    "train_dataset = train.skip(test_batches // 5)\n",
    "test_dataset = train.take(test_batches // 5)\n",
    "\n",
    "print('Number of train batches: %d' % tf.data.experimental.cardinality(train_dataset))\n",
    "print('Number of test batches: %d' % tf.data.experimental.cardinality(test_dataset))\n",
    "\n",
    "AUTOTUNE = tf.data.AUTOTUNE\n",
    "\n",
    "train_dataset = train_dataset.cache().prefetch(buffer_size=AUTOTUNE)\n",
    "test_dataset = test_dataset.cache().prefetch(buffer_size=AUTOTUNE)\n",
    "\n",
    "print(test_dataset)\n",
    "\n",
    "#training = datagen.flow_from_dataframe(train_df, target_size=(299, 299), batch_size=BATCH_SIZE, shuffle=True)\n",
    "\n",
    "# Don't shuffle validation, otherwise confusion_matrix won't work due to mismatch\n",
    "#validation = datagen.flow_from_dataframe(validation_df, target_size=(299, 299), batch_size=BATCH_SIZE, shuffle=False)"
   ]
  },
  {
   "cell_type": "code",
   "execution_count": 32,
   "id": "a2b1f6a8",
   "metadata": {},
   "outputs": [
    {
     "name": "stdout",
     "output_type": "stream",
     "text": [
      "Model: \"model_5\"\n",
      "_________________________________________________________________\n",
      " Layer (type)                Output Shape              Param #   \n",
      "=================================================================\n",
      " input_13 (InputLayer)       [(None, 299, 299, 3)]     0         \n",
      "                                                                 \n",
      " rescaling_5 (Rescaling)     (None, 299, 299, 3)       0         \n",
      "                                                                 \n",
      " xception (Functional)       (None, 10, 10, 2048)      20861480  \n",
      "                                                                 \n",
      " global_average_pooling2d_5   (None, 2048)             0         \n",
      " (GlobalAveragePooling2D)                                        \n",
      "                                                                 \n",
      " dense_6 (Dense)             (None, 14)                28686     \n",
      "                                                                 \n",
      "=================================================================\n",
      "Total params: 20,890,166\n",
      "Trainable params: 28,686\n",
      "Non-trainable params: 20,861,480\n",
      "_________________________________________________________________\n"
     ]
    }
   ],
   "source": [
    "base_model = keras.applications.Xception(\n",
    "    weights='imagenet',  # Load weights pre-trained on ImageNet.\n",
    "    input_shape=(299,299,3),\n",
    "    include_top=False)  # Do not include the ImageNet classifier at the top.\n",
    "\n",
    "\n",
    "# Freeze the base_model\n",
    "base_model.trainable = False\n",
    "\n",
    "# Create new model on top\n",
    "inputs = keras.Input(shape=(299, 299, 3))\n",
    "\n",
    "\n",
    "# Pre-trained Xception weights requires that input be scaled\n",
    "# from (0, 255) to a range of (-1., +1.), the rescaling layer\n",
    "# outputs: `(inputs * scale) + offset`\n",
    "scale_layer = keras.layers.Rescaling(scale=1./127.5, offset=-1)\n",
    "x = scale_layer(inputs)\n",
    "\n",
    "# The base model contains batchnorm layers. We want to keep them in inference mode\n",
    "# when we unfreeze the base model for fine-tuning, so we make sure that the\n",
    "# base_model is running in inference mode here.\n",
    "x = base_model(x, training=False)\n",
    "x = keras.layers.GlobalAveragePooling2D()(x)\n",
    "#x = keras.layers.Dropout(0.2)(x)  # Regularize with dropout\n",
    "#x = keras.layers.Dense(512, activation='relu')(x)\n",
    "outputs = keras.layers.Dense(14, activation='softmax')(x)\n",
    "model = keras.Model(inputs, outputs)\n",
    "\n",
    "model.summary()"
   ]
  },
  {
   "cell_type": "code",
   "execution_count": 33,
   "id": "ee6c6f00",
   "metadata": {},
   "outputs": [
    {
     "name": "stdout",
     "output_type": "stream",
     "text": [
      "(256, 14)\n"
     ]
    }
   ],
   "source": [
    "image_batch, label_batch = next(iter(train_dataset))\n",
    "feature_batch = model(image_batch)\n",
    "print(feature_batch.shape)\n"
   ]
  },
  {
   "cell_type": "code",
   "execution_count": 34,
   "id": "9cbd1f6a",
   "metadata": {
    "scrolled": false
   },
   "outputs": [
    {
     "name": "stdout",
     "output_type": "stream",
     "text": [
      "CPU times: user 13 ms, sys: 238 µs, total: 13.2 ms\n",
      "Wall time: 12.1 ms\n"
     ]
    }
   ],
   "source": [
    "%%time\n",
    "model.compile(\n",
    "    optimizer=keras.optimizers.Adam(),\n",
    "    loss=keras.losses.CategoricalCrossentropy(),\n",
    "    metrics=[keras.metrics.CategoricalAccuracy()],\n",
    ")\n"
   ]
  },
  {
   "cell_type": "code",
   "execution_count": 35,
   "id": "9844880c",
   "metadata": {},
   "outputs": [
    {
     "name": "stdout",
     "output_type": "stream",
     "text": [
      "Epoch 1/5\n",
      "44/44 [==============================] - 17s 327ms/step - loss: 1.5509 - categorical_accuracy: 0.5459 - val_loss: 1.0579 - val_categorical_accuracy: 0.6973\n",
      "Epoch 2/5\n",
      "44/44 [==============================] - 14s 311ms/step - loss: 0.9551 - categorical_accuracy: 0.7318 - val_loss: 0.8201 - val_categorical_accuracy: 0.7457\n",
      "Epoch 3/5\n",
      "44/44 [==============================] - 14s 310ms/step - loss: 0.7913 - categorical_accuracy: 0.7708 - val_loss: 0.7063 - val_categorical_accuracy: 0.7785\n",
      "Epoch 4/5\n",
      "44/44 [==============================] - 14s 312ms/step - loss: 0.6975 - categorical_accuracy: 0.7945 - val_loss: 0.6327 - val_categorical_accuracy: 0.8016\n",
      "Epoch 5/5\n",
      "44/44 [==============================] - 14s 309ms/step - loss: 0.6321 - categorical_accuracy: 0.8151 - val_loss: 0.5796 - val_categorical_accuracy: 0.8215\n"
     ]
    },
    {
     "data": {
      "text/plain": [
       "<keras.callbacks.History at 0x7f2b0c5e7ca0>"
      ]
     },
     "execution_count": 35,
     "metadata": {},
     "output_type": "execute_result"
    }
   ],
   "source": [
    "model.fit(train_dataset,\n",
    "            epochs=5,\n",
    "            validation_data=test_dataset)"
   ]
  },
  {
   "cell_type": "code",
   "execution_count": 36,
   "id": "41845eab",
   "metadata": {},
   "outputs": [
    {
     "data": {
      "application/vnd.jupyter.widget-view+json": {
       "model_id": "3760d88ffd0b424b918c545ebd1a6c04",
       "version_major": 2,
       "version_minor": 0
      },
      "text/plain": [
       "Training:   0%|           0/500 ETA: ?s,  ?epochs/s"
      ]
     },
     "metadata": {},
     "output_type": "display_data"
    },
    {
     "name": "stdout",
     "output_type": "stream",
     "text": [
      "Epoch 1/500\n"
     ]
    },
    {
     "data": {
      "application/vnd.jupyter.widget-view+json": {
       "model_id": "09586eb2a91d4e4a9b254f26fcdef730",
       "version_major": 2,
       "version_minor": 0
      },
      "text/plain": [
       "0/44           ETA: ?s - "
      ]
     },
     "metadata": {},
     "output_type": "display_data"
    },
    {
     "name": "stdout",
     "output_type": "stream",
     "text": [
      "Epoch 2/500\n"
     ]
    },
    {
     "data": {
      "application/vnd.jupyter.widget-view+json": {
       "model_id": "39d9f7d35f3b4990b2de5ba659e8306a",
       "version_major": 2,
       "version_minor": 0
      },
      "text/plain": [
       "0/44           ETA: ?s - "
      ]
     },
     "metadata": {},
     "output_type": "display_data"
    },
    {
     "name": "stdout",
     "output_type": "stream",
     "text": [
      "Epoch 3/500\n"
     ]
    },
    {
     "data": {
      "application/vnd.jupyter.widget-view+json": {
       "model_id": "80d50d0939f74976b9432c220565d650",
       "version_major": 2,
       "version_minor": 0
      },
      "text/plain": [
       "0/44           ETA: ?s - "
      ]
     },
     "metadata": {},
     "output_type": "display_data"
    },
    {
     "name": "stdout",
     "output_type": "stream",
     "text": [
      "Epoch 4/500\n"
     ]
    },
    {
     "data": {
      "application/vnd.jupyter.widget-view+json": {
       "model_id": "a0c4249755f64d32953f5078fff7bee4",
       "version_major": 2,
       "version_minor": 0
      },
      "text/plain": [
       "0/44           ETA: ?s - "
      ]
     },
     "metadata": {},
     "output_type": "display_data"
    },
    {
     "name": "stdout",
     "output_type": "stream",
     "text": [
      "Epoch 5/500\n"
     ]
    },
    {
     "data": {
      "application/vnd.jupyter.widget-view+json": {
       "model_id": "fc64781abdd7479f8e87ecb1c7454c9e",
       "version_major": 2,
       "version_minor": 0
      },
      "text/plain": [
       "0/44           ETA: ?s - "
      ]
     },
     "metadata": {},
     "output_type": "display_data"
    },
    {
     "name": "stdout",
     "output_type": "stream",
     "text": [
      "Epoch 6/500\n"
     ]
    },
    {
     "data": {
      "application/vnd.jupyter.widget-view+json": {
       "model_id": "cbade0009b5b46bb97182c0d17193ad4",
       "version_major": 2,
       "version_minor": 0
      },
      "text/plain": [
       "0/44           ETA: ?s - "
      ]
     },
     "metadata": {},
     "output_type": "display_data"
    },
    {
     "name": "stdout",
     "output_type": "stream",
     "text": [
      "Epoch 7/500\n"
     ]
    },
    {
     "data": {
      "application/vnd.jupyter.widget-view+json": {
       "model_id": "d8793c5035034cde95865bcc586460a5",
       "version_major": 2,
       "version_minor": 0
      },
      "text/plain": [
       "0/44           ETA: ?s - "
      ]
     },
     "metadata": {},
     "output_type": "display_data"
    },
    {
     "name": "stdout",
     "output_type": "stream",
     "text": [
      "Epoch 8/500\n"
     ]
    },
    {
     "data": {
      "application/vnd.jupyter.widget-view+json": {
       "model_id": "ef0c1b74ef5848018727b5d1db9d8c45",
       "version_major": 2,
       "version_minor": 0
      },
      "text/plain": [
       "0/44           ETA: ?s - "
      ]
     },
     "metadata": {},
     "output_type": "display_data"
    },
    {
     "name": "stdout",
     "output_type": "stream",
     "text": [
      "Epoch 9/500\n"
     ]
    },
    {
     "data": {
      "application/vnd.jupyter.widget-view+json": {
       "model_id": "d9c89cac66aa49888bdc02d33466b3c8",
       "version_major": 2,
       "version_minor": 0
      },
      "text/plain": [
       "0/44           ETA: ?s - "
      ]
     },
     "metadata": {},
     "output_type": "display_data"
    },
    {
     "name": "stdout",
     "output_type": "stream",
     "text": [
      "Epoch 10/500\n"
     ]
    },
    {
     "data": {
      "application/vnd.jupyter.widget-view+json": {
       "model_id": "82f40952fb7a4c84879918bc0f2433c1",
       "version_major": 2,
       "version_minor": 0
      },
      "text/plain": [
       "0/44           ETA: ?s - "
      ]
     },
     "metadata": {},
     "output_type": "display_data"
    },
    {
     "name": "stdout",
     "output_type": "stream",
     "text": [
      "Epoch 11/500\n"
     ]
    },
    {
     "data": {
      "application/vnd.jupyter.widget-view+json": {
       "model_id": "3327d04743af419e9ee8e2d9533e9cb0",
       "version_major": 2,
       "version_minor": 0
      },
      "text/plain": [
       "0/44           ETA: ?s - "
      ]
     },
     "metadata": {},
     "output_type": "display_data"
    },
    {
     "name": "stdout",
     "output_type": "stream",
     "text": [
      "Epoch 12/500\n"
     ]
    },
    {
     "data": {
      "application/vnd.jupyter.widget-view+json": {
       "model_id": "708bcbcaef54413a9e93d42eea8aeb07",
       "version_major": 2,
       "version_minor": 0
      },
      "text/plain": [
       "0/44           ETA: ?s - "
      ]
     },
     "metadata": {},
     "output_type": "display_data"
    },
    {
     "name": "stdout",
     "output_type": "stream",
     "text": [
      "Epoch 13/500\n"
     ]
    },
    {
     "data": {
      "application/vnd.jupyter.widget-view+json": {
       "model_id": "78b8be29e3144422abec4182b95520c8",
       "version_major": 2,
       "version_minor": 0
      },
      "text/plain": [
       "0/44           ETA: ?s - "
      ]
     },
     "metadata": {},
     "output_type": "display_data"
    },
    {
     "name": "stdout",
     "output_type": "stream",
     "text": [
      "Epoch 14/500\n"
     ]
    },
    {
     "data": {
      "application/vnd.jupyter.widget-view+json": {
       "model_id": "fd7d2ffe3e064f389a018ed3685788f0",
       "version_major": 2,
       "version_minor": 0
      },
      "text/plain": [
       "0/44           ETA: ?s - "
      ]
     },
     "metadata": {},
     "output_type": "display_data"
    },
    {
     "name": "stdout",
     "output_type": "stream",
     "text": [
      "Epoch 15/500\n"
     ]
    },
    {
     "data": {
      "application/vnd.jupyter.widget-view+json": {
       "model_id": "6777c50688d145558f4961415fa26703",
       "version_major": 2,
       "version_minor": 0
      },
      "text/plain": [
       "0/44           ETA: ?s - "
      ]
     },
     "metadata": {},
     "output_type": "display_data"
    },
    {
     "name": "stdout",
     "output_type": "stream",
     "text": [
      "Epoch 16/500\n"
     ]
    },
    {
     "data": {
      "application/vnd.jupyter.widget-view+json": {
       "model_id": "0adfeea3d8e2475da3d402bd922adf9f",
       "version_major": 2,
       "version_minor": 0
      },
      "text/plain": [
       "0/44           ETA: ?s - "
      ]
     },
     "metadata": {},
     "output_type": "display_data"
    },
    {
     "name": "stdout",
     "output_type": "stream",
     "text": [
      "Epoch 17/500\n"
     ]
    },
    {
     "data": {
      "application/vnd.jupyter.widget-view+json": {
       "model_id": "5ef2f75c560246b4baed7295d12dcbce",
       "version_major": 2,
       "version_minor": 0
      },
      "text/plain": [
       "0/44           ETA: ?s - "
      ]
     },
     "metadata": {},
     "output_type": "display_data"
    },
    {
     "name": "stdout",
     "output_type": "stream",
     "text": [
      "Epoch 18/500\n"
     ]
    },
    {
     "data": {
      "application/vnd.jupyter.widget-view+json": {
       "model_id": "fff49b965e45472fa80977d89fbeab52",
       "version_major": 2,
       "version_minor": 0
      },
      "text/plain": [
       "0/44           ETA: ?s - "
      ]
     },
     "metadata": {},
     "output_type": "display_data"
    },
    {
     "name": "stdout",
     "output_type": "stream",
     "text": [
      "Epoch 19/500\n"
     ]
    },
    {
     "data": {
      "application/vnd.jupyter.widget-view+json": {
       "model_id": "91450894a7ff4fcc8143a1e9de2c6340",
       "version_major": 2,
       "version_minor": 0
      },
      "text/plain": [
       "0/44           ETA: ?s - "
      ]
     },
     "metadata": {},
     "output_type": "display_data"
    },
    {
     "name": "stdout",
     "output_type": "stream",
     "text": [
      "Epoch 20/500\n"
     ]
    },
    {
     "data": {
      "application/vnd.jupyter.widget-view+json": {
       "model_id": "b4916dda050b477594eeac721f1a2d6f",
       "version_major": 2,
       "version_minor": 0
      },
      "text/plain": [
       "0/44           ETA: ?s - "
      ]
     },
     "metadata": {},
     "output_type": "display_data"
    },
    {
     "name": "stdout",
     "output_type": "stream",
     "text": [
      "Epoch 21/500\n"
     ]
    },
    {
     "data": {
      "application/vnd.jupyter.widget-view+json": {
       "model_id": "6440d014e8d248b0a54d7c0ff0ce3435",
       "version_major": 2,
       "version_minor": 0
      },
      "text/plain": [
       "0/44           ETA: ?s - "
      ]
     },
     "metadata": {},
     "output_type": "display_data"
    },
    {
     "name": "stdout",
     "output_type": "stream",
     "text": [
      "Epoch 22/500\n"
     ]
    },
    {
     "data": {
      "application/vnd.jupyter.widget-view+json": {
       "model_id": "086eba91706447c99f9e87dc510c4e2e",
       "version_major": 2,
       "version_minor": 0
      },
      "text/plain": [
       "0/44           ETA: ?s - "
      ]
     },
     "metadata": {},
     "output_type": "display_data"
    },
    {
     "name": "stdout",
     "output_type": "stream",
     "text": [
      "Epoch 23/500\n"
     ]
    },
    {
     "data": {
      "application/vnd.jupyter.widget-view+json": {
       "model_id": "140bea2df0414b7d9a78e2c82d4c550d",
       "version_major": 2,
       "version_minor": 0
      },
      "text/plain": [
       "0/44           ETA: ?s - "
      ]
     },
     "metadata": {},
     "output_type": "display_data"
    },
    {
     "name": "stdout",
     "output_type": "stream",
     "text": [
      "Epoch 24/500\n"
     ]
    },
    {
     "data": {
      "application/vnd.jupyter.widget-view+json": {
       "model_id": "c3c5f2fddd1246ad9f68c1cddfd5669e",
       "version_major": 2,
       "version_minor": 0
      },
      "text/plain": [
       "0/44           ETA: ?s - "
      ]
     },
     "metadata": {},
     "output_type": "display_data"
    },
    {
     "name": "stdout",
     "output_type": "stream",
     "text": [
      "Epoch 25/500\n"
     ]
    },
    {
     "data": {
      "application/vnd.jupyter.widget-view+json": {
       "model_id": "5375cdeba8ed4e33b2bc7e6d81778bc9",
       "version_major": 2,
       "version_minor": 0
      },
      "text/plain": [
       "0/44           ETA: ?s - "
      ]
     },
     "metadata": {},
     "output_type": "display_data"
    },
    {
     "name": "stdout",
     "output_type": "stream",
     "text": [
      "Epoch 26/500\n"
     ]
    },
    {
     "data": {
      "application/vnd.jupyter.widget-view+json": {
       "model_id": "d1ea1ff24ad146cea30df313970ae712",
       "version_major": 2,
       "version_minor": 0
      },
      "text/plain": [
       "0/44           ETA: ?s - "
      ]
     },
     "metadata": {},
     "output_type": "display_data"
    },
    {
     "name": "stdout",
     "output_type": "stream",
     "text": [
      "Epoch 27/500\n"
     ]
    },
    {
     "data": {
      "application/vnd.jupyter.widget-view+json": {
       "model_id": "a924eb65e6954a1d8f94eb539fbd795c",
       "version_major": 2,
       "version_minor": 0
      },
      "text/plain": [
       "0/44           ETA: ?s - "
      ]
     },
     "metadata": {},
     "output_type": "display_data"
    },
    {
     "name": "stdout",
     "output_type": "stream",
     "text": [
      "Epoch 28/500\n"
     ]
    },
    {
     "data": {
      "application/vnd.jupyter.widget-view+json": {
       "model_id": "f45a7770855044789173945f01b87f2c",
       "version_major": 2,
       "version_minor": 0
      },
      "text/plain": [
       "0/44           ETA: ?s - "
      ]
     },
     "metadata": {},
     "output_type": "display_data"
    },
    {
     "name": "stdout",
     "output_type": "stream",
     "text": [
      "Epoch 29/500\n"
     ]
    },
    {
     "data": {
      "application/vnd.jupyter.widget-view+json": {
       "model_id": "b89c4e3ba2fd45e49a8db99122f1bf28",
       "version_major": 2,
       "version_minor": 0
      },
      "text/plain": [
       "0/44           ETA: ?s - "
      ]
     },
     "metadata": {},
     "output_type": "display_data"
    },
    {
     "name": "stdout",
     "output_type": "stream",
     "text": [
      "Epoch 30/500\n"
     ]
    },
    {
     "data": {
      "application/vnd.jupyter.widget-view+json": {
       "model_id": "32d89e31ddd34cc38341c37b88a4fbbb",
       "version_major": 2,
       "version_minor": 0
      },
      "text/plain": [
       "0/44           ETA: ?s - "
      ]
     },
     "metadata": {},
     "output_type": "display_data"
    },
    {
     "name": "stdout",
     "output_type": "stream",
     "text": [
      "Epoch 31/500\n"
     ]
    },
    {
     "data": {
      "application/vnd.jupyter.widget-view+json": {
       "model_id": "397b557a3d8f464993ea27df285bbfed",
       "version_major": 2,
       "version_minor": 0
      },
      "text/plain": [
       "0/44           ETA: ?s - "
      ]
     },
     "metadata": {},
     "output_type": "display_data"
    },
    {
     "name": "stdout",
     "output_type": "stream",
     "text": [
      "Epoch 32/500\n"
     ]
    },
    {
     "data": {
      "application/vnd.jupyter.widget-view+json": {
       "model_id": "4a99236cbd3449e1b1af6f81267d339e",
       "version_major": 2,
       "version_minor": 0
      },
      "text/plain": [
       "0/44           ETA: ?s - "
      ]
     },
     "metadata": {},
     "output_type": "display_data"
    },
    {
     "name": "stdout",
     "output_type": "stream",
     "text": [
      "Epoch 33/500\n"
     ]
    },
    {
     "data": {
      "application/vnd.jupyter.widget-view+json": {
       "model_id": "0a1d99373aa0473f868e43cf5e39a784",
       "version_major": 2,
       "version_minor": 0
      },
      "text/plain": [
       "0/44           ETA: ?s - "
      ]
     },
     "metadata": {},
     "output_type": "display_data"
    },
    {
     "name": "stdout",
     "output_type": "stream",
     "text": [
      "Epoch 34/500\n"
     ]
    },
    {
     "data": {
      "application/vnd.jupyter.widget-view+json": {
       "model_id": "2a775db244a742e88727c4e43fef7d08",
       "version_major": 2,
       "version_minor": 0
      },
      "text/plain": [
       "0/44           ETA: ?s - "
      ]
     },
     "metadata": {},
     "output_type": "display_data"
    },
    {
     "name": "stdout",
     "output_type": "stream",
     "text": [
      "Epoch 35/500\n"
     ]
    },
    {
     "data": {
      "application/vnd.jupyter.widget-view+json": {
       "model_id": "8760e4bca18148138f2d150c847459d1",
       "version_major": 2,
       "version_minor": 0
      },
      "text/plain": [
       "0/44           ETA: ?s - "
      ]
     },
     "metadata": {},
     "output_type": "display_data"
    },
    {
     "name": "stdout",
     "output_type": "stream",
     "text": [
      "Epoch 36/500\n"
     ]
    },
    {
     "data": {
      "application/vnd.jupyter.widget-view+json": {
       "model_id": "c1a7ee8ce6314e988f1b91e25ec6b562",
       "version_major": 2,
       "version_minor": 0
      },
      "text/plain": [
       "0/44           ETA: ?s - "
      ]
     },
     "metadata": {},
     "output_type": "display_data"
    },
    {
     "name": "stdout",
     "output_type": "stream",
     "text": [
      "Epoch 37/500\n"
     ]
    },
    {
     "data": {
      "application/vnd.jupyter.widget-view+json": {
       "model_id": "a7debdc6e85249779380d9c5e61fc015",
       "version_major": 2,
       "version_minor": 0
      },
      "text/plain": [
       "0/44           ETA: ?s - "
      ]
     },
     "metadata": {},
     "output_type": "display_data"
    },
    {
     "name": "stdout",
     "output_type": "stream",
     "text": [
      "Epoch 38/500\n"
     ]
    },
    {
     "data": {
      "application/vnd.jupyter.widget-view+json": {
       "model_id": "40616f7800394e998f3629a003c1f1d7",
       "version_major": 2,
       "version_minor": 0
      },
      "text/plain": [
       "0/44           ETA: ?s - "
      ]
     },
     "metadata": {},
     "output_type": "display_data"
    },
    {
     "name": "stdout",
     "output_type": "stream",
     "text": [
      "Epoch 39/500\n"
     ]
    },
    {
     "data": {
      "application/vnd.jupyter.widget-view+json": {
       "model_id": "1d4ee48facb545f0a0f0c3a91f2e00e0",
       "version_major": 2,
       "version_minor": 0
      },
      "text/plain": [
       "0/44           ETA: ?s - "
      ]
     },
     "metadata": {},
     "output_type": "display_data"
    },
    {
     "name": "stdout",
     "output_type": "stream",
     "text": [
      "Epoch 40/500\n"
     ]
    },
    {
     "data": {
      "application/vnd.jupyter.widget-view+json": {
       "model_id": "37478d01712a481fbf560ea4696a76e5",
       "version_major": 2,
       "version_minor": 0
      },
      "text/plain": [
       "0/44           ETA: ?s - "
      ]
     },
     "metadata": {},
     "output_type": "display_data"
    },
    {
     "name": "stdout",
     "output_type": "stream",
     "text": [
      "Epoch 41/500\n"
     ]
    },
    {
     "data": {
      "application/vnd.jupyter.widget-view+json": {
       "model_id": "364bb1e8ea814e1380730e016c792aae",
       "version_major": 2,
       "version_minor": 0
      },
      "text/plain": [
       "0/44           ETA: ?s - "
      ]
     },
     "metadata": {},
     "output_type": "display_data"
    },
    {
     "name": "stdout",
     "output_type": "stream",
     "text": [
      "Epoch 42/500\n"
     ]
    },
    {
     "data": {
      "application/vnd.jupyter.widget-view+json": {
       "model_id": "25d9cfcc07a04d97a307ddf30cc7db1d",
       "version_major": 2,
       "version_minor": 0
      },
      "text/plain": [
       "0/44           ETA: ?s - "
      ]
     },
     "metadata": {},
     "output_type": "display_data"
    },
    {
     "name": "stdout",
     "output_type": "stream",
     "text": [
      "Epoch 43/500\n"
     ]
    },
    {
     "data": {
      "application/vnd.jupyter.widget-view+json": {
       "model_id": "b52ae9c66e434f6e8bdee9004e5254c8",
       "version_major": 2,
       "version_minor": 0
      },
      "text/plain": [
       "0/44           ETA: ?s - "
      ]
     },
     "metadata": {},
     "output_type": "display_data"
    },
    {
     "name": "stdout",
     "output_type": "stream",
     "text": [
      "Epoch 44/500\n"
     ]
    },
    {
     "data": {
      "application/vnd.jupyter.widget-view+json": {
       "model_id": "0b70bf197fbd4989a56d8b0b577d517f",
       "version_major": 2,
       "version_minor": 0
      },
      "text/plain": [
       "0/44           ETA: ?s - "
      ]
     },
     "metadata": {},
     "output_type": "display_data"
    },
    {
     "name": "stdout",
     "output_type": "stream",
     "text": [
      "Epoch 45/500\n"
     ]
    },
    {
     "data": {
      "application/vnd.jupyter.widget-view+json": {
       "model_id": "4be2a57e3a3740efa9419da3fc900a3b",
       "version_major": 2,
       "version_minor": 0
      },
      "text/plain": [
       "0/44           ETA: ?s - "
      ]
     },
     "metadata": {},
     "output_type": "display_data"
    },
    {
     "name": "stdout",
     "output_type": "stream",
     "text": [
      "Epoch 46/500\n"
     ]
    },
    {
     "data": {
      "application/vnd.jupyter.widget-view+json": {
       "model_id": "aa849ec91609404fbf3c5aa44d94527f",
       "version_major": 2,
       "version_minor": 0
      },
      "text/plain": [
       "0/44           ETA: ?s - "
      ]
     },
     "metadata": {},
     "output_type": "display_data"
    },
    {
     "name": "stdout",
     "output_type": "stream",
     "text": [
      "Epoch 47/500\n"
     ]
    },
    {
     "data": {
      "application/vnd.jupyter.widget-view+json": {
       "model_id": "fa31f0da4e6246bcacf2fa18e5188f91",
       "version_major": 2,
       "version_minor": 0
      },
      "text/plain": [
       "0/44           ETA: ?s - "
      ]
     },
     "metadata": {},
     "output_type": "display_data"
    },
    {
     "name": "stdout",
     "output_type": "stream",
     "text": [
      "Epoch 48/500\n"
     ]
    },
    {
     "data": {
      "application/vnd.jupyter.widget-view+json": {
       "model_id": "798202acc2ce4ec5a9016fe343c0bd91",
       "version_major": 2,
       "version_minor": 0
      },
      "text/plain": [
       "0/44           ETA: ?s - "
      ]
     },
     "metadata": {},
     "output_type": "display_data"
    },
    {
     "name": "stdout",
     "output_type": "stream",
     "text": [
      "Epoch 49/500\n"
     ]
    },
    {
     "data": {
      "application/vnd.jupyter.widget-view+json": {
       "model_id": "5a4892497ba84f4aad9c7132b719eed1",
       "version_major": 2,
       "version_minor": 0
      },
      "text/plain": [
       "0/44           ETA: ?s - "
      ]
     },
     "metadata": {},
     "output_type": "display_data"
    },
    {
     "name": "stdout",
     "output_type": "stream",
     "text": [
      "Epoch 50/500\n"
     ]
    },
    {
     "data": {
      "application/vnd.jupyter.widget-view+json": {
       "model_id": "23e05b53267640a6bd0a36930a739d41",
       "version_major": 2,
       "version_minor": 0
      },
      "text/plain": [
       "0/44           ETA: ?s - "
      ]
     },
     "metadata": {},
     "output_type": "display_data"
    },
    {
     "name": "stdout",
     "output_type": "stream",
     "text": [
      "Epoch 51/500\n"
     ]
    },
    {
     "data": {
      "application/vnd.jupyter.widget-view+json": {
       "model_id": "8b38dcc411c54d85bf0f05308d1c7a01",
       "version_major": 2,
       "version_minor": 0
      },
      "text/plain": [
       "0/44           ETA: ?s - "
      ]
     },
     "metadata": {},
     "output_type": "display_data"
    },
    {
     "name": "stdout",
     "output_type": "stream",
     "text": [
      "Epoch 52/500\n"
     ]
    },
    {
     "data": {
      "application/vnd.jupyter.widget-view+json": {
       "model_id": "89972d76c6ed47e98aa149c835e6a05f",
       "version_major": 2,
       "version_minor": 0
      },
      "text/plain": [
       "0/44           ETA: ?s - "
      ]
     },
     "metadata": {},
     "output_type": "display_data"
    },
    {
     "name": "stdout",
     "output_type": "stream",
     "text": [
      "Epoch 53/500\n"
     ]
    },
    {
     "data": {
      "application/vnd.jupyter.widget-view+json": {
       "model_id": "1fd6bcf5953e4a0d8b3b4f5ee83732d3",
       "version_major": 2,
       "version_minor": 0
      },
      "text/plain": [
       "0/44           ETA: ?s - "
      ]
     },
     "metadata": {},
     "output_type": "display_data"
    },
    {
     "name": "stdout",
     "output_type": "stream",
     "text": [
      "Epoch 54/500\n"
     ]
    },
    {
     "data": {
      "application/vnd.jupyter.widget-view+json": {
       "model_id": "e034b9da395d4b8784eb02a3f2e56f90",
       "version_major": 2,
       "version_minor": 0
      },
      "text/plain": [
       "0/44           ETA: ?s - "
      ]
     },
     "metadata": {},
     "output_type": "display_data"
    },
    {
     "name": "stdout",
     "output_type": "stream",
     "text": [
      "Epoch 55/500\n"
     ]
    },
    {
     "data": {
      "application/vnd.jupyter.widget-view+json": {
       "model_id": "bc5c766ab2714eb093682664c5587c9a",
       "version_major": 2,
       "version_minor": 0
      },
      "text/plain": [
       "0/44           ETA: ?s - "
      ]
     },
     "metadata": {},
     "output_type": "display_data"
    },
    {
     "name": "stdout",
     "output_type": "stream",
     "text": [
      "Epoch 56/500\n"
     ]
    },
    {
     "data": {
      "application/vnd.jupyter.widget-view+json": {
       "model_id": "ce49d715186d4dfe875d4d36b52a82d4",
       "version_major": 2,
       "version_minor": 0
      },
      "text/plain": [
       "0/44           ETA: ?s - "
      ]
     },
     "metadata": {},
     "output_type": "display_data"
    },
    {
     "name": "stdout",
     "output_type": "stream",
     "text": [
      "Epoch 57/500\n"
     ]
    },
    {
     "data": {
      "application/vnd.jupyter.widget-view+json": {
       "model_id": "161273457b4949af861c5eec2e005798",
       "version_major": 2,
       "version_minor": 0
      },
      "text/plain": [
       "0/44           ETA: ?s - "
      ]
     },
     "metadata": {},
     "output_type": "display_data"
    },
    {
     "name": "stdout",
     "output_type": "stream",
     "text": [
      "Epoch 58/500\n"
     ]
    },
    {
     "data": {
      "application/vnd.jupyter.widget-view+json": {
       "model_id": "95ddfd32e4044ce588c28cff2c4fb7a3",
       "version_major": 2,
       "version_minor": 0
      },
      "text/plain": [
       "0/44           ETA: ?s - "
      ]
     },
     "metadata": {},
     "output_type": "display_data"
    },
    {
     "name": "stdout",
     "output_type": "stream",
     "text": [
      "Epoch 59/500\n"
     ]
    },
    {
     "data": {
      "application/vnd.jupyter.widget-view+json": {
       "model_id": "d33a70bfbe554cabb670f067d8b398bc",
       "version_major": 2,
       "version_minor": 0
      },
      "text/plain": [
       "0/44           ETA: ?s - "
      ]
     },
     "metadata": {},
     "output_type": "display_data"
    },
    {
     "name": "stdout",
     "output_type": "stream",
     "text": [
      "Epoch 60/500\n"
     ]
    },
    {
     "data": {
      "application/vnd.jupyter.widget-view+json": {
       "model_id": "f81d9fbfb9974b769606810191e74bc1",
       "version_major": 2,
       "version_minor": 0
      },
      "text/plain": [
       "0/44           ETA: ?s - "
      ]
     },
     "metadata": {},
     "output_type": "display_data"
    },
    {
     "name": "stdout",
     "output_type": "stream",
     "text": [
      "Epoch 61/500\n"
     ]
    },
    {
     "data": {
      "application/vnd.jupyter.widget-view+json": {
       "model_id": "6a8d2a95c7ce4030a8ca590eddccd45f",
       "version_major": 2,
       "version_minor": 0
      },
      "text/plain": [
       "0/44           ETA: ?s - "
      ]
     },
     "metadata": {},
     "output_type": "display_data"
    },
    {
     "name": "stdout",
     "output_type": "stream",
     "text": [
      "Epoch 62/500\n"
     ]
    },
    {
     "data": {
      "application/vnd.jupyter.widget-view+json": {
       "model_id": "4b08629decbc481daa676ae14b860fb8",
       "version_major": 2,
       "version_minor": 0
      },
      "text/plain": [
       "0/44           ETA: ?s - "
      ]
     },
     "metadata": {},
     "output_type": "display_data"
    },
    {
     "name": "stdout",
     "output_type": "stream",
     "text": [
      "Epoch 63/500\n"
     ]
    },
    {
     "data": {
      "application/vnd.jupyter.widget-view+json": {
       "model_id": "28e95b820d9a498d95fcef430ffedf83",
       "version_major": 2,
       "version_minor": 0
      },
      "text/plain": [
       "0/44           ETA: ?s - "
      ]
     },
     "metadata": {},
     "output_type": "display_data"
    },
    {
     "name": "stdout",
     "output_type": "stream",
     "text": [
      "Epoch 64/500\n"
     ]
    },
    {
     "data": {
      "application/vnd.jupyter.widget-view+json": {
       "model_id": "c45adc8ea43341f9bf86dcc00f0e2825",
       "version_major": 2,
       "version_minor": 0
      },
      "text/plain": [
       "0/44           ETA: ?s - "
      ]
     },
     "metadata": {},
     "output_type": "display_data"
    },
    {
     "name": "stdout",
     "output_type": "stream",
     "text": [
      "Epoch 65/500\n"
     ]
    },
    {
     "data": {
      "application/vnd.jupyter.widget-view+json": {
       "model_id": "885a2d3e5c524a81a7b3c9bb284a77dd",
       "version_major": 2,
       "version_minor": 0
      },
      "text/plain": [
       "0/44           ETA: ?s - "
      ]
     },
     "metadata": {},
     "output_type": "display_data"
    },
    {
     "name": "stdout",
     "output_type": "stream",
     "text": [
      "Epoch 66/500\n"
     ]
    },
    {
     "data": {
      "application/vnd.jupyter.widget-view+json": {
       "model_id": "843d0678bf12418bac34ac3fafddf56d",
       "version_major": 2,
       "version_minor": 0
      },
      "text/plain": [
       "0/44           ETA: ?s - "
      ]
     },
     "metadata": {},
     "output_type": "display_data"
    },
    {
     "name": "stdout",
     "output_type": "stream",
     "text": [
      "Epoch 67/500\n"
     ]
    },
    {
     "data": {
      "application/vnd.jupyter.widget-view+json": {
       "model_id": "235e08e1da444b389e4c77fa55ce5ebf",
       "version_major": 2,
       "version_minor": 0
      },
      "text/plain": [
       "0/44           ETA: ?s - "
      ]
     },
     "metadata": {},
     "output_type": "display_data"
    },
    {
     "name": "stdout",
     "output_type": "stream",
     "text": [
      "Epoch 68/500\n"
     ]
    },
    {
     "data": {
      "application/vnd.jupyter.widget-view+json": {
       "model_id": "6513cf3c50d64f819a7ac38644520f74",
       "version_major": 2,
       "version_minor": 0
      },
      "text/plain": [
       "0/44           ETA: ?s - "
      ]
     },
     "metadata": {},
     "output_type": "display_data"
    },
    {
     "name": "stdout",
     "output_type": "stream",
     "text": [
      "Epoch 69/500\n"
     ]
    },
    {
     "data": {
      "application/vnd.jupyter.widget-view+json": {
       "model_id": "9dac95b207c9464fb67d212ebd0b29b9",
       "version_major": 2,
       "version_minor": 0
      },
      "text/plain": [
       "0/44           ETA: ?s - "
      ]
     },
     "metadata": {},
     "output_type": "display_data"
    },
    {
     "name": "stdout",
     "output_type": "stream",
     "text": [
      "Epoch 70/500\n"
     ]
    },
    {
     "data": {
      "application/vnd.jupyter.widget-view+json": {
       "model_id": "924c7f3101094385b0440026f84c0007",
       "version_major": 2,
       "version_minor": 0
      },
      "text/plain": [
       "0/44           ETA: ?s - "
      ]
     },
     "metadata": {},
     "output_type": "display_data"
    },
    {
     "name": "stdout",
     "output_type": "stream",
     "text": [
      "Epoch 71/500\n"
     ]
    },
    {
     "data": {
      "application/vnd.jupyter.widget-view+json": {
       "model_id": "2d6d3c458a10482099698c431fb89639",
       "version_major": 2,
       "version_minor": 0
      },
      "text/plain": [
       "0/44           ETA: ?s - "
      ]
     },
     "metadata": {},
     "output_type": "display_data"
    },
    {
     "name": "stdout",
     "output_type": "stream",
     "text": [
      "Epoch 72/500\n"
     ]
    },
    {
     "data": {
      "application/vnd.jupyter.widget-view+json": {
       "model_id": "f2f51c2633724d1b9918cc265545060a",
       "version_major": 2,
       "version_minor": 0
      },
      "text/plain": [
       "0/44           ETA: ?s - "
      ]
     },
     "metadata": {},
     "output_type": "display_data"
    },
    {
     "name": "stdout",
     "output_type": "stream",
     "text": [
      "Epoch 73/500\n"
     ]
    },
    {
     "data": {
      "application/vnd.jupyter.widget-view+json": {
       "model_id": "3b208c751f904a9e870612346108e176",
       "version_major": 2,
       "version_minor": 0
      },
      "text/plain": [
       "0/44           ETA: ?s - "
      ]
     },
     "metadata": {},
     "output_type": "display_data"
    },
    {
     "name": "stdout",
     "output_type": "stream",
     "text": [
      "Epoch 74/500\n"
     ]
    },
    {
     "data": {
      "application/vnd.jupyter.widget-view+json": {
       "model_id": "0619b9b4b1064702814c98456df2d9a0",
       "version_major": 2,
       "version_minor": 0
      },
      "text/plain": [
       "0/44           ETA: ?s - "
      ]
     },
     "metadata": {},
     "output_type": "display_data"
    },
    {
     "name": "stdout",
     "output_type": "stream",
     "text": [
      "Epoch 75/500\n"
     ]
    },
    {
     "data": {
      "application/vnd.jupyter.widget-view+json": {
       "model_id": "22bbd00367e845e0ac55653a5a3d656f",
       "version_major": 2,
       "version_minor": 0
      },
      "text/plain": [
       "0/44           ETA: ?s - "
      ]
     },
     "metadata": {},
     "output_type": "display_data"
    },
    {
     "name": "stdout",
     "output_type": "stream",
     "text": [
      "Epoch 76/500\n"
     ]
    },
    {
     "data": {
      "application/vnd.jupyter.widget-view+json": {
       "model_id": "66218d3fbb8e4adc9e318841e5ebb815",
       "version_major": 2,
       "version_minor": 0
      },
      "text/plain": [
       "0/44           ETA: ?s - "
      ]
     },
     "metadata": {},
     "output_type": "display_data"
    },
    {
     "name": "stdout",
     "output_type": "stream",
     "text": [
      "Epoch 77/500\n"
     ]
    },
    {
     "data": {
      "application/vnd.jupyter.widget-view+json": {
       "model_id": "0e810c4a92d7470b967ea62a5b71f45b",
       "version_major": 2,
       "version_minor": 0
      },
      "text/plain": [
       "0/44           ETA: ?s - "
      ]
     },
     "metadata": {},
     "output_type": "display_data"
    },
    {
     "name": "stdout",
     "output_type": "stream",
     "text": [
      "Epoch 78/500\n"
     ]
    },
    {
     "data": {
      "application/vnd.jupyter.widget-view+json": {
       "model_id": "70b6cfc5b74c41ed998c852696fc594e",
       "version_major": 2,
       "version_minor": 0
      },
      "text/plain": [
       "0/44           ETA: ?s - "
      ]
     },
     "metadata": {},
     "output_type": "display_data"
    },
    {
     "name": "stdout",
     "output_type": "stream",
     "text": [
      "Epoch 79/500\n"
     ]
    },
    {
     "data": {
      "application/vnd.jupyter.widget-view+json": {
       "model_id": "3381790529e44ff5882d8a8ba7989e04",
       "version_major": 2,
       "version_minor": 0
      },
      "text/plain": [
       "0/44           ETA: ?s - "
      ]
     },
     "metadata": {},
     "output_type": "display_data"
    },
    {
     "name": "stdout",
     "output_type": "stream",
     "text": [
      "Epoch 80/500\n"
     ]
    },
    {
     "data": {
      "application/vnd.jupyter.widget-view+json": {
       "model_id": "9d48299cd95643b9a398722dbf710355",
       "version_major": 2,
       "version_minor": 0
      },
      "text/plain": [
       "0/44           ETA: ?s - "
      ]
     },
     "metadata": {},
     "output_type": "display_data"
    },
    {
     "name": "stdout",
     "output_type": "stream",
     "text": [
      "Epoch 81/500\n"
     ]
    },
    {
     "data": {
      "application/vnd.jupyter.widget-view+json": {
       "model_id": "183634670eb54c6d962bce143d599ddc",
       "version_major": 2,
       "version_minor": 0
      },
      "text/plain": [
       "0/44           ETA: ?s - "
      ]
     },
     "metadata": {},
     "output_type": "display_data"
    },
    {
     "name": "stdout",
     "output_type": "stream",
     "text": [
      "Epoch 82/500\n"
     ]
    },
    {
     "data": {
      "application/vnd.jupyter.widget-view+json": {
       "model_id": "6e9d67721b7740bf98ef25bd5558b2e9",
       "version_major": 2,
       "version_minor": 0
      },
      "text/plain": [
       "0/44           ETA: ?s - "
      ]
     },
     "metadata": {},
     "output_type": "display_data"
    },
    {
     "name": "stdout",
     "output_type": "stream",
     "text": [
      "Epoch 83/500\n"
     ]
    },
    {
     "data": {
      "application/vnd.jupyter.widget-view+json": {
       "model_id": "bee950467c6041ef8ab8ffe15b1eb389",
       "version_major": 2,
       "version_minor": 0
      },
      "text/plain": [
       "0/44           ETA: ?s - "
      ]
     },
     "metadata": {},
     "output_type": "display_data"
    },
    {
     "name": "stdout",
     "output_type": "stream",
     "text": [
      "Epoch 84/500\n"
     ]
    },
    {
     "data": {
      "application/vnd.jupyter.widget-view+json": {
       "model_id": "b3c48a09a1bf4d60a147573d2a751be3",
       "version_major": 2,
       "version_minor": 0
      },
      "text/plain": [
       "0/44           ETA: ?s - "
      ]
     },
     "metadata": {},
     "output_type": "display_data"
    },
    {
     "name": "stdout",
     "output_type": "stream",
     "text": [
      "Epoch 85/500\n"
     ]
    },
    {
     "data": {
      "application/vnd.jupyter.widget-view+json": {
       "model_id": "e1095d9b978f4f018ea8ee9a11258eed",
       "version_major": 2,
       "version_minor": 0
      },
      "text/plain": [
       "0/44           ETA: ?s - "
      ]
     },
     "metadata": {},
     "output_type": "display_data"
    },
    {
     "name": "stdout",
     "output_type": "stream",
     "text": [
      "Epoch 86/500\n"
     ]
    },
    {
     "data": {
      "application/vnd.jupyter.widget-view+json": {
       "model_id": "b6f770ec09b14e2d823f079b5e7480e0",
       "version_major": 2,
       "version_minor": 0
      },
      "text/plain": [
       "0/44           ETA: ?s - "
      ]
     },
     "metadata": {},
     "output_type": "display_data"
    },
    {
     "name": "stdout",
     "output_type": "stream",
     "text": [
      "Epoch 87/500\n"
     ]
    },
    {
     "data": {
      "application/vnd.jupyter.widget-view+json": {
       "model_id": "cc64e945e58d4c588233078937b1d56c",
       "version_major": 2,
       "version_minor": 0
      },
      "text/plain": [
       "0/44           ETA: ?s - "
      ]
     },
     "metadata": {},
     "output_type": "display_data"
    },
    {
     "name": "stdout",
     "output_type": "stream",
     "text": [
      "Epoch 88/500\n"
     ]
    },
    {
     "data": {
      "application/vnd.jupyter.widget-view+json": {
       "model_id": "f9094d7ebb544686be6e3650ceaf031f",
       "version_major": 2,
       "version_minor": 0
      },
      "text/plain": [
       "0/44           ETA: ?s - "
      ]
     },
     "metadata": {},
     "output_type": "display_data"
    },
    {
     "name": "stdout",
     "output_type": "stream",
     "text": [
      "Epoch 89/500\n"
     ]
    },
    {
     "data": {
      "application/vnd.jupyter.widget-view+json": {
       "model_id": "44ea09b738084e4f91f056c9b0c9dfdb",
       "version_major": 2,
       "version_minor": 0
      },
      "text/plain": [
       "0/44           ETA: ?s - "
      ]
     },
     "metadata": {},
     "output_type": "display_data"
    },
    {
     "name": "stdout",
     "output_type": "stream",
     "text": [
      "Epoch 90/500\n"
     ]
    },
    {
     "data": {
      "application/vnd.jupyter.widget-view+json": {
       "model_id": "63fccd63a0d144f38b63d4a4531c01ee",
       "version_major": 2,
       "version_minor": 0
      },
      "text/plain": [
       "0/44           ETA: ?s - "
      ]
     },
     "metadata": {},
     "output_type": "display_data"
    },
    {
     "name": "stdout",
     "output_type": "stream",
     "text": [
      "Epoch 91/500\n"
     ]
    },
    {
     "data": {
      "application/vnd.jupyter.widget-view+json": {
       "model_id": "c9a98d8e5b984429bda2da72b71279f9",
       "version_major": 2,
       "version_minor": 0
      },
      "text/plain": [
       "0/44           ETA: ?s - "
      ]
     },
     "metadata": {},
     "output_type": "display_data"
    },
    {
     "name": "stdout",
     "output_type": "stream",
     "text": [
      "Epoch 92/500\n"
     ]
    },
    {
     "data": {
      "application/vnd.jupyter.widget-view+json": {
       "model_id": "78a53d43088241c7a2781d3fab5564a7",
       "version_major": 2,
       "version_minor": 0
      },
      "text/plain": [
       "0/44           ETA: ?s - "
      ]
     },
     "metadata": {},
     "output_type": "display_data"
    },
    {
     "name": "stdout",
     "output_type": "stream",
     "text": [
      "Epoch 93/500\n"
     ]
    },
    {
     "data": {
      "application/vnd.jupyter.widget-view+json": {
       "model_id": "ab86974f3d8e4e1e86115172e8b1047c",
       "version_major": 2,
       "version_minor": 0
      },
      "text/plain": [
       "0/44           ETA: ?s - "
      ]
     },
     "metadata": {},
     "output_type": "display_data"
    },
    {
     "name": "stdout",
     "output_type": "stream",
     "text": [
      "Epoch 94/500\n"
     ]
    },
    {
     "data": {
      "application/vnd.jupyter.widget-view+json": {
       "model_id": "56ed0ff1b935449ca189796dafe159ca",
       "version_major": 2,
       "version_minor": 0
      },
      "text/plain": [
       "0/44           ETA: ?s - "
      ]
     },
     "metadata": {},
     "output_type": "display_data"
    },
    {
     "name": "stdout",
     "output_type": "stream",
     "text": [
      "Epoch 95/500\n"
     ]
    },
    {
     "data": {
      "application/vnd.jupyter.widget-view+json": {
       "model_id": "9ccb7de5d2434e3db32734c819bfa3ba",
       "version_major": 2,
       "version_minor": 0
      },
      "text/plain": [
       "0/44           ETA: ?s - "
      ]
     },
     "metadata": {},
     "output_type": "display_data"
    },
    {
     "name": "stdout",
     "output_type": "stream",
     "text": [
      "Epoch 96/500\n"
     ]
    },
    {
     "data": {
      "application/vnd.jupyter.widget-view+json": {
       "model_id": "95dfad76d72c4857842d4b4cb8626921",
       "version_major": 2,
       "version_minor": 0
      },
      "text/plain": [
       "0/44           ETA: ?s - "
      ]
     },
     "metadata": {},
     "output_type": "display_data"
    },
    {
     "name": "stdout",
     "output_type": "stream",
     "text": [
      "Epoch 97/500\n"
     ]
    },
    {
     "data": {
      "application/vnd.jupyter.widget-view+json": {
       "model_id": "3580f457e6c748c4b8b5a670822e7197",
       "version_major": 2,
       "version_minor": 0
      },
      "text/plain": [
       "0/44           ETA: ?s - "
      ]
     },
     "metadata": {},
     "output_type": "display_data"
    },
    {
     "name": "stdout",
     "output_type": "stream",
     "text": [
      "Epoch 98/500\n"
     ]
    },
    {
     "data": {
      "application/vnd.jupyter.widget-view+json": {
       "model_id": "5bcf2858d1f04678a7e4c91ab06ea876",
       "version_major": 2,
       "version_minor": 0
      },
      "text/plain": [
       "0/44           ETA: ?s - "
      ]
     },
     "metadata": {},
     "output_type": "display_data"
    },
    {
     "name": "stdout",
     "output_type": "stream",
     "text": [
      "Epoch 99/500\n"
     ]
    },
    {
     "data": {
      "application/vnd.jupyter.widget-view+json": {
       "model_id": "1570d238c6414b28b1f67b5894fc5e0f",
       "version_major": 2,
       "version_minor": 0
      },
      "text/plain": [
       "0/44           ETA: ?s - "
      ]
     },
     "metadata": {},
     "output_type": "display_data"
    }
   ],
   "source": [
    "\n",
    "\n",
    "\n",
    "history = model.fit(train_dataset,\n",
    "                    epochs=500,\n",
    "                    verbose=0, # TQDMProgressBar logs out the info, so no need for the default logs\n",
    "                    validation_data=test_dataset,\n",
    "                    callbacks=[\n",
    "                        keras.callbacks.EarlyStopping(monitor='val_categorical_accuracy',patience=10, verbose=0),\n",
    "                        tfa.callbacks.TQDMProgressBar()\n",
    "                    ])"
   ]
  },
  {
   "cell_type": "code",
   "execution_count": 37,
   "id": "c0b0f2ba",
   "metadata": {},
   "outputs": [
    {
     "data": {
      "text/plain": [
       "<AxesSubplot:>"
      ]
     },
     "execution_count": 37,
     "metadata": {},
     "output_type": "execute_result"
    },
    {
     "data": {
      "image/png": "[encoded data removed]",
      "text/plain": [
       "<Figure size 432x288 with 1 Axes>"
      ]
     },
     "metadata": {},
     "output_type": "display_data"
    },
    {
     "data": {
      "image/png": "[encoded data removed]",
      "text/plain": [
       "<Figure size 432x288 with 1 Axes>"
      ]
     },
     "metadata": {},
     "output_type": "display_data"
    }
   ],
   "source": [
    "history_df = pd.DataFrame(history.history)\n",
    "history_df[['loss', 'val_loss']].plot()\n",
    "history_df[['categorical_accuracy', 'val_categorical_accuracy']].plot()"
   ]
  },
  {
   "cell_type": "code",
   "execution_count": 42,
   "id": "a4a5e73d",
   "metadata": {},
   "outputs": [
    {
     "name": "stdout",
     "output_type": "stream",
     "text": [
      "10/10 [==============================] - 3s 251ms/step\n",
      "Predictions:  [10  3 10 ... 12 10  4]\n"
     ]
    }
   ],
   "source": [
    "#print(\"True:\", test_dataset.labels)\n",
    "print(\"Predictions: \", model.predict(test_dataset).argmax(axis=1))"
   ]
  },
  {
   "cell_type": "code",
   "execution_count": 43,
   "id": "160a4bf0",
   "metadata": {},
   "outputs": [
    {
     "name": "stdout",
     "output_type": "stream",
     "text": [
      "10/10 [==============================] - 2s 249ms/step\n"
     ]
    }
   ],
   "source": [
    "y_pred = model.predict(test_dataset)"
   ]
  },
  {
   "cell_type": "code",
   "execution_count": 44,
   "id": "70fbc333",
   "metadata": {},
   "outputs": [
    {
     "data": {
      "text/plain": [
       "count    2560.000000\n",
       "mean        0.917969\n",
       "std         0.144897\n",
       "min         0.255859\n",
       "25%         0.906616\n",
       "50%         0.994629\n",
       "75%         1.000000\n",
       "max         1.000000\n",
       "dtype: float64"
      ]
     },
     "execution_count": 44,
     "metadata": {},
     "output_type": "execute_result"
    }
   ],
   "source": [
    "predicted_codes = y_pred.argmax(axis=1)\n",
    "confidence = pd.Series(y_pred.max(axis=1))\n",
    "confidence.describe()"
   ]
  },
  {
   "cell_type": "markdown",
   "id": "ebd3c61a",
   "metadata": {},
   "source": []
  },
  {
   "cell_type": "code",
   "execution_count": null,
   "id": "b1d6833b",
   "metadata": {},
   "outputs": [],
   "source": [
    "validation_df[\"predicted_class\"] = [code2class[c] for c in predicted_codes]\n",
    "validation_df[\"confidence\"] = confidence\n",
    "validation_df"
   ]
  },
  {
   "cell_type": "code",
   "execution_count": null,
   "id": "b3ef09d2",
   "metadata": {},
   "outputs": [],
   "source": [
    "validation_df.groupby(\"class\").confidence.median()"
   ]
  },
  {
   "cell_type": "code",
   "execution_count": null,
   "id": "9472e193",
   "metadata": {},
   "outputs": [],
   "source": [
    "validation_df.to_csv(\"validation_predictions.csv\", index=False)"
   ]
  },
  {
   "cell_type": "code",
   "execution_count": null,
   "id": "f3a61eb6",
   "metadata": {},
   "outputs": [],
   "source": [
    "print(classification_report(validation_df[\"class\"], validation_df[\"predicted_class\"]))\n",
    "labels = list(training.class_indices.keys())\n",
    "s = sns.heatmap(\n",
    "    confusion_matrix(validation_df[\"class\"], validation_df[\"predicted_class\"]),\n",
    "    annot=True,\n",
    "    cmap='Blues',\n",
    "    fmt=\"g\",\n",
    "    xticklabels=labels,\n",
    "    yticklabels=labels\n",
    ")\n",
    "s.set_xlabel('Predicted', fontsize=10)\n",
    "s.set_ylabel('True', fontsize=10)"
   ]
  },
  {
   "cell_type": "code",
   "execution_count": null,
   "id": "94744f4c",
   "metadata": {},
   "outputs": [],
   "source": [
    "model.save(f\"models/dense_{len(code2class)}_class.h5\")"
   ]
  },
  {
   "cell_type": "code",
   "execution_count": null,
   "id": "869f6c37",
   "metadata": {},
   "outputs": [],
   "source": [
    "# Make some predictions on unlabelled data\n",
    "folders = os.listdir(\"EmbryoLabeling/Labelers/One\")\n",
    "folders = [f for f in folders if re.match(r\"M\\d\", f)]\n",
    "files = []\n",
    "for folder in folders:\n",
    "    files_in_folder = pd.DataFrame(glob(f\"EmbryoLabeling/Labelers/One/{folder}/**/*.jpg\", recursive=True), columns=[\"filename\"])\n",
    "    files_in_folder[\"class\"] = \"unknown\"\n",
    "    files.append(files_in_folder)\n",
    "test_df = pd.concat(files)\n",
    "test_df"
   ]
  },
  {
   "cell_type": "code",
   "execution_count": null,
   "id": "7cddad68",
   "metadata": {},
   "outputs": [],
   "source": [
    "class TQDMPredictCallback(keras.callbacks.Callback):\n",
    "    def __init__(self, custom_tqdm_instance=None, tqdm_cls=tqdm, **tqdm_params):\n",
    "        super().__init__()\n",
    "        self.tqdm_cls = tqdm_cls\n",
    "        self.tqdm_progress = None\n",
    "        self.prev_predict_batch = None\n",
    "        self.custom_tqdm_instance = custom_tqdm_instance\n",
    "        self.tqdm_params = tqdm_params\n",
    "\n",
    "    def on_predict_batch_begin(self, batch, logs=None):\n",
    "        pass\n",
    "\n",
    "    def on_predict_batch_end(self, batch, logs=None):\n",
    "        self.tqdm_progress.update(batch - self.prev_predict_batch)\n",
    "        self.prev_predict_batch = batch\n",
    "\n",
    "    def on_predict_begin(self, logs=None):\n",
    "        self.prev_predict_batch = 0\n",
    "        if self.custom_tqdm_instance:\n",
    "            self.tqdm_progress = self.custom_tqdm_instance\n",
    "            return\n",
    "\n",
    "        total = self.params.get('steps')\n",
    "        if total:\n",
    "            total -= 1\n",
    "\n",
    "        self.tqdm_progress = self.tqdm_cls(total=total, **self.tqdm_params)\n",
    "\n",
    "    def on_predict_end(self, logs=None):\n",
    "        if self.tqdm_progress and not self.custom_tqdm_instance:\n",
    "            self.tqdm_progress.close()\n",
    "\n",
    "test = datagen.flow_from_dataframe(test_df, target_size=(299, 299), batch_size=BATCH_SIZE, shuffle=False)\n",
    "results = model.predict(test, callbacks=[TQDMPredictCallback()])"
   ]
  },
  {
   "cell_type": "code",
   "execution_count": null,
   "id": "86513e6e",
   "metadata": {},
   "outputs": [],
   "source": [
    "predicted_codes = results.argmax(axis=1)\n",
    "confidence = pd.Series(results.max(axis=1))\n",
    "confidence.describe()"
   ]
  },
  {
   "cell_type": "code",
   "execution_count": null,
   "id": "e85ef569",
   "metadata": {},
   "outputs": [],
   "source": [
    "test_df[\"class\"] = [code2class[c] for c in predicted_codes]\n",
    "test_df[\"confidence\"] = confidence"
   ]
  },
  {
   "cell_type": "code",
   "execution_count": null,
   "id": "db63f875",
   "metadata": {},
   "outputs": [],
   "source": [
    "test_df[\"class\"].value_counts()"
   ]
  },
  {
   "cell_type": "code",
   "execution_count": null,
   "id": "1f5bc5c2",
   "metadata": {},
   "outputs": [],
   "source": [
    "test_df"
   ]
  },
  {
   "cell_type": "code",
   "execution_count": null,
   "id": "bd732527",
   "metadata": {},
   "outputs": [],
   "source": [
    "test_df.to_csv(\"predictions.csv\", index=False)"
   ]
  },
  {
   "cell_type": "code",
   "execution_count": null,
   "id": "a82efc8c",
   "metadata": {},
   "outputs": [],
   "source": [
    "pwd()"
   ]
  },
  {
   "cell_type": "code",
   "execution_count": null,
   "id": "d5a48ed5",
   "metadata": {},
   "outputs": [],
   "source": []
  },
  {
   "cell_type": "code",
   "execution_count": null,
   "id": "fa99701d",
   "metadata": {},
   "outputs": [],
   "source": []
  }
 ],
 "metadata": {
  "interpreter": {
   "hash": "916dbcbb3f70747c44a77c7bcd40155683ae19c65e1c03b4aa3499c5328201f1"
  },
  "kernelspec": {
   "display_name": "Python 3.10.4 64-bit",
   "language": "python",
   "name": "python3"
  },
  "language_info": {
   "codemirror_mode": {
    "name": "ipython",
    "version": 3
   },
   "file_extension": ".py",
   "mimetype": "text/x-python",
   "name": "python",
   "nbconvert_exporter": "python",
   "pygments_lexer": "ipython3",
   "version": "3.8.10"
  }
 },
 "nbformat": 4,
 "nbformat_minor": 5
}
